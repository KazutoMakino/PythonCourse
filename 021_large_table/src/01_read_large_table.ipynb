{
  "cells": [
    {
      "cell_type": "code",
      "execution_count": 1,
      "metadata": {},
      "outputs": [],
      "source": [
        "import gc\n",
        "import math\n",
        "import resource\n",
        "import sqlite3\n",
        "from pathlib import Path\n",
        "\n",
        "import numpy as np\n",
        "import pandas as pd\n",
        "import pyarrow as pa\n",
        "from pyarrow.parquet import ParquetFile\n",
        "from tqdm import tqdm"
      ]
    },
    {
      "cell_type": "code",
      "execution_count": 2,
      "metadata": {},
      "outputs": [
        {
          "data": {
            "text/plain": [
              "(6442450944, -1)"
            ]
          },
          "execution_count": 2,
          "metadata": {},
          "output_type": "execute_result"
        }
      ],
      "source": [
        "# \u30e1\u30e2\u30ea\u4e0a\u9650\u3092 6 GB \u306b\u8a2d\u5b9a\n",
        "resource.setrlimit(resource.RLIMIT_DATA, (6 * 2**30, -1))\n",
        "resource.getrlimit(resource.RLIMIT_DATA)"
      ]
    },
    {
      "cell_type": "code",
      "execution_count": 3,
      "metadata": {},
      "outputs": [],
      "source": [
        "# df = pd.read_csv(\"../data/large_table.csv\")\n",
        "# \u2193\u305d\u306e\u307e\u307e\u5b9f\u884c\u3057\u305f\u7d50\u679c\n",
        "# \u73fe\u5728\u306e\u30bb\u30eb\u307e\u305f\u306f\u524d\u306e\u30bb\u30eb\u3067\u30b3\u30fc\u30c9\u3092\u5b9f\u884c\u4e2d\u306b\u3001\u30ab\u30fc\u30cd\u30eb\u304c\u30af\u30e9\u30c3\u30b7\u30e5\u3057\u307e\u3057\u305f\u3002\n"
      ]
    },
    {
      "cell_type": "code",
      "execution_count": 4,
      "metadata": {},
      "outputs": [
        {
          "name": "stdout",
          "output_type": "stream",
          "text": [
            "99999\n",
            "199999\n",
            "299999\n"
          ]
        }
      ],
      "source": [
        "for i, df_i in enumerate(pd.read_csv(\"../data/large_table.csv\", chunksize=100_000)):\n",
        "    print(df_i.index[-1])\n",
        "    if i >= 2:\n",
        "        break\n"
      ]
    },
    {
      "cell_type": "code",
      "execution_count": 5,
      "metadata": {},
      "outputs": [
        {
          "name": "stdout",
          "output_type": "stream",
          "text": [
            "<class 'pandas.core.frame.DataFrame'>\n",
            "RangeIndex: 100000 entries, 200000 to 299999\n",
            "Data columns (total 10 columns):\n",
            " #   Column       Non-Null Count   Dtype  \n",
            "---  ------       --------------   -----  \n",
            " 0   id           100000 non-null  int64  \n",
            " 1   status       74950 non-null   object \n",
            " 2   temperature  100000 non-null  float64\n",
            " 3   humidity     100000 non-null  float64\n",
            " 4   ax           100000 non-null  float64\n",
            " 5   ay           100000 non-null  float64\n",
            " 6   az           100000 non-null  float64\n",
            " 7   gx           100000 non-null  float64\n",
            " 8   gy           100000 non-null  float64\n",
            " 9   gz           100000 non-null  float64\n",
            "dtypes: float64(8), int64(1), object(1)\n",
            "memory usage: 7.6+ MB\n"
          ]
        }
      ],
      "source": [
        "df_i.info()\n",
        "# <class 'pandas.core.frame.DataFrame'>\n",
        "# RangeIndex: 100000 entries, 200000 to 299999\n",
        "# Data columns (total 10 columns):\n",
        "#  #   Column       Non-Null Count   Dtype\n",
        "# ---  ------       --------------   -----\n",
        "#  0   id           100000 non-null  int64\n",
        "#  1   status       74950 non-null   object\n",
        "#  2   temperature  100000 non-null  float64\n",
        "#  3   humidity     100000 non-null  float64\n",
        "#  4   ax           100000 non-null  float64\n",
        "#  5   ay           100000 non-null  float64\n",
        "#  6   az           100000 non-null  float64\n",
        "#  7   gx           100000 non-null  float64\n",
        "#  8   gy           100000 non-null  float64\n",
        "#  9   gz           100000 non-null  float64\n",
        "# dtypes: float64(8), int64(1), object(1)\n",
        "# memory usage: 7.6+ MB"
      ]
    },
    {
      "cell_type": "markdown",
      "metadata": {},
      "source": [
        "---\n"
      ]
    },
    {
      "cell_type": "code",
      "execution_count": 9,
      "metadata": {},
      "outputs": [
        {
          "name": "stdout",
          "output_type": "stream",
          "text": [
            "(100000, 10)\n",
            "(100000, 10)\n",
            "(100000, 10)\n"
          ]
        }
      ],
      "source": [
        "parquet_file = ParquetFile(source=\"../data/large_table.parquet\")\n",
        "batches = parquet_file.iter_batches(batch_size=100_000)\n",
        "for i in range(3):\n",
        "    rows = next(batches, None)\n",
        "    df_i: pd.DataFrame = pa.Table.from_batches([rows]).to_pandas()\n",
        "    print(df_i.shape)\n",
        "    if i >= 2:\n",
        "        break\n"
      ]
    },
    {
      "cell_type": "code",
      "execution_count": 10,
      "metadata": {},
      "outputs": [
        {
          "data": {
            "text/html": [
              "<div>\n",
              "<style scoped>\n",
              "    .dataframe tbody tr th:only-of-type {\n",
              "        vertical-align: middle;\n",
              "    }\n",
              "\n",
              "    .dataframe tbody tr th {\n",
              "        vertical-align: top;\n",
              "    }\n",
              "\n",
              "    .dataframe thead th {\n",
              "        text-align: right;\n",
              "    }\n",
              "</style>\n",
              "<table border=\"1\" class=\"dataframe\">\n",
              "  <thead>\n",
              "    <tr style=\"text-align: right;\">\n",
              "      <th></th>\n",
              "      <th>id</th>\n",
              "      <th>status</th>\n",
              "      <th>temperature</th>\n",
              "      <th>humidity</th>\n",
              "      <th>ax</th>\n",
              "      <th>ay</th>\n",
              "      <th>az</th>\n",
              "      <th>gx</th>\n",
              "      <th>gy</th>\n",
              "      <th>gz</th>\n",
              "    </tr>\n",
              "    <tr>\n",
              "      <th>time_stamp</th>\n",
              "      <th></th>\n",
              "      <th></th>\n",
              "      <th></th>\n",
              "      <th></th>\n",
              "      <th></th>\n",
              "      <th></th>\n",
              "      <th></th>\n",
              "      <th></th>\n",
              "      <th></th>\n",
              "      <th></th>\n",
              "    </tr>\n",
              "  </thead>\n",
              "  <tbody>\n",
              "    <tr>\n",
              "      <th>2022-01-03 07:33:20</th>\n",
              "      <td>200000</td>\n",
              "      <td>c</td>\n",
              "      <td>20.185232</td>\n",
              "      <td>51.802753</td>\n",
              "      <td>-1.138367e-13</td>\n",
              "      <td>4.466522e-01</td>\n",
              "      <td>7.495994e-01</td>\n",
              "      <td>-3.778582e-14</td>\n",
              "      <td>0.088047</td>\n",
              "      <td>0.082253</td>\n",
              "    </tr>\n",
              "    <tr>\n",
              "      <th>2022-01-03 07:33:21</th>\n",
              "      <td>200001</td>\n",
              "      <td>b</td>\n",
              "      <td>20.222187</td>\n",
              "      <td>50.321580</td>\n",
              "      <td>3.151052e-02</td>\n",
              "      <td>1.800760e+00</td>\n",
              "      <td>1.689817e+00</td>\n",
              "      <td>8.096675e-03</td>\n",
              "      <td>0.086312</td>\n",
              "      <td>0.083666</td>\n",
              "    </tr>\n",
              "    <tr>\n",
              "      <th>2022-01-03 07:33:22</th>\n",
              "      <td>200002</td>\n",
              "      <td>c</td>\n",
              "      <td>20.736086</td>\n",
              "      <td>50.019283</td>\n",
              "      <td>3.026316e-01</td>\n",
              "      <td>1.532837e+00</td>\n",
              "      <td>5.000509e-01</td>\n",
              "      <td>1.239800e-02</td>\n",
              "      <td>0.160697</td>\n",
              "      <td>0.021002</td>\n",
              "    </tr>\n",
              "    <tr>\n",
              "      <th>2022-01-03 07:33:23</th>\n",
              "      <td>200003</td>\n",
              "      <td>c</td>\n",
              "      <td>20.858980</td>\n",
              "      <td>49.884981</td>\n",
              "      <td>2.905752e-01</td>\n",
              "      <td>1.126353e+00</td>\n",
              "      <td>5.320807e-01</td>\n",
              "      <td>1.705069e-02</td>\n",
              "      <td>0.123702</td>\n",
              "      <td>0.048585</td>\n",
              "    </tr>\n",
              "    <tr>\n",
              "      <th>2022-01-03 07:33:24</th>\n",
              "      <td>200004</td>\n",
              "      <td>c</td>\n",
              "      <td>20.695456</td>\n",
              "      <td>49.421330</td>\n",
              "      <td>2.220936e-01</td>\n",
              "      <td>2.417131e-02</td>\n",
              "      <td>4.005936e-01</td>\n",
              "      <td>9.960867e-04</td>\n",
              "      <td>0.098473</td>\n",
              "      <td>0.096380</td>\n",
              "    </tr>\n",
              "    <tr>\n",
              "      <th>...</th>\n",
              "      <td>...</td>\n",
              "      <td>...</td>\n",
              "      <td>...</td>\n",
              "      <td>...</td>\n",
              "      <td>...</td>\n",
              "      <td>...</td>\n",
              "      <td>...</td>\n",
              "      <td>...</td>\n",
              "      <td>...</td>\n",
              "      <td>...</td>\n",
              "    </tr>\n",
              "    <tr>\n",
              "      <th>2022-01-04 11:19:55</th>\n",
              "      <td>299995</td>\n",
              "      <td>a</td>\n",
              "      <td>19.988842</td>\n",
              "      <td>50.983008</td>\n",
              "      <td>-3.677839e-01</td>\n",
              "      <td>8.395948e-13</td>\n",
              "      <td>9.369552e-13</td>\n",
              "      <td>-2.245331e-02</td>\n",
              "      <td>0.158117</td>\n",
              "      <td>0.003337</td>\n",
              "    </tr>\n",
              "    <tr>\n",
              "      <th>2022-01-04 11:19:56</th>\n",
              "      <td>299996</td>\n",
              "      <td>b</td>\n",
              "      <td>19.987926</td>\n",
              "      <td>51.758059</td>\n",
              "      <td>-4.615545e-01</td>\n",
              "      <td>2.457543e-01</td>\n",
              "      <td>7.202788e-01</td>\n",
              "      <td>-2.131632e-02</td>\n",
              "      <td>0.107261</td>\n",
              "      <td>0.038821</td>\n",
              "    </tr>\n",
              "    <tr>\n",
              "      <th>2022-01-04 11:19:57</th>\n",
              "      <td>299997</td>\n",
              "      <td>c</td>\n",
              "      <td>20.017151</td>\n",
              "      <td>51.064296</td>\n",
              "      <td>-7.819776e-01</td>\n",
              "      <td>1.371421e-01</td>\n",
              "      <td>1.592785e+00</td>\n",
              "      <td>-2.020288e-02</td>\n",
              "      <td>0.102799</td>\n",
              "      <td>0.035106</td>\n",
              "    </tr>\n",
              "    <tr>\n",
              "      <th>2022-01-04 11:19:58</th>\n",
              "      <td>299998</td>\n",
              "      <td>c</td>\n",
              "      <td>20.116593</td>\n",
              "      <td>52.159698</td>\n",
              "      <td>-5.073383e-01</td>\n",
              "      <td>9.011696e-01</td>\n",
              "      <td>5.547703e-01</td>\n",
              "      <td>-1.506816e-02</td>\n",
              "      <td>0.160280</td>\n",
              "      <td>0.027528</td>\n",
              "    </tr>\n",
              "    <tr>\n",
              "      <th>2022-01-04 11:19:59</th>\n",
              "      <td>299999</td>\n",
              "      <td>None</td>\n",
              "      <td>20.301165</td>\n",
              "      <td>51.017153</td>\n",
              "      <td>-9.863442e-02</td>\n",
              "      <td>1.329101e+00</td>\n",
              "      <td>2.244713e+00</td>\n",
              "      <td>-1.643911e-03</td>\n",
              "      <td>0.068312</td>\n",
              "      <td>0.036504</td>\n",
              "    </tr>\n",
              "  </tbody>\n",
              "</table>\n",
              "<p>100000 rows \u00d7 10 columns</p>\n",
              "</div>"
            ],
            "text/plain": [
              "                         id status  temperature   humidity            ax  \\\n",
              "time_stamp                                                                 \n",
              "2022-01-03 07:33:20  200000      c    20.185232  51.802753 -1.138367e-13   \n",
              "2022-01-03 07:33:21  200001      b    20.222187  50.321580  3.151052e-02   \n",
              "2022-01-03 07:33:22  200002      c    20.736086  50.019283  3.026316e-01   \n",
              "2022-01-03 07:33:23  200003      c    20.858980  49.884981  2.905752e-01   \n",
              "2022-01-03 07:33:24  200004      c    20.695456  49.421330  2.220936e-01   \n",
              "...                     ...    ...          ...        ...           ...   \n",
              "2022-01-04 11:19:55  299995      a    19.988842  50.983008 -3.677839e-01   \n",
              "2022-01-04 11:19:56  299996      b    19.987926  51.758059 -4.615545e-01   \n",
              "2022-01-04 11:19:57  299997      c    20.017151  51.064296 -7.819776e-01   \n",
              "2022-01-04 11:19:58  299998      c    20.116593  52.159698 -5.073383e-01   \n",
              "2022-01-04 11:19:59  299999   None    20.301165  51.017153 -9.863442e-02   \n",
              "\n",
              "                               ay            az            gx        gy  \\\n",
              "time_stamp                                                                \n",
              "2022-01-03 07:33:20  4.466522e-01  7.495994e-01 -3.778582e-14  0.088047   \n",
              "2022-01-03 07:33:21  1.800760e+00  1.689817e+00  8.096675e-03  0.086312   \n",
              "2022-01-03 07:33:22  1.532837e+00  5.000509e-01  1.239800e-02  0.160697   \n",
              "2022-01-03 07:33:23  1.126353e+00  5.320807e-01  1.705069e-02  0.123702   \n",
              "2022-01-03 07:33:24  2.417131e-02  4.005936e-01  9.960867e-04  0.098473   \n",
              "...                           ...           ...           ...       ...   \n",
              "2022-01-04 11:19:55  8.395948e-13  9.369552e-13 -2.245331e-02  0.158117   \n",
              "2022-01-04 11:19:56  2.457543e-01  7.202788e-01 -2.131632e-02  0.107261   \n",
              "2022-01-04 11:19:57  1.371421e-01  1.592785e+00 -2.020288e-02  0.102799   \n",
              "2022-01-04 11:19:58  9.011696e-01  5.547703e-01 -1.506816e-02  0.160280   \n",
              "2022-01-04 11:19:59  1.329101e+00  2.244713e+00 -1.643911e-03  0.068312   \n",
              "\n",
              "                           gz  \n",
              "time_stamp                     \n",
              "2022-01-03 07:33:20  0.082253  \n",
              "2022-01-03 07:33:21  0.083666  \n",
              "2022-01-03 07:33:22  0.021002  \n",
              "2022-01-03 07:33:23  0.048585  \n",
              "2022-01-03 07:33:24  0.096380  \n",
              "...                       ...  \n",
              "2022-01-04 11:19:55  0.003337  \n",
              "2022-01-04 11:19:56  0.038821  \n",
              "2022-01-04 11:19:57  0.035106  \n",
              "2022-01-04 11:19:58  0.027528  \n",
              "2022-01-04 11:19:59  0.036504  \n",
              "\n",
              "[100000 rows x 10 columns]"
            ]
          },
          "execution_count": 10,
          "metadata": {},
          "output_type": "execute_result"
        }
      ],
      "source": [
        "df_i\n"
      ]
    },
    {
      "cell_type": "code",
      "execution_count": 11,
      "metadata": {},
      "outputs": [
        {
          "name": "stdout",
          "output_type": "stream",
          "text": [
            "<class 'pandas.core.frame.DataFrame'>\n",
            "DatetimeIndex: 100000 entries, 2022-01-03 07:33:20 to 2022-01-04 11:19:59\n",
            "Data columns (total 10 columns):\n",
            " #   Column       Non-Null Count   Dtype  \n",
            "---  ------       --------------   -----  \n",
            " 0   id           100000 non-null  int64  \n",
            " 1   status       74950 non-null   object \n",
            " 2   temperature  100000 non-null  float64\n",
            " 3   humidity     100000 non-null  float64\n",
            " 4   ax           100000 non-null  float64\n",
            " 5   ay           100000 non-null  float64\n",
            " 6   az           100000 non-null  float64\n",
            " 7   gx           100000 non-null  float64\n",
            " 8   gy           100000 non-null  float64\n",
            " 9   gz           100000 non-null  float64\n",
            "dtypes: float64(8), int64(1), object(1)\n",
            "memory usage: 8.4+ MB\n"
          ]
        }
      ],
      "source": [
        "df_i.info()\n",
        "# <class 'pandas.core.frame.DataFrame'>\n",
        "# DatetimeIndex: 100000 entries, 2022-01-03 07:33:20 to 2022-01-04 11:19:59\n",
        "# Data columns (total 10 columns):\n",
        "#  #   Column       Non-Null Count   Dtype\n",
        "# ---  ------       --------------   -----\n",
        "#  0   id           100000 non-null  int64\n",
        "#  1   status       74950 non-null   object\n",
        "#  2   temperature  100000 non-null  float64\n",
        "#  3   humidity     100000 non-null  float64\n",
        "#  4   ax           100000 non-null  float64\n",
        "#  5   ay           100000 non-null  float64\n",
        "#  6   az           100000 non-null  float64\n",
        "#  7   gx           100000 non-null  float64\n",
        "#  8   gy           100000 non-null  float64\n",
        "#  9   gz           100000 non-null  float64\n",
        "# dtypes: float64(8), int64(1), object(1)\n",
        "# memory usage: 8.4+ MB"
      ]
    },
    {
      "cell_type": "markdown",
      "metadata": {},
      "source": [
        "---\n"
      ]
    },
    {
      "cell_type": "code",
      "execution_count": 13,
      "metadata": {},
      "outputs": [],
      "source": [
        "chunksize = 1_000_000\n",
        "df_iter = pd.read_csv(\"../data/large_table.csv\", chunksize=chunksize)\n",
        "num_records = 0\n",
        "\n",
        "while True:\n",
        "    df_i = next(df_iter, None)\n",
        "    if df_i is None:\n",
        "        break\n",
        "    num_records += df_i.__len__()\n",
        "    del df_i\n",
        "    gc.collect()"
      ]
    },
    {
      "cell_type": "code",
      "execution_count": 14,
      "metadata": {},
      "outputs": [
        {
          "data": {
            "text/plain": [
              "62985601"
            ]
          },
          "execution_count": 14,
          "metadata": {},
          "output_type": "execute_result"
        }
      ],
      "source": [
        "num_records\n",
        "# 62985601"
      ]
    },
    {
      "cell_type": "code",
      "execution_count": 15,
      "metadata": {},
      "outputs": [
        {
          "data": {
            "text/plain": [
              "63"
            ]
          },
          "execution_count": 15,
          "metadata": {},
          "output_type": "execute_result"
        }
      ],
      "source": [
        "num_iter = math.ceil(num_records / chunksize)\n",
        "num_iter\n",
        "# 63"
      ]
    },
    {
      "cell_type": "code",
      "execution_count": 16,
      "metadata": {},
      "outputs": [
        {
          "name": "stderr",
          "output_type": "stream",
          "text": [
            "100%|\u2588\u2588\u2588\u2588\u2588\u2588\u2588\u2588\u2588\u2588| 63/63 [08:41<00:00,  8.27s/it]\n"
          ]
        }
      ],
      "source": [
        "database_path = Path(\"../data/large_table.sqlite3\")\n",
        "database_path.unlink(missing_ok=True)\n",
        "\n",
        "con = sqlite3.connect(database=database_path)\n",
        "table_name = \"test\"\n",
        "# tmp.to_sql(name=table_name, con=con, if_exists=\"append\")\n",
        "\n",
        "df_iter = pd.read_csv(\"../data/large_table.csv\", chunksize=chunksize)\n",
        "\n",
        "for _ in tqdm(range(num_iter)):\n",
        "    df_i = next(df_iter, None)\n",
        "    if df_i is None:\n",
        "        break\n",
        "    df_i.to_sql(name=table_name, con=con, if_exists=\"append\")\n",
        "    del df_i\n",
        "    gc.collect()\n",
        "\n",
        "con.close()\n",
        "# 100%|\u2588\u2588\u2588\u2588\u2588\u2588\u2588\u2588\u2588\u2588| 63/63 [08:41<00:00,  8.27s/it]"
      ]
    },
    {
      "cell_type": "code",
      "execution_count": 17,
      "metadata": {},
      "outputs": [
        {
          "data": {
            "text/plain": [
              "0"
            ]
          },
          "execution_count": 17,
          "metadata": {},
          "output_type": "execute_result"
        }
      ],
      "source": [
        "try:\n",
        "    del df_i, df_iter\n",
        "except Exception:\n",
        "    pass\n",
        "gc.collect()"
      ]
    },
    {
      "cell_type": "code",
      "execution_count": 18,
      "metadata": {},
      "outputs": [
        {
          "data": {
            "text/plain": [
              "62985601"
            ]
          },
          "execution_count": 18,
          "metadata": {},
          "output_type": "execute_result"
        }
      ],
      "source": [
        "con = sqlite3.connect(database=database_path)\n",
        "df_iter = pd.read_sql(sql=\"SELECT * FROM test;\", con=con, chunksize=chunksize)\n",
        "num_records_2 = 0\n",
        "while True:\n",
        "    df_i = next(df_iter, None)\n",
        "    if df_i is None:\n",
        "        break\n",
        "    num_records_2 += df_i.__len__()\n",
        "    del df_i\n",
        "    gc.collect()\n",
        "num_records_2\n",
        "# 62985601"
      ]
    },
    {
      "cell_type": "code",
      "execution_count": 19,
      "metadata": {},
      "outputs": [
        {
          "data": {
            "text/plain": [
              "True"
            ]
          },
          "execution_count": 19,
          "metadata": {},
          "output_type": "execute_result"
        }
      ],
      "source": [
        "num_records == num_records_2\n",
        "# True"
      ]
    },
    {
      "cell_type": "code",
      "execution_count": null,
      "metadata": {},
      "outputs": [],
      "source": []
    }
  ],
  "metadata": {
    "kernelspec": {
      "display_name": ".venv",
      "language": "python",
      "name": "python3"
    },
    "language_info": {
      "codemirror_mode": {
        "name": "ipython",
        "version": 3
      },
      "file_extension": ".py",
      "mimetype": "text/x-python",
      "name": "python",
      "nbconvert_exporter": "python",
      "pygments_lexer": "ipython3",
      "version": "3.11.4"
    },
    "orig_nbformat": 4
  },
  "nbformat": 4,
  "nbformat_minor": 2
}
