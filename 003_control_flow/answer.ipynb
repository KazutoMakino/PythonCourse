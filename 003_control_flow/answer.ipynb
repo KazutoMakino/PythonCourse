{
  "cells": [
    {
      "cell_type": "markdown",
      "metadata": {},
      "source": [
        "### \u3010\u81ea\u524dpython\u8b1b\u5ea7-003\u3011\u6761\u4ef6\u5206\u5c90\uff0f\u7e70\u308a\u8fd4\u3057\u51e6\u7406\uff0f\u4f8b\u5916\u51e6\u7406\u306e\u6f14\u7fd2\u306e\u89e3\u7b54\n",
        "\n",
        "---"
      ]
    },
    {
      "cell_type": "markdown",
      "metadata": {},
      "source": [
        "- Q.1: 1 \u304b\u3089 1000 \u307e\u3067\u306e 5 \u306e\u500d\u6570\u306e\u7dcf\u548c\u3092\u6c42\u3081\u3066\u304f\u3060\u3055\u3044\uff0e\u3067\u304d\u308b\u4eba\u306f for \u3092\u4f7f\u308f\u305a 1 \u884c\u3067\u6311\u6226\u3057\u3066\u307f\u3066\u304f\u3060\u3055\u3044\uff0e"
      ]
    },
    {
      "cell_type": "code",
      "execution_count": 1,
      "metadata": {},
      "outputs": [
        {
          "data": {
            "text/plain": [
              "100500"
            ]
          },
          "execution_count": 1,
          "metadata": {},
          "output_type": "execute_result"
        }
      ],
      "source": [
        "val = 0\n",
        "for i in range(5,1001,5):\n",
        "    val += i\n",
        "val"
      ]
    },
    {
      "cell_type": "markdown",
      "metadata": {},
      "source": [
        "1 \u884c\u3067\u66f8\u304f\u305f\u3081\u306b\u306f\uff0c\u7d44\u307f\u8fbc\u307f\u95a2\u6570\u306e sum, list, range \u3092\u7528\u3044\u307e\u3059\uff0e"
      ]
    },
    {
      "cell_type": "code",
      "execution_count": 2,
      "metadata": {},
      "outputs": [
        {
          "data": {
            "text/plain": [
              "100500"
            ]
          },
          "execution_count": 2,
          "metadata": {},
          "output_type": "execute_result"
        }
      ],
      "source": [
        "sum(list(range(5,1001,5)))"
      ]
    },
    {
      "cell_type": "markdown",
      "metadata": {},
      "source": [
        "- Q.2: 1 \u304b\u3089 1000 \u307e\u3067\u9023\u7d9a\u3057\u305f\u6574\u6570\u306e\u5185\uff0c7 \u3068 13 \u306e\u500d\u6570\u306b 1 \u8db3\u3057\u305f\u5024\u306e\u307f\u3092\u52a0\u7b97\u3057\u3066\u304f\u3060\u3055\u3044\uff08% \u3092\u7528\u3044\u307e\u3059\uff09\uff0e"
      ]
    },
    {
      "cell_type": "code",
      "execution_count": 3,
      "metadata": {},
      "outputs": [
        {
          "data": {
            "text/plain": [
              "104313"
            ]
          },
          "execution_count": 3,
          "metadata": {},
          "output_type": "execute_result"
        }
      ],
      "source": [
        "ret = 0\n",
        "for i in range(1, 1001, 1):\n",
        "    if (i % 7 == 1) or (i % 13 == 1):\n",
        "        ret += i\n",
        "ret"
      ]
    },
    {
      "cell_type": "markdown",
      "metadata": {},
      "source": [
        "- Q.3: 0 \u304b\u3089 100 \u307e\u3067\u9023\u7d9a\u3057\u305f\u6574\u6570\u306e2\u4e57\u6839\u3092\u8981\u7d20\u3068\u3059\u308b\uff0c\u8981\u7d20\u6570 101 \u306e\u6b21\u306e\u30ea\u30b9\u30c8 $[\\sqrt{0}, \\sqrt{1}, \\sqrt{2}, \\cdots , \\sqrt{100}]$ \u3092\u4f5c\u6210\u3057\u3066\u304f\u3060\u3055\u3044\uff08.append() \u3092\u7528\u3044\u307e\u3059\uff09\uff0e"
      ]
    },
    {
      "cell_type": "code",
      "execution_count": 4,
      "metadata": {},
      "outputs": [
        {
          "data": {
            "text/plain": [
              "(101, 10.0)"
            ]
          },
          "execution_count": 4,
          "metadata": {},
          "output_type": "execute_result"
        }
      ],
      "source": [
        "ret = []\n",
        "for i in range(101):\n",
        "    ret.append(i**(1/2))\n",
        "len(ret), ret[-1]"
      ]
    },
    {
      "cell_type": "markdown",
      "metadata": {},
      "source": [
        "- Q.4: 1 \u304b\u3089 100 \u307e\u3067\u9023\u7d9a\u3057\u305f 100 \u500b\u306e\u6574\u6570\u306b\u5bfe\u3059\u308b\u6a19\u6e96\u504f\u5dee\u3092\u6c42\u3081\u3066\u304f\u3060\u3055\u3044\uff0e"
      ]
    },
    {
      "cell_type": "code",
      "execution_count": 5,
      "metadata": {},
      "outputs": [
        {
          "data": {
            "text/plain": [
              "28.86607004772212"
            ]
          },
          "execution_count": 5,
          "metadata": {},
          "output_type": "execute_result"
        }
      ],
      "source": [
        "x = list(range(1,101,1))\n",
        "xbar = sum(x) / len(x)\n",
        "mse = 0\n",
        "for i in range(len(x)):\n",
        "    mse += (x[i] - xbar)**2\n",
        "sigma = (mse / len(x)) ** (1/2)\n",
        "sigma"
      ]
    },
    {
      "cell_type": "markdown",
      "metadata": {},
      "source": [
        "- Q.5: try-except \u3092\u7528\u3044\u3066\uff0c\u6b21\u306e\u30ea\u30b9\u30c8 [1, 2, 3, \"a\"] \u306e\u7dcf\u548c\u3092\u53d6\u3063\u305f\u6642\uff0c\"\u6570\u5024\u3068\u6587\u5b57\u5217\u306e\u7dcf\u548c\u306f\u4e0d\u53ef\" \u3068\u8868\u793a\u3059\u308b\u3088\u3046\u306b\u4f5c\u6210\u3057\u307e\u3057\u3087\u3046\uff08if \u3067\u3082\u3067\u304d\u307e\u3059\u304c\uff0ctry-except \u3092\u7528\u3044\u3066\u304f\u3060\u3055\u3044\uff09\uff0e"
      ]
    },
    {
      "cell_type": "code",
      "execution_count": 6,
      "metadata": {},
      "outputs": [
        {
          "name": "stdout",
          "output_type": "stream",
          "text": [
            "\u6570\u5024\u3068\u6587\u5b57\u5217\u306e\u7dcf\u548c\u306f\u4e0d\u53ef\n"
          ]
        }
      ],
      "source": [
        "arr = [1, 2, 3, \"a\"]\n",
        "try:\n",
        "    arr_sum = sum(arr)\n",
        "except Exception:\n",
        "    print(\"\u6570\u5024\u3068\u6587\u5b57\u5217\u306e\u7dcf\u548c\u306f\u4e0d\u53ef\")"
      ]
    },
    {
      "cell_type": "code",
      "execution_count": null,
      "metadata": {},
      "outputs": [],
      "source": []
    }
  ],
  "metadata": {
    "kernelspec": {
      "display_name": "Python 3 (ipykernel)",
      "language": "python",
      "name": "python3"
    },
    "language_info": {
      "codemirror_mode": {
        "name": "ipython",
        "version": 3
      },
      "file_extension": ".py",
      "mimetype": "text/x-python",
      "name": "python",
      "nbconvert_exporter": "python",
      "pygments_lexer": "ipython3",
      "version": "3.8.10"
    }
  },
  "nbformat": 4,
  "nbformat_minor": 4
}
