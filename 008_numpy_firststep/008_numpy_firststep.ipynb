{
 "cells": [
  {
   "cell_type": "markdown",
   "id": "941a97cc-2e85-4907-8cfd-bb7f95fbffc6",
   "metadata": {
    "id": "bcbfd66d-ec55-4f2f-9187-8642d94eccbd"
   },
   "source": [
    "# NumPy（数学演算／配列操作ライブラリ 入門編）\n",
    "\n",
    "---\n",
    "\n",
    "- ref: https://numpy.org/doc/stable/index.html\n",
    "- blog: https://slash-z.com/\n",
    "- github: https://github.com/KazutoMakino/PythonCourses\n",
    "\n",
    "---"
   ]
  },
  {
   "cell_type": "markdown",
   "id": "17b9c552-d813-43ce-972d-39b1d838c37c",
   "metadata": {
    "id": "dee50cd6-e79f-48f2-8076-4fd510ceab11"
   },
   "source": [
    "他のプログラミング言語に対して，Python は比較的容易に書くことができ，頭で思い描いたことを実装しやすい言語です．  \n",
    "しかし，一方でコンパイルを必要としないスクリプト言語であることから，大規模計算において Python 単独では処理が遅いため，Python 単体にて重い計算をさせることは適切ではないと言えます．  \n",
    "そのため，Python は C 言語や fortran などの他の高速な言語を用いて書かれたサードパーティライブラリを容易に用いることができるようになっており，他の言語で作成したシステムとくっつけることができるｊという意味で，グルー（glue, 糊（のり））言語とも言われています．  \n",
    "サードパーティライブラリの存在により，Python は人にやさしいインターフェースを提供するとともに，高速演算だったり多機能な処理が可能となっており，美味しいとこどりの素晴らしい言語です．  \n",
    "さて，この美味しさを実感するためにはサードパーティライブラリを扱える必要があります．  \n",
    "今回は無数にあるサードパーティライブラリの中でも，特に数値計算関連において使用率が 1, 2 を争うと思われる NumPy というライブラリについて，ある程度使えるようになるために一部紹介していきます．"
   ]
  },
  {
   "cell_type": "markdown",
   "id": "32230378-e761-4d8a-a810-15f24ab5e617",
   "metadata": {},
   "source": [
    "## NumPy 概要"
   ]
  },
  {
   "cell_type": "markdown",
   "id": "24d1ef31-e533-4acc-865e-2b543f4f7406",
   "metadata": {},
   "source": [
    "NumPy（ナンパイ、ナムパイ）は，python における数学演算やテンソル計算において標準的に用いられるサードパーティライブラリです．  \n",
    "配列については python の標準で備わっている list や tuple によっても演算が可能でしたが，これらよりもさらに便利で高速演算が可能な関数を持っています．  \n",
    "また，list との相互変換も容易で，ほかのサードパーティライブラリにおいても，numpy との相互変換を可能としているものが多く，サードパーティライブラリであるにも関わらず，python 扱う上で必須なライブラリです．\n",
    "\n",
    "numpy で内包している数や扱える処理について大別すると，\n",
    "- 無限大や円周率, ネイピア数など，数学演算で用いる特殊な数，および nan (None)\n",
    "- list と同等のスライスなどの操作\n",
    "- 配列生成／変形\n",
    "- 数学関数\n",
    "- 乱数の数列の生成\n",
    "- ファイル読み込み／書き込み\n",
    "\n",
    "収録されている関数やメソッドがあまりにも豊富なので，ある程度カテゴリー分けして，その中で個人的に良く用いている処理について記載いたします．\n",
    "\n",
    "まずはライブラリのインポートですが，numpy は公式ドキュメントにて np と省略形でインポートしており，この方法が一般的です．"
   ]
  },
  {
   "cell_type": "code",
   "execution_count": 1,
   "id": "bdceeca9-13d4-431c-8d0a-1f43f960bef3",
   "metadata": {},
   "outputs": [],
   "source": [
    "import numpy as np"
   ]
  },
  {
   "cell_type": "markdown",
   "id": "8e37eb59-d59d-4be2-b13a-549a15a0bd1d",
   "metadata": {},
   "source": [
    "## numpy.ndarray の持つ属性"
   ]
  },
  {
   "cell_type": "markdown",
   "id": "626ae911-ca13-44bb-ae2e-6ee169217327",
   "metadata": {
    "tags": []
   },
   "source": [
    "numpy において，配列は numpy.ndarray 型で表現されます．  \n",
    "挙動や扱いについてはスライスが可能であったりと list と似ている部分もあるのですが，数多くの有益なメソッドがあったり，要素ごとに演算しなくても，例えば numpy.ndarray 型変数に単純に 2 をかけてスカラー倍すると全要素がちゃんと 2 倍されるのですが，このように一気に演算できるような仕組みを持っています．  \n",
    "便利なメソッドを試すために，まず numpy.ndarray 型変数を生成する必要があるため，最初にリストやタプルから numpy.ndarray にする方法を示します．"
   ]
  },
  {
   "cell_type": "markdown",
   "id": "4283c331-e518-4b97-bd5a-4538ed090436",
   "metadata": {},
   "source": [
    "```\n",
    "np.array(数値やリストなど, dtype=None, copy=True)\n",
    "```"
   ]
  },
  {
   "cell_type": "code",
   "execution_count": 2,
   "id": "7e66acb1-a117-4ae5-abad-d469a30c6bdc",
   "metadata": {},
   "outputs": [
    {
     "data": {
      "text/plain": [
       "array([0, 1, 2])"
      ]
     },
     "execution_count": 2,
     "metadata": {},
     "output_type": "execute_result"
    }
   ],
   "source": [
    "a = np.array([0, 1, 2])\n",
    "a"
   ]
  },
  {
   "cell_type": "code",
   "execution_count": 3,
   "id": "90d45a93-42d0-4947-985b-1dece1968a0e",
   "metadata": {},
   "outputs": [
    {
     "data": {
      "text/plain": [
       "numpy.ndarray"
      ]
     },
     "execution_count": 3,
     "metadata": {},
     "output_type": "execute_result"
    }
   ],
   "source": [
    "type(a)"
   ]
  },
  {
   "cell_type": "markdown",
   "id": "348b575f-21b6-4556-8373-8532257a047c",
   "metadata": {},
   "source": [
    "戻り値は数値やリストなどのオブジェクトの numpy.ndarray 型が返ってきますが，要素の型は dtype によって変わります．  \n",
    "初期値は None となっていますが，この場合は，元のオブジェクトから型が推定されます．  \n",
    "例えば，次のように指定することもできます．"
   ]
  },
  {
   "cell_type": "code",
   "execution_count": 4,
   "id": "f5962b37-4f44-46db-9073-afbdf09536a2",
   "metadata": {},
   "outputs": [
    {
     "data": {
      "text/plain": [
       "array([0., 1., 2.])"
      ]
     },
     "execution_count": 4,
     "metadata": {},
     "output_type": "execute_result"
    }
   ],
   "source": [
    "a = np.array([0, 1, 2], dtype=float)\n",
    "a"
   ]
  },
  {
   "cell_type": "code",
   "execution_count": 5,
   "id": "df8738a4-f656-4c94-8769-6d384dcbeed8",
   "metadata": {},
   "outputs": [
    {
     "data": {
      "text/plain": [
       "array([[0, 1, 2],\n",
       "       [3, 4, 5]], dtype=int8)"
      ]
     },
     "execution_count": 5,
     "metadata": {},
     "output_type": "execute_result"
    }
   ],
   "source": [
    "np.array(((0, 1, 2), (3, 4, 5)), dtype=np.int8)"
   ]
  },
  {
   "cell_type": "code",
   "execution_count": 6,
   "id": "97579dbb-aa0b-4bb2-b920-5349ce466233",
   "metadata": {},
   "outputs": [
    {
     "data": {
      "text/plain": [
       "array(0)"
      ]
     },
     "execution_count": 6,
     "metadata": {},
     "output_type": "execute_result"
    }
   ],
   "source": [
    "np.array(0)"
   ]
  },
  {
   "cell_type": "markdown",
   "id": "1e6cbac9-b432-41c9-8890-f84b4ac8562e",
   "metadata": {},
   "source": [
    "上記のように，リストでもタプルでも数値でも，numpy.ndarray 型となります．  \n",
    "数値を引数に与えた場合は，0 次元の配列になります．  \n",
    "ちなみに，np.asarray でも同様な操作ができますが，こちらは引数の初期値が copy=False となっていてビューを返すので，よっぽど処理がひっ迫してなければ上記の np.array を用います．\n",
    "\n",
    "numpy.ndarray 型変数の属性は以下で取得できます．\n",
    "\n",
    "- `.T`：転置テンソルを返す\n",
    "- `.dtype`：データタイプを返す\n",
    "- `.flat`：1 次元化された配列のイテレータを返す\n",
    "- `.imag`：複素数の虚部を返す\n",
    "- `.real`：複素数の実部を返す\n",
    "- `.size`：配列の要素数を返す\n",
    "- `.ndim`：配列の次元数を返す\n",
    "- `.shape`：配列の各次元の要素数を返す"
   ]
  },
  {
   "cell_type": "code",
   "execution_count": 7,
   "id": "a05c3b1e-1d13-4b76-9833-8a25010eddcd",
   "metadata": {},
   "outputs": [
    {
     "data": {
      "text/plain": [
       "array([[0, 1, 2],\n",
       "       [3, 4, 5]])"
      ]
     },
     "execution_count": 7,
     "metadata": {},
     "output_type": "execute_result"
    }
   ],
   "source": [
    "a = np.array([[0, 1, 2], [3, 4, 5]])\n",
    "a"
   ]
  },
  {
   "cell_type": "code",
   "execution_count": 8,
   "id": "08159bc0-59ef-4c45-9cf8-3618f468b64e",
   "metadata": {},
   "outputs": [
    {
     "data": {
      "text/plain": [
       "array([[0, 3],\n",
       "       [1, 4],\n",
       "       [2, 5]])"
      ]
     },
     "execution_count": 8,
     "metadata": {},
     "output_type": "execute_result"
    }
   ],
   "source": [
    "a.T"
   ]
  },
  {
   "cell_type": "code",
   "execution_count": 9,
   "id": "c6a06fb4-e54b-47c9-8ada-7bade4a10cf5",
   "metadata": {},
   "outputs": [
    {
     "data": {
      "text/plain": [
       "dtype('int32')"
      ]
     },
     "execution_count": 9,
     "metadata": {},
     "output_type": "execute_result"
    }
   ],
   "source": [
    "a.dtype"
   ]
  },
  {
   "cell_type": "code",
   "execution_count": 10,
   "id": "0d5f2795-cfd0-442c-ab6b-18b644eb1fd1",
   "metadata": {},
   "outputs": [
    {
     "data": {
      "text/plain": [
       "<numpy.flatiter at 0x2b8997ab520>"
      ]
     },
     "execution_count": 10,
     "metadata": {},
     "output_type": "execute_result"
    }
   ],
   "source": [
    "a.flat"
   ]
  },
  {
   "cell_type": "code",
   "execution_count": 11,
   "id": "cf387635-1d2d-41c3-b7b8-d0f5cbd674ef",
   "metadata": {},
   "outputs": [
    {
     "data": {
      "text/plain": [
       "array([[0, 0, 0],\n",
       "       [0, 0, 0]])"
      ]
     },
     "execution_count": 11,
     "metadata": {},
     "output_type": "execute_result"
    }
   ],
   "source": [
    "a.imag"
   ]
  },
  {
   "cell_type": "code",
   "execution_count": 12,
   "id": "f558070d-7a0a-4061-9bb6-887b0d9b5d78",
   "metadata": {},
   "outputs": [
    {
     "data": {
      "text/plain": [
       "array([[0, 1, 2],\n",
       "       [3, 4, 5]])"
      ]
     },
     "execution_count": 12,
     "metadata": {},
     "output_type": "execute_result"
    }
   ],
   "source": [
    "a.real"
   ]
  },
  {
   "cell_type": "code",
   "execution_count": 13,
   "id": "3dc19229-d1d1-487a-a30c-e4501e651c1b",
   "metadata": {},
   "outputs": [
    {
     "data": {
      "text/plain": [
       "6"
      ]
     },
     "execution_count": 13,
     "metadata": {},
     "output_type": "execute_result"
    }
   ],
   "source": [
    "a.size"
   ]
  },
  {
   "cell_type": "code",
   "execution_count": 14,
   "id": "5b5727a7-c365-4fc7-81f0-267e7c022c3b",
   "metadata": {},
   "outputs": [
    {
     "data": {
      "text/plain": [
       "2"
      ]
     },
     "execution_count": 14,
     "metadata": {},
     "output_type": "execute_result"
    }
   ],
   "source": [
    "a.ndim"
   ]
  },
  {
   "cell_type": "code",
   "execution_count": 15,
   "id": "2a86da0f-9c4a-4366-92d9-803ff7387576",
   "metadata": {},
   "outputs": [
    {
     "data": {
      "text/plain": [
       "(2, 3)"
      ]
     },
     "execution_count": 15,
     "metadata": {},
     "output_type": "execute_result"
    }
   ],
   "source": [
    "a.shape"
   ]
  },
  {
   "cell_type": "markdown",
   "id": "0a9c0090-534c-47b1-bdde-f62949d277a0",
   "metadata": {},
   "source": [
    "また，リストと同様にスライスも扱うことができます．"
   ]
  },
  {
   "cell_type": "code",
   "execution_count": 16,
   "id": "01c21b65-c15a-43c8-9af4-a52a98c32baf",
   "metadata": {},
   "outputs": [
    {
     "data": {
      "text/plain": [
       "array([0, 1, 2])"
      ]
     },
     "execution_count": 16,
     "metadata": {},
     "output_type": "execute_result"
    }
   ],
   "source": [
    "a[0]"
   ]
  },
  {
   "cell_type": "code",
   "execution_count": 17,
   "id": "449a22d5-2512-46fc-b778-b5f75ccd479f",
   "metadata": {},
   "outputs": [
    {
     "data": {
      "text/plain": [
       "array([1, 2])"
      ]
     },
     "execution_count": 17,
     "metadata": {},
     "output_type": "execute_result"
    }
   ],
   "source": [
    "a[0, 1:]"
   ]
  },
  {
   "cell_type": "markdown",
   "id": "256a6679-4e63-4802-8b80-a6f5034a8ffb",
   "metadata": {},
   "source": [
    "組み込み関数も思った通りに使うことができます．"
   ]
  },
  {
   "cell_type": "code",
   "execution_count": 18,
   "id": "08dba624-adf9-4b45-a53b-8ec00ba0b836",
   "metadata": {},
   "outputs": [
    {
     "data": {
      "text/plain": [
       "2"
      ]
     },
     "execution_count": 18,
     "metadata": {},
     "output_type": "execute_result"
    }
   ],
   "source": [
    "len(a)"
   ]
  },
  {
   "cell_type": "code",
   "execution_count": 19,
   "id": "7e068111-316f-4f1e-9b10-8b9f8e320216",
   "metadata": {},
   "outputs": [
    {
     "data": {
      "text/plain": [
       "[array([0, 1, 2]), array([3, 4, 5])]"
      ]
     },
     "execution_count": 19,
     "metadata": {},
     "output_type": "execute_result"
    }
   ],
   "source": [
    "list(a)"
   ]
  },
  {
   "cell_type": "code",
   "execution_count": 21,
   "id": "61e120c7-9110-4f01-b61e-6120914bfcae",
   "metadata": {},
   "outputs": [
    {
     "data": {
      "text/plain": [
       "(array([0, 1, 2]), array([3, 4, 5]))"
      ]
     },
     "execution_count": 21,
     "metadata": {},
     "output_type": "execute_result"
    }
   ],
   "source": [
    "tuple(a)"
   ]
  },
  {
   "cell_type": "markdown",
   "id": "026f173c-104a-4bb7-a1ec-31f047551d34",
   "metadata": {},
   "source": [
    "ただし，上記のように多次元配列の numpy.ndarray を，例えば組み込み関数の list を用いてリストにしようとした場合は，外側の型のみリストになります．  \n",
    "全ての次元においてリスト化したい場合は，後述のメソッド tolist を用います．"
   ]
  },
  {
   "cell_type": "markdown",
   "id": "cd9ccb6d-a9ef-461d-868a-fa423ab5f2ed",
   "metadata": {},
   "source": [
    "numpy.ndarray に対する定数の加減乗除は，全ての要素に対して同一の操作が適用されます．"
   ]
  },
  {
   "cell_type": "code",
   "execution_count": 22,
   "id": "aff33e7c-d788-46ff-8d37-81245458bacf",
   "metadata": {},
   "outputs": [
    {
     "data": {
      "text/plain": [
       "array([[10, 11, 12],\n",
       "       [13, 14, 15]])"
      ]
     },
     "execution_count": 22,
     "metadata": {},
     "output_type": "execute_result"
    }
   ],
   "source": [
    "a = np.array([[0, 1, 2], [3, 4, 5]])\n",
    "a + 10"
   ]
  },
  {
   "cell_type": "markdown",
   "id": "c1927c48-ccd4-4f63-b0c4-fd3dc43cf7bd",
   "metadata": {},
   "source": [
    "## numpy.ndarray のメソッド"
   ]
  },
  {
   "cell_type": "markdown",
   "id": "2e2ba452-ba15-460a-8788-f1c0562d34df",
   "metadata": {},
   "source": [
    "numpy.ndarray 型変数に対して良く使うメソッドは以下です．\n",
    "\n",
    "- `.all(axis=None)`：すべての要素を評価したとき，すべての要素が True であれば True を返し，そうでなければ False を返す（axis は評価する対象の次元で，例えば arr.shape が (3, 4, 5) だとすると，axis=0 は 1 つ目の要素数 3 の次元が評価対象となる）\n",
    "- `.any(axis=None)`：すべての要素を評価したとき，どれか一つの要素が True であれば True を返し，そうでなければ False を返す\n",
    "- `.argmax(axis=None)`：要素が最大値を取る要素番号を返す\n",
    "- `.argmin(axis=None)`：要素が最小値を取る要素番号を返す\n",
    "- `.argsort(axis=-1)`：配列の値の大小関係の順番を返す\n",
    "- `.astype(dtype)`：要素の型をキャストする\n",
    "- `.clip(min=None, max=None)`：指定した最小値よりも小さい要素は指定した最小値で，指定した最大値よりも大きい場合は最大値で，指定した最小値と最大値の間にある要素はそのままの値の配列で返す\n",
    "- `.copy()`：コピーを返す\n",
    "- `.cumprod(axis=None, dtype=None)`：要素の累積積を返す\n",
    "- `.cumsum(axis=None, dtype=None)`：要素の累積和を返す\n",
    "- `.fill(value)`：与えられた配列の全要素をスカラーで埋める（値を返さず元配列を上書きすることに注意）\n",
    "- `.flatten()`：1 次元の配列にコピーして返す\n",
    "- `.max(axis=None)`：要素の最大値を返す\n",
    "- `.mean(axis=None, dtype=None)`：要素の平均を返す\n",
    "- `.min(axis=None)`：要素の最小値を返す\n",
    "- `.repeat(repeats, axis=None)`：repeats 分配列を繰り返す\n",
    "- `.reshape(shape)`：shape で指定した次元の配列を返す\n",
    "- `.round(decimals)`：decimals で指定した桁数で丸めた要素の配列を返す\n",
    "- `.sort(axis=None)`：配列をソートする（戻り値はなく元配列が書き換わることに注意）\n",
    "- `.squeeze(axis=None)`：要素が 0 しかない次元を消す\n",
    "- `.std(axis=None, dtype=None, ddof=)`：標準偏差を返す\n",
    "- `.sum(axis=None, dtype=None)`：総和を返す\n",
    "- `.swapaxes(axis1, axis2)`：axis1 と axis2 を入れ替える\n",
    "- `.tolist()`：全ての次元を list でキャストして返す\n",
    "- `.trace()`：線形代数でいう縮約（トレース）を返す\n",
    "- `.transpose()`：転置を返す\n",
    "- `.var(axis=None, dtype=None, ddof=)`：統計学の分散を返す"
   ]
  },
  {
   "cell_type": "markdown",
   "id": "5e8156d5-88ab-4876-9245-054632d7bda7",
   "metadata": {},
   "source": [
    "まずは，対象の numpy.ndarray 型変数を a として設定します．"
   ]
  },
  {
   "cell_type": "code",
   "execution_count": 104,
   "id": "1b106221-0c14-4287-bffa-c8c80d5c0495",
   "metadata": {},
   "outputs": [
    {
     "data": {
      "text/plain": [
       "array([[[ 0,  1,  2,  3],\n",
       "        [ 4,  5,  6,  7],\n",
       "        [ 8,  9, 10, 11]],\n",
       "\n",
       "       [[12, 13, 14, 15],\n",
       "        [16, 17, 18, 19],\n",
       "        [20, 21, 22, 23]]])"
      ]
     },
     "execution_count": 104,
     "metadata": {},
     "output_type": "execute_result"
    }
   ],
   "source": [
    "a = np.array(\n",
    "    [\n",
    "        [\n",
    "            [0, 1, 2, 3],\n",
    "            [4, 5, 6, 7],\n",
    "            [8, 9, 10, 11],\n",
    "        ],\n",
    "        [\n",
    "            [12, 13, 14, 15],\n",
    "            [16, 17, 18, 19],\n",
    "            [20, 21, 22, 23],\n",
    "        ],\n",
    "    ]\n",
    ")\n",
    "a"
   ]
  },
  {
   "cell_type": "code",
   "execution_count": 40,
   "id": "be59d775-a902-4c74-8110-5ad0ed2ba762",
   "metadata": {},
   "outputs": [
    {
     "data": {
      "text/plain": [
       "(2, 3, 4)"
      ]
     },
     "execution_count": 40,
     "metadata": {},
     "output_type": "execute_result"
    }
   ],
   "source": [
    "a.shape"
   ]
  },
  {
   "cell_type": "markdown",
   "id": "42ed4be5-7f44-4af6-983e-b74703bb1821",
   "metadata": {},
   "source": [
    "この 3 階テンソルに対してメソッドを適用していきます．"
   ]
  },
  {
   "cell_type": "code",
   "execution_count": 41,
   "id": "95124a15-b8cd-4e3f-8575-7843a1407045",
   "metadata": {},
   "outputs": [
    {
     "data": {
      "text/plain": [
       "(False, True)"
      ]
     },
     "execution_count": 41,
     "metadata": {},
     "output_type": "execute_result"
    }
   ],
   "source": [
    "a.all(), (a+1).all()"
   ]
  },
  {
   "cell_type": "code",
   "execution_count": 42,
   "id": "fc5f6a1e-ae42-4180-b634-a77d812c1127",
   "metadata": {},
   "outputs": [
    {
     "data": {
      "text/plain": [
       "(True, False)"
      ]
     },
     "execution_count": 42,
     "metadata": {},
     "output_type": "execute_result"
    }
   ],
   "source": [
    "a.any(), np.array([0,0,0]).any()"
   ]
  },
  {
   "cell_type": "code",
   "execution_count": 43,
   "id": "1ff213b0-0fb7-4810-8bfe-5bb8a29e4f80",
   "metadata": {},
   "outputs": [
    {
     "data": {
      "text/plain": [
       "23"
      ]
     },
     "execution_count": 43,
     "metadata": {},
     "output_type": "execute_result"
    }
   ],
   "source": [
    "a.argmax()"
   ]
  },
  {
   "cell_type": "code",
   "execution_count": 44,
   "id": "232b324c-b43a-411b-9c64-963e155009f6",
   "metadata": {},
   "outputs": [
    {
     "data": {
      "text/plain": [
       "array([[1, 1, 1, 1],\n",
       "       [1, 1, 1, 1],\n",
       "       [1, 1, 1, 1]], dtype=int64)"
      ]
     },
     "execution_count": 44,
     "metadata": {},
     "output_type": "execute_result"
    }
   ],
   "source": [
    "a.argmax(axis=0)"
   ]
  },
  {
   "cell_type": "code",
   "execution_count": 45,
   "id": "d3745c35-cf63-4fff-8eec-098fbf72bf67",
   "metadata": {},
   "outputs": [
    {
     "data": {
      "text/plain": [
       "array([[2, 2, 2, 2],\n",
       "       [2, 2, 2, 2]], dtype=int64)"
      ]
     },
     "execution_count": 45,
     "metadata": {},
     "output_type": "execute_result"
    }
   ],
   "source": [
    "a.argmax(axis=1)"
   ]
  },
  {
   "cell_type": "code",
   "execution_count": 46,
   "id": "5fd0f8c2-ca3f-4cf8-ae18-4a7e4b0f6b88",
   "metadata": {},
   "outputs": [
    {
     "data": {
      "text/plain": [
       "array([[3, 3, 3],\n",
       "       [3, 3, 3]], dtype=int64)"
      ]
     },
     "execution_count": 46,
     "metadata": {},
     "output_type": "execute_result"
    }
   ],
   "source": [
    "a.argmax(axis=2)"
   ]
  },
  {
   "cell_type": "code",
   "execution_count": 48,
   "id": "212cac22-d2a3-4cc6-8bec-d65ff2fce1d5",
   "metadata": {},
   "outputs": [
    {
     "data": {
      "text/plain": [
       "array([[0, 0, 0, 0],\n",
       "       [0, 0, 0, 0],\n",
       "       [0, 0, 0, 0]], dtype=int64)"
      ]
     },
     "execution_count": 48,
     "metadata": {},
     "output_type": "execute_result"
    }
   ],
   "source": [
    "a.argmin(axis=0)"
   ]
  },
  {
   "cell_type": "code",
   "execution_count": 49,
   "id": "1bef89f5-3b80-462d-8edd-2d17c2ea9ea2",
   "metadata": {},
   "outputs": [
    {
     "data": {
      "text/plain": [
       "array([[0, 0, 0, 0],\n",
       "       [0, 0, 0, 0]], dtype=int64)"
      ]
     },
     "execution_count": 49,
     "metadata": {},
     "output_type": "execute_result"
    }
   ],
   "source": [
    "a.argmin(axis=1)"
   ]
  },
  {
   "cell_type": "code",
   "execution_count": 50,
   "id": "d03a6d32-b021-41a4-82e9-c94c5c4427f2",
   "metadata": {},
   "outputs": [
    {
     "data": {
      "text/plain": [
       "array([[0, 0, 0],\n",
       "       [0, 0, 0]], dtype=int64)"
      ]
     },
     "execution_count": 50,
     "metadata": {},
     "output_type": "execute_result"
    }
   ],
   "source": [
    "a.argmin(axis=2)"
   ]
  },
  {
   "cell_type": "code",
   "execution_count": 51,
   "id": "6f50d00c-1ffd-4812-8f92-976199033eb5",
   "metadata": {},
   "outputs": [
    {
     "data": {
      "text/plain": [
       "array([[[0, 1, 2, 3],\n",
       "        [0, 1, 2, 3],\n",
       "        [0, 1, 2, 3]],\n",
       "\n",
       "       [[0, 1, 2, 3],\n",
       "        [0, 1, 2, 3],\n",
       "        [0, 1, 2, 3]]], dtype=int64)"
      ]
     },
     "execution_count": 51,
     "metadata": {},
     "output_type": "execute_result"
    }
   ],
   "source": [
    "a.argsort()"
   ]
  },
  {
   "cell_type": "code",
   "execution_count": 52,
   "id": "f2d336f3-a05b-4985-935e-429c5b96b261",
   "metadata": {},
   "outputs": [
    {
     "data": {
      "text/plain": [
       "array([[[0, 0, 0, 0],\n",
       "        [0, 0, 0, 0],\n",
       "        [0, 0, 0, 0]],\n",
       "\n",
       "       [[1, 1, 1, 1],\n",
       "        [1, 1, 1, 1],\n",
       "        [1, 1, 1, 1]]], dtype=int64)"
      ]
     },
     "execution_count": 52,
     "metadata": {},
     "output_type": "execute_result"
    }
   ],
   "source": [
    "a.argsort(axis=0)"
   ]
  },
  {
   "cell_type": "code",
   "execution_count": 53,
   "id": "6b63d847-4f87-49a3-b145-48e8a5edec68",
   "metadata": {},
   "outputs": [
    {
     "data": {
      "text/plain": [
       "array([[[0, 0, 0, 0],\n",
       "        [1, 1, 1, 1],\n",
       "        [2, 2, 2, 2]],\n",
       "\n",
       "       [[0, 0, 0, 0],\n",
       "        [1, 1, 1, 1],\n",
       "        [2, 2, 2, 2]]], dtype=int64)"
      ]
     },
     "execution_count": 53,
     "metadata": {},
     "output_type": "execute_result"
    }
   ],
   "source": [
    "a.argsort(axis=1)"
   ]
  },
  {
   "cell_type": "code",
   "execution_count": 54,
   "id": "240fe4cc-e47c-4f98-aeb0-cd67420cd0b7",
   "metadata": {},
   "outputs": [
    {
     "data": {
      "text/plain": [
       "array([[[0, 1, 2, 3],\n",
       "        [0, 1, 2, 3],\n",
       "        [0, 1, 2, 3]],\n",
       "\n",
       "       [[0, 1, 2, 3],\n",
       "        [0, 1, 2, 3],\n",
       "        [0, 1, 2, 3]]], dtype=int64)"
      ]
     },
     "execution_count": 54,
     "metadata": {},
     "output_type": "execute_result"
    }
   ],
   "source": [
    "a.argsort(axis=2)"
   ]
  },
  {
   "cell_type": "code",
   "execution_count": 59,
   "id": "62e20aca-3e76-47cc-bf10-d742c2dbf4ad",
   "metadata": {},
   "outputs": [
    {
     "data": {
      "text/plain": [
       "array([[[ 0.,  1.,  2.,  3.],\n",
       "        [ 4.,  5.,  6.,  7.],\n",
       "        [ 8.,  9., 10., 11.]],\n",
       "\n",
       "       [[12., 13., 14., 15.],\n",
       "        [16., 17., 18., 19.],\n",
       "        [20., 21., 22., 23.]]], dtype=float16)"
      ]
     },
     "execution_count": 59,
     "metadata": {},
     "output_type": "execute_result"
    }
   ],
   "source": [
    "a.astype(np.float16)"
   ]
  },
  {
   "cell_type": "code",
   "execution_count": 65,
   "id": "a488a164-ca06-4f07-96e5-a225e08e5ba8",
   "metadata": {},
   "outputs": [
    {
     "data": {
      "text/plain": [
       "array([[[10, 10, 10, 10],\n",
       "        [10, 10, 10, 10],\n",
       "        [10, 10, 10, 11]],\n",
       "\n",
       "       [[12, 13, 14, 15],\n",
       "        [16, 17, 18, 19],\n",
       "        [20, 20, 20, 20]]])"
      ]
     },
     "execution_count": 65,
     "metadata": {},
     "output_type": "execute_result"
    }
   ],
   "source": [
    "a.clip(min=10, max=20)"
   ]
  },
  {
   "cell_type": "code",
   "execution_count": 66,
   "id": "7494813a-c349-4b4b-a97a-951aefab59c4",
   "metadata": {},
   "outputs": [
    {
     "data": {
      "text/plain": [
       "array([[[ 0,  1,  2,  3],\n",
       "        [ 4,  5,  6,  7],\n",
       "        [ 8,  9, 10, 11]],\n",
       "\n",
       "       [[12, 13, 14, 15],\n",
       "        [16, 17, 18, 19],\n",
       "        [20, 21, 22, 23]]])"
      ]
     },
     "execution_count": 66,
     "metadata": {},
     "output_type": "execute_result"
    }
   ],
   "source": [
    "a.copy()"
   ]
  },
  {
   "cell_type": "code",
   "execution_count": 75,
   "id": "48cdf85e-65c3-456a-8199-182297335983",
   "metadata": {},
   "outputs": [
    {
     "data": {
      "text/plain": [
       "array([[[ True,  True,  True,  True],\n",
       "        [ True,  True,  True,  True],\n",
       "        [ True,  True,  True,  True]],\n",
       "\n",
       "       [[ True,  True,  True,  True],\n",
       "        [ True,  True,  True,  True],\n",
       "        [ True,  True,  True,  True]]])"
      ]
     },
     "execution_count": 75,
     "metadata": {},
     "output_type": "execute_result"
    }
   ],
   "source": [
    "a.copy() == a"
   ]
  },
  {
   "cell_type": "code",
   "execution_count": 77,
   "id": "213ee18d-2f29-4688-bb63-e2afee63151e",
   "metadata": {},
   "outputs": [
    {
     "data": {
      "text/plain": [
       "False"
      ]
     },
     "execution_count": 77,
     "metadata": {},
     "output_type": "execute_result"
    }
   ],
   "source": [
    "a.copy() is a"
   ]
  },
  {
   "cell_type": "code",
   "execution_count": 78,
   "id": "9eaaec5d-44b4-4e6f-8dba-fe24db399fbc",
   "metadata": {},
   "outputs": [
    {
     "data": {
      "text/plain": [
       "array([0, 0, 0, 0, 0, 0, 0, 0, 0, 0, 0, 0, 0, 0, 0, 0, 0, 0, 0, 0, 0, 0,\n",
       "       0, 0], dtype=int32)"
      ]
     },
     "execution_count": 78,
     "metadata": {},
     "output_type": "execute_result"
    }
   ],
   "source": [
    "a.cumprod()"
   ]
  },
  {
   "cell_type": "code",
   "execution_count": 80,
   "id": "0b6b3585-c945-44e5-b888-a02ac70d44a0",
   "metadata": {},
   "outputs": [
    {
     "data": {
      "text/plain": [
       "array([          1,           2,           6,          24,         120,\n",
       "               720,        5040,       40320,      362880,     3628800,\n",
       "          39916800,   479001600,  1932053504,  1278945280,  2004310016,\n",
       "        2004189184,  -288522240,  -898433024,   109641728, -2102132736,\n",
       "       -1195114496,  -522715136,   862453760,  -775946240], dtype=int32)"
      ]
     },
     "execution_count": 80,
     "metadata": {},
     "output_type": "execute_result"
    }
   ],
   "source": [
    "(a+1).cumprod()"
   ]
  },
  {
   "cell_type": "code",
   "execution_count": 92,
   "id": "e0d411a9-198d-4c5b-9ae5-d2a33c2ccfea",
   "metadata": {},
   "outputs": [
    {
     "data": {
      "text/plain": [
       "array([  0,   1,   3,   6,  10,  15,  21,  28,  36,  45,  55,  66,  78,\n",
       "        91, 105, 120, 136, 153, 171, 190, 210, 231, 253, 276], dtype=int32)"
      ]
     },
     "execution_count": 92,
     "metadata": {},
     "output_type": "execute_result"
    }
   ],
   "source": [
    "a.cumsum()"
   ]
  },
  {
   "cell_type": "code",
   "execution_count": 106,
   "id": "0330fdeb-4709-4f12-9447-0a2ef46abf57",
   "metadata": {},
   "outputs": [
    {
     "data": {
      "text/plain": [
       "array([[[-1, -1, -1, -1],\n",
       "        [-1, -1, -1, -1],\n",
       "        [-1, -1, -1, -1]],\n",
       "\n",
       "       [[-1, -1, -1, -1],\n",
       "        [-1, -1, -1, -1],\n",
       "        [-1, -1, -1, -1]]])"
      ]
     },
     "execution_count": 106,
     "metadata": {},
     "output_type": "execute_result"
    }
   ],
   "source": [
    "b = a.copy()\n",
    "a.fill(-1)\n",
    "a"
   ]
  },
  {
   "cell_type": "code",
   "execution_count": 108,
   "id": "1a9b4e16-020e-4197-8c80-5c82271c742e",
   "metadata": {},
   "outputs": [],
   "source": [
    "a = b.copy()"
   ]
  },
  {
   "cell_type": "code",
   "execution_count": 109,
   "id": "26ccc1a9-1ea0-49e2-8d4c-b25aecce58e0",
   "metadata": {},
   "outputs": [
    {
     "data": {
      "text/plain": [
       "array([ 0,  1,  2,  3,  4,  5,  6,  7,  8,  9, 10, 11, 12, 13, 14, 15, 16,\n",
       "       17, 18, 19, 20, 21, 22, 23])"
      ]
     },
     "execution_count": 109,
     "metadata": {},
     "output_type": "execute_result"
    }
   ],
   "source": [
    "a.flatten()"
   ]
  },
  {
   "cell_type": "code",
   "execution_count": 110,
   "id": "9b55fb5d-529a-4c6a-bb0a-2260cbc46c0f",
   "metadata": {},
   "outputs": [
    {
     "data": {
      "text/plain": [
       "23"
      ]
     },
     "execution_count": 110,
     "metadata": {},
     "output_type": "execute_result"
    }
   ],
   "source": [
    "a.max()"
   ]
  },
  {
   "cell_type": "code",
   "execution_count": 115,
   "id": "b68ab376-7ae8-4a4a-93ee-95c399d2bb25",
   "metadata": {},
   "outputs": [
    {
     "data": {
      "text/plain": [
       "11.5"
      ]
     },
     "execution_count": 115,
     "metadata": {},
     "output_type": "execute_result"
    }
   ],
   "source": [
    "a.mean()"
   ]
  },
  {
   "cell_type": "code",
   "execution_count": 119,
   "id": "288de34e-aea1-44e3-9308-f7f35be7885f",
   "metadata": {},
   "outputs": [
    {
     "data": {
      "text/plain": [
       "0"
      ]
     },
     "execution_count": 119,
     "metadata": {},
     "output_type": "execute_result"
    }
   ],
   "source": [
    "a.min()"
   ]
  },
  {
   "cell_type": "code",
   "execution_count": 124,
   "id": "437204e5-a550-492d-ae8a-f50d9a0d7c82",
   "metadata": {},
   "outputs": [
    {
     "data": {
      "text/plain": [
       "array([ 0,  0,  1,  1,  2,  2,  3,  3,  4,  4,  5,  5,  6,  6,  7,  7,  8,\n",
       "        8,  9,  9, 10, 10, 11, 11, 12, 12, 13, 13, 14, 14, 15, 15, 16, 16,\n",
       "       17, 17, 18, 18, 19, 19, 20, 20, 21, 21, 22, 22, 23, 23])"
      ]
     },
     "execution_count": 124,
     "metadata": {},
     "output_type": "execute_result"
    }
   ],
   "source": [
    "a.repeat(2)"
   ]
  },
  {
   "cell_type": "code",
   "execution_count": 128,
   "id": "cd7ad8b0-6cad-4337-a80b-ee66b30e23b3",
   "metadata": {},
   "outputs": [
    {
     "data": {
      "text/plain": [
       "array([[ 0,  1,  2,  3,  4,  5,  6,  7,  8,  9, 10, 11],\n",
       "       [12, 13, 14, 15, 16, 17, 18, 19, 20, 21, 22, 23]])"
      ]
     },
     "execution_count": 128,
     "metadata": {},
     "output_type": "execute_result"
    }
   ],
   "source": [
    "a.reshape(2, 12)"
   ]
  },
  {
   "cell_type": "code",
   "execution_count": 129,
   "id": "c09ed34d-8155-4985-9319-c9c434225898",
   "metadata": {},
   "outputs": [
    {
     "data": {
      "text/plain": [
       "array([[ 0,  1,  2,  3,  4,  5],\n",
       "       [ 6,  7,  8,  9, 10, 11],\n",
       "       [12, 13, 14, 15, 16, 17],\n",
       "       [18, 19, 20, 21, 22, 23]])"
      ]
     },
     "execution_count": 129,
     "metadata": {},
     "output_type": "execute_result"
    }
   ],
   "source": [
    "a.reshape(4, -1)"
   ]
  },
  {
   "cell_type": "code",
   "execution_count": 145,
   "id": "e5850ae9-ff8b-4863-a9c8-8eb85cc05157",
   "metadata": {},
   "outputs": [
    {
     "data": {
      "text/plain": [
       "array([[[ 0.,  2.,  2.,  4.],\n",
       "        [ 4.,  6.,  6.,  8.],\n",
       "        [ 8., 10., 10., 12.]],\n",
       "\n",
       "       [[12., 14., 14., 16.],\n",
       "        [16., 18., 18., 20.],\n",
       "        [20., 22., 22., 24.]]])"
      ]
     },
     "execution_count": 145,
     "metadata": {},
     "output_type": "execute_result"
    }
   ],
   "source": [
    "(a+0.5).round(0)"
   ]
  },
  {
   "cell_type": "code",
   "execution_count": 148,
   "id": "12aac78c-16ef-4f50-8e6f-d8a4fb54ff72",
   "metadata": {},
   "outputs": [
    {
     "data": {
      "text/plain": [
       "array([-1,  3,  4,  5,  5,  5, 10])"
      ]
     },
     "execution_count": 148,
     "metadata": {},
     "output_type": "execute_result"
    }
   ],
   "source": [
    "b = np.array([5,3,-1,4,5,5,10])\n",
    "b.sort()\n",
    "b"
   ]
  },
  {
   "cell_type": "code",
   "execution_count": 160,
   "id": "a0706bea-6ff7-49af-9c44-33bd7fc9776e",
   "metadata": {},
   "outputs": [
    {
     "data": {
      "text/plain": [
       "array([0, 1])"
      ]
     },
     "execution_count": 160,
     "metadata": {},
     "output_type": "execute_result"
    }
   ],
   "source": [
    "b = np.array([[[0], [1]]])\n",
    "b.squeeze()"
   ]
  },
  {
   "cell_type": "code",
   "execution_count": 161,
   "id": "ec087d14-4d54-4198-9208-b296d1162d7a",
   "metadata": {},
   "outputs": [
    {
     "data": {
      "text/plain": [
       "6.922186552431729"
      ]
     },
     "execution_count": 161,
     "metadata": {},
     "output_type": "execute_result"
    }
   ],
   "source": [
    "a.std()"
   ]
  },
  {
   "cell_type": "code",
   "execution_count": 162,
   "id": "0f499a78-8a16-4208-b477-2dc3fbe88194",
   "metadata": {},
   "outputs": [
    {
     "data": {
      "text/plain": [
       "276"
      ]
     },
     "execution_count": 162,
     "metadata": {},
     "output_type": "execute_result"
    }
   ],
   "source": [
    "a.sum()"
   ]
  },
  {
   "cell_type": "code",
   "execution_count": 170,
   "id": "e4c68901-2420-4822-be25-e0f21054d33b",
   "metadata": {},
   "outputs": [
    {
     "data": {
      "text/plain": [
       "(2, 3, 4)"
      ]
     },
     "execution_count": 170,
     "metadata": {},
     "output_type": "execute_result"
    }
   ],
   "source": [
    "a.shape"
   ]
  },
  {
   "cell_type": "code",
   "execution_count": 168,
   "id": "b7db283a-f530-4e43-aab3-e8a2447c287c",
   "metadata": {},
   "outputs": [
    {
     "data": {
      "text/plain": [
       "(3, 2, 4)"
      ]
     },
     "execution_count": 168,
     "metadata": {},
     "output_type": "execute_result"
    }
   ],
   "source": [
    "a.swapaxes(0, 1).shape"
   ]
  },
  {
   "cell_type": "code",
   "execution_count": 171,
   "id": "c8c2bea0-6171-464f-8f76-791f45078712",
   "metadata": {},
   "outputs": [
    {
     "data": {
      "text/plain": [
       "[[[0, 1, 2, 3], [4, 5, 6, 7], [8, 9, 10, 11]],\n",
       " [[12, 13, 14, 15], [16, 17, 18, 19], [20, 21, 22, 23]]]"
      ]
     },
     "execution_count": 171,
     "metadata": {},
     "output_type": "execute_result"
    }
   ],
   "source": [
    "a.tolist()"
   ]
  },
  {
   "cell_type": "code",
   "execution_count": 172,
   "id": "4fcc7201-18c8-4d41-8476-696ad2858741",
   "metadata": {},
   "outputs": [
    {
     "data": {
      "text/plain": [
       "array([16, 18, 20, 22])"
      ]
     },
     "execution_count": 172,
     "metadata": {},
     "output_type": "execute_result"
    }
   ],
   "source": [
    "a.trace()"
   ]
  },
  {
   "cell_type": "code",
   "execution_count": 173,
   "id": "7c712dce-9673-406c-889d-7d003fe84f3f",
   "metadata": {},
   "outputs": [
    {
     "data": {
      "text/plain": [
       "6"
      ]
     },
     "execution_count": 173,
     "metadata": {},
     "output_type": "execute_result"
    }
   ],
   "source": [
    "b = np.array(\n",
    "    [\n",
    "        [1, 0, 0],\n",
    "        [1, 2, 0],\n",
    "        [1, 2, 3],\n",
    "    ]\n",
    ")\n",
    "b.trace()"
   ]
  },
  {
   "cell_type": "code",
   "execution_count": 177,
   "id": "d7769a90-edc9-4bac-9ea4-b89861234b79",
   "metadata": {},
   "outputs": [
    {
     "data": {
      "text/plain": [
       "array([[[ 0, 12],\n",
       "        [ 4, 16],\n",
       "        [ 8, 20]],\n",
       "\n",
       "       [[ 1, 13],\n",
       "        [ 5, 17],\n",
       "        [ 9, 21]],\n",
       "\n",
       "       [[ 2, 14],\n",
       "        [ 6, 18],\n",
       "        [10, 22]],\n",
       "\n",
       "       [[ 3, 15],\n",
       "        [ 7, 19],\n",
       "        [11, 23]]])"
      ]
     },
     "execution_count": 177,
     "metadata": {},
     "output_type": "execute_result"
    }
   ],
   "source": [
    "a.transpose()"
   ]
  },
  {
   "cell_type": "code",
   "execution_count": 178,
   "id": "a7f4e832-873a-4712-ba9e-6791febe53d0",
   "metadata": {},
   "outputs": [
    {
     "data": {
      "text/plain": [
       "47.916666666666664"
      ]
     },
     "execution_count": 178,
     "metadata": {},
     "output_type": "execute_result"
    }
   ],
   "source": [
    "a.var()"
   ]
  },
  {
   "cell_type": "code",
   "execution_count": 179,
   "id": "74a7353d-d293-46a2-b84b-b6fc19a65e87",
   "metadata": {},
   "outputs": [
    {
     "data": {
      "text/plain": [
       "True"
      ]
     },
     "execution_count": 179,
     "metadata": {},
     "output_type": "execute_result"
    }
   ],
   "source": [
    "a.std()**2 == a.var()"
   ]
  },
  {
   "cell_type": "markdown",
   "id": "7a6e92b8-38ee-4c22-a79b-7e9c3f47c616",
   "metadata": {},
   "source": [
    "## numpy が持つ定数および関数"
   ]
  },
  {
   "cell_type": "markdown",
   "id": "ba19f3aa-5bc6-4670-b4fc-a6cf72c68279",
   "metadata": {},
   "source": [
    "冒頭で記載いたしましたが，大別すると以下で，それぞれ見ていきます．\n",
    "- 無限大や円周率, ネイピア数など，数学演算で用いる特殊な数，および nan (None)\n",
    "- list と同等のスライスなどの操作\n",
    "- 配列生成／変形\n",
    "- 数学関数\n",
    "- 乱数の数列の生成\n",
    "- （ファイル読み込み／書き込み）・・・・大抵 pandas というライブラリを使うことが多いため省略"
   ]
  },
  {
   "cell_type": "markdown",
   "id": "24c203c3-872b-4c30-9183-6349e1a8f755",
   "metadata": {},
   "source": [
    "### 数学で意味のある定数"
   ]
  },
  {
   "cell_type": "markdown",
   "id": "367d6f31-2ec4-406e-8d9b-ce491877d527",
   "metadata": {},
   "source": [
    "数学演算で用いられる定数についても numpy はサポートしています．\n",
    "\n",
    "- `numpy.e`：ネイピア数（自然対数の底）\n",
    "- `numpy.euler_gamma`：オイラーの定数（調和級数が自然数の逆数の和）\n",
    "- `numpy.inf`：無限大\n",
    "- `numpy.nan`：nan\n",
    "- `numpy.pi`：円周率"
   ]
  },
  {
   "cell_type": "code",
   "execution_count": 185,
   "id": "8dab7e4d-d06a-4a7a-9e61-e05b6e94d99b",
   "metadata": {},
   "outputs": [
    {
     "data": {
      "text/plain": [
       "1.2246467991473532e-16j"
      ]
     },
     "execution_count": 185,
     "metadata": {},
     "output_type": "execute_result"
    }
   ],
   "source": [
    "np.e**(np.pi * 1j) + 1"
   ]
  },
  {
   "cell_type": "markdown",
   "id": "fdc3b3ba-3ac3-4b72-8629-1e49d6db9194",
   "metadata": {},
   "source": [
    "上記は数学的に，"
   ]
  },
  {
   "cell_type": "markdown",
   "id": "650cf08f-5bb0-4026-b819-ea1e10858b90",
   "metadata": {},
   "source": [
    "$$\n",
    "e^{\\pi i} + 1 = \\cos(\\pi) + i \\sin(\\pi) + 1 = 0\n",
    "$$"
   ]
  },
  {
   "cell_type": "markdown",
   "id": "74867584-4af5-4688-9d35-cec7c73b6c4c",
   "metadata": {},
   "source": [
    "ですが，数値計算上でもほとんど 0 になっていますね．"
   ]
  },
  {
   "cell_type": "markdown",
   "id": "56bb2ca2-d2f5-4fe9-beb5-be0c590da1dc",
   "metadata": {},
   "source": [
    "### 配列の生成"
   ]
  },
  {
   "cell_type": "markdown",
   "id": "9f32120c-6556-4b40-80d5-1ceba6e6ecb7",
   "metadata": {},
   "source": [
    "配列の生成や変形などを行う代表的なメソッドについて挙げていきます．  \n",
    "全てのサンプルコードを書くと膨大な量になるので，一部に絞ります．\n",
    "\n",
    "- `numpy.arange(start, stop, step, dtype=None)`：list(range()) と似ているが小数点を用いることが可能\n",
    "- `numpy.linspace(start, stop, num, endpoint)`：初期値と終わり値と個数から等間隔のデータを生成\n",
    "- `numpy.zeros(shape, dtype=None)`, `numpy.zeros_like(a, dtype=None)`：全要素が 0 の配列を生成\n",
    "- `numpy.ones(shape, dtype=None)`, `numpy.ones_like(a, dtype=None)`：全要素が 1 の配列を生成\n",
    "- `numpy.full(shape, fill_value, dtype=None)`, `numpy.full_like(a, fill_value, dtype=None)`：全要素が指定した定数の値である配列を生成\n",
    "- `numpy.copy(a)`：コピーを生成"
   ]
  },
  {
   "cell_type": "code",
   "execution_count": 188,
   "id": "60be6dae-e197-4507-a9d0-1fa744c67c72",
   "metadata": {},
   "outputs": [
    {
     "data": {
      "text/plain": [
       "array([0. , 0.1, 0.2, 0.3, 0.4, 0.5, 0.6, 0.7, 0.8, 0.9])"
      ]
     },
     "execution_count": 188,
     "metadata": {},
     "output_type": "execute_result"
    }
   ],
   "source": [
    "np.arange(0, 1, 0.1)"
   ]
  },
  {
   "cell_type": "code",
   "execution_count": 192,
   "id": "8ee5c526-9e58-4420-acb6-d4cab56b96ec",
   "metadata": {},
   "outputs": [
    {
     "data": {
      "text/plain": [
       "array([0.        , 0.11111111, 0.22222222, 0.33333333, 0.44444444,\n",
       "       0.55555556, 0.66666667, 0.77777778, 0.88888889, 1.        ])"
      ]
     },
     "execution_count": 192,
     "metadata": {},
     "output_type": "execute_result"
    }
   ],
   "source": [
    "np.linspace(start=0, stop=1, num=10)"
   ]
  },
  {
   "cell_type": "code",
   "execution_count": 193,
   "id": "425fdd40-a6a3-4b56-a0b8-d3afbbd53e68",
   "metadata": {},
   "outputs": [
    {
     "data": {
      "text/plain": [
       "array([0. , 0.1, 0.2, 0.3, 0.4, 0.5, 0.6, 0.7, 0.8, 0.9])"
      ]
     },
     "execution_count": 193,
     "metadata": {},
     "output_type": "execute_result"
    }
   ],
   "source": [
    "np.linspace(start=0, stop=1, num=10, endpoint=False)"
   ]
  },
  {
   "cell_type": "code",
   "execution_count": 194,
   "id": "5f5ca7d9-f153-4e6d-97dd-7b8632d3c468",
   "metadata": {},
   "outputs": [
    {
     "data": {
      "text/plain": [
       "array([[0., 0., 0., 0., 0.],\n",
       "       [0., 0., 0., 0., 0.]])"
      ]
     },
     "execution_count": 194,
     "metadata": {},
     "output_type": "execute_result"
    }
   ],
   "source": [
    "np.zeros((2, 5))"
   ]
  },
  {
   "cell_type": "code",
   "execution_count": 198,
   "id": "4e4e3afa-6f71-4176-bfac-13db33bc3ed4",
   "metadata": {},
   "outputs": [
    {
     "data": {
      "text/plain": [
       "array([[0. , 0.1, 0.2, 0.3, 0.4],\n",
       "       [0.5, 0.6, 0.7, 0.8, 0.9]])"
      ]
     },
     "execution_count": 198,
     "metadata": {},
     "output_type": "execute_result"
    }
   ],
   "source": [
    "b = np.arange(0,1,0.1).reshape((2,5))\n",
    "b"
   ]
  },
  {
   "cell_type": "code",
   "execution_count": 199,
   "id": "daffc550-d25e-4434-ba4e-39a61818bc29",
   "metadata": {},
   "outputs": [
    {
     "data": {
      "text/plain": [
       "array([[0., 0., 0., 0., 0.],\n",
       "       [0., 0., 0., 0., 0.]])"
      ]
     },
     "execution_count": 199,
     "metadata": {},
     "output_type": "execute_result"
    }
   ],
   "source": [
    "np.zeros_like(b)"
   ]
  },
  {
   "cell_type": "code",
   "execution_count": 200,
   "id": "9e927f51-bb96-4e2a-9cfc-1cb55559a4fa",
   "metadata": {},
   "outputs": [
    {
     "data": {
      "text/plain": [
       "array([[-1, -1, -1, -1, -1],\n",
       "       [-1, -1, -1, -1, -1]])"
      ]
     },
     "execution_count": 200,
     "metadata": {},
     "output_type": "execute_result"
    }
   ],
   "source": [
    "np.full(shape=(2, 5), fill_value=-1)"
   ]
  },
  {
   "cell_type": "markdown",
   "id": "e3ac04b1-3826-4b0c-8784-6f472340822e",
   "metadata": {},
   "source": [
    "### 配列の変形や結合など"
   ]
  },
  {
   "cell_type": "markdown",
   "id": "81fb4d33-9d31-4cbe-82b5-ffda1d089b56",
   "metadata": {},
   "source": [
    "基本的には numpy.ndarray におけるメソッドとほとんど同じで，第一引数に配列オブジェクトをとるくらいで少し書き方が違うだけです．  \n",
    "例えば，reshape については，"
   ]
  },
  {
   "cell_type": "code",
   "execution_count": 202,
   "id": "5e5cccb1-1cef-4d0c-aa53-cd619c3dd338",
   "metadata": {},
   "outputs": [
    {
     "data": {
      "text/plain": [
       "array([[0. , 0.1, 0.2, 0.3, 0.4],\n",
       "       [0.5, 0.6, 0.7, 0.8, 0.9]])"
      ]
     },
     "execution_count": 202,
     "metadata": {},
     "output_type": "execute_result"
    }
   ],
   "source": [
    "a = np.arange(0, 1, 0.1)\n",
    "a.reshape((2, 5))"
   ]
  },
  {
   "cell_type": "code",
   "execution_count": 203,
   "id": "85eb0b23-1815-4078-acfb-c22713371273",
   "metadata": {},
   "outputs": [
    {
     "data": {
      "text/plain": [
       "array([[0. , 0.1, 0.2, 0.3, 0.4],\n",
       "       [0.5, 0.6, 0.7, 0.8, 0.9]])"
      ]
     },
     "execution_count": 203,
     "metadata": {},
     "output_type": "execute_result"
    }
   ],
   "source": [
    "np.reshape(a, (2,5))"
   ]
  },
  {
   "cell_type": "markdown",
   "id": "c0932629-da06-45a6-ba02-7fd131e9a6b3",
   "metadata": {},
   "source": [
    "しかし，メソッドに無い操作もあり，代表格は以下です．\n",
    "\n",
    "- `numpy.concatenate(a, axis=0, dtype=None)`：配列を結合する\n",
    "- `numpy.tile(a, reps)`：reps 分複製した配列を結合させる\n",
    "- `numpy.append(a, values)`：リストの append と同じ（numpy のほうが遅いのであまり使わない）\n",
    "- `numpy.unique(a, return_index=False, return_inverse=False)`：重複する要素が消された配列を返す\n",
    "- `numpy.flip(a, axis=None)`：配列を反転させる\n",
    "- `numpy.roll(a, shift, axis=None)`：配列の形状をそのままで要素をずらす\n",
    "- `numpy.rot90(a, k=1)`：配列を回転させる"
   ]
  },
  {
   "cell_type": "code",
   "execution_count": 217,
   "id": "8efa66d4-26e9-49c1-8094-7d33c198af22",
   "metadata": {},
   "outputs": [
    {
     "data": {
      "text/plain": [
       "array([[0, 1],\n",
       "       [2, 3],\n",
       "       [4, 5]])"
      ]
     },
     "execution_count": 217,
     "metadata": {},
     "output_type": "execute_result"
    }
   ],
   "source": [
    "a = np.array([[0, 1], [2, 3]])\n",
    "b = np.array([[4, 5]])\n",
    "np.concatenate((a,b))"
   ]
  },
  {
   "cell_type": "code",
   "execution_count": 220,
   "id": "3f22b332-7fc3-4692-b30d-1924a120e08a",
   "metadata": {},
   "outputs": [
    {
     "data": {
      "text/plain": [
       "array([[0, 1, 4],\n",
       "       [2, 3, 5]])"
      ]
     },
     "execution_count": 220,
     "metadata": {},
     "output_type": "execute_result"
    }
   ],
   "source": [
    "np.concatenate((a, b.T), axis=1)"
   ]
  },
  {
   "cell_type": "code",
   "execution_count": 221,
   "id": "1b533264-2cd8-405d-af0f-b32f3b25c81a",
   "metadata": {},
   "outputs": [
    {
     "data": {
      "text/plain": [
       "array([0, 1, 0, 1])"
      ]
     },
     "execution_count": 221,
     "metadata": {},
     "output_type": "execute_result"
    }
   ],
   "source": [
    "np.tile([0,1], 2)"
   ]
  },
  {
   "cell_type": "code",
   "execution_count": 223,
   "id": "5f3cb7b9-118b-4ef0-8206-6d27d5841fd6",
   "metadata": {},
   "outputs": [
    {
     "data": {
      "text/plain": [
       "array([ -1,   1,  10, 100])"
      ]
     },
     "execution_count": 223,
     "metadata": {},
     "output_type": "execute_result"
    }
   ],
   "source": [
    "a = np.array([10, 1, 1, 10, 100, -1])\n",
    "np.unique(a)"
   ]
  },
  {
   "cell_type": "code",
   "execution_count": 224,
   "id": "cc010f55-0596-4bfd-ac44-cda3e3f6a993",
   "metadata": {},
   "outputs": [
    {
     "data": {
      "text/plain": [
       "(array([ -1,   1,  10, 100]), array([5, 1, 0, 4], dtype=int64))"
      ]
     },
     "execution_count": 224,
     "metadata": {},
     "output_type": "execute_result"
    }
   ],
   "source": [
    "np.unique(a, return_index=True)"
   ]
  },
  {
   "cell_type": "code",
   "execution_count": 226,
   "id": "3d333423-c54b-4aa1-b761-64a6d679c991",
   "metadata": {},
   "outputs": [
    {
     "data": {
      "text/plain": [
       "array([[0, 1, 2],\n",
       "       [3, 4, 5],\n",
       "       [6, 7, 8]])"
      ]
     },
     "execution_count": 226,
     "metadata": {},
     "output_type": "execute_result"
    }
   ],
   "source": [
    "a = np.arange(9).reshape((3,3))\n",
    "a"
   ]
  },
  {
   "cell_type": "code",
   "execution_count": 227,
   "id": "dadee248-c804-4202-8e39-4cb399b1040b",
   "metadata": {},
   "outputs": [
    {
     "data": {
      "text/plain": [
       "array([[8, 7, 6],\n",
       "       [5, 4, 3],\n",
       "       [2, 1, 0]])"
      ]
     },
     "execution_count": 227,
     "metadata": {},
     "output_type": "execute_result"
    }
   ],
   "source": [
    "np.flip(a)"
   ]
  },
  {
   "cell_type": "code",
   "execution_count": 234,
   "id": "3825e0da-e532-4bf8-bdde-45f9786fda80",
   "metadata": {},
   "outputs": [
    {
     "data": {
      "text/plain": [
       "array([[6, 7, 8],\n",
       "       [3, 4, 5],\n",
       "       [0, 1, 2]])"
      ]
     },
     "execution_count": 234,
     "metadata": {},
     "output_type": "execute_result"
    }
   ],
   "source": [
    "np.flip(a, axis=0)"
   ]
  },
  {
   "cell_type": "code",
   "execution_count": 235,
   "id": "9b42fa4c-d4c7-42cc-9eab-398517c24f2f",
   "metadata": {},
   "outputs": [
    {
     "data": {
      "text/plain": [
       "array([[2, 1, 0],\n",
       "       [5, 4, 3],\n",
       "       [8, 7, 6]])"
      ]
     },
     "execution_count": 235,
     "metadata": {},
     "output_type": "execute_result"
    }
   ],
   "source": [
    "np.flip(a, axis=1)"
   ]
  },
  {
   "cell_type": "code",
   "execution_count": 238,
   "id": "28d6a985-6568-40ff-91f5-6be6f32ddbe5",
   "metadata": {},
   "outputs": [
    {
     "data": {
      "text/plain": [
       "array([[8, 0, 1],\n",
       "       [2, 3, 4],\n",
       "       [5, 6, 7]])"
      ]
     },
     "execution_count": 238,
     "metadata": {},
     "output_type": "execute_result"
    }
   ],
   "source": [
    "np.roll(a, shift=1)"
   ]
  },
  {
   "cell_type": "code",
   "execution_count": 239,
   "id": "8e062c5c-df08-479b-8994-ac1932fd8d43",
   "metadata": {},
   "outputs": [
    {
     "data": {
      "text/plain": [
       "array([[6, 7, 8],\n",
       "       [0, 1, 2],\n",
       "       [3, 4, 5]])"
      ]
     },
     "execution_count": 239,
     "metadata": {},
     "output_type": "execute_result"
    }
   ],
   "source": [
    "np.roll(a, shift=1, axis=0)"
   ]
  },
  {
   "cell_type": "code",
   "execution_count": 240,
   "id": "98315f7e-a409-4bef-a933-cf98b2202329",
   "metadata": {},
   "outputs": [
    {
     "data": {
      "text/plain": [
       "array([[2, 0, 1],\n",
       "       [5, 3, 4],\n",
       "       [8, 6, 7]])"
      ]
     },
     "execution_count": 240,
     "metadata": {},
     "output_type": "execute_result"
    }
   ],
   "source": [
    "np.roll(a, shift=1, axis=1)"
   ]
  },
  {
   "cell_type": "code",
   "execution_count": 242,
   "id": "4bba5a19-6ce5-4ae8-bbcc-2815b144aaae",
   "metadata": {},
   "outputs": [
    {
     "data": {
      "text/plain": [
       "array([[2, 5, 8],\n",
       "       [1, 4, 7],\n",
       "       [0, 3, 6]])"
      ]
     },
     "execution_count": 242,
     "metadata": {},
     "output_type": "execute_result"
    }
   ],
   "source": [
    "np.rot90(a)"
   ]
  },
  {
   "cell_type": "code",
   "execution_count": 251,
   "id": "86ea73b7-15c6-466c-9e4e-f832654b70f3",
   "metadata": {},
   "outputs": [
    {
     "data": {
      "text/plain": [
       "array([[8, 7, 6],\n",
       "       [5, 4, 3],\n",
       "       [2, 1, 0]])"
      ]
     },
     "execution_count": 251,
     "metadata": {},
     "output_type": "execute_result"
    }
   ],
   "source": [
    "np.rot90(a, k=2)"
   ]
  },
  {
   "cell_type": "markdown",
   "id": "e38e1183-7763-495f-86b3-6a9b118233f8",
   "metadata": {},
   "source": [
    "## 数学関数"
   ]
  },
  {
   "cell_type": "markdown",
   "id": "6af64d21-4ee1-41b1-bd76-1462d29b1d4b",
   "metadata": {},
   "source": [
    "numpy の数学関数は豊富で，かつ，引数に配列を取ることができ，全ての要素に適用されるため強力です．  \n",
    "以下を用いることができます（メソッドで使用可のものは除いています）．\n",
    "\n",
    "- `numpy.sin(x)`：sin x\n",
    "- `numpy.cos(x)`：cos x\n",
    "- `numpy.tan(x)`：tan x\n",
    "- `numpy.arcsin(x)`：arcsin x\n",
    "- `numpy.arccos(x)`：arccos x\n",
    "- `numpy.arctan(x)`：arctan x\n",
    "- `numpy.deg2rad(x)`：degree から radian に変換\n",
    "- `numpy.rad2deg(x)`：radian から degree に変換\n",
    "- `numpy.sinh(x)`：sinh x\n",
    "- `numpy.conh(x)`：cosh x\n",
    "- `numpy.tanh(x)`：tanh x\n",
    "- `numpy.arcsinh(x)`：arcsinh x\n",
    "- `numpy.arccosh(x)`：arccosh x\n",
    "- `numpy.arctanh(x)`：arctanh x\n",
    "- `numpy.floor(x)`：床関数\n",
    "- `numpy.ceil(x)`：天井関数\n",
    "- `numpy.trunc(x)`：小数点以下切り捨てた配列を返す\n",
    "- `numpy.exp(x)`：e の x 乗\n",
    "- `numpy.log(x)`：自然対数\n",
    "- `numpy.log10(x)`：常用対数\n",
    "- `numpy.log2(x)`：log2 x\n",
    "- `numpy.abs(x)`：絶対値を返す\n",
    "- `numpy.gradient(f, axis=None, edge_order=1)`：中心差分を用いて配列の傾きを返す\n",
    "- `numpy.dot(a)`：行列の積を返す\n",
    "- `numpy.cross(a)`：行列の外積を返す\n",
    "- `numpy.trapz(y, x=None, dx=1.0, axis=-1)`：台形積分値を返す\n",
    "\n",
    "見たまんまの関数が多いですが，gradient と trapz は引数が多いので，以下に例を示します．"
   ]
  },
  {
   "cell_type": "code",
   "execution_count": 18,
   "id": "4b25cf32-0953-43d1-8c87-83aed3922878",
   "metadata": {
    "tags": []
   },
   "outputs": [
    {
     "data": {
      "text/plain": [
       "array([0, 1, 2, 3, 4, 5, 6, 7, 8, 9])"
      ]
     },
     "execution_count": 18,
     "metadata": {},
     "output_type": "execute_result"
    }
   ],
   "source": [
    "x = np.arange(0, 10, 1)\n",
    "y = x**2\n",
    "x"
   ]
  },
  {
   "cell_type": "code",
   "execution_count": 19,
   "id": "e47c4d58-9f1d-4d99-86c0-54a1a8c72dd2",
   "metadata": {},
   "outputs": [
    {
     "data": {
      "text/plain": [
       "array([ 0,  1,  4,  9, 16, 25, 36, 49, 64, 81], dtype=int32)"
      ]
     },
     "execution_count": 19,
     "metadata": {},
     "output_type": "execute_result"
    }
   ],
   "source": [
    "y"
   ]
  },
  {
   "cell_type": "code",
   "execution_count": 20,
   "id": "71fa23a2-0073-4eba-8ae8-2ea78c1b934e",
   "metadata": {},
   "outputs": [
    {
     "data": {
      "text/plain": [
       "array([ 1.,  2.,  4.,  6.,  8., 10., 12., 14., 16., 17.])"
      ]
     },
     "execution_count": 20,
     "metadata": {},
     "output_type": "execute_result"
    }
   ],
   "source": [
    "np.gradient(y, axis=0)"
   ]
  },
  {
   "cell_type": "code",
   "execution_count": 32,
   "id": "f9c29dd2-cfcd-4c5e-8107-53630faaaa3d",
   "metadata": {},
   "outputs": [
    {
     "data": {
      "text/plain": [
       "2.0"
      ]
     },
     "execution_count": 32,
     "metadata": {},
     "output_type": "execute_result"
    }
   ],
   "source": [
    "x = np.arange(0, 2+1, 1)\n",
    "y = x\n",
    "np.trapz(y, x=x)"
   ]
  },
  {
   "cell_type": "markdown",
   "id": "ad759ac6-b569-4f18-8da1-88becc393bc1",
   "metadata": {},
   "source": [
    "$$\n",
    "    2 \\int_{-1}^{1} \\sqrt{1 - x^2} dx = \\pi\n",
    "$$"
   ]
  },
  {
   "cell_type": "markdown",
   "id": "5f787c26-14b0-48ab-979c-b08d5597cc73",
   "metadata": {},
   "source": [
    "これについて台形公式で計算してみると，"
   ]
  },
  {
   "cell_type": "code",
   "execution_count": 56,
   "id": "a48119a7-6d20-4036-8282-d8f116ce03cf",
   "metadata": {},
   "outputs": [
    {
     "data": {
      "text/plain": [
       "3.1415926534846044"
      ]
     },
     "execution_count": 56,
     "metadata": {},
     "output_type": "execute_result"
    }
   ],
   "source": [
    "x = np.linspace(-1, 1, num=10000000, endpoint=True)\n",
    "y = 2 * (1-x**2)**(1/2)\n",
    "circle_area = np.trapz(y, x=x)\n",
    "circle_area"
   ]
  },
  {
   "cell_type": "code",
   "execution_count": 57,
   "id": "98617aff-d01e-49a4-b078-80b0d8092ad5",
   "metadata": {},
   "outputs": [
    {
     "data": {
      "text/plain": [
       "1.0518874660192523e-10"
      ]
     },
     "execution_count": 57,
     "metadata": {},
     "output_type": "execute_result"
    }
   ],
   "source": [
    "np.pi*1**2 - circle_area"
   ]
  },
  {
   "cell_type": "markdown",
   "id": "5a9b4ec9-005b-4f6e-a780-4066a4c22fbd",
   "metadata": {},
   "source": [
    "台形積分の精度としてはこんなもんでしょう．  "
   ]
  },
  {
   "cell_type": "markdown",
   "id": "e8807052-ae8e-45ba-9267-a2aa253b7070",
   "metadata": {},
   "source": [
    "## 乱数生成"
   ]
  },
  {
   "cell_type": "markdown",
   "id": "64c455a2-654d-41fd-9e13-cedb671c47aa",
   "metadata": {},
   "source": [
    "v1.17.0 までは np.random.rand のようにメソッドで乱数を取得する書き方ですが，v1.17.0 以降は処理高速化のために，一旦，乱数を返すジェネレータを生成してから配列を返すという使い方が一般的な書き方となりました（実は僕も古い手法しか知りませんでした）．  \n",
    "まずは，以下のようにランダムジェネレータを生成します．"
   ]
  },
  {
   "cell_type": "code",
   "execution_count": 58,
   "id": "776fdd62-c670-44c6-acfd-6a24ec9bbd89",
   "metadata": {},
   "outputs": [
    {
     "data": {
      "text/plain": [
       "Generator(PCG64) at 0x2A21D73E660"
      ]
     },
     "execution_count": 58,
     "metadata": {},
     "output_type": "execute_result"
    }
   ],
   "source": [
    "rng = np.random.default_rng(seed=0)\n",
    "rng"
   ]
  },
  {
   "cell_type": "markdown",
   "id": "c70e5901-aa26-4e08-be47-16a5245bd907",
   "metadata": {},
   "source": [
    "ここで，seed はランダムシードで，これを設定しておくことで乱数生成の再現性が担保されます．  \n",
    "また，乱数発生器はデフォルトで PCG-64 というものを用いられています．  \n",
    "もし変更されたい場合は，公式ドキュメント (https://numpy.org/doc/stable/reference/random/bit_generators/index.html) を参照下さい．\n",
    "\n",
    "さて，上記で作成したジェネレータに対して（抜粋しましたが）以下のメソッドを適用することで，乱数の配列が得られます．\n",
    "\n",
    "- `.integers(low, high=None, size=None, dtype=np.int64, endpoint=False)`：指定した範囲の整数の乱数の size で指定した形状の配列を生成\n",
    "- `.random(size=None, dtype=np.float64)`：0 以上 1 未満の乱数の配列を生成\n",
    "- `.choice(a, size=None, replace=True, p=None, axis=0, shuffle=True)`：a で指定した配列の中から，size の形状になるように，要素を確率 p を用いて選出した配列を生成\n",
    "- `.permutation(x, axis=0)`：x が配列の場合は，この配列の順序がランダムに入れ替えられた配列を返す（x が int の場合は，list(range(x))）\n",
    "- `.normal(loc=0.0, scale=1.0, size=None)`：正規分布から乱数の配列を生成（loc は分布の平均値，scale は標準偏差に相当）\n",
    "- `.uniform(low=0.0, high=1.0, size=None)`：指定した範囲の一様正規分布から乱数の配列を生成\n",
    "\n",
    "他にも，カイ2乗分布に沿ってランダムに値を取得するメソッドなどもありますが，割愛します．"
   ]
  },
  {
   "cell_type": "code",
   "execution_count": 68,
   "id": "7db522f8-8fb3-416d-b1a0-d1643caae8ca",
   "metadata": {},
   "outputs": [
    {
     "data": {
      "text/plain": [
       "array([63, 54, 55, 93, 27, 81, 67,  0, 39, 85], dtype=int64)"
      ]
     },
     "execution_count": 68,
     "metadata": {},
     "output_type": "execute_result"
    }
   ],
   "source": [
    "rng.integers(100, size=10)"
   ]
  },
  {
   "cell_type": "code",
   "execution_count": 75,
   "id": "10a9cd7c-9390-4075-ae3c-e6a8626bd5d0",
   "metadata": {},
   "outputs": [
    {
     "data": {
      "text/plain": [
       "array([[-1, -2, -2],\n",
       "       [-1,  0, -1]], dtype=int64)"
      ]
     },
     "execution_count": 75,
     "metadata": {},
     "output_type": "execute_result"
    }
   ],
   "source": [
    "rng.integers(low=-2, high=0, size=(2, 3), endpoint=True)"
   ]
  },
  {
   "cell_type": "code",
   "execution_count": 76,
   "id": "fdd41a1f-6fce-428b-bde8-752367194059",
   "metadata": {},
   "outputs": [
    {
     "data": {
      "text/plain": [
       "array([[0.23936944, 0.87648423, 0.05856803, 0.33611706, 0.15027947],\n",
       "       [0.45033937, 0.79632427, 0.23064221, 0.0520213 , 0.40455184]])"
      ]
     },
     "execution_count": 76,
     "metadata": {},
     "output_type": "execute_result"
    }
   ],
   "source": [
    "rng.random(size=(2,5))"
   ]
  },
  {
   "cell_type": "code",
   "execution_count": 77,
   "id": "55dae0f4-ba87-4a3e-be8f-c731f0b93a30",
   "metadata": {},
   "outputs": [
    {
     "data": {
      "text/plain": [
       "array([[123, 123,   1],\n",
       "       [123,   1,  12]])"
      ]
     },
     "execution_count": 77,
     "metadata": {},
     "output_type": "execute_result"
    }
   ],
   "source": [
    "rng.choice([1, 12, 123], size=(2,3))"
   ]
  },
  {
   "cell_type": "code",
   "execution_count": 85,
   "id": "b282d23e-61e0-49fb-90df-a1e5ffddd40d",
   "metadata": {},
   "outputs": [
    {
     "data": {
      "text/plain": [
       "array([[123, 123,   1],\n",
       "       [123, 123, 123]])"
      ]
     },
     "execution_count": 85,
     "metadata": {},
     "output_type": "execute_result"
    }
   ],
   "source": [
    "rng.choice([1, 12, 123], size=(2,3), p=[0.3, 0.0, 0.7])"
   ]
  },
  {
   "cell_type": "code",
   "execution_count": 89,
   "id": "29ad1b17-3ba8-453a-a5fe-ba4958a7cdae",
   "metadata": {},
   "outputs": [
    {
     "data": {
      "text/plain": [
       "array([0, 1, 2])"
      ]
     },
     "execution_count": 89,
     "metadata": {},
     "output_type": "execute_result"
    }
   ],
   "source": [
    "rng.permutation(3)"
   ]
  },
  {
   "cell_type": "code",
   "execution_count": 94,
   "id": "bae1cf68-7aa7-4fcb-8049-c81e71cfa6c8",
   "metadata": {},
   "outputs": [
    {
     "data": {
      "text/plain": [
       "array([0, 0, 1, 0, 0])"
      ]
     },
     "execution_count": 94,
     "metadata": {},
     "output_type": "execute_result"
    }
   ],
   "source": [
    "rng.permutation([0, 0, 0, 0, 1])"
   ]
  },
  {
   "cell_type": "code",
   "execution_count": 101,
   "id": "9621abac-69ae-4512-95f4-77d51f9e20f0",
   "metadata": {},
   "outputs": [
    {
     "data": {
      "text/plain": [
       "array(['red', 'red', 'red', 'white', 'red'], dtype='<U5')"
      ]
     },
     "execution_count": 101,
     "metadata": {},
     "output_type": "execute_result"
    }
   ],
   "source": [
    "rng.permutation([\"red\", \"red\", \"red\", \"red\", \"white\"])"
   ]
  },
  {
   "cell_type": "code",
   "execution_count": 105,
   "id": "53f55ac1-d0de-451e-9586-78baef5e1016",
   "metadata": {},
   "outputs": [
    {
     "data": {
      "text/plain": [
       "array([1.22868372, 0.33962001, 0.42377135, 0.37122742, 0.38275716])"
      ]
     },
     "execution_count": 105,
     "metadata": {},
     "output_type": "execute_result"
    }
   ],
   "source": [
    "rng.normal(size=5)"
   ]
  },
  {
   "cell_type": "code",
   "execution_count": 106,
   "id": "747a663f-b512-4a17-9418-ce6eca586393",
   "metadata": {},
   "outputs": [
    {
     "data": {
      "text/plain": [
       "array([0.82270628, 0.41538404, 0.82980399, 0.00995456, 0.36504616])"
      ]
     },
     "execution_count": 106,
     "metadata": {},
     "output_type": "execute_result"
    }
   ],
   "source": [
    "rng.uniform(size=5)"
   ]
  },
  {
   "cell_type": "markdown",
   "id": "9473c4cb-7bdd-4a6e-86b5-078e10937b44",
   "metadata": {},
   "source": [
    "実は numpy でもテンソル代数学的計算だったり FFT (Fast Fourier Transformation) などもできるのですが，計算処理速度の観点から scipy というライブラリの方が良く用いるため，単純な数学演算や配列生成には numpy，複雑な数学演算については scipy という風に使い分けることをお勧めします．  \n",
    "SciPy については今回は割愛します．"
   ]
  },
  {
   "cell_type": "markdown",
   "id": "d712c331-651b-4bda-8373-4c739491a977",
   "metadata": {},
   "source": [
    "## 演習問題"
   ]
  },
  {
   "cell_type": "markdown",
   "id": "82426159-5dde-4fec-8967-cfb7bda9585f",
   "metadata": {},
   "source": [
    "以前解いた内包表記の演習問題について，numpy を使って計算してみましょう．  \n",
    "簡単になってると思います．\n",
    "\n",
    "- Q.1: numpy を用いた1つの処理式で，1 から 1000 までの 5 の倍数の総和を求めてください．\n",
    "- Q.2: numpy を用いた1つの処理式で，1 から 100 まで連続した 100 個の整数に対する標準偏差を求めてください．ここで，データの個数を $n$, i番目のデータを $x_i$, データの平均を $\\bar{x}$ とすると，標準偏差 $\\sigma$ は，\n",
    "\n",
    "$$\n",
    "\\sigma = \\sqrt{\\frac{1}{n} \\sum_{i=1}^n (x_i - \\bar{x})^2}\n",
    "$$\n",
    "\n",
    "で計算されます．\n",
    "\n",
    "- Q.3: y = sin(x) について，0 から 2$\\pi$ まで台形公式で積分してみましょう．この時，x 方向の微小分割幅は 1e-6 とし，出力は小数点第 6 位までになるよう偶数丸めしてください．\n",
    "- Q.4: サイコロを 1 度に 2 個振って，目が 2 個とも 1 である確率は 1 / 36 ですが，実際に 1,000,000 回サイコロを振ってもちろん乱数を使って）試してみましょう．"
   ]
  },
  {
   "cell_type": "code",
   "execution_count": null,
   "id": "4387088a-bcc9-41d2-9a6e-2f5216387f74",
   "metadata": {},
   "outputs": [],
   "source": []
  }
 ],
 "metadata": {
  "kernelspec": {
   "display_name": "Python 3 (ipykernel)",
   "language": "python",
   "name": "python3"
  },
  "language_info": {
   "codemirror_mode": {
    "name": "ipython",
    "version": 3
   },
   "file_extension": ".py",
   "mimetype": "text/x-python",
   "name": "python",
   "nbconvert_exporter": "python",
   "pygments_lexer": "ipython3",
   "version": "3.9.9"
  }
 },
 "nbformat": 4,
 "nbformat_minor": 5
}
