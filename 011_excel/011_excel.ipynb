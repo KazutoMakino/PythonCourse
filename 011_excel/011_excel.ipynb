{
  "cells": [
    {
      "cell_type": "markdown",
      "metadata": {},
      "source": [
        "# Python \u3067 excel \u3092\u534a\u81ea\u52d5\u5316\n",
        "\n",
        "- ref: https://openpyxl.readthedocs.io/en/stable/\n",
        "- blog: https://slash-z.com/\n",
        "- github: https://github.com/KazutoMakino/PythonCourses\n",
        "\n",
        "---"
      ]
    },
    {
      "cell_type": "markdown",
      "metadata": {},
      "source": [
        "## \u30e9\u30a4\u30d6\u30e9\u30ea\u306e\u30a4\u30f3\u30b9\u30c8\u30fc\u30eb"
      ]
    },
    {
      "cell_type": "markdown",
      "metadata": {},
      "source": [
        "\u4ee5\u4e0b\u3067 pip install \u3057\u307e\u3057\u3087\u3046\uff0e"
      ]
    },
    {
      "cell_type": "markdown",
      "metadata": {},
      "source": [
        "```bash\n",
        "pip install numpy pandas openpyxl xlrd xlwt\n",
        "```"
      ]
    },
    {
      "cell_type": "markdown",
      "metadata": {},
      "source": [
        "## \u66f8\u304d\u8fbc\u307f\u30fb\u8aad\u307f\u8fbc\u307f\u306f pandas / openpyxl"
      ]
    },
    {
      "cell_type": "markdown",
      "metadata": {},
      "source": [
        "excel \u30d5\u30a1\u30a4\u30eb\u3078\u306e\u66f8\u304d\u8fbc\u307f\uff0c\u53ca\u3073 excel \u30d5\u30a1\u30a4\u30eb\u306e\u8aad\u307f\u8fbc\u307f\u306f\uff0cpandas / openpyxl \u3092\u7528\u3044\u308b\u3053\u3068\u3067\u53ef\u80fd\u3067\u3059\uff0e  \n",
        "\u307e\u305a\u306f\uff0c\u66f8\u304d\u8fbc\u3080\u7528\u306e\u30c7\u30fc\u30bf\u3092\uff0c\u4f8b\u3048\u3070\u4ee5\u4e0b\u306b\u3066\u751f\u6210\u3057\u307e\u3059\uff0e"
      ]
    },
    {
      "cell_type": "code",
      "execution_count": 2,
      "metadata": {},
      "outputs": [],
      "source": [
        "import pandas as pd\n",
        "import numpy as np"
      ]
    },
    {
      "cell_type": "code",
      "execution_count": 3,
      "metadata": {},
      "outputs": [
        {
          "data": {
            "text/html": [
              "<div>\n",
              "<style scoped>\n",
              "    .dataframe tbody tr th:only-of-type {\n",
              "        vertical-align: middle;\n",
              "    }\n",
              "\n",
              "    .dataframe tbody tr th {\n",
              "        vertical-align: top;\n",
              "    }\n",
              "\n",
              "    .dataframe thead th {\n",
              "        text-align: right;\n",
              "    }\n",
              "</style>\n",
              "<table border=\"1\" class=\"dataframe\">\n",
              "  <thead>\n",
              "    <tr style=\"text-align: right;\">\n",
              "      <th></th>\n",
              "      <th>0</th>\n",
              "      <th>1</th>\n",
              "      <th>2</th>\n",
              "      <th>3</th>\n",
              "      <th>4</th>\n",
              "    </tr>\n",
              "  </thead>\n",
              "  <tbody>\n",
              "    <tr>\n",
              "      <th>0</th>\n",
              "      <td>0</td>\n",
              "      <td>1</td>\n",
              "      <td>2</td>\n",
              "      <td>3</td>\n",
              "      <td>4</td>\n",
              "    </tr>\n",
              "    <tr>\n",
              "      <th>1</th>\n",
              "      <td>5</td>\n",
              "      <td>6</td>\n",
              "      <td>7</td>\n",
              "      <td>8</td>\n",
              "      <td>9</td>\n",
              "    </tr>\n",
              "    <tr>\n",
              "      <th>2</th>\n",
              "      <td>10</td>\n",
              "      <td>11</td>\n",
              "      <td>12</td>\n",
              "      <td>13</td>\n",
              "      <td>14</td>\n",
              "    </tr>\n",
              "    <tr>\n",
              "      <th>3</th>\n",
              "      <td>15</td>\n",
              "      <td>16</td>\n",
              "      <td>17</td>\n",
              "      <td>18</td>\n",
              "      <td>19</td>\n",
              "    </tr>\n",
              "  </tbody>\n",
              "</table>\n",
              "</div>"
            ],
            "text/plain": [
              "    0   1   2   3   4\n",
              "0   0   1   2   3   4\n",
              "1   5   6   7   8   9\n",
              "2  10  11  12  13  14\n",
              "3  15  16  17  18  19"
            ]
          },
          "execution_count": 3,
          "metadata": {},
          "output_type": "execute_result"
        }
      ],
      "source": [
        "df_src = pd.DataFrame(data=np.arange(0, 4*5).reshape(4, 5))\n",
        "df_src"
      ]
    },
    {
      "cell_type": "markdown",
      "metadata": {},
      "source": [
        "pandas \u3067\u306f\uff0cpandas.DataFrame \u30aa\u30d6\u30b8\u30a7\u30af\u30c8\u306b\u5bfe\u3057\u3066 .to_excel \u30e1\u30bd\u30c3\u30c9\u306b\u3088\u308a excel \u51fa\u529b\u304c\u53ef\u80fd\u3067\u3059\uff0e"
      ]
    },
    {
      "cell_type": "code",
      "execution_count": 4,
      "metadata": {},
      "outputs": [],
      "source": [
        "df_src.to_excel(\"./data_00.xlsx\")"
      ]
    },
    {
      "cell_type": "markdown",
      "metadata": {},
      "source": [
        "\u4e0a\u3067\u4f5c\u6210\u3057\u305f `data_00.xlsx` \u306b\u3064\u3044\u3066\uff0c\u65e9\u901f\u958b\u3044\u3066\u307f\u307e\u3057\u3087\u3046\uff0e  \n",
        "\u3082\u3061\u308d\u3093\uff0cexcel \u304c\u7121\u3044\u65b9\u306f\uff0c\u7121\u6599\u3067\u30a4\u30f3\u30b9\u30c8\u30fc\u30eb\u4e0d\u8981\u306a google \u306e\u30b9\u30d7\u30ec\u30c3\u30c9\u30b7\u30fc\u30c8\u306a\u3069\u3067\u3082\u554f\u984c\u3042\u308a\u307e\u305b\u3093\uff08\u50d5\u3082\u500b\u4eba\u6301\u3061 PC \u306b\u306f MS Office \u304c\u5165\u3063\u3066\u3044\u306a\u304f\uff0c\u8cfc\u5165\u6642\u306b\u4ed8\u5c5e\u3057\u3066\u3044\u305f KINGSOFT \u306e WPS Spredsheets \u306b\u3066\u4ee5\u4e0b\u52d5\u4f5c\u78ba\u8a8d\u3057\u3066\u3044\u307e\u3059\uff09\uff0e  \n",
        "\u624b\u6301\u3061\u306e\u30bd\u30d5\u30c8\u306e\u95a2\u4fc2\u4e0a\u306a\u3093\u304b\u7dd1\u8272\u306b\u5857\u3089\u308c\u3066\u3044\u307e\u3059\u304c\uff0c\u4ee5\u4e0b\u306e\u3088\u3046\u306a\u51fa\u529b\u304c\u5f97\u3089\u308c\u305f\u3068\u601d\u3044\u307e\u3059\uff0e"
      ]
    },
    {
      "cell_type": "markdown",
      "metadata": {},
      "source": [
        "![./img/data_00.jpg](./img/data_00.jpg)"
      ]
    },
    {
      "cell_type": "markdown",
      "metadata": {},
      "source": [
        "\u30a4\u30f3\u30c7\u30c3\u30af\u30b9\u3068\u30ab\u30e9\u30e0\u306e\u5148\u982d\u304c\u592a\u5b57\u3067\u7f6b\u7dda\u6709\u308a\u306b\u306a\u3063\u3066\u3044\u307e\u3059\u304c\uff0c\u4fee\u6b63\u65b9\u6cd5\u306b\u3064\u3044\u3066\u306f\u5f8c\u56de\u3057\u306b\u3057\u307e\u3059\uff0e  \n",
        ".to_excel \u306b\u3066\u884c\u756a\u53f7\u304c\u4e0d\u8981\u3067\u3042\u308c\u3070\uff0c\u5f15\u6570 index \u306b False \u3092\u6e21\u3059\u3053\u3068\u3067\u3053\u306e\u5217\u3092\u7121\u8996\u3067\u304d\u307e\u3059\uff0e"
      ]
    },
    {
      "cell_type": "code",
      "execution_count": 5,
      "metadata": {},
      "outputs": [],
      "source": [
        "df_src.to_excel(\"./data_01.xlsx\", index=False)"
      ]
    },
    {
      "cell_type": "markdown",
      "metadata": {},
      "source": [
        "![./img/data_01.jpg](./img/data_01.jpg)"
      ]
    },
    {
      "cell_type": "markdown",
      "metadata": {},
      "source": [
        "\u307e\u305f\uff0c\u5f15\u6570\u3067\u30b7\u30fc\u30c8\u540d\u3084\u30ab\u30e9\u30e0\u540d\u306a\u3057\u306a\u3069\u3044\u308d\u3044\u308d\u8a2d\u5b9a\u304c\u53ef\u80fd\u3067\u3059\u304c\uff0c\u4eca\u56de\u306f\u5272\u611b\u3057\u307e\u3059\uff0e  \n",
        "\u4f5c\u6210\u3057\u305f .xlsx \u30d5\u30a1\u30a4\u30eb\u306f\uff0cpandas.read_excel \u306b\u3066\u8aad\u307f\u8fbc\u3080\u3053\u3068\u304c\u3067\u304d\u307e\u3059 (https://pandas.pydata.org/docs/reference/api/pandas.DataFrame.to_excel.html)\uff0e"
      ]
    },
    {
      "cell_type": "code",
      "execution_count": 6,
      "metadata": {},
      "outputs": [
        {
          "data": {
            "text/html": [
              "<div>\n",
              "<style scoped>\n",
              "    .dataframe tbody tr th:only-of-type {\n",
              "        vertical-align: middle;\n",
              "    }\n",
              "\n",
              "    .dataframe tbody tr th {\n",
              "        vertical-align: top;\n",
              "    }\n",
              "\n",
              "    .dataframe thead th {\n",
              "        text-align: right;\n",
              "    }\n",
              "</style>\n",
              "<table border=\"1\" class=\"dataframe\">\n",
              "  <thead>\n",
              "    <tr style=\"text-align: right;\">\n",
              "      <th></th>\n",
              "      <th>0</th>\n",
              "      <th>1</th>\n",
              "      <th>2</th>\n",
              "      <th>3</th>\n",
              "      <th>4</th>\n",
              "    </tr>\n",
              "  </thead>\n",
              "  <tbody>\n",
              "    <tr>\n",
              "      <th>0</th>\n",
              "      <td>0</td>\n",
              "      <td>1</td>\n",
              "      <td>2</td>\n",
              "      <td>3</td>\n",
              "      <td>4</td>\n",
              "    </tr>\n",
              "    <tr>\n",
              "      <th>1</th>\n",
              "      <td>5</td>\n",
              "      <td>6</td>\n",
              "      <td>7</td>\n",
              "      <td>8</td>\n",
              "      <td>9</td>\n",
              "    </tr>\n",
              "    <tr>\n",
              "      <th>2</th>\n",
              "      <td>10</td>\n",
              "      <td>11</td>\n",
              "      <td>12</td>\n",
              "      <td>13</td>\n",
              "      <td>14</td>\n",
              "    </tr>\n",
              "    <tr>\n",
              "      <th>3</th>\n",
              "      <td>15</td>\n",
              "      <td>16</td>\n",
              "      <td>17</td>\n",
              "      <td>18</td>\n",
              "      <td>19</td>\n",
              "    </tr>\n",
              "  </tbody>\n",
              "</table>\n",
              "</div>"
            ],
            "text/plain": [
              "    0   1   2   3   4\n",
              "0   0   1   2   3   4\n",
              "1   5   6   7   8   9\n",
              "2  10  11  12  13  14\n",
              "3  15  16  17  18  19"
            ]
          },
          "execution_count": 6,
          "metadata": {},
          "output_type": "execute_result"
        }
      ],
      "source": [
        "tmp = pd.read_excel(\"./data_01.xlsx\")\n",
        "tmp"
      ]
    },
    {
      "cell_type": "markdown",
      "metadata": {},
      "source": [
        "\u975e\u5e38\u306b\u7c21\u5358\u3067\u3059\u306d\uff0e  \n",
        "\u3053\u308c\u307e\u305f\uff0c\u8aad\u307f\u8fbc\u3080\u30b7\u30fc\u30c8\u3092\u6307\u5b9a\u3067\u304d\u305f\u308a\uff0c\u8aad\u307f\u8fbc\u307f\u59cb\u3081\u308b\u5148\u982d\u3092\u6307\u5b9a\u3067\u304d\u305f\u308a\u3068\u3044\u3063\u305f\u8272\u3005\u306a\u64cd\u4f5c\u3092\uff0c\u5f15\u6570\u3092\u4e0e\u3048\u308b\u3053\u3068\u3067\u53ef\u80fd\u3068\u306a\u3063\u3066\u3044\u307e\u3059 (https://pandas.pydata.org/docs/reference/api/pandas.read_excel.html)\uff0e  \n",
        "\uff08pandas \u3092\u7528\u3044\u305f\u8907\u6570\u30b7\u30fc\u30c8\u3078\u306e\u4fdd\u5b58\u306f\u5f8c\u8ff0\u3057\u307e\u3059\uff09"
      ]
    },
    {
      "cell_type": "markdown",
      "metadata": {},
      "source": [
        "\u6b21\u306b openpyxl \u306b\u3088\u308b excel \u30d5\u30a1\u30a4\u30eb\u306e\u8aad\u307f\u66f8\u304d\u3067\u3059\uff0e  \n",
        "\u57fa\u672c\u7684\u306b\u306f openpyxl \u306e workbook \u3068\u3044\u3046 excel \u30d5\u30a1\u30a4\u30eb\u5168\u4f53\u3068\u306a\u308b\u30aa\u30d6\u30b8\u30a7\u30af\u30c8\u3092\u4f5c\u6210\u3057\uff0c\u3053\u306e\u5c5e\u6027\u306e sheet \u3068\u3044\u3046\u30b7\u30fc\u30c8\u306e\u4e2d\u306e cell \u3067\u3042\u3063\u305f\u308a\u8272\u3093\u306a\u5c5e\u6027\u3084\u30e1\u30bd\u30c3\u30c9\u3092\u64cd\u4f5c\u3057\u3066\u3044\u304f\u4f7f\u3044\u65b9\u3067\u3059\uff0e  \n",
        "\u307e\u305a\u306f\u30a4\u30f3\u30dd\u30fc\u30c8\u3057\u307e\u3057\u3087\u3046\uff0e  \n",
        "\u3088\u304f\u4f7f\u3046\u306e\u306f Workbook \u30af\u30e9\u30b9\u306a\u306e\u3067\uff0c\u306f\u3058\u3081\u306b\u3053\u308c\u3092\u30a4\u30f3\u30dd\u30fc\u30c8\u3057\u3066\u3044\u307e\u3059\uff0e"
      ]
    },
    {
      "cell_type": "code",
      "execution_count": 7,
      "metadata": {},
      "outputs": [],
      "source": [
        "from openpyxl import Workbook"
      ]
    },
    {
      "cell_type": "markdown",
      "metadata": {},
      "source": [
        "openpyxl \u3067 excel \u30d5\u30a1\u30a4\u30eb\u3092\u51fa\u529b\u3057\u3066\u307f\u307e\u3057\u3087\u3046\uff0e  \n",
        "\u6d41\u308c\u3068\u3057\u3066\u306f Workbook \u30aa\u30d6\u30b8\u30a7\u30af\u30c8\u3092\u5b9a\u7fa9\u3057\uff0c\u3053\u308c\u306b\u3064\u3044\u3066\u60c5\u5831\u3092\u4ed8\u52a0\u3057\u3066\u3044\u304d\uff0c.save \u30e1\u30bd\u30c3\u30c9\u306b\u3066\u30d5\u30a1\u30a4\u30eb\u51fa\u529b\u3057\u307e\u3059\uff0e"
      ]
    },
    {
      "cell_type": "code",
      "execution_count": 8,
      "metadata": {},
      "outputs": [],
      "source": [
        "# Workbook \u30aa\u30d6\u30b8\u30a7\u30af\u30c8\u3092\u5b9a\u7fa9\n",
        "wb = Workbook()\n",
        "# sheet \u30aa\u30d6\u30b8\u30a7\u30af\u30c8\u3092\u30a4\u30f3\u30b9\u30bf\u30f3\u30b9\u5316 (Workbook \u304c\u5b9a\u7fa9\u3055\u308c\u305f\u6642\u70b9\u3067 \"sheet\" \u3068\u3044\u3046\u30b7\u30fc\u30c8\u304c\u4f5c\u6210\u3055\u308c\u308b)\n",
        "ws = wb.active\n",
        "# \u3082\u3068\u304b\u3089\u3042\u308b \"sheet\" \u306e\u540d\u524d\u3092\u5909\u66f4\n",
        "ws.title = \"hello\"\n",
        "# \u756a\u5730 A1 \u306b world \u3092\u8a18\u5165\n",
        "ws[\"A1\"] = \"world\"\n",
        "# \u4fdd\u5b58\n",
        "wb.save(\"./data_02.xlsx\")"
      ]
    },
    {
      "cell_type": "markdown",
      "metadata": {},
      "source": [
        "![./img/data_02.jpg](./img/data_02.jpg)"
      ]
    },
    {
      "cell_type": "markdown",
      "metadata": {},
      "source": [
        "\u51fa\u529b\u3055\u308c\u305f\u30d5\u30a1\u30a4\u30eb\u3092\u898b\u308b\u3068\uff0chello \u3068\u3044\u3046\u540d\u524d\u306e\u30b7\u30fc\u30c8\u306e A1 \u306b world \u3068\u3044\u3046\u6587\u5b57\u5217\u304c\u8a18\u8f09\u3055\u308c\u3066\u3044\u307e\u3059\uff0e  \n",
        "\u30a4\u30f3\u30b9\u30bf\u30f3\u30b9\u5316\u3057\u305f Workbook \u30aa\u30d6\u30b8\u30a7\u30af\u30c8\u306b\u3064\u3044\u3066\uff0c\u5909\u306a\u64cd\u4f5c\u3092\u52a0\u3048\u305f\u304f\u306a\u3044\u5834\u5408\u306f\uff0c\u3044\u3063\u305f\u3093 .close() \u3057\u3066\u304a\u304d\u307e\u3057\u3087\u3046\uff0e"
      ]
    },
    {
      "cell_type": "code",
      "execution_count": 9,
      "metadata": {},
      "outputs": [],
      "source": [
        "wb.close()"
      ]
    },
    {
      "cell_type": "markdown",
      "metadata": {},
      "source": [
        "\u6b21\u306b\uff0c\u3053\u306e\u51fa\u529b\u3092 openpyxl \u3067\u8aad\u307f\u8fbc\u3093\u3067\u307f\u307e\u3057\u3087\u3046\uff0e  \n",
        "openpyxl \u306e load_workbook \u3092\u7528\u3044\u307e\u3059\uff0e"
      ]
    },
    {
      "cell_type": "code",
      "execution_count": 10,
      "metadata": {},
      "outputs": [],
      "source": [
        "from openpyxl import load_workbook"
      ]
    },
    {
      "cell_type": "code",
      "execution_count": 11,
      "metadata": {},
      "outputs": [
        {
          "data": {
            "text/plain": [
              "['hello']"
            ]
          },
          "execution_count": 11,
          "metadata": {},
          "output_type": "execute_result"
        }
      ],
      "source": [
        "wb = load_workbook(\"./data_02.xlsx\")\n",
        "wb.sheetnames"
      ]
    },
    {
      "cell_type": "markdown",
      "metadata": {},
      "source": [
        "\u3053\u308c\u3060\u3051\u3067\u3059\uff0e  \n",
        "2 \u884c\u76ee\u306e\u30b3\u30fc\u30c9\u306f\uff0c\u30d6\u30c3\u30af\u306e\u30b7\u30fc\u30c8\u540d\u79f0\u3092\u30ea\u30b9\u30c8\u306b\u3066\u53d6\u5f97\u3057\u3066\u3044\u307e\u3059\uff0e"
      ]
    },
    {
      "cell_type": "markdown",
      "metadata": {},
      "source": [
        "## \u57fa\u672c\u64cd\u4f5c\uff1a\u30b7\u30fc\u30c8\u306e\u8ffd\u52a0"
      ]
    },
    {
      "cell_type": "markdown",
      "metadata": {},
      "source": [
        "\u30b7\u30fc\u30c8\u3092\u8ffd\u52a0\u3059\u308b\u5834\u5408\u306f\uff0cWorkbook \u30aa\u30d6\u30b8\u30a7\u30af\u30c8\u306e .create_sheet \u30e1\u30bd\u30c3\u30c9\u3092\u7528\u3044\u305f\u308a\uff0cpandas.ExcelWriter \u30aa\u30d6\u30b8\u30a7\u30af\u30c8\u3092\u4f7f\u3063\u3066 pandas.DataFrame.to_excel(pandas.ExcelWriter({file_path}), sheet_name={sheet_name}, mode=\"a\") \u3067\u8ffd\u52a0\u3059\u308b\u3068\u3044\u3046\u8907\u6570\u306e\u624b\u6bb5\u304c\u3042\u308a\u307e\u3059\uff0e  \n",
        "\u3053\u306e\u3068\u304d\uff0cpandas.ExcelWriter(*, mode=\"a\") \u3068\u3044\u3046\u98a8\u306b\uff0c\u8ffd\u52a0\u3059\u308b\u5834\u5408\u306f mode=\"a\" \u3068\u3059\u308b\u3053\u3068\u306b\u6ce8\u610f\u3057\u307e\u3057\u3087\u3046\uff0e"
      ]
    },
    {
      "cell_type": "code",
      "execution_count": 12,
      "metadata": {},
      "outputs": [
        {
          "name": "stdout",
          "output_type": "stream",
          "text": [
            "['Sheet', '2nd']\n",
            "['Sheet', '2nd', '3', '4\u679a\u76ee']\n"
          ]
        }
      ],
      "source": [
        "# Workbook \u5b9a\u7fa9\n",
        "wb = Workbook()\n",
        "# \u30b7\u30fc\u30c8\u306e\u30a4\u30f3\u30b9\u30bf\u30f3\u30b9\u5316\n",
        "ws = wb.active\n",
        "# \u9069\u5f53\u306b\u8a18\u5165 (\u6570\u5f0f\u306f\u6587\u5b57\u5217\u3067\u8a18\u5165)\n",
        "ws[\"a1\"] = 0\n",
        "ws[\"b3\"] = \"openpyxl\"\n",
        "ws[\"c2\"] = \"=sum(a2:a4)\"\n",
        "# \u30bb\u30eb\u306b\u5bfe\u3059\u308b\u64cd\u4f5c\u306f worksheet.cell \u3092\u7528\u3044\uff0c\u5f15\u6570 row, column \u306b\u884c\u756a\u53f7\u3068\u5217\u756a\u53f7\u3092\u6e21\u3057\u307e\u3059\n",
        "# \u4e0a\u8a18\u3067\u5b9a\u7fa9\u3057\u305f\u30bb\u30eb\u306b\u5024\u3092\u4ee3\u5165\u3057\u305f\u3044\u5834\u5408\u306f\uff0c.value \u5c5e\u6027\u306b\u5bfe\u3057\u3066\u5024\u3092\u4ee3\u5165\u3057\u307e\u3059\n",
        "ws.cell(row=8, column=5).value = \"ws.cell(row=8, column=5)\"\n",
        "# 2 \u679a\u76ee\u4ee5\u964d\u306e\u30b7\u30fc\u30c8\u306f .create_sheet \u306b\u3066\u8ffd\u52a0\n",
        "ws2 = wb.create_sheet(title=\"2nd\")\n",
        "# \u9069\u5f53\u306b\u8a18\u5165\n",
        "for i in range(5):\n",
        "    ws2[f\"b{i+1}\"] = i\n",
        "# \u4fdd\u5b58\n",
        "wb.save(\"./data_03.xlsx\")\n",
        "# \u30b7\u30fc\u30c8\u540d\u3092\u8868\u793a\n",
        "print(wb.sheetnames)\n",
        "\n",
        "# pandas \u3067\u30b7\u30fc\u30c8\u3092\u8ffd\u52a0 (mode=\"a\" \u3068\u3059\u308b\u3053\u3068\u3067\uff0c\u65e2\u5b58\u30d5\u30a1\u30a4\u30eb\u306b\u8ffd\u8a18)\n",
        "with pd.ExcelWriter(\"./data_03.xlsx\", mode=\"a\") as w:\n",
        "    df_src.to_excel(w, sheet_name=\"3\", index=False)\n",
        "    df_src.describe().to_excel(w, sheet_name=\"4\u679a\u76ee\")\n",
        "\n",
        "# \u30b7\u30fc\u30c8\u540d\u79f0\u3092\u8868\u793a\uff08pandas \u3092\u7528\u3044\u305f\uff0epandas.ExcelFile \u3067 openpyxl \u306e Workbook \u306e\u3088\u3046\u306b\u3082\u4f7f\u3048\u307e\u3059\uff09\n",
        "print(pd.ExcelFile(\"./data_03.xlsx\").sheet_names)"
      ]
    },
    {
      "cell_type": "markdown",
      "metadata": {},
      "source": [
        "`./data_03.xlsx` \u3092\u958b\u304f\u3068\uff0c\u5404\u30b7\u30fc\u30c8\u304c\u4ee5\u4e0b\u306e\u3088\u3046\u306b\u306a\u308a\u307e\u3059\uff0e"
      ]
    },
    {
      "cell_type": "markdown",
      "metadata": {},
      "source": [
        "![./img/data_03-1.jpg](./img/data_03-1.jpg)  \n",
        "![./img/data_03-2.jpg](./img/data_03-2.jpg)  \n",
        "![./img/data_03-3.jpg](./img/data_03-3.jpg)  \n",
        "![./img/data_03-4.jpg](./img/data_03-4.jpg)"
      ]
    },
    {
      "cell_type": "markdown",
      "metadata": {},
      "source": [
        "## pandas \u3067\u30b7\u30fc\u30c8\u3092\u6307\u5b9a\u3057\u3066\u8aad\u307f\u8fbc\u307f"
      ]
    },
    {
      "cell_type": "markdown",
      "metadata": {},
      "source": [
        "pandas.read_excel \u306b\u3066\uff0c\u5f15\u6570 sheet_name \u306b\u6587\u5b57\u5217\u3067\u540d\u79f0\u3092\u6307\u5b9a\u3059\u308b\u304b\uff0c\u4f55\u679a\u76ee\u306e\u30b7\u30fc\u30c8\u304b\u3092 int \u3067\u6307\u5b9a\u3059\u308b\u3053\u3068\u306b\u3088\u308a\uff0c\u4efb\u610f\u306e\u30b7\u30fc\u30c8\u306e\u60c5\u5831\u3092\u53d6\u5f97\u3059\u308b\u3053\u3068\u304c\u53ef\u80fd\u3067\u3059\uff0e"
      ]
    },
    {
      "cell_type": "code",
      "execution_count": 15,
      "metadata": {},
      "outputs": [
        {
          "data": {
            "text/html": [
              "<div>\n",
              "<style scoped>\n",
              "    .dataframe tbody tr th:only-of-type {\n",
              "        vertical-align: middle;\n",
              "    }\n",
              "\n",
              "    .dataframe tbody tr th {\n",
              "        vertical-align: top;\n",
              "    }\n",
              "\n",
              "    .dataframe thead th {\n",
              "        text-align: right;\n",
              "    }\n",
              "</style>\n",
              "<table border=\"1\" class=\"dataframe\">\n",
              "  <thead>\n",
              "    <tr style=\"text-align: right;\">\n",
              "      <th></th>\n",
              "      <th>0</th>\n",
              "      <th>1</th>\n",
              "      <th>2</th>\n",
              "      <th>3</th>\n",
              "      <th>4</th>\n",
              "    </tr>\n",
              "  </thead>\n",
              "  <tbody>\n",
              "    <tr>\n",
              "      <th>0</th>\n",
              "      <td>0</td>\n",
              "      <td>1</td>\n",
              "      <td>2</td>\n",
              "      <td>3</td>\n",
              "      <td>4</td>\n",
              "    </tr>\n",
              "    <tr>\n",
              "      <th>1</th>\n",
              "      <td>5</td>\n",
              "      <td>6</td>\n",
              "      <td>7</td>\n",
              "      <td>8</td>\n",
              "      <td>9</td>\n",
              "    </tr>\n",
              "    <tr>\n",
              "      <th>2</th>\n",
              "      <td>10</td>\n",
              "      <td>11</td>\n",
              "      <td>12</td>\n",
              "      <td>13</td>\n",
              "      <td>14</td>\n",
              "    </tr>\n",
              "    <tr>\n",
              "      <th>3</th>\n",
              "      <td>15</td>\n",
              "      <td>16</td>\n",
              "      <td>17</td>\n",
              "      <td>18</td>\n",
              "      <td>19</td>\n",
              "    </tr>\n",
              "  </tbody>\n",
              "</table>\n",
              "</div>"
            ],
            "text/plain": [
              "    0   1   2   3   4\n",
              "0   0   1   2   3   4\n",
              "1   5   6   7   8   9\n",
              "2  10  11  12  13  14\n",
              "3  15  16  17  18  19"
            ]
          },
          "execution_count": 15,
          "metadata": {},
          "output_type": "execute_result"
        }
      ],
      "source": [
        "pd.read_excel(\"./data_03.xlsx\", sheet_name=\"3\")"
      ]
    },
    {
      "cell_type": "code",
      "execution_count": 16,
      "metadata": {},
      "outputs": [
        {
          "data": {
            "text/html": [
              "<div>\n",
              "<style scoped>\n",
              "    .dataframe tbody tr th:only-of-type {\n",
              "        vertical-align: middle;\n",
              "    }\n",
              "\n",
              "    .dataframe tbody tr th {\n",
              "        vertical-align: top;\n",
              "    }\n",
              "\n",
              "    .dataframe thead th {\n",
              "        text-align: right;\n",
              "    }\n",
              "</style>\n",
              "<table border=\"1\" class=\"dataframe\">\n",
              "  <thead>\n",
              "    <tr style=\"text-align: right;\">\n",
              "      <th></th>\n",
              "      <th>Unnamed: 0</th>\n",
              "      <th>0</th>\n",
              "      <th>1</th>\n",
              "      <th>2</th>\n",
              "      <th>3</th>\n",
              "      <th>4</th>\n",
              "    </tr>\n",
              "  </thead>\n",
              "  <tbody>\n",
              "    <tr>\n",
              "      <th>0</th>\n",
              "      <td>count</td>\n",
              "      <td>4.000000</td>\n",
              "      <td>4.000000</td>\n",
              "      <td>4.000000</td>\n",
              "      <td>4.000000</td>\n",
              "      <td>4.000000</td>\n",
              "    </tr>\n",
              "    <tr>\n",
              "      <th>1</th>\n",
              "      <td>mean</td>\n",
              "      <td>7.500000</td>\n",
              "      <td>8.500000</td>\n",
              "      <td>9.500000</td>\n",
              "      <td>10.500000</td>\n",
              "      <td>11.500000</td>\n",
              "    </tr>\n",
              "    <tr>\n",
              "      <th>2</th>\n",
              "      <td>std</td>\n",
              "      <td>6.454972</td>\n",
              "      <td>6.454972</td>\n",
              "      <td>6.454972</td>\n",
              "      <td>6.454972</td>\n",
              "      <td>6.454972</td>\n",
              "    </tr>\n",
              "    <tr>\n",
              "      <th>3</th>\n",
              "      <td>min</td>\n",
              "      <td>0.000000</td>\n",
              "      <td>1.000000</td>\n",
              "      <td>2.000000</td>\n",
              "      <td>3.000000</td>\n",
              "      <td>4.000000</td>\n",
              "    </tr>\n",
              "    <tr>\n",
              "      <th>4</th>\n",
              "      <td>25%</td>\n",
              "      <td>3.750000</td>\n",
              "      <td>4.750000</td>\n",
              "      <td>5.750000</td>\n",
              "      <td>6.750000</td>\n",
              "      <td>7.750000</td>\n",
              "    </tr>\n",
              "    <tr>\n",
              "      <th>5</th>\n",
              "      <td>50%</td>\n",
              "      <td>7.500000</td>\n",
              "      <td>8.500000</td>\n",
              "      <td>9.500000</td>\n",
              "      <td>10.500000</td>\n",
              "      <td>11.500000</td>\n",
              "    </tr>\n",
              "    <tr>\n",
              "      <th>6</th>\n",
              "      <td>75%</td>\n",
              "      <td>11.250000</td>\n",
              "      <td>12.250000</td>\n",
              "      <td>13.250000</td>\n",
              "      <td>14.250000</td>\n",
              "      <td>15.250000</td>\n",
              "    </tr>\n",
              "    <tr>\n",
              "      <th>7</th>\n",
              "      <td>max</td>\n",
              "      <td>15.000000</td>\n",
              "      <td>16.000000</td>\n",
              "      <td>17.000000</td>\n",
              "      <td>18.000000</td>\n",
              "      <td>19.000000</td>\n",
              "    </tr>\n",
              "  </tbody>\n",
              "</table>\n",
              "</div>"
            ],
            "text/plain": [
              "  Unnamed: 0          0          1          2          3          4\n",
              "0      count   4.000000   4.000000   4.000000   4.000000   4.000000\n",
              "1       mean   7.500000   8.500000   9.500000  10.500000  11.500000\n",
              "2        std   6.454972   6.454972   6.454972   6.454972   6.454972\n",
              "3        min   0.000000   1.000000   2.000000   3.000000   4.000000\n",
              "4        25%   3.750000   4.750000   5.750000   6.750000   7.750000\n",
              "5        50%   7.500000   8.500000   9.500000  10.500000  11.500000\n",
              "6        75%  11.250000  12.250000  13.250000  14.250000  15.250000\n",
              "7        max  15.000000  16.000000  17.000000  18.000000  19.000000"
            ]
          },
          "execution_count": 16,
          "metadata": {},
          "output_type": "execute_result"
        }
      ],
      "source": [
        "pd.read_excel(\"./data_03.xlsx\", sheet_name=3)"
      ]
    },
    {
      "cell_type": "markdown",
      "metadata": {},
      "source": [
        "\u4e0a\u8a18\u306e\u4f8b\u3067\uff0c\u4e0a\u6bb5\u306f \"3\" \u3068\u3044\u3046\u30b7\u30fc\u30c8\u304c 3 \u679a\u76ee\u306b\u3042\u3063\u3066\u305d\u308c\u3092\u8aad\u307f\u8fbc\u3093\u3067\u3044\u308b\u306e\u3068\uff0c\u4e0b\u6bb5\u306f 0 \u304b\u3089\u6570\u3048\u3066 3 \u306f 4 \u3064\u3081\u306a\u306e\u3067 4 \u679a\u76ee\u306e\u30b7\u30fc\u30c8\u3092\u8aad\u307f\u8fbc\u3093\u3067\u3044\u307e\u3059\uff0e  \n",
        "\u30b7\u30fc\u30c8\u540d\u79f0\u3067\u6307\u5b9a\u3059\u308b\u5834\u5408\u306b\u540d\u79f0\u4e00\u89a7\u304c\u5fc5\u8981\u306b\u306a\u308a\u307e\u3059\u304c\uff0c\u3053\u308c\u306b\u3064\u3044\u3066\u306f\uff0cpandas.ExcelFile(*).sheet_names \u3067\u78ba\u8a8d\u3059\u308b\u306e\u304c\u624b\u3063\u53d6\u308a\u65e9\u3044\u3067\u3057\u3087\u3046\uff0e"
      ]
    },
    {
      "cell_type": "code",
      "execution_count": 18,
      "metadata": {},
      "outputs": [
        {
          "data": {
            "text/plain": [
              "['Sheet', '2nd', '3', '4\u679a\u76ee']"
            ]
          },
          "execution_count": 18,
          "metadata": {},
          "output_type": "execute_result"
        }
      ],
      "source": [
        "pd.ExcelFile(\"./data_03.xlsx\").sheet_names"
      ]
    },
    {
      "cell_type": "markdown",
      "metadata": {},
      "source": [
        ".xlsx \u30d5\u30a1\u30a4\u30eb\u5168\u4f53\u3092\u3056\u3063\u3068\u6982\u89b3\u3057\u305f\u3044\u5834\u5408\u306f\uff0c\u6b21\u306e\u3088\u3046\u306b for \u3092\u7528\u3044\u3066\u8868\u793a\u3057\u3066\u3082\u826f\u3044\u304b\u3082\u3057\u308c\u307e\u305b\u3093\uff0e  \n",
        "\u91cd\u91cf\u7d1a\u306a .xlsx \u3067\u3042\u308c\u3070\uff0c\u4ee5\u4e0b\u6700\u7d42\u884c\u306e read_excel() \u306e\u5f8c\u306b .head(3) \u3068\u304b .tail(3) \u3068\u304b\u3059\u308b\u306e\u3082\u826f\u3044\u3067\u3057\u3087\u3046\uff0e"
      ]
    },
    {
      "cell_type": "code",
      "execution_count": 22,
      "metadata": {},
      "outputs": [
        {
          "name": "stdout",
          "output_type": "stream",
          "text": [
            "\n",
            "*** sheet: Sheet\n",
            "    0 Unnamed: 1  Unnamed: 2  Unnamed: 3                Unnamed: 4\n",
            "0 NaN        NaN         NaN         NaN                       NaN\n",
            "1 NaN   openpyxl         NaN         NaN                       NaN\n",
            "2 NaN        NaN         NaN         NaN                       NaN\n",
            "3 NaN        NaN         NaN         NaN                       NaN\n",
            "4 NaN        NaN         NaN         NaN                       NaN\n",
            "5 NaN        NaN         NaN         NaN                       NaN\n",
            "6 NaN        NaN         NaN         NaN  ws.cell(row=8, column=5)\n",
            "\n",
            "*** sheet: 2nd\n",
            "   Unnamed: 0  0\n",
            "0         NaN  1\n",
            "1         NaN  2\n",
            "2         NaN  3\n",
            "3         NaN  4\n",
            "\n",
            "*** sheet: 3\n",
            "    0   1   2   3   4\n",
            "0   0   1   2   3   4\n",
            "1   5   6   7   8   9\n",
            "2  10  11  12  13  14\n",
            "3  15  16  17  18  19\n",
            "\n",
            "*** sheet: 4\u679a\u76ee\n",
            "  Unnamed: 0          0          1          2          3          4\n",
            "0      count   4.000000   4.000000   4.000000   4.000000   4.000000\n",
            "1       mean   7.500000   8.500000   9.500000  10.500000  11.500000\n",
            "2        std   6.454972   6.454972   6.454972   6.454972   6.454972\n",
            "3        min   0.000000   1.000000   2.000000   3.000000   4.000000\n",
            "4        25%   3.750000   4.750000   5.750000   6.750000   7.750000\n",
            "5        50%   7.500000   8.500000   9.500000  10.500000  11.500000\n",
            "6        75%  11.250000  12.250000  13.250000  14.250000  15.250000\n",
            "7        max  15.000000  16.000000  17.000000  18.000000  19.000000\n"
          ]
        }
      ],
      "source": [
        "file_path = \"./data_03.xlsx\"\n",
        "\n",
        "names = pd.ExcelFile(file_path).sheet_names\n",
        "\n",
        "for name in names:\n",
        "    print(f\"\\n*** sheet: {name}\")\n",
        "    print(pd.read_excel(file_path, sheet_name=name))"
      ]
    },
    {
      "cell_type": "markdown",
      "metadata": {},
      "source": [
        "\u51e6\u7406\u901f\u5ea6\u3068\u3057\u3066\u306f\uff0cexcel \u3092\u7acb\u3061\u4e0a\u3052\u3066\u3044\u308b\u6642\u9593\u5185\u3067\u51fa\u529b\u3055\u308c\u308b\u307b\u3069\u7206\u901f\u3067\u3059\uff0e  \n",
        "\u6ce8\u610f\u3068\u3057\u3066\uff0c\u5de8\u5927\u306a .csv \u30d5\u30a1\u30a4\u30eb\u3092\u8aad\u307f\u8fbc\u3080\u306e\u3068\u9055\u3063\u3066\uff0c\u5de8\u5927\u306a .xlsx \u30d5\u30a1\u30a4\u30eb\u3092\u8aad\u307f\u8fbc\u3080\u5834\u5408\u306b\u306f\u6642\u9593\u304c\u304b\u304b\u308b\u3053\u3068\u304c\u3042\u308a\u307e\u3059\uff0e  \n",
        "\u3042\u3068\u306f\uff0c\u30b7\u30fc\u30c8\u5185\u306b\u8868\u304c\u8907\u6570\u70b9\u5728\u3057\u3066\u3044\u308b\u3088\u3046\u306a\u7d20\u76f4\u3067\u306a\u3044\u30b7\u30fc\u30c8\u306e\u5834\u5408\u306f\uff0c\u4e0a\u8a18\u3067\u306f\u6e80\u8db3\u306b\u53ef\u8996\u5316\u3059\u308b\u3053\u3068\u306f\u3067\u304d\u306a\u3044\u304b\u3082\u3057\u308c\u307e\u305b\u3093\uff0e"
      ]
    },
    {
      "cell_type": "markdown",
      "metadata": {},
      "source": [
        "## pandas.to_excel \u3067\u5148\u982d\u304c\u592a\u5b57\u30fb\u7f6b\u7dda\u306b\u306a\u308b\u3053\u3068\u306e\u4fee\u6b63"
      ]
    },
    {
      "cell_type": "markdown",
      "metadata": {},
      "source": [
        "pandas.to_excel \u306b\u3066\u5bb9\u6613\u306b\u30b7\u30fc\u30c8\u4f5c\u6210\u304c\u3067\u304d\u307e\u3057\u305f\u304c\uff0c\u5148\u982d\u306e\u30bb\u30eb\u304c\u52dd\u624b\u306b\u592a\u5b57\u306b\u306a\u3063\u305f\u308a\uff0c\u7f6b\u7dda\u304c\u4ed8\u3044\u305f\u308a\u3059\u308b\u3053\u3068\u306b\u3064\u3044\u3066\u597d\u307f\u3067\u306a\u3044\u5834\u5408\u306f\uff0ccell \u306e font / border \u3092\u9069\u7528\u3059\u308b\u3053\u3068\u3067\u89e3\u6c7a\u3067\u304d\u307e\u3059\uff0e  \n",
        "font, border \u5c5e\u6027\u306b\u306f\u4ed6\u306b\u3082\u8272\u3005\u8a2d\u5b9a\u3067\u304d\u307e\u3059\uff0e  \n",
        "\u4ee5\u4e0b\u3067\u3084\u3063\u3066\u307f\u307e\u3059\uff0e"
      ]
    },
    {
      "cell_type": "code",
      "execution_count": 23,
      "metadata": {},
      "outputs": [],
      "source": [
        "from openpyxl import styles"
      ]
    },
    {
      "cell_type": "code",
      "execution_count": 35,
      "metadata": {},
      "outputs": [],
      "source": [
        "# \u4efb\u610f\u306e font \u5c5e\u6027\u3092\u5b9a\u7fa9\n",
        "font_normal = styles.Font(\n",
        "    name=\"Arial\", size=11, bold=False, italic=False, underline=\"none\", color=\"FF000000\"\n",
        ")\n",
        "# \u4efb\u610f\u306e border \u5c5e\u6027\u3092\u5b9a\u7fa9\n",
        "border_normal = styles.Border(left=None, right=None, top=None, bottom=None, diagonal=None)\n",
        "# \u4e0a\u8a18\u3092 cell \u306e font / border \u5c5e\u6027\u306b\u305d\u308c\u305e\u308c\u4ee3\u5165\u3057\u307e\u3059\n",
        "\n",
        "# \u30d5\u30a1\u30a4\u30eb\u540d\u5b9a\u7fa9\n",
        "f_path = \"./data_04.xlsx\"\n",
        "# \u30d5\u30a1\u30a4\u30eb\u4f5c\u6210\u3068\u4fdd\u5b58\n",
        "pd.DataFrame(data={\"aaa\": range(3), \"bb\": range(3)}).to_excel(f_path, index=False, sheet_name=\"01\")\n",
        "# openpyxl \u3067\u8aad\u307f\u8fbc\u307f\n",
        "wb = load_workbook(f_path)\n",
        "# \u30b7\u30fc\u30c8 \"01\" \u3092\u30a4\u30f3\u30b9\u30bf\u30f3\u30b9\u5316\n",
        "ws = wb[\"01\"]\n",
        "# cell \u306e font / border \u5c5e\u6027\u306b\u305d\u308c\u305e\u308c\u4ee3\u5165\n",
        "ws.cell(row=1, column=1).font = font_normal\n",
        "ws.cell(row=1, column=1).border = border_normal\n",
        "# \u4fdd\u5b58\n",
        "wb.save(f_path)"
      ]
    },
    {
      "cell_type": "markdown",
      "metadata": {},
      "source": [
        "![./img/data_04.jpg](./img/data_04.jpg)"
      ]
    },
    {
      "cell_type": "markdown",
      "metadata": {},
      "source": [
        "A1 \u306b\u304a\u3044\u3066\uff0c\u6307\u5b9a\u3057\u305f\u30d5\u30a9\u30f3\u30c8\u3068\u7f6b\u7dda\u306b\u306a\u3063\u3066\u3044\u307e\u3059\uff0e  \n",
        "\u3057\u304b\u3057\uff0c\u305d\u308c\u4ee5\u5916\u306f\u8a2d\u5b9a\u304c\u53cd\u6620\u3055\u308c\u3066\u3044\u307e\u305b\u3093\uff0e  \n",
        "\u3053\u3046\u3044\u3046\u5834\u5408\u306f\uff0c\u5024\u304c\u5165\u529b\u3055\u308c\u3066\u3044\u308b\u7bc4\u56f2\u3092\u53d6\u5f97\u3057\uff0c\u5168\u30bb\u30eb\u306b\u5bfe\u3057\u3066 font / border \u306b\u4ee3\u5165\u3057\u3066\u3044\u304d\u307e\u3057\u3087\u3046\uff0e  \n",
        "\u5024\u304c\u3042\u308b\u30bb\u30eb\u306e\u884c\u30fb\u5217\u756a\u53f7\u306e\u6700\u5927\u30fb\u6700\u5c0f\u5024\u306f\uff0csheet \u5c5e\u6027\u306e max_row, min_row, max_column, min_column \u306b\u3066\u305d\u308c\u305e\u308c\u53d6\u5f97\u3067\u304d\u307e\u3059\uff0e"
      ]
    },
    {
      "cell_type": "code",
      "execution_count": 37,
      "metadata": {},
      "outputs": [],
      "source": [
        "# \"./data_04.xlsx\" \u3092\u8aad\u307f\u8fbc\u3093\u3067\u30b7\u30fc\u30c8 \"01\" \u3092\u30a4\u30f3\u30b9\u30bf\u30f3\u30b9\u5316\n",
        "wb = load_workbook(\"./data_04.xlsx\")\n",
        "ws = wb[\"01\"]\n",
        "# \u5024\u304c\u3042\u308b\u30bb\u30eb\u306e\u884c\u30fb\u5217\u756a\u53f7\u306e\u6700\u5927\u30fb\u6700\u5c0f\u5024\u3092\u53d6\u5f97\n",
        "min_row, max_row = ws.min_row, ws.max_row\n",
        "min_column, max_column = ws.min_column, ws.max_column\n",
        "# \u4e0a\u8a18\u3092\u7528\u3044\u3066 for \u6587\u3067 cell \u4e00\u3064\u305a\u3064\u306b style \u3092\u4ee3\u5165\n",
        "for row in range(min_row, max_row + 1):\n",
        "    for column in range(min_column, max_column + 1):\n",
        "        ws.cell(row=row, column=column).font = font_normal\n",
        "        ws.cell(row=row, column=column).border = border_normal\n",
        "# \u4fdd\u5b58\n",
        "wb.save(\"./data_05.xlsx\")"
      ]
    },
    {
      "cell_type": "markdown",
      "metadata": {},
      "source": [
        "![./img/data_05.jpg](./img/data_05.jpg)"
      ]
    },
    {
      "cell_type": "markdown",
      "metadata": {},
      "source": [
        "\u3053\u308c\u3067\u3059\u3079\u3066\u306e\u30bb\u30eb\u306e\u30d5\u30a9\u30f3\u30c8\u30fb\u7f6b\u7dda\u304c\u8a2d\u5b9a\u3067\u304d\u308b\u3088\u3046\u306b\u306a\u308a\u307e\u3057\u305f\uff0e"
      ]
    },
    {
      "cell_type": "markdown",
      "metadata": {},
      "source": [
        "## \u884c\u9ad8\u3055\uff0f\u5217\u5e45\u306e\u4fee\u6b63"
      ]
    },
    {
      "cell_type": "markdown",
      "metadata": {},
      "source": [
        "\u30ab\u30e9\u30e0\u540d\u3084\u8981\u7d20\u306e\u5024\u304c\u9577\u3044\u3068\u30bb\u30eb\u304b\u3089\u306f\u307f\u51fa\u3057\u3066\u3057\u307e\u3046\u306e\u3067\uff0c\u884c\u306e\u9ad8\u3055\u3060\u3063\u305f\u308a\u5217\u306e\u5e45\u3092\u6307\u5b9a\u3057\u305f\u3044\u5834\u5408\u3082\u3042\u308b\u3068\u601d\u3044\u307e\u3059\uff0e  \n",
        "\u305d\u3046\u3044\u3046\u3068\u304d\u306f\uff0csheet \u30aa\u30d6\u30b8\u30a7\u30af\u30c8\u306e row_dimensions[\u884c\u540d\u79f0].height / column_dimensions[\u5217\u540d\u79f0].width \u306b\u5024\u3092\u4ee3\u5165\u3059\u308b\u3053\u3068\u3067\u8abf\u6574\u3067\u304d\u307e\u3059\uff0e  \n",
        "\u3053\u3053\u3067\uff0c\u6ce8\u610f\u3068\u3057\u3066\u306f\u5217\u3092\u540d\u79f0\u306b\u3066\u6307\u5b9a\u3059\u308b\u5fc5\u8981\u304c\u6709\u308b\u3053\u3068\u3067\u3059\uff0e"
      ]
    },
    {
      "cell_type": "code",
      "execution_count": 43,
      "metadata": {},
      "outputs": [
        {
          "data": {
            "text/plain": [
              "(1, 2)"
            ]
          },
          "execution_count": 43,
          "metadata": {},
          "output_type": "execute_result"
        }
      ],
      "source": [
        "min_column, max_column"
      ]
    },
    {
      "cell_type": "code",
      "execution_count": 45,
      "metadata": {},
      "outputs": [],
      "source": [
        "# \"./data_05.xlsx\" \u3092\u8aad\u307f\u8fbc\u3093\u3067\u30b7\u30fc\u30c8 \"01\" \u3092\u30a4\u30f3\u30b9\u30bf\u30f3\u30b9\u5316\n",
        "wb = load_workbook(\"./data_05.xlsx\")\n",
        "ws = wb[\"01\"]\n",
        "# \u5024\u304c\u3042\u308b\u30bb\u30eb\u306e\u884c\u30fb\u5217\u756a\u53f7\u306e\u6700\u5927\u30fb\u6700\u5c0f\u5024\u3092\u53d6\u5f97\n",
        "min_row, max_row = ws.min_row, ws.max_row\n",
        "min_column, max_column = ws.min_column, ws.max_column\n",
        "# \u5024\u304c\u3042\u308b\u5217\u306e\u540d\u79f0\u3092\u53d6\u5f97\n",
        "columns = [ws.cell(row=min_row, column=v).column_letter for v in range(min_row, max_row + 1)]\n",
        "# \u4e0a\u8a18\u3092\u7528\u3044\u3066 for \u6587\u3067\u884c\u306e\u9ad8\u3055\u30fb\u5217\u306e\u5e45\u3092\u884c\u30fb\u5217\u3054\u3068\u306b\u4ee3\u5165\u3057\u3066\u3044\u304d\u307e\u3059\n",
        "for row in range(min_row, max_row + 1):\n",
        "    ws.row_dimensions[row].height = 15\n",
        "for column in columns:\n",
        "    ws.column_dimensions[column].width = 15\n",
        "# \u4fdd\u5b58\n",
        "wb.save(\"./data_06.xlsx\")"
      ]
    },
    {
      "cell_type": "markdown",
      "metadata": {},
      "source": [
        "![./img/data_06.jpg](./img/data_06.jpg)"
      ]
    },
    {
      "cell_type": "markdown",
      "metadata": {},
      "source": [
        "\u7121\u4e8b\uff0c\u884c\u9ad8\u3055\u3068\u5217\u5e45\u3092\u8abf\u6574\u3059\u308b\u3053\u3068\u304c\u3067\u304d\u307e\u3057\u305f\uff0e"
      ]
    },
    {
      "cell_type": "markdown",
      "metadata": {},
      "source": [
        "## excel \u4e0a\u306b\u30b0\u30e9\u30d5\u3092\u4f5c\u6210"
      ]
    },
    {
      "cell_type": "markdown",
      "metadata": {},
      "source": [
        "Python \u3067\u30b0\u30e9\u30d5\u4f5c\u6210\u3068\u3044\u3046\u3068 matplotlib \u3084 seaborn\uff0cplotly \u306a\u3069\u975e\u5e38\u306b\u4f7f\u3044\u3084\u3059\u3044\u30e9\u30a4\u30d6\u30e9\u30ea\u304c\u3042\u308a\u307e\u3059\u304c\uff0c\u4ed6\u8005\u3068\u5171\u6709\u3057\u3066\u5f8c\u306b GUI \u64cd\u4f5c\u3067\u30b0\u30e9\u30d5\u3092\u4fee\u6b63\u3057\u305f\u3044\u5834\u5408\u306a\u3069\u306f\uff0c\u3084\u306f\u308a excel \u4e0a\u3067\u30b0\u30e9\u3075\u3092\u30d7\u30ed\u30c3\u30c8\u3057\u305f\u304f\u306a\u308b\u3053\u3068\u3067\u3057\u3087\u3046\uff0e  \n",
        "\u3082\u3061\u308d\u3093\uff0c\u305d\u3093\u306a\u3053\u3068\u3082 openpyxl \u3092\u7528\u3044\u308c\u3070\u53ef\u80fd\u3067\u3059\uff08\u5c11\u3005\u9762\u5012\u3067\u3042\u308a\u307e\u3059\u304c\uff09\uff0e  \n",
        "\u4f8b\u3068\u3057\u3066\uff0c\u4ee5\u4e0b\u306b 2 \u5468\u671f\u5206\u306e sin \u6ce2\u306e\u6563\u5e03\u56f3 (openpyxl.chart.ScatterChart) \u3068\u5143\u30c7\u30fc\u30bf\u3092 .xlsx \u51fa\u529b\u3057\u3066\u307f\u307e\u3059\uff0e"
      ]
    },
    {
      "cell_type": "code",
      "execution_count": 49,
      "metadata": {},
      "outputs": [],
      "source": [
        "from openpyxl.chart import ScatterChart, Series, Reference"
      ]
    },
    {
      "cell_type": "code",
      "execution_count": 52,
      "metadata": {},
      "outputs": [],
      "source": [
        "# \u30d6\u30c3\u30af\u3068\u30b7\u30fc\u30c8\u5b9a\u7fa9\n",
        "wb = Workbook()\n",
        "ws = wb.active\n",
        "# sin \u6ce2\u306e x / y \u8ef8\u3092\u5b9a\u7fa9\n",
        "dt = np.pi * 0.01\n",
        "t = np.arange(0, 2 * 2 * np.pi + dt, dt)\n",
        "sin_t = np.sin(t)\n",
        "# sin \u6ce2\u3092\u30b7\u30fc\u30c8\u306b\u8a18\u5165\n",
        "for i in range(len(t)):\n",
        "    ws.cell(row=i+1, column=1).value = t[i]\n",
        "    ws.cell(row=i+1, column=2).value = sin_t[i]\n",
        "\n",
        "# # \u30d7\u30ed\u30c3\u30c8\n",
        "# ScatterChart \u3092\u30a4\u30f3\u30b9\u30bf\u30f3\u30b9\u5316\u3057\uff0c\u3053\u308c\u306b\u8ffd\u52a0\u3057\u3066\u3044\u304d\u307e\u3059\n",
        "chart = ScatterChart()\n",
        "# \u30bf\u30a4\u30c8\u30eb\u3092\u8a2d\u5b9a\n",
        "chart.title = \"sin \u6ce2\"\n",
        "# \u30b0\u30e9\u30d5\u306e\u5927\u304d\u3055\u3092\u6307\u5b9a\n",
        "chart.height = 8\n",
        "chart.width = 13\n",
        "# x / y \u8ef8\u540d\u79f0\u3092\u8a2d\u5b9a\n",
        "chart.x_axis.title = \"\u4fe1\u53f7\"\n",
        "chart.y_axis.title = \"\u7d4c\u904e\u6642\u9593 [s]\"\n",
        "# \u51e1\u4f8b\n",
        "chart.legend = None\n",
        "# \u30d7\u30ed\u30c3\u30c8\u3067\u53c2\u7167\u3059\u308b\u30bb\u30eb\u3092\u5b9a\u7fa9\n",
        "x = Reference(worksheet=ws, min_col=1, min_row=1, max_row=len(t))\n",
        "y = Reference(worksheet=ws, min_col=2, min_row=1, max_row=len(t))\n",
        "# \u53c2\u7167\u3059\u308b\u30bb\u30eb\u3092 Series \u306b\u6e21\u3057\uff0c\u3053\u308c\u3092 chart.series \u306b\u5165\u308c\u308b\n",
        "series = Series(y, x, title_from_data=True)\n",
        "chart.series.append(series)\n",
        "# \u30d7\u30ed\u30c3\u30c8\uff08anchor \u306b\u3066\u5de6\u4e0a\u306e\u70b9\u3092\u6307\u5b9a\uff09\n",
        "ws.add_chart(chart=chart, anchor=\"d2\")\n",
        "\n",
        "# \u4fdd\u5b58\n",
        "wb.save(\"./data_07.xlsx\")"
      ]
    },
    {
      "cell_type": "markdown",
      "metadata": {},
      "source": [
        "![./img/data_07.jpg](./img/data_07.jpg)"
      ]
    },
    {
      "cell_type": "markdown",
      "metadata": {},
      "source": [
        "\u4e0a\u56f3\u306e\u3088\u3046\u306b\u30d7\u30ed\u30c3\u30c8\u3067\u304d\u305f\u3068\u601d\u3044\u307e\u3059\uff0e  \n",
        "\u6d41\u308c\u3068\u3057\u3066\u306f\uff0cpandas.DataFrame.to_excel() \u3057\uff0c\u3053\u308c\u3092 openpyxl \u306b\u3066\u8aad\u307f\u8fbc\u3093\u3067\u8a02\u6b63\u3092\u6574\u3048\uff0c\u6700\u5f8c\u306b\u30b0\u30e9\u30d5\u3092\u8cbc\u308b\u3068\u3044\u3046\u3075\u3046\u306b\u3059\u308b\u3068\uff0c\u4e00\u756a\u5de5\u6570\u304c\u5c11\u306a\u304f\u6e08\u3080\u3067\u3057\u3087\u3046\uff0e"
      ]
    },
    {
      "cell_type": "markdown",
      "metadata": {},
      "source": [
        "## \u6f14\u7fd2\u554f\u984c"
      ]
    },
    {
      "cell_type": "markdown",
      "metadata": {},
      "source": [
        "- Q.1: x"
      ]
    },
    {
      "cell_type": "code",
      "execution_count": null,
      "metadata": {},
      "outputs": [],
      "source": []
    }
  ],
  "metadata": {
    "interpreter": {
      "hash": "7f4300d00c020e82d8b187928799c5c30a390be7d7de211bfbda9d77d14a6e94"
    },
    "kernelspec": {
      "display_name": "Python 3.10.4 64-bit",
      "language": "python",
      "name": "python3"
    },
    "language_info": {
      "codemirror_mode": {
        "name": "ipython",
        "version": 3
      },
      "file_extension": ".py",
      "mimetype": "text/x-python",
      "name": "python",
      "nbconvert_exporter": "python",
      "pygments_lexer": "ipython3",
      "version": "3.10.4"
    },
    "orig_nbformat": 4
  },
  "nbformat": 4,
  "nbformat_minor": 2
}
