{
 "cells": [
  {
   "cell_type": "markdown",
   "id": "f44d2554-187f-41d9-a91d-1fb65338d86b",
   "metadata": {},
   "source": [
    "## 演習問題の解答"
   ]
  },
  {
   "cell_type": "markdown",
   "id": "b29860e0-31b1-4eb9-920c-a4e26793acf2",
   "metadata": {},
   "source": [
    "Q1. 日時を表す 2 つの文字列 `\"2038/01/19-03:14:07.000000\"`, `\"2045/01/01-00:00:00.000000\"` について時間の差を秒で出力してください．"
   ]
  },
  {
   "cell_type": "code",
   "execution_count": 1,
   "id": "df7dc204-cc7e-4a24-97c1-6a42c8b1ba7a",
   "metadata": {},
   "outputs": [],
   "source": [
    "from datetime import datetime"
   ]
  },
  {
   "cell_type": "code",
   "execution_count": 2,
   "id": "c8b59286-2a57-404d-b437-04b16dafe7e3",
   "metadata": {},
   "outputs": [
    {
     "data": {
      "text/plain": [
       "219357953.0"
      ]
     },
     "execution_count": 2,
     "metadata": {},
     "output_type": "execute_result"
    }
   ],
   "source": [
    "fmt = \"%Y/%m/%d-%H:%M:%S.%f\"\n",
    "t1 = datetime.strptime(\"2038/01/19-03:14:07.000000\", fmt)\n",
    "t2 = datetime.strptime(\"2045/01/01-00:00:00.000000\", fmt)\n",
    "\n",
    "(t2 - t1).total_seconds()"
   ]
  },
  {
   "cell_type": "code",
   "execution_count": 4,
   "id": "770489cc-4093-4708-b3d9-03cc20b829cd",
   "metadata": {},
   "outputs": [
    {
     "data": {
      "text/plain": [
       "[WindowsPath('.ipynb_checkpoints'),\n",
       " WindowsPath('007_std_libs.ipynb'),\n",
       " WindowsPath('answer.ipynb'),\n",
       " WindowsPath('new_dir1'),\n",
       " WindowsPath('test.txt')]"
      ]
     },
     "execution_count": 4,
     "metadata": {},
     "output_type": "execute_result"
    }
   ],
   "source": [
    "from pathlib import Path\n",
    "\n",
    "sorted(Path(\"./\").iterdir())"
   ]
  },
  {
   "cell_type": "markdown",
   "id": "cd24e3bc-cdc4-4039-8a37-14ce7b3f7fd7",
   "metadata": {},
   "source": [
    "Q2. 上記のように `new_dir1` と `test.txt` がこのディレクトリに残ったままなので，これら二つをプログラミングで削除しましょう（エクスプローラーからやらないでくださいね）．"
   ]
  },
  {
   "cell_type": "code",
   "execution_count": 5,
   "id": "46f552b9-0f8f-4918-8dec-12a3bcc08aca",
   "metadata": {},
   "outputs": [
    {
     "data": {
      "text/plain": [
       "[WindowsPath('.ipynb_checkpoints'),\n",
       " WindowsPath('007_std_libs.ipynb'),\n",
       " WindowsPath('answer.ipynb')]"
      ]
     },
     "execution_count": 5,
     "metadata": {},
     "output_type": "execute_result"
    }
   ],
   "source": [
    "import shutil\n",
    "\n",
    "shutil.rmtree(\"./new_dir1\")\n",
    "Path(\"./test.txt\").unlink()\n",
    "\n",
    "sorted(Path(\"./\").iterdir())"
   ]
  },
  {
   "cell_type": "markdown",
   "id": "8974261b-a8df-4750-95e7-d644c7b88bc0",
   "metadata": {},
   "source": [
    "Q3. このファイルはいつ開きましたか？ datetime.datetime 型にて教えてください．"
   ]
  },
  {
   "cell_type": "code",
   "execution_count": 22,
   "id": "e736079b-547e-457c-9d7e-9193264f135e",
   "metadata": {},
   "outputs": [
    {
     "data": {
      "text/plain": [
       "datetime.datetime(2022, 2, 11, 1, 8, 2, 30912)"
      ]
     },
     "execution_count": 22,
     "metadata": {},
     "output_type": "execute_result"
    }
   ],
   "source": [
    "import time\n",
    "from datetime import datetime, timedelta\n",
    "\n",
    "datetime.now() - timedelta(seconds=time.perf_counter())"
   ]
  },
  {
   "cell_type": "code",
   "execution_count": null,
   "id": "ea3696f9-df55-4596-aeef-8bfd736803e5",
   "metadata": {},
   "outputs": [],
   "source": []
  },
  {
   "cell_type": "code",
   "execution_count": null,
   "id": "8cea7f64-26d1-49ae-95f6-672d58272427",
   "metadata": {},
   "outputs": [],
   "source": []
  }
 ],
 "metadata": {
  "kernelspec": {
   "display_name": "Python 3 (ipykernel)",
   "language": "python",
   "name": "python3"
  },
  "language_info": {
   "codemirror_mode": {
    "name": "ipython",
    "version": 3
   },
   "file_extension": ".py",
   "mimetype": "text/x-python",
   "name": "python",
   "nbconvert_exporter": "python",
   "pygments_lexer": "ipython3",
   "version": "3.8.10"
  }
 },
 "nbformat": 4,
 "nbformat_minor": 5
}
