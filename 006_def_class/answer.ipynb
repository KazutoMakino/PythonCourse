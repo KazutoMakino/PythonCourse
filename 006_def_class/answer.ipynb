{
 "cells": [
  {
   "cell_type": "markdown",
   "id": "35c89a06-3949-4636-be35-e732e029fd4d",
   "metadata": {},
   "source": [
    "# ユーザー定義関数／クラス／メソッド／モジュール\n",
    "\n",
    "---\n",
    "\n",
    "- ref: https://docs.python.org/ja/3/tutorial/classes.html\n",
    "- blog: https://slash-z.com/\n",
    "- github: https://github.com/KazutoMakino/PythonCourses\n",
    "\n",
    "---"
   ]
  },
  {
   "cell_type": "markdown",
   "id": "05fccfba-77dd-46aa-ad3e-a1930d9a46bd",
   "metadata": {},
   "source": [
    "## 演習問題の解答"
   ]
  },
  {
   "cell_type": "markdown",
   "id": "05905c58-d226-4905-bf92-634a3f2af855",
   "metadata": {},
   "source": [
    "- Q1. 数値のリスト 1 つを仮引数とし，戻り値をこのリストの RMS 値 1 つとした関数: `calc_rms` を作成してください．ここで，データの個数を $n$, i番目のデータを $x_i$ とすると，RMS 値は，\n",
    "\n",
    "$$\n",
    "RMS = \\sqrt{\\frac{1}{n} \\sum_{i=1}^{n}x_i^2}\n",
    "$$\n",
    "\n",
    "で計算されます．"
   ]
  },
  {
   "cell_type": "code",
   "execution_count": 41,
   "id": "1bf36776-b280-455f-9940-9192ff654669",
   "metadata": {},
   "outputs": [],
   "source": [
    "def calc_rms(arr):\n",
    "    # init\n",
    "    ret = 0\n",
    "    \n",
    "    for x in arr:\n",
    "        # add squared value\n",
    "        ret += x**2\n",
    "    \n",
    "    # mean\n",
    "    ret /= len(arr)\n",
    "    \n",
    "    # sqrt\n",
    "    ret = ret**(1/2)\n",
    "    \n",
    "    return ret"
   ]
  },
  {
   "cell_type": "markdown",
   "id": "ef73cf3e-f785-4b16-8128-f78b46062b9c",
   "metadata": {},
   "source": [
    "または，"
   ]
  },
  {
   "cell_type": "code",
   "execution_count": 42,
   "id": "e18ea71a-0ea6-4354-bf16-13a4d3c1684d",
   "metadata": {},
   "outputs": [],
   "source": [
    "def calc_rms(arr):\n",
    "    return (sum([v**2 for v in arr]) / len(arr))**(1/2)"
   ]
  },
  {
   "cell_type": "markdown",
   "id": "b86ada08-79dd-4f79-afdc-ace0c986a017",
   "metadata": {},
   "source": [
    "- Q2. Q1 で作成した `calc_rms` の引数に 1 ～ 100 の奇数のリストを入力し，結果（戻り値）が 57.73214... であることを確認してください．"
   ]
  },
  {
   "cell_type": "code",
   "execution_count": 43,
   "id": "4aa54339-7d89-46e5-a972-2f4eea6188ce",
   "metadata": {},
   "outputs": [
    {
     "data": {
      "text/plain": [
       "(57.73214009544424, True)"
      ]
     },
     "execution_count": 43,
     "metadata": {},
     "output_type": "execute_result"
    }
   ],
   "source": [
    "arr = list(range(1,101,2))\n",
    "ret = calc_rms(arr=arr)\n",
    "ret, round(ret, 5)==57.73214"
   ]
  },
  {
   "cell_type": "markdown",
   "id": "9b5d8023-03e3-46d7-99a0-8f37724ace56",
   "metadata": {},
   "source": [
    "- Q3. `./data.txt` を読み，戻り値が `Hmidity[%]` の値のみのタプルとした引数なしの関数: `load_humi_data` を作成してください．データの読み込みにおいて，`import` が必要な標準関数やライブラリを用いず，テキストデータとして読み込んだものを処理する関数にしてください．"
   ]
  },
  {
   "cell_type": "markdown",
   "id": "c5df2fe8-1781-4d26-b248-65bf3cceb1be",
   "metadata": {},
   "source": [
    "まずは，ファイルの中身を見てみます．  \n",
    "読み込んだ際に全て表示すると大きい場合があるので，読み込んだら，文字数をまず出力してみます．"
   ]
  },
  {
   "cell_type": "code",
   "execution_count": 44,
   "id": "94fac1bb-16fd-4b9e-939d-8e18d8306fcf",
   "metadata": {},
   "outputs": [
    {
     "data": {
      "text/plain": [
       "59462"
      ]
     },
     "execution_count": 44,
     "metadata": {},
     "output_type": "execute_result"
    }
   ],
   "source": [
    "with open(\"./data.txt\", mode=\"r\") as f:\n",
    "    txt = f.read()\n",
    "len(txt)"
   ]
  },
  {
   "cell_type": "markdown",
   "id": "6ae68c36-9775-465c-960b-50ff8c6a58f8",
   "metadata": {},
   "source": [
    "59462 文字ということで，全部表示させると邪魔なので，前半／後半のそれぞれ 500 文字について表示してみます．"
   ]
  },
  {
   "cell_type": "code",
   "execution_count": 45,
   "id": "4b8d1518-6dc2-4a48-832d-35097df436e2",
   "metadata": {},
   "outputs": [
    {
     "data": {
      "text/plain": [
       "'TimeStamp: 2022/01/18 19:29:14.688684, ElapsedTime[s]: 114.311, Temperature[degC]: 19.40032, Humidity[%]: 56.44159\\nTimeStamp: 2022/01/18 19:29:16.22105, ElapsedTime[s]: 115.644, Temperature[degC]: 19.38697, Humidity[%]: 55.97925\\nTimeStamp: 2022/01/18 19:29:17.355098, ElapsedTime[s]: 116.977, Temperature[degC]: 19.40032, Humidity[%]: 55.46502\\nTimeStamp: 2022/01/18 19:29:18.688375, ElapsedTime[s]: 118.31, Temperature[degC]: 19.40032, Humidity[%]: 54.99352\\nTimeStamp: 2022/01/18 19:29:20.21160, Elap'"
      ]
     },
     "execution_count": 45,
     "metadata": {},
     "output_type": "execute_result"
    }
   ],
   "source": [
    "txt[:500]"
   ]
  },
  {
   "cell_type": "code",
   "execution_count": 46,
   "id": "e81c9078-c129-414a-8445-754cf8cf0d9e",
   "metadata": {},
   "outputs": [
    {
     "data": {
      "text/plain": [
       "'e[degC]: 19.6273, Humidity[%]: 46.95049\\nTimeStamp: 2022/01/18 19:40:42.663524, ElapsedTime[s]: 802.285, Temperature[degC]: 19.61395, Humidity[%]: 46.89556\\nTimeStamp: 2022/01/18 19:40:43.996179, ElapsedTime[s]: 803.618, Temperature[degC]: 19.60059, Humidity[%]: 46.91997\\nTimeStamp: 2022/01/18 19:40:45.329131, ElapsedTime[s]: 804.951, Temperature[degC]: 19.61395, Humidity[%]: 46.92302\\nTimeStamp: 2022/01/18 19:40:46.660690, ElapsedTime[s]: 806.282, Temperature[degC]: 19.60059, Humidity[%]: 46.86809\\n'"
      ]
     },
     "execution_count": 46,
     "metadata": {},
     "output_type": "execute_result"
    }
   ],
   "source": [
    "txt[-500:]"
   ]
  },
  {
   "cell_type": "markdown",
   "id": "8d722afd-476a-4135-9fbf-7b6448fd272c",
   "metadata": {},
   "source": [
    "ということでデータ形式としては辞書のような形で，変数名と値がコロンで 1 対 1 に対応し，一つのタイムスタンプに対してカンマ区切りでデータが 3 つあり，次のタイムスタンプとデータの登録は `\\n` による改行で区切られています（もし，改行コードが `\\n` 以外に書き換えられていたら，そちらに読み替えてください）．  \n",
    "題意の `Humidity[%]` の値のみのリストを取得するためには，\n",
    "\n",
    "- 改行 `\\n` で区切ったリストを作る\n",
    "- 上記の各要素について `Humidity[%]: ` を含むこれ以前の文字列を削除し，float でキャストする\n",
    "\n",
    "上記 2 つの工程を経て実現できると考えられますので，以下のように実装します．"
   ]
  },
  {
   "cell_type": "code",
   "execution_count": 52,
   "id": "5620bb89-e82e-447c-b839-4356099b176f",
   "metadata": {},
   "outputs": [],
   "source": [
    "def load_humi_data(fpath=\"./data.txt\"):\n",
    "    # laod data.txt\n",
    "    with open(fpath, mode=\"r\") as f:\n",
    "        txt = f.read()\n",
    "    \n",
    "    # split: \"\\n\"\n",
    "    data = txt.split(\"\\n\")\n",
    "    \n",
    "    # cut and cast to float\n",
    "    data = tuple(float(v.split(\"Humidity[%]: \")[-1]) for v in data if v)\n",
    "    \n",
    "    return data"
   ]
  },
  {
   "cell_type": "markdown",
   "id": "91408963-5936-4a18-a3be-5ad152c6ad9b",
   "metadata": {},
   "source": [
    "- Q4. Q3 の戻り値であるタプルについて，先頭／末尾それぞれ 5 つを表示し，それぞれ `(56.44159, 55.97925, 55.46502, 54.99352, 54.72496)` と `(46.95049, 46.89556, 46.91997, 46.92302, 46.86809)` であることと，タプルの中身の要素の一つを取り出し，その型が `float` であることを確認ください．"
   ]
  },
  {
   "cell_type": "code",
   "execution_count": 54,
   "id": "62ea28be-5016-4764-ab1b-f8331cc2337a",
   "metadata": {},
   "outputs": [
    {
     "data": {
      "text/plain": [
       "(56.44159, 55.97925, 55.46502, 54.99352, 54.72496)"
      ]
     },
     "execution_count": 54,
     "metadata": {},
     "output_type": "execute_result"
    }
   ],
   "source": [
    "data = load_humi_data()\n",
    "data[:5]"
   ]
  },
  {
   "cell_type": "code",
   "execution_count": 55,
   "id": "37e80091-d9c8-4ce8-8e31-dd563a0585a7",
   "metadata": {},
   "outputs": [
    {
     "data": {
      "text/plain": [
       "(46.95049, 46.89556, 46.91997, 46.92302, 46.86809)"
      ]
     },
     "execution_count": 55,
     "metadata": {},
     "output_type": "execute_result"
    }
   ],
   "source": [
    "data[-5:]"
   ]
  },
  {
   "cell_type": "code",
   "execution_count": 56,
   "id": "dadf709b-e258-494e-990d-d0caac0c6a1d",
   "metadata": {},
   "outputs": [
    {
     "data": {
      "text/plain": [
       "float"
      ]
     },
     "execution_count": 56,
     "metadata": {},
     "output_type": "execute_result"
    }
   ],
   "source": [
    "type(data[0])"
   ]
  },
  {
   "cell_type": "markdown",
   "id": "cbc0e6e1-96df-4a2a-8570-f4d2ecf81f17",
   "metadata": {},
   "source": [
    "- Q5. 以下のクラス定義／メソッド実行を行ってください（結果が合えば良く，細部の差異については気にする必要はありません）．\n",
    "    - Q1 と Q3 で作成した `calc_rms` と `load_humi_data` をメソッドに持つクラス: `HumidityRMSGetter` を作成してください．\n",
    "    - 時系列データである `load_humi_data` の戻り値のタプルについて，そのデータ点を含んだ時間方向に対してそれ以前の計 10 点のデータに対する RMS 値を格納したリストを返すメソッド: `get_rms_arr` を作成してください．このとき，`get_rms_arr` に渡す配列の最初の方においてデータ点は 10 点に届きませんが，この場合はそのデータ点含むそれ以前のデータ点全てとしてください．また，`get_rms_arr` にて返す RMS 値は，小数点第5位までとし，小数点第6位に偶数丸めを適用したものとしてください．\n",
    "    - 最後に，`HumidityRMSGetter` をインスタンス化し，`get_rms_arr` を呼び出して結果を変数に代入し，先頭／末尾それぞれ 3 つ表示し，それぞれの結果が `[56.44159, 56.2109, 55.96337]` と `[46.87241, 46.8774, 46.87726]` であることを確認ください．"
   ]
  },
  {
   "cell_type": "code",
   "execution_count": 71,
   "id": "d46d7455-b0ae-4e2b-88b7-662169401c28",
   "metadata": {},
   "outputs": [],
   "source": [
    "class HumidityRMSGetter:\n",
    "    def __init__(self, fpath=\"./data.txt\", smp_rate=10):\n",
    "        self.fpath = fpath\n",
    "        self.smp_rate = smp_rate\n",
    "        \n",
    "    @staticmethod\n",
    "    def calc_rms(arr):\n",
    "        return (sum([v**2 for v in arr]) / len(arr))**(1/2)\n",
    "\n",
    "    def load_humi_data(self):\n",
    "        # laod data.txt\n",
    "        with open(self.fpath, mode=\"r\") as f:\n",
    "            txt = f.read()\n",
    "\n",
    "        # split: \"\\n\"\n",
    "        self.data = txt.split(\"\\n\")\n",
    "\n",
    "        # cut and cast to float\n",
    "        self.data = tuple(\n",
    "            float(v.split(\"Humidity[%]: \")[-1]) for v in self.data if v\n",
    "        )\n",
    "        \n",
    "    def get_rms_arr(self):\n",
    "        # get humidity tuple\n",
    "        self.load_humi_data()\n",
    "        \n",
    "        # init\n",
    "        rms_arr = []\n",
    "        \n",
    "        # loop: range(len(self.data))\n",
    "        for i in range(len(self.data)):\n",
    "            # get data into calc_rms\n",
    "            data = self.data[:i + 1] if i < self.smp_rate else self.data[i - self.smp_rate : i + 1]\n",
    "                \n",
    "            # calc rms\n",
    "            rms = HumidityRMSGetter.calc_rms(arr=data)\n",
    "            \n",
    "            # round\n",
    "            rms = round(rms, 5)\n",
    "            \n",
    "            # append\n",
    "            rms_arr.append(rms)\n",
    "            \n",
    "        return rms_arr\n",
    "    \n",
    "\n",
    "# instance\n",
    "hum_rms_getter = HumidityRMSGetter()\n",
    "\n",
    "# get rms list\n",
    "rms_arr = hum_rms_getter.get_rms_arr()"
   ]
  },
  {
   "cell_type": "code",
   "execution_count": 72,
   "id": "4e9600e3-4f4c-4edf-bbd1-4840cb1ebbed",
   "metadata": {},
   "outputs": [
    {
     "data": {
      "text/plain": [
       "[56.44159, 56.2109, 55.96337]"
      ]
     },
     "execution_count": 72,
     "metadata": {},
     "output_type": "execute_result"
    }
   ],
   "source": [
    "rms_arr[:3]"
   ]
  },
  {
   "cell_type": "code",
   "execution_count": 73,
   "id": "ef24e639-8e5f-4757-8289-1129f85bce81",
   "metadata": {},
   "outputs": [
    {
     "data": {
      "text/plain": [
       "[46.87241, 46.8774, 46.87726]"
      ]
     },
     "execution_count": 73,
     "metadata": {},
     "output_type": "execute_result"
    }
   ],
   "source": [
    "rms_arr[-3:]"
   ]
  },
  {
   "cell_type": "code",
   "execution_count": null,
   "id": "7b5a09b5-33d8-4a7a-9afa-c50f66cc0341",
   "metadata": {},
   "outputs": [],
   "source": []
  }
 ],
 "metadata": {
  "kernelspec": {
   "display_name": "Python 3 (ipykernel)",
   "language": "python",
   "name": "python3"
  },
  "language_info": {
   "codemirror_mode": {
    "name": "ipython",
    "version": 3
   },
   "file_extension": ".py",
   "mimetype": "text/x-python",
   "name": "python",
   "nbconvert_exporter": "python",
   "pygments_lexer": "ipython3",
   "version": "3.8.10"
  }
 },
 "nbformat": 4,
 "nbformat_minor": 5
}
