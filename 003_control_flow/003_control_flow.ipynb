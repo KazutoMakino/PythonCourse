{
 "cells": [
  {
   "cell_type": "markdown",
   "id": "c8b76ace-5a63-4a6f-bb26-705a6bb4af5b",
   "metadata": {},
   "source": [
    "# 【自前python講座-003】条件分岐／繰り返し処理／例外処理\n",
    "\n",
    "---\n",
    "\n",
    "- ref:\n",
    "    - https://docs.python.org/ja/3.9/reference/compound_stmts.html\n",
    "    - https://docs.python.org/ja/3.9/tutorial/controlflow.html\n",
    "- blog: https://slash-z.com/\n",
    "- github: https://github.com/KazutoMakino/PythonCourses\n",
    "\n",
    "---"
   ]
  },
  {
   "cell_type": "markdown",
   "id": "6a1faff1-390e-48a3-bb6b-716508daefce",
   "metadata": {},
   "source": [
    "## 条件分岐: if-elif-else"
   ]
  },
  {
   "cell_type": "markdown",
   "id": "1212371c-e333-4538-9319-493600037af8",
   "metadata": {},
   "source": [
    "```\n",
    "if 条件式:\n",
    "    処理\n",
    "elif 条件式:\n",
    "    処理\n",
    "elif 条件式:\n",
    "    処理\n",
    "else:\n",
    "    処理\n",
    "```"
   ]
  },
  {
   "cell_type": "markdown",
   "id": "1996f560-db99-49fb-9aad-7e163053ad29",
   "metadata": {},
   "source": [
    "構文は上記の通りで，if の条件式を満たす場合はコロン `:` の次のインデントブロック（字下げされた行）が処理されます．  \n",
    "ここで，python におけるインデントはスペース 4 文字ということが，python のコーディング規約の [PEP8](https://pep8-ja.readthedocs.io/ja/latest/) によって定められています．  \n",
    "elif は if の条件式が False だった場合に上から順番に if のように条件分岐でき，0 を含む任意個数が使用可能です．  \n",
    "C 言語で言う switch 文も elif を用いて作成します．  \n",
    "else は 0 もしくは 1 回利用可能で，どの if-else の条件式にも適合しなかった場合に処理されます．  \n",
    "例えば以下のように使います．"
   ]
  },
  {
   "cell_type": "code",
   "execution_count": 1,
   "id": "9cc5bbb1-bf55-417b-a849-e6dc78eaa949",
   "metadata": {},
   "outputs": [
    {
     "name": "stdout",
     "output_type": "stream",
     "text": [
      "else\n"
     ]
    }
   ],
   "source": [
    "a = 3\n",
    "\n",
    "if a == 1:\n",
    "    print(\"a == 1\")\n",
    "elif a == 2:\n",
    "    print(\"a == 2\")\n",
    "elif a < 3:\n",
    "    print(\"a < 3\")\n",
    "else:\n",
    "    print(\"else\")"
   ]
  },
  {
   "cell_type": "code",
   "execution_count": 2,
   "id": "5e2b1b6c-b687-4eac-b73d-ff73a1bf8b79",
   "metadata": {},
   "outputs": [
    {
     "name": "stdout",
     "output_type": "stream",
     "text": [
      "4\n"
     ]
    }
   ],
   "source": [
    "a = [\"a\", \"bb\", \"ccc\", \"dddd\"]\n",
    "\n",
    "if \"a\" not in a:\n",
    "    print(1)\n",
    "elif \"bb\" not in a:\n",
    "    print(2)\n",
    "elif \"ccc\" not in a:\n",
    "    print(3)\n",
    "elif \"dddd\" in a:\n",
    "    print(4)\n",
    "else:\n",
    "    print(\"else\")"
   ]
  },
  {
   "cell_type": "markdown",
   "id": "780b052f-404e-4ae1-9d98-450660859048",
   "metadata": {},
   "source": [
    "処理において，特に何もしない `pass` というオブジェクトも使うことができます．  \n",
    "例えば，出力はしないけど，明示的に個々の処理は OK ということをコードで残したい時に使われると思います．"
   ]
  },
  {
   "cell_type": "code",
   "execution_count": 3,
   "id": "b8f45382-e90a-4d26-a04a-055d3cde2142",
   "metadata": {},
   "outputs": [],
   "source": [
    "a = True\n",
    "\n",
    "if a is True:\n",
    "    pass\n",
    "else:\n",
    "    print(\"else\")"
   ]
  },
  {
   "cell_type": "markdown",
   "id": "a74abce1-5edd-4f31-b55a-c643e84b18da",
   "metadata": {},
   "source": [
    "## 繰り返し処理: for-in-else"
   ]
  },
  {
   "cell_type": "markdown",
   "id": "aae48658-9528-4e6b-853b-afa9308c71a0",
   "metadata": {},
   "source": [
    "```\n",
    "for value in iterable:\n",
    "    処理\n",
    "else:\n",
    "    処理\n",
    "```"
   ]
  },
  {
   "cell_type": "markdown",
   "id": "d8757944-30e3-4a3c-990e-a2b9673770ce",
   "metadata": {},
   "source": [
    "構文は上記の通りで，リストや range() などの iterable オブジェクトが一度だけ回され，value に代入されます．  \n",
    "`:` の次のインデントブロックは，value の個数回処理されます．  \n",
    "else は 0 もしくは 1 回利用可能で，for の処理が終わった際に処理されます．  \n",
    "繰り返しを break で抜けた場合，else のインデントブロックは処理されずスキップされます．  \n",
    "例えば以下のように使います．"
   ]
  },
  {
   "cell_type": "code",
   "execution_count": 4,
   "id": "07eda9e4-a943-44d6-8d8c-4a3d1626138b",
   "metadata": {},
   "outputs": [
    {
     "name": "stdout",
     "output_type": "stream",
     "text": [
      "0\n",
      "1\n",
      "2\n"
     ]
    }
   ],
   "source": [
    "for i in [0, 1, 2]:\n",
    "    print(i)"
   ]
  },
  {
   "cell_type": "code",
   "execution_count": 5,
   "id": "eb528948-0d4a-45ce-b940-40d816e8d726",
   "metadata": {},
   "outputs": [
    {
     "name": "stdout",
     "output_type": "stream",
     "text": [
      "banana\n",
      "apple\n",
      "orange\n"
     ]
    }
   ],
   "source": [
    "fruits = [\"banana\", \"apple\", \"orange\"]\n",
    "for fruit in fruits:\n",
    "    print(fruit)"
   ]
  },
  {
   "cell_type": "code",
   "execution_count": 6,
   "id": "3ba0b56a-2e6c-4541-ba85-c9877f6d0ac2",
   "metadata": {},
   "outputs": [
    {
     "name": "stdout",
     "output_type": "stream",
     "text": [
      "0\n",
      "1\n",
      "2\n",
      "3\n",
      "4\n",
      "end\n"
     ]
    }
   ],
   "source": [
    "for i in range(5):\n",
    "    print(i)\n",
    "else:\n",
    "    print(\"end\")"
   ]
  },
  {
   "cell_type": "code",
   "execution_count": 7,
   "id": "e59e2d77-3ecf-4a13-ae5a-a11a07c29d2e",
   "metadata": {},
   "outputs": [
    {
     "name": "stdout",
     "output_type": "stream",
     "text": [
      "1 apple\n",
      "2 orange\n"
     ]
    }
   ],
   "source": [
    "for i, fruit in enumerate(fruits):\n",
    "    if fruit.endswith(\"e\"):\n",
    "        print(i, fruit)"
   ]
  },
  {
   "cell_type": "code",
   "execution_count": 8,
   "id": "33f76433-e2d8-4d7a-b5c2-4685736dd07f",
   "metadata": {},
   "outputs": [
    {
     "name": "stdout",
     "output_type": "stream",
     "text": [
      "gold Au\n",
      "silver Ag\n",
      "bronze Cu and Sn\n",
      "銅メダルは青銅なので bronze\n"
     ]
    }
   ],
   "source": [
    "metal = {\"gold\": \"Au\", \"silver\": \"Ag\", \"bronze\": \"Cu and Sn\"}\n",
    "\n",
    "for metal_name, symbol in metal.items():\n",
    "    print(metal_name, symbol)\n",
    "else:\n",
    "    print(\"銅メダルは青銅なので bronze\")"
   ]
  },
  {
   "cell_type": "code",
   "execution_count": 9,
   "id": "3508d113-f3a4-42bd-be30-2927d52b1805",
   "metadata": {},
   "outputs": [
    {
     "name": "stdout",
     "output_type": "stream",
     "text": [
      "0 10\n",
      "1 11\n",
      "2 12\n",
      "3 13\n",
      "4 14\n",
      "5 15\n",
      "6 16\n",
      "7 17\n",
      "8 18\n",
      "9 19\n"
     ]
    }
   ],
   "source": [
    "for i,j in zip(range(10), range(10,20,1)):\n",
    "    print(i,j)"
   ]
  },
  {
   "cell_type": "code",
   "execution_count": 10,
   "id": "ff362465-e00f-4651-a288-cc4c3791c6b2",
   "metadata": {},
   "outputs": [
    {
     "name": "stdout",
     "output_type": "stream",
     "text": [
      "2 12\n",
      "4 14\n",
      "6 16\n"
     ]
    }
   ],
   "source": [
    "for i,j in zip(range(10), range(10,20,1)):\n",
    "    if (i==0) or (i % 2 == 1):\n",
    "        continue\n",
    "    if j>=17:\n",
    "        break\n",
    "    print(i,j)"
   ]
  },
  {
   "cell_type": "code",
   "execution_count": 11,
   "id": "670ceb60-fa49-4878-ab73-0c756398857b",
   "metadata": {},
   "outputs": [
    {
     "data": {
      "text/plain": [
       "[[0, 0, 0, 0, 0],\n",
       " [0, 1, 2, 3, 4],\n",
       " [0, 2, 4, 6, 8],\n",
       " [0, 3, 6, 9, 12],\n",
       " [0, 4, 8, 12, 16]]"
      ]
     },
     "execution_count": 11,
     "metadata": {},
     "output_type": "execute_result"
    }
   ],
   "source": [
    "arr = []\n",
    "\n",
    "for i in range(5):\n",
    "    arr.append([])\n",
    "    for j in range(5):\n",
    "        arr[i].append(i*j)\n",
    "arr"
   ]
  },
  {
   "cell_type": "code",
   "execution_count": 12,
   "id": "cbcfcc36-566e-468b-92f0-90370644aace",
   "metadata": {},
   "outputs": [
    {
     "name": "stdout",
     "output_type": "stream",
     "text": [
      "0\n",
      "1\n",
      "2\n",
      "3\n",
      "4\n"
     ]
    }
   ],
   "source": [
    "for i in range(5):\n",
    "    print(i)\n",
    "    if i > 3:\n",
    "        break\n",
    "else:\n",
    "    print(\"not print\")"
   ]
  },
  {
   "cell_type": "markdown",
   "id": "a720b850-a45f-49ce-ad9f-b7fb23edb659",
   "metadata": {},
   "source": [
    "## 繰り返し処理: while-else"
   ]
  },
  {
   "cell_type": "markdown",
   "id": "a102f026-b429-43df-ab51-526641e7221e",
   "metadata": {},
   "source": [
    "```\n",
    "while 条件式:\n",
    "    処理\n",
    "else:\n",
    "    処理\n",
    "```"
   ]
  },
  {
   "cell_type": "markdown",
   "id": "2f387e8c-75aa-43df-b51d-aa0abfb19fd5",
   "metadata": {},
   "source": [
    "構文は上記の通りで，条件式が True を返す間中ずっと直後のインデントブロックの処理を繰り返し続け，条件式が False になると else のインデントブロックを処理します．  \n",
    "条件式が True しかない場合は無限ループになります．  \n",
    "無限ループが好ましくない場合は，while の条件式に対してインデントブロックの計算結果が関与して，while を抜けられるような条件式となること，あるいは，while のインデントブロック内で break を用いることで，無限ループを回避できます．  \n",
    "繰り返しを break で抜けた場合，else のインデントブロックは処理されずスキップされます．  \n",
    "\n",
    "注意として，待ち時間なしの画面出力を含む無限ループを走らせた場合，ひっきりなしに画面出力が際限なく行われます．  \n",
    "これを停止したい場合は，jupyter であれば上部タスクバーの四角ボタン (Interrupt the kernel) をクリックもしくはブラウザのタブを閉じます．  \n",
    "コマンドライン上では，`ctrl` キーと `C` キーを同時に押下するか，違うターミナルを起動し，コマンドラインでプロセスを強制終了させたり，もしくは，タスクマネージャーでプロセス終了を行っても良いでしょう．  \n",
    "\n",
    "使用例は以下です．"
   ]
  },
  {
   "cell_type": "code",
   "execution_count": 13,
   "id": "5fd281cb-8874-469e-b9ca-ab40f5467284",
   "metadata": {},
   "outputs": [
    {
     "name": "stdout",
     "output_type": "stream",
     "text": [
      "0\n",
      "1\n",
      "2\n",
      "aaa\n"
     ]
    }
   ],
   "source": [
    "i = 0\n",
    "while i < 3:\n",
    "    print(i)\n",
    "    i += 1\n",
    "else:\n",
    "    print(\"aaa\")"
   ]
  },
  {
   "cell_type": "code",
   "execution_count": 14,
   "id": "f10ecc20-a7c1-45f1-8fdd-1d0714601214",
   "metadata": {},
   "outputs": [
    {
     "name": "stdout",
     "output_type": "stream",
     "text": [
      "0\n",
      "1\n",
      "2\n",
      "3\n",
      "4\n",
      "break\n"
     ]
    }
   ],
   "source": [
    "i = 0\n",
    "while True:\n",
    "    print(i)\n",
    "    if i > 3:\n",
    "        print(\"break\")\n",
    "        break\n",
    "    i += 1\n",
    "else:\n",
    "    print(\"not print\")"
   ]
  },
  {
   "cell_type": "code",
   "execution_count": 15,
   "id": "f480ba17-6bd6-4b4f-91cd-459278ad9886",
   "metadata": {},
   "outputs": [
    {
     "name": "stdout",
     "output_type": "stream",
     "text": [
      "[[0, 1]]\n",
      "[[0, 1], [1, 1]]\n",
      "[[0, 1], [1, 1], [2, 4]]\n",
      "[[0, 1], [1, 1], [2, 4], [3, 27]]\n",
      "[[0, 1], [1, 1], [2, 4], [3, 27], [4, 256]]\n"
     ]
    }
   ],
   "source": [
    "arr = []\n",
    "i = 0\n",
    "while i < 5:\n",
    "    arr.append([i, i**i])\n",
    "    print(arr)\n",
    "    i += 1"
   ]
  },
  {
   "cell_type": "markdown",
   "id": "ab6ddf1a-dd2e-49d1-966c-80512f2d029f",
   "metadata": {},
   "source": [
    "## 例外処理: try-except-else-finally"
   ]
  },
  {
   "cell_type": "markdown",
   "id": "d51a0888-ac20-41c2-bdd8-33a81ea1b097",
   "metadata": {},
   "source": [
    "その名の通り例外処理は，処理にエラー（例外）が生じたときに異なる処理をさせる制御機能です．  \n",
    "例外処理の前に，まずは，エラーについて少し知っておく必要があります．  \n",
    "例えば，`1 / 0` は無限大に発散しますが，数値計算上では無限大という属性，もしくは，エラーとなります．  \n",
    "python の標準ライブラリにおいては，「0 で割れません」ということで `ZeroDivisionError` が送出されます．  \n",
    "また，`1 + \"1\"` は整数と文字列の足し算を行っていますが，実際には処理できず，「演算対象の型に問題がある」ということで `TypeError` が送出されます．  \n",
    "コードで実行してみると以下の通りです．"
   ]
  },
  {
   "cell_type": "code",
   "execution_count": 16,
   "id": "4331bf7c-591d-44ed-a5ec-c2c8b7490bec",
   "metadata": {},
   "outputs": [
    {
     "ename": "ZeroDivisionError",
     "evalue": "division by zero",
     "output_type": "error",
     "traceback": [
      "\u001b[1;31m---------------------------------------------------------------------------\u001b[0m",
      "\u001b[1;31mZeroDivisionError\u001b[0m                         Traceback (most recent call last)",
      "\u001b[1;32m~\\AppData\\Local\\Temp/ipykernel_632/3979469288.py\u001b[0m in \u001b[0;36m<module>\u001b[1;34m\u001b[0m\n\u001b[1;32m----> 1\u001b[1;33m \u001b[0ma\u001b[0m \u001b[1;33m=\u001b[0m \u001b[1;36m1\u001b[0m \u001b[1;33m/\u001b[0m \u001b[1;36m0\u001b[0m\u001b[1;33m\u001b[0m\u001b[1;33m\u001b[0m\u001b[0m\n\u001b[0m",
      "\u001b[1;31mZeroDivisionError\u001b[0m: division by zero"
     ]
    }
   ],
   "source": [
    "a = 1 / 0"
   ]
  },
  {
   "cell_type": "code",
   "execution_count": 17,
   "id": "417ba49f-ab10-4036-bddf-8e6909cfd211",
   "metadata": {},
   "outputs": [
    {
     "ename": "TypeError",
     "evalue": "unsupported operand type(s) for +: 'int' and 'str'",
     "output_type": "error",
     "traceback": [
      "\u001b[1;31m---------------------------------------------------------------------------\u001b[0m",
      "\u001b[1;31mTypeError\u001b[0m                                 Traceback (most recent call last)",
      "\u001b[1;32m~\\AppData\\Local\\Temp/ipykernel_632/273750274.py\u001b[0m in \u001b[0;36m<module>\u001b[1;34m\u001b[0m\n\u001b[1;32m----> 1\u001b[1;33m \u001b[0ma\u001b[0m \u001b[1;33m=\u001b[0m \u001b[1;36m1\u001b[0m \u001b[1;33m+\u001b[0m \u001b[1;34m\"1\"\u001b[0m\u001b[1;33m\u001b[0m\u001b[1;33m\u001b[0m\u001b[0m\n\u001b[0m",
      "\u001b[1;31mTypeError\u001b[0m: unsupported operand type(s) for +: 'int' and 'str'"
     ]
    }
   ],
   "source": [
    "a = 1 + \"1\""
   ]
  },
  {
   "cell_type": "markdown",
   "id": "6ced4a38-6f2f-42ec-94fb-7009a7e4da97",
   "metadata": {},
   "source": [
    "上記を見越して例外処理させたい場合に，以下のような構文を用います．"
   ]
  },
  {
   "cell_type": "markdown",
   "id": "159e18ba-9685-49b0-85d9-7e6ea2a67e28",
   "metadata": {},
   "source": [
    "```\n",
    "try:\n",
    "    処理\n",
    "except エラー名称 as 左記のエラーを示す任意変数名:\n",
    "    処理\n",
    "else:\n",
    "    処理\n",
    "finally:\n",
    "    処理\n",
    "```"
   ]
  },
  {
   "cell_type": "markdown",
   "id": "4554f071-cee3-48f7-b741-dff4877c91fc",
   "metadata": {},
   "source": [
    "初めに try のインデントブロックが処理されます．  \n",
    "この処理でエラーが送出され，かつ，このエラーと except で指定したエラー名称が一致する場合，except のインデントブロックが処理されます．  \n",
    "except と エラー名称 は必須です．  \n",
    "try のインデントブロックの処理におけるエラーと except で指定したエラーと異なる場合は，そのままエラーが送出され，処理が終了します．  \n",
    "else のインデントブロックは，try でエラーが送出されないで正常終了する場合に，try の処理がすべて終了した後に処理されます．つまり，try でエラーが送出され except に処理がわたる場合は，else は無視されます．   \n",
    "finally のインデントブロックは，try / except / else の処理が全て終了した後に処理されます．  \n",
    "else と finally はオプションのため，必須ではありません．  \n",
    "例を以下に示します．"
   ]
  },
  {
   "cell_type": "code",
   "execution_count": 18,
   "id": "30d3c491-0c72-4d6e-bb83-9c1456799fc7",
   "metadata": {},
   "outputs": [
    {
     "name": "stdout",
     "output_type": "stream",
     "text": [
      "1.0\n"
     ]
    }
   ],
   "source": [
    "try:\n",
    "    a = 1 / 1\n",
    "    print(a)\n",
    "except ZeroDivisionError:\n",
    "    print(\"ZeroDivisionError\")"
   ]
  },
  {
   "cell_type": "markdown",
   "id": "c2a39267-856a-4145-85d5-43ee6e92acad",
   "metadata": {},
   "source": [
    "この場合は，エラーが無いので a がそのまま出力されています．"
   ]
  },
  {
   "cell_type": "code",
   "execution_count": 19,
   "id": "1a67d6ea-fc23-4dd4-8bf7-8cb236c8c62d",
   "metadata": {},
   "outputs": [
    {
     "name": "stdout",
     "output_type": "stream",
     "text": [
      "1.0\n",
      "else\n"
     ]
    }
   ],
   "source": [
    "try:\n",
    "    a = 1 / 1\n",
    "    print(a)\n",
    "except ZeroDivisionError:\n",
    "    print(\"ZeroDivisionError\")\n",
    "else:\n",
    "    print(\"else\")"
   ]
  },
  {
   "cell_type": "markdown",
   "id": "1622ee23-1664-4ae9-ad09-f704a54aefa2",
   "metadata": {},
   "source": [
    "try のインデントブロックが正常終了しているので，else が処理されています．"
   ]
  },
  {
   "cell_type": "code",
   "execution_count": 20,
   "id": "43f1adb3-c791-43a1-91a6-31eac7f7fe81",
   "metadata": {},
   "outputs": [
    {
     "name": "stdout",
     "output_type": "stream",
     "text": [
      "ZeroDivisionError\n"
     ]
    }
   ],
   "source": [
    "try:\n",
    "    a = 1 / 0\n",
    "    print(a)\n",
    "except ZeroDivisionError:\n",
    "    print(\"ZeroDivisionError\")\n",
    "else:\n",
    "    print(\"else\")"
   ]
  },
  {
   "cell_type": "markdown",
   "id": "ac77e55c-cfe3-4e77-adfa-48021e1db989",
   "metadata": {},
   "source": [
    "try のインデントブロックが `ZeroDivisionError` を送出し，かつ，except にて指定したエラーと同一なので，except が処理されています．  \n",
    "一方，正常終了していないので，else は処理されません．"
   ]
  },
  {
   "cell_type": "code",
   "execution_count": 21,
   "id": "e0a8c551-c27f-4fb7-b236-d2460b4faa88",
   "metadata": {},
   "outputs": [
    {
     "name": "stdout",
     "output_type": "stream",
     "text": [
      "division by zero\n"
     ]
    }
   ],
   "source": [
    "try:\n",
    "    a = 1 / 0\n",
    "    print(a)\n",
    "except ZeroDivisionError as err:\n",
    "    print(err)"
   ]
  },
  {
   "cell_type": "markdown",
   "id": "d17e541e-b4b0-467b-a76a-ef9ab8a63acc",
   "metadata": {},
   "source": [
    "`ZeroDivisionError` を変数 `err` として定義し，表示しています．"
   ]
  },
  {
   "cell_type": "code",
   "execution_count": 22,
   "id": "fc62eff3-b7db-4c65-ae4c-c2138928032b",
   "metadata": {},
   "outputs": [
    {
     "ename": "ZeroDivisionError",
     "evalue": "division by zero",
     "output_type": "error",
     "traceback": [
      "\u001b[1;31m---------------------------------------------------------------------------\u001b[0m",
      "\u001b[1;31mZeroDivisionError\u001b[0m                         Traceback (most recent call last)",
      "\u001b[1;32m~\\AppData\\Local\\Temp/ipykernel_632/1181306212.py\u001b[0m in \u001b[0;36m<module>\u001b[1;34m\u001b[0m\n\u001b[0;32m      1\u001b[0m \u001b[1;32mtry\u001b[0m\u001b[1;33m:\u001b[0m\u001b[1;33m\u001b[0m\u001b[1;33m\u001b[0m\u001b[0m\n\u001b[1;32m----> 2\u001b[1;33m     \u001b[0ma\u001b[0m \u001b[1;33m=\u001b[0m \u001b[1;36m1\u001b[0m \u001b[1;33m/\u001b[0m \u001b[1;36m0\u001b[0m\u001b[1;33m\u001b[0m\u001b[1;33m\u001b[0m\u001b[0m\n\u001b[0m\u001b[0;32m      3\u001b[0m     \u001b[0mprint\u001b[0m\u001b[1;33m(\u001b[0m\u001b[0ma\u001b[0m\u001b[1;33m)\u001b[0m\u001b[1;33m\u001b[0m\u001b[1;33m\u001b[0m\u001b[0m\n\u001b[0;32m      4\u001b[0m \u001b[1;32mexcept\u001b[0m \u001b[0mTypeError\u001b[0m \u001b[1;32mas\u001b[0m \u001b[0merr\u001b[0m\u001b[1;33m:\u001b[0m\u001b[1;33m\u001b[0m\u001b[1;33m\u001b[0m\u001b[0m\n\u001b[0;32m      5\u001b[0m     \u001b[0mprint\u001b[0m\u001b[1;33m(\u001b[0m\u001b[0merr\u001b[0m\u001b[1;33m)\u001b[0m\u001b[1;33m\u001b[0m\u001b[1;33m\u001b[0m\u001b[0m\n",
      "\u001b[1;31mZeroDivisionError\u001b[0m: division by zero"
     ]
    }
   ],
   "source": [
    "try:\n",
    "    a = 1 / 0\n",
    "    print(a)\n",
    "except TypeError as err:\n",
    "    print(err)"
   ]
  },
  {
   "cell_type": "markdown",
   "id": "3befd0a6-e288-4656-8c7c-b4a155f81d19",
   "metadata": {},
   "source": [
    "except にて `TypeError` を指定しましたが，実際は `ZeroDivisionError` だったので，except にて例外がキャッチされず，try のエラーがそのまま出力されています．"
   ]
  },
  {
   "cell_type": "code",
   "execution_count": 23,
   "id": "6f1b957c-bfc2-4b97-9b32-4aa8d8af5072",
   "metadata": {},
   "outputs": [
    {
     "name": "stdout",
     "output_type": "stream",
     "text": [
      "1.0\n",
      "else\n",
      "finally\n"
     ]
    }
   ],
   "source": [
    "try:\n",
    "    a = 1 / 1\n",
    "    print(a)\n",
    "except ZeroDivisionError as err:\n",
    "    print(err)\n",
    "else:\n",
    "    print(\"else\")\n",
    "finally:\n",
    "    print(\"finally\")"
   ]
  },
  {
   "cell_type": "markdown",
   "id": "2e770626-eecb-4c8c-b595-67212df58fc7",
   "metadata": {},
   "source": [
    "正常終了しているので else が処理され，かつ，finally が処理されています．"
   ]
  },
  {
   "cell_type": "code",
   "execution_count": 24,
   "id": "581f5953-95e2-44a3-bf28-e9965250f98e",
   "metadata": {},
   "outputs": [
    {
     "name": "stdout",
     "output_type": "stream",
     "text": [
      "division by zero\n",
      "finally\n"
     ]
    }
   ],
   "source": [
    "try:\n",
    "    a = 1 / 0\n",
    "    print(a)\n",
    "except ZeroDivisionError as err:\n",
    "    print(err)\n",
    "else:\n",
    "    print(\"else\")\n",
    "finally:\n",
    "    print(\"finally\")"
   ]
  },
  {
   "cell_type": "markdown",
   "id": "ae1f039f-5287-4066-8b6b-874f62a4146f",
   "metadata": {},
   "source": [
    "異常終了しているので else が処理されず，finally は処理されています．"
   ]
  },
  {
   "cell_type": "code",
   "execution_count": 25,
   "id": "55a8f5c4-f35b-4bd2-8bee-c680c6e8eabb",
   "metadata": {},
   "outputs": [
    {
     "name": "stdout",
     "output_type": "stream",
     "text": [
      "finally\n"
     ]
    },
    {
     "ename": "ZeroDivisionError",
     "evalue": "division by zero",
     "output_type": "error",
     "traceback": [
      "\u001b[1;31m---------------------------------------------------------------------------\u001b[0m",
      "\u001b[1;31mZeroDivisionError\u001b[0m                         Traceback (most recent call last)",
      "\u001b[1;32m~\\AppData\\Local\\Temp/ipykernel_632/688785654.py\u001b[0m in \u001b[0;36m<module>\u001b[1;34m\u001b[0m\n\u001b[0;32m      1\u001b[0m \u001b[1;32mtry\u001b[0m\u001b[1;33m:\u001b[0m\u001b[1;33m\u001b[0m\u001b[1;33m\u001b[0m\u001b[0m\n\u001b[1;32m----> 2\u001b[1;33m     \u001b[0ma\u001b[0m \u001b[1;33m=\u001b[0m \u001b[1;36m1\u001b[0m \u001b[1;33m/\u001b[0m \u001b[1;36m0\u001b[0m\u001b[1;33m\u001b[0m\u001b[1;33m\u001b[0m\u001b[0m\n\u001b[0m\u001b[0;32m      3\u001b[0m     \u001b[0mprint\u001b[0m\u001b[1;33m(\u001b[0m\u001b[0ma\u001b[0m\u001b[1;33m)\u001b[0m\u001b[1;33m\u001b[0m\u001b[1;33m\u001b[0m\u001b[0m\n\u001b[0;32m      4\u001b[0m \u001b[1;32mexcept\u001b[0m \u001b[0mTypeError\u001b[0m \u001b[1;32mas\u001b[0m \u001b[0merr\u001b[0m\u001b[1;33m:\u001b[0m\u001b[1;33m\u001b[0m\u001b[1;33m\u001b[0m\u001b[0m\n\u001b[0;32m      5\u001b[0m     \u001b[0mprint\u001b[0m\u001b[1;33m(\u001b[0m\u001b[0merr\u001b[0m\u001b[1;33m)\u001b[0m\u001b[1;33m\u001b[0m\u001b[1;33m\u001b[0m\u001b[0m\n",
      "\u001b[1;31mZeroDivisionError\u001b[0m: division by zero"
     ]
    }
   ],
   "source": [
    "try:\n",
    "    a = 1 / 0\n",
    "    print(a)\n",
    "except TypeError as err:\n",
    "    print(err)\n",
    "else:\n",
    "    print(\"else\")\n",
    "finally:\n",
    "    print(\"finally\")"
   ]
  },
  {
   "cell_type": "markdown",
   "id": "ce7d0068-a1a5-4ec2-9f28-a2fddb783044",
   "metadata": {},
   "source": [
    "try で発生したエラーと except で指定しているエラーは異なっているので，エラーが送出されています．  \n",
    "また，異常終了しているので else が処理されず，finally は処理されています．\n",
    "\n",
    "try のエラーが予想できない場合は，`Exception` を except のエラーの指定とすると，全てのエラーに対処できます．"
   ]
  },
  {
   "cell_type": "code",
   "execution_count": 26,
   "id": "e99a3b14-dc71-4eec-aa80-b5875b8e0036",
   "metadata": {},
   "outputs": [
    {
     "name": "stdout",
     "output_type": "stream",
     "text": [
      "division by zero\n",
      "finally\n"
     ]
    }
   ],
   "source": [
    "try:\n",
    "    a = 1 / 0\n",
    "    print(a)\n",
    "except Exception as err:\n",
    "    print(err)\n",
    "else:\n",
    "    print(\"else\")\n",
    "finally:\n",
    "    print(\"finally\")"
   ]
  },
  {
   "cell_type": "markdown",
   "id": "233cadf4-e6ea-4474-b0b1-0422d0b847e7",
   "metadata": {},
   "source": [
    "以上が条件分岐／繰り返し処理／例外処理についての紹介でしたが，せっかくなので，これらを用いた処理を演習ベースで考え，プログラミングしてみましょう．"
   ]
  },
  {
   "cell_type": "markdown",
   "id": "614f8d5f-24e3-4ae1-afd9-b8b00b909d4b",
   "metadata": {},
   "source": [
    "## 演習問題"
   ]
  },
  {
   "cell_type": "markdown",
   "id": "45c20ba7-0ddf-4d5e-9d77-64e631cb12fa",
   "metadata": {},
   "source": [
    "- Q.1: 1 から 1000 までの 5 の倍数の総和を求めてください．できる人は for を使わず 1 行で挑戦してみてください．\n",
    "- Q.2: 1 から 1000 まで連続した整数の内，7 と 13 の倍数に 1 足した値のみを加算してください（% を用います）．\n",
    "- Q.3: 0 から 100 まで連続した整数の2乗根を要素とする，要素数 101 の次のリスト $[\\sqrt{0}, \\sqrt{1}, \\sqrt{2}, \\cdots , \\sqrt{100}]$ を作成してください（.append() を用います）．\n",
    "- Q.4: 1 から 100 まで連続した 100 個の整数に対する標準偏差を求めてください．ここで，データの個数を $n$, i番目のデータを $x_i$, データの平均を $\\bar{x}$ とすると，標準偏差 $\\sigma$ は，\n",
    "\n",
    "$$\n",
    "\\sigma = \\sqrt{\\frac{1}{n} \\sum_{i=1}^n (x_i - \\bar{x})^2}\n",
    "$$\n",
    "\n",
    "で計算されます．\n",
    "- Q.5: try-except を用いて，次のリスト [1, 2, 3, \"a\"] の総和を取った時，\"数値と文字列の総和は不可\" と表示するように作成しましょう（if でもできますが，try-except を用いてください）．"
   ]
  },
  {
   "cell_type": "code",
   "execution_count": null,
   "id": "3127d60d-7333-4885-b4c4-5a6e27b6fed4",
   "metadata": {},
   "outputs": [],
   "source": []
  }
 ],
 "metadata": {
  "kernelspec": {
   "display_name": "Python 3 (ipykernel)",
   "language": "python",
   "name": "python3"
  },
  "language_info": {
   "codemirror_mode": {
    "name": "ipython",
    "version": 3
   },
   "file_extension": ".py",
   "mimetype": "text/x-python",
   "name": "python",
   "nbconvert_exporter": "python",
   "pygments_lexer": "ipython3",
   "version": "3.8.10"
  }
 },
 "nbformat": 4,
 "nbformat_minor": 5
}
