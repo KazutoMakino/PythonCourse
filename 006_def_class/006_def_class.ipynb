{
  "cells": [
    {
      "cell_type": "markdown",
      "id": "bcbfd66d-ec55-4f2f-9187-8642d94eccbd",
      "metadata": {},
      "source": [
        "# \u30e6\u30fc\u30b6\u30fc\u5b9a\u7fa9\u95a2\u6570\uff0f\u30af\u30e9\u30b9\uff0f\u30e1\u30bd\u30c3\u30c9\uff0f\u30e2\u30b8\u30e5\u30fc\u30eb\n",
        "\n",
        "---\n",
        "\n",
        "- ref: https://docs.python.org/ja/3/tutorial/classes.html\n",
        "- blog: https://slash-z.com/\n",
        "- github: https://github.com/KazutoMakino/PythonCourses\n",
        "\n",
        "---"
      ]
    },
    {
      "cell_type": "markdown",
      "id": "ed22f45b-e35f-4b24-a469-fa04c6c799d4",
      "metadata": {},
      "source": [
        "## \u95a2\u6570\u5b9a\u7fa9"
      ]
    },
    {
      "cell_type": "markdown",
      "id": "4938c06e-685f-478a-a21d-90d6c7bc6fa6",
      "metadata": {},
      "source": [
        "\u95a2\u6570\u306e\u5b9a\u7fa9\u306e\u4ed5\u65b9\u306f\uff0c\u7c21\u5358\u306b\u306f\u4ee5\u4e0b\u306e\u3088\u3046\u306b\u66f8\u304f\u3053\u3068\u304c\u3067\u304d\u307e\u3059\uff0e"
      ]
    },
    {
      "cell_type": "markdown",
      "id": "280cfb49-1cd2-4a5b-a3a5-9a9520f6d353",
      "metadata": {},
      "source": [
        "```\n",
        "def \u95a2\u6570\u540d(\u4eee\u5f15\u6570_1, \u4eee\u5f15\u6570_2, ..., \u4eee\u5f15\u6570_n):\n",
        "    \u51e6\u7406\n",
        "    return \u623b\u308a\u5024\n",
        "```"
      ]
    },
    {
      "cell_type": "markdown",
      "id": "004a1548-67b8-4d06-b8eb-97ea4998a8fd",
      "metadata": {},
      "source": [
        "\u95a2\u6570\u306e\u5b9a\u7fa9\u306b\u306f def \u3092\u7528\u3044\u307e\u3059\uff0e  \n",
        "\uff08\u53ef\u8aad\u6027\u3084\u30a8\u30c7\u30a3\u30bf\u306e linter \u6027\u80fd\u3092\u5411\u4e0a\u3055\u305b\u308b\u578b\u30a2\u30ce\u30c6\u30fc\u30b7\u30e7\u30f3\u3084 Docstring \u306b\u3064\u3044\u3066\u306f\u4e00\u65e6\u98db\u3070\u3057\u3066\u3044\u307e\u3059\uff09  \n",
        "\u30e6\u30fc\u30b6\u30fc\u5b9a\u7fa9\u95a2\u6570\u306e\u5f15\u6570\u306b\u3064\u3044\u3066\uff0c\u3053\u306e\u6bb5\u968e\u3067\u306f\u5177\u4f53\u7684\u306a\u5024\u306f\u307e\u3060\u6c7a\u307e\u3063\u3066\u306a\u3044\u306e\u3067\uff0c\u63a5\u982d\u8f9e\u3068\u3057\u3066\"\u4eee\"\u304c\u3064\u3044\u3066\u4eee\u5f15\u6570\u3068\u547c\u3070\u308c\u307e\u3059\uff0e\u9006\u306b\uff0c\u5b9a\u7fa9\u6e08\u307f\u306e\u4f8b\u3048\u3070\u7d44\u307f\u8fbc\u307f\u95a2\u6570\u306e print \u3060\u3068\uff0cprint(val) \u306e val \u306f\u5b9f\u5f15\u6570\u3068\u547c\u3073\u307e\u3059\uff0e  \n",
        "C\u8a00\u8a9e\u3068\u304b\u306e\u3088\u3046\u306b\uff0c\u95a2\u6570\u30d7\u30ed\u30c8\u30bf\u30a4\u30d7\u5ba3\u8a00\u3084\u578b\u3092\u3064\u3051\u306a\u304f\u3066\u3082\u826f\u3044\u306e\u3067\uff0c\u30b7\u30f3\u30d7\u30eb\u3067\u697d\u3067\u3059\u306d\uff0e  \n",
        "\u95a2\u6570\u306f\u52d5\u4f5c\u306a\u306e\u3067\uff0c\u4f7f\u3044\u6368\u3066\u3067\u306a\u304f\u6d41\u7528\u3092\u8003\u3048\u3066\u3044\u308b\u306e\u3067\u3042\u308c\u3070\uff0c\u95a2\u6570\u540d\u306b\u306f\u3067\u304d\u308b\u3060\u3051\u52d5\u8a5e\u306e\u307f\uff0c\u3082\u3057\u304f\u306f\uff0c\u52d5\u8a5e\u3068\u76ee\u7684\u8a9e\u306e\u30da\u30a2\u3068\u3057\u307e\u3057\u3087\u3046\uff0e  \n",
        "\u307e\u305f\uff0cpython \u306b\u304a\u3044\u3066\u95a2\u6570\u540d\u306f snake case \u3067\u3064\u3051\u307e\u3057\u3087\u3046\uff08\u5f8c\u8ff0\uff09\uff0e  \n",
        "\u4f8b\u3048\u3070\uff0cRMS (Root Mean Square, \u4e8c\u6761\u5e73\u5747\u5e73\u65b9\u6839) \u3092\u8fd4\u3059\u95a2\u6570\u3060\u3068\uff0ccalc_rms \u307f\u305f\u3044\u306a\u611f\u3058\u3067\u3059\uff0e"
      ]
    },
    {
      "cell_type": "markdown",
      "id": "5ed9e931-8e62-4ac6-b507-ce51babba428",
      "metadata": {},
      "source": [
        "\u5909\u6570\u3084\u95a2\u6570\u3092\u547d\u540d\u3059\u308b\u306b\u5f53\u305f\u308a\uff0c\u53ef\u8aad\u6027\u3092\u4e0a\u3052\u308b\u305f\u3081\u306b\u4e00\u5b9a\u306e\u898f\u5247\uff08\u547d\u540d\u898f\u5247\uff09\u304c\u5b58\u5728\u3057\u307e\u3059\uff0e  \n",
        "\u5148\u307b\u3069 snake case \u3068\u3044\u3046\u7528\u8a9e\u3092\u8a18\u8f09\u3057\u307e\u3057\u305f\u304c\uff0c\u3053\u308c\u306f PEP8 \u3067\u5b9a\u3081\u3089\u308c\u305f\u547d\u540d\u898f\u5247\u306b\u304a\u3051\u308b\u5927\u6587\u5b57\uff0f\u5c0f\u6587\u5b57\uff0f\u30a2\u30f3\u30c0\u30fc\u30d0\u30fc\u3092\u99c6\u4f7f\u3057\u305f\u540d\u524d\u306e\u4ed8\u3051\u65b9\u306e\u4e00\u7a2e\u3067\u3042\u308a\uff0c\u4ee5\u4e0b\u304c\u6319\u3052\u3089\u308c\u307e\u3059\uff0e"
      ]
    },
    {
      "cell_type": "markdown",
      "id": "9b8fa3de-7de9-4361-88ef-6a8dabdf9bbf",
      "metadata": {},
      "source": [
        "| \u540d\u524d\uff08\u548c\uff09 | \u540d\u524d\uff08\u82f1\uff09 | \u66f8\u304d\u65b9\u4f8b | \u5225\u540d | python \u3067\u4f7f\u3046\u540d\u524d |\n",
        "| - | - | - | - | - |\n",
        "| \u30b9\u30cd\u30fc\u30af\u30b1\u30fc\u30b9 | snake case | snake_case | lower snake case | \u5909\u6570\u540d\uff0c\u95a2\u6570\u540d\uff0c\u30e1\u30bd\u30c3\u30c9\u540d |\n",
        "| \u30ad\u30e3\u30e1\u30eb\u30b1\u30fc\u30b9 | camel case | camelCase | | \u4f7f\u308f\u306a\u3044 |\n",
        "| \u30d1\u30b9\u30ab\u30eb\u30b1\u30fc\u30b9 | Pascal case | PascalCase | upper camel case | \u30af\u30e9\u30b9\u540d\uff0c\u4f8b\u5916\uff0c\u578b\u5909\u6570 |\n",
        "| \u30b3\u30f3\u30b9\u30bf\u30f3\u30c8\u30b1\u30fc\u30b9 | constant case | CONSTANT_CASE | upper snake case | \u5b9a\u6570 |"
      ]
    },
    {
      "cell_type": "markdown",
      "id": "9b13f6d1-f26a-47b8-a885-b0c5cceee4ad",
      "metadata": {},
      "source": [
        "\u3061\u306a\u307f\u306b\uff0c\u30e2\u30b8\u30e5\u30fc\u30eb\u540d\u3068\u30d1\u30c3\u30b1\u30fc\u30b8\u540d\u306f\u5168\u3066\u5c0f\u6587\u5b57\u3067\u306a\u308b\u3079\u304f\u77ed\u304f\u3057\u3066\uff0c\u30a2\u30f3\u30c0\u30fc\u30d0\u30fc\u306f\u975e\u63a8\u5968\u3068\u3055\u308c\u3066\u3044\u307e\u3059\uff0e  \n",
        "\u307e\u305f\uff0c\u305d\u306e\u95a2\u6570\u3084\u30af\u30e9\u30b9\u3067\u3057\u304b\u7528\u3044\u306a\u3044\u5909\u6570\u3084\u30e1\u30bd\u30c3\u30c9\u306e\u540d\u524d\u306b\u3064\u3044\u3066\u306f\uff0c\u6700\u521d\u306b\u30a2\u30f3\u30c0\u30fc\u30d0\u30fc\u3092\u3064\u3051\u308b\u3053\u3068\u304c\u63a8\u5968\u3055\u308c\u3066\u3044\u307e\u3059\uff0e  \n",
        "\u51e6\u7406\u306b\u3088\u3063\u3066\u306f\uff0c\u5f15\u6570\u3082\u623b\u308a\u5024\u3082\u4e0d\u8981\u306a\u95a2\u6570\u3082\u3042\u308a\u5f97\u308b\u306e\u3067\uff0c\u305d\u306e\u5834\u5408\u306f\u4ee5\u4e0b\u306e\u3088\u3046\u306b\u8a18\u8f09\u3057\u307e\u3059\uff0e"
      ]
    },
    {
      "cell_type": "markdown",
      "id": "8ce6e750-f664-474e-b15f-134999887a17",
      "metadata": {},
      "source": [
        "```\n",
        "def \u95a2\u6570\u540d():\n",
        "    \u51e6\u7406\n",
        "```"
      ]
    },
    {
      "cell_type": "markdown",
      "id": "6922b44a-d9da-4e32-99a5-1f38dabfe451",
      "metadata": {},
      "source": [
        "\u300c\u623b\u308a\u5024\u306f\u306a\u3044\u300d\u3068\u8a00\u3044\u307e\u3057\u305f\u304c\uff0c\u5b9f\u969b\u306b\u306f return None \u304c\u7701\u7565\u3055\u308c\u3066\u3044\u3066 None \u304c\u8fd4\u3055\u308c\u307e\u3059\uff0e"
      ]
    },
    {
      "cell_type": "markdown",
      "id": "1fc59ac8-9fa7-4e67-a6b5-a49880f7a7f8",
      "metadata": {},
      "source": [
        "\u95a2\u6570\u5b9a\u7fa9\u306b\u304a\u3044\u3066\uff0c\u4eee\u5f15\u6570\u305d\u308c\u305e\u308c\u306b\uff0c\u4ee5\u4e0b\u306e\u3088\u3046\u306b \u4eee\u5f15\u6570=\u521d\u671f\u5024 \u3068\u66f8\u304f\u3053\u3068\u3067\u521d\u671f\u5024\u3092\u4e0e\u3048\u308b\u3053\u3068\u304c\u3067\u304d\u307e\u3059\uff0e"
      ]
    },
    {
      "cell_type": "markdown",
      "id": "20c8948b-5d9e-49fa-811d-0b071402cc3f",
      "metadata": {},
      "source": [
        "```\n",
        "def \u95a2\u6570\u540d(\u4eee\u5f15\u6570_1, \u4eee\u5f15\u6570_2=\u521d\u671f\u5024, ..., \u4eee\u5f15\u6570_n=\u521d\u671f\u5024):\n",
        "    \u51e6\u7406\n",
        "    return \u623b\u308a\u5024\n",
        "```"
      ]
    },
    {
      "cell_type": "markdown",
      "id": "6ce478dd-5c86-4667-a3f5-a1eca1dffafb",
      "metadata": {},
      "source": [
        "\u5168\u3066\u306b\u304a\u3044\u3066\u521d\u671f\u5024\u3092\u8a2d\u5b9a\u3057\u306a\u304f\u3066\u3082\u826f\u3044\u306e\u3067\uff0c\u4e0a\u306e\u4f8b\u3067\u306f \u4eee\u5f15\u6570_1 \u306b\u306f\u521d\u671f\u5024\u3092\u4e0e\u3048\u3066\u3044\u307e\u305b\u3093\u304c\uff0c\u5f8c\u8ff0\u3059\u308b\u95a2\u6570\u547c\u3073\u51fa\u3057\u6642\u306e\u4f4d\u7f6e\u5f15\u6570\u306e\u95a2\u4fc2\u4e0a\uff0c\u521d\u671f\u5024\u306e\u306a\u3044\u4eee\u5f15\u6570\u306f\u5de6\u5074\u306b\u307e\u3068\u3081\u3066\u304a\u304f\u5fc5\u8981\u304c\u3042\u308a\u307e\u3059\uff0e"
      ]
    },
    {
      "cell_type": "markdown",
      "id": "674a4882-c045-4223-afac-b010d93dd44b",
      "metadata": {},
      "source": [
        "\u4e0a\u8a18\u3067\u5b9a\u7fa9\u3057\u305f\u95a2\u6570\u306e\u547c\u3073\u51fa\u3057\u306f\u4ee5\u4e0b\u306e\u3088\u3046\u306b\u66f8\u304d\u307e\u3059\uff0e"
      ]
    },
    {
      "cell_type": "markdown",
      "id": "d2ba5a53-db3b-4349-8cd2-955d9e2d98a6",
      "metadata": {},
      "source": [
        "```\n",
        "\u95a2\u6570\u540d(\u5b9f\u5f15\u6570_1, \u5b9f\u5f15\u6570_2, ..., \u5b9f\u5f15\u6570_n)\n",
        "```"
      ]
    },
    {
      "cell_type": "markdown",
      "id": "498bade4-89f0-4c86-bf7c-d3bd596a4acb",
      "metadata": {},
      "source": [
        "\u3053\u306e\u3068\u304d\uff0c\u5b9a\u7fa9\u3057\u305f\u95a2\u6570\u306e\u4eee\u5f15\u6570\u3068\u547c\u3073\u51fa\u3059\u95a2\u6570\u3067\u4e0e\u3048\u308b\u5b9f\u5f15\u6570\u306f\uff0c\u9806\u756a\u3068\u500b\u6570\u304c\u3042\u3063\u3066\u3044\u308b\u5fc5\u8981\u304c\u3042\u308a\u307e\u3059\uff0e  \n",
        "\u3053\u306e\u3088\u3046\u306a\u66f8\u304d\u65b9\u3092\u3059\u308b\u5f15\u6570\u3092\u4f4d\u7f6e\u5f15\u6570\u3068\u547c\u3073\u307e\u3059\uff0e  \n",
        "\u95a2\u6570\u547c\u3073\u51fa\u3057\u306b\u306f\u5225\u306e\u66f8\u304d\u65b9\u304c\u3042\u308a\uff0c"
      ]
    },
    {
      "cell_type": "markdown",
      "id": "ac042f12-55a7-4666-9714-4d24db2e6b5d",
      "metadata": {},
      "source": [
        "```\n",
        "\u95a2\u6570\u540d(\u4eee\u5f15\u6570_1=\u5b9f\u5f15\u6570_1, \u4eee\u5f15\u6570_2=\u5b9f\u5f15\u6570_2, ..., \u4eee\u5f15\u6570_n=\u5b9f\u5f15\u6570_n)\n",
        "```"
      ]
    },
    {
      "cell_type": "markdown",
      "id": "d1636070-da87-46c0-9b17-d0a6c5e65935",
      "metadata": {},
      "source": [
        "\u3068\u3044\u3046\u98a8\u306b\uff0c\u4eee\u5f15\u6570=\u5b9f\u5f15\u6570 \u3068\u3057\u3066\u3082\u547c\u3073\u51fa\u3059\u3053\u3068\u304c\u3067\u304d\uff0c\u3053\u306e\u5834\u5408\uff0c\u4eee\u5f15\u6570\u540d\u3067\u53c2\u7167\u3067\u304d\u308b\u305f\u3081\u9806\u756a\u306f\u5b88\u3089\u306a\u304f\u3066\u3082\u547c\u3073\u51fa\u3059\u3053\u3068\u304c\u3067\u304d\u307e\u3059\uff0e  \n",
        "\u95a2\u6570\u5b9a\u7fa9\u3067\uff0c\u4eee\u5f15\u6570\u306b\u521d\u671f\u5024\u304c\u6c7a\u307e\u3063\u3066\u3044\u308b\u3082\u306e\u306b\u3064\u3044\u3066\u306f\uff0c\u4ee5\u4e0b\u306e\u3088\u3046\u306b\uff0c\u547c\u3073\u51fa\u3057\u6642\u306b\u5b9f\u5f15\u6570\u3092\u4e0e\u3048\u306a\u304f\u3066\u3082\uff0c\u521d\u671f\u5024\u304c\u3042\u308b\u306e\u3067\u554f\u984c\u306a\u304f\u52d5\u4f5c\u3057\u307e\u3059\uff0e"
      ]
    },
    {
      "cell_type": "markdown",
      "id": "58685cc8-8cbc-478d-9edd-cbac52fa14c2",
      "metadata": {},
      "source": [
        "```\n",
        "def \u95a2\u6570\u540d(\u4eee\u5f15\u6570_1, \u4eee\u5f15\u6570_2=\u521d\u671f\u5024):\n",
        "    \u51e6\u7406\n",
        "    return \u623b\u308a\u5024\n",
        "    \n",
        "\u95a2\u6570\u540d(\u5b9f\u5f15\u6570_1)\n",
        "```"
      ]
    },
    {
      "cell_type": "markdown",
      "id": "001bf65b-2304-4d89-a3cf-f2df361153e2",
      "metadata": {},
      "source": [
        "\u3057\u304b\u3057\uff0c\u4e0a\u8a18\u4f8b\u3067\uff0c\u4eee\u5f15\u6570_1\u306b\u521d\u671f\u5024\u304c\u3042\u308a\uff0c\u4eee\u5f15\u6570_2\u306b\u521d\u671f\u5024\u304c\u306a\u3044\u72b6\u614b\u3067\u5b9a\u7fa9\u3057\u305f\u3068\u3057\u3066\uff0c\u95a2\u6570\u540d(\u5b9f\u5f15\u6570_2) \u3068\u3057\u3066\u547c\u3073\u51fa\u3059\u3068\uff0c\u4f4d\u7f6e\u5f15\u6570\u306e\u5b9f\u5f15\u6570_2\u306f\u679c\u305f\u3057\u3066\u3069\u3061\u3089\u306e\u5b9f\u5f15\u6570\u306a\u306e\u304b\u4e0d\u660e\u306b\u306a\u308b\u305f\u3081\u30a8\u30e9\u30fc\u306b\u306a\u308a\u307e\u3059\uff0e  \n",
        "\u3053\u308c\u304c\uff0c\u95a2\u6570\u5b9a\u7fa9\u3067\u521d\u671f\u5024\u306e\u306a\u3044\u4eee\u5f15\u6570\u306f\u6700\u521d\u306b\u66f8\u304f\u5fc5\u8981\u304c\u3042\u308b\u7406\u7531\u3067\u3059\uff0e"
      ]
    },
    {
      "cell_type": "markdown",
      "id": "a9f06885-e09d-4a25-833e-8157d0e0efdf",
      "metadata": {},
      "source": [
        "\u524d\u7f6e\u304d\u304c\u9577\u304f\u306a\u3063\u3066\u3057\u307e\u3044\u307e\u3057\u305f\u304c\uff0ca \u3068 b \u3092\u8db3\u3059\u3060\u3051\u3068\u3044\u3046\u95a2\u6570\u306b\u3064\u3044\u3066\uff0c\u4ee5\u4e0b\u306b\u4f8b\u3092\u793a\u3057\u307e\u3059\uff0e"
      ]
    },
    {
      "cell_type": "code",
      "execution_count": 1,
      "id": "17e8fd53-4b04-4858-a302-16cef292ca2c",
      "metadata": {},
      "outputs": [
        {
          "data": {
            "text/plain": [
              "7"
            ]
          },
          "execution_count": 1,
          "metadata": {},
          "output_type": "execute_result"
        }
      ],
      "source": [
        "def add_a_b(a, b):\n",
        "    return a + b\n",
        "\n",
        "\n",
        "add_a_b(3, 4)"
      ]
    },
    {
      "cell_type": "code",
      "execution_count": 2,
      "id": "99d086e3-e3f1-4676-8a0e-022f2c071227",
      "metadata": {},
      "outputs": [
        {
          "data": {
            "text/plain": [
              "7"
            ]
          },
          "execution_count": 2,
          "metadata": {},
          "output_type": "execute_result"
        }
      ],
      "source": [
        "def add_a_b(a, b):\n",
        "    return a + b\n",
        "\n",
        "\n",
        "add_a_b(b=4, a=3)"
      ]
    },
    {
      "cell_type": "code",
      "execution_count": 3,
      "id": "f479dd45-63a8-497a-8ef4-aa16f159a0b6",
      "metadata": {},
      "outputs": [
        {
          "data": {
            "text/plain": [
              "7"
            ]
          },
          "execution_count": 3,
          "metadata": {},
          "output_type": "execute_result"
        }
      ],
      "source": [
        "def add_a_b(a=1, b=20):\n",
        "    return a + b\n",
        "\n",
        "\n",
        "add_a_b(b=4, a=3)"
      ]
    },
    {
      "cell_type": "code",
      "execution_count": 4,
      "id": "96b7c006-a64c-4ddb-8b5a-36aaaa50e9f9",
      "metadata": {},
      "outputs": [
        {
          "data": {
            "text/plain": [
              "21"
            ]
          },
          "execution_count": 4,
          "metadata": {},
          "output_type": "execute_result"
        }
      ],
      "source": [
        "def add_a_b(a=1, b=20):\n",
        "    return a + b\n",
        "\n",
        "\n",
        "add_a_b()"
      ]
    },
    {
      "cell_type": "code",
      "execution_count": 5,
      "id": "2b5550b0-485c-4b6c-ab13-5a1b33c17ab7",
      "metadata": {},
      "outputs": [
        {
          "data": {
            "text/plain": [
              "4"
            ]
          },
          "execution_count": 5,
          "metadata": {},
          "output_type": "execute_result"
        }
      ],
      "source": [
        "def add_a_b(a=1, b=20):\n",
        "    return a + b\n",
        "\n",
        "\n",
        "add_a_b(b=3)"
      ]
    },
    {
      "cell_type": "code",
      "execution_count": 6,
      "id": "40f11c1f-f7de-4619-ac0b-573f53149b4b",
      "metadata": {},
      "outputs": [
        {
          "data": {
            "text/plain": [
              "23"
            ]
          },
          "execution_count": 6,
          "metadata": {},
          "output_type": "execute_result"
        }
      ],
      "source": [
        "def add_a_b(a=1, b=20):\n",
        "    return a + b\n",
        "\n",
        "\n",
        "add_a_b(3)"
      ]
    },
    {
      "cell_type": "code",
      "execution_count": 7,
      "id": "01bbb7de-6745-4126-a147-6e74b5eb14f0",
      "metadata": {},
      "outputs": [
        {
          "ename": "SyntaxError",
          "evalue": "non-default argument follows default argument (Temp/ipykernel_10608/227892080.py, line 1)",
          "output_type": "error",
          "traceback": [
            "\u001b[1;36m  File \u001b[1;32m\"C:\\Users\\Kazuto\\AppData\\Local\\Temp/ipykernel_10608/227892080.py\"\u001b[1;36m, line \u001b[1;32m1\u001b[0m\n\u001b[1;33m    def add_a_b(a=1, b):\u001b[0m\n\u001b[1;37m                ^\u001b[0m\n\u001b[1;31mSyntaxError\u001b[0m\u001b[1;31m:\u001b[0m non-default argument follows default argument\n"
          ]
        }
      ],
      "source": [
        "def add_a_b(a=1, b):\n",
        "    return a + b\n",
        "\n",
        "\n",
        "add_a_b(b=3)"
      ]
    },
    {
      "cell_type": "code",
      "execution_count": 8,
      "id": "788c34ec-b3d3-48da-be0c-1f52adafdefe",
      "metadata": {},
      "outputs": [
        {
          "name": "stdout",
          "output_type": "stream",
          "text": [
            "10\n"
          ]
        }
      ],
      "source": [
        "def add_a_b(a, b):\n",
        "    print(a + b)\n",
        "\n",
        "add_a_b(a=5, b=5)"
      ]
    },
    {
      "cell_type": "code",
      "execution_count": 9,
      "id": "0834fb21-c111-4e20-b889-c06f84905d43",
      "metadata": {},
      "outputs": [
        {
          "name": "stdout",
          "output_type": "stream",
          "text": [
            "10\n"
          ]
        },
        {
          "data": {
            "text/plain": [
              "NoneType"
            ]
          },
          "execution_count": 9,
          "metadata": {},
          "output_type": "execute_result"
        }
      ],
      "source": [
        "type(add_a_b(a=5, b=5))"
      ]
    },
    {
      "cell_type": "markdown",
      "id": "ce21af66-a72f-4380-a87b-ddc652dc9b84",
      "metadata": {},
      "source": [
        "## \u30af\u30e9\u30b9\u5b9a\u7fa9\uff0f\u30e1\u30bd\u30c3\u30c9\u5b9a\u7fa9"
      ]
    },
    {
      "cell_type": "markdown",
      "id": "e926b8e3-4bd9-405a-8c23-cf628f753b40",
      "metadata": {},
      "source": [
        "\u30af\u30e9\u30b9\u53ca\u3073\u30e1\u30bd\u30c3\u30c9\u306e\u5b9a\u7fa9\u306e\u4ed5\u65b9\u306f\uff0c\u7c21\u5358\u306b\u306f\u4ee5\u4e0b\u306e\u3088\u3046\u306b\u66f8\u304f\u3053\u3068\u304c\u3067\u304d\u307e\u3059\uff0e"
      ]
    },
    {
      "cell_type": "markdown",
      "id": "c7e04b9c-be6c-4589-921a-34022bfeffc2",
      "metadata": {},
      "source": [
        "```\n",
        "class \u30af\u30e9\u30b9\u540d:\n",
        "    \u51e6\u7406\n",
        "    \n",
        "    def __init__(self, \u4eee\u5f15\u6570_1, \u4eee\u5f15\u6570_2, ..., \u4eee\u5f15\u6570_n):\n",
        "        \u51e6\u7406\n",
        "\n",
        "    def \u30e1\u30bd\u30c3\u30c9_1(self, \u4eee\u5f15\u6570_1, \u4eee\u5f15\u6570_2, ..., \u4eee\u5f15\u6570_n):\n",
        "        \u51e6\u7406\n",
        "\n",
        "    def \u30e1\u30bd\u30c3\u30c9_2(self, \u4eee\u5f15\u6570_1, \u4eee\u5f15\u6570_2, ..., \u4eee\u5f15\u6570_n):\n",
        "        \u51e6\u7406\n",
        "    \n",
        "    ...\n",
        "    \n",
        "    def \u30e1\u30bd\u30c3\u30c9_n(self, \u4eee\u5f15\u6570_1, \u4eee\u5f15\u6570_2, ..., \u4eee\u5f15\u6570_n):\n",
        "        \u51e6\u7406\n",
        "```"
      ]
    },
    {
      "cell_type": "markdown",
      "id": "571d8b21-e9b4-4d1a-8ac5-4080e28c1af6",
      "metadata": {},
      "source": [
        "\uff08\u30af\u30e9\u30b9\u7d99\u627f\u306b\u3064\u3044\u3066\u306f\u98db\u3070\u3057\u307e\u3059\uff09  \n",
        "\u30af\u30e9\u30b9\u306e\u5b9a\u7fa9\u306b\u306f class \u3092\u7528\u3044\u307e\u3059\uff0e  \n",
        "\u30af\u30e9\u30b9\u5185\uff08\u30a4\u30f3\u30c7\u30f3\u30c8\u30d6\u30ed\u30c3\u30af\uff09\u306e\u306b\u304a\u3044\u3066 def \u306b\u3088\u3063\u3066\u95a2\u6570\u304c\u5b9a\u7fa9\u3055\u308c\u3066\u3044\u307e\u3059\u304c\uff0c\u30e1\u30bd\u30c3\u30c9\u3068\u547c\u3070\u308c\uff0cclass \u306b\u7d10\u3065\u3044\u305f\u95a2\u6570\u3067\u3059\uff0e  \n",
        "\u30af\u30e9\u30b9\u5185\u306e\u5909\u6570\u306f\u30e1\u30f3\u30d0\u30fc\u5909\u6570\u3068\u547c\u3070\u308c\uff0c\u3053\u306e\u30af\u30e9\u30b9\u5185\u3067\u306e\u307f\u6709\u52b9\u3067\uff0c\u30e1\u30bd\u30c3\u30c9\u5185\u3067\u7528\u3044\u308b\u6642\u306f\u6163\u4f8b\u4e0a self \u3068\u3044\u3046\u540d\u524d\u306e\u5909\u6570\u306b\u683c\u7d0d\u3057\uff0cself.\u5909\u6570\u540d \u3068\u3044\u3046\u98a8\u306b\u53c2\u7167\u3057\u307e\u3059\uff0e  \n",
        "\u30af\u30e9\u30b9\u306e\u4e2d\u3067\u30e1\u30bd\u30c3\u30c9\u306e\u5916\u306b\u3042\u308b\u51e6\u7406\u306f\uff0c\u30af\u30e9\u30b9\u304c\u547c\u3073\u51fa\u3055\u308c\u305f\u6642\u306b\u5b9f\u884c\u3055\u308c\uff0c\u3053\u306e\u51e6\u7406\u306e\u4ee3\u5165\u5f0f\u306b\u3088\u3063\u3066\u5b9a\u7fa9\u3055\u308c\u305f\u5909\u6570\u306b\u3064\u3044\u3066\uff0c\u30e1\u30bd\u30c3\u30c9\u5185\u3067\u3053\u308c\u3092\u53c2\u7167\u3059\u308b\u5834\u5408\u3082\uff0cself.\u5909\u6570\u540d \u3068\u3044\u3046\u98a8\u306b\u53c2\u7167\u3059\u308b\u3053\u3068\u304c\u3067\u304d\u307e\u3059\uff0e\u4f7f\u3046\u30b7\u30fc\u30f3\u3068\u3057\u3066\u306f\uff0c\u4f8b\u3048\u3070\uff0c\u3053\u306e\u30af\u30e9\u30b9\u5185\u3067\u4f7f\u3044\u307e\u308f\u3057\u305f\u3044\u5b9a\u6570\u306a\u3069\u304c\u6319\u3052\u3089\u308c\u307e\u3059\uff0e  \n",
        "\u5b9f\u969b\u306e\u3068\u3053\u308d\uff0cself \u3068\u3044\u3046\u540d\u524d\u3067\u306a\u304f\u3066\u3082\u30d7\u30ed\u30b0\u30e9\u30e0\u306f\u52d5\u304f\u306e\u3067\u3059\u304c\uff0cpython \u3068\u3044\u3046\u8a00\u8a9e\u306b\u304a\u3044\u3066\u5e83\u304f\u6d78\u900f\u3057\u3066\u3044\u308b\u4e00\u822c\u7684\u306a\u30eb\u30fc\u30eb\u306a\u306e\u3067\uff0cself \u3068\u3044\u3046\u540d\u524d\u306b\u3057\u307e\u3057\u3087\u3046\uff0e  \n",
        "\u3055\u3066\uff0c\u4fdd\u7559\u306b\u3057\u3066\u3044\u305f `__init__` \u3067\u3059\u304c\uff0c\u3053\u308c\u306f\u30b3\u30f3\u30b9\u30c8\u30e9\u30af\u30bf\u3068\u547c\u3070\u308c\uff0c\u30af\u30e9\u30b9\u3092\u547c\u3073\u51fa\u3057\u305f\u3068\u304d\u306b\u81ea\u52d5\u7684\u306b 1 \u5ea6\u3060\u3051\u5b9f\u884c\u3055\u308c\u308b\u51e6\u7406\u306e\u584a\u3067\u3059\uff08\u30e1\u30bd\u30c3\u30c9\u3068\u8a00\u3063\u3066\u3088\u3044\u3082\u306e\u304b\u306f\u4e0d\u660e\uff09\uff0e\u4f8b\u3048\u3070\uff0c\u30af\u30e9\u30b9\u3092\u547c\u3073\u51fa\u3059\u3068\u304d\u306b\uff0c\u30af\u30e9\u30b9\u306e\u5916\u304b\u3089\u5909\u6570\u3092\u5165\u529b\u3059\u308b\u3068\u304d\u306b\u7528\u3044\u307e\u3059\uff0e  \n",
        "\uff1c\u30af\u30e9\u30b9\u306e\u547c\u3073\u51fa\u3057\uff1e\u3068\u5148\u307b\u3069\u304b\u3089\u66f8\u3044\u3066\u3044\u307e\u3059\u304c\uff0c\u3053\u308c\u3092\u30a4\u30f3\u30b9\u30bf\u30f3\u30b9\u5316\u3068\u547c\u3073\uff0c\u30a4\u30f3\u30b9\u30bf\u30f3\u30b9\u5316\u3055\u308c\u305f\u30aa\u30d6\u30b8\u30a7\u30af\u30c8\u3092\u30a4\u30f3\u30b9\u30bf\u30f3\u30b9\u3068\u547c\u3073\u307e\u3059\uff0e  \n",
        "\u30d7\u30ed\u30b0\u30e9\u30df\u30f3\u30b0\u3092\u3042\u307e\u308a\u89e6\u3063\u305f\u3053\u3068\u306a\u3044\u65b9\u306b\u3068\u3063\u3066\u306f\uff0c\u5206\u304b\u3089\u306a\u3044\u5358\u8a9e\u306e\u30c8\u30ea\u30d7\u30eb\u30a2\u30af\u30bb\u30eb\u72b6\u614b\u306a\u306e\u3067\uff0c\u6b21\u306b\uff0c\u4e0a\u8a18 \uff1c\u30af\u30e9\u30b9\u540d\uff1e \u30af\u30e9\u30b9\u306b\u5bfe\u3059\u308b\u30a4\u30f3\u30b9\u30bf\u30f3\u30b9\u5316\u306e\u69cb\u6587\u3092\u793a\u3057\u307e\u3059\uff0e"
      ]
    },
    {
      "cell_type": "markdown",
      "id": "bfbf1c1c-3dd3-4b50-97b7-6c58e27fe523",
      "metadata": {},
      "source": [
        "```\n",
        "\u30a4\u30f3\u30b9\u30bf\u30f3\u30b9 = \u30af\u30e9\u30b9\u540d(\u4eee\u5f15\u6570_1=\u5b9f\u5f15\u6570_1, \u4eee\u5f15\u6570_2=\u5b9f\u5f15\u6570_2, ..., \u4eee\u5f15\u6570_n=\u5b9f\u5f15\u6570_n)\n",
        "```"
      ]
    },
    {
      "cell_type": "markdown",
      "id": "8e5913a7-bb88-42e3-8a59-ff2b5c463fea",
      "metadata": {},
      "source": [
        "\u30a4\u30f3\u30b9\u30bf\u30f3\u30b9\u5316\uff08\u30af\u30e9\u30b9\u547c\u3073\u51fa\u3057\uff09\u306f\uff0c\u4e0a\u8a18\u306e\u3088\u3046\u306b\u95a2\u6570\u547c\u3073\u51fa\u3057\u3068\u540c\u3058\u3088\u3046\u306b\u5b9a\u7fa9\u3067\u304d\uff0c\u5f15\u6570\u306e\u8003\u3048\u65b9\u3082\u540c\u3058\u3067\u3059\uff0e  \n",
        "\u5f15\u6570\u306f `__init__` \u306b\u3066\u51e6\u7406\u3055\u308c\u307e\u3059\uff0e  \n",
        "\u4e0a\u8a18\u3092\u5b9f\u884c\u3059\u308b\u3068\uff0c\uff1c\u30af\u30e9\u30b9\u540d\uff1e\u30af\u30e9\u30b9\u304c\u547c\u3073\u51fa\u3055\u308c\uff0c\u30af\u30e9\u30b9\u5185\u306e\u76f4\u4e0b\u306e\u51e6\u7406\u3068\uff0c`__init__` \u304c\u5b9f\u884c\u3055\u308c\u3066\uff0c\u3053\u306e\u5c5e\u6027\u304c\uff1c\u30a4\u30f3\u30b9\u30bf\u30f3\u30b9\uff1e\u306b\u4ee3\u5165\u3055\u308c\u307e\u3059\uff0e  \n",
        "\u500b\u4eba\u7684\u306b\u306f\uff0c\u300c\u30a4\u30f3\u30b9\u30bf\u30f3\u30b9\u306f\uff0c\u30af\u30e9\u30b9\u3068\u3044\u3046\u6b63\u5f0f\u540d\u79f0\u306b\u5bfe\u3057\u3066\u3042\u3060\u540d\u3092\u3064\u3051\u305f\u3082\u306e\u3067\uff0c\u30af\u30e9\u30b9\u306e\u5165\u529b\u306b\u5bfe\u3059\u308b\u5c5e\u6027\uff08\u30e1\u30f3\u30d0\u30fc\u5909\u6570\u3084\u30e1\u30bd\u30c3\u30c9\uff09\u304c\u542b\u307e\u308c\u308b\u300d\u3068\u3044\u3046\u30a4\u30e1\u30fc\u30b8\u3067\u3059\uff0e  \n",
        "\u30a4\u30f3\u30b9\u30bf\u30f3\u30b9\u3092\u7528\u3044\u3066\uff0c\u30af\u30e9\u30b9\u5916\u304b\u3089\u30e1\u30f3\u30d0\u30fc\u5909\u6570\u3092\u53c2\u7167\u3059\u308b\u5834\u5408\u306f\uff0c\u6b21\u306e\u3088\u3046\u306b\u8a18\u8f09\u3057\u307e\u3059\uff0e"
      ]
    },
    {
      "cell_type": "markdown",
      "id": "5e59b18e-dd89-4e18-9a87-f028f0436429",
      "metadata": {},
      "source": [
        "```\n",
        "\u30a4\u30f3\u30b9\u30bf\u30f3\u30b9.\u30e1\u30f3\u30d0\u30fc\u5909\u6570\n",
        "```"
      ]
    },
    {
      "cell_type": "markdown",
      "id": "851537a3-6405-49a3-bf4f-fae44dc8f293",
      "metadata": {},
      "source": [
        "self \u304c \u30a4\u30f3\u30b9\u30bf\u30f3\u30b9 \u306b\u306a\u3063\u305f\u3060\u3051\u3067\u3059\u306d\uff0e  \n",
        "\u30e1\u30bd\u30c3\u30c9\u3092\u4f7f\u3044\u305f\u3044\u5834\u5408\u3082\u540c\u69d8\u3067\u3059\uff0e"
      ]
    },
    {
      "cell_type": "markdown",
      "id": "04a6a1a6-cd31-41c4-a525-c7398208c52a",
      "metadata": {},
      "source": [
        "```\n",
        "\u30a4\u30f3\u30b9\u30bf\u30f3\u30b9.\u30e1\u30bd\u30c3\u30c9\u540d(\u4eee\u5f15\u6570_1=\u5b9f\u5f15\u6570_1, \u4eee\u5f15\u6570_2=\u5b9f\u5f15\u6570_2, ..., \u4eee\u5f15\u6570_n=\u5b9f\u5f15\u6570_n)\n",
        "```"
      ]
    },
    {
      "cell_type": "markdown",
      "id": "c51153de-f8a5-4442-a079-0b3cbbf3f4b3",
      "metadata": {},
      "source": [
        "\u30af\u30e9\u30b9\u306f\uff0c\u30e1\u30f3\u30d0\u30fc\u5909\u6570\u3084\u30e1\u30bd\u30c3\u30c9\u306e\u5165\u308c\u7269\u3067\u3042\u308b\u306e\u3067\uff0c\u30af\u30e9\u30b9\u304a\u3088\u3073\u30a4\u30f3\u30b9\u30bf\u30f3\u30b9\u306e\u540d\u524d\u306e\u4ed8\u3051\u65b9\u3068\u3057\u3066\u306f\uff0c\u3069\u3061\u3089\u3082\u540d\u8a5e\u304c\u597d\u307e\u3057\u304f\uff0cpascal case \u3067\u540d\u4ed8\u3051\u307e\u3059\uff0e  \n",
        "\u30e1\u30bd\u30c3\u30c9\u306f\u30af\u30e9\u30b9\u5185\u306e\u95a2\u6570\u3067\u3059\u306e\u3067\uff0c\u95a2\u6570\u3068\u540c\u69d8\u306b\u52d5\u8a5e\u3068\u76ee\u7684\u8a9e\u3067\u540d\u4ed8\u3051\u307e\u3059\uff0e  \n",
        "\u3053\u306e\u3088\u3046\u306b\u540d\u4ed8\u3051\u308b\u3068\uff0c\uff1c\u30a4\u30f3\u30b9\u30bf\u30f3\u30b9.\u30e1\u30bd\u30c3\u30c9\uff1e\u3068\u3044\u3046\u30b9\u30af\u30ea\u30d7\u30c8\u304c\uff0c\uff1c\u540d\u8a5e.\u52d5\u8a5e_\u76ee\u7684\u8a9e\uff1e\u306e\u3088\u3046\u306a\u898b\u305f\u76ee\u306b\u306a\u308a\uff0c\u307e\u308b\u3067\u82f1\u6587\u3092\u66f8\u3044\u3066\u3044\u308b\u304b\u306e\u3088\u3046\u306a\uff0c\u53ef\u8aad\u6027\u306e\u9ad8\u3044\u30b3\u30fc\u30c9\u3092\u69cb\u7bc9\u3059\u308b\u3053\u3068\u304c\u3067\u304d\u307e\u3059\uff08\u4f55\u3088\u308a\u6c17\u6301\u3061\u826f\u3044\uff09\uff0e  \n",
        "\u4e0a\u8a18\u306e\u3088\u3046\u306a\u6982\u5ff5\u3084\u7406\u5c48\u306f\uff0c1 \u56de\u81ea\u5206\u3067\u66f8\u3044\u305f\u3053\u3068\u306e\u3042\u308b\u4eba\u3067\u306a\u3044\u3068\u7406\u89e3\u304c\u53b3\u3057\u3044\u306e\u3067\uff0c\u4ee5\u4e0b\u306b\u793a\u3057\u305f\u4f8b\u306b\u3064\u3044\u3066\u96f0\u56f2\u6c17\u3092\u3064\u304b\u3093\u3067\u3044\u305f\u3060\u304d\uff0c\u3082\u3046\u4e00\u56de\u4e0a\u8a18\u8aac\u660e\u3092\u3054\u89a7\u3044\u305f\u3060\u304f\u3068\uff0c\u3088\u308a\u6df1\u304f\u3054\u7406\u89e3\u3044\u305f\u3060\u3051\u308b\u3068\u601d\u3044\u307e\u3059\uff0e"
      ]
    },
    {
      "cell_type": "code",
      "execution_count": 10,
      "id": "a2325596-ba79-477c-bd7f-68806c8da236",
      "metadata": {},
      "outputs": [
        {
          "name": "stdout",
          "output_type": "stream",
          "text": [
            "self.a=1, self.b=10\n"
          ]
        }
      ],
      "source": [
        "class MyClass:\n",
        "    a = 1\n",
        "\n",
        "    def __init__(self, b=2):\n",
        "        self.b = b\n",
        "\n",
        "    def shows_member(self):\n",
        "        print(f\"self.a={self.a}, self.b={self.b}\")\n",
        "\n",
        "\n",
        "myclass = MyClass(b=10)\n",
        "myclass.shows_member()"
      ]
    },
    {
      "cell_type": "code",
      "execution_count": 11,
      "id": "0ab38ace-ec32-4910-988b-a295e4a8378e",
      "metadata": {},
      "outputs": [
        {
          "data": {
            "text/plain": [
              "10"
            ]
          },
          "execution_count": 11,
          "metadata": {},
          "output_type": "execute_result"
        }
      ],
      "source": [
        "myclass.b"
      ]
    },
    {
      "cell_type": "code",
      "execution_count": 12,
      "id": "c96d9d5a-4e03-4dde-af9a-dd9ff87299c0",
      "metadata": {},
      "outputs": [
        {
          "name": "stdout",
          "output_type": "stream",
          "text": [
            "self.a=55, self.b=2, c=100\n"
          ]
        }
      ],
      "source": [
        "class MyClass:\n",
        "    def __init__(self, a, b=2):\n",
        "        self.a = a\n",
        "        self.b = b\n",
        "\n",
        "    def shows_member(self, c):\n",
        "        print(f\"self.a={self.a}, self.b={self.b}, c={c}\")\n",
        "\n",
        "\n",
        "myclass = MyClass(a=55)\n",
        "myclass.shows_member(c=100)"
      ]
    },
    {
      "cell_type": "code",
      "execution_count": 13,
      "id": "d8134d30-e7f8-482e-a702-25350f60c0b4",
      "metadata": {},
      "outputs": [
        {
          "name": "stdout",
          "output_type": "stream",
          "text": [
            "self.a=100, self.b=200, self.c=300\n"
          ]
        }
      ],
      "source": [
        "class MyClass:\n",
        "    a = 100\n",
        "    b = 200\n",
        "    c = 300\n",
        "\n",
        "    def shows_member(self):\n",
        "        print(f\"self.a={self.a}, self.b={self.b}, self.c={self.c}\")\n",
        "\n",
        "\n",
        "myclass = MyClass()\n",
        "myclass.shows_member()"
      ]
    },
    {
      "cell_type": "code",
      "execution_count": 14,
      "id": "7a0a9c60-f5cc-4e25-a749-9d1bd9b3bdee",
      "metadata": {},
      "outputs": [
        {
          "ename": "NameError",
          "evalue": "name 'a' is not defined",
          "output_type": "error",
          "traceback": [
            "\u001b[1;31m---------------------------------------------------------------------------\u001b[0m",
            "\u001b[1;31mNameError\u001b[0m                                 Traceback (most recent call last)",
            "\u001b[1;32m~\\AppData\\Local\\Temp/ipykernel_10608/2167009006.py\u001b[0m in \u001b[0;36m<module>\u001b[1;34m\u001b[0m\n\u001b[1;32m----> 1\u001b[1;33m \u001b[0ma\u001b[0m\u001b[1;33m\u001b[0m\u001b[1;33m\u001b[0m\u001b[0m\n\u001b[0m",
            "\u001b[1;31mNameError\u001b[0m: name 'a' is not defined"
          ]
        }
      ],
      "source": [
        "a"
      ]
    },
    {
      "cell_type": "code",
      "execution_count": 15,
      "id": "6da1ade0-65b1-47c4-935a-df73582c9e41",
      "metadata": {},
      "outputs": [],
      "source": [
        "class MyCalculator:\n",
        "    z = 100\n",
        "    \n",
        "    def __init__(self, x, y=10):\n",
        "        self.x = x\n",
        "        self.y = y\n",
        "        \n",
        "    def add_xyz(self):\n",
        "        return self.x + self.y + self.z\n",
        "    \n",
        "    def get_z_squared(self):\n",
        "        return self.z**2\n",
        "    \n",
        "    def returns_value_sqrt(self, value):\n",
        "        return value**(1/2)"
      ]
    },
    {
      "cell_type": "code",
      "execution_count": 16,
      "id": "39d8ee79-325e-41d9-a5a5-3333526adcba",
      "metadata": {},
      "outputs": [
        {
          "data": {
            "text/plain": [
              "111"
            ]
          },
          "execution_count": 16,
          "metadata": {},
          "output_type": "execute_result"
        }
      ],
      "source": [
        "mycalc = MyCalculator(x=1)\n",
        "mycalc.add_xyz()"
      ]
    },
    {
      "cell_type": "code",
      "execution_count": 17,
      "id": "2915cac0-dfff-4b49-9678-284e6a152dd0",
      "metadata": {},
      "outputs": [
        {
          "data": {
            "text/plain": [
              "10000"
            ]
          },
          "execution_count": 17,
          "metadata": {},
          "output_type": "execute_result"
        }
      ],
      "source": [
        "mycalc.get_z_squared()"
      ]
    },
    {
      "cell_type": "code",
      "execution_count": 18,
      "id": "39ee7656-1696-4c47-a4a4-b3834c97594b",
      "metadata": {},
      "outputs": [
        {
          "data": {
            "text/plain": [
              "1.4142135623730951"
            ]
          },
          "execution_count": 18,
          "metadata": {},
          "output_type": "execute_result"
        }
      ],
      "source": [
        "mycalc.returns_value_sqrt(value=2)"
      ]
    },
    {
      "cell_type": "markdown",
      "id": "c0311dd9-0b46-4892-8713-18000b33d949",
      "metadata": {},
      "source": [
        "\u4e0a\u8a18\u30af\u30e9\u30b9\u306e 3 \u3064\u306e\u30e1\u30bd\u30c3\u30c9\u3092\u898b\u3066\u3069\u3046\u601d\u3044\u307e\u3059\u3067\u3057\u3087\u3046\u304b\uff1f  \n",
        "`add_xyz` \u306f\uff0c`MyCalculator` \u76f4\u4e0b\u306e `self.z` \u3068\uff0c\u30a4\u30f3\u30b9\u30bf\u30f3\u30b9\u5316\u306e\u3068\u304d\u306b\u4ee3\u5165\u3059\u308b `self.x`, `self.y` \u3092\u7528\u3044\u3066\u3044\u308b\u306e\u3067\uff0c\u30af\u30e9\u30b9\u3068\u3057\u3066\u6271\u3046\u6069\u6075\u306f\u5927\u3044\u306b\u3042\u308a\u305d\u3046\u3067\u3059\uff0e  \n",
        "\u4e00\u65b9\uff0c`get_z_squared` \u306f\uff0c`self.z` \u3057\u304b\u4f7f\u3063\u3066\u3044\u306a\u3044\u306e\u3067\uff0c\u30a4\u30f3\u30b9\u30bf\u30f3\u30b9\u5316\u306e\u3068\u304d\u306b\u4ee3\u5165\u3059\u308b\u5024\u3092\u7528\u3044\u306a\u3044\u306e\u3067\uff0c\u30a4\u30f3\u30b9\u30bf\u30f3\u30b9\u5316\u306e\u5fc5\u8981\u6027\u304c\u611f\u3058\u3089\u308c\u307e\u305b\u3093\uff0e  \n",
        "`get_z_squared` \u306e\u3088\u3046\u306b\uff0c\u30af\u30e9\u30b9\u76f4\u4e0b\u306e\u30e1\u30f3\u30d0\u30fc\u5909\u6570\u306e\u307f\u3057\u304b\u7528\u3044\u308b\u3053\u3068\u306e\u306a\u3044\u30e1\u30bd\u30c3\u30c9\u306e\u547c\u3073\u51fa\u3057\u306b\u3064\u3044\u3066\uff0c"
      ]
    },
    {
      "cell_type": "markdown",
      "id": "2bb1513c-6ffc-4456-9cb0-a0f014bbb767",
      "metadata": {},
      "source": [
        "```\n",
        "class \u30af\u30e9\u30b9\u540d:\n",
        "    \u51e6\u7406\n",
        "    \n",
        "    @classmethod\n",
        "    def \u30af\u30e9\u30b9\u30e1\u30bd\u30c3\u30c9\u540d(cls, \u4eee\u5f15\u6570_1, \u4eee\u5f15\u6570_2, ..., \u4eee\u5f15\u6570_n):\n",
        "        cls \u306b\u683c\u7d0d\u3055\u308c\u3066\u3044\u308b\uff0c\u30af\u30e9\u30b9\u76f4\u4e0b\u306e\u30e1\u30f3\u30d0\u30fc\u5909\u6570\u306e\u307f\u306e\u51e6\u7406\n",
        "```"
      ]
    },
    {
      "cell_type": "markdown",
      "id": "07fbc6a2-964f-4774-8cfd-6c74cc7d3ecf",
      "metadata": {},
      "source": [
        "\u3068\u3044\u3046\u98a8\u306b\uff0c`def` \u306e\u524d\u306b `@classmethod` \u3068\u3044\u3046\u30b3\u30fc\u30c9\u3092\u4ed8\u3051\u8db3\u3059\u3053\u3068\u306b\u3088\u308a\uff0c\u305d\u306e\u30e1\u30bd\u30c3\u30c9\u306f\u30af\u30e9\u30b9\u30e1\u30bd\u30c3\u30c9\u3068\u547c\u3070\u308c\u308b\u5c5e\u6027\u306b\u306a\u308a\u307e\u3059\uff0e  \n",
        "\u307e\u305f\uff0c\u30e1\u30f3\u30d0\u30fc\u5909\u6570\u306f `self` \u306b\u683c\u7d0d\u3057\u3066\u3044\u307e\u3057\u305f\u304c\uff0c\u30af\u30e9\u30b9\u30e1\u30bd\u30c3\u30c9\u3067\u3042\u308b\u3053\u3068\u3092\u533a\u5225\u3059\u308b\u305f\u3081\u306b\uff0c\u6163\u4f8b\u7684\u306b\u30af\u30e9\u30b9\u30e1\u30bd\u30c3\u30c9\u5185\u3067\u306f `cls` \u3092\u7528\u3044\u307e\u3059\uff0e  \n",
        "\u30af\u30e9\u30b9\u30e1\u30bd\u30c3\u30c9\u306f\u6b21\u306e\u3088\u3046\u306b\u7c21\u5358\u306b\u547c\u3079\u307e\u3059\uff0e"
      ]
    },
    {
      "cell_type": "markdown",
      "id": "34fb4482-8bc5-4cb9-9c09-5cebaa3ef797",
      "metadata": {},
      "source": [
        "```\n",
        "\u30af\u30e9\u30b9\u540d.\u30af\u30e9\u30b9\u30e1\u30bd\u30c3\u30c9(\u4eee\u5f15\u6570_1=\u5b9f\u5f15\u6570_1, \u4eee\u5f15\u6570_2=\u5b9f\u5f15\u6570_2, ..., \u4eee\u5f15\u6570_n=\u5b9f\u5f15\u6570_n)\n",
        "```"
      ]
    },
    {
      "cell_type": "markdown",
      "id": "c211727d-cdb4-4a0b-af8e-7c86c61c5977",
      "metadata": {},
      "source": [
        "\u3068\u3044\u3046\u3053\u3068\u3067\uff0c\u30a4\u30f3\u30b9\u30bf\u30f3\u30b9\u5316\u306e\u5fc5\u8981\u304c\u306a\u304f\u306a\u308a\uff0c`__init__` \u306b\u6e21\u3059\u5f15\u6570\u304c\u306a\u304f\u306a\u308a\u307e\u3057\u305f\uff0e  \n",
        "\u5148\u307b\u3069\u306e `MyCalculator` \u30af\u30e9\u30b9\u306e `get_z_squared` \u3092\u30af\u30e9\u30b9\u30e1\u30bd\u30c3\u30c9\u306b\u3057\u3066\u547c\u3073\u51fa\u3057\u305f\u5834\u5408\u3092\u4ee5\u4e0b\u306b\u793a\u3057\u307e\u3059\uff0e"
      ]
    },
    {
      "cell_type": "code",
      "execution_count": 19,
      "id": "79bf1176-c75f-495d-beb9-59ea05ed0aad",
      "metadata": {},
      "outputs": [],
      "source": [
        "class MyCalculator:\n",
        "    z = 100\n",
        "    \n",
        "    def __init__(self, x, y=10):\n",
        "        self.x = x\n",
        "        self.y = y\n",
        "        \n",
        "    def add_xyz(self):\n",
        "        return self.x + self.y + self.z\n",
        "    \n",
        "    @classmethod\n",
        "    def get_z_squared(cls):\n",
        "        return cls.z**2\n",
        "    \n",
        "    def returns_value_sqrt(self, value):\n",
        "        return value**(1/2)"
      ]
    },
    {
      "cell_type": "code",
      "execution_count": 20,
      "id": "c2d9d721-1c7d-474f-b56c-a9cd2cba3889",
      "metadata": {},
      "outputs": [
        {
          "data": {
            "text/plain": [
              "10000"
            ]
          },
          "execution_count": 20,
          "metadata": {},
          "output_type": "execute_result"
        }
      ],
      "source": [
        "MyCalculator.get_z_squared()"
      ]
    },
    {
      "cell_type": "markdown",
      "id": "73e2f0ac-af12-4c1c-a0fe-63c4f2d492eb",
      "metadata": {},
      "source": [
        "\u3055\u3089\u306b\uff0c`returns_value_sqrt` \u306f\u5f15\u6570\u306e `value` \u3057\u304b\u7528\u3044\u306a\u3044\u306e\u3067\uff0c\u30af\u30e9\u30b9\u3067\u3042\u308b\u5fc5\u8981\u6027\u304c\u611f\u3058\u3089\u308c\u305a\uff0c\u95a2\u6570\u3067\u826f\u3044\u3088\u3046\u306b\u601d\u3048\u307e\u3059\uff0e  \n",
        "\u3082\u3061\u308d\u3093\uff0c\u95a2\u6570\u306b\u3057\u3066\u3082\u826f\u3044\u306e\u3067\u3059\u304c\uff0c\u3053\u306e\u30e1\u30bd\u30c3\u30c9\u304c\u30af\u30e9\u30b9\u3068\u95a2\u9023\u304c\u3042\u308b\u3053\u3068\u3092\u660e\u793a\u3057\u305f\u3044\u5834\u5408\u306b\uff0c\u6b21\u306e\u3088\u3046\u306b\u66f8\u304f\u3053\u3068\u3067\uff0c\u3042\u305f\u304b\u3082\u300c\u30af\u30e9\u30b9\u3068\u95a2\u9023\u4ed8\u3051\u305f\u95a2\u6570\u300d\u3068\u3057\u3066\u30e1\u30bd\u30c3\u30c9\u3092\u547c\u3073\u51fa\u3059\u3053\u3068\u304c\u3067\u304d\u307e\u3059\uff0e"
      ]
    },
    {
      "cell_type": "markdown",
      "id": "7368eb2a-e50b-45f7-adf0-38ccbbc45ec8",
      "metadata": {},
      "source": [
        "```\n",
        "class \u30af\u30e9\u30b9\u540d:\n",
        "    \u51e6\u7406\n",
        "    \n",
        "    @staticmethod\n",
        "    def \u30af\u30e9\u30b9\u30e1\u30bd\u30c3\u30c9\u540d(\u4eee\u5f15\u6570_1, \u4eee\u5f15\u6570_2, ..., \u4eee\u5f15\u6570_n):\n",
        "        \u30e1\u30f3\u30d0\u30fc\u5909\u6570\u306f\u7528\u3044\u306a\u3044\u51e6\u7406\n",
        "```"
      ]
    },
    {
      "cell_type": "markdown",
      "id": "031f6e89-be2f-4888-a820-96c412b85506",
      "metadata": {},
      "source": [
        "\u3068\u3044\u3046\u98a8\u306b\uff0c`def` \u306e\u524d\u306b `@staticmethod` \u3068\u3044\u3046\u30b3\u30fc\u30c9\u3092\u4ed8\u3051\u8db3\u3059\u3053\u3068\u306b\u3088\u308a\uff0c\u305d\u306e\u30e1\u30bd\u30c3\u30c9\u306f\u9759\u7684\u30e1\u30bd\u30c3\u30c9\u3068\u547c\u3070\u308c\u308b\u5c5e\u6027\u306b\u306a\u308a\u307e\u3059\uff0e  \n",
        "\u9759\u7684\u30e1\u30bd\u30c3\u30c9\u3067\u306f\u30e1\u30f3\u30d0\u30fc\u5909\u6570\u3092\u7528\u3044\u306a\u3044\u306e\u3067\uff0c\u5f15\u6570\u306b `self` \u304c\u7121\u3044\u3053\u3068\u306b\u6ce8\u610f\u3057\u3066\u304f\u3060\u3055\u3044\uff0e  \n",
        "\u9759\u7684\u30e1\u30bd\u30c3\u30c9\u306f\u6b21\u306e\u3088\u3046\u306b\u547c\u3079\u307e\u3059\uff0e"
      ]
    },
    {
      "cell_type": "markdown",
      "id": "d7b44249-1592-4df9-b248-93d381bee1f9",
      "metadata": {},
      "source": [
        "```\n",
        "\u30af\u30e9\u30b9\u540d.\u9759\u7684\u30e1\u30bd\u30c3\u30c9(\u4eee\u5f15\u6570_1=\u5b9f\u5f15\u6570_1, \u4eee\u5f15\u6570_2=\u5b9f\u5f15\u6570_2, ..., \u4eee\u5f15\u6570_n=\u5b9f\u5f15\u6570_n)\n",
        "```"
      ]
    },
    {
      "cell_type": "markdown",
      "id": "c87db856-c2b4-4617-9781-3fddafc54e56",
      "metadata": {},
      "source": [
        "\u5148\u307b\u3069\u306e `MyCalculator` \u30af\u30e9\u30b9\u306e `returns_value_sqrt` \u3092\u9759\u7684\u30e1\u30bd\u30c3\u30c9\u306b\u3057\u3066\u547c\u3073\u51fa\u3057\u305f\u5834\u5408\u3092\u4ee5\u4e0b\u306b\u793a\u3057\u307e\u3059\uff0e"
      ]
    },
    {
      "cell_type": "code",
      "execution_count": 21,
      "id": "eb14bed7-7130-46ae-949c-4c5ca1b66271",
      "metadata": {},
      "outputs": [],
      "source": [
        "class MyCalculator:\n",
        "    z = 100\n",
        "    \n",
        "    def __init__(self, x, y=10):\n",
        "        self.x = x\n",
        "        self.y = y\n",
        "        \n",
        "    def add_xyz(self):\n",
        "        return self.x + self.y + self.z\n",
        "    \n",
        "    @classmethod\n",
        "    def get_z_squared(cls):\n",
        "        return cls.z**2\n",
        "    \n",
        "    @staticmethod\n",
        "    def returns_value_sqrt(value):\n",
        "        return value**(1/2)"
      ]
    },
    {
      "cell_type": "code",
      "execution_count": 22,
      "id": "917b2034-8160-419a-ba2c-47b7f2382cd7",
      "metadata": {},
      "outputs": [
        {
          "data": {
            "text/plain": [
              "1.4142135623730951"
            ]
          },
          "execution_count": 22,
          "metadata": {},
          "output_type": "execute_result"
        }
      ],
      "source": [
        "MyCalculator.returns_value_sqrt(value=2)"
      ]
    },
    {
      "cell_type": "markdown",
      "id": "15ffb93c-57a4-41a8-891f-c45bae9944d6",
      "metadata": {},
      "source": [
        "## \u30e2\u30b8\u30e5\u30fc\u30eb\u5b9a\u7fa9"
      ]
    },
    {
      "cell_type": "markdown",
      "id": "5b474df2-ef5c-432d-8987-b49e19a32cdb",
      "metadata": {},
      "source": [
        "\u30e2\u30b8\u30e5\u30fc\u30eb\u306f\uff0c\u4eca\u307e\u3067\u306b\u6319\u3052\u305f\u95a2\u6570\u3084\u30af\u30e9\u30b9\u304c\u66f8\u3044\u3066\u3042\u308b\u30b9\u30af\u30ea\u30d7\u30c8\u306e\u30d5\u30a1\u30a4\u30eb\u3067\u3059\uff0e  \n",
        "\u30b3\u30fc\u30c9\u304c\u9577\u304f\u306a\u3063\u3066\u304f\u308b\u3068\uff0c\u4fdd\u5b88\u6027\u304c\u60aa\u304f\u306a\u3063\u305f\u308a\uff0c\u30a8\u30c7\u30a3\u30bf\u306e\u30b3\u30fc\u30c9\u30aa\u30fc\u30c8\u30d5\u30a9\u30fc\u30de\u30c3\u30c8\u304c\u91cd\u304f\u306a\u3063\u305f\u308a\u3059\u308b\u306e\u3067\uff0c\u3053\u3046\u3044\u3046\u5834\u5408\u306f\u30d5\u30a1\u30a4\u30eb\u3092\u5206\u3051\u307e\u3059\uff0e  \n",
        "\u307e\u305f\uff0c\u591a\u4eba\u6570\u3067\u4e00\u3064\u306e\u30d7\u30ed\u30b8\u30a7\u30af\u30c8\u3092\u884c\u3063\u3066\u3044\u308b\u3068\u304d\u3092\u60f3\u5b9a\u3057\u3066\u3082\uff0c\u30b9\u30af\u30ea\u30d7\u30c8\u304c\u66f8\u304b\u308c\u305f\u30d5\u30a1\u30a4\u30eb\u304c\u8907\u6570\u3042\u308b\u3053\u3068\u306f\u5bb9\u6613\u306b\u60f3\u50cf\u3067\u304d\u308b\u3068\u601d\u3044\u307e\u3059\uff0e  \n",
        "\u4e0a\u8a18\u306e\u5834\u5408\uff0c\u30e1\u30a4\u30f3\u3067\u5b9f\u884c\u3059\u308b\u30d5\u30a1\u30a4\u30eb\u3068\uff0c\u30e1\u30a4\u30f3\u304b\u3089\u53c2\u7167\u3055\u308c\u308b\u95a2\u6570\u3084\u30af\u30e9\u30b9\u306e\u30b9\u30af\u30ea\u30d7\u30c8\u304c\u3042\u308b\u30d5\u30a1\u30a4\u30eb\u304c\u3042\u308a\u307e\u3059\u304c\uff0c\u5f8c\u8005\u3092\u30e2\u30b8\u30e5\u30fc\u30eb\u3068\u547c\u3073\u307e\u3059\uff0e  \n",
        "\u3068\u3044\u3046\u3053\u3068\u3067\uff0c\u69cb\u6587\u3082\u4f55\u3082\u7121\u3044\u306e\u3067\uff0c\u4ee5\u4e0b\u306e\u901a\u308a\u30e2\u30b8\u30e5\u30fc\u30eb\uff08\u30d5\u30a1\u30a4\u30eb\uff09\u3092\u4f5c\u6210\u3057\uff0c\u53c2\u7167\u3057\u3066\u307f\u307e\u3057\u3087\u3046\uff0e"
      ]
    },
    {
      "cell_type": "markdown",
      "id": "12cc2982-1169-44a4-918b-4f6ffd30689f",
      "metadata": {},
      "source": [
        "\u307e\u305a\u306f\uff0c`mymodule.py` \u3068\u3044\u3046\u540d\u524d\u306e\u30d5\u30a1\u30a4\u30eb\u3092\u4f5c\u6210\u3057\u307e\u3059\uff0e  \n",
        "\u6b21\u306b\uff0c\u3053\u306e\u30d5\u30a1\u30a4\u30eb\u3092\u958b\u304d\uff0c\u4ee5\u4e0b\u306e\u30b9\u30af\u30ea\u30d7\u30c8\u3092\u30b3\u30d4\u30da\u3057\uff0c\u4fdd\u5b58\u3057\u307e\u3059\uff0e"
      ]
    },
    {
      "cell_type": "markdown",
      "id": "0416109d-da7b-40a4-83fb-0e7f4a843744",
      "metadata": {},
      "source": [
        "```\n",
        "class MyCalculator:\n",
        "    z = 100\n",
        "    \n",
        "    def __init__(self, x, y=10):\n",
        "        self.x = x\n",
        "        self.y = y\n",
        "        \n",
        "    def add_xyz(self):\n",
        "        return self.x + self.y + self.z\n",
        "    \n",
        "    @classmethod\n",
        "    def get_z_squared(cls):\n",
        "        return cls.z**2\n",
        "    \n",
        "    @staticmethod\n",
        "    def returns_value_sqrt(value):\n",
        "        return value**(1/2)\n",
        "```"
      ]
    },
    {
      "cell_type": "markdown",
      "id": "45a89f73-67f9-4858-8012-d01f51e7e34d",
      "metadata": {},
      "source": [
        "\u3053\u306e\u51fa\u6765\u7acb\u3066\u307b\u3084\u307b\u3084\u306e\u30e2\u30b8\u30e5\u30fc\u30eb\u3092\u4ee5\u4e0b\u3067\u547c\u3073\u51fa\u3057\u307e\u3059\uff0e"
      ]
    },
    {
      "cell_type": "code",
      "execution_count": 27,
      "id": "c445d108-4a18-40f9-b3f4-1d52b2459708",
      "metadata": {},
      "outputs": [],
      "source": [
        "from mymodule import MyCalculator"
      ]
    },
    {
      "cell_type": "markdown",
      "id": "1b2d6513-e673-424f-9794-677eb689a0fa",
      "metadata": {},
      "source": [
        "\u3053\u308c\u3067\uff0c`mymodule.py` \u3092\u547c\u3073\u51fa\u3059\u3053\u3068\u304c\u3067\u304d\u307e\u3057\u305f\uff08`import`, `from` \u306b\u3064\u3044\u3066\u306f\uff0c\u6b21\u56de\u306e\u6a19\u6e96\u95a2\u6570\u306b\u3066\u8aac\u660e\u3044\u305f\u3057\u307e\u3059\uff09\uff0e  \n",
        "\u65e9\u901f\u4f7f\u3063\u3066\u307f\u307e\u3057\u3087\u3046\uff0e"
      ]
    },
    {
      "cell_type": "code",
      "execution_count": 28,
      "id": "7fda26e4-53d5-4f25-9017-2dd7c7ecd574",
      "metadata": {},
      "outputs": [
        {
          "data": {
            "text/plain": [
              "1110"
            ]
          },
          "execution_count": 28,
          "metadata": {},
          "output_type": "execute_result"
        }
      ],
      "source": [
        "mycalc = MyCalculator(x=1000)\n",
        "mycalc.add_xyz()"
      ]
    },
    {
      "cell_type": "code",
      "execution_count": 29,
      "id": "42492c85-38c1-44ba-a5e6-c9494ec83522",
      "metadata": {},
      "outputs": [
        {
          "data": {
            "text/plain": [
              "10000"
            ]
          },
          "execution_count": 29,
          "metadata": {},
          "output_type": "execute_result"
        }
      ],
      "source": [
        "MyCalculator.get_z_squared()"
      ]
    },
    {
      "cell_type": "code",
      "execution_count": 31,
      "id": "c73df673-f9bd-4f48-ae89-f31b0aa91ad1",
      "metadata": {},
      "outputs": [
        {
          "data": {
            "text/plain": [
              "6.48074069840786"
            ]
          },
          "execution_count": 31,
          "metadata": {},
          "output_type": "execute_result"
        }
      ],
      "source": [
        "MyCalculator.returns_value_sqrt(value=42)"
      ]
    },
    {
      "cell_type": "markdown",
      "id": "2932577a-e892-45ee-a0e0-fc1f4766dfc3",
      "metadata": {},
      "source": [
        "## \u6f14\u7fd2\u554f\u984c"
      ]
    },
    {
      "cell_type": "markdown",
      "id": "50482bac-c8ca-4812-8492-498013b78bad",
      "metadata": {},
      "source": [
        "\u4ee5\u4e0b\u6f14\u7fd2\u3092\u89e3\u304f\u305f\u3081\u306b\u306f\uff0c\u6761\u4ef6\u5206\u5c90\uff0c\u7e70\u308a\u8fd4\u3057\u51e6\u7406\uff0c\u5185\u5305\u8868\u8a18\uff0c\u30d5\u30a1\u30a4\u30eb\u304b\u3089\u306e\u8aad\u307f\u8fbc\u307f\uff0c\u6587\u5b57\u5217\u64cd\u4f5c\u3092\u3042\u308b\u7a0b\u5ea6\u7406\u89e3\u3057\u3066\u3044\u308b\u5fc5\u8981\u304c\u3042\u308a\u307e\u3059\uff0e  \n",
        "\n",
        "- Q1. \u6570\u5024\u306e\u30ea\u30b9\u30c8 1 \u3064\u3092\u4eee\u5f15\u6570\u3068\u3057\uff0c\u623b\u308a\u5024\u3092\u3053\u306e\u30ea\u30b9\u30c8\u306e RMS \u5024 1 \u3064\u3068\u3057\u305f\u95a2\u6570: `calc_rms` \u3092\u4f5c\u6210\u3057\u3066\u304f\u3060\u3055\u3044\uff0e\u3053\u3053\u3067\uff0c\u30c7\u30fc\u30bf\u306e\u500b\u6570\u3092 $n$, i\u756a\u76ee\u306e\u30c7\u30fc\u30bf\u3092 $x_i$ \u3068\u3059\u308b\u3068\uff0cRMS \u5024\u306f\uff0c\n",
        "\n",
        "$$\n",
        "RMS = \\sqrt{\\frac{1}{n} \\sum_{i=1}^{n}x_i^2}\n",
        "$$\n",
        "\n",
        "\u3067\u8a08\u7b97\u3055\u308c\u307e\u3059\uff0e\n",
        "- Q2. Q1 \u3067\u4f5c\u6210\u3057\u305f `calc_rms` \u306e\u5f15\u6570\u306b 1 \uff5e 100 \u306e\u5947\u6570\u306e\u30ea\u30b9\u30c8\u3092\u5165\u529b\u3057\uff0c\u7d50\u679c\uff08\u623b\u308a\u5024\uff09\u304c 57.73214... \u3067\u3042\u308b\u3053\u3068\u3092\u78ba\u8a8d\u3057\u3066\u304f\u3060\u3055\u3044\uff0e\n",
        "- Q3. `./data.txt` \u3092\u8aad\u307f\uff0c\u623b\u308a\u5024\u304c `Hmidity[%]` \u306e\u5024\u306e\u307f\u306e\u30bf\u30d7\u30eb\u3068\u3057\u305f\u5f15\u6570\u306a\u3057\u306e\u95a2\u6570: `load_humi_data` \u3092\u4f5c\u6210\u3057\u3066\u304f\u3060\u3055\u3044\uff0e\u30c7\u30fc\u30bf\u306e\u8aad\u307f\u8fbc\u307f\u306b\u304a\u3044\u3066\uff0c`import` \u304c\u5fc5\u8981\u306a\u6a19\u6e96\u95a2\u6570\u3084\u30e9\u30a4\u30d6\u30e9\u30ea\u3092\u7528\u3044\u305a\uff0c\u30c6\u30ad\u30b9\u30c8\u30c7\u30fc\u30bf\u3068\u3057\u3066\u8aad\u307f\u8fbc\u3093\u3060\u3082\u306e\u3092\u51e6\u7406\u3059\u308b\u95a2\u6570\u306b\u3057\u3066\u304f\u3060\u3055\u3044\uff0e\n",
        "- Q4. Q3 \u306e\u623b\u308a\u5024\u3067\u3042\u308b\u30bf\u30d7\u30eb\u306b\u3064\u3044\u3066\uff0c\u5148\u982d\uff0f\u672b\u5c3e\u305d\u308c\u305e\u308c 5 \u3064\u3092\u8868\u793a\u3057\uff0c\u305d\u308c\u305e\u308c `(56.44159, 55.97925, 55.46502, 54.99352, 54.72496)` \u3068 `(46.95049, 46.89556, 46.91997, 46.92302, 46.86809)` \u3067\u3042\u308b\u3053\u3068\u3068\uff0c\u30bf\u30d7\u30eb\u306e\u4e2d\u8eab\u306e\u8981\u7d20\u306e\u4e00\u3064\u3092\u53d6\u308a\u51fa\u3057\uff0c\u305d\u306e\u578b\u304c `float` \u3067\u3042\u308b\u3053\u3068\u3092\u78ba\u8a8d\u304f\u3060\u3055\u3044\uff0e\n",
        "- Q5. \u4ee5\u4e0b\u306e\u30af\u30e9\u30b9\u5b9a\u7fa9\uff0f\u30e1\u30bd\u30c3\u30c9\u5b9f\u884c\u3092\u884c\u3063\u3066\u304f\u3060\u3055\u3044\uff08\u7d50\u679c\u304c\u5408\u3048\u3070\u826f\u304f\uff0c\u7d30\u90e8\u306e\u5dee\u7570\u306b\u3064\u3044\u3066\u306f\u6c17\u306b\u3059\u308b\u5fc5\u8981\u306f\u3042\u308a\u307e\u305b\u3093\uff09\uff0e\n",
        "    - Q1 \u3068 Q3 \u3067\u4f5c\u6210\u3057\u305f `calc_rms` \u3068 `load_humi_data` \u3092\u30e1\u30bd\u30c3\u30c9\u306b\u6301\u3064\u30af\u30e9\u30b9: `HumidityRMSGetter` \u3092\u4f5c\u6210\u3057\u3066\u304f\u3060\u3055\u3044\uff0e\n",
        "    - \u6642\u7cfb\u5217\u30c7\u30fc\u30bf\u3067\u3042\u308b `load_humi_data` \u306e\u623b\u308a\u5024\u306e\u30bf\u30d7\u30eb\u306b\u3064\u3044\u3066\uff0c\u305d\u306e\u30c7\u30fc\u30bf\u70b9\u3092\u542b\u3093\u3060\u6642\u9593\u65b9\u5411\u306b\u5bfe\u3057\u3066\u305d\u308c\u4ee5\u524d\u306e\u8a08 10 \u70b9\u306e\u30c7\u30fc\u30bf\u306b\u5bfe\u3059\u308b RMS \u5024\u3092\u683c\u7d0d\u3057\u305f\u30ea\u30b9\u30c8\u3092\u8fd4\u3059\u30e1\u30bd\u30c3\u30c9: `get_rms_arr` \u3092\u4f5c\u6210\u3057\u3066\u304f\u3060\u3055\u3044\uff0e\u3053\u306e\u3068\u304d\uff0c`get_rms_arr` \u306b\u6e21\u3059\u914d\u5217\u306e\u6700\u521d\u306e\u65b9\u306b\u304a\u3044\u3066\u30c7\u30fc\u30bf\u70b9\u306f 10 \u70b9\u306b\u5c4a\u304d\u307e\u305b\u3093\u304c\uff0c\u3053\u306e\u5834\u5408\u306f\u305d\u306e\u30c7\u30fc\u30bf\u70b9\u542b\u3080\u305d\u308c\u4ee5\u524d\u306e\u30c7\u30fc\u30bf\u70b9\u5168\u3066\u3068\u3057\u3066\u304f\u3060\u3055\u3044\uff0e\u307e\u305f\uff0c`get_rms_arr` \u306b\u3066\u8fd4\u3059 RMS \u5024\u306f\uff0c\u5c0f\u6570\u70b9\u7b2c5\u4f4d\u307e\u3067\u3068\u3057\uff0c\u5c0f\u6570\u70b9\u7b2c6\u4f4d\u306b\u5076\u6570\u4e38\u3081\u3092\u9069\u7528\u3057\u305f\u3082\u306e\u3068\u3057\u3066\u304f\u3060\u3055\u3044\uff0e\n",
        "    - \u6700\u5f8c\u306b\uff0c`HumidityRMSGetter` \u3092\u30a4\u30f3\u30b9\u30bf\u30f3\u30b9\u5316\u3057\uff0c`get_rms_arr` \u3092\u547c\u3073\u51fa\u3057\u3066\u7d50\u679c\u3092\u5909\u6570\u306b\u4ee3\u5165\u3057\uff0c\u5148\u982d\uff0f\u672b\u5c3e\u305d\u308c\u305e\u308c 3 \u3064\u8868\u793a\u3057\uff0c\u305d\u308c\u305e\u308c\u306e\u7d50\u679c\u304c `[56.44159, 56.2109, 55.96337]` \u3068 `[46.87241, 46.8774, 46.87726]` \u3067\u3042\u308b\u3053\u3068\u3092\u78ba\u8a8d\u304f\u3060\u3055\u3044\uff0e"
      ]
    }
  ],
  "metadata": {
    "kernelspec": {
      "display_name": "Python 3 (ipykernel)",
      "language": "python",
      "name": "python3"
    },
    "language_info": {
      "codemirror_mode": {
        "name": "ipython",
        "version": 3
      },
      "file_extension": ".py",
      "mimetype": "text/x-python",
      "name": "python",
      "nbconvert_exporter": "python",
      "pygments_lexer": "ipython3",
      "version": "3.8.10"
    }
  },
  "nbformat": 4,
  "nbformat_minor": 5
}
