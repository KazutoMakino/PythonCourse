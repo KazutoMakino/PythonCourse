{
  "cells": [
    {
      "cell_type": "markdown",
      "id": "941a97cc-2e85-4907-8cfd-bb7f95fbffc6",
      "metadata": {
        "id": "bcbfd66d-ec55-4f2f-9187-8642d94eccbd"
      },
      "source": [
        "# NumPy\uff08\u6570\u5b66\u6f14\u7b97\uff0f\u914d\u5217\u64cd\u4f5c\u30e9\u30a4\u30d6\u30e9\u30ea \u5165\u9580\u7de8\uff09\n",
        "\n",
        "---\n",
        "\n",
        "- ref: https://numpy.org/doc/stable/index.html\n",
        "- blog: https://slash-z.com/\n",
        "- github: https://github.com/KazutoMakino/PythonCourses\n",
        "\n",
        "---"
      ]
    },
    {
      "cell_type": "markdown",
      "id": "17b9c552-d813-43ce-972d-39b1d838c37c",
      "metadata": {
        "id": "dee50cd6-e79f-48f2-8076-4fd510ceab11"
      },
      "source": [
        "\u4ed6\u306e\u30d7\u30ed\u30b0\u30e9\u30df\u30f3\u30b0\u8a00\u8a9e\u306b\u5bfe\u3057\u3066\uff0cPython \u306f\u6bd4\u8f03\u7684\u5bb9\u6613\u306b\u66f8\u304f\u3053\u3068\u304c\u3067\u304d\uff0c\u982d\u3067\u601d\u3044\u63cf\u3044\u305f\u3053\u3068\u3092\u5b9f\u88c5\u3057\u3084\u3059\u3044\u8a00\u8a9e\u3067\u3059\uff0e  \n",
        "\u3057\u304b\u3057\uff0c\u4e00\u65b9\u3067\u30b3\u30f3\u30d1\u30a4\u30eb\u3092\u5fc5\u8981\u3068\u3057\u306a\u3044\u30b9\u30af\u30ea\u30d7\u30c8\u8a00\u8a9e\u3067\u3042\u308b\u3053\u3068\u304b\u3089\uff0c\u5927\u898f\u6a21\u8a08\u7b97\u306b\u304a\u3044\u3066 Python \u5358\u72ec\u3067\u306f\u51e6\u7406\u304c\u9045\u3044\u305f\u3081\uff0cPython \u5358\u4f53\u306b\u3066\u91cd\u3044\u8a08\u7b97\u3092\u3055\u305b\u308b\u3053\u3068\u306f\u9069\u5207\u3067\u306f\u306a\u3044\u3068\u8a00\u3048\u307e\u3059\uff0e  \n",
        "\u305d\u306e\u305f\u3081\uff0cPython \u306f C \u8a00\u8a9e\u3084 fortran \u306a\u3069\u306e\u4ed6\u306e\u9ad8\u901f\u306a\u8a00\u8a9e\u3092\u7528\u3044\u3066\u66f8\u304b\u308c\u305f\u30b5\u30fc\u30c9\u30d1\u30fc\u30c6\u30a3\u30e9\u30a4\u30d6\u30e9\u30ea\u3092\u5bb9\u6613\u306b\u7528\u3044\u308b\u3053\u3068\u304c\u3067\u304d\u308b\u3088\u3046\u306b\u306a\u3063\u3066\u304a\u308a\uff0c\u4ed6\u306e\u8a00\u8a9e\u3067\u4f5c\u6210\u3057\u305f\u30b7\u30b9\u30c6\u30e0\u3068\u304f\u3063\u3064\u3051\u308b\u3053\u3068\u304c\u3067\u304d\u308b\uff4a\u3068\u3044\u3046\u610f\u5473\u3067\uff0c\u30b0\u30eb\u30fc\uff08glue, \u7cca\uff08\u306e\u308a\uff09\uff09\u8a00\u8a9e\u3068\u3082\u8a00\u308f\u308c\u3066\u3044\u307e\u3059\uff0e  \n",
        "\u30b5\u30fc\u30c9\u30d1\u30fc\u30c6\u30a3\u30e9\u30a4\u30d6\u30e9\u30ea\u306e\u5b58\u5728\u306b\u3088\u308a\uff0cPython \u306f\u4eba\u306b\u3084\u3055\u3057\u3044\u30a4\u30f3\u30bf\u30fc\u30d5\u30a7\u30fc\u30b9\u3092\u63d0\u4f9b\u3059\u308b\u3068\u3068\u3082\u306b\uff0c\u9ad8\u901f\u6f14\u7b97\u3060\u3063\u305f\u308a\u591a\u6a5f\u80fd\u306a\u51e6\u7406\u304c\u53ef\u80fd\u3068\u306a\u3063\u3066\u304a\u308a\uff0c\u7f8e\u5473\u3057\u3044\u3068\u3053\u3069\u308a\u306e\u7d20\u6674\u3089\u3057\u3044\u8a00\u8a9e\u3067\u3059\uff0e  \n",
        "\u3055\u3066\uff0c\u3053\u306e\u7f8e\u5473\u3057\u3055\u3092\u5b9f\u611f\u3059\u308b\u305f\u3081\u306b\u306f\u30b5\u30fc\u30c9\u30d1\u30fc\u30c6\u30a3\u30e9\u30a4\u30d6\u30e9\u30ea\u3092\u6271\u3048\u308b\u5fc5\u8981\u304c\u3042\u308a\u307e\u3059\uff0e  \n",
        "\u4eca\u56de\u306f\u7121\u6570\u306b\u3042\u308b\u30b5\u30fc\u30c9\u30d1\u30fc\u30c6\u30a3\u30e9\u30a4\u30d6\u30e9\u30ea\u306e\u4e2d\u3067\u3082\uff0c\u7279\u306b\u6570\u5024\u8a08\u7b97\u95a2\u9023\u306b\u304a\u3044\u3066\u4f7f\u7528\u7387\u304c 1, 2 \u3092\u4e89\u3046\u3068\u601d\u308f\u308c\u308b NumPy \u3068\u3044\u3046\u30e9\u30a4\u30d6\u30e9\u30ea\u306b\u3064\u3044\u3066\uff0c\u3042\u308b\u7a0b\u5ea6\u4f7f\u3048\u308b\u3088\u3046\u306b\u306a\u308b\u305f\u3081\u306b\u4e00\u90e8\u7d39\u4ecb\u3057\u3066\u3044\u304d\u307e\u3059\uff0e"
      ]
    },
    {
      "cell_type": "markdown",
      "id": "32230378-e761-4d8a-a810-15f24ab5e617",
      "metadata": {},
      "source": [
        "## NumPy \u6982\u8981"
      ]
    },
    {
      "cell_type": "markdown",
      "id": "24d1ef31-e533-4acc-865e-2b543f4f7406",
      "metadata": {},
      "source": [
        "NumPy\uff08\u30ca\u30f3\u30d1\u30a4\u3001\u30ca\u30e0\u30d1\u30a4\uff09\u306f\uff0cpython \u306b\u304a\u3051\u308b\u6570\u5b66\u6f14\u7b97\u3084\u30c6\u30f3\u30bd\u30eb\u8a08\u7b97\u306b\u304a\u3044\u3066\u6a19\u6e96\u7684\u306b\u7528\u3044\u3089\u308c\u308b\u30b5\u30fc\u30c9\u30d1\u30fc\u30c6\u30a3\u30e9\u30a4\u30d6\u30e9\u30ea\u3067\u3059\uff0e  \n",
        "\u914d\u5217\u306b\u3064\u3044\u3066\u306f python \u306e\u6a19\u6e96\u3067\u5099\u308f\u3063\u3066\u3044\u308b list \u3084 tuple \u306b\u3088\u3063\u3066\u3082\u6f14\u7b97\u304c\u53ef\u80fd\u3067\u3057\u305f\u304c\uff0c\u3053\u308c\u3089\u3088\u308a\u3082\u3055\u3089\u306b\u4fbf\u5229\u3067\u9ad8\u901f\u6f14\u7b97\u304c\u53ef\u80fd\u306a\u95a2\u6570\u3092\u6301\u3063\u3066\u3044\u307e\u3059\uff0e  \n",
        "\u307e\u305f\uff0clist \u3068\u306e\u76f8\u4e92\u5909\u63db\u3082\u5bb9\u6613\u3067\uff0c\u307b\u304b\u306e\u30b5\u30fc\u30c9\u30d1\u30fc\u30c6\u30a3\u30e9\u30a4\u30d6\u30e9\u30ea\u306b\u304a\u3044\u3066\u3082\uff0cnumpy \u3068\u306e\u76f8\u4e92\u5909\u63db\u3092\u53ef\u80fd\u3068\u3057\u3066\u3044\u308b\u3082\u306e\u304c\u591a\u304f\uff0c\u30b5\u30fc\u30c9\u30d1\u30fc\u30c6\u30a3\u30e9\u30a4\u30d6\u30e9\u30ea\u3067\u3042\u308b\u306b\u3082\u95a2\u308f\u3089\u305a\uff0cpython \u6271\u3046\u4e0a\u3067\u5fc5\u9808\u306a\u30e9\u30a4\u30d6\u30e9\u30ea\u3067\u3059\uff0e\n",
        "\n",
        "numpy \u3067\u5185\u5305\u3057\u3066\u3044\u308b\u6570\u3084\u6271\u3048\u308b\u51e6\u7406\u306b\u3064\u3044\u3066\u5927\u5225\u3059\u308b\u3068\uff0c\n",
        "- \u7121\u9650\u5927\u3084\u5186\u5468\u7387, \u30cd\u30a4\u30d4\u30a2\u6570\u306a\u3069\uff0c\u6570\u5b66\u6f14\u7b97\u3067\u7528\u3044\u308b\u7279\u6b8a\u306a\u6570\uff0c\u304a\u3088\u3073 nan (None)\n",
        "- list \u3068\u540c\u7b49\u306e\u30b9\u30e9\u30a4\u30b9\u306a\u3069\u306e\u64cd\u4f5c\n",
        "- \u914d\u5217\u751f\u6210\uff0f\u5909\u5f62\n",
        "- \u6570\u5b66\u95a2\u6570\n",
        "- \u4e71\u6570\u306e\u6570\u5217\u306e\u751f\u6210\n",
        "- \u30d5\u30a1\u30a4\u30eb\u8aad\u307f\u8fbc\u307f\uff0f\u66f8\u304d\u8fbc\u307f\n",
        "\n",
        "\u53ce\u9332\u3055\u308c\u3066\u3044\u308b\u95a2\u6570\u3084\u30e1\u30bd\u30c3\u30c9\u304c\u3042\u307e\u308a\u306b\u3082\u8c4a\u5bcc\u306a\u306e\u3067\uff0c\u3042\u308b\u7a0b\u5ea6\u30ab\u30c6\u30b4\u30ea\u30fc\u5206\u3051\u3057\u3066\uff0c\u305d\u306e\u4e2d\u3067\u500b\u4eba\u7684\u306b\u826f\u304f\u7528\u3044\u3066\u3044\u308b\u51e6\u7406\u306b\u3064\u3044\u3066\u8a18\u8f09\u3044\u305f\u3057\u307e\u3059\uff0e\n",
        "\n",
        "\u307e\u305a\u306f\u30e9\u30a4\u30d6\u30e9\u30ea\u306e\u30a4\u30f3\u30dd\u30fc\u30c8\u3067\u3059\u304c\uff0cnumpy \u306f\u516c\u5f0f\u30c9\u30ad\u30e5\u30e1\u30f3\u30c8\u306b\u3066 np \u3068\u7701\u7565\u5f62\u3067\u30a4\u30f3\u30dd\u30fc\u30c8\u3057\u3066\u304a\u308a\uff0c\u3053\u306e\u65b9\u6cd5\u304c\u4e00\u822c\u7684\u3067\u3059\uff0e"
      ]
    },
    {
      "cell_type": "code",
      "execution_count": 1,
      "id": "bdceeca9-13d4-431c-8d0a-1f43f960bef3",
      "metadata": {},
      "outputs": [],
      "source": [
        "import numpy as np"
      ]
    },
    {
      "cell_type": "markdown",
      "id": "8e37eb59-d59d-4be2-b13a-549a15a0bd1d",
      "metadata": {},
      "source": [
        "## numpy.ndarray \u306e\u6301\u3064\u5c5e\u6027"
      ]
    },
    {
      "cell_type": "markdown",
      "id": "626ae911-ca13-44bb-ae2e-6ee169217327",
      "metadata": {
        "tags": []
      },
      "source": [
        "numpy \u306b\u304a\u3044\u3066\uff0c\u914d\u5217\u306f numpy.ndarray \u578b\u3067\u8868\u73fe\u3055\u308c\u307e\u3059\uff0e  \n",
        "\u6319\u52d5\u3084\u6271\u3044\u306b\u3064\u3044\u3066\u306f\u30b9\u30e9\u30a4\u30b9\u304c\u53ef\u80fd\u3067\u3042\u3063\u305f\u308a\u3068 list \u3068\u4f3c\u3066\u3044\u308b\u90e8\u5206\u3082\u3042\u308b\u306e\u3067\u3059\u304c\uff0c\u6570\u591a\u304f\u306e\u6709\u76ca\u306a\u30e1\u30bd\u30c3\u30c9\u304c\u3042\u3063\u305f\u308a\uff0c\u8981\u7d20\u3054\u3068\u306b\u6f14\u7b97\u3057\u306a\u304f\u3066\u3082\uff0c\u4f8b\u3048\u3070 numpy.ndarray \u578b\u5909\u6570\u306b\u5358\u7d14\u306b 2 \u3092\u304b\u3051\u3066\u30b9\u30ab\u30e9\u30fc\u500d\u3059\u308b\u3068\u5168\u8981\u7d20\u304c\u3061\u3083\u3093\u3068 2 \u500d\u3055\u308c\u308b\u306e\u3067\u3059\u304c\uff0c\u3053\u306e\u3088\u3046\u306b\u4e00\u6c17\u306b\u6f14\u7b97\u3067\u304d\u308b\u3088\u3046\u306a\u4ed5\u7d44\u307f\u3092\u6301\u3063\u3066\u3044\u307e\u3059\uff0e  \n",
        "\u4fbf\u5229\u306a\u30e1\u30bd\u30c3\u30c9\u3092\u8a66\u3059\u305f\u3081\u306b\uff0c\u307e\u305a numpy.ndarray \u578b\u5909\u6570\u3092\u751f\u6210\u3059\u308b\u5fc5\u8981\u304c\u3042\u308b\u305f\u3081\uff0c\u6700\u521d\u306b\u30ea\u30b9\u30c8\u3084\u30bf\u30d7\u30eb\u304b\u3089 numpy.ndarray \u306b\u3059\u308b\u65b9\u6cd5\u3092\u793a\u3057\u307e\u3059\uff0e"
      ]
    },
    {
      "cell_type": "markdown",
      "id": "4283c331-e518-4b97-bd5a-4538ed090436",
      "metadata": {},
      "source": [
        "```\n",
        "np.array(\u6570\u5024\u3084\u30ea\u30b9\u30c8\u306a\u3069, dtype=None, copy=True)\n",
        "```"
      ]
    },
    {
      "cell_type": "code",
      "execution_count": 2,
      "id": "7e66acb1-a117-4ae5-abad-d469a30c6bdc",
      "metadata": {},
      "outputs": [
        {
          "data": {
            "text/plain": [
              "array([0, 1, 2])"
            ]
          },
          "execution_count": 2,
          "metadata": {},
          "output_type": "execute_result"
        }
      ],
      "source": [
        "a = np.array([0, 1, 2])\n",
        "a"
      ]
    },
    {
      "cell_type": "code",
      "execution_count": 3,
      "id": "90d45a93-42d0-4947-985b-1dece1968a0e",
      "metadata": {},
      "outputs": [
        {
          "data": {
            "text/plain": [
              "numpy.ndarray"
            ]
          },
          "execution_count": 3,
          "metadata": {},
          "output_type": "execute_result"
        }
      ],
      "source": [
        "type(a)"
      ]
    },
    {
      "cell_type": "markdown",
      "id": "348b575f-21b6-4556-8373-8532257a047c",
      "metadata": {},
      "source": [
        "\u623b\u308a\u5024\u306f\u6570\u5024\u3084\u30ea\u30b9\u30c8\u306a\u3069\u306e\u30aa\u30d6\u30b8\u30a7\u30af\u30c8\u306e numpy.ndarray \u578b\u304c\u8fd4\u3063\u3066\u304d\u307e\u3059\u304c\uff0c\u8981\u7d20\u306e\u578b\u306f dtype \u306b\u3088\u3063\u3066\u5909\u308f\u308a\u307e\u3059\uff0e  \n",
        "\u521d\u671f\u5024\u306f None \u3068\u306a\u3063\u3066\u3044\u307e\u3059\u304c\uff0c\u3053\u306e\u5834\u5408\u306f\uff0c\u5143\u306e\u30aa\u30d6\u30b8\u30a7\u30af\u30c8\u304b\u3089\u578b\u304c\u63a8\u5b9a\u3055\u308c\u307e\u3059\uff0e  \n",
        "\u4f8b\u3048\u3070\uff0c\u6b21\u306e\u3088\u3046\u306b\u6307\u5b9a\u3059\u308b\u3053\u3068\u3082\u3067\u304d\u307e\u3059\uff0e"
      ]
    },
    {
      "cell_type": "code",
      "execution_count": 4,
      "id": "f5962b37-4f44-46db-9073-afbdf09536a2",
      "metadata": {},
      "outputs": [
        {
          "data": {
            "text/plain": [
              "array([0., 1., 2.])"
            ]
          },
          "execution_count": 4,
          "metadata": {},
          "output_type": "execute_result"
        }
      ],
      "source": [
        "a = np.array([0, 1, 2], dtype=float)\n",
        "a"
      ]
    },
    {
      "cell_type": "code",
      "execution_count": 5,
      "id": "df8738a4-f656-4c94-8769-6d384dcbeed8",
      "metadata": {},
      "outputs": [
        {
          "data": {
            "text/plain": [
              "array([[0, 1, 2],\n",
              "       [3, 4, 5]], dtype=int8)"
            ]
          },
          "execution_count": 5,
          "metadata": {},
          "output_type": "execute_result"
        }
      ],
      "source": [
        "np.array(((0, 1, 2), (3, 4, 5)), dtype=np.int8)"
      ]
    },
    {
      "cell_type": "code",
      "execution_count": 6,
      "id": "97579dbb-aa0b-4bb2-b920-5349ce466233",
      "metadata": {},
      "outputs": [
        {
          "data": {
            "text/plain": [
              "array(0)"
            ]
          },
          "execution_count": 6,
          "metadata": {},
          "output_type": "execute_result"
        }
      ],
      "source": [
        "np.array(0)"
      ]
    },
    {
      "cell_type": "markdown",
      "id": "1e6cbac9-b432-41c9-8890-f84b4ac8562e",
      "metadata": {},
      "source": [
        "\u4e0a\u8a18\u306e\u3088\u3046\u306b\uff0c\u30ea\u30b9\u30c8\u3067\u3082\u30bf\u30d7\u30eb\u3067\u3082\u6570\u5024\u3067\u3082\uff0cnumpy.ndarray \u578b\u3068\u306a\u308a\u307e\u3059\uff0e  \n",
        "\u6570\u5024\u3092\u5f15\u6570\u306b\u4e0e\u3048\u305f\u5834\u5408\u306f\uff0c0 \u6b21\u5143\u306e\u914d\u5217\u306b\u306a\u308a\u307e\u3059\uff0e  \n",
        "\u3061\u306a\u307f\u306b\uff0cnp.asarray \u3067\u3082\u540c\u69d8\u306a\u64cd\u4f5c\u304c\u3067\u304d\u307e\u3059\u304c\uff0c\u3053\u3061\u3089\u306f\u5f15\u6570\u306e\u521d\u671f\u5024\u304c copy=False \u3068\u306a\u3063\u3066\u3044\u3066\u30d3\u30e5\u30fc\u3092\u8fd4\u3059\u306e\u3067\uff0c\u3088\u3063\u307d\u3069\u51e6\u7406\u304c\u3072\u3063\u8feb\u3057\u3066\u306a\u3051\u308c\u3070\u4e0a\u8a18\u306e np.array \u3092\u7528\u3044\u307e\u3059\uff0e\n",
        "\n",
        "numpy.ndarray \u578b\u5909\u6570\u306e\u5c5e\u6027\u306f\u4ee5\u4e0b\u3067\u53d6\u5f97\u3067\u304d\u307e\u3059\uff0e\n",
        "\n",
        "- `.T`\uff1a\u8ee2\u7f6e\u30c6\u30f3\u30bd\u30eb\u3092\u8fd4\u3059\n",
        "- `.dtype`\uff1a\u30c7\u30fc\u30bf\u30bf\u30a4\u30d7\u3092\u8fd4\u3059\n",
        "- `.flat`\uff1a1 \u6b21\u5143\u5316\u3055\u308c\u305f\u914d\u5217\u306e\u30a4\u30c6\u30ec\u30fc\u30bf\u3092\u8fd4\u3059\n",
        "- `.imag`\uff1a\u8907\u7d20\u6570\u306e\u865a\u90e8\u3092\u8fd4\u3059\n",
        "- `.real`\uff1a\u8907\u7d20\u6570\u306e\u5b9f\u90e8\u3092\u8fd4\u3059\n",
        "- `.size`\uff1a\u914d\u5217\u306e\u8981\u7d20\u6570\u3092\u8fd4\u3059\n",
        "- `.ndim`\uff1a\u914d\u5217\u306e\u6b21\u5143\u6570\u3092\u8fd4\u3059\n",
        "- `.shape`\uff1a\u914d\u5217\u306e\u5404\u6b21\u5143\u306e\u8981\u7d20\u6570\u3092\u8fd4\u3059"
      ]
    },
    {
      "cell_type": "code",
      "execution_count": 7,
      "id": "a05c3b1e-1d13-4b76-9833-8a25010eddcd",
      "metadata": {},
      "outputs": [
        {
          "data": {
            "text/plain": [
              "array([[0, 1, 2],\n",
              "       [3, 4, 5]])"
            ]
          },
          "execution_count": 7,
          "metadata": {},
          "output_type": "execute_result"
        }
      ],
      "source": [
        "a = np.array([[0, 1, 2], [3, 4, 5]])\n",
        "a"
      ]
    },
    {
      "cell_type": "code",
      "execution_count": 8,
      "id": "08159bc0-59ef-4c45-9cf8-3618f468b64e",
      "metadata": {},
      "outputs": [
        {
          "data": {
            "text/plain": [
              "array([[0, 3],\n",
              "       [1, 4],\n",
              "       [2, 5]])"
            ]
          },
          "execution_count": 8,
          "metadata": {},
          "output_type": "execute_result"
        }
      ],
      "source": [
        "a.T"
      ]
    },
    {
      "cell_type": "code",
      "execution_count": 9,
      "id": "c6a06fb4-e54b-47c9-8ada-7bade4a10cf5",
      "metadata": {},
      "outputs": [
        {
          "data": {
            "text/plain": [
              "dtype('int32')"
            ]
          },
          "execution_count": 9,
          "metadata": {},
          "output_type": "execute_result"
        }
      ],
      "source": [
        "a.dtype"
      ]
    },
    {
      "cell_type": "code",
      "execution_count": 10,
      "id": "0d5f2795-cfd0-442c-ab6b-18b644eb1fd1",
      "metadata": {},
      "outputs": [
        {
          "data": {
            "text/plain": [
              "<numpy.flatiter at 0x2b8997ab520>"
            ]
          },
          "execution_count": 10,
          "metadata": {},
          "output_type": "execute_result"
        }
      ],
      "source": [
        "a.flat"
      ]
    },
    {
      "cell_type": "code",
      "execution_count": 11,
      "id": "cf387635-1d2d-41c3-b7b8-d0f5cbd674ef",
      "metadata": {},
      "outputs": [
        {
          "data": {
            "text/plain": [
              "array([[0, 0, 0],\n",
              "       [0, 0, 0]])"
            ]
          },
          "execution_count": 11,
          "metadata": {},
          "output_type": "execute_result"
        }
      ],
      "source": [
        "a.imag"
      ]
    },
    {
      "cell_type": "code",
      "execution_count": 12,
      "id": "f558070d-7a0a-4061-9bb6-887b0d9b5d78",
      "metadata": {},
      "outputs": [
        {
          "data": {
            "text/plain": [
              "array([[0, 1, 2],\n",
              "       [3, 4, 5]])"
            ]
          },
          "execution_count": 12,
          "metadata": {},
          "output_type": "execute_result"
        }
      ],
      "source": [
        "a.real"
      ]
    },
    {
      "cell_type": "code",
      "execution_count": 13,
      "id": "3dc19229-d1d1-487a-a30c-e4501e651c1b",
      "metadata": {},
      "outputs": [
        {
          "data": {
            "text/plain": [
              "6"
            ]
          },
          "execution_count": 13,
          "metadata": {},
          "output_type": "execute_result"
        }
      ],
      "source": [
        "a.size"
      ]
    },
    {
      "cell_type": "code",
      "execution_count": 14,
      "id": "5b5727a7-c365-4fc7-81f0-267e7c022c3b",
      "metadata": {},
      "outputs": [
        {
          "data": {
            "text/plain": [
              "2"
            ]
          },
          "execution_count": 14,
          "metadata": {},
          "output_type": "execute_result"
        }
      ],
      "source": [
        "a.ndim"
      ]
    },
    {
      "cell_type": "code",
      "execution_count": 15,
      "id": "2a86da0f-9c4a-4366-92d9-803ff7387576",
      "metadata": {},
      "outputs": [
        {
          "data": {
            "text/plain": [
              "(2, 3)"
            ]
          },
          "execution_count": 15,
          "metadata": {},
          "output_type": "execute_result"
        }
      ],
      "source": [
        "a.shape"
      ]
    },
    {
      "cell_type": "markdown",
      "id": "0a9c0090-534c-47b1-bdde-f62949d277a0",
      "metadata": {},
      "source": [
        "\u307e\u305f\uff0c\u30ea\u30b9\u30c8\u3068\u540c\u69d8\u306b\u30b9\u30e9\u30a4\u30b9\u3082\u6271\u3046\u3053\u3068\u304c\u3067\u304d\u307e\u3059\uff0e"
      ]
    },
    {
      "cell_type": "code",
      "execution_count": 16,
      "id": "01c21b65-c15a-43c8-9af4-a52a98c32baf",
      "metadata": {},
      "outputs": [
        {
          "data": {
            "text/plain": [
              "array([0, 1, 2])"
            ]
          },
          "execution_count": 16,
          "metadata": {},
          "output_type": "execute_result"
        }
      ],
      "source": [
        "a[0]"
      ]
    },
    {
      "cell_type": "code",
      "execution_count": 17,
      "id": "449a22d5-2512-46fc-b778-b5f75ccd479f",
      "metadata": {},
      "outputs": [
        {
          "data": {
            "text/plain": [
              "array([1, 2])"
            ]
          },
          "execution_count": 17,
          "metadata": {},
          "output_type": "execute_result"
        }
      ],
      "source": [
        "a[0, 1:]"
      ]
    },
    {
      "cell_type": "markdown",
      "id": "256a6679-4e63-4802-8b80-a6f5034a8ffb",
      "metadata": {},
      "source": [
        "\u7d44\u307f\u8fbc\u307f\u95a2\u6570\u3082\u601d\u3063\u305f\u901a\u308a\u306b\u4f7f\u3046\u3053\u3068\u304c\u3067\u304d\u307e\u3059\uff0e"
      ]
    },
    {
      "cell_type": "code",
      "execution_count": 18,
      "id": "08dba624-adf9-4b45-a53b-8ec00ba0b836",
      "metadata": {},
      "outputs": [
        {
          "data": {
            "text/plain": [
              "2"
            ]
          },
          "execution_count": 18,
          "metadata": {},
          "output_type": "execute_result"
        }
      ],
      "source": [
        "len(a)"
      ]
    },
    {
      "cell_type": "code",
      "execution_count": 19,
      "id": "7e068111-316f-4f1e-9b10-8b9f8e320216",
      "metadata": {},
      "outputs": [
        {
          "data": {
            "text/plain": [
              "[array([0, 1, 2]), array([3, 4, 5])]"
            ]
          },
          "execution_count": 19,
          "metadata": {},
          "output_type": "execute_result"
        }
      ],
      "source": [
        "list(a)"
      ]
    },
    {
      "cell_type": "code",
      "execution_count": 21,
      "id": "61e120c7-9110-4f01-b61e-6120914bfcae",
      "metadata": {},
      "outputs": [
        {
          "data": {
            "text/plain": [
              "(array([0, 1, 2]), array([3, 4, 5]))"
            ]
          },
          "execution_count": 21,
          "metadata": {},
          "output_type": "execute_result"
        }
      ],
      "source": [
        "tuple(a)"
      ]
    },
    {
      "cell_type": "markdown",
      "id": "026f173c-104a-4bb7-a1ec-31f047551d34",
      "metadata": {},
      "source": [
        "\u305f\u3060\u3057\uff0c\u4e0a\u8a18\u306e\u3088\u3046\u306b\u591a\u6b21\u5143\u914d\u5217\u306e numpy.ndarray \u3092\uff0c\u4f8b\u3048\u3070\u7d44\u307f\u8fbc\u307f\u95a2\u6570\u306e list \u3092\u7528\u3044\u3066\u30ea\u30b9\u30c8\u306b\u3057\u3088\u3046\u3068\u3057\u305f\u5834\u5408\u306f\uff0c\u5916\u5074\u306e\u578b\u306e\u307f\u30ea\u30b9\u30c8\u306b\u306a\u308a\u307e\u3059\uff0e  \n",
        "\u5168\u3066\u306e\u6b21\u5143\u306b\u304a\u3044\u3066\u30ea\u30b9\u30c8\u5316\u3057\u305f\u3044\u5834\u5408\u306f\uff0c\u5f8c\u8ff0\u306e\u30e1\u30bd\u30c3\u30c9 tolist \u3092\u7528\u3044\u307e\u3059\uff0e"
      ]
    },
    {
      "cell_type": "markdown",
      "id": "cd9ccb6d-a9ef-461d-868a-fa423ab5f2ed",
      "metadata": {},
      "source": [
        "numpy.ndarray \u306b\u5bfe\u3059\u308b\u5b9a\u6570\u306e\u52a0\u6e1b\u4e57\u9664\u306f\uff0c\u5168\u3066\u306e\u8981\u7d20\u306b\u5bfe\u3057\u3066\u540c\u4e00\u306e\u64cd\u4f5c\u304c\u9069\u7528\u3055\u308c\u307e\u3059\uff0e"
      ]
    },
    {
      "cell_type": "code",
      "execution_count": 22,
      "id": "aff33e7c-d788-46ff-8d37-81245458bacf",
      "metadata": {},
      "outputs": [
        {
          "data": {
            "text/plain": [
              "array([[10, 11, 12],\n",
              "       [13, 14, 15]])"
            ]
          },
          "execution_count": 22,
          "metadata": {},
          "output_type": "execute_result"
        }
      ],
      "source": [
        "a = np.array([[0, 1, 2], [3, 4, 5]])\n",
        "a + 10"
      ]
    },
    {
      "cell_type": "markdown",
      "id": "c1927c48-ccd4-4f63-b0c4-fd3dc43cf7bd",
      "metadata": {},
      "source": [
        "## numpy.ndarray \u306e\u30e1\u30bd\u30c3\u30c9"
      ]
    },
    {
      "cell_type": "markdown",
      "id": "2e2ba452-ba15-460a-8788-f1c0562d34df",
      "metadata": {},
      "source": [
        "numpy.ndarray \u578b\u5909\u6570\u306b\u5bfe\u3057\u3066\u826f\u304f\u4f7f\u3046\u30e1\u30bd\u30c3\u30c9\u306f\u4ee5\u4e0b\u3067\u3059\uff0e\n",
        "\n",
        "- `.all(axis=None)`\uff1a\u3059\u3079\u3066\u306e\u8981\u7d20\u3092\u8a55\u4fa1\u3057\u305f\u3068\u304d\uff0c\u3059\u3079\u3066\u306e\u8981\u7d20\u304c True \u3067\u3042\u308c\u3070 True \u3092\u8fd4\u3057\uff0c\u305d\u3046\u3067\u306a\u3051\u308c\u3070 False \u3092\u8fd4\u3059\uff08axis \u306f\u8a55\u4fa1\u3059\u308b\u5bfe\u8c61\u306e\u6b21\u5143\u3067\uff0c\u4f8b\u3048\u3070 arr.shape \u304c (3, 4, 5) \u3060\u3068\u3059\u308b\u3068\uff0caxis=0 \u306f 1 \u3064\u76ee\u306e\u8981\u7d20\u6570 3 \u306e\u6b21\u5143\u304c\u8a55\u4fa1\u5bfe\u8c61\u3068\u306a\u308b\uff09\n",
        "- `.any(axis=None)`\uff1a\u3059\u3079\u3066\u306e\u8981\u7d20\u3092\u8a55\u4fa1\u3057\u305f\u3068\u304d\uff0c\u3069\u308c\u304b\u4e00\u3064\u306e\u8981\u7d20\u304c True \u3067\u3042\u308c\u3070 True \u3092\u8fd4\u3057\uff0c\u305d\u3046\u3067\u306a\u3051\u308c\u3070 False \u3092\u8fd4\u3059\n",
        "- `.argmax(axis=None)`\uff1a\u8981\u7d20\u304c\u6700\u5927\u5024\u3092\u53d6\u308b\u8981\u7d20\u756a\u53f7\u3092\u8fd4\u3059\n",
        "- `.argmin(axis=None)`\uff1a\u8981\u7d20\u304c\u6700\u5c0f\u5024\u3092\u53d6\u308b\u8981\u7d20\u756a\u53f7\u3092\u8fd4\u3059\n",
        "- `.argsort(axis=-1)`\uff1a\u914d\u5217\u306e\u5024\u306e\u5927\u5c0f\u95a2\u4fc2\u306e\u9806\u756a\u3092\u8fd4\u3059\n",
        "- `.astype(dtype)`\uff1a\u8981\u7d20\u306e\u578b\u3092\u30ad\u30e3\u30b9\u30c8\u3059\u308b\n",
        "- `.clip(min=None, max=None)`\uff1a\u6307\u5b9a\u3057\u305f\u6700\u5c0f\u5024\u3088\u308a\u3082\u5c0f\u3055\u3044\u8981\u7d20\u306f\u6307\u5b9a\u3057\u305f\u6700\u5c0f\u5024\u3067\uff0c\u6307\u5b9a\u3057\u305f\u6700\u5927\u5024\u3088\u308a\u3082\u5927\u304d\u3044\u5834\u5408\u306f\u6700\u5927\u5024\u3067\uff0c\u6307\u5b9a\u3057\u305f\u6700\u5c0f\u5024\u3068\u6700\u5927\u5024\u306e\u9593\u306b\u3042\u308b\u8981\u7d20\u306f\u305d\u306e\u307e\u307e\u306e\u5024\u306e\u914d\u5217\u3067\u8fd4\u3059\n",
        "- `.copy()`\uff1a\u30b3\u30d4\u30fc\u3092\u8fd4\u3059\n",
        "- `.cumprod(axis=None, dtype=None)`\uff1a\u8981\u7d20\u306e\u7d2f\u7a4d\u7a4d\u3092\u8fd4\u3059\n",
        "- `.cumsum(axis=None, dtype=None)`\uff1a\u8981\u7d20\u306e\u7d2f\u7a4d\u548c\u3092\u8fd4\u3059\n",
        "- `.fill(value)`\uff1a\u4e0e\u3048\u3089\u308c\u305f\u914d\u5217\u306e\u5168\u8981\u7d20\u3092\u30b9\u30ab\u30e9\u30fc\u3067\u57cb\u3081\u308b\uff08\u5024\u3092\u8fd4\u3055\u305a\u5143\u914d\u5217\u3092\u4e0a\u66f8\u304d\u3059\u308b\u3053\u3068\u306b\u6ce8\u610f\uff09\n",
        "- `.flatten()`\uff1a1 \u6b21\u5143\u306e\u914d\u5217\u306b\u30b3\u30d4\u30fc\u3057\u3066\u8fd4\u3059\n",
        "- `.max(axis=None)`\uff1a\u8981\u7d20\u306e\u6700\u5927\u5024\u3092\u8fd4\u3059\n",
        "- `.mean(axis=None, dtype=None)`\uff1a\u8981\u7d20\u306e\u5e73\u5747\u3092\u8fd4\u3059\n",
        "- `.min(axis=None)`\uff1a\u8981\u7d20\u306e\u6700\u5c0f\u5024\u3092\u8fd4\u3059\n",
        "- `.repeat(repeats, axis=None)`\uff1arepeats \u5206\u914d\u5217\u3092\u7e70\u308a\u8fd4\u3059\n",
        "- `.reshape(shape)`\uff1ashape \u3067\u6307\u5b9a\u3057\u305f\u6b21\u5143\u306e\u914d\u5217\u3092\u8fd4\u3059\n",
        "- `.round(decimals)`\uff1adecimals \u3067\u6307\u5b9a\u3057\u305f\u6841\u6570\u3067\u4e38\u3081\u305f\u8981\u7d20\u306e\u914d\u5217\u3092\u8fd4\u3059\n",
        "- `.sort(axis=None)`\uff1a\u914d\u5217\u3092\u30bd\u30fc\u30c8\u3059\u308b\uff08\u623b\u308a\u5024\u306f\u306a\u304f\u5143\u914d\u5217\u304c\u66f8\u304d\u63db\u308f\u308b\u3053\u3068\u306b\u6ce8\u610f\uff09\n",
        "- `.squeeze(axis=None)`\uff1a\u8981\u7d20\u304c 0 \u3057\u304b\u306a\u3044\u6b21\u5143\u3092\u6d88\u3059\n",
        "- `.std(axis=None, dtype=None, ddof=)`\uff1a\u6a19\u6e96\u504f\u5dee\u3092\u8fd4\u3059\n",
        "- `.sum(axis=None, dtype=None)`\uff1a\u7dcf\u548c\u3092\u8fd4\u3059\n",
        "- `.swapaxes(axis1, axis2)`\uff1aaxis1 \u3068 axis2 \u3092\u5165\u308c\u66ff\u3048\u308b\n",
        "- `.tolist()`\uff1a\u5168\u3066\u306e\u6b21\u5143\u3092 list \u3067\u30ad\u30e3\u30b9\u30c8\u3057\u3066\u8fd4\u3059\n",
        "- `.trace()`\uff1a\u7dda\u5f62\u4ee3\u6570\u3067\u3044\u3046\u7e2e\u7d04\uff08\u30c8\u30ec\u30fc\u30b9\uff09\u3092\u8fd4\u3059\n",
        "- `.transpose()`\uff1a\u8ee2\u7f6e\u3092\u8fd4\u3059\n",
        "- `.var(axis=None, dtype=None, ddof=)`\uff1a\u7d71\u8a08\u5b66\u306e\u5206\u6563\u3092\u8fd4\u3059"
      ]
    },
    {
      "cell_type": "markdown",
      "id": "5e8156d5-88ab-4876-9245-054632d7bda7",
      "metadata": {},
      "source": [
        "\u307e\u305a\u306f\uff0c\u5bfe\u8c61\u306e numpy.ndarray \u578b\u5909\u6570\u3092 a \u3068\u3057\u3066\u8a2d\u5b9a\u3057\u307e\u3059\uff0e"
      ]
    },
    {
      "cell_type": "code",
      "execution_count": 104,
      "id": "1b106221-0c14-4287-bffa-c8c80d5c0495",
      "metadata": {},
      "outputs": [
        {
          "data": {
            "text/plain": [
              "array([[[ 0,  1,  2,  3],\n",
              "        [ 4,  5,  6,  7],\n",
              "        [ 8,  9, 10, 11]],\n",
              "\n",
              "       [[12, 13, 14, 15],\n",
              "        [16, 17, 18, 19],\n",
              "        [20, 21, 22, 23]]])"
            ]
          },
          "execution_count": 104,
          "metadata": {},
          "output_type": "execute_result"
        }
      ],
      "source": [
        "a = np.array(\n",
        "    [\n",
        "        [\n",
        "            [0, 1, 2, 3],\n",
        "            [4, 5, 6, 7],\n",
        "            [8, 9, 10, 11],\n",
        "        ],\n",
        "        [\n",
        "            [12, 13, 14, 15],\n",
        "            [16, 17, 18, 19],\n",
        "            [20, 21, 22, 23],\n",
        "        ],\n",
        "    ]\n",
        ")\n",
        "a"
      ]
    },
    {
      "cell_type": "code",
      "execution_count": 40,
      "id": "be59d775-a902-4c74-8110-5ad0ed2ba762",
      "metadata": {},
      "outputs": [
        {
          "data": {
            "text/plain": [
              "(2, 3, 4)"
            ]
          },
          "execution_count": 40,
          "metadata": {},
          "output_type": "execute_result"
        }
      ],
      "source": [
        "a.shape"
      ]
    },
    {
      "cell_type": "markdown",
      "id": "42ed4be5-7f44-4af6-983e-b74703bb1821",
      "metadata": {},
      "source": [
        "\u3053\u306e 3 \u968e\u30c6\u30f3\u30bd\u30eb\u306b\u5bfe\u3057\u3066\u30e1\u30bd\u30c3\u30c9\u3092\u9069\u7528\u3057\u3066\u3044\u304d\u307e\u3059\uff0e"
      ]
    },
    {
      "cell_type": "code",
      "execution_count": 41,
      "id": "95124a15-b8cd-4e3f-8575-7843a1407045",
      "metadata": {},
      "outputs": [
        {
          "data": {
            "text/plain": [
              "(False, True)"
            ]
          },
          "execution_count": 41,
          "metadata": {},
          "output_type": "execute_result"
        }
      ],
      "source": [
        "a.all(), (a+1).all()"
      ]
    },
    {
      "cell_type": "code",
      "execution_count": 42,
      "id": "fc5f6a1e-ae42-4180-b634-a77d812c1127",
      "metadata": {},
      "outputs": [
        {
          "data": {
            "text/plain": [
              "(True, False)"
            ]
          },
          "execution_count": 42,
          "metadata": {},
          "output_type": "execute_result"
        }
      ],
      "source": [
        "a.any(), np.array([0,0,0]).any()"
      ]
    },
    {
      "cell_type": "code",
      "execution_count": 43,
      "id": "1ff213b0-0fb7-4810-8bfe-5bb8a29e4f80",
      "metadata": {},
      "outputs": [
        {
          "data": {
            "text/plain": [
              "23"
            ]
          },
          "execution_count": 43,
          "metadata": {},
          "output_type": "execute_result"
        }
      ],
      "source": [
        "a.argmax()"
      ]
    },
    {
      "cell_type": "code",
      "execution_count": 44,
      "id": "232b324c-b43a-411b-9c64-963e155009f6",
      "metadata": {},
      "outputs": [
        {
          "data": {
            "text/plain": [
              "array([[1, 1, 1, 1],\n",
              "       [1, 1, 1, 1],\n",
              "       [1, 1, 1, 1]], dtype=int64)"
            ]
          },
          "execution_count": 44,
          "metadata": {},
          "output_type": "execute_result"
        }
      ],
      "source": [
        "a.argmax(axis=0)"
      ]
    },
    {
      "cell_type": "code",
      "execution_count": 45,
      "id": "d3745c35-cf63-4fff-8eec-098fbf72bf67",
      "metadata": {},
      "outputs": [
        {
          "data": {
            "text/plain": [
              "array([[2, 2, 2, 2],\n",
              "       [2, 2, 2, 2]], dtype=int64)"
            ]
          },
          "execution_count": 45,
          "metadata": {},
          "output_type": "execute_result"
        }
      ],
      "source": [
        "a.argmax(axis=1)"
      ]
    },
    {
      "cell_type": "code",
      "execution_count": 46,
      "id": "5fd0f8c2-ca3f-4cf8-ae18-4a7e4b0f6b88",
      "metadata": {},
      "outputs": [
        {
          "data": {
            "text/plain": [
              "array([[3, 3, 3],\n",
              "       [3, 3, 3]], dtype=int64)"
            ]
          },
          "execution_count": 46,
          "metadata": {},
          "output_type": "execute_result"
        }
      ],
      "source": [
        "a.argmax(axis=2)"
      ]
    },
    {
      "cell_type": "code",
      "execution_count": 48,
      "id": "212cac22-d2a3-4cc6-8bec-d65ff2fce1d5",
      "metadata": {},
      "outputs": [
        {
          "data": {
            "text/plain": [
              "array([[0, 0, 0, 0],\n",
              "       [0, 0, 0, 0],\n",
              "       [0, 0, 0, 0]], dtype=int64)"
            ]
          },
          "execution_count": 48,
          "metadata": {},
          "output_type": "execute_result"
        }
      ],
      "source": [
        "a.argmin(axis=0)"
      ]
    },
    {
      "cell_type": "code",
      "execution_count": 49,
      "id": "1bef89f5-3b80-462d-8edd-2d17c2ea9ea2",
      "metadata": {},
      "outputs": [
        {
          "data": {
            "text/plain": [
              "array([[0, 0, 0, 0],\n",
              "       [0, 0, 0, 0]], dtype=int64)"
            ]
          },
          "execution_count": 49,
          "metadata": {},
          "output_type": "execute_result"
        }
      ],
      "source": [
        "a.argmin(axis=1)"
      ]
    },
    {
      "cell_type": "code",
      "execution_count": 50,
      "id": "d03a6d32-b021-41a4-82e9-c94c5c4427f2",
      "metadata": {},
      "outputs": [
        {
          "data": {
            "text/plain": [
              "array([[0, 0, 0],\n",
              "       [0, 0, 0]], dtype=int64)"
            ]
          },
          "execution_count": 50,
          "metadata": {},
          "output_type": "execute_result"
        }
      ],
      "source": [
        "a.argmin(axis=2)"
      ]
    },
    {
      "cell_type": "code",
      "execution_count": 51,
      "id": "6f50d00c-1ffd-4812-8f92-976199033eb5",
      "metadata": {},
      "outputs": [
        {
          "data": {
            "text/plain": [
              "array([[[0, 1, 2, 3],\n",
              "        [0, 1, 2, 3],\n",
              "        [0, 1, 2, 3]],\n",
              "\n",
              "       [[0, 1, 2, 3],\n",
              "        [0, 1, 2, 3],\n",
              "        [0, 1, 2, 3]]], dtype=int64)"
            ]
          },
          "execution_count": 51,
          "metadata": {},
          "output_type": "execute_result"
        }
      ],
      "source": [
        "a.argsort()"
      ]
    },
    {
      "cell_type": "code",
      "execution_count": 52,
      "id": "f2d336f3-a05b-4985-935e-429c5b96b261",
      "metadata": {},
      "outputs": [
        {
          "data": {
            "text/plain": [
              "array([[[0, 0, 0, 0],\n",
              "        [0, 0, 0, 0],\n",
              "        [0, 0, 0, 0]],\n",
              "\n",
              "       [[1, 1, 1, 1],\n",
              "        [1, 1, 1, 1],\n",
              "        [1, 1, 1, 1]]], dtype=int64)"
            ]
          },
          "execution_count": 52,
          "metadata": {},
          "output_type": "execute_result"
        }
      ],
      "source": [
        "a.argsort(axis=0)"
      ]
    },
    {
      "cell_type": "code",
      "execution_count": 53,
      "id": "6b63d847-4f87-49a3-b145-48e8a5edec68",
      "metadata": {},
      "outputs": [
        {
          "data": {
            "text/plain": [
              "array([[[0, 0, 0, 0],\n",
              "        [1, 1, 1, 1],\n",
              "        [2, 2, 2, 2]],\n",
              "\n",
              "       [[0, 0, 0, 0],\n",
              "        [1, 1, 1, 1],\n",
              "        [2, 2, 2, 2]]], dtype=int64)"
            ]
          },
          "execution_count": 53,
          "metadata": {},
          "output_type": "execute_result"
        }
      ],
      "source": [
        "a.argsort(axis=1)"
      ]
    },
    {
      "cell_type": "code",
      "execution_count": 54,
      "id": "240fe4cc-e47c-4f98-aeb0-cd67420cd0b7",
      "metadata": {},
      "outputs": [
        {
          "data": {
            "text/plain": [
              "array([[[0, 1, 2, 3],\n",
              "        [0, 1, 2, 3],\n",
              "        [0, 1, 2, 3]],\n",
              "\n",
              "       [[0, 1, 2, 3],\n",
              "        [0, 1, 2, 3],\n",
              "        [0, 1, 2, 3]]], dtype=int64)"
            ]
          },
          "execution_count": 54,
          "metadata": {},
          "output_type": "execute_result"
        }
      ],
      "source": [
        "a.argsort(axis=2)"
      ]
    },
    {
      "cell_type": "code",
      "execution_count": 59,
      "id": "62e20aca-3e76-47cc-bf10-d742c2dbf4ad",
      "metadata": {},
      "outputs": [
        {
          "data": {
            "text/plain": [
              "array([[[ 0.,  1.,  2.,  3.],\n",
              "        [ 4.,  5.,  6.,  7.],\n",
              "        [ 8.,  9., 10., 11.]],\n",
              "\n",
              "       [[12., 13., 14., 15.],\n",
              "        [16., 17., 18., 19.],\n",
              "        [20., 21., 22., 23.]]], dtype=float16)"
            ]
          },
          "execution_count": 59,
          "metadata": {},
          "output_type": "execute_result"
        }
      ],
      "source": [
        "a.astype(np.float16)"
      ]
    },
    {
      "cell_type": "code",
      "execution_count": 65,
      "id": "a488a164-ca06-4f07-96e5-a225e08e5ba8",
      "metadata": {},
      "outputs": [
        {
          "data": {
            "text/plain": [
              "array([[[10, 10, 10, 10],\n",
              "        [10, 10, 10, 10],\n",
              "        [10, 10, 10, 11]],\n",
              "\n",
              "       [[12, 13, 14, 15],\n",
              "        [16, 17, 18, 19],\n",
              "        [20, 20, 20, 20]]])"
            ]
          },
          "execution_count": 65,
          "metadata": {},
          "output_type": "execute_result"
        }
      ],
      "source": [
        "a.clip(min=10, max=20)"
      ]
    },
    {
      "cell_type": "code",
      "execution_count": 66,
      "id": "7494813a-c349-4b4b-a97a-951aefab59c4",
      "metadata": {},
      "outputs": [
        {
          "data": {
            "text/plain": [
              "array([[[ 0,  1,  2,  3],\n",
              "        [ 4,  5,  6,  7],\n",
              "        [ 8,  9, 10, 11]],\n",
              "\n",
              "       [[12, 13, 14, 15],\n",
              "        [16, 17, 18, 19],\n",
              "        [20, 21, 22, 23]]])"
            ]
          },
          "execution_count": 66,
          "metadata": {},
          "output_type": "execute_result"
        }
      ],
      "source": [
        "a.copy()"
      ]
    },
    {
      "cell_type": "code",
      "execution_count": 75,
      "id": "48cdf85e-65c3-456a-8199-182297335983",
      "metadata": {},
      "outputs": [
        {
          "data": {
            "text/plain": [
              "array([[[ True,  True,  True,  True],\n",
              "        [ True,  True,  True,  True],\n",
              "        [ True,  True,  True,  True]],\n",
              "\n",
              "       [[ True,  True,  True,  True],\n",
              "        [ True,  True,  True,  True],\n",
              "        [ True,  True,  True,  True]]])"
            ]
          },
          "execution_count": 75,
          "metadata": {},
          "output_type": "execute_result"
        }
      ],
      "source": [
        "a.copy() == a"
      ]
    },
    {
      "cell_type": "code",
      "execution_count": 77,
      "id": "213ee18d-2f29-4688-bb63-e2afee63151e",
      "metadata": {},
      "outputs": [
        {
          "data": {
            "text/plain": [
              "False"
            ]
          },
          "execution_count": 77,
          "metadata": {},
          "output_type": "execute_result"
        }
      ],
      "source": [
        "a.copy() is a"
      ]
    },
    {
      "cell_type": "code",
      "execution_count": 78,
      "id": "9eaaec5d-44b4-4e6f-8dba-fe24db399fbc",
      "metadata": {},
      "outputs": [
        {
          "data": {
            "text/plain": [
              "array([0, 0, 0, 0, 0, 0, 0, 0, 0, 0, 0, 0, 0, 0, 0, 0, 0, 0, 0, 0, 0, 0,\n",
              "       0, 0], dtype=int32)"
            ]
          },
          "execution_count": 78,
          "metadata": {},
          "output_type": "execute_result"
        }
      ],
      "source": [
        "a.cumprod()"
      ]
    },
    {
      "cell_type": "code",
      "execution_count": 80,
      "id": "0b6b3585-c945-44e5-b888-a02ac70d44a0",
      "metadata": {},
      "outputs": [
        {
          "data": {
            "text/plain": [
              "array([          1,           2,           6,          24,         120,\n",
              "               720,        5040,       40320,      362880,     3628800,\n",
              "          39916800,   479001600,  1932053504,  1278945280,  2004310016,\n",
              "        2004189184,  -288522240,  -898433024,   109641728, -2102132736,\n",
              "       -1195114496,  -522715136,   862453760,  -775946240], dtype=int32)"
            ]
          },
          "execution_count": 80,
          "metadata": {},
          "output_type": "execute_result"
        }
      ],
      "source": [
        "(a+1).cumprod()"
      ]
    },
    {
      "cell_type": "code",
      "execution_count": 92,
      "id": "e0d411a9-198d-4c5b-9ae5-d2a33c2ccfea",
      "metadata": {},
      "outputs": [
        {
          "data": {
            "text/plain": [
              "array([  0,   1,   3,   6,  10,  15,  21,  28,  36,  45,  55,  66,  78,\n",
              "        91, 105, 120, 136, 153, 171, 190, 210, 231, 253, 276], dtype=int32)"
            ]
          },
          "execution_count": 92,
          "metadata": {},
          "output_type": "execute_result"
        }
      ],
      "source": [
        "a.cumsum()"
      ]
    },
    {
      "cell_type": "code",
      "execution_count": 106,
      "id": "0330fdeb-4709-4f12-9447-0a2ef46abf57",
      "metadata": {},
      "outputs": [
        {
          "data": {
            "text/plain": [
              "array([[[-1, -1, -1, -1],\n",
              "        [-1, -1, -1, -1],\n",
              "        [-1, -1, -1, -1]],\n",
              "\n",
              "       [[-1, -1, -1, -1],\n",
              "        [-1, -1, -1, -1],\n",
              "        [-1, -1, -1, -1]]])"
            ]
          },
          "execution_count": 106,
          "metadata": {},
          "output_type": "execute_result"
        }
      ],
      "source": [
        "b = a.copy()\n",
        "a.fill(-1)\n",
        "a"
      ]
    },
    {
      "cell_type": "code",
      "execution_count": 108,
      "id": "1a9b4e16-020e-4197-8c80-5c82271c742e",
      "metadata": {},
      "outputs": [],
      "source": [
        "a = b.copy()"
      ]
    },
    {
      "cell_type": "code",
      "execution_count": 109,
      "id": "26ccc1a9-1ea0-49e2-8d4c-b25aecce58e0",
      "metadata": {},
      "outputs": [
        {
          "data": {
            "text/plain": [
              "array([ 0,  1,  2,  3,  4,  5,  6,  7,  8,  9, 10, 11, 12, 13, 14, 15, 16,\n",
              "       17, 18, 19, 20, 21, 22, 23])"
            ]
          },
          "execution_count": 109,
          "metadata": {},
          "output_type": "execute_result"
        }
      ],
      "source": [
        "a.flatten()"
      ]
    },
    {
      "cell_type": "code",
      "execution_count": 110,
      "id": "9b55fb5d-529a-4c6a-bb0a-2260cbc46c0f",
      "metadata": {},
      "outputs": [
        {
          "data": {
            "text/plain": [
              "23"
            ]
          },
          "execution_count": 110,
          "metadata": {},
          "output_type": "execute_result"
        }
      ],
      "source": [
        "a.max()"
      ]
    },
    {
      "cell_type": "code",
      "execution_count": 115,
      "id": "b68ab376-7ae8-4a4a-93ee-95c399d2bb25",
      "metadata": {},
      "outputs": [
        {
          "data": {
            "text/plain": [
              "11.5"
            ]
          },
          "execution_count": 115,
          "metadata": {},
          "output_type": "execute_result"
        }
      ],
      "source": [
        "a.mean()"
      ]
    },
    {
      "cell_type": "code",
      "execution_count": 119,
      "id": "288de34e-aea1-44e3-9308-f7f35be7885f",
      "metadata": {},
      "outputs": [
        {
          "data": {
            "text/plain": [
              "0"
            ]
          },
          "execution_count": 119,
          "metadata": {},
          "output_type": "execute_result"
        }
      ],
      "source": [
        "a.min()"
      ]
    },
    {
      "cell_type": "code",
      "execution_count": 124,
      "id": "437204e5-a550-492d-ae8a-f50d9a0d7c82",
      "metadata": {},
      "outputs": [
        {
          "data": {
            "text/plain": [
              "array([ 0,  0,  1,  1,  2,  2,  3,  3,  4,  4,  5,  5,  6,  6,  7,  7,  8,\n",
              "        8,  9,  9, 10, 10, 11, 11, 12, 12, 13, 13, 14, 14, 15, 15, 16, 16,\n",
              "       17, 17, 18, 18, 19, 19, 20, 20, 21, 21, 22, 22, 23, 23])"
            ]
          },
          "execution_count": 124,
          "metadata": {},
          "output_type": "execute_result"
        }
      ],
      "source": [
        "a.repeat(2)"
      ]
    },
    {
      "cell_type": "code",
      "execution_count": 128,
      "id": "cd7ad8b0-6cad-4337-a80b-ee66b30e23b3",
      "metadata": {},
      "outputs": [
        {
          "data": {
            "text/plain": [
              "array([[ 0,  1,  2,  3,  4,  5,  6,  7,  8,  9, 10, 11],\n",
              "       [12, 13, 14, 15, 16, 17, 18, 19, 20, 21, 22, 23]])"
            ]
          },
          "execution_count": 128,
          "metadata": {},
          "output_type": "execute_result"
        }
      ],
      "source": [
        "a.reshape(2, 12)"
      ]
    },
    {
      "cell_type": "code",
      "execution_count": 129,
      "id": "c09ed34d-8155-4985-9319-c9c434225898",
      "metadata": {},
      "outputs": [
        {
          "data": {
            "text/plain": [
              "array([[ 0,  1,  2,  3,  4,  5],\n",
              "       [ 6,  7,  8,  9, 10, 11],\n",
              "       [12, 13, 14, 15, 16, 17],\n",
              "       [18, 19, 20, 21, 22, 23]])"
            ]
          },
          "execution_count": 129,
          "metadata": {},
          "output_type": "execute_result"
        }
      ],
      "source": [
        "a.reshape(4, -1)"
      ]
    },
    {
      "cell_type": "code",
      "execution_count": 145,
      "id": "e5850ae9-ff8b-4863-a9c8-8eb85cc05157",
      "metadata": {},
      "outputs": [
        {
          "data": {
            "text/plain": [
              "array([[[ 0.,  2.,  2.,  4.],\n",
              "        [ 4.,  6.,  6.,  8.],\n",
              "        [ 8., 10., 10., 12.]],\n",
              "\n",
              "       [[12., 14., 14., 16.],\n",
              "        [16., 18., 18., 20.],\n",
              "        [20., 22., 22., 24.]]])"
            ]
          },
          "execution_count": 145,
          "metadata": {},
          "output_type": "execute_result"
        }
      ],
      "source": [
        "(a+0.5).round(0)"
      ]
    },
    {
      "cell_type": "code",
      "execution_count": 148,
      "id": "12aac78c-16ef-4f50-8e6f-d8a4fb54ff72",
      "metadata": {},
      "outputs": [
        {
          "data": {
            "text/plain": [
              "array([-1,  3,  4,  5,  5,  5, 10])"
            ]
          },
          "execution_count": 148,
          "metadata": {},
          "output_type": "execute_result"
        }
      ],
      "source": [
        "b = np.array([5,3,-1,4,5,5,10])\n",
        "b.sort()\n",
        "b"
      ]
    },
    {
      "cell_type": "code",
      "execution_count": 160,
      "id": "a0706bea-6ff7-49af-9c44-33bd7fc9776e",
      "metadata": {},
      "outputs": [
        {
          "data": {
            "text/plain": [
              "array([0, 1])"
            ]
          },
          "execution_count": 160,
          "metadata": {},
          "output_type": "execute_result"
        }
      ],
      "source": [
        "b = np.array([[[0], [1]]])\n",
        "b.squeeze()"
      ]
    },
    {
      "cell_type": "code",
      "execution_count": 161,
      "id": "ec087d14-4d54-4198-9208-b296d1162d7a",
      "metadata": {},
      "outputs": [
        {
          "data": {
            "text/plain": [
              "6.922186552431729"
            ]
          },
          "execution_count": 161,
          "metadata": {},
          "output_type": "execute_result"
        }
      ],
      "source": [
        "a.std()"
      ]
    },
    {
      "cell_type": "code",
      "execution_count": 162,
      "id": "0f499a78-8a16-4208-b477-2dc3fbe88194",
      "metadata": {},
      "outputs": [
        {
          "data": {
            "text/plain": [
              "276"
            ]
          },
          "execution_count": 162,
          "metadata": {},
          "output_type": "execute_result"
        }
      ],
      "source": [
        "a.sum()"
      ]
    },
    {
      "cell_type": "code",
      "execution_count": 170,
      "id": "e4c68901-2420-4822-be25-e0f21054d33b",
      "metadata": {},
      "outputs": [
        {
          "data": {
            "text/plain": [
              "(2, 3, 4)"
            ]
          },
          "execution_count": 170,
          "metadata": {},
          "output_type": "execute_result"
        }
      ],
      "source": [
        "a.shape"
      ]
    },
    {
      "cell_type": "code",
      "execution_count": 168,
      "id": "b7db283a-f530-4e43-aab3-e8a2447c287c",
      "metadata": {},
      "outputs": [
        {
          "data": {
            "text/plain": [
              "(3, 2, 4)"
            ]
          },
          "execution_count": 168,
          "metadata": {},
          "output_type": "execute_result"
        }
      ],
      "source": [
        "a.swapaxes(0, 1).shape"
      ]
    },
    {
      "cell_type": "code",
      "execution_count": 171,
      "id": "c8c2bea0-6171-464f-8f76-791f45078712",
      "metadata": {},
      "outputs": [
        {
          "data": {
            "text/plain": [
              "[[[0, 1, 2, 3], [4, 5, 6, 7], [8, 9, 10, 11]],\n",
              " [[12, 13, 14, 15], [16, 17, 18, 19], [20, 21, 22, 23]]]"
            ]
          },
          "execution_count": 171,
          "metadata": {},
          "output_type": "execute_result"
        }
      ],
      "source": [
        "a.tolist()"
      ]
    },
    {
      "cell_type": "code",
      "execution_count": 172,
      "id": "4fcc7201-18c8-4d41-8476-696ad2858741",
      "metadata": {},
      "outputs": [
        {
          "data": {
            "text/plain": [
              "array([16, 18, 20, 22])"
            ]
          },
          "execution_count": 172,
          "metadata": {},
          "output_type": "execute_result"
        }
      ],
      "source": [
        "a.trace()"
      ]
    },
    {
      "cell_type": "code",
      "execution_count": 173,
      "id": "7c712dce-9673-406c-889d-7d003fe84f3f",
      "metadata": {},
      "outputs": [
        {
          "data": {
            "text/plain": [
              "6"
            ]
          },
          "execution_count": 173,
          "metadata": {},
          "output_type": "execute_result"
        }
      ],
      "source": [
        "b = np.array(\n",
        "    [\n",
        "        [1, 0, 0],\n",
        "        [1, 2, 0],\n",
        "        [1, 2, 3],\n",
        "    ]\n",
        ")\n",
        "b.trace()"
      ]
    },
    {
      "cell_type": "code",
      "execution_count": 177,
      "id": "d7769a90-edc9-4bac-9ea4-b89861234b79",
      "metadata": {},
      "outputs": [
        {
          "data": {
            "text/plain": [
              "array([[[ 0, 12],\n",
              "        [ 4, 16],\n",
              "        [ 8, 20]],\n",
              "\n",
              "       [[ 1, 13],\n",
              "        [ 5, 17],\n",
              "        [ 9, 21]],\n",
              "\n",
              "       [[ 2, 14],\n",
              "        [ 6, 18],\n",
              "        [10, 22]],\n",
              "\n",
              "       [[ 3, 15],\n",
              "        [ 7, 19],\n",
              "        [11, 23]]])"
            ]
          },
          "execution_count": 177,
          "metadata": {},
          "output_type": "execute_result"
        }
      ],
      "source": [
        "a.transpose()"
      ]
    },
    {
      "cell_type": "code",
      "execution_count": 178,
      "id": "a7f4e832-873a-4712-ba9e-6791febe53d0",
      "metadata": {},
      "outputs": [
        {
          "data": {
            "text/plain": [
              "47.916666666666664"
            ]
          },
          "execution_count": 178,
          "metadata": {},
          "output_type": "execute_result"
        }
      ],
      "source": [
        "a.var()"
      ]
    },
    {
      "cell_type": "code",
      "execution_count": 179,
      "id": "74a7353d-d293-46a2-b84b-b6fc19a65e87",
      "metadata": {},
      "outputs": [
        {
          "data": {
            "text/plain": [
              "True"
            ]
          },
          "execution_count": 179,
          "metadata": {},
          "output_type": "execute_result"
        }
      ],
      "source": [
        "a.std()**2 == a.var()"
      ]
    },
    {
      "cell_type": "markdown",
      "id": "7a6e92b8-38ee-4c22-a79b-7e9c3f47c616",
      "metadata": {},
      "source": [
        "## numpy \u304c\u6301\u3064\u5b9a\u6570\u304a\u3088\u3073\u95a2\u6570"
      ]
    },
    {
      "cell_type": "markdown",
      "id": "ba19f3aa-5bc6-4670-b4fc-a6cf72c68279",
      "metadata": {},
      "source": [
        "\u5192\u982d\u3067\u8a18\u8f09\u3044\u305f\u3057\u307e\u3057\u305f\u304c\uff0c\u5927\u5225\u3059\u308b\u3068\u4ee5\u4e0b\u3067\uff0c\u305d\u308c\u305e\u308c\u898b\u3066\u3044\u304d\u307e\u3059\uff0e\n",
        "- \u7121\u9650\u5927\u3084\u5186\u5468\u7387, \u30cd\u30a4\u30d4\u30a2\u6570\u306a\u3069\uff0c\u6570\u5b66\u6f14\u7b97\u3067\u7528\u3044\u308b\u7279\u6b8a\u306a\u6570\uff0c\u304a\u3088\u3073 nan (None)\n",
        "- list \u3068\u540c\u7b49\u306e\u30b9\u30e9\u30a4\u30b9\u306a\u3069\u306e\u64cd\u4f5c\n",
        "- \u914d\u5217\u751f\u6210\uff0f\u5909\u5f62\n",
        "- \u6570\u5b66\u95a2\u6570\n",
        "- \u4e71\u6570\u306e\u6570\u5217\u306e\u751f\u6210\n",
        "- \uff08\u30d5\u30a1\u30a4\u30eb\u8aad\u307f\u8fbc\u307f\uff0f\u66f8\u304d\u8fbc\u307f\uff09\u30fb\u30fb\u30fb\u30fb\u5927\u62b5 pandas \u3068\u3044\u3046\u30e9\u30a4\u30d6\u30e9\u30ea\u3092\u4f7f\u3046\u3053\u3068\u304c\u591a\u3044\u305f\u3081\u7701\u7565"
      ]
    },
    {
      "cell_type": "markdown",
      "id": "24c203c3-872b-4c30-9183-6349e1a8f755",
      "metadata": {},
      "source": [
        "### \u6570\u5b66\u3067\u610f\u5473\u306e\u3042\u308b\u5b9a\u6570"
      ]
    },
    {
      "cell_type": "markdown",
      "id": "367d6f31-2ec4-406e-8d9b-ce491877d527",
      "metadata": {},
      "source": [
        "\u6570\u5b66\u6f14\u7b97\u3067\u7528\u3044\u3089\u308c\u308b\u5b9a\u6570\u306b\u3064\u3044\u3066\u3082 numpy \u306f\u30b5\u30dd\u30fc\u30c8\u3057\u3066\u3044\u307e\u3059\uff0e\n",
        "\n",
        "- `numpy.e`\uff1a\u30cd\u30a4\u30d4\u30a2\u6570\uff08\u81ea\u7136\u5bfe\u6570\u306e\u5e95\uff09\n",
        "- `numpy.euler_gamma`\uff1a\u30aa\u30a4\u30e9\u30fc\u306e\u5b9a\u6570\uff08\u8abf\u548c\u7d1a\u6570\u304c\u81ea\u7136\u6570\u306e\u9006\u6570\u306e\u548c\uff09\n",
        "- `numpy.inf`\uff1a\u7121\u9650\u5927\n",
        "- `numpy.nan`\uff1anan\n",
        "- `numpy.pi`\uff1a\u5186\u5468\u7387"
      ]
    },
    {
      "cell_type": "code",
      "execution_count": 185,
      "id": "8dab7e4d-d06a-4a7a-9e61-e05b6e94d99b",
      "metadata": {},
      "outputs": [
        {
          "data": {
            "text/plain": [
              "1.2246467991473532e-16j"
            ]
          },
          "execution_count": 185,
          "metadata": {},
          "output_type": "execute_result"
        }
      ],
      "source": [
        "np.e**(np.pi * 1j) + 1"
      ]
    },
    {
      "cell_type": "markdown",
      "id": "fdc3b3ba-3ac3-4b72-8629-1e49d6db9194",
      "metadata": {},
      "source": [
        "\u4e0a\u8a18\u306f\u6570\u5b66\u7684\u306b\uff0c"
      ]
    },
    {
      "cell_type": "markdown",
      "id": "650cf08f-5bb0-4026-b819-ea1e10858b90",
      "metadata": {},
      "source": [
        "$$\n",
        "e^{\\pi i} + 1 = \\cos(\\pi) + i \\sin(\\pi) + 1 = 0\n",
        "$$"
      ]
    },
    {
      "cell_type": "markdown",
      "id": "74867584-4af5-4688-9d35-cec7c73b6c4c",
      "metadata": {},
      "source": [
        "\u3067\u3059\u304c\uff0c\u6570\u5024\u8a08\u7b97\u4e0a\u3067\u3082\u307b\u3068\u3093\u3069 0 \u306b\u306a\u3063\u3066\u3044\u307e\u3059\u306d\uff0e"
      ]
    },
    {
      "cell_type": "markdown",
      "id": "56bb2ca2-d2f5-4fe9-beb5-be0c590da1dc",
      "metadata": {},
      "source": [
        "### \u914d\u5217\u306e\u751f\u6210"
      ]
    },
    {
      "cell_type": "markdown",
      "id": "9f32120c-6556-4b40-80d5-1ceba6e6ecb7",
      "metadata": {},
      "source": [
        "\u914d\u5217\u306e\u751f\u6210\u3084\u5909\u5f62\u306a\u3069\u3092\u884c\u3046\u4ee3\u8868\u7684\u306a\u30e1\u30bd\u30c3\u30c9\u306b\u3064\u3044\u3066\u6319\u3052\u3066\u3044\u304d\u307e\u3059\uff0e  \n",
        "\u5168\u3066\u306e\u30b5\u30f3\u30d7\u30eb\u30b3\u30fc\u30c9\u3092\u66f8\u304f\u3068\u81a8\u5927\u306a\u91cf\u306b\u306a\u308b\u306e\u3067\uff0c\u4e00\u90e8\u306b\u7d5e\u308a\u307e\u3059\uff0e\n",
        "\n",
        "- `numpy.arange(start, stop, step, dtype=None)`\uff1alist(range()) \u3068\u4f3c\u3066\u3044\u308b\u304c\u5c0f\u6570\u70b9\u3092\u7528\u3044\u308b\u3053\u3068\u304c\u53ef\u80fd\n",
        "- `numpy.linspace(start, stop, num, endpoint)`\uff1a\u521d\u671f\u5024\u3068\u7d42\u308f\u308a\u5024\u3068\u500b\u6570\u304b\u3089\u7b49\u9593\u9694\u306e\u30c7\u30fc\u30bf\u3092\u751f\u6210\n",
        "- `numpy.zeros(shape, dtype=None)`, `numpy.zeros_like(a, dtype=None)`\uff1a\u5168\u8981\u7d20\u304c 0 \u306e\u914d\u5217\u3092\u751f\u6210\n",
        "- `numpy.ones(shape, dtype=None)`, `numpy.ones_like(a, dtype=None)`\uff1a\u5168\u8981\u7d20\u304c 1 \u306e\u914d\u5217\u3092\u751f\u6210\n",
        "- `numpy.full(shape, fill_value, dtype=None)`, `numpy.full_like(a, fill_value, dtype=None)`\uff1a\u5168\u8981\u7d20\u304c\u6307\u5b9a\u3057\u305f\u5b9a\u6570\u306e\u5024\u3067\u3042\u308b\u914d\u5217\u3092\u751f\u6210\n",
        "- `numpy.copy(a)`\uff1a\u30b3\u30d4\u30fc\u3092\u751f\u6210"
      ]
    },
    {
      "cell_type": "code",
      "execution_count": 188,
      "id": "60be6dae-e197-4507-a9d0-1fa744c67c72",
      "metadata": {},
      "outputs": [
        {
          "data": {
            "text/plain": [
              "array([0. , 0.1, 0.2, 0.3, 0.4, 0.5, 0.6, 0.7, 0.8, 0.9])"
            ]
          },
          "execution_count": 188,
          "metadata": {},
          "output_type": "execute_result"
        }
      ],
      "source": [
        "np.arange(0, 1, 0.1)"
      ]
    },
    {
      "cell_type": "code",
      "execution_count": 192,
      "id": "8ee5c526-9e58-4420-acb6-d4cab56b96ec",
      "metadata": {},
      "outputs": [
        {
          "data": {
            "text/plain": [
              "array([0.        , 0.11111111, 0.22222222, 0.33333333, 0.44444444,\n",
              "       0.55555556, 0.66666667, 0.77777778, 0.88888889, 1.        ])"
            ]
          },
          "execution_count": 192,
          "metadata": {},
          "output_type": "execute_result"
        }
      ],
      "source": [
        "np.linspace(start=0, stop=1, num=10)"
      ]
    },
    {
      "cell_type": "code",
      "execution_count": 193,
      "id": "425fdd40-a6a3-4b56-a0b8-d3afbbd53e68",
      "metadata": {},
      "outputs": [
        {
          "data": {
            "text/plain": [
              "array([0. , 0.1, 0.2, 0.3, 0.4, 0.5, 0.6, 0.7, 0.8, 0.9])"
            ]
          },
          "execution_count": 193,
          "metadata": {},
          "output_type": "execute_result"
        }
      ],
      "source": [
        "np.linspace(start=0, stop=1, num=10, endpoint=False)"
      ]
    },
    {
      "cell_type": "code",
      "execution_count": 194,
      "id": "5f5ca7d9-f153-4e6d-97dd-7b8632d3c468",
      "metadata": {},
      "outputs": [
        {
          "data": {
            "text/plain": [
              "array([[0., 0., 0., 0., 0.],\n",
              "       [0., 0., 0., 0., 0.]])"
            ]
          },
          "execution_count": 194,
          "metadata": {},
          "output_type": "execute_result"
        }
      ],
      "source": [
        "np.zeros((2, 5))"
      ]
    },
    {
      "cell_type": "code",
      "execution_count": 198,
      "id": "4e4e3afa-6f71-4176-bfac-13db33bc3ed4",
      "metadata": {},
      "outputs": [
        {
          "data": {
            "text/plain": [
              "array([[0. , 0.1, 0.2, 0.3, 0.4],\n",
              "       [0.5, 0.6, 0.7, 0.8, 0.9]])"
            ]
          },
          "execution_count": 198,
          "metadata": {},
          "output_type": "execute_result"
        }
      ],
      "source": [
        "b = np.arange(0,1,0.1).reshape((2,5))\n",
        "b"
      ]
    },
    {
      "cell_type": "code",
      "execution_count": 199,
      "id": "daffc550-d25e-4434-ba4e-39a61818bc29",
      "metadata": {},
      "outputs": [
        {
          "data": {
            "text/plain": [
              "array([[0., 0., 0., 0., 0.],\n",
              "       [0., 0., 0., 0., 0.]])"
            ]
          },
          "execution_count": 199,
          "metadata": {},
          "output_type": "execute_result"
        }
      ],
      "source": [
        "np.zeros_like(b)"
      ]
    },
    {
      "cell_type": "code",
      "execution_count": 200,
      "id": "9e927f51-bb96-4e2a-9cfc-1cb55559a4fa",
      "metadata": {},
      "outputs": [
        {
          "data": {
            "text/plain": [
              "array([[-1, -1, -1, -1, -1],\n",
              "       [-1, -1, -1, -1, -1]])"
            ]
          },
          "execution_count": 200,
          "metadata": {},
          "output_type": "execute_result"
        }
      ],
      "source": [
        "np.full(shape=(2, 5), fill_value=-1)"
      ]
    },
    {
      "cell_type": "markdown",
      "id": "e3ac04b1-3826-4b0c-8784-6f472340822e",
      "metadata": {},
      "source": [
        "### \u914d\u5217\u306e\u5909\u5f62\u3084\u7d50\u5408\u306a\u3069"
      ]
    },
    {
      "cell_type": "markdown",
      "id": "81fb4d33-9d31-4cbe-82b5-ffda1d089b56",
      "metadata": {},
      "source": [
        "\u57fa\u672c\u7684\u306b\u306f numpy.ndarray \u306b\u304a\u3051\u308b\u30e1\u30bd\u30c3\u30c9\u3068\u307b\u3068\u3093\u3069\u540c\u3058\u3067\uff0c\u7b2c\u4e00\u5f15\u6570\u306b\u914d\u5217\u30aa\u30d6\u30b8\u30a7\u30af\u30c8\u3092\u3068\u308b\u304f\u3089\u3044\u3067\u5c11\u3057\u66f8\u304d\u65b9\u304c\u9055\u3046\u3060\u3051\u3067\u3059\uff0e  \n",
        "\u4f8b\u3048\u3070\uff0creshape \u306b\u3064\u3044\u3066\u306f\uff0c"
      ]
    },
    {
      "cell_type": "code",
      "execution_count": 202,
      "id": "5e5cccb1-1cef-4d0c-aa53-cd619c3dd338",
      "metadata": {},
      "outputs": [
        {
          "data": {
            "text/plain": [
              "array([[0. , 0.1, 0.2, 0.3, 0.4],\n",
              "       [0.5, 0.6, 0.7, 0.8, 0.9]])"
            ]
          },
          "execution_count": 202,
          "metadata": {},
          "output_type": "execute_result"
        }
      ],
      "source": [
        "a = np.arange(0, 1, 0.1)\n",
        "a.reshape((2, 5))"
      ]
    },
    {
      "cell_type": "code",
      "execution_count": 203,
      "id": "85eb0b23-1815-4078-acfb-c22713371273",
      "metadata": {},
      "outputs": [
        {
          "data": {
            "text/plain": [
              "array([[0. , 0.1, 0.2, 0.3, 0.4],\n",
              "       [0.5, 0.6, 0.7, 0.8, 0.9]])"
            ]
          },
          "execution_count": 203,
          "metadata": {},
          "output_type": "execute_result"
        }
      ],
      "source": [
        "np.reshape(a, (2,5))"
      ]
    },
    {
      "cell_type": "markdown",
      "id": "c0932629-da06-45a6-ba02-7fd131e9a6b3",
      "metadata": {},
      "source": [
        "\u3057\u304b\u3057\uff0c\u30e1\u30bd\u30c3\u30c9\u306b\u7121\u3044\u64cd\u4f5c\u3082\u3042\u308a\uff0c\u4ee3\u8868\u683c\u306f\u4ee5\u4e0b\u3067\u3059\uff0e\n",
        "\n",
        "- `numpy.concatenate(a, axis=0, dtype=None)`\uff1a\u914d\u5217\u3092\u7d50\u5408\u3059\u308b\n",
        "- `numpy.tile(a, reps)`\uff1areps \u5206\u8907\u88fd\u3057\u305f\u914d\u5217\u3092\u7d50\u5408\u3055\u305b\u308b\n",
        "- `numpy.append(a, values)`\uff1a\u30ea\u30b9\u30c8\u306e append \u3068\u540c\u3058\uff08numpy \u306e\u307b\u3046\u304c\u9045\u3044\u306e\u3067\u3042\u307e\u308a\u4f7f\u308f\u306a\u3044\uff09\n",
        "- `numpy.unique(a, return_index=False, return_inverse=False)`\uff1a\u91cd\u8907\u3059\u308b\u8981\u7d20\u304c\u6d88\u3055\u308c\u305f\u914d\u5217\u3092\u8fd4\u3059\n",
        "- `numpy.flip(a, axis=None)`\uff1a\u914d\u5217\u3092\u53cd\u8ee2\u3055\u305b\u308b\n",
        "- `numpy.roll(a, shift, axis=None)`\uff1a\u914d\u5217\u306e\u5f62\u72b6\u3092\u305d\u306e\u307e\u307e\u3067\u8981\u7d20\u3092\u305a\u3089\u3059\n",
        "- `numpy.rot90(a, k=1)`\uff1a\u914d\u5217\u3092\u56de\u8ee2\u3055\u305b\u308b"
      ]
    },
    {
      "cell_type": "code",
      "execution_count": 217,
      "id": "8efa66d4-26e9-49c1-8094-7d33c198af22",
      "metadata": {},
      "outputs": [
        {
          "data": {
            "text/plain": [
              "array([[0, 1],\n",
              "       [2, 3],\n",
              "       [4, 5]])"
            ]
          },
          "execution_count": 217,
          "metadata": {},
          "output_type": "execute_result"
        }
      ],
      "source": [
        "a = np.array([[0, 1], [2, 3]])\n",
        "b = np.array([[4, 5]])\n",
        "np.concatenate((a,b))"
      ]
    },
    {
      "cell_type": "code",
      "execution_count": 220,
      "id": "3f22b332-7fc3-4692-b30d-1924a120e08a",
      "metadata": {},
      "outputs": [
        {
          "data": {
            "text/plain": [
              "array([[0, 1, 4],\n",
              "       [2, 3, 5]])"
            ]
          },
          "execution_count": 220,
          "metadata": {},
          "output_type": "execute_result"
        }
      ],
      "source": [
        "np.concatenate((a, b.T), axis=1)"
      ]
    },
    {
      "cell_type": "code",
      "execution_count": 221,
      "id": "1b533264-2cd8-405d-af0f-b32f3b25c81a",
      "metadata": {},
      "outputs": [
        {
          "data": {
            "text/plain": [
              "array([0, 1, 0, 1])"
            ]
          },
          "execution_count": 221,
          "metadata": {},
          "output_type": "execute_result"
        }
      ],
      "source": [
        "np.tile([0,1], 2)"
      ]
    },
    {
      "cell_type": "code",
      "execution_count": 223,
      "id": "5f3cb7b9-118b-4ef0-8206-6d27d5841fd6",
      "metadata": {},
      "outputs": [
        {
          "data": {
            "text/plain": [
              "array([ -1,   1,  10, 100])"
            ]
          },
          "execution_count": 223,
          "metadata": {},
          "output_type": "execute_result"
        }
      ],
      "source": [
        "a = np.array([10, 1, 1, 10, 100, -1])\n",
        "np.unique(a)"
      ]
    },
    {
      "cell_type": "code",
      "execution_count": 224,
      "id": "cc010f55-0596-4bfd-ac44-cda3e3f6a993",
      "metadata": {},
      "outputs": [
        {
          "data": {
            "text/plain": [
              "(array([ -1,   1,  10, 100]), array([5, 1, 0, 4], dtype=int64))"
            ]
          },
          "execution_count": 224,
          "metadata": {},
          "output_type": "execute_result"
        }
      ],
      "source": [
        "np.unique(a, return_index=True)"
      ]
    },
    {
      "cell_type": "code",
      "execution_count": 226,
      "id": "3d333423-c54b-4aa1-b761-64a6d679c991",
      "metadata": {},
      "outputs": [
        {
          "data": {
            "text/plain": [
              "array([[0, 1, 2],\n",
              "       [3, 4, 5],\n",
              "       [6, 7, 8]])"
            ]
          },
          "execution_count": 226,
          "metadata": {},
          "output_type": "execute_result"
        }
      ],
      "source": [
        "a = np.arange(9).reshape((3,3))\n",
        "a"
      ]
    },
    {
      "cell_type": "code",
      "execution_count": 227,
      "id": "dadee248-c804-4202-8e39-4cb399b1040b",
      "metadata": {},
      "outputs": [
        {
          "data": {
            "text/plain": [
              "array([[8, 7, 6],\n",
              "       [5, 4, 3],\n",
              "       [2, 1, 0]])"
            ]
          },
          "execution_count": 227,
          "metadata": {},
          "output_type": "execute_result"
        }
      ],
      "source": [
        "np.flip(a)"
      ]
    },
    {
      "cell_type": "code",
      "execution_count": 234,
      "id": "3825e0da-e532-4bf8-bdde-45f9786fda80",
      "metadata": {},
      "outputs": [
        {
          "data": {
            "text/plain": [
              "array([[6, 7, 8],\n",
              "       [3, 4, 5],\n",
              "       [0, 1, 2]])"
            ]
          },
          "execution_count": 234,
          "metadata": {},
          "output_type": "execute_result"
        }
      ],
      "source": [
        "np.flip(a, axis=0)"
      ]
    },
    {
      "cell_type": "code",
      "execution_count": 235,
      "id": "9b42fa4c-d4c7-42cc-9eab-398517c24f2f",
      "metadata": {},
      "outputs": [
        {
          "data": {
            "text/plain": [
              "array([[2, 1, 0],\n",
              "       [5, 4, 3],\n",
              "       [8, 7, 6]])"
            ]
          },
          "execution_count": 235,
          "metadata": {},
          "output_type": "execute_result"
        }
      ],
      "source": [
        "np.flip(a, axis=1)"
      ]
    },
    {
      "cell_type": "code",
      "execution_count": 238,
      "id": "28d6a985-6568-40ff-91f5-6be6f32ddbe5",
      "metadata": {},
      "outputs": [
        {
          "data": {
            "text/plain": [
              "array([[8, 0, 1],\n",
              "       [2, 3, 4],\n",
              "       [5, 6, 7]])"
            ]
          },
          "execution_count": 238,
          "metadata": {},
          "output_type": "execute_result"
        }
      ],
      "source": [
        "np.roll(a, shift=1)"
      ]
    },
    {
      "cell_type": "code",
      "execution_count": 239,
      "id": "8e062c5c-df08-479b-8994-ac1932fd8d43",
      "metadata": {},
      "outputs": [
        {
          "data": {
            "text/plain": [
              "array([[6, 7, 8],\n",
              "       [0, 1, 2],\n",
              "       [3, 4, 5]])"
            ]
          },
          "execution_count": 239,
          "metadata": {},
          "output_type": "execute_result"
        }
      ],
      "source": [
        "np.roll(a, shift=1, axis=0)"
      ]
    },
    {
      "cell_type": "code",
      "execution_count": 240,
      "id": "98315f7e-a409-4bef-a933-cf98b2202329",
      "metadata": {},
      "outputs": [
        {
          "data": {
            "text/plain": [
              "array([[2, 0, 1],\n",
              "       [5, 3, 4],\n",
              "       [8, 6, 7]])"
            ]
          },
          "execution_count": 240,
          "metadata": {},
          "output_type": "execute_result"
        }
      ],
      "source": [
        "np.roll(a, shift=1, axis=1)"
      ]
    },
    {
      "cell_type": "code",
      "execution_count": 242,
      "id": "4bba5a19-6ce5-4ae8-bbcc-2815b144aaae",
      "metadata": {},
      "outputs": [
        {
          "data": {
            "text/plain": [
              "array([[2, 5, 8],\n",
              "       [1, 4, 7],\n",
              "       [0, 3, 6]])"
            ]
          },
          "execution_count": 242,
          "metadata": {},
          "output_type": "execute_result"
        }
      ],
      "source": [
        "np.rot90(a)"
      ]
    },
    {
      "cell_type": "code",
      "execution_count": 251,
      "id": "86ea73b7-15c6-466c-9e4e-f832654b70f3",
      "metadata": {},
      "outputs": [
        {
          "data": {
            "text/plain": [
              "array([[8, 7, 6],\n",
              "       [5, 4, 3],\n",
              "       [2, 1, 0]])"
            ]
          },
          "execution_count": 251,
          "metadata": {},
          "output_type": "execute_result"
        }
      ],
      "source": [
        "np.rot90(a, k=2)"
      ]
    },
    {
      "cell_type": "markdown",
      "id": "e38e1183-7763-495f-86b3-6a9b118233f8",
      "metadata": {},
      "source": [
        "## \u6570\u5b66\u95a2\u6570"
      ]
    },
    {
      "cell_type": "markdown",
      "id": "6af64d21-4ee1-41b1-bd76-1462d29b1d4b",
      "metadata": {},
      "source": [
        "numpy \u306e\u6570\u5b66\u95a2\u6570\u306f\u8c4a\u5bcc\u3067\uff0c\u304b\u3064\uff0c\u5f15\u6570\u306b\u914d\u5217\u3092\u53d6\u308b\u3053\u3068\u304c\u3067\u304d\uff0c\u5168\u3066\u306e\u8981\u7d20\u306b\u9069\u7528\u3055\u308c\u308b\u305f\u3081\u5f37\u529b\u3067\u3059\uff0e  \n",
        "\u4ee5\u4e0b\u3092\u7528\u3044\u308b\u3053\u3068\u304c\u3067\u304d\u307e\u3059\uff08\u30e1\u30bd\u30c3\u30c9\u3067\u4f7f\u7528\u53ef\u306e\u3082\u306e\u306f\u9664\u3044\u3066\u3044\u307e\u3059\uff09\uff0e\n",
        "\n",
        "- `numpy.sin(x)`\uff1asin x\n",
        "- `numpy.cos(x)`\uff1acos x\n",
        "- `numpy.tan(x)`\uff1atan x\n",
        "- `numpy.arcsin(x)`\uff1aarcsin x\n",
        "- `numpy.arccos(x)`\uff1aarccos x\n",
        "- `numpy.arctan(x)`\uff1aarctan x\n",
        "- `numpy.deg2rad(x)`\uff1adegree \u304b\u3089 radian \u306b\u5909\u63db\n",
        "- `numpy.rad2deg(x)`\uff1aradian \u304b\u3089 degree \u306b\u5909\u63db\n",
        "- `numpy.sinh(x)`\uff1asinh x\n",
        "- `numpy.conh(x)`\uff1acosh x\n",
        "- `numpy.tanh(x)`\uff1atanh x\n",
        "- `numpy.arcsinh(x)`\uff1aarcsinh x\n",
        "- `numpy.arccosh(x)`\uff1aarccosh x\n",
        "- `numpy.arctanh(x)`\uff1aarctanh x\n",
        "- `numpy.floor(x)`\uff1a\u5e8a\u95a2\u6570\n",
        "- `numpy.ceil(x)`\uff1a\u5929\u4e95\u95a2\u6570\n",
        "- `numpy.trunc(x)`\uff1a\u5c0f\u6570\u70b9\u4ee5\u4e0b\u5207\u308a\u6368\u3066\u305f\u914d\u5217\u3092\u8fd4\u3059\n",
        "- `numpy.exp(x)`\uff1ae \u306e x \u4e57\n",
        "- `numpy.log(x)`\uff1a\u81ea\u7136\u5bfe\u6570\n",
        "- `numpy.log10(x)`\uff1a\u5e38\u7528\u5bfe\u6570\n",
        "- `numpy.log2(x)`\uff1alog2 x\n",
        "- `numpy.abs(x)`\uff1a\u7d76\u5bfe\u5024\u3092\u8fd4\u3059\n",
        "- `numpy.gradient(f, axis=None, edge_order=1)`\uff1a\u4e2d\u5fc3\u5dee\u5206\u3092\u7528\u3044\u3066\u914d\u5217\u306e\u50be\u304d\u3092\u8fd4\u3059\n",
        "- `numpy.dot(a)`\uff1a\u884c\u5217\u306e\u7a4d\u3092\u8fd4\u3059\n",
        "- `numpy.cross(a)`\uff1a\u884c\u5217\u306e\u5916\u7a4d\u3092\u8fd4\u3059\n",
        "- `numpy.trapz(y, x=None, dx=1.0, axis=-1)`\uff1a\u53f0\u5f62\u7a4d\u5206\u5024\u3092\u8fd4\u3059\n",
        "\n",
        "\u898b\u305f\u307e\u3093\u307e\u306e\u95a2\u6570\u304c\u591a\u3044\u3067\u3059\u304c\uff0cgradient \u3068 trapz \u306f\u5f15\u6570\u304c\u591a\u3044\u306e\u3067\uff0c\u4ee5\u4e0b\u306b\u4f8b\u3092\u793a\u3057\u307e\u3059\uff0e"
      ]
    },
    {
      "cell_type": "code",
      "execution_count": 18,
      "id": "4b25cf32-0953-43d1-8c87-83aed3922878",
      "metadata": {
        "tags": []
      },
      "outputs": [
        {
          "data": {
            "text/plain": [
              "array([0, 1, 2, 3, 4, 5, 6, 7, 8, 9])"
            ]
          },
          "execution_count": 18,
          "metadata": {},
          "output_type": "execute_result"
        }
      ],
      "source": [
        "x = np.arange(0, 10, 1)\n",
        "y = x**2\n",
        "x"
      ]
    },
    {
      "cell_type": "code",
      "execution_count": 19,
      "id": "e47c4d58-9f1d-4d99-86c0-54a1a8c72dd2",
      "metadata": {},
      "outputs": [
        {
          "data": {
            "text/plain": [
              "array([ 0,  1,  4,  9, 16, 25, 36, 49, 64, 81], dtype=int32)"
            ]
          },
          "execution_count": 19,
          "metadata": {},
          "output_type": "execute_result"
        }
      ],
      "source": [
        "y"
      ]
    },
    {
      "cell_type": "code",
      "execution_count": 20,
      "id": "71fa23a2-0073-4eba-8ae8-2ea78c1b934e",
      "metadata": {},
      "outputs": [
        {
          "data": {
            "text/plain": [
              "array([ 1.,  2.,  4.,  6.,  8., 10., 12., 14., 16., 17.])"
            ]
          },
          "execution_count": 20,
          "metadata": {},
          "output_type": "execute_result"
        }
      ],
      "source": [
        "np.gradient(y, axis=0)"
      ]
    },
    {
      "cell_type": "code",
      "execution_count": 32,
      "id": "f9c29dd2-cfcd-4c5e-8107-53630faaaa3d",
      "metadata": {},
      "outputs": [
        {
          "data": {
            "text/plain": [
              "2.0"
            ]
          },
          "execution_count": 32,
          "metadata": {},
          "output_type": "execute_result"
        }
      ],
      "source": [
        "x = np.arange(0, 2+1, 1)\n",
        "y = x\n",
        "np.trapz(y, x=x)"
      ]
    },
    {
      "cell_type": "markdown",
      "id": "ad759ac6-b569-4f18-8da1-88becc393bc1",
      "metadata": {},
      "source": [
        "$$\n",
        "    2 \\int_{-1}^{1} \\sqrt{1 - x^2} dx = \\pi\n",
        "$$"
      ]
    },
    {
      "cell_type": "markdown",
      "id": "5f787c26-14b0-48ab-979c-b08d5597cc73",
      "metadata": {},
      "source": [
        "\u3053\u308c\u306b\u3064\u3044\u3066\u53f0\u5f62\u516c\u5f0f\u3067\u8a08\u7b97\u3057\u3066\u307f\u308b\u3068\uff0c"
      ]
    },
    {
      "cell_type": "code",
      "execution_count": 56,
      "id": "a48119a7-6d20-4036-8282-d8f116ce03cf",
      "metadata": {},
      "outputs": [
        {
          "data": {
            "text/plain": [
              "3.1415926534846044"
            ]
          },
          "execution_count": 56,
          "metadata": {},
          "output_type": "execute_result"
        }
      ],
      "source": [
        "x = np.linspace(-1, 1, num=10000000, endpoint=True)\n",
        "y = 2 * (1-x**2)**(1/2)\n",
        "circle_area = np.trapz(y, x=x)\n",
        "circle_area"
      ]
    },
    {
      "cell_type": "code",
      "execution_count": 57,
      "id": "98617aff-d01e-49a4-b078-80b0d8092ad5",
      "metadata": {},
      "outputs": [
        {
          "data": {
            "text/plain": [
              "1.0518874660192523e-10"
            ]
          },
          "execution_count": 57,
          "metadata": {},
          "output_type": "execute_result"
        }
      ],
      "source": [
        "np.pi*1**2 - circle_area"
      ]
    },
    {
      "cell_type": "markdown",
      "id": "5a9b4ec9-005b-4f6e-a780-4066a4c22fbd",
      "metadata": {},
      "source": [
        "\u53f0\u5f62\u7a4d\u5206\u306e\u7cbe\u5ea6\u3068\u3057\u3066\u306f\u3053\u3093\u306a\u3082\u3093\u3067\u3057\u3087\u3046\uff0e  "
      ]
    },
    {
      "cell_type": "markdown",
      "id": "e8807052-ae8e-45ba-9267-a2aa253b7070",
      "metadata": {},
      "source": [
        "## \u4e71\u6570\u751f\u6210"
      ]
    },
    {
      "cell_type": "markdown",
      "id": "64c455a2-654d-41fd-9e13-cedb671c47aa",
      "metadata": {},
      "source": [
        "v1.17.0 \u307e\u3067\u306f np.random.rand \u306e\u3088\u3046\u306b\u30e1\u30bd\u30c3\u30c9\u3067\u4e71\u6570\u3092\u53d6\u5f97\u3059\u308b\u66f8\u304d\u65b9\u3067\u3059\u304c\uff0cv1.17.0 \u4ee5\u964d\u306f\u51e6\u7406\u9ad8\u901f\u5316\u306e\u305f\u3081\u306b\uff0c\u4e00\u65e6\uff0c\u4e71\u6570\u3092\u8fd4\u3059\u30b8\u30a7\u30cd\u30ec\u30fc\u30bf\u3092\u751f\u6210\u3057\u3066\u304b\u3089\u914d\u5217\u3092\u8fd4\u3059\u3068\u3044\u3046\u4f7f\u3044\u65b9\u304c\u4e00\u822c\u7684\u306a\u66f8\u304d\u65b9\u3068\u306a\u308a\u307e\u3057\u305f\uff08\u5b9f\u306f\u50d5\u3082\u53e4\u3044\u624b\u6cd5\u3057\u304b\u77e5\u308a\u307e\u305b\u3093\u3067\u3057\u305f\uff09\uff0e  \n",
        "\u307e\u305a\u306f\uff0c\u4ee5\u4e0b\u306e\u3088\u3046\u306b\u30e9\u30f3\u30c0\u30e0\u30b8\u30a7\u30cd\u30ec\u30fc\u30bf\u3092\u751f\u6210\u3057\u307e\u3059\uff0e"
      ]
    },
    {
      "cell_type": "code",
      "execution_count": 58,
      "id": "776fdd62-c670-44c6-acfd-6a24ec9bbd89",
      "metadata": {},
      "outputs": [
        {
          "data": {
            "text/plain": [
              "Generator(PCG64) at 0x2A21D73E660"
            ]
          },
          "execution_count": 58,
          "metadata": {},
          "output_type": "execute_result"
        }
      ],
      "source": [
        "rng = np.random.default_rng(seed=0)\n",
        "rng"
      ]
    },
    {
      "cell_type": "markdown",
      "id": "c70e5901-aa26-4e08-be47-16a5245bd907",
      "metadata": {},
      "source": [
        "\u3053\u3053\u3067\uff0cseed \u306f\u30e9\u30f3\u30c0\u30e0\u30b7\u30fc\u30c9\u3067\uff0c\u3053\u308c\u3092\u8a2d\u5b9a\u3057\u3066\u304a\u304f\u3053\u3068\u3067\u4e71\u6570\u751f\u6210\u306e\u518d\u73fe\u6027\u304c\u62c5\u4fdd\u3055\u308c\u307e\u3059\uff0e  \n",
        "\u307e\u305f\uff0c\u4e71\u6570\u767a\u751f\u5668\u306f\u30c7\u30d5\u30a9\u30eb\u30c8\u3067 PCG-64 \u3068\u3044\u3046\u3082\u306e\u3092\u7528\u3044\u3089\u308c\u3066\u3044\u307e\u3059\uff0e  \n",
        "\u3082\u3057\u5909\u66f4\u3055\u308c\u305f\u3044\u5834\u5408\u306f\uff0c\u516c\u5f0f\u30c9\u30ad\u30e5\u30e1\u30f3\u30c8 (https://numpy.org/doc/stable/reference/random/bit_generators/index.html) \u3092\u53c2\u7167\u4e0b\u3055\u3044\uff0e\n",
        "\n",
        "\u3055\u3066\uff0c\u4e0a\u8a18\u3067\u4f5c\u6210\u3057\u305f\u30b8\u30a7\u30cd\u30ec\u30fc\u30bf\u306b\u5bfe\u3057\u3066\uff08\u629c\u7c8b\u3057\u307e\u3057\u305f\u304c\uff09\u4ee5\u4e0b\u306e\u30e1\u30bd\u30c3\u30c9\u3092\u9069\u7528\u3059\u308b\u3053\u3068\u3067\uff0c\u4e71\u6570\u306e\u914d\u5217\u304c\u5f97\u3089\u308c\u307e\u3059\uff0e\n",
        "\n",
        "- `.integers(low, high=None, size=None, dtype=np.int64, endpoint=False)`\uff1a\u6307\u5b9a\u3057\u305f\u7bc4\u56f2\u306e\u6574\u6570\u306e\u4e71\u6570\u306e size \u3067\u6307\u5b9a\u3057\u305f\u5f62\u72b6\u306e\u914d\u5217\u3092\u751f\u6210\n",
        "- `.random(size=None, dtype=np.float64)`\uff1a0 \u4ee5\u4e0a 1 \u672a\u6e80\u306e\u4e71\u6570\u306e\u914d\u5217\u3092\u751f\u6210\n",
        "- `.choice(a, size=None, replace=True, p=None, axis=0, shuffle=True)`\uff1aa \u3067\u6307\u5b9a\u3057\u305f\u914d\u5217\u306e\u4e2d\u304b\u3089\uff0csize \u306e\u5f62\u72b6\u306b\u306a\u308b\u3088\u3046\u306b\uff0c\u8981\u7d20\u3092\u78ba\u7387 p \u3092\u7528\u3044\u3066\u9078\u51fa\u3057\u305f\u914d\u5217\u3092\u751f\u6210\n",
        "- `.permutation(x, axis=0)`\uff1ax \u304c\u914d\u5217\u306e\u5834\u5408\u306f\uff0c\u3053\u306e\u914d\u5217\u306e\u9806\u5e8f\u304c\u30e9\u30f3\u30c0\u30e0\u306b\u5165\u308c\u66ff\u3048\u3089\u308c\u305f\u914d\u5217\u3092\u8fd4\u3059\uff08x \u304c int \u306e\u5834\u5408\u306f\uff0clist(range(x))\uff09\n",
        "- `.normal(loc=0.0, scale=1.0, size=None)`\uff1a\u6b63\u898f\u5206\u5e03\u304b\u3089\u4e71\u6570\u306e\u914d\u5217\u3092\u751f\u6210\uff08loc \u306f\u5206\u5e03\u306e\u5e73\u5747\u5024\uff0cscale \u306f\u6a19\u6e96\u504f\u5dee\u306b\u76f8\u5f53\uff09\n",
        "- `.uniform(low=0.0, high=1.0, size=None)`\uff1a\u6307\u5b9a\u3057\u305f\u7bc4\u56f2\u306e\u4e00\u69d8\u6b63\u898f\u5206\u5e03\u304b\u3089\u4e71\u6570\u306e\u914d\u5217\u3092\u751f\u6210\n",
        "\n",
        "\u4ed6\u306b\u3082\uff0c\u30ab\u30a42\u4e57\u5206\u5e03\u306b\u6cbf\u3063\u3066\u30e9\u30f3\u30c0\u30e0\u306b\u5024\u3092\u53d6\u5f97\u3059\u308b\u30e1\u30bd\u30c3\u30c9\u306a\u3069\u3082\u3042\u308a\u307e\u3059\u304c\uff0c\u5272\u611b\u3057\u307e\u3059\uff0e"
      ]
    },
    {
      "cell_type": "code",
      "execution_count": 68,
      "id": "7db522f8-8fb3-416d-b1a0-d1643caae8ca",
      "metadata": {},
      "outputs": [
        {
          "data": {
            "text/plain": [
              "array([63, 54, 55, 93, 27, 81, 67,  0, 39, 85], dtype=int64)"
            ]
          },
          "execution_count": 68,
          "metadata": {},
          "output_type": "execute_result"
        }
      ],
      "source": [
        "rng.integers(100, size=10)"
      ]
    },
    {
      "cell_type": "code",
      "execution_count": 75,
      "id": "10a9cd7c-9390-4075-ae3c-e6a8626bd5d0",
      "metadata": {},
      "outputs": [
        {
          "data": {
            "text/plain": [
              "array([[-1, -2, -2],\n",
              "       [-1,  0, -1]], dtype=int64)"
            ]
          },
          "execution_count": 75,
          "metadata": {},
          "output_type": "execute_result"
        }
      ],
      "source": [
        "rng.integers(low=-2, high=0, size=(2, 3), endpoint=True)"
      ]
    },
    {
      "cell_type": "code",
      "execution_count": 76,
      "id": "fdd41a1f-6fce-428b-bde8-752367194059",
      "metadata": {},
      "outputs": [
        {
          "data": {
            "text/plain": [
              "array([[0.23936944, 0.87648423, 0.05856803, 0.33611706, 0.15027947],\n",
              "       [0.45033937, 0.79632427, 0.23064221, 0.0520213 , 0.40455184]])"
            ]
          },
          "execution_count": 76,
          "metadata": {},
          "output_type": "execute_result"
        }
      ],
      "source": [
        "rng.random(size=(2,5))"
      ]
    },
    {
      "cell_type": "code",
      "execution_count": 77,
      "id": "55dae0f4-ba87-4a3e-be8f-c731f0b93a30",
      "metadata": {},
      "outputs": [
        {
          "data": {
            "text/plain": [
              "array([[123, 123,   1],\n",
              "       [123,   1,  12]])"
            ]
          },
          "execution_count": 77,
          "metadata": {},
          "output_type": "execute_result"
        }
      ],
      "source": [
        "rng.choice([1, 12, 123], size=(2,3))"
      ]
    },
    {
      "cell_type": "code",
      "execution_count": 85,
      "id": "b282d23e-61e0-49fb-90df-a1e5ffddd40d",
      "metadata": {},
      "outputs": [
        {
          "data": {
            "text/plain": [
              "array([[123, 123,   1],\n",
              "       [123, 123, 123]])"
            ]
          },
          "execution_count": 85,
          "metadata": {},
          "output_type": "execute_result"
        }
      ],
      "source": [
        "rng.choice([1, 12, 123], size=(2,3), p=[0.3, 0.0, 0.7])"
      ]
    },
    {
      "cell_type": "code",
      "execution_count": 89,
      "id": "29ad1b17-3ba8-453a-a5fe-ba4958a7cdae",
      "metadata": {},
      "outputs": [
        {
          "data": {
            "text/plain": [
              "array([0, 1, 2])"
            ]
          },
          "execution_count": 89,
          "metadata": {},
          "output_type": "execute_result"
        }
      ],
      "source": [
        "rng.permutation(3)"
      ]
    },
    {
      "cell_type": "code",
      "execution_count": 94,
      "id": "bae1cf68-7aa7-4fcb-8049-c81e71cfa6c8",
      "metadata": {},
      "outputs": [
        {
          "data": {
            "text/plain": [
              "array([0, 0, 1, 0, 0])"
            ]
          },
          "execution_count": 94,
          "metadata": {},
          "output_type": "execute_result"
        }
      ],
      "source": [
        "rng.permutation([0, 0, 0, 0, 1])"
      ]
    },
    {
      "cell_type": "code",
      "execution_count": 101,
      "id": "9621abac-69ae-4512-95f4-77d51f9e20f0",
      "metadata": {},
      "outputs": [
        {
          "data": {
            "text/plain": [
              "array(['red', 'red', 'red', 'white', 'red'], dtype='<U5')"
            ]
          },
          "execution_count": 101,
          "metadata": {},
          "output_type": "execute_result"
        }
      ],
      "source": [
        "rng.permutation([\"red\", \"red\", \"red\", \"red\", \"white\"])"
      ]
    },
    {
      "cell_type": "code",
      "execution_count": 105,
      "id": "53f55ac1-d0de-451e-9586-78baef5e1016",
      "metadata": {},
      "outputs": [
        {
          "data": {
            "text/plain": [
              "array([1.22868372, 0.33962001, 0.42377135, 0.37122742, 0.38275716])"
            ]
          },
          "execution_count": 105,
          "metadata": {},
          "output_type": "execute_result"
        }
      ],
      "source": [
        "rng.normal(size=5)"
      ]
    },
    {
      "cell_type": "code",
      "execution_count": 106,
      "id": "747a663f-b512-4a17-9418-ce6eca586393",
      "metadata": {},
      "outputs": [
        {
          "data": {
            "text/plain": [
              "array([0.82270628, 0.41538404, 0.82980399, 0.00995456, 0.36504616])"
            ]
          },
          "execution_count": 106,
          "metadata": {},
          "output_type": "execute_result"
        }
      ],
      "source": [
        "rng.uniform(size=5)"
      ]
    },
    {
      "cell_type": "markdown",
      "id": "9473c4cb-7bdd-4a6e-86b5-078e10937b44",
      "metadata": {},
      "source": [
        "\u5b9f\u306f numpy \u3067\u3082\u30c6\u30f3\u30bd\u30eb\u4ee3\u6570\u5b66\u7684\u8a08\u7b97\u3060\u3063\u305f\u308a FFT (Fast Fourier Transformation) \u306a\u3069\u3082\u3067\u304d\u308b\u306e\u3067\u3059\u304c\uff0c\u8a08\u7b97\u51e6\u7406\u901f\u5ea6\u306e\u89b3\u70b9\u304b\u3089 scipy \u3068\u3044\u3046\u30e9\u30a4\u30d6\u30e9\u30ea\u306e\u65b9\u304c\u826f\u304f\u7528\u3044\u308b\u305f\u3081\uff0c\u5358\u7d14\u306a\u6570\u5b66\u6f14\u7b97\u3084\u914d\u5217\u751f\u6210\u306b\u306f numpy\uff0c\u8907\u96d1\u306a\u6570\u5b66\u6f14\u7b97\u306b\u3064\u3044\u3066\u306f scipy \u3068\u3044\u3046\u98a8\u306b\u4f7f\u3044\u5206\u3051\u308b\u3053\u3068\u3092\u304a\u52e7\u3081\u3057\u307e\u3059\uff0e  \n",
        "SciPy \u306b\u3064\u3044\u3066\u306f\u4eca\u56de\u306f\u5272\u611b\u3057\u307e\u3059\uff0e"
      ]
    },
    {
      "cell_type": "markdown",
      "id": "d712c331-651b-4bda-8373-4c739491a977",
      "metadata": {},
      "source": [
        "## \u6f14\u7fd2\u554f\u984c"
      ]
    },
    {
      "cell_type": "markdown",
      "id": "82426159-5dde-4fec-8967-cfb7bda9585f",
      "metadata": {},
      "source": [
        "\u4ee5\u524d\u89e3\u3044\u305f\u5185\u5305\u8868\u8a18\u306e\u6f14\u7fd2\u554f\u984c\u306b\u3064\u3044\u3066\uff0cnumpy \u3092\u4f7f\u3063\u3066\u8a08\u7b97\u3057\u3066\u307f\u307e\u3057\u3087\u3046\uff0e  \n",
        "\u7c21\u5358\u306b\u306a\u3063\u3066\u308b\u3068\u601d\u3044\u307e\u3059\uff0e\n",
        "\n",
        "- Q.1: numpy \u3092\u7528\u3044\u305f1\u3064\u306e\u51e6\u7406\u5f0f\u3067\uff0c1 \u304b\u3089 1000 \u307e\u3067\u306e 5 \u306e\u500d\u6570\u306e\u7dcf\u548c\u3092\u6c42\u3081\u3066\u304f\u3060\u3055\u3044\uff0e\n",
        "- Q.2: numpy \u3092\u7528\u3044\u305f1\u3064\u306e\u51e6\u7406\u5f0f\u3067\uff0c1 \u304b\u3089 100 \u307e\u3067\u9023\u7d9a\u3057\u305f 100 \u500b\u306e\u6574\u6570\u306b\u5bfe\u3059\u308b\u6a19\u6e96\u504f\u5dee\u3092\u6c42\u3081\u3066\u304f\u3060\u3055\u3044\uff0e\u3053\u3053\u3067\uff0c\u30c7\u30fc\u30bf\u306e\u500b\u6570\u3092 $n$, i\u756a\u76ee\u306e\u30c7\u30fc\u30bf\u3092 $x_i$, \u30c7\u30fc\u30bf\u306e\u5e73\u5747\u3092 $\\bar{x}$ \u3068\u3059\u308b\u3068\uff0c\u6a19\u6e96\u504f\u5dee $\\sigma$ \u306f\uff0c\n",
        "\n",
        "$$\n",
        "\\sigma = \\sqrt{\\frac{1}{n} \\sum_{i=1}^n (x_i - \\bar{x})^2}\n",
        "$$\n",
        "\n",
        "\u3067\u8a08\u7b97\u3055\u308c\u307e\u3059\uff0e\n",
        "\n",
        "- Q.3: y = sin(x) \u306b\u3064\u3044\u3066\uff0c0 \u304b\u3089 2$\\pi$ \u307e\u3067\u53f0\u5f62\u516c\u5f0f\u3067\u7a4d\u5206\u3057\u3066\u307f\u307e\u3057\u3087\u3046\uff0e\u3053\u306e\u6642\uff0cx \u65b9\u5411\u306e\u5fae\u5c0f\u5206\u5272\u5e45\u306f 1e-6 \u3068\u3057\uff0c\u51fa\u529b\u306f\u5c0f\u6570\u70b9\u7b2c 6 \u4f4d\u307e\u3067\u306b\u306a\u308b\u3088\u3046\u5076\u6570\u4e38\u3081\u3057\u3066\u304f\u3060\u3055\u3044\uff0e\n",
        "- Q.4: \u30b5\u30a4\u30b3\u30ed\u3092 1 \u5ea6\u306b 2 \u500b\u632f\u3063\u3066\uff0c\u76ee\u304c 2 \u500b\u3068\u3082 1 \u3067\u3042\u308b\u78ba\u7387\u306f 1 / 36 \u3067\u3059\u304c\uff0c\u5b9f\u969b\u306b 1,000,000 \u56de\u30b5\u30a4\u30b3\u30ed\u3092\u632f\u3063\u3066\u3082\u3061\u308d\u3093\u4e71\u6570\u3092\u4f7f\u3063\u3066\uff09\u8a66\u3057\u3066\u307f\u307e\u3057\u3087\u3046\uff0e"
      ]
    },
    {
      "cell_type": "code",
      "execution_count": null,
      "id": "4387088a-bcc9-41d2-9a6e-2f5216387f74",
      "metadata": {},
      "outputs": [],
      "source": []
    }
  ],
  "metadata": {
    "kernelspec": {
      "display_name": "Python 3 (ipykernel)",
      "language": "python",
      "name": "python3"
    },
    "language_info": {
      "codemirror_mode": {
        "name": "ipython",
        "version": 3
      },
      "file_extension": ".py",
      "mimetype": "text/x-python",
      "name": "python",
      "nbconvert_exporter": "python",
      "pygments_lexer": "ipython3",
      "version": "3.9.9"
    }
  },
  "nbformat": 4,
  "nbformat_minor": 5
}
