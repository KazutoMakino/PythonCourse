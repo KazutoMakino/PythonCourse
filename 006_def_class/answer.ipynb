{
  "cells": [
    {
      "cell_type": "markdown",
      "id": "35c89a06-3949-4636-be35-e732e029fd4d",
      "metadata": {},
      "source": [
        "# \u30e6\u30fc\u30b6\u30fc\u5b9a\u7fa9\u95a2\u6570\uff0f\u30af\u30e9\u30b9\uff0f\u30e1\u30bd\u30c3\u30c9\uff0f\u30e2\u30b8\u30e5\u30fc\u30eb\n",
        "\n",
        "---\n",
        "\n",
        "- ref: https://docs.python.org/ja/3/tutorial/classes.html\n",
        "- blog: https://slash-z.com/\n",
        "- github: https://github.com/KazutoMakino/PythonCourses\n",
        "\n",
        "---"
      ]
    },
    {
      "cell_type": "markdown",
      "id": "05fccfba-77dd-46aa-ad3e-a1930d9a46bd",
      "metadata": {},
      "source": [
        "## \u6f14\u7fd2\u554f\u984c\u306e\u89e3\u7b54"
      ]
    },
    {
      "cell_type": "markdown",
      "id": "05905c58-d226-4905-bf92-634a3f2af855",
      "metadata": {},
      "source": [
        "- Q1. \u6570\u5024\u306e\u30ea\u30b9\u30c8 1 \u3064\u3092\u4eee\u5f15\u6570\u3068\u3057\uff0c\u623b\u308a\u5024\u3092\u3053\u306e\u30ea\u30b9\u30c8\u306e RMS \u5024 1 \u3064\u3068\u3057\u305f\u95a2\u6570: `calc_rms` \u3092\u4f5c\u6210\u3057\u3066\u304f\u3060\u3055\u3044\uff0e\u3053\u3053\u3067\uff0c\u30c7\u30fc\u30bf\u306e\u500b\u6570\u3092 $n$, i\u756a\u76ee\u306e\u30c7\u30fc\u30bf\u3092 $x_i$ \u3068\u3059\u308b\u3068\uff0cRMS \u5024\u306f\uff0c\n",
        "\n",
        "$$\n",
        "RMS = \\sqrt{\\frac{1}{n} \\sum_{i=1}^{n}x_i^2}\n",
        "$$\n",
        "\n",
        "\u3067\u8a08\u7b97\u3055\u308c\u307e\u3059\uff0e"
      ]
    },
    {
      "cell_type": "code",
      "execution_count": 41,
      "id": "1bf36776-b280-455f-9940-9192ff654669",
      "metadata": {},
      "outputs": [],
      "source": [
        "def calc_rms(arr):\n",
        "    # init\n",
        "    ret = 0\n",
        "    \n",
        "    for x in arr:\n",
        "        # add squared value\n",
        "        ret += x**2\n",
        "    \n",
        "    # mean\n",
        "    ret /= len(arr)\n",
        "    \n",
        "    # sqrt\n",
        "    ret = ret**(1/2)\n",
        "    \n",
        "    return ret"
      ]
    },
    {
      "cell_type": "markdown",
      "id": "ef73cf3e-f785-4b16-8128-f78b46062b9c",
      "metadata": {},
      "source": [
        "\u307e\u305f\u306f\uff0c"
      ]
    },
    {
      "cell_type": "code",
      "execution_count": 42,
      "id": "e18ea71a-0ea6-4354-bf16-13a4d3c1684d",
      "metadata": {},
      "outputs": [],
      "source": [
        "def calc_rms(arr):\n",
        "    return (sum([v**2 for v in arr]) / len(arr))**(1/2)"
      ]
    },
    {
      "cell_type": "markdown",
      "id": "b86ada08-79dd-4f79-afdc-ace0c986a017",
      "metadata": {},
      "source": [
        "- Q2. Q1 \u3067\u4f5c\u6210\u3057\u305f `calc_rms` \u306e\u5f15\u6570\u306b 1 \uff5e 100 \u306e\u5947\u6570\u306e\u30ea\u30b9\u30c8\u3092\u5165\u529b\u3057\uff0c\u7d50\u679c\uff08\u623b\u308a\u5024\uff09\u304c 57.73214... \u3067\u3042\u308b\u3053\u3068\u3092\u78ba\u8a8d\u3057\u3066\u304f\u3060\u3055\u3044\uff0e"
      ]
    },
    {
      "cell_type": "code",
      "execution_count": 43,
      "id": "4aa54339-7d89-46e5-a972-2f4eea6188ce",
      "metadata": {},
      "outputs": [
        {
          "data": {
            "text/plain": [
              "(57.73214009544424, True)"
            ]
          },
          "execution_count": 43,
          "metadata": {},
          "output_type": "execute_result"
        }
      ],
      "source": [
        "arr = list(range(1,101,2))\n",
        "ret = calc_rms(arr=arr)\n",
        "ret, round(ret, 5)==57.73214"
      ]
    },
    {
      "cell_type": "markdown",
      "id": "9b5d8023-03e3-46d7-99a0-8f37724ace56",
      "metadata": {},
      "source": [
        "- Q3. `./data.txt` \u3092\u8aad\u307f\uff0c\u623b\u308a\u5024\u304c `Hmidity[%]` \u306e\u5024\u306e\u307f\u306e\u30bf\u30d7\u30eb\u3068\u3057\u305f\u5f15\u6570\u306a\u3057\u306e\u95a2\u6570: `load_humi_data` \u3092\u4f5c\u6210\u3057\u3066\u304f\u3060\u3055\u3044\uff0e\u30c7\u30fc\u30bf\u306e\u8aad\u307f\u8fbc\u307f\u306b\u304a\u3044\u3066\uff0c`import` \u304c\u5fc5\u8981\u306a\u6a19\u6e96\u95a2\u6570\u3084\u30e9\u30a4\u30d6\u30e9\u30ea\u3092\u7528\u3044\u305a\uff0c\u30c6\u30ad\u30b9\u30c8\u30c7\u30fc\u30bf\u3068\u3057\u3066\u8aad\u307f\u8fbc\u3093\u3060\u3082\u306e\u3092\u51e6\u7406\u3059\u308b\u95a2\u6570\u306b\u3057\u3066\u304f\u3060\u3055\u3044\uff0e"
      ]
    },
    {
      "cell_type": "markdown",
      "id": "c5df2fe8-1781-4d26-b248-65bf3cceb1be",
      "metadata": {},
      "source": [
        "\u307e\u305a\u306f\uff0c\u30d5\u30a1\u30a4\u30eb\u306e\u4e2d\u8eab\u3092\u898b\u3066\u307f\u307e\u3059\uff0e  \n",
        "\u8aad\u307f\u8fbc\u3093\u3060\u969b\u306b\u5168\u3066\u8868\u793a\u3059\u308b\u3068\u5927\u304d\u3044\u5834\u5408\u304c\u3042\u308b\u306e\u3067\uff0c\u8aad\u307f\u8fbc\u3093\u3060\u3089\uff0c\u6587\u5b57\u6570\u3092\u307e\u305a\u51fa\u529b\u3057\u3066\u307f\u307e\u3059\uff0e"
      ]
    },
    {
      "cell_type": "code",
      "execution_count": 44,
      "id": "94fac1bb-16fd-4b9e-939d-8e18d8306fcf",
      "metadata": {},
      "outputs": [
        {
          "data": {
            "text/plain": [
              "59462"
            ]
          },
          "execution_count": 44,
          "metadata": {},
          "output_type": "execute_result"
        }
      ],
      "source": [
        "with open(\"./data.txt\", mode=\"r\") as f:\n",
        "    txt = f.read()\n",
        "len(txt)"
      ]
    },
    {
      "cell_type": "markdown",
      "id": "6ae68c36-9775-465c-960b-50ff8c6a58f8",
      "metadata": {},
      "source": [
        "59462 \u6587\u5b57\u3068\u3044\u3046\u3053\u3068\u3067\uff0c\u5168\u90e8\u8868\u793a\u3055\u305b\u308b\u3068\u90aa\u9b54\u306a\u306e\u3067\uff0c\u524d\u534a\uff0f\u5f8c\u534a\u306e\u305d\u308c\u305e\u308c 500 \u6587\u5b57\u306b\u3064\u3044\u3066\u8868\u793a\u3057\u3066\u307f\u307e\u3059\uff0e"
      ]
    },
    {
      "cell_type": "code",
      "execution_count": 45,
      "id": "4b8d1518-6dc2-4a48-832d-35097df436e2",
      "metadata": {},
      "outputs": [
        {
          "data": {
            "text/plain": [
              "'TimeStamp: 2022/01/18 19:29:14.688684, ElapsedTime[s]: 114.311, Temperature[degC]: 19.40032, Humidity[%]: 56.44159\\nTimeStamp: 2022/01/18 19:29:16.22105, ElapsedTime[s]: 115.644, Temperature[degC]: 19.38697, Humidity[%]: 55.97925\\nTimeStamp: 2022/01/18 19:29:17.355098, ElapsedTime[s]: 116.977, Temperature[degC]: 19.40032, Humidity[%]: 55.46502\\nTimeStamp: 2022/01/18 19:29:18.688375, ElapsedTime[s]: 118.31, Temperature[degC]: 19.40032, Humidity[%]: 54.99352\\nTimeStamp: 2022/01/18 19:29:20.21160, Elap'"
            ]
          },
          "execution_count": 45,
          "metadata": {},
          "output_type": "execute_result"
        }
      ],
      "source": [
        "txt[:500]"
      ]
    },
    {
      "cell_type": "code",
      "execution_count": 46,
      "id": "e81c9078-c129-414a-8445-754cf8cf0d9e",
      "metadata": {},
      "outputs": [
        {
          "data": {
            "text/plain": [
              "'e[degC]: 19.6273, Humidity[%]: 46.95049\\nTimeStamp: 2022/01/18 19:40:42.663524, ElapsedTime[s]: 802.285, Temperature[degC]: 19.61395, Humidity[%]: 46.89556\\nTimeStamp: 2022/01/18 19:40:43.996179, ElapsedTime[s]: 803.618, Temperature[degC]: 19.60059, Humidity[%]: 46.91997\\nTimeStamp: 2022/01/18 19:40:45.329131, ElapsedTime[s]: 804.951, Temperature[degC]: 19.61395, Humidity[%]: 46.92302\\nTimeStamp: 2022/01/18 19:40:46.660690, ElapsedTime[s]: 806.282, Temperature[degC]: 19.60059, Humidity[%]: 46.86809\\n'"
            ]
          },
          "execution_count": 46,
          "metadata": {},
          "output_type": "execute_result"
        }
      ],
      "source": [
        "txt[-500:]"
      ]
    },
    {
      "cell_type": "markdown",
      "id": "8d722afd-476a-4135-9fbf-7b6448fd272c",
      "metadata": {},
      "source": [
        "\u3068\u3044\u3046\u3053\u3068\u3067\u30c7\u30fc\u30bf\u5f62\u5f0f\u3068\u3057\u3066\u306f\u8f9e\u66f8\u306e\u3088\u3046\u306a\u5f62\u3067\uff0c\u5909\u6570\u540d\u3068\u5024\u304c\u30b3\u30ed\u30f3\u3067 1 \u5bfe 1 \u306b\u5bfe\u5fdc\u3057\uff0c\u4e00\u3064\u306e\u30bf\u30a4\u30e0\u30b9\u30bf\u30f3\u30d7\u306b\u5bfe\u3057\u3066\u30ab\u30f3\u30de\u533a\u5207\u308a\u3067\u30c7\u30fc\u30bf\u304c 3 \u3064\u3042\u308a\uff0c\u6b21\u306e\u30bf\u30a4\u30e0\u30b9\u30bf\u30f3\u30d7\u3068\u30c7\u30fc\u30bf\u306e\u767b\u9332\u306f `\\n` \u306b\u3088\u308b\u6539\u884c\u3067\u533a\u5207\u3089\u308c\u3066\u3044\u307e\u3059\uff08\u3082\u3057\uff0c\u6539\u884c\u30b3\u30fc\u30c9\u304c `\\n` \u4ee5\u5916\u306b\u66f8\u304d\u63db\u3048\u3089\u308c\u3066\u3044\u305f\u3089\uff0c\u305d\u3061\u3089\u306b\u8aad\u307f\u66ff\u3048\u3066\u304f\u3060\u3055\u3044\uff09\uff0e  \n",
        "\u984c\u610f\u306e `Humidity[%]` \u306e\u5024\u306e\u307f\u306e\u30ea\u30b9\u30c8\u3092\u53d6\u5f97\u3059\u308b\u305f\u3081\u306b\u306f\uff0c\n",
        "\n",
        "- \u6539\u884c `\\n` \u3067\u533a\u5207\u3063\u305f\u30ea\u30b9\u30c8\u3092\u4f5c\u308b\n",
        "- \u4e0a\u8a18\u306e\u5404\u8981\u7d20\u306b\u3064\u3044\u3066 `Humidity[%]: ` \u3092\u542b\u3080\u3053\u308c\u4ee5\u524d\u306e\u6587\u5b57\u5217\u3092\u524a\u9664\u3057\uff0cfloat \u3067\u30ad\u30e3\u30b9\u30c8\u3059\u308b\n",
        "\n",
        "\u4e0a\u8a18 2 \u3064\u306e\u5de5\u7a0b\u3092\u7d4c\u3066\u5b9f\u73fe\u3067\u304d\u308b\u3068\u8003\u3048\u3089\u308c\u307e\u3059\u306e\u3067\uff0c\u4ee5\u4e0b\u306e\u3088\u3046\u306b\u5b9f\u88c5\u3057\u307e\u3059\uff0e"
      ]
    },
    {
      "cell_type": "code",
      "execution_count": 52,
      "id": "5620bb89-e82e-447c-b839-4356099b176f",
      "metadata": {},
      "outputs": [],
      "source": [
        "def load_humi_data(fpath=\"./data.txt\"):\n",
        "    # laod data.txt\n",
        "    with open(fpath, mode=\"r\") as f:\n",
        "        txt = f.read()\n",
        "    \n",
        "    # split: \"\\n\"\n",
        "    data = txt.split(\"\\n\")\n",
        "    \n",
        "    # cut and cast to float\n",
        "    data = tuple(float(v.split(\"Humidity[%]: \")[-1]) for v in data if v)\n",
        "    \n",
        "    return data"
      ]
    },
    {
      "cell_type": "markdown",
      "id": "91408963-5936-4a18-a3be-5ad152c6ad9b",
      "metadata": {},
      "source": [
        "- Q4. Q3 \u306e\u623b\u308a\u5024\u3067\u3042\u308b\u30bf\u30d7\u30eb\u306b\u3064\u3044\u3066\uff0c\u5148\u982d\uff0f\u672b\u5c3e\u305d\u308c\u305e\u308c 5 \u3064\u3092\u8868\u793a\u3057\uff0c\u305d\u308c\u305e\u308c `(56.44159, 55.97925, 55.46502, 54.99352, 54.72496)` \u3068 `(46.95049, 46.89556, 46.91997, 46.92302, 46.86809)` \u3067\u3042\u308b\u3053\u3068\u3068\uff0c\u30bf\u30d7\u30eb\u306e\u4e2d\u8eab\u306e\u8981\u7d20\u306e\u4e00\u3064\u3092\u53d6\u308a\u51fa\u3057\uff0c\u305d\u306e\u578b\u304c `float` \u3067\u3042\u308b\u3053\u3068\u3092\u78ba\u8a8d\u304f\u3060\u3055\u3044\uff0e"
      ]
    },
    {
      "cell_type": "code",
      "execution_count": 54,
      "id": "62ea28be-5016-4764-ab1b-f8331cc2337a",
      "metadata": {},
      "outputs": [
        {
          "data": {
            "text/plain": [
              "(56.44159, 55.97925, 55.46502, 54.99352, 54.72496)"
            ]
          },
          "execution_count": 54,
          "metadata": {},
          "output_type": "execute_result"
        }
      ],
      "source": [
        "data = load_humi_data()\n",
        "data[:5]"
      ]
    },
    {
      "cell_type": "code",
      "execution_count": 55,
      "id": "37e80091-d9c8-4ce8-8e31-dd563a0585a7",
      "metadata": {},
      "outputs": [
        {
          "data": {
            "text/plain": [
              "(46.95049, 46.89556, 46.91997, 46.92302, 46.86809)"
            ]
          },
          "execution_count": 55,
          "metadata": {},
          "output_type": "execute_result"
        }
      ],
      "source": [
        "data[-5:]"
      ]
    },
    {
      "cell_type": "code",
      "execution_count": 56,
      "id": "dadf709b-e258-494e-990d-d0caac0c6a1d",
      "metadata": {},
      "outputs": [
        {
          "data": {
            "text/plain": [
              "float"
            ]
          },
          "execution_count": 56,
          "metadata": {},
          "output_type": "execute_result"
        }
      ],
      "source": [
        "type(data[0])"
      ]
    },
    {
      "cell_type": "markdown",
      "id": "cbc0e6e1-96df-4a2a-8570-f4d2ecf81f17",
      "metadata": {},
      "source": [
        "- Q5. \u4ee5\u4e0b\u306e\u30af\u30e9\u30b9\u5b9a\u7fa9\uff0f\u30e1\u30bd\u30c3\u30c9\u5b9f\u884c\u3092\u884c\u3063\u3066\u304f\u3060\u3055\u3044\uff08\u7d50\u679c\u304c\u5408\u3048\u3070\u826f\u304f\uff0c\u7d30\u90e8\u306e\u5dee\u7570\u306b\u3064\u3044\u3066\u306f\u6c17\u306b\u3059\u308b\u5fc5\u8981\u306f\u3042\u308a\u307e\u305b\u3093\uff09\uff0e\n",
        "    - Q1 \u3068 Q3 \u3067\u4f5c\u6210\u3057\u305f `calc_rms` \u3068 `load_humi_data` \u3092\u30e1\u30bd\u30c3\u30c9\u306b\u6301\u3064\u30af\u30e9\u30b9: `HumidityRMSGetter` \u3092\u4f5c\u6210\u3057\u3066\u304f\u3060\u3055\u3044\uff0e\n",
        "    - \u6642\u7cfb\u5217\u30c7\u30fc\u30bf\u3067\u3042\u308b `load_humi_data` \u306e\u623b\u308a\u5024\u306e\u30bf\u30d7\u30eb\u306b\u3064\u3044\u3066\uff0c\u305d\u306e\u30c7\u30fc\u30bf\u70b9\u3092\u542b\u3093\u3060\u6642\u9593\u65b9\u5411\u306b\u5bfe\u3057\u3066\u305d\u308c\u4ee5\u524d\u306e\u8a08 10 \u70b9\u306e\u30c7\u30fc\u30bf\u306b\u5bfe\u3059\u308b RMS \u5024\u3092\u683c\u7d0d\u3057\u305f\u30ea\u30b9\u30c8\u3092\u8fd4\u3059\u30e1\u30bd\u30c3\u30c9: `get_rms_arr` \u3092\u4f5c\u6210\u3057\u3066\u304f\u3060\u3055\u3044\uff0e\u3053\u306e\u3068\u304d\uff0c`get_rms_arr` \u306b\u6e21\u3059\u914d\u5217\u306e\u6700\u521d\u306e\u65b9\u306b\u304a\u3044\u3066\u30c7\u30fc\u30bf\u70b9\u306f 10 \u70b9\u306b\u5c4a\u304d\u307e\u305b\u3093\u304c\uff0c\u3053\u306e\u5834\u5408\u306f\u305d\u306e\u30c7\u30fc\u30bf\u70b9\u542b\u3080\u305d\u308c\u4ee5\u524d\u306e\u30c7\u30fc\u30bf\u70b9\u5168\u3066\u3068\u3057\u3066\u304f\u3060\u3055\u3044\uff0e\u307e\u305f\uff0c`get_rms_arr` \u306b\u3066\u8fd4\u3059 RMS \u5024\u306f\uff0c\u5c0f\u6570\u70b9\u7b2c5\u4f4d\u307e\u3067\u3068\u3057\uff0c\u5c0f\u6570\u70b9\u7b2c6\u4f4d\u306b\u5076\u6570\u4e38\u3081\u3092\u9069\u7528\u3057\u305f\u3082\u306e\u3068\u3057\u3066\u304f\u3060\u3055\u3044\uff0e\n",
        "    - \u6700\u5f8c\u306b\uff0c`HumidityRMSGetter` \u3092\u30a4\u30f3\u30b9\u30bf\u30f3\u30b9\u5316\u3057\uff0c`get_rms_arr` \u3092\u547c\u3073\u51fa\u3057\u3066\u7d50\u679c\u3092\u5909\u6570\u306b\u4ee3\u5165\u3057\uff0c\u5148\u982d\uff0f\u672b\u5c3e\u305d\u308c\u305e\u308c 3 \u3064\u8868\u793a\u3057\uff0c\u305d\u308c\u305e\u308c\u306e\u7d50\u679c\u304c `[56.44159, 56.2109, 55.96337]` \u3068 `[46.87241, 46.8774, 46.87726]` \u3067\u3042\u308b\u3053\u3068\u3092\u78ba\u8a8d\u304f\u3060\u3055\u3044\uff0e"
      ]
    },
    {
      "cell_type": "code",
      "execution_count": 71,
      "id": "d46d7455-b0ae-4e2b-88b7-662169401c28",
      "metadata": {},
      "outputs": [],
      "source": [
        "class HumidityRMSGetter:\n",
        "    def __init__(self, fpath=\"./data.txt\", smp_rate=10):\n",
        "        self.fpath = fpath\n",
        "        self.smp_rate = smp_rate\n",
        "        \n",
        "    @staticmethod\n",
        "    def calc_rms(arr):\n",
        "        return (sum([v**2 for v in arr]) / len(arr))**(1/2)\n",
        "\n",
        "    def load_humi_data(self):\n",
        "        # laod data.txt\n",
        "        with open(self.fpath, mode=\"r\") as f:\n",
        "            txt = f.read()\n",
        "\n",
        "        # split: \"\\n\"\n",
        "        self.data = txt.split(\"\\n\")\n",
        "\n",
        "        # cut and cast to float\n",
        "        self.data = tuple(\n",
        "            float(v.split(\"Humidity[%]: \")[-1]) for v in self.data if v\n",
        "        )\n",
        "        \n",
        "    def get_rms_arr(self):\n",
        "        # get humidity tuple\n",
        "        self.load_humi_data()\n",
        "        \n",
        "        # init\n",
        "        rms_arr = []\n",
        "        \n",
        "        # loop: range(len(self.data))\n",
        "        for i in range(len(self.data)):\n",
        "            # get data into calc_rms\n",
        "            data = self.data[:i + 1] if i < self.smp_rate else self.data[i - self.smp_rate : i + 1]\n",
        "                \n",
        "            # calc rms\n",
        "            rms = HumidityRMSGetter.calc_rms(arr=data)\n",
        "            \n",
        "            # round\n",
        "            rms = round(rms, 5)\n",
        "            \n",
        "            # append\n",
        "            rms_arr.append(rms)\n",
        "            \n",
        "        return rms_arr\n",
        "    \n",
        "\n",
        "# instance\n",
        "hum_rms_getter = HumidityRMSGetter()\n",
        "\n",
        "# get rms list\n",
        "rms_arr = hum_rms_getter.get_rms_arr()"
      ]
    },
    {
      "cell_type": "code",
      "execution_count": 72,
      "id": "4e9600e3-4f4c-4edf-bbd1-4840cb1ebbed",
      "metadata": {},
      "outputs": [
        {
          "data": {
            "text/plain": [
              "[56.44159, 56.2109, 55.96337]"
            ]
          },
          "execution_count": 72,
          "metadata": {},
          "output_type": "execute_result"
        }
      ],
      "source": [
        "rms_arr[:3]"
      ]
    },
    {
      "cell_type": "code",
      "execution_count": 73,
      "id": "ef24e639-8e5f-4757-8289-1129f85bce81",
      "metadata": {},
      "outputs": [
        {
          "data": {
            "text/plain": [
              "[46.87241, 46.8774, 46.87726]"
            ]
          },
          "execution_count": 73,
          "metadata": {},
          "output_type": "execute_result"
        }
      ],
      "source": [
        "rms_arr[-3:]"
      ]
    },
    {
      "cell_type": "code",
      "execution_count": null,
      "id": "7b5a09b5-33d8-4a7a-9afa-c50f66cc0341",
      "metadata": {},
      "outputs": [],
      "source": []
    }
  ],
  "metadata": {
    "kernelspec": {
      "display_name": "Python 3 (ipykernel)",
      "language": "python",
      "name": "python3"
    },
    "language_info": {
      "codemirror_mode": {
        "name": "ipython",
        "version": 3
      },
      "file_extension": ".py",
      "mimetype": "text/x-python",
      "name": "python",
      "nbconvert_exporter": "python",
      "pygments_lexer": "ipython3",
      "version": "3.8.10"
    }
  },
  "nbformat": 4,
  "nbformat_minor": 5
}
