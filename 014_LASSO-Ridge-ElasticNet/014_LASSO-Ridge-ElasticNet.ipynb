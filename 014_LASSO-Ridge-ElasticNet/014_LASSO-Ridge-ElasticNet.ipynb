{
 "cells": [
  {
   "attachments": {},
   "cell_type": "markdown",
   "metadata": {},
   "source": [
    "# 【自前AI講座】 LASSO / Ridge 回帰 / ElasticNet の理論／数式／コード実装"
   ]
  },
  {
   "attachments": {},
   "cell_type": "markdown",
   "metadata": {},
   "source": [
    "---\n",
    "\n",
    "## 理論"
   ]
  },
  {
   "attachments": {},
   "cell_type": "markdown",
   "metadata": {},
   "source": [
    "Lp ノルム：\n",
    "$$\n",
    "\\|\\boldsymbol{x}\\|_p\n",
    "  := \\left( \\sum_{i=1}^{n} |x_i|^p \\right)^{\\frac{1}{p}}\n",
    "  = \\sqrt[p]{|x_1|^p +|x_2|^p + \\cdots + |x_n|^p}\n",
    "$$"
   ]
  },
  {
   "attachments": {},
   "cell_type": "markdown",
   "metadata": {},
   "source": [
    "n = 2 のときの L1 ノルム：\n",
    "$$\n",
    "\\|\\boldsymbol{x}\\|_1\n",
    "  := \\left( \\sum_{i=1}^{2} |x_i|^1 \\right)^{\\frac{1}{1}}\n",
    "  = |x_1| +|x_2|\n",
    "$$\n",
    "\n",
    "n = 2 のときの L2 ノルム：\n",
    "$$\n",
    "\\|\\boldsymbol{x}\\|_2\n",
    "  := \\left( \\sum_{i=1}^{2} |x_i|^2 \\right)^{\\frac{1}{2}}\n",
    "  = \\sqrt{|x_1|^2 +|x_2|^2}\n",
    "$$"
   ]
  },
  {
   "attachments": {},
   "cell_type": "markdown",
   "metadata": {},
   "source": [
    "### LASSO (Least Absolute Shrinkage and Selection Operator):"
   ]
  },
  {
   "attachments": {},
   "cell_type": "markdown",
   "metadata": {},
   "source": [
    "$$\n",
    "E_{LASSO}(\\boldsymbol{w}) = \\sum_{i=1}^{n}{\\left( y_i - \\hat{y_i} \\right)^2} + \\alpha \\| \\boldsymbol{w} \\|_1\n",
    "$$"
   ]
  },
  {
   "attachments": {},
   "cell_type": "markdown",
   "metadata": {},
   "source": [
    "ここで，$E_{LASSO}(\\boldsymbol{w})$ は最小化させたい誤差関数，$y$ は正解の値，$\\hat{y}$ は予測値（説明変数 $x_i$ と回帰係数＝重み $w_i$ の線形結合： $\\hat{y_i} = w_i x_i$），$\\alpha$ は正則化の強さを調整できるハイパーパラメータで，右辺第１項が最小二乗コスト関数，右辺第２項が正則化項で L1 正則化を表します．  \n",
    "正則化項は，「モデルのパラメータの重みに追加の制約を与える」という文脈で「ペナルティ項」とも呼ばれます．"
   ]
  },
  {
   "attachments": {},
   "cell_type": "markdown",
   "metadata": {},
   "source": [
    "### Ridge 回帰:"
   ]
  },
  {
   "attachments": {},
   "cell_type": "markdown",
   "metadata": {},
   "source": [
    "$$\n",
    "E_{Ridge}(\\boldsymbol{w}) = \\sum_{i=1}^{n}{\\left( y_i - \\hat{y_i} \\right)^2} + \\alpha \\| \\boldsymbol{w} \\|_2\n",
    "$$"
   ]
  },
  {
   "attachments": {},
   "cell_type": "markdown",
   "metadata": {},
   "source": [
    "LASSO との違いは，右辺第２項の正則化項が L2 ノルムになっているところです．"
   ]
  },
  {
   "attachments": {},
   "cell_type": "markdown",
   "metadata": {},
   "source": [
    "### Elastic Net:"
   ]
  },
  {
   "attachments": {},
   "cell_type": "markdown",
   "metadata": {},
   "source": [
    "$$\n",
    "E_{ElasticNet}(\\boldsymbol{w}) = \\sum_{i=1}^{n}{\\left( y_i - \\hat{y_i} \\right)^2} + r \\alpha \\| \\boldsymbol{w} \\|_1 + (1 - r) \\alpha \\| \\boldsymbol{w} \\|_2\n",
    "$$"
   ]
  },
  {
   "attachments": {},
   "cell_type": "markdown",
   "metadata": {},
   "source": [
    "LASSO との違いは，右辺第２項の正則化に L1 ノルム，第３項の正則化に L2 ノルムを用いているところで，LASSO と Ridge 回帰を係数 $r \\ (0 \\le r \\le 1)$  によってバランスさせています．  \n",
    "この $r$ もハイパーパラメータになります．"
   ]
  },
  {
   "attachments": {},
   "cell_type": "markdown",
   "metadata": {},
   "source": [
    "---\n",
    "\n",
    "## コード実装"
   ]
  },
  {
   "attachments": {},
   "cell_type": "markdown",
   "metadata": {},
   "source": [
    "LASSO (https://scikit-learn.org/stable/modules/generated/sklearn.linear_model.Lasso.html) :"
   ]
  },
  {
   "attachments": {},
   "cell_type": "markdown",
   "metadata": {},
   "source": [
    "```\n",
    "sklearn.linear_model.Lasso(alpha=1.0, *, fit_intercept=True, precompute=False, copy_X=True, max_iter=1000, tol=0.0001, warm_start=False, positive=False, random_state=None, selection='cyclic')  \n",
    "- alpha=1.0： (float) 正則化の強さを調整するハイパーパラメータで，alpha は [0, inf) の値である必要があります．\n",
    "- fit_intercept=True： (bool) 切片を計算する場合は True，切片を 0 として計算する場合は False にします．\n",
    "- max_iter=1000： (int) 計算の最大反復回数を指定します．\n",
    "- tol=0.0001： (float) 最適化の許容範囲を指定します．この値以下になるか max_iter に到達するまで計算します．\n",
    "- positive=False： (bool) True にすると係数が強制的に正になります．\n",
    "- random_state=None： (int) 乱数シードを設定します．\n",
    "- selection='cyclic'： (str) \"cyclic\" の場合は説明変数を順番に用い，\"random\" の場合は反復計算のたびにランダム係数が更新されます．\"random\" の場合は，特に tol=0.0001 よりも高い場合に収束が高速化されやすくなるそうです．\n",
    "\n",
    "他の引数については気にしなくて OK です．\n",
    "```"
   ]
  },
  {
   "attachments": {},
   "cell_type": "markdown",
   "metadata": {},
   "source": [
    "Ridge / RidgeClassifier (https://scikit-learn.org/stable/modules/generated/sklearn.linear_model.Ridge.html, https://scikit-learn.org/stable/modules/generated/sklearn.linear_model.RidgeClassifier.html) :"
   ]
  },
  {
   "attachments": {},
   "cell_type": "markdown",
   "metadata": {},
   "source": [
    "```\n",
    "sklearn.linear_model.Ridge(alpha=1.0, *, fit_intercept=True, copy_X=True, max_iter=None, tol=0.0001, solver='auto', positive=False, random_state=None)　　\n",
    "- alpha=1.0： (float) 正則化の強さを調整するハイパーパラメータで，alpha は [0, inf) の値である必要があります．\n",
    "- fit_intercept=True： (bool) 切片を計算する場合は True，切片を 0 として計算する場合は False にします．\n",
    "- max_iter=None： (int) 計算の最大反復回数を指定します．None の場合はパラメータ \"solver\" の設定によって変わり，solver が \"sparse_cg\", \"lsqr\" のとき scipy.sparse.linalg の設定値に依存し, \"sag\" では 1000, \"lbfgs\" では 15000 になります．\n",
    "- tol=0.0001： (float) 最適化の許容範囲を指定します．この値以下になるか max_iter に到達するまで計算します．\n",
    "- solver='auto'： (str) 以下のソルバーが選択できます．\n",
    "    - \"auto\"： データによって自動で決定します．\n",
    "    - \"svd\"： Singular Value Decomposition\n",
    "    - \"cholesky\"： scipy.linalg.solve\n",
    "    - \"sparse_cg\"： scipy.sparse.linalg.cg\n",
    "    - \"lsqr\"： scipy.sparse.linalg.lsqr\n",
    "    - \"sag\"： Stochastic Average Gradient descent\n",
    "    - \"saga\"： \"sag\" の改良版\n",
    "    - \"lbfgs\"： scipy.optimize.minimize\n",
    "- positive=False： (bool) True にすると係数が強制的に正になります．\n",
    "- random_state=None： (int) 乱数シードを設定します．\n",
    "\n",
    "他の引数については気にしなくて OK です．\n",
    "```"
   ]
  },
  {
   "attachments": {},
   "cell_type": "markdown",
   "metadata": {},
   "source": [
    "```\n",
    "sklearn.linear_model.RidgeClassifier(alpha=1.0, *, fit_intercept=True, copy_X=True, max_iter=None, tol=0.0001, class_weight=None, solver='auto', positive=False, random_state=None)\n",
    "- alpha=1.0： (float) 正則化の強さを調整するハイパーパラメータで，alpha は [0, inf) の値である必要があります．\n",
    "- fit_intercept=True： (bool) 切片を計算する場合は True，切片を 0 として計算する場合は False にします．\n",
    "- max_iter=None： (int) 計算の最大反復回数を指定します．None の場合はパラメータ \"solver\" の設定によって変わり，solver が \"sparse_cg\", \"lsqr\" のとき scipy.sparse.linalg の設定値に依存し, \"sag\" では 1000, \"lbfgs\" では 15000 になります．\n",
    "- tol=0.0001： (float) 最適化の許容範囲を指定します．この値以下になるか max_iter に到達するまで計算します．\n",
    "- class_weight=None： (dict or \"balanced\") 辞書型を使って {class_label: weight} といったフォーマットで各クラスの重みを定義できます．デフォルトの None の場合，重みは全てのクラスに対して 1 が適用されます．\"balanced\" の場合は y の値を使用して，n_samples / (n_classes * np.bincount(y)) のように入力データのクラス頻度に反比例するように重みを自動的に調整します．\n",
    "- solver='auto'： (str) 以下のソルバーが選択できます．\n",
    "    - \"auto\"： データによって自動で決定します．\n",
    "    - \"svd\"： Singular Value Decomposition\n",
    "    - \"cholesky\"： scipy.linalg.solve\n",
    "    - \"sparse_cg\"： scipy.sparse.linalg.cg\n",
    "    - \"lsqr\"： scipy.sparse.linalg.lsqr\n",
    "    - \"sag\"： Stochastic Average Gradient descent\n",
    "    - \"saga\"： \"sag\" の改良版\n",
    "    - \"lbfgs\"： scipy.optimize.minimize\n",
    "- positive=False： (bool) True にすると係数が強制的に正になります．\n",
    "- random_state=None： (int) 乱数シードを設定します．\n",
    "\n",
    "他の引数については気にしなくて OK です．\n",
    "```"
   ]
  },
  {
   "attachments": {},
   "cell_type": "markdown",
   "metadata": {},
   "source": [
    "ElasticNet (https://scikit-learn.org/stable/modules/generated/sklearn.linear_model.ElasticNet.html) :"
   ]
  },
  {
   "attachments": {},
   "cell_type": "markdown",
   "metadata": {},
   "source": [
    "```\n",
    "sklearn.linear_model.ElasticNet(alpha=1.0, *, l1_ratio=0.5, fit_intercept=True, precompute=False, max_iter=1000, copy_X=True, tol=0.0001, warm_start=False, positive=False, random_state=None, selection='cyclic')\n",
    "- alpha=1.0： (float) L1 正則化の強さを調整するハイパーパラメータで，alpha は [0, inf) の値である必要があります．\n",
    "- l1_ratio=0.5： (float) L1 正則化と L2 正則化の割合を調整するハイパーパラメータで，l1_ratio は [0, 1] の値である必要があります．l1_ratio=1.0 のときは L1 正則化のみ行い L2 正則化は適用されません．\n",
    "- fit_intercept=True： (bool) 切片を計算する場合は True，切片を 0 として計算する場合は False にします．\n",
    "- max_iter=1000： (int) 計算の最大反復回数を指定します．\n",
    "- tol=0.0001： (float) 最適化の許容範囲を指定します．この値以下になるか max_iter に到達するまで計算します．\n",
    "- positive=False： (bool) True にすると係数が強制的に正になります．\n",
    "- random_state=None： (int) 乱数シードを設定します．\n",
    "- selection='cyclic'： (str) \"cyclic\" の場合は説明変数を順番に用い，\"random\" の場合は反復計算のたびにランダム係数が更新されます．\"random\" の場合は，特に tol=0.0001 よりも高い場合に収束が高速化されやすくなるそうです．\n",
    "\n",
    "他の引数については気にしなくて OK です．\n",
    "```"
   ]
  },
  {
   "attachments": {},
   "cell_type": "markdown",
   "metadata": {},
   "source": [
    "scikit-learn 自体の使い方は同じなので，ここでは LASSO のみについてライブラリの使用例を示します．"
   ]
  },
  {
   "cell_type": "code",
   "execution_count": 21,
   "metadata": {},
   "outputs": [],
   "source": [
    "import numpy as np\n",
    "import matplotlib.pyplot as plt\n",
    "import seaborn as sns\n",
    "sns.set()\n",
    "\n",
    "from sklearn.linear_model import Lasso"
   ]
  },
  {
   "cell_type": "code",
   "execution_count": 22,
   "metadata": {},
   "outputs": [],
   "source": [
    "# 離散点 x, y を定義\n",
    "x = np.arange(0, 5).reshape(-1, 1)\n",
    "y = np.array([5, 2, 4, 3, 1])"
   ]
  },
  {
   "cell_type": "code",
   "execution_count": 23,
   "metadata": {},
   "outputs": [],
   "source": [
    "model = Lasso(alpha=1.0, random_state=0)"
   ]
  },
  {
   "cell_type": "code",
   "execution_count": 24,
   "metadata": {},
   "outputs": [
    {
     "data": {
      "text/html": [
       "<style>#sk-container-id-3 {color: black;background-color: white;}#sk-container-id-3 pre{padding: 0;}#sk-container-id-3 div.sk-toggleable {background-color: white;}#sk-container-id-3 label.sk-toggleable__label {cursor: pointer;display: block;width: 100%;margin-bottom: 0;padding: 0.3em;box-sizing: border-box;text-align: center;}#sk-container-id-3 label.sk-toggleable__label-arrow:before {content: \"▸\";float: left;margin-right: 0.25em;color: #696969;}#sk-container-id-3 label.sk-toggleable__label-arrow:hover:before {color: black;}#sk-container-id-3 div.sk-estimator:hover label.sk-toggleable__label-arrow:before {color: black;}#sk-container-id-3 div.sk-toggleable__content {max-height: 0;max-width: 0;overflow: hidden;text-align: left;background-color: #f0f8ff;}#sk-container-id-3 div.sk-toggleable__content pre {margin: 0.2em;color: black;border-radius: 0.25em;background-color: #f0f8ff;}#sk-container-id-3 input.sk-toggleable__control:checked~div.sk-toggleable__content {max-height: 200px;max-width: 100%;overflow: auto;}#sk-container-id-3 input.sk-toggleable__control:checked~label.sk-toggleable__label-arrow:before {content: \"▾\";}#sk-container-id-3 div.sk-estimator input.sk-toggleable__control:checked~label.sk-toggleable__label {background-color: #d4ebff;}#sk-container-id-3 div.sk-label input.sk-toggleable__control:checked~label.sk-toggleable__label {background-color: #d4ebff;}#sk-container-id-3 input.sk-hidden--visually {border: 0;clip: rect(1px 1px 1px 1px);clip: rect(1px, 1px, 1px, 1px);height: 1px;margin: -1px;overflow: hidden;padding: 0;position: absolute;width: 1px;}#sk-container-id-3 div.sk-estimator {font-family: monospace;background-color: #f0f8ff;border: 1px dotted black;border-radius: 0.25em;box-sizing: border-box;margin-bottom: 0.5em;}#sk-container-id-3 div.sk-estimator:hover {background-color: #d4ebff;}#sk-container-id-3 div.sk-parallel-item::after {content: \"\";width: 100%;border-bottom: 1px solid gray;flex-grow: 1;}#sk-container-id-3 div.sk-label:hover label.sk-toggleable__label {background-color: #d4ebff;}#sk-container-id-3 div.sk-serial::before {content: \"\";position: absolute;border-left: 1px solid gray;box-sizing: border-box;top: 0;bottom: 0;left: 50%;z-index: 0;}#sk-container-id-3 div.sk-serial {display: flex;flex-direction: column;align-items: center;background-color: white;padding-right: 0.2em;padding-left: 0.2em;position: relative;}#sk-container-id-3 div.sk-item {position: relative;z-index: 1;}#sk-container-id-3 div.sk-parallel {display: flex;align-items: stretch;justify-content: center;background-color: white;position: relative;}#sk-container-id-3 div.sk-item::before, #sk-container-id-3 div.sk-parallel-item::before {content: \"\";position: absolute;border-left: 1px solid gray;box-sizing: border-box;top: 0;bottom: 0;left: 50%;z-index: -1;}#sk-container-id-3 div.sk-parallel-item {display: flex;flex-direction: column;z-index: 1;position: relative;background-color: white;}#sk-container-id-3 div.sk-parallel-item:first-child::after {align-self: flex-end;width: 50%;}#sk-container-id-3 div.sk-parallel-item:last-child::after {align-self: flex-start;width: 50%;}#sk-container-id-3 div.sk-parallel-item:only-child::after {width: 0;}#sk-container-id-3 div.sk-dashed-wrapped {border: 1px dashed gray;margin: 0 0.4em 0.5em 0.4em;box-sizing: border-box;padding-bottom: 0.4em;background-color: white;}#sk-container-id-3 div.sk-label label {font-family: monospace;font-weight: bold;display: inline-block;line-height: 1.2em;}#sk-container-id-3 div.sk-label-container {text-align: center;}#sk-container-id-3 div.sk-container {/* jupyter's `normalize.less` sets `[hidden] { display: none; }` but bootstrap.min.css set `[hidden] { display: none !important; }` so we also need the `!important` here to be able to override the default hidden behavior on the sphinx rendered scikit-learn.org. See: https://github.com/scikit-learn/scikit-learn/issues/21755 */display: inline-block !important;position: relative;}#sk-container-id-3 div.sk-text-repr-fallback {display: none;}</style><div id=\"sk-container-id-3\" class=\"sk-top-container\"><div class=\"sk-text-repr-fallback\"><pre>Lasso(random_state=0)</pre><b>In a Jupyter environment, please rerun this cell to show the HTML representation or trust the notebook. <br />On GitHub, the HTML representation is unable to render, please try loading this page with nbviewer.org.</b></div><div class=\"sk-container\" hidden><div class=\"sk-item\"><div class=\"sk-estimator sk-toggleable\"><input class=\"sk-toggleable__control sk-hidden--visually\" id=\"sk-estimator-id-3\" type=\"checkbox\" checked><label for=\"sk-estimator-id-3\" class=\"sk-toggleable__label sk-toggleable__label-arrow\">Lasso</label><div class=\"sk-toggleable__content\"><pre>Lasso(random_state=0)</pre></div></div></div></div></div>"
      ],
      "text/plain": [
       "Lasso(random_state=0)"
      ]
     },
     "execution_count": 24,
     "metadata": {},
     "output_type": "execute_result"
    }
   ],
   "source": [
    "model.fit(X=x, y=y)"
   ]
  },
  {
   "cell_type": "code",
   "execution_count": 25,
   "metadata": {},
   "outputs": [
    {
     "data": {
      "text/plain": [
       "array([3.4, 3.2, 3. , 2.8, 2.6])"
      ]
     },
     "execution_count": 25,
     "metadata": {},
     "output_type": "execute_result"
    }
   ],
   "source": [
    "y_pred = model.predict(x)\n",
    "y_pred"
   ]
  },
  {
   "cell_type": "code",
   "execution_count": 26,
   "metadata": {},
   "outputs": [
    {
     "data": {
      "image/png": "[encoded data removed]",
      "text/plain": [
       "<Figure size 432x288 with 1 Axes>"
      ]
     },
     "metadata": {},
     "output_type": "display_data"
    }
   ],
   "source": [
    "fig = plt.figure(facecolor=\"white\")\n",
    "ax = plt.axes()\n",
    "ax.axvline(x=0, color=\"gray\", linestyle=\"--\")\n",
    "ax.axhline(y=0, color=\"gray\", linestyle=\"--\")\n",
    "ax.plot(x, y_pred, color=\"red\", marker=\"o\", markerfacecolor=\"white\")\n",
    "ax.scatter(x, y, color=\"black\", marker=\"x\")\n",
    "ax.set_xlim(-1, 6)\n",
    "ax.set_ylim(-1, 6)\n",
    "ax.set_xlabel(\"x\")\n",
    "ax.set_ylabel(\"y\")\n",
    "ax.set_aspect(aspect=\"equal\")\n",
    "fig.tight_layout()\n",
    "plt.show()"
   ]
  },
  {
   "cell_type": "code",
   "execution_count": 27,
   "metadata": {},
   "outputs": [
    {
     "name": "stdout",
     "output_type": "stream",
     "text": [
      "(1001, 1) (1001,)\n"
     ]
    }
   ],
   "source": [
    "rng = np.random.RandomState(seed=0)\n",
    "\n",
    "x = np.arange(start=0, stop=100 + 0.1, step=0.1)\n",
    "y = x + rng.uniform(low=-5, high=5, size=len(x))\n",
    "x = x.reshape(-1, 1)\n",
    "\n",
    "print(x.shape, y.shape)"
   ]
  },
  {
   "cell_type": "code",
   "execution_count": 28,
   "metadata": {},
   "outputs": [
    {
     "name": "stdout",
     "output_type": "stream",
     "text": [
      "(600, 1) (401, 1) (600,) (401,)\n"
     ]
    }
   ],
   "source": [
    "from sklearn.model_selection import train_test_split\n",
    "\n",
    "x_train, x_test, y_train, y_test = train_test_split(x, y, test_size=0.4, shuffle=False)\n",
    "print(x_train.shape, x_test.shape, y_train.shape, y_test.shape)"
   ]
  },
  {
   "cell_type": "code",
   "execution_count": 29,
   "metadata": {},
   "outputs": [
    {
     "data": {
      "image/png": "[encoded data removed]",
      "text/plain": [
       "<Figure size 432x288 with 1 Axes>"
      ]
     },
     "metadata": {},
     "output_type": "display_data"
    }
   ],
   "source": [
    "fig = plt.figure(facecolor=\"white\")\n",
    "ax = plt.axes()\n",
    "ax.scatter(x_train, y_train, marker=\".\", label=\"train\")\n",
    "ax.scatter(x_test, y_test, marker=\".\", label=\"test\")\n",
    "ax.set_aspect(aspect=\"equal\")\n",
    "ax.set_xlabel(\"x\")\n",
    "ax.set_ylabel(\"y\")\n",
    "ax.legend(loc=\"upper left\")\n",
    "fig.tight_layout()\n",
    "plt.show()"
   ]
  },
  {
   "cell_type": "code",
   "execution_count": 32,
   "metadata": {},
   "outputs": [],
   "source": [
    "model = Lasso(alpha=1.0, random_state=0)\n",
    "model.fit(X=x_train, y=y_train)\n",
    "y_pred = model.predict(x)"
   ]
  },
  {
   "cell_type": "code",
   "execution_count": 33,
   "metadata": {},
   "outputs": [
    {
     "data": {
      "image/png": "[encoded data removed]",
      "text/plain": [
       "<Figure size 432x288 with 1 Axes>"
      ]
     },
     "metadata": {},
     "output_type": "display_data"
    }
   ],
   "source": [
    "fig = plt.figure(facecolor=\"white\")\n",
    "ax = plt.axes()\n",
    "ax.scatter(x_train, y_train, marker=\".\", label=\"train\")\n",
    "ax.scatter(x_test, y_test, marker=\".\", label=\"test\")\n",
    "ax.plot(x, y_pred, color=\"lime\")\n",
    "ax.set_aspect(aspect=\"equal\")\n",
    "ax.set_xlabel(\"x\")\n",
    "ax.set_ylabel(\"y\")\n",
    "ax.legend(loc=\"upper left\")\n",
    "fig.tight_layout()\n",
    "plt.show()"
   ]
  },
  {
   "attachments": {},
   "cell_type": "markdown",
   "metadata": {},
   "source": [
    "---\n",
    "\n",
    "## 演習問題"
   ]
  },
  {
   "attachments": {},
   "cell_type": "markdown",
   "metadata": {},
   "source": [
    "Q1. ワインデータセットについて，以下を参照して，目的変数であるワインの等級を LASSO によって求めてください．\n",
    "\n",
    "- データ分割は train_test_split にて行い，学習用データは全データの 90 %，データのシャッフルは True としてください（結果に再現性を持たせたい場合は，引数 random_state に任意の数を設定してください）\n",
    "- データは，以下のコードにて読み込むことができます（データの説明はこちら：https://slash-z.com/matplotlib-first-step/）"
   ]
  },
  {
   "attachments": {},
   "cell_type": "markdown",
   "metadata": {},
   "source": [
    "```python\n",
    "from sklearn.datasets import load_wine\n",
    "\n",
    "df_x, df_y = load_wine(return_X_y=True, as_frame=True)\n",
    "```"
   ]
  },
  {
   "attachments": {},
   "cell_type": "markdown",
   "metadata": {},
   "source": [
    "Q2. 上記で学習したモデルを用いて，df_x 全データについて推論を計算し，分類精度を計算しましょう．\n",
    "LASSO を用いる場合，分類問題に無理やり回帰を用いていることから，推論結果は float となるため，例えば推論結果に .astype(np.uint8) としてカテゴリ変数に変換してください．\n",
    "for / if 文を用いても精度は計算できますが，scikit-learn を用いて分類問題における認識精度を確認するには，以下のようにして算出が可能です．\n",
    "ここで，y_true は正解ラベルの df_y，y_pred には df_x に対するモデルの推論結果を代入してください．"
   ]
  },
  {
   "attachments": {},
   "cell_type": "markdown",
   "metadata": {},
   "source": [
    "```python\n",
    "from sklearn.metrics import accuracy_score\n",
    "\n",
    "print(accuracy_score(y_true, y_pred))\n",
    "```"
   ]
  },
  {
   "attachments": {},
   "cell_type": "markdown",
   "metadata": {},
   "source": [
    "Q3. 上記の結果について，他の linear_model である　LinearRegression, Lasso, RidgeClassifier, ElasticNet で認識精度を比較してみましょう．注意として RidgeClassifier のみクラス分類できるモデルになっているため，Q2 で対応した .astype(np.uint8) とする処理は不要です．"
   ]
  },
  {
   "attachments": {},
   "cell_type": "markdown",
   "metadata": {},
   "source": [
    "Q4. カリフォルニア住宅価格データセットについて，LASSO を用いて以下の手順で住宅価格を予測してみましょう．\n",
    "- 次のコードでデータ読み込み，学習用／検証用にデータを分割します．"
   ]
  },
  {
   "attachments": {},
   "cell_type": "markdown",
   "metadata": {},
   "source": [
    "```python\n",
    "from sklearn.datasets import fetch_california_housing\n",
    "\n",
    "df_x, df_y = fetch_california_housing(return_X_y=True, as_frame=True)\n",
    "x_train, x_test, y_train, y_test = train_test_split(\n",
    "    df_x, df_y, test_size=0.25, shuffle=True, random_state=0,\n",
    ")\n",
    "print(x_train.shape, x_test.shape, y_train.shape, y_test.shape)\n",
    "```"
   ]
  },
  {
   "attachments": {},
   "cell_type": "markdown",
   "metadata": {},
   "source": [
    "- 学習用データ (x_train, y_train) のみを学習し，検証用データ x_test について住宅価格を予測しましょう．\n",
    "- 上記で予測した住宅価格について，正解の値との絶対平均誤差を算出してみましょう．\n",
    "\n",
    "以下のコードにて絶対平均誤差が算出できます．\n",
    "ここで，y_true は正解データの y_test，y_pred には x_test に対するモデルの推論結果を代入してください．"
   ]
  },
  {
   "attachments": {},
   "cell_type": "markdown",
   "metadata": {},
   "source": [
    "```python\n",
    "from sklearn.metrics import mean_absolute_error\n",
    "\n",
    "print(mean_absolute_error(y_true, y_pred))\n",
    "```"
   ]
  },
  {
   "attachments": {},
   "cell_type": "markdown",
   "metadata": {},
   "source": [
    "Q5. 上記の結果について，他の linear_model である　LinearRegression, Lasso, Ridge, ElasticNet で認識精度を比較してみましょう．今回は回帰問題で誤差を算出しているので，誤差が小さいほど良い精度で予測しています．"
   ]
  },
  {
   "cell_type": "code",
   "execution_count": null,
   "metadata": {},
   "outputs": [],
   "source": []
  }
 ],
 "metadata": {
  "kernelspec": {
   "display_name": "Python 3.10.4 64-bit",
   "language": "python",
   "name": "python3"
  },
  "language_info": {
   "codemirror_mode": {
    "name": "ipython",
    "version": 3
   },
   "file_extension": ".py",
   "mimetype": "text/x-python",
   "name": "python",
   "nbconvert_exporter": "python",
   "pygments_lexer": "ipython3",
   "version": "3.10.4 (tags/v3.10.4:9d38120, Mar 23 2022, 23:13:41) [MSC v.1929 64 bit (AMD64)]"
  },
  "orig_nbformat": 4,
  "vscode": {
   "interpreter": {
    "hash": "7f4300d00c020e82d8b187928799c5c30a390be7d7de211bfbda9d77d14a6e94"
   }
  }
 },
 "nbformat": 4,
 "nbformat_minor": 2
}
