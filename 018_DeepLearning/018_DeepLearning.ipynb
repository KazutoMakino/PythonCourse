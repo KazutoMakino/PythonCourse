{
 "cells": [
  {
   "attachments": {},
   "cell_type": "markdown",
   "metadata": {},
   "source": [
    "# 【自前AI講座】ディープラーニング基礎と実装\n",
    "\n",
    "---"
   ]
  },
  {
   "cell_type": "code",
   "execution_count": 1,
   "metadata": {},
   "outputs": [
    {
     "name": "stdout",
     "output_type": "stream",
     "text": [
      "(60000, 28, 28) (60000,) (10000, 28, 28) (10000,)\n",
      "uint8 uint8 uint8 uint8\n",
      "Epoch 1/5\n",
      "1875/1875 [==============================] - 4s 2ms/step - loss: 0.9161 - sparse_categorical_accuracy: 0.7151\n",
      "Epoch 2/5\n",
      "1875/1875 [==============================] - 3s 2ms/step - loss: 0.3297 - sparse_categorical_accuracy: 0.9017\n",
      "Epoch 3/5\n",
      "1875/1875 [==============================] - 4s 2ms/step - loss: 0.2621 - sparse_categorical_accuracy: 0.9222\n",
      "Epoch 4/5\n",
      "1875/1875 [==============================] - 3s 2ms/step - loss: 0.2190 - sparse_categorical_accuracy: 0.9354\n",
      "Epoch 5/5\n",
      "1875/1875 [==============================] - 3s 2ms/step - loss: 0.1883 - sparse_categorical_accuracy: 0.9444\n"
     ]
    },
    {
     "data": {
      "text/plain": [
       "<keras.callbacks.History at 0x13d45a88520>"
      ]
     },
     "execution_count": 1,
     "metadata": {},
     "output_type": "execute_result"
    }
   ],
   "source": [
    "import numpy as np\n",
    "import tensorflow as tf\n",
    "from keras import layers, optimizers, metrics, losses, Model, callbacks\n",
    "\n",
    "# データセット準備\n",
    "(x_train, y_train), (x_test, y_test) = tf.keras.datasets.mnist.load_data()\n",
    "print(x_train.shape, y_train.shape, x_test.shape, y_test.shape)\n",
    "print(x_train.dtype, y_train.dtype, x_test.dtype, y_test.dtype)\n",
    "\n",
    "# 画素値を 0～255 から 0～1 に正規化\n",
    "x_train = x_train.astype(np.float32) / 255.0\n",
    "x_test = x_test.astype(np.float32) / 255.0\n",
    "\n",
    "# クラス数を算出\n",
    "classes = len(set(y_train))\n",
    "\n",
    "# モデル定義\n",
    "inputs = layers.Input(shape=x_train.shape[1:])\n",
    "x = inputs\n",
    "x = layers.Flatten()(x)\n",
    "x = layers.Dense(units=32)(x)\n",
    "x = layers.ReLU()(x)\n",
    "x = layers.Dense(units=32)(x)\n",
    "x = layers.ReLU()(x)\n",
    "x = layers.Dense(units=32)(x)\n",
    "x = layers.ReLU()(x)\n",
    "x = layers.Dense(units=32)(x)\n",
    "x = layers.ReLU()(x)\n",
    "x = layers.Dense(units=classes)(x)\n",
    "x = layers.Softmax()(x)\n",
    "outputs = x\n",
    "model = Model(inputs=inputs, outputs=outputs)\n",
    "# 最適化関数，損失関数，評価関数の定義\n",
    "model.compile(\n",
    "    optimizer=optimizers.SGD(learning_rate=0.01),\n",
    "    loss=losses.SparseCategoricalCrossentropy(),\n",
    "    metrics=[metrics.SparseCategoricalAccuracy()],\n",
    ")\n",
    "\n",
    "# 学習\n",
    "model.fit(x=x_train, y=y_train, batch_size=32, epochs=5)"
   ]
  },
  {
   "cell_type": "code",
   "execution_count": 2,
   "metadata": {},
   "outputs": [],
   "source": [
    "import math\n",
    "import matplotlib.pyplot as plt\n",
    "import seaborn as sns\n",
    "sns.set()"
   ]
  },
  {
   "cell_type": "code",
   "execution_count": 3,
   "metadata": {},
   "outputs": [
    {
     "data": {
      "image/png": "[encoded data removed]",
      "text/plain": [
       "<Figure size 720x216 with 1 Axes>"
      ]
     },
     "metadata": {},
     "output_type": "display_data"
    }
   ],
   "source": [
    "neuron_num = 256\n",
    "rng = np.random.default_rng(seed=0)\n",
    "rng_normal = rng.normal(size=neuron_num)\n",
    "rng_xavier = rng_normal * math.sqrt(1 / neuron_num)\n",
    "rng_he = rng_normal * math.sqrt(2 / neuron_num)\n",
    "\n",
    "plt.figure(figsize=(10, 3), facecolor=\"white\")\n",
    "sns.kdeplot(rng_normal, color=\"black\", label=\"Normal\")\n",
    "sns.kdeplot(rng_xavier, color=\"red\", label=\"Xavier\")\n",
    "sns.kdeplot(rng_he, color=\"blue\", label=\"He\")\n",
    "plt.legend(loc=\"upper right\")\n",
    "plt.tight_layout()\n",
    "plt.show()"
   ]
  },
  {
   "attachments": {},
   "cell_type": "markdown",
   "metadata": {},
   "source": [
    "### バッチ正規化"
   ]
  },
  {
   "attachments": {},
   "cell_type": "markdown",
   "metadata": {},
   "source": [
    "$$\n",
    "\\hat{x_i} \\leftarrow \\frac{x_i - \\mu_B}{\\sqrt{\\sigma_B^2 + \\epsilon}}\n",
    "$$"
   ]
  },
  {
   "attachments": {},
   "cell_type": "markdown",
   "metadata": {},
   "source": [
    "$$\n",
    "y_i \\leftarrow \\gamma \\hat{x_i} + \\beta\n",
    "$$"
   ]
  },
  {
   "attachments": {},
   "cell_type": "markdown",
   "metadata": {},
   "source": [
    "## 最適化関数"
   ]
  },
  {
   "attachments": {},
   "cell_type": "markdown",
   "metadata": {},
   "source": [
    "$$\n",
    "\\theta_t \\leftarrow \\theta_{t-1} - \\eta \\frac{\\hat{m_t}}{\\sqrt{\\hat{\\nu_t}} + \\epsilon}\n",
    "$$"
   ]
  },
  {
   "attachments": {},
   "cell_type": "markdown",
   "metadata": {},
   "source": [
    "$$\n",
    "\\hat{m_t} \\leftarrow \\frac{m_t}{1 - \\beta_1^{(t)}} \\\\\n",
    "\\hat{\\nu_t} \\leftarrow \\frac{\\nu_t}{1 - \\beta_2^{(t)}} \\\\\n",
    "m_t \\leftarrow \\beta_1 m_{t-1} + (1 - \\beta_1) g_t \\\\\n",
    "\\nu_t \\leftarrow \\beta_2 \\nu_{t-1} + (1 - \\beta_2) g_t^2\n",
    "$$"
   ]
  },
  {
   "attachments": {},
   "cell_type": "markdown",
   "metadata": {},
   "source": [
    "## 乱数シード値の固定"
   ]
  },
  {
   "cell_type": "code",
   "execution_count": 4,
   "metadata": {},
   "outputs": [],
   "source": [
    "import gc\n",
    "import os\n",
    "import random"
   ]
  },
  {
   "cell_type": "code",
   "execution_count": 5,
   "metadata": {},
   "outputs": [],
   "source": [
    "def seed_everything(seed: int = 0):\n",
    "    # os\n",
    "    os.environ[\"PYTHONHASHSEED\"] = str(seed)\n",
    "    # random\n",
    "    random.seed(seed)\n",
    "    # numpy\n",
    "    np.random.seed(seed)\n",
    "    # tensorflow\n",
    "    tf.random.set_seed(seed)\n",
    "    # for GPU : https://github.com/NVIDIA/framework-determinism\n",
    "    os.environ[\"TF_DETERMINISTIC_OPS\"] = \"true\"\n",
    "    os.environ[\"TF_CUDNN_DETERMINISTIC\"] = \"true\"\n",
    "\n",
    "\n",
    "seed_everything()"
   ]
  },
  {
   "attachments": {},
   "cell_type": "markdown",
   "metadata": {},
   "source": [
    "## 演習問題"
   ]
  },
  {
   "attachments": {},
   "cell_type": "markdown",
   "metadata": {},
   "source": [
    "Q. mnist を次に指定するニューラルネットワーク構造，及び，学習方法にて学習してください．\n",
    "\n",
    "- 隠れ層４つの全結合層で，活性化関数は ReLU （各層のニューロン数の設定は自由）\n",
    "- バッチ正規化と drop out を入れる（削除割合の設定は自由）\n",
    "- 重みの初期化については，ReLU の場合は He の初期値，Softmax の場合は Xavier の初期値を用いる\n",
    "- 学習 epoch は 30 で，学習率を上限 0.01 とした warm up が 3 の cosine decay とする\n",
    "- 評価用データの結果も毎 epoch 計算させる"
   ]
  },
  {
   "attachments": {},
   "cell_type": "markdown",
   "metadata": {},
   "source": [
    "## 演習問題の解答"
   ]
  },
  {
   "cell_type": "code",
   "execution_count": 6,
   "metadata": {},
   "outputs": [],
   "source": [
    "warm_up_epoch = 3\n",
    "max_lr = 0.01\n",
    "final_epoch = 30\n",
    "\n",
    "\n",
    "def lr_scheduler(epoch: int, _: float) -> float:\n",
    "    if epoch <= warm_up_epoch:\n",
    "        scheduled_lr = epoch / warm_up_epoch * max_lr\n",
    "    else:\n",
    "        scheduled_lr = (\n",
    "            (\n",
    "                math.cos(\n",
    "                    (epoch - warm_up_epoch) / (final_epoch - warm_up_epoch) * math.pi\n",
    "                )\n",
    "                + 1\n",
    "            )\n",
    "            * max_lr\n",
    "            / 2\n",
    "        )\n",
    "    scheduled_lr = round(scheduled_lr, ndigits=9)\n",
    "    return scheduled_lr"
   ]
  },
  {
   "cell_type": "code",
   "execution_count": 7,
   "metadata": {},
   "outputs": [
    {
     "name": "stdout",
     "output_type": "stream",
     "text": [
      "Model: \"model\"\n",
      "_________________________________________________________________\n",
      " Layer (type)                Output Shape              Param #   \n",
      "=================================================================\n",
      " input_1 (InputLayer)        [(None, 28, 28)]          0         \n",
      "                                                                 \n",
      " flatten (Flatten)           (None, 784)               0         \n",
      "                                                                 \n",
      " dense (Dense)               (None, 128)               100480    \n",
      "                                                                 \n",
      " batch_normalization (BatchN  (None, 128)              512       \n",
      " ormalization)                                                   \n",
      "                                                                 \n",
      " re_lu (ReLU)                (None, 128)               0         \n",
      "                                                                 \n",
      " dropout (Dropout)           (None, 128)               0         \n",
      "                                                                 \n",
      " dense_1 (Dense)             (None, 128)               16512     \n",
      "                                                                 \n",
      " batch_normalization_1 (Batc  (None, 128)              512       \n",
      " hNormalization)                                                 \n",
      "                                                                 \n",
      " re_lu_1 (ReLU)              (None, 128)               0         \n",
      "                                                                 \n",
      " dropout_1 (Dropout)         (None, 128)               0         \n",
      "                                                                 \n",
      " dense_2 (Dense)             (None, 128)               16512     \n",
      "                                                                 \n",
      " batch_normalization_2 (Batc  (None, 128)              512       \n",
      " hNormalization)                                                 \n",
      "                                                                 \n",
      " re_lu_2 (ReLU)              (None, 128)               0         \n",
      "                                                                 \n",
      " dropout_2 (Dropout)         (None, 128)               0         \n",
      "                                                                 \n",
      " dense_3 (Dense)             (None, 128)               16512     \n",
      "                                                                 \n",
      " batch_normalization_3 (Batc  (None, 128)              512       \n",
      " hNormalization)                                                 \n",
      "                                                                 \n",
      " re_lu_3 (ReLU)              (None, 128)               0         \n",
      "                                                                 \n",
      " dropout_3 (Dropout)         (None, 128)               0         \n",
      "                                                                 \n",
      " dense_4 (Dense)             (None, 10)                1290      \n",
      "                                                                 \n",
      " softmax (Softmax)           (None, 10)                0         \n",
      "                                                                 \n",
      "=================================================================\n",
      "Total params: 153,354\n",
      "Trainable params: 152,330\n",
      "Non-trainable params: 1,024\n",
      "_________________________________________________________________\n",
      "Epoch 1/30\n",
      "1862/1875 [============================>.] - ETA: 0s - loss: 2.8522 - sparse_categorical_accuracy: 0.0860\n",
      "Epoch 1: val_loss improved from inf to 2.56895, saving model to .\\model.h5\n",
      "1875/1875 [==============================] - 8s 4ms/step - loss: 2.8522 - sparse_categorical_accuracy: 0.0859 - val_loss: 2.5689 - val_sparse_categorical_accuracy: 0.0731 - lr: 0.0000e+00\n",
      "Epoch 2/30\n",
      "1869/1875 [============================>.] - ETA: 0s - loss: 0.4110 - sparse_categorical_accuracy: 0.8767\n",
      "Epoch 2: val_loss improved from 2.56895 to 0.13995, saving model to .\\model.h5\n",
      "1875/1875 [==============================] - 8s 4ms/step - loss: 0.4105 - sparse_categorical_accuracy: 0.8768 - val_loss: 0.1399 - val_sparse_categorical_accuracy: 0.9542 - lr: 0.0033\n",
      "Epoch 3/30\n",
      "1872/1875 [============================>.] - ETA: 0s - loss: 0.2894 - sparse_categorical_accuracy: 0.9139\n",
      "Epoch 3: val_loss did not improve from 0.13995\n",
      "1875/1875 [==============================] - 7s 4ms/step - loss: 0.2894 - sparse_categorical_accuracy: 0.9140 - val_loss: 0.1506 - val_sparse_categorical_accuracy: 0.9530 - lr: 0.0067\n",
      "Epoch 4/30\n",
      "1865/1875 [============================>.] - ETA: 0s - loss: 0.2661 - sparse_categorical_accuracy: 0.9231\n",
      "Epoch 4: val_loss improved from 0.13995 to 0.11745, saving model to .\\model.h5\n",
      "1875/1875 [==============================] - 7s 4ms/step - loss: 0.2659 - sparse_categorical_accuracy: 0.9232 - val_loss: 0.1175 - val_sparse_categorical_accuracy: 0.9651 - lr: 0.0100\n",
      "Epoch 5/30\n",
      "1869/1875 [============================>.] - ETA: 0s - loss: 0.2243 - sparse_categorical_accuracy: 0.9355\n",
      "Epoch 5: val_loss improved from 0.11745 to 0.11666, saving model to .\\model.h5\n",
      "1875/1875 [==============================] - 8s 4ms/step - loss: 0.2245 - sparse_categorical_accuracy: 0.9355 - val_loss: 0.1167 - val_sparse_categorical_accuracy: 0.9643 - lr: 0.0100\n",
      "Epoch 6/30\n",
      "1869/1875 [============================>.] - ETA: 0s - loss: 0.2016 - sparse_categorical_accuracy: 0.9404\n",
      "Epoch 6: val_loss improved from 0.11666 to 0.10218, saving model to .\\model.h5\n",
      "1875/1875 [==============================] - 8s 4ms/step - loss: 0.2017 - sparse_categorical_accuracy: 0.9404 - val_loss: 0.1022 - val_sparse_categorical_accuracy: 0.9700 - lr: 0.0099\n",
      "Epoch 7/30\n",
      "1864/1875 [============================>.] - ETA: 0s - loss: 0.1819 - sparse_categorical_accuracy: 0.9472\n",
      "Epoch 7: val_loss improved from 0.10218 to 0.08007, saving model to .\\model.h5\n",
      "1875/1875 [==============================] - 8s 4ms/step - loss: 0.1819 - sparse_categorical_accuracy: 0.9473 - val_loss: 0.0801 - val_sparse_categorical_accuracy: 0.9745 - lr: 0.0097\n",
      "Epoch 8/30\n",
      "1874/1875 [============================>.] - ETA: 0s - loss: 0.1694 - sparse_categorical_accuracy: 0.9509\n",
      "Epoch 8: val_loss did not improve from 0.08007\n",
      "1875/1875 [==============================] - 8s 4ms/step - loss: 0.1693 - sparse_categorical_accuracy: 0.9509 - val_loss: 0.0825 - val_sparse_categorical_accuracy: 0.9754 - lr: 0.0095\n",
      "Epoch 9/30\n",
      "1871/1875 [============================>.] - ETA: 0s - loss: 0.1569 - sparse_categorical_accuracy: 0.9542\n",
      "Epoch 9: val_loss improved from 0.08007 to 0.07439, saving model to .\\model.h5\n",
      "1875/1875 [==============================] - 8s 4ms/step - loss: 0.1570 - sparse_categorical_accuracy: 0.9542 - val_loss: 0.0744 - val_sparse_categorical_accuracy: 0.9765 - lr: 0.0092\n",
      "Epoch 10/30\n",
      "1866/1875 [============================>.] - ETA: 0s - loss: 0.1459 - sparse_categorical_accuracy: 0.9571\n",
      "Epoch 10: val_loss improved from 0.07439 to 0.06567, saving model to .\\model.h5\n",
      "1875/1875 [==============================] - 8s 4ms/step - loss: 0.1458 - sparse_categorical_accuracy: 0.9571 - val_loss: 0.0657 - val_sparse_categorical_accuracy: 0.9792 - lr: 0.0088\n",
      "Epoch 11/30\n",
      "1863/1875 [============================>.] - ETA: 0s - loss: 0.1344 - sparse_categorical_accuracy: 0.9602\n",
      "Epoch 11: val_loss improved from 0.06567 to 0.06373, saving model to .\\model.h5\n",
      "1875/1875 [==============================] - 8s 4ms/step - loss: 0.1346 - sparse_categorical_accuracy: 0.9601 - val_loss: 0.0637 - val_sparse_categorical_accuracy: 0.9806 - lr: 0.0084\n",
      "Epoch 12/30\n",
      "1864/1875 [============================>.] - ETA: 0s - loss: 0.1242 - sparse_categorical_accuracy: 0.9635\n",
      "Epoch 12: val_loss did not improve from 0.06373\n",
      "1875/1875 [==============================] - 8s 4ms/step - loss: 0.1244 - sparse_categorical_accuracy: 0.9635 - val_loss: 0.0673 - val_sparse_categorical_accuracy: 0.9792 - lr: 0.0080\n",
      "Epoch 13/30\n",
      "1867/1875 [============================>.] - ETA: 0s - loss: 0.1181 - sparse_categorical_accuracy: 0.9646\n",
      "Epoch 13: val_loss improved from 0.06373 to 0.06166, saving model to .\\model.h5\n",
      "1875/1875 [==============================] - 7s 4ms/step - loss: 0.1181 - sparse_categorical_accuracy: 0.9646 - val_loss: 0.0617 - val_sparse_categorical_accuracy: 0.9813 - lr: 0.0075\n",
      "Epoch 14/30\n",
      "1869/1875 [============================>.] - ETA: 0s - loss: 0.1106 - sparse_categorical_accuracy: 0.9674\n",
      "Epoch 14: val_loss improved from 0.06166 to 0.05792, saving model to .\\model.h5\n",
      "1875/1875 [==============================] - 8s 4ms/step - loss: 0.1105 - sparse_categorical_accuracy: 0.9674 - val_loss: 0.0579 - val_sparse_categorical_accuracy: 0.9828 - lr: 0.0070\n",
      "Epoch 15/30\n",
      "1874/1875 [============================>.] - ETA: 0s - loss: 0.0996 - sparse_categorical_accuracy: 0.9701\n",
      "Epoch 15: val_loss did not improve from 0.05792\n",
      "1875/1875 [==============================] - 8s 4ms/step - loss: 0.0996 - sparse_categorical_accuracy: 0.9701 - val_loss: 0.0600 - val_sparse_categorical_accuracy: 0.9814 - lr: 0.0064\n",
      "Epoch 16/30\n",
      "1868/1875 [============================>.] - ETA: 0s - loss: 0.0958 - sparse_categorical_accuracy: 0.9714\n",
      "Epoch 16: val_loss did not improve from 0.05792\n",
      "1875/1875 [==============================] - 8s 4ms/step - loss: 0.0960 - sparse_categorical_accuracy: 0.9713 - val_loss: 0.0594 - val_sparse_categorical_accuracy: 0.9825 - lr: 0.0059\n",
      "Epoch 17/30\n",
      "1873/1875 [============================>.] - ETA: 0s - loss: 0.0907 - sparse_categorical_accuracy: 0.9729\n",
      "Epoch 17: val_loss did not improve from 0.05792\n",
      "1875/1875 [==============================] - 8s 4ms/step - loss: 0.0909 - sparse_categorical_accuracy: 0.9729 - val_loss: 0.0593 - val_sparse_categorical_accuracy: 0.9822 - lr: 0.0053\n",
      "Epoch 18/30\n",
      "1867/1875 [============================>.] - ETA: 0s - loss: 0.0821 - sparse_categorical_accuracy: 0.9750\n",
      "Epoch 18: val_loss improved from 0.05792 to 0.05655, saving model to .\\model.h5\n",
      "1875/1875 [==============================] - 8s 4ms/step - loss: 0.0821 - sparse_categorical_accuracy: 0.9750 - val_loss: 0.0566 - val_sparse_categorical_accuracy: 0.9831 - lr: 0.0047\n",
      "Epoch 19/30\n",
      "1870/1875 [============================>.] - ETA: 0s - loss: 0.0751 - sparse_categorical_accuracy: 0.9766\n",
      "Epoch 19: val_loss did not improve from 0.05655\n",
      "1875/1875 [==============================] - 8s 4ms/step - loss: 0.0751 - sparse_categorical_accuracy: 0.9766 - val_loss: 0.0595 - val_sparse_categorical_accuracy: 0.9823 - lr: 0.0041\n",
      "Epoch 20/30\n",
      "1864/1875 [============================>.] - ETA: 0s - loss: 0.0699 - sparse_categorical_accuracy: 0.9780\n",
      "Epoch 20: val_loss did not improve from 0.05655\n",
      "1875/1875 [==============================] - 8s 4ms/step - loss: 0.0699 - sparse_categorical_accuracy: 0.9780 - val_loss: 0.0570 - val_sparse_categorical_accuracy: 0.9840 - lr: 0.0036\n",
      "Epoch 21/30\n",
      "1863/1875 [============================>.] - ETA: 0s - loss: 0.0676 - sparse_categorical_accuracy: 0.9790\n",
      "Epoch 21: val_loss improved from 0.05655 to 0.05350, saving model to .\\model.h5\n",
      "1875/1875 [==============================] - 8s 4ms/step - loss: 0.0676 - sparse_categorical_accuracy: 0.9790 - val_loss: 0.0535 - val_sparse_categorical_accuracy: 0.9845 - lr: 0.0030\n",
      "Epoch 22/30\n",
      "1869/1875 [============================>.] - ETA: 0s - loss: 0.0622 - sparse_categorical_accuracy: 0.9810\n",
      "Epoch 22: val_loss did not improve from 0.05350\n",
      "1875/1875 [==============================] - 8s 4ms/step - loss: 0.0621 - sparse_categorical_accuracy: 0.9810 - val_loss: 0.0546 - val_sparse_categorical_accuracy: 0.9841 - lr: 0.0025\n",
      "Epoch 23/30\n",
      "1868/1875 [============================>.] - ETA: 0s - loss: 0.0609 - sparse_categorical_accuracy: 0.9814\n",
      "Epoch 23: val_loss improved from 0.05350 to 0.05192, saving model to .\\model.h5\n",
      "1875/1875 [==============================] - 8s 4ms/step - loss: 0.0611 - sparse_categorical_accuracy: 0.9814 - val_loss: 0.0519 - val_sparse_categorical_accuracy: 0.9852 - lr: 0.0020\n",
      "Epoch 24/30\n",
      "1863/1875 [============================>.] - ETA: 0s - loss: 0.0559 - sparse_categorical_accuracy: 0.9825\n",
      "Epoch 24: val_loss improved from 0.05192 to 0.05004, saving model to .\\model.h5\n",
      "1875/1875 [==============================] - 7s 4ms/step - loss: 0.0558 - sparse_categorical_accuracy: 0.9826 - val_loss: 0.0500 - val_sparse_categorical_accuracy: 0.9855 - lr: 0.0016\n",
      "Epoch 25/30\n",
      "1866/1875 [============================>.] - ETA: 0s - loss: 0.0538 - sparse_categorical_accuracy: 0.9835\n",
      "Epoch 25: val_loss improved from 0.05004 to 0.04930, saving model to .\\model.h5\n",
      "1875/1875 [==============================] - 8s 4ms/step - loss: 0.0539 - sparse_categorical_accuracy: 0.9835 - val_loss: 0.0493 - val_sparse_categorical_accuracy: 0.9860 - lr: 0.0012\n",
      "Epoch 26/30\n",
      "1870/1875 [============================>.] - ETA: 0s - loss: 0.0520 - sparse_categorical_accuracy: 0.9834\n",
      "Epoch 26: val_loss did not improve from 0.04930\n",
      "1875/1875 [==============================] - 8s 4ms/step - loss: 0.0521 - sparse_categorical_accuracy: 0.9834 - val_loss: 0.0503 - val_sparse_categorical_accuracy: 0.9853 - lr: 8.2256e-04\n",
      "Epoch 27/30\n",
      "1864/1875 [============================>.] - ETA: 0s - loss: 0.0482 - sparse_categorical_accuracy: 0.9850\n",
      "Epoch 27: val_loss did not improve from 0.04930\n",
      "1875/1875 [==============================] - 7s 4ms/step - loss: 0.0484 - sparse_categorical_accuracy: 0.9850 - val_loss: 0.0500 - val_sparse_categorical_accuracy: 0.9854 - lr: 5.3184e-04\n",
      "Epoch 28/30\n",
      "1863/1875 [============================>.] - ETA: 0s - loss: 0.0475 - sparse_categorical_accuracy: 0.9853\n",
      "Epoch 28: val_loss did not improve from 0.04930\n",
      "1875/1875 [==============================] - 7s 4ms/step - loss: 0.0476 - sparse_categorical_accuracy: 0.9852 - val_loss: 0.0495 - val_sparse_categorical_accuracy: 0.9852 - lr: 3.0154e-04\n",
      "Epoch 29/30\n",
      "1862/1875 [============================>.] - ETA: 0s - loss: 0.0464 - sparse_categorical_accuracy: 0.9858\n",
      "Epoch 29: val_loss did not improve from 0.04930\n",
      "1875/1875 [==============================] - 7s 4ms/step - loss: 0.0464 - sparse_categorical_accuracy: 0.9858 - val_loss: 0.0495 - val_sparse_categorical_accuracy: 0.9853 - lr: 1.3478e-04\n",
      "Epoch 30/30\n",
      "1862/1875 [============================>.] - ETA: 0s - loss: 0.0459 - sparse_categorical_accuracy: 0.9856\n",
      "Epoch 30: val_loss did not improve from 0.04930\n",
      "1875/1875 [==============================] - 7s 4ms/step - loss: 0.0458 - sparse_categorical_accuracy: 0.9856 - val_loss: 0.0498 - val_sparse_categorical_accuracy: 0.9854 - lr: 3.3808e-05\n"
     ]
    },
    {
     "data": {
      "text/plain": [
       "<keras.callbacks.History at 0x13d4b17a7d0>"
      ]
     },
     "execution_count": 7,
     "metadata": {},
     "output_type": "execute_result"
    }
   ],
   "source": [
    "tf.keras.backend.clear_session()\n",
    "gc.collect()\n",
    "\n",
    "inputs = layers.Input(shape=x_train.shape[1:])\n",
    "\n",
    "x = inputs\n",
    "x = layers.Flatten()(x)\n",
    "for i in range(4):\n",
    "    x = layers.Dense(units=128, kernel_initializer=\"he_normal\")(x)\n",
    "    x = layers.BatchNormalization()(x)\n",
    "    x = layers.ReLU()(x)\n",
    "    x = layers.Dropout(rate=0.2)(x)\n",
    "x = layers.Dense(units=classes, kernel_initializer=\"glorot_uniform\")(x)\n",
    "x = layers.Softmax()(x)\n",
    "outputs = x\n",
    "\n",
    "model = Model(inputs=inputs, outputs=outputs)\n",
    "model.compile(\n",
    "    optimizer=optimizers.Adam(learning_rate=0.001),\n",
    "    loss=losses.SparseCategoricalCrossentropy(),\n",
    "    metrics=[metrics.SparseCategoricalAccuracy()],\n",
    ")\n",
    "\n",
    "model.summary()\n",
    "\n",
    "model.fit(\n",
    "    x=x_train,\n",
    "    y=y_train,\n",
    "    validation_data=(x_test, y_test),\n",
    "    batch_size=32,\n",
    "    epochs=30,\n",
    "    callbacks=[\n",
    "        callbacks.ModelCheckpoint(\n",
    "            filepath=\"./model.h5\",\n",
    "            monitor=\"val_loss\",\n",
    "            verbose=1,\n",
    "            save_best_only=True,\n",
    "            save_weights_only=False,\n",
    "            mode=\"auto\",\n",
    "            save_freq=\"epoch\",\n",
    "        ),\n",
    "        callbacks.LearningRateScheduler(\n",
    "            schedule=lr_scheduler,\n",
    "            verbose=0,\n",
    "        ),\n",
    "    ],\n",
    ")"
   ]
  },
  {
   "cell_type": "code",
   "execution_count": null,
   "metadata": {},
   "outputs": [],
   "source": []
  }
 ],
 "metadata": {
  "kernelspec": {
   "display_name": "Python 3",
   "language": "python",
   "name": "python3"
  },
  "language_info": {
   "codemirror_mode": {
    "name": "ipython",
    "version": 3
   },
   "file_extension": ".py",
   "mimetype": "text/x-python",
   "name": "python",
   "nbconvert_exporter": "python",
   "pygments_lexer": "ipython3",
   "version": "3.10.4"
  },
  "orig_nbformat": 4,
  "vscode": {
   "interpreter": {
    "hash": "7f4300d00c020e82d8b187928799c5c30a390be7d7de211bfbda9d77d14a6e94"
   }
  }
 },
 "nbformat": 4,
 "nbformat_minor": 2
}
