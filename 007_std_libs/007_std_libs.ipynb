{
  "cells": [
    {
      "cell_type": "markdown",
      "id": "bcbfd66d-ec55-4f2f-9187-8642d94eccbd",
      "metadata": {
        "id": "bcbfd66d-ec55-4f2f-9187-8642d94eccbd"
      },
      "source": [
        "# \u6a19\u6e96\u30e9\u30a4\u30d6\u30e9\u30ea\uff08\u826f\u304f\u4f7f\u3046\u3082\u306e\u629c\u7c8b\uff09\n",
        "\n",
        "---\n",
        "\n",
        "- ref: https://docs.python.org/ja/3/library/\n",
        "- blog: https://slash-z.com/\n",
        "- github: https://github.com/KazutoMakino/PythonCourses\n",
        "\n",
        "---"
      ]
    },
    {
      "cell_type": "markdown",
      "id": "dee50cd6-e79f-48f2-8076-4fd510ceab11",
      "metadata": {
        "id": "dee50cd6-e79f-48f2-8076-4fd510ceab11"
      },
      "source": [
        "Python \u306e\u6a19\u6e96\u30e9\u30a4\u30d6\u30e9\u30ea\u306e\u4e00\u89a7\u306f\uff0c\u516c\u5f0f\u30c9\u30ad\u30e5\u30e1\u30f3\u30c8 (https://docs.python.org/ja/3/library/) \u306e\u901a\u308a\u3067\uff0c200 \u3092\u8d85\u3048\u307e\u3059\uff0e  \n",
        "\u3082\u3061\u308d\u3093\uff0c\u5168\u3066\u4f7f\u3046\u304b\u3068\u3044\u3046\u3068\u305d\u3046\u3067\u306f\u306a\u304f\uff0c\u3084\u308a\u305f\u3044\u5185\u5bb9\u306b\u3088\u3063\u3066\u306f\u4f7f\u3046\u3082\u306e\u3060\u3063\u305f\u308a\uff0c\u5168\u304f\u4f7f\u308f\u306a\u3044\u3082\u306e\u3082\u51fa\u3066\u304d\u307e\u3059\uff0e  \n",
        "\u3055\u3089\u306b\uff0c\u826f\u304f\u4f7f\u3046\u6a19\u6e96\u30e9\u30a4\u30d6\u30e9\u30ea\u306b\u304a\u3044\u3066\u3082\uff0c\u4f7f\u3063\u305f\u3053\u3068\u304c\u7121\u3044\u3088\u3046\u306a\u30af\u30e9\u30b9\u3084\u30e1\u30bd\u30c3\u30c9\u3082\u3042\u308a\uff0c\u305f\u307e\u306b\u4f7f\u3046\u3082\u306e\u3084\u4f7f\u3063\u305f\u3053\u3068\u304c\u7121\u3044\u3082\u306e\u306f\uff0c\u5927\u4f53\u8abf\u3079\u306a\u304c\u3089\u30d7\u30ed\u30b0\u30e9\u30df\u30f3\u30b0\u3059\u308b\u306e\u304c\u5e38\u4eba\u306e\u30ec\u30d9\u30eb\u3068\u8003\u3048\u307e\u3059\uff0e  \n",
        "\u5f93\u3063\u3066\uff0c\u4eca\u56de\u306f\uff0c\u4eca\u5f8c\u30d7\u30ed\u30b0\u30e9\u30df\u30f3\u30b0\u3057\u3066\u3044\u304f\u306b\u3042\u305f\u3063\u3066\u300c\u3042\u3093\u306a\u4f7f\u3044\u65b9\u3084\u30e9\u30a4\u30d6\u30e9\u30ea\u304c\u3042\u3063\u305f\u306a\u300d\u3068\u3044\u3046\u30d2\u30f3\u30c8\u3084\u8abf\u3079\u308b\u304d\u3063\u304b\u3051\u3092\u63d0\u4f9b\u3059\u308b\u3053\u3068\u3092\u76ee\u7684\u3068\u3057\u3066\uff0c\u500b\u4eba\u7684\u306b\u3088\u304f\u4f7f\u3046\u6a19\u6e96\u30e9\u30a4\u30d6\u30e9\u30ea\u306e\u5185\uff0c\u3088\u304f\u4f7f\u3046\u4f7f\u3044\u65b9\u306b\u3064\u3044\u3066\u7d39\u4ecb\u3057\u307e\u3059\uff0e  \n",
        "\u3068\u3044\u3063\u3066\u3082\uff0c\u3088\u304f\u4f7f\u3046\u30e9\u30a4\u30d6\u30e9\u30ea\u3082\u6570\u591a\u304f\u3042\u308b\u306e\u3067\uff0c\u305d\u306e\u4e2d\u304b\u3089\uff0c\u4ee5\u4e0b\u306e\uff0c\u7279\u306b\u826f\u304f\u4f7f\u3063\u3066\u3044\u308b\u30e9\u30a4\u30d6\u30e9\u30ea\u306b\u3064\u3044\u3066\u8a18\u8f09\u3059\u308b\u3053\u3068\u3068\u3057\u307e\u3059\uff0e  \n",
        "\u4ee5\u4e0b\u3067\u7d39\u4ecb\u3057\u306a\u3044\u30e9\u30a4\u30d6\u30e9\u30ea\u306b\u3064\u3044\u3066\u306f\uff0c\u5fc5\u8981\u306b\u5fdc\u3058\u3066\u53c2\u7167\u304f\u3060\u3055\u3044\uff0e"
      ]
    },
    {
      "cell_type": "markdown",
      "id": "e9354c32-a2f9-4a53-9ab0-09f19bd990cb",
      "metadata": {
        "id": "e9354c32-a2f9-4a53-9ab0-09f19bd990cb"
      },
      "source": [
        "\u7279\u306b\u826f\u304f\u4f7f\u3063\u3066\u3044\u308b\u6a19\u6e96\u30e9\u30a4\u30d6\u30e9\u30ea\uff08\u3053\u306e\u8a18\u4e8b\u306b\u3066\u7d39\u4ecb\uff09:\n",
        "- pathlib (https://docs.python.org/ja/3/library/pathlib.html) \u30fb\u30fb\u30fb\u30fb\u30d5\u30a1\u30a4\u30eb\uff0f\u30c7\u30a3\u30ec\u30af\u30c8\u30ea\u30d1\u30b9\u3092\u6271\u3046\n",
        "- shutil (https://docs.python.org/ja/3/library/shutil.html) \u30fb\u30fb\u30fb\u30fb\u30d5\u30a1\u30a4\u30eb\u306e\u79fb\u52d5\u3084\u30b3\u30d4\u30fc\uff0c\u5727\u7e2e\uff0f\u5c55\u958b\u306a\u3069\u306e\u64cd\u4f5c\n",
        "- time (https://docs.python.org/ja/3/library/time.html) \u30fb\u30fb\u30fb\u30fb\u6642\u9593\u8a08\u6e2c\u306a\u3069\n",
        "- datetime (https://docs.python.org/ja/3/library/datetime.html) \u30fb\u30fb\u30fb\u30fb\u65e5\u4ed8\uff0f\u6642\u5dee\u53d6\u5f97\u306a\u3069"
      ]
    },
    {
      "cell_type": "markdown",
      "id": "74a467af-8261-4538-ac92-c5224857e97d",
      "metadata": {
        "id": "74a467af-8261-4538-ac92-c5224857e97d"
      },
      "source": [
        "\u826f\u304f\u4f7f\u3063\u3066\u3044\u308b\u6a19\u6e96\u30e9\u30a4\u30d6\u30e9\u30ea:\n",
        "- json (https://docs.python.org/ja/3/library/json.html) \u30fb\u30fb\u30fb\u30fbjson \u30d5\u30a1\u30a4\u30eb\uff0f\u30aa\u30d6\u30b8\u30a7\u30af\u30c8\u306e\u751f\u6210\u306a\u3069\u306e\u64cd\u4f5c\n",
        "- gc (https://docs.python.org/ja/3/library/gc.html) \u30fb\u30fb\u30fb\u30fb\u30ac\u30d9\u30fc\u30b8\u30b3\u30ec\u30af\u30bf\uff08\u30d7\u30ed\u30b0\u30e9\u30e0\u5b9f\u884c\u4e2d\u306b\u52d5\u7684\u306b\u78ba\u4fdd\u3057\u4e0d\u8981\u306b\u306a\u3063\u305f\u30e1\u30e2\u30ea\u9818\u57df\u3092\u89e3\u653e\uff09\n",
        "- random (https://docs.python.org/ja/3/library/random.html) \u30fb\u30fb\u30fb\u30fb\u4e71\u6570\u3092\u6271\u3046\n",
        "- math (https://docs.python.org/ja/3/library/math.html) \u30fb\u30fb\u30fb\u30fb\u6570\u5b66\u95a2\u6570\u3092\u6271\u3046\n",
        "- statistics (https://docs.python.org/ja/3/library/statistics.html) \u30fb\u30fb\u30fb\u30fb\u7d71\u8a08\u51e6\u7406\u3092\u884c\u3046\n",
        "- logging (https://docs.python.org/ja/3/library/logging.html) \u30fb\u30fb\u30fb\u30fb\u30ed\u30b0\u751f\u6210\u306b\u7528\u3044\u308b\n",
        "- typing (https://docs.python.org/ja/3/library/typing.html) \u30fb\u30fb\u30fb\u30fb\u578b\u30d2\u30f3\u30c8\u306b\u7528\u3044\u305f\u308a\uff0c\u578b\u3092\u660e\u793a\u7684\u306b\u3059\u308b\u3053\u3068\u306b\u3088\u308a\uff0c\u30a8\u30c7\u30a3\u30bf\u306e\u88dc\u5b8c\u3084\u4e88\u6e2c\u5909\u63db\u6a5f\u80fd\u304c\u5f37\u5316\u3055\u308c\u308b\n",
        "- argparse (https://docs.python.org/ja/3/library/argparse.html) \u30fb\u30fb\u30fb\u30fb\u30b3\u30de\u30f3\u30c9\u30e9\u30a4\u30f3\u5f15\u6570\u3084\u30d1\u30fc\u30b5\u30fc\u306e\u751f\u6210\uff0f\u5f37\u5316\u306b\u7528\u3044\u308b\uff08\u30b9\u30af\u30ea\u30d7\u30c8\u306e\u591a\u6a5f\u80fd\u5316\uff09\n",
        "- pprint (https://docs.python.org/ja/3/library/pprint.html) \u30fb\u30fb\u30fb\u30fbprint \u3088\u308a\u3082\u3088\u308a\u7dba\u9e97\u306b\u51fa\u529b\u3055\u305b\u308b\uff08\u4f8b\u3048\u3070\u8f9e\u66f8\u578b\u3092\u30ad\u30fc\u3068\u5024\u306e\u30bb\u30c3\u30c8\u3092\u51fa\u529b\u3059\u308b\u969b\u306b\u898b\u3084\u3059\u304f\u3059\u308b\u306a\u3069\uff09\n",
        "- sys (https://docs.python.org/ja/3/library/sys.html) \u30fb\u30fb\u30fb\u30fb\u4e3b\u306b\u30b7\u30b9\u30c6\u30e0\u3092\u64cd\u4f5c\n",
        "- pickle (https://docs.python.org/ja/3/library/pickle.html) \u30fb\u30fb\u30fb\u30fb\u30aa\u30d6\u30b8\u30a7\u30af\u30c8\u306e\u76f4\u5217\u5316\uff08\u8aad\u307f\u66f8\u304d\u304c\u9ad8\u901f\u3067\uff0c\u5727\u7e2e\u3082\u53ef\u80fd\u306a\u30d0\u30a4\u30ca\u30ea\u30d5\u30a1\u30a4\u30eb .pickle \u306e\u64cd\u4f5c\u306a\u3069\uff09"
      ]
    },
    {
      "cell_type": "markdown",
      "id": "d232d6f7-e2d1-46a1-b3e1-6144b3908e52",
      "metadata": {
        "id": "d232d6f7-e2d1-46a1-b3e1-6144b3908e52"
      },
      "source": [
        "\u305f\u307e\u306b\u4f7f\u3046\u6a19\u6e96\u30e9\u30a4\u30d6\u30e9\u30ea:\n",
        "- glob (https://docs.python.org/ja/3/library/glob.html) \u30fb\u30fb\u30fb\u30fb\u30ef\u30a4\u30eb\u30c9\u30ab\u30fc\u30c9\u306a\u3069\u3092\u7528\u3044\u305f\u30d1\u30b9\u306e\u30d1\u30bf\u30fc\u30f3\u30de\u30c3\u30c1\u30f3\u30b0\uff08pathlib.Path.glob \u3067\u4ee3\u7528\u306e\u305f\u3081\uff0c\u3042\u307e\u308a\u7528\u3044\u306a\u3044\uff09\n",
        "- os (https://docs.python.org/ja/3/library/os.html) \u30fb\u30fb\u30fb\u30fbOS \u306e\u6a5f\u80fd\u306e\u30b5\u30dd\u30fc\u30c8\uff08\u30d1\u30b9\u3084\u74b0\u5883\u5909\u6570\u3092\u53d6\u5f97\u3059\u308b\u306a\u3069\uff0e\u30d1\u30b9\u306b\u3064\u3044\u3066\u306f pathlib \u3092\u826f\u304f\u7528\u3044\u308b\u305f\u3081\uff0c\u500b\u4eba\u7684\u306a os \u306e\u4f7f\u7528\u983b\u5ea6\u306f\u4f4e\u3044\uff0e\uff09\n",
        "- re (https://docs.python.org/ja/3/library/re.html) \u30fb\u30fb\u30fb\u30fb\u6b63\u898f\u8868\u73fe\uff0f\u30d1\u30bf\u30fc\u30f3\u30de\u30c3\u30c1\u30f3\u30b0\n",
        "- traceback (https://docs.python.org/ja/3/library/traceback.html) \u30fb\u30fb\u30fb\u30fb\u30b9\u30bf\u30c3\u30af\u30c8\u30ec\u30fc\u30b9\uff08\u30d7\u30ed\u30b0\u30e9\u30e0\u30a8\u30e9\u30fc\u306e\u30e1\u30c3\u30bb\u30fc\u30b8\uff09\u306e\u8868\u793a\n",
        "- subprocess (https://docs.python.org/ja/3/library/subprocess.html) \u30fb\u30fb\u30fb\u30fbpython \u30b9\u30af\u30ea\u30d7\u30c8\u304b\u3089\u30b3\u30de\u30f3\u30c9\u30e9\u30a4\u30f3\u3092\u5b9f\u884c\n",
        "- tempfile (https://docs.python.org/ja/3/library/tempfile.html) \u30fb\u30fb\u30fb\u30fb\u4e00\u6642\u7684\u306a\u30d5\u30a1\u30a4\u30eb\uff0f\u30c7\u30a3\u30ec\u30af\u30c8\u30ea\u3092\u751f\u6210\u3057\uff0f\u524a\u9664\n",
        "- itertools (https://docs.python.org/ja/3/library/itertools.html) \u30fb\u30fb\u30fb\u30fb\u8272\u3005\u306a\u30a4\u30c6\u30ec\u30fc\u30bf\u4f5c\u6210\n",
        "- functools (https://docs.python.org/ja/3/library/functools.html) \u30fb\u30fb\u30fb\u30fb\u95a2\u6570\u3084\u5f15\u6570\u3092\u67d4\u8edf\u306b\u547c\u3073\u51fa\u3059\u3053\u3068\u304c\u3067\u304d\u308b\n",
        "- gzip (https://docs.python.org/ja/3/library/gzip.html) \u30fb\u30fb\u30fb\u30fb`.gz` \u30d5\u30a1\u30a4\u30eb\u64cd\u4f5c\n",
        "- zipfile (https://docs.python.org/ja/3/library/zipfile.html) \u30fb\u30fb\u30fb\u30fb`.zip` \u30d5\u30a1\u30a4\u30eb\u64cd\u4f5c\n",
        "- tarfile (https://docs.python.org/ja/3/library/tarfile.html) \u30fb\u30fb\u30fb\u30fb`.tar`, `.tar.gz`, `.tgz` \u30d5\u30a1\u30a4\u30eb\u64cd\u4f5c\n",
        "- csv (https://docs.python.org/ja/3/library/csv.html) \u30fb\u30fb\u30fb\u30fb`.csv` \u30d5\u30a1\u30a4\u30eb\u64cd\u4f5c\n",
        "- copy (https://docs.python.org/ja/3/library/copy.html) \u30fb\u30fb\u30fb\u30fb\u6d45\u3044\u30b3\u30d4\u30fc\uff08\u30aa\u30d6\u30b8\u30a7\u30af\u30c8\u306e\u53c2\u7167\uff09\u3068\u6df1\u3044\u30b3\u30d4\u30fc\uff08\u540c\u3058\u5024\u3092\u6301\u3064\u5168\u304f\u5225\u30aa\u30d6\u30b8\u30a7\u30af\u30c8\uff09\u306e\u751f\u6210\n",
        "\n",
        "\u3042\u307e\u308a\u4f7f\u308f\u306a\u3044\u6a19\u6e96\u30e9\u30a4\u30d6\u30e9\u30ea\u30fb\u30fb\u30fb\u30fb\u305d\u308c\u4ee5\u5916\u306f\u7701\u7565"
      ]
    },
    {
      "cell_type": "markdown",
      "id": "9b2f9e61-a956-4f50-9427-79a65894631c",
      "metadata": {
        "id": "9b2f9e61-a956-4f50-9427-79a65894631c"
      },
      "source": [
        "## \u30e9\u30a4\u30d6\u30e9\u30ea\u3084\u30e2\u30b8\u30e5\u30fc\u30eb\u306e\u547c\u3073\u51fa\u3057\u65b9\u6cd5"
      ]
    },
    {
      "cell_type": "markdown",
      "id": "fcb540f1-7f61-4330-8b9c-8a58a868ddf2",
      "metadata": {
        "id": "fcb540f1-7f61-4330-8b9c-8a58a868ddf2"
      },
      "source": [
        "\u4f8b\u3048\u3070 C \u8a00\u8a9e\u3067\u306f\uff0c\u6a19\u6e96\u5165\u51fa\u529b\u95a2\u6570\u306e\u30d8\u30c3\u30c0\u30d5\u30a1\u30a4\u30eb `stdio.h` \u3092 `#include <stdio.h>` \u306b\u3066\u30a4\u30f3\u30af\u30eb\u30fc\u30c9\u3057\u305f\u5834\u5408\u306b\u306f\uff0c`stdio.h` \u306b\u3066\u5b9a\u7fa9\u3055\u308c\u3066\u3044\u308b `printf` \u3084\u3089 `scanf` \u306a\u3069\u305d\u306e\u4ed6\u3082\u308d\u3082\u308d\u306e\u578b\uff0f\u5b9a\u7fa9\uff0f\u95a2\u6570\uff0f\u30de\u30af\u30ed\u306a\u3069\u304c\u3044\u304d\u306a\u308a\u4f7f\u3048\u308b\u3088\u3046\u306b\u306a\u308a\u307e\u3059\u304c\uff0c\u4f8b\u3048\u3070 `printf` \u306a\u3069\u4f7f\u3044\u305f\u3044\u5b9a\u7fa9\u306b\u3064\u3044\u3066 `stdio.h` \u306b\u5185\u5305\u3055\u308c\u3066\u3044\u308b\u3053\u3068\u3092\u77e5\u3063\u3066\u3044\u308b\u5fc5\u8981\u304c\u3042\u308a\u307e\u3059\uff0e  \n",
        "\u3057\u304b\u3057\uff0cpython \u3067\u306f\u305d\u306e\u5fc3\u914d\u306f\u3042\u308a\u307e\u305b\u3093\uff0e  \n",
        "`import` \u306b\u3088\u3063\u3066\u5ba3\u8a00\u3055\u308c\u305f\u30e2\u30b8\u30e5\u30fc\u30eb\u306e\u95a2\u6570\u3084\u30af\u30e9\u30b9\u3092\u53c2\u7167\u3059\u308b\u305f\u3081\u306b\u306f\uff0c\u3053\u306e\u30e2\u30b8\u30e5\u30fc\u30eb\u306e\u540d\u524d\u304c\u51fa\u3066\u304f\u308b\u305f\u3081\uff0c\u300c\u3042\u308b\u7279\u5b9a\u306e\u95a2\u6570\u304c\u3069\u306e\u5ba3\u8a00\u3068\u7d10\u3065\u3044\u3066\u3044\u308b\u304b\u5206\u304b\u3089\u306a\u304f\u306a\u308b\u300d\u3068\u3044\u3046\u3053\u3068\u304c\u306a\u304f\u306a\u308a\u307e\u3059\uff0e  \n",
        "\u500b\u4eba\u7684\u306b\uff0c\u81f3\u6975\u7d0d\u5f97\u306e\u3044\u304f\u8a00\u8a9e\u4ed5\u69d8\u3067\u3059\uff0e  \n",
        "\uff08\u4f59\u8ac7\u3067\u3059\u304c\uff0cC \u8a00\u8a9e\u306b\u3066 `#include <stdio.h>` \u3068\u3059\u308b\u3068\uff0c`stdio.h` \u5185\u306e\u30de\u30af\u30ed\u306a\u3069\u304c\u547c\u3073\u51fa\u3055\u308c\u307e\u3059\u304c\uff0c\u305d\u306e\u5185\u306e\u4e00\u3064\u306e `stdout` \u306e\u4e2d\u8eab\u306b `printf` \u304c\u3042\u308b\u305f\u3081\uff0c`printf` \u304c\u4f7f\u3048\u308b\u3088\u3046\u306b\u306a\u308a\u307e\u3059 (\u53c2\u8003: http://www.c-lang.org/detail/stdio_h.html )\uff0e\u3053\u308c\u304c\uff0c\u521d\u5b66\u8005\u306b\u82e6\u3057\u7d1b\u308c\u3067\u6559\u3048\u3089\u308c\u308b\u3088\u3046\u306a\u300c\u304a\u307e\u3058\u306a\u3044\u300d\u306e\u672c\u8cea\u3067\u3059\uff0e\uff09  \n",
        "\n",
        "\u30e9\u30a4\u30d6\u30e9\u30ea\u3084\u30e2\u30b8\u30e5\u30fc\u30eb\u306f\uff0c\u6b21\u306e\u3088\u3046\u306a\u69cb\u6587\u3067\u547c\u3073\u51fa\u3057\u307e\u3059\uff0e"
      ]
    },
    {
      "cell_type": "markdown",
      "id": "9cc8131b-6825-4403-b7ae-1a5eab90d11b",
      "metadata": {
        "id": "9cc8131b-6825-4403-b7ae-1a5eab90d11b"
      },
      "source": [
        "```\n",
        "import \u30e2\u30b8\u30e5\u30fc\u30eb as \u4ee3\u66ff\u3059\u308b\u4f7f\u7528\u3057\u305f\u3044\u540d\u524d\n",
        " \u307e\u305f\u306f\uff0c\n",
        "import \u30e2\u30b8\u30e5\u30fc\u30eb.\u30e2\u30b8\u30e5\u30fc\u30eb\u306e\u95a2\u6570\u3084\u30af\u30e9\u30b9 as \u4ee3\u66ff\u3059\u308b\u4f7f\u7528\u3057\u305f\u3044\u540d\u524d\n",
        " \u307e\u305f\u306f\uff0c\n",
        "from \u30e2\u30b8\u30e5\u30fc\u30eb import \u30e2\u30b8\u30e5\u30fc\u30eb\u306e\u95a2\u6570\u3084\u30af\u30e9\u30b9 as \u4ee3\u66ff\u3059\u308b\u4f7f\u7528\u3057\u305f\u3044\u540d\u524d\n",
        "```"
      ]
    },
    {
      "cell_type": "markdown",
      "id": "61858e30-fd43-4b6f-a8e6-edf0164fca8b",
      "metadata": {
        "id": "61858e30-fd43-4b6f-a8e6-edf0164fca8b"
      },
      "source": [
        "\u4e0a\u8a18\u306e `as` \u4ee5\u964d\u306f\u3042\u3063\u3066\u3082\u306a\u304f\u3066\u3082\u826f\u304f\uff0c\u30e2\u30b8\u30e5\u30fc\u30eb\u540d\u306a\u3069\u3092\u7701\u7565\u540d\u79f0\u3067\u7528\u3044\u305f\u3044\u6642\u306b\u4f7f\u3044\u307e\u3059\uff0e  \n",
        "import \u3055\u308c\u305f\u30e2\u30b8\u30e5\u30fc\u30eb\u306f\u4ee5\u4e0b\u306e\u3088\u3046\u306b\u7528\u3044\u307e\u3059\uff0e"
      ]
    },
    {
      "cell_type": "markdown",
      "id": "d1a3d15e-15b2-4622-9a18-591125be0059",
      "metadata": {
        "id": "d1a3d15e-15b2-4622-9a18-591125be0059"
      },
      "source": [
        "```\n",
        "\u30e2\u30b8\u30e5\u30fc\u30eb\uff08\u307e\u305f\u306f as \u3067\u5b9a\u7fa9\u3057\u305f\u540d\u524d\uff09.\u305d\u306e\u30af\u30e9\u30b9\u3084\u95a2\u6570\n",
        "```"
      ]
    },
    {
      "cell_type": "markdown",
      "id": "09f52ec5-0d7f-4915-a869-a0c4e699a865",
      "metadata": {
        "id": "09f52ec5-0d7f-4915-a869-a0c4e699a865"
      },
      "source": [
        "\u3053\u306e\u3088\u3046\u306b\uff0c\u30e2\u30b8\u30e5\u30fc\u30eb\u540d\u3068\u305d\u306e\u4e2d\u8eab\u3092\u30c9\u30c3\u30c8 \".\" \u3067\u3064\u306a\u3052\u308b\u3060\u3051\u3067\u3059\uff0e  \n",
        "\u3068\u306f\u3044\u3063\u3066\u3082\uff0c\u65e5\u672c\u8a9e\u3067\u66f8\u304f\u3068\u826f\u304f\u5206\u304b\u3089\u306a\u3044\u3068\u601d\u3046\u306e\u3067\uff0c\u4ee5\u4e0b\uff0c\u7d39\u4ecb\u3068\u3068\u3082\u306b\u4f8b\u3092\u6319\u3052\u3066\u3044\u304d\u307e\u3059\uff0e"
      ]
    },
    {
      "cell_type": "markdown",
      "id": "f3e31904-215f-49a2-8f30-9455e2a3bcb4",
      "metadata": {
        "id": "f3e31904-215f-49a2-8f30-9455e2a3bcb4"
      },
      "source": [
        "## pathlib"
      ]
    },
    {
      "cell_type": "markdown",
      "id": "55ae509a-28d8-49c8-b82a-04692119d59f",
      "metadata": {
        "id": "55ae509a-28d8-49c8-b82a-04692119d59f"
      },
      "source": [
        "pathlib (https://docs.python.org/ja/3/library/pathlib.html) \u306f\uff0c\u30d5\u30a1\u30a4\u30eb\uff0f\u30c7\u30a3\u30ec\u30af\u30c8\u30ea\u30d1\u30b9\u3092\u6271\u3046\u6a19\u6e96\u30e9\u30a4\u30d6\u30e9\u30ea\u3067\u3059\uff0e  \n",
        "\u4e00\u822c\u7684\u306a\u30d5\u30a1\u30a4\u30eb\u64cd\u4f5c\u5168\u822c\u306b\u5bfe\u3057\u3066\u7528\u3044\u3066\u3044\u307e\u3059\uff0e  \n",
        "pathlib \u306f Path \u30af\u30e9\u30b9\u3068\u305d\u306e\u30e1\u30bd\u30c3\u30c9\u3092\u7528\u3044\u308b\u3053\u3068\u304c\u307b\u3068\u3093\u3069\u3067\u3059\uff0e  \n",
        "\u4ee5\u4e0b\u306b import \u3068\u57fa\u672c\u7684\u306a\u4f7f\u3044\u65b9\u306b\u3064\u3044\u3066\u7d39\u4ecb\u3057\u307e\u3059\uff0e"
      ]
    },
    {
      "cell_type": "code",
      "execution_count": 1,
      "id": "736fbf04-fb7f-4265-bd91-c362b6986da9",
      "metadata": {
        "executionInfo": {
          "elapsed": 10,
          "status": "ok",
          "timestamp": 1644458946803,
          "user": {
            "displayName": "\u7267\u91ce\u548c\u4eba",
            "photoUrl": "https://lh3.googleusercontent.com/a-/AOh14Gjyd3FHYOlMMy8Ivf6WXppXWT9aVT60lz8_wvq2=s64",
            "userId": "05737379578593904589"
          },
          "user_tz": -540
        },
        "id": "736fbf04-fb7f-4265-bd91-c362b6986da9"
      },
      "outputs": [],
      "source": [
        "from pathlib import Path"
      ]
    },
    {
      "cell_type": "markdown",
      "id": "15cff93b-87d9-4106-83db-befb3d233aa0",
      "metadata": {
        "id": "15cff93b-87d9-4106-83db-befb3d233aa0"
      },
      "source": [
        "Path(\u30d1\u30b9\u6587\u5b57\u5217) \u3068\u3044\u3046\u3088\u3046\u306b\uff0cPath \u30af\u30e9\u30b9\u306b\u30d1\u30b9\u6587\u5b57\u5217\u3092\u6e21\u3057\u3066\u5404\u7a2e\u30e1\u30bd\u30c3\u30c9\u3092\u9069\u7528\u3057\u3066\u3044\u304d\u307e\u3059\uff0e  \n",
        "\u4f8b\u3048\u3070\uff0c\u4eca\u306e\u30c7\u30a3\u30ec\u30af\u30c8\u30ea\u30d1\u30b9 \"./\" \u3092\u6307\u5b9a\u3059\u308b\u3068\uff0c"
      ]
    },
    {
      "cell_type": "code",
      "execution_count": 2,
      "id": "44f3ad49-3a07-4c86-a8a7-bbbeba8cda3c",
      "metadata": {
        "colab": {
          "base_uri": "https://localhost:8080/"
        },
        "executionInfo": {
          "elapsed": 9,
          "status": "ok",
          "timestamp": 1644458946804,
          "user": {
            "displayName": "\u7267\u91ce\u548c\u4eba",
            "photoUrl": "https://lh3.googleusercontent.com/a-/AOh14Gjyd3FHYOlMMy8Ivf6WXppXWT9aVT60lz8_wvq2=s64",
            "userId": "05737379578593904589"
          },
          "user_tz": -540
        },
        "id": "44f3ad49-3a07-4c86-a8a7-bbbeba8cda3c",
        "outputId": "b880798d-6063-4848-9b10-0b5ab22499d1"
      },
      "outputs": [
        {
          "data": {
            "text/plain": [
              "WindowsPath('.')"
            ]
          },
          "execution_count": 2,
          "metadata": {},
          "output_type": "execute_result"
        }
      ],
      "source": [
        "pwd = Path(\"./\")\n",
        "pwd"
      ]
    },
    {
      "cell_type": "code",
      "execution_count": 3,
      "id": "f7c93ec1-676e-4b0c-816e-df0ab191fb32",
      "metadata": {
        "colab": {
          "base_uri": "https://localhost:8080/"
        },
        "executionInfo": {
          "elapsed": 5,
          "status": "ok",
          "timestamp": 1644458949808,
          "user": {
            "displayName": "\u7267\u91ce\u548c\u4eba",
            "photoUrl": "https://lh3.googleusercontent.com/a-/AOh14Gjyd3FHYOlMMy8Ivf6WXppXWT9aVT60lz8_wvq2=s64",
            "userId": "05737379578593904589"
          },
          "user_tz": -540
        },
        "id": "f7c93ec1-676e-4b0c-816e-df0ab191fb32",
        "outputId": "2d5f1f6c-c355-428f-e4ae-abcfb2fad95d"
      },
      "outputs": [
        {
          "data": {
            "text/plain": [
              "pathlib.WindowsPath"
            ]
          },
          "execution_count": 3,
          "metadata": {},
          "output_type": "execute_result"
        }
      ],
      "source": [
        "type(pwd)"
      ]
    },
    {
      "cell_type": "markdown",
      "id": "51b61220-3ad1-41b1-963b-04d130d24a50",
      "metadata": {
        "id": "51b61220-3ad1-41b1-963b-04d130d24a50"
      },
      "source": [
        "\u3068\u3044\u3046\u3088\u3046\u306b\uff0c\u76f8\u5bfe\u30d1\u30b9\u304c\u5f97\u3089\u308c\u307e\u3059\uff0e  \n",
        "\u5b9f\u884c\u74b0\u5883\u304c windows \u306a\u306e\u3067\uff0cpathlib.WindowsPath \u578b\u3068\u306a\u3063\u3066\u3044\u307e\u3059\uff0e  \n",
        "\u7d76\u5bfe\u30d1\u30b9\u306f\uff0cresolve \u30e1\u30bd\u30c3\u30c9\u3067\u5f97\u308b\u3053\u3068\u304c\u3067\u304d\u307e\u3059\uff0e"
      ]
    },
    {
      "cell_type": "code",
      "execution_count": 4,
      "id": "d5d60397-86c7-4ca6-9f38-f2f9998d0b7f",
      "metadata": {
        "colab": {
          "base_uri": "https://localhost:8080/"
        },
        "executionInfo": {
          "elapsed": 11,
          "status": "ok",
          "timestamp": 1644458950815,
          "user": {
            "displayName": "\u7267\u91ce\u548c\u4eba",
            "photoUrl": "https://lh3.googleusercontent.com/a-/AOh14Gjyd3FHYOlMMy8Ivf6WXppXWT9aVT60lz8_wvq2=s64",
            "userId": "05737379578593904589"
          },
          "user_tz": -540
        },
        "id": "d5d60397-86c7-4ca6-9f38-f2f9998d0b7f",
        "outputId": "3905ce93-76db-442b-9918-8dff2c9147a4"
      },
      "outputs": [
        {
          "data": {
            "text/plain": [
              "WindowsPath('C:/Users/Kazuto/Documents/code/PythonCourse/007_std_libs')"
            ]
          },
          "execution_count": 4,
          "metadata": {},
          "output_type": "execute_result"
        }
      ],
      "source": [
        "pwd.resolve()"
      ]
    },
    {
      "cell_type": "markdown",
      "id": "9ec3032e-1be8-4533-a45c-51e9e512778c",
      "metadata": {
        "id": "9ec3032e-1be8-4533-a45c-51e9e512778c"
      },
      "source": [
        "\u65b0\u3057\u304f\u30d5\u30a1\u30a4\u30eb\u3092\u4f5c\u6210\u3059\u308b\u3068\u304d\u306f\uff0ctouch \u30e1\u30bd\u30c3\u30c9\u3092\u7528\u3044\u307e\u3059\uff0e"
      ]
    },
    {
      "cell_type": "code",
      "execution_count": 5,
      "id": "2a5c06b8-1734-4102-a393-992913d06703",
      "metadata": {
        "executionInfo": {
          "elapsed": 28,
          "status": "ok",
          "timestamp": 1644458954017,
          "user": {
            "displayName": "\u7267\u91ce\u548c\u4eba",
            "photoUrl": "https://lh3.googleusercontent.com/a-/AOh14Gjyd3FHYOlMMy8Ivf6WXppXWT9aVT60lz8_wvq2=s64",
            "userId": "05737379578593904589"
          },
          "user_tz": -540
        },
        "id": "2a5c06b8-1734-4102-a393-992913d06703"
      },
      "outputs": [],
      "source": [
        "new_item = Path(\"./new_item.txt\")\n",
        "new_item.touch()"
      ]
    },
    {
      "cell_type": "markdown",
      "id": "d6b60313-5ee4-481f-8b9c-fc79263e2d0a",
      "metadata": {
        "id": "d6b60313-5ee4-481f-8b9c-fc79263e2d0a"
      },
      "source": [
        "\u6307\u5b9a\u3057\u305f\u30d1\u30b9\u304c\u5b58\u5728\u3059\u308b\u304b\u3069\u3046\u304b\u306f\uff0cexists \u30e1\u30bd\u30c3\u30c9\u3067\u78ba\u8a8d\u3067\u304d\u307e\u3059\uff0e"
      ]
    },
    {
      "cell_type": "code",
      "execution_count": 6,
      "id": "37d6fe17-31c9-4abb-8b3d-f100add1e091",
      "metadata": {
        "colab": {
          "base_uri": "https://localhost:8080/"
        },
        "executionInfo": {
          "elapsed": 594,
          "status": "ok",
          "timestamp": 1644458974634,
          "user": {
            "displayName": "\u7267\u91ce\u548c\u4eba",
            "photoUrl": "https://lh3.googleusercontent.com/a-/AOh14Gjyd3FHYOlMMy8Ivf6WXppXWT9aVT60lz8_wvq2=s64",
            "userId": "05737379578593904589"
          },
          "user_tz": -540
        },
        "id": "37d6fe17-31c9-4abb-8b3d-f100add1e091",
        "outputId": "5a1c1b5a-58b0-413f-e1be-13a23f3a2ae9"
      },
      "outputs": [
        {
          "data": {
            "text/plain": [
              "True"
            ]
          },
          "execution_count": 6,
          "metadata": {},
          "output_type": "execute_result"
        }
      ],
      "source": [
        "new_item.exists()"
      ]
    },
    {
      "cell_type": "markdown",
      "id": "3656697d-971a-4450-b656-63a11481da4c",
      "metadata": {
        "id": "3656697d-971a-4450-b656-63a11481da4c"
      },
      "source": [
        "\u65b0\u3057\u304f\u30c7\u30a3\u30ec\u30af\u30c8\u30ea\u3092\u4f5c\u6210\u3059\u308b\u3068\u304d\u306f\uff0cmkdir \u30e1\u30bd\u30c3\u30c9\u3092\u7528\u3044\u307e\u3059\uff0e"
      ]
    },
    {
      "cell_type": "code",
      "execution_count": 7,
      "id": "98072386-8092-4e4f-b857-60032eaa2cd0",
      "metadata": {
        "id": "98072386-8092-4e4f-b857-60032eaa2cd0"
      },
      "outputs": [],
      "source": [
        "new_dir = Path(\"./new_dir\")\n",
        "new_dir.mkdir()"
      ]
    },
    {
      "cell_type": "code",
      "execution_count": 8,
      "id": "18240f63-580d-4078-a85b-cc9a252429f9",
      "metadata": {
        "id": "18240f63-580d-4078-a85b-cc9a252429f9",
        "outputId": "1162a9cb-18b6-424f-ce88-8daadbaa1298"
      },
      "outputs": [
        {
          "data": {
            "text/plain": [
              "True"
            ]
          },
          "execution_count": 8,
          "metadata": {},
          "output_type": "execute_result"
        }
      ],
      "source": [
        "new_dir.exists()"
      ]
    },
    {
      "cell_type": "markdown",
      "id": "2bda29d8-2f9d-4863-9b41-59e074f4d641",
      "metadata": {
        "id": "2bda29d8-2f9d-4863-9b41-59e074f4d641"
      },
      "source": [
        "\u4ee5\u4e0b\u306e\u3088\u3046\u306b\u3082\u3046\u4e00\u5ea6\u4f5c\u6210\u3057\u3088\u3046\u3068\u3059\u308b\u3068\uff0cFileExistsError \u304c\u51fa\u307e\u3059\uff0e"
      ]
    },
    {
      "cell_type": "code",
      "execution_count": 9,
      "id": "79536545-4c39-4777-902c-8210a731408f",
      "metadata": {
        "id": "79536545-4c39-4777-902c-8210a731408f",
        "outputId": "a658befe-7d9f-4cb7-f79b-daed3195f8ef"
      },
      "outputs": [
        {
          "ename": "FileExistsError",
          "evalue": "[WinError 183] \u65e2\u306b\u5b58\u5728\u3059\u308b\u30d5\u30a1\u30a4\u30eb\u3092\u4f5c\u6210\u3059\u308b\u3053\u3068\u306f\u3067\u304d\u307e\u305b\u3093\u3002: 'new_dir'",
          "output_type": "error",
          "traceback": [
            "\u001b[1;31m---------------------------------------------------------------------------\u001b[0m",
            "\u001b[1;31mFileExistsError\u001b[0m                           Traceback (most recent call last)",
            "\u001b[1;32m~\\AppData\\Local\\Temp/ipykernel_12160/3877270268.py\u001b[0m in \u001b[0;36m<module>\u001b[1;34m\u001b[0m\n\u001b[1;32m----> 1\u001b[1;33m \u001b[0mnew_dir\u001b[0m\u001b[1;33m.\u001b[0m\u001b[0mmkdir\u001b[0m\u001b[1;33m(\u001b[0m\u001b[1;33m)\u001b[0m\u001b[1;33m\u001b[0m\u001b[1;33m\u001b[0m\u001b[0m\n\u001b[0m",
            "\u001b[1;32m~\\AppData\\Local\\Programs\\Python\\Python38\\lib\\pathlib.py\u001b[0m in \u001b[0;36mmkdir\u001b[1;34m(self, mode, parents, exist_ok)\u001b[0m\n\u001b[0;32m   1286\u001b[0m             \u001b[0mself\u001b[0m\u001b[1;33m.\u001b[0m\u001b[0m_raise_closed\u001b[0m\u001b[1;33m(\u001b[0m\u001b[1;33m)\u001b[0m\u001b[1;33m\u001b[0m\u001b[1;33m\u001b[0m\u001b[0m\n\u001b[0;32m   1287\u001b[0m         \u001b[1;32mtry\u001b[0m\u001b[1;33m:\u001b[0m\u001b[1;33m\u001b[0m\u001b[1;33m\u001b[0m\u001b[0m\n\u001b[1;32m-> 1288\u001b[1;33m             \u001b[0mself\u001b[0m\u001b[1;33m.\u001b[0m\u001b[0m_accessor\u001b[0m\u001b[1;33m.\u001b[0m\u001b[0mmkdir\u001b[0m\u001b[1;33m(\u001b[0m\u001b[0mself\u001b[0m\u001b[1;33m,\u001b[0m \u001b[0mmode\u001b[0m\u001b[1;33m)\u001b[0m\u001b[1;33m\u001b[0m\u001b[1;33m\u001b[0m\u001b[0m\n\u001b[0m\u001b[0;32m   1289\u001b[0m         \u001b[1;32mexcept\u001b[0m \u001b[0mFileNotFoundError\u001b[0m\u001b[1;33m:\u001b[0m\u001b[1;33m\u001b[0m\u001b[1;33m\u001b[0m\u001b[0m\n\u001b[0;32m   1290\u001b[0m             \u001b[1;32mif\u001b[0m \u001b[1;32mnot\u001b[0m \u001b[0mparents\u001b[0m \u001b[1;32mor\u001b[0m \u001b[0mself\u001b[0m\u001b[1;33m.\u001b[0m\u001b[0mparent\u001b[0m \u001b[1;33m==\u001b[0m \u001b[0mself\u001b[0m\u001b[1;33m:\u001b[0m\u001b[1;33m\u001b[0m\u001b[1;33m\u001b[0m\u001b[0m\n",
            "\u001b[1;31mFileExistsError\u001b[0m: [WinError 183] \u65e2\u306b\u5b58\u5728\u3059\u308b\u30d5\u30a1\u30a4\u30eb\u3092\u4f5c\u6210\u3059\u308b\u3053\u3068\u306f\u3067\u304d\u307e\u305b\u3093\u3002: 'new_dir'"
          ]
        }
      ],
      "source": [
        "new_dir.mkdir()"
      ]
    },
    {
      "cell_type": "markdown",
      "id": "b0979cc0-c3bd-48a1-93c5-1068f4e3c56c",
      "metadata": {
        "id": "b0979cc0-c3bd-48a1-93c5-1068f4e3c56c"
      },
      "source": [
        "\u4e0a\u66f8\u304d\u3057\u3066\u3082\u826f\u3044\u5834\u5408\u306f\uff0c\u5f15\u6570 exist_ok \u306b True \u3092\u6e21\u3057\u307e\u3059\uff0e"
      ]
    },
    {
      "cell_type": "code",
      "execution_count": 10,
      "id": "2c8ef23d-d6bc-4f1a-86bd-df4d0de120c7",
      "metadata": {
        "id": "2c8ef23d-d6bc-4f1a-86bd-df4d0de120c7"
      },
      "outputs": [],
      "source": [
        "new_dir.mkdir(exist_ok=True)"
      ]
    },
    {
      "cell_type": "markdown",
      "id": "67585e0c-a6d9-48c4-a588-e5e688112a02",
      "metadata": {
        "id": "67585e0c-a6d9-48c4-a588-e5e688112a02"
      },
      "source": [
        "\u5b9f\u306f touch \u30e1\u30bd\u30c3\u30c9\u3082\u5f15\u6570 exist_ok \u304c\u3042\u308b\u306e\u3067\u3059\u304c\uff0c\u30c7\u30d5\u30a9\u30eb\u30c8\u304c True \u3068\u306a\u3063\u3066\u3044\u308b\u305f\u3081\uff0c\u7701\u7565\u3057\u3066\u3082\u30a8\u30e9\u30fc\u304c\u3067\u307e\u305b\u3093\uff08\u9006\u306b\uff0cexist_ok=False \u3092\u6307\u5b9a\u3059\u308b\u3068\uff0cFileExistsError \u304c\u51fa\u307e\u3059\uff09\uff0e  \n",
        "\u3053\u306e\u5834\u5408\uff0c\u7a7a\u306e\u30d5\u30a1\u30a4\u30eb\u3067\u4e0a\u66f8\u304d\u3055\u308c\u308b\u306e\u3067\u306f\u306a\u304f\uff0c\u5358\u306b\u66f4\u65b0\u65e5\u6642\u304c\u4e0a\u66f8\u304d\u3055\u308c\u308b\u3060\u3051\u3067\u3059\uff0e\n",
        "\n",
        "mkdir \u306b\u304a\u3044\u3066\uff0c\u30c7\u30d5\u30a9\u30eb\u30c8\u304c False \u3067\u3042\u308b\u5f15\u6570 parents \u306b True \u3092\u6e21\u3059\u3053\u3068\u3067\uff0c\u8907\u6570\u968e\u5c64\u3092\u540c\u6642\u306b\u4f5c\u6210\u3059\u308b\u3053\u3068\u304c\u3067\u304d\u307e\u3059\uff0e"
      ]
    },
    {
      "cell_type": "code",
      "execution_count": 11,
      "id": "e5e12b9f-736a-4d64-ad04-162ca6a7a7b1",
      "metadata": {
        "id": "e5e12b9f-736a-4d64-ad04-162ca6a7a7b1",
        "outputId": "9a2b2e69-ed86-492b-cd8c-5230456116eb"
      },
      "outputs": [
        {
          "ename": "FileNotFoundError",
          "evalue": "[WinError 3] \u6307\u5b9a\u3055\u308c\u305f\u30d1\u30b9\u304c\u898b\u3064\u304b\u308a\u307e\u305b\u3093\u3002: 'new_dir1\\\\new_dir2\\\\new_dir3'",
          "output_type": "error",
          "traceback": [
            "\u001b[1;31m---------------------------------------------------------------------------\u001b[0m",
            "\u001b[1;31mFileNotFoundError\u001b[0m                         Traceback (most recent call last)",
            "\u001b[1;32m~\\AppData\\Local\\Temp/ipykernel_12160/1949577686.py\u001b[0m in \u001b[0;36m<module>\u001b[1;34m\u001b[0m\n\u001b[0;32m      1\u001b[0m \u001b[0mnew_dir123\u001b[0m \u001b[1;33m=\u001b[0m \u001b[0mPath\u001b[0m\u001b[1;33m(\u001b[0m\u001b[1;34m\"./new_dir1/new_dir2/new_dir3\"\u001b[0m\u001b[1;33m)\u001b[0m\u001b[1;33m\u001b[0m\u001b[1;33m\u001b[0m\u001b[0m\n\u001b[1;32m----> 2\u001b[1;33m \u001b[0mnew_dir123\u001b[0m\u001b[1;33m.\u001b[0m\u001b[0mmkdir\u001b[0m\u001b[1;33m(\u001b[0m\u001b[1;33m)\u001b[0m\u001b[1;33m\u001b[0m\u001b[1;33m\u001b[0m\u001b[0m\n\u001b[0m",
            "\u001b[1;32m~\\AppData\\Local\\Programs\\Python\\Python38\\lib\\pathlib.py\u001b[0m in \u001b[0;36mmkdir\u001b[1;34m(self, mode, parents, exist_ok)\u001b[0m\n\u001b[0;32m   1286\u001b[0m             \u001b[0mself\u001b[0m\u001b[1;33m.\u001b[0m\u001b[0m_raise_closed\u001b[0m\u001b[1;33m(\u001b[0m\u001b[1;33m)\u001b[0m\u001b[1;33m\u001b[0m\u001b[1;33m\u001b[0m\u001b[0m\n\u001b[0;32m   1287\u001b[0m         \u001b[1;32mtry\u001b[0m\u001b[1;33m:\u001b[0m\u001b[1;33m\u001b[0m\u001b[1;33m\u001b[0m\u001b[0m\n\u001b[1;32m-> 1288\u001b[1;33m             \u001b[0mself\u001b[0m\u001b[1;33m.\u001b[0m\u001b[0m_accessor\u001b[0m\u001b[1;33m.\u001b[0m\u001b[0mmkdir\u001b[0m\u001b[1;33m(\u001b[0m\u001b[0mself\u001b[0m\u001b[1;33m,\u001b[0m \u001b[0mmode\u001b[0m\u001b[1;33m)\u001b[0m\u001b[1;33m\u001b[0m\u001b[1;33m\u001b[0m\u001b[0m\n\u001b[0m\u001b[0;32m   1289\u001b[0m         \u001b[1;32mexcept\u001b[0m \u001b[0mFileNotFoundError\u001b[0m\u001b[1;33m:\u001b[0m\u001b[1;33m\u001b[0m\u001b[1;33m\u001b[0m\u001b[0m\n\u001b[0;32m   1290\u001b[0m             \u001b[1;32mif\u001b[0m \u001b[1;32mnot\u001b[0m \u001b[0mparents\u001b[0m \u001b[1;32mor\u001b[0m \u001b[0mself\u001b[0m\u001b[1;33m.\u001b[0m\u001b[0mparent\u001b[0m \u001b[1;33m==\u001b[0m \u001b[0mself\u001b[0m\u001b[1;33m:\u001b[0m\u001b[1;33m\u001b[0m\u001b[1;33m\u001b[0m\u001b[0m\n",
            "\u001b[1;31mFileNotFoundError\u001b[0m: [WinError 3] \u6307\u5b9a\u3055\u308c\u305f\u30d1\u30b9\u304c\u898b\u3064\u304b\u308a\u307e\u305b\u3093\u3002: 'new_dir1\\\\new_dir2\\\\new_dir3'"
          ]
        }
      ],
      "source": [
        "new_dir123 = Path(\"./new_dir1/new_dir2/new_dir3\")\n",
        "new_dir123.mkdir()"
      ]
    },
    {
      "cell_type": "code",
      "execution_count": 12,
      "id": "a6714877-47a7-41bc-a552-2dbd2847ca04",
      "metadata": {
        "id": "a6714877-47a7-41bc-a552-2dbd2847ca04",
        "outputId": "5a3457ac-2203-4299-8bde-7f07e1587cfd"
      },
      "outputs": [
        {
          "data": {
            "text/plain": [
              "True"
            ]
          },
          "execution_count": 12,
          "metadata": {},
          "output_type": "execute_result"
        }
      ],
      "source": [
        "new_dir123.mkdir(parents=True)\n",
        "new_dir123.exists()"
      ]
    },
    {
      "cell_type": "markdown",
      "id": "8ee16c3c-3d60-4401-9ab4-f677dfebfa80",
      "metadata": {
        "id": "8ee16c3c-3d60-4401-9ab4-f677dfebfa80"
      },
      "source": [
        "\u6307\u5b9a\u3057\u305f\u30d1\u30b9\u304c\u30d5\u30a1\u30a4\u30eb\u304b\u3069\u3046\u304b\u306e\u5224\u5b9a\u306b\u306f is_file \u30e1\u30bd\u30c3\u30c9\uff0c\u30c7\u30a3\u30ec\u30af\u30c8\u30ea\u304b\u3069\u3046\u304b\u306e\u5224\u5b9a\u306b\u306f is_dir \u30e1\u30bd\u30c3\u30c9\u306b\u3066\u8abf\u3079\u308b\u3053\u3068\u304c\u3067\u304d\u307e\u3059\uff0e"
      ]
    },
    {
      "cell_type": "code",
      "execution_count": 13,
      "id": "6917a793-0c20-421b-900f-baadc26039d9",
      "metadata": {
        "id": "6917a793-0c20-421b-900f-baadc26039d9",
        "outputId": "d3e84f7b-e7cf-47ce-b312-4989f8fc8c75"
      },
      "outputs": [
        {
          "data": {
            "text/plain": [
              "(True, False, False, True)"
            ]
          },
          "execution_count": 13,
          "metadata": {},
          "output_type": "execute_result"
        }
      ],
      "source": [
        "new_item.is_file(), new_item.is_dir(), new_dir.is_file(), new_dir.is_dir()"
      ]
    },
    {
      "cell_type": "markdown",
      "id": "a4b7bdd3-daa6-4d79-9fa6-78d3d2fee3e1",
      "metadata": {
        "id": "a4b7bdd3-daa6-4d79-9fa6-78d3d2fee3e1"
      },
      "source": [
        "\u6587\u5b57\u5217\u578b\u306e\u7d50\u5408\u306f + \u306b\u3088\u3063\u3066\u53ef\u80fd\u3067\u3059\u304c\uff0c\u30d1\u30b9\u306e\u7d50\u5408\u306f\u968e\u5c64\u3092\u8868\u3059 / \u306b\u3088\u3063\u3066\u7d50\u5408\u304c\u3067\u304d\u307e\u3059\uff0e"
      ]
    },
    {
      "cell_type": "code",
      "execution_count": 14,
      "id": "d11be96b-3316-4d68-aa0c-b564aef2d828",
      "metadata": {
        "id": "d11be96b-3316-4d68-aa0c-b564aef2d828",
        "outputId": "a68a07ac-ec72-4270-9a13-fad7034844ea"
      },
      "outputs": [
        {
          "data": {
            "text/plain": [
              "WindowsPath('new_dir1/new_dir2')"
            ]
          },
          "execution_count": 14,
          "metadata": {},
          "output_type": "execute_result"
        }
      ],
      "source": [
        "Path(\"./new_dir1\") / Path(\"new_dir2\")"
      ]
    },
    {
      "cell_type": "markdown",
      "id": "75acfdd2-4673-4f75-a8c3-80796a2373e9",
      "metadata": {
        "id": "75acfdd2-4673-4f75-a8c3-80796a2373e9"
      },
      "source": [
        "\u4e0a\u8a18\u3067\u3082\u3067\u304d\u307e\u3059\u304c\uff0c\u5148\u982d\u306e\u578b\u304c pathlib.Path \u578b\u3067\u3042\u308c\u3070\uff0c\u6b21\u306e\u3088\u3046\u306b\uff0c\u5148\u982d\u4ee5\u5916\u306f\u6587\u5b57\u5217\u3067\u7d50\u5408\u304c\u53ef\u80fd\u3067\u3059\uff0e"
      ]
    },
    {
      "cell_type": "code",
      "execution_count": 15,
      "id": "eb7e1259-b1d1-4cba-9761-752adeb5ab95",
      "metadata": {
        "id": "eb7e1259-b1d1-4cba-9761-752adeb5ab95",
        "outputId": "6a0a2562-a0a3-48c3-a255-8650c7503a9c"
      },
      "outputs": [
        {
          "data": {
            "text/plain": [
              "WindowsPath('new_dir1/new_dir2')"
            ]
          },
          "execution_count": 15,
          "metadata": {},
          "output_type": "execute_result"
        }
      ],
      "source": [
        "Path(\"./new_dir1\") / \"new_dir2\""
      ]
    },
    {
      "cell_type": "markdown",
      "id": "f498cfdb-a6c9-4143-842e-91df2e361989",
      "metadata": {
        "id": "f498cfdb-a6c9-4143-842e-91df2e361989"
      },
      "source": [
        "\u968e\u5c64\u3092\u533a\u5207\u308a\u305f\u304f\u306a\u3044\u3051\u3069\u5909\u6570\u3092\u4f7f\u3063\u3066\u30d1\u30b9\u5408\u4f53\u3055\u305b\u305f\u3044\u3068\u3044\u3046\u5834\u5408\u306f\uff0cstr() \u3092\u7528\u3044\u3066\u4e00\u65e6\u6587\u5b57\u5217\u578b\u306b\u30ad\u30e3\u30b9\u30c8\u3059\u308b\u304b\uff0c\u3082\u3057\u304f\u306f\uff0cf-string \u3092\u7528\u3044\u307e\u3059\uff0e"
      ]
    },
    {
      "cell_type": "code",
      "execution_count": 16,
      "id": "fa59dae9-a219-4e71-8939-a1e8bfd33ed9",
      "metadata": {
        "id": "fa59dae9-a219-4e71-8939-a1e8bfd33ed9",
        "outputId": "35dd1f33-de6d-4917-c9db-47e7fa7226e2"
      },
      "outputs": [
        {
          "data": {
            "text/plain": [
              "(WindowsPath('new_dir1/new_dir2/new_item2.txt'), False)"
            ]
          },
          "execution_count": 16,
          "metadata": {},
          "output_type": "execute_result"
        }
      ],
      "source": [
        "file_name = \"new_item2\"\n",
        "file_path = Path(\"./new_dir1\") / f\"new_dir2/{file_name}.txt\"\n",
        "file_path, file_path.exists()"
      ]
    },
    {
      "cell_type": "markdown",
      "id": "15c91987-bbf1-4f78-9688-72a6e7ef641f",
      "metadata": {
        "id": "15c91987-bbf1-4f78-9688-72a6e7ef641f"
      },
      "source": [
        "touch \u306f\u305d\u306e\u30d5\u30a1\u30a4\u30eb\u3092\u7f6e\u304f\u30c7\u30a3\u30ec\u30af\u30c8\u30ea\u304c\u5b58\u5728\u3057\u3066\u3044\u308c\u3070\uff0c\u8907\u6570\u968e\u5c64\u3092\u307e\u305f\u3044\u3067\u3082\u4f7f\u3046\u3053\u3068\u304c\u3067\u304d\u307e\u3059\uff0e"
      ]
    },
    {
      "cell_type": "code",
      "execution_count": 17,
      "id": "cdbdfc91-b6cb-40d4-b683-897a9780e4c3",
      "metadata": {
        "id": "cdbdfc91-b6cb-40d4-b683-897a9780e4c3",
        "outputId": "9cfa133f-9a5b-4763-d29c-68a20644702f"
      },
      "outputs": [
        {
          "data": {
            "text/plain": [
              "True"
            ]
          },
          "execution_count": 17,
          "metadata": {},
          "output_type": "execute_result"
        }
      ],
      "source": [
        "file_path.touch()\n",
        "file_path.exists()"
      ]
    },
    {
      "cell_type": "markdown",
      "id": "2e8427d7-54a4-4f0e-b1a7-1a100de76050",
      "metadata": {
        "id": "2e8427d7-54a4-4f0e-b1a7-1a100de76050"
      },
      "source": [
        "\u6307\u5b9a\u3057\u305f\u968e\u5c64\u306b\u304a\u3044\u3066\uff0c\u30d5\u30a1\u30a4\u30eb\uff0f\u30c7\u30a3\u30ec\u30af\u30c8\u30ea\u306e\u4e00\u89a7\u3092\u53d6\u5f97\u3057\u305f\u3044\u5834\u5408\u306f\uff0citerdir \u30e1\u30bd\u30c3\u30c9\u306b\u3066\u30b8\u30a7\u30cd\u30ec\u30fc\u30bf\u3092\u53d6\u5f97\u3067\u304d\uff0clist \u306a\u3069\u3067\u5c55\u958b\u3067\u304d\u307e\u3059\uff0e"
      ]
    },
    {
      "cell_type": "code",
      "execution_count": 18,
      "id": "8126d361-ae8f-4490-9e95-4bbe3ecfe00f",
      "metadata": {
        "id": "8126d361-ae8f-4490-9e95-4bbe3ecfe00f",
        "outputId": "b59879e9-d9c8-4374-ac36-92b6239c067b"
      },
      "outputs": [
        {
          "data": {
            "text/plain": [
              "[WindowsPath('.ipynb_checkpoints'),\n",
              " WindowsPath('007_std_libs.ipynb'),\n",
              " WindowsPath('answer.ipynb'),\n",
              " WindowsPath('new_dir'),\n",
              " WindowsPath('new_dir1'),\n",
              " WindowsPath('new_item.txt')]"
            ]
          },
          "execution_count": 18,
          "metadata": {},
          "output_type": "execute_result"
        }
      ],
      "source": [
        "list(pwd.iterdir())"
      ]
    },
    {
      "cell_type": "markdown",
      "id": "5f7bc940-3298-429e-a74e-6eb21448673b",
      "metadata": {
        "id": "5f7bc940-3298-429e-a74e-6eb21448673b"
      },
      "source": [
        "\u307e\u305f\uff0c\u30d1\u30b9\u306b\u30ef\u30a4\u30eb\u30c9\u30ab\u30fc\u30c9 `*` \uff08\u30a2\u30b9\u30bf\u30ea\u30b9\u30af\uff09\u304c\u6307\u5b9a\u3067\u304d\u308b glob \u30e1\u30bd\u30c3\u30c9\u3067\u3082\u8abf\u3079\u308b\u3053\u3068\u304c\u3067\u304d\u307e\u3059\uff0e"
      ]
    },
    {
      "cell_type": "code",
      "execution_count": 19,
      "id": "b6821119-dd92-4ba7-9dc3-23b396f1b00f",
      "metadata": {
        "id": "b6821119-dd92-4ba7-9dc3-23b396f1b00f",
        "outputId": "830cc239-85c2-4ab9-dad9-f2936a70466b"
      },
      "outputs": [
        {
          "data": {
            "text/plain": [
              "[WindowsPath('.ipynb_checkpoints'),\n",
              " WindowsPath('007_std_libs.ipynb'),\n",
              " WindowsPath('answer.ipynb'),\n",
              " WindowsPath('new_dir'),\n",
              " WindowsPath('new_dir1'),\n",
              " WindowsPath('new_item.txt')]"
            ]
          },
          "execution_count": 19,
          "metadata": {},
          "output_type": "execute_result"
        }
      ],
      "source": [
        "list(pwd.glob(\"*\"))"
      ]
    },
    {
      "cell_type": "markdown",
      "id": "7276dd32-8fe3-4bf0-8a32-fc8c32f40a71",
      "metadata": {
        "id": "7276dd32-8fe3-4bf0-8a32-fc8c32f40a71"
      },
      "source": [
        "glob \u30e1\u30bd\u30c3\u30c9\u306e\u4e2d\u306e\u6587\u5b57\u5217\u306e\u5de5\u592b\u6b21\u7b2c\u3067\uff0c\u691c\u7d22\u3059\u308b\u30aa\u30d6\u30b8\u30a7\u30af\u30c8\u3092\u6307\u5b9a\u3059\u308b\u3053\u3068\u304c\u3067\u304d\u307e\u3059\uff0e  \n",
        "\u4f8b\u3048\u3070\uff0c.txt \u30d5\u30a1\u30a4\u30eb\u3060\u3051\u306b\u3057\u305f\u3044\u5834\u5408\u306f\uff0c"
      ]
    },
    {
      "cell_type": "code",
      "execution_count": 20,
      "id": "e37e847d-a179-47a8-b0c7-dc689da58972",
      "metadata": {
        "id": "e37e847d-a179-47a8-b0c7-dc689da58972",
        "outputId": "4ec95c79-c857-4782-dc37-e347d6d0db9c"
      },
      "outputs": [
        {
          "data": {
            "text/plain": [
              "[WindowsPath('new_item.txt')]"
            ]
          },
          "execution_count": 20,
          "metadata": {},
          "output_type": "execute_result"
        }
      ],
      "source": [
        "list(pwd.glob(\"*.txt\"))"
      ]
    },
    {
      "cell_type": "markdown",
      "id": "7f246cfe-83cf-4844-8ca4-44ad6fd74e70",
      "metadata": {
        "id": "7f246cfe-83cf-4844-8ca4-44ad6fd74e70"
      },
      "source": [
        "\u306e\u3088\u3046\u306b\u3059\u308c\u3070\uff0c\u3053\u306e\u968e\u5c64\u306b\u304a\u3051\u308b\u63a2\u7d22\u306f\u53ef\u80fd\u3067\u3059\uff0e  \n",
        "\u3057\u304b\u3057\uff0c\u5148\u307b\u3069\u751f\u6210\u3057\u305f `new_dir1/new_dir2/new_item2.txt` \u306e\u30d1\u30b9\u306f\u4e0a\u8a18\u3067\u306f\u5f97\u3089\u308c\u307e\u305b\u3093\uff0e  \n",
        "\u3053\u306e\u30d1\u30b9\u3092\u5f97\u308b\u305f\u3081\u306b\u306f\uff0c\u518d\u5e30\u7684\u306b\u8abf\u3079\u3055\u305b\u308b\u5fc5\u8981\u304c\u3042\u308a\uff0c\u30ef\u30a4\u30eb\u30c9\u30ab\u30fc\u30c9\u3092\u4e8c\u3064\u3068\u968e\u5c64\u3092\u8868\u3059 / \u7528\u3044\u3066\uff0c\u4f8b\u3048\u3070\u4ee5\u4e0b\u306e\u3088\u3046\u306b\u66f8\u304f\u3053\u3068\u304c\u3067\u304d\u307e\u3059\uff0e"
      ]
    },
    {
      "cell_type": "code",
      "execution_count": 21,
      "id": "39f33467-ff82-462a-a4c6-85f60bf5e40f",
      "metadata": {
        "id": "39f33467-ff82-462a-a4c6-85f60bf5e40f",
        "outputId": "24e629ca-2d89-49b7-eb89-8487f993e6ed"
      },
      "outputs": [
        {
          "data": {
            "text/plain": [
              "[WindowsPath('new_item.txt'), WindowsPath('new_dir1/new_dir2/new_item2.txt')]"
            ]
          },
          "execution_count": 21,
          "metadata": {},
          "output_type": "execute_result"
        }
      ],
      "source": [
        "list(pwd.glob(\"**/*.txt\"))"
      ]
    },
    {
      "cell_type": "markdown",
      "id": "6a7c996d-c12d-4fc1-80a7-8496440d3ecd",
      "metadata": {
        "id": "6a7c996d-c12d-4fc1-80a7-8496440d3ecd"
      },
      "source": [
        "\u30d5\u30a1\u30a4\u30eb\u306e\u524a\u9664\u306b\u306f unlink \u30e1\u30bd\u30c3\u30c9\uff0c\u30c7\u30a3\u30ec\u30af\u30c8\u30ea\u306e\u524a\u9664\u306b\u306f rmdir \u30e1\u30bd\u30c3\u30c9\u3092\u7528\u3044\u307e\u3059\uff0e  \n",
        "\u305f\u3060\u3057\uff0c\u4e0a\u8a18\u3067\u6307\u5b9a\u3057\u305f\u30d1\u30b9\u304c\u5b58\u5728\u3057\u306a\u3044\u5834\u5408\u306f\uff0cFileExistsError \u304c\u8fd4\u3055\u308c\u307e\u3059\uff0e"
      ]
    },
    {
      "cell_type": "code",
      "execution_count": 22,
      "id": "893f9518-0bf2-4a8b-ae9a-9c177f2776ec",
      "metadata": {
        "id": "893f9518-0bf2-4a8b-ae9a-9c177f2776ec",
        "outputId": "70356976-258f-40a6-8b05-dca387701ee1"
      },
      "outputs": [
        {
          "data": {
            "text/plain": [
              "WindowsPath('new_item.txt')"
            ]
          },
          "execution_count": 22,
          "metadata": {},
          "output_type": "execute_result"
        }
      ],
      "source": [
        "new_item"
      ]
    },
    {
      "cell_type": "code",
      "execution_count": 23,
      "id": "c51a24b1-3c81-4279-82f0-e866dadeb8fd",
      "metadata": {
        "id": "c51a24b1-3c81-4279-82f0-e866dadeb8fd",
        "outputId": "12f1efa5-4967-4a7e-d3d4-9045e72a4d3c"
      },
      "outputs": [
        {
          "data": {
            "text/plain": [
              "False"
            ]
          },
          "execution_count": 23,
          "metadata": {},
          "output_type": "execute_result"
        }
      ],
      "source": [
        "new_item.unlink()\n",
        "new_item.exists()"
      ]
    },
    {
      "cell_type": "code",
      "execution_count": 24,
      "id": "3c3e0fd3-3b2a-4a0a-863a-5cb230eadc5e",
      "metadata": {
        "id": "3c3e0fd3-3b2a-4a0a-863a-5cb230eadc5e",
        "outputId": "db19fd83-792e-4e73-9646-01290d7a1d51"
      },
      "outputs": [
        {
          "data": {
            "text/plain": [
              "WindowsPath('new_dir')"
            ]
          },
          "execution_count": 24,
          "metadata": {},
          "output_type": "execute_result"
        }
      ],
      "source": [
        "new_dir"
      ]
    },
    {
      "cell_type": "code",
      "execution_count": 25,
      "id": "1efb0720-e5d8-4fa3-bc29-2b9e6d70c58c",
      "metadata": {
        "id": "1efb0720-e5d8-4fa3-bc29-2b9e6d70c58c",
        "outputId": "db95f75f-b602-473d-9f18-d4f4d469bb2d"
      },
      "outputs": [
        {
          "data": {
            "text/plain": [
              "False"
            ]
          },
          "execution_count": 25,
          "metadata": {},
          "output_type": "execute_result"
        }
      ],
      "source": [
        "new_dir.rmdir()\n",
        "new_dir.exists()"
      ]
    },
    {
      "cell_type": "code",
      "execution_count": 26,
      "id": "2cf729b5-f940-4a92-b471-4fd7b9a5c9a3",
      "metadata": {
        "id": "2cf729b5-f940-4a92-b471-4fd7b9a5c9a3",
        "outputId": "e0830497-1e96-4162-9e43-51eef072c712"
      },
      "outputs": [
        {
          "data": {
            "text/plain": [
              "WindowsPath('new_dir1/new_dir2/new_dir3')"
            ]
          },
          "execution_count": 26,
          "metadata": {},
          "output_type": "execute_result"
        }
      ],
      "source": [
        "new_dir123"
      ]
    },
    {
      "cell_type": "markdown",
      "id": "44d483e4-8dc6-49c9-b141-f58bad159d8f",
      "metadata": {
        "id": "44d483e4-8dc6-49c9-b141-f58bad159d8f"
      },
      "source": [
        "\u6ce8\u610f\u3068\u3057\u3066\uff0crmdir \u306f\u6307\u5b9a\u3057\u305f\u30d1\u30b9\u306e\u30c7\u30a3\u30ec\u30af\u30c8\u30ea\u304c\u7a7a\u3067\u306a\u3044\u3068\uff0cOSError \u304c\u8fd4\u3055\u308c\u307e\u3059\uff0e"
      ]
    },
    {
      "cell_type": "code",
      "execution_count": 27,
      "id": "88cdb8a6-d23f-4d59-b4a5-d6f3d6a087f3",
      "metadata": {
        "id": "88cdb8a6-d23f-4d59-b4a5-d6f3d6a087f3",
        "outputId": "01bfa70a-e8cb-4f7a-c03b-ad9bfca26f02"
      },
      "outputs": [
        {
          "ename": "OSError",
          "evalue": "[WinError 145] \u30c7\u30a3\u30ec\u30af\u30c8\u30ea\u304c\u7a7a\u3067\u306f\u3042\u308a\u307e\u305b\u3093\u3002: 'new_dir1'",
          "output_type": "error",
          "traceback": [
            "\u001b[1;31m---------------------------------------------------------------------------\u001b[0m",
            "\u001b[1;31mOSError\u001b[0m                                   Traceback (most recent call last)",
            "\u001b[1;32m~\\AppData\\Local\\Temp/ipykernel_12160/161957861.py\u001b[0m in \u001b[0;36m<module>\u001b[1;34m\u001b[0m\n\u001b[1;32m----> 1\u001b[1;33m \u001b[0mPath\u001b[0m\u001b[1;33m(\u001b[0m\u001b[1;34m\"new_dir1\"\u001b[0m\u001b[1;33m)\u001b[0m\u001b[1;33m.\u001b[0m\u001b[0mrmdir\u001b[0m\u001b[1;33m(\u001b[0m\u001b[1;33m)\u001b[0m\u001b[1;33m\u001b[0m\u001b[1;33m\u001b[0m\u001b[0m\n\u001b[0m",
            "\u001b[1;32m~\\AppData\\Local\\Programs\\Python\\Python38\\lib\\pathlib.py\u001b[0m in \u001b[0;36mrmdir\u001b[1;34m(self)\u001b[0m\n\u001b[0;32m   1334\u001b[0m         \u001b[1;32mif\u001b[0m \u001b[0mself\u001b[0m\u001b[1;33m.\u001b[0m\u001b[0m_closed\u001b[0m\u001b[1;33m:\u001b[0m\u001b[1;33m\u001b[0m\u001b[1;33m\u001b[0m\u001b[0m\n\u001b[0;32m   1335\u001b[0m             \u001b[0mself\u001b[0m\u001b[1;33m.\u001b[0m\u001b[0m_raise_closed\u001b[0m\u001b[1;33m(\u001b[0m\u001b[1;33m)\u001b[0m\u001b[1;33m\u001b[0m\u001b[1;33m\u001b[0m\u001b[0m\n\u001b[1;32m-> 1336\u001b[1;33m         \u001b[0mself\u001b[0m\u001b[1;33m.\u001b[0m\u001b[0m_accessor\u001b[0m\u001b[1;33m.\u001b[0m\u001b[0mrmdir\u001b[0m\u001b[1;33m(\u001b[0m\u001b[0mself\u001b[0m\u001b[1;33m)\u001b[0m\u001b[1;33m\u001b[0m\u001b[1;33m\u001b[0m\u001b[0m\n\u001b[0m\u001b[0;32m   1337\u001b[0m \u001b[1;33m\u001b[0m\u001b[0m\n\u001b[0;32m   1338\u001b[0m     \u001b[1;32mdef\u001b[0m \u001b[0mlstat\u001b[0m\u001b[1;33m(\u001b[0m\u001b[0mself\u001b[0m\u001b[1;33m)\u001b[0m\u001b[1;33m:\u001b[0m\u001b[1;33m\u001b[0m\u001b[1;33m\u001b[0m\u001b[0m\n",
            "\u001b[1;31mOSError\u001b[0m: [WinError 145] \u30c7\u30a3\u30ec\u30af\u30c8\u30ea\u304c\u7a7a\u3067\u306f\u3042\u308a\u307e\u305b\u3093\u3002: 'new_dir1'"
          ]
        }
      ],
      "source": [
        "Path(\"new_dir1\").rmdir()"
      ]
    },
    {
      "cell_type": "code",
      "execution_count": 28,
      "id": "72956565-456f-434e-a5b6-e8afd5072124",
      "metadata": {
        "id": "72956565-456f-434e-a5b6-e8afd5072124",
        "outputId": "5f637a31-c081-48c9-e432-485b69738676"
      },
      "outputs": [
        {
          "data": {
            "text/plain": [
              "False"
            ]
          },
          "execution_count": 28,
          "metadata": {},
          "output_type": "execute_result"
        }
      ],
      "source": [
        "new_dir123.rmdir()\n",
        "new_dir123.exists()"
      ]
    },
    {
      "cell_type": "markdown",
      "id": "01c81bbc-2800-4c29-a236-9fce83adecd0",
      "metadata": {
        "id": "01c81bbc-2800-4c29-a236-9fce83adecd0"
      },
      "source": [
        "\u4eca\u307e\u3067\uff0c\u30d5\u30a1\u30a4\u30eb\u306e\u8aad\u307f\u66f8\u304d\u306f open \u95a2\u6570\u3092\u7528\u3044\u3066\u3044\u307e\u3057\u305f\u304c\uff0cpathlib.Path \u578b\u306b\u5bfe\u3057\u3066\u306f open \u30e1\u30bd\u30c3\u30c9\u3092\u7528\u3044\u308b\u3053\u3068\u304c\u3067\u304d\u307e\u3059\uff0e"
      ]
    },
    {
      "cell_type": "code",
      "execution_count": 29,
      "id": "8176baec-f918-44e7-8a59-a2a6bde40ec3",
      "metadata": {
        "id": "8176baec-f918-44e7-8a59-a2a6bde40ec3",
        "outputId": "201c0367-36b2-49c2-98e6-82a151596adf"
      },
      "outputs": [
        {
          "name": "stdout",
          "output_type": "stream",
          "text": [
            "test\n"
          ]
        }
      ],
      "source": [
        "test_path = Path(\"./test.txt\")\n",
        "text = \"test\"\n",
        "\n",
        "# write\n",
        "with test_path.open(mode=\"w\") as f:\n",
        "    f.write(text)\n",
        "\n",
        "# read\n",
        "with test_path.open(mode=\"r\") as f:\n",
        "    print(f.read())"
      ]
    },
    {
      "cell_type": "markdown",
      "id": "c904666c-a138-48ba-8caf-4eb266b999e0",
      "metadata": {
        "id": "c904666c-a138-48ba-8caf-4eb266b999e0"
      },
      "source": [
        "\u4e00\u5fdc\uff0cpathlib \u3092\u7528\u3044\u306a\u3044\u5834\u5408\u306f\u4ee5\u4e0b\u306e\u3088\u3046\u306b\u66f8\u304d\u307e\u3059\uff0e"
      ]
    },
    {
      "cell_type": "code",
      "execution_count": 30,
      "id": "8bda086a-d41a-4d95-a230-4630a35e3014",
      "metadata": {
        "id": "8bda086a-d41a-4d95-a230-4630a35e3014",
        "outputId": "5f1eead6-9309-46bb-b5e0-5bf75df26e49"
      },
      "outputs": [
        {
          "name": "stdout",
          "output_type": "stream",
          "text": [
            "test\n"
          ]
        }
      ],
      "source": [
        "test_path = \"./test.txt\"\n",
        "text = \"test\"\n",
        "\n",
        "# write\n",
        "with open(test_path, mode=\"w\") as f:\n",
        "    f.write(text)\n",
        "\n",
        "# read\n",
        "with open(test_path, mode=\"r\") as f:\n",
        "    print(f.read())"
      ]
    },
    {
      "cell_type": "markdown",
      "id": "f343145c-a22d-4ce9-a815-36ba310d30ca",
      "metadata": {
        "id": "f343145c-a22d-4ce9-a815-36ba310d30ca"
      },
      "source": [
        "windows \u306e\u74b0\u5883\u3067\u306f pathlib.Path \u578b\u306e\u30d1\u30b9\u3092\u6587\u5b57\u5217\u578b\u306b\u3059\u308b\u3068\uff0c\u4eba\u306b\u3088\u3063\u3066\u306f\u898b\u6163\u308c\u306a\u3044\u5f62\u5f0f\u3067\u51fa\u529b\u3055\u308c\u307e\u3059\uff0e"
      ]
    },
    {
      "cell_type": "code",
      "execution_count": 31,
      "id": "28a4e313-974d-49e5-bf09-a396e4ca41df",
      "metadata": {
        "id": "28a4e313-974d-49e5-bf09-a396e4ca41df",
        "outputId": "78024f87-5f78-4831-b5f1-7b270e8f807d"
      },
      "outputs": [
        {
          "data": {
            "text/plain": [
              "'new_dir1\\\\new_dir2\\\\new_dir3'"
            ]
          },
          "execution_count": 31,
          "metadata": {},
          "output_type": "execute_result"
        }
      ],
      "source": [
        "str(new_dir123)"
      ]
    },
    {
      "cell_type": "markdown",
      "id": "8fd03079-2bc2-4c56-9c9b-5f1f7b515669",
      "metadata": {
        "id": "8fd03079-2bc2-4c56-9c9b-5f1f7b515669"
      },
      "source": [
        "\u3053\u308c\u306f\uff0cwindows \u306e\u30d1\u30b9\u306e\u533a\u5207\u308a\u304c\u5186\u30de\u30fc\u30af\uff08\u30d0\u30c3\u30af\u30b9\u30e9\u30c3\u30b7\u30e5\uff09\u3067\u3042\u308b\u3053\u3068\u306b\u8d77\u56e0\u3057\uff0c\u30d0\u30c3\u30af\u30b9\u30e9\u30c3\u30b7\u30e5\u306f\u30a8\u30b9\u30b1\u30fc\u30d7\u30b7\u30fc\u30b1\u30f3\u30b9\u3067\u3042\u308b\u305f\u3081\uff0c\u30d0\u30c3\u30af\u30b9\u30e9\u30c3\u30b7\u30e5\u3092\u51fa\u529b\u3055\u305b\u308b\u305f\u3081\u306b\u306f\u3082\u3046\u4e00\u3064\u30d0\u30c3\u30af\u30b9\u30e9\u30c3\u30b7\u30e5\u304c\u305d\u306e\u524d\u306b\u5fc5\u8981\u306b\u306a\u308b\u304b\u3089\u3067\u3059\uff0e  \n",
        "\u4e0a\u8a18\u306e\u4f8b\u3067\uff0c\u3082\u3057\uff0c\u30d0\u30c3\u30af\u30b9\u30e9\u30c3\u30b7\u30e5\u304c\u4e00\u3064\u3067\u3042\u308c\u3070\uff0c\\ \u3068 n \u3067\u6539\u884c\u3057\u3066\u3057\u307e\u3044\u307e\u3059\u304c\uff0c2\u3064\u9023\u7d9a\u3057\u3066\u3044\u308b\u305f\u3081\uff0c\u4ee5\u4e0b\u306e\u3088\u3046\u306b printf \u3067\u51fa\u529b\u3057\u3066\u3082 \\ \u304c\u6b8b\u3063\u3066\u3044\u307e\u3059\uff0e"
      ]
    },
    {
      "cell_type": "code",
      "execution_count": 32,
      "id": "731873be-f0c9-461f-8532-7aee465e6cd5",
      "metadata": {
        "id": "731873be-f0c9-461f-8532-7aee465e6cd5",
        "outputId": "f56d5581-7a4b-4c31-87a8-2737a9f35ff7"
      },
      "outputs": [
        {
          "name": "stdout",
          "output_type": "stream",
          "text": [
            "new_dir1\\new_dir2\\new_dir3\n"
          ]
        }
      ],
      "source": [
        "print(str(new_dir123))"
      ]
    },
    {
      "cell_type": "markdown",
      "id": "59b09561-a609-4134-b35b-4226041dd17e",
      "metadata": {
        "id": "59b09561-a609-4134-b35b-4226041dd17e"
      },
      "source": [
        "\u30d1\u30b9\u306e\u533a\u5207\u308a\u306f OS \u306b\u4f9d\u5b58\u3059\u308b\u305f\u3081\uff0c\u6a19\u6e96\u30e9\u30a4\u30d6\u30e9\u30ea\u306e os \u30e2\u30b8\u30e5\u30fc\u30eb\u306b\u3088\u3063\u3066\u67d4\u8edf\u306b\u5909\u63db\u3059\u308b\u3053\u3068\u304c\u3067\u304d\u307e\u3059\uff0e  \n",
        "\u30d1\u30b9\u306e\u533a\u5207\u308a\u306f os \u30e2\u30b8\u30e5\u30fc\u30eb\u306e sep \u3067\u53c2\u7167\u3067\u304d\u307e\u3059\uff0e"
      ]
    },
    {
      "cell_type": "code",
      "execution_count": 33,
      "id": "d844ae9f-5563-4203-85a1-c1d48c9a1f02",
      "metadata": {
        "id": "d844ae9f-5563-4203-85a1-c1d48c9a1f02",
        "outputId": "aecef037-2441-45c7-c26b-90e2029273c3"
      },
      "outputs": [
        {
          "data": {
            "text/plain": [
              "'\\\\'"
            ]
          },
          "execution_count": 33,
          "metadata": {},
          "output_type": "execute_result"
        }
      ],
      "source": [
        "import os\n",
        "\n",
        "os.sep"
      ]
    },
    {
      "cell_type": "markdown",
      "id": "98165013-c3e5-4738-8ea6-6c66a5561dad",
      "metadata": {
        "id": "98165013-c3e5-4738-8ea6-6c66a5561dad"
      },
      "source": [
        "\u3082\u3057\uff0c\u30d1\u30b9\u306e\u968e\u5c64\u306e\u533a\u5207\u308a\u3092 / \u306b\u3057\u305f\u3044\u5834\u5408\u306f\uff0c\u6587\u5b57\u5217\u578b\u306b\u3057\u3066 replace \u3057\u307e\u3059\uff0e"
      ]
    },
    {
      "cell_type": "code",
      "execution_count": 34,
      "id": "4e081068-8b24-4a09-a247-4223794fe77e",
      "metadata": {
        "id": "4e081068-8b24-4a09-a247-4223794fe77e",
        "outputId": "4725d77f-2538-4601-cfbe-44c0fdb1346f"
      },
      "outputs": [
        {
          "data": {
            "text/plain": [
              "'new_dir1/new_dir2/new_dir3'"
            ]
          },
          "execution_count": 34,
          "metadata": {},
          "output_type": "execute_result"
        }
      ],
      "source": [
        "str(new_dir123).replace(os.sep, \"/\")"
      ]
    },
    {
      "cell_type": "markdown",
      "id": "4f167a20-7b2a-4c1d-9c86-e86a3fb40b10",
      "metadata": {
        "id": "4f167a20-7b2a-4c1d-9c86-e86a3fb40b10"
      },
      "source": [
        "os \u30e2\u30b8\u30e5\u30fc\u30eb\u3082\u8272\u3005\u4f7f\u3044\u65b9\u304c\u3042\u308b\u306e\u3067\u3059\u304c\uff0c\u4eca\u56de\u306f\u5272\u611b\u3044\u305f\u3057\u307e\u3059\uff0e\n",
        "\n",
        "rmdir \u3067\u306f\u4e2d\u306b\u30d5\u30a1\u30a4\u30eb\u3084\u30c7\u30a3\u30ec\u30af\u30c8\u30ea\u304c\u3042\u308b\u3068\u524a\u9664\u3067\u304d\u307e\u305b\u3093\u3067\u3057\u305f\u304c\uff0c\u4e2d\u306b\u3042\u308b\u30d5\u30a1\u30a4\u30eb\u3084\u30c7\u30a3\u30ec\u30af\u30c8\u30ea\u3054\u3068\u524a\u9664\u3057\u305f\u3044\u5834\u5408\u306f\uff0c\u6b21\u306e shutil.rmtree \u3092\u7528\u3044\u307e\u3059\uff0e"
      ]
    },
    {
      "cell_type": "markdown",
      "id": "27c08d41-2954-4a88-98ca-df941f5b8af2",
      "metadata": {
        "id": "27c08d41-2954-4a88-98ca-df941f5b8af2"
      },
      "source": [
        "## shutil"
      ]
    },
    {
      "cell_type": "markdown",
      "id": "c544c1ff-9cca-4210-9fe8-032eec9d98d1",
      "metadata": {
        "id": "c544c1ff-9cca-4210-9fe8-032eec9d98d1"
      },
      "source": [
        "shutil (https://docs.python.org/ja/3/library/shutil.html) \u306f\uff0c\u30d5\u30a1\u30a4\u30eb\u306e\u79fb\u52d5\u3084\u30b3\u30d4\u30fc\uff0c\u5727\u7e2e\uff0f\u5c55\u958b\u306a\u3069\u306e\u64cd\u4f5c\u3092\u884c\u3046\u6a19\u6e96\u30e9\u30a4\u30d6\u30e9\u30ea\u3067\u3059\uff0e  \n",
        "\u3053\u306e\u30e9\u30a4\u30d6\u30e9\u30ea\u3082\uff0c\u591a\u304f\u306e\u30d5\u30a1\u30a4\u30eb\u64cd\u4f5c\u3067\u5f79\u7acb\u3061\u307e\u3059\uff0e"
      ]
    },
    {
      "cell_type": "code",
      "execution_count": 35,
      "id": "58459be9-bf78-433d-9e66-c394af98ff47",
      "metadata": {
        "id": "58459be9-bf78-433d-9e66-c394af98ff47"
      },
      "outputs": [],
      "source": [
        "import shutil"
      ]
    },
    {
      "cell_type": "markdown",
      "id": "26dfe84b-0609-42d9-b8d0-a20733404cd3",
      "metadata": {
        "id": "26dfe84b-0609-42d9-b8d0-a20733404cd3"
      },
      "source": [
        "\u5b9f\u9a13\u3059\u308b\u524d\u306b\uff0c\u4eca\u306e\u30c7\u30a3\u30ec\u30af\u30c8\u30ea\u69cb\u6210\u3092\u53ef\u8996\u5316\u3057\u3066\u307f\u307e\u3059\uff0e"
      ]
    },
    {
      "cell_type": "code",
      "execution_count": 36,
      "id": "e0a0705d-a6d3-4dd9-8066-40734256b440",
      "metadata": {
        "id": "e0a0705d-a6d3-4dd9-8066-40734256b440",
        "outputId": "2f3666bb-ceb9-4112-d44a-4296dbd23413"
      },
      "outputs": [
        {
          "data": {
            "text/plain": [
              "[WindowsPath('.ipynb_checkpoints'),\n",
              " WindowsPath('.ipynb_checkpoints/007_std_libs-checkpoint.ipynb'),\n",
              " WindowsPath('.ipynb_checkpoints/answer-checkpoint.ipynb'),\n",
              " WindowsPath('007_std_libs.ipynb'),\n",
              " WindowsPath('answer.ipynb'),\n",
              " WindowsPath('new_dir1'),\n",
              " WindowsPath('new_dir1/new_dir2'),\n",
              " WindowsPath('new_dir1/new_dir2/new_item2.txt'),\n",
              " WindowsPath('test.txt')]"
            ]
          },
          "execution_count": 36,
          "metadata": {},
          "output_type": "execute_result"
        }
      ],
      "source": [
        "sorted(pwd.glob(\"./**/*\"))"
      ]
    },
    {
      "cell_type": "markdown",
      "id": "5e861356-6852-4fd8-ac66-7dec693350b2",
      "metadata": {
        "id": "5e861356-6852-4fd8-ac66-7dec693350b2"
      },
      "source": [
        "`test.txt` \u3092 `new_dir1` \u306b\u79fb\u52d5\u3057\u3066\u307f\u307e\u3059\uff0e  \n",
        "\u30d5\u30a1\u30a4\u30eb\u3084\u30c7\u30a3\u30ec\u30af\u30c8\u30ea\u306e\u79fb\u52d5\u306b\u306f `shutil.move(src=\u79fb\u52d5\u5143\u30d1\u30b9, dst=\u79fb\u52d5\u5148\u30d1\u30b9)` \u3092\u7528\u3044\u307e\u3059\uff0e"
      ]
    },
    {
      "cell_type": "code",
      "execution_count": 37,
      "id": "69088631-a0f5-481b-a509-ee078fdd282c",
      "metadata": {
        "id": "69088631-a0f5-481b-a509-ee078fdd282c",
        "outputId": "857303fb-6303-44db-c245-328aa49a7b77"
      },
      "outputs": [
        {
          "data": {
            "text/plain": [
              "[WindowsPath('.ipynb_checkpoints'),\n",
              " WindowsPath('.ipynb_checkpoints/007_std_libs-checkpoint.ipynb'),\n",
              " WindowsPath('.ipynb_checkpoints/answer-checkpoint.ipynb'),\n",
              " WindowsPath('007_std_libs.ipynb'),\n",
              " WindowsPath('answer.ipynb'),\n",
              " WindowsPath('new_dir1'),\n",
              " WindowsPath('new_dir1/new_dir2'),\n",
              " WindowsPath('new_dir1/new_dir2/new_item2.txt'),\n",
              " WindowsPath('new_dir1/test.txt')]"
            ]
          },
          "execution_count": 37,
          "metadata": {},
          "output_type": "execute_result"
        }
      ],
      "source": [
        "shutil.move(src=\"./test.txt\", dst=\"./new_dir1\")\n",
        "sorted(pwd.glob(\"./**/*\"))"
      ]
    },
    {
      "cell_type": "markdown",
      "id": "4882989c-ecf0-48fa-8550-2fc748db1365",
      "metadata": {
        "id": "4882989c-ecf0-48fa-8550-2fc748db1365"
      },
      "source": [
        "\u4e0a\u8a18\u306e\u4f8b\u306b\u304a\u3044\u3066\uff0c\u5f15\u6570 dst \u306b\u306f\u30c7\u30a3\u30ec\u30af\u30c8\u30ea\u30d1\u30b9\u3092\u4e0e\u3048\u307e\u3057\u305f\u304c\uff0c\u30d5\u30a1\u30a4\u30eb\u30d1\u30b9\u3092\u4e0e\u3048\u305f\u5834\u5408\u306f\uff0c\u30d5\u30a1\u30a4\u30eb\u79fb\u52d5\u5f8c\u306b\u305d\u306e\u30d5\u30a1\u30a4\u30eb\u540d\u306b\u3066\u540d\u524d\u304c\u5909\u66f4\u3055\u308c\u307e\u3059\uff0e"
      ]
    },
    {
      "cell_type": "markdown",
      "id": "a0af1977-ef72-4d2c-a292-931f0e9c9234",
      "metadata": {
        "id": "a0af1977-ef72-4d2c-a292-931f0e9c9234"
      },
      "source": [
        "\u30b3\u30d4\u30fc\u306f `shutil.copy(src=\u79fb\u52d5\u5143\u30d1\u30b9, dst=\u79fb\u52d5\u5148\u30d1\u30b9)` \u3067\u3067\u304d\u307e\u3059\uff0e  \n",
        "\u4eca\u5ea6\u306f\uff0c\u4eca\u79fb\u52d5\u3057\u305f `new_dir1/test.txt` \u3092\u3053\u306e\u968e\u5c64\u306b\u30b3\u30d4\u30fc\u3057\u3066\u307f\u307e\u3059\uff0e"
      ]
    },
    {
      "cell_type": "code",
      "execution_count": 38,
      "id": "23e22cfd-4eb2-460e-966a-643b1fc03483",
      "metadata": {
        "id": "23e22cfd-4eb2-460e-966a-643b1fc03483",
        "outputId": "098aedae-e0a5-486c-9746-11b3c84a421b"
      },
      "outputs": [
        {
          "data": {
            "text/plain": [
              "[WindowsPath('.ipynb_checkpoints'),\n",
              " WindowsPath('.ipynb_checkpoints/007_std_libs-checkpoint.ipynb'),\n",
              " WindowsPath('.ipynb_checkpoints/answer-checkpoint.ipynb'),\n",
              " WindowsPath('007_std_libs.ipynb'),\n",
              " WindowsPath('answer.ipynb'),\n",
              " WindowsPath('new_dir1'),\n",
              " WindowsPath('new_dir1/new_dir2'),\n",
              " WindowsPath('new_dir1/new_dir2/new_item2.txt'),\n",
              " WindowsPath('new_dir1/test.txt'),\n",
              " WindowsPath('test.txt')]"
            ]
          },
          "execution_count": 38,
          "metadata": {},
          "output_type": "execute_result"
        }
      ],
      "source": [
        "shutil.copy(src=\"new_dir1/test.txt\", dst=\".\")\n",
        "sorted(pwd.glob(\"**/*\"))"
      ]
    },
    {
      "cell_type": "markdown",
      "id": "6e5a3b98-4516-4375-9aa6-d6c3cba3bb79",
      "metadata": {
        "id": "6e5a3b98-4516-4375-9aa6-d6c3cba3bb79"
      },
      "source": [
        "\u30c7\u30a3\u30ec\u30af\u30c8\u30ea\u306e\u5727\u7e2e\u306f\uff0c\n",
        "```\n",
        "shutil.make_archive(\n",
        "    base_name=\u62e1\u5f35\u5b50\u306a\u3057\u306e\u4f5c\u6210\u3059\u308b\u30d5\u30a1\u30a4\u30eb\u30d1\u30b9,\n",
        "    format=zip \u306a\u3069\u306e\u5727\u7e2e\u30d5\u30a1\u30a4\u30eb\u306e\u62e1\u5f35\u5b50\u306e\u6587\u5b57\u5217,\n",
        "    root_dir=\u5727\u7e2e\u3055\u305b\u308b\u5bfe\u8c61\u306e\u30c7\u30a3\u30ec\u30af\u30c8\u30ea\u30d1\u30b9,\n",
        ")\n",
        "```\n",
        "\u3067\u3067\u304d\u307e\u3059\uff0e  \n",
        "`format` \u306f \"zip\" \u4ee5\u5916\u306b\u3082\uff0c\"tar\", \"gztar\", \"bztar\", \"xztar\" \u3092\u7528\u3044\u308b\u3053\u3068\u304c\u3067\u304d\u307e\u3059\uff0e  \n",
        "\u8a66\u3057\u306b\uff0cnew_dir1 \u4ee5\u4e0b\u306e\u968e\u5c64\u3092 zip \u3067\u5727\u7e2e\u3057\u3066\uff0c\u3053\u306e\u968e\u5c64\u306b\u4fdd\u5b58\u3057\u3066\u307f\u307e\u3057\u3087\u3046\uff0e"
      ]
    },
    {
      "cell_type": "code",
      "execution_count": 39,
      "id": "986c4310-adf1-42b5-b9bc-36737fb929a7",
      "metadata": {
        "id": "986c4310-adf1-42b5-b9bc-36737fb929a7",
        "outputId": "b58d9812-f132-4aa7-d8a2-e21b8f10c15c"
      },
      "outputs": [
        {
          "data": {
            "text/plain": [
              "[WindowsPath('.ipynb_checkpoints'),\n",
              " WindowsPath('.ipynb_checkpoints/007_std_libs-checkpoint.ipynb'),\n",
              " WindowsPath('.ipynb_checkpoints/answer-checkpoint.ipynb'),\n",
              " WindowsPath('007_std_libs.ipynb'),\n",
              " WindowsPath('answer.ipynb'),\n",
              " WindowsPath('new_dir1'),\n",
              " WindowsPath('new_dir1/new_dir2'),\n",
              " WindowsPath('new_dir1/new_dir2/new_item2.txt'),\n",
              " WindowsPath('new_dir1/test.txt'),\n",
              " WindowsPath('new_dir1.zip'),\n",
              " WindowsPath('test.txt')]"
            ]
          },
          "execution_count": 39,
          "metadata": {},
          "output_type": "execute_result"
        }
      ],
      "source": [
        "shutil.make_archive(\n",
        "    base_name=\"new_dir1\", format=\"zip\", root_dir=\"new_dir1\"\n",
        ")\n",
        "sorted(pwd.glob(\"**/*\"))"
      ]
    },
    {
      "cell_type": "markdown",
      "id": "5b0ee6c9-afdf-47a6-bc82-9ea32d3b0987",
      "metadata": {
        "id": "5b0ee6c9-afdf-47a6-bc82-9ea32d3b0987"
      },
      "source": [
        "\u5727\u7e2e\u30d5\u30a1\u30a4\u30eb\u306e\u5c55\u958b\u306f\uff0c\n",
        "```\n",
        "shutil.unpack_archive(\n",
        "    filename=\u5727\u7e2e\u30d5\u30a1\u30a4\u30eb\u30d1\u30b9,\n",
        "    extract_dir=\u5c55\u958b\u3059\u308b\u30c7\u30a3\u30ec\u30af\u30c8\u30ea\u30d1\u30b9\n",
        ")\n",
        "```\n",
        "\u3067\u3067\u304d\u307e\u3059\uff0e  \n",
        "new_dir1.zip \u3092\u3053\u3053\u306b\u5c55\u958b\u3059\u308b\u3068\u5143\u306e\u30d5\u30a9\u30eb\u30c0\u3068\u88ab\u308b\u306e\u3067\uff0c\u5225\u306b unpack \u3068\u3044\u3046\u540d\u524d\u306e\u30c7\u30a3\u30ec\u30af\u30c8\u30ea\u3092\u4f5c\u3063\u3066\uff0c\u305d\u3053\u306b new_dir1.zip \u3092\u5165\u308c\uff0c\u305d\u306e\u4e2d\u3067\u5c55\u958b\u3057\u3066\u307f\u307e\u3059\uff0e"
      ]
    },
    {
      "cell_type": "code",
      "execution_count": 40,
      "id": "61523273-80ed-4cd8-90f0-f9265f4778b3",
      "metadata": {
        "id": "61523273-80ed-4cd8-90f0-f9265f4778b3",
        "outputId": "bcd70fd4-40c5-445b-e07d-94aac58aed12"
      },
      "outputs": [
        {
          "data": {
            "text/plain": [
              "[WindowsPath('.ipynb_checkpoints'),\n",
              " WindowsPath('.ipynb_checkpoints/007_std_libs-checkpoint.ipynb'),\n",
              " WindowsPath('.ipynb_checkpoints/answer-checkpoint.ipynb'),\n",
              " WindowsPath('007_std_libs.ipynb'),\n",
              " WindowsPath('answer.ipynb'),\n",
              " WindowsPath('new_dir1'),\n",
              " WindowsPath('new_dir1/new_dir2'),\n",
              " WindowsPath('new_dir1/new_dir2/new_item2.txt'),\n",
              " WindowsPath('new_dir1/test.txt'),\n",
              " WindowsPath('test.txt'),\n",
              " WindowsPath('unpack'),\n",
              " WindowsPath('unpack/new_dir1.zip')]"
            ]
          },
          "execution_count": 40,
          "metadata": {},
          "output_type": "execute_result"
        }
      ],
      "source": [
        "Path(\"unpack\").mkdir()\n",
        "shutil.move(src=\"new_dir1.zip\", dst=\"unpack/\")\n",
        "sorted(pwd.glob(\"**/*\"))"
      ]
    },
    {
      "cell_type": "code",
      "execution_count": 41,
      "id": "82eaabb0-59f4-4c6e-b62b-136a797dcc48",
      "metadata": {
        "id": "82eaabb0-59f4-4c6e-b62b-136a797dcc48",
        "outputId": "68b78ca7-852a-4105-b567-8eaf5572eba1"
      },
      "outputs": [
        {
          "data": {
            "text/plain": [
              "[WindowsPath('.ipynb_checkpoints'),\n",
              " WindowsPath('.ipynb_checkpoints/007_std_libs-checkpoint.ipynb'),\n",
              " WindowsPath('.ipynb_checkpoints/answer-checkpoint.ipynb'),\n",
              " WindowsPath('007_std_libs.ipynb'),\n",
              " WindowsPath('answer.ipynb'),\n",
              " WindowsPath('new_dir1'),\n",
              " WindowsPath('new_dir1/new_dir2'),\n",
              " WindowsPath('new_dir1/new_dir2/new_item2.txt'),\n",
              " WindowsPath('new_dir1/test.txt'),\n",
              " WindowsPath('test.txt'),\n",
              " WindowsPath('unpack'),\n",
              " WindowsPath('unpack/new_dir1.zip'),\n",
              " WindowsPath('unpack/new_dir2'),\n",
              " WindowsPath('unpack/new_dir2/new_item2.txt'),\n",
              " WindowsPath('unpack/test.txt')]"
            ]
          },
          "execution_count": 41,
          "metadata": {},
          "output_type": "execute_result"
        }
      ],
      "source": [
        "shutil.unpack_archive(\n",
        "    filename=\"unpack/new_dir1.zip\", extract_dir=\"unpack/\"\n",
        ")\n",
        "sorted(pwd.glob(\"**/*\"))"
      ]
    },
    {
      "cell_type": "markdown",
      "id": "8e687e2d-b46f-4997-8bc6-ebfd42c21b0f",
      "metadata": {
        "id": "8e687e2d-b46f-4997-8bc6-ebfd42c21b0f"
      },
      "source": [
        "`shutil.rmtree(path=\u30c7\u30a3\u30ec\u30af\u30c8\u30ea\u30d1\u30b9)` \u3068\u3059\u308b\u3053\u3068\u306b\u3088\u308a\uff0c\u6307\u5b9a\u3057\u305f\u30c7\u30a3\u30ec\u30af\u30c8\u30ea\u3088\u308a\u3082\u4e0b\u5c64\u306e\u30d5\u30a1\u30a4\u30eb\uff0f\u30c7\u30a3\u30ec\u30af\u30c8\u30ea\u542b\u3081\u5168\u3066\u6839\u3053\u305d\u304e\u524a\u9664\u3059\u308b\u3053\u3068\u304c\u3067\u304d\u307e\u3059\uff0e"
      ]
    },
    {
      "cell_type": "code",
      "execution_count": 42,
      "id": "c13880b6-3779-4b4c-bf09-a8a038c1de04",
      "metadata": {
        "id": "c13880b6-3779-4b4c-bf09-a8a038c1de04",
        "outputId": "435a63c9-2f91-4808-b356-29301b0f8f23"
      },
      "outputs": [
        {
          "data": {
            "text/plain": [
              "[WindowsPath('.ipynb_checkpoints'),\n",
              " WindowsPath('.ipynb_checkpoints/007_std_libs-checkpoint.ipynb'),\n",
              " WindowsPath('.ipynb_checkpoints/answer-checkpoint.ipynb'),\n",
              " WindowsPath('007_std_libs.ipynb'),\n",
              " WindowsPath('answer.ipynb'),\n",
              " WindowsPath('new_dir1'),\n",
              " WindowsPath('new_dir1/new_dir2'),\n",
              " WindowsPath('new_dir1/new_dir2/new_item2.txt'),\n",
              " WindowsPath('new_dir1/test.txt'),\n",
              " WindowsPath('test.txt')]"
            ]
          },
          "execution_count": 42,
          "metadata": {},
          "output_type": "execute_result"
        }
      ],
      "source": [
        "shutil.rmtree(path=\"unpack\")\n",
        "sorted(pwd.glob(\"**/*\"))"
      ]
    },
    {
      "cell_type": "markdown",
      "id": "1ddfcd01-0614-4404-aa22-823d1704eb06",
      "metadata": {
        "id": "1ddfcd01-0614-4404-aa22-823d1704eb06"
      },
      "source": [
        "## time"
      ]
    },
    {
      "cell_type": "markdown",
      "id": "7b508fe6-d864-4ec5-9924-219f0d550719",
      "metadata": {
        "id": "7b508fe6-d864-4ec5-9924-219f0d550719"
      },
      "source": [
        "time (https://docs.python.org/ja/3/library/time.html) \u306f\uff0c\u6642\u9593\u8a08\u6e2c\u306a\u3069\u3092\u884c\u3046\u6a19\u6e96\u30e9\u30a4\u30d6\u30e9\u30ea\u3067\u3059\uff0e  \n",
        "\u4e00\u5b9a\u6642\u9593\u51e6\u7406\u3092\u6b62\u3081\u305f\u3044\u3068\u304d\u3084\u51e6\u7406\u306e\u6642\u9593\u3092\u8a08\u6e2c\u3059\u308b\u3068\u304d\u306b\u7528\u3044\u307e\u3059\uff0e"
      ]
    },
    {
      "cell_type": "code",
      "execution_count": 43,
      "id": "c8b52fe8-2176-4f0d-bb9a-9c223397fced",
      "metadata": {
        "id": "c8b52fe8-2176-4f0d-bb9a-9c223397fced"
      },
      "outputs": [],
      "source": [
        "import time"
      ]
    },
    {
      "cell_type": "markdown",
      "id": "4d261947-de0b-4274-a188-499ac6e5a9e1",
      "metadata": {},
      "source": [
        "\u4e00\u5b9a\u6642\u9593\u51e6\u7406\u3092\u6b62\u3081\u305f\u3044\u3068\u304d\u306f\uff0c`time.sleep(\u6b62\u3081\u305f\u3044\u79d2\u6570)` \u3092\u5b9f\u884c\u3057\u307e\u3059\uff0e  \n",
        "\u79d2\u6570\u306f\uff0cfloat \u3067\u3082\u6307\u5b9a\u304c\u53ef\u80fd\u3067\u3059\uff0e"
      ]
    },
    {
      "cell_type": "code",
      "execution_count": 44,
      "id": "dfdefaed-ca7b-4595-903d-ee4ad73a009a",
      "metadata": {},
      "outputs": [
        {
          "name": "stdout",
          "output_type": "stream",
          "text": [
            "start\n",
            "1\n",
            "2\n",
            "3\n",
            "4\n",
            "5\n",
            "end\n"
          ]
        }
      ],
      "source": [
        "print(\"start\")\n",
        "for i in range(5):\n",
        "    time.sleep(1)\n",
        "    print(i+1)\n",
        "print(\"end\")"
      ]
    },
    {
      "cell_type": "markdown",
      "id": "bbe6f5fb-6a3a-4b8c-b6bb-385e8695e4e0",
      "metadata": {},
      "source": [
        "\u30d7\u30ed\u30b0\u30e9\u30e0\u304c\u30b9\u30bf\u30fc\u30c8\u3057\u3066\u304b\u3089\u4eca\u307e\u3067\u306e\u7d4c\u904e\u6642\u9593\u306b\u3064\u3044\u3066\uff0c\u8272\u3093\u306a\u65b9\u6cd5\u304c\u3042\u308b\u306e\u3067\u3059\u304c\uff0c\u7cbe\u5ea6\u306a\u3069\u3092\u8003\u616e\u3059\u308b\u3068\u500b\u4eba\u7684\u306a\u304a\u3059\u3059\u3081\u306f\uff0c`time.perf_counter()` \u3092\u7528\u3044\u3066\u53d6\u5f97\u3059\u308b\u65b9\u6cd5\u3067\u3059\uff0e  \n",
        "\u3053\u308c\u306b\u3088\u308a\uff0c\u6b63\u78ba\u306a\u6642\u9593\u304c 0.1 \u30de\u30a4\u30af\u30ed\u79d2\u30aa\u30fc\u30c0\u30fc\u307e\u3067\u53d6\u5f97\u3059\u308b\u3053\u3068\u304c\u53ef\u80fd\u3067\u3059\uff0e"
      ]
    },
    {
      "cell_type": "code",
      "execution_count": 45,
      "id": "442ceaed-0fb3-431b-91be-da21e1d549d5",
      "metadata": {
        "id": "442ceaed-0fb3-431b-91be-da21e1d549d5"
      },
      "outputs": [
        {
          "data": {
            "text/plain": [
              "118.5410032"
            ]
          },
          "execution_count": 45,
          "metadata": {},
          "output_type": "execute_result"
        }
      ],
      "source": [
        "time.perf_counter()"
      ]
    },
    {
      "cell_type": "code",
      "execution_count": 46,
      "id": "17268716-5d5c-4b92-a6d1-a19f67a90141",
      "metadata": {
        "id": "442ceaed-0fb3-431b-91be-da21e1d549d5"
      },
      "outputs": [
        {
          "data": {
            "text/plain": [
              "118.5596373"
            ]
          },
          "execution_count": 46,
          "metadata": {},
          "output_type": "execute_result"
        }
      ],
      "source": [
        "time.perf_counter()"
      ]
    },
    {
      "cell_type": "markdown",
      "id": "1f11ba89-2265-494a-a8dc-2164d6c5e78a",
      "metadata": {},
      "source": [
        "\u30d7\u30ed\u30b0\u30e9\u30e0\u30b9\u30bf\u30fc\u30c8\u3057\u3066\u304b\u3089\u306e\u7d4c\u904e\u6642\u9593\u3067\u3042\u308b\u305f\u3081\uff0c\u3042\u308b\u51e6\u7406\u306e\u584a\u306b\u3064\u3044\u3066\u306e\u6642\u9593\u3092\u6e2c\u5b9a\u3057\u305f\u3044\u5834\u5408\u306b\u306f\uff0c\u6b21\u306e\u3088\u3046\u306b\u51e6\u7406\u306e\u524d\u306e `tstart = time.perf_counter()` \u306e\u3088\u3046\u306b\u5909\u6570\u306b\u4ee3\u5165\u3057\u3066\u304a\u304d\uff0c\u7d4c\u904e\u6642\u9593\u7b97\u51fa\u6642\u306b `time.perf_counter() - tstart` \u3068\u3059\u308b\u3053\u3068\u3067\uff0c\u7d4c\u904e\u6642\u9593\u3092\u53d6\u5f97\u3059\u308b\u3053\u3068\u304c\u3067\u304d\u307e\u3059\uff0e"
      ]
    },
    {
      "cell_type": "code",
      "execution_count": 47,
      "id": "3e00870b-1b15-46f2-b7ff-eae6fae99540",
      "metadata": {},
      "outputs": [
        {
          "data": {
            "text/plain": [
              "1.0034763999999967"
            ]
          },
          "execution_count": 47,
          "metadata": {},
          "output_type": "execute_result"
        }
      ],
      "source": [
        "tstart = time.perf_counter()\n",
        "time.sleep(1)\n",
        "telpsd = time.perf_counter() - tstart\n",
        "telpsd"
      ]
    },
    {
      "cell_type": "markdown",
      "id": "eed7548c-29df-4a76-9e66-0c6e1e9851ce",
      "metadata": {
        "id": "eed7548c-29df-4a76-9e66-0c6e1e9851ce"
      },
      "source": [
        "## datetime"
      ]
    },
    {
      "cell_type": "markdown",
      "id": "86bd22a0-34c5-40cd-a312-c27c28970d3c",
      "metadata": {
        "id": "86bd22a0-34c5-40cd-a312-c27c28970d3c"
      },
      "source": [
        "datetime (https://docs.python.org/ja/3/library/datetime.html) \u306f\uff0c\u65e5\u4ed8\uff0f\u6642\u5dee\u53d6\u5f97\u306a\u3069\u3092\u884c\u3046\u6a19\u6e96\u30e9\u30a4\u30d6\u30e9\u30ea\u3067\u3059\uff0e  \n",
        "datetime \u306f\u3053\u306e\u4e2d\u306e datetime \u30aa\u30d6\u30b8\u30a7\u30af\u30c8\u3092\u7528\u3044\u308b\u3053\u3068\u304c\u307b\u3068\u3093\u3069\u3067\u3059\u306e\u3067\uff0c\u4ee5\u4e0b\u306e\u3088\u3046\u306b import \u3057\u3066\u3057\u307e\u3046\u3053\u3068\u304c\u591a\u3044\u3067\u3059\uff0e"
      ]
    },
    {
      "cell_type": "code",
      "execution_count": 48,
      "id": "1b4684e1-6a43-4085-bbdc-c81814eeb25a",
      "metadata": {
        "id": "1b4684e1-6a43-4085-bbdc-c81814eeb25a"
      },
      "outputs": [],
      "source": [
        "from datetime import datetime"
      ]
    },
    {
      "cell_type": "markdown",
      "id": "88a4966e-5518-4dab-aee9-f9d0710a4e8e",
      "metadata": {},
      "source": [
        "\u73fe\u5728\u306e\u65e5\u4ed8\u3068\u6642\u523b\u306f `datetime.now(\u30bf\u30a4\u30e0\u30be\u30fc\u30f3)` \u306b\u3066\u53d6\u5f97\u3067\u304d\u307e\u3059\uff0e  \n",
        "\u5f15\u6570\u306e\u30bf\u30a4\u30e0\u30be\u30fc\u30f3\u306f\uff0c\u521d\u671f\u5024\u304c None \u3067\u3042\u308a\uff0c\u3053\u306e\u5834\u5408\u306f\u30b7\u30b9\u30c6\u30e0\u306e\u30bf\u30a4\u30e0\u30be\u30fc\u30f3\u304c\u9069\u7528\u3055\u308c\u307e\u3059\uff0e"
      ]
    },
    {
      "cell_type": "code",
      "execution_count": 49,
      "id": "0c64d79d-e1eb-43cb-a8d2-fd0ebb665d9c",
      "metadata": {
        "id": "0c64d79d-e1eb-43cb-a8d2-fd0ebb665d9c"
      },
      "outputs": [
        {
          "data": {
            "text/plain": [
              "datetime.datetime(2022, 2, 11, 1, 12, 18, 950631)"
            ]
          },
          "execution_count": 49,
          "metadata": {},
          "output_type": "execute_result"
        }
      ],
      "source": [
        "datetime.now()"
      ]
    },
    {
      "cell_type": "markdown",
      "id": "d2a6ccf8-5ff3-415b-b478-fa93c36a953b",
      "metadata": {},
      "source": [
        "\u5de6\u304b\u3089\u9806\u306b\uff0c\u5e74\uff0c\u6708\uff0c\u65e5\uff0c\u6642\uff0c\u5206\uff0c\u79d2\uff0c\u30b5\u30d6\u79d2 \u3067\u3059\uff0e  \n",
        "\u3053\u308c\u306e type \u306f\uff0c"
      ]
    },
    {
      "cell_type": "code",
      "execution_count": 50,
      "id": "96e27215-6ab2-4d56-af9d-11956e5b1bae",
      "metadata": {
        "id": "0c64d79d-e1eb-43cb-a8d2-fd0ebb665d9c"
      },
      "outputs": [
        {
          "data": {
            "text/plain": [
              "datetime.datetime"
            ]
          },
          "execution_count": 50,
          "metadata": {},
          "output_type": "execute_result"
        }
      ],
      "source": [
        "type(datetime.now())"
      ]
    },
    {
      "cell_type": "markdown",
      "id": "76e57a16-9802-49d7-b388-f538df52f462",
      "metadata": {},
      "source": [
        "\u3068\u3044\u3046\u3053\u3068\u3067\uff0cdatetime.datetime \u3067\u3059\uff0e  \n",
        "\u30bf\u30a4\u30e0\u30be\u30fc\u30f3\u3092\u6c17\u306b\u3057\u306a\u3051\u308c\u3070\u306a\u3089\u306a\u3044\u30b1\u30fc\u30b9\u3068\u3057\u3066\uff0c\u4f8b\u3048\u3070\uff0c\u4e16\u754c\u3067\u500b\u3005\u306b\u540c\u6642\u3067\u30c7\u30fc\u30bf\u3092\u53d6\u5f97\u3057\u3066\uff0c\u500b\u3005\u306e\u30b7\u30b9\u30c6\u30e0\u306b\u4f9d\u5b58\u3057\u305f\u30bf\u30a4\u30e0\u30be\u30fc\u30f3\u3067\u6642\u9593\u306e\u60c5\u5831\u3092\u4fdd\u5b58\u3055\u308c\u3066\u3044\u308b\u3068\u304d\u306b\uff0c\u3069\u3053\u304b\u306e\u6642\u523b\u3067\u7d71\u4e00\u3057\u3066\u8003\u3048\u305f\u307b\u3046\u304c\u826f\u3044\u5834\u5408\u3082\u3042\u308a\u307e\u3059\uff0e  \n",
        "datetime.datetime \u578b\u5909\u6570\u306b\u95a2\u3057\u3066\u306f\uff0ctzinfo \u306b\u3066\u30bf\u30a4\u30e0\u30be\u30fc\u30f3\u304c\u308f\u304b\u308a\u307e\u3059\uff08\u4ee5\u4e0b\u306f\uff0c\u623b\u308a\u5024\u304c None \u3067\u51fa\u529b\u3055\u308c\u306a\u3044\u305f\u3081\uff0c\u3042\u3048\u3066 print \u3092\u7528\u3044\u3066\u8868\u793a\u3057\u3066\u3044\u307e\u3059\uff09\uff0e"
      ]
    },
    {
      "cell_type": "code",
      "execution_count": 51,
      "id": "2d28137e-a0ee-4b96-84c8-82205941e0dd",
      "metadata": {
        "id": "2d28137e-a0ee-4b96-84c8-82205941e0dd"
      },
      "outputs": [
        {
          "name": "stdout",
          "output_type": "stream",
          "text": [
            "None\n"
          ]
        }
      ],
      "source": [
        "print(datetime.now().tzinfo)"
      ]
    },
    {
      "cell_type": "markdown",
      "id": "71575c1a-ed0d-4feb-b03e-b4c1479830c3",
      "metadata": {},
      "source": [
        "\u30bf\u30a4\u30e0\u30be\u30fc\u30f3\u3092\u3042\u308f\u305b\u305f\u3044\u5834\u5408\uff0c\u4e16\u754c\u6a19\u6e96\u6642\uff08UTC\uff09\u306b\u3059\u308b\uff0c\u307e\u305f\u306f\uff0c\u4e16\u754c\u6a19\u6e96\u6642\u304b\u3089\u4f55\u6642\u9593\u30d7\u30e9\u30b9\uff0f\u30de\u30a4\u30ca\u30b9\u3067\u66f8\u304f\u3053\u3068\u304c\u591a\u3044\u3067\u3059\uff0e  \n",
        "\u30bf\u30a4\u30e0\u30be\u30fc\u30f3\u3092 UTC \u306b\u6307\u5b9a\u3059\u308b\u5834\u5408\u306f\uff0cdatetime \u30e9\u30a4\u30d6\u30e9\u30ea\u306e timezone \u30aa\u30d6\u30b8\u30a7\u30af\u30c8\u304c\u4f7f\u3048\u307e\u3059\uff0e"
      ]
    },
    {
      "cell_type": "code",
      "execution_count": 52,
      "id": "b99bf911-e961-4bd1-b321-8e6b8aa329b4",
      "metadata": {
        "id": "b99bf911-e961-4bd1-b321-8e6b8aa329b4"
      },
      "outputs": [],
      "source": [
        "from datetime import timezone"
      ]
    },
    {
      "cell_type": "markdown",
      "id": "1d5882cb-a83e-4b54-9985-9a5edc6b3794",
      "metadata": {},
      "source": [
        "\u3053\u308c\u3092\u7528\u3044\u3066 UTC \u306b\u3057\u305f\u3044\u5834\u5408\u306f\uff0c\u9055\u3044\u3092\u898b\u305b\u308b\u305f\u3081\u306b\u4e00\u7dd2\u306b\u65e5\u672c\u306e\u6642\u523b\u3082\u53d6\u5f97\u3059\u308b\u3068\uff0c"
      ]
    },
    {
      "cell_type": "code",
      "execution_count": 53,
      "id": "592f9c2a-d865-417f-a607-5e25828e0214",
      "metadata": {},
      "outputs": [
        {
          "name": "stdout",
          "output_type": "stream",
          "text": [
            "japan: 2022-02-11 01:12:19.042634\n",
            "utc: 2022-02-10 16:12:19.042634+00:00\n"
          ]
        }
      ],
      "source": [
        "ja_time = datetime.now()\n",
        "utc_time = datetime.now(timezone.utc)\n",
        "\n",
        "print(f\"japan: {ja_time}\")\n",
        "print(f\"utc: {utc_time}\")"
      ]
    },
    {
      "cell_type": "markdown",
      "id": "cfb4a0a6-76d8-44f8-83ac-956178e76bc1",
      "metadata": {},
      "source": [
        "\u3068\u3044\u3046\u3053\u3068\u3067\uff0c\u3054\u5b58\u77e5\u306e\u3068\u304a\u308a\u4e16\u754c\u6a19\u6e96\u6642\u3088\u308a\u65e5\u672c\u306f 9 \u6642\u9593\u9032\u3093\u3067\u3044\u307e\u3059\uff0e  \n",
        "\u53d6\u5f97\u6642\u523b\u304c\u30b7\u30b9\u30c6\u30e0\u306b\u5f71\u97ff\u3055\u305b\u306a\u3044\u3088\u3046\u306b\u3059\u308b\u305f\u3081\u306b\u306f\u4e0a\u8a18 timezone.utc \u3092\u6307\u5b9a\u3057\u305f\u6642\u523b\u306b\u6642\u5dee\u5206\u3092\u8db3\u3057\u5f15\u304d\u3057\u307e\u3057\u3087\u3046\uff08\u30b5\u30fc\u30c9\u30d1\u30fc\u30c6\u30a3\u30e9\u30a4\u30d6\u30e9\u30ea\u306e pytz \u3092\u7528\u3044\u3066\u30bf\u30a4\u30e0\u30be\u30fc\u30f3\u3092\u6307\u5b9a\u3059\u308b\u3053\u3068\u3082\u3067\u304d\u307e\u3059\uff09\uff0e\n",
        "\n",
        "datetime.datetime \u578b\u540c\u58eb\u306f\u5f15\u304d\u7b97\u304c\u53ef\u80fd\u3067\u3059\uff0e"
      ]
    },
    {
      "cell_type": "code",
      "execution_count": 54,
      "id": "8fd2a099-165d-43c0-ac88-92e1744d622c",
      "metadata": {
        "id": "64e1f3c1-1976-44d4-9ee9-c12a7affc6e7"
      },
      "outputs": [
        {
          "data": {
            "text/plain": [
              "datetime.timedelta(seconds=1, microseconds=7944)"
            ]
          },
          "execution_count": 54,
          "metadata": {},
          "output_type": "execute_result"
        }
      ],
      "source": [
        "tstart = datetime.now()\n",
        "time.sleep(1)\n",
        "telapsed = datetime.now() - tstart\n",
        "telapsed"
      ]
    },
    {
      "cell_type": "markdown",
      "id": "5bfd43af-a7ad-49e0-bd27-e8c84bf9a1fa",
      "metadata": {},
      "source": [
        "\u3053\u306e\u3068\u304a\u308a\uff0cdatetime.datetime \u578b\u540c\u58eb\u306e\u5f15\u304d\u7b97\u306f datetime.timedelta \u578b\u306b\u306a\u308a\u307e\u3059\uff0e  \n",
        "\u3053\u306e\u6642\u9593\u306e\u5dee\u5206\u306b\u3064\u3044\u3066\uff0cfloat \u306e\u79d2\u6570\u3067\u53d6\u5f97\u3057\u305f\u304f\u306a\u308b\u3053\u3068\u304c\u591a\u3044\u3068\u601d\u3046\u306e\u3067\u3059\u304c\uff0c\u305d\u306e\u5909\u63db\u306f datetime.timedelta \u578b\u5909\u6570\u306b\u5bfe\u3057\u3066 total_seconds() \u30e1\u30bd\u30c3\u30c9\u3092\u7528\u3044\u308b\u3053\u3068\u306b\u3088\u308a\u53d6\u5f97\u3067\u304d\u307e\u3059\uff0e"
      ]
    },
    {
      "cell_type": "code",
      "execution_count": 55,
      "id": "40c27aee-0bda-4f7e-82b5-860d7c81519f",
      "metadata": {},
      "outputs": [
        {
          "data": {
            "text/plain": [
              "1.007944"
            ]
          },
          "execution_count": 55,
          "metadata": {},
          "output_type": "execute_result"
        }
      ],
      "source": [
        "telapsed.total_seconds()"
      ]
    },
    {
      "cell_type": "code",
      "execution_count": 56,
      "id": "c9b96c57-4240-485d-81f3-1507b5dc1efc",
      "metadata": {},
      "outputs": [
        {
          "data": {
            "text/plain": [
              "float"
            ]
          },
          "execution_count": 56,
          "metadata": {},
          "output_type": "execute_result"
        }
      ],
      "source": [
        "type(telapsed.total_seconds())"
      ]
    },
    {
      "cell_type": "markdown",
      "id": "d368d207-0b1b-4772-b250-25aa0a0d1654",
      "metadata": {},
      "source": [
        "datetime.datetime \u30aa\u30d6\u30b8\u30a7\u30af\u30c8\u306b\u3064\u3044\u3066\u3082\u3053\u306e\u307e\u307e\u7528\u3044\u308b\u306e\u3067\u306f\u306a\u304f\uff0c\u6587\u5b57\u5217\u306e\u30bf\u30a4\u30e0\u30b9\u30bf\u30f3\u30d7\u306b\u3057\u3066\uff0c\u4f8b\u3048\u3070\u30d5\u30a1\u30a4\u30eb\u540d\u3084\u6642\u7cfb\u5217\u30c7\u30fc\u30bf\u306e\u7d22\u5f15\u3068\u3057\u3066\u7528\u3044\u308b\u3053\u3068\u304c\u3042\u308b\u3068\u601d\u3044\u307e\u3059\uff0e  \n",
        "\u3053\u306e\u3088\u3046\u306b\uff0c\u6307\u5b9a\u3057\u305f\u6587\u5b57\u5217\u306b\u5909\u63db\u3059\u308b\u305f\u3081\u306b\u306f\uff0c"
      ]
    },
    {
      "cell_type": "markdown",
      "id": "8c8caa04-4b5e-4c67-b1c6-d25f8025205a",
      "metadata": {},
      "source": [
        "```\n",
        "datetime\u578b\u5909\u6570.strftime(\u66f8\u5f0f\u6307\u5b9a\u5b50)\n",
        "```"
      ]
    },
    {
      "cell_type": "markdown",
      "id": "62fdec76-fb06-4fdc-905a-64dbe2ee2f14",
      "metadata": {},
      "source": [
        "\u3068\u3044\u3046\u98a8\u306b\uff0c srtftime \u30e1\u30bd\u30c3\u30c9\u3092\u7528\u3044\u307e\u3059\uff0e  \n",
        "\u5f15\u6570\u306e\u66f8\u5f0f\u6307\u5b9a\u5b50\u306f\uff0c\u516c\u5f0f\u30c9\u30ad\u30e5\u30e1\u30f3\u30c8 (https://docs.python.org/ja/3/library/datetime.html) \u304b\u3089\u826f\u304f\u4f7f\u3046\u3082\u306e\u3092\u4ee5\u4e0b\u306b\u629c\u7c8b\u3057\u307e\u3059\uff0e"
      ]
    },
    {
      "cell_type": "markdown",
      "id": "35f25b70-ceb9-471d-b3dd-92305129bfda",
      "metadata": {},
      "source": [
        "| \u6307\u5b9a\u5b50 | \u610f\u5473 | \u4f7f\u7528\u4f8b |\n",
        "| - | - | - |\n",
        "| %a | \u30ed\u30b1\u30fc\u30eb\u306e\u77ed\u7e2e\u7cfb\u306e\u66dc\u65e5\u540d | Sun, Mon, ..., Sat |\n",
        "| %A | \u30ed\u30b1\u30fc\u30eb\u306e\u66dc\u65e5\u540d | Sunday, Monday, ..., Saturday |\n",
        "| %d | 0 \u57cb\u3081\u3057\u305f 10 \u9032\u6570\u3067\u8868\u8a18\u3057\u305f\u65e5\u306b\u3061 | 01, 02, ..., 31 |\n",
        "| %m | 0 \u57cb\u3081\u3057\u305f 10 \u9032\u6570\u3067\u8868\u8a18\u3057\u305f\u6708 | 01, 02, ..., 12 |\n",
        "| %Y | \u897f\u66a6\u3092\u8868\u793a | 1900, 1901, ..., 2022, ... |\n",
        "| %H | 0 \u57cb\u3081\u3057\u305f 10 \u9032\u6570\u3067\u8868\u8a18\u3057\u305f 24 \u6642\u9593\u8868\u8a18\u306e\u6642\u9593 | 00, 01, ..., 23 |\n",
        "| %M | 0 \u57cb\u3081\u3057\u305f 10 \u9032\u6570\u3067\u8868\u8a18\u3057\u305f\u5206 | 00, 01, ..., 59 |\n",
        "| %S | 0 \u57cb\u3081\u3057\u305f 10 \u9032\u6570\u3067\u8868\u8a18\u3057\u305f\u79d2 | 00, 01, ..., 59 |\n",
        "| %f | \u30de\u30a4\u30af\u30ed\u79d2 | 000000, 000001, ..., 999999 |\n",
        "| %Z | \u30bf\u30a4\u30e0\u30be\u30fc\u30f3\u306e\u540d\u524d | UTC, GMT, ... |"
      ]
    },
    {
      "cell_type": "markdown",
      "id": "1561a583-73b3-43ba-a45b-59b3919decc5",
      "metadata": {},
      "source": [
        "\u4f8b\u3048\u3070\uff0c\u53d6\u5f97\u3057\u305f\u6642\u9593\u3092\u6587\u5b57\u5217\u306e\u30bf\u30a4\u30e0\u30b9\u30bf\u30f3\u30d7\u3068\u3057\u3066\u7528\u3044\u308b\u3053\u3068\u3092\u60f3\u5b9a\u3059\u308b\u3068\uff0c"
      ]
    },
    {
      "cell_type": "code",
      "execution_count": 57,
      "id": "874cf800-861e-4d14-a2c1-a1e6e5ef5fc5",
      "metadata": {},
      "outputs": [
        {
          "data": {
            "text/plain": [
              "'20220211011221540247'"
            ]
          },
          "execution_count": 57,
          "metadata": {},
          "output_type": "execute_result"
        }
      ],
      "source": [
        "date_str = datetime.now().strftime(\"%Y%m%d%H%M%S%f\")\n",
        "date_str"
      ]
    },
    {
      "cell_type": "markdown",
      "id": "656cb6cf-575d-4c7b-8fa4-0f04afd85636",
      "metadata": {},
      "source": [
        "\u3068\u3044\u3046\u98a8\u306b\u3067\u304d\uff0c\u3053\u308c\u3092\u4f8b\u3048\u3070\u30d5\u30a1\u30a4\u30eb\u540d\u306a\u3069\u306b\u7528\u3044\u308b\u3053\u3068\u304c\u3067\u304d\u307e\u3059\uff0e"
      ]
    },
    {
      "cell_type": "markdown",
      "id": "1ffd19c4-37d3-4412-9112-062b85950576",
      "metadata": {},
      "source": [
        "\u9006\u306b\uff0c"
      ]
    },
    {
      "cell_type": "markdown",
      "id": "e7a1b56d-2b9b-4a2c-b87a-faf91899c040",
      "metadata": {},
      "source": [
        "```\n",
        "datetime.strptime(\u65e5\u4ed8\u3092\u8868\u3059\u6587\u5b57\u5217, \u66f8\u5f0f\u6307\u5b9a\u5b50)\n",
        "``` "
      ]
    },
    {
      "cell_type": "markdown",
      "id": "f3c354e4-9600-4b9c-add1-7e4e6f9b5873",
      "metadata": {},
      "source": [
        "\u3092\u7528\u3044\u308b\u3053\u3068\u306b\u3088\u308a\uff0c\u6587\u5b57\u5217\u304b\u3089 datetime.datetime \u578b\u306b\u3082\u5909\u63db\u3067\u304d\u307e\u3059\uff0e"
      ]
    },
    {
      "cell_type": "code",
      "execution_count": 58,
      "id": "81e6dbde-ad54-4aac-86a2-6378afc922e5",
      "metadata": {},
      "outputs": [
        {
          "data": {
            "text/plain": [
              "datetime.datetime(2022, 2, 11, 1, 12, 21, 540247)"
            ]
          },
          "execution_count": 58,
          "metadata": {},
          "output_type": "execute_result"
        }
      ],
      "source": [
        "datetime.strptime(date_str, \"%Y%m%d%H%M%S%f\")"
      ]
    },
    {
      "cell_type": "markdown",
      "id": "658682e8-ad13-4373-bed0-bc5332798740",
      "metadata": {
        "id": "406c8980-508a-4c73-9833-85f5646911e1"
      },
      "source": [
        "\u30b7\u30c1\u30e5\u30a8\u30fc\u30b7\u30e7\u30f3\u3068\u3057\u3066\u306f\uff0c\u30bf\u30a4\u30e0\u30b9\u30bf\u30f3\u30d7\u304b\u3089\u6642\u9593\u5dee\u3092\u9006\u7b97\u3059\u308b\u969b\u306b\u7528\u3044\u308b\u5834\u5408\u304c\u60f3\u5b9a\u3055\u308c\u307e\u3059\uff0e"
      ]
    },
    {
      "cell_type": "markdown",
      "id": "bc2223d3-2089-4d1a-aa92-4e1bca0f68fc",
      "metadata": {},
      "source": [
        "\u4eca\u56de\u306f\uff0c\u30d5\u30a1\u30a4\u30eb\uff0f\u30c7\u30a3\u30ec\u30af\u30c8\u30ea\u64cd\u4f5c\u3068\u3044\u3063\u305f\u30d1\u30b9\u5468\u308a\u3060\u3063\u305f\u308a\uff0c\u6642\u9593\u3092\u6271\u3046\u6a19\u6e96\u30e9\u30a4\u30d6\u30e9\u30ea\u3092\u4e3b\u306b\u7d39\u4ecb\u3057\u307e\u3057\u305f\uff0e  \n",
        "\u4ed6\u306b\u3082\uff0c\u4e71\u6570\u3092\u6271\u3046 random \u3060\u3063\u305f\u308a\uff0c\u6570\u5b66\u95a2\u6570\u3092\u6271\u3046 math\uff0c\u7d71\u8a08\u95a2\u6570\u3092\u6271\u3046 statistics\uff0c\u307e\u305f\u306f\uff0ccsv \u30d5\u30a1\u30a4\u30eb\u306e\u5165\u51fa\u529b\u306b\u6709\u76ca\u306a csv \u3068\u3044\u3063\u305f\u6a19\u6e96\u30e9\u30a4\u30d6\u30e9\u30ea\u304c\u3042\u308a\u307e\u3059\u304c\uff0c\u3053\u308c\u3089\u3092\u4f7f\u308f\u305a\u306b\u512a\u79c0\u306a\u30b5\u30fc\u30c9\u30d1\u30fc\u30c6\u30a3\u30e9\u30a4\u30d6\u30e9\u30ea\u3092\u4f7f\u3046\u3053\u3068\u304c\u591a\u3044\u306e\u3067\u5272\u611b\u3057\u307e\u3059\uff0e  \n",
        "\u4e0a\u8a18\u306e\u30b5\u30fc\u30c9\u30d1\u30fc\u30c6\u30a3\u30e9\u30a4\u30d6\u30e9\u30ea\u306b\u3064\u3044\u3066\u306f\uff0c\u307e\u305f\u4ed6\u306e\u8a18\u4e8b\u306b\u8a18\u8f09\u3044\u305f\u3057\u307e\u3059\uff0e"
      ]
    },
    {
      "cell_type": "markdown",
      "id": "658a7469-9825-4b1d-9082-550a56064d87",
      "metadata": {
        "id": "955738d2-205d-4f1a-b2e6-011adff6359e"
      },
      "source": [
        "## \u6f14\u7fd2\u554f\u984c"
      ]
    },
    {
      "cell_type": "markdown",
      "id": "31e14741-7602-4807-8835-4a1193575494",
      "metadata": {
        "id": "76ad493a-5155-4d8d-92a2-19bed0e92227"
      },
      "source": [
        "Q1. \u65e5\u6642\u3092\u8868\u3059 2 \u3064\u306e\u6587\u5b57\u5217 `\"2038/01/19-03:14:07.000000\"`, `\"2045/01/01-00:00:00.000000\"` \u306b\u3064\u3044\u3066\u6642\u9593\u306e\u5dee\u3092\u79d2\u3067\u51fa\u529b\u3057\u3066\u304f\u3060\u3055\u3044\uff0e"
      ]
    },
    {
      "cell_type": "code",
      "execution_count": 59,
      "id": "9536261f-da0b-4c59-b9af-2d8635316b64",
      "metadata": {},
      "outputs": [
        {
          "data": {
            "text/plain": [
              "[WindowsPath('.ipynb_checkpoints'),\n",
              " WindowsPath('007_std_libs.ipynb'),\n",
              " WindowsPath('answer.ipynb'),\n",
              " WindowsPath('new_dir1'),\n",
              " WindowsPath('test.txt')]"
            ]
          },
          "execution_count": 59,
          "metadata": {},
          "output_type": "execute_result"
        }
      ],
      "source": [
        "sorted(Path(\"./\").iterdir())"
      ]
    },
    {
      "cell_type": "markdown",
      "id": "24197569-19ca-4f83-817a-22f6bc67e710",
      "metadata": {},
      "source": [
        "Q2. \u4e0a\u8a18\u306e\u3088\u3046\u306b `new_dir1` \u3068 `test.txt` \u304c\u3053\u306e\u30c7\u30a3\u30ec\u30af\u30c8\u30ea\u306b\u6b8b\u3063\u305f\u307e\u307e\u306a\u306e\u3067\uff0c\u3053\u308c\u3089\u4e8c\u3064\u3092\u30d7\u30ed\u30b0\u30e9\u30df\u30f3\u30b0\u3067\u524a\u9664\u3057\u307e\u3057\u3087\u3046\uff08\u30a8\u30af\u30b9\u30d7\u30ed\u30fc\u30e9\u30fc\u304b\u3089\u524a\u9664\u3057\u306a\u3044\u3067\u304f\u3060\u3055\u3044\u306d\uff09\uff0e  \n",
        "Q3. \u3053\u306e\u30d5\u30a1\u30a4\u30eb\u306f\u3044\u3064\u958b\u304d\u307e\u3057\u305f\u304b\uff1f datetime.datetime \u578b\u306b\u3066\u6559\u3048\u3066\u304f\u3060\u3055\u3044\uff0e"
      ]
    },
    {
      "cell_type": "code",
      "execution_count": null,
      "id": "c096767e-231d-4781-b05d-e4a9760fc6e7",
      "metadata": {},
      "outputs": [],
      "source": []
    }
  ],
  "metadata": {
    "colab": {
      "name": "007_std_libs.ipynb",
      "provenance": []
    },
    "kernelspec": {
      "display_name": "Python 3 (ipykernel)",
      "language": "python",
      "name": "python3"
    },
    "language_info": {
      "codemirror_mode": {
        "name": "ipython",
        "version": 3
      },
      "file_extension": ".py",
      "mimetype": "text/x-python",
      "name": "python",
      "nbconvert_exporter": "python",
      "pygments_lexer": "ipython3",
      "version": "3.9.9"
    }
  },
  "nbformat": 4,
  "nbformat_minor": 5
}
