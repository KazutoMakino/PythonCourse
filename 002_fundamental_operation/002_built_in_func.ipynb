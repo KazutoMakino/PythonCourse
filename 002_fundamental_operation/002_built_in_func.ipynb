{
 "cells": [
  {
   "cell_type": "markdown",
   "metadata": {},
   "source": [
    "# 【自前python講座-002】組み込み関数について\n",
    "\n",
    "---\n",
    "\n",
    "- ref: https://docs.python.org/ja/3.7/library/functions.html\n",
    "- blog: https://slash-z.com/\n",
    "- github: https://github.com/KazutoMakino/PythonCourses\n",
    "\n",
    "インポートや定義しなくても使えるような，元から python にて用意されている組み込み関数は，python 3.9 においては全部で 69 種類あります．  \n",
    "この中にはあまり使わない関数もあるため，良く使われる 37 種類の組み込み関数について紹介いたします．\n",
    "\n",
    "---"
   ]
  },
  {
   "cell_type": "markdown",
   "metadata": {},
   "source": [
    "## 0. 目次: <a class=\"anchor\" id=\"0\"></a>\n",
    "\n",
    "| idx | title || idx | title |\n",
    "| --- | ----- |-| --- | ----- |\n",
    "| 1. | [print(): 出力関数](#print) || 21. | [len(): 要素数／長さを取得](#len) |\n",
    "| 2. | [input(): 入力関数](#input) || 22. | [max(): 最大値を取得](#max) |\n",
    "| 3. | [int(): 整数型へキャスト](#int) || 23. | [min(): 最小値を取得](#min) |\n",
    "| 4. | [bool(): bool 型へキャスト](#bool) || 24. | [all(): 全ての要素に対する判定](#all) |\n",
    "| 5. | [float(): 64 bit 浮動小数点型へキャスト](#float) || 25. | [any(): いずれかの要素に対する判定](#any) |\n",
    "| 6. | [str(): 文字列型へキャスト](#str) || 26. | [range(): 数のイミュータブルなシーケンスを指定長にて作成](#range) |\n",
    "| 7. | [complex(): 複素数型へキャスト](#complex) || 27. | [sorted(): ソート結果を取得](#sorted) |\n",
    "| 8. | [abs(): 絶対値の取得](#abs) || 28. | [slice(): スライスを取得](#slice) |\n",
    "| 9. | [round(): 指定する桁を偶数丸め](#round) || 29. | [iter(): イテレータ作成](#iter) |\n",
    "| 10. | [divmod(): 商と余りのタプルを取得](#divmod) || 30. | [reversed(): 要素を逆順に取り出すイテレータを取得](#reversed) |\n",
    "| 11. | [sum(): 総和を取得](#sum) || 31. | [next(): イテレータの次の要素を取得](#next) |\n",
    "| 12. | [pow(): べき乗計算](#pow) || 32. | [enumerate(): enumerate オブジェクトを取得](#enumerate) |\n",
    "| 13. | [type(): オブジェクトの型を取得](#type) || 33. | [zip(): それぞれのイテラブルから要素を集めたイテレータを作成](#zip) |\n",
    "| 14. | [isinstance(): 型の判定](#isinstance) || 34. | [map(): マップ型へキャスト](#map) |\n",
    "| 15. | [dir(): オブジェクトの有効な属性のリストを返す](#dir) || 35. | [eval(): 文字列型の式の演算結果を取得](#eval) |\n",
    "| 16. | [help(): ヘルプを開始／表示](#help) || 36. | [exec(): 文字列型の式を演算](#exec) |\n",
    "| 17. | [list(): リスト型へキャスト](#list) || 37. | [open(): ファイルを開く](#open) |\n",
    "| 18. | [tuple(): タプル型へキャスト](#tuple) || |\n",
    "| 19. | [set(): 集合型へキャスト](#set) || |\n",
    "| 20. | [dict(): 辞書型へキャスト](#dict) || |"
   ]
  },
  {
   "cell_type": "markdown",
   "metadata": {},
   "source": [
    "---\n",
    "\n",
    "## print(): 出力関数 <a class=\"anchor\" id=\"print\"></a>  \n",
    "[目次に戻る](#0)  "
   ]
  },
  {
   "cell_type": "markdown",
   "metadata": {},
   "source": [
    "`print(*objects, sep=\" \", end=\"\\n\", file=sys.stdout, flush=False)`:  \n",
    "`objects` を `sep` で区切りながらテキストストリーム `file`に表示し，最後に `end` を表示します．キーワード無しの引数は全て，`str()` がするように文字列に変換され，`sep` で区切られながらストリームに書き出され，最後に `end` が続きます．`sep` と `end` は両方とも文字列でなければなりません．"
   ]
  },
  {
   "cell_type": "code",
   "execution_count": 1,
   "metadata": {},
   "outputs": [
    {
     "name": "stdout",
     "output_type": "stream",
     "text": [
      "hello world\n",
      "hello world\n",
      "hello-------world\n",
      "hello...world\n"
     ]
    }
   ],
   "source": [
    "print(\"hello world\")\n",
    "print(\"hello\", \"world\")\n",
    "print(\"hello\", \"world\", sep=\"-------\")\n",
    "print(\"hello\", end=\"...\")\n",
    "print(\"world\")"
   ]
  },
  {
   "cell_type": "markdown",
   "metadata": {},
   "source": [
    "---\n",
    "\n",
    "## input(): 入力関数 <a class=\"anchor\" id=\"input\"></a>  \n",
    "[目次に戻る](#0)  "
   ]
  },
  {
   "cell_type": "markdown",
   "metadata": {},
   "source": [
    "`input(prompt)`:  \n",
    "引数 `prompt` が存在すれば，それが末尾の開業を除いて標準出力に書き出されます．次に，この関数は入力から1行を読み込み，文字列に変換して（末尾の開業を除いて）返します．EOF が読み込まれたとき，`EOFError` が送出されます．"
   ]
  },
  {
   "cell_type": "code",
   "execution_count": 2,
   "metadata": {},
   "outputs": [
    {
     "name": "stdin",
     "output_type": "stream",
     "text": [
      " hello\n"
     ]
    },
    {
     "data": {
      "text/plain": [
       "'hello'"
      ]
     },
     "execution_count": 2,
     "metadata": {},
     "output_type": "execute_result"
    }
   ],
   "source": [
    "input()"
   ]
  },
  {
   "cell_type": "code",
   "execution_count": 3,
   "metadata": {},
   "outputs": [
    {
     "name": "stdin",
     "output_type": "stream",
     "text": [
      "hello  world\n"
     ]
    },
    {
     "data": {
      "text/plain": [
       "'world'"
      ]
     },
     "execution_count": 3,
     "metadata": {},
     "output_type": "execute_result"
    }
   ],
   "source": [
    "input(\"hello \")"
   ]
  },
  {
   "cell_type": "markdown",
   "metadata": {},
   "source": [
    "---\n",
    "\n",
    "## int(): 整数型へキャスト <a class=\"anchor\" id=\"int\"></a>  \n",
    "[目次に戻る](#0)  "
   ]
  },
  {
   "cell_type": "markdown",
   "metadata": {},
   "source": [
    "`int(x)` または `int(x, base=10)`:  \n",
    "数値または文字列 `x` から生成された整数オブジェクトを返します．引数が与えられない場合には 0 を返します．"
   ]
  },
  {
   "cell_type": "code",
   "execution_count": 4,
   "metadata": {},
   "outputs": [
    {
     "data": {
      "text/plain": [
       "(1, -1, 1, 0, 1, 0)"
      ]
     },
     "execution_count": 4,
     "metadata": {},
     "output_type": "execute_result"
    }
   ],
   "source": [
    "int(1), int(-1), int(\"1\"), int(0.999), int(float(1)), int()"
   ]
  },
  {
   "cell_type": "markdown",
   "metadata": {},
   "source": [
    "---\n",
    "\n",
    "## bool(): bool 型へキャスト <a class=\"anchor\" id=\"bool\"></a>  \n",
    "[目次に戻る](#0)  "
   ]
  },
  {
   "cell_type": "markdown",
   "metadata": {},
   "source": [
    "`bool(x)`:  \n",
    "ブール値を返します．`x` が偽または省略されている場合は `False` を返し，それ以外では `True` を返します．"
   ]
  },
  {
   "cell_type": "code",
   "execution_count": 5,
   "metadata": {},
   "outputs": [
    {
     "data": {
      "text/plain": [
       "(True, False, True, True, True, False, True)"
      ]
     },
     "execution_count": 5,
     "metadata": {},
     "output_type": "execute_result"
    }
   ],
   "source": [
    "(\n",
    "    bool(1),\n",
    "    bool(0),\n",
    "    bool(-100),\n",
    "    bool(100),\n",
    "    bool(1+1j),\n",
    "    bool(\"\"),\n",
    "    bool(\" \")\n",
    ")"
   ]
  },
  {
   "cell_type": "markdown",
   "metadata": {},
   "source": [
    "`False` は以下の真理値判定手続きに基づくとのことで，これら以外は `True` (https://docs.python.org/ja/3.7/library/stdtypes.html#truth) ．\n",
    "\n",
    "- 偽であると定義されている定数\n",
    "- 数値型におけるゼロ\n",
    "- 空のシーケンスまたはコレクション"
   ]
  },
  {
   "cell_type": "markdown",
   "metadata": {},
   "source": [
    "---\n",
    "\n",
    "## float(): 64 bit 浮動小数点型へキャスト <a class=\"anchor\" id=\"float\"></a>  \n",
    "[目次に戻る](#0)  "
   ]
  },
  {
   "cell_type": "markdown",
   "metadata": {},
   "source": [
    "`float(x)`:  \n",
    "数または文字列 `x` から生成された浮動小数点数を返します．引数が文字列の場合，10進数を含んだ文字列にしてください．"
   ]
  },
  {
   "cell_type": "code",
   "execution_count": 6,
   "metadata": {},
   "outputs": [
    {
     "data": {
      "text/plain": [
       "(1.0, -1.0, 3.0, 0.0)"
      ]
     },
     "execution_count": 6,
     "metadata": {},
     "output_type": "execute_result"
    }
   ],
   "source": [
    "float(1), float(\"-1\"), float(1+2), float()"
   ]
  },
  {
   "cell_type": "markdown",
   "metadata": {},
   "source": [
    "---\n",
    "\n",
    "## str(): 文字列型へキャスト <a class=\"anchor\" id=\"str\"></a>  \n",
    "[目次に戻る](#0)  "
   ]
  },
  {
   "cell_type": "markdown",
   "metadata": {},
   "source": [
    "`str(object=\"\")` または `str(object=b\"\", encoding=\"utf-8\", errors=\"strict\")`:  \n",
    "`object` の文字列版を返します．`object` が与えられなかった場合，空文字列が返されます．  \n",
    "`encoding` か `errors` の少なくとも一方が与えられた場合，`object` は例えば bytes や bytearray の byte-like object でなければなりません．"
   ]
  },
  {
   "cell_type": "code",
   "execution_count": 7,
   "metadata": {},
   "outputs": [
    {
     "data": {
      "text/plain": [
       "('123', '', 3.0)"
      ]
     },
     "execution_count": 7,
     "metadata": {},
     "output_type": "execute_result"
    }
   ],
   "source": [
    "str(123), str(), float(str(int(3.14)))"
   ]
  },
  {
   "cell_type": "markdown",
   "metadata": {},
   "source": [
    "---\n",
    "\n",
    "## complex(): 複素数型へキャスト <a class=\"anchor\" id=\"complex\"></a>  \n",
    "[目次に戻る](#0)  "
   ]
  },
  {
   "cell_type": "markdown",
   "metadata": {},
   "source": [
    "`complex(real, imag)`:  \n",
    "値 `real + imag*j` の複素数を返すか，文字列や数を複素数に変換します．第一引数が文字列なら，それが複素数と解釈され，この関数は第二引数なしで呼び出さなければなりません．第二引数は文字列であってはなりません．それぞれの引数は（複素数を含む）任意の数値型です．`imag` が省略された場合，標準の値はゼロで，このコンストラクタは `int` や `float` のような数値変換として働きます．両方の引数が省略された場合，`0j` を返します．引数に文字列を取る場合は，この文字列が複素数型ライクにする必要があり，かつ，実部と虚部の間の符号の前後に半角スペースを入れると `TypeError`になるので注意．"
   ]
  },
  {
   "cell_type": "code",
   "execution_count": 8,
   "metadata": {},
   "outputs": [
    {
     "data": {
      "text/plain": [
       "((1+1j), (1+1j))"
      ]
     },
     "execution_count": 8,
     "metadata": {},
     "output_type": "execute_result"
    }
   ],
   "source": [
    "complex(1, 1), complex(\"1+1j\")"
   ]
  },
  {
   "cell_type": "code",
   "execution_count": 9,
   "metadata": {},
   "outputs": [
    {
     "ename": "ValueError",
     "evalue": "complex() arg is a malformed string",
     "output_type": "error",
     "traceback": [
      "\u001b[1;31m---------------------------------------------------------------------------\u001b[0m",
      "\u001b[1;31mValueError\u001b[0m                                Traceback (most recent call last)",
      "\u001b[1;32m~\\AppData\\Local\\Temp/ipykernel_10324/2440202854.py\u001b[0m in \u001b[0;36m<module>\u001b[1;34m\u001b[0m\n\u001b[1;32m----> 1\u001b[1;33m \u001b[0mcomplex\u001b[0m\u001b[1;33m(\u001b[0m\u001b[1;34m\"1 + 1j\"\u001b[0m\u001b[1;33m)\u001b[0m\u001b[1;33m\u001b[0m\u001b[1;33m\u001b[0m\u001b[0m\n\u001b[0m",
      "\u001b[1;31mValueError\u001b[0m: complex() arg is a malformed string"
     ]
    }
   ],
   "source": [
    "complex(\"1 + 1j\")"
   ]
  },
  {
   "cell_type": "markdown",
   "metadata": {},
   "source": [
    "---\n",
    "\n",
    "## abs(): 絶対値の取得 <a class=\"anchor\" id=\"abs\"></a>  \n",
    "[目次に戻る](#0)  "
   ]
  },
  {
   "cell_type": "markdown",
   "metadata": {},
   "source": [
    "`abs(x)`:  \n",
    "`x` の絶対値を返します．引数が複素数である場合はノルム（複素平面上における複素ベクトルの長さ）を返します．"
   ]
  },
  {
   "cell_type": "code",
   "execution_count": 10,
   "metadata": {},
   "outputs": [
    {
     "data": {
      "text/plain": [
       "(5, 5, 1.4142135623730951)"
      ]
     },
     "execution_count": 10,
     "metadata": {},
     "output_type": "execute_result"
    }
   ],
   "source": [
    "abs(5), abs(-5), abs(1+1j)"
   ]
  },
  {
   "cell_type": "markdown",
   "metadata": {},
   "source": [
    "最後の出力は $\\sqrt{2} = 1.41421356...$ です．"
   ]
  },
  {
   "cell_type": "markdown",
   "metadata": {},
   "source": [
    "---\n",
    "\n",
    "## round(): 指定する桁を偶数丸め <a class=\"anchor\" id=\"round\"></a>  \n",
    "[目次に戻る](#0)  "
   ]
  },
  {
   "cell_type": "markdown",
   "metadata": {},
   "source": [
    "`round(number, ndigits)`:  \n",
    "`number` の小数部を `ndigits` 桁に丸めた値を返します．`ndigits` が省略されたり `None` だった場合，入力値に最も近い整数を返します．  \n",
    "`round()` をサポートする組み込み型では，値は 10  のマイナス `ndigits` 乗の倍数の中で最も近いものに丸められます．二つの倍数が同じだけ近いなら，偶数を選ぶ方に丸められます（偶数丸め，銀行丸め）．`ndigits` には任意の整数値が有効となります．返り値は `ndigits` が指定されていないか `None` の場合は整数，そうでなければ返り値は `number` と同じ型です．"
   ]
  },
  {
   "cell_type": "code",
   "execution_count": 11,
   "metadata": {},
   "outputs": [
    {
     "data": {
      "text/plain": [
       "(1, 3, 1.0, 140, 0, 1, 0.5)"
      ]
     },
     "execution_count": 11,
     "metadata": {},
     "output_type": "execute_result"
    }
   ],
   "source": [
    "round(1), round(3.14), round(0.999, 2), round(135, -1), round(0.5), round(0.501), round(0.501, 1)"
   ]
  },
  {
   "cell_type": "markdown",
   "metadata": {},
   "source": [
    "---\n",
    "\n",
    "## divmod(): 商と余りのタプルを取得 <a class=\"anchor\" id=\"divmod\"></a>  \n",
    "[目次に戻る](#0)  "
   ]
  },
  {
   "cell_type": "markdown",
   "metadata": {},
   "source": [
    "`divmod(a, b)`:  \n",
    "複素数でない 2 つの数を引数として取り，整数の除去を行った時の商と余りからなるペアを返します．この返り値は，`(a // b, a % b)` と同じです．"
   ]
  },
  {
   "cell_type": "code",
   "execution_count": 12,
   "metadata": {},
   "outputs": [
    {
     "data": {
      "text/plain": [
       "(1, 2)"
      ]
     },
     "execution_count": 12,
     "metadata": {},
     "output_type": "execute_result"
    }
   ],
   "source": [
    "divmod(5, 3)"
   ]
  },
  {
   "cell_type": "code",
   "execution_count": 13,
   "metadata": {},
   "outputs": [
    {
     "data": {
      "text/plain": [
       "(3855, 0)"
      ]
     },
     "execution_count": 13,
     "metadata": {},
     "output_type": "execute_result"
    }
   ],
   "source": [
    "divmod(2**16 - 1, 17)"
   ]
  },
  {
   "cell_type": "markdown",
   "metadata": {},
   "source": [
    "---\n",
    "\n",
    "## sum(): 総和を取得 <a class=\"anchor\" id=\"sum\"></a>  \n",
    "[目次に戻る](#0)  "
   ]
  },
  {
   "cell_type": "markdown",
   "metadata": {},
   "source": [
    "`sum(iterable, start)`:  \n",
    "`start` と `iterable` の要素を左から右へ合計し，総和を返します．`start` はデフォルトで `0` です．`iterable` の要素は通常は数値で，`start` の値は文字列であってはなりません．"
   ]
  },
  {
   "cell_type": "code",
   "execution_count": 14,
   "metadata": {},
   "outputs": [
    {
     "data": {
      "text/plain": [
       "(3, 3, 10, 11)"
      ]
     },
     "execution_count": 14,
     "metadata": {},
     "output_type": "execute_result"
    }
   ],
   "source": [
    "sum((1,2)), sum([1, 2]), sum(range(5)), sum([0,0], 11)"
   ]
  },
  {
   "cell_type": "markdown",
   "metadata": {},
   "source": [
    "---\n",
    "\n",
    "## pow(): べき乗計算 <a class=\"anchor\" id=\"pow\"></a>  \n",
    "[目次に戻る](#0)  "
   ]
  },
  {
   "cell_type": "markdown",
   "metadata": {},
   "source": [
    "`pow(x, y, z)`:  \n",
    "`x` の `y` 乗を返し，これは `x**y` と等価です．`z` があれば，`x` の `y` 乗に対する `z` の余りを返し，これは `pow(x, y) % z` と同じ結果になりますが，前者の方がより効率よく計算されます．"
   ]
  },
  {
   "cell_type": "code",
   "execution_count": 15,
   "metadata": {},
   "outputs": [
    {
     "data": {
      "text/plain": [
       "(256, 2, (-1+1.2246467991473532e-16j))"
      ]
     },
     "execution_count": 15,
     "metadata": {},
     "output_type": "execute_result"
    }
   ],
   "source": [
    "pow(2, 8), pow(2, 3, 3), pow(2.718281828459045235360287471352, 3.141592653589793238462643j)"
   ]
  },
  {
   "cell_type": "code",
   "execution_count": 16,
   "metadata": {},
   "outputs": [
    {
     "data": {
      "text/plain": [
       "(True, True)"
      ]
     },
     "execution_count": 16,
     "metadata": {},
     "output_type": "execute_result"
    }
   ],
   "source": [
    "pow(2, 8) == 2**8, pow(2, 3, 3)==2**3 % 3"
   ]
  },
  {
   "cell_type": "markdown",
   "metadata": {},
   "source": [
    "---\n",
    "\n",
    "## type(): オブジェクトの型を取得 <a class=\"anchor\" id=\"type\"></a>  \n",
    "[目次に戻る](#0)  "
   ]
  },
  {
   "cell_type": "markdown",
   "metadata": {},
   "source": [
    "`type(object)` または `type(name, bases, dict)`:  \n",
    "引数が 1 つだけの場合，`object` の型を返します．返り値は型オブジェクトで，一般に `object.__class__` によって返されるのと同じオブジェクトです．オブジェクトの型の判定には，`isinstance()` 関数を使うことが推奨されます．これはサブクラスを考慮するからです．  \n",
    "引数が 3 つの場合，新しい型オブジェクトを返します．本質的には `class` 文の動的な形式です．`name` 文字列はクラス名で，`__name__` 属性になります．`bases` タプルは基底クラスの羅列で，`__bases__` 属性になります．`dict` はクラス本体の定義を含む名前空間で，標準の辞書にコピーされて `__dict__` 属性になります．"
   ]
  },
  {
   "cell_type": "code",
   "execution_count": 17,
   "metadata": {},
   "outputs": [
    {
     "data": {
      "text/plain": [
       "(int, float, bool, complex, NoneType)"
      ]
     },
     "execution_count": 17,
     "metadata": {},
     "output_type": "execute_result"
    }
   ],
   "source": [
    "type(1), type(1.0), type(True), type(1j), type(None)"
   ]
  },
  {
   "cell_type": "code",
   "execution_count": 18,
   "metadata": {},
   "outputs": [
    {
     "data": {
      "text/plain": [
       "__main__.x"
      ]
     },
     "execution_count": 18,
     "metadata": {},
     "output_type": "execute_result"
    }
   ],
   "source": [
    "new_type = type(\"x\", (object,), {\"a\": 1})\n",
    "new_type"
   ]
  },
  {
   "cell_type": "code",
   "execution_count": 19,
   "metadata": {},
   "outputs": [
    {
     "data": {
      "text/plain": [
       "1"
      ]
     },
     "execution_count": 19,
     "metadata": {},
     "output_type": "execute_result"
    }
   ],
   "source": [
    "new_type.a"
   ]
  },
  {
   "cell_type": "code",
   "execution_count": 20,
   "metadata": {},
   "outputs": [
    {
     "data": {
      "text/plain": [
       "type"
      ]
     },
     "execution_count": 20,
     "metadata": {},
     "output_type": "execute_result"
    }
   ],
   "source": [
    "type(new_type)"
   ]
  },
  {
   "cell_type": "markdown",
   "metadata": {},
   "source": [
    "---\n",
    "\n",
    "## isinstance(): 型の判定 <a class=\"anchor\" id=\"isinstance\"></a>  \n",
    "[目次に戻る](#0)  "
   ]
  },
  {
   "cell_type": "markdown",
   "metadata": {},
   "source": [
    "`isinstance(object, classinfo)`:  \n",
    "`object` 引数が `classinfo` 引数のインスタンスであるか，サブクラスのインスタンスの場合に `True` を返します．`object` が与えられた方のオブジェクトでない場合，この関数は常に `False` を返します．`classinfo` が型オブジェクトのタプルの場合，`object` がそれらのいずれかのインスタンスであれば `True` を返します．`classinfo` が型や方からなるタプル，あるいは複数のタプルのいずれでもない場合，`TypeError` が送出されます．"
   ]
  },
  {
   "cell_type": "code",
   "execution_count": 21,
   "metadata": {},
   "outputs": [
    {
     "data": {
      "text/plain": [
       "(True, True, False, True)"
      ]
     },
     "execution_count": 21,
     "metadata": {},
     "output_type": "execute_result"
    }
   ],
   "source": [
    "a = \"test\"\n",
    "b = 1\n",
    "isinstance(a, str), isinstance(b, int), isinstance(b, float), isinstance(b, (str, int, float))"
   ]
  },
  {
   "cell_type": "markdown",
   "metadata": {},
   "source": [
    "---\n",
    "\n",
    "## dir(): オブジェクトの有効な属性のリストを返す <a class=\"anchor\" id=\"dir\"></a>  \n",
    "[目次に戻る](#0)  "
   ]
  },
  {
   "cell_type": "markdown",
   "metadata": {},
   "source": [
    "`dir(object)`:  \n",
    "引数が無い場合，現在のローカルスコープにある名前のリストを返します．引数がある場合，そのオブジェクトの有効な属性のリストを返そうと試みます．"
   ]
  },
  {
   "cell_type": "code",
   "execution_count": 22,
   "metadata": {},
   "outputs": [
    {
     "name": "stdout",
     "output_type": "stream",
     "text": [
      "['__abs__', '__add__', '__and__', '__bool__', '__ceil__', '__class__', '__delattr__', '__dir__', '__divmod__', '__doc__', '__eq__', '__float__', '__floor__', '__floordiv__', '__format__', '__ge__', '__getattribute__', '__getnewargs__', '__gt__', '__hash__', '__index__', '__init__', '__init_subclass__', '__int__', '__invert__', '__le__', '__lshift__', '__lt__', '__mod__', '__mul__', '__ne__', '__neg__', '__new__', '__or__', '__pos__', '__pow__', '__radd__', '__rand__', '__rdivmod__', '__reduce__', '__reduce_ex__', '__repr__', '__rfloordiv__', '__rlshift__', '__rmod__', '__rmul__', '__ror__', '__round__', '__rpow__', '__rrshift__', '__rshift__', '__rsub__', '__rtruediv__', '__rxor__', '__setattr__', '__sizeof__', '__str__', '__sub__', '__subclasshook__', '__truediv__', '__trunc__', '__xor__', 'as_integer_ratio', 'bit_length', 'conjugate', 'denominator', 'from_bytes', 'imag', 'numerator', 'real', 'to_bytes']\n"
     ]
    }
   ],
   "source": [
    "print(dir(int(-1)))"
   ]
  },
  {
   "cell_type": "code",
   "execution_count": 23,
   "metadata": {},
   "outputs": [
    {
     "data": {
      "text/plain": [
       "1"
      ]
     },
     "execution_count": 23,
     "metadata": {},
     "output_type": "execute_result"
    }
   ],
   "source": [
    "int(1).__abs__()"
   ]
  },
  {
   "cell_type": "code",
   "execution_count": 24,
   "metadata": {},
   "outputs": [
    {
     "name": "stdout",
     "output_type": "stream",
     "text": [
      "['In', 'Out', '_', '_10', '_11', '_12', '_13', '_14', '_15', '_16', '_17', '_18', '_19', '_2', '_20', '_21', '_23', '_3', '_4', '_5', '_6', '_7', '_8', '__', '___', '__builtin__', '__builtins__', '__doc__', '__loader__', '__name__', '__package__', '__spec__', '_dh', '_i', '_i1', '_i10', '_i11', '_i12', '_i13', '_i14', '_i15', '_i16', '_i17', '_i18', '_i19', '_i2', '_i20', '_i21', '_i22', '_i23', '_i24', '_i3', '_i4', '_i5', '_i6', '_i7', '_i8', '_i9', '_ih', '_ii', '_iii', '_oh', 'a', 'b', 'exit', 'get_ipython', 'new_type', 'quit']\n"
     ]
    }
   ],
   "source": [
    "print(dir())"
   ]
  },
  {
   "cell_type": "markdown",
   "metadata": {},
   "source": [
    "先ほど変数定義した，`a, b, new_type` が含まれていますね．"
   ]
  },
  {
   "cell_type": "markdown",
   "metadata": {},
   "source": [
    "---\n",
    "\n",
    "## help(): ヘルプを開始／表示 <a class=\"anchor\" id=\"help\"></a>  \n",
    "[目次に戻る](#0)  "
   ]
  },
  {
   "cell_type": "markdown",
   "metadata": {},
   "source": [
    "`help(object)`:  \n",
    "`object` のヘルプを表示します．引数が与えられていない場合，対話的ヘルプシステムはインタプリタコンソール上で起動します．"
   ]
  },
  {
   "cell_type": "code",
   "execution_count": 25,
   "metadata": {},
   "outputs": [
    {
     "name": "stdout",
     "output_type": "stream",
     "text": [
      "Help on built-in function abs in module builtins:\n",
      "\n",
      "abs(x, /)\n",
      "    Return the absolute value of the argument.\n",
      "\n"
     ]
    }
   ],
   "source": [
    "help(abs)"
   ]
  },
  {
   "cell_type": "code",
   "execution_count": 26,
   "metadata": {},
   "outputs": [
    {
     "name": "stdout",
     "output_type": "stream",
     "text": [
      "Help on NoneType object:\n",
      "\n",
      "class NoneType(object)\n",
      " |  Methods defined here:\n",
      " |  \n",
      " |  __bool__(self, /)\n",
      " |      self != 0\n",
      " |  \n",
      " |  __repr__(self, /)\n",
      " |      Return repr(self).\n",
      " |  \n",
      " |  ----------------------------------------------------------------------\n",
      " |  Static methods defined here:\n",
      " |  \n",
      " |  __new__(*args, **kwargs) from builtins.type\n",
      " |      Create and return a new object.  See help(type) for accurate signature.\n",
      "\n"
     ]
    }
   ],
   "source": [
    "a = None\n",
    "help(a)"
   ]
  },
  {
   "cell_type": "markdown",
   "metadata": {},
   "source": [
    "---\n",
    "\n",
    "## list(): リスト型へキャスト <a class=\"anchor\" id=\"list\"></a>  \n",
    "[目次に戻る](#0)  "
   ]
  },
  {
   "cell_type": "markdown",
   "metadata": {},
   "source": [
    "`list(iterable)`:  \n",
    "`iterable` のリストを返します．"
   ]
  },
  {
   "cell_type": "code",
   "execution_count": 27,
   "metadata": {},
   "outputs": [
    {
     "data": {
      "text/plain": [
       "[0, 1]"
      ]
     },
     "execution_count": 27,
     "metadata": {},
     "output_type": "execute_result"
    }
   ],
   "source": [
    "list([0, 1])"
   ]
  },
  {
   "cell_type": "code",
   "execution_count": 28,
   "metadata": {},
   "outputs": [
    {
     "data": {
      "text/plain": [
       "[0, 1]"
      ]
     },
     "execution_count": 28,
     "metadata": {},
     "output_type": "execute_result"
    }
   ],
   "source": [
    "list((0, 1))"
   ]
  },
  {
   "cell_type": "markdown",
   "metadata": {},
   "source": [
    "---\n",
    "\n",
    "## tuple(): タプル型へキャスト <a class=\"anchor\" id=\"tuple\"></a>  \n",
    "[目次に戻る](#0)  "
   ]
  },
  {
   "cell_type": "markdown",
   "metadata": {},
   "source": [
    "`tuple(iterable)`:  \n",
    "`iterable` のタプルを返します．"
   ]
  },
  {
   "cell_type": "code",
   "execution_count": 29,
   "metadata": {},
   "outputs": [
    {
     "data": {
      "text/plain": [
       "(0, 1)"
      ]
     },
     "execution_count": 29,
     "metadata": {},
     "output_type": "execute_result"
    }
   ],
   "source": [
    "tuple([0, 1])"
   ]
  },
  {
   "cell_type": "markdown",
   "metadata": {},
   "source": [
    "---\n",
    "\n",
    "## set(): 集合型へキャスト <a class=\"anchor\" id=\"set\"></a>  \n",
    "[目次に戻る](#0)  "
   ]
  },
  {
   "cell_type": "markdown",
   "metadata": {},
   "source": [
    "`set(iterable)`:  \n",
    "オプションで `iterable` の要素を持つ，新しい `set` オブジェクトを返します．"
   ]
  },
  {
   "cell_type": "code",
   "execution_count": 30,
   "metadata": {},
   "outputs": [
    {
     "data": {
      "text/plain": [
       "{-1, 0, 1}"
      ]
     },
     "execution_count": 30,
     "metadata": {},
     "output_type": "execute_result"
    }
   ],
   "source": [
    "set([0, 1, 1, 0, -1])"
   ]
  },
  {
   "cell_type": "code",
   "execution_count": 31,
   "metadata": {},
   "outputs": [
    {
     "data": {
      "text/plain": [
       "{'\\n', '\\u3000', 'い', 'は'}"
      ]
     },
     "execution_count": 31,
     "metadata": {},
     "output_type": "execute_result"
    }
   ],
   "source": [
    "set(\"\"\"\n",
    "はは　は　は　は　いい\n",
    "\"\"\")"
   ]
  },
  {
   "cell_type": "code",
   "execution_count": 32,
   "metadata": {},
   "outputs": [
    {
     "data": {
      "text/plain": [
       "{' ',\n",
       " '.',\n",
       " 'I',\n",
       " 'a',\n",
       " 'b',\n",
       " 'e',\n",
       " 'g',\n",
       " 'h',\n",
       " 'i',\n",
       " 'k',\n",
       " 'n',\n",
       " 'o',\n",
       " 'r',\n",
       " 's',\n",
       " 't',\n",
       " 'w',\n",
       " 'y'}"
      ]
     },
     "execution_count": 32,
     "metadata": {},
     "output_type": "execute_result"
    }
   ],
   "source": [
    "set(\"I think that that that that that boy wrote is wrong.\")"
   ]
  },
  {
   "cell_type": "markdown",
   "metadata": {},
   "source": [
    "---\n",
    "\n",
    "## dict(): 辞書型へキャスト <a class=\"anchor\" id=\"dict\"></a>  \n",
    "[目次に戻る](#0)  "
   ]
  },
  {
   "cell_type": "markdown",
   "metadata": {},
   "source": [
    "`dict(**kwarg)` または `dict(mapping, **kwarg)` または `dict(iterable, **kwarg)`: 新しい辞書を作成します．  \n",
    "1 つ目は，`dict(key=value)` とすることにより辞書を作成します．  \n",
    "2 つ目は，`dict(zip(key_list, value_list))` とすることにより辞書を作成します．  \n",
    "3 つ目は，`dict([(key, value]))` とすることにより辞書を作成します．  "
   ]
  },
  {
   "cell_type": "code",
   "execution_count": 33,
   "metadata": {},
   "outputs": [
    {
     "ename": "TypeError",
     "evalue": "'int' object is not iterable",
     "output_type": "error",
     "traceback": [
      "\u001b[1;31m---------------------------------------------------------------------------\u001b[0m",
      "\u001b[1;31mTypeError\u001b[0m                                 Traceback (most recent call last)",
      "\u001b[1;32m~\\AppData\\Local\\Temp/ipykernel_10324/3483618521.py\u001b[0m in \u001b[0;36m<module>\u001b[1;34m\u001b[0m\n\u001b[1;32m----> 1\u001b[1;33m \u001b[0mdict\u001b[0m\u001b[1;33m(\u001b[0m\u001b[0mmap\u001b[0m\u001b[1;33m(\u001b[0m\u001b[1;34m\"1\"\u001b[0m\u001b[1;33m,\u001b[0m\u001b[1;36m1\u001b[0m\u001b[1;33m)\u001b[0m\u001b[1;33m)\u001b[0m\u001b[1;33m\u001b[0m\u001b[1;33m\u001b[0m\u001b[0m\n\u001b[0m",
      "\u001b[1;31mTypeError\u001b[0m: 'int' object is not iterable"
     ]
    }
   ],
   "source": [
    "dict(map(\"1\",1))"
   ]
  },
  {
   "cell_type": "code",
   "execution_count": 34,
   "metadata": {},
   "outputs": [
    {
     "data": {
      "text/plain": [
       "{'a': 0, 'b': 1, 'c': 2}"
      ]
     },
     "execution_count": 34,
     "metadata": {},
     "output_type": "execute_result"
    }
   ],
   "source": [
    "# dict(**kwarg)\n",
    "dict(a=0, b=1, c=2)"
   ]
  },
  {
   "cell_type": "code",
   "execution_count": 35,
   "metadata": {},
   "outputs": [
    {
     "data": {
      "text/plain": [
       "{'a': 0, 'b': 1, 'c': 2}"
      ]
     },
     "execution_count": 35,
     "metadata": {},
     "output_type": "execute_result"
    }
   ],
   "source": [
    "# dict(mapping, **kwarg)\n",
    "k = [\"a\", \"b\", \"c\"]\n",
    "v = [0, 1, 2]\n",
    "dict(zip(k, v))"
   ]
  },
  {
   "cell_type": "code",
   "execution_count": 36,
   "metadata": {},
   "outputs": [
    {
     "data": {
      "text/plain": [
       "{'a': 0, 'b': 1, 'c': 2}"
      ]
     },
     "execution_count": 36,
     "metadata": {},
     "output_type": "execute_result"
    }
   ],
   "source": [
    "# dict(iterable, **kwarg)\n",
    "dict([(\"a\", 0), (\"b\", 1), (\"c\", 2)])"
   ]
  },
  {
   "cell_type": "markdown",
   "metadata": {},
   "source": [
    "---\n",
    "\n",
    "## len(): 要素数／長さを取得 <a class=\"anchor\" id=\"len\"></a>  \n",
    "[目次に戻る](#0)  "
   ]
  },
  {
   "cell_type": "markdown",
   "metadata": {},
   "source": [
    "`len(s)`:  \n",
    "オブジェクト `s` の長さ（要素の数）を返します．引数はシーケンスかコレクションです．"
   ]
  },
  {
   "cell_type": "code",
   "execution_count": 37,
   "metadata": {},
   "outputs": [
    {
     "data": {
      "text/plain": [
       "4"
      ]
     },
     "execution_count": 37,
     "metadata": {},
     "output_type": "execute_result"
    }
   ],
   "source": [
    "a = \"test\"\n",
    "len(a)"
   ]
  },
  {
   "cell_type": "code",
   "execution_count": 38,
   "metadata": {},
   "outputs": [
    {
     "data": {
      "text/plain": [
       "4"
      ]
     },
     "execution_count": 38,
     "metadata": {},
     "output_type": "execute_result"
    }
   ],
   "source": [
    "a = [0, 1, 2, 3]\n",
    "len(a)"
   ]
  },
  {
   "cell_type": "code",
   "execution_count": 39,
   "metadata": {},
   "outputs": [
    {
     "data": {
      "text/plain": [
       "2"
      ]
     },
     "execution_count": 39,
     "metadata": {},
     "output_type": "execute_result"
    }
   ],
   "source": [
    "a = {\"a\": 0, \"b\": 1}\n",
    "len(a)"
   ]
  },
  {
   "cell_type": "code",
   "execution_count": 40,
   "metadata": {},
   "outputs": [
    {
     "data": {
      "text/plain": [
       "1"
      ]
     },
     "execution_count": 40,
     "metadata": {},
     "output_type": "execute_result"
    }
   ],
   "source": [
    "a = [[0, 1, 2, 3]]\n",
    "len(a)"
   ]
  },
  {
   "cell_type": "markdown",
   "metadata": {},
   "source": [
    "---\n",
    "\n",
    "## max(): 最大値を取得 <a class=\"anchor\" id=\"max\"></a>  \n",
    "[目次に戻る](#0)  "
   ]
  },
  {
   "cell_type": "markdown",
   "metadata": {},
   "source": [
    "`max(iterable, key, default)` または `max(arg1, arg2, *args, key)`:  \n",
    "`iterable` の中で最大の要素，または 2 つ以上の引数の中で最大のものを返します．"
   ]
  },
  {
   "cell_type": "code",
   "execution_count": 41,
   "metadata": {},
   "outputs": [
    {
     "data": {
      "text/plain": [
       "2"
      ]
     },
     "execution_count": 41,
     "metadata": {},
     "output_type": "execute_result"
    }
   ],
   "source": [
    "a = [0, 1, 2]\n",
    "max(a)"
   ]
  },
  {
   "cell_type": "code",
   "execution_count": 42,
   "metadata": {},
   "outputs": [
    {
     "data": {
      "text/plain": [
       "2"
      ]
     },
     "execution_count": 42,
     "metadata": {},
     "output_type": "execute_result"
    }
   ],
   "source": [
    "max(0, 1, 2)"
   ]
  },
  {
   "cell_type": "code",
   "execution_count": 43,
   "metadata": {},
   "outputs": [
    {
     "data": {
      "text/plain": [
       "True"
      ]
     },
     "execution_count": 43,
     "metadata": {},
     "output_type": "execute_result"
    }
   ],
   "source": [
    "max(True, False, -1)"
   ]
  },
  {
   "cell_type": "code",
   "execution_count": 44,
   "metadata": {},
   "outputs": [
    {
     "ename": "TypeError",
     "evalue": "'>' not supported between instances of 'int' and 'str'",
     "output_type": "error",
     "traceback": [
      "\u001b[1;31m---------------------------------------------------------------------------\u001b[0m",
      "\u001b[1;31mTypeError\u001b[0m                                 Traceback (most recent call last)",
      "\u001b[1;32m~\\AppData\\Local\\Temp/ipykernel_10324/4041100510.py\u001b[0m in \u001b[0;36m<module>\u001b[1;34m\u001b[0m\n\u001b[1;32m----> 1\u001b[1;33m \u001b[0mmax\u001b[0m\u001b[1;33m(\u001b[0m\u001b[1;34m\"6\"\u001b[0m\u001b[1;33m,\u001b[0m \u001b[1;34m\"1\"\u001b[0m\u001b[1;33m,\u001b[0m \u001b[1;36m1\u001b[0m\u001b[1;33m)\u001b[0m\u001b[1;33m\u001b[0m\u001b[1;33m\u001b[0m\u001b[0m\n\u001b[0m",
      "\u001b[1;31mTypeError\u001b[0m: '>' not supported between instances of 'int' and 'str'"
     ]
    }
   ],
   "source": [
    "max(\"6\", \"1\", 1)"
   ]
  },
  {
   "cell_type": "code",
   "execution_count": 45,
   "metadata": {},
   "outputs": [
    {
     "ename": "TypeError",
     "evalue": "'>' not supported between instances of 'NoneType' and 'int'",
     "output_type": "error",
     "traceback": [
      "\u001b[1;31m---------------------------------------------------------------------------\u001b[0m",
      "\u001b[1;31mTypeError\u001b[0m                                 Traceback (most recent call last)",
      "\u001b[1;32m~\\AppData\\Local\\Temp/ipykernel_10324/2608310793.py\u001b[0m in \u001b[0;36m<module>\u001b[1;34m\u001b[0m\n\u001b[1;32m----> 1\u001b[1;33m \u001b[0mmax\u001b[0m\u001b[1;33m(\u001b[0m\u001b[1;36m1\u001b[0m\u001b[1;33m,\u001b[0m \u001b[1;32mNone\u001b[0m\u001b[1;33m)\u001b[0m\u001b[1;33m\u001b[0m\u001b[1;33m\u001b[0m\u001b[0m\n\u001b[0m",
      "\u001b[1;31mTypeError\u001b[0m: '>' not supported between instances of 'NoneType' and 'int'"
     ]
    }
   ],
   "source": [
    "max(1, None)"
   ]
  },
  {
   "cell_type": "markdown",
   "metadata": {},
   "source": [
    "大小関係が比較できない場合は，`TypeError` が送出されます．  \n",
    "`None` はゼロでなく空なので，数値と比較することができません．"
   ]
  },
  {
   "cell_type": "markdown",
   "metadata": {},
   "source": [
    "---\n",
    "\n",
    "## min(): 最小値を取得 <a class=\"anchor\" id=\"min\"></a>  \n",
    "[目次に戻る](#0)  "
   ]
  },
  {
   "cell_type": "markdown",
   "metadata": {},
   "source": [
    "`min(iterable, key, default)` または `min(arg1, arg2, *args, key)`:  \n",
    "`iterable` の中で最小の要素，または 2 つ以上の引数の中で最小のものを返します．性質や使い方は `max()` と同様です．"
   ]
  },
  {
   "cell_type": "code",
   "execution_count": 46,
   "metadata": {},
   "outputs": [
    {
     "data": {
      "text/plain": [
       "-1"
      ]
     },
     "execution_count": 46,
     "metadata": {},
     "output_type": "execute_result"
    }
   ],
   "source": [
    "min(0, 1, 2, -1)"
   ]
  },
  {
   "cell_type": "markdown",
   "metadata": {},
   "source": [
    "---\n",
    "\n",
    "## all(): 全ての要素に対する判定 <a class=\"anchor\" id=\"all\"></a>  \n",
    "[目次に戻る](#0)  "
   ]
  },
  {
   "cell_type": "markdown",
   "metadata": {},
   "source": [
    "`all(iterable)`:  \n",
    "`iterable` の全ての要素が真，もしくは，空であれば `True` を返します．"
   ]
  },
  {
   "cell_type": "code",
   "execution_count": 47,
   "metadata": {},
   "outputs": [
    {
     "data": {
      "text/plain": [
       "(True, False, True)"
      ]
     },
     "execution_count": 47,
     "metadata": {},
     "output_type": "execute_result"
    }
   ],
   "source": [
    "(\n",
    "    all([True]),\n",
    "    all((0,1)),\n",
    "    all([True is True, False is False, True is not False])\n",
    ")"
   ]
  },
  {
   "cell_type": "markdown",
   "metadata": {},
   "source": [
    "---\n",
    "\n",
    "## any(): いずれかの要素に対する判定 <a class=\"anchor\" id=\"any\"></a>  \n",
    "[目次に戻る](#0)  "
   ]
  },
  {
   "cell_type": "markdown",
   "metadata": {},
   "source": [
    "`any(iterable)`:  \n",
    "`iterable` のいずれかの要素が真ならば `True` を返します．`iterable` が空なら `False` を返します．"
   ]
  },
  {
   "cell_type": "code",
   "execution_count": 48,
   "metadata": {},
   "outputs": [
    {
     "data": {
      "text/plain": [
       "(True, True, True)"
      ]
     },
     "execution_count": 48,
     "metadata": {},
     "output_type": "execute_result"
    }
   ],
   "source": [
    "(\n",
    "    any([True]),\n",
    "    any((0,1)),\n",
    "    any([True is True, False is False, True is not False])\n",
    ")"
   ]
  },
  {
   "cell_type": "markdown",
   "metadata": {
    "tags": []
   },
   "source": [
    "---\n",
    "\n",
    "## range(): 数のイミュータブルなシーケンスを指定長にて作成 <a class=\"anchor\" id=\"range\"></a>  \n",
    "[目次に戻る](#0)  "
   ]
  },
  {
   "cell_type": "markdown",
   "metadata": {},
   "source": [
    "`range(stop)` または `range(start, stop, step)`:  \n",
    "range 型は，下図のイミュータブルなシーケンスを表し，一般に for ループにおいて特定の回数のループに使われます．引数は整数である必要があります．"
   ]
  },
  {
   "cell_type": "code",
   "execution_count": 49,
   "metadata": {},
   "outputs": [
    {
     "data": {
      "text/plain": [
       "range(0, 10)"
      ]
     },
     "execution_count": 49,
     "metadata": {},
     "output_type": "execute_result"
    }
   ],
   "source": [
    "range(0, 10)"
   ]
  },
  {
   "cell_type": "code",
   "execution_count": 50,
   "metadata": {},
   "outputs": [
    {
     "data": {
      "text/plain": [
       "[0, 1, 2, 3, 4, 5, 6, 7, 8, 9]"
      ]
     },
     "execution_count": 50,
     "metadata": {},
     "output_type": "execute_result"
    }
   ],
   "source": [
    "list(range(0, 10))"
   ]
  },
  {
   "cell_type": "code",
   "execution_count": 51,
   "metadata": {},
   "outputs": [
    {
     "data": {
      "text/plain": [
       "(0, 1, 2, 3, 4)"
      ]
     },
     "execution_count": 51,
     "metadata": {},
     "output_type": "execute_result"
    }
   ],
   "source": [
    "tuple(range(0, 5))"
   ]
  },
  {
   "cell_type": "code",
   "execution_count": 52,
   "metadata": {},
   "outputs": [
    {
     "data": {
      "text/plain": [
       "[15, 11, 7, 3, -1]"
      ]
     },
     "execution_count": 52,
     "metadata": {},
     "output_type": "execute_result"
    }
   ],
   "source": [
    "list(range(15, -3, -4))"
   ]
  },
  {
   "cell_type": "markdown",
   "metadata": {},
   "source": [
    "---\n",
    "\n",
    "## sorted(): ソート結果を取得 <a class=\"anchor\" id=\"sorted\"></a>  \n",
    "[目次に戻る](#0)  "
   ]
  },
  {
   "cell_type": "markdown",
   "metadata": {},
   "source": [
    "`sorted(iterable, *, key=None, reverse=False)`:  \n",
    "`iterable` の要素を並び替えた新たなリストを返します．  \n",
    "`key` には 1 引数関数を指定します．これは `iterable` の各要素から比較キーを展開するのにつかわれます．デフォルト値は `None` です．  \n",
    "引数 `reverse` は真偽値です．`True` がセットされた場合，リストの要素は個々の比較が反転したものとして並び替えられます．"
   ]
  },
  {
   "cell_type": "code",
   "execution_count": 53,
   "metadata": {},
   "outputs": [
    {
     "data": {
      "text/plain": [
       "[-10, -5, 0, 1, 3]"
      ]
     },
     "execution_count": 53,
     "metadata": {},
     "output_type": "execute_result"
    }
   ],
   "source": [
    "a = [1, 0, 3, -5, -10]\n",
    "sorted(a)"
   ]
  },
  {
   "cell_type": "code",
   "execution_count": 54,
   "metadata": {},
   "outputs": [
    {
     "data": {
      "text/plain": [
       "[3, 1, 0, -5, -10]"
      ]
     },
     "execution_count": 54,
     "metadata": {},
     "output_type": "execute_result"
    }
   ],
   "source": [
    "sorted(a, reverse=True)"
   ]
  },
  {
   "cell_type": "markdown",
   "metadata": {},
   "source": [
    "---\n",
    "\n",
    "## slice(): スライスを取得 <a class=\"anchor\" id=\"slice\"></a>  \n",
    "[目次に戻る](#0)  "
   ]
  },
  {
   "cell_type": "markdown",
   "metadata": {},
   "source": [
    "`slice(stop)` または `slice(start, stop, step)`:  \n",
    "`range(start, stop, step)` で指定されるインデックスの集合を表す，スライスオブジェクトを返します．引数 `start` および `step` はデフォルトでは `None` です．スライスオブジェクトは読み出し専用の属性 `start, stop, step` を持ち，これらはたんに引数で使われた値を返します．"
   ]
  },
  {
   "cell_type": "code",
   "execution_count": 55,
   "metadata": {},
   "outputs": [
    {
     "data": {
      "text/plain": [
       "slice(None, 10, None)"
      ]
     },
     "execution_count": 55,
     "metadata": {},
     "output_type": "execute_result"
    }
   ],
   "source": [
    "slice(10)"
   ]
  },
  {
   "cell_type": "code",
   "execution_count": 56,
   "metadata": {},
   "outputs": [
    {
     "data": {
      "text/plain": [
       "slice(0, 10, 1)"
      ]
     },
     "execution_count": 56,
     "metadata": {},
     "output_type": "execute_result"
    }
   ],
   "source": [
    "slice(0, 10, 1)"
   ]
  },
  {
   "cell_type": "code",
   "execution_count": 57,
   "metadata": {},
   "outputs": [
    {
     "data": {
      "text/plain": [
       "[0, 1, 2]"
      ]
     },
     "execution_count": 57,
     "metadata": {},
     "output_type": "execute_result"
    }
   ],
   "source": [
    "a = [0, 1, 2, 3, 4]\n",
    "a[slice(0, 3, 1)]"
   ]
  },
  {
   "cell_type": "code",
   "execution_count": 58,
   "metadata": {},
   "outputs": [
    {
     "data": {
      "text/plain": [
       "True"
      ]
     },
     "execution_count": 58,
     "metadata": {},
     "output_type": "execute_result"
    }
   ],
   "source": [
    "a = [0, 1, 2, 3, 4]\n",
    "a[slice(0, 3, 1)]==a[0:3:1]"
   ]
  },
  {
   "cell_type": "markdown",
   "metadata": {},
   "source": [
    "---\n",
    "\n",
    "## iter(): イテレータ作成 <a class=\"anchor\" id=\"iter\"></a>  \n",
    "[目次に戻る](#0)  "
   ]
  },
  {
   "cell_type": "markdown",
   "metadata": {},
   "source": [
    "`iter(object, sentinel)`:  \n",
    "イテレータオブジェクトを返します．第二引数があるかどうかで，第一引数の解釈は大きく異なります．第二引数が無い場合，`object` は反復プロトコル `__iter__()` メソッドか，シーケンスプロトコルをサポートする集合オブジェクトでなければなりません．  \n",
    "第二引数 `sentinel` が与えられているなら，`object` は呼び出し可能オブジェクトでなければなりません．"
   ]
  },
  {
   "cell_type": "code",
   "execution_count": 59,
   "metadata": {},
   "outputs": [
    {
     "data": {
      "text/plain": [
       "<list_iterator at 0x229d8318f10>"
      ]
     },
     "execution_count": 59,
     "metadata": {},
     "output_type": "execute_result"
    }
   ],
   "source": [
    "iter([0,10])"
   ]
  },
  {
   "cell_type": "code",
   "execution_count": 60,
   "metadata": {},
   "outputs": [
    {
     "data": {
      "text/plain": [
       "<tuple_iterator at 0x229d83180a0>"
      ]
     },
     "execution_count": 60,
     "metadata": {},
     "output_type": "execute_result"
    }
   ],
   "source": [
    "iter((0,10))"
   ]
  },
  {
   "cell_type": "code",
   "execution_count": 61,
   "metadata": {},
   "outputs": [
    {
     "data": {
      "text/plain": [
       "[0, 10]"
      ]
     },
     "execution_count": 61,
     "metadata": {},
     "output_type": "execute_result"
    }
   ],
   "source": [
    "list(iter([0,10]))"
   ]
  },
  {
   "cell_type": "code",
   "execution_count": 62,
   "metadata": {},
   "outputs": [
    {
     "data": {
      "text/plain": [
       "[0, 1, 2, 3, 4, 5, 6, 7, 8, 9]"
      ]
     },
     "execution_count": 62,
     "metadata": {},
     "output_type": "execute_result"
    }
   ],
   "source": [
    "list(iter(range(10)))"
   ]
  },
  {
   "cell_type": "markdown",
   "metadata": {},
   "source": [
    "---\n",
    "\n",
    "## reversed(): 要素を逆順に取り出すイテレータを取得 <a class=\"anchor\" id=\"reversed\"></a>  \n",
    "[目次に戻る](#0)  "
   ]
  },
  {
   "cell_type": "markdown",
   "metadata": {},
   "source": [
    "`reversed(seq)`:  \n",
    "要素を逆順に取り出すイテレータを返します．`seq` は `__reversed()` メソッドを持つか，シーケンス型プロトコルをサポートするオブジェクトでなければなりません．"
   ]
  },
  {
   "cell_type": "code",
   "execution_count": 63,
   "metadata": {},
   "outputs": [
    {
     "data": {
      "text/plain": [
       "<list_reverseiterator at 0x229d83181f0>"
      ]
     },
     "execution_count": 63,
     "metadata": {},
     "output_type": "execute_result"
    }
   ],
   "source": [
    "reversed([0, 2, 1])"
   ]
  },
  {
   "cell_type": "code",
   "execution_count": 64,
   "metadata": {},
   "outputs": [
    {
     "data": {
      "text/plain": [
       "[1, 2, 0]"
      ]
     },
     "execution_count": 64,
     "metadata": {},
     "output_type": "execute_result"
    }
   ],
   "source": [
    "list(reversed([0, 2, 1]))"
   ]
  },
  {
   "cell_type": "markdown",
   "metadata": {},
   "source": [
    "---\n",
    "\n",
    "## next(): イテレータの次の要素を取得 <a class=\"anchor\" id=\"next\"></a>  \n",
    "[目次に戻る](#0)  "
   ]
  },
  {
   "cell_type": "markdown",
   "metadata": {},
   "source": [
    "`next(iterator, default)`:  \n",
    "`iterator` の `__next__()` メソッドと呼び出すことにより，次の要素を取得します．イテレータが尽きている場合，`default` が与えられていればそれが返され，そうでなければ `StopIeration` が送出されます．"
   ]
  },
  {
   "cell_type": "code",
   "execution_count": 65,
   "metadata": {},
   "outputs": [
    {
     "data": {
      "text/plain": [
       "<list_iterator at 0x229d834d160>"
      ]
     },
     "execution_count": 65,
     "metadata": {},
     "output_type": "execute_result"
    }
   ],
   "source": [
    "a = [\"1\", \"2\", \"3\"]\n",
    "b = iter(a)\n",
    "b"
   ]
  },
  {
   "cell_type": "code",
   "execution_count": 66,
   "metadata": {},
   "outputs": [
    {
     "data": {
      "text/plain": [
       "'1'"
      ]
     },
     "execution_count": 66,
     "metadata": {},
     "output_type": "execute_result"
    }
   ],
   "source": [
    "next(b)"
   ]
  },
  {
   "cell_type": "code",
   "execution_count": 67,
   "metadata": {},
   "outputs": [
    {
     "data": {
      "text/plain": [
       "'2'"
      ]
     },
     "execution_count": 67,
     "metadata": {},
     "output_type": "execute_result"
    }
   ],
   "source": [
    "next(b)"
   ]
  },
  {
   "cell_type": "code",
   "execution_count": 68,
   "metadata": {},
   "outputs": [
    {
     "data": {
      "text/plain": [
       "'3'"
      ]
     },
     "execution_count": 68,
     "metadata": {},
     "output_type": "execute_result"
    }
   ],
   "source": [
    "next(b)"
   ]
  },
  {
   "cell_type": "code",
   "execution_count": 69,
   "metadata": {},
   "outputs": [
    {
     "ename": "StopIteration",
     "evalue": "",
     "output_type": "error",
     "traceback": [
      "\u001b[1;31m---------------------------------------------------------------------------\u001b[0m",
      "\u001b[1;31mStopIteration\u001b[0m                             Traceback (most recent call last)",
      "\u001b[1;32m~\\AppData\\Local\\Temp/ipykernel_10324/973617480.py\u001b[0m in \u001b[0;36m<module>\u001b[1;34m\u001b[0m\n\u001b[1;32m----> 1\u001b[1;33m \u001b[0mnext\u001b[0m\u001b[1;33m(\u001b[0m\u001b[0mb\u001b[0m\u001b[1;33m)\u001b[0m\u001b[1;33m\u001b[0m\u001b[1;33m\u001b[0m\u001b[0m\n\u001b[0m",
      "\u001b[1;31mStopIteration\u001b[0m: "
     ]
    }
   ],
   "source": [
    "next(b)"
   ]
  },
  {
   "cell_type": "code",
   "execution_count": 70,
   "metadata": {},
   "outputs": [
    {
     "data": {
      "text/plain": [
       "'1'"
      ]
     },
     "execution_count": 70,
     "metadata": {},
     "output_type": "execute_result"
    }
   ],
   "source": [
    "a = [\"1\", \"2\", \"3\"]\n",
    "b = iter(a)\n",
    "next(b, \"end\")"
   ]
  },
  {
   "cell_type": "code",
   "execution_count": 71,
   "metadata": {},
   "outputs": [
    {
     "data": {
      "text/plain": [
       "'2'"
      ]
     },
     "execution_count": 71,
     "metadata": {},
     "output_type": "execute_result"
    }
   ],
   "source": [
    "next(b, \"end\")"
   ]
  },
  {
   "cell_type": "code",
   "execution_count": 72,
   "metadata": {},
   "outputs": [
    {
     "data": {
      "text/plain": [
       "'3'"
      ]
     },
     "execution_count": 72,
     "metadata": {},
     "output_type": "execute_result"
    }
   ],
   "source": [
    "next(b, \"end\")"
   ]
  },
  {
   "cell_type": "code",
   "execution_count": 73,
   "metadata": {},
   "outputs": [
    {
     "data": {
      "text/plain": [
       "'end'"
      ]
     },
     "execution_count": 73,
     "metadata": {},
     "output_type": "execute_result"
    }
   ],
   "source": [
    "next(b, \"end\")"
   ]
  },
  {
   "cell_type": "code",
   "execution_count": 74,
   "metadata": {},
   "outputs": [
    {
     "data": {
      "text/plain": [
       "'end'"
      ]
     },
     "execution_count": 74,
     "metadata": {},
     "output_type": "execute_result"
    }
   ],
   "source": [
    "next(b, \"end\")"
   ]
  },
  {
   "cell_type": "markdown",
   "metadata": {},
   "source": [
    "---\n",
    "\n",
    "## enumerate(): enumerate オブジェクトを取得 <a class=\"anchor\" id=\"enumerate\"></a>  \n",
    "[目次に戻る](#0)  "
   ]
  },
  {
   "cell_type": "markdown",
   "metadata": {},
   "source": [
    "`enumerate(iterable, start=0)`: enumerate オブジェクトを返します．リスト化には，list 関数を用います．"
   ]
  },
  {
   "cell_type": "code",
   "execution_count": 75,
   "metadata": {},
   "outputs": [
    {
     "data": {
      "text/plain": [
       "<enumerate at 0x229d83317c0>"
      ]
     },
     "execution_count": 75,
     "metadata": {},
     "output_type": "execute_result"
    }
   ],
   "source": [
    "a = [\"a\", \"b\", \"c\"]\n",
    "b = enumerate(a)\n",
    "b"
   ]
  },
  {
   "cell_type": "markdown",
   "metadata": {},
   "source": [
    "例えばリスト化すると，インデックスと要素のペアをタプルで返します．"
   ]
  },
  {
   "cell_type": "code",
   "execution_count": 76,
   "metadata": {},
   "outputs": [
    {
     "data": {
      "text/plain": [
       "[(0, 'a'), (1, 'b'), (2, 'c')]"
      ]
     },
     "execution_count": 76,
     "metadata": {},
     "output_type": "execute_result"
    }
   ],
   "source": [
    "list(b)"
   ]
  },
  {
   "cell_type": "markdown",
   "metadata": {},
   "source": [
    "---\n",
    "\n",
    "## zip(): それぞれのイテラブルから要素を集めたイテレータを作成 <a class=\"anchor\" id=\"zip\"></a>  \n",
    "[目次に戻る](#0)  "
   ]
  },
  {
   "cell_type": "markdown",
   "metadata": {},
   "source": [
    "`zip(*iterables)`:  \n",
    "それぞれのイテラブルから要素を集めたイテレータを作ります．  \n",
    "この関数はタプルのイテレータを返し，その `i` 番目のタプルは引数シーケンスまたはイテラブルそれぞれの `i` 番目の要素を含みます．"
   ]
  },
  {
   "cell_type": "code",
   "execution_count": 77,
   "metadata": {},
   "outputs": [
    {
     "data": {
      "text/plain": [
       "<zip at 0x229d7e0e900>"
      ]
     },
     "execution_count": 77,
     "metadata": {},
     "output_type": "execute_result"
    }
   ],
   "source": [
    "a = [0, 1, 2]\n",
    "b = [\"b\", \"bb\", \"bbb\"]\n",
    "ab = zip(a, b)\n",
    "ab"
   ]
  },
  {
   "cell_type": "code",
   "execution_count": 78,
   "metadata": {},
   "outputs": [
    {
     "data": {
      "text/plain": [
       "[(0, 'b'), (1, 'bb'), (2, 'bbb')]"
      ]
     },
     "execution_count": 78,
     "metadata": {},
     "output_type": "execute_result"
    }
   ],
   "source": [
    "list(ab)"
   ]
  },
  {
   "cell_type": "markdown",
   "metadata": {},
   "source": [
    "---\n",
    "\n",
    "## map(): マップ型へキャスト <a class=\"anchor\" id=\"map\"></a>  \n",
    "[目次に戻る](#0)  "
   ]
  },
  {
   "cell_type": "markdown",
   "metadata": {},
   "source": [
    "`map(function, iterable, ...)`:  \n",
    "`function` を，結果を返しながら `iterable` の全ての要素に適用するイテレータを返します．追加の `iterable` 引数が渡された場合は，`function` はその数だけの引数を取らなければならず，全てのイテラブルから並行して撮られた要素に適用されます．"
   ]
  },
  {
   "cell_type": "code",
   "execution_count": 79,
   "metadata": {},
   "outputs": [
    {
     "data": {
      "text/plain": [
       "<map at 0x229d83185b0>"
      ]
     },
     "execution_count": 79,
     "metadata": {},
     "output_type": "execute_result"
    }
   ],
   "source": [
    "a = [\"1\", \"2\", \"3\"]\n",
    "b = map(int, a)\n",
    "b"
   ]
  },
  {
   "cell_type": "code",
   "execution_count": 80,
   "metadata": {},
   "outputs": [
    {
     "data": {
      "text/plain": [
       "[1, 2, 3]"
      ]
     },
     "execution_count": 80,
     "metadata": {},
     "output_type": "execute_result"
    }
   ],
   "source": [
    "list(b)"
   ]
  },
  {
   "cell_type": "code",
   "execution_count": 81,
   "metadata": {},
   "outputs": [
    {
     "data": {
      "text/plain": [
       "[]"
      ]
     },
     "execution_count": 81,
     "metadata": {},
     "output_type": "execute_result"
    }
   ],
   "source": [
    "list(b)"
   ]
  },
  {
   "cell_type": "markdown",
   "metadata": {},
   "source": [
    "上記 2 個目の `list(b)` が `[]` となったのは，`b` がイテレータであり，1 回目の `list(b)` でインデックスが最後まで送られ，要素が全て取り出されたためです．予めリストとして違う文字変数に代入しておくことで，これは回避できます．"
   ]
  },
  {
   "cell_type": "code",
   "execution_count": 82,
   "metadata": {},
   "outputs": [
    {
     "data": {
      "text/plain": [
       "[1, 2, 3]"
      ]
     },
     "execution_count": 82,
     "metadata": {},
     "output_type": "execute_result"
    }
   ],
   "source": [
    "a = [\"1\", \"2\", \"3\"]\n",
    "b = list(map(int, a))\n",
    "b"
   ]
  },
  {
   "cell_type": "code",
   "execution_count": 83,
   "metadata": {},
   "outputs": [
    {
     "data": {
      "text/plain": [
       "[1, 2, 3]"
      ]
     },
     "execution_count": 83,
     "metadata": {},
     "output_type": "execute_result"
    }
   ],
   "source": [
    "b"
   ]
  },
  {
   "cell_type": "code",
   "execution_count": 84,
   "metadata": {},
   "outputs": [
    {
     "data": {
      "text/plain": [
       "[1, 2, 3]"
      ]
     },
     "execution_count": 84,
     "metadata": {},
     "output_type": "execute_result"
    }
   ],
   "source": [
    "b"
   ]
  },
  {
   "cell_type": "markdown",
   "metadata": {},
   "source": [
    "---\n",
    "\n",
    "## eval(): 文字列型の式の演算結果を取得 <a class=\"anchor\" id=\"eval\"></a>  \n",
    "[目次に戻る](#0)  "
   ]
  },
  {
   "cell_type": "markdown",
   "metadata": {},
   "source": [
    "`eval(expression, globals, locals)`:  \n",
    "文字列とオプションの引数 `globals`, `locals` を取ります．オプション引数の `globals` は辞書で，`locals` はマッピングオブジェクトでなければなりません．"
   ]
  },
  {
   "cell_type": "code",
   "execution_count": 85,
   "metadata": {},
   "outputs": [
    {
     "data": {
      "text/plain": [
       "6"
      ]
     },
     "execution_count": 85,
     "metadata": {},
     "output_type": "execute_result"
    }
   ],
   "source": [
    "eval(\"1+2+3\")"
   ]
  },
  {
   "cell_type": "code",
   "execution_count": 86,
   "metadata": {},
   "outputs": [
    {
     "data": {
      "text/plain": [
       "'hello world'"
      ]
     },
     "execution_count": 86,
     "metadata": {},
     "output_type": "execute_result"
    }
   ],
   "source": [
    "x = \"hello\"\n",
    "y = \"world\"\n",
    "eval(\"x + ' ' + y\")"
   ]
  },
  {
   "cell_type": "markdown",
   "metadata": {},
   "source": [
    "`eval` を用いると，このように文字列を式のように処理することができます．"
   ]
  },
  {
   "cell_type": "markdown",
   "metadata": {},
   "source": [
    "---\n",
    "\n",
    "## exec(): 文字列型の式を演算 <a class=\"anchor\" id=\"exec\"></a>  \n",
    "[目次に戻る](#0)  "
   ]
  },
  {
   "cell_type": "markdown",
   "metadata": {},
   "source": [
    "`exec(object, globals, locals)`:  \n",
    "この関数は python コードの動的な実行をサポートします．`object` は文字列化コードオブジェクトでなければなりません．オプション引数の `globals` は辞書で，`locals` はマッピングオブジェクトでなければなりません．"
   ]
  },
  {
   "cell_type": "code",
   "execution_count": 87,
   "metadata": {},
   "outputs": [
    {
     "data": {
      "text/plain": [
       "1"
      ]
     },
     "execution_count": 87,
     "metadata": {},
     "output_type": "execute_result"
    }
   ],
   "source": [
    "exec(\"a=1\")\n",
    "a"
   ]
  },
  {
   "cell_type": "code",
   "execution_count": 88,
   "metadata": {},
   "outputs": [
    {
     "data": {
      "text/plain": [
       "'hello world'"
      ]
     },
     "execution_count": 88,
     "metadata": {},
     "output_type": "execute_result"
    }
   ],
   "source": [
    "x = \"hello\"\n",
    "y = \"world\"\n",
    "exec(\"z = x + ' ' + y\")\n",
    "z"
   ]
  },
  {
   "cell_type": "markdown",
   "metadata": {},
   "source": [
    "---\n",
    "\n",
    "## open(): ファイルを開く <a class=\"anchor\" id=\"open\"></a>  \n",
    "[目次に戻る](#0)  "
   ]
  },
  {
   "cell_type": "markdown",
   "metadata": {},
   "source": [
    "`open(file, mode=\"r\", buffering=-1, encoding=None, errors=None, newline=None, closefd=True, opener=None)`:  \n",
    "file を開き，対応するファイルオブジェクトを返します．ファイルを開くことができなければ， `OSError` が送出されます．  \n",
    "`file` は path-like object （パスとして見なされるオブジェクト）で，開くファイルの (絶対または現在のワーキングディレクトリに対する相対) パス名を与えるものです．  \n",
    "mode はオプションの文字列で，ファイルが開かれるモードを指定します．デフォルトは `'r'` で，読み込み用にテキストモードで開くという意味です．指定可能なモードは次の表の通りです．"
   ]
  },
  {
   "cell_type": "markdown",
   "metadata": {},
   "source": [
    "| 文字 | 意味 |\n",
    "| ---- | ---- |\n",
    "| 'r'  | 読み込み用に開く (デフォルト) |\n",
    "| 'w'  | 書き込み用に開き、まずファイルを切り詰める |\n",
    "| 'x'  | 排他的な生成に開き、ファイルが存在する場合は失敗する |\n",
    "| 'a'  | 書き込み用に開き、ファイルが存在する場合は末尾に追記する |\n",
    "| 'b'  | バイナリモード |\n",
    "| 't'  | テキストモード (デフォルト) |\n",
    "| '+'  | ディスクファイルを更新用に開く (読み込み／書き込み) |"
   ]
  },
  {
   "cell_type": "markdown",
   "metadata": {},
   "source": [
    "公式ドキュメント (https://docs.python.org/ja/3.7/library/functions.html#open) には，網羅的な説明がなされていますが，例を見た方が良いと思うので，例を以下に示します．  "
   ]
  },
  {
   "cell_type": "markdown",
   "metadata": {},
   "source": [
    "まずは，ファイルを書き込み用に新規で開き，適当な値を代入していきます．"
   ]
  },
  {
   "cell_type": "code",
   "execution_count": 89,
   "metadata": {},
   "outputs": [
    {
     "data": {
      "text/plain": [
       "<_io.TextIOWrapper name='test.txt' mode='w' encoding='cp932'>"
      ]
     },
     "execution_count": 89,
     "metadata": {},
     "output_type": "execute_result"
    }
   ],
   "source": [
    "# file path\n",
    "file = \"test.txt\"\n",
    "\n",
    "# get file object @ mode=\"w\"\n",
    "f = open(file, mode=\"w\")\n",
    "f"
   ]
  },
  {
   "cell_type": "code",
   "execution_count": 90,
   "metadata": {},
   "outputs": [
    {
     "data": {
      "text/plain": [
       "_io.TextIOWrapper"
      ]
     },
     "execution_count": 90,
     "metadata": {},
     "output_type": "execute_result"
    }
   ],
   "source": [
    "type(f)"
   ]
  },
  {
   "cell_type": "markdown",
   "metadata": {},
   "source": [
    "これで test.txt が書き込み専用で新規に作成され，`f` をこれのファイルオブジェクトとして定義しました．変数の名称は何でも構いません．  \n",
    "次に `write()` メソッドを用いて書き込んでみます．`write()` の引数は文字列のみ有効なので，もし数値を入れたい場合は，f-string を用いるか，`str()` にて文字列型にキャストしましょう．"
   ]
  },
  {
   "cell_type": "code",
   "execution_count": 91,
   "metadata": {},
   "outputs": [
    {
     "data": {
      "text/plain": [
       "15"
      ]
     },
     "execution_count": 91,
     "metadata": {},
     "output_type": "execute_result"
    }
   ],
   "source": [
    "f.write(\"aaaaa\")\n",
    "f.write(str(3.14))\n",
    "f.write(\"あああああ\")\n",
    "f.write(f\"{list(range(5))}\")"
   ]
  },
  {
   "cell_type": "markdown",
   "metadata": {},
   "source": [
    "`open()` したファイルオブジェクト `f` は，`close()` メソッドを用いて閉じる必要があります．閉じることで，ファイルへの書き込みが完了します．"
   ]
  },
  {
   "cell_type": "code",
   "execution_count": 92,
   "metadata": {},
   "outputs": [],
   "source": [
    "f.close()"
   ]
  },
  {
   "cell_type": "markdown",
   "metadata": {},
   "source": [
    "出力結果を見るために，今度は読み込んでみましょう．`mode==\"r\"` として読み込み専用で開き，`read()` メソッドにて文字列を取得しましょう．"
   ]
  },
  {
   "cell_type": "code",
   "execution_count": 93,
   "metadata": {},
   "outputs": [
    {
     "data": {
      "text/plain": [
       "'aaaaa3.14あああああ[0, 1, 2, 3, 4]'"
      ]
     },
     "execution_count": 93,
     "metadata": {},
     "output_type": "execute_result"
    }
   ],
   "source": [
    "# open\n",
    "file = \"test.txt\"\n",
    "f = open(file, mode=\"r\")\n",
    "\n",
    "# read text\n",
    "txt = f.read()\n",
    "\n",
    "# file close\n",
    "f.close()\n",
    "\n",
    "# show\n",
    "txt"
   ]
  },
  {
   "cell_type": "markdown",
   "metadata": {},
   "source": [
    "上記のように，`write()` メソッドにて指定した文字列が改行なしでテキストファイルに入力されました．  \n",
    "ファイルオブジェクトの open / close について，上記の書き方だと close を忘れる危険性があるので，`with` ブロックというのを用いる方が一般的です．`with open() as f` のように記載します．これを用いることで，`with` ブロックを抜ける際に，`open()` したファイルオブジェクトが自動的に `close()` されます．"
   ]
  },
  {
   "cell_type": "code",
   "execution_count": 94,
   "metadata": {},
   "outputs": [
    {
     "data": {
      "text/plain": [
       "'with block test'"
      ]
     },
     "execution_count": 94,
     "metadata": {},
     "output_type": "execute_result"
    }
   ],
   "source": [
    "file = \"test.txt\"\n",
    "with open(file, mode=\"w\") as f:\n",
    "    f.write(\"with block test\")\n",
    "\n",
    "with open(file, mode=\"r\") as f:\n",
    "    txt2 = f.read()\n",
    "\n",
    "txt2"
   ]
  },
  {
   "cell_type": "code",
   "execution_count": null,
   "metadata": {},
   "outputs": [],
   "source": []
  }
 ],
 "metadata": {
  "kernelspec": {
   "display_name": "Python 3 (ipykernel)",
   "language": "python",
   "name": "python3"
  },
  "language_info": {
   "codemirror_mode": {
    "name": "ipython",
    "version": 3
   },
   "file_extension": ".py",
   "mimetype": "text/x-python",
   "name": "python",
   "nbconvert_exporter": "python",
   "pygments_lexer": "ipython3",
   "version": "3.8.10"
  }
 },
 "nbformat": 4,
 "nbformat_minor": 4
}
