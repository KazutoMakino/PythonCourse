{
 "cells": [
  {
   "cell_type": "markdown",
   "id": "941a97cc-2e85-4907-8cfd-bb7f95fbffc6",
   "metadata": {
    "id": "bcbfd66d-ec55-4f2f-9187-8642d94eccbd"
   },
   "source": [
    "# テーブルデータ操作ライブラリ pandas（入門編）\n",
    "\n",
    "\n",
    "---\n",
    "\n",
    "- ref: https://pandas.pydata.org/\n",
    "- blog: https://slash-z.com/\n",
    "- github: https://github.com/KazutoMakino/PythonCourses\n",
    "\n",
    "---"
   ]
  },
  {
   "cell_type": "markdown",
   "id": "17b9c552-d813-43ce-972d-39b1d838c37c",
   "metadata": {
    "id": "dee50cd6-e79f-48f2-8076-4fd510ceab11"
   },
   "source": [
    "よくあるデータの形式として，\n",
    "\n",
    "- テーブルデータ\n",
    "- 時系列データ\n",
    "- テキストデータ\n",
    "- 画像データ\n",
    "- 音声データ\n",
    "- 映像データ\n",
    "\n",
    "などがありますが，世の中で最も良くあるのは，特に汎用性の高いエクセルのシートで表されるような行列のデータであるテーブルデータと思われます．  \n",
    "このテーブルデータを効率的に操作することができるのが pandas です．  \n",
    "今回は pandas について，ある程度使えるようになるために一部紹介していきます．"
   ]
  },
  {
   "cell_type": "markdown",
   "id": "32230378-e761-4d8a-a810-15f24ab5e617",
   "metadata": {},
   "source": [
    "## pandas 概要"
   ]
  },
  {
   "cell_type": "markdown",
   "id": "24d1ef31-e533-4acc-865e-2b543f4f7406",
   "metadata": {},
   "source": [
    "pandas（パンダズ）は，テーブルデータを効率的に操作することができ，テキストファイルはもちろんのこと，CSV や JSON, excel ファイルの読み書きについても，簡単なコードで実現できます．  \n",
    "また，jupyter への出力も視覚的にキレイに出力させるのもサポートされており，データ分析には欠かせないライブラリと言えます．\n",
    "ライブラリのインポートは，は公式ドキュメントにて pd と省略形でインポートしており，この方法が一般的です．"
   ]
  },
  {
   "cell_type": "code",
   "execution_count": 1,
   "id": "bdceeca9-13d4-431c-8d0a-1f43f960bef3",
   "metadata": {},
   "outputs": [],
   "source": [
    "import pandas as pd"
   ]
  },
  {
   "cell_type": "markdown",
   "id": "af0712d3",
   "metadata": {},
   "source": [
    "pandas は基本的には，pandas.Series と pandas.DataFrame という 2 つのオブジェクトで操作します．  \n",
    "Series は，行の名称が辞書型のキーのように紐付いていて，テーブルの一つの列として扱うことができます．  \n",
    "DataFrame は，行名と列名がある表形式のデータテーブルを扱うことができます．"
   ]
  },
  {
   "cell_type": "markdown",
   "id": "ba581299",
   "metadata": {},
   "source": [
    "## Series / DataFrame の生成"
   ]
  },
  {
   "cell_type": "markdown",
   "id": "075985fa",
   "metadata": {},
   "source": [
    "Series の生成について，構文とその例は以下です．  \n",
    "Series をなにかの変数として代替させる場合，\"ser\" が良く用いられます．"
   ]
  },
  {
   "cell_type": "markdown",
   "id": "e2bfca15",
   "metadata": {},
   "source": [
    "```\n",
    "pd.Series(data=None, index=None, dtype=None, name=None, copy=False)\n",
    "- data: 要素として入れられるデータで，リストなどのイテラブルオブジェクトが使用可能\n",
    "- index: 行の名称で，リストなどのイテラブルオブジェクトが使用可能\n",
    "- dtype: データタイプで，文字列やタイプが使用可能\n",
    "- name: Series の名称\n",
    "- copy: True のときに Series を変更した場合に，元のデータが numpy の 1 次元配列である場合は元のデータも変更される\n",
    "```"
   ]
  },
  {
   "cell_type": "code",
   "execution_count": 2,
   "id": "0c2db6fa",
   "metadata": {},
   "outputs": [
    {
     "data": {
      "text/plain": [
       "0    10\n",
       "1    11\n",
       "2    12\n",
       "dtype: int64"
      ]
     },
     "execution_count": 2,
     "metadata": {},
     "output_type": "execute_result"
    }
   ],
   "source": [
    "arr = list(range(10, 13))\n",
    "ser = pd.Series(data=arr)\n",
    "ser"
   ]
  },
  {
   "cell_type": "code",
   "execution_count": 3,
   "id": "0c2db6fa",
   "metadata": {},
   "outputs": [
    {
     "data": {
      "text/plain": [
       "a    10.0\n",
       "b    11.0\n",
       "c    12.0\n",
       "Name: age, dtype: float64"
      ]
     },
     "execution_count": 3,
     "metadata": {},
     "output_type": "execute_result"
    }
   ],
   "source": [
    "pd.Series(data=arr, index=[\"a\", \"b\", \"c\"], dtype=float, name=\"age\")"
   ]
  },
  {
   "cell_type": "code",
   "execution_count": 4,
   "id": "0c2db6fa",
   "metadata": {},
   "outputs": [
    {
     "data": {
      "text/plain": [
       "a    10\n",
       "b    11\n",
       "c    12\n",
       "Name: age, dtype: int64"
      ]
     },
     "execution_count": 4,
     "metadata": {},
     "output_type": "execute_result"
    }
   ],
   "source": [
    "pd.Series(data={\"a\": 10, \"b\": 11, \"c\": 12}, name=\"age\")"
   ]
  },
  {
   "cell_type": "markdown",
   "id": "8380b20c",
   "metadata": {},
   "source": [
    "続いて，DataFrame の生成について，構文とその例は以下です．  \n",
    "DataFrame をなにかの変数として代替させる場合，\"df\" が良く用いられます．"
   ]
  },
  {
   "cell_type": "markdown",
   "id": "f0fd7cce",
   "metadata": {},
   "source": [
    "```\n",
    "pd.DataFrame(data=None, index=None, columns=None, dtype=None, copy=None)\n",
    "- data: 多次元配列やイテラブルオブジェクトや辞書や DataFrame\n",
    "- index: 行の名称で，リストなどのイテラブルオブジェクトが使用可能\n",
    "- columns: 列の名称で，リストなどのイテラブルオブジェクトが使用可能\n",
    "- dtype: データタイプで，文字列やタイプが使用可能\n",
    "- copy: True のときに Series を変更した場合に，元のデータが numpy 配列である場合は元のデータも変更される\n",
    "```"
   ]
  },
  {
   "cell_type": "code",
   "execution_count": 5,
   "id": "9209d058",
   "metadata": {},
   "outputs": [
    {
     "data": {
      "text/html": [
       "<div><div id=2ed975fb-11bc-487a-ad0b-a498d1d06827 style=\"display:none; background-color:#9D6CFF; color:white; width:200px; height:30px; padding-left:5px; border-radius:4px; flex-direction:row; justify-content:space-around; align-items:center;\" onmouseover=\"this.style.backgroundColor='#BA9BF8'\" onmouseout=\"this.style.backgroundColor='#9D6CFF'\" onclick=\"window.commands?.execute('create-mitosheet-from-dataframe-output');\">See Full Dataframe in Mito</div> <script> if (window.commands.hasCommand('create-mitosheet-from-dataframe-output')) document.getElementById('2ed975fb-11bc-487a-ad0b-a498d1d06827').style.display = 'flex' </script> <table border=\"1\" class=\"dataframe\">\n",
       "  <thead>\n",
       "    <tr style=\"text-align: right;\">\n",
       "      <th></th>\n",
       "      <th>0</th>\n",
       "    </tr>\n",
       "  </thead>\n",
       "  <tbody>\n",
       "    <tr>\n",
       "      <th>0</th>\n",
       "      <td>10</td>\n",
       "    </tr>\n",
       "    <tr>\n",
       "      <th>1</th>\n",
       "      <td>11</td>\n",
       "    </tr>\n",
       "    <tr>\n",
       "      <th>2</th>\n",
       "      <td>12</td>\n",
       "    </tr>\n",
       "  </tbody>\n",
       "</table></div>"
      ],
      "text/plain": [
       "    0\n",
       "0  10\n",
       "1  11\n",
       "2  12"
      ]
     },
     "execution_count": 5,
     "metadata": {},
     "output_type": "execute_result"
    }
   ],
   "source": [
    "df = pd.DataFrame(data=arr)\n",
    "df"
   ]
  },
  {
   "cell_type": "code",
   "execution_count": 6,
   "id": "2051ecc1",
   "metadata": {},
   "outputs": [
    {
     "data": {
      "text/html": [
       "<div><div id=b7f98544-a03d-4fec-af0c-cc0387288ec3 style=\"display:none; background-color:#9D6CFF; color:white; width:200px; height:30px; padding-left:5px; border-radius:4px; flex-direction:row; justify-content:space-around; align-items:center;\" onmouseover=\"this.style.backgroundColor='#BA9BF8'\" onmouseout=\"this.style.backgroundColor='#9D6CFF'\" onclick=\"window.commands?.execute('create-mitosheet-from-dataframe-output');\">See Full Dataframe in Mito</div> <script> if (window.commands.hasCommand('create-mitosheet-from-dataframe-output')) document.getElementById('b7f98544-a03d-4fec-af0c-cc0387288ec3').style.display = 'flex' </script> <table border=\"1\" class=\"dataframe\">\n",
       "  <thead>\n",
       "    <tr style=\"text-align: right;\">\n",
       "      <th></th>\n",
       "      <th>A</th>\n",
       "      <th>B</th>\n",
       "    </tr>\n",
       "  </thead>\n",
       "  <tbody>\n",
       "    <tr>\n",
       "      <th>a</th>\n",
       "      <td>10.0</td>\n",
       "      <td>21.0</td>\n",
       "    </tr>\n",
       "    <tr>\n",
       "      <th>b</th>\n",
       "      <td>11.0</td>\n",
       "      <td>22.0</td>\n",
       "    </tr>\n",
       "    <tr>\n",
       "      <th>c</th>\n",
       "      <td>12.0</td>\n",
       "      <td>23.0</td>\n",
       "    </tr>\n",
       "  </tbody>\n",
       "</table></div>"
      ],
      "text/plain": [
       "      A     B\n",
       "a  10.0  21.0\n",
       "b  11.0  22.0\n",
       "c  12.0  23.0"
      ]
     },
     "execution_count": 6,
     "metadata": {},
     "output_type": "execute_result"
    }
   ],
   "source": [
    "arr2 = [\n",
    "    [10, 21],\n",
    "    [11, 22],\n",
    "    [12, 23],\n",
    "]\n",
    "pd.DataFrame(data=arr2, index=[\"a\", \"b\", \"c\"], columns=[\"A\", \"B\"], dtype=float)"
   ]
  },
  {
   "cell_type": "code",
   "execution_count": 7,
   "id": "b343bb41",
   "metadata": {},
   "outputs": [
    {
     "data": {
      "text/html": [
       "<div><div id=3fe3cecb-91e8-4115-b8b3-a85c0ccdc698 style=\"display:none; background-color:#9D6CFF; color:white; width:200px; height:30px; padding-left:5px; border-radius:4px; flex-direction:row; justify-content:space-around; align-items:center;\" onmouseover=\"this.style.backgroundColor='#BA9BF8'\" onmouseout=\"this.style.backgroundColor='#9D6CFF'\" onclick=\"window.commands?.execute('create-mitosheet-from-dataframe-output');\">See Full Dataframe in Mito</div> <script> if (window.commands.hasCommand('create-mitosheet-from-dataframe-output')) document.getElementById('3fe3cecb-91e8-4115-b8b3-a85c0ccdc698').style.display = 'flex' </script> <table border=\"1\" class=\"dataframe\">\n",
       "  <thead>\n",
       "    <tr style=\"text-align: right;\">\n",
       "      <th></th>\n",
       "      <th>A</th>\n",
       "      <th>B</th>\n",
       "    </tr>\n",
       "  </thead>\n",
       "  <tbody>\n",
       "    <tr>\n",
       "      <th>a</th>\n",
       "      <td>10</td>\n",
       "      <td>21</td>\n",
       "    </tr>\n",
       "    <tr>\n",
       "      <th>b</th>\n",
       "      <td>11</td>\n",
       "      <td>22</td>\n",
       "    </tr>\n",
       "    <tr>\n",
       "      <th>c</th>\n",
       "      <td>12</td>\n",
       "      <td>23</td>\n",
       "    </tr>\n",
       "  </tbody>\n",
       "</table></div>"
      ],
      "text/plain": [
       "    A   B\n",
       "a  10  21\n",
       "b  11  22\n",
       "c  12  23"
      ]
     },
     "execution_count": 7,
     "metadata": {},
     "output_type": "execute_result"
    }
   ],
   "source": [
    "pd.DataFrame(data={\"A\": [10, 11, 12], \"B\": [21, 22, 23]}, index=[\"a\", \"b\", \"c\"])"
   ]
  },
  {
   "cell_type": "markdown",
   "id": "ba581299",
   "metadata": {},
   "source": [
    "## Series / DataFrame の属性"
   ]
  },
  {
   "cell_type": "markdown",
   "id": "2daa6786",
   "metadata": {},
   "source": [
    "良く使われるものの内一覧としては以下で，Series と DataFrame で共通するものやしないものがあります．"
   ]
  },
  {
   "cell_type": "markdown",
   "id": "1410a2d5",
   "metadata": {},
   "source": [
    "| 属性 | Series | DataFrame |\n",
    "|-|-|-|\n",
    "| T | なし | 転置を返す |\n",
    "| at | 指定するインデックスの要素一つにアクセス | 指定するインデックスとカラムの要素一つにアクセス |\n",
    "| columns | なし | カラムを返す |\n",
    "| hasnans | どれかの要素が NaN である場合に True を返す | なし |\n",
    "| iat | 指定する行番号の要素一つにアクセス | 指定する行・列番号の要素一つにアクセス |\n",
    "| iloc | 指定する行番号の要素にアクセス | 指定する行・列番号の要素にアクセス |\n",
    "| index | index 列を返す | <- |\n",
    "| loc | 指定する要素にアクセス | <- |\n",
    "| name | Series の名称を返す | なし |\n",
    "| shape | 形状を返す | <- |\n",
    "| size | 要素数を返す | <- |\n",
    "| values | 要素のみを numpy.ndarray で返す | <- |"
   ]
  },
  {
   "cell_type": "markdown",
   "id": "9055bbdd",
   "metadata": {},
   "source": [
    "上記の属性について，下記で定義する \"ser\", \"df\" を用いて，以下に例を示していきます．"
   ]
  },
  {
   "cell_type": "code",
   "execution_count": 8,
   "id": "97be5666",
   "metadata": {},
   "outputs": [
    {
     "data": {
      "text/plain": [
       "a    10\n",
       "b    11\n",
       "c    12\n",
       "Name: series_abc, dtype: int64"
      ]
     },
     "execution_count": 8,
     "metadata": {},
     "output_type": "execute_result"
    }
   ],
   "source": [
    "ser = pd.Series(data={\"a\": 10, \"b\": 11, \"c\": 12}, name=\"series_abc\")\n",
    "ser"
   ]
  },
  {
   "cell_type": "code",
   "execution_count": 9,
   "id": "cbb5315f",
   "metadata": {},
   "outputs": [
    {
     "data": {
      "text/html": [
       "<div><div id=29ad9544-025e-48b6-9585-fd0e87f45270 style=\"display:none; background-color:#9D6CFF; color:white; width:200px; height:30px; padding-left:5px; border-radius:4px; flex-direction:row; justify-content:space-around; align-items:center;\" onmouseover=\"this.style.backgroundColor='#BA9BF8'\" onmouseout=\"this.style.backgroundColor='#9D6CFF'\" onclick=\"window.commands?.execute('create-mitosheet-from-dataframe-output');\">See Full Dataframe in Mito</div> <script> if (window.commands.hasCommand('create-mitosheet-from-dataframe-output')) document.getElementById('29ad9544-025e-48b6-9585-fd0e87f45270').style.display = 'flex' </script> <table border=\"1\" class=\"dataframe\">\n",
       "  <thead>\n",
       "    <tr style=\"text-align: right;\">\n",
       "      <th></th>\n",
       "      <th>A</th>\n",
       "      <th>B</th>\n",
       "      <th>C</th>\n",
       "    </tr>\n",
       "  </thead>\n",
       "  <tbody>\n",
       "    <tr>\n",
       "      <th>0</th>\n",
       "      <td>10</td>\n",
       "      <td>20</td>\n",
       "      <td>a</td>\n",
       "    </tr>\n",
       "    <tr>\n",
       "      <th>1</th>\n",
       "      <td>11</td>\n",
       "      <td>21</td>\n",
       "      <td>b</td>\n",
       "    </tr>\n",
       "    <tr>\n",
       "      <th>2</th>\n",
       "      <td>12</td>\n",
       "      <td>22</td>\n",
       "      <td>c</td>\n",
       "    </tr>\n",
       "  </tbody>\n",
       "</table></div>"
      ],
      "text/plain": [
       "    A   B  C\n",
       "0  10  20  a\n",
       "1  11  21  b\n",
       "2  12  22  c"
      ]
     },
     "execution_count": 9,
     "metadata": {},
     "output_type": "execute_result"
    }
   ],
   "source": [
    "df = pd.DataFrame(data={\"A\": [10, 11, 12], \"B\": [20, 21, 22], \"C\": [\"a\", \"b\", \"c\"]})\n",
    "df"
   ]
  },
  {
   "cell_type": "markdown",
   "id": "a5754723",
   "metadata": {},
   "source": [
    "```\n",
    ".T : 転置\n",
    "```"
   ]
  },
  {
   "cell_type": "code",
   "execution_count": 10,
   "id": "142a0dd0",
   "metadata": {},
   "outputs": [
    {
     "data": {
      "text/html": [
       "<div><div id=571a740a-e95e-4769-86d4-c988ad43df59 style=\"display:none; background-color:#9D6CFF; color:white; width:200px; height:30px; padding-left:5px; border-radius:4px; flex-direction:row; justify-content:space-around; align-items:center;\" onmouseover=\"this.style.backgroundColor='#BA9BF8'\" onmouseout=\"this.style.backgroundColor='#9D6CFF'\" onclick=\"window.commands?.execute('create-mitosheet-from-dataframe-output');\">See Full Dataframe in Mito</div> <script> if (window.commands.hasCommand('create-mitosheet-from-dataframe-output')) document.getElementById('571a740a-e95e-4769-86d4-c988ad43df59').style.display = 'flex' </script> <table border=\"1\" class=\"dataframe\">\n",
       "  <thead>\n",
       "    <tr style=\"text-align: right;\">\n",
       "      <th></th>\n",
       "      <th>0</th>\n",
       "      <th>1</th>\n",
       "      <th>2</th>\n",
       "    </tr>\n",
       "  </thead>\n",
       "  <tbody>\n",
       "    <tr>\n",
       "      <th>A</th>\n",
       "      <td>10</td>\n",
       "      <td>11</td>\n",
       "      <td>12</td>\n",
       "    </tr>\n",
       "    <tr>\n",
       "      <th>B</th>\n",
       "      <td>20</td>\n",
       "      <td>21</td>\n",
       "      <td>22</td>\n",
       "    </tr>\n",
       "    <tr>\n",
       "      <th>C</th>\n",
       "      <td>a</td>\n",
       "      <td>b</td>\n",
       "      <td>c</td>\n",
       "    </tr>\n",
       "  </tbody>\n",
       "</table></div>"
      ],
      "text/plain": [
       "    0   1   2\n",
       "A  10  11  12\n",
       "B  20  21  22\n",
       "C   a   b   c"
      ]
     },
     "execution_count": 10,
     "metadata": {},
     "output_type": "execute_result"
    }
   ],
   "source": [
    "df.T"
   ]
  },
  {
   "cell_type": "markdown",
   "id": "a5754723",
   "metadata": {},
   "source": [
    "```\n",
    ".at : 指定するインデックスやカラムの要素一つにアクセス\n",
    "```"
   ]
  },
  {
   "cell_type": "code",
   "execution_count": 11,
   "id": "3901ac15",
   "metadata": {},
   "outputs": [
    {
     "data": {
      "text/plain": [
       "11"
      ]
     },
     "execution_count": 11,
     "metadata": {},
     "output_type": "execute_result"
    }
   ],
   "source": [
    "ser.at[\"b\"]"
   ]
  },
  {
   "cell_type": "code",
   "execution_count": 12,
   "id": "fdd8e18e",
   "metadata": {},
   "outputs": [
    {
     "data": {
      "text/plain": [
       "'b'"
      ]
     },
     "execution_count": 12,
     "metadata": {},
     "output_type": "execute_result"
    }
   ],
   "source": [
    "df.at[1,\"C\"]"
   ]
  },
  {
   "cell_type": "markdown",
   "id": "a5754723",
   "metadata": {},
   "source": [
    "```\n",
    ".columns : カラムを返す\n",
    "```"
   ]
  },
  {
   "cell_type": "code",
   "execution_count": 13,
   "id": "4f65f603",
   "metadata": {},
   "outputs": [
    {
     "data": {
      "text/plain": [
       "Index(['A', 'B', 'C'], dtype='object')"
      ]
     },
     "execution_count": 13,
     "metadata": {},
     "output_type": "execute_result"
    }
   ],
   "source": [
    "df.columns"
   ]
  },
  {
   "cell_type": "markdown",
   "id": "a5754723",
   "metadata": {},
   "source": [
    "```\n",
    ".hasnans : どれかの要素が NaN である場合に True を返す\n",
    "```"
   ]
  },
  {
   "cell_type": "code",
   "execution_count": 14,
   "id": "6454f03b",
   "metadata": {},
   "outputs": [
    {
     "data": {
      "text/plain": [
       "False"
      ]
     },
     "execution_count": 14,
     "metadata": {},
     "output_type": "execute_result"
    }
   ],
   "source": [
    "ser.hasnans"
   ]
  },
  {
   "cell_type": "markdown",
   "id": "7ec1f36c",
   "metadata": {},
   "source": [
    "```\n",
    ".iat : 指定する行番号や列番号の要素一つにアクセス\n",
    "```"
   ]
  },
  {
   "cell_type": "code",
   "execution_count": 15,
   "id": "a0579124",
   "metadata": {},
   "outputs": [
    {
     "data": {
      "text/plain": [
       "11"
      ]
     },
     "execution_count": 15,
     "metadata": {},
     "output_type": "execute_result"
    }
   ],
   "source": [
    "ser.iat[1]"
   ]
  },
  {
   "cell_type": "code",
   "execution_count": 16,
   "id": "b95184e8",
   "metadata": {},
   "outputs": [
    {
     "data": {
      "text/plain": [
       "'b'"
      ]
     },
     "execution_count": 16,
     "metadata": {},
     "output_type": "execute_result"
    }
   ],
   "source": [
    "df.iat[1, 2]"
   ]
  },
  {
   "cell_type": "markdown",
   "id": "7ec1f36c",
   "metadata": {},
   "source": [
    "```\n",
    ".iloc : 指定する行番号や列番号の要素にアクセス\n",
    "```"
   ]
  },
  {
   "cell_type": "code",
   "execution_count": 17,
   "id": "0fa9d884",
   "metadata": {},
   "outputs": [
    {
     "data": {
      "text/plain": [
       "b    11\n",
       "c    12\n",
       "Name: series_abc, dtype: int64"
      ]
     },
     "execution_count": 17,
     "metadata": {},
     "output_type": "execute_result"
    }
   ],
   "source": [
    "ser.iloc[1:]"
   ]
  },
  {
   "cell_type": "code",
   "execution_count": 18,
   "id": "a6983e18",
   "metadata": {},
   "outputs": [
    {
     "data": {
      "text/html": [
       "<div><div id=439dae3c-4a7c-4901-97c2-5f0c6a55d826 style=\"display:none; background-color:#9D6CFF; color:white; width:200px; height:30px; padding-left:5px; border-radius:4px; flex-direction:row; justify-content:space-around; align-items:center;\" onmouseover=\"this.style.backgroundColor='#BA9BF8'\" onmouseout=\"this.style.backgroundColor='#9D6CFF'\" onclick=\"window.commands?.execute('create-mitosheet-from-dataframe-output');\">See Full Dataframe in Mito</div> <script> if (window.commands.hasCommand('create-mitosheet-from-dataframe-output')) document.getElementById('439dae3c-4a7c-4901-97c2-5f0c6a55d826').style.display = 'flex' </script> <table border=\"1\" class=\"dataframe\">\n",
       "  <thead>\n",
       "    <tr style=\"text-align: right;\">\n",
       "      <th></th>\n",
       "      <th>B</th>\n",
       "      <th>C</th>\n",
       "    </tr>\n",
       "  </thead>\n",
       "  <tbody>\n",
       "    <tr>\n",
       "      <th>1</th>\n",
       "      <td>21</td>\n",
       "      <td>b</td>\n",
       "    </tr>\n",
       "    <tr>\n",
       "      <th>2</th>\n",
       "      <td>22</td>\n",
       "      <td>c</td>\n",
       "    </tr>\n",
       "  </tbody>\n",
       "</table></div>"
      ],
      "text/plain": [
       "    B  C\n",
       "1  21  b\n",
       "2  22  c"
      ]
     },
     "execution_count": 18,
     "metadata": {},
     "output_type": "execute_result"
    }
   ],
   "source": [
    "df.iloc[1:, 1:]"
   ]
  },
  {
   "cell_type": "markdown",
   "id": "7ec1f36c",
   "metadata": {},
   "source": [
    "```\n",
    ".index : index を返す\n",
    "```"
   ]
  },
  {
   "cell_type": "code",
   "execution_count": 19,
   "id": "9f2f293f",
   "metadata": {},
   "outputs": [
    {
     "data": {
      "text/plain": [
       "Index(['a', 'b', 'c'], dtype='object')"
      ]
     },
     "execution_count": 19,
     "metadata": {},
     "output_type": "execute_result"
    }
   ],
   "source": [
    "ser.index"
   ]
  },
  {
   "cell_type": "code",
   "execution_count": 20,
   "id": "ca607824",
   "metadata": {},
   "outputs": [
    {
     "data": {
      "text/plain": [
       "RangeIndex(start=0, stop=3, step=1)"
      ]
     },
     "execution_count": 20,
     "metadata": {},
     "output_type": "execute_result"
    }
   ],
   "source": [
    "df.index"
   ]
  },
  {
   "cell_type": "markdown",
   "id": "ade608df",
   "metadata": {},
   "source": [
    "```\n",
    ".loc : 指定する要素にアクセス\n",
    "```"
   ]
  },
  {
   "cell_type": "code",
   "execution_count": 21,
   "id": "6e8a295d",
   "metadata": {},
   "outputs": [
    {
     "data": {
      "text/plain": [
       "b    11\n",
       "c    12\n",
       "Name: series_abc, dtype: int64"
      ]
     },
     "execution_count": 21,
     "metadata": {},
     "output_type": "execute_result"
    }
   ],
   "source": [
    "ser.loc[[\"b\",\"c\"]]"
   ]
  },
  {
   "cell_type": "code",
   "execution_count": 22,
   "id": "138346f3",
   "metadata": {},
   "outputs": [
    {
     "data": {
      "text/html": [
       "<div><div id=52f3248e-8f56-47bf-8c03-eb24aa2b218e style=\"display:none; background-color:#9D6CFF; color:white; width:200px; height:30px; padding-left:5px; border-radius:4px; flex-direction:row; justify-content:space-around; align-items:center;\" onmouseover=\"this.style.backgroundColor='#BA9BF8'\" onmouseout=\"this.style.backgroundColor='#9D6CFF'\" onclick=\"window.commands?.execute('create-mitosheet-from-dataframe-output');\">See Full Dataframe in Mito</div> <script> if (window.commands.hasCommand('create-mitosheet-from-dataframe-output')) document.getElementById('52f3248e-8f56-47bf-8c03-eb24aa2b218e').style.display = 'flex' </script> <table border=\"1\" class=\"dataframe\">\n",
       "  <thead>\n",
       "    <tr style=\"text-align: right;\">\n",
       "      <th></th>\n",
       "      <th>B</th>\n",
       "      <th>C</th>\n",
       "    </tr>\n",
       "  </thead>\n",
       "  <tbody>\n",
       "    <tr>\n",
       "      <th>1</th>\n",
       "      <td>21</td>\n",
       "      <td>b</td>\n",
       "    </tr>\n",
       "    <tr>\n",
       "      <th>2</th>\n",
       "      <td>22</td>\n",
       "      <td>c</td>\n",
       "    </tr>\n",
       "  </tbody>\n",
       "</table></div>"
      ],
      "text/plain": [
       "    B  C\n",
       "1  21  b\n",
       "2  22  c"
      ]
     },
     "execution_count": 22,
     "metadata": {},
     "output_type": "execute_result"
    }
   ],
   "source": [
    "df.loc[[1, 2], [\"B\", \"C\"]]"
   ]
  },
  {
   "cell_type": "markdown",
   "id": "ade608df",
   "metadata": {},
   "source": [
    "```\n",
    ".name : Series の名称を返す\n",
    "```"
   ]
  },
  {
   "cell_type": "code",
   "execution_count": 23,
   "id": "3cb8cdab",
   "metadata": {},
   "outputs": [
    {
     "data": {
      "text/plain": [
       "'series_abc'"
      ]
     },
     "execution_count": 23,
     "metadata": {},
     "output_type": "execute_result"
    }
   ],
   "source": [
    "ser.name"
   ]
  },
  {
   "cell_type": "markdown",
   "id": "ade608df",
   "metadata": {},
   "source": [
    "```\n",
    ".shape : 形状を返す\n",
    "```"
   ]
  },
  {
   "cell_type": "code",
   "execution_count": 24,
   "id": "1e8a7a06",
   "metadata": {},
   "outputs": [
    {
     "data": {
      "text/plain": [
       "(3,)"
      ]
     },
     "execution_count": 24,
     "metadata": {},
     "output_type": "execute_result"
    }
   ],
   "source": [
    "ser.shape"
   ]
  },
  {
   "cell_type": "code",
   "execution_count": 25,
   "id": "7e2b9fa3",
   "metadata": {},
   "outputs": [
    {
     "data": {
      "text/plain": [
       "(3, 3)"
      ]
     },
     "execution_count": 25,
     "metadata": {},
     "output_type": "execute_result"
    }
   ],
   "source": [
    "df.shape"
   ]
  },
  {
   "cell_type": "markdown",
   "id": "26a36876",
   "metadata": {},
   "source": [
    "```\n",
    ".size : 要素数を返す\n",
    "```"
   ]
  },
  {
   "cell_type": "code",
   "execution_count": 26,
   "id": "f68cb939",
   "metadata": {},
   "outputs": [
    {
     "data": {
      "text/plain": [
       "3"
      ]
     },
     "execution_count": 26,
     "metadata": {},
     "output_type": "execute_result"
    }
   ],
   "source": [
    "ser.size"
   ]
  },
  {
   "cell_type": "code",
   "execution_count": 27,
   "id": "44c0fa9f",
   "metadata": {},
   "outputs": [
    {
     "data": {
      "text/plain": [
       "9"
      ]
     },
     "execution_count": 27,
     "metadata": {},
     "output_type": "execute_result"
    }
   ],
   "source": [
    "df.size"
   ]
  },
  {
   "cell_type": "markdown",
   "id": "26a36876",
   "metadata": {},
   "source": [
    "```\n",
    ".values : 要素のみを numpy.ndarray で返す\n",
    "```"
   ]
  },
  {
   "cell_type": "code",
   "execution_count": 28,
   "id": "715f8dda",
   "metadata": {},
   "outputs": [
    {
     "data": {
      "text/plain": [
       "array([10, 11, 12], dtype=int64)"
      ]
     },
     "execution_count": 28,
     "metadata": {},
     "output_type": "execute_result"
    }
   ],
   "source": [
    "ser.values"
   ]
  },
  {
   "cell_type": "code",
   "execution_count": 29,
   "id": "0aff3c06",
   "metadata": {},
   "outputs": [
    {
     "data": {
      "text/plain": [
       "array([[10, 20, 'a'],\n",
       "       [11, 21, 'b'],\n",
       "       [12, 22, 'c']], dtype=object)"
      ]
     },
     "execution_count": 29,
     "metadata": {},
     "output_type": "execute_result"
    }
   ],
   "source": [
    "df.values"
   ]
  },
  {
   "cell_type": "markdown",
   "id": "ba581299",
   "metadata": {},
   "source": [
    "## Series / DataFrame のメソッド"
   ]
  },
  {
   "cell_type": "markdown",
   "id": "2daa6786",
   "metadata": {},
   "source": [
    "良く使われるものの内一覧としては以下で，Series と DataFrame で共通するものやしないものがあります．  \n",
    "このとおり，メソッドだけでも多くのテーブルデータの操作が可能です．"
   ]
  },
  {
   "cell_type": "markdown",
   "id": "1410a2d5",
   "metadata": {},
   "source": [
    "| メソッド | Series | DataFrame |\n",
    "|-|-|-|\n",
    "| .abs() | 各要素の絶対値を返す | <- |\n",
    "| .all(axis=0, bool_only=None, skipna=True, level=None) | 全ての要素が True の場合に True を返す | <- |\n",
    "| .any(axis=0, bool_only=None, skipna=True, level=None) | ある要素が True の場合に True を返す | <- |\n",
    "| .argmax(axis=None, skipna=True) | 要素が最大となる index を返す | なし |\n",
    "| .argmin(axis=None, skipna=True) | 要素が最小となる index を返す | なし |\n",
    "| .astype(dtype, copy=True, errors='raise') | dtype にて指定する型へキャストする | <- |\n",
    "| .autocorr(lag=1) | 指定する要素数のラグを用いた自己相関係数を返す | なし |\n",
    "| .clip(lower=None, upper=None, axis=None, inplace=False) | 要素の値を lower から upper の間にトリムする | <- |\n",
    "| .compare(other, align_axis=1, keep_shape=False, keep_equal=False) | 元のオブジェクトと other にて指定するオブジェクトを比較したものを返す | <- |\n",
    "| .corr(method='pearson', min_periods=1) | なし | 各カラムどうしの相関係数を返す（method で \"pearson\", \"kendall\", \"spearman\" が選択できる） |\n",
    "| .copy(deep=True) | コピーを作成する．deep=True であれば deep copy を生成 | <- |\n",
    "| .cov(min_periods=None, ddof=1) | なし | カラムどうしの分散を返す |\n",
    "| .describe(percentiles=None, include=None, exclude=None, datetime_is_numeric=False) | オブジェクトの統計量を返す | <- |\n",
    "| .diff(periods=1) | 行の変化率を返す（period で何行分の差を取るかを指定） | <- |\n",
    "| .dot(other) | other にて指定したオブジェクトとのドット積を返す | <- |\n",
    "| .drop(labels=None, axis=0, index=None, columns=None, level=None, inplace=False, errors=\"raise\") | 指定した行・列を削除したオブジェクトを返す | <- |\n",
    "| .drop_duplicates(keep='first', inplace=False) | 重複を削除した Series を返す | - |\n",
    "| .drop_duplicates(subset=None, keep='first', inplace=False, ignore_index=False) | - | 重複を削除した DataFrame を返す (ignore_index=True にすると返される index がリセットされる) |"
   ]
  },
  {
   "cell_type": "markdown",
   "id": "1410a2d5",
   "metadata": {},
   "source": [
    "| メソッド | Series | DataFrame |\n",
    "|-|-|-|\n",
    "| .dropna(axis=0, inplace=False, how=None) | None や NaN を削除したオブジェクトを返す | <- |\n",
    "| .fillna(value=None, method=None, axis=None, inplace=False, limit=None, downcast=None) | NaN を value で指定した値に置換 | <- |\n",
    "| .head(n=5) | 上位 n 行目までのオブジェクトを返す | <- |\n",
    "| .idxmax(axis=0, skipna=True) | 最大となる index を返す | <- |\n",
    "| .idxmin(axis=0, skipna=True) | 最小となる index を返す | <- |\n",
    "| .info(verbose=None, buf=None, max_cols=None, memory_usage=None, show_counts=True) | オブジェクトの情報を表示する | <- |\n",
    "| .interpolate(method='linear', axis=0, limit=None, inplace=False, limit_direction=None, limit_area=None, downcast=None) | NaN を補間したオブジェクトを返す | <- |\n",
    "| .isin(values) | values で指定した値が要素と同じであれば True, そうでなければ False としたオブジェクトを返す | <- |\n",
    "| .isna() | 要素が NaN であれば True, そうでなければ False としたオブジェクトを返す | <- |\n",
    "| .items() | dict.items() のように index と要素のタプルを返す | カラム名と pd.Series  |\n",
    "| .mask(cond, other=nan, inplace=False, axis=None, level=None, errors=NoDefault.no_default, try_cast=NoDefault.no_default) | cond にて指定する条件に一致する要素を other にて指定する値に置換したオブジェクトを返す | <- |\n",
    "| .max(axis=NoDefault.no_default, skipna=True, level=None, numeric_only=None) | axis で指定した軸の最大値を返す | <- |\n",
    "| .mean(axis=NoDefault.no_default, skipna=True, level=None, numeric_only=None) | axis で指定した軸の平均値を返す | <- |\n",
    "| .median(axis=NoDefault.no_default, skipna=True, level=None, numeric_only=None) | axis で指定した軸の中央値を返す | <- |\n",
    "| .min(axis=NoDefault.no_default, skipna=True, level=None, numeric_only=None) | axis で指定した軸の最小値を返す | <- |\n",
    "| .notna() | NaN でない要素を True, NaN の要素を False として返す | <- |"
   ]
  },
  {
   "cell_type": "markdown",
   "id": "1410a2d5",
   "metadata": {},
   "source": [
    "| メソッド | Series | DataFrame |\n",
    "|-|-|-|\n",
    "| .nunique(dropna=True) | 重複のない要素の数を返す | <- |\n",
    "| .rank(axis=0, method='average', numeric_only=NoDefault.no_default, na_option='keep', ascending=True, pct=False) | 指定した軸の要素の順序を返す | <- |\n",
    "| .repeat(repeats, axis=None) | 元オブジェクトを repeats に指定した回数分繰り返したオブジェクトを返す | なし |\n",
    "| .replace(to_replace=None, value=NoDefault.no_default, inplace=False, limit=None, regex=False, method=NoDefault.no_default) | to_replace で指定した値を value で指定した値に置換したオブジェクトを返す | <- |\n",
    "| .reset_index(level=None, drop=False, name=NoDefault.no_default, inplace=False) | index を振り直したオブジェクトを返す | <- |\n",
    "| .round(decimals=0) | decimals で指定した桁で要素を丸めたオブジェクトを返す | <- |\n",
    "| .sample(n=None, frac=None, replace=False, weights=None, random_state=None, axis=None, ignore_index=False) | 指定した axis から n 個のサンプルを取得する | <- |\n",
    "| .sort_index(axis=0, level=None, ascending=True, inplace=False, kind='quicksort', na_position='last', sort_remaining=True, ignore_index=False, key=None) | index をソートしたオブジェクトを返す | <- |\n",
    "| .sort_values(ny, axis=0, ascending=True, inplace=False, kind='quicksort', na_position='last', ignore_index=False, key=None) | by で指定したでソートしたオブジェクトを返す | <- |\n",
    "| .sum(axis=None, skipna=True, level=None, numeric_only=None, min_count=0) | axis で指定した軸の総和を返す | <- |\n",
    "| .tail(n=5) | 下位 n 行目までのオブジェクトを返す | <- |\n",
    "| .to_csv(path_or_buf=None, sep=',', na_rep='', float_format=None, columns=None, header=True, index=True, index_label=None, mode='w', encoding=None, compression='infer', quoting=None, quotechar='\"', line_terminator=None, chunksize=None, date_format=None, doublequote=True, escapechar=None, decimal='.', errors='strict', storage_options=None) | path_or_buf で指定したファイルに CSV 形式で出力する | <- |\n",
    "| .to_dict(into=<class 'dict'>) | オブジェクトの辞書型を返す | <- |\n",
    "| .to_excel(excel_writer, sheet_name='Sheet1', na_rep='', float_format=None, columns=None, header=True, index=True, index_label=None, startrow=0, startcol=0, engine=None, merge_cells=True, encoding=None, inf_rep='inf', verbose=True, freeze_panes=None, storage_options=None) | path_or_buf で指定した名称の excel ファイルを出力する | <- |\n",
    "| .to_json(path_or_buf=None, orient=None, date_format=None, double_precision=10, force_ascii=True, date_unit='ms', default_handler=None, lines=False, compression='infer', index=True, indent=None, storage_options=None) | path_or_buf で指定した名称の json ファイルを出力する | <- |\n",
    "| .to_list() | Series をリストに変換して返す | なし |\n",
    "| .to_numpy(dtype=None, copy=False, na_value=NoDefault.no_default) | Series を numpy.ndarray に変換して返す | なし |\n",
    "| .to_pickle(path, compression='infer', protocol=5, storage_options=None) | .pickle 形式で出力する（compression にてファイル圧縮も可） | <- |\n",
    "| .unique() | 重複のない要素の numpy.ndarray を返す | なし |\n",
    "| .value_counts(normalize=False, sort=True, ascending=False, bins=None, dropna=True) | 行の数をカウントした結果を返す | <- |\n",
    "| .where(cond, other=NoDefault.no_default, inplace=False, axis=None, level=None, errors=NoDefault.no_default, try_cast=NoDefault.no_default) | cond の条件式に合わない要素以外を NaN としたオブジェクトを返す | <- |"
   ]
  },
  {
   "cell_type": "markdown",
   "id": "4b674096",
   "metadata": {},
   "source": [
    "メソッドの引数で共通の引数として以下が挙げられ，それぞれ役割があります．"
   ]
  },
  {
   "cell_type": "markdown",
   "id": "8ed6c577",
   "metadata": {},
   "source": [
    "| 引数 | 意味 |\n",
    "|-|-|\n",
    "| axis | 行もしくは列に対する操作を指定．0: 行，1: 列 |\n",
    "| level | マルチインデックスに対して有効（今回は取り扱わず） |\n",
    "| inplace | メソッド適用後に上書きするかどうかを制御 |\n",
    "| index | 行を index で指定するときに用いる |\n",
    "| columns | 列をカラム名で指定するときに用いる |\n",
    "| skipna | NaN をスキップして処理するかどうか |\n",
    "| cond | condition の略で条件式 |\n",
    "| ascending | True だと昇順，False だと降順 |"
   ]
  },
  {
   "cell_type": "markdown",
   "id": "9055bbdd",
   "metadata": {},
   "source": [
    "上記について，下記で定義する \"ser\", \"df\" を用いて，以下に例を示していきます．"
   ]
  },
  {
   "cell_type": "code",
   "execution_count": 30,
   "id": "97be5666",
   "metadata": {},
   "outputs": [
    {
     "data": {
      "text/plain": [
       "a    10\n",
       "b   -10\n",
       "c     0\n",
       "Name: series_abc, dtype: int64"
      ]
     },
     "execution_count": 30,
     "metadata": {},
     "output_type": "execute_result"
    }
   ],
   "source": [
    "ser = pd.Series(data={\"a\": 10, \"b\": -10, \"c\": 0}, name=\"series_abc\")\n",
    "ser"
   ]
  },
  {
   "cell_type": "code",
   "execution_count": 31,
   "id": "cbb5315f",
   "metadata": {},
   "outputs": [
    {
     "data": {
      "text/html": [
       "<div><div id=ad2fa254-bc5a-4c14-ba71-96d30f9c24ab style=\"display:none; background-color:#9D6CFF; color:white; width:200px; height:30px; padding-left:5px; border-radius:4px; flex-direction:row; justify-content:space-around; align-items:center;\" onmouseover=\"this.style.backgroundColor='#BA9BF8'\" onmouseout=\"this.style.backgroundColor='#9D6CFF'\" onclick=\"window.commands?.execute('create-mitosheet-from-dataframe-output');\">See Full Dataframe in Mito</div> <script> if (window.commands.hasCommand('create-mitosheet-from-dataframe-output')) document.getElementById('ad2fa254-bc5a-4c14-ba71-96d30f9c24ab').style.display = 'flex' </script> <table border=\"1\" class=\"dataframe\">\n",
       "  <thead>\n",
       "    <tr style=\"text-align: right;\">\n",
       "      <th></th>\n",
       "      <th>A</th>\n",
       "      <th>B</th>\n",
       "    </tr>\n",
       "  </thead>\n",
       "  <tbody>\n",
       "    <tr>\n",
       "      <th>0</th>\n",
       "      <td>10</td>\n",
       "      <td>11</td>\n",
       "    </tr>\n",
       "    <tr>\n",
       "      <th>1</th>\n",
       "      <td>-10</td>\n",
       "      <td>22</td>\n",
       "    </tr>\n",
       "    <tr>\n",
       "      <th>2</th>\n",
       "      <td>0</td>\n",
       "      <td>33</td>\n",
       "    </tr>\n",
       "  </tbody>\n",
       "</table></div>"
      ],
      "text/plain": [
       "    A   B\n",
       "0  10  11\n",
       "1 -10  22\n",
       "2   0  33"
      ]
     },
     "execution_count": 31,
     "metadata": {},
     "output_type": "execute_result"
    }
   ],
   "source": [
    "df = pd.DataFrame(data={\"A\": [10, -10, 0], \"B\": [11, 22, 33]})\n",
    "df"
   ]
  },
  {
   "cell_type": "markdown",
   "id": "d58b15cd",
   "metadata": {},
   "source": [
    "```\n",
    ".abs()\n",
    "・・・・各要素の絶対値を返す\n",
    "```"
   ]
  },
  {
   "cell_type": "code",
   "execution_count": 32,
   "id": "2daa6786",
   "metadata": {},
   "outputs": [
    {
     "data": {
      "text/plain": [
       "a    10\n",
       "b    10\n",
       "c     0\n",
       "Name: series_abc, dtype: int64"
      ]
     },
     "execution_count": 32,
     "metadata": {},
     "output_type": "execute_result"
    }
   ],
   "source": [
    "ser.abs()"
   ]
  },
  {
   "cell_type": "code",
   "execution_count": 33,
   "id": "da7e35e6",
   "metadata": {},
   "outputs": [
    {
     "data": {
      "text/html": [
       "<div><div id=b59919ed-8f59-4fb0-8e8e-c51950f8caad style=\"display:none; background-color:#9D6CFF; color:white; width:200px; height:30px; padding-left:5px; border-radius:4px; flex-direction:row; justify-content:space-around; align-items:center;\" onmouseover=\"this.style.backgroundColor='#BA9BF8'\" onmouseout=\"this.style.backgroundColor='#9D6CFF'\" onclick=\"window.commands?.execute('create-mitosheet-from-dataframe-output');\">See Full Dataframe in Mito</div> <script> if (window.commands.hasCommand('create-mitosheet-from-dataframe-output')) document.getElementById('b59919ed-8f59-4fb0-8e8e-c51950f8caad').style.display = 'flex' </script> <table border=\"1\" class=\"dataframe\">\n",
       "  <thead>\n",
       "    <tr style=\"text-align: right;\">\n",
       "      <th></th>\n",
       "      <th>A</th>\n",
       "      <th>B</th>\n",
       "    </tr>\n",
       "  </thead>\n",
       "  <tbody>\n",
       "    <tr>\n",
       "      <th>0</th>\n",
       "      <td>10</td>\n",
       "      <td>11</td>\n",
       "    </tr>\n",
       "    <tr>\n",
       "      <th>1</th>\n",
       "      <td>10</td>\n",
       "      <td>22</td>\n",
       "    </tr>\n",
       "    <tr>\n",
       "      <th>2</th>\n",
       "      <td>0</td>\n",
       "      <td>33</td>\n",
       "    </tr>\n",
       "  </tbody>\n",
       "</table></div>"
      ],
      "text/plain": [
       "    A   B\n",
       "0  10  11\n",
       "1  10  22\n",
       "2   0  33"
      ]
     },
     "execution_count": 33,
     "metadata": {},
     "output_type": "execute_result"
    }
   ],
   "source": [
    "df.abs()"
   ]
  },
  {
   "cell_type": "markdown",
   "id": "d58b15cd",
   "metadata": {},
   "source": [
    "```\n",
    ".all(axis=0, bool_only=None, skipna=True, level=None)\n",
    "・・・・全ての要素が True の場合に True を返す\n",
    "```"
   ]
  },
  {
   "cell_type": "code",
   "execution_count": 34,
   "id": "880b3356",
   "metadata": {},
   "outputs": [
    {
     "data": {
      "text/plain": [
       "False"
      ]
     },
     "execution_count": 34,
     "metadata": {},
     "output_type": "execute_result"
    }
   ],
   "source": [
    "ser.all()"
   ]
  },
  {
   "cell_type": "code",
   "execution_count": 35,
   "id": "cba9aac7",
   "metadata": {},
   "outputs": [
    {
     "data": {
      "text/plain": [
       "A    False\n",
       "B     True\n",
       "dtype: bool"
      ]
     },
     "execution_count": 35,
     "metadata": {},
     "output_type": "execute_result"
    }
   ],
   "source": [
    "df.all()"
   ]
  },
  {
   "cell_type": "code",
   "execution_count": 36,
   "id": "e6942934",
   "metadata": {},
   "outputs": [
    {
     "data": {
      "text/plain": [
       "0     True\n",
       "1     True\n",
       "2    False\n",
       "dtype: bool"
      ]
     },
     "execution_count": 36,
     "metadata": {},
     "output_type": "execute_result"
    }
   ],
   "source": [
    "df.all(axis=1)"
   ]
  },
  {
   "cell_type": "markdown",
   "id": "1d4f4d50",
   "metadata": {},
   "source": [
    "```\n",
    ".any(axis=0, bool_only=None, skipna=True, level=None)\n",
    "・・・・ある要素が True の場合に True を返す\n",
    "```"
   ]
  },
  {
   "cell_type": "code",
   "execution_count": 37,
   "id": "604af2ca",
   "metadata": {},
   "outputs": [
    {
     "data": {
      "text/plain": [
       "True"
      ]
     },
     "execution_count": 37,
     "metadata": {},
     "output_type": "execute_result"
    }
   ],
   "source": [
    "ser.any()"
   ]
  },
  {
   "cell_type": "code",
   "execution_count": 38,
   "id": "0f06c0cd",
   "metadata": {},
   "outputs": [
    {
     "data": {
      "text/plain": [
       "A    True\n",
       "B    True\n",
       "dtype: bool"
      ]
     },
     "execution_count": 38,
     "metadata": {},
     "output_type": "execute_result"
    }
   ],
   "source": [
    "df.any()"
   ]
  },
  {
   "cell_type": "code",
   "execution_count": 39,
   "id": "0f06c0cd",
   "metadata": {},
   "outputs": [
    {
     "data": {
      "text/plain": [
       "0    True\n",
       "1    True\n",
       "2    True\n",
       "dtype: bool"
      ]
     },
     "execution_count": 39,
     "metadata": {},
     "output_type": "execute_result"
    }
   ],
   "source": [
    "df.any(axis=1)"
   ]
  },
  {
   "cell_type": "markdown",
   "id": "44450c59",
   "metadata": {},
   "source": [
    "```\n",
    ".argmax(axis=None, skipna=True)\n",
    "・・・・要素が最大となる index を返す\n",
    "```"
   ]
  },
  {
   "cell_type": "code",
   "execution_count": 40,
   "id": "657c77e4",
   "metadata": {},
   "outputs": [
    {
     "data": {
      "text/plain": [
       "0"
      ]
     },
     "execution_count": 40,
     "metadata": {},
     "output_type": "execute_result"
    }
   ],
   "source": [
    "ser.argmax()"
   ]
  },
  {
   "cell_type": "markdown",
   "id": "44450c59",
   "metadata": {},
   "source": [
    "```\n",
    ".argmin(axis=None, skipna=True)\n",
    "・・・・要素が最小となる index を返す\n",
    "```"
   ]
  },
  {
   "cell_type": "code",
   "execution_count": 41,
   "id": "657c77e4",
   "metadata": {},
   "outputs": [
    {
     "data": {
      "text/plain": [
       "1"
      ]
     },
     "execution_count": 41,
     "metadata": {},
     "output_type": "execute_result"
    }
   ],
   "source": [
    "ser.argmin()"
   ]
  },
  {
   "cell_type": "markdown",
   "id": "41294680",
   "metadata": {},
   "source": [
    "```\n",
    ".astype(dtype, copy=True, errors='raise')\n",
    "・・・・dtype にて指定する型へキャストする\n",
    "```"
   ]
  },
  {
   "cell_type": "code",
   "execution_count": 42,
   "id": "6325da7f",
   "metadata": {},
   "outputs": [
    {
     "data": {
      "text/plain": [
       "a    10.0\n",
       "b   -10.0\n",
       "c     0.0\n",
       "Name: series_abc, dtype: float64"
      ]
     },
     "execution_count": 42,
     "metadata": {},
     "output_type": "execute_result"
    }
   ],
   "source": [
    "ser.astype(dtype=\"float64\")"
   ]
  },
  {
   "cell_type": "code",
   "execution_count": 43,
   "id": "73fed3ed",
   "metadata": {},
   "outputs": [
    {
     "data": {
      "text/html": [
       "<div><div id=f01353d8-5502-4694-8728-0415809b7875 style=\"display:none; background-color:#9D6CFF; color:white; width:200px; height:30px; padding-left:5px; border-radius:4px; flex-direction:row; justify-content:space-around; align-items:center;\" onmouseover=\"this.style.backgroundColor='#BA9BF8'\" onmouseout=\"this.style.backgroundColor='#9D6CFF'\" onclick=\"window.commands?.execute('create-mitosheet-from-dataframe-output');\">See Full Dataframe in Mito</div> <script> if (window.commands.hasCommand('create-mitosheet-from-dataframe-output')) document.getElementById('f01353d8-5502-4694-8728-0415809b7875').style.display = 'flex' </script> <table border=\"1\" class=\"dataframe\">\n",
       "  <thead>\n",
       "    <tr style=\"text-align: right;\">\n",
       "      <th></th>\n",
       "      <th>A</th>\n",
       "      <th>B</th>\n",
       "    </tr>\n",
       "  </thead>\n",
       "  <tbody>\n",
       "    <tr>\n",
       "      <th>0</th>\n",
       "      <td>10.0</td>\n",
       "      <td>11.0</td>\n",
       "    </tr>\n",
       "    <tr>\n",
       "      <th>1</th>\n",
       "      <td>-10.0</td>\n",
       "      <td>22.0</td>\n",
       "    </tr>\n",
       "    <tr>\n",
       "      <th>2</th>\n",
       "      <td>0.0</td>\n",
       "      <td>33.0</td>\n",
       "    </tr>\n",
       "  </tbody>\n",
       "</table></div>"
      ],
      "text/plain": [
       "      A     B\n",
       "0  10.0  11.0\n",
       "1 -10.0  22.0\n",
       "2   0.0  33.0"
      ]
     },
     "execution_count": 43,
     "metadata": {},
     "output_type": "execute_result"
    }
   ],
   "source": [
    "df.astype(dtype=\"float64\")"
   ]
  },
  {
   "cell_type": "markdown",
   "id": "80e66ee8",
   "metadata": {},
   "source": [
    "```\n",
    ".autocorr(lag=1)\n",
    "・・・・指定する要素数のラグを用いた自己相関係数を返す\n",
    "```"
   ]
  },
  {
   "cell_type": "code",
   "execution_count": 44,
   "id": "5bf2d1d6",
   "metadata": {},
   "outputs": [
    {
     "data": {
      "text/plain": [
       "-0.9999999999999999"
      ]
     },
     "execution_count": 44,
     "metadata": {},
     "output_type": "execute_result"
    }
   ],
   "source": [
    "ser.autocorr()"
   ]
  },
  {
   "cell_type": "code",
   "execution_count": 45,
   "id": "5bf2d1d6",
   "metadata": {},
   "outputs": [
    {
     "data": {
      "text/plain": [
       "1.0"
      ]
     },
     "execution_count": 45,
     "metadata": {},
     "output_type": "execute_result"
    }
   ],
   "source": [
    "ser.autocorr(lag=0)"
   ]
  },
  {
   "cell_type": "markdown",
   "id": "ef3c3034",
   "metadata": {},
   "source": [
    "```\n",
    ".clip(lower=None, upper=None, axis=None, inplace=False)\n",
    "・・・・要素の値を lower から upper の間にトリムする\n",
    "```"
   ]
  },
  {
   "cell_type": "code",
   "execution_count": 46,
   "id": "96f35a84",
   "metadata": {},
   "outputs": [
    {
     "data": {
      "text/plain": [
       "a    10\n",
       "b     1\n",
       "c     1\n",
       "Name: series_abc, dtype: int64"
      ]
     },
     "execution_count": 46,
     "metadata": {},
     "output_type": "execute_result"
    }
   ],
   "source": [
    "ser.clip(lower=1, upper=50)"
   ]
  },
  {
   "cell_type": "code",
   "execution_count": 47,
   "id": "e77a1236",
   "metadata": {},
   "outputs": [
    {
     "data": {
      "text/html": [
       "<div><div id=1ac6fffc-0be7-4232-9af5-a0aed0573774 style=\"display:none; background-color:#9D6CFF; color:white; width:200px; height:30px; padding-left:5px; border-radius:4px; flex-direction:row; justify-content:space-around; align-items:center;\" onmouseover=\"this.style.backgroundColor='#BA9BF8'\" onmouseout=\"this.style.backgroundColor='#9D6CFF'\" onclick=\"window.commands?.execute('create-mitosheet-from-dataframe-output');\">See Full Dataframe in Mito</div> <script> if (window.commands.hasCommand('create-mitosheet-from-dataframe-output')) document.getElementById('1ac6fffc-0be7-4232-9af5-a0aed0573774').style.display = 'flex' </script> <table border=\"1\" class=\"dataframe\">\n",
       "  <thead>\n",
       "    <tr style=\"text-align: right;\">\n",
       "      <th></th>\n",
       "      <th>A</th>\n",
       "      <th>B</th>\n",
       "    </tr>\n",
       "  </thead>\n",
       "  <tbody>\n",
       "    <tr>\n",
       "      <th>0</th>\n",
       "      <td>10</td>\n",
       "      <td>10</td>\n",
       "    </tr>\n",
       "    <tr>\n",
       "      <th>1</th>\n",
       "      <td>1</td>\n",
       "      <td>10</td>\n",
       "    </tr>\n",
       "    <tr>\n",
       "      <th>2</th>\n",
       "      <td>1</td>\n",
       "      <td>10</td>\n",
       "    </tr>\n",
       "  </tbody>\n",
       "</table></div>"
      ],
      "text/plain": [
       "    A   B\n",
       "0  10  10\n",
       "1   1  10\n",
       "2   1  10"
      ]
     },
     "execution_count": 47,
     "metadata": {},
     "output_type": "execute_result"
    }
   ],
   "source": [
    "df.clip(lower=1, upper=10)"
   ]
  },
  {
   "cell_type": "markdown",
   "id": "c16b2259",
   "metadata": {},
   "source": [
    "```\n",
    ".compare(other, align_axis=1, keep_shape=False, keep_equal=False)\n",
    "・・・・元のオブジェクトと other にて指定するオブジェクトを比較したものを返す\n",
    "```"
   ]
  },
  {
   "cell_type": "code",
   "execution_count": 48,
   "id": "13b58df5",
   "metadata": {},
   "outputs": [
    {
     "data": {
      "text/html": [
       "<div><div id=2df33e18-e0e8-40ae-8450-d10c6f9431b5 style=\"display:none; background-color:#9D6CFF; color:white; width:200px; height:30px; padding-left:5px; border-radius:4px; flex-direction:row; justify-content:space-around; align-items:center;\" onmouseover=\"this.style.backgroundColor='#BA9BF8'\" onmouseout=\"this.style.backgroundColor='#9D6CFF'\" onclick=\"window.commands?.execute('create-mitosheet-from-dataframe-output');\">See Full Dataframe in Mito</div> <script> if (window.commands.hasCommand('create-mitosheet-from-dataframe-output')) document.getElementById('2df33e18-e0e8-40ae-8450-d10c6f9431b5').style.display = 'flex' </script> <table border=\"1\" class=\"dataframe\">\n",
       "  <thead>\n",
       "    <tr style=\"text-align: right;\">\n",
       "      <th></th>\n",
       "      <th>self</th>\n",
       "      <th>other</th>\n",
       "    </tr>\n",
       "  </thead>\n",
       "  <tbody>\n",
       "    <tr>\n",
       "      <th>1</th>\n",
       "      <td>b</td>\n",
       "      <td>a</td>\n",
       "    </tr>\n",
       "    <tr>\n",
       "      <th>3</th>\n",
       "      <td>d</td>\n",
       "      <td>b</td>\n",
       "    </tr>\n",
       "  </tbody>\n",
       "</table></div>"
      ],
      "text/plain": [
       "  self other\n",
       "1    b     a\n",
       "3    d     b"
      ]
     },
     "execution_count": 48,
     "metadata": {},
     "output_type": "execute_result"
    }
   ],
   "source": [
    "s1 = pd.Series([\"a\", \"b\", \"c\", \"d\", \"e\"])\n",
    "s2 = pd.Series([\"a\", \"a\", \"c\", \"b\", \"e\"])\n",
    "s1.compare(other=s2)"
   ]
  },
  {
   "cell_type": "code",
   "execution_count": 49,
   "id": "4dbe3dc3",
   "metadata": {},
   "outputs": [
    {
     "data": {
      "text/plain": [
       "1  self     b\n",
       "   other    a\n",
       "3  self     d\n",
       "   other    b\n",
       "dtype: object"
      ]
     },
     "execution_count": 49,
     "metadata": {},
     "output_type": "execute_result"
    }
   ],
   "source": [
    "s1.compare(other=s2, align_axis=0)"
   ]
  },
  {
   "cell_type": "code",
   "execution_count": 50,
   "id": "2a123a0e",
   "metadata": {},
   "outputs": [
    {
     "data": {
      "text/html": [
       "<div><div id=715de1f8-4bf5-4058-9006-05c5326f54f8 style=\"display:none; background-color:#9D6CFF; color:white; width:200px; height:30px; padding-left:5px; border-radius:4px; flex-direction:row; justify-content:space-around; align-items:center;\" onmouseover=\"this.style.backgroundColor='#BA9BF8'\" onmouseout=\"this.style.backgroundColor='#9D6CFF'\" onclick=\"window.commands?.execute('create-mitosheet-from-dataframe-output');\">See Full Dataframe in Mito</div> <script> if (window.commands.hasCommand('create-mitosheet-from-dataframe-output')) document.getElementById('715de1f8-4bf5-4058-9006-05c5326f54f8').style.display = 'flex' </script> <table border=\"1\" class=\"dataframe\">\n",
       "  <thead>\n",
       "    <tr style=\"text-align: right;\">\n",
       "      <th></th>\n",
       "      <th>self</th>\n",
       "      <th>other</th>\n",
       "    </tr>\n",
       "  </thead>\n",
       "  <tbody>\n",
       "    <tr>\n",
       "      <th>0</th>\n",
       "      <td>NaN</td>\n",
       "      <td>NaN</td>\n",
       "    </tr>\n",
       "    <tr>\n",
       "      <th>1</th>\n",
       "      <td>b</td>\n",
       "      <td>a</td>\n",
       "    </tr>\n",
       "    <tr>\n",
       "      <th>2</th>\n",
       "      <td>NaN</td>\n",
       "      <td>NaN</td>\n",
       "    </tr>\n",
       "    <tr>\n",
       "      <th>3</th>\n",
       "      <td>d</td>\n",
       "      <td>b</td>\n",
       "    </tr>\n",
       "    <tr>\n",
       "      <th>4</th>\n",
       "      <td>NaN</td>\n",
       "      <td>NaN</td>\n",
       "    </tr>\n",
       "  </tbody>\n",
       "</table></div>"
      ],
      "text/plain": [
       "  self other\n",
       "0  NaN   NaN\n",
       "1    b     a\n",
       "2  NaN   NaN\n",
       "3    d     b\n",
       "4  NaN   NaN"
      ]
     },
     "execution_count": 50,
     "metadata": {},
     "output_type": "execute_result"
    }
   ],
   "source": [
    "s1.compare(other=s2, keep_shape=True)"
   ]
  },
  {
   "cell_type": "code",
   "execution_count": 51,
   "id": "b64d16e9",
   "metadata": {},
   "outputs": [
    {
     "data": {
      "text/html": [
       "<div><div id=80a4d6f1-3069-4b05-833f-e376ec3c14cb style=\"display:none; background-color:#9D6CFF; color:white; width:200px; height:30px; padding-left:5px; border-radius:4px; flex-direction:row; justify-content:space-around; align-items:center;\" onmouseover=\"this.style.backgroundColor='#BA9BF8'\" onmouseout=\"this.style.backgroundColor='#9D6CFF'\" onclick=\"window.commands?.execute('create-mitosheet-from-dataframe-output');\">See Full Dataframe in Mito</div> <script> if (window.commands.hasCommand('create-mitosheet-from-dataframe-output')) document.getElementById('80a4d6f1-3069-4b05-833f-e376ec3c14cb').style.display = 'flex' </script> <table border=\"1\" class=\"dataframe\">\n",
       "  <thead>\n",
       "    <tr style=\"text-align: right;\">\n",
       "      <th></th>\n",
       "      <th>A</th>\n",
       "      <th>B</th>\n",
       "    </tr>\n",
       "  </thead>\n",
       "  <tbody>\n",
       "    <tr>\n",
       "      <th>0</th>\n",
       "      <td>10</td>\n",
       "      <td>11</td>\n",
       "    </tr>\n",
       "    <tr>\n",
       "      <th>1</th>\n",
       "      <td>-10</td>\n",
       "      <td>22</td>\n",
       "    </tr>\n",
       "    <tr>\n",
       "      <th>2</th>\n",
       "      <td>0</td>\n",
       "      <td>33</td>\n",
       "    </tr>\n",
       "  </tbody>\n",
       "</table></div>"
      ],
      "text/plain": [
       "    A   B\n",
       "0  10  11\n",
       "1 -10  22\n",
       "2   0  33"
      ]
     },
     "execution_count": 51,
     "metadata": {},
     "output_type": "execute_result"
    }
   ],
   "source": [
    "df"
   ]
  },
  {
   "cell_type": "markdown",
   "id": "6ad56dcc",
   "metadata": {},
   "source": [
    "```\n",
    ".corr(method='pearson', min_periods=1)\n",
    "・・・・各カラムどうしの相関係数を返す（method で \"pearson\", \"kendall\", \"spearman\" が選択できる\n",
    "```"
   ]
  },
  {
   "cell_type": "code",
   "execution_count": 52,
   "id": "a7e037a1",
   "metadata": {},
   "outputs": [
    {
     "data": {
      "text/html": [
       "<div><div id=0436b486-a0d2-47fe-b37e-8b427c75c240 style=\"display:none; background-color:#9D6CFF; color:white; width:200px; height:30px; padding-left:5px; border-radius:4px; flex-direction:row; justify-content:space-around; align-items:center;\" onmouseover=\"this.style.backgroundColor='#BA9BF8'\" onmouseout=\"this.style.backgroundColor='#9D6CFF'\" onclick=\"window.commands?.execute('create-mitosheet-from-dataframe-output');\">See Full Dataframe in Mito</div> <script> if (window.commands.hasCommand('create-mitosheet-from-dataframe-output')) document.getElementById('0436b486-a0d2-47fe-b37e-8b427c75c240').style.display = 'flex' </script> <table border=\"1\" class=\"dataframe\">\n",
       "  <thead>\n",
       "    <tr style=\"text-align: right;\">\n",
       "      <th></th>\n",
       "      <th>A</th>\n",
       "      <th>B</th>\n",
       "    </tr>\n",
       "  </thead>\n",
       "  <tbody>\n",
       "    <tr>\n",
       "      <th>A</th>\n",
       "      <td>1.0</td>\n",
       "      <td>-0.5</td>\n",
       "    </tr>\n",
       "    <tr>\n",
       "      <th>B</th>\n",
       "      <td>-0.5</td>\n",
       "      <td>1.0</td>\n",
       "    </tr>\n",
       "  </tbody>\n",
       "</table></div>"
      ],
      "text/plain": [
       "     A    B\n",
       "A  1.0 -0.5\n",
       "B -0.5  1.0"
      ]
     },
     "execution_count": 52,
     "metadata": {},
     "output_type": "execute_result"
    }
   ],
   "source": [
    "df.corr()"
   ]
  },
  {
   "cell_type": "markdown",
   "id": "bf74b912",
   "metadata": {},
   "source": [
    "```\n",
    ".copy(deep=True)\n",
    "・・・・コピーを作成する．deep=True であれば deep copy を生成\n",
    "```"
   ]
  },
  {
   "cell_type": "code",
   "execution_count": 53,
   "id": "cd33ae18",
   "metadata": {},
   "outputs": [
    {
     "data": {
      "text/html": [
       "<div><div id=92995a14-d231-4581-ac4e-79652767c462 style=\"display:none; background-color:#9D6CFF; color:white; width:200px; height:30px; padding-left:5px; border-radius:4px; flex-direction:row; justify-content:space-around; align-items:center;\" onmouseover=\"this.style.backgroundColor='#BA9BF8'\" onmouseout=\"this.style.backgroundColor='#9D6CFF'\" onclick=\"window.commands?.execute('create-mitosheet-from-dataframe-output');\">See Full Dataframe in Mito</div> <script> if (window.commands.hasCommand('create-mitosheet-from-dataframe-output')) document.getElementById('92995a14-d231-4581-ac4e-79652767c462').style.display = 'flex' </script> <table border=\"1\" class=\"dataframe\">\n",
       "  <thead>\n",
       "    <tr style=\"text-align: right;\">\n",
       "      <th></th>\n",
       "      <th>A</th>\n",
       "      <th>B</th>\n",
       "    </tr>\n",
       "  </thead>\n",
       "  <tbody>\n",
       "    <tr>\n",
       "      <th>0</th>\n",
       "      <td>-777</td>\n",
       "      <td>11</td>\n",
       "    </tr>\n",
       "    <tr>\n",
       "      <th>1</th>\n",
       "      <td>-10</td>\n",
       "      <td>-777</td>\n",
       "    </tr>\n",
       "    <tr>\n",
       "      <th>2</th>\n",
       "      <td>0</td>\n",
       "      <td>33</td>\n",
       "    </tr>\n",
       "  </tbody>\n",
       "</table></div>"
      ],
      "text/plain": [
       "     A    B\n",
       "0 -777   11\n",
       "1  -10 -777\n",
       "2    0   33"
      ]
     },
     "execution_count": 53,
     "metadata": {},
     "output_type": "execute_result"
    }
   ],
   "source": [
    "df2 = df.copy()\n",
    "df2.iat[0,0] = -777\n",
    "df2.iat[1,1] = -777\n",
    "df2"
   ]
  },
  {
   "cell_type": "code",
   "execution_count": 54,
   "id": "ca12f793",
   "metadata": {},
   "outputs": [
    {
     "data": {
      "text/html": [
       "<div><div id=bd3d4202-bc47-4bfb-bbf6-19bde46f3b1b style=\"display:none; background-color:#9D6CFF; color:white; width:200px; height:30px; padding-left:5px; border-radius:4px; flex-direction:row; justify-content:space-around; align-items:center;\" onmouseover=\"this.style.backgroundColor='#BA9BF8'\" onmouseout=\"this.style.backgroundColor='#9D6CFF'\" onclick=\"window.commands?.execute('create-mitosheet-from-dataframe-output');\">See Full Dataframe in Mito</div> <script> if (window.commands.hasCommand('create-mitosheet-from-dataframe-output')) document.getElementById('bd3d4202-bc47-4bfb-bbf6-19bde46f3b1b').style.display = 'flex' </script> <table border=\"1\" class=\"dataframe\">\n",
       "  <thead>\n",
       "    <tr>\n",
       "      <th></th>\n",
       "      <th colspan=\"2\" halign=\"left\">A</th>\n",
       "      <th colspan=\"2\" halign=\"left\">B</th>\n",
       "    </tr>\n",
       "    <tr>\n",
       "      <th></th>\n",
       "      <th>self</th>\n",
       "      <th>other</th>\n",
       "      <th>self</th>\n",
       "      <th>other</th>\n",
       "    </tr>\n",
       "  </thead>\n",
       "  <tbody>\n",
       "    <tr>\n",
       "      <th>0</th>\n",
       "      <td>10.0</td>\n",
       "      <td>-777.0</td>\n",
       "      <td>NaN</td>\n",
       "      <td>NaN</td>\n",
       "    </tr>\n",
       "    <tr>\n",
       "      <th>1</th>\n",
       "      <td>NaN</td>\n",
       "      <td>NaN</td>\n",
       "      <td>22.0</td>\n",
       "      <td>-777.0</td>\n",
       "    </tr>\n",
       "  </tbody>\n",
       "</table></div>"
      ],
      "text/plain": [
       "      A            B       \n",
       "   self  other  self  other\n",
       "0  10.0 -777.0   NaN    NaN\n",
       "1   NaN    NaN  22.0 -777.0"
      ]
     },
     "execution_count": 54,
     "metadata": {},
     "output_type": "execute_result"
    }
   ],
   "source": [
    "df.compare(other=df2)"
   ]
  },
  {
   "cell_type": "code",
   "execution_count": 55,
   "id": "edb44d12",
   "metadata": {},
   "outputs": [
    {
     "data": {
      "text/html": [
       "<div><div id=74fa58c3-cd23-4499-bd4e-6ea5e8ca0f3e style=\"display:none; background-color:#9D6CFF; color:white; width:200px; height:30px; padding-left:5px; border-radius:4px; flex-direction:row; justify-content:space-around; align-items:center;\" onmouseover=\"this.style.backgroundColor='#BA9BF8'\" onmouseout=\"this.style.backgroundColor='#9D6CFF'\" onclick=\"window.commands?.execute('create-mitosheet-from-dataframe-output');\">See Full Dataframe in Mito</div> <script> if (window.commands.hasCommand('create-mitosheet-from-dataframe-output')) document.getElementById('74fa58c3-cd23-4499-bd4e-6ea5e8ca0f3e').style.display = 'flex' </script> <table border=\"1\" class=\"dataframe\">\n",
       "  <thead>\n",
       "    <tr style=\"text-align: right;\">\n",
       "      <th></th>\n",
       "      <th></th>\n",
       "      <th>A</th>\n",
       "      <th>B</th>\n",
       "    </tr>\n",
       "  </thead>\n",
       "  <tbody>\n",
       "    <tr>\n",
       "      <th rowspan=\"2\" valign=\"top\">0</th>\n",
       "      <th>self</th>\n",
       "      <td>10.0</td>\n",
       "      <td>NaN</td>\n",
       "    </tr>\n",
       "    <tr>\n",
       "      <th>other</th>\n",
       "      <td>-777.0</td>\n",
       "      <td>NaN</td>\n",
       "    </tr>\n",
       "    <tr>\n",
       "      <th rowspan=\"2\" valign=\"top\">1</th>\n",
       "      <th>self</th>\n",
       "      <td>NaN</td>\n",
       "      <td>22.0</td>\n",
       "    </tr>\n",
       "    <tr>\n",
       "      <th>other</th>\n",
       "      <td>NaN</td>\n",
       "      <td>-777.0</td>\n",
       "    </tr>\n",
       "  </tbody>\n",
       "</table></div>"
      ],
      "text/plain": [
       "             A      B\n",
       "0 self    10.0    NaN\n",
       "  other -777.0    NaN\n",
       "1 self     NaN   22.0\n",
       "  other    NaN -777.0"
      ]
     },
     "execution_count": 55,
     "metadata": {},
     "output_type": "execute_result"
    }
   ],
   "source": [
    "df.compare(other=df2, align_axis=0)"
   ]
  },
  {
   "cell_type": "code",
   "execution_count": 56,
   "id": "71c391f7",
   "metadata": {},
   "outputs": [
    {
     "data": {
      "text/html": [
       "<div><div id=ffdf8c42-2f38-4a24-962b-c53b2c3b9c17 style=\"display:none; background-color:#9D6CFF; color:white; width:200px; height:30px; padding-left:5px; border-radius:4px; flex-direction:row; justify-content:space-around; align-items:center;\" onmouseover=\"this.style.backgroundColor='#BA9BF8'\" onmouseout=\"this.style.backgroundColor='#9D6CFF'\" onclick=\"window.commands?.execute('create-mitosheet-from-dataframe-output');\">See Full Dataframe in Mito</div> <script> if (window.commands.hasCommand('create-mitosheet-from-dataframe-output')) document.getElementById('ffdf8c42-2f38-4a24-962b-c53b2c3b9c17').style.display = 'flex' </script> <table border=\"1\" class=\"dataframe\">\n",
       "  <thead>\n",
       "    <tr>\n",
       "      <th></th>\n",
       "      <th colspan=\"2\" halign=\"left\">A</th>\n",
       "      <th colspan=\"2\" halign=\"left\">B</th>\n",
       "    </tr>\n",
       "    <tr>\n",
       "      <th></th>\n",
       "      <th>self</th>\n",
       "      <th>other</th>\n",
       "      <th>self</th>\n",
       "      <th>other</th>\n",
       "    </tr>\n",
       "  </thead>\n",
       "  <tbody>\n",
       "    <tr>\n",
       "      <th>0</th>\n",
       "      <td>10.0</td>\n",
       "      <td>-777.0</td>\n",
       "      <td>NaN</td>\n",
       "      <td>NaN</td>\n",
       "    </tr>\n",
       "    <tr>\n",
       "      <th>1</th>\n",
       "      <td>NaN</td>\n",
       "      <td>NaN</td>\n",
       "      <td>22.0</td>\n",
       "      <td>-777.0</td>\n",
       "    </tr>\n",
       "    <tr>\n",
       "      <th>2</th>\n",
       "      <td>NaN</td>\n",
       "      <td>NaN</td>\n",
       "      <td>NaN</td>\n",
       "      <td>NaN</td>\n",
       "    </tr>\n",
       "  </tbody>\n",
       "</table></div>"
      ],
      "text/plain": [
       "      A            B       \n",
       "   self  other  self  other\n",
       "0  10.0 -777.0   NaN    NaN\n",
       "1   NaN    NaN  22.0 -777.0\n",
       "2   NaN    NaN   NaN    NaN"
      ]
     },
     "execution_count": 56,
     "metadata": {},
     "output_type": "execute_result"
    }
   ],
   "source": [
    "df.compare(other=df2, keep_shape=True)"
   ]
  },
  {
   "cell_type": "markdown",
   "id": "8bf04b86",
   "metadata": {},
   "source": [
    "```\n",
    ".cov(min_periods=None, ddof=1)\n",
    "・・・・カラムどうしの分散を返す\n",
    "```"
   ]
  },
  {
   "cell_type": "code",
   "execution_count": 57,
   "metadata": {},
   "outputs": [
    {
     "data": {
      "text/html": [
       "<div><div id=43c6f564-b73a-44b4-8fa8-f399318d2249 style=\"display:none; background-color:#9D6CFF; color:white; width:200px; height:30px; padding-left:5px; border-radius:4px; flex-direction:row; justify-content:space-around; align-items:center;\" onmouseover=\"this.style.backgroundColor='#BA9BF8'\" onmouseout=\"this.style.backgroundColor='#9D6CFF'\" onclick=\"window.commands?.execute('create-mitosheet-from-dataframe-output');\">See Full Dataframe in Mito</div> <script> if (window.commands.hasCommand('create-mitosheet-from-dataframe-output')) document.getElementById('43c6f564-b73a-44b4-8fa8-f399318d2249').style.display = 'flex' </script> <table border=\"1\" class=\"dataframe\">\n",
       "  <thead>\n",
       "    <tr style=\"text-align: right;\">\n",
       "      <th></th>\n",
       "      <th>A</th>\n",
       "      <th>B</th>\n",
       "    </tr>\n",
       "  </thead>\n",
       "  <tbody>\n",
       "    <tr>\n",
       "      <th>A</th>\n",
       "      <td>100.0</td>\n",
       "      <td>-55.0</td>\n",
       "    </tr>\n",
       "    <tr>\n",
       "      <th>B</th>\n",
       "      <td>-55.0</td>\n",
       "      <td>121.0</td>\n",
       "    </tr>\n",
       "  </tbody>\n",
       "</table></div>"
      ],
      "text/plain": [
       "       A      B\n",
       "A  100.0  -55.0\n",
       "B  -55.0  121.0"
      ]
     },
     "execution_count": 57,
     "metadata": {},
     "output_type": "execute_result"
    }
   ],
   "source": [
    "df.cov()"
   ]
  },
  {
   "cell_type": "markdown",
   "id": "d128541c",
   "metadata": {},
   "source": [
    "```\n",
    ".describe(percentiles=None, include=None, exclude=None, datetime_is_numeric=False)\n",
    "・・・・オブジェクトの統計量を返す\n",
    "```"
   ]
  },
  {
   "cell_type": "code",
   "execution_count": 58,
   "id": "a9c63d2d",
   "metadata": {},
   "outputs": [
    {
     "data": {
      "text/plain": [
       "count     3.0\n",
       "mean      0.0\n",
       "std      10.0\n",
       "min     -10.0\n",
       "25%      -5.0\n",
       "50%       0.0\n",
       "75%       5.0\n",
       "max      10.0\n",
       "Name: series_abc, dtype: float64"
      ]
     },
     "execution_count": 58,
     "metadata": {},
     "output_type": "execute_result"
    }
   ],
   "source": [
    "ser.describe()"
   ]
  },
  {
   "cell_type": "code",
   "execution_count": 59,
   "id": "eb3aaad7",
   "metadata": {},
   "outputs": [
    {
     "data": {
      "text/plain": [
       "count     3.0\n",
       "mean      0.0\n",
       "std      10.0\n",
       "min     -10.0\n",
       "10%      -8.0\n",
       "20%      -6.0\n",
       "30%      -4.0\n",
       "50%       0.0\n",
       "max      10.0\n",
       "Name: series_abc, dtype: float64"
      ]
     },
     "execution_count": 59,
     "metadata": {},
     "output_type": "execute_result"
    }
   ],
   "source": [
    "ser.describe(percentiles=[0.1, 0.2, 0.3])"
   ]
  },
  {
   "cell_type": "code",
   "execution_count": 60,
   "id": "411a064f",
   "metadata": {},
   "outputs": [
    {
     "data": {
      "text/html": [
       "<div><div id=781e7134-9c8b-401e-aead-3c842b526cf7 style=\"display:none; background-color:#9D6CFF; color:white; width:200px; height:30px; padding-left:5px; border-radius:4px; flex-direction:row; justify-content:space-around; align-items:center;\" onmouseover=\"this.style.backgroundColor='#BA9BF8'\" onmouseout=\"this.style.backgroundColor='#9D6CFF'\" onclick=\"window.commands?.execute('create-mitosheet-from-dataframe-output');\">See Full Dataframe in Mito</div> <script> if (window.commands.hasCommand('create-mitosheet-from-dataframe-output')) document.getElementById('781e7134-9c8b-401e-aead-3c842b526cf7').style.display = 'flex' </script> <table border=\"1\" class=\"dataframe\">\n",
       "  <thead>\n",
       "    <tr style=\"text-align: right;\">\n",
       "      <th></th>\n",
       "      <th>A</th>\n",
       "      <th>B</th>\n",
       "    </tr>\n",
       "  </thead>\n",
       "  <tbody>\n",
       "    <tr>\n",
       "      <th>count</th>\n",
       "      <td>3.0</td>\n",
       "      <td>3.0</td>\n",
       "    </tr>\n",
       "    <tr>\n",
       "      <th>mean</th>\n",
       "      <td>0.0</td>\n",
       "      <td>22.0</td>\n",
       "    </tr>\n",
       "    <tr>\n",
       "      <th>std</th>\n",
       "      <td>10.0</td>\n",
       "      <td>11.0</td>\n",
       "    </tr>\n",
       "    <tr>\n",
       "      <th>min</th>\n",
       "      <td>-10.0</td>\n",
       "      <td>11.0</td>\n",
       "    </tr>\n",
       "    <tr>\n",
       "      <th>25%</th>\n",
       "      <td>-5.0</td>\n",
       "      <td>16.5</td>\n",
       "    </tr>\n",
       "    <tr>\n",
       "      <th>50%</th>\n",
       "      <td>0.0</td>\n",
       "      <td>22.0</td>\n",
       "    </tr>\n",
       "    <tr>\n",
       "      <th>75%</th>\n",
       "      <td>5.0</td>\n",
       "      <td>27.5</td>\n",
       "    </tr>\n",
       "    <tr>\n",
       "      <th>max</th>\n",
       "      <td>10.0</td>\n",
       "      <td>33.0</td>\n",
       "    </tr>\n",
       "  </tbody>\n",
       "</table></div>"
      ],
      "text/plain": [
       "          A     B\n",
       "count   3.0   3.0\n",
       "mean    0.0  22.0\n",
       "std    10.0  11.0\n",
       "min   -10.0  11.0\n",
       "25%    -5.0  16.5\n",
       "50%     0.0  22.0\n",
       "75%     5.0  27.5\n",
       "max    10.0  33.0"
      ]
     },
     "execution_count": 60,
     "metadata": {},
     "output_type": "execute_result"
    }
   ],
   "source": [
    "df.describe()"
   ]
  },
  {
   "cell_type": "markdown",
   "id": "8613b53f",
   "metadata": {},
   "source": [
    "```\n",
    ".diff(periods=1)\n",
    "・・・・行の変化率を返す（period で何行分の差を取るかを指定）\n",
    "```"
   ]
  },
  {
   "cell_type": "code",
   "execution_count": 61,
   "id": "db3c9cce",
   "metadata": {},
   "outputs": [
    {
     "data": {
      "text/plain": [
       "a     NaN\n",
       "b   -20.0\n",
       "c    10.0\n",
       "Name: series_abc, dtype: float64"
      ]
     },
     "execution_count": 61,
     "metadata": {},
     "output_type": "execute_result"
    }
   ],
   "source": [
    "ser.diff()"
   ]
  },
  {
   "cell_type": "code",
   "execution_count": 62,
   "id": "4ea25fb9",
   "metadata": {},
   "outputs": [
    {
     "data": {
      "text/html": [
       "<div><div id=6e4b0ff3-a37d-4717-a587-c21cfaa9cf41 style=\"display:none; background-color:#9D6CFF; color:white; width:200px; height:30px; padding-left:5px; border-radius:4px; flex-direction:row; justify-content:space-around; align-items:center;\" onmouseover=\"this.style.backgroundColor='#BA9BF8'\" onmouseout=\"this.style.backgroundColor='#9D6CFF'\" onclick=\"window.commands?.execute('create-mitosheet-from-dataframe-output');\">See Full Dataframe in Mito</div> <script> if (window.commands.hasCommand('create-mitosheet-from-dataframe-output')) document.getElementById('6e4b0ff3-a37d-4717-a587-c21cfaa9cf41').style.display = 'flex' </script> <table border=\"1\" class=\"dataframe\">\n",
       "  <thead>\n",
       "    <tr style=\"text-align: right;\">\n",
       "      <th></th>\n",
       "      <th>A</th>\n",
       "      <th>B</th>\n",
       "    </tr>\n",
       "  </thead>\n",
       "  <tbody>\n",
       "    <tr>\n",
       "      <th>0</th>\n",
       "      <td>NaN</td>\n",
       "      <td>NaN</td>\n",
       "    </tr>\n",
       "    <tr>\n",
       "      <th>1</th>\n",
       "      <td>-20.0</td>\n",
       "      <td>11.0</td>\n",
       "    </tr>\n",
       "    <tr>\n",
       "      <th>2</th>\n",
       "      <td>10.0</td>\n",
       "      <td>11.0</td>\n",
       "    </tr>\n",
       "  </tbody>\n",
       "</table></div>"
      ],
      "text/plain": [
       "      A     B\n",
       "0   NaN   NaN\n",
       "1 -20.0  11.0\n",
       "2  10.0  11.0"
      ]
     },
     "execution_count": 62,
     "metadata": {},
     "output_type": "execute_result"
    }
   ],
   "source": [
    "df.diff()"
   ]
  },
  {
   "cell_type": "code",
   "execution_count": 63,
   "id": "4ea25fb9",
   "metadata": {},
   "outputs": [
    {
     "data": {
      "text/html": [
       "<div><div id=dadb6f6f-f4f2-4403-8217-925f34dd94f0 style=\"display:none; background-color:#9D6CFF; color:white; width:200px; height:30px; padding-left:5px; border-radius:4px; flex-direction:row; justify-content:space-around; align-items:center;\" onmouseover=\"this.style.backgroundColor='#BA9BF8'\" onmouseout=\"this.style.backgroundColor='#9D6CFF'\" onclick=\"window.commands?.execute('create-mitosheet-from-dataframe-output');\">See Full Dataframe in Mito</div> <script> if (window.commands.hasCommand('create-mitosheet-from-dataframe-output')) document.getElementById('dadb6f6f-f4f2-4403-8217-925f34dd94f0').style.display = 'flex' </script> <table border=\"1\" class=\"dataframe\">\n",
       "  <thead>\n",
       "    <tr style=\"text-align: right;\">\n",
       "      <th></th>\n",
       "      <th>A</th>\n",
       "      <th>B</th>\n",
       "    </tr>\n",
       "  </thead>\n",
       "  <tbody>\n",
       "    <tr>\n",
       "      <th>0</th>\n",
       "      <td>NaN</td>\n",
       "      <td>NaN</td>\n",
       "    </tr>\n",
       "    <tr>\n",
       "      <th>1</th>\n",
       "      <td>NaN</td>\n",
       "      <td>NaN</td>\n",
       "    </tr>\n",
       "    <tr>\n",
       "      <th>2</th>\n",
       "      <td>-10.0</td>\n",
       "      <td>22.0</td>\n",
       "    </tr>\n",
       "  </tbody>\n",
       "</table></div>"
      ],
      "text/plain": [
       "      A     B\n",
       "0   NaN   NaN\n",
       "1   NaN   NaN\n",
       "2 -10.0  22.0"
      ]
     },
     "execution_count": 63,
     "metadata": {},
     "output_type": "execute_result"
    }
   ],
   "source": [
    "df.diff(periods=2)"
   ]
  },
  {
   "cell_type": "markdown",
   "id": "aa56f404",
   "metadata": {},
   "source": [
    "```\n",
    ".dot(other)\n",
    "・・・・other にて指定したオブジェクトとのドット積を返す\n",
    "```"
   ]
  },
  {
   "cell_type": "code",
   "execution_count": 64,
   "id": "14cc0403",
   "metadata": {},
   "outputs": [
    {
     "data": {
      "text/plain": [
       "200"
      ]
     },
     "execution_count": 64,
     "metadata": {},
     "output_type": "execute_result"
    }
   ],
   "source": [
    "ser.dot(ser)"
   ]
  },
  {
   "cell_type": "code",
   "execution_count": 65,
   "id": "a489f438",
   "metadata": {},
   "outputs": [
    {
     "data": {
      "text/plain": [
       "(3, 2)"
      ]
     },
     "execution_count": 65,
     "metadata": {},
     "output_type": "execute_result"
    }
   ],
   "source": [
    "df.shape"
   ]
  },
  {
   "cell_type": "code",
   "execution_count": 66,
   "id": "a13fe8c6",
   "metadata": {},
   "outputs": [
    {
     "data": {
      "text/html": [
       "<div><div id=6fe8f8c2-325b-4535-ad4c-fc23ca4c117c style=\"display:none; background-color:#9D6CFF; color:white; width:200px; height:30px; padding-left:5px; border-radius:4px; flex-direction:row; justify-content:space-around; align-items:center;\" onmouseover=\"this.style.backgroundColor='#BA9BF8'\" onmouseout=\"this.style.backgroundColor='#9D6CFF'\" onclick=\"window.commands?.execute('create-mitosheet-from-dataframe-output');\">See Full Dataframe in Mito</div> <script> if (window.commands.hasCommand('create-mitosheet-from-dataframe-output')) document.getElementById('6fe8f8c2-325b-4535-ad4c-fc23ca4c117c').style.display = 'flex' </script> <table border=\"1\" class=\"dataframe\">\n",
       "  <thead>\n",
       "    <tr style=\"text-align: right;\">\n",
       "      <th></th>\n",
       "      <th>0</th>\n",
       "      <th>1</th>\n",
       "      <th>2</th>\n",
       "    </tr>\n",
       "  </thead>\n",
       "  <tbody>\n",
       "    <tr>\n",
       "      <th>0</th>\n",
       "      <td>221</td>\n",
       "      <td>142</td>\n",
       "      <td>363</td>\n",
       "    </tr>\n",
       "    <tr>\n",
       "      <th>1</th>\n",
       "      <td>142</td>\n",
       "      <td>584</td>\n",
       "      <td>726</td>\n",
       "    </tr>\n",
       "    <tr>\n",
       "      <th>2</th>\n",
       "      <td>363</td>\n",
       "      <td>726</td>\n",
       "      <td>1089</td>\n",
       "    </tr>\n",
       "  </tbody>\n",
       "</table></div>"
      ],
      "text/plain": [
       "     0    1     2\n",
       "0  221  142   363\n",
       "1  142  584   726\n",
       "2  363  726  1089"
      ]
     },
     "execution_count": 66,
     "metadata": {},
     "output_type": "execute_result"
    }
   ],
   "source": [
    "df.dot(df.T)"
   ]
  },
  {
   "cell_type": "code",
   "execution_count": 67,
   "id": "a13fe8c6",
   "metadata": {},
   "outputs": [
    {
     "data": {
      "text/html": [
       "<div><div id=0976aeb2-b440-44cd-bc00-92b2c3a6c9ad style=\"display:none; background-color:#9D6CFF; color:white; width:200px; height:30px; padding-left:5px; border-radius:4px; flex-direction:row; justify-content:space-around; align-items:center;\" onmouseover=\"this.style.backgroundColor='#BA9BF8'\" onmouseout=\"this.style.backgroundColor='#9D6CFF'\" onclick=\"window.commands?.execute('create-mitosheet-from-dataframe-output');\">See Full Dataframe in Mito</div> <script> if (window.commands.hasCommand('create-mitosheet-from-dataframe-output')) document.getElementById('0976aeb2-b440-44cd-bc00-92b2c3a6c9ad').style.display = 'flex' </script> <table border=\"1\" class=\"dataframe\">\n",
       "  <thead>\n",
       "    <tr style=\"text-align: right;\">\n",
       "      <th></th>\n",
       "      <th>A</th>\n",
       "      <th>B</th>\n",
       "    </tr>\n",
       "  </thead>\n",
       "  <tbody>\n",
       "    <tr>\n",
       "      <th>A</th>\n",
       "      <td>200</td>\n",
       "      <td>-110</td>\n",
       "    </tr>\n",
       "    <tr>\n",
       "      <th>B</th>\n",
       "      <td>-110</td>\n",
       "      <td>1694</td>\n",
       "    </tr>\n",
       "  </tbody>\n",
       "</table></div>"
      ],
      "text/plain": [
       "     A     B\n",
       "A  200  -110\n",
       "B -110  1694"
      ]
     },
     "execution_count": 67,
     "metadata": {},
     "output_type": "execute_result"
    }
   ],
   "source": [
    "df.T.dot(df)"
   ]
  },
  {
   "cell_type": "markdown",
   "id": "43495642",
   "metadata": {},
   "source": [
    "```\n",
    ".drop(labels=None, axis=0, index=None, columns=None, level=None, inplace=False, errors=\"raise\")\n",
    "・・・・指定した行・列を削除したオブジェクトを返す\n",
    "```"
   ]
  },
  {
   "cell_type": "code",
   "execution_count": 68,
   "id": "49ec5806",
   "metadata": {},
   "outputs": [
    {
     "data": {
      "text/plain": [
       "b   -10\n",
       "Name: series_abc, dtype: int64"
      ]
     },
     "execution_count": 68,
     "metadata": {},
     "output_type": "execute_result"
    }
   ],
   "source": [
    "ser.drop(labels=[\"a\", \"c\"])"
   ]
  },
  {
   "cell_type": "code",
   "execution_count": 69,
   "id": "49ec5806",
   "metadata": {},
   "outputs": [
    {
     "data": {
      "text/plain": [
       "b   -10\n",
       "Name: series_abc, dtype: int64"
      ]
     },
     "execution_count": 69,
     "metadata": {},
     "output_type": "execute_result"
    }
   ],
   "source": [
    "ser.drop(index=[\"a\", \"c\"])"
   ]
  },
  {
   "cell_type": "markdown",
   "id": "c1592a4a",
   "metadata": {},
   "source": [
    "存在しない index を指定するとエラーが出ますが，errors に \"ignore\" をしていすると，指定した index が存在しなくてもエラーが出ず，元のオブジェクトが返されます．"
   ]
  },
  {
   "cell_type": "code",
   "execution_count": 70,
   "id": "49ec5806",
   "metadata": {},
   "outputs": [],
   "source": [
    "# ser.drop(index=[\"d\"])\n",
    "\n",
    "# ---------------------------------------------------------------------------\n",
    "# KeyError                                  Traceback (most recent call last)\n",
    "# ~\\AppData\\Local\\Temp\\ipykernel_14676\\1810636668.py in <module>\n",
    "# ----> 1 ser.drop(index=[\"d\"])\n",
    "\n",
    "# ~\\AppData\\Local\\Programs\\Python\\Python39\\lib\\site-packages\\pandas\\util\\_decorators.py in wrapper(*args, **kwargs)\n",
    "#     309                     stacklevel=stacklevel,\n",
    "#     310                 )\n",
    "# --> 311             return func(*args, **kwargs)\n",
    "#     312 \n",
    "#     313         return wrapper\n",
    "\n",
    "# ~\\AppData\\Local\\Programs\\Python\\Python39\\lib\\site-packages\\pandas\\core\\series.py in drop(self, labels, axis, index, columns, level, inplace, errors)\n",
    "#    4769         dtype: float64\n",
    "#    4770         \"\"\"\n",
    "# -> 4771         return super().drop(\n",
    "#    4772             labels=labels,\n",
    "#    4773             axis=axis,\n",
    "\n",
    "# ~\\AppData\\Local\\Programs\\Python\\Python39\\lib\\site-packages\\pandas\\core\\generic.py in drop(self, labels, axis, index, columns, level, inplace, errors)\n",
    "#    4277         for axis, labels in axes.items():\n",
    "#    4278             if labels is not None:\n",
    "# -> 4279                 obj = obj._drop_axis(labels, axis, level=level, errors=errors)\n",
    "#    4280 \n",
    "#    4281         if inplace:\n",
    "\n",
    "# ~\\AppData\\Local\\Programs\\Python\\Python39\\lib\\site-packages\\pandas\\core\\generic.py in _drop_axis(self, labels, axis, level, errors, consolidate, only_slice)\n",
    "#    4321                 new_axis = axis.drop(labels, level=level, errors=errors)\n",
    "#    4322             else:\n",
    "# -> 4323                 new_axis = axis.drop(labels, errors=errors)\n",
    "#    4324             indexer = axis.get_indexer(new_axis)\n",
    "#    4325 \n",
    "\n",
    "# ~\\AppData\\Local\\Programs\\Python\\Python39\\lib\\site-packages\\pandas\\core\\indexes\\base.py in drop(self, labels, errors)\n",
    "#    6642         if mask.any():\n",
    "#    6643             if errors != \"ignore\":\n",
    "# -> 6644                 raise KeyError(f\"{list(labels[mask])} not found in axis\")\n",
    "#    6645             indexer = indexer[~mask]\n",
    "#    6646         return self.delete(indexer)\n",
    "\n",
    "# KeyError: \"['d'] not found in axis\""
   ]
  },
  {
   "cell_type": "code",
   "execution_count": 71,
   "id": "49ec5806",
   "metadata": {},
   "outputs": [
    {
     "data": {
      "text/plain": [
       "a    10\n",
       "b   -10\n",
       "c     0\n",
       "Name: series_abc, dtype: int64"
      ]
     },
     "execution_count": 71,
     "metadata": {},
     "output_type": "execute_result"
    }
   ],
   "source": [
    "ser.drop(index=[\"d\"], errors=\"ignore\")"
   ]
  },
  {
   "cell_type": "code",
   "execution_count": 72,
   "id": "8ef89f61",
   "metadata": {},
   "outputs": [
    {
     "data": {
      "text/html": [
       "<div><div id=248f3900-fbde-4f32-bd35-7ef040f65c8b style=\"display:none; background-color:#9D6CFF; color:white; width:200px; height:30px; padding-left:5px; border-radius:4px; flex-direction:row; justify-content:space-around; align-items:center;\" onmouseover=\"this.style.backgroundColor='#BA9BF8'\" onmouseout=\"this.style.backgroundColor='#9D6CFF'\" onclick=\"window.commands?.execute('create-mitosheet-from-dataframe-output');\">See Full Dataframe in Mito</div> <script> if (window.commands.hasCommand('create-mitosheet-from-dataframe-output')) document.getElementById('248f3900-fbde-4f32-bd35-7ef040f65c8b').style.display = 'flex' </script> <table border=\"1\" class=\"dataframe\">\n",
       "  <thead>\n",
       "    <tr style=\"text-align: right;\">\n",
       "      <th></th>\n",
       "      <th>B</th>\n",
       "    </tr>\n",
       "  </thead>\n",
       "  <tbody>\n",
       "    <tr>\n",
       "      <th>1</th>\n",
       "      <td>22</td>\n",
       "    </tr>\n",
       "  </tbody>\n",
       "</table></div>"
      ],
      "text/plain": [
       "    B\n",
       "1  22"
      ]
     },
     "execution_count": 72,
     "metadata": {},
     "output_type": "execute_result"
    }
   ],
   "source": [
    "df.drop(index=[0, 2], columns=[\"A\"])"
   ]
  },
  {
   "cell_type": "markdown",
   "id": "5ee0c5f1",
   "metadata": {},
   "source": [
    "```\n",
    ".drop_duplicates(keep='first', inplace=False)\n",
    "・・・・重複を削除した Series を返す\n",
    "```"
   ]
  },
  {
   "cell_type": "code",
   "execution_count": 73,
   "id": "cd7c2a6e",
   "metadata": {},
   "outputs": [
    {
     "data": {
      "text/plain": [
       "0    a\n",
       "1    b\n",
       "2    a\n",
       "3    a\n",
       "4    b\n",
       "5    c\n",
       "6    a\n",
       "7    b\n",
       "dtype: object"
      ]
     },
     "execution_count": 73,
     "metadata": {},
     "output_type": "execute_result"
    }
   ],
   "source": [
    "ser_tmp = pd.Series(data=[\"a\", \"b\", \"a\", \"a\", \"b\", \"c\", \"a\", \"b\"])\n",
    "ser_tmp"
   ]
  },
  {
   "cell_type": "code",
   "execution_count": 74,
   "id": "9bcd56a2",
   "metadata": {},
   "outputs": [
    {
     "data": {
      "text/plain": [
       "0    a\n",
       "1    b\n",
       "5    c\n",
       "dtype: object"
      ]
     },
     "execution_count": 74,
     "metadata": {},
     "output_type": "execute_result"
    }
   ],
   "source": [
    "ser_tmp.drop_duplicates()"
   ]
  },
  {
   "cell_type": "code",
   "execution_count": 75,
   "id": "9bcd56a2",
   "metadata": {},
   "outputs": [
    {
     "data": {
      "text/plain": [
       "5    c\n",
       "6    a\n",
       "7    b\n",
       "dtype: object"
      ]
     },
     "execution_count": 75,
     "metadata": {},
     "output_type": "execute_result"
    }
   ],
   "source": [
    "ser_tmp.drop_duplicates(keep=\"last\")"
   ]
  },
  {
   "cell_type": "code",
   "execution_count": 76,
   "id": "b1c1890c",
   "metadata": {},
   "outputs": [
    {
     "data": {
      "text/html": [
       "<div><div id=8d1e8da6-84e1-426e-bbb0-828177818ce1 style=\"display:none; background-color:#9D6CFF; color:white; width:200px; height:30px; padding-left:5px; border-radius:4px; flex-direction:row; justify-content:space-around; align-items:center;\" onmouseover=\"this.style.backgroundColor='#BA9BF8'\" onmouseout=\"this.style.backgroundColor='#9D6CFF'\" onclick=\"window.commands?.execute('create-mitosheet-from-dataframe-output');\">See Full Dataframe in Mito</div> <script> if (window.commands.hasCommand('create-mitosheet-from-dataframe-output')) document.getElementById('8d1e8da6-84e1-426e-bbb0-828177818ce1').style.display = 'flex' </script> <table border=\"1\" class=\"dataframe\">\n",
       "  <thead>\n",
       "    <tr style=\"text-align: right;\">\n",
       "      <th></th>\n",
       "      <th>A</th>\n",
       "      <th>B</th>\n",
       "      <th>C</th>\n",
       "    </tr>\n",
       "  </thead>\n",
       "  <tbody>\n",
       "    <tr>\n",
       "      <th>0</th>\n",
       "      <td>1</td>\n",
       "      <td>0</td>\n",
       "      <td>0</td>\n",
       "    </tr>\n",
       "    <tr>\n",
       "      <th>1</th>\n",
       "      <td>0</td>\n",
       "      <td>1</td>\n",
       "      <td>0</td>\n",
       "    </tr>\n",
       "    <tr>\n",
       "      <th>2</th>\n",
       "      <td>0</td>\n",
       "      <td>0</td>\n",
       "      <td>1</td>\n",
       "    </tr>\n",
       "  </tbody>\n",
       "</table></div>"
      ],
      "text/plain": [
       "   A  B  C\n",
       "0  1  0  0\n",
       "1  0  1  0\n",
       "2  0  0  1"
      ]
     },
     "execution_count": 76,
     "metadata": {},
     "output_type": "execute_result"
    }
   ],
   "source": [
    "df_tmp = pd.DataFrame(data={\"A\": [1,0,0], \"B\": [0,1,0], \"C\": [0,0,1]})\n",
    "df_tmp"
   ]
  },
  {
   "cell_type": "code",
   "execution_count": 77,
   "id": "b1c1890c",
   "metadata": {},
   "outputs": [
    {
     "data": {
      "text/html": [
       "<div><div id=917f9663-798a-46f8-9082-4f5383bf89ef style=\"display:none; background-color:#9D6CFF; color:white; width:200px; height:30px; padding-left:5px; border-radius:4px; flex-direction:row; justify-content:space-around; align-items:center;\" onmouseover=\"this.style.backgroundColor='#BA9BF8'\" onmouseout=\"this.style.backgroundColor='#9D6CFF'\" onclick=\"window.commands?.execute('create-mitosheet-from-dataframe-output');\">See Full Dataframe in Mito</div> <script> if (window.commands.hasCommand('create-mitosheet-from-dataframe-output')) document.getElementById('917f9663-798a-46f8-9082-4f5383bf89ef').style.display = 'flex' </script> <table border=\"1\" class=\"dataframe\">\n",
       "  <thead>\n",
       "    <tr style=\"text-align: right;\">\n",
       "      <th></th>\n",
       "      <th>A</th>\n",
       "      <th>B</th>\n",
       "      <th>C</th>\n",
       "    </tr>\n",
       "  </thead>\n",
       "  <tbody>\n",
       "    <tr>\n",
       "      <th>0</th>\n",
       "      <td>1</td>\n",
       "      <td>0</td>\n",
       "      <td>0</td>\n",
       "    </tr>\n",
       "    <tr>\n",
       "      <th>2</th>\n",
       "      <td>0</td>\n",
       "      <td>0</td>\n",
       "      <td>1</td>\n",
       "    </tr>\n",
       "  </tbody>\n",
       "</table></div>"
      ],
      "text/plain": [
       "   A  B  C\n",
       "0  1  0  0\n",
       "2  0  0  1"
      ]
     },
     "execution_count": 77,
     "metadata": {},
     "output_type": "execute_result"
    }
   ],
   "source": [
    "df_tmp.drop_duplicates(subset=[\"C\"])"
   ]
  },
  {
   "cell_type": "code",
   "execution_count": 78,
   "id": "b1c1890c",
   "metadata": {},
   "outputs": [
    {
     "data": {
      "text/html": [
       "<div><div id=74fc465c-9be1-48c8-9775-4de3b1ff9035 style=\"display:none; background-color:#9D6CFF; color:white; width:200px; height:30px; padding-left:5px; border-radius:4px; flex-direction:row; justify-content:space-around; align-items:center;\" onmouseover=\"this.style.backgroundColor='#BA9BF8'\" onmouseout=\"this.style.backgroundColor='#9D6CFF'\" onclick=\"window.commands?.execute('create-mitosheet-from-dataframe-output');\">See Full Dataframe in Mito</div> <script> if (window.commands.hasCommand('create-mitosheet-from-dataframe-output')) document.getElementById('74fc465c-9be1-48c8-9775-4de3b1ff9035').style.display = 'flex' </script> <table border=\"1\" class=\"dataframe\">\n",
       "  <thead>\n",
       "    <tr style=\"text-align: right;\">\n",
       "      <th></th>\n",
       "      <th>A</th>\n",
       "      <th>B</th>\n",
       "      <th>C</th>\n",
       "    </tr>\n",
       "  </thead>\n",
       "  <tbody>\n",
       "    <tr>\n",
       "      <th>0</th>\n",
       "      <td>1</td>\n",
       "      <td>0</td>\n",
       "      <td>0</td>\n",
       "    </tr>\n",
       "    <tr>\n",
       "      <th>1</th>\n",
       "      <td>0</td>\n",
       "      <td>0</td>\n",
       "      <td>1</td>\n",
       "    </tr>\n",
       "  </tbody>\n",
       "</table></div>"
      ],
      "text/plain": [
       "   A  B  C\n",
       "0  1  0  0\n",
       "1  0  0  1"
      ]
     },
     "execution_count": 78,
     "metadata": {},
     "output_type": "execute_result"
    }
   ],
   "source": [
    "df_tmp.drop_duplicates(subset=[\"C\"], ignore_index=True)"
   ]
  },
  {
   "cell_type": "markdown",
   "id": "5a546b44",
   "metadata": {},
   "source": [
    "```\n",
    ".dropna(axis=0, inplace=False, how=None)\n",
    "・・・・None や NaN を削除したオブジェクトを返す\n",
    "```"
   ]
  },
  {
   "cell_type": "code",
   "execution_count": 79,
   "id": "bd0e2a40",
   "metadata": {},
   "outputs": [],
   "source": [
    "import math\n",
    "import numpy as np"
   ]
  },
  {
   "cell_type": "code",
   "execution_count": 80,
   "id": "ba71419d",
   "metadata": {},
   "outputs": [
    {
     "data": {
      "text/plain": [
       "0    None\n",
       "1       1\n",
       "2    <NA>\n",
       "3     NaN\n",
       "4     NaN\n",
       "5     NaN\n",
       "6     NaN\n",
       "7     NaN\n",
       "dtype: object"
      ]
     },
     "execution_count": 80,
     "metadata": {},
     "output_type": "execute_result"
    }
   ],
   "source": [
    "ser_nan = pd.Series(data=[None, 1, pd.NA, math.nan, np.nan, math.nan, np.NaN, np.NAN])\n",
    "ser_nan"
   ]
  },
  {
   "cell_type": "code",
   "execution_count": 81,
   "id": "c5ed1f87",
   "metadata": {},
   "outputs": [
    {
     "data": {
      "text/plain": [
       "1    1\n",
       "dtype: object"
      ]
     },
     "execution_count": 81,
     "metadata": {},
     "output_type": "execute_result"
    }
   ],
   "source": [
    "ser_nan.dropna()"
   ]
  },
  {
   "cell_type": "code",
   "execution_count": 82,
   "id": "b1c1890c",
   "metadata": {},
   "outputs": [
    {
     "data": {
      "text/html": [
       "<div><div id=546ea377-1f9a-437d-a269-d20e7df21d4f style=\"display:none; background-color:#9D6CFF; color:white; width:200px; height:30px; padding-left:5px; border-radius:4px; flex-direction:row; justify-content:space-around; align-items:center;\" onmouseover=\"this.style.backgroundColor='#BA9BF8'\" onmouseout=\"this.style.backgroundColor='#9D6CFF'\" onclick=\"window.commands?.execute('create-mitosheet-from-dataframe-output');\">See Full Dataframe in Mito</div> <script> if (window.commands.hasCommand('create-mitosheet-from-dataframe-output')) document.getElementById('546ea377-1f9a-437d-a269-d20e7df21d4f').style.display = 'flex' </script> <table border=\"1\" class=\"dataframe\">\n",
       "  <thead>\n",
       "    <tr style=\"text-align: right;\">\n",
       "      <th></th>\n",
       "      <th>A</th>\n",
       "      <th>B</th>\n",
       "      <th>C</th>\n",
       "    </tr>\n",
       "  </thead>\n",
       "  <tbody>\n",
       "    <tr>\n",
       "      <th>0</th>\n",
       "      <td>1.0</td>\n",
       "      <td>NaN</td>\n",
       "      <td>0.0</td>\n",
       "    </tr>\n",
       "    <tr>\n",
       "      <th>1</th>\n",
       "      <td>NaN</td>\n",
       "      <td>NaN</td>\n",
       "      <td>NaN</td>\n",
       "    </tr>\n",
       "    <tr>\n",
       "      <th>2</th>\n",
       "      <td>0.0</td>\n",
       "      <td>NaN</td>\n",
       "      <td>NaN</td>\n",
       "    </tr>\n",
       "  </tbody>\n",
       "</table></div>"
      ],
      "text/plain": [
       "     A   B    C\n",
       "0  1.0 NaN  0.0\n",
       "1  NaN NaN  NaN\n",
       "2  0.0 NaN  NaN"
      ]
     },
     "execution_count": 82,
     "metadata": {},
     "output_type": "execute_result"
    }
   ],
   "source": [
    "df_nan = pd.DataFrame(\n",
    "    data={\n",
    "        \"A\": [1, math.nan, 0],\n",
    "        \"B\": [math.nan, math.nan, math.nan],\n",
    "        \"C\": [0, math.nan, math.nan],\n",
    "    },\n",
    ")\n",
    "df_nan"
   ]
  },
  {
   "cell_type": "code",
   "execution_count": 83,
   "id": "2aa57345",
   "metadata": {},
   "outputs": [
    {
     "data": {
      "text/html": [
       "<div><div id=7ab3a213-25c4-46be-b829-aa766356b5b9 style=\"display:none; background-color:#9D6CFF; color:white; width:200px; height:30px; padding-left:5px; border-radius:4px; flex-direction:row; justify-content:space-around; align-items:center;\" onmouseover=\"this.style.backgroundColor='#BA9BF8'\" onmouseout=\"this.style.backgroundColor='#9D6CFF'\" onclick=\"window.commands?.execute('create-mitosheet-from-dataframe-output');\">See Full Dataframe in Mito</div> <script> if (window.commands.hasCommand('create-mitosheet-from-dataframe-output')) document.getElementById('7ab3a213-25c4-46be-b829-aa766356b5b9').style.display = 'flex' </script> <table border=\"1\" class=\"dataframe\">\n",
       "  <thead>\n",
       "    <tr style=\"text-align: right;\">\n",
       "      <th></th>\n",
       "      <th>A</th>\n",
       "      <th>B</th>\n",
       "      <th>C</th>\n",
       "    </tr>\n",
       "  </thead>\n",
       "  <tbody>\n",
       "  </tbody>\n",
       "</table></div>"
      ],
      "text/plain": [
       "Empty DataFrame\n",
       "Columns: [A, B, C]\n",
       "Index: []"
      ]
     },
     "execution_count": 83,
     "metadata": {},
     "output_type": "execute_result"
    }
   ],
   "source": [
    "df_nan.dropna()"
   ]
  },
  {
   "cell_type": "code",
   "execution_count": 84,
   "id": "2aa57345",
   "metadata": {},
   "outputs": [
    {
     "data": {
      "text/html": [
       "<div><div id=8157a8d0-b57e-4226-a20d-4b38042dd61a style=\"display:none; background-color:#9D6CFF; color:white; width:200px; height:30px; padding-left:5px; border-radius:4px; flex-direction:row; justify-content:space-around; align-items:center;\" onmouseover=\"this.style.backgroundColor='#BA9BF8'\" onmouseout=\"this.style.backgroundColor='#9D6CFF'\" onclick=\"window.commands?.execute('create-mitosheet-from-dataframe-output');\">See Full Dataframe in Mito</div> <script> if (window.commands.hasCommand('create-mitosheet-from-dataframe-output')) document.getElementById('8157a8d0-b57e-4226-a20d-4b38042dd61a').style.display = 'flex' </script> <table border=\"1\" class=\"dataframe\">\n",
       "  <thead>\n",
       "    <tr style=\"text-align: right;\">\n",
       "      <th></th>\n",
       "      <th>A</th>\n",
       "      <th>B</th>\n",
       "      <th>C</th>\n",
       "    </tr>\n",
       "  </thead>\n",
       "  <tbody>\n",
       "    <tr>\n",
       "      <th>0</th>\n",
       "      <td>1.0</td>\n",
       "      <td>NaN</td>\n",
       "      <td>0.0</td>\n",
       "    </tr>\n",
       "    <tr>\n",
       "      <th>2</th>\n",
       "      <td>0.0</td>\n",
       "      <td>NaN</td>\n",
       "      <td>NaN</td>\n",
       "    </tr>\n",
       "  </tbody>\n",
       "</table></div>"
      ],
      "text/plain": [
       "     A   B    C\n",
       "0  1.0 NaN  0.0\n",
       "2  0.0 NaN  NaN"
      ]
     },
     "execution_count": 84,
     "metadata": {},
     "output_type": "execute_result"
    }
   ],
   "source": [
    "df_nan.dropna(how=\"all\")"
   ]
  },
  {
   "cell_type": "code",
   "execution_count": 85,
   "id": "2aa57345",
   "metadata": {},
   "outputs": [
    {
     "data": {
      "text/html": [
       "<div><div id=58578344-8e29-44b2-9022-5632f51a0dfe style=\"display:none; background-color:#9D6CFF; color:white; width:200px; height:30px; padding-left:5px; border-radius:4px; flex-direction:row; justify-content:space-around; align-items:center;\" onmouseover=\"this.style.backgroundColor='#BA9BF8'\" onmouseout=\"this.style.backgroundColor='#9D6CFF'\" onclick=\"window.commands?.execute('create-mitosheet-from-dataframe-output');\">See Full Dataframe in Mito</div> <script> if (window.commands.hasCommand('create-mitosheet-from-dataframe-output')) document.getElementById('58578344-8e29-44b2-9022-5632f51a0dfe').style.display = 'flex' </script> <table border=\"1\" class=\"dataframe\">\n",
       "  <thead>\n",
       "    <tr style=\"text-align: right;\">\n",
       "      <th></th>\n",
       "      <th>A</th>\n",
       "      <th>C</th>\n",
       "    </tr>\n",
       "  </thead>\n",
       "  <tbody>\n",
       "    <tr>\n",
       "      <th>0</th>\n",
       "      <td>1.0</td>\n",
       "      <td>0.0</td>\n",
       "    </tr>\n",
       "    <tr>\n",
       "      <th>1</th>\n",
       "      <td>NaN</td>\n",
       "      <td>NaN</td>\n",
       "    </tr>\n",
       "    <tr>\n",
       "      <th>2</th>\n",
       "      <td>0.0</td>\n",
       "      <td>NaN</td>\n",
       "    </tr>\n",
       "  </tbody>\n",
       "</table></div>"
      ],
      "text/plain": [
       "     A    C\n",
       "0  1.0  0.0\n",
       "1  NaN  NaN\n",
       "2  0.0  NaN"
      ]
     },
     "execution_count": 85,
     "metadata": {},
     "output_type": "execute_result"
    }
   ],
   "source": [
    "df_nan.dropna(how=\"all\", axis=1)"
   ]
  },
  {
   "cell_type": "code",
   "execution_count": 86,
   "id": "90d3470a",
   "metadata": {},
   "outputs": [
    {
     "data": {
      "text/html": [
       "<div><div id=af4eebcd-ecff-4ab4-89e9-05cca8a2f88a style=\"display:none; background-color:#9D6CFF; color:white; width:200px; height:30px; padding-left:5px; border-radius:4px; flex-direction:row; justify-content:space-around; align-items:center;\" onmouseover=\"this.style.backgroundColor='#BA9BF8'\" onmouseout=\"this.style.backgroundColor='#9D6CFF'\" onclick=\"window.commands?.execute('create-mitosheet-from-dataframe-output');\">See Full Dataframe in Mito</div> <script> if (window.commands.hasCommand('create-mitosheet-from-dataframe-output')) document.getElementById('af4eebcd-ecff-4ab4-89e9-05cca8a2f88a').style.display = 'flex' </script> <table border=\"1\" class=\"dataframe\">\n",
       "  <thead>\n",
       "    <tr style=\"text-align: right;\">\n",
       "      <th></th>\n",
       "      <th>A</th>\n",
       "      <th>B</th>\n",
       "      <th>C</th>\n",
       "    </tr>\n",
       "  </thead>\n",
       "  <tbody>\n",
       "    <tr>\n",
       "      <th>0</th>\n",
       "      <td>1.0</td>\n",
       "      <td>NaN</td>\n",
       "      <td>0.0</td>\n",
       "    </tr>\n",
       "  </tbody>\n",
       "</table></div>"
      ],
      "text/plain": [
       "     A   B    C\n",
       "0  1.0 NaN  0.0"
      ]
     },
     "execution_count": 86,
     "metadata": {},
     "output_type": "execute_result"
    }
   ],
   "source": [
    "df_nan.dropna(subset=[\"C\"])"
   ]
  },
  {
   "cell_type": "markdown",
   "id": "50e52d57",
   "metadata": {},
   "source": [
    "```\n",
    ".fillna(value=None, method=None, axis=None, inplace=False, limit=None, downcast=None)\n",
    "・・・・NaN を value で指定した値に置換\n",
    "```"
   ]
  },
  {
   "cell_type": "code",
   "execution_count": 87,
   "id": "87ff4bf4",
   "metadata": {},
   "outputs": [
    {
     "data": {
      "text/plain": [
       "0    100\n",
       "1      1\n",
       "2    100\n",
       "3    100\n",
       "4    100\n",
       "5    100\n",
       "6    100\n",
       "7    100\n",
       "dtype: int64"
      ]
     },
     "execution_count": 87,
     "metadata": {},
     "output_type": "execute_result"
    }
   ],
   "source": [
    "ser_nan.fillna(value=100)"
   ]
  },
  {
   "cell_type": "code",
   "execution_count": 88,
   "id": "37e7dc6b",
   "metadata": {},
   "outputs": [
    {
     "data": {
      "text/html": [
       "<div><div id=23366932-a26f-47d2-b76b-85a826a7540d style=\"display:none; background-color:#9D6CFF; color:white; width:200px; height:30px; padding-left:5px; border-radius:4px; flex-direction:row; justify-content:space-around; align-items:center;\" onmouseover=\"this.style.backgroundColor='#BA9BF8'\" onmouseout=\"this.style.backgroundColor='#9D6CFF'\" onclick=\"window.commands?.execute('create-mitosheet-from-dataframe-output');\">See Full Dataframe in Mito</div> <script> if (window.commands.hasCommand('create-mitosheet-from-dataframe-output')) document.getElementById('23366932-a26f-47d2-b76b-85a826a7540d').style.display = 'flex' </script> <table border=\"1\" class=\"dataframe\">\n",
       "  <thead>\n",
       "    <tr style=\"text-align: right;\">\n",
       "      <th></th>\n",
       "      <th>A</th>\n",
       "      <th>B</th>\n",
       "      <th>C</th>\n",
       "    </tr>\n",
       "  </thead>\n",
       "  <tbody>\n",
       "    <tr>\n",
       "      <th>0</th>\n",
       "      <td>1.0</td>\n",
       "      <td>100.0</td>\n",
       "      <td>0.0</td>\n",
       "    </tr>\n",
       "    <tr>\n",
       "      <th>1</th>\n",
       "      <td>100.0</td>\n",
       "      <td>100.0</td>\n",
       "      <td>100.0</td>\n",
       "    </tr>\n",
       "    <tr>\n",
       "      <th>2</th>\n",
       "      <td>0.0</td>\n",
       "      <td>100.0</td>\n",
       "      <td>100.0</td>\n",
       "    </tr>\n",
       "  </tbody>\n",
       "</table></div>"
      ],
      "text/plain": [
       "       A      B      C\n",
       "0    1.0  100.0    0.0\n",
       "1  100.0  100.0  100.0\n",
       "2    0.0  100.0  100.0"
      ]
     },
     "execution_count": 88,
     "metadata": {},
     "output_type": "execute_result"
    }
   ],
   "source": [
    "df_nan.fillna(value=100)"
   ]
  },
  {
   "cell_type": "markdown",
   "id": "82530c4f",
   "metadata": {},
   "source": [
    "```\n",
    ".head(n=5)\n",
    "・・・・上位 n 行目までのオブジェクトを返す\n",
    "```"
   ]
  },
  {
   "cell_type": "code",
   "execution_count": 89,
   "id": "e96f5126",
   "metadata": {},
   "outputs": [
    {
     "data": {
      "text/plain": [
       "a    10\n",
       "b   -10\n",
       "c     0\n",
       "Name: series_abc, dtype: int64"
      ]
     },
     "execution_count": 89,
     "metadata": {},
     "output_type": "execute_result"
    }
   ],
   "source": [
    "ser.head()"
   ]
  },
  {
   "cell_type": "code",
   "execution_count": 90,
   "id": "181dcb26",
   "metadata": {},
   "outputs": [
    {
     "data": {
      "text/html": [
       "<div><div id=1660594f-8228-4c4d-a2d0-260bd6c0b7c0 style=\"display:none; background-color:#9D6CFF; color:white; width:200px; height:30px; padding-left:5px; border-radius:4px; flex-direction:row; justify-content:space-around; align-items:center;\" onmouseover=\"this.style.backgroundColor='#BA9BF8'\" onmouseout=\"this.style.backgroundColor='#9D6CFF'\" onclick=\"window.commands?.execute('create-mitosheet-from-dataframe-output');\">See Full Dataframe in Mito</div> <script> if (window.commands.hasCommand('create-mitosheet-from-dataframe-output')) document.getElementById('1660594f-8228-4c4d-a2d0-260bd6c0b7c0').style.display = 'flex' </script> <table border=\"1\" class=\"dataframe\">\n",
       "  <thead>\n",
       "    <tr style=\"text-align: right;\">\n",
       "      <th></th>\n",
       "      <th>A</th>\n",
       "      <th>B</th>\n",
       "    </tr>\n",
       "  </thead>\n",
       "  <tbody>\n",
       "    <tr>\n",
       "      <th>0</th>\n",
       "      <td>10</td>\n",
       "      <td>11</td>\n",
       "    </tr>\n",
       "    <tr>\n",
       "      <th>1</th>\n",
       "      <td>-10</td>\n",
       "      <td>22</td>\n",
       "    </tr>\n",
       "  </tbody>\n",
       "</table></div>"
      ],
      "text/plain": [
       "    A   B\n",
       "0  10  11\n",
       "1 -10  22"
      ]
     },
     "execution_count": 90,
     "metadata": {},
     "output_type": "execute_result"
    }
   ],
   "source": [
    "df.head(2)"
   ]
  },
  {
   "cell_type": "markdown",
   "id": "990cdcd2",
   "metadata": {},
   "source": [
    "```\n",
    ".idxmax(axis=0, skipna=True)\n",
    "・・・・最大となる index を返す\n",
    "```"
   ]
  },
  {
   "cell_type": "code",
   "execution_count": 91,
   "id": "6d6aa8c8",
   "metadata": {},
   "outputs": [
    {
     "data": {
      "text/plain": [
       "'a'"
      ]
     },
     "execution_count": 91,
     "metadata": {},
     "output_type": "execute_result"
    }
   ],
   "source": [
    "ser.idxmax()"
   ]
  },
  {
   "cell_type": "code",
   "execution_count": 92,
   "id": "aa97d2a3",
   "metadata": {},
   "outputs": [
    {
     "data": {
      "text/html": [
       "<div><div id=3a4ebe16-20f3-4d9b-94cc-1bc9d521b3f0 style=\"display:none; background-color:#9D6CFF; color:white; width:200px; height:30px; padding-left:5px; border-radius:4px; flex-direction:row; justify-content:space-around; align-items:center;\" onmouseover=\"this.style.backgroundColor='#BA9BF8'\" onmouseout=\"this.style.backgroundColor='#9D6CFF'\" onclick=\"window.commands?.execute('create-mitosheet-from-dataframe-output');\">See Full Dataframe in Mito</div> <script> if (window.commands.hasCommand('create-mitosheet-from-dataframe-output')) document.getElementById('3a4ebe16-20f3-4d9b-94cc-1bc9d521b3f0').style.display = 'flex' </script> <table border=\"1\" class=\"dataframe\">\n",
       "  <thead>\n",
       "    <tr style=\"text-align: right;\">\n",
       "      <th></th>\n",
       "      <th>A</th>\n",
       "      <th>B</th>\n",
       "    </tr>\n",
       "  </thead>\n",
       "  <tbody>\n",
       "    <tr>\n",
       "      <th>0</th>\n",
       "      <td>10</td>\n",
       "      <td>11</td>\n",
       "    </tr>\n",
       "    <tr>\n",
       "      <th>1</th>\n",
       "      <td>-10</td>\n",
       "      <td>22</td>\n",
       "    </tr>\n",
       "    <tr>\n",
       "      <th>2</th>\n",
       "      <td>0</td>\n",
       "      <td>33</td>\n",
       "    </tr>\n",
       "  </tbody>\n",
       "</table></div>"
      ],
      "text/plain": [
       "    A   B\n",
       "0  10  11\n",
       "1 -10  22\n",
       "2   0  33"
      ]
     },
     "execution_count": 92,
     "metadata": {},
     "output_type": "execute_result"
    }
   ],
   "source": [
    "df"
   ]
  },
  {
   "cell_type": "code",
   "execution_count": 93,
   "id": "6d6aa8c8",
   "metadata": {},
   "outputs": [
    {
     "data": {
      "text/plain": [
       "A    0\n",
       "B    2\n",
       "dtype: int64"
      ]
     },
     "execution_count": 93,
     "metadata": {},
     "output_type": "execute_result"
    }
   ],
   "source": [
    "df.idxmax()"
   ]
  },
  {
   "cell_type": "code",
   "execution_count": 94,
   "id": "6d6aa8c8",
   "metadata": {},
   "outputs": [
    {
     "data": {
      "text/plain": [
       "0    B\n",
       "1    B\n",
       "2    B\n",
       "dtype: object"
      ]
     },
     "execution_count": 94,
     "metadata": {},
     "output_type": "execute_result"
    }
   ],
   "source": [
    "df.idxmax(axis=1)"
   ]
  },
  {
   "cell_type": "markdown",
   "id": "103f036f",
   "metadata": {},
   "source": [
    "```\n",
    ".idxmin(axis=0, skipna=True)\n",
    "・・・・最小となる index を返す\n",
    "```"
   ]
  },
  {
   "cell_type": "code",
   "execution_count": 95,
   "id": "ea78e216",
   "metadata": {},
   "outputs": [
    {
     "data": {
      "text/plain": [
       "'b'"
      ]
     },
     "execution_count": 95,
     "metadata": {},
     "output_type": "execute_result"
    }
   ],
   "source": [
    "ser.idxmin()"
   ]
  },
  {
   "cell_type": "code",
   "execution_count": 96,
   "metadata": {},
   "outputs": [
    {
     "data": {
      "text/plain": [
       "A    1\n",
       "B    0\n",
       "dtype: int64"
      ]
     },
     "execution_count": 96,
     "metadata": {},
     "output_type": "execute_result"
    }
   ],
   "source": [
    "df.idxmin()"
   ]
  },
  {
   "cell_type": "markdown",
   "id": "9ef985c4",
   "metadata": {},
   "source": [
    "```\n",
    ".info(verbose=None, buf=None, max_cols=None, memory_usage=None, show_counts=True)\n",
    "・・・・オブジェクトの情報を表示する\n",
    "```"
   ]
  },
  {
   "cell_type": "code",
   "execution_count": 97,
   "id": "88cd7cd6",
   "metadata": {},
   "outputs": [
    {
     "name": "stdout",
     "output_type": "stream",
     "text": [
      "<class 'pandas.core.series.Series'>\n",
      "Index: 3 entries, a to c\n",
      "Series name: series_abc\n",
      "Non-Null Count  Dtype\n",
      "--------------  -----\n",
      "3 non-null      int64\n",
      "dtypes: int64(1)\n",
      "memory usage: 156.0+ bytes\n"
     ]
    }
   ],
   "source": [
    "ser.info()"
   ]
  },
  {
   "cell_type": "code",
   "execution_count": 98,
   "id": "90eeabfb",
   "metadata": {},
   "outputs": [
    {
     "name": "stdout",
     "output_type": "stream",
     "text": [
      "<class 'pandas.core.frame.DataFrame'>\n",
      "RangeIndex: 3 entries, 0 to 2\n",
      "Data columns (total 2 columns):\n",
      " #   Column  Non-Null Count  Dtype\n",
      "---  ------  --------------  -----\n",
      " 0   A       3 non-null      int64\n",
      " 1   B       3 non-null      int64\n",
      "dtypes: int64(2)\n",
      "memory usage: 176.0 bytes\n"
     ]
    }
   ],
   "source": [
    "df.info()"
   ]
  },
  {
   "cell_type": "markdown",
   "id": "ac542f29",
   "metadata": {},
   "source": [
    "```\n",
    ".interpolate(method='linear', axis=0, limit=None, inplace=False, limit_direction=None, limit_area=None, downcast=None)\n",
    "・・・・NaN を補間\n",
    "```"
   ]
  },
  {
   "cell_type": "code",
   "execution_count": 99,
   "id": "0d1774bd",
   "metadata": {},
   "outputs": [
    {
     "data": {
      "text/plain": [
       "0    0.0\n",
       "1    1.0\n",
       "2    1.5\n",
       "3    2.0\n",
       "4    3.0\n",
       "5    3.0\n",
       "dtype: float64"
      ]
     },
     "execution_count": 99,
     "metadata": {},
     "output_type": "execute_result"
    }
   ],
   "source": [
    "ser_tmp = pd.Series([0, 1, math.nan, 2, 3, math.nan])\n",
    "ser_tmp.interpolate()"
   ]
  },
  {
   "cell_type": "code",
   "execution_count": 100,
   "id": "76f6170f",
   "metadata": {},
   "outputs": [
    {
     "data": {
      "text/html": [
       "<div><div id=3f034dc6-d6fe-403d-9f40-6a188d999582 style=\"display:none; background-color:#9D6CFF; color:white; width:200px; height:30px; padding-left:5px; border-radius:4px; flex-direction:row; justify-content:space-around; align-items:center;\" onmouseover=\"this.style.backgroundColor='#BA9BF8'\" onmouseout=\"this.style.backgroundColor='#9D6CFF'\" onclick=\"window.commands?.execute('create-mitosheet-from-dataframe-output');\">See Full Dataframe in Mito</div> <script> if (window.commands.hasCommand('create-mitosheet-from-dataframe-output')) document.getElementById('3f034dc6-d6fe-403d-9f40-6a188d999582').style.display = 'flex' </script> <table border=\"1\" class=\"dataframe\">\n",
       "  <thead>\n",
       "    <tr style=\"text-align: right;\">\n",
       "      <th></th>\n",
       "      <th>A</th>\n",
       "      <th>B</th>\n",
       "      <th>C</th>\n",
       "    </tr>\n",
       "  </thead>\n",
       "  <tbody>\n",
       "    <tr>\n",
       "      <th>0</th>\n",
       "      <td>1.0</td>\n",
       "      <td>NaN</td>\n",
       "      <td>0.0</td>\n",
       "    </tr>\n",
       "    <tr>\n",
       "      <th>1</th>\n",
       "      <td>0.5</td>\n",
       "      <td>NaN</td>\n",
       "      <td>0.0</td>\n",
       "    </tr>\n",
       "    <tr>\n",
       "      <th>2</th>\n",
       "      <td>0.0</td>\n",
       "      <td>NaN</td>\n",
       "      <td>0.0</td>\n",
       "    </tr>\n",
       "  </tbody>\n",
       "</table></div>"
      ],
      "text/plain": [
       "     A   B    C\n",
       "0  1.0 NaN  0.0\n",
       "1  0.5 NaN  0.0\n",
       "2  0.0 NaN  0.0"
      ]
     },
     "execution_count": 100,
     "metadata": {},
     "output_type": "execute_result"
    }
   ],
   "source": [
    "df_nan.interpolate()"
   ]
  },
  {
   "cell_type": "markdown",
   "id": "64fe814b",
   "metadata": {},
   "source": [
    "```\n",
    ".isin(values)\n",
    "・・・・values で指定した値がオブジェクトに入っていれば True, そうでなければ False を返す（values は set, list, tuple などを受け付け，単一の値は不可）\n",
    "```"
   ]
  },
  {
   "cell_type": "code",
   "execution_count": 101,
   "id": "bd94cbc0",
   "metadata": {},
   "outputs": [
    {
     "data": {
      "text/plain": [
       "a    False\n",
       "b    False\n",
       "c     True\n",
       "Name: series_abc, dtype: bool"
      ]
     },
     "execution_count": 101,
     "metadata": {},
     "output_type": "execute_result"
    }
   ],
   "source": [
    "ser.isin(values=[0])"
   ]
  },
  {
   "cell_type": "code",
   "execution_count": 102,
   "id": "94fbc318",
   "metadata": {},
   "outputs": [
    {
     "data": {
      "text/html": [
       "<div><div id=bc6cb7bd-e3ac-4ae4-ad81-73e571bd3ef2 style=\"display:none; background-color:#9D6CFF; color:white; width:200px; height:30px; padding-left:5px; border-radius:4px; flex-direction:row; justify-content:space-around; align-items:center;\" onmouseover=\"this.style.backgroundColor='#BA9BF8'\" onmouseout=\"this.style.backgroundColor='#9D6CFF'\" onclick=\"window.commands?.execute('create-mitosheet-from-dataframe-output');\">See Full Dataframe in Mito</div> <script> if (window.commands.hasCommand('create-mitosheet-from-dataframe-output')) document.getElementById('bc6cb7bd-e3ac-4ae4-ad81-73e571bd3ef2').style.display = 'flex' </script> <table border=\"1\" class=\"dataframe\">\n",
       "  <thead>\n",
       "    <tr style=\"text-align: right;\">\n",
       "      <th></th>\n",
       "      <th>A</th>\n",
       "      <th>B</th>\n",
       "    </tr>\n",
       "  </thead>\n",
       "  <tbody>\n",
       "    <tr>\n",
       "      <th>0</th>\n",
       "      <td>True</td>\n",
       "      <td>False</td>\n",
       "    </tr>\n",
       "    <tr>\n",
       "      <th>1</th>\n",
       "      <td>False</td>\n",
       "      <td>False</td>\n",
       "    </tr>\n",
       "    <tr>\n",
       "      <th>2</th>\n",
       "      <td>True</td>\n",
       "      <td>False</td>\n",
       "    </tr>\n",
       "  </tbody>\n",
       "</table></div>"
      ],
      "text/plain": [
       "       A      B\n",
       "0   True  False\n",
       "1  False  False\n",
       "2   True  False"
      ]
     },
     "execution_count": 102,
     "metadata": {},
     "output_type": "execute_result"
    }
   ],
   "source": [
    "df.isin(values=(0, 10))"
   ]
  },
  {
   "cell_type": "markdown",
   "id": "9f6de4c3",
   "metadata": {},
   "source": [
    "```\n",
    ".isna()\n",
    "・・・・要素が NaN であれば True, そうでなければ False としたオブジェクトを返す\n",
    "```"
   ]
  },
  {
   "cell_type": "code",
   "execution_count": 103,
   "id": "6cd23437",
   "metadata": {},
   "outputs": [
    {
     "data": {
      "text/plain": [
       "0     True\n",
       "1    False\n",
       "2     True\n",
       "3     True\n",
       "4     True\n",
       "5     True\n",
       "6     True\n",
       "7     True\n",
       "dtype: bool"
      ]
     },
     "execution_count": 103,
     "metadata": {},
     "output_type": "execute_result"
    }
   ],
   "source": [
    "ser_nan.isna()"
   ]
  },
  {
   "cell_type": "code",
   "execution_count": 104,
   "id": "eb41cd58",
   "metadata": {},
   "outputs": [
    {
     "data": {
      "text/html": [
       "<div><div id=fa29b59e-cd61-4353-8f87-c0160a1bf13d style=\"display:none; background-color:#9D6CFF; color:white; width:200px; height:30px; padding-left:5px; border-radius:4px; flex-direction:row; justify-content:space-around; align-items:center;\" onmouseover=\"this.style.backgroundColor='#BA9BF8'\" onmouseout=\"this.style.backgroundColor='#9D6CFF'\" onclick=\"window.commands?.execute('create-mitosheet-from-dataframe-output');\">See Full Dataframe in Mito</div> <script> if (window.commands.hasCommand('create-mitosheet-from-dataframe-output')) document.getElementById('fa29b59e-cd61-4353-8f87-c0160a1bf13d').style.display = 'flex' </script> <table border=\"1\" class=\"dataframe\">\n",
       "  <thead>\n",
       "    <tr style=\"text-align: right;\">\n",
       "      <th></th>\n",
       "      <th>A</th>\n",
       "      <th>B</th>\n",
       "      <th>C</th>\n",
       "    </tr>\n",
       "  </thead>\n",
       "  <tbody>\n",
       "    <tr>\n",
       "      <th>0</th>\n",
       "      <td>False</td>\n",
       "      <td>True</td>\n",
       "      <td>False</td>\n",
       "    </tr>\n",
       "    <tr>\n",
       "      <th>1</th>\n",
       "      <td>True</td>\n",
       "      <td>True</td>\n",
       "      <td>True</td>\n",
       "    </tr>\n",
       "    <tr>\n",
       "      <th>2</th>\n",
       "      <td>False</td>\n",
       "      <td>True</td>\n",
       "      <td>True</td>\n",
       "    </tr>\n",
       "  </tbody>\n",
       "</table></div>"
      ],
      "text/plain": [
       "       A     B      C\n",
       "0  False  True  False\n",
       "1   True  True   True\n",
       "2  False  True   True"
      ]
     },
     "execution_count": 104,
     "metadata": {},
     "output_type": "execute_result"
    }
   ],
   "source": [
    "df_nan.isna()"
   ]
  },
  {
   "cell_type": "markdown",
   "id": "1fae5ddc",
   "metadata": {},
   "source": [
    "```\n",
    "Series.items()\n",
    "・・・・dict.items() のように index と要素のタプルを返す\n",
    "DataFrame.items()\n",
    "・・・・カラム名と pd.Series のタプルを返す\n",
    "```"
   ]
  },
  {
   "cell_type": "code",
   "execution_count": 105,
   "id": "43551ad8",
   "metadata": {},
   "outputs": [
    {
     "name": "stdout",
     "output_type": "stream",
     "text": [
      "a 10\n",
      "b -10\n",
      "c 0\n"
     ]
    }
   ],
   "source": [
    "for k,v in ser.items():\n",
    "    print(k, v)"
   ]
  },
  {
   "cell_type": "code",
   "execution_count": 106,
   "id": "1dfd5c35",
   "metadata": {},
   "outputs": [
    {
     "name": "stdout",
     "output_type": "stream",
     "text": [
      "A\n",
      "0    10\n",
      "1   -10\n",
      "2     0\n",
      "Name: A, dtype: int64\n",
      "B\n",
      "0    11\n",
      "1    22\n",
      "2    33\n",
      "Name: B, dtype: int64\n"
     ]
    }
   ],
   "source": [
    "for k,v in df.items():\n",
    "    print(k)\n",
    "    print(v)"
   ]
  },
  {
   "cell_type": "markdown",
   "id": "ead40c45",
   "metadata": {},
   "source": [
    "```\n",
    ".mask(cond, other=nan, inplace=False, axis=None, level=None, errors=NoDefault.no_default, try_cast=NoDefault.no_default)\n",
    "・・・・cond にて指定する条件に一致する要素を other にて指定する値に置換したオブジェクトを返す\n",
    "```"
   ]
  },
  {
   "cell_type": "code",
   "execution_count": 107,
   "id": "2beb3782",
   "metadata": {},
   "outputs": [
    {
     "data": {
      "text/plain": [
       "a     1\n",
       "b   -10\n",
       "c     1\n",
       "Name: series_abc, dtype: int64"
      ]
     },
     "execution_count": 107,
     "metadata": {},
     "output_type": "execute_result"
    }
   ],
   "source": [
    "ser.mask(cond=0 <= ser, other=1)"
   ]
  },
  {
   "cell_type": "code",
   "execution_count": 108,
   "id": "2beb3782",
   "metadata": {},
   "outputs": [
    {
     "data": {
      "text/html": [
       "<div><div id=680a3c27-e660-41d7-9d02-a0acdc5e0aa7 style=\"display:none; background-color:#9D6CFF; color:white; width:200px; height:30px; padding-left:5px; border-radius:4px; flex-direction:row; justify-content:space-around; align-items:center;\" onmouseover=\"this.style.backgroundColor='#BA9BF8'\" onmouseout=\"this.style.backgroundColor='#9D6CFF'\" onclick=\"window.commands?.execute('create-mitosheet-from-dataframe-output');\">See Full Dataframe in Mito</div> <script> if (window.commands.hasCommand('create-mitosheet-from-dataframe-output')) document.getElementById('680a3c27-e660-41d7-9d02-a0acdc5e0aa7').style.display = 'flex' </script> <table border=\"1\" class=\"dataframe\">\n",
       "  <thead>\n",
       "    <tr style=\"text-align: right;\">\n",
       "      <th></th>\n",
       "      <th>A</th>\n",
       "      <th>B</th>\n",
       "    </tr>\n",
       "  </thead>\n",
       "  <tbody>\n",
       "    <tr>\n",
       "      <th>0</th>\n",
       "      <td>1</td>\n",
       "      <td>1</td>\n",
       "    </tr>\n",
       "    <tr>\n",
       "      <th>1</th>\n",
       "      <td>-10</td>\n",
       "      <td>1</td>\n",
       "    </tr>\n",
       "    <tr>\n",
       "      <th>2</th>\n",
       "      <td>1</td>\n",
       "      <td>1</td>\n",
       "    </tr>\n",
       "  </tbody>\n",
       "</table></div>"
      ],
      "text/plain": [
       "    A  B\n",
       "0   1  1\n",
       "1 -10  1\n",
       "2   1  1"
      ]
     },
     "execution_count": 108,
     "metadata": {},
     "output_type": "execute_result"
    }
   ],
   "source": [
    "df.mask(cond=0 <= df, other=1)"
   ]
  },
  {
   "cell_type": "markdown",
   "id": "e8e0233e",
   "metadata": {},
   "source": [
    "```\n",
    ".max(axis=NoDefault.no_default, skipna=True, level=None, numeric_only=None)\n",
    "・・・・axis で指定した軸の最大値を返す\n",
    "```"
   ]
  },
  {
   "cell_type": "code",
   "execution_count": 109,
   "id": "f42b54ad",
   "metadata": {},
   "outputs": [
    {
     "data": {
      "text/plain": [
       "10"
      ]
     },
     "execution_count": 109,
     "metadata": {},
     "output_type": "execute_result"
    }
   ],
   "source": [
    "ser.max()"
   ]
  },
  {
   "cell_type": "code",
   "execution_count": 110,
   "id": "ef6320b9",
   "metadata": {},
   "outputs": [
    {
     "data": {
      "text/plain": [
       "A    10\n",
       "B    33\n",
       "dtype: int64"
      ]
     },
     "execution_count": 110,
     "metadata": {},
     "output_type": "execute_result"
    }
   ],
   "source": [
    "df.max()"
   ]
  },
  {
   "cell_type": "code",
   "execution_count": 111,
   "id": "ef6320b9",
   "metadata": {},
   "outputs": [
    {
     "data": {
      "text/plain": [
       "0    11\n",
       "1    22\n",
       "2    33\n",
       "dtype: int64"
      ]
     },
     "execution_count": 111,
     "metadata": {},
     "output_type": "execute_result"
    }
   ],
   "source": [
    "df.max(axis=1)"
   ]
  },
  {
   "cell_type": "markdown",
   "id": "e8e0233e",
   "metadata": {},
   "source": [
    "```\n",
    ".mean(axis=NoDefault.no_default, skipna=True, level=None, numeric_only=None)\n",
    "・・・・axis で指定した軸の平均値を返す\n",
    "```"
   ]
  },
  {
   "cell_type": "code",
   "execution_count": 112,
   "id": "52ce04b9",
   "metadata": {},
   "outputs": [
    {
     "data": {
      "text/plain": [
       "0.0"
      ]
     },
     "execution_count": 112,
     "metadata": {},
     "output_type": "execute_result"
    }
   ],
   "source": [
    "ser.mean()"
   ]
  },
  {
   "cell_type": "code",
   "execution_count": 113,
   "id": "6a4b0074",
   "metadata": {},
   "outputs": [
    {
     "data": {
      "text/plain": [
       "A     0.0\n",
       "B    22.0\n",
       "dtype: float64"
      ]
     },
     "execution_count": 113,
     "metadata": {},
     "output_type": "execute_result"
    }
   ],
   "source": [
    "df.mean()"
   ]
  },
  {
   "cell_type": "code",
   "execution_count": 114,
   "id": "4bcb42a6",
   "metadata": {},
   "outputs": [
    {
     "data": {
      "text/plain": [
       "0    10.5\n",
       "1     6.0\n",
       "2    16.5\n",
       "dtype: float64"
      ]
     },
     "execution_count": 114,
     "metadata": {},
     "output_type": "execute_result"
    }
   ],
   "source": [
    "df.mean(axis=1)"
   ]
  },
  {
   "cell_type": "markdown",
   "id": "e8e0233e",
   "metadata": {},
   "source": [
    "```\n",
    ".median(axis=NoDefault.no_default, skipna=True, level=None, numeric_only=None)\n",
    "・・・・axis で指定した軸の中央値を返す\n",
    "```"
   ]
  },
  {
   "cell_type": "code",
   "execution_count": 115,
   "id": "6c8462b6",
   "metadata": {},
   "outputs": [
    {
     "data": {
      "text/plain": [
       "0.0"
      ]
     },
     "execution_count": 115,
     "metadata": {},
     "output_type": "execute_result"
    }
   ],
   "source": [
    "ser.median()"
   ]
  },
  {
   "cell_type": "code",
   "execution_count": 116,
   "id": "f834b81d",
   "metadata": {},
   "outputs": [
    {
     "data": {
      "text/plain": [
       "A     0.0\n",
       "B    22.0\n",
       "dtype: float64"
      ]
     },
     "execution_count": 116,
     "metadata": {},
     "output_type": "execute_result"
    }
   ],
   "source": [
    "df.median()"
   ]
  },
  {
   "cell_type": "code",
   "execution_count": 117,
   "id": "3dba4672",
   "metadata": {},
   "outputs": [
    {
     "data": {
      "text/plain": [
       "0    10.5\n",
       "1     6.0\n",
       "2    16.5\n",
       "dtype: float64"
      ]
     },
     "execution_count": 117,
     "metadata": {},
     "output_type": "execute_result"
    }
   ],
   "source": [
    "df.median(axis=1)"
   ]
  },
  {
   "cell_type": "markdown",
   "id": "e8e0233e",
   "metadata": {},
   "source": [
    "```\n",
    ".min(axis=NoDefault.no_default, skipna=True, level=None, numeric_only=None)\n",
    "・・・・axis で指定した軸の最小値を返す\n",
    "```"
   ]
  },
  {
   "cell_type": "code",
   "execution_count": 118,
   "id": "676643ec",
   "metadata": {},
   "outputs": [
    {
     "data": {
      "text/plain": [
       "-10"
      ]
     },
     "execution_count": 118,
     "metadata": {},
     "output_type": "execute_result"
    }
   ],
   "source": [
    "ser.min()"
   ]
  },
  {
   "cell_type": "code",
   "execution_count": 119,
   "id": "4873b6f9",
   "metadata": {},
   "outputs": [
    {
     "data": {
      "text/plain": [
       "A   -10\n",
       "B    11\n",
       "dtype: int64"
      ]
     },
     "execution_count": 119,
     "metadata": {},
     "output_type": "execute_result"
    }
   ],
   "source": [
    "df.min()"
   ]
  },
  {
   "cell_type": "code",
   "execution_count": 120,
   "id": "28a852bb",
   "metadata": {},
   "outputs": [
    {
     "data": {
      "text/plain": [
       "0    10\n",
       "1   -10\n",
       "2     0\n",
       "dtype: int64"
      ]
     },
     "execution_count": 120,
     "metadata": {},
     "output_type": "execute_result"
    }
   ],
   "source": [
    "df.min(axis=1)"
   ]
  },
  {
   "cell_type": "markdown",
   "id": "59dcbc83",
   "metadata": {},
   "source": [
    "```\n",
    ".notna()\n",
    "・・・・NaN でない要素を True, NaN の要素を False として返す\n",
    "```"
   ]
  },
  {
   "cell_type": "code",
   "execution_count": 121,
   "id": "e5c2fca5",
   "metadata": {},
   "outputs": [
    {
     "data": {
      "text/plain": [
       "0    False\n",
       "1     True\n",
       "2    False\n",
       "3    False\n",
       "4    False\n",
       "5    False\n",
       "6    False\n",
       "7    False\n",
       "dtype: bool"
      ]
     },
     "execution_count": 121,
     "metadata": {},
     "output_type": "execute_result"
    }
   ],
   "source": [
    "ser_nan.notna()"
   ]
  },
  {
   "cell_type": "code",
   "execution_count": 122,
   "id": "a46f5977",
   "metadata": {},
   "outputs": [
    {
     "data": {
      "text/html": [
       "<div><div id=2964abe4-f890-4fab-b87a-923192a90c43 style=\"display:none; background-color:#9D6CFF; color:white; width:200px; height:30px; padding-left:5px; border-radius:4px; flex-direction:row; justify-content:space-around; align-items:center;\" onmouseover=\"this.style.backgroundColor='#BA9BF8'\" onmouseout=\"this.style.backgroundColor='#9D6CFF'\" onclick=\"window.commands?.execute('create-mitosheet-from-dataframe-output');\">See Full Dataframe in Mito</div> <script> if (window.commands.hasCommand('create-mitosheet-from-dataframe-output')) document.getElementById('2964abe4-f890-4fab-b87a-923192a90c43').style.display = 'flex' </script> <table border=\"1\" class=\"dataframe\">\n",
       "  <thead>\n",
       "    <tr style=\"text-align: right;\">\n",
       "      <th></th>\n",
       "      <th>A</th>\n",
       "      <th>B</th>\n",
       "      <th>C</th>\n",
       "    </tr>\n",
       "  </thead>\n",
       "  <tbody>\n",
       "    <tr>\n",
       "      <th>0</th>\n",
       "      <td>True</td>\n",
       "      <td>False</td>\n",
       "      <td>True</td>\n",
       "    </tr>\n",
       "    <tr>\n",
       "      <th>1</th>\n",
       "      <td>False</td>\n",
       "      <td>False</td>\n",
       "      <td>False</td>\n",
       "    </tr>\n",
       "    <tr>\n",
       "      <th>2</th>\n",
       "      <td>True</td>\n",
       "      <td>False</td>\n",
       "      <td>False</td>\n",
       "    </tr>\n",
       "  </tbody>\n",
       "</table></div>"
      ],
      "text/plain": [
       "       A      B      C\n",
       "0   True  False   True\n",
       "1  False  False  False\n",
       "2   True  False  False"
      ]
     },
     "execution_count": 122,
     "metadata": {},
     "output_type": "execute_result"
    }
   ],
   "source": [
    "df_nan.notna()"
   ]
  },
  {
   "cell_type": "markdown",
   "id": "e8e0233e",
   "metadata": {},
   "source": [
    "```\n",
    "Series.nunique(dropna=True)\n",
    "・・・・重複のない要素の数を返す\n",
    "DataFrame.nunique(axis=0, dropna=True)\n",
    "・・・・指定した軸の重複のない要素の数を返す\n",
    "```"
   ]
  },
  {
   "cell_type": "code",
   "execution_count": 123,
   "id": "bcc734eb",
   "metadata": {},
   "outputs": [
    {
     "data": {
      "text/plain": [
       "3"
      ]
     },
     "execution_count": 123,
     "metadata": {},
     "output_type": "execute_result"
    }
   ],
   "source": [
    "ser.nunique()"
   ]
  },
  {
   "cell_type": "code",
   "execution_count": 124,
   "id": "a629aa9f",
   "metadata": {},
   "outputs": [
    {
     "data": {
      "text/plain": [
       "A    3\n",
       "B    3\n",
       "dtype: int64"
      ]
     },
     "execution_count": 124,
     "metadata": {},
     "output_type": "execute_result"
    }
   ],
   "source": [
    "df.nunique()"
   ]
  },
  {
   "cell_type": "code",
   "execution_count": 125,
   "id": "93422f56",
   "metadata": {},
   "outputs": [
    {
     "data": {
      "text/plain": [
       "0    2\n",
       "1    2\n",
       "2    2\n",
       "dtype: int64"
      ]
     },
     "execution_count": 125,
     "metadata": {},
     "output_type": "execute_result"
    }
   ],
   "source": [
    "df.nunique(axis=1)"
   ]
  },
  {
   "cell_type": "markdown",
   "id": "7bf933fc",
   "metadata": {},
   "source": [
    "```\n",
    ".rank(axis=0, method='average', numeric_only=NoDefault.no_default, na_option='keep', ascending=True, pct=False)\n",
    "・・・・指定した軸の要素の順序を返す\n",
    "```"
   ]
  },
  {
   "cell_type": "code",
   "execution_count": 126,
   "id": "2e845bc9",
   "metadata": {},
   "outputs": [
    {
     "data": {
      "text/plain": [
       "a    3.0\n",
       "b    1.0\n",
       "c    2.0\n",
       "Name: series_abc, dtype: float64"
      ]
     },
     "execution_count": 126,
     "metadata": {},
     "output_type": "execute_result"
    }
   ],
   "source": [
    "ser.rank()"
   ]
  },
  {
   "cell_type": "code",
   "execution_count": 127,
   "id": "764f9a59",
   "metadata": {},
   "outputs": [
    {
     "data": {
      "text/html": [
       "<div><div id=79db8ec4-81c4-4172-a153-062666ff35f6 style=\"display:none; background-color:#9D6CFF; color:white; width:200px; height:30px; padding-left:5px; border-radius:4px; flex-direction:row; justify-content:space-around; align-items:center;\" onmouseover=\"this.style.backgroundColor='#BA9BF8'\" onmouseout=\"this.style.backgroundColor='#9D6CFF'\" onclick=\"window.commands?.execute('create-mitosheet-from-dataframe-output');\">See Full Dataframe in Mito</div> <script> if (window.commands.hasCommand('create-mitosheet-from-dataframe-output')) document.getElementById('79db8ec4-81c4-4172-a153-062666ff35f6').style.display = 'flex' </script> <table border=\"1\" class=\"dataframe\">\n",
       "  <thead>\n",
       "    <tr style=\"text-align: right;\">\n",
       "      <th></th>\n",
       "      <th>A</th>\n",
       "      <th>B</th>\n",
       "    </tr>\n",
       "  </thead>\n",
       "  <tbody>\n",
       "    <tr>\n",
       "      <th>0</th>\n",
       "      <td>3.0</td>\n",
       "      <td>1.0</td>\n",
       "    </tr>\n",
       "    <tr>\n",
       "      <th>1</th>\n",
       "      <td>1.0</td>\n",
       "      <td>2.0</td>\n",
       "    </tr>\n",
       "    <tr>\n",
       "      <th>2</th>\n",
       "      <td>2.0</td>\n",
       "      <td>3.0</td>\n",
       "    </tr>\n",
       "  </tbody>\n",
       "</table></div>"
      ],
      "text/plain": [
       "     A    B\n",
       "0  3.0  1.0\n",
       "1  1.0  2.0\n",
       "2  2.0  3.0"
      ]
     },
     "execution_count": 127,
     "metadata": {},
     "output_type": "execute_result"
    }
   ],
   "source": [
    "df.rank()"
   ]
  },
  {
   "cell_type": "code",
   "execution_count": 128,
   "id": "346b43d1",
   "metadata": {},
   "outputs": [
    {
     "data": {
      "text/html": [
       "<div><div id=05bf8bce-046e-49a8-8b8c-83acef91c53e style=\"display:none; background-color:#9D6CFF; color:white; width:200px; height:30px; padding-left:5px; border-radius:4px; flex-direction:row; justify-content:space-around; align-items:center;\" onmouseover=\"this.style.backgroundColor='#BA9BF8'\" onmouseout=\"this.style.backgroundColor='#9D6CFF'\" onclick=\"window.commands?.execute('create-mitosheet-from-dataframe-output');\">See Full Dataframe in Mito</div> <script> if (window.commands.hasCommand('create-mitosheet-from-dataframe-output')) document.getElementById('05bf8bce-046e-49a8-8b8c-83acef91c53e').style.display = 'flex' </script> <table border=\"1\" class=\"dataframe\">\n",
       "  <thead>\n",
       "    <tr style=\"text-align: right;\">\n",
       "      <th></th>\n",
       "      <th>A</th>\n",
       "      <th>B</th>\n",
       "    </tr>\n",
       "  </thead>\n",
       "  <tbody>\n",
       "    <tr>\n",
       "      <th>0</th>\n",
       "      <td>1.0</td>\n",
       "      <td>2.0</td>\n",
       "    </tr>\n",
       "    <tr>\n",
       "      <th>1</th>\n",
       "      <td>1.0</td>\n",
       "      <td>2.0</td>\n",
       "    </tr>\n",
       "    <tr>\n",
       "      <th>2</th>\n",
       "      <td>1.0</td>\n",
       "      <td>2.0</td>\n",
       "    </tr>\n",
       "  </tbody>\n",
       "</table></div>"
      ],
      "text/plain": [
       "     A    B\n",
       "0  1.0  2.0\n",
       "1  1.0  2.0\n",
       "2  1.0  2.0"
      ]
     },
     "execution_count": 128,
     "metadata": {},
     "output_type": "execute_result"
    }
   ],
   "source": [
    "df.rank(axis=1)"
   ]
  },
  {
   "cell_type": "markdown",
   "id": "ee21ff30",
   "metadata": {},
   "source": [
    "```\n",
    ".repeat(repeats, axis=None)\n",
    "・・・・元オブジェクトを repeats に指定した回数分繰り返したオブジェクトを返す\n",
    "```"
   ]
  },
  {
   "cell_type": "code",
   "execution_count": 129,
   "id": "3ee94412",
   "metadata": {},
   "outputs": [
    {
     "data": {
      "text/plain": [
       "a    10\n",
       "a    10\n",
       "b   -10\n",
       "b   -10\n",
       "c     0\n",
       "c     0\n",
       "Name: series_abc, dtype: int64"
      ]
     },
     "execution_count": 129,
     "metadata": {},
     "output_type": "execute_result"
    }
   ],
   "source": [
    "ser.repeat(repeats=2)"
   ]
  },
  {
   "cell_type": "markdown",
   "id": "823145c4",
   "metadata": {},
   "source": [
    "```\n",
    ".replace(to_replace=None, value=NoDefault.no_default, inplace=False, limit=None, regex=False, method=NoDefault.no_default)\n",
    "・・・・to_replace で指定した値を value で指定した値に置換したオブジェクトを返す\n",
    "```"
   ]
  },
  {
   "cell_type": "code",
   "execution_count": 130,
   "id": "73ac419f",
   "metadata": {},
   "outputs": [
    {
     "data": {
      "text/plain": [
       "a    2222\n",
       "b     -10\n",
       "c       0\n",
       "Name: series_abc, dtype: int64"
      ]
     },
     "execution_count": 130,
     "metadata": {},
     "output_type": "execute_result"
    }
   ],
   "source": [
    "ser.replace(to_replace=10, value=2222)"
   ]
  },
  {
   "cell_type": "code",
   "execution_count": 131,
   "id": "dab600b1",
   "metadata": {},
   "outputs": [
    {
     "data": {
      "text/html": [
       "<div><div id=c3c1f0d7-a33a-4196-8cb8-b54aa1840df6 style=\"display:none; background-color:#9D6CFF; color:white; width:200px; height:30px; padding-left:5px; border-radius:4px; flex-direction:row; justify-content:space-around; align-items:center;\" onmouseover=\"this.style.backgroundColor='#BA9BF8'\" onmouseout=\"this.style.backgroundColor='#9D6CFF'\" onclick=\"window.commands?.execute('create-mitosheet-from-dataframe-output');\">See Full Dataframe in Mito</div> <script> if (window.commands.hasCommand('create-mitosheet-from-dataframe-output')) document.getElementById('c3c1f0d7-a33a-4196-8cb8-b54aa1840df6').style.display = 'flex' </script> <table border=\"1\" class=\"dataframe\">\n",
       "  <thead>\n",
       "    <tr style=\"text-align: right;\">\n",
       "      <th></th>\n",
       "      <th>A</th>\n",
       "      <th>B</th>\n",
       "    </tr>\n",
       "  </thead>\n",
       "  <tbody>\n",
       "    <tr>\n",
       "      <th>0</th>\n",
       "      <td>222</td>\n",
       "      <td>11</td>\n",
       "    </tr>\n",
       "    <tr>\n",
       "      <th>1</th>\n",
       "      <td>-10</td>\n",
       "      <td>22</td>\n",
       "    </tr>\n",
       "    <tr>\n",
       "      <th>2</th>\n",
       "      <td>0</td>\n",
       "      <td>33</td>\n",
       "    </tr>\n",
       "  </tbody>\n",
       "</table></div>"
      ],
      "text/plain": [
       "     A   B\n",
       "0  222  11\n",
       "1  -10  22\n",
       "2    0  33"
      ]
     },
     "execution_count": 131,
     "metadata": {},
     "output_type": "execute_result"
    }
   ],
   "source": [
    "df.replace(to_replace=10, value=222)"
   ]
  },
  {
   "cell_type": "markdown",
   "id": "43634227",
   "metadata": {},
   "source": [
    "```\n",
    ".reset_index(level=None, drop=False, name=NoDefault.no_default, inplace=False)\n",
    "・・・・index を振り直したオブジェクトを返す\n",
    "```"
   ]
  },
  {
   "cell_type": "code",
   "execution_count": 132,
   "id": "8e1c17ee",
   "metadata": {},
   "outputs": [
    {
     "data": {
      "text/html": [
       "<div><div id=d314aa43-0b82-4669-ba02-ad5924e41e72 style=\"display:none; background-color:#9D6CFF; color:white; width:200px; height:30px; padding-left:5px; border-radius:4px; flex-direction:row; justify-content:space-around; align-items:center;\" onmouseover=\"this.style.backgroundColor='#BA9BF8'\" onmouseout=\"this.style.backgroundColor='#9D6CFF'\" onclick=\"window.commands?.execute('create-mitosheet-from-dataframe-output');\">See Full Dataframe in Mito</div> <script> if (window.commands.hasCommand('create-mitosheet-from-dataframe-output')) document.getElementById('d314aa43-0b82-4669-ba02-ad5924e41e72').style.display = 'flex' </script> <table border=\"1\" class=\"dataframe\">\n",
       "  <thead>\n",
       "    <tr style=\"text-align: right;\">\n",
       "      <th></th>\n",
       "      <th>index</th>\n",
       "      <th>series_abc</th>\n",
       "    </tr>\n",
       "  </thead>\n",
       "  <tbody>\n",
       "    <tr>\n",
       "      <th>0</th>\n",
       "      <td>a</td>\n",
       "      <td>10</td>\n",
       "    </tr>\n",
       "    <tr>\n",
       "      <th>1</th>\n",
       "      <td>b</td>\n",
       "      <td>-10</td>\n",
       "    </tr>\n",
       "    <tr>\n",
       "      <th>2</th>\n",
       "      <td>c</td>\n",
       "      <td>0</td>\n",
       "    </tr>\n",
       "  </tbody>\n",
       "</table></div>"
      ],
      "text/plain": [
       "  index  series_abc\n",
       "0     a          10\n",
       "1     b         -10\n",
       "2     c           0"
      ]
     },
     "execution_count": 132,
     "metadata": {},
     "output_type": "execute_result"
    }
   ],
   "source": [
    "ser.reset_index()"
   ]
  },
  {
   "cell_type": "code",
   "execution_count": 133,
   "id": "8e1c17ee",
   "metadata": {},
   "outputs": [
    {
     "data": {
      "text/html": [
       "<div><div id=bb36fd6f-9c01-4972-ad5e-9d1fc3ea9260 style=\"display:none; background-color:#9D6CFF; color:white; width:200px; height:30px; padding-left:5px; border-radius:4px; flex-direction:row; justify-content:space-around; align-items:center;\" onmouseover=\"this.style.backgroundColor='#BA9BF8'\" onmouseout=\"this.style.backgroundColor='#9D6CFF'\" onclick=\"window.commands?.execute('create-mitosheet-from-dataframe-output');\">See Full Dataframe in Mito</div> <script> if (window.commands.hasCommand('create-mitosheet-from-dataframe-output')) document.getElementById('bb36fd6f-9c01-4972-ad5e-9d1fc3ea9260').style.display = 'flex' </script> <table border=\"1\" class=\"dataframe\">\n",
       "  <thead>\n",
       "    <tr style=\"text-align: right;\">\n",
       "      <th></th>\n",
       "      <th>index</th>\n",
       "      <th>A</th>\n",
       "      <th>B</th>\n",
       "    </tr>\n",
       "  </thead>\n",
       "  <tbody>\n",
       "    <tr>\n",
       "      <th>0</th>\n",
       "      <td>0</td>\n",
       "      <td>10</td>\n",
       "      <td>11</td>\n",
       "    </tr>\n",
       "    <tr>\n",
       "      <th>1</th>\n",
       "      <td>1</td>\n",
       "      <td>-10</td>\n",
       "      <td>22</td>\n",
       "    </tr>\n",
       "    <tr>\n",
       "      <th>2</th>\n",
       "      <td>2</td>\n",
       "      <td>0</td>\n",
       "      <td>33</td>\n",
       "    </tr>\n",
       "  </tbody>\n",
       "</table></div>"
      ],
      "text/plain": [
       "   index   A   B\n",
       "0      0  10  11\n",
       "1      1 -10  22\n",
       "2      2   0  33"
      ]
     },
     "execution_count": 133,
     "metadata": {},
     "output_type": "execute_result"
    }
   ],
   "source": [
    "df.reset_index()"
   ]
  },
  {
   "cell_type": "markdown",
   "id": "d89af154",
   "metadata": {},
   "source": [
    "```\n",
    ".round(decimals=0)\n",
    "・・・・decimals で指定した桁で要素を丸めたオブジェクトを返す\n",
    "```"
   ]
  },
  {
   "cell_type": "code",
   "execution_count": 134,
   "id": "677c81a9",
   "metadata": {},
   "outputs": [
    {
     "data": {
      "text/plain": [
       "a    10\n",
       "b   -10\n",
       "c     0\n",
       "Name: series_abc, dtype: int64"
      ]
     },
     "execution_count": 134,
     "metadata": {},
     "output_type": "execute_result"
    }
   ],
   "source": [
    "ser.round(decimals=0)"
   ]
  },
  {
   "cell_type": "code",
   "execution_count": 135,
   "id": "09c87fd3",
   "metadata": {},
   "outputs": [
    {
     "data": {
      "text/html": [
       "<div><div id=623b3b3a-e1e1-44f5-8d02-2ab7264f6916 style=\"display:none; background-color:#9D6CFF; color:white; width:200px; height:30px; padding-left:5px; border-radius:4px; flex-direction:row; justify-content:space-around; align-items:center;\" onmouseover=\"this.style.backgroundColor='#BA9BF8'\" onmouseout=\"this.style.backgroundColor='#9D6CFF'\" onclick=\"window.commands?.execute('create-mitosheet-from-dataframe-output');\">See Full Dataframe in Mito</div> <script> if (window.commands.hasCommand('create-mitosheet-from-dataframe-output')) document.getElementById('623b3b3a-e1e1-44f5-8d02-2ab7264f6916').style.display = 'flex' </script> <table border=\"1\" class=\"dataframe\">\n",
       "  <thead>\n",
       "    <tr style=\"text-align: right;\">\n",
       "      <th></th>\n",
       "      <th>A</th>\n",
       "      <th>B</th>\n",
       "    </tr>\n",
       "  </thead>\n",
       "  <tbody>\n",
       "    <tr>\n",
       "      <th>0</th>\n",
       "      <td>10</td>\n",
       "      <td>11</td>\n",
       "    </tr>\n",
       "    <tr>\n",
       "      <th>1</th>\n",
       "      <td>-10</td>\n",
       "      <td>22</td>\n",
       "    </tr>\n",
       "    <tr>\n",
       "      <th>2</th>\n",
       "      <td>0</td>\n",
       "      <td>33</td>\n",
       "    </tr>\n",
       "  </tbody>\n",
       "</table></div>"
      ],
      "text/plain": [
       "    A   B\n",
       "0  10  11\n",
       "1 -10  22\n",
       "2   0  33"
      ]
     },
     "execution_count": 135,
     "metadata": {},
     "output_type": "execute_result"
    }
   ],
   "source": [
    "df.round(decimals=0)"
   ]
  },
  {
   "cell_type": "markdown",
   "id": "c4e4f898",
   "metadata": {},
   "source": [
    "```\n",
    ".sample(n=None, frac=None, replace=False, weights=None, random_state=None, axis=None, ignore_index=False)\n",
    "・・・・指定した axis から n 個のサンプルを取得する\n",
    "```"
   ]
  },
  {
   "cell_type": "code",
   "execution_count": 136,
   "id": "8b04735e",
   "metadata": {},
   "outputs": [
    {
     "data": {
      "text/plain": [
       "c     0\n",
       "b   -10\n",
       "Name: series_abc, dtype: int64"
      ]
     },
     "execution_count": 136,
     "metadata": {},
     "output_type": "execute_result"
    }
   ],
   "source": [
    "ser.sample(n=2, random_state=0)"
   ]
  },
  {
   "cell_type": "code",
   "execution_count": 137,
   "id": "06716f5b",
   "metadata": {},
   "outputs": [
    {
     "data": {
      "text/html": [
       "<div><div id=f3414599-bd53-420c-8b8f-7546b80e9f5e style=\"display:none; background-color:#9D6CFF; color:white; width:200px; height:30px; padding-left:5px; border-radius:4px; flex-direction:row; justify-content:space-around; align-items:center;\" onmouseover=\"this.style.backgroundColor='#BA9BF8'\" onmouseout=\"this.style.backgroundColor='#9D6CFF'\" onclick=\"window.commands?.execute('create-mitosheet-from-dataframe-output');\">See Full Dataframe in Mito</div> <script> if (window.commands.hasCommand('create-mitosheet-from-dataframe-output')) document.getElementById('f3414599-bd53-420c-8b8f-7546b80e9f5e').style.display = 'flex' </script> <table border=\"1\" class=\"dataframe\">\n",
       "  <thead>\n",
       "    <tr style=\"text-align: right;\">\n",
       "      <th></th>\n",
       "      <th>A</th>\n",
       "      <th>B</th>\n",
       "    </tr>\n",
       "  </thead>\n",
       "  <tbody>\n",
       "    <tr>\n",
       "      <th>2</th>\n",
       "      <td>0</td>\n",
       "      <td>33</td>\n",
       "    </tr>\n",
       "    <tr>\n",
       "      <th>1</th>\n",
       "      <td>-10</td>\n",
       "      <td>22</td>\n",
       "    </tr>\n",
       "  </tbody>\n",
       "</table></div>"
      ],
      "text/plain": [
       "    A   B\n",
       "2   0  33\n",
       "1 -10  22"
      ]
     },
     "execution_count": 137,
     "metadata": {},
     "output_type": "execute_result"
    }
   ],
   "source": [
    "df.sample(n=2, random_state=0)"
   ]
  },
  {
   "cell_type": "code",
   "execution_count": 138,
   "id": "06716f5b",
   "metadata": {},
   "outputs": [
    {
     "data": {
      "text/html": [
       "<div><div id=5de3645f-6e87-44e5-85fe-7b948e644a7d style=\"display:none; background-color:#9D6CFF; color:white; width:200px; height:30px; padding-left:5px; border-radius:4px; flex-direction:row; justify-content:space-around; align-items:center;\" onmouseover=\"this.style.backgroundColor='#BA9BF8'\" onmouseout=\"this.style.backgroundColor='#9D6CFF'\" onclick=\"window.commands?.execute('create-mitosheet-from-dataframe-output');\">See Full Dataframe in Mito</div> <script> if (window.commands.hasCommand('create-mitosheet-from-dataframe-output')) document.getElementById('5de3645f-6e87-44e5-85fe-7b948e644a7d').style.display = 'flex' </script> <table border=\"1\" class=\"dataframe\">\n",
       "  <thead>\n",
       "    <tr style=\"text-align: right;\">\n",
       "      <th></th>\n",
       "      <th>B</th>\n",
       "    </tr>\n",
       "  </thead>\n",
       "  <tbody>\n",
       "    <tr>\n",
       "      <th>0</th>\n",
       "      <td>11</td>\n",
       "    </tr>\n",
       "    <tr>\n",
       "      <th>1</th>\n",
       "      <td>22</td>\n",
       "    </tr>\n",
       "    <tr>\n",
       "      <th>2</th>\n",
       "      <td>33</td>\n",
       "    </tr>\n",
       "  </tbody>\n",
       "</table></div>"
      ],
      "text/plain": [
       "    B\n",
       "0  11\n",
       "1  22\n",
       "2  33"
      ]
     },
     "execution_count": 138,
     "metadata": {},
     "output_type": "execute_result"
    }
   ],
   "source": [
    "df.sample(n=1, random_state=0, axis=1)"
   ]
  },
  {
   "cell_type": "markdown",
   "id": "aa78b205",
   "metadata": {},
   "source": [
    "```\n",
    ".sort_index(axis=0, level=None, ascending=True, inplace=False, kind='quicksort', na_position='last', sort_remaining=True, ignore_index=False, key=None)\n",
    "・・・・index をソートしたオブジェクトを返す\n",
    "```"
   ]
  },
  {
   "cell_type": "code",
   "execution_count": 139,
   "id": "ecfa3ce0",
   "metadata": {},
   "outputs": [
    {
     "data": {
      "text/plain": [
       "a    10\n",
       "b   -10\n",
       "c     0\n",
       "Name: series_abc, dtype: int64"
      ]
     },
     "execution_count": 139,
     "metadata": {},
     "output_type": "execute_result"
    }
   ],
   "source": [
    "ser.sort_index()"
   ]
  },
  {
   "cell_type": "code",
   "execution_count": 140,
   "id": "2fe3504e",
   "metadata": {},
   "outputs": [
    {
     "data": {
      "text/html": [
       "<div><div id=564c79a9-347b-4bf5-a2b3-db5771b030a9 style=\"display:none; background-color:#9D6CFF; color:white; width:200px; height:30px; padding-left:5px; border-radius:4px; flex-direction:row; justify-content:space-around; align-items:center;\" onmouseover=\"this.style.backgroundColor='#BA9BF8'\" onmouseout=\"this.style.backgroundColor='#9D6CFF'\" onclick=\"window.commands?.execute('create-mitosheet-from-dataframe-output');\">See Full Dataframe in Mito</div> <script> if (window.commands.hasCommand('create-mitosheet-from-dataframe-output')) document.getElementById('564c79a9-347b-4bf5-a2b3-db5771b030a9').style.display = 'flex' </script> <table border=\"1\" class=\"dataframe\">\n",
       "  <thead>\n",
       "    <tr style=\"text-align: right;\">\n",
       "      <th></th>\n",
       "      <th>A</th>\n",
       "      <th>B</th>\n",
       "    </tr>\n",
       "  </thead>\n",
       "  <tbody>\n",
       "    <tr>\n",
       "      <th>0</th>\n",
       "      <td>10</td>\n",
       "      <td>11</td>\n",
       "    </tr>\n",
       "    <tr>\n",
       "      <th>1</th>\n",
       "      <td>-10</td>\n",
       "      <td>22</td>\n",
       "    </tr>\n",
       "    <tr>\n",
       "      <th>2</th>\n",
       "      <td>0</td>\n",
       "      <td>33</td>\n",
       "    </tr>\n",
       "  </tbody>\n",
       "</table></div>"
      ],
      "text/plain": [
       "    A   B\n",
       "0  10  11\n",
       "1 -10  22\n",
       "2   0  33"
      ]
     },
     "execution_count": 140,
     "metadata": {},
     "output_type": "execute_result"
    }
   ],
   "source": [
    "df.sort_index()"
   ]
  },
  {
   "cell_type": "markdown",
   "id": "7464e6b8",
   "metadata": {},
   "source": [
    "```\n",
    ".sort_values(by, axis=0, ascending=True, inplace=False, kind='quicksort', na_position='last', ignore_index=False, key=None)\n",
    "・・・・指定した index / column でソートしたオブジェクトを返す\n",
    "```"
   ]
  },
  {
   "cell_type": "code",
   "execution_count": 141,
   "id": "08921510",
   "metadata": {},
   "outputs": [
    {
     "data": {
      "text/plain": [
       "b   -10\n",
       "c     0\n",
       "a    10\n",
       "Name: series_abc, dtype: int64"
      ]
     },
     "execution_count": 141,
     "metadata": {},
     "output_type": "execute_result"
    }
   ],
   "source": [
    "ser.sort_values()"
   ]
  },
  {
   "cell_type": "code",
   "execution_count": 142,
   "id": "2f28a0f9",
   "metadata": {},
   "outputs": [
    {
     "data": {
      "text/html": [
       "<div><div id=03bbc668-b505-4407-b99d-f5ca81461910 style=\"display:none; background-color:#9D6CFF; color:white; width:200px; height:30px; padding-left:5px; border-radius:4px; flex-direction:row; justify-content:space-around; align-items:center;\" onmouseover=\"this.style.backgroundColor='#BA9BF8'\" onmouseout=\"this.style.backgroundColor='#9D6CFF'\" onclick=\"window.commands?.execute('create-mitosheet-from-dataframe-output');\">See Full Dataframe in Mito</div> <script> if (window.commands.hasCommand('create-mitosheet-from-dataframe-output')) document.getElementById('03bbc668-b505-4407-b99d-f5ca81461910').style.display = 'flex' </script> <table border=\"1\" class=\"dataframe\">\n",
       "  <thead>\n",
       "    <tr style=\"text-align: right;\">\n",
       "      <th></th>\n",
       "      <th>A</th>\n",
       "      <th>B</th>\n",
       "    </tr>\n",
       "  </thead>\n",
       "  <tbody>\n",
       "    <tr>\n",
       "      <th>1</th>\n",
       "      <td>-10</td>\n",
       "      <td>22</td>\n",
       "    </tr>\n",
       "    <tr>\n",
       "      <th>2</th>\n",
       "      <td>0</td>\n",
       "      <td>33</td>\n",
       "    </tr>\n",
       "    <tr>\n",
       "      <th>0</th>\n",
       "      <td>10</td>\n",
       "      <td>11</td>\n",
       "    </tr>\n",
       "  </tbody>\n",
       "</table></div>"
      ],
      "text/plain": [
       "    A   B\n",
       "1 -10  22\n",
       "2   0  33\n",
       "0  10  11"
      ]
     },
     "execution_count": 142,
     "metadata": {},
     "output_type": "execute_result"
    }
   ],
   "source": [
    "df.sort_values(by=\"A\")"
   ]
  },
  {
   "cell_type": "code",
   "execution_count": 143,
   "id": "c5e2fcb5",
   "metadata": {},
   "outputs": [
    {
     "data": {
      "text/html": [
       "<div><div id=2346fc87-df10-4187-b96c-778d729d26ae style=\"display:none; background-color:#9D6CFF; color:white; width:200px; height:30px; padding-left:5px; border-radius:4px; flex-direction:row; justify-content:space-around; align-items:center;\" onmouseover=\"this.style.backgroundColor='#BA9BF8'\" onmouseout=\"this.style.backgroundColor='#9D6CFF'\" onclick=\"window.commands?.execute('create-mitosheet-from-dataframe-output');\">See Full Dataframe in Mito</div> <script> if (window.commands.hasCommand('create-mitosheet-from-dataframe-output')) document.getElementById('2346fc87-df10-4187-b96c-778d729d26ae').style.display = 'flex' </script> <table border=\"1\" class=\"dataframe\">\n",
       "  <thead>\n",
       "    <tr style=\"text-align: right;\">\n",
       "      <th></th>\n",
       "      <th>B</th>\n",
       "      <th>A</th>\n",
       "    </tr>\n",
       "  </thead>\n",
       "  <tbody>\n",
       "    <tr>\n",
       "      <th>0</th>\n",
       "      <td>11</td>\n",
       "      <td>10</td>\n",
       "    </tr>\n",
       "    <tr>\n",
       "      <th>1</th>\n",
       "      <td>22</td>\n",
       "      <td>-10</td>\n",
       "    </tr>\n",
       "    <tr>\n",
       "      <th>2</th>\n",
       "      <td>33</td>\n",
       "      <td>0</td>\n",
       "    </tr>\n",
       "  </tbody>\n",
       "</table></div>"
      ],
      "text/plain": [
       "    B   A\n",
       "0  11  10\n",
       "1  22 -10\n",
       "2  33   0"
      ]
     },
     "execution_count": 143,
     "metadata": {},
     "output_type": "execute_result"
    }
   ],
   "source": [
    "df.sort_values(by=0, axis=1, ascending=False)"
   ]
  },
  {
   "cell_type": "markdown",
   "id": "de42b765",
   "metadata": {},
   "source": [
    "```\n",
    ".sum(axis=None, skipna=True, level=None, numeric_only=None, min_count=0)\n",
    "・・・・axis で指定した軸の総和を返す\n",
    "```"
   ]
  },
  {
   "cell_type": "code",
   "execution_count": 144,
   "id": "3b45a704",
   "metadata": {},
   "outputs": [
    {
     "data": {
      "text/plain": [
       "0"
      ]
     },
     "execution_count": 144,
     "metadata": {},
     "output_type": "execute_result"
    }
   ],
   "source": [
    "ser.sum()"
   ]
  },
  {
   "cell_type": "code",
   "execution_count": 145,
   "id": "18c7d521",
   "metadata": {},
   "outputs": [
    {
     "data": {
      "text/plain": [
       "A     0\n",
       "B    66\n",
       "dtype: int64"
      ]
     },
     "execution_count": 145,
     "metadata": {},
     "output_type": "execute_result"
    }
   ],
   "source": [
    "df.sum()"
   ]
  },
  {
   "cell_type": "code",
   "execution_count": 146,
   "id": "77396d52",
   "metadata": {},
   "outputs": [
    {
     "data": {
      "text/plain": [
       "0    21\n",
       "1    12\n",
       "2    33\n",
       "dtype: int64"
      ]
     },
     "execution_count": 146,
     "metadata": {},
     "output_type": "execute_result"
    }
   ],
   "source": [
    "df.sum(axis=1)"
   ]
  },
  {
   "cell_type": "markdown",
   "id": "ec820bed",
   "metadata": {},
   "source": [
    "```\n",
    ".tail(n=5)\n",
    "・・・・下位 n 行目までのオブジェクトを返す\n",
    "```"
   ]
  },
  {
   "cell_type": "code",
   "execution_count": 147,
   "id": "b0bb1993",
   "metadata": {},
   "outputs": [
    {
     "data": {
      "text/plain": [
       "a    10\n",
       "b   -10\n",
       "c     0\n",
       "Name: series_abc, dtype: int64"
      ]
     },
     "execution_count": 147,
     "metadata": {},
     "output_type": "execute_result"
    }
   ],
   "source": [
    "ser.tail()"
   ]
  },
  {
   "cell_type": "code",
   "execution_count": 148,
   "id": "5c52754a",
   "metadata": {},
   "outputs": [
    {
     "data": {
      "text/html": [
       "<div><div id=b29ce4e0-f3dc-4b87-8315-b0ba899053f3 style=\"display:none; background-color:#9D6CFF; color:white; width:200px; height:30px; padding-left:5px; border-radius:4px; flex-direction:row; justify-content:space-around; align-items:center;\" onmouseover=\"this.style.backgroundColor='#BA9BF8'\" onmouseout=\"this.style.backgroundColor='#9D6CFF'\" onclick=\"window.commands?.execute('create-mitosheet-from-dataframe-output');\">See Full Dataframe in Mito</div> <script> if (window.commands.hasCommand('create-mitosheet-from-dataframe-output')) document.getElementById('b29ce4e0-f3dc-4b87-8315-b0ba899053f3').style.display = 'flex' </script> <table border=\"1\" class=\"dataframe\">\n",
       "  <thead>\n",
       "    <tr style=\"text-align: right;\">\n",
       "      <th></th>\n",
       "      <th>A</th>\n",
       "      <th>B</th>\n",
       "    </tr>\n",
       "  </thead>\n",
       "  <tbody>\n",
       "    <tr>\n",
       "      <th>1</th>\n",
       "      <td>-10</td>\n",
       "      <td>22</td>\n",
       "    </tr>\n",
       "    <tr>\n",
       "      <th>2</th>\n",
       "      <td>0</td>\n",
       "      <td>33</td>\n",
       "    </tr>\n",
       "  </tbody>\n",
       "</table></div>"
      ],
      "text/plain": [
       "    A   B\n",
       "1 -10  22\n",
       "2   0  33"
      ]
     },
     "execution_count": 148,
     "metadata": {},
     "output_type": "execute_result"
    }
   ],
   "source": [
    "df.tail(2)"
   ]
  },
  {
   "cell_type": "markdown",
   "id": "7ffac350",
   "metadata": {},
   "source": [
    "```\n",
    ".to_csv(path_or_buf=None, sep=',', na_rep='', float_format=None, columns=None, header=True, index=True, index_label=None, mode='w', encoding=None, compression='infer', quoting=None, quotechar='\"', line_terminator=None, chunksize=None, date_format=None, doublequote=True, escapechar=None, decimal='.', errors='strict', storage_options=None)\n",
    "・・・・path_or_buf で指定したファイルに CSV 形式で出力する\n",
    "```"
   ]
  },
  {
   "cell_type": "code",
   "execution_count": 149,
   "id": "e1c1ca9f",
   "metadata": {},
   "outputs": [],
   "source": [
    "ser.to_csv(\"series_0.csv\")"
   ]
  },
  {
   "cell_type": "code",
   "execution_count": 150,
   "id": "e1c1ca9f",
   "metadata": {},
   "outputs": [],
   "source": [
    "ser.to_csv(\"series_1.csv\", index=False)"
   ]
  },
  {
   "cell_type": "code",
   "execution_count": 151,
   "id": "f1b9d26c",
   "metadata": {},
   "outputs": [],
   "source": [
    "df.to_csv(\"dataframe_0.csv\")"
   ]
  },
  {
   "cell_type": "code",
   "execution_count": 152,
   "id": "404dad89",
   "metadata": {},
   "outputs": [],
   "source": [
    "df.to_csv(\"dataframe_1.csv\", index=False)"
   ]
  },
  {
   "cell_type": "markdown",
   "id": "28c745ce",
   "metadata": {},
   "source": [
    "```\n",
    ".to_dict(into=<class 'dict'>)\n",
    "・・・・オブジェクトの辞書型を返す\n",
    "```"
   ]
  },
  {
   "cell_type": "code",
   "execution_count": 153,
   "id": "81f12f24",
   "metadata": {},
   "outputs": [
    {
     "data": {
      "text/plain": [
       "{'a': 10, 'b': -10, 'c': 0}"
      ]
     },
     "execution_count": 153,
     "metadata": {},
     "output_type": "execute_result"
    }
   ],
   "source": [
    "ser.to_dict()"
   ]
  },
  {
   "cell_type": "code",
   "execution_count": 154,
   "id": "778f2317",
   "metadata": {},
   "outputs": [
    {
     "data": {
      "text/plain": [
       "{'A': {0: 10, 1: -10, 2: 0}, 'B': {0: 11, 1: 22, 2: 33}}"
      ]
     },
     "execution_count": 154,
     "metadata": {},
     "output_type": "execute_result"
    }
   ],
   "source": [
    "df.to_dict()"
   ]
  },
  {
   "cell_type": "markdown",
   "id": "36b99ea7",
   "metadata": {},
   "source": [
    "```\n",
    ".to_excel(excel_writer, sheet_name='Sheet1', na_rep='', float_format=None, columns=None, header=True, index=True, index_label=None, startrow=0, startcol=0, engine=None, merge_cells=True, encoding=None, inf_rep='inf', verbose=True, freeze_panes=None, storage_options=None)\n",
    "・・・・path_or_buf で指定した名称の excel ファイルを出力する\n",
    "```"
   ]
  },
  {
   "cell_type": "code",
   "execution_count": 155,
   "id": "5d9d0530",
   "metadata": {},
   "outputs": [],
   "source": [
    "ser.to_excel(\"series.xlsx\")"
   ]
  },
  {
   "cell_type": "code",
   "execution_count": 156,
   "id": "aa3ddc89",
   "metadata": {},
   "outputs": [],
   "source": [
    "df.to_excel(\"dataframe.xlsx\")"
   ]
  },
  {
   "cell_type": "markdown",
   "id": "721e2fb0",
   "metadata": {},
   "source": [
    "```\n",
    ".to_json(path_or_buf=None, orient=None, date_format=None, double_precision=10, force_ascii=True, date_unit='ms', default_handler=None, lines=False, compression='infer', index=True, indent=None, storage_options=None)\n",
    "・・・・path_or_buf で指定した名称の json ファイルを出力する\n",
    "```"
   ]
  },
  {
   "cell_type": "code",
   "execution_count": 157,
   "id": "692aa2b0",
   "metadata": {},
   "outputs": [],
   "source": [
    "ser.to_json(\"series.json\")"
   ]
  },
  {
   "cell_type": "code",
   "execution_count": 158,
   "id": "fe4735a9",
   "metadata": {},
   "outputs": [],
   "source": [
    "df.to_json(\"dataframe.json\", indent=2)"
   ]
  },
  {
   "cell_type": "markdown",
   "id": "d3c77737",
   "metadata": {},
   "source": [
    "```\n",
    ".to_list()\n",
    "・・・・Series をリストに変換して返す\n",
    "```"
   ]
  },
  {
   "cell_type": "code",
   "execution_count": 159,
   "id": "9837b216",
   "metadata": {},
   "outputs": [
    {
     "data": {
      "text/plain": [
       "[10, -10, 0]"
      ]
     },
     "execution_count": 159,
     "metadata": {},
     "output_type": "execute_result"
    }
   ],
   "source": [
    "ser.to_list()"
   ]
  },
  {
   "cell_type": "markdown",
   "id": "f957a32a",
   "metadata": {},
   "source": [
    "```\n",
    ".to_numpy(dtype=None, copy=False, na_value=NoDefault.no_default)\n",
    "・・・・Series を numpy.ndarray に変換して返す\n",
    "```"
   ]
  },
  {
   "cell_type": "code",
   "execution_count": 160,
   "id": "7ad82f60",
   "metadata": {},
   "outputs": [
    {
     "data": {
      "text/plain": [
       "array([ 10, -10,   0], dtype=int64)"
      ]
     },
     "execution_count": 160,
     "metadata": {},
     "output_type": "execute_result"
    }
   ],
   "source": [
    "ser.to_numpy()"
   ]
  },
  {
   "cell_type": "markdown",
   "id": "f957a32a",
   "metadata": {},
   "source": [
    "```\n",
    ".to_pickle(path, compression='infer', protocol=5, storage_options=None)\n",
    "・・・・.pickle 形式で出力する（compression にてファイル圧縮も可）\n",
    "```"
   ]
  },
  {
   "cell_type": "code",
   "execution_count": 161,
   "id": "7ad82f60",
   "metadata": {},
   "outputs": [],
   "source": [
    "ser.to_pickle(\"series.pickle\")"
   ]
  },
  {
   "cell_type": "code",
   "execution_count": 162,
   "id": "3302dfc7",
   "metadata": {},
   "outputs": [],
   "source": [
    "df.to_pickle(\"dataframe.pickle\")"
   ]
  },
  {
   "cell_type": "code",
   "execution_count": 163,
   "id": "3302dfc7",
   "metadata": {},
   "outputs": [],
   "source": [
    "df.to_pickle(\"dataframe.pickle.zip\", compression=\"zip\")"
   ]
  },
  {
   "cell_type": "markdown",
   "id": "081fd6a6",
   "metadata": {},
   "source": [
    "```\n",
    ".unique()\n",
    "・・・・重複のない要素の numpy.ndarray を返す\n",
    "```"
   ]
  },
  {
   "cell_type": "code",
   "execution_count": 164,
   "id": "b53569ec",
   "metadata": {},
   "outputs": [
    {
     "data": {
      "text/plain": [
       "array([None, 1, <NA>, nan], dtype=object)"
      ]
     },
     "execution_count": 164,
     "metadata": {},
     "output_type": "execute_result"
    }
   ],
   "source": [
    "ser_nan.unique()"
   ]
  },
  {
   "cell_type": "markdown",
   "id": "33972a4c",
   "metadata": {},
   "source": [
    "```\n",
    ".value_counts(normalize=False, sort=True, ascending=False, bins=None, dropna=True)\n",
    "・・・・行の数をカウントした結果を返す\n",
    "```"
   ]
  },
  {
   "cell_type": "code",
   "execution_count": 165,
   "id": "6a42019e",
   "metadata": {},
   "outputs": [
    {
     "data": {
      "text/plain": [
       " 10    1\n",
       "-10    1\n",
       " 0     1\n",
       "Name: series_abc, dtype: int64"
      ]
     },
     "execution_count": 165,
     "metadata": {},
     "output_type": "execute_result"
    }
   ],
   "source": [
    "ser.value_counts()"
   ]
  },
  {
   "cell_type": "code",
   "execution_count": 166,
   "id": "ab78644e",
   "metadata": {},
   "outputs": [
    {
     "data": {
      "text/plain": [
       "A    B \n",
       "-10  22    1\n",
       " 0   33    1\n",
       " 10  11    1\n",
       "dtype: int64"
      ]
     },
     "execution_count": 166,
     "metadata": {},
     "output_type": "execute_result"
    }
   ],
   "source": [
    "df.value_counts()"
   ]
  },
  {
   "cell_type": "markdown",
   "id": "d5054672",
   "metadata": {},
   "source": [
    "```\n",
    ".where(cond, other=NoDefault.no_default, inplace=False, axis=None, level=None, errors=NoDefault.no_default, try_cast=NoDefault.no_default)\n",
    "・・・・cond の条件式に合わない要素以外を NaN としたオブジェクトを返す\n",
    "```"
   ]
  },
  {
   "cell_type": "code",
   "execution_count": 167,
   "id": "04bf7cef",
   "metadata": {},
   "outputs": [
    {
     "data": {
      "text/plain": [
       "a    10.0\n",
       "b     NaN\n",
       "c     NaN\n",
       "Name: series_abc, dtype: float64"
      ]
     },
     "execution_count": 167,
     "metadata": {},
     "output_type": "execute_result"
    }
   ],
   "source": [
    "ser.where(cond=ser>0)"
   ]
  },
  {
   "cell_type": "code",
   "execution_count": 168,
   "id": "8c68fd8d",
   "metadata": {},
   "outputs": [
    {
     "data": {
      "text/html": [
       "<div><div id=7ea82b4b-2fe7-4e45-963b-c76b560f6ce4 style=\"display:none; background-color:#9D6CFF; color:white; width:200px; height:30px; padding-left:5px; border-radius:4px; flex-direction:row; justify-content:space-around; align-items:center;\" onmouseover=\"this.style.backgroundColor='#BA9BF8'\" onmouseout=\"this.style.backgroundColor='#9D6CFF'\" onclick=\"window.commands?.execute('create-mitosheet-from-dataframe-output');\">See Full Dataframe in Mito</div> <script> if (window.commands.hasCommand('create-mitosheet-from-dataframe-output')) document.getElementById('7ea82b4b-2fe7-4e45-963b-c76b560f6ce4').style.display = 'flex' </script> <table border=\"1\" class=\"dataframe\">\n",
       "  <thead>\n",
       "    <tr style=\"text-align: right;\">\n",
       "      <th></th>\n",
       "      <th>A</th>\n",
       "      <th>B</th>\n",
       "    </tr>\n",
       "  </thead>\n",
       "  <tbody>\n",
       "    <tr>\n",
       "      <th>0</th>\n",
       "      <td>10.0</td>\n",
       "      <td>11</td>\n",
       "    </tr>\n",
       "    <tr>\n",
       "      <th>1</th>\n",
       "      <td>NaN</td>\n",
       "      <td>22</td>\n",
       "    </tr>\n",
       "    <tr>\n",
       "      <th>2</th>\n",
       "      <td>NaN</td>\n",
       "      <td>33</td>\n",
       "    </tr>\n",
       "  </tbody>\n",
       "</table></div>"
      ],
      "text/plain": [
       "      A   B\n",
       "0  10.0  11\n",
       "1   NaN  22\n",
       "2   NaN  33"
      ]
     },
     "execution_count": 168,
     "metadata": {},
     "output_type": "execute_result"
    }
   ],
   "source": [
    "df.where(cond=df>0)"
   ]
  },
  {
   "cell_type": "markdown",
   "id": "0b57dab5",
   "metadata": {},
   "source": [
    "## pandas の関数"
   ]
  },
  {
   "cell_type": "markdown",
   "id": "0a66a19f",
   "metadata": {},
   "source": [
    "例えば，ライブラリを用いずにファイルを読み書きする場合を考えると，いちいちファイル open / close，または with ブロック内で処理を書く必要がありますが，pandas の関数を用いると，少し複雑な処理を加えて読み込んだりする場合もほぼ 1 ラインでコーディングが可能です．  \n",
    "Series / DataFrame のメソッドとかぶるものも多く，以下では，メソッドにない関数で普段遣いのもののみをまとめていきます．  \n",
    "pandas の関数の一部の一覧は以下で，モノによっては引数の種類が膨大なものもありますが，いつも使う引数は限られているので，普段使う実装を記載します．"
   ]
  },
  {
   "cell_type": "markdown",
   "id": "df79705c",
   "metadata": {},
   "source": [
    "| 関数 | 説明 |\n",
    "| - | - |\n",
    "| pd.read_pickle(filepath_or_buffer, compression='infer', storage_options=None) | .pickle ファイルを読み込む |\n",
    "| pd.read_csv(filepath_or_buffer, sep=NoDefault.no_default, delimiter=None, header='infer', names=NoDefault.no_default, index_col=None, usecols=None, squeeze=None, prefix=NoDefault.no_default, mangle_dupe_cols=True, dtype=None, engine=None, converters=None, true_values=None, false_values=None, skipinitialspace=False, skiprows=None, skipfooter=0, nrows=None, na_values=None, keep_default_na=True, na_filter=True, verbose=False, skip_blank_lines=True, parse_dates=None, infer_datetime_format=False, keep_date_col=False, date_parser=None, dayfirst=False, cache_dates=True, iterator=False, chunksize=None, compression='infer', thousands=None, decimal='.', lineterminator=None, quotechar='\"', quoting=0, doublequote=True, escapechar=None, comment=None, encoding=None, encoding_errors='strict', dialect=None, error_bad_lines=None, warn_bad_lines=None, on_bad_lines=None, delim_whitespace=False, low_memory=True, memory_map=False, float_precision=None, storage_options=None) | .csv ファイルを読み込む |\n",
    "| pd.read_excel(io, sheet_name=0, header=0, names=None, index_col=None, usecols=None, squeeze=None, dtype=None, engine=None, converters=None, true_values=None, false_values=None, skiprows=None, nrows=None, na_values=None, keep_default_na=True, na_filter=True, verbose=False, parse_dates=False, date_parser=None, thousands=None, decimal='.', comment=None, skipfooter=0, convert_float=None, mangle_dupe_cols=True, storage_options=None) | excel ファイルを読み込む |\n",
    "| pd.read_json(path_or_buf=None, orient=None, typ='frame', dtype=None, convert_axes=None, convert_dates=True, keep_default_dates=True, numpy=False, precise_float=False, date_unit=None, encoding=None, encoding_errors='strict', lines=False, chunksize=None, compression='infer', nrows=None, storage_options=None) | .json ファイルを読み込む |\n",
    "| pd.concat(objs, axis=0, join='outer', ignore_index=False, keys=None, levels=None, names=None, verify_integrity=False, sort=False, copy=True) | objs にて指定する二つの DataFrame を axis 方向に結合する |"
   ]
  },
  {
   "cell_type": "markdown",
   "id": "b060042a",
   "metadata": {},
   "source": [
    "```\n",
    "pd.read_pickle(filepath_or_buffer, compression='infer', storage_options=None)\n",
    "・・・・.pickle ファイルを読み込む\n",
    "```"
   ]
  },
  {
   "cell_type": "code",
   "execution_count": 169,
   "id": "6128beac",
   "metadata": {},
   "outputs": [
    {
     "data": {
      "text/html": [
       "<div><div id=06a5d438-2ee5-4d01-88eb-0f6cd284abba style=\"display:none; background-color:#9D6CFF; color:white; width:200px; height:30px; padding-left:5px; border-radius:4px; flex-direction:row; justify-content:space-around; align-items:center;\" onmouseover=\"this.style.backgroundColor='#BA9BF8'\" onmouseout=\"this.style.backgroundColor='#9D6CFF'\" onclick=\"window.commands?.execute('create-mitosheet-from-dataframe-output');\">See Full Dataframe in Mito</div> <script> if (window.commands.hasCommand('create-mitosheet-from-dataframe-output')) document.getElementById('06a5d438-2ee5-4d01-88eb-0f6cd284abba').style.display = 'flex' </script> <table border=\"1\" class=\"dataframe\">\n",
       "  <thead>\n",
       "    <tr style=\"text-align: right;\">\n",
       "      <th></th>\n",
       "      <th>A</th>\n",
       "      <th>B</th>\n",
       "    </tr>\n",
       "  </thead>\n",
       "  <tbody>\n",
       "    <tr>\n",
       "      <th>0</th>\n",
       "      <td>10</td>\n",
       "      <td>11</td>\n",
       "    </tr>\n",
       "    <tr>\n",
       "      <th>1</th>\n",
       "      <td>-10</td>\n",
       "      <td>22</td>\n",
       "    </tr>\n",
       "    <tr>\n",
       "      <th>2</th>\n",
       "      <td>0</td>\n",
       "      <td>33</td>\n",
       "    </tr>\n",
       "  </tbody>\n",
       "</table></div>"
      ],
      "text/plain": [
       "    A   B\n",
       "0  10  11\n",
       "1 -10  22\n",
       "2   0  33"
      ]
     },
     "execution_count": 169,
     "metadata": {},
     "output_type": "execute_result"
    }
   ],
   "source": [
    "pd.read_pickle(\"dataframe.pickle.zip\")"
   ]
  },
  {
   "cell_type": "markdown",
   "id": "64be06fe",
   "metadata": {},
   "source": [
    "```\n",
    "pd.read_csv(filepath_or_buffer, sep=NoDefault.no_default, delimiter=None, header='infer', names=NoDefault.no_default, index_col=None, usecols=None, squeeze=None, prefix=NoDefault.no_default, mangle_dupe_cols=True, dtype=None, engine=None, converters=None, true_values=None, false_values=None, skipinitialspace=False, skiprows=None, skipfooter=0, nrows=None, na_values=None, keep_default_na=True, na_filter=True, verbose=False, skip_blank_lines=True, parse_dates=None, infer_datetime_format=False, keep_date_col=False, date_parser=None, dayfirst=False, cache_dates=True, iterator=False, chunksize=None, compression='infer', thousands=None, decimal='.', lineterminator=None, quotechar='\"', quoting=0, doublequote=True, escapechar=None, comment=None, encoding=None, encoding_errors='strict', dialect=None, error_bad_lines=None, warn_bad_lines=None, on_bad_lines=None, delim_whitespace=False, low_memory=True, memory_map=False, float_precision=None, storage_options=None)\n",
    "・・・・.csv ファイルを読み込む\n",
    "```"
   ]
  },
  {
   "cell_type": "markdown",
   "id": "fac4ea52",
   "metadata": {},
   "source": [
    "名前のないカラムは \"Unnamed: ?\" （? は自動的に 0 から順番に割り当てられる数字）として付与されます．"
   ]
  },
  {
   "cell_type": "code",
   "execution_count": 170,
   "id": "e0a061f2",
   "metadata": {},
   "outputs": [
    {
     "data": {
      "text/html": [
       "<div><div id=d5e33be2-5ea5-46fb-94c9-53bd329ad4ac style=\"display:none; background-color:#9D6CFF; color:white; width:200px; height:30px; padding-left:5px; border-radius:4px; flex-direction:row; justify-content:space-around; align-items:center;\" onmouseover=\"this.style.backgroundColor='#BA9BF8'\" onmouseout=\"this.style.backgroundColor='#9D6CFF'\" onclick=\"window.commands?.execute('create-mitosheet-from-dataframe-output');\">See Full Dataframe in Mito</div> <script> if (window.commands.hasCommand('create-mitosheet-from-dataframe-output')) document.getElementById('d5e33be2-5ea5-46fb-94c9-53bd329ad4ac').style.display = 'flex' </script> <table border=\"1\" class=\"dataframe\">\n",
       "  <thead>\n",
       "    <tr style=\"text-align: right;\">\n",
       "      <th></th>\n",
       "      <th>Unnamed: 0</th>\n",
       "      <th>A</th>\n",
       "      <th>B</th>\n",
       "    </tr>\n",
       "  </thead>\n",
       "  <tbody>\n",
       "    <tr>\n",
       "      <th>0</th>\n",
       "      <td>0</td>\n",
       "      <td>10</td>\n",
       "      <td>11</td>\n",
       "    </tr>\n",
       "    <tr>\n",
       "      <th>1</th>\n",
       "      <td>1</td>\n",
       "      <td>-10</td>\n",
       "      <td>22</td>\n",
       "    </tr>\n",
       "    <tr>\n",
       "      <th>2</th>\n",
       "      <td>2</td>\n",
       "      <td>0</td>\n",
       "      <td>33</td>\n",
       "    </tr>\n",
       "  </tbody>\n",
       "</table></div>"
      ],
      "text/plain": [
       "   Unnamed: 0   A   B\n",
       "0           0  10  11\n",
       "1           1 -10  22\n",
       "2           2   0  33"
      ]
     },
     "execution_count": 170,
     "metadata": {},
     "output_type": "execute_result"
    }
   ],
   "source": [
    "pd.read_csv(\"dataframe_0.csv\")"
   ]
  },
  {
   "cell_type": "markdown",
   "id": "245f8305",
   "metadata": {},
   "source": [
    "テーブルデータのヘッダとなるカラム名が無い場合は header=None とします．  \n",
    "また，カラム名としたい行が n 行目にある場合（例えば，.csv ファイルの先頭の数行が設定値の説明が記載されていて飛ばして読み込みたい場合）は header=n-1 とします．"
   ]
  },
  {
   "cell_type": "code",
   "execution_count": 171,
   "id": "4836df69",
   "metadata": {},
   "outputs": [
    {
     "data": {
      "text/html": [
       "<div><div id=e5cf7b9d-c279-4774-b15d-59256e37d350 style=\"display:none; background-color:#9D6CFF; color:white; width:200px; height:30px; padding-left:5px; border-radius:4px; flex-direction:row; justify-content:space-around; align-items:center;\" onmouseover=\"this.style.backgroundColor='#BA9BF8'\" onmouseout=\"this.style.backgroundColor='#9D6CFF'\" onclick=\"window.commands?.execute('create-mitosheet-from-dataframe-output');\">See Full Dataframe in Mito</div> <script> if (window.commands.hasCommand('create-mitosheet-from-dataframe-output')) document.getElementById('e5cf7b9d-c279-4774-b15d-59256e37d350').style.display = 'flex' </script> <table border=\"1\" class=\"dataframe\">\n",
       "  <thead>\n",
       "    <tr style=\"text-align: right;\">\n",
       "      <th></th>\n",
       "      <th>0</th>\n",
       "      <th>1</th>\n",
       "      <th>2</th>\n",
       "    </tr>\n",
       "  </thead>\n",
       "  <tbody>\n",
       "    <tr>\n",
       "      <th>0</th>\n",
       "      <td>NaN</td>\n",
       "      <td>A</td>\n",
       "      <td>B</td>\n",
       "    </tr>\n",
       "    <tr>\n",
       "      <th>1</th>\n",
       "      <td>0.0</td>\n",
       "      <td>10</td>\n",
       "      <td>11</td>\n",
       "    </tr>\n",
       "    <tr>\n",
       "      <th>2</th>\n",
       "      <td>1.0</td>\n",
       "      <td>-10</td>\n",
       "      <td>22</td>\n",
       "    </tr>\n",
       "    <tr>\n",
       "      <th>3</th>\n",
       "      <td>2.0</td>\n",
       "      <td>0</td>\n",
       "      <td>33</td>\n",
       "    </tr>\n",
       "  </tbody>\n",
       "</table></div>"
      ],
      "text/plain": [
       "     0    1   2\n",
       "0  NaN    A   B\n",
       "1  0.0   10  11\n",
       "2  1.0  -10  22\n",
       "3  2.0    0  33"
      ]
     },
     "execution_count": 171,
     "metadata": {},
     "output_type": "execute_result"
    }
   ],
   "source": [
    "pd.read_csv(\"dataframe_0.csv\", header=None)"
   ]
  },
  {
   "cell_type": "code",
   "execution_count": 172,
   "id": "4836df69",
   "metadata": {},
   "outputs": [
    {
     "data": {
      "text/html": [
       "<div><div id=17b690b8-b4c6-4f47-a0ad-21aeb3f29654 style=\"display:none; background-color:#9D6CFF; color:white; width:200px; height:30px; padding-left:5px; border-radius:4px; flex-direction:row; justify-content:space-around; align-items:center;\" onmouseover=\"this.style.backgroundColor='#BA9BF8'\" onmouseout=\"this.style.backgroundColor='#9D6CFF'\" onclick=\"window.commands?.execute('create-mitosheet-from-dataframe-output');\">See Full Dataframe in Mito</div> <script> if (window.commands.hasCommand('create-mitosheet-from-dataframe-output')) document.getElementById('17b690b8-b4c6-4f47-a0ad-21aeb3f29654').style.display = 'flex' </script> <table border=\"1\" class=\"dataframe\">\n",
       "  <thead>\n",
       "    <tr style=\"text-align: right;\">\n",
       "      <th></th>\n",
       "      <th>0</th>\n",
       "      <th>10</th>\n",
       "      <th>11</th>\n",
       "    </tr>\n",
       "  </thead>\n",
       "  <tbody>\n",
       "    <tr>\n",
       "      <th>0</th>\n",
       "      <td>1</td>\n",
       "      <td>-10</td>\n",
       "      <td>22</td>\n",
       "    </tr>\n",
       "    <tr>\n",
       "      <th>1</th>\n",
       "      <td>2</td>\n",
       "      <td>0</td>\n",
       "      <td>33</td>\n",
       "    </tr>\n",
       "  </tbody>\n",
       "</table></div>"
      ],
      "text/plain": [
       "   0  10  11\n",
       "0  1 -10  22\n",
       "1  2   0  33"
      ]
     },
     "execution_count": 172,
     "metadata": {},
     "output_type": "execute_result"
    }
   ],
   "source": [
    "pd.read_csv(\"dataframe_0.csv\", header=1)"
   ]
  },
  {
   "cell_type": "markdown",
   "id": "13008e7b",
   "metadata": {},
   "source": [
    "読み込んだ後，列名を変更したい場合は，names にリストやタプルでつけたい名称を渡します．"
   ]
  },
  {
   "cell_type": "code",
   "execution_count": 173,
   "id": "68691771",
   "metadata": {},
   "outputs": [
    {
     "data": {
      "text/html": [
       "<div><div id=7e6ac048-b9a2-4308-9393-d3814eab0aa6 style=\"display:none; background-color:#9D6CFF; color:white; width:200px; height:30px; padding-left:5px; border-radius:4px; flex-direction:row; justify-content:space-around; align-items:center;\" onmouseover=\"this.style.backgroundColor='#BA9BF8'\" onmouseout=\"this.style.backgroundColor='#9D6CFF'\" onclick=\"window.commands?.execute('create-mitosheet-from-dataframe-output');\">See Full Dataframe in Mito</div> <script> if (window.commands.hasCommand('create-mitosheet-from-dataframe-output')) document.getElementById('7e6ac048-b9a2-4308-9393-d3814eab0aa6').style.display = 'flex' </script> <table border=\"1\" class=\"dataframe\">\n",
       "  <thead>\n",
       "    <tr style=\"text-align: right;\">\n",
       "      <th></th>\n",
       "      <th>col0</th>\n",
       "      <th>col1</th>\n",
       "      <th>col2</th>\n",
       "    </tr>\n",
       "  </thead>\n",
       "  <tbody>\n",
       "    <tr>\n",
       "      <th>0</th>\n",
       "      <td>NaN</td>\n",
       "      <td>A</td>\n",
       "      <td>B</td>\n",
       "    </tr>\n",
       "    <tr>\n",
       "      <th>1</th>\n",
       "      <td>0.0</td>\n",
       "      <td>10</td>\n",
       "      <td>11</td>\n",
       "    </tr>\n",
       "    <tr>\n",
       "      <th>2</th>\n",
       "      <td>1.0</td>\n",
       "      <td>-10</td>\n",
       "      <td>22</td>\n",
       "    </tr>\n",
       "    <tr>\n",
       "      <th>3</th>\n",
       "      <td>2.0</td>\n",
       "      <td>0</td>\n",
       "      <td>33</td>\n",
       "    </tr>\n",
       "  </tbody>\n",
       "</table></div>"
      ],
      "text/plain": [
       "   col0 col1 col2\n",
       "0   NaN    A    B\n",
       "1   0.0   10   11\n",
       "2   1.0  -10   22\n",
       "3   2.0    0   33"
      ]
     },
     "execution_count": 173,
     "metadata": {},
     "output_type": "execute_result"
    }
   ],
   "source": [
    "pd.read_csv(\"dataframe_0.csv\", names=(\"col0\", \"col1\", \"col2\"))"
   ]
  },
  {
   "cell_type": "markdown",
   "id": "13008e7b",
   "metadata": {},
   "source": [
    "読み込んだ後，行名をどこかの列のデータとしたい場合は，index_col に列名を文字型で与えます．"
   ]
  },
  {
   "cell_type": "code",
   "execution_count": 174,
   "id": "68691771",
   "metadata": {},
   "outputs": [
    {
     "data": {
      "text/html": [
       "<div><div id=68fc94a0-2e7d-407e-a5df-816a052a69dd style=\"display:none; background-color:#9D6CFF; color:white; width:200px; height:30px; padding-left:5px; border-radius:4px; flex-direction:row; justify-content:space-around; align-items:center;\" onmouseover=\"this.style.backgroundColor='#BA9BF8'\" onmouseout=\"this.style.backgroundColor='#9D6CFF'\" onclick=\"window.commands?.execute('create-mitosheet-from-dataframe-output');\">See Full Dataframe in Mito</div> <script> if (window.commands.hasCommand('create-mitosheet-from-dataframe-output')) document.getElementById('68fc94a0-2e7d-407e-a5df-816a052a69dd').style.display = 'flex' </script> <table border=\"1\" class=\"dataframe\">\n",
       "  <thead>\n",
       "    <tr style=\"text-align: right;\">\n",
       "      <th></th>\n",
       "      <th>Unnamed: 0</th>\n",
       "      <th>B</th>\n",
       "    </tr>\n",
       "    <tr>\n",
       "      <th>A</th>\n",
       "      <th></th>\n",
       "      <th></th>\n",
       "    </tr>\n",
       "  </thead>\n",
       "  <tbody>\n",
       "    <tr>\n",
       "      <th>10</th>\n",
       "      <td>0</td>\n",
       "      <td>11</td>\n",
       "    </tr>\n",
       "    <tr>\n",
       "      <th>-10</th>\n",
       "      <td>1</td>\n",
       "      <td>22</td>\n",
       "    </tr>\n",
       "    <tr>\n",
       "      <th>0</th>\n",
       "      <td>2</td>\n",
       "      <td>33</td>\n",
       "    </tr>\n",
       "  </tbody>\n",
       "</table></div>"
      ],
      "text/plain": [
       "     Unnamed: 0   B\n",
       "A                  \n",
       " 10           0  11\n",
       "-10           1  22\n",
       " 0            2  33"
      ]
     },
     "execution_count": 174,
     "metadata": {},
     "output_type": "execute_result"
    }
   ],
   "source": [
    "pd.read_csv(\"dataframe_0.csv\", index_col=\"A\")"
   ]
  },
  {
   "cell_type": "markdown",
   "id": "e3f0d5e4",
   "metadata": {},
   "source": [
    "読み込むファイルでいらないカラムがある場合は，読み込みたいカラム名だけを usecols にタプルやリストで渡すと，不要な列が読み込まれません．"
   ]
  },
  {
   "cell_type": "code",
   "execution_count": 175,
   "id": "a4d900a8",
   "metadata": {},
   "outputs": [
    {
     "data": {
      "text/html": [
       "<div><div id=575eca23-53be-4656-ab4a-9af7e41ef194 style=\"display:none; background-color:#9D6CFF; color:white; width:200px; height:30px; padding-left:5px; border-radius:4px; flex-direction:row; justify-content:space-around; align-items:center;\" onmouseover=\"this.style.backgroundColor='#BA9BF8'\" onmouseout=\"this.style.backgroundColor='#9D6CFF'\" onclick=\"window.commands?.execute('create-mitosheet-from-dataframe-output');\">See Full Dataframe in Mito</div> <script> if (window.commands.hasCommand('create-mitosheet-from-dataframe-output')) document.getElementById('575eca23-53be-4656-ab4a-9af7e41ef194').style.display = 'flex' </script> <table border=\"1\" class=\"dataframe\">\n",
       "  <thead>\n",
       "    <tr style=\"text-align: right;\">\n",
       "      <th></th>\n",
       "      <th>A</th>\n",
       "      <th>B</th>\n",
       "    </tr>\n",
       "  </thead>\n",
       "  <tbody>\n",
       "    <tr>\n",
       "      <th>0</th>\n",
       "      <td>10</td>\n",
       "      <td>11</td>\n",
       "    </tr>\n",
       "    <tr>\n",
       "      <th>1</th>\n",
       "      <td>-10</td>\n",
       "      <td>22</td>\n",
       "    </tr>\n",
       "    <tr>\n",
       "      <th>2</th>\n",
       "      <td>0</td>\n",
       "      <td>33</td>\n",
       "    </tr>\n",
       "  </tbody>\n",
       "</table></div>"
      ],
      "text/plain": [
       "    A   B\n",
       "0  10  11\n",
       "1 -10  22\n",
       "2   0  33"
      ]
     },
     "execution_count": 175,
     "metadata": {},
     "output_type": "execute_result"
    }
   ],
   "source": [
    "pd.read_csv(\"dataframe_0.csv\", usecols=[\"A\", \"B\"])"
   ]
  },
  {
   "cell_type": "markdown",
   "id": "4fe5ef67",
   "metadata": {},
   "source": [
    "```\n",
    "pd.read_excel(io, sheet_name=0, header=0, names=None, index_col=None, usecols=None, squeeze=None, dtype=None, engine=None, converters=None, true_values=None, false_values=None, skiprows=None, nrows=None, na_values=None, keep_default_na=True, na_filter=True, verbose=False, parse_dates=False, date_parser=None, thousands=None, decimal='.', comment=None, skipfooter=0, convert_float=None, mangle_dupe_cols=True, storage_options=None)\n",
    "・・・・excel ファイルを読み込む\n",
    "```"
   ]
  },
  {
   "cell_type": "markdown",
   "id": "f0729b4a",
   "metadata": {},
   "source": [
    "sheet_name にシート名を指定することができ，整数型だとシートの何枚目か，文字型だとシート名を与えることで，読み込むシートを指定できます．  \n",
    "後の引数の扱い方は read_csv とほとんど同じです．"
   ]
  },
  {
   "cell_type": "code",
   "execution_count": 176,
   "id": "8b8c2968",
   "metadata": {},
   "outputs": [
    {
     "data": {
      "text/html": [
       "<div><div id=d7f9e792-4511-46a3-8d52-42b16a702d27 style=\"display:none; background-color:#9D6CFF; color:white; width:200px; height:30px; padding-left:5px; border-radius:4px; flex-direction:row; justify-content:space-around; align-items:center;\" onmouseover=\"this.style.backgroundColor='#BA9BF8'\" onmouseout=\"this.style.backgroundColor='#9D6CFF'\" onclick=\"window.commands?.execute('create-mitosheet-from-dataframe-output');\">See Full Dataframe in Mito</div> <script> if (window.commands.hasCommand('create-mitosheet-from-dataframe-output')) document.getElementById('d7f9e792-4511-46a3-8d52-42b16a702d27').style.display = 'flex' </script> <table border=\"1\" class=\"dataframe\">\n",
       "  <thead>\n",
       "    <tr style=\"text-align: right;\">\n",
       "      <th></th>\n",
       "      <th>A</th>\n",
       "      <th>B</th>\n",
       "    </tr>\n",
       "  </thead>\n",
       "  <tbody>\n",
       "    <tr>\n",
       "      <th>0</th>\n",
       "      <td>10</td>\n",
       "      <td>11</td>\n",
       "    </tr>\n",
       "    <tr>\n",
       "      <th>1</th>\n",
       "      <td>-10</td>\n",
       "      <td>22</td>\n",
       "    </tr>\n",
       "    <tr>\n",
       "      <th>2</th>\n",
       "      <td>0</td>\n",
       "      <td>33</td>\n",
       "    </tr>\n",
       "  </tbody>\n",
       "</table></div>"
      ],
      "text/plain": [
       "    A   B\n",
       "0  10  11\n",
       "1 -10  22\n",
       "2   0  33"
      ]
     },
     "execution_count": 176,
     "metadata": {},
     "output_type": "execute_result"
    }
   ],
   "source": [
    "pd.read_excel(\"dataframe.xlsx\", sheet_name=0, index_col=0)"
   ]
  },
  {
   "cell_type": "markdown",
   "id": "c73af093",
   "metadata": {},
   "source": [
    "```\n",
    "pd.read_json(path_or_buf=None, orient=None, typ='frame', dtype=None, convert_axes=None, convert_dates=True, keep_default_dates=True, numpy=False, precise_float=False, date_unit=None, encoding=None, encoding_errors='strict', lines=False, chunksize=None, compression='infer', nrows=None, storage_options=None)\n",
    "・・・・.json ファイルを読み込む\n",
    "```"
   ]
  },
  {
   "cell_type": "code",
   "execution_count": 177,
   "id": "9abedbd0",
   "metadata": {},
   "outputs": [
    {
     "data": {
      "text/html": [
       "<div><div id=8cf8f857-7ec7-4aac-bffe-a3de20498658 style=\"display:none; background-color:#9D6CFF; color:white; width:200px; height:30px; padding-left:5px; border-radius:4px; flex-direction:row; justify-content:space-around; align-items:center;\" onmouseover=\"this.style.backgroundColor='#BA9BF8'\" onmouseout=\"this.style.backgroundColor='#9D6CFF'\" onclick=\"window.commands?.execute('create-mitosheet-from-dataframe-output');\">See Full Dataframe in Mito</div> <script> if (window.commands.hasCommand('create-mitosheet-from-dataframe-output')) document.getElementById('8cf8f857-7ec7-4aac-bffe-a3de20498658').style.display = 'flex' </script> <table border=\"1\" class=\"dataframe\">\n",
       "  <thead>\n",
       "    <tr style=\"text-align: right;\">\n",
       "      <th></th>\n",
       "      <th>A</th>\n",
       "      <th>B</th>\n",
       "    </tr>\n",
       "  </thead>\n",
       "  <tbody>\n",
       "    <tr>\n",
       "      <th>0</th>\n",
       "      <td>10</td>\n",
       "      <td>11</td>\n",
       "    </tr>\n",
       "    <tr>\n",
       "      <th>1</th>\n",
       "      <td>-10</td>\n",
       "      <td>22</td>\n",
       "    </tr>\n",
       "    <tr>\n",
       "      <th>2</th>\n",
       "      <td>0</td>\n",
       "      <td>33</td>\n",
       "    </tr>\n",
       "  </tbody>\n",
       "</table></div>"
      ],
      "text/plain": [
       "    A   B\n",
       "0  10  11\n",
       "1 -10  22\n",
       "2   0  33"
      ]
     },
     "execution_count": 177,
     "metadata": {},
     "output_type": "execute_result"
    }
   ],
   "source": [
    "pd.read_json(\"./dataframe.json\")"
   ]
  },
  {
   "cell_type": "markdown",
   "id": "ce7acb17",
   "metadata": {},
   "source": [
    "```\n",
    "pd.concat(objs, axis=0, join='outer', ignore_index=False, keys=None, levels=None, names=None, verify_integrity=False, sort=False, copy=True)\n",
    "・・・・objs にて指定する二つの DataFrame を axis 方向に結合する\n",
    "```"
   ]
  },
  {
   "cell_type": "code",
   "execution_count": 178,
   "id": "c74adbae",
   "metadata": {},
   "outputs": [
    {
     "data": {
      "text/html": [
       "<div><div id=201472b2-c750-4ebf-8f03-31b800a40410 style=\"display:none; background-color:#9D6CFF; color:white; width:200px; height:30px; padding-left:5px; border-radius:4px; flex-direction:row; justify-content:space-around; align-items:center;\" onmouseover=\"this.style.backgroundColor='#BA9BF8'\" onmouseout=\"this.style.backgroundColor='#9D6CFF'\" onclick=\"window.commands?.execute('create-mitosheet-from-dataframe-output');\">See Full Dataframe in Mito</div> <script> if (window.commands.hasCommand('create-mitosheet-from-dataframe-output')) document.getElementById('201472b2-c750-4ebf-8f03-31b800a40410').style.display = 'flex' </script> <table border=\"1\" class=\"dataframe\">\n",
       "  <thead>\n",
       "    <tr style=\"text-align: right;\">\n",
       "      <th></th>\n",
       "      <th>A</th>\n",
       "      <th>B</th>\n",
       "      <th>C</th>\n",
       "    </tr>\n",
       "  </thead>\n",
       "  <tbody>\n",
       "    <tr>\n",
       "      <th>0</th>\n",
       "      <td>10.0</td>\n",
       "      <td>11.0</td>\n",
       "      <td>NaN</td>\n",
       "    </tr>\n",
       "    <tr>\n",
       "      <th>1</th>\n",
       "      <td>-10.0</td>\n",
       "      <td>22.0</td>\n",
       "      <td>NaN</td>\n",
       "    </tr>\n",
       "    <tr>\n",
       "      <th>2</th>\n",
       "      <td>0.0</td>\n",
       "      <td>33.0</td>\n",
       "      <td>NaN</td>\n",
       "    </tr>\n",
       "    <tr>\n",
       "      <th>0</th>\n",
       "      <td>1.0</td>\n",
       "      <td>NaN</td>\n",
       "      <td>0.0</td>\n",
       "    </tr>\n",
       "    <tr>\n",
       "      <th>1</th>\n",
       "      <td>NaN</td>\n",
       "      <td>NaN</td>\n",
       "      <td>NaN</td>\n",
       "    </tr>\n",
       "    <tr>\n",
       "      <th>2</th>\n",
       "      <td>0.0</td>\n",
       "      <td>NaN</td>\n",
       "      <td>NaN</td>\n",
       "    </tr>\n",
       "  </tbody>\n",
       "</table></div>"
      ],
      "text/plain": [
       "      A     B    C\n",
       "0  10.0  11.0  NaN\n",
       "1 -10.0  22.0  NaN\n",
       "2   0.0  33.0  NaN\n",
       "0   1.0   NaN  0.0\n",
       "1   NaN   NaN  NaN\n",
       "2   0.0   NaN  NaN"
      ]
     },
     "execution_count": 178,
     "metadata": {},
     "output_type": "execute_result"
    }
   ],
   "source": [
    "pd.concat(objs=[df, df_nan], axis=0)"
   ]
  },
  {
   "cell_type": "code",
   "execution_count": 179,
   "id": "c74adbae",
   "metadata": {},
   "outputs": [
    {
     "data": {
      "text/html": [
       "<div><div id=2cbb36a7-a434-4b58-8ad2-9a51520e63cc style=\"display:none; background-color:#9D6CFF; color:white; width:200px; height:30px; padding-left:5px; border-radius:4px; flex-direction:row; justify-content:space-around; align-items:center;\" onmouseover=\"this.style.backgroundColor='#BA9BF8'\" onmouseout=\"this.style.backgroundColor='#9D6CFF'\" onclick=\"window.commands?.execute('create-mitosheet-from-dataframe-output');\">See Full Dataframe in Mito</div> <script> if (window.commands.hasCommand('create-mitosheet-from-dataframe-output')) document.getElementById('2cbb36a7-a434-4b58-8ad2-9a51520e63cc').style.display = 'flex' </script> <table border=\"1\" class=\"dataframe\">\n",
       "  <thead>\n",
       "    <tr style=\"text-align: right;\">\n",
       "      <th></th>\n",
       "      <th>A</th>\n",
       "      <th>B</th>\n",
       "      <th>A</th>\n",
       "      <th>B</th>\n",
       "      <th>C</th>\n",
       "    </tr>\n",
       "  </thead>\n",
       "  <tbody>\n",
       "    <tr>\n",
       "      <th>0</th>\n",
       "      <td>10</td>\n",
       "      <td>11</td>\n",
       "      <td>1.0</td>\n",
       "      <td>NaN</td>\n",
       "      <td>0.0</td>\n",
       "    </tr>\n",
       "    <tr>\n",
       "      <th>1</th>\n",
       "      <td>-10</td>\n",
       "      <td>22</td>\n",
       "      <td>NaN</td>\n",
       "      <td>NaN</td>\n",
       "      <td>NaN</td>\n",
       "    </tr>\n",
       "    <tr>\n",
       "      <th>2</th>\n",
       "      <td>0</td>\n",
       "      <td>33</td>\n",
       "      <td>0.0</td>\n",
       "      <td>NaN</td>\n",
       "      <td>NaN</td>\n",
       "    </tr>\n",
       "  </tbody>\n",
       "</table></div>"
      ],
      "text/plain": [
       "    A   B    A   B    C\n",
       "0  10  11  1.0 NaN  0.0\n",
       "1 -10  22  NaN NaN  NaN\n",
       "2   0  33  0.0 NaN  NaN"
      ]
     },
     "execution_count": 179,
     "metadata": {},
     "output_type": "execute_result"
    }
   ],
   "source": [
    "pd.concat(objs=[df, df_nan], axis=1)"
   ]
  },
  {
   "cell_type": "markdown",
   "id": "2d9a37d2",
   "metadata": {},
   "source": [
    "## 演習問題"
   ]
  },
  {
   "cell_type": "markdown",
   "id": "c3fea8d8",
   "metadata": {},
   "source": [
    "- Q.1: フリーの花のアヤメの分類データセットを一つの pandas.DataFrame として定義し，表示させましょう．（https://raw.githubusercontent.com/mwaskom/seaborn-data/master/iris.csv にアクセスいただき，web ページ上で右クリックし，メニューから 名前をつけて保存 でローカルに .csv ファイルとして保存できます．scikit-learn がインストール済みであれば datasets.load_iris() でも読み込み可能ですが，その場合は，目的変数のカラム名を \"species\" とし，目的変数の要素をアヤメの品種も文字列に置き換えてください．）\n",
    "\n",
    "- Q.2: 説明変数の sepal は花のがく片，petal は花の花弁を表します．上記で生成した DataFrame に，例えば次の特徴量を追加してみましょう．\n",
    "    - がく片を長方形と近似し，\"sepal length (cm)\" と \"sepal width (cm)\" を用いて \"sepal area (cm^2)\" という特徴量を追加しましょう．\n",
    "    - 花弁を長方形と近似し，\"petal length (cm)\" と \"petal width (cm)\" を用いて \"petal area (cm^2)\" という特徴量を追加しましょう．\n",
    "\n",
    "- Q.3: 上記で生成した DataFrame について，説明変数の各カラムの主要統計量を一行で出してみましょう．\n",
    "\n",
    "- Q.4: 説明変数の各カラムの主要統計量について，品種別 (\"species\" ごと) で見てみましょう．ここで，DataFrame の df における \"species\" カラムの値が \"setosa\" である部分を抜き取るためには，`df[df[\"species\"]==\"setosa\"]` とすることで，条件にマッチした DataFrame が返されます．品種の種類は `set(df([\"species\"]))` にて確認できます．\n",
    "\n",
    "- Q.5: 説明変数の相関係数行列を一行で出してみましょう．\n",
    "\n",
    "- Q.6: 追加した特徴量の \"sepal area (cm^2)\" はあまり意味がなさそうなので，このカラムを削除しましょう．\n",
    "\n",
    "- Q.7: 上記まで作成していた DataFrame を別名でコピーしてください．\n",
    "\n",
    "- Q.8: コピーした DataFrame について，目的変数の \"species\" 以外のカラムについて 0 ～ 1 へ正規化してください．ここで正規化とは，各カラムの値が最小値 0，最大値 1 へリスケーリングさせることを言い，数列 $X$ に対し $i$ 番目の要素 $x_i$ とすると，要素の最大値 $x_{max}$ と最小値 $x_{min}$ を用いて，正規化後の $i$ 番目の要素の値 $x_i^+$ は，次で示すことができます．"
   ]
  },
  {
   "cell_type": "markdown",
   "id": "afc1b998",
   "metadata": {},
   "source": [
    "$$\n",
    "x_i^+ = \\frac{x_i - x_{min}}{x_{max} - x_{min}}\n",
    "$$"
   ]
  },
  {
   "cell_type": "markdown",
   "id": "8008d522",
   "metadata": {},
   "source": [
    "- Q.9: 正規化後の DataFrame について，データの 75 % の行をランダムに抜き取った DataFrame を新たな変数 train に格納し，残りの 25 % の行の DataFrame を新たな変数 test に格納しましょう．\n",
    "\n",
    "- Q.10: Q.9 にて作成した train, test を pickle 形式かつ圧縮して保存しましょう．"
   ]
  },
  {
   "cell_type": "code",
   "execution_count": null,
   "id": "17799dfe",
   "metadata": {},
   "outputs": [],
   "source": []
  }
 ],
 "metadata": {
  "kernelspec": {
   "display_name": "Python 3 (ipykernel)",
   "language": "python",
   "name": "python3"
  },
  "language_info": {
   "codemirror_mode": {
    "name": "ipython",
    "version": 3
   },
   "file_extension": ".py",
   "mimetype": "text/x-python",
   "name": "python",
   "nbconvert_exporter": "python",
   "pygments_lexer": "ipython3",
   "version": "3.9.9"
  }
 },
 "nbformat": 4,
 "nbformat_minor": 5
}
