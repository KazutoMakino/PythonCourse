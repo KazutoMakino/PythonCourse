{
 "cells": [
  {
   "cell_type": "markdown",
   "metadata": {},
   "source": [
    "### 【自前python講座-003】条件分岐／繰り返し処理／例外処理の演習の解答\n",
    "\n",
    "---"
   ]
  },
  {
   "cell_type": "markdown",
   "metadata": {},
   "source": [
    "- Q.1: 1 から 1000 までの 5 の倍数の総和を求めてください．できる人は for を使わず 1 行で挑戦してみてください．"
   ]
  },
  {
   "cell_type": "code",
   "execution_count": 1,
   "metadata": {},
   "outputs": [
    {
     "data": {
      "text/plain": [
       "100500"
      ]
     },
     "execution_count": 1,
     "metadata": {},
     "output_type": "execute_result"
    }
   ],
   "source": [
    "val = 0\n",
    "for i in range(5,1001,5):\n",
    "    val += i\n",
    "val"
   ]
  },
  {
   "cell_type": "markdown",
   "metadata": {},
   "source": [
    "1 行で書くためには，組み込み関数の sum, list, range を用います．"
   ]
  },
  {
   "cell_type": "code",
   "execution_count": 2,
   "metadata": {},
   "outputs": [
    {
     "data": {
      "text/plain": [
       "100500"
      ]
     },
     "execution_count": 2,
     "metadata": {},
     "output_type": "execute_result"
    }
   ],
   "source": [
    "sum(list(range(5,1001,5)))"
   ]
  },
  {
   "cell_type": "markdown",
   "metadata": {},
   "source": [
    "- Q.2: 1 から 1000 まで連続した整数の内，7 と 13 の倍数に 1 足した値のみを加算してください（% を用います）．"
   ]
  },
  {
   "cell_type": "code",
   "execution_count": 3,
   "metadata": {},
   "outputs": [
    {
     "data": {
      "text/plain": [
       "104313"
      ]
     },
     "execution_count": 3,
     "metadata": {},
     "output_type": "execute_result"
    }
   ],
   "source": [
    "ret = 0\n",
    "for i in range(1, 1001, 1):\n",
    "    if (i % 7 == 1) or (i % 13 == 1):\n",
    "        ret += i\n",
    "ret"
   ]
  },
  {
   "cell_type": "markdown",
   "metadata": {},
   "source": [
    "- Q.3: 0 から 100 まで連続した整数の2乗根を要素とする，要素数 101 の次のリスト $[\\sqrt{0}, \\sqrt{1}, \\sqrt{2}, \\cdots , \\sqrt{100}]$ を作成してください（.append() を用います）．"
   ]
  },
  {
   "cell_type": "code",
   "execution_count": 4,
   "metadata": {},
   "outputs": [
    {
     "data": {
      "text/plain": [
       "(101, 10.0)"
      ]
     },
     "execution_count": 4,
     "metadata": {},
     "output_type": "execute_result"
    }
   ],
   "source": [
    "ret = []\n",
    "for i in range(101):\n",
    "    ret.append(i**(1/2))\n",
    "len(ret), ret[-1]"
   ]
  },
  {
   "cell_type": "markdown",
   "metadata": {},
   "source": [
    "- Q.4: 1 から 100 まで連続した 100 個の整数に対する標準偏差を求めてください．"
   ]
  },
  {
   "cell_type": "code",
   "execution_count": 5,
   "metadata": {},
   "outputs": [
    {
     "data": {
      "text/plain": [
       "28.86607004772212"
      ]
     },
     "execution_count": 5,
     "metadata": {},
     "output_type": "execute_result"
    }
   ],
   "source": [
    "x = list(range(1,101,1))\n",
    "xbar = sum(x) / len(x)\n",
    "mse = 0\n",
    "for i in range(len(x)):\n",
    "    mse += (x[i] - xbar)**2\n",
    "sigma = (mse / len(x)) ** (1/2)\n",
    "sigma"
   ]
  },
  {
   "cell_type": "markdown",
   "metadata": {},
   "source": [
    "- Q.5: try-except を用いて，次のリスト [1, 2, 3, \"a\"] の総和を取った時，\"数値と文字列の総和は不可\" と表示するように作成しましょう（if でもできますが，try-except を用いてください）．"
   ]
  },
  {
   "cell_type": "code",
   "execution_count": 6,
   "metadata": {},
   "outputs": [
    {
     "name": "stdout",
     "output_type": "stream",
     "text": [
      "数値と文字列の総和は不可\n"
     ]
    }
   ],
   "source": [
    "arr = [1, 2, 3, \"a\"]\n",
    "try:\n",
    "    arr_sum = sum(arr)\n",
    "except Exception:\n",
    "    print(\"数値と文字列の総和は不可\")"
   ]
  },
  {
   "cell_type": "code",
   "execution_count": null,
   "metadata": {},
   "outputs": [],
   "source": []
  }
 ],
 "metadata": {
  "kernelspec": {
   "display_name": "Python 3 (ipykernel)",
   "language": "python",
   "name": "python3"
  },
  "language_info": {
   "codemirror_mode": {
    "name": "ipython",
    "version": 3
   },
   "file_extension": ".py",
   "mimetype": "text/x-python",
   "name": "python",
   "nbconvert_exporter": "python",
   "pygments_lexer": "ipython3",
   "version": "3.8.10"
  }
 },
 "nbformat": 4,
 "nbformat_minor": 4
}
