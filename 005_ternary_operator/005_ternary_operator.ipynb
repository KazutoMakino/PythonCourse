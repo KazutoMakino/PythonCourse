{
  "cells": [
    {
      "cell_type": "markdown",
      "id": "e7f285b3-13dc-440e-bf0e-419d567158f1",
      "metadata": {},
      "source": [
        "# \u4e09\u9805\u6f14\u7b97\u5b50\n",
        "\n",
        "---\n",
        "\n",
        "- ref:\n",
        "    - https://docs.python.org/ja/3/reference/expressions.html\n",
        "    - https://www.python.org/dev/peps/pep-0308/\n",
        "- blog: https://slash-z.com/\n",
        "- github: https://github.com/KazutoMakino/PythonCourses\n",
        "\n",
        "---"
      ]
    },
    {
      "cell_type": "markdown",
      "id": "3f266f5c-fe1b-4d0e-aae8-9dfe522862d3",
      "metadata": {},
      "source": [
        "## if-else \u3092 1 \u30e9\u30a4\u30f3\u3067"
      ]
    },
    {
      "cell_type": "markdown",
      "id": "9e0affea-3dbb-4aec-8280-a7e707d59c68",
      "metadata": {},
      "source": [
        "```\n",
        "if \u6761\u4ef6\u5f0f:\n",
        "    \u771f\u306e\u6642\u306e\u51e6\u7406\n",
        "else:\n",
        "    \u507d\u306e\u6642\u306e\u51e6\u7406\n",
        "```"
      ]
    },
    {
      "cell_type": "markdown",
      "id": "408c0ee7-6c17-40f4-851e-ca2c0bf27f57",
      "metadata": {},
      "source": [
        "\u4e0a\u8a18\u306f\uff0c\u30bb\u30df\u30b3\u30ed\u30f3\u3068\u30a4\u30f3\u30c7\u30f3\u30c8\u30d6\u30ed\u30c3\u30af\u3092\u7528\u3044\u305f\u6761\u4ef6\u5206\u5c90\u306e\u66f8\u304d\u65b9\u3067\u3059\u304c\uff0c\u3053\u308c\u3092\u4e09\u9805\u6f14\u7b97\u5b50\u3092\u7528\u3044\u308b\u3068\uff0c\u4ee5\u4e0b\u306e\u3088\u3046\u306b 1 \u30e9\u30a4\u30f3\u3067\u66f8\u304f\u3053\u3068\u304c\u3067\u304d\u307e\u3059\uff0e"
      ]
    },
    {
      "cell_type": "markdown",
      "id": "4b70b7a2-4d7d-4136-95e5-d21985946b8d",
      "metadata": {},
      "source": [
        "```\n",
        "\u771f\u306e\u6642\u306e\u51e6\u7406 if \u6761\u4ef6\u5f0f else \u507d\u306e\u6642\u306e\u51e6\u7406\n",
        "```"
      ]
    },
    {
      "cell_type": "markdown",
      "id": "7e2a71f1-df8d-427c-b2ac-c840e113933b",
      "metadata": {},
      "source": [
        "\u500b\u4eba\u7684\u306b\u306f\uff0c\u6700\u521d\u306b \"if \u6761\u4ef6\u5f0f else\" \u3092\u66f8\u3044\u3066\uff0c\u305d\u306e\u5f8c\uff0cOK\u3060\u3063\u305f\u51e6\u7406\u306f\u5de6\uff0cNG\u306f\u53f3\u3068\u3044\u3046\u98a8\u306b\u899a\u3048\u3066\u3044\u307e\u3059\uff0e  \n",
        "\u4ee5\u4e0b\u306b\u4f8b\u3092\u793a\u3057\u307e\u3059\uff0e"
      ]
    },
    {
      "cell_type": "code",
      "execution_count": 1,
      "id": "13e55d23-625a-4708-be08-0939dbd6f0e6",
      "metadata": {},
      "outputs": [
        {
          "data": {
            "text/plain": [
              "False"
            ]
          },
          "execution_count": 1,
          "metadata": {},
          "output_type": "execute_result"
        }
      ],
      "source": [
        "a = \"python\"\n",
        "b = \"PYTHON\"\n",
        "c = True if a==b else False\n",
        "c"
      ]
    },
    {
      "cell_type": "markdown",
      "id": "929dc0ce-d8be-43bd-8fd9-5b0038f2656b",
      "metadata": {},
      "source": [
        "\u3053\u306e\u5f0f\u306f\u6b21\u3068\u540c\u3058\u610f\u5473\u3092\u8868\u3057\u307e\u3059\uff0e"
      ]
    },
    {
      "cell_type": "code",
      "execution_count": 2,
      "id": "6cccc4b4-b652-43a5-904c-d4c919a0e10a",
      "metadata": {},
      "outputs": [
        {
          "data": {
            "text/plain": [
              "False"
            ]
          },
          "execution_count": 2,
          "metadata": {},
          "output_type": "execute_result"
        }
      ],
      "source": [
        "if a==b:\n",
        "    c = True\n",
        "else:\n",
        "    c = False\n",
        "c"
      ]
    },
    {
      "cell_type": "markdown",
      "id": "7a056794-0b3d-443f-b092-1faec0e11520",
      "metadata": {},
      "source": [
        "\u3082\u3061\u308d\u3093\u6761\u4ef6\u5f0f\u306f\uff0c\u8ad6\u7406\u6f14\u7b97\u5b50\uff08and, or, &, | \uff09\u3092\u7528\u3044\u3066\u8907\u6570\u6761\u4ef6\u3092\u66f8\u304f\u3053\u3068\u3082\u53ef\u80fd\u3067\u3059\uff0e"
      ]
    },
    {
      "cell_type": "code",
      "execution_count": 3,
      "id": "49ed81da-d8af-4c05-8397-719645916cf8",
      "metadata": {},
      "outputs": [
        {
          "data": {
            "text/plain": [
              "'NG'"
            ]
          },
          "execution_count": 3,
          "metadata": {},
          "output_type": "execute_result"
        }
      ],
      "source": [
        "a = (1, 3, 5, 7, 9)\n",
        "b = 2.5\n",
        "c = \"OK\" if (round(b) in a) or isinstance(a, list) else \"NG\"\n",
        "c"
      ]
    },
    {
      "cell_type": "markdown",
      "id": "a550f9c0-b43c-4ce0-8447-0c622bec20b4",
      "metadata": {},
      "source": [
        "\u3061\u306a\u307f\u306b\uff0cround \u306f\u5076\u6570\u4e38\u3081\u306a\u306e\u3067 round(2.5) -> 2\uff0ca \u306f\u30bf\u30d7\u30eb\u3067\u3059\uff0e"
      ]
    },
    {
      "cell_type": "markdown",
      "id": "186c06f7-6e58-45e2-9892-d7624db255fc",
      "metadata": {},
      "source": [
        "## if-elif-else \u3092 1 \u30e9\u30a4\u30f3\u3067"
      ]
    },
    {
      "cell_type": "markdown",
      "id": "a6c8b98a-ca43-4f84-9100-4c22d89add18",
      "metadata": {},
      "source": [
        "```\n",
        "if \u6761\u4ef6\u5f0f_1:\n",
        "    \u6761\u4ef6\u5f0f_1\u304c\u771f\u306e\u6642\u306e\u51e6\u7406\n",
        "elif \u6761\u4ef6\u5f0f_2:\n",
        "    \u6761\u4ef6\u5f0f_2\u304c\u771f\u306e\u6642\u306e\u51e6\u7406\n",
        "else:\n",
        "    \u4e0a\u8a18\u3059\u3079\u3066\u306e\u6761\u4ef6\u5f0f\u304c\u507d\u306e\u6642\u306e\u51e6\u7406\n",
        "```"
      ]
    },
    {
      "cell_type": "markdown",
      "id": "bc097a53-0954-4b7a-86ce-fb0d165d34ad",
      "metadata": {},
      "source": [
        "\u4e0a\u8a18\u306f\uff0c\u30bb\u30df\u30b3\u30ed\u30f3\u3068\u30a4\u30f3\u30c7\u30f3\u30c8\u30d6\u30ed\u30c3\u30af\u3092\u7528\u3044\u305f if-elif-else \u306e\u66f8\u304d\u65b9\u3067\u3059\u304c\uff0c\u3053\u308c\u3092\u4e09\u9805\u6f14\u7b97\u5b50\u3092\u7528\u3044\u308b\u3068\uff0c\u4ee5\u4e0b\u306e\u3088\u3046\u306b 1 \u30e9\u30a4\u30f3\u3067\u66f8\u304f\u3053\u3068\u304c\u3067\u304d\u307e\u3059\uff0e"
      ]
    },
    {
      "cell_type": "markdown",
      "id": "39e2c7e6-6dd4-47db-8004-f157d11972d4",
      "metadata": {},
      "source": [
        "```\n",
        "\u6761\u4ef6\u5f0f_1\u304c\u771f\u306e\u6642\u306e\u51e6\u7406 if \u6761\u4ef6\u5f0f_1 else \u6761\u4ef6\u5f0f_2\u304c\u771f\u306e\u6642\u306e\u51e6\u7406 if \u6761\u4ef6\u5f0f_2 else \u4e0a\u8a18\u3059\u3079\u3066\u306e\u6761\u4ef6\u5f0f\u304c\u507d\u306e\u6642\u306e\u51e6\u7406\n",
        "```"
      ]
    },
    {
      "cell_type": "markdown",
      "id": "d76e560b-5411-4461-9904-a464dc9bbaf6",
      "metadata": {},
      "source": [
        "\u3082\u3061\u308d\u3093\uff0c\u3053\u306e\u5f8c\u306b\u6761\u4ef6\u5f0f\u3092\u3044\u304f\u3064\u304b\u9023\u306d\u3066\u3082OK\u3067\uff0c\u51e6\u7406\u306f\u524d\u304b\u3089\u5b9f\u884c\u3055\u308c\u307e\u3059\uff0e  \n",
        "\u610f\u5473\u306f\u540c\u3058\u3067\u3059\u304c\uff0cif-else if-else \u3068\u306a\u3063\u3066\u3044\u308b\u306e\u3067\uff0cif-elif-else \u3068\u3044\u3046\u5f62\u3067\u306f\u306a\u304f\u3066\uff0c\u3069\u3061\u3089\u304b\u3068\u3044\u3046\u3068\u4e09\u9805\u6f14\u7b97\u5b50\u306e\u66f8\u304d\u65b9\u306f\uff0c"
      ]
    },
    {
      "cell_type": "markdown",
      "id": "d96fdda3-2f74-425e-8b77-89e4c2da7525",
      "metadata": {},
      "source": [
        "```\n",
        "if \u6761\u4ef6\u5f0f_1:\n",
        "    \u6761\u4ef6\u5f0f_1\u304c\u771f\u306e\u6642\u306e\u51e6\u7406\n",
        "else:\n",
        "    if \u6761\u4ef6\u5f0f_2:\n",
        "        \u6761\u4ef6\u5f0f_2\u304c\u771f\u306e\u6642\u306e\u51e6\u7406\n",
        "    else:\n",
        "        \u4e0a\u8a18\u3059\u3079\u3066\u306e\u6761\u4ef6\u5f0f\u304c\u507d\u306e\u6642\u306e\u51e6\u7406\n",
        "```"
      ]
    },
    {
      "cell_type": "markdown",
      "id": "e0cf0f9d-5a92-4c91-a184-49deb7bec6f5",
      "metadata": {},
      "source": [
        "\u3068\u3044\u3046\u5f62\u306b\u8fd1\u304f\uff0c\u3053\u3061\u3089\u306e\u66f8\u304d\u65b9\u3068\u540c\u3058\u3068\u8a00\u3063\u305f\u307b\u3046\u304c\u30a4\u30e1\u30fc\u30b8\u304c\u3064\u304d\u3084\u3059\u3044\u3067\u3059\u306d\uff0e  \n",
        "\u4ee5\u4e0b\u306b\u4f8b\u3092\u793a\u3057\u307e\u3059\uff0e"
      ]
    },
    {
      "cell_type": "code",
      "execution_count": 4,
      "id": "c3684f26-f6bc-4624-8d11-a2b6c58e6fb7",
      "metadata": {},
      "outputs": [
        {
          "data": {
            "text/plain": [
              "'round(b) is not in a and a is not list'"
            ]
          },
          "execution_count": 4,
          "metadata": {},
          "output_type": "execute_result"
        }
      ],
      "source": [
        "a = (1, 3, 5, 7, 9)\n",
        "b = 2.5\n",
        "c = \"round(b) is in a\" if round(b) in a else \"round(b) is in a and a is list\" if isinstance(a, list) else \"round(b) is not in a and a is not list\"\n",
        "c"
      ]
    },
    {
      "cell_type": "markdown",
      "id": "92ca8f9c-1ed0-46b1-9b03-31e73debdccd",
      "metadata": {},
      "source": [
        "\u3053\u308c\u306f\u4ee5\u4e0b\u306e if-elif-else \u3068\u540c\u3058\u610f\u5473\u3067\u3059\uff0e"
      ]
    },
    {
      "cell_type": "code",
      "execution_count": 5,
      "id": "2987cf8d-86fc-4537-8f1f-5258e1038007",
      "metadata": {},
      "outputs": [
        {
          "data": {
            "text/plain": [
              "'round(b) is not in a and a is not list'"
            ]
          },
          "execution_count": 5,
          "metadata": {},
          "output_type": "execute_result"
        }
      ],
      "source": [
        "if round(b) in a:\n",
        "    c = \"round(b) is in a\"\n",
        "elif isinstance(a, list):\n",
        "    c = \"round(b) is not in a and a is list\"\n",
        "else:\n",
        "    c = \"round(b) is not in a and a is not list\"\n",
        "c"
      ]
    },
    {
      "cell_type": "markdown",
      "id": "42a97b50-f64c-4ddb-baf2-d8554d18c6c7",
      "metadata": {},
      "source": [
        "\u4e0a\u8a18\u306e\u901a\u308a 1 \u30e9\u30a4\u30f3\u3067\u8a18\u8f09\u53ef\u80fd\u3067\u3059\u304c\uff0c1 \u30e9\u30a4\u30f3\u3067\u66f8\u304f\u306b\u306f\u9577\u3059\u304e\u307e\u3059\uff08\u4e09\u9805\u6f14\u7b97\u5b50\u3092\u7528\u3044\u305f\u5834\u5408\u306b\u3064\u3044\u3066\uff0c\u30b9\u30da\u30fc\u30b9\u542b\u3081\u3066 1 \u884c\u306b 149 \u6587\u5b57\u304c\u542b\u307e\u308c\u3066\u3044\u307e\u3059\u304c\uff0c\u30b3\u30fc\u30c7\u30a3\u30f3\u30b0\u898f\u7d04 PEP8\uff1ahttps://pep8-ja.readthedocs.io/ja/latest/\u3000\u3067\u306f 1 \u884c 79 \u6587\u5b57\u307e\u3067\u3068\u3044\u3046\u5236\u9650\u3092\u8a2d\u3051\u3066\u3044\u307e\u3059\uff09\u3057\uff0cif-else \u3068\u6bd4\u3079\u3066\u304b\u306a\u308a\u8aad\u307f\u306b\u304f\u304f\uff0c\u3053\u3046\u3044\u3063\u305f\u5834\u5408\u306f\u666e\u901a\u306b\u30a4\u30f3\u30c7\u30f3\u30c8\u30d6\u30ed\u30c3\u30af\u3092\u7528\u3044\u305f\u65b9\u304c\u826f\u3055\u305d\u3046\u3067\u3059\uff0e"
      ]
    },
    {
      "cell_type": "code",
      "execution_count": 6,
      "id": "4b8cd3f2-7816-438e-ac03-9c0cc4255dbf",
      "metadata": {},
      "outputs": [
        {
          "data": {
            "text/plain": [
              "[0, 1, 2, 3, 4, 4, 4, 4]"
            ]
          },
          "execution_count": 6,
          "metadata": {},
          "output_type": "execute_result"
        }
      ],
      "source": [
        "thres = 4\n",
        "arr = []\n",
        "for i in range(10):\n",
        "    arr.append(i) if i < thres else arr.append(thres) if i < thres*2 else None\n",
        "arr"
      ]
    },
    {
      "cell_type": "markdown",
      "id": "59e28868-f0f1-435b-b03b-ae560f936b10",
      "metadata": {},
      "source": [
        "\u4e0a\u8a18\u306e\u4f8b\u3060\u3068\uff0c1 \u884c\u304c 69 \u6587\u5b57\u3067\u51e6\u7406\u3082\u7c21\u5358\u306a\u306e\u3067\uff0cif-elif-else \u3092 1 \u30e9\u30a4\u30f3\u5316\u3057\u3066\u3082\u826f\u3044\u304b\u3082\u3057\u308c\u307e\u305b\u3093\uff0e"
      ]
    },
    {
      "cell_type": "markdown",
      "id": "03fb31d5-b27c-4a3d-b1ba-f1905f1b7102",
      "metadata": {},
      "source": [
        "\u3068\u3044\u3046\u3053\u3068\u3067\uff0c\u500b\u4eba\u7684\u306b\u4e09\u9805\u6f14\u7b97\u5b50\u3092\u7528\u3044\u305f\u3089\u8f1d\u304f\u51e6\u7406\u3068\u3044\u3046\u306e\u306f\uff0c\u4f55\u304b\uff08\u4f8b\u3048\u3070\u30d5\u30a1\u30a4\u30eb\u3068\u304b\uff09\u304c\u5b58\u5728\u3059\u308b\u304b\u3069\u3046\u304b\u306e\u3068\u304d\u306b yes / no \u3067\u5206\u5c90\u51e6\u7406\u3055\u305b\u308b\u3068\u304d\u3068\u304b\uff0c\u30ea\u30b9\u30c8\u3084\u6587\u5b57\u5217\u3084\u578b\u306e\u6bd4\u8f03\u3068\u304b\uff0c\u95be\u5024\u306b\u3088\u3063\u3066\u8fd4\u3059\u5024\u3092\u5909\u3048\u308b\u6642\u306b\u4f7f\u3046\uff0c\u3068\u3044\u3063\u305f\u30a4\u30e1\u30fc\u30b8\u3067\u3059\uff0e"
      ]
    },
    {
      "cell_type": "markdown",
      "id": "2b9947dd-2026-49b4-a3ec-92e7dd2102f1",
      "metadata": {},
      "source": [
        "\u3042\u3068\u306f\uff0c\u5185\u5305\u8868\u8a18\u3068\u4e09\u9805\u6f14\u7b97\u5b50\u3092\u7d44\u307f\u5408\u308f\u305b\u308b\u3053\u3068\u3067 for \u3068 if \u304c\u5408\u4f53\u3057\u305f\u51e6\u7406\u3092 1 \u30e9\u30a4\u30f3\u306b\u3066\u66f8\u304f\u3053\u3068\u304c\u3067\u304d\uff0c\u305d\u306e\u6642\u306b\u7528\u3044\u307e\u3059\u304c\uff0c\u8a73\u3057\u304f\u306f\u5185\u5305\u8868\u8a18\u306e\u30da\u30fc\u30b8\u306b\u8a18\u8f09\u3044\u305f\u3057\u307e\u3059\uff0e"
      ]
    },
    {
      "cell_type": "code",
      "execution_count": null,
      "id": "12aad5e7-68b2-486d-bb5c-e1d74c70ce78",
      "metadata": {},
      "outputs": [],
      "source": []
    }
  ],
  "metadata": {
    "kernelspec": {
      "display_name": "Python 3 (ipykernel)",
      "language": "python",
      "name": "python3"
    },
    "language_info": {
      "codemirror_mode": {
        "name": "ipython",
        "version": 3
      },
      "file_extension": ".py",
      "mimetype": "text/x-python",
      "name": "python",
      "nbconvert_exporter": "python",
      "pygments_lexer": "ipython3",
      "version": "3.8.10"
    }
  },
  "nbformat": 4,
  "nbformat_minor": 5
}
