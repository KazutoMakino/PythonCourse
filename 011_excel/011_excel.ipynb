{
 "cells": [
  {
   "cell_type": "markdown",
   "metadata": {},
   "source": [
    "# Python で excel を半自動化\n",
    "\n",
    "- ref: https://openpyxl.readthedocs.io/en/stable/\n",
    "- blog: https://slash-z.com/\n",
    "- github: https://github.com/KazutoMakino/PythonCourses\n",
    "\n",
    "---"
   ]
  },
  {
   "cell_type": "markdown",
   "metadata": {},
   "source": [
    "## ライブラリのインストール"
   ]
  },
  {
   "cell_type": "markdown",
   "metadata": {},
   "source": [
    "以下で pip install しましょう．"
   ]
  },
  {
   "cell_type": "markdown",
   "metadata": {},
   "source": [
    "```bash\n",
    "pip install numpy pandas openpyxl xlrd xlwt\n",
    "```"
   ]
  },
  {
   "cell_type": "markdown",
   "metadata": {},
   "source": [
    "## 書き込み・読み込みは pandas / openpyxl"
   ]
  },
  {
   "cell_type": "markdown",
   "metadata": {},
   "source": [
    "excel ファイルへの書き込み，及び excel ファイルの読み込みは，pandas / openpyxl を用いることで可能です．  \n",
    "まずは，書き込む用のデータを，例えば以下にて生成します．"
   ]
  },
  {
   "cell_type": "code",
   "execution_count": 2,
   "metadata": {},
   "outputs": [],
   "source": [
    "import pandas as pd\n",
    "import numpy as np"
   ]
  },
  {
   "cell_type": "code",
   "execution_count": 3,
   "metadata": {},
   "outputs": [
    {
     "data": {
      "text/html": [
       "<div>\n",
       "<style scoped>\n",
       "    .dataframe tbody tr th:only-of-type {\n",
       "        vertical-align: middle;\n",
       "    }\n",
       "\n",
       "    .dataframe tbody tr th {\n",
       "        vertical-align: top;\n",
       "    }\n",
       "\n",
       "    .dataframe thead th {\n",
       "        text-align: right;\n",
       "    }\n",
       "</style>\n",
       "<table border=\"1\" class=\"dataframe\">\n",
       "  <thead>\n",
       "    <tr style=\"text-align: right;\">\n",
       "      <th></th>\n",
       "      <th>0</th>\n",
       "      <th>1</th>\n",
       "      <th>2</th>\n",
       "      <th>3</th>\n",
       "      <th>4</th>\n",
       "    </tr>\n",
       "  </thead>\n",
       "  <tbody>\n",
       "    <tr>\n",
       "      <th>0</th>\n",
       "      <td>0</td>\n",
       "      <td>1</td>\n",
       "      <td>2</td>\n",
       "      <td>3</td>\n",
       "      <td>4</td>\n",
       "    </tr>\n",
       "    <tr>\n",
       "      <th>1</th>\n",
       "      <td>5</td>\n",
       "      <td>6</td>\n",
       "      <td>7</td>\n",
       "      <td>8</td>\n",
       "      <td>9</td>\n",
       "    </tr>\n",
       "    <tr>\n",
       "      <th>2</th>\n",
       "      <td>10</td>\n",
       "      <td>11</td>\n",
       "      <td>12</td>\n",
       "      <td>13</td>\n",
       "      <td>14</td>\n",
       "    </tr>\n",
       "    <tr>\n",
       "      <th>3</th>\n",
       "      <td>15</td>\n",
       "      <td>16</td>\n",
       "      <td>17</td>\n",
       "      <td>18</td>\n",
       "      <td>19</td>\n",
       "    </tr>\n",
       "  </tbody>\n",
       "</table>\n",
       "</div>"
      ],
      "text/plain": [
       "    0   1   2   3   4\n",
       "0   0   1   2   3   4\n",
       "1   5   6   7   8   9\n",
       "2  10  11  12  13  14\n",
       "3  15  16  17  18  19"
      ]
     },
     "execution_count": 3,
     "metadata": {},
     "output_type": "execute_result"
    }
   ],
   "source": [
    "df_src = pd.DataFrame(data=np.arange(0, 4*5).reshape(4, 5))\n",
    "df_src"
   ]
  },
  {
   "cell_type": "markdown",
   "metadata": {},
   "source": [
    "pandas では，pandas.DataFrame オブジェクトに対して .to_excel メソッドにより excel 出力が可能です．"
   ]
  },
  {
   "cell_type": "code",
   "execution_count": 4,
   "metadata": {},
   "outputs": [],
   "source": [
    "df_src.to_excel(\"./data_00.xlsx\")"
   ]
  },
  {
   "cell_type": "markdown",
   "metadata": {},
   "source": [
    "上で作成した `data_00.xlsx` について，早速開いてみましょう．  \n",
    "もちろん，excel が無い方は，無料でインストール不要な google のスプレッドシートなどでも問題ありません（僕も個人持ち PC には MS Office が入っていなく，購入時に付属していた KINGSOFT の WPS Spredsheets にて以下動作確認しています）．  \n",
    "手持ちのソフトの関係上なんか緑色に塗られていますが，以下のような出力が得られたと思います．"
   ]
  },
  {
   "cell_type": "markdown",
   "metadata": {},
   "source": [
    "![./img/data_00.jpg](./img/data_00.jpg)"
   ]
  },
  {
   "cell_type": "markdown",
   "metadata": {},
   "source": [
    "インデックスとカラムの先頭が太字で罫線有りになっていますが，修正方法については後回しにします．  \n",
    ".to_excel にて行番号が不要であれば，引数 index に False を渡すことでこの列を無視できます．"
   ]
  },
  {
   "cell_type": "code",
   "execution_count": 5,
   "metadata": {},
   "outputs": [],
   "source": [
    "df_src.to_excel(\"./data_01.xlsx\", index=False)"
   ]
  },
  {
   "cell_type": "markdown",
   "metadata": {},
   "source": [
    "![./img/data_01.jpg](./img/data_01.jpg)"
   ]
  },
  {
   "cell_type": "markdown",
   "metadata": {},
   "source": [
    "また，引数でシート名やカラム名なしなどいろいろ設定が可能ですが，今回は割愛します．  \n",
    "作成した .xlsx ファイルは，pandas.read_excel にて読み込むことができます (https://pandas.pydata.org/docs/reference/api/pandas.DataFrame.to_excel.html)．"
   ]
  },
  {
   "cell_type": "code",
   "execution_count": 6,
   "metadata": {},
   "outputs": [
    {
     "data": {
      "text/html": [
       "<div>\n",
       "<style scoped>\n",
       "    .dataframe tbody tr th:only-of-type {\n",
       "        vertical-align: middle;\n",
       "    }\n",
       "\n",
       "    .dataframe tbody tr th {\n",
       "        vertical-align: top;\n",
       "    }\n",
       "\n",
       "    .dataframe thead th {\n",
       "        text-align: right;\n",
       "    }\n",
       "</style>\n",
       "<table border=\"1\" class=\"dataframe\">\n",
       "  <thead>\n",
       "    <tr style=\"text-align: right;\">\n",
       "      <th></th>\n",
       "      <th>0</th>\n",
       "      <th>1</th>\n",
       "      <th>2</th>\n",
       "      <th>3</th>\n",
       "      <th>4</th>\n",
       "    </tr>\n",
       "  </thead>\n",
       "  <tbody>\n",
       "    <tr>\n",
       "      <th>0</th>\n",
       "      <td>0</td>\n",
       "      <td>1</td>\n",
       "      <td>2</td>\n",
       "      <td>3</td>\n",
       "      <td>4</td>\n",
       "    </tr>\n",
       "    <tr>\n",
       "      <th>1</th>\n",
       "      <td>5</td>\n",
       "      <td>6</td>\n",
       "      <td>7</td>\n",
       "      <td>8</td>\n",
       "      <td>9</td>\n",
       "    </tr>\n",
       "    <tr>\n",
       "      <th>2</th>\n",
       "      <td>10</td>\n",
       "      <td>11</td>\n",
       "      <td>12</td>\n",
       "      <td>13</td>\n",
       "      <td>14</td>\n",
       "    </tr>\n",
       "    <tr>\n",
       "      <th>3</th>\n",
       "      <td>15</td>\n",
       "      <td>16</td>\n",
       "      <td>17</td>\n",
       "      <td>18</td>\n",
       "      <td>19</td>\n",
       "    </tr>\n",
       "  </tbody>\n",
       "</table>\n",
       "</div>"
      ],
      "text/plain": [
       "    0   1   2   3   4\n",
       "0   0   1   2   3   4\n",
       "1   5   6   7   8   9\n",
       "2  10  11  12  13  14\n",
       "3  15  16  17  18  19"
      ]
     },
     "execution_count": 6,
     "metadata": {},
     "output_type": "execute_result"
    }
   ],
   "source": [
    "tmp = pd.read_excel(\"./data_01.xlsx\")\n",
    "tmp"
   ]
  },
  {
   "cell_type": "markdown",
   "metadata": {},
   "source": [
    "非常に簡単ですね．  \n",
    "これまた，読み込むシートを指定できたり，読み込み始める先頭を指定できたりといった色々な操作を，引数を与えることで可能となっています (https://pandas.pydata.org/docs/reference/api/pandas.read_excel.html)．  \n",
    "（pandas を用いた複数シートへの保存は後述します）"
   ]
  },
  {
   "cell_type": "markdown",
   "metadata": {},
   "source": [
    "次に openpyxl による excel ファイルの読み書きです．  \n",
    "基本的には openpyxl の workbook という excel ファイル全体となるオブジェクトを作成し，この属性の sheet というシートの中の cell であったり色んな属性やメソッドを操作していく使い方です．  \n",
    "まずはインポートしましょう．  \n",
    "よく使うのは Workbook クラスなので，はじめにこれをインポートしています．"
   ]
  },
  {
   "cell_type": "code",
   "execution_count": 7,
   "metadata": {},
   "outputs": [],
   "source": [
    "from openpyxl import Workbook"
   ]
  },
  {
   "cell_type": "markdown",
   "metadata": {},
   "source": [
    "openpyxl で excel ファイルを出力してみましょう．  \n",
    "流れとしては Workbook オブジェクトを定義し，これについて情報を付加していき，.save メソッドにてファイル出力します．"
   ]
  },
  {
   "cell_type": "code",
   "execution_count": 8,
   "metadata": {},
   "outputs": [],
   "source": [
    "# Workbook オブジェクトを定義\n",
    "wb = Workbook()\n",
    "# sheet オブジェクトをインスタンス化 (Workbook が定義された時点で \"sheet\" というシートが作成される)\n",
    "ws = wb.active\n",
    "# もとからある \"sheet\" の名前を変更\n",
    "ws.title = \"hello\"\n",
    "# 番地 A1 に world を記入\n",
    "ws[\"A1\"] = \"world\"\n",
    "# 保存\n",
    "wb.save(\"./data_02.xlsx\")"
   ]
  },
  {
   "cell_type": "markdown",
   "metadata": {},
   "source": [
    "![./img/data_02.jpg](./img/data_02.jpg)"
   ]
  },
  {
   "cell_type": "markdown",
   "metadata": {},
   "source": [
    "出力されたファイルを見ると，hello という名前のシートの A1 に world という文字列が記載されています．  \n",
    "インスタンス化した Workbook オブジェクトについて，変な操作を加えたくない場合は，いったん .close() しておきましょう．"
   ]
  },
  {
   "cell_type": "code",
   "execution_count": 9,
   "metadata": {},
   "outputs": [],
   "source": [
    "wb.close()"
   ]
  },
  {
   "cell_type": "markdown",
   "metadata": {},
   "source": [
    "次に，この出力を openpyxl で読み込んでみましょう．  \n",
    "openpyxl の load_workbook を用います．"
   ]
  },
  {
   "cell_type": "code",
   "execution_count": 10,
   "metadata": {},
   "outputs": [],
   "source": [
    "from openpyxl import load_workbook"
   ]
  },
  {
   "cell_type": "code",
   "execution_count": 11,
   "metadata": {},
   "outputs": [
    {
     "data": {
      "text/plain": [
       "['hello']"
      ]
     },
     "execution_count": 11,
     "metadata": {},
     "output_type": "execute_result"
    }
   ],
   "source": [
    "wb = load_workbook(\"./data_02.xlsx\")\n",
    "wb.sheetnames"
   ]
  },
  {
   "cell_type": "markdown",
   "metadata": {},
   "source": [
    "これだけです．  \n",
    "2 行目のコードは，ブックのシート名称をリストにて取得しています．"
   ]
  },
  {
   "cell_type": "markdown",
   "metadata": {},
   "source": [
    "## 基本操作：シートの追加"
   ]
  },
  {
   "cell_type": "markdown",
   "metadata": {},
   "source": [
    "シートを追加する場合は，Workbook オブジェクトの .create_sheet メソッドを用いたり，pandas.ExcelWriter オブジェクトを使って pandas.DataFrame.to_excel(pandas.ExcelWriter({file_path}), sheet_name={sheet_name}, mode=\"a\") で追加するという複数の手段があります．  \n",
    "このとき，pandas.ExcelWriter(*, mode=\"a\") という風に，追加する場合は mode=\"a\" とすることに注意しましょう．"
   ]
  },
  {
   "cell_type": "code",
   "execution_count": 12,
   "metadata": {},
   "outputs": [
    {
     "name": "stdout",
     "output_type": "stream",
     "text": [
      "['Sheet', '2nd']\n",
      "['Sheet', '2nd', '3', '4枚目']\n"
     ]
    }
   ],
   "source": [
    "# Workbook 定義\n",
    "wb = Workbook()\n",
    "# シートのインスタンス化\n",
    "ws = wb.active\n",
    "# 適当に記入 (数式は文字列で記入)\n",
    "ws[\"a1\"] = 0\n",
    "ws[\"b3\"] = \"openpyxl\"\n",
    "ws[\"c2\"] = \"=sum(a2:a4)\"\n",
    "# セルに対する操作は worksheet.cell を用い，引数 row, column に行番号と列番号を渡します\n",
    "# 上記で定義したセルに値を代入したい場合は，.value 属性に対して値を代入します\n",
    "ws.cell(row=8, column=5).value = \"ws.cell(row=8, column=5)\"\n",
    "# 2 枚目以降のシートは .create_sheet にて追加\n",
    "ws2 = wb.create_sheet(title=\"2nd\")\n",
    "# 適当に記入\n",
    "for i in range(5):\n",
    "    ws2[f\"b{i+1}\"] = i\n",
    "# 保存\n",
    "wb.save(\"./data_03.xlsx\")\n",
    "# シート名を表示\n",
    "print(wb.sheetnames)\n",
    "\n",
    "# pandas でシートを追加 (mode=\"a\" とすることで，既存ファイルに追記)\n",
    "with pd.ExcelWriter(\"./data_03.xlsx\", mode=\"a\") as w:\n",
    "    df_src.to_excel(w, sheet_name=\"3\", index=False)\n",
    "    df_src.describe().to_excel(w, sheet_name=\"4枚目\")\n",
    "\n",
    "# シート名称を表示（pandas を用いた．pandas.ExcelFile で openpyxl の Workbook のようにも使えます）\n",
    "print(pd.ExcelFile(\"./data_03.xlsx\").sheet_names)"
   ]
  },
  {
   "cell_type": "markdown",
   "metadata": {},
   "source": [
    "`./data_03.xlsx` を開くと，各シートが以下のようになります．"
   ]
  },
  {
   "cell_type": "markdown",
   "metadata": {},
   "source": [
    "![./img/data_03-1.jpg](./img/data_03-1.jpg)  \n",
    "![./img/data_03-2.jpg](./img/data_03-2.jpg)  \n",
    "![./img/data_03-3.jpg](./img/data_03-3.jpg)  \n",
    "![./img/data_03-4.jpg](./img/data_03-4.jpg)"
   ]
  },
  {
   "cell_type": "markdown",
   "metadata": {},
   "source": [
    "## pandas でシートを指定して読み込み"
   ]
  },
  {
   "cell_type": "markdown",
   "metadata": {},
   "source": [
    "pandas.read_excel にて，引数 sheet_name に文字列で名称を指定するか，何枚目のシートかを int で指定することにより，任意のシートの情報を取得することが可能です．"
   ]
  },
  {
   "cell_type": "code",
   "execution_count": 15,
   "metadata": {},
   "outputs": [
    {
     "data": {
      "text/html": [
       "<div>\n",
       "<style scoped>\n",
       "    .dataframe tbody tr th:only-of-type {\n",
       "        vertical-align: middle;\n",
       "    }\n",
       "\n",
       "    .dataframe tbody tr th {\n",
       "        vertical-align: top;\n",
       "    }\n",
       "\n",
       "    .dataframe thead th {\n",
       "        text-align: right;\n",
       "    }\n",
       "</style>\n",
       "<table border=\"1\" class=\"dataframe\">\n",
       "  <thead>\n",
       "    <tr style=\"text-align: right;\">\n",
       "      <th></th>\n",
       "      <th>0</th>\n",
       "      <th>1</th>\n",
       "      <th>2</th>\n",
       "      <th>3</th>\n",
       "      <th>4</th>\n",
       "    </tr>\n",
       "  </thead>\n",
       "  <tbody>\n",
       "    <tr>\n",
       "      <th>0</th>\n",
       "      <td>0</td>\n",
       "      <td>1</td>\n",
       "      <td>2</td>\n",
       "      <td>3</td>\n",
       "      <td>4</td>\n",
       "    </tr>\n",
       "    <tr>\n",
       "      <th>1</th>\n",
       "      <td>5</td>\n",
       "      <td>6</td>\n",
       "      <td>7</td>\n",
       "      <td>8</td>\n",
       "      <td>9</td>\n",
       "    </tr>\n",
       "    <tr>\n",
       "      <th>2</th>\n",
       "      <td>10</td>\n",
       "      <td>11</td>\n",
       "      <td>12</td>\n",
       "      <td>13</td>\n",
       "      <td>14</td>\n",
       "    </tr>\n",
       "    <tr>\n",
       "      <th>3</th>\n",
       "      <td>15</td>\n",
       "      <td>16</td>\n",
       "      <td>17</td>\n",
       "      <td>18</td>\n",
       "      <td>19</td>\n",
       "    </tr>\n",
       "  </tbody>\n",
       "</table>\n",
       "</div>"
      ],
      "text/plain": [
       "    0   1   2   3   4\n",
       "0   0   1   2   3   4\n",
       "1   5   6   7   8   9\n",
       "2  10  11  12  13  14\n",
       "3  15  16  17  18  19"
      ]
     },
     "execution_count": 15,
     "metadata": {},
     "output_type": "execute_result"
    }
   ],
   "source": [
    "pd.read_excel(\"./data_03.xlsx\", sheet_name=\"3\")"
   ]
  },
  {
   "cell_type": "code",
   "execution_count": 16,
   "metadata": {},
   "outputs": [
    {
     "data": {
      "text/html": [
       "<div>\n",
       "<style scoped>\n",
       "    .dataframe tbody tr th:only-of-type {\n",
       "        vertical-align: middle;\n",
       "    }\n",
       "\n",
       "    .dataframe tbody tr th {\n",
       "        vertical-align: top;\n",
       "    }\n",
       "\n",
       "    .dataframe thead th {\n",
       "        text-align: right;\n",
       "    }\n",
       "</style>\n",
       "<table border=\"1\" class=\"dataframe\">\n",
       "  <thead>\n",
       "    <tr style=\"text-align: right;\">\n",
       "      <th></th>\n",
       "      <th>Unnamed: 0</th>\n",
       "      <th>0</th>\n",
       "      <th>1</th>\n",
       "      <th>2</th>\n",
       "      <th>3</th>\n",
       "      <th>4</th>\n",
       "    </tr>\n",
       "  </thead>\n",
       "  <tbody>\n",
       "    <tr>\n",
       "      <th>0</th>\n",
       "      <td>count</td>\n",
       "      <td>4.000000</td>\n",
       "      <td>4.000000</td>\n",
       "      <td>4.000000</td>\n",
       "      <td>4.000000</td>\n",
       "      <td>4.000000</td>\n",
       "    </tr>\n",
       "    <tr>\n",
       "      <th>1</th>\n",
       "      <td>mean</td>\n",
       "      <td>7.500000</td>\n",
       "      <td>8.500000</td>\n",
       "      <td>9.500000</td>\n",
       "      <td>10.500000</td>\n",
       "      <td>11.500000</td>\n",
       "    </tr>\n",
       "    <tr>\n",
       "      <th>2</th>\n",
       "      <td>std</td>\n",
       "      <td>6.454972</td>\n",
       "      <td>6.454972</td>\n",
       "      <td>6.454972</td>\n",
       "      <td>6.454972</td>\n",
       "      <td>6.454972</td>\n",
       "    </tr>\n",
       "    <tr>\n",
       "      <th>3</th>\n",
       "      <td>min</td>\n",
       "      <td>0.000000</td>\n",
       "      <td>1.000000</td>\n",
       "      <td>2.000000</td>\n",
       "      <td>3.000000</td>\n",
       "      <td>4.000000</td>\n",
       "    </tr>\n",
       "    <tr>\n",
       "      <th>4</th>\n",
       "      <td>25%</td>\n",
       "      <td>3.750000</td>\n",
       "      <td>4.750000</td>\n",
       "      <td>5.750000</td>\n",
       "      <td>6.750000</td>\n",
       "      <td>7.750000</td>\n",
       "    </tr>\n",
       "    <tr>\n",
       "      <th>5</th>\n",
       "      <td>50%</td>\n",
       "      <td>7.500000</td>\n",
       "      <td>8.500000</td>\n",
       "      <td>9.500000</td>\n",
       "      <td>10.500000</td>\n",
       "      <td>11.500000</td>\n",
       "    </tr>\n",
       "    <tr>\n",
       "      <th>6</th>\n",
       "      <td>75%</td>\n",
       "      <td>11.250000</td>\n",
       "      <td>12.250000</td>\n",
       "      <td>13.250000</td>\n",
       "      <td>14.250000</td>\n",
       "      <td>15.250000</td>\n",
       "    </tr>\n",
       "    <tr>\n",
       "      <th>7</th>\n",
       "      <td>max</td>\n",
       "      <td>15.000000</td>\n",
       "      <td>16.000000</td>\n",
       "      <td>17.000000</td>\n",
       "      <td>18.000000</td>\n",
       "      <td>19.000000</td>\n",
       "    </tr>\n",
       "  </tbody>\n",
       "</table>\n",
       "</div>"
      ],
      "text/plain": [
       "  Unnamed: 0          0          1          2          3          4\n",
       "0      count   4.000000   4.000000   4.000000   4.000000   4.000000\n",
       "1       mean   7.500000   8.500000   9.500000  10.500000  11.500000\n",
       "2        std   6.454972   6.454972   6.454972   6.454972   6.454972\n",
       "3        min   0.000000   1.000000   2.000000   3.000000   4.000000\n",
       "4        25%   3.750000   4.750000   5.750000   6.750000   7.750000\n",
       "5        50%   7.500000   8.500000   9.500000  10.500000  11.500000\n",
       "6        75%  11.250000  12.250000  13.250000  14.250000  15.250000\n",
       "7        max  15.000000  16.000000  17.000000  18.000000  19.000000"
      ]
     },
     "execution_count": 16,
     "metadata": {},
     "output_type": "execute_result"
    }
   ],
   "source": [
    "pd.read_excel(\"./data_03.xlsx\", sheet_name=3)"
   ]
  },
  {
   "cell_type": "markdown",
   "metadata": {},
   "source": [
    "上記の例で，上段は \"3\" というシートが 3 枚目にあってそれを読み込んでいるのと，下段は 0 から数えて 3 は 4 つめなので 4 枚目のシートを読み込んでいます．  \n",
    "シート名称で指定する場合に名称一覧が必要になりますが，これについては，pandas.ExcelFile(*).sheet_names で確認するのが手っ取り早いでしょう．"
   ]
  },
  {
   "cell_type": "code",
   "execution_count": 18,
   "metadata": {},
   "outputs": [
    {
     "data": {
      "text/plain": [
       "['Sheet', '2nd', '3', '4枚目']"
      ]
     },
     "execution_count": 18,
     "metadata": {},
     "output_type": "execute_result"
    }
   ],
   "source": [
    "pd.ExcelFile(\"./data_03.xlsx\").sheet_names"
   ]
  },
  {
   "cell_type": "markdown",
   "metadata": {},
   "source": [
    ".xlsx ファイル全体をざっと概観したい場合は，次のように for を用いて表示しても良いかもしれません．  \n",
    "重量級な .xlsx であれば，以下最終行の read_excel() の後に .head(3) とか .tail(3) とかするのも良いでしょう．"
   ]
  },
  {
   "cell_type": "code",
   "execution_count": 22,
   "metadata": {},
   "outputs": [
    {
     "name": "stdout",
     "output_type": "stream",
     "text": [
      "\n",
      "*** sheet: Sheet\n",
      "    0 Unnamed: 1  Unnamed: 2  Unnamed: 3                Unnamed: 4\n",
      "0 NaN        NaN         NaN         NaN                       NaN\n",
      "1 NaN   openpyxl         NaN         NaN                       NaN\n",
      "2 NaN        NaN         NaN         NaN                       NaN\n",
      "3 NaN        NaN         NaN         NaN                       NaN\n",
      "4 NaN        NaN         NaN         NaN                       NaN\n",
      "5 NaN        NaN         NaN         NaN                       NaN\n",
      "6 NaN        NaN         NaN         NaN  ws.cell(row=8, column=5)\n",
      "\n",
      "*** sheet: 2nd\n",
      "   Unnamed: 0  0\n",
      "0         NaN  1\n",
      "1         NaN  2\n",
      "2         NaN  3\n",
      "3         NaN  4\n",
      "\n",
      "*** sheet: 3\n",
      "    0   1   2   3   4\n",
      "0   0   1   2   3   4\n",
      "1   5   6   7   8   9\n",
      "2  10  11  12  13  14\n",
      "3  15  16  17  18  19\n",
      "\n",
      "*** sheet: 4枚目\n",
      "  Unnamed: 0          0          1          2          3          4\n",
      "0      count   4.000000   4.000000   4.000000   4.000000   4.000000\n",
      "1       mean   7.500000   8.500000   9.500000  10.500000  11.500000\n",
      "2        std   6.454972   6.454972   6.454972   6.454972   6.454972\n",
      "3        min   0.000000   1.000000   2.000000   3.000000   4.000000\n",
      "4        25%   3.750000   4.750000   5.750000   6.750000   7.750000\n",
      "5        50%   7.500000   8.500000   9.500000  10.500000  11.500000\n",
      "6        75%  11.250000  12.250000  13.250000  14.250000  15.250000\n",
      "7        max  15.000000  16.000000  17.000000  18.000000  19.000000\n"
     ]
    }
   ],
   "source": [
    "file_path = \"./data_03.xlsx\"\n",
    "\n",
    "names = pd.ExcelFile(file_path).sheet_names\n",
    "\n",
    "for name in names:\n",
    "    print(f\"\\n*** sheet: {name}\")\n",
    "    print(pd.read_excel(file_path, sheet_name=name))"
   ]
  },
  {
   "cell_type": "markdown",
   "metadata": {},
   "source": [
    "処理速度としては，excel を立ち上げている時間内で出力されるほど爆速です．  \n",
    "注意として，巨大な .csv ファイルを読み込むのと違って，巨大な .xlsx ファイルを読み込む場合には時間がかかることがあります．  \n",
    "あとは，シート内に表が複数点在しているような素直でないシートの場合は，上記では満足に可視化することはできないかもしれません．"
   ]
  },
  {
   "cell_type": "markdown",
   "metadata": {},
   "source": [
    "## pandas.to_excel で先頭が太字・罫線になることの修正"
   ]
  },
  {
   "cell_type": "markdown",
   "metadata": {},
   "source": [
    "pandas.to_excel にて容易にシート作成ができましたが，先頭のセルが勝手に太字になったり，罫線が付いたりすることについて好みでない場合は，cell の font / border を適用することで解決できます．  \n",
    "font, border 属性には他にも色々設定できます．  \n",
    "以下でやってみます．"
   ]
  },
  {
   "cell_type": "code",
   "execution_count": 23,
   "metadata": {},
   "outputs": [],
   "source": [
    "from openpyxl import styles"
   ]
  },
  {
   "cell_type": "code",
   "execution_count": 35,
   "metadata": {},
   "outputs": [],
   "source": [
    "# 任意の font 属性を定義\n",
    "font_normal = styles.Font(\n",
    "    name=\"Arial\", size=11, bold=False, italic=False, underline=\"none\", color=\"FF000000\"\n",
    ")\n",
    "# 任意の border 属性を定義\n",
    "border_normal = styles.Border(left=None, right=None, top=None, bottom=None, diagonal=None)\n",
    "# 上記を cell の font / border 属性にそれぞれ代入します\n",
    "\n",
    "# ファイル名定義\n",
    "f_path = \"./data_04.xlsx\"\n",
    "# ファイル作成と保存\n",
    "pd.DataFrame(data={\"aaa\": range(3), \"bb\": range(3)}).to_excel(f_path, index=False, sheet_name=\"01\")\n",
    "# openpyxl で読み込み\n",
    "wb = load_workbook(f_path)\n",
    "# シート \"01\" をインスタンス化\n",
    "ws = wb[\"01\"]\n",
    "# cell の font / border 属性にそれぞれ代入\n",
    "ws.cell(row=1, column=1).font = font_normal\n",
    "ws.cell(row=1, column=1).border = border_normal\n",
    "# 保存\n",
    "wb.save(f_path)"
   ]
  },
  {
   "cell_type": "markdown",
   "metadata": {},
   "source": [
    "![./img/data_04.jpg](./img/data_04.jpg)"
   ]
  },
  {
   "cell_type": "markdown",
   "metadata": {},
   "source": [
    "A1 において，指定したフォントと罫線になっています．  \n",
    "しかし，それ以外は設定が反映されていません．  \n",
    "こういう場合は，値が入力されている範囲を取得し，全セルに対して font / border に代入していきましょう．  \n",
    "値があるセルの行・列番号の最大・最小値は，sheet 属性の max_row, min_row, max_column, min_column にてそれぞれ取得できます．"
   ]
  },
  {
   "cell_type": "code",
   "execution_count": 37,
   "metadata": {},
   "outputs": [],
   "source": [
    "# \"./data_04.xlsx\" を読み込んでシート \"01\" をインスタンス化\n",
    "wb = load_workbook(\"./data_04.xlsx\")\n",
    "ws = wb[\"01\"]\n",
    "# 値があるセルの行・列番号の最大・最小値を取得\n",
    "min_row, max_row = ws.min_row, ws.max_row\n",
    "min_column, max_column = ws.min_column, ws.max_column\n",
    "# 上記を用いて for 文で cell 一つずつに style を代入\n",
    "for row in range(min_row, max_row + 1):\n",
    "    for column in range(min_column, max_column + 1):\n",
    "        ws.cell(row=row, column=column).font = font_normal\n",
    "        ws.cell(row=row, column=column).border = border_normal\n",
    "# 保存\n",
    "wb.save(\"./data_05.xlsx\")"
   ]
  },
  {
   "cell_type": "markdown",
   "metadata": {},
   "source": [
    "![./img/data_05.jpg](./img/data_05.jpg)"
   ]
  },
  {
   "cell_type": "markdown",
   "metadata": {},
   "source": [
    "これですべてのセルのフォント・罫線が設定できるようになりました．"
   ]
  },
  {
   "cell_type": "markdown",
   "metadata": {},
   "source": [
    "## 行高さ／列幅の修正"
   ]
  },
  {
   "cell_type": "markdown",
   "metadata": {},
   "source": [
    "カラム名や要素の値が長いとセルからはみ出してしまうので，行の高さだったり列の幅を指定したい場合もあると思います．  \n",
    "そういうときは，sheet オブジェクトの row_dimensions[行名称].height / column_dimensions[列名称].width に値を代入することで調整できます．  \n",
    "ここで，注意としては列を名称にて指定する必要が有ることです．"
   ]
  },
  {
   "cell_type": "code",
   "execution_count": 43,
   "metadata": {},
   "outputs": [
    {
     "data": {
      "text/plain": [
       "(1, 2)"
      ]
     },
     "execution_count": 43,
     "metadata": {},
     "output_type": "execute_result"
    }
   ],
   "source": [
    "min_column, max_column"
   ]
  },
  {
   "cell_type": "code",
   "execution_count": 45,
   "metadata": {},
   "outputs": [],
   "source": [
    "# \"./data_05.xlsx\" を読み込んでシート \"01\" をインスタンス化\n",
    "wb = load_workbook(\"./data_05.xlsx\")\n",
    "ws = wb[\"01\"]\n",
    "# 値があるセルの行・列番号の最大・最小値を取得\n",
    "min_row, max_row = ws.min_row, ws.max_row\n",
    "min_column, max_column = ws.min_column, ws.max_column\n",
    "# 値がある列の名称を取得\n",
    "columns = [ws.cell(row=min_row, column=v).column_letter for v in range(min_row, max_row + 1)]\n",
    "# 上記を用いて for 文で行の高さ・列の幅を行・列ごとに代入していきます\n",
    "for row in range(min_row, max_row + 1):\n",
    "    ws.row_dimensions[row].height = 15\n",
    "for column in columns:\n",
    "    ws.column_dimensions[column].width = 15\n",
    "# 保存\n",
    "wb.save(\"./data_06.xlsx\")"
   ]
  },
  {
   "cell_type": "markdown",
   "metadata": {},
   "source": [
    "![./img/data_06.jpg](./img/data_06.jpg)"
   ]
  },
  {
   "cell_type": "markdown",
   "metadata": {},
   "source": [
    "無事，行高さと列幅を調整することができました．"
   ]
  },
  {
   "cell_type": "markdown",
   "metadata": {},
   "source": [
    "## excel 上にグラフを作成"
   ]
  },
  {
   "cell_type": "markdown",
   "metadata": {},
   "source": [
    "Python でグラフ作成というと matplotlib や seaborn，plotly など非常に使いやすいライブラリがありますが，他者と共有して後に GUI 操作でグラフを修正したい場合などは，やはり excel 上でグラふをプロットしたくなることでしょう．  \n",
    "もちろん，そんなことも openpyxl を用いれば可能です（少々面倒でありますが）．  \n",
    "例として，以下に 2 周期分の sin 波の散布図 (openpyxl.chart.ScatterChart) と元データを .xlsx 出力してみます．"
   ]
  },
  {
   "cell_type": "code",
   "execution_count": 49,
   "metadata": {},
   "outputs": [],
   "source": [
    "from openpyxl.chart import ScatterChart, Series, Reference"
   ]
  },
  {
   "cell_type": "code",
   "execution_count": 52,
   "metadata": {},
   "outputs": [],
   "source": [
    "# ブックとシート定義\n",
    "wb = Workbook()\n",
    "ws = wb.active\n",
    "# sin 波の x / y 軸を定義\n",
    "dt = np.pi * 0.01\n",
    "t = np.arange(0, 2 * 2 * np.pi + dt, dt)\n",
    "sin_t = np.sin(t)\n",
    "# sin 波をシートに記入\n",
    "for i in range(len(t)):\n",
    "    ws.cell(row=i+1, column=1).value = t[i]\n",
    "    ws.cell(row=i+1, column=2).value = sin_t[i]\n",
    "\n",
    "# # プロット\n",
    "# ScatterChart をインスタンス化し，これに追加していきます\n",
    "chart = ScatterChart()\n",
    "# タイトルを設定\n",
    "chart.title = \"sin 波\"\n",
    "# グラフの大きさを指定\n",
    "chart.height = 8\n",
    "chart.width = 13\n",
    "# x / y 軸名称を設定\n",
    "chart.x_axis.title = \"信号\"\n",
    "chart.y_axis.title = \"経過時間 [s]\"\n",
    "# 凡例\n",
    "chart.legend = None\n",
    "# プロットで参照するセルを定義\n",
    "x = Reference(worksheet=ws, min_col=1, min_row=1, max_row=len(t))\n",
    "y = Reference(worksheet=ws, min_col=2, min_row=1, max_row=len(t))\n",
    "# 参照するセルを Series に渡し，これを chart.series に入れる\n",
    "series = Series(y, x, title_from_data=True)\n",
    "chart.series.append(series)\n",
    "# プロット（anchor にて左上の点を指定）\n",
    "ws.add_chart(chart=chart, anchor=\"d2\")\n",
    "\n",
    "# 保存\n",
    "wb.save(\"./data_07.xlsx\")"
   ]
  },
  {
   "cell_type": "markdown",
   "metadata": {},
   "source": [
    "![./img/data_07.jpg](./img/data_07.jpg)"
   ]
  },
  {
   "cell_type": "markdown",
   "metadata": {},
   "source": [
    "上図のようにプロットできたと思います．  \n",
    "流れとしては，pandas.DataFrame.to_excel() し，これを openpyxl にて読み込んで訂正を整え，最後にグラフを貼るというふうにすると，一番工数が少なく済むでしょう．"
   ]
  },
  {
   "cell_type": "markdown",
   "metadata": {},
   "source": [
    "## 演習問題"
   ]
  },
  {
   "cell_type": "markdown",
   "metadata": {},
   "source": [
    "- Q.1: x"
   ]
  },
  {
   "cell_type": "code",
   "execution_count": null,
   "metadata": {},
   "outputs": [],
   "source": []
  }
 ],
 "metadata": {
  "interpreter": {
   "hash": "7f4300d00c020e82d8b187928799c5c30a390be7d7de211bfbda9d77d14a6e94"
  },
  "kernelspec": {
   "display_name": "Python 3.10.4 64-bit",
   "language": "python",
   "name": "python3"
  },
  "language_info": {
   "codemirror_mode": {
    "name": "ipython",
    "version": 3
   },
   "file_extension": ".py",
   "mimetype": "text/x-python",
   "name": "python",
   "nbconvert_exporter": "python",
   "pygments_lexer": "ipython3",
   "version": "3.10.4"
  },
  "orig_nbformat": 4
 },
 "nbformat": 4,
 "nbformat_minor": 2
}
