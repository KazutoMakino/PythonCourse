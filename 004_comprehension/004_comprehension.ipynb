{
 "cells": [
  {
   "cell_type": "markdown",
   "id": "e7f285b3-13dc-440e-bf0e-419d567158f1",
   "metadata": {},
   "source": [
    "# 内包表記\n",
    "\n",
    "---\n",
    "\n",
    "- ref: https://docs.python.org/ja/3/tutorial/datastructures.html\n",
    "- blog: https://slash-z.com/\n",
    "- github: https://github.com/KazutoMakino/PythonCourses\n",
    "\n",
    "---"
   ]
  },
  {
   "cell_type": "markdown",
   "id": "d92d48c3-5554-410a-bb87-dd5a7ef2a666",
   "metadata": {},
   "source": [
    "## リスト内包表記: 単純な for 文の書き換え"
   ]
  },
  {
   "cell_type": "markdown",
   "id": "c97caf8e-46ee-443c-b4a8-0e0b5f97dec4",
   "metadata": {},
   "source": [
    "```\n",
    "[式 for 変数 in iterable]\n",
    "```"
   ]
  },
  {
   "cell_type": "markdown",
   "id": "fa2c4cd3-db9c-4000-b151-830ef018f45a",
   "metadata": {},
   "source": [
    "リスト内包表記は上記のように書くことができますが，次の for 文と同じです．"
   ]
  },
  {
   "cell_type": "markdown",
   "id": "cdad866f-d42f-4e9b-997a-3ddeb12249c6",
   "metadata": {},
   "source": [
    "```\n",
    "変数 = []\n",
    "for 値 in iterable:\n",
    "    変数.append(式)\n",
    "```"
   ]
  },
  {
   "cell_type": "markdown",
   "id": "6f40d69c-48f4-4146-8016-bf8f82b0a980",
   "metadata": {},
   "source": [
    "実際に，コードを書いてみます．"
   ]
  },
  {
   "cell_type": "code",
   "execution_count": 6,
   "id": "82dc29f2-f9a2-4493-8c5f-1ea12abf8fee",
   "metadata": {},
   "outputs": [
    {
     "data": {
      "text/plain": [
       "[1, 2, 3, 4, 5, 6, 7, 8, 9, 10]"
      ]
     },
     "execution_count": 6,
     "metadata": {},
     "output_type": "execute_result"
    }
   ],
   "source": [
    "arr = [v+1 for v in range(10)]\n",
    "arr"
   ]
  },
  {
   "cell_type": "code",
   "execution_count": 7,
   "id": "a1ed2a52-9702-4dd6-b350-8c320b4ff1ea",
   "metadata": {},
   "outputs": [
    {
     "data": {
      "text/plain": [
       "[1, 2, 3, 4, 5, 6, 7, 8, 9, 10]"
      ]
     },
     "execution_count": 7,
     "metadata": {},
     "output_type": "execute_result"
    }
   ],
   "source": [
    "arr = []\n",
    "for v in range(10):\n",
    "    arr.append(v+1)\n",
    "arr"
   ]
  },
  {
   "cell_type": "markdown",
   "id": "1d5a3730-c435-47e7-9945-0ce2f8d7cac7",
   "metadata": {},
   "source": [
    "なんと，3行分の処理が1行でできました．\n",
    "\n",
    "入れ子構造や組み込み関数も利用可能です．"
   ]
  },
  {
   "cell_type": "code",
   "execution_count": 8,
   "id": "d090ba00-0664-4653-bed7-830f56c22471",
   "metadata": {},
   "outputs": [
    {
     "data": {
      "text/plain": [
       "[0, 1, 2, 'a', 'b', 'c', 'dddddddddd']"
      ]
     },
     "execution_count": 8,
     "metadata": {},
     "output_type": "execute_result"
    }
   ],
   "source": [
    "arr = [\n",
    "    [0, 1, 2],\n",
    "    [\"a\", \"b\", \"c\", \"dddddddddd\"]\n",
    "]\n",
    "[v for vv in arr for v in vv]"
   ]
  },
  {
   "cell_type": "code",
   "execution_count": 9,
   "id": "baa5965c-1f53-42dd-bb47-c7953dfa6f9c",
   "metadata": {},
   "outputs": [
    {
     "data": {
      "text/plain": [
       "[[0, 0], [1, 10], [2, 20]]"
      ]
     },
     "execution_count": 9,
     "metadata": {},
     "output_type": "execute_result"
    }
   ],
   "source": [
    "arr1 = [0,1,2]\n",
    "arr2 = [0,10,20]\n",
    "[[v1, v2] for v1,v2 in zip(arr1, arr2)]"
   ]
  },
  {
   "cell_type": "code",
   "execution_count": 10,
   "id": "eecf1230-5c32-4f98-9bc2-4b109588c9a7",
   "metadata": {},
   "outputs": [
    {
     "data": {
      "text/plain": [
       "[[0, 'q'], [1, 'w'], [2, 'e'], [3, 'r'], [4, 't'], [5, 'y']]"
      ]
     },
     "execution_count": 10,
     "metadata": {},
     "output_type": "execute_result"
    }
   ],
   "source": [
    "arr = [\"q\", \"w\", \"e\", \"r\", \"t\", \"y\"]\n",
    "[[i,v] for i,v in enumerate(arr)]"
   ]
  },
  {
   "cell_type": "markdown",
   "id": "08548176-2a48-41fd-8464-c627a9899c70",
   "metadata": {},
   "source": [
    "多重の for 文も使えます．"
   ]
  },
  {
   "cell_type": "code",
   "execution_count": 11,
   "id": "91820e9b-aee3-4c44-8a55-d0b1964bb2ae",
   "metadata": {},
   "outputs": [
    {
     "data": {
      "text/plain": [
       "[[0, 0], [0, 10], [0, 20], [1, 0], [1, 10], [1, 20], [2, 0], [2, 10], [2, 20]]"
      ]
     },
     "execution_count": 11,
     "metadata": {},
     "output_type": "execute_result"
    }
   ],
   "source": [
    "[[v1, v2] for v1 in arr1 for v2 in arr2]"
   ]
  },
  {
   "cell_type": "code",
   "execution_count": 12,
   "id": "5ca5b422-793e-4b0e-8ee3-7491ea3d4c7c",
   "metadata": {},
   "outputs": [
    {
     "data": {
      "text/plain": [
       "[0, 10, 20, 1, 11, 21, 2, 12, 22]"
      ]
     },
     "execution_count": 12,
     "metadata": {},
     "output_type": "execute_result"
    }
   ],
   "source": [
    "[v1 + v2 for v1 in arr1 for v2 in arr2]"
   ]
  },
  {
   "cell_type": "markdown",
   "id": "e4191e9c-e553-4a0a-95c5-20f8fe5f7eed",
   "metadata": {},
   "source": [
    "## タプルの内包表記: 単純な for 文の書き換え"
   ]
  },
  {
   "cell_type": "markdown",
   "id": "f7a31e1c-45e8-4324-9dab-bc71d2ce42bb",
   "metadata": {},
   "source": [
    "タプルの内包表記の作成方法として，基本的にはリスト内包表記とほとんど同じですが，`[]` を単に `()` にするだけでは，以下のように generator が返されてしまいます．"
   ]
  },
  {
   "cell_type": "code",
   "execution_count": 18,
   "id": "fb843889-6e8f-4603-ba8b-6f5e62720bd8",
   "metadata": {},
   "outputs": [
    {
     "data": {
      "text/plain": [
       "<generator object <genexpr> at 0x00000145B05F26D0>"
      ]
     },
     "execution_count": 18,
     "metadata": {},
     "output_type": "execute_result"
    }
   ],
   "source": [
    "(v for v in range(5))"
   ]
  },
  {
   "cell_type": "markdown",
   "id": "dad6d216-3ab4-4b4e-9f55-60dce5db0bad",
   "metadata": {},
   "source": [
    "タプルで内包表記を実現するためには，`[]` から `tuple()` に変更します．"
   ]
  },
  {
   "cell_type": "code",
   "execution_count": 14,
   "id": "27cae2c4-8733-43f6-bda9-3667a274d37e",
   "metadata": {},
   "outputs": [
    {
     "data": {
      "text/plain": [
       "(0, 1, 2, 3, 4)"
      ]
     },
     "execution_count": 14,
     "metadata": {},
     "output_type": "execute_result"
    }
   ],
   "source": [
    "tuple(v for v in range(5))"
   ]
  },
  {
   "cell_type": "markdown",
   "id": "27caaded-7d23-4298-aad8-1415c45bd9d8",
   "metadata": {},
   "source": [
    "## 集合の内包表記: 単純な for 文の書き換え"
   ]
  },
  {
   "cell_type": "markdown",
   "id": "b4871ed2-83a6-40f4-b77c-6518c1cde905",
   "metadata": {},
   "source": [
    "集合の内包表記の作成方法も，基本的にはリスト内包表記とほとんど同じで，`[]` を単に `{}` にするだけです．"
   ]
  },
  {
   "cell_type": "code",
   "execution_count": 41,
   "id": "e486eda6-923e-44c3-8d07-28f8cbfa8fe8",
   "metadata": {},
   "outputs": [
    {
     "data": {
      "text/plain": [
       "{0, 1, 2, 3, 4, 5, 6, 7, 8, 9}"
      ]
     },
     "execution_count": 41,
     "metadata": {},
     "output_type": "execute_result"
    }
   ],
   "source": [
    "{int(v / 10) for v in range(0, 100, 1)}"
   ]
  },
  {
   "cell_type": "markdown",
   "id": "f34c1088-9013-40dc-aec4-f36249498032",
   "metadata": {},
   "source": [
    "## 辞書の内包表記: 単純な for 文の置き換え"
   ]
  },
  {
   "cell_type": "markdown",
   "id": "90123929-4261-4c2e-b288-916a575daa45",
   "metadata": {},
   "source": [
    "辞書の内包表記もリスト内包表記と同じように書くことで実現できますが，キーと値といった 2 つの項目について処理する必要があるので，注意が必要です．  \n",
    "以下に例を示します．"
   ]
  },
  {
   "cell_type": "code",
   "execution_count": 20,
   "id": "606b33d7-9e5f-42de-b7a9-02b70c1b2b71",
   "metadata": {},
   "outputs": [
    {
     "data": {
      "text/plain": [
       "{'a': 'A', 'b': 'B', 'c': 'C'}"
      ]
     },
     "execution_count": 20,
     "metadata": {},
     "output_type": "execute_result"
    }
   ],
   "source": [
    "key_arr = [\"a\", \"b\", \"c\"]\n",
    "value_arr = [\"A\", \"B\", \"C\"]\n",
    "{k:v for k,v in zip(key_arr, value_arr)}"
   ]
  },
  {
   "cell_type": "code",
   "execution_count": 31,
   "id": "9df26565-9270-4027-8cfb-01ba16fdfb5a",
   "metadata": {},
   "outputs": [
    {
     "data": {
      "text/plain": [
       "{'a': 'A', 'b': 'B', 'c': 'C'}"
      ]
     },
     "execution_count": 31,
     "metadata": {},
     "output_type": "execute_result"
    }
   ],
   "source": [
    "kv_list = [[\"a\", \"A\"], [\"b\", \"B\"], [\"c\", \"C\"]]\n",
    "{k:v for k,v in kv_list}"
   ]
  },
  {
   "cell_type": "code",
   "execution_count": 33,
   "id": "6c121a1c-57e8-4855-8f5a-485b0a8b466b",
   "metadata": {},
   "outputs": [
    {
     "data": {
      "text/plain": [
       "{'aaa': 0, 'aaaa': 1, 'aaaaa': 2, 'aaaaaa': 3, 'aaaaaaa': 4}"
      ]
     },
     "execution_count": 33,
     "metadata": {},
     "output_type": "execute_result"
    }
   ],
   "source": [
    "{\"a\"*v:i for i,v in enumerate(range(3, 3+5, 1))}"
   ]
  },
  {
   "cell_type": "code",
   "execution_count": 34,
   "id": "5cd948aa-7c03-4a4d-96e7-ee2946503a89",
   "metadata": {},
   "outputs": [
    {
     "data": {
      "text/plain": [
       "{'a': 'A', 'b': 'B', 'c': 'C'}"
      ]
     },
     "execution_count": 34,
     "metadata": {},
     "output_type": "execute_result"
    }
   ],
   "source": [
    "{key_arr[i]: value_arr[i] for i in range(len(key_arr))}"
   ]
  },
  {
   "cell_type": "code",
   "execution_count": 29,
   "id": "2decd82d-d5ac-4860-8bf7-63c920ff7d7b",
   "metadata": {},
   "outputs": [
    {
     "data": {
      "text/plain": [
       "{'a': 1, 'aa': 2, 'aaa': 3, 'aaaa': 4, 'aaaaa': 5}"
      ]
     },
     "execution_count": 29,
     "metadata": {},
     "output_type": "execute_result"
    }
   ],
   "source": [
    "{\"a\"*(v): v for v in range(1,1+5,1)}"
   ]
  },
  {
   "cell_type": "markdown",
   "id": "1dc2e63a-784b-4d02-92f3-24c3e0dfdaa1",
   "metadata": {},
   "source": [
    "例えば上記のように，\n",
    "\n",
    "- 2 つのリストを zip() でまとめ，タプルのアンパック先を辞書のキーと値にする\n",
    "- 1 つのリストでもアンパック先が 2 つ以上であれば，それらを辞書のキーと値にする\n",
    "- 配列番号を表す 1 つのリストを for で繰り返し処理させ，元から用意してあった 2 つのリストに配列番号として渡し，それらを辞書のキーと値にする\n",
    "- その他，無理やり 2 つの値を作り，それらを辞書のキーと値にする\n",
    "\n",
    "これらの方法によって，辞書の内包表記ができます．"
   ]
  },
  {
   "cell_type": "markdown",
   "id": "59e06267-b849-4398-b1bf-d3103bc26c99",
   "metadata": {},
   "source": [
    "## 内包表記: for 文の中に if 文で条件分岐する場合"
   ]
  },
  {
   "cell_type": "markdown",
   "id": "553ad768-e664-4c80-8f75-7ca2363d0746",
   "metadata": {},
   "source": [
    "タプル／集合／辞書の内包表記については，リスト内包表記とほとんど同じような考え方なので，以下，リストのみ取り扱います．\n",
    "\n",
    "内包表記は，for の中に if があるような処理も扱うことができます．"
   ]
  },
  {
   "cell_type": "markdown",
   "id": "31c2a775-d304-4aab-8b75-ce8963a026d7",
   "metadata": {},
   "source": [
    "```\n",
    "[式 for 変数 in iterable if 条件式]\n",
    "```"
   ]
  },
  {
   "cell_type": "markdown",
   "id": "5272ca7d-5e78-4a20-ba43-33b5a025ec8b",
   "metadata": {},
   "source": [
    "上記のように書くことができますが，次の for / if の処理と同じです．"
   ]
  },
  {
   "cell_type": "markdown",
   "id": "a15439c4-a996-4fee-bf99-2aa6a9f0c742",
   "metadata": {},
   "source": [
    "```\n",
    "変数 = []\n",
    "for 値 in iterable:\n",
    "    if 条件式:\n",
    "        変数.append(式)\n",
    "```"
   ]
  },
  {
   "cell_type": "markdown",
   "id": "d4c26e6a-046f-4d7b-8485-60f4850fa34e",
   "metadata": {},
   "source": [
    "例として，"
   ]
  },
  {
   "cell_type": "code",
   "execution_count": 45,
   "id": "9cdb8ea7-4c00-4c86-b17e-aef8fecdb7d7",
   "metadata": {},
   "outputs": [
    {
     "data": {
      "text/plain": [
       "[1, 9, 25, 49, 81]"
      ]
     },
     "execution_count": 45,
     "metadata": {},
     "output_type": "execute_result"
    }
   ],
   "source": [
    "[v**2 for v in range(10) if v%2==1]"
   ]
  },
  {
   "cell_type": "code",
   "execution_count": 46,
   "id": "604cfc2d-fe30-465a-8e1c-464aad7b3989",
   "metadata": {},
   "outputs": [
    {
     "data": {
      "text/plain": [
       "['apple', 'orange']"
      ]
     },
     "execution_count": 46,
     "metadata": {},
     "output_type": "execute_result"
    }
   ],
   "source": [
    "a = [\"banana\", \"apple\", \"orange\"]\n",
    "b = [\"orange\", \"tomato\", \"apple\"]\n",
    "[v for v in a if v in b]"
   ]
  },
  {
   "cell_type": "markdown",
   "id": "f3fa1dc8-fd03-40e2-b55a-43ebe76a8360",
   "metadata": {},
   "source": [
    "## 内包表記: for 文の中に if-else 文がある場合"
   ]
  },
  {
   "cell_type": "markdown",
   "id": "551257fa-af97-4b56-b67d-f159848a962e",
   "metadata": {},
   "source": [
    "for の中に if-else があるような処理も扱うことができます．  \n",
    "if のみを使う場合と異なり，少し癖があります．"
   ]
  },
  {
   "cell_type": "markdown",
   "id": "34a7c3aa-f7ad-4d17-8849-75dc7dcdc503",
   "metadata": {},
   "source": [
    "```\n",
    "[条件式が真の時の値 if 条件式 else 条件式が偽の時の値 for 変数 in iterable]\n",
    "```"
   ]
  },
  {
   "cell_type": "markdown",
   "id": "ca67d8c7-6427-49eb-88dc-fd4d01645441",
   "metadata": {},
   "source": [
    "上記のように書くことができますが，次の for / if-else の処理と同じです．"
   ]
  },
  {
   "cell_type": "markdown",
   "id": "d51400f8-c3c3-409c-9c85-d3c52359a736",
   "metadata": {},
   "source": [
    "```\n",
    "変数 = []\n",
    "for 値 in iterable:\n",
    "    if 条件式:\n",
    "        変数.append(条件式が真の時の値)\n",
    "    else:\n",
    "        変数.append(条件式が真の時の値)\n",
    "```"
   ]
  },
  {
   "cell_type": "markdown",
   "id": "64946fab-2537-4d31-b18e-750e5b968510",
   "metadata": {},
   "source": [
    "例としては，"
   ]
  },
  {
   "cell_type": "code",
   "execution_count": 48,
   "id": "b30378d0-92b8-4b35-b0da-3d256fa53f32",
   "metadata": {},
   "outputs": [
    {
     "data": {
      "text/plain": [
       "['even', 'odd', 'even', 'odd', 'even', 'odd', 'even', 'odd', 'even', 'odd']"
      ]
     },
     "execution_count": 48,
     "metadata": {},
     "output_type": "execute_result"
    }
   ],
   "source": [
    "[\"even\" if v%2==0 else \"odd\" for v in range(10)]"
   ]
  },
  {
   "cell_type": "code",
   "execution_count": 49,
   "id": "51e619ca-7822-4f9a-a74c-117dedb6b8f1",
   "metadata": {},
   "outputs": [
    {
     "data": {
      "text/plain": [
       "[[0, 'even'],\n",
       " [1, 'odd'],\n",
       " [2, 'even'],\n",
       " [3, 'odd'],\n",
       " [4, 'even'],\n",
       " [5, 'odd'],\n",
       " [6, 'even'],\n",
       " [7, 'odd'],\n",
       " [8, 'even'],\n",
       " [9, 'odd']]"
      ]
     },
     "execution_count": 49,
     "metadata": {},
     "output_type": "execute_result"
    }
   ],
   "source": [
    "[[v, \"even\"] if v%2==0 else [v, \"odd\"] for v in range(10)]"
   ]
  },
  {
   "cell_type": "markdown",
   "id": "61830b7a-2b82-43d5-9260-4faea315a94a",
   "metadata": {},
   "source": [
    "以上が内包表記の書き方と例に対する紹介です．\n",
    "\n",
    "今回も演習問題を用意いたしました．"
   ]
  },
  {
   "cell_type": "markdown",
   "id": "a644cc02-f65f-4fab-8168-85ee04d98421",
   "metadata": {},
   "source": [
    "## 演習問題"
   ]
  },
  {
   "cell_type": "markdown",
   "id": "901ac5a1-ad6d-4e92-a924-1e04b1919c9f",
   "metadata": {},
   "source": [
    "- Q.1: 内包表記を用いた1つの処理式で，1 から 1000 までの 5 の倍数の総和を求めてください．\n",
    "- Q.2: 内包表記を用いた1つの処理式で，1 から 1000 まで連続した整数の内，7 と 13 の倍数に 1 足した値のみを加算してください（% を用います）．\n",
    "- Q.3: 内包表記を用いた1つの処理式で，0 から 100 まで連続した整数の2乗根を要素とする，要素数 101 の次のリスト $[\\sqrt{0}, \\sqrt{1}, \\sqrt{2}, \\cdots , \\sqrt{100}]$ を作成してください．\n",
    "- Q.4: 内包表記を用いた1つの処理式で，1 から 100 まで連続した 100 個の整数に対する標準偏差を求めてください．ここで，データの個数を $n$, i番目のデータを $x_i$, データの平均を $\\bar{x}$ とすると，標準偏差 $\\sigma$ は，\n",
    "\n",
    "$$\n",
    "\\sigma = \\sqrt{\\frac{1}{n} \\sum_{i=1}^n (x_i - \\bar{x})^2}\n",
    "$$\n",
    "\n",
    "で計算されます．"
   ]
  },
  {
   "cell_type": "code",
   "execution_count": null,
   "id": "13e55d23-625a-4708-be08-0939dbd6f0e6",
   "metadata": {},
   "outputs": [],
   "source": []
  }
 ],
 "metadata": {
  "kernelspec": {
   "display_name": "Python 3 (ipykernel)",
   "language": "python",
   "name": "python3"
  },
  "language_info": {
   "codemirror_mode": {
    "name": "ipython",
    "version": 3
   },
   "file_extension": ".py",
   "mimetype": "text/x-python",
   "name": "python",
   "nbconvert_exporter": "python",
   "pygments_lexer": "ipython3",
   "version": "3.8.10"
  }
 },
 "nbformat": 4,
 "nbformat_minor": 5
}
