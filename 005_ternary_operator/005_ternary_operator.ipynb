{
 "cells": [
  {
   "cell_type": "markdown",
   "id": "e7f285b3-13dc-440e-bf0e-419d567158f1",
   "metadata": {},
   "source": [
    "# 三項演算子\n",
    "\n",
    "---\n",
    "\n",
    "- ref:\n",
    "    - https://docs.python.org/ja/3/reference/expressions.html\n",
    "    - https://www.python.org/dev/peps/pep-0308/\n",
    "- blog: https://slash-z.com/\n",
    "- github: https://github.com/KazutoMakino/PythonCourses\n",
    "\n",
    "---"
   ]
  },
  {
   "cell_type": "markdown",
   "id": "3f266f5c-fe1b-4d0e-aae8-9dfe522862d3",
   "metadata": {},
   "source": [
    "## if-else を 1 ラインで"
   ]
  },
  {
   "cell_type": "markdown",
   "id": "9e0affea-3dbb-4aec-8280-a7e707d59c68",
   "metadata": {},
   "source": [
    "```\n",
    "if 条件式:\n",
    "    真の時の処理\n",
    "else:\n",
    "    偽の時の処理\n",
    "```"
   ]
  },
  {
   "cell_type": "markdown",
   "id": "408c0ee7-6c17-40f4-851e-ca2c0bf27f57",
   "metadata": {},
   "source": [
    "上記は，セミコロンとインデントブロックを用いた条件分岐の書き方ですが，これを三項演算子を用いると，以下のように 1 ラインで書くことができます．"
   ]
  },
  {
   "cell_type": "markdown",
   "id": "4b70b7a2-4d7d-4136-95e5-d21985946b8d",
   "metadata": {},
   "source": [
    "```\n",
    "真の時の処理 if 条件式 else 偽の時の処理\n",
    "```"
   ]
  },
  {
   "cell_type": "markdown",
   "id": "7e2a71f1-df8d-427c-b2ac-c840e113933b",
   "metadata": {},
   "source": [
    "個人的には，最初に \"if 条件式 else\" を書いて，その後，OKだった処理は左，NGは右という風に覚えています．  \n",
    "以下に例を示します．"
   ]
  },
  {
   "cell_type": "code",
   "execution_count": 1,
   "id": "13e55d23-625a-4708-be08-0939dbd6f0e6",
   "metadata": {},
   "outputs": [
    {
     "data": {
      "text/plain": [
       "False"
      ]
     },
     "execution_count": 1,
     "metadata": {},
     "output_type": "execute_result"
    }
   ],
   "source": [
    "a = \"python\"\n",
    "b = \"PYTHON\"\n",
    "c = True if a==b else False\n",
    "c"
   ]
  },
  {
   "cell_type": "markdown",
   "id": "929dc0ce-d8be-43bd-8fd9-5b0038f2656b",
   "metadata": {},
   "source": [
    "この式は次と同じ意味を表します．"
   ]
  },
  {
   "cell_type": "code",
   "execution_count": 2,
   "id": "6cccc4b4-b652-43a5-904c-d4c919a0e10a",
   "metadata": {},
   "outputs": [
    {
     "data": {
      "text/plain": [
       "False"
      ]
     },
     "execution_count": 2,
     "metadata": {},
     "output_type": "execute_result"
    }
   ],
   "source": [
    "if a==b:\n",
    "    c = True\n",
    "else:\n",
    "    c = False\n",
    "c"
   ]
  },
  {
   "cell_type": "markdown",
   "id": "7a056794-0b3d-443f-b092-1faec0e11520",
   "metadata": {},
   "source": [
    "もちろん条件式は，論理演算子（and, or, &, | ）を用いて複数条件を書くことも可能です．"
   ]
  },
  {
   "cell_type": "code",
   "execution_count": 3,
   "id": "49ed81da-d8af-4c05-8397-719645916cf8",
   "metadata": {},
   "outputs": [
    {
     "data": {
      "text/plain": [
       "'NG'"
      ]
     },
     "execution_count": 3,
     "metadata": {},
     "output_type": "execute_result"
    }
   ],
   "source": [
    "a = (1, 3, 5, 7, 9)\n",
    "b = 2.5\n",
    "c = \"OK\" if (round(b) in a) or isinstance(a, list) else \"NG\"\n",
    "c"
   ]
  },
  {
   "cell_type": "markdown",
   "id": "a550f9c0-b43c-4ce0-8447-0c622bec20b4",
   "metadata": {},
   "source": [
    "ちなみに，round は偶数丸めなので round(2.5) -> 2，a はタプルです．"
   ]
  },
  {
   "cell_type": "markdown",
   "id": "186c06f7-6e58-45e2-9892-d7624db255fc",
   "metadata": {},
   "source": [
    "## if-elif-else を 1 ラインで"
   ]
  },
  {
   "cell_type": "markdown",
   "id": "a6c8b98a-ca43-4f84-9100-4c22d89add18",
   "metadata": {},
   "source": [
    "```\n",
    "if 条件式_1:\n",
    "    条件式_1が真の時の処理\n",
    "elif 条件式_2:\n",
    "    条件式_2が真の時の処理\n",
    "else:\n",
    "    上記すべての条件式が偽の時の処理\n",
    "```"
   ]
  },
  {
   "cell_type": "markdown",
   "id": "bc097a53-0954-4b7a-86ce-fb0d165d34ad",
   "metadata": {},
   "source": [
    "上記は，セミコロンとインデントブロックを用いた if-elif-else の書き方ですが，これを三項演算子を用いると，以下のように 1 ラインで書くことができます．"
   ]
  },
  {
   "cell_type": "markdown",
   "id": "39e2c7e6-6dd4-47db-8004-f157d11972d4",
   "metadata": {},
   "source": [
    "```\n",
    "条件式_1が真の時の処理 if 条件式_1 else 条件式_2が真の時の処理 if 条件式_2 else 上記すべての条件式が偽の時の処理\n",
    "```"
   ]
  },
  {
   "cell_type": "markdown",
   "id": "d76e560b-5411-4461-9904-a464dc9bbaf6",
   "metadata": {},
   "source": [
    "もちろん，この後に条件式をいくつか連ねてもOKで，処理は前から実行されます．  \n",
    "意味は同じですが，if-else if-else となっているので，if-elif-else という形ではなくて，どちらかというと三項演算子の書き方は，"
   ]
  },
  {
   "cell_type": "markdown",
   "id": "d96fdda3-2f74-425e-8b77-89e4c2da7525",
   "metadata": {},
   "source": [
    "```\n",
    "if 条件式_1:\n",
    "    条件式_1が真の時の処理\n",
    "else:\n",
    "    if 条件式_2:\n",
    "        条件式_2が真の時の処理\n",
    "    else:\n",
    "        上記すべての条件式が偽の時の処理\n",
    "```"
   ]
  },
  {
   "cell_type": "markdown",
   "id": "e0cf0f9d-5a92-4c91-a184-49deb7bec6f5",
   "metadata": {},
   "source": [
    "という形に近く，こちらの書き方と同じと言ったほうがイメージがつきやすいですね．  \n",
    "以下に例を示します．"
   ]
  },
  {
   "cell_type": "code",
   "execution_count": 4,
   "id": "c3684f26-f6bc-4624-8d11-a2b6c58e6fb7",
   "metadata": {},
   "outputs": [
    {
     "data": {
      "text/plain": [
       "'round(b) is not in a and a is not list'"
      ]
     },
     "execution_count": 4,
     "metadata": {},
     "output_type": "execute_result"
    }
   ],
   "source": [
    "a = (1, 3, 5, 7, 9)\n",
    "b = 2.5\n",
    "c = \"round(b) is in a\" if round(b) in a else \"round(b) is in a and a is list\" if isinstance(a, list) else \"round(b) is not in a and a is not list\"\n",
    "c"
   ]
  },
  {
   "cell_type": "markdown",
   "id": "92ca8f9c-1ed0-46b1-9b03-31e73debdccd",
   "metadata": {},
   "source": [
    "これは以下の if-elif-else と同じ意味です．"
   ]
  },
  {
   "cell_type": "code",
   "execution_count": 5,
   "id": "2987cf8d-86fc-4537-8f1f-5258e1038007",
   "metadata": {},
   "outputs": [
    {
     "data": {
      "text/plain": [
       "'round(b) is not in a and a is not list'"
      ]
     },
     "execution_count": 5,
     "metadata": {},
     "output_type": "execute_result"
    }
   ],
   "source": [
    "if round(b) in a:\n",
    "    c = \"round(b) is in a\"\n",
    "elif isinstance(a, list):\n",
    "    c = \"round(b) is not in a and a is list\"\n",
    "else:\n",
    "    c = \"round(b) is not in a and a is not list\"\n",
    "c"
   ]
  },
  {
   "cell_type": "markdown",
   "id": "42a97b50-f64c-4ddb-baf2-d8554d18c6c7",
   "metadata": {},
   "source": [
    "上記の通り 1 ラインで記載可能ですが，1 ラインで書くには長すぎます（三項演算子を用いた場合について，スペース含めて 1 行に 149 文字が含まれていますが，コーディング規約 PEP8：https://pep8-ja.readthedocs.io/ja/latest/　では 1 行 79 文字までという制限を設けています）し，if-else と比べてかなり読みにくく，こういった場合は普通にインデントブロックを用いた方が良さそうです．"
   ]
  },
  {
   "cell_type": "code",
   "execution_count": 6,
   "id": "4b8cd3f2-7816-438e-ac03-9c0cc4255dbf",
   "metadata": {},
   "outputs": [
    {
     "data": {
      "text/plain": [
       "[0, 1, 2, 3, 4, 4, 4, 4]"
      ]
     },
     "execution_count": 6,
     "metadata": {},
     "output_type": "execute_result"
    }
   ],
   "source": [
    "thres = 4\n",
    "arr = []\n",
    "for i in range(10):\n",
    "    arr.append(i) if i < thres else arr.append(thres) if i < thres*2 else None\n",
    "arr"
   ]
  },
  {
   "cell_type": "markdown",
   "id": "59e28868-f0f1-435b-b03b-ae560f936b10",
   "metadata": {},
   "source": [
    "上記の例だと，1 行が 69 文字で処理も簡単なので，if-elif-else を 1 ライン化しても良いかもしれません．"
   ]
  },
  {
   "cell_type": "markdown",
   "id": "03fb31d5-b27c-4a3d-b1ba-f1905f1b7102",
   "metadata": {},
   "source": [
    "ということで，個人的に三項演算子を用いたら輝く処理というのは，何か（例えばファイルとか）が存在するかどうかのときに yes / no で分岐処理させるときとか，リストや文字列や型の比較とか，閾値によって返す値を変える時に使う，といったイメージです．"
   ]
  },
  {
   "cell_type": "markdown",
   "id": "2b9947dd-2026-49b4-a3ec-92e7dd2102f1",
   "metadata": {},
   "source": [
    "あとは，内包表記と三項演算子を組み合わせることで for と if が合体した処理を 1 ラインにて書くことができ，その時に用いますが，詳しくは内包表記のページに記載いたします．"
   ]
  },
  {
   "cell_type": "code",
   "execution_count": null,
   "id": "12aad5e7-68b2-486d-bb5c-e1d74c70ce78",
   "metadata": {},
   "outputs": [],
   "source": []
  }
 ],
 "metadata": {
  "kernelspec": {
   "display_name": "Python 3 (ipykernel)",
   "language": "python",
   "name": "python3"
  },
  "language_info": {
   "codemirror_mode": {
    "name": "ipython",
    "version": 3
   },
   "file_extension": ".py",
   "mimetype": "text/x-python",
   "name": "python",
   "nbconvert_exporter": "python",
   "pygments_lexer": "ipython3",
   "version": "3.8.10"
  }
 },
 "nbformat": 4,
 "nbformat_minor": 5
}
