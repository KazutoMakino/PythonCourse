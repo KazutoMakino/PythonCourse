{
 "cells": [
  {
   "cell_type": "markdown",
   "id": "bcbfd66d-ec55-4f2f-9187-8642d94eccbd",
   "metadata": {},
   "source": [
    "# ユーザー定義関数／クラス／メソッド／モジュール\n",
    "\n",
    "---\n",
    "\n",
    "- ref: https://docs.python.org/ja/3/tutorial/classes.html\n",
    "- blog: https://slash-z.com/\n",
    "- github: https://github.com/KazutoMakino/PythonCourses\n",
    "\n",
    "---"
   ]
  },
  {
   "cell_type": "markdown",
   "id": "ed22f45b-e35f-4b24-a469-fa04c6c799d4",
   "metadata": {},
   "source": [
    "## 関数定義"
   ]
  },
  {
   "cell_type": "markdown",
   "id": "4938c06e-685f-478a-a21d-90d6c7bc6fa6",
   "metadata": {},
   "source": [
    "関数の定義の仕方は，簡単には以下のように書くことができます．"
   ]
  },
  {
   "cell_type": "markdown",
   "id": "280cfb49-1cd2-4a5b-a3a5-9a9520f6d353",
   "metadata": {},
   "source": [
    "```\n",
    "def 関数名(仮引数_1, 仮引数_2, ..., 仮引数_n):\n",
    "    処理\n",
    "    return 戻り値\n",
    "```"
   ]
  },
  {
   "cell_type": "markdown",
   "id": "004a1548-67b8-4d06-b8eb-97ea4998a8fd",
   "metadata": {},
   "source": [
    "関数の定義には def を用います．  \n",
    "（可読性やエディタの linter 性能を向上させる型アノテーションや Docstring については一旦飛ばしています）  \n",
    "ユーザー定義関数の引数について，この段階では具体的な値はまだ決まってないので，接頭辞として\"仮\"がついて仮引数と呼ばれます．逆に，定義済みの例えば組み込み関数の print だと，print(val) の val は実引数と呼びます．  \n",
    "C言語とかのように，関数プロトタイプ宣言や型をつけなくても良いので，シンプルで楽ですね．  \n",
    "関数は動作なので，使い捨てでなく流用を考えているのであれば，関数名にはできるだけ動詞のみ，もしくは，動詞と目的語のペアとしましょう．  \n",
    "また，python において関数名は snake case でつけましょう（後述）．  \n",
    "例えば，RMS (Root Mean Square, 二条平均平方根) を返す関数だと，calc_rms みたいな感じです．"
   ]
  },
  {
   "cell_type": "markdown",
   "id": "5ed9e931-8e62-4ac6-b507-ce51babba428",
   "metadata": {},
   "source": [
    "変数や関数を命名するに当たり，可読性を上げるために一定の規則（命名規則）が存在します．  \n",
    "先ほど snake case という用語を記載しましたが，これは PEP8 で定められた命名規則における大文字／小文字／アンダーバーを駆使した名前の付け方の一種であり，以下が挙げられます．"
   ]
  },
  {
   "cell_type": "markdown",
   "id": "9b8fa3de-7de9-4361-88ef-6a8dabdf9bbf",
   "metadata": {},
   "source": [
    "| 名前（和） | 名前（英） | 書き方例 | 別名 | python で使う名前 |\n",
    "| - | - | - | - | - |\n",
    "| スネークケース | snake case | snake_case | lower snake case | 変数名，関数名，メソッド名 |\n",
    "| キャメルケース | camel case | camelCase | | 使わない |\n",
    "| パスカルケース | Pascal case | PascalCase | upper camel case | クラス名，例外，型変数 |\n",
    "| コンスタントケース | constant case | CONSTANT_CASE | upper snake case | 定数 |"
   ]
  },
  {
   "cell_type": "markdown",
   "id": "9b13f6d1-f26a-47b8-a885-b0c5cceee4ad",
   "metadata": {},
   "source": [
    "ちなみに，モジュール名とパッケージ名は全て小文字でなるべく短くして，アンダーバーは非推奨とされています．  \n",
    "また，その関数やクラスでしか用いない変数やメソッドの名前については，最初にアンダーバーをつけることが推奨されています．  \n",
    "処理によっては，引数も戻り値も不要な関数もあり得るので，その場合は以下のように記載します．"
   ]
  },
  {
   "cell_type": "markdown",
   "id": "8ce6e750-f664-474e-b15f-134999887a17",
   "metadata": {},
   "source": [
    "```\n",
    "def 関数名():\n",
    "    処理\n",
    "```"
   ]
  },
  {
   "cell_type": "markdown",
   "id": "6922b44a-d9da-4e32-99a5-1f38dabfe451",
   "metadata": {},
   "source": [
    "「戻り値はない」と言いましたが，実際には return None が省略されていて None が返されます．"
   ]
  },
  {
   "cell_type": "markdown",
   "id": "1fc59ac8-9fa7-4e67-a6b5-a49880f7a7f8",
   "metadata": {},
   "source": [
    "関数定義において，仮引数それぞれに，以下のように 仮引数=初期値 と書くことで初期値を与えることができます．"
   ]
  },
  {
   "cell_type": "markdown",
   "id": "20c8948b-5d9e-49fa-811d-0b071402cc3f",
   "metadata": {},
   "source": [
    "```\n",
    "def 関数名(仮引数_1, 仮引数_2=初期値, ..., 仮引数_n=初期値):\n",
    "    処理\n",
    "    return 戻り値\n",
    "```"
   ]
  },
  {
   "cell_type": "markdown",
   "id": "6ce478dd-5c86-4667-a3f5-a1eca1dffafb",
   "metadata": {},
   "source": [
    "全てにおいて初期値を設定しなくても良いので，上の例では 仮引数_1 には初期値を与えていませんが，後述する関数呼び出し時の位置引数の関係上，初期値のない仮引数は左側にまとめておく必要があります．"
   ]
  },
  {
   "cell_type": "markdown",
   "id": "674a4882-c045-4223-afac-b010d93dd44b",
   "metadata": {},
   "source": [
    "上記で定義した関数の呼び出しは以下のように書きます．"
   ]
  },
  {
   "cell_type": "markdown",
   "id": "d2ba5a53-db3b-4349-8cd2-955d9e2d98a6",
   "metadata": {},
   "source": [
    "```\n",
    "関数名(実引数_1, 実引数_2, ..., 実引数_n)\n",
    "```"
   ]
  },
  {
   "cell_type": "markdown",
   "id": "498bade4-89f0-4c86-bf7c-d3bd596a4acb",
   "metadata": {},
   "source": [
    "このとき，定義した関数の仮引数と呼び出す関数で与える実引数は，順番と個数があっている必要があります．  \n",
    "このような書き方をする引数を位置引数と呼びます．  \n",
    "関数呼び出しには別の書き方があり，"
   ]
  },
  {
   "cell_type": "markdown",
   "id": "ac042f12-55a7-4666-9714-4d24db2e6b5d",
   "metadata": {},
   "source": [
    "```\n",
    "関数名(仮引数_1=実引数_1, 仮引数_2=実引数_2, ..., 仮引数_n=実引数_n)\n",
    "```"
   ]
  },
  {
   "cell_type": "markdown",
   "id": "d1636070-da87-46c0-9b17-d0a6c5e65935",
   "metadata": {},
   "source": [
    "という風に，仮引数=実引数 としても呼び出すことができ，この場合，仮引数名で参照できるため順番は守らなくても呼び出すことができます．  \n",
    "関数定義で，仮引数に初期値が決まっているものについては，以下のように，呼び出し時に実引数を与えなくても，初期値があるので問題なく動作します．"
   ]
  },
  {
   "cell_type": "markdown",
   "id": "58685cc8-8cbc-478d-9edd-cbac52fa14c2",
   "metadata": {},
   "source": [
    "```\n",
    "def 関数名(仮引数_1, 仮引数_2=初期値):\n",
    "    処理\n",
    "    return 戻り値\n",
    "    \n",
    "関数名(実引数_1)\n",
    "```"
   ]
  },
  {
   "cell_type": "markdown",
   "id": "001bf65b-2304-4d89-a3cf-f2df361153e2",
   "metadata": {},
   "source": [
    "しかし，上記例で，仮引数_1に初期値があり，仮引数_2に初期値がない状態で定義したとして，関数名(実引数_2) として呼び出すと，位置引数の実引数_2は果たしてどちらの実引数なのか不明になるためエラーになります．  \n",
    "これが，関数定義で初期値のない仮引数は最初に書く必要がある理由です．"
   ]
  },
  {
   "cell_type": "markdown",
   "id": "a9f06885-e09d-4a25-833e-8157d0e0efdf",
   "metadata": {},
   "source": [
    "前置きが長くなってしまいましたが，a と b を足すだけという関数について，以下に例を示します．"
   ]
  },
  {
   "cell_type": "code",
   "execution_count": 1,
   "id": "17e8fd53-4b04-4858-a302-16cef292ca2c",
   "metadata": {},
   "outputs": [
    {
     "data": {
      "text/plain": [
       "7"
      ]
     },
     "execution_count": 1,
     "metadata": {},
     "output_type": "execute_result"
    }
   ],
   "source": [
    "def add_a_b(a, b):\n",
    "    return a + b\n",
    "\n",
    "\n",
    "add_a_b(3, 4)"
   ]
  },
  {
   "cell_type": "code",
   "execution_count": 2,
   "id": "99d086e3-e3f1-4676-8a0e-022f2c071227",
   "metadata": {},
   "outputs": [
    {
     "data": {
      "text/plain": [
       "7"
      ]
     },
     "execution_count": 2,
     "metadata": {},
     "output_type": "execute_result"
    }
   ],
   "source": [
    "def add_a_b(a, b):\n",
    "    return a + b\n",
    "\n",
    "\n",
    "add_a_b(b=4, a=3)"
   ]
  },
  {
   "cell_type": "code",
   "execution_count": 3,
   "id": "f479dd45-63a8-497a-8ef4-aa16f159a0b6",
   "metadata": {},
   "outputs": [
    {
     "data": {
      "text/plain": [
       "7"
      ]
     },
     "execution_count": 3,
     "metadata": {},
     "output_type": "execute_result"
    }
   ],
   "source": [
    "def add_a_b(a=1, b=20):\n",
    "    return a + b\n",
    "\n",
    "\n",
    "add_a_b(b=4, a=3)"
   ]
  },
  {
   "cell_type": "code",
   "execution_count": 4,
   "id": "96b7c006-a64c-4ddb-8b5a-36aaaa50e9f9",
   "metadata": {},
   "outputs": [
    {
     "data": {
      "text/plain": [
       "21"
      ]
     },
     "execution_count": 4,
     "metadata": {},
     "output_type": "execute_result"
    }
   ],
   "source": [
    "def add_a_b(a=1, b=20):\n",
    "    return a + b\n",
    "\n",
    "\n",
    "add_a_b()"
   ]
  },
  {
   "cell_type": "code",
   "execution_count": 5,
   "id": "2b5550b0-485c-4b6c-ab13-5a1b33c17ab7",
   "metadata": {},
   "outputs": [
    {
     "data": {
      "text/plain": [
       "4"
      ]
     },
     "execution_count": 5,
     "metadata": {},
     "output_type": "execute_result"
    }
   ],
   "source": [
    "def add_a_b(a=1, b=20):\n",
    "    return a + b\n",
    "\n",
    "\n",
    "add_a_b(b=3)"
   ]
  },
  {
   "cell_type": "code",
   "execution_count": 6,
   "id": "40f11c1f-f7de-4619-ac0b-573f53149b4b",
   "metadata": {},
   "outputs": [
    {
     "data": {
      "text/plain": [
       "23"
      ]
     },
     "execution_count": 6,
     "metadata": {},
     "output_type": "execute_result"
    }
   ],
   "source": [
    "def add_a_b(a=1, b=20):\n",
    "    return a + b\n",
    "\n",
    "\n",
    "add_a_b(3)"
   ]
  },
  {
   "cell_type": "code",
   "execution_count": 7,
   "id": "01bbb7de-6745-4126-a147-6e74b5eb14f0",
   "metadata": {},
   "outputs": [
    {
     "ename": "SyntaxError",
     "evalue": "non-default argument follows default argument (Temp/ipykernel_10608/227892080.py, line 1)",
     "output_type": "error",
     "traceback": [
      "\u001b[1;36m  File \u001b[1;32m\"C:\\Users\\Kazuto\\AppData\\Local\\Temp/ipykernel_10608/227892080.py\"\u001b[1;36m, line \u001b[1;32m1\u001b[0m\n\u001b[1;33m    def add_a_b(a=1, b):\u001b[0m\n\u001b[1;37m                ^\u001b[0m\n\u001b[1;31mSyntaxError\u001b[0m\u001b[1;31m:\u001b[0m non-default argument follows default argument\n"
     ]
    }
   ],
   "source": [
    "def add_a_b(a=1, b):\n",
    "    return a + b\n",
    "\n",
    "\n",
    "add_a_b(b=3)"
   ]
  },
  {
   "cell_type": "code",
   "execution_count": 8,
   "id": "788c34ec-b3d3-48da-be0c-1f52adafdefe",
   "metadata": {},
   "outputs": [
    {
     "name": "stdout",
     "output_type": "stream",
     "text": [
      "10\n"
     ]
    }
   ],
   "source": [
    "def add_a_b(a, b):\n",
    "    print(a + b)\n",
    "\n",
    "add_a_b(a=5, b=5)"
   ]
  },
  {
   "cell_type": "code",
   "execution_count": 9,
   "id": "0834fb21-c111-4e20-b889-c06f84905d43",
   "metadata": {},
   "outputs": [
    {
     "name": "stdout",
     "output_type": "stream",
     "text": [
      "10\n"
     ]
    },
    {
     "data": {
      "text/plain": [
       "NoneType"
      ]
     },
     "execution_count": 9,
     "metadata": {},
     "output_type": "execute_result"
    }
   ],
   "source": [
    "type(add_a_b(a=5, b=5))"
   ]
  },
  {
   "cell_type": "markdown",
   "id": "ce21af66-a72f-4380-a87b-ddc652dc9b84",
   "metadata": {},
   "source": [
    "## クラス定義／メソッド定義"
   ]
  },
  {
   "cell_type": "markdown",
   "id": "e926b8e3-4bd9-405a-8c23-cf628f753b40",
   "metadata": {},
   "source": [
    "クラス及びメソッドの定義の仕方は，簡単には以下のように書くことができます．"
   ]
  },
  {
   "cell_type": "markdown",
   "id": "c7e04b9c-be6c-4589-921a-34022bfeffc2",
   "metadata": {},
   "source": [
    "```\n",
    "class クラス名:\n",
    "    処理\n",
    "    \n",
    "    def __init__(self, 仮引数_1, 仮引数_2, ..., 仮引数_n):\n",
    "        処理\n",
    "\n",
    "    def メソッド_1(self, 仮引数_1, 仮引数_2, ..., 仮引数_n):\n",
    "        処理\n",
    "\n",
    "    def メソッド_2(self, 仮引数_1, 仮引数_2, ..., 仮引数_n):\n",
    "        処理\n",
    "    \n",
    "    ...\n",
    "    \n",
    "    def メソッド_n(self, 仮引数_1, 仮引数_2, ..., 仮引数_n):\n",
    "        処理\n",
    "```"
   ]
  },
  {
   "cell_type": "markdown",
   "id": "571d8b21-e9b4-4d1a-8ac5-4080e28c1af6",
   "metadata": {},
   "source": [
    "（クラス継承については飛ばします）  \n",
    "クラスの定義には class を用います．  \n",
    "クラス内（インデントブロック）のにおいて def によって関数が定義されていますが，メソッドと呼ばれ，class に紐づいた関数です．  \n",
    "クラス内の変数はメンバー変数と呼ばれ，このクラス内でのみ有効で，メソッド内で用いる時は慣例上 self という名前の変数に格納し，self.変数名 という風に参照します．  \n",
    "クラスの中でメソッドの外にある処理は，クラスが呼び出された時に実行され，この処理の代入式によって定義された変数について，メソッド内でこれを参照する場合も，self.変数名 という風に参照することができます．使うシーンとしては，例えば，このクラス内で使いまわしたい定数などが挙げられます．  \n",
    "実際のところ，self という名前でなくてもプログラムは動くのですが，python という言語において広く浸透している一般的なルールなので，self という名前にしましょう．  \n",
    "さて，保留にしていた `__init__` ですが，これはコンストラクタと呼ばれ，クラスを呼び出したときに自動的に 1 度だけ実行される処理の塊です（メソッドと言ってよいものかは不明）．例えば，クラスを呼び出すときに，クラスの外から変数を入力するときに用います．  \n",
    "＜クラスの呼び出し＞と先ほどから書いていますが，これをインスタンス化と呼び，インスタンス化されたオブジェクトをインスタンスと呼びます．  \n",
    "プログラミングをあまり触ったことない方にとっては，分からない単語のトリプルアクセル状態なので，次に，上記 ＜クラス名＞ クラスに対するインスタンス化の構文を示します．"
   ]
  },
  {
   "cell_type": "markdown",
   "id": "bfbf1c1c-3dd3-4b50-97b7-6c58e27fe523",
   "metadata": {},
   "source": [
    "```\n",
    "インスタンス = クラス名(仮引数_1=実引数_1, 仮引数_2=実引数_2, ..., 仮引数_n=実引数_n)\n",
    "```"
   ]
  },
  {
   "cell_type": "markdown",
   "id": "8e5913a7-bb88-42e3-8a59-ff2b5c463fea",
   "metadata": {},
   "source": [
    "インスタンス化（クラス呼び出し）は，上記のように関数呼び出しと同じように定義でき，引数の考え方も同じです．  \n",
    "引数は `__init__` にて処理されます．  \n",
    "上記を実行すると，＜クラス名＞クラスが呼び出され，クラス内の直下の処理と，`__init__` が実行されて，この属性が＜インスタンス＞に代入されます．  \n",
    "個人的には，「インスタンスは，クラスという正式名称に対してあだ名をつけたもので，クラスの入力に対する属性（メンバー変数やメソッド）が含まれる」というイメージです．  \n",
    "インスタンスを用いて，クラス外からメンバー変数を参照する場合は，次のように記載します．"
   ]
  },
  {
   "cell_type": "markdown",
   "id": "5e59b18e-dd89-4e18-9a87-f028f0436429",
   "metadata": {},
   "source": [
    "```\n",
    "インスタンス.メンバー変数\n",
    "```"
   ]
  },
  {
   "cell_type": "markdown",
   "id": "851537a3-6405-49a3-bf4f-fae44dc8f293",
   "metadata": {},
   "source": [
    "self が インスタンス になっただけですね．  \n",
    "メソッドを使いたい場合も同様です．"
   ]
  },
  {
   "cell_type": "markdown",
   "id": "04a6a1a6-cd31-41c4-a525-c7398208c52a",
   "metadata": {},
   "source": [
    "```\n",
    "インスタンス.メソッド名(仮引数_1=実引数_1, 仮引数_2=実引数_2, ..., 仮引数_n=実引数_n)\n",
    "```"
   ]
  },
  {
   "cell_type": "markdown",
   "id": "c51153de-f8a5-4442-a079-0b3cbbf3f4b3",
   "metadata": {},
   "source": [
    "クラスは，メンバー変数やメソッドの入れ物であるので，クラスおよびインスタンスの名前の付け方としては，どちらも名詞が好ましく，pascal case で名付けます．  \n",
    "メソッドはクラス内の関数ですので，関数と同様に動詞と目的語で名付けます．  \n",
    "このように名付けると，＜インスタンス.メソッド＞というスクリプトが，＜名詞.動詞_目的語＞のような見た目になり，まるで英文を書いているかのような，可読性の高いコードを構築することができます（何より気持ち良い）．  \n",
    "上記のような概念や理屈は，1 回自分で書いたことのある人でないと理解が厳しいので，以下に示した例について雰囲気をつかんでいただき，もう一回上記説明をご覧いただくと，より深くご理解いただけると思います．"
   ]
  },
  {
   "cell_type": "code",
   "execution_count": 10,
   "id": "a2325596-ba79-477c-bd7f-68806c8da236",
   "metadata": {},
   "outputs": [
    {
     "name": "stdout",
     "output_type": "stream",
     "text": [
      "self.a=1, self.b=10\n"
     ]
    }
   ],
   "source": [
    "class MyClass:\n",
    "    a = 1\n",
    "\n",
    "    def __init__(self, b=2):\n",
    "        self.b = b\n",
    "\n",
    "    def shows_member(self):\n",
    "        print(f\"self.a={self.a}, self.b={self.b}\")\n",
    "\n",
    "\n",
    "myclass = MyClass(b=10)\n",
    "myclass.shows_member()"
   ]
  },
  {
   "cell_type": "code",
   "execution_count": 11,
   "id": "0ab38ace-ec32-4910-988b-a295e4a8378e",
   "metadata": {},
   "outputs": [
    {
     "data": {
      "text/plain": [
       "10"
      ]
     },
     "execution_count": 11,
     "metadata": {},
     "output_type": "execute_result"
    }
   ],
   "source": [
    "myclass.b"
   ]
  },
  {
   "cell_type": "code",
   "execution_count": 12,
   "id": "c96d9d5a-4e03-4dde-af9a-dd9ff87299c0",
   "metadata": {},
   "outputs": [
    {
     "name": "stdout",
     "output_type": "stream",
     "text": [
      "self.a=55, self.b=2, c=100\n"
     ]
    }
   ],
   "source": [
    "class MyClass:\n",
    "    def __init__(self, a, b=2):\n",
    "        self.a = a\n",
    "        self.b = b\n",
    "\n",
    "    def shows_member(self, c):\n",
    "        print(f\"self.a={self.a}, self.b={self.b}, c={c}\")\n",
    "\n",
    "\n",
    "myclass = MyClass(a=55)\n",
    "myclass.shows_member(c=100)"
   ]
  },
  {
   "cell_type": "code",
   "execution_count": 13,
   "id": "d8134d30-e7f8-482e-a702-25350f60c0b4",
   "metadata": {},
   "outputs": [
    {
     "name": "stdout",
     "output_type": "stream",
     "text": [
      "self.a=100, self.b=200, self.c=300\n"
     ]
    }
   ],
   "source": [
    "class MyClass:\n",
    "    a = 100\n",
    "    b = 200\n",
    "    c = 300\n",
    "\n",
    "    def shows_member(self):\n",
    "        print(f\"self.a={self.a}, self.b={self.b}, self.c={self.c}\")\n",
    "\n",
    "\n",
    "myclass = MyClass()\n",
    "myclass.shows_member()"
   ]
  },
  {
   "cell_type": "code",
   "execution_count": 14,
   "id": "7a0a9c60-f5cc-4e25-a749-9d1bd9b3bdee",
   "metadata": {},
   "outputs": [
    {
     "ename": "NameError",
     "evalue": "name 'a' is not defined",
     "output_type": "error",
     "traceback": [
      "\u001b[1;31m---------------------------------------------------------------------------\u001b[0m",
      "\u001b[1;31mNameError\u001b[0m                                 Traceback (most recent call last)",
      "\u001b[1;32m~\\AppData\\Local\\Temp/ipykernel_10608/2167009006.py\u001b[0m in \u001b[0;36m<module>\u001b[1;34m\u001b[0m\n\u001b[1;32m----> 1\u001b[1;33m \u001b[0ma\u001b[0m\u001b[1;33m\u001b[0m\u001b[1;33m\u001b[0m\u001b[0m\n\u001b[0m",
      "\u001b[1;31mNameError\u001b[0m: name 'a' is not defined"
     ]
    }
   ],
   "source": [
    "a"
   ]
  },
  {
   "cell_type": "code",
   "execution_count": 15,
   "id": "6da1ade0-65b1-47c4-935a-df73582c9e41",
   "metadata": {},
   "outputs": [],
   "source": [
    "class MyCalculator:\n",
    "    z = 100\n",
    "    \n",
    "    def __init__(self, x, y=10):\n",
    "        self.x = x\n",
    "        self.y = y\n",
    "        \n",
    "    def add_xyz(self):\n",
    "        return self.x + self.y + self.z\n",
    "    \n",
    "    def get_z_squared(self):\n",
    "        return self.z**2\n",
    "    \n",
    "    def returns_value_sqrt(self, value):\n",
    "        return value**(1/2)"
   ]
  },
  {
   "cell_type": "code",
   "execution_count": 16,
   "id": "39d8ee79-325e-41d9-a5a5-3333526adcba",
   "metadata": {},
   "outputs": [
    {
     "data": {
      "text/plain": [
       "111"
      ]
     },
     "execution_count": 16,
     "metadata": {},
     "output_type": "execute_result"
    }
   ],
   "source": [
    "mycalc = MyCalculator(x=1)\n",
    "mycalc.add_xyz()"
   ]
  },
  {
   "cell_type": "code",
   "execution_count": 17,
   "id": "2915cac0-dfff-4b49-9678-284e6a152dd0",
   "metadata": {},
   "outputs": [
    {
     "data": {
      "text/plain": [
       "10000"
      ]
     },
     "execution_count": 17,
     "metadata": {},
     "output_type": "execute_result"
    }
   ],
   "source": [
    "mycalc.get_z_squared()"
   ]
  },
  {
   "cell_type": "code",
   "execution_count": 18,
   "id": "39ee7656-1696-4c47-a4a4-b3834c97594b",
   "metadata": {},
   "outputs": [
    {
     "data": {
      "text/plain": [
       "1.4142135623730951"
      ]
     },
     "execution_count": 18,
     "metadata": {},
     "output_type": "execute_result"
    }
   ],
   "source": [
    "mycalc.returns_value_sqrt(value=2)"
   ]
  },
  {
   "cell_type": "markdown",
   "id": "c0311dd9-0b46-4892-8713-18000b33d949",
   "metadata": {},
   "source": [
    "上記クラスの 3 つのメソッドを見てどう思いますでしょうか？  \n",
    "`add_xyz` は，`MyCalculator` 直下の `self.z` と，インスタンス化のときに代入する `self.x`, `self.y` を用いているので，クラスとして扱う恩恵は大いにありそうです．  \n",
    "一方，`get_z_squared` は，`self.z` しか使っていないので，インスタンス化のときに代入する値を用いないので，インスタンス化の必要性が感じられません．  \n",
    "`get_z_squared` のように，クラス直下のメンバー変数のみしか用いることのないメソッドの呼び出しについて，"
   ]
  },
  {
   "cell_type": "markdown",
   "id": "2bb1513c-6ffc-4456-9cb0-a0f014bbb767",
   "metadata": {},
   "source": [
    "```\n",
    "class クラス名:\n",
    "    処理\n",
    "    \n",
    "    @classmethod\n",
    "    def クラスメソッド名(cls, 仮引数_1, 仮引数_2, ..., 仮引数_n):\n",
    "        cls に格納されている，クラス直下のメンバー変数のみの処理\n",
    "```"
   ]
  },
  {
   "cell_type": "markdown",
   "id": "07fbc6a2-964f-4774-8cfd-6c74cc7d3ecf",
   "metadata": {},
   "source": [
    "という風に，`def` の前に `@classmethod` というコードを付け足すことにより，そのメソッドはクラスメソッドと呼ばれる属性になります．  \n",
    "また，メンバー変数は `self` に格納していましたが，クラスメソッドであることを区別するために，慣例的にクラスメソッド内では `cls` を用います．  \n",
    "クラスメソッドは次のように簡単に呼べます．"
   ]
  },
  {
   "cell_type": "markdown",
   "id": "34fb4482-8bc5-4cb9-9c09-5cebaa3ef797",
   "metadata": {},
   "source": [
    "```\n",
    "クラス名.クラスメソッド(仮引数_1=実引数_1, 仮引数_2=実引数_2, ..., 仮引数_n=実引数_n)\n",
    "```"
   ]
  },
  {
   "cell_type": "markdown",
   "id": "c211727d-cdb4-4a0b-af8e-7c86c61c5977",
   "metadata": {},
   "source": [
    "ということで，インスタンス化の必要がなくなり，`__init__` に渡す引数がなくなりました．  \n",
    "先ほどの `MyCalculator` クラスの `get_z_squared` をクラスメソッドにして呼び出した場合を以下に示します．"
   ]
  },
  {
   "cell_type": "code",
   "execution_count": 19,
   "id": "79bf1176-c75f-495d-beb9-59ea05ed0aad",
   "metadata": {},
   "outputs": [],
   "source": [
    "class MyCalculator:\n",
    "    z = 100\n",
    "    \n",
    "    def __init__(self, x, y=10):\n",
    "        self.x = x\n",
    "        self.y = y\n",
    "        \n",
    "    def add_xyz(self):\n",
    "        return self.x + self.y + self.z\n",
    "    \n",
    "    @classmethod\n",
    "    def get_z_squared(cls):\n",
    "        return cls.z**2\n",
    "    \n",
    "    def returns_value_sqrt(self, value):\n",
    "        return value**(1/2)"
   ]
  },
  {
   "cell_type": "code",
   "execution_count": 20,
   "id": "c2d9d721-1c7d-474f-b56c-a9cd2cba3889",
   "metadata": {},
   "outputs": [
    {
     "data": {
      "text/plain": [
       "10000"
      ]
     },
     "execution_count": 20,
     "metadata": {},
     "output_type": "execute_result"
    }
   ],
   "source": [
    "MyCalculator.get_z_squared()"
   ]
  },
  {
   "cell_type": "markdown",
   "id": "73e2f0ac-af12-4c1c-a0fe-63c4f2d492eb",
   "metadata": {},
   "source": [
    "さらに，`returns_value_sqrt` は引数の `value` しか用いないので，クラスである必要性が感じられず，関数で良いように思えます．  \n",
    "もちろん，関数にしても良いのですが，このメソッドがクラスと関連があることを明示したい場合に，次のように書くことで，あたかも「クラスと関連付けた関数」としてメソッドを呼び出すことができます．"
   ]
  },
  {
   "cell_type": "markdown",
   "id": "7368eb2a-e50b-45f7-adf0-38ccbbc45ec8",
   "metadata": {},
   "source": [
    "```\n",
    "class クラス名:\n",
    "    処理\n",
    "    \n",
    "    @staticmethod\n",
    "    def クラスメソッド名(仮引数_1, 仮引数_2, ..., 仮引数_n):\n",
    "        メンバー変数は用いない処理\n",
    "```"
   ]
  },
  {
   "cell_type": "markdown",
   "id": "031f6e89-be2f-4888-a820-96c412b85506",
   "metadata": {},
   "source": [
    "という風に，`def` の前に `@staticmethod` というコードを付け足すことにより，そのメソッドは静的メソッドと呼ばれる属性になります．  \n",
    "静的メソッドではメンバー変数を用いないので，引数に `self` が無いことに注意してください．  \n",
    "静的メソッドは次のように呼べます．"
   ]
  },
  {
   "cell_type": "markdown",
   "id": "d7b44249-1592-4df9-b248-93d381bee1f9",
   "metadata": {},
   "source": [
    "```\n",
    "クラス名.静的メソッド(仮引数_1=実引数_1, 仮引数_2=実引数_2, ..., 仮引数_n=実引数_n)\n",
    "```"
   ]
  },
  {
   "cell_type": "markdown",
   "id": "c87db856-c2b4-4617-9781-3fddafc54e56",
   "metadata": {},
   "source": [
    "先ほどの `MyCalculator` クラスの `returns_value_sqrt` を静的メソッドにして呼び出した場合を以下に示します．"
   ]
  },
  {
   "cell_type": "code",
   "execution_count": 21,
   "id": "eb14bed7-7130-46ae-949c-4c5ca1b66271",
   "metadata": {},
   "outputs": [],
   "source": [
    "class MyCalculator:\n",
    "    z = 100\n",
    "    \n",
    "    def __init__(self, x, y=10):\n",
    "        self.x = x\n",
    "        self.y = y\n",
    "        \n",
    "    def add_xyz(self):\n",
    "        return self.x + self.y + self.z\n",
    "    \n",
    "    @classmethod\n",
    "    def get_z_squared(cls):\n",
    "        return cls.z**2\n",
    "    \n",
    "    @staticmethod\n",
    "    def returns_value_sqrt(value):\n",
    "        return value**(1/2)"
   ]
  },
  {
   "cell_type": "code",
   "execution_count": 22,
   "id": "917b2034-8160-419a-ba2c-47b7f2382cd7",
   "metadata": {},
   "outputs": [
    {
     "data": {
      "text/plain": [
       "1.4142135623730951"
      ]
     },
     "execution_count": 22,
     "metadata": {},
     "output_type": "execute_result"
    }
   ],
   "source": [
    "MyCalculator.returns_value_sqrt(value=2)"
   ]
  },
  {
   "cell_type": "markdown",
   "id": "15ffb93c-57a4-41a8-891f-c45bae9944d6",
   "metadata": {},
   "source": [
    "## モジュール定義"
   ]
  },
  {
   "cell_type": "markdown",
   "id": "5b474df2-ef5c-432d-8987-b49e19a32cdb",
   "metadata": {},
   "source": [
    "モジュールは，今までに挙げた関数やクラスが書いてあるスクリプトのファイルです．  \n",
    "コードが長くなってくると，保守性が悪くなったり，エディタのコードオートフォーマットが重くなったりするので，こういう場合はファイルを分けます．  \n",
    "また，多人数で一つのプロジェクトを行っているときを想定しても，スクリプトが書かれたファイルが複数あることは容易に想像できると思います．  \n",
    "上記の場合，メインで実行するファイルと，メインから参照される関数やクラスのスクリプトがあるファイルがありますが，後者をモジュールと呼びます．  \n",
    "ということで，構文も何も無いので，以下の通りモジュール（ファイル）を作成し，参照してみましょう．"
   ]
  },
  {
   "cell_type": "markdown",
   "id": "12cc2982-1169-44a4-918b-4f6ffd30689f",
   "metadata": {},
   "source": [
    "まずは，`mymodule.py` という名前のファイルを作成します．  \n",
    "次に，このファイルを開き，以下のスクリプトをコピペし，保存します．"
   ]
  },
  {
   "cell_type": "markdown",
   "id": "0416109d-da7b-40a4-83fb-0e7f4a843744",
   "metadata": {},
   "source": [
    "```\n",
    "class MyCalculator:\n",
    "    z = 100\n",
    "    \n",
    "    def __init__(self, x, y=10):\n",
    "        self.x = x\n",
    "        self.y = y\n",
    "        \n",
    "    def add_xyz(self):\n",
    "        return self.x + self.y + self.z\n",
    "    \n",
    "    @classmethod\n",
    "    def get_z_squared(cls):\n",
    "        return cls.z**2\n",
    "    \n",
    "    @staticmethod\n",
    "    def returns_value_sqrt(value):\n",
    "        return value**(1/2)\n",
    "```"
   ]
  },
  {
   "cell_type": "markdown",
   "id": "45a89f73-67f9-4858-8012-d01f51e7e34d",
   "metadata": {},
   "source": [
    "この出来立てほやほやのモジュールを以下で呼び出します．"
   ]
  },
  {
   "cell_type": "code",
   "execution_count": 27,
   "id": "c445d108-4a18-40f9-b3f4-1d52b2459708",
   "metadata": {},
   "outputs": [],
   "source": [
    "from mymodule import MyCalculator"
   ]
  },
  {
   "cell_type": "markdown",
   "id": "1b2d6513-e673-424f-9794-677eb689a0fa",
   "metadata": {},
   "source": [
    "これで，`mymodule.py` を呼び出すことができました（`import`, `from` については，次回の標準関数にて説明いたします）．  \n",
    "早速使ってみましょう．"
   ]
  },
  {
   "cell_type": "code",
   "execution_count": 28,
   "id": "7fda26e4-53d5-4f25-9017-2dd7c7ecd574",
   "metadata": {},
   "outputs": [
    {
     "data": {
      "text/plain": [
       "1110"
      ]
     },
     "execution_count": 28,
     "metadata": {},
     "output_type": "execute_result"
    }
   ],
   "source": [
    "mycalc = MyCalculator(x=1000)\n",
    "mycalc.add_xyz()"
   ]
  },
  {
   "cell_type": "code",
   "execution_count": 29,
   "id": "42492c85-38c1-44ba-a5e6-c9494ec83522",
   "metadata": {},
   "outputs": [
    {
     "data": {
      "text/plain": [
       "10000"
      ]
     },
     "execution_count": 29,
     "metadata": {},
     "output_type": "execute_result"
    }
   ],
   "source": [
    "MyCalculator.get_z_squared()"
   ]
  },
  {
   "cell_type": "code",
   "execution_count": 31,
   "id": "c73df673-f9bd-4f48-ae89-f31b0aa91ad1",
   "metadata": {},
   "outputs": [
    {
     "data": {
      "text/plain": [
       "6.48074069840786"
      ]
     },
     "execution_count": 31,
     "metadata": {},
     "output_type": "execute_result"
    }
   ],
   "source": [
    "MyCalculator.returns_value_sqrt(value=42)"
   ]
  },
  {
   "cell_type": "code",
   "execution_count": null,
   "id": "254e878c-ad4b-4c43-adf2-51ea75f196da",
   "metadata": {},
   "outputs": [],
   "source": []
  }
 ],
 "metadata": {
  "kernelspec": {
   "display_name": "Python 3 (ipykernel)",
   "language": "python",
   "name": "python3"
  },
  "language_info": {
   "codemirror_mode": {
    "name": "ipython",
    "version": 3
   },
   "file_extension": ".py",
   "mimetype": "text/x-python",
   "name": "python",
   "nbconvert_exporter": "python",
   "pygments_lexer": "ipython3",
   "version": "3.8.10"
  }
 },
 "nbformat": 4,
 "nbformat_minor": 5
}
