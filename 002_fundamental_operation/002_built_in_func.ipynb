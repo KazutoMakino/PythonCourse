{
  "cells": [
    {
      "cell_type": "markdown",
      "metadata": {},
      "source": [
        "# \u3010\u81ea\u524dpython\u8b1b\u5ea7-002\u3011\u7d44\u307f\u8fbc\u307f\u95a2\u6570\u306b\u3064\u3044\u3066\n",
        "\n",
        "---\n",
        "\n",
        "- ref: https://docs.python.org/ja/3.7/library/functions.html\n",
        "- blog: https://slash-z.com/\n",
        "- github: https://github.com/KazutoMakino/PythonCourses\n",
        "\n",
        "\u30a4\u30f3\u30dd\u30fc\u30c8\u3084\u5b9a\u7fa9\u3057\u306a\u304f\u3066\u3082\u4f7f\u3048\u308b\u3088\u3046\u306a\uff0c\u5143\u304b\u3089 python \u306b\u3066\u7528\u610f\u3055\u308c\u3066\u3044\u308b\u7d44\u307f\u8fbc\u307f\u95a2\u6570\u306f\uff0cpython 3.9 \u306b\u304a\u3044\u3066\u306f\u5168\u90e8\u3067 69 \u7a2e\u985e\u3042\u308a\u307e\u3059\uff0e  \n",
        "\u3053\u306e\u4e2d\u306b\u306f\u3042\u307e\u308a\u4f7f\u308f\u306a\u3044\u95a2\u6570\u3082\u3042\u308b\u305f\u3081\uff0c\u826f\u304f\u4f7f\u308f\u308c\u308b 37 \u7a2e\u985e\u306e\u7d44\u307f\u8fbc\u307f\u95a2\u6570\u306b\u3064\u3044\u3066\u7d39\u4ecb\u3044\u305f\u3057\u307e\u3059\uff0e\n",
        "\n",
        "---"
      ]
    },
    {
      "cell_type": "markdown",
      "metadata": {},
      "source": [
        "## 0. \u76ee\u6b21: <a class=\"anchor\" id=\"0\"></a>\n",
        "\n",
        "| idx | title || idx | title |\n",
        "| --- | ----- |-| --- | ----- |\n",
        "| 1. | [print(): \u51fa\u529b\u95a2\u6570](#print) || 21. | [len(): \u8981\u7d20\u6570\uff0f\u9577\u3055\u3092\u53d6\u5f97](#len) |\n",
        "| 2. | [input(): \u5165\u529b\u95a2\u6570](#input) || 22. | [max(): \u6700\u5927\u5024\u3092\u53d6\u5f97](#max) |\n",
        "| 3. | [int(): \u6574\u6570\u578b\u3078\u30ad\u30e3\u30b9\u30c8](#int) || 23. | [min(): \u6700\u5c0f\u5024\u3092\u53d6\u5f97](#min) |\n",
        "| 4. | [bool(): bool \u578b\u3078\u30ad\u30e3\u30b9\u30c8](#bool) || 24. | [all(): \u5168\u3066\u306e\u8981\u7d20\u306b\u5bfe\u3059\u308b\u5224\u5b9a](#all) |\n",
        "| 5. | [float(): 64 bit \u6d6e\u52d5\u5c0f\u6570\u70b9\u578b\u3078\u30ad\u30e3\u30b9\u30c8](#float) || 25. | [any(): \u3044\u305a\u308c\u304b\u306e\u8981\u7d20\u306b\u5bfe\u3059\u308b\u5224\u5b9a](#any) |\n",
        "| 6. | [str(): \u6587\u5b57\u5217\u578b\u3078\u30ad\u30e3\u30b9\u30c8](#str) || 26. | [range(): \u6570\u306e\u30a4\u30df\u30e5\u30fc\u30bf\u30d6\u30eb\u306a\u30b7\u30fc\u30b1\u30f3\u30b9\u3092\u6307\u5b9a\u9577\u306b\u3066\u4f5c\u6210](#range) |\n",
        "| 7. | [complex(): \u8907\u7d20\u6570\u578b\u3078\u30ad\u30e3\u30b9\u30c8](#complex) || 27. | [sorted(): \u30bd\u30fc\u30c8\u7d50\u679c\u3092\u53d6\u5f97](#sorted) |\n",
        "| 8. | [abs(): \u7d76\u5bfe\u5024\u306e\u53d6\u5f97](#abs) || 28. | [slice(): \u30b9\u30e9\u30a4\u30b9\u3092\u53d6\u5f97](#slice) |\n",
        "| 9. | [round(): \u6307\u5b9a\u3059\u308b\u6841\u3092\u5076\u6570\u4e38\u3081](#round) || 29. | [iter(): \u30a4\u30c6\u30ec\u30fc\u30bf\u4f5c\u6210](#iter) |\n",
        "| 10. | [divmod(): \u5546\u3068\u4f59\u308a\u306e\u30bf\u30d7\u30eb\u3092\u53d6\u5f97](#divmod) || 30. | [reversed(): \u8981\u7d20\u3092\u9006\u9806\u306b\u53d6\u308a\u51fa\u3059\u30a4\u30c6\u30ec\u30fc\u30bf\u3092\u53d6\u5f97](#reversed) |\n",
        "| 11. | [sum(): \u7dcf\u548c\u3092\u53d6\u5f97](#sum) || 31. | [next(): \u30a4\u30c6\u30ec\u30fc\u30bf\u306e\u6b21\u306e\u8981\u7d20\u3092\u53d6\u5f97](#next) |\n",
        "| 12. | [pow(): \u3079\u304d\u4e57\u8a08\u7b97](#pow) || 32. | [enumerate(): enumerate \u30aa\u30d6\u30b8\u30a7\u30af\u30c8\u3092\u53d6\u5f97](#enumerate) |\n",
        "| 13. | [type(): \u30aa\u30d6\u30b8\u30a7\u30af\u30c8\u306e\u578b\u3092\u53d6\u5f97](#type) || 33. | [zip(): \u305d\u308c\u305e\u308c\u306e\u30a4\u30c6\u30e9\u30d6\u30eb\u304b\u3089\u8981\u7d20\u3092\u96c6\u3081\u305f\u30a4\u30c6\u30ec\u30fc\u30bf\u3092\u4f5c\u6210](#zip) |\n",
        "| 14. | [isinstance(): \u578b\u306e\u5224\u5b9a](#isinstance) || 34. | [map(): \u30de\u30c3\u30d7\u578b\u3078\u30ad\u30e3\u30b9\u30c8](#map) |\n",
        "| 15. | [dir(): \u30aa\u30d6\u30b8\u30a7\u30af\u30c8\u306e\u6709\u52b9\u306a\u5c5e\u6027\u306e\u30ea\u30b9\u30c8\u3092\u8fd4\u3059](#dir) || 35. | [eval(): \u6587\u5b57\u5217\u578b\u306e\u5f0f\u306e\u6f14\u7b97\u7d50\u679c\u3092\u53d6\u5f97](#eval) |\n",
        "| 16. | [help(): \u30d8\u30eb\u30d7\u3092\u958b\u59cb\uff0f\u8868\u793a](#help) || 36. | [exec(): \u6587\u5b57\u5217\u578b\u306e\u5f0f\u3092\u6f14\u7b97](#exec) |\n",
        "| 17. | [list(): \u30ea\u30b9\u30c8\u578b\u3078\u30ad\u30e3\u30b9\u30c8](#list) || 37. | [open(): \u30d5\u30a1\u30a4\u30eb\u3092\u958b\u304f](#open) |\n",
        "| 18. | [tuple(): \u30bf\u30d7\u30eb\u578b\u3078\u30ad\u30e3\u30b9\u30c8](#tuple) || |\n",
        "| 19. | [set(): \u96c6\u5408\u578b\u3078\u30ad\u30e3\u30b9\u30c8](#set) || |\n",
        "| 20. | [dict(): \u8f9e\u66f8\u578b\u3078\u30ad\u30e3\u30b9\u30c8](#dict) || |"
      ]
    },
    {
      "cell_type": "markdown",
      "metadata": {},
      "source": [
        "---\n",
        "\n",
        "## print(): \u51fa\u529b\u95a2\u6570 <a class=\"anchor\" id=\"print\"></a>  \n",
        "[\u76ee\u6b21\u306b\u623b\u308b](#0)  "
      ]
    },
    {
      "cell_type": "markdown",
      "metadata": {},
      "source": [
        "`print(*objects, sep=\" \", end=\"\\n\", file=sys.stdout, flush=False)`:  \n",
        "`objects` \u3092 `sep` \u3067\u533a\u5207\u308a\u306a\u304c\u3089\u30c6\u30ad\u30b9\u30c8\u30b9\u30c8\u30ea\u30fc\u30e0 `file`\u306b\u8868\u793a\u3057\uff0c\u6700\u5f8c\u306b `end` \u3092\u8868\u793a\u3057\u307e\u3059\uff0e\u30ad\u30fc\u30ef\u30fc\u30c9\u7121\u3057\u306e\u5f15\u6570\u306f\u5168\u3066\uff0c`str()` \u304c\u3059\u308b\u3088\u3046\u306b\u6587\u5b57\u5217\u306b\u5909\u63db\u3055\u308c\uff0c`sep` \u3067\u533a\u5207\u3089\u308c\u306a\u304c\u3089\u30b9\u30c8\u30ea\u30fc\u30e0\u306b\u66f8\u304d\u51fa\u3055\u308c\uff0c\u6700\u5f8c\u306b `end` \u304c\u7d9a\u304d\u307e\u3059\uff0e`sep` \u3068 `end` \u306f\u4e21\u65b9\u3068\u3082\u6587\u5b57\u5217\u3067\u306a\u3051\u308c\u3070\u306a\u308a\u307e\u305b\u3093\uff0e"
      ]
    },
    {
      "cell_type": "code",
      "execution_count": 1,
      "metadata": {},
      "outputs": [
        {
          "name": "stdout",
          "output_type": "stream",
          "text": [
            "hello world\n",
            "hello world\n",
            "hello-------world\n",
            "hello...world\n"
          ]
        }
      ],
      "source": [
        "print(\"hello world\")\n",
        "print(\"hello\", \"world\")\n",
        "print(\"hello\", \"world\", sep=\"-------\")\n",
        "print(\"hello\", end=\"...\")\n",
        "print(\"world\")"
      ]
    },
    {
      "cell_type": "markdown",
      "metadata": {},
      "source": [
        "---\n",
        "\n",
        "## input(): \u5165\u529b\u95a2\u6570 <a class=\"anchor\" id=\"input\"></a>  \n",
        "[\u76ee\u6b21\u306b\u623b\u308b](#0)  "
      ]
    },
    {
      "cell_type": "markdown",
      "metadata": {},
      "source": [
        "`input(prompt)`:  \n",
        "\u5f15\u6570 `prompt` \u304c\u5b58\u5728\u3059\u308c\u3070\uff0c\u305d\u308c\u304c\u672b\u5c3e\u306e\u958b\u696d\u3092\u9664\u3044\u3066\u6a19\u6e96\u51fa\u529b\u306b\u66f8\u304d\u51fa\u3055\u308c\u307e\u3059\uff0e\u6b21\u306b\uff0c\u3053\u306e\u95a2\u6570\u306f\u5165\u529b\u304b\u30891\u884c\u3092\u8aad\u307f\u8fbc\u307f\uff0c\u6587\u5b57\u5217\u306b\u5909\u63db\u3057\u3066\uff08\u672b\u5c3e\u306e\u958b\u696d\u3092\u9664\u3044\u3066\uff09\u8fd4\u3057\u307e\u3059\uff0eEOF \u304c\u8aad\u307f\u8fbc\u307e\u308c\u305f\u3068\u304d\uff0c`EOFError` \u304c\u9001\u51fa\u3055\u308c\u307e\u3059\uff0e"
      ]
    },
    {
      "cell_type": "code",
      "execution_count": 2,
      "metadata": {},
      "outputs": [
        {
          "name": "stdin",
          "output_type": "stream",
          "text": [
            " hello\n"
          ]
        },
        {
          "data": {
            "text/plain": [
              "'hello'"
            ]
          },
          "execution_count": 2,
          "metadata": {},
          "output_type": "execute_result"
        }
      ],
      "source": [
        "input()"
      ]
    },
    {
      "cell_type": "code",
      "execution_count": 3,
      "metadata": {},
      "outputs": [
        {
          "name": "stdin",
          "output_type": "stream",
          "text": [
            "hello  world\n"
          ]
        },
        {
          "data": {
            "text/plain": [
              "'world'"
            ]
          },
          "execution_count": 3,
          "metadata": {},
          "output_type": "execute_result"
        }
      ],
      "source": [
        "input(\"hello \")"
      ]
    },
    {
      "cell_type": "markdown",
      "metadata": {},
      "source": [
        "---\n",
        "\n",
        "## int(): \u6574\u6570\u578b\u3078\u30ad\u30e3\u30b9\u30c8 <a class=\"anchor\" id=\"int\"></a>  \n",
        "[\u76ee\u6b21\u306b\u623b\u308b](#0)  "
      ]
    },
    {
      "cell_type": "markdown",
      "metadata": {},
      "source": [
        "`int(x)` \u307e\u305f\u306f `int(x, base=10)`:  \n",
        "\u6570\u5024\u307e\u305f\u306f\u6587\u5b57\u5217 `x` \u304b\u3089\u751f\u6210\u3055\u308c\u305f\u6574\u6570\u30aa\u30d6\u30b8\u30a7\u30af\u30c8\u3092\u8fd4\u3057\u307e\u3059\uff0e\u5f15\u6570\u304c\u4e0e\u3048\u3089\u308c\u306a\u3044\u5834\u5408\u306b\u306f 0 \u3092\u8fd4\u3057\u307e\u3059\uff0e"
      ]
    },
    {
      "cell_type": "code",
      "execution_count": 4,
      "metadata": {},
      "outputs": [
        {
          "data": {
            "text/plain": [
              "(1, -1, 1, 0, 1, 0)"
            ]
          },
          "execution_count": 4,
          "metadata": {},
          "output_type": "execute_result"
        }
      ],
      "source": [
        "int(1), int(-1), int(\"1\"), int(0.999), int(float(1)), int()"
      ]
    },
    {
      "cell_type": "markdown",
      "metadata": {},
      "source": [
        "---\n",
        "\n",
        "## bool(): bool \u578b\u3078\u30ad\u30e3\u30b9\u30c8 <a class=\"anchor\" id=\"bool\"></a>  \n",
        "[\u76ee\u6b21\u306b\u623b\u308b](#0)  "
      ]
    },
    {
      "cell_type": "markdown",
      "metadata": {},
      "source": [
        "`bool(x)`:  \n",
        "\u30d6\u30fc\u30eb\u5024\u3092\u8fd4\u3057\u307e\u3059\uff0e`x` \u304c\u507d\u307e\u305f\u306f\u7701\u7565\u3055\u308c\u3066\u3044\u308b\u5834\u5408\u306f `False` \u3092\u8fd4\u3057\uff0c\u305d\u308c\u4ee5\u5916\u3067\u306f `True` \u3092\u8fd4\u3057\u307e\u3059\uff0e"
      ]
    },
    {
      "cell_type": "code",
      "execution_count": 5,
      "metadata": {},
      "outputs": [
        {
          "data": {
            "text/plain": [
              "(True, False, True, True, True, False, True)"
            ]
          },
          "execution_count": 5,
          "metadata": {},
          "output_type": "execute_result"
        }
      ],
      "source": [
        "(\n",
        "    bool(1),\n",
        "    bool(0),\n",
        "    bool(-100),\n",
        "    bool(100),\n",
        "    bool(1+1j),\n",
        "    bool(\"\"),\n",
        "    bool(\" \")\n",
        ")"
      ]
    },
    {
      "cell_type": "markdown",
      "metadata": {},
      "source": [
        "`False` \u306f\u4ee5\u4e0b\u306e\u771f\u7406\u5024\u5224\u5b9a\u624b\u7d9a\u304d\u306b\u57fa\u3065\u304f\u3068\u306e\u3053\u3068\u3067\uff0c\u3053\u308c\u3089\u4ee5\u5916\u306f `True` (https://docs.python.org/ja/3.7/library/stdtypes.html#truth) \uff0e\n",
        "\n",
        "- \u507d\u3067\u3042\u308b\u3068\u5b9a\u7fa9\u3055\u308c\u3066\u3044\u308b\u5b9a\u6570\n",
        "- \u6570\u5024\u578b\u306b\u304a\u3051\u308b\u30bc\u30ed\n",
        "- \u7a7a\u306e\u30b7\u30fc\u30b1\u30f3\u30b9\u307e\u305f\u306f\u30b3\u30ec\u30af\u30b7\u30e7\u30f3"
      ]
    },
    {
      "cell_type": "markdown",
      "metadata": {},
      "source": [
        "---\n",
        "\n",
        "## float(): 64 bit \u6d6e\u52d5\u5c0f\u6570\u70b9\u578b\u3078\u30ad\u30e3\u30b9\u30c8 <a class=\"anchor\" id=\"float\"></a>  \n",
        "[\u76ee\u6b21\u306b\u623b\u308b](#0)  "
      ]
    },
    {
      "cell_type": "markdown",
      "metadata": {},
      "source": [
        "`float(x)`:  \n",
        "\u6570\u307e\u305f\u306f\u6587\u5b57\u5217 `x` \u304b\u3089\u751f\u6210\u3055\u308c\u305f\u6d6e\u52d5\u5c0f\u6570\u70b9\u6570\u3092\u8fd4\u3057\u307e\u3059\uff0e\u5f15\u6570\u304c\u6587\u5b57\u5217\u306e\u5834\u5408\uff0c10\u9032\u6570\u3092\u542b\u3093\u3060\u6587\u5b57\u5217\u306b\u3057\u3066\u304f\u3060\u3055\u3044\uff0e"
      ]
    },
    {
      "cell_type": "code",
      "execution_count": 6,
      "metadata": {},
      "outputs": [
        {
          "data": {
            "text/plain": [
              "(1.0, -1.0, 3.0, 0.0)"
            ]
          },
          "execution_count": 6,
          "metadata": {},
          "output_type": "execute_result"
        }
      ],
      "source": [
        "float(1), float(\"-1\"), float(1+2), float()"
      ]
    },
    {
      "cell_type": "markdown",
      "metadata": {},
      "source": [
        "---\n",
        "\n",
        "## str(): \u6587\u5b57\u5217\u578b\u3078\u30ad\u30e3\u30b9\u30c8 <a class=\"anchor\" id=\"str\"></a>  \n",
        "[\u76ee\u6b21\u306b\u623b\u308b](#0)  "
      ]
    },
    {
      "cell_type": "markdown",
      "metadata": {},
      "source": [
        "`str(object=\"\")` \u307e\u305f\u306f `str(object=b\"\", encoding=\"utf-8\", errors=\"strict\")`:  \n",
        "`object` \u306e\u6587\u5b57\u5217\u7248\u3092\u8fd4\u3057\u307e\u3059\uff0e`object` \u304c\u4e0e\u3048\u3089\u308c\u306a\u304b\u3063\u305f\u5834\u5408\uff0c\u7a7a\u6587\u5b57\u5217\u304c\u8fd4\u3055\u308c\u307e\u3059\uff0e  \n",
        "`encoding` \u304b `errors` \u306e\u5c11\u306a\u304f\u3068\u3082\u4e00\u65b9\u304c\u4e0e\u3048\u3089\u308c\u305f\u5834\u5408\uff0c`object` \u306f\u4f8b\u3048\u3070 bytes \u3084 bytearray \u306e byte-like object \u3067\u306a\u3051\u308c\u3070\u306a\u308a\u307e\u305b\u3093\uff0e"
      ]
    },
    {
      "cell_type": "code",
      "execution_count": 7,
      "metadata": {},
      "outputs": [
        {
          "data": {
            "text/plain": [
              "('123', '', 3.0)"
            ]
          },
          "execution_count": 7,
          "metadata": {},
          "output_type": "execute_result"
        }
      ],
      "source": [
        "str(123), str(), float(str(int(3.14)))"
      ]
    },
    {
      "cell_type": "markdown",
      "metadata": {},
      "source": [
        "---\n",
        "\n",
        "## complex(): \u8907\u7d20\u6570\u578b\u3078\u30ad\u30e3\u30b9\u30c8 <a class=\"anchor\" id=\"complex\"></a>  \n",
        "[\u76ee\u6b21\u306b\u623b\u308b](#0)  "
      ]
    },
    {
      "cell_type": "markdown",
      "metadata": {},
      "source": [
        "`complex(real, imag)`:  \n",
        "\u5024 `real + imag*j` \u306e\u8907\u7d20\u6570\u3092\u8fd4\u3059\u304b\uff0c\u6587\u5b57\u5217\u3084\u6570\u3092\u8907\u7d20\u6570\u306b\u5909\u63db\u3057\u307e\u3059\uff0e\u7b2c\u4e00\u5f15\u6570\u304c\u6587\u5b57\u5217\u306a\u3089\uff0c\u305d\u308c\u304c\u8907\u7d20\u6570\u3068\u89e3\u91c8\u3055\u308c\uff0c\u3053\u306e\u95a2\u6570\u306f\u7b2c\u4e8c\u5f15\u6570\u306a\u3057\u3067\u547c\u3073\u51fa\u3055\u306a\u3051\u308c\u3070\u306a\u308a\u307e\u305b\u3093\uff0e\u7b2c\u4e8c\u5f15\u6570\u306f\u6587\u5b57\u5217\u3067\u3042\u3063\u3066\u306f\u306a\u308a\u307e\u305b\u3093\uff0e\u305d\u308c\u305e\u308c\u306e\u5f15\u6570\u306f\uff08\u8907\u7d20\u6570\u3092\u542b\u3080\uff09\u4efb\u610f\u306e\u6570\u5024\u578b\u3067\u3059\uff0e`imag` \u304c\u7701\u7565\u3055\u308c\u305f\u5834\u5408\uff0c\u6a19\u6e96\u306e\u5024\u306f\u30bc\u30ed\u3067\uff0c\u3053\u306e\u30b3\u30f3\u30b9\u30c8\u30e9\u30af\u30bf\u306f `int` \u3084 `float` \u306e\u3088\u3046\u306a\u6570\u5024\u5909\u63db\u3068\u3057\u3066\u50cd\u304d\u307e\u3059\uff0e\u4e21\u65b9\u306e\u5f15\u6570\u304c\u7701\u7565\u3055\u308c\u305f\u5834\u5408\uff0c`0j` \u3092\u8fd4\u3057\u307e\u3059\uff0e\u5f15\u6570\u306b\u6587\u5b57\u5217\u3092\u53d6\u308b\u5834\u5408\u306f\uff0c\u3053\u306e\u6587\u5b57\u5217\u304c\u8907\u7d20\u6570\u578b\u30e9\u30a4\u30af\u306b\u3059\u308b\u5fc5\u8981\u304c\u3042\u308a\uff0c\u304b\u3064\uff0c\u5b9f\u90e8\u3068\u865a\u90e8\u306e\u9593\u306e\u7b26\u53f7\u306e\u524d\u5f8c\u306b\u534a\u89d2\u30b9\u30da\u30fc\u30b9\u3092\u5165\u308c\u308b\u3068 `TypeError`\u306b\u306a\u308b\u306e\u3067\u6ce8\u610f\uff0e"
      ]
    },
    {
      "cell_type": "code",
      "execution_count": 8,
      "metadata": {},
      "outputs": [
        {
          "data": {
            "text/plain": [
              "((1+1j), (1+1j))"
            ]
          },
          "execution_count": 8,
          "metadata": {},
          "output_type": "execute_result"
        }
      ],
      "source": [
        "complex(1, 1), complex(\"1+1j\")"
      ]
    },
    {
      "cell_type": "code",
      "execution_count": 9,
      "metadata": {},
      "outputs": [
        {
          "ename": "ValueError",
          "evalue": "complex() arg is a malformed string",
          "output_type": "error",
          "traceback": [
            "\u001b[1;31m---------------------------------------------------------------------------\u001b[0m",
            "\u001b[1;31mValueError\u001b[0m                                Traceback (most recent call last)",
            "\u001b[1;32m~\\AppData\\Local\\Temp/ipykernel_10324/2440202854.py\u001b[0m in \u001b[0;36m<module>\u001b[1;34m\u001b[0m\n\u001b[1;32m----> 1\u001b[1;33m \u001b[0mcomplex\u001b[0m\u001b[1;33m(\u001b[0m\u001b[1;34m\"1 + 1j\"\u001b[0m\u001b[1;33m)\u001b[0m\u001b[1;33m\u001b[0m\u001b[1;33m\u001b[0m\u001b[0m\n\u001b[0m",
            "\u001b[1;31mValueError\u001b[0m: complex() arg is a malformed string"
          ]
        }
      ],
      "source": [
        "complex(\"1 + 1j\")"
      ]
    },
    {
      "cell_type": "markdown",
      "metadata": {},
      "source": [
        "---\n",
        "\n",
        "## abs(): \u7d76\u5bfe\u5024\u306e\u53d6\u5f97 <a class=\"anchor\" id=\"abs\"></a>  \n",
        "[\u76ee\u6b21\u306b\u623b\u308b](#0)  "
      ]
    },
    {
      "cell_type": "markdown",
      "metadata": {},
      "source": [
        "`abs(x)`:  \n",
        "`x` \u306e\u7d76\u5bfe\u5024\u3092\u8fd4\u3057\u307e\u3059\uff0e\u5f15\u6570\u304c\u8907\u7d20\u6570\u3067\u3042\u308b\u5834\u5408\u306f\u30ce\u30eb\u30e0\uff08\u8907\u7d20\u5e73\u9762\u4e0a\u306b\u304a\u3051\u308b\u8907\u7d20\u30d9\u30af\u30c8\u30eb\u306e\u9577\u3055\uff09\u3092\u8fd4\u3057\u307e\u3059\uff0e"
      ]
    },
    {
      "cell_type": "code",
      "execution_count": 10,
      "metadata": {},
      "outputs": [
        {
          "data": {
            "text/plain": [
              "(5, 5, 1.4142135623730951)"
            ]
          },
          "execution_count": 10,
          "metadata": {},
          "output_type": "execute_result"
        }
      ],
      "source": [
        "abs(5), abs(-5), abs(1+1j)"
      ]
    },
    {
      "cell_type": "markdown",
      "metadata": {},
      "source": [
        "\u6700\u5f8c\u306e\u51fa\u529b\u306f $\\sqrt{2} = 1.41421356...$ \u3067\u3059\uff0e"
      ]
    },
    {
      "cell_type": "markdown",
      "metadata": {},
      "source": [
        "---\n",
        "\n",
        "## round(): \u6307\u5b9a\u3059\u308b\u6841\u3092\u5076\u6570\u4e38\u3081 <a class=\"anchor\" id=\"round\"></a>  \n",
        "[\u76ee\u6b21\u306b\u623b\u308b](#0)  "
      ]
    },
    {
      "cell_type": "markdown",
      "metadata": {},
      "source": [
        "`round(number, ndigits)`:  \n",
        "`number` \u306e\u5c0f\u6570\u90e8\u3092 `ndigits` \u6841\u306b\u4e38\u3081\u305f\u5024\u3092\u8fd4\u3057\u307e\u3059\uff0e`ndigits` \u304c\u7701\u7565\u3055\u308c\u305f\u308a `None` \u3060\u3063\u305f\u5834\u5408\uff0c\u5165\u529b\u5024\u306b\u6700\u3082\u8fd1\u3044\u6574\u6570\u3092\u8fd4\u3057\u307e\u3059\uff0e  \n",
        "`round()` \u3092\u30b5\u30dd\u30fc\u30c8\u3059\u308b\u7d44\u307f\u8fbc\u307f\u578b\u3067\u306f\uff0c\u5024\u306f 10  \u306e\u30de\u30a4\u30ca\u30b9 `ndigits` \u4e57\u306e\u500d\u6570\u306e\u4e2d\u3067\u6700\u3082\u8fd1\u3044\u3082\u306e\u306b\u4e38\u3081\u3089\u308c\u307e\u3059\uff0e\u4e8c\u3064\u306e\u500d\u6570\u304c\u540c\u3058\u3060\u3051\u8fd1\u3044\u306a\u3089\uff0c\u5076\u6570\u3092\u9078\u3076\u65b9\u306b\u4e38\u3081\u3089\u308c\u307e\u3059\uff08\u5076\u6570\u4e38\u3081\uff0c\u9280\u884c\u4e38\u3081\uff09\uff0e`ndigits` \u306b\u306f\u4efb\u610f\u306e\u6574\u6570\u5024\u304c\u6709\u52b9\u3068\u306a\u308a\u307e\u3059\uff0e\u8fd4\u308a\u5024\u306f `ndigits` \u304c\u6307\u5b9a\u3055\u308c\u3066\u3044\u306a\u3044\u304b `None` \u306e\u5834\u5408\u306f\u6574\u6570\uff0c\u305d\u3046\u3067\u306a\u3051\u308c\u3070\u8fd4\u308a\u5024\u306f `number` \u3068\u540c\u3058\u578b\u3067\u3059\uff0e"
      ]
    },
    {
      "cell_type": "code",
      "execution_count": 11,
      "metadata": {},
      "outputs": [
        {
          "data": {
            "text/plain": [
              "(1, 3, 1.0, 140, 0, 1, 0.5)"
            ]
          },
          "execution_count": 11,
          "metadata": {},
          "output_type": "execute_result"
        }
      ],
      "source": [
        "round(1), round(3.14), round(0.999, 2), round(135, -1), round(0.5), round(0.501), round(0.501, 1)"
      ]
    },
    {
      "cell_type": "markdown",
      "metadata": {},
      "source": [
        "---\n",
        "\n",
        "## divmod(): \u5546\u3068\u4f59\u308a\u306e\u30bf\u30d7\u30eb\u3092\u53d6\u5f97 <a class=\"anchor\" id=\"divmod\"></a>  \n",
        "[\u76ee\u6b21\u306b\u623b\u308b](#0)  "
      ]
    },
    {
      "cell_type": "markdown",
      "metadata": {},
      "source": [
        "`divmod(a, b)`:  \n",
        "\u8907\u7d20\u6570\u3067\u306a\u3044 2 \u3064\u306e\u6570\u3092\u5f15\u6570\u3068\u3057\u3066\u53d6\u308a\uff0c\u6574\u6570\u306e\u9664\u53bb\u3092\u884c\u3063\u305f\u6642\u306e\u5546\u3068\u4f59\u308a\u304b\u3089\u306a\u308b\u30da\u30a2\u3092\u8fd4\u3057\u307e\u3059\uff0e\u3053\u306e\u8fd4\u308a\u5024\u306f\uff0c`(a // b, a % b)` \u3068\u540c\u3058\u3067\u3059\uff0e"
      ]
    },
    {
      "cell_type": "code",
      "execution_count": 12,
      "metadata": {},
      "outputs": [
        {
          "data": {
            "text/plain": [
              "(1, 2)"
            ]
          },
          "execution_count": 12,
          "metadata": {},
          "output_type": "execute_result"
        }
      ],
      "source": [
        "divmod(5, 3)"
      ]
    },
    {
      "cell_type": "code",
      "execution_count": 13,
      "metadata": {},
      "outputs": [
        {
          "data": {
            "text/plain": [
              "(3855, 0)"
            ]
          },
          "execution_count": 13,
          "metadata": {},
          "output_type": "execute_result"
        }
      ],
      "source": [
        "divmod(2**16 - 1, 17)"
      ]
    },
    {
      "cell_type": "markdown",
      "metadata": {},
      "source": [
        "---\n",
        "\n",
        "## sum(): \u7dcf\u548c\u3092\u53d6\u5f97 <a class=\"anchor\" id=\"sum\"></a>  \n",
        "[\u76ee\u6b21\u306b\u623b\u308b](#0)  "
      ]
    },
    {
      "cell_type": "markdown",
      "metadata": {},
      "source": [
        "`sum(iterable, start)`:  \n",
        "`start` \u3068 `iterable` \u306e\u8981\u7d20\u3092\u5de6\u304b\u3089\u53f3\u3078\u5408\u8a08\u3057\uff0c\u7dcf\u548c\u3092\u8fd4\u3057\u307e\u3059\uff0e`start` \u306f\u30c7\u30d5\u30a9\u30eb\u30c8\u3067 `0` \u3067\u3059\uff0e`iterable` \u306e\u8981\u7d20\u306f\u901a\u5e38\u306f\u6570\u5024\u3067\uff0c`start` \u306e\u5024\u306f\u6587\u5b57\u5217\u3067\u3042\u3063\u3066\u306f\u306a\u308a\u307e\u305b\u3093\uff0e"
      ]
    },
    {
      "cell_type": "code",
      "execution_count": 14,
      "metadata": {},
      "outputs": [
        {
          "data": {
            "text/plain": [
              "(3, 3, 10, 11)"
            ]
          },
          "execution_count": 14,
          "metadata": {},
          "output_type": "execute_result"
        }
      ],
      "source": [
        "sum((1,2)), sum([1, 2]), sum(range(5)), sum([0,0], 11)"
      ]
    },
    {
      "cell_type": "markdown",
      "metadata": {},
      "source": [
        "---\n",
        "\n",
        "## pow(): \u3079\u304d\u4e57\u8a08\u7b97 <a class=\"anchor\" id=\"pow\"></a>  \n",
        "[\u76ee\u6b21\u306b\u623b\u308b](#0)  "
      ]
    },
    {
      "cell_type": "markdown",
      "metadata": {},
      "source": [
        "`pow(x, y, z)`:  \n",
        "`x` \u306e `y` \u4e57\u3092\u8fd4\u3057\uff0c\u3053\u308c\u306f `x**y` \u3068\u7b49\u4fa1\u3067\u3059\uff0e`z` \u304c\u3042\u308c\u3070\uff0c`x` \u306e `y` \u4e57\u306b\u5bfe\u3059\u308b `z` \u306e\u4f59\u308a\u3092\u8fd4\u3057\uff0c\u3053\u308c\u306f `pow(x, y) % z` \u3068\u540c\u3058\u7d50\u679c\u306b\u306a\u308a\u307e\u3059\u304c\uff0c\u524d\u8005\u306e\u65b9\u304c\u3088\u308a\u52b9\u7387\u3088\u304f\u8a08\u7b97\u3055\u308c\u307e\u3059\uff0e"
      ]
    },
    {
      "cell_type": "code",
      "execution_count": 15,
      "metadata": {},
      "outputs": [
        {
          "data": {
            "text/plain": [
              "(256, 2, (-1+1.2246467991473532e-16j))"
            ]
          },
          "execution_count": 15,
          "metadata": {},
          "output_type": "execute_result"
        }
      ],
      "source": [
        "pow(2, 8), pow(2, 3, 3), pow(2.718281828459045235360287471352, 3.141592653589793238462643j)"
      ]
    },
    {
      "cell_type": "code",
      "execution_count": 16,
      "metadata": {},
      "outputs": [
        {
          "data": {
            "text/plain": [
              "(True, True)"
            ]
          },
          "execution_count": 16,
          "metadata": {},
          "output_type": "execute_result"
        }
      ],
      "source": [
        "pow(2, 8) == 2**8, pow(2, 3, 3)==2**3 % 3"
      ]
    },
    {
      "cell_type": "markdown",
      "metadata": {},
      "source": [
        "---\n",
        "\n",
        "## type(): \u30aa\u30d6\u30b8\u30a7\u30af\u30c8\u306e\u578b\u3092\u53d6\u5f97 <a class=\"anchor\" id=\"type\"></a>  \n",
        "[\u76ee\u6b21\u306b\u623b\u308b](#0)  "
      ]
    },
    {
      "cell_type": "markdown",
      "metadata": {},
      "source": [
        "`type(object)` \u307e\u305f\u306f `type(name, bases, dict)`:  \n",
        "\u5f15\u6570\u304c 1 \u3064\u3060\u3051\u306e\u5834\u5408\uff0c`object` \u306e\u578b\u3092\u8fd4\u3057\u307e\u3059\uff0e\u8fd4\u308a\u5024\u306f\u578b\u30aa\u30d6\u30b8\u30a7\u30af\u30c8\u3067\uff0c\u4e00\u822c\u306b `object.__class__` \u306b\u3088\u3063\u3066\u8fd4\u3055\u308c\u308b\u306e\u3068\u540c\u3058\u30aa\u30d6\u30b8\u30a7\u30af\u30c8\u3067\u3059\uff0e\u30aa\u30d6\u30b8\u30a7\u30af\u30c8\u306e\u578b\u306e\u5224\u5b9a\u306b\u306f\uff0c`isinstance()` \u95a2\u6570\u3092\u4f7f\u3046\u3053\u3068\u304c\u63a8\u5968\u3055\u308c\u307e\u3059\uff0e\u3053\u308c\u306f\u30b5\u30d6\u30af\u30e9\u30b9\u3092\u8003\u616e\u3059\u308b\u304b\u3089\u3067\u3059\uff0e  \n",
        "\u5f15\u6570\u304c 3 \u3064\u306e\u5834\u5408\uff0c\u65b0\u3057\u3044\u578b\u30aa\u30d6\u30b8\u30a7\u30af\u30c8\u3092\u8fd4\u3057\u307e\u3059\uff0e\u672c\u8cea\u7684\u306b\u306f `class` \u6587\u306e\u52d5\u7684\u306a\u5f62\u5f0f\u3067\u3059\uff0e`name` \u6587\u5b57\u5217\u306f\u30af\u30e9\u30b9\u540d\u3067\uff0c`__name__` \u5c5e\u6027\u306b\u306a\u308a\u307e\u3059\uff0e`bases` \u30bf\u30d7\u30eb\u306f\u57fa\u5e95\u30af\u30e9\u30b9\u306e\u7f85\u5217\u3067\uff0c`__bases__` \u5c5e\u6027\u306b\u306a\u308a\u307e\u3059\uff0e`dict` \u306f\u30af\u30e9\u30b9\u672c\u4f53\u306e\u5b9a\u7fa9\u3092\u542b\u3080\u540d\u524d\u7a7a\u9593\u3067\uff0c\u6a19\u6e96\u306e\u8f9e\u66f8\u306b\u30b3\u30d4\u30fc\u3055\u308c\u3066 `__dict__` \u5c5e\u6027\u306b\u306a\u308a\u307e\u3059\uff0e"
      ]
    },
    {
      "cell_type": "code",
      "execution_count": 17,
      "metadata": {},
      "outputs": [
        {
          "data": {
            "text/plain": [
              "(int, float, bool, complex, NoneType)"
            ]
          },
          "execution_count": 17,
          "metadata": {},
          "output_type": "execute_result"
        }
      ],
      "source": [
        "type(1), type(1.0), type(True), type(1j), type(None)"
      ]
    },
    {
      "cell_type": "code",
      "execution_count": 18,
      "metadata": {},
      "outputs": [
        {
          "data": {
            "text/plain": [
              "__main__.x"
            ]
          },
          "execution_count": 18,
          "metadata": {},
          "output_type": "execute_result"
        }
      ],
      "source": [
        "new_type = type(\"x\", (object,), {\"a\": 1})\n",
        "new_type"
      ]
    },
    {
      "cell_type": "code",
      "execution_count": 19,
      "metadata": {},
      "outputs": [
        {
          "data": {
            "text/plain": [
              "1"
            ]
          },
          "execution_count": 19,
          "metadata": {},
          "output_type": "execute_result"
        }
      ],
      "source": [
        "new_type.a"
      ]
    },
    {
      "cell_type": "code",
      "execution_count": 20,
      "metadata": {},
      "outputs": [
        {
          "data": {
            "text/plain": [
              "type"
            ]
          },
          "execution_count": 20,
          "metadata": {},
          "output_type": "execute_result"
        }
      ],
      "source": [
        "type(new_type)"
      ]
    },
    {
      "cell_type": "markdown",
      "metadata": {},
      "source": [
        "---\n",
        "\n",
        "## isinstance(): \u578b\u306e\u5224\u5b9a <a class=\"anchor\" id=\"isinstance\"></a>  \n",
        "[\u76ee\u6b21\u306b\u623b\u308b](#0)  "
      ]
    },
    {
      "cell_type": "markdown",
      "metadata": {},
      "source": [
        "`isinstance(object, classinfo)`:  \n",
        "`object` \u5f15\u6570\u304c `classinfo` \u5f15\u6570\u306e\u30a4\u30f3\u30b9\u30bf\u30f3\u30b9\u3067\u3042\u308b\u304b\uff0c\u30b5\u30d6\u30af\u30e9\u30b9\u306e\u30a4\u30f3\u30b9\u30bf\u30f3\u30b9\u306e\u5834\u5408\u306b `True` \u3092\u8fd4\u3057\u307e\u3059\uff0e`object` \u304c\u4e0e\u3048\u3089\u308c\u305f\u65b9\u306e\u30aa\u30d6\u30b8\u30a7\u30af\u30c8\u3067\u306a\u3044\u5834\u5408\uff0c\u3053\u306e\u95a2\u6570\u306f\u5e38\u306b `False` \u3092\u8fd4\u3057\u307e\u3059\uff0e`classinfo` \u304c\u578b\u30aa\u30d6\u30b8\u30a7\u30af\u30c8\u306e\u30bf\u30d7\u30eb\u306e\u5834\u5408\uff0c`object` \u304c\u305d\u308c\u3089\u306e\u3044\u305a\u308c\u304b\u306e\u30a4\u30f3\u30b9\u30bf\u30f3\u30b9\u3067\u3042\u308c\u3070 `True` \u3092\u8fd4\u3057\u307e\u3059\uff0e`classinfo` \u304c\u578b\u3084\u65b9\u304b\u3089\u306a\u308b\u30bf\u30d7\u30eb\uff0c\u3042\u308b\u3044\u306f\u8907\u6570\u306e\u30bf\u30d7\u30eb\u306e\u3044\u305a\u308c\u3067\u3082\u306a\u3044\u5834\u5408\uff0c`TypeError` \u304c\u9001\u51fa\u3055\u308c\u307e\u3059\uff0e"
      ]
    },
    {
      "cell_type": "code",
      "execution_count": 21,
      "metadata": {},
      "outputs": [
        {
          "data": {
            "text/plain": [
              "(True, True, False, True)"
            ]
          },
          "execution_count": 21,
          "metadata": {},
          "output_type": "execute_result"
        }
      ],
      "source": [
        "a = \"test\"\n",
        "b = 1\n",
        "isinstance(a, str), isinstance(b, int), isinstance(b, float), isinstance(b, (str, int, float))"
      ]
    },
    {
      "cell_type": "markdown",
      "metadata": {},
      "source": [
        "---\n",
        "\n",
        "## dir(): \u30aa\u30d6\u30b8\u30a7\u30af\u30c8\u306e\u6709\u52b9\u306a\u5c5e\u6027\u306e\u30ea\u30b9\u30c8\u3092\u8fd4\u3059 <a class=\"anchor\" id=\"dir\"></a>  \n",
        "[\u76ee\u6b21\u306b\u623b\u308b](#0)  "
      ]
    },
    {
      "cell_type": "markdown",
      "metadata": {},
      "source": [
        "`dir(object)`:  \n",
        "\u5f15\u6570\u304c\u7121\u3044\u5834\u5408\uff0c\u73fe\u5728\u306e\u30ed\u30fc\u30ab\u30eb\u30b9\u30b3\u30fc\u30d7\u306b\u3042\u308b\u540d\u524d\u306e\u30ea\u30b9\u30c8\u3092\u8fd4\u3057\u307e\u3059\uff0e\u5f15\u6570\u304c\u3042\u308b\u5834\u5408\uff0c\u305d\u306e\u30aa\u30d6\u30b8\u30a7\u30af\u30c8\u306e\u6709\u52b9\u306a\u5c5e\u6027\u306e\u30ea\u30b9\u30c8\u3092\u8fd4\u305d\u3046\u3068\u8a66\u307f\u307e\u3059\uff0e"
      ]
    },
    {
      "cell_type": "code",
      "execution_count": 22,
      "metadata": {},
      "outputs": [
        {
          "name": "stdout",
          "output_type": "stream",
          "text": [
            "['__abs__', '__add__', '__and__', '__bool__', '__ceil__', '__class__', '__delattr__', '__dir__', '__divmod__', '__doc__', '__eq__', '__float__', '__floor__', '__floordiv__', '__format__', '__ge__', '__getattribute__', '__getnewargs__', '__gt__', '__hash__', '__index__', '__init__', '__init_subclass__', '__int__', '__invert__', '__le__', '__lshift__', '__lt__', '__mod__', '__mul__', '__ne__', '__neg__', '__new__', '__or__', '__pos__', '__pow__', '__radd__', '__rand__', '__rdivmod__', '__reduce__', '__reduce_ex__', '__repr__', '__rfloordiv__', '__rlshift__', '__rmod__', '__rmul__', '__ror__', '__round__', '__rpow__', '__rrshift__', '__rshift__', '__rsub__', '__rtruediv__', '__rxor__', '__setattr__', '__sizeof__', '__str__', '__sub__', '__subclasshook__', '__truediv__', '__trunc__', '__xor__', 'as_integer_ratio', 'bit_length', 'conjugate', 'denominator', 'from_bytes', 'imag', 'numerator', 'real', 'to_bytes']\n"
          ]
        }
      ],
      "source": [
        "print(dir(int(-1)))"
      ]
    },
    {
      "cell_type": "code",
      "execution_count": 23,
      "metadata": {},
      "outputs": [
        {
          "data": {
            "text/plain": [
              "1"
            ]
          },
          "execution_count": 23,
          "metadata": {},
          "output_type": "execute_result"
        }
      ],
      "source": [
        "int(1).__abs__()"
      ]
    },
    {
      "cell_type": "code",
      "execution_count": 24,
      "metadata": {},
      "outputs": [
        {
          "name": "stdout",
          "output_type": "stream",
          "text": [
            "['In', 'Out', '_', '_10', '_11', '_12', '_13', '_14', '_15', '_16', '_17', '_18', '_19', '_2', '_20', '_21', '_23', '_3', '_4', '_5', '_6', '_7', '_8', '__', '___', '__builtin__', '__builtins__', '__doc__', '__loader__', '__name__', '__package__', '__spec__', '_dh', '_i', '_i1', '_i10', '_i11', '_i12', '_i13', '_i14', '_i15', '_i16', '_i17', '_i18', '_i19', '_i2', '_i20', '_i21', '_i22', '_i23', '_i24', '_i3', '_i4', '_i5', '_i6', '_i7', '_i8', '_i9', '_ih', '_ii', '_iii', '_oh', 'a', 'b', 'exit', 'get_ipython', 'new_type', 'quit']\n"
          ]
        }
      ],
      "source": [
        "print(dir())"
      ]
    },
    {
      "cell_type": "markdown",
      "metadata": {},
      "source": [
        "\u5148\u307b\u3069\u5909\u6570\u5b9a\u7fa9\u3057\u305f\uff0c`a, b, new_type` \u304c\u542b\u307e\u308c\u3066\u3044\u307e\u3059\u306d\uff0e"
      ]
    },
    {
      "cell_type": "markdown",
      "metadata": {},
      "source": [
        "---\n",
        "\n",
        "## help(): \u30d8\u30eb\u30d7\u3092\u958b\u59cb\uff0f\u8868\u793a <a class=\"anchor\" id=\"help\"></a>  \n",
        "[\u76ee\u6b21\u306b\u623b\u308b](#0)  "
      ]
    },
    {
      "cell_type": "markdown",
      "metadata": {},
      "source": [
        "`help(object)`:  \n",
        "`object` \u306e\u30d8\u30eb\u30d7\u3092\u8868\u793a\u3057\u307e\u3059\uff0e\u5f15\u6570\u304c\u4e0e\u3048\u3089\u308c\u3066\u3044\u306a\u3044\u5834\u5408\uff0c\u5bfe\u8a71\u7684\u30d8\u30eb\u30d7\u30b7\u30b9\u30c6\u30e0\u306f\u30a4\u30f3\u30bf\u30d7\u30ea\u30bf\u30b3\u30f3\u30bd\u30fc\u30eb\u4e0a\u3067\u8d77\u52d5\u3057\u307e\u3059\uff0e"
      ]
    },
    {
      "cell_type": "code",
      "execution_count": 25,
      "metadata": {},
      "outputs": [
        {
          "name": "stdout",
          "output_type": "stream",
          "text": [
            "Help on built-in function abs in module builtins:\n",
            "\n",
            "abs(x, /)\n",
            "    Return the absolute value of the argument.\n",
            "\n"
          ]
        }
      ],
      "source": [
        "help(abs)"
      ]
    },
    {
      "cell_type": "code",
      "execution_count": 26,
      "metadata": {},
      "outputs": [
        {
          "name": "stdout",
          "output_type": "stream",
          "text": [
            "Help on NoneType object:\n",
            "\n",
            "class NoneType(object)\n",
            " |  Methods defined here:\n",
            " |  \n",
            " |  __bool__(self, /)\n",
            " |      self != 0\n",
            " |  \n",
            " |  __repr__(self, /)\n",
            " |      Return repr(self).\n",
            " |  \n",
            " |  ----------------------------------------------------------------------\n",
            " |  Static methods defined here:\n",
            " |  \n",
            " |  __new__(*args, **kwargs) from builtins.type\n",
            " |      Create and return a new object.  See help(type) for accurate signature.\n",
            "\n"
          ]
        }
      ],
      "source": [
        "a = None\n",
        "help(a)"
      ]
    },
    {
      "cell_type": "markdown",
      "metadata": {},
      "source": [
        "---\n",
        "\n",
        "## list(): \u30ea\u30b9\u30c8\u578b\u3078\u30ad\u30e3\u30b9\u30c8 <a class=\"anchor\" id=\"list\"></a>  \n",
        "[\u76ee\u6b21\u306b\u623b\u308b](#0)  "
      ]
    },
    {
      "cell_type": "markdown",
      "metadata": {},
      "source": [
        "`list(iterable)`:  \n",
        "`iterable` \u306e\u30ea\u30b9\u30c8\u3092\u8fd4\u3057\u307e\u3059\uff0e"
      ]
    },
    {
      "cell_type": "code",
      "execution_count": 27,
      "metadata": {},
      "outputs": [
        {
          "data": {
            "text/plain": [
              "[0, 1]"
            ]
          },
          "execution_count": 27,
          "metadata": {},
          "output_type": "execute_result"
        }
      ],
      "source": [
        "list([0, 1])"
      ]
    },
    {
      "cell_type": "code",
      "execution_count": 28,
      "metadata": {},
      "outputs": [
        {
          "data": {
            "text/plain": [
              "[0, 1]"
            ]
          },
          "execution_count": 28,
          "metadata": {},
          "output_type": "execute_result"
        }
      ],
      "source": [
        "list((0, 1))"
      ]
    },
    {
      "cell_type": "markdown",
      "metadata": {},
      "source": [
        "---\n",
        "\n",
        "## tuple(): \u30bf\u30d7\u30eb\u578b\u3078\u30ad\u30e3\u30b9\u30c8 <a class=\"anchor\" id=\"tuple\"></a>  \n",
        "[\u76ee\u6b21\u306b\u623b\u308b](#0)  "
      ]
    },
    {
      "cell_type": "markdown",
      "metadata": {},
      "source": [
        "`tuple(iterable)`:  \n",
        "`iterable` \u306e\u30bf\u30d7\u30eb\u3092\u8fd4\u3057\u307e\u3059\uff0e"
      ]
    },
    {
      "cell_type": "code",
      "execution_count": 29,
      "metadata": {},
      "outputs": [
        {
          "data": {
            "text/plain": [
              "(0, 1)"
            ]
          },
          "execution_count": 29,
          "metadata": {},
          "output_type": "execute_result"
        }
      ],
      "source": [
        "tuple([0, 1])"
      ]
    },
    {
      "cell_type": "markdown",
      "metadata": {},
      "source": [
        "---\n",
        "\n",
        "## set(): \u96c6\u5408\u578b\u3078\u30ad\u30e3\u30b9\u30c8 <a class=\"anchor\" id=\"set\"></a>  \n",
        "[\u76ee\u6b21\u306b\u623b\u308b](#0)  "
      ]
    },
    {
      "cell_type": "markdown",
      "metadata": {},
      "source": [
        "`set(iterable)`:  \n",
        "\u30aa\u30d7\u30b7\u30e7\u30f3\u3067 `iterable` \u306e\u8981\u7d20\u3092\u6301\u3064\uff0c\u65b0\u3057\u3044 `set` \u30aa\u30d6\u30b8\u30a7\u30af\u30c8\u3092\u8fd4\u3057\u307e\u3059\uff0e"
      ]
    },
    {
      "cell_type": "code",
      "execution_count": 30,
      "metadata": {},
      "outputs": [
        {
          "data": {
            "text/plain": [
              "{-1, 0, 1}"
            ]
          },
          "execution_count": 30,
          "metadata": {},
          "output_type": "execute_result"
        }
      ],
      "source": [
        "set([0, 1, 1, 0, -1])"
      ]
    },
    {
      "cell_type": "code",
      "execution_count": 31,
      "metadata": {},
      "outputs": [
        {
          "data": {
            "text/plain": [
              "{'\\n', '\\u3000', '\u3044', '\u306f'}"
            ]
          },
          "execution_count": 31,
          "metadata": {},
          "output_type": "execute_result"
        }
      ],
      "source": [
        "set(\"\"\"\n",
        "\u306f\u306f\u3000\u306f\u3000\u306f\u3000\u306f\u3000\u3044\u3044\n",
        "\"\"\")"
      ]
    },
    {
      "cell_type": "code",
      "execution_count": 32,
      "metadata": {},
      "outputs": [
        {
          "data": {
            "text/plain": [
              "{' ',\n",
              " '.',\n",
              " 'I',\n",
              " 'a',\n",
              " 'b',\n",
              " 'e',\n",
              " 'g',\n",
              " 'h',\n",
              " 'i',\n",
              " 'k',\n",
              " 'n',\n",
              " 'o',\n",
              " 'r',\n",
              " 's',\n",
              " 't',\n",
              " 'w',\n",
              " 'y'}"
            ]
          },
          "execution_count": 32,
          "metadata": {},
          "output_type": "execute_result"
        }
      ],
      "source": [
        "set(\"I think that that that that that boy wrote is wrong.\")"
      ]
    },
    {
      "cell_type": "markdown",
      "metadata": {},
      "source": [
        "---\n",
        "\n",
        "## dict(): \u8f9e\u66f8\u578b\u3078\u30ad\u30e3\u30b9\u30c8 <a class=\"anchor\" id=\"dict\"></a>  \n",
        "[\u76ee\u6b21\u306b\u623b\u308b](#0)  "
      ]
    },
    {
      "cell_type": "markdown",
      "metadata": {},
      "source": [
        "`dict(**kwarg)` \u307e\u305f\u306f `dict(mapping, **kwarg)` \u307e\u305f\u306f `dict(iterable, **kwarg)`: \u65b0\u3057\u3044\u8f9e\u66f8\u3092\u4f5c\u6210\u3057\u307e\u3059\uff0e  \n",
        "1 \u3064\u76ee\u306f\uff0c`dict(key=value)` \u3068\u3059\u308b\u3053\u3068\u306b\u3088\u308a\u8f9e\u66f8\u3092\u4f5c\u6210\u3057\u307e\u3059\uff0e  \n",
        "2 \u3064\u76ee\u306f\uff0c`dict(zip(key_list, value_list))` \u3068\u3059\u308b\u3053\u3068\u306b\u3088\u308a\u8f9e\u66f8\u3092\u4f5c\u6210\u3057\u307e\u3059\uff0e  \n",
        "3 \u3064\u76ee\u306f\uff0c`dict([(key, value]))` \u3068\u3059\u308b\u3053\u3068\u306b\u3088\u308a\u8f9e\u66f8\u3092\u4f5c\u6210\u3057\u307e\u3059\uff0e  "
      ]
    },
    {
      "cell_type": "code",
      "execution_count": 33,
      "metadata": {},
      "outputs": [
        {
          "ename": "TypeError",
          "evalue": "'int' object is not iterable",
          "output_type": "error",
          "traceback": [
            "\u001b[1;31m---------------------------------------------------------------------------\u001b[0m",
            "\u001b[1;31mTypeError\u001b[0m                                 Traceback (most recent call last)",
            "\u001b[1;32m~\\AppData\\Local\\Temp/ipykernel_10324/3483618521.py\u001b[0m in \u001b[0;36m<module>\u001b[1;34m\u001b[0m\n\u001b[1;32m----> 1\u001b[1;33m \u001b[0mdict\u001b[0m\u001b[1;33m(\u001b[0m\u001b[0mmap\u001b[0m\u001b[1;33m(\u001b[0m\u001b[1;34m\"1\"\u001b[0m\u001b[1;33m,\u001b[0m\u001b[1;36m1\u001b[0m\u001b[1;33m)\u001b[0m\u001b[1;33m)\u001b[0m\u001b[1;33m\u001b[0m\u001b[1;33m\u001b[0m\u001b[0m\n\u001b[0m",
            "\u001b[1;31mTypeError\u001b[0m: 'int' object is not iterable"
          ]
        }
      ],
      "source": [
        "dict(map(\"1\",1))"
      ]
    },
    {
      "cell_type": "code",
      "execution_count": 34,
      "metadata": {},
      "outputs": [
        {
          "data": {
            "text/plain": [
              "{'a': 0, 'b': 1, 'c': 2}"
            ]
          },
          "execution_count": 34,
          "metadata": {},
          "output_type": "execute_result"
        }
      ],
      "source": [
        "# dict(**kwarg)\n",
        "dict(a=0, b=1, c=2)"
      ]
    },
    {
      "cell_type": "code",
      "execution_count": 35,
      "metadata": {},
      "outputs": [
        {
          "data": {
            "text/plain": [
              "{'a': 0, 'b': 1, 'c': 2}"
            ]
          },
          "execution_count": 35,
          "metadata": {},
          "output_type": "execute_result"
        }
      ],
      "source": [
        "# dict(mapping, **kwarg)\n",
        "k = [\"a\", \"b\", \"c\"]\n",
        "v = [0, 1, 2]\n",
        "dict(zip(k, v))"
      ]
    },
    {
      "cell_type": "code",
      "execution_count": 36,
      "metadata": {},
      "outputs": [
        {
          "data": {
            "text/plain": [
              "{'a': 0, 'b': 1, 'c': 2}"
            ]
          },
          "execution_count": 36,
          "metadata": {},
          "output_type": "execute_result"
        }
      ],
      "source": [
        "# dict(iterable, **kwarg)\n",
        "dict([(\"a\", 0), (\"b\", 1), (\"c\", 2)])"
      ]
    },
    {
      "cell_type": "markdown",
      "metadata": {},
      "source": [
        "---\n",
        "\n",
        "## len(): \u8981\u7d20\u6570\uff0f\u9577\u3055\u3092\u53d6\u5f97 <a class=\"anchor\" id=\"len\"></a>  \n",
        "[\u76ee\u6b21\u306b\u623b\u308b](#0)  "
      ]
    },
    {
      "cell_type": "markdown",
      "metadata": {},
      "source": [
        "`len(s)`:  \n",
        "\u30aa\u30d6\u30b8\u30a7\u30af\u30c8 `s` \u306e\u9577\u3055\uff08\u8981\u7d20\u306e\u6570\uff09\u3092\u8fd4\u3057\u307e\u3059\uff0e\u5f15\u6570\u306f\u30b7\u30fc\u30b1\u30f3\u30b9\u304b\u30b3\u30ec\u30af\u30b7\u30e7\u30f3\u3067\u3059\uff0e"
      ]
    },
    {
      "cell_type": "code",
      "execution_count": 37,
      "metadata": {},
      "outputs": [
        {
          "data": {
            "text/plain": [
              "4"
            ]
          },
          "execution_count": 37,
          "metadata": {},
          "output_type": "execute_result"
        }
      ],
      "source": [
        "a = \"test\"\n",
        "len(a)"
      ]
    },
    {
      "cell_type": "code",
      "execution_count": 38,
      "metadata": {},
      "outputs": [
        {
          "data": {
            "text/plain": [
              "4"
            ]
          },
          "execution_count": 38,
          "metadata": {},
          "output_type": "execute_result"
        }
      ],
      "source": [
        "a = [0, 1, 2, 3]\n",
        "len(a)"
      ]
    },
    {
      "cell_type": "code",
      "execution_count": 39,
      "metadata": {},
      "outputs": [
        {
          "data": {
            "text/plain": [
              "2"
            ]
          },
          "execution_count": 39,
          "metadata": {},
          "output_type": "execute_result"
        }
      ],
      "source": [
        "a = {\"a\": 0, \"b\": 1}\n",
        "len(a)"
      ]
    },
    {
      "cell_type": "code",
      "execution_count": 40,
      "metadata": {},
      "outputs": [
        {
          "data": {
            "text/plain": [
              "1"
            ]
          },
          "execution_count": 40,
          "metadata": {},
          "output_type": "execute_result"
        }
      ],
      "source": [
        "a = [[0, 1, 2, 3]]\n",
        "len(a)"
      ]
    },
    {
      "cell_type": "markdown",
      "metadata": {},
      "source": [
        "---\n",
        "\n",
        "## max(): \u6700\u5927\u5024\u3092\u53d6\u5f97 <a class=\"anchor\" id=\"max\"></a>  \n",
        "[\u76ee\u6b21\u306b\u623b\u308b](#0)  "
      ]
    },
    {
      "cell_type": "markdown",
      "metadata": {},
      "source": [
        "`max(iterable, key, default)` \u307e\u305f\u306f `max(arg1, arg2, *args, key)`:  \n",
        "`iterable` \u306e\u4e2d\u3067\u6700\u5927\u306e\u8981\u7d20\uff0c\u307e\u305f\u306f 2 \u3064\u4ee5\u4e0a\u306e\u5f15\u6570\u306e\u4e2d\u3067\u6700\u5927\u306e\u3082\u306e\u3092\u8fd4\u3057\u307e\u3059\uff0e"
      ]
    },
    {
      "cell_type": "code",
      "execution_count": 41,
      "metadata": {},
      "outputs": [
        {
          "data": {
            "text/plain": [
              "2"
            ]
          },
          "execution_count": 41,
          "metadata": {},
          "output_type": "execute_result"
        }
      ],
      "source": [
        "a = [0, 1, 2]\n",
        "max(a)"
      ]
    },
    {
      "cell_type": "code",
      "execution_count": 42,
      "metadata": {},
      "outputs": [
        {
          "data": {
            "text/plain": [
              "2"
            ]
          },
          "execution_count": 42,
          "metadata": {},
          "output_type": "execute_result"
        }
      ],
      "source": [
        "max(0, 1, 2)"
      ]
    },
    {
      "cell_type": "code",
      "execution_count": 43,
      "metadata": {},
      "outputs": [
        {
          "data": {
            "text/plain": [
              "True"
            ]
          },
          "execution_count": 43,
          "metadata": {},
          "output_type": "execute_result"
        }
      ],
      "source": [
        "max(True, False, -1)"
      ]
    },
    {
      "cell_type": "code",
      "execution_count": 44,
      "metadata": {},
      "outputs": [
        {
          "ename": "TypeError",
          "evalue": "'>' not supported between instances of 'int' and 'str'",
          "output_type": "error",
          "traceback": [
            "\u001b[1;31m---------------------------------------------------------------------------\u001b[0m",
            "\u001b[1;31mTypeError\u001b[0m                                 Traceback (most recent call last)",
            "\u001b[1;32m~\\AppData\\Local\\Temp/ipykernel_10324/4041100510.py\u001b[0m in \u001b[0;36m<module>\u001b[1;34m\u001b[0m\n\u001b[1;32m----> 1\u001b[1;33m \u001b[0mmax\u001b[0m\u001b[1;33m(\u001b[0m\u001b[1;34m\"6\"\u001b[0m\u001b[1;33m,\u001b[0m \u001b[1;34m\"1\"\u001b[0m\u001b[1;33m,\u001b[0m \u001b[1;36m1\u001b[0m\u001b[1;33m)\u001b[0m\u001b[1;33m\u001b[0m\u001b[1;33m\u001b[0m\u001b[0m\n\u001b[0m",
            "\u001b[1;31mTypeError\u001b[0m: '>' not supported between instances of 'int' and 'str'"
          ]
        }
      ],
      "source": [
        "max(\"6\", \"1\", 1)"
      ]
    },
    {
      "cell_type": "code",
      "execution_count": 45,
      "metadata": {},
      "outputs": [
        {
          "ename": "TypeError",
          "evalue": "'>' not supported between instances of 'NoneType' and 'int'",
          "output_type": "error",
          "traceback": [
            "\u001b[1;31m---------------------------------------------------------------------------\u001b[0m",
            "\u001b[1;31mTypeError\u001b[0m                                 Traceback (most recent call last)",
            "\u001b[1;32m~\\AppData\\Local\\Temp/ipykernel_10324/2608310793.py\u001b[0m in \u001b[0;36m<module>\u001b[1;34m\u001b[0m\n\u001b[1;32m----> 1\u001b[1;33m \u001b[0mmax\u001b[0m\u001b[1;33m(\u001b[0m\u001b[1;36m1\u001b[0m\u001b[1;33m,\u001b[0m \u001b[1;32mNone\u001b[0m\u001b[1;33m)\u001b[0m\u001b[1;33m\u001b[0m\u001b[1;33m\u001b[0m\u001b[0m\n\u001b[0m",
            "\u001b[1;31mTypeError\u001b[0m: '>' not supported between instances of 'NoneType' and 'int'"
          ]
        }
      ],
      "source": [
        "max(1, None)"
      ]
    },
    {
      "cell_type": "markdown",
      "metadata": {},
      "source": [
        "\u5927\u5c0f\u95a2\u4fc2\u304c\u6bd4\u8f03\u3067\u304d\u306a\u3044\u5834\u5408\u306f\uff0c`TypeError` \u304c\u9001\u51fa\u3055\u308c\u307e\u3059\uff0e  \n",
        "`None` \u306f\u30bc\u30ed\u3067\u306a\u304f\u7a7a\u306a\u306e\u3067\uff0c\u6570\u5024\u3068\u6bd4\u8f03\u3059\u308b\u3053\u3068\u304c\u3067\u304d\u307e\u305b\u3093\uff0e"
      ]
    },
    {
      "cell_type": "markdown",
      "metadata": {},
      "source": [
        "---\n",
        "\n",
        "## min(): \u6700\u5c0f\u5024\u3092\u53d6\u5f97 <a class=\"anchor\" id=\"min\"></a>  \n",
        "[\u76ee\u6b21\u306b\u623b\u308b](#0)  "
      ]
    },
    {
      "cell_type": "markdown",
      "metadata": {},
      "source": [
        "`min(iterable, key, default)` \u307e\u305f\u306f `min(arg1, arg2, *args, key)`:  \n",
        "`iterable` \u306e\u4e2d\u3067\u6700\u5c0f\u306e\u8981\u7d20\uff0c\u307e\u305f\u306f 2 \u3064\u4ee5\u4e0a\u306e\u5f15\u6570\u306e\u4e2d\u3067\u6700\u5c0f\u306e\u3082\u306e\u3092\u8fd4\u3057\u307e\u3059\uff0e\u6027\u8cea\u3084\u4f7f\u3044\u65b9\u306f `max()` \u3068\u540c\u69d8\u3067\u3059\uff0e"
      ]
    },
    {
      "cell_type": "code",
      "execution_count": 46,
      "metadata": {},
      "outputs": [
        {
          "data": {
            "text/plain": [
              "-1"
            ]
          },
          "execution_count": 46,
          "metadata": {},
          "output_type": "execute_result"
        }
      ],
      "source": [
        "min(0, 1, 2, -1)"
      ]
    },
    {
      "cell_type": "markdown",
      "metadata": {},
      "source": [
        "---\n",
        "\n",
        "## all(): \u5168\u3066\u306e\u8981\u7d20\u306b\u5bfe\u3059\u308b\u5224\u5b9a <a class=\"anchor\" id=\"all\"></a>  \n",
        "[\u76ee\u6b21\u306b\u623b\u308b](#0)  "
      ]
    },
    {
      "cell_type": "markdown",
      "metadata": {},
      "source": [
        "`all(iterable)`:  \n",
        "`iterable` \u306e\u5168\u3066\u306e\u8981\u7d20\u304c\u771f\uff0c\u3082\u3057\u304f\u306f\uff0c\u7a7a\u3067\u3042\u308c\u3070 `True` \u3092\u8fd4\u3057\u307e\u3059\uff0e"
      ]
    },
    {
      "cell_type": "code",
      "execution_count": 47,
      "metadata": {},
      "outputs": [
        {
          "data": {
            "text/plain": [
              "(True, False, True)"
            ]
          },
          "execution_count": 47,
          "metadata": {},
          "output_type": "execute_result"
        }
      ],
      "source": [
        "(\n",
        "    all([True]),\n",
        "    all((0,1)),\n",
        "    all([True is True, False is False, True is not False])\n",
        ")"
      ]
    },
    {
      "cell_type": "markdown",
      "metadata": {},
      "source": [
        "---\n",
        "\n",
        "## any(): \u3044\u305a\u308c\u304b\u306e\u8981\u7d20\u306b\u5bfe\u3059\u308b\u5224\u5b9a <a class=\"anchor\" id=\"any\"></a>  \n",
        "[\u76ee\u6b21\u306b\u623b\u308b](#0)  "
      ]
    },
    {
      "cell_type": "markdown",
      "metadata": {},
      "source": [
        "`any(iterable)`:  \n",
        "`iterable` \u306e\u3044\u305a\u308c\u304b\u306e\u8981\u7d20\u304c\u771f\u306a\u3089\u3070 `True` \u3092\u8fd4\u3057\u307e\u3059\uff0e`iterable` \u304c\u7a7a\u306a\u3089 `False` \u3092\u8fd4\u3057\u307e\u3059\uff0e"
      ]
    },
    {
      "cell_type": "code",
      "execution_count": 48,
      "metadata": {},
      "outputs": [
        {
          "data": {
            "text/plain": [
              "(True, True, True)"
            ]
          },
          "execution_count": 48,
          "metadata": {},
          "output_type": "execute_result"
        }
      ],
      "source": [
        "(\n",
        "    any([True]),\n",
        "    any((0,1)),\n",
        "    any([True is True, False is False, True is not False])\n",
        ")"
      ]
    },
    {
      "cell_type": "markdown",
      "metadata": {
        "tags": []
      },
      "source": [
        "---\n",
        "\n",
        "## range(): \u6570\u306e\u30a4\u30df\u30e5\u30fc\u30bf\u30d6\u30eb\u306a\u30b7\u30fc\u30b1\u30f3\u30b9\u3092\u6307\u5b9a\u9577\u306b\u3066\u4f5c\u6210 <a class=\"anchor\" id=\"range\"></a>  \n",
        "[\u76ee\u6b21\u306b\u623b\u308b](#0)  "
      ]
    },
    {
      "cell_type": "markdown",
      "metadata": {},
      "source": [
        "`range(stop)` \u307e\u305f\u306f `range(start, stop, step)`:  \n",
        "range \u578b\u306f\uff0c\u4e0b\u56f3\u306e\u30a4\u30df\u30e5\u30fc\u30bf\u30d6\u30eb\u306a\u30b7\u30fc\u30b1\u30f3\u30b9\u3092\u8868\u3057\uff0c\u4e00\u822c\u306b for \u30eb\u30fc\u30d7\u306b\u304a\u3044\u3066\u7279\u5b9a\u306e\u56de\u6570\u306e\u30eb\u30fc\u30d7\u306b\u4f7f\u308f\u308c\u307e\u3059\uff0e\u5f15\u6570\u306f\u6574\u6570\u3067\u3042\u308b\u5fc5\u8981\u304c\u3042\u308a\u307e\u3059\uff0e"
      ]
    },
    {
      "cell_type": "code",
      "execution_count": 49,
      "metadata": {},
      "outputs": [
        {
          "data": {
            "text/plain": [
              "range(0, 10)"
            ]
          },
          "execution_count": 49,
          "metadata": {},
          "output_type": "execute_result"
        }
      ],
      "source": [
        "range(0, 10)"
      ]
    },
    {
      "cell_type": "code",
      "execution_count": 50,
      "metadata": {},
      "outputs": [
        {
          "data": {
            "text/plain": [
              "[0, 1, 2, 3, 4, 5, 6, 7, 8, 9]"
            ]
          },
          "execution_count": 50,
          "metadata": {},
          "output_type": "execute_result"
        }
      ],
      "source": [
        "list(range(0, 10))"
      ]
    },
    {
      "cell_type": "code",
      "execution_count": 51,
      "metadata": {},
      "outputs": [
        {
          "data": {
            "text/plain": [
              "(0, 1, 2, 3, 4)"
            ]
          },
          "execution_count": 51,
          "metadata": {},
          "output_type": "execute_result"
        }
      ],
      "source": [
        "tuple(range(0, 5))"
      ]
    },
    {
      "cell_type": "code",
      "execution_count": 52,
      "metadata": {},
      "outputs": [
        {
          "data": {
            "text/plain": [
              "[15, 11, 7, 3, -1]"
            ]
          },
          "execution_count": 52,
          "metadata": {},
          "output_type": "execute_result"
        }
      ],
      "source": [
        "list(range(15, -3, -4))"
      ]
    },
    {
      "cell_type": "markdown",
      "metadata": {},
      "source": [
        "---\n",
        "\n",
        "## sorted(): \u30bd\u30fc\u30c8\u7d50\u679c\u3092\u53d6\u5f97 <a class=\"anchor\" id=\"sorted\"></a>  \n",
        "[\u76ee\u6b21\u306b\u623b\u308b](#0)  "
      ]
    },
    {
      "cell_type": "markdown",
      "metadata": {},
      "source": [
        "`sorted(iterable, *, key=None, reverse=False)`:  \n",
        "`iterable` \u306e\u8981\u7d20\u3092\u4e26\u3073\u66ff\u3048\u305f\u65b0\u305f\u306a\u30ea\u30b9\u30c8\u3092\u8fd4\u3057\u307e\u3059\uff0e  \n",
        "`key` \u306b\u306f 1 \u5f15\u6570\u95a2\u6570\u3092\u6307\u5b9a\u3057\u307e\u3059\uff0e\u3053\u308c\u306f `iterable` \u306e\u5404\u8981\u7d20\u304b\u3089\u6bd4\u8f03\u30ad\u30fc\u3092\u5c55\u958b\u3059\u308b\u306e\u306b\u3064\u304b\u308f\u308c\u307e\u3059\uff0e\u30c7\u30d5\u30a9\u30eb\u30c8\u5024\u306f `None` \u3067\u3059\uff0e  \n",
        "\u5f15\u6570 `reverse` \u306f\u771f\u507d\u5024\u3067\u3059\uff0e`True` \u304c\u30bb\u30c3\u30c8\u3055\u308c\u305f\u5834\u5408\uff0c\u30ea\u30b9\u30c8\u306e\u8981\u7d20\u306f\u500b\u3005\u306e\u6bd4\u8f03\u304c\u53cd\u8ee2\u3057\u305f\u3082\u306e\u3068\u3057\u3066\u4e26\u3073\u66ff\u3048\u3089\u308c\u307e\u3059\uff0e"
      ]
    },
    {
      "cell_type": "code",
      "execution_count": 53,
      "metadata": {},
      "outputs": [
        {
          "data": {
            "text/plain": [
              "[-10, -5, 0, 1, 3]"
            ]
          },
          "execution_count": 53,
          "metadata": {},
          "output_type": "execute_result"
        }
      ],
      "source": [
        "a = [1, 0, 3, -5, -10]\n",
        "sorted(a)"
      ]
    },
    {
      "cell_type": "code",
      "execution_count": 54,
      "metadata": {},
      "outputs": [
        {
          "data": {
            "text/plain": [
              "[3, 1, 0, -5, -10]"
            ]
          },
          "execution_count": 54,
          "metadata": {},
          "output_type": "execute_result"
        }
      ],
      "source": [
        "sorted(a, reverse=True)"
      ]
    },
    {
      "cell_type": "markdown",
      "metadata": {},
      "source": [
        "---\n",
        "\n",
        "## slice(): \u30b9\u30e9\u30a4\u30b9\u3092\u53d6\u5f97 <a class=\"anchor\" id=\"slice\"></a>  \n",
        "[\u76ee\u6b21\u306b\u623b\u308b](#0)  "
      ]
    },
    {
      "cell_type": "markdown",
      "metadata": {},
      "source": [
        "`slice(stop)` \u307e\u305f\u306f `slice(start, stop, step)`:  \n",
        "`range(start, stop, step)` \u3067\u6307\u5b9a\u3055\u308c\u308b\u30a4\u30f3\u30c7\u30c3\u30af\u30b9\u306e\u96c6\u5408\u3092\u8868\u3059\uff0c\u30b9\u30e9\u30a4\u30b9\u30aa\u30d6\u30b8\u30a7\u30af\u30c8\u3092\u8fd4\u3057\u307e\u3059\uff0e\u5f15\u6570 `start` \u304a\u3088\u3073 `step` \u306f\u30c7\u30d5\u30a9\u30eb\u30c8\u3067\u306f `None` \u3067\u3059\uff0e\u30b9\u30e9\u30a4\u30b9\u30aa\u30d6\u30b8\u30a7\u30af\u30c8\u306f\u8aad\u307f\u51fa\u3057\u5c02\u7528\u306e\u5c5e\u6027 `start, stop, step` \u3092\u6301\u3061\uff0c\u3053\u308c\u3089\u306f\u305f\u3093\u306b\u5f15\u6570\u3067\u4f7f\u308f\u308c\u305f\u5024\u3092\u8fd4\u3057\u307e\u3059\uff0e"
      ]
    },
    {
      "cell_type": "code",
      "execution_count": 55,
      "metadata": {},
      "outputs": [
        {
          "data": {
            "text/plain": [
              "slice(None, 10, None)"
            ]
          },
          "execution_count": 55,
          "metadata": {},
          "output_type": "execute_result"
        }
      ],
      "source": [
        "slice(10)"
      ]
    },
    {
      "cell_type": "code",
      "execution_count": 56,
      "metadata": {},
      "outputs": [
        {
          "data": {
            "text/plain": [
              "slice(0, 10, 1)"
            ]
          },
          "execution_count": 56,
          "metadata": {},
          "output_type": "execute_result"
        }
      ],
      "source": [
        "slice(0, 10, 1)"
      ]
    },
    {
      "cell_type": "code",
      "execution_count": 57,
      "metadata": {},
      "outputs": [
        {
          "data": {
            "text/plain": [
              "[0, 1, 2]"
            ]
          },
          "execution_count": 57,
          "metadata": {},
          "output_type": "execute_result"
        }
      ],
      "source": [
        "a = [0, 1, 2, 3, 4]\n",
        "a[slice(0, 3, 1)]"
      ]
    },
    {
      "cell_type": "code",
      "execution_count": 58,
      "metadata": {},
      "outputs": [
        {
          "data": {
            "text/plain": [
              "True"
            ]
          },
          "execution_count": 58,
          "metadata": {},
          "output_type": "execute_result"
        }
      ],
      "source": [
        "a = [0, 1, 2, 3, 4]\n",
        "a[slice(0, 3, 1)]==a[0:3:1]"
      ]
    },
    {
      "cell_type": "markdown",
      "metadata": {},
      "source": [
        "---\n",
        "\n",
        "## iter(): \u30a4\u30c6\u30ec\u30fc\u30bf\u4f5c\u6210 <a class=\"anchor\" id=\"iter\"></a>  \n",
        "[\u76ee\u6b21\u306b\u623b\u308b](#0)  "
      ]
    },
    {
      "cell_type": "markdown",
      "metadata": {},
      "source": [
        "`iter(object, sentinel)`:  \n",
        "\u30a4\u30c6\u30ec\u30fc\u30bf\u30aa\u30d6\u30b8\u30a7\u30af\u30c8\u3092\u8fd4\u3057\u307e\u3059\uff0e\u7b2c\u4e8c\u5f15\u6570\u304c\u3042\u308b\u304b\u3069\u3046\u304b\u3067\uff0c\u7b2c\u4e00\u5f15\u6570\u306e\u89e3\u91c8\u306f\u5927\u304d\u304f\u7570\u306a\u308a\u307e\u3059\uff0e\u7b2c\u4e8c\u5f15\u6570\u304c\u7121\u3044\u5834\u5408\uff0c`object` \u306f\u53cd\u5fa9\u30d7\u30ed\u30c8\u30b3\u30eb `__iter__()` \u30e1\u30bd\u30c3\u30c9\u304b\uff0c\u30b7\u30fc\u30b1\u30f3\u30b9\u30d7\u30ed\u30c8\u30b3\u30eb\u3092\u30b5\u30dd\u30fc\u30c8\u3059\u308b\u96c6\u5408\u30aa\u30d6\u30b8\u30a7\u30af\u30c8\u3067\u306a\u3051\u308c\u3070\u306a\u308a\u307e\u305b\u3093\uff0e  \n",
        "\u7b2c\u4e8c\u5f15\u6570 `sentinel` \u304c\u4e0e\u3048\u3089\u308c\u3066\u3044\u308b\u306a\u3089\uff0c`object` \u306f\u547c\u3073\u51fa\u3057\u53ef\u80fd\u30aa\u30d6\u30b8\u30a7\u30af\u30c8\u3067\u306a\u3051\u308c\u3070\u306a\u308a\u307e\u305b\u3093\uff0e"
      ]
    },
    {
      "cell_type": "code",
      "execution_count": 59,
      "metadata": {},
      "outputs": [
        {
          "data": {
            "text/plain": [
              "<list_iterator at 0x229d8318f10>"
            ]
          },
          "execution_count": 59,
          "metadata": {},
          "output_type": "execute_result"
        }
      ],
      "source": [
        "iter([0,10])"
      ]
    },
    {
      "cell_type": "code",
      "execution_count": 60,
      "metadata": {},
      "outputs": [
        {
          "data": {
            "text/plain": [
              "<tuple_iterator at 0x229d83180a0>"
            ]
          },
          "execution_count": 60,
          "metadata": {},
          "output_type": "execute_result"
        }
      ],
      "source": [
        "iter((0,10))"
      ]
    },
    {
      "cell_type": "code",
      "execution_count": 61,
      "metadata": {},
      "outputs": [
        {
          "data": {
            "text/plain": [
              "[0, 10]"
            ]
          },
          "execution_count": 61,
          "metadata": {},
          "output_type": "execute_result"
        }
      ],
      "source": [
        "list(iter([0,10]))"
      ]
    },
    {
      "cell_type": "code",
      "execution_count": 62,
      "metadata": {},
      "outputs": [
        {
          "data": {
            "text/plain": [
              "[0, 1, 2, 3, 4, 5, 6, 7, 8, 9]"
            ]
          },
          "execution_count": 62,
          "metadata": {},
          "output_type": "execute_result"
        }
      ],
      "source": [
        "list(iter(range(10)))"
      ]
    },
    {
      "cell_type": "markdown",
      "metadata": {},
      "source": [
        "---\n",
        "\n",
        "## reversed(): \u8981\u7d20\u3092\u9006\u9806\u306b\u53d6\u308a\u51fa\u3059\u30a4\u30c6\u30ec\u30fc\u30bf\u3092\u53d6\u5f97 <a class=\"anchor\" id=\"reversed\"></a>  \n",
        "[\u76ee\u6b21\u306b\u623b\u308b](#0)  "
      ]
    },
    {
      "cell_type": "markdown",
      "metadata": {},
      "source": [
        "`reversed(seq)`:  \n",
        "\u8981\u7d20\u3092\u9006\u9806\u306b\u53d6\u308a\u51fa\u3059\u30a4\u30c6\u30ec\u30fc\u30bf\u3092\u8fd4\u3057\u307e\u3059\uff0e`seq` \u306f `__reversed()` \u30e1\u30bd\u30c3\u30c9\u3092\u6301\u3064\u304b\uff0c\u30b7\u30fc\u30b1\u30f3\u30b9\u578b\u30d7\u30ed\u30c8\u30b3\u30eb\u3092\u30b5\u30dd\u30fc\u30c8\u3059\u308b\u30aa\u30d6\u30b8\u30a7\u30af\u30c8\u3067\u306a\u3051\u308c\u3070\u306a\u308a\u307e\u305b\u3093\uff0e"
      ]
    },
    {
      "cell_type": "code",
      "execution_count": 63,
      "metadata": {},
      "outputs": [
        {
          "data": {
            "text/plain": [
              "<list_reverseiterator at 0x229d83181f0>"
            ]
          },
          "execution_count": 63,
          "metadata": {},
          "output_type": "execute_result"
        }
      ],
      "source": [
        "reversed([0, 2, 1])"
      ]
    },
    {
      "cell_type": "code",
      "execution_count": 64,
      "metadata": {},
      "outputs": [
        {
          "data": {
            "text/plain": [
              "[1, 2, 0]"
            ]
          },
          "execution_count": 64,
          "metadata": {},
          "output_type": "execute_result"
        }
      ],
      "source": [
        "list(reversed([0, 2, 1]))"
      ]
    },
    {
      "cell_type": "markdown",
      "metadata": {},
      "source": [
        "---\n",
        "\n",
        "## next(): \u30a4\u30c6\u30ec\u30fc\u30bf\u306e\u6b21\u306e\u8981\u7d20\u3092\u53d6\u5f97 <a class=\"anchor\" id=\"next\"></a>  \n",
        "[\u76ee\u6b21\u306b\u623b\u308b](#0)  "
      ]
    },
    {
      "cell_type": "markdown",
      "metadata": {},
      "source": [
        "`next(iterator, default)`:  \n",
        "`iterator` \u306e `__next__()` \u30e1\u30bd\u30c3\u30c9\u3068\u547c\u3073\u51fa\u3059\u3053\u3068\u306b\u3088\u308a\uff0c\u6b21\u306e\u8981\u7d20\u3092\u53d6\u5f97\u3057\u307e\u3059\uff0e\u30a4\u30c6\u30ec\u30fc\u30bf\u304c\u5c3d\u304d\u3066\u3044\u308b\u5834\u5408\uff0c`default` \u304c\u4e0e\u3048\u3089\u308c\u3066\u3044\u308c\u3070\u305d\u308c\u304c\u8fd4\u3055\u308c\uff0c\u305d\u3046\u3067\u306a\u3051\u308c\u3070 `StopIeration` \u304c\u9001\u51fa\u3055\u308c\u307e\u3059\uff0e"
      ]
    },
    {
      "cell_type": "code",
      "execution_count": 65,
      "metadata": {},
      "outputs": [
        {
          "data": {
            "text/plain": [
              "<list_iterator at 0x229d834d160>"
            ]
          },
          "execution_count": 65,
          "metadata": {},
          "output_type": "execute_result"
        }
      ],
      "source": [
        "a = [\"1\", \"2\", \"3\"]\n",
        "b = iter(a)\n",
        "b"
      ]
    },
    {
      "cell_type": "code",
      "execution_count": 66,
      "metadata": {},
      "outputs": [
        {
          "data": {
            "text/plain": [
              "'1'"
            ]
          },
          "execution_count": 66,
          "metadata": {},
          "output_type": "execute_result"
        }
      ],
      "source": [
        "next(b)"
      ]
    },
    {
      "cell_type": "code",
      "execution_count": 67,
      "metadata": {},
      "outputs": [
        {
          "data": {
            "text/plain": [
              "'2'"
            ]
          },
          "execution_count": 67,
          "metadata": {},
          "output_type": "execute_result"
        }
      ],
      "source": [
        "next(b)"
      ]
    },
    {
      "cell_type": "code",
      "execution_count": 68,
      "metadata": {},
      "outputs": [
        {
          "data": {
            "text/plain": [
              "'3'"
            ]
          },
          "execution_count": 68,
          "metadata": {},
          "output_type": "execute_result"
        }
      ],
      "source": [
        "next(b)"
      ]
    },
    {
      "cell_type": "code",
      "execution_count": 69,
      "metadata": {},
      "outputs": [
        {
          "ename": "StopIteration",
          "evalue": "",
          "output_type": "error",
          "traceback": [
            "\u001b[1;31m---------------------------------------------------------------------------\u001b[0m",
            "\u001b[1;31mStopIteration\u001b[0m                             Traceback (most recent call last)",
            "\u001b[1;32m~\\AppData\\Local\\Temp/ipykernel_10324/973617480.py\u001b[0m in \u001b[0;36m<module>\u001b[1;34m\u001b[0m\n\u001b[1;32m----> 1\u001b[1;33m \u001b[0mnext\u001b[0m\u001b[1;33m(\u001b[0m\u001b[0mb\u001b[0m\u001b[1;33m)\u001b[0m\u001b[1;33m\u001b[0m\u001b[1;33m\u001b[0m\u001b[0m\n\u001b[0m",
            "\u001b[1;31mStopIteration\u001b[0m: "
          ]
        }
      ],
      "source": [
        "next(b)"
      ]
    },
    {
      "cell_type": "code",
      "execution_count": 70,
      "metadata": {},
      "outputs": [
        {
          "data": {
            "text/plain": [
              "'1'"
            ]
          },
          "execution_count": 70,
          "metadata": {},
          "output_type": "execute_result"
        }
      ],
      "source": [
        "a = [\"1\", \"2\", \"3\"]\n",
        "b = iter(a)\n",
        "next(b, \"end\")"
      ]
    },
    {
      "cell_type": "code",
      "execution_count": 71,
      "metadata": {},
      "outputs": [
        {
          "data": {
            "text/plain": [
              "'2'"
            ]
          },
          "execution_count": 71,
          "metadata": {},
          "output_type": "execute_result"
        }
      ],
      "source": [
        "next(b, \"end\")"
      ]
    },
    {
      "cell_type": "code",
      "execution_count": 72,
      "metadata": {},
      "outputs": [
        {
          "data": {
            "text/plain": [
              "'3'"
            ]
          },
          "execution_count": 72,
          "metadata": {},
          "output_type": "execute_result"
        }
      ],
      "source": [
        "next(b, \"end\")"
      ]
    },
    {
      "cell_type": "code",
      "execution_count": 73,
      "metadata": {},
      "outputs": [
        {
          "data": {
            "text/plain": [
              "'end'"
            ]
          },
          "execution_count": 73,
          "metadata": {},
          "output_type": "execute_result"
        }
      ],
      "source": [
        "next(b, \"end\")"
      ]
    },
    {
      "cell_type": "code",
      "execution_count": 74,
      "metadata": {},
      "outputs": [
        {
          "data": {
            "text/plain": [
              "'end'"
            ]
          },
          "execution_count": 74,
          "metadata": {},
          "output_type": "execute_result"
        }
      ],
      "source": [
        "next(b, \"end\")"
      ]
    },
    {
      "cell_type": "markdown",
      "metadata": {},
      "source": [
        "---\n",
        "\n",
        "## enumerate(): enumerate \u30aa\u30d6\u30b8\u30a7\u30af\u30c8\u3092\u53d6\u5f97 <a class=\"anchor\" id=\"enumerate\"></a>  \n",
        "[\u76ee\u6b21\u306b\u623b\u308b](#0)  "
      ]
    },
    {
      "cell_type": "markdown",
      "metadata": {},
      "source": [
        "`enumerate(iterable, start=0)`: enumerate \u30aa\u30d6\u30b8\u30a7\u30af\u30c8\u3092\u8fd4\u3057\u307e\u3059\uff0e\u30ea\u30b9\u30c8\u5316\u306b\u306f\uff0clist \u95a2\u6570\u3092\u7528\u3044\u307e\u3059\uff0e"
      ]
    },
    {
      "cell_type": "code",
      "execution_count": 75,
      "metadata": {},
      "outputs": [
        {
          "data": {
            "text/plain": [
              "<enumerate at 0x229d83317c0>"
            ]
          },
          "execution_count": 75,
          "metadata": {},
          "output_type": "execute_result"
        }
      ],
      "source": [
        "a = [\"a\", \"b\", \"c\"]\n",
        "b = enumerate(a)\n",
        "b"
      ]
    },
    {
      "cell_type": "markdown",
      "metadata": {},
      "source": [
        "\u4f8b\u3048\u3070\u30ea\u30b9\u30c8\u5316\u3059\u308b\u3068\uff0c\u30a4\u30f3\u30c7\u30c3\u30af\u30b9\u3068\u8981\u7d20\u306e\u30da\u30a2\u3092\u30bf\u30d7\u30eb\u3067\u8fd4\u3057\u307e\u3059\uff0e"
      ]
    },
    {
      "cell_type": "code",
      "execution_count": 76,
      "metadata": {},
      "outputs": [
        {
          "data": {
            "text/plain": [
              "[(0, 'a'), (1, 'b'), (2, 'c')]"
            ]
          },
          "execution_count": 76,
          "metadata": {},
          "output_type": "execute_result"
        }
      ],
      "source": [
        "list(b)"
      ]
    },
    {
      "cell_type": "markdown",
      "metadata": {},
      "source": [
        "---\n",
        "\n",
        "## zip(): \u305d\u308c\u305e\u308c\u306e\u30a4\u30c6\u30e9\u30d6\u30eb\u304b\u3089\u8981\u7d20\u3092\u96c6\u3081\u305f\u30a4\u30c6\u30ec\u30fc\u30bf\u3092\u4f5c\u6210 <a class=\"anchor\" id=\"zip\"></a>  \n",
        "[\u76ee\u6b21\u306b\u623b\u308b](#0)  "
      ]
    },
    {
      "cell_type": "markdown",
      "metadata": {},
      "source": [
        "`zip(*iterables)`:  \n",
        "\u305d\u308c\u305e\u308c\u306e\u30a4\u30c6\u30e9\u30d6\u30eb\u304b\u3089\u8981\u7d20\u3092\u96c6\u3081\u305f\u30a4\u30c6\u30ec\u30fc\u30bf\u3092\u4f5c\u308a\u307e\u3059\uff0e  \n",
        "\u3053\u306e\u95a2\u6570\u306f\u30bf\u30d7\u30eb\u306e\u30a4\u30c6\u30ec\u30fc\u30bf\u3092\u8fd4\u3057\uff0c\u305d\u306e `i` \u756a\u76ee\u306e\u30bf\u30d7\u30eb\u306f\u5f15\u6570\u30b7\u30fc\u30b1\u30f3\u30b9\u307e\u305f\u306f\u30a4\u30c6\u30e9\u30d6\u30eb\u305d\u308c\u305e\u308c\u306e `i` \u756a\u76ee\u306e\u8981\u7d20\u3092\u542b\u307f\u307e\u3059\uff0e"
      ]
    },
    {
      "cell_type": "code",
      "execution_count": 77,
      "metadata": {},
      "outputs": [
        {
          "data": {
            "text/plain": [
              "<zip at 0x229d7e0e900>"
            ]
          },
          "execution_count": 77,
          "metadata": {},
          "output_type": "execute_result"
        }
      ],
      "source": [
        "a = [0, 1, 2]\n",
        "b = [\"b\", \"bb\", \"bbb\"]\n",
        "ab = zip(a, b)\n",
        "ab"
      ]
    },
    {
      "cell_type": "code",
      "execution_count": 78,
      "metadata": {},
      "outputs": [
        {
          "data": {
            "text/plain": [
              "[(0, 'b'), (1, 'bb'), (2, 'bbb')]"
            ]
          },
          "execution_count": 78,
          "metadata": {},
          "output_type": "execute_result"
        }
      ],
      "source": [
        "list(ab)"
      ]
    },
    {
      "cell_type": "markdown",
      "metadata": {},
      "source": [
        "---\n",
        "\n",
        "## map(): \u30de\u30c3\u30d7\u578b\u3078\u30ad\u30e3\u30b9\u30c8 <a class=\"anchor\" id=\"map\"></a>  \n",
        "[\u76ee\u6b21\u306b\u623b\u308b](#0)  "
      ]
    },
    {
      "cell_type": "markdown",
      "metadata": {},
      "source": [
        "`map(function, iterable, ...)`:  \n",
        "`function` \u3092\uff0c\u7d50\u679c\u3092\u8fd4\u3057\u306a\u304c\u3089 `iterable` \u306e\u5168\u3066\u306e\u8981\u7d20\u306b\u9069\u7528\u3059\u308b\u30a4\u30c6\u30ec\u30fc\u30bf\u3092\u8fd4\u3057\u307e\u3059\uff0e\u8ffd\u52a0\u306e `iterable` \u5f15\u6570\u304c\u6e21\u3055\u308c\u305f\u5834\u5408\u306f\uff0c`function` \u306f\u305d\u306e\u6570\u3060\u3051\u306e\u5f15\u6570\u3092\u53d6\u3089\u306a\u3051\u308c\u3070\u306a\u3089\u305a\uff0c\u5168\u3066\u306e\u30a4\u30c6\u30e9\u30d6\u30eb\u304b\u3089\u4e26\u884c\u3057\u3066\u64ae\u3089\u308c\u305f\u8981\u7d20\u306b\u9069\u7528\u3055\u308c\u307e\u3059\uff0e"
      ]
    },
    {
      "cell_type": "code",
      "execution_count": 79,
      "metadata": {},
      "outputs": [
        {
          "data": {
            "text/plain": [
              "<map at 0x229d83185b0>"
            ]
          },
          "execution_count": 79,
          "metadata": {},
          "output_type": "execute_result"
        }
      ],
      "source": [
        "a = [\"1\", \"2\", \"3\"]\n",
        "b = map(int, a)\n",
        "b"
      ]
    },
    {
      "cell_type": "code",
      "execution_count": 80,
      "metadata": {},
      "outputs": [
        {
          "data": {
            "text/plain": [
              "[1, 2, 3]"
            ]
          },
          "execution_count": 80,
          "metadata": {},
          "output_type": "execute_result"
        }
      ],
      "source": [
        "list(b)"
      ]
    },
    {
      "cell_type": "code",
      "execution_count": 81,
      "metadata": {},
      "outputs": [
        {
          "data": {
            "text/plain": [
              "[]"
            ]
          },
          "execution_count": 81,
          "metadata": {},
          "output_type": "execute_result"
        }
      ],
      "source": [
        "list(b)"
      ]
    },
    {
      "cell_type": "markdown",
      "metadata": {},
      "source": [
        "\u4e0a\u8a18 2 \u500b\u76ee\u306e `list(b)` \u304c `[]` \u3068\u306a\u3063\u305f\u306e\u306f\uff0c`b` \u304c\u30a4\u30c6\u30ec\u30fc\u30bf\u3067\u3042\u308a\uff0c1 \u56de\u76ee\u306e `list(b)` \u3067\u30a4\u30f3\u30c7\u30c3\u30af\u30b9\u304c\u6700\u5f8c\u307e\u3067\u9001\u3089\u308c\uff0c\u8981\u7d20\u304c\u5168\u3066\u53d6\u308a\u51fa\u3055\u308c\u305f\u305f\u3081\u3067\u3059\uff0e\u4e88\u3081\u30ea\u30b9\u30c8\u3068\u3057\u3066\u9055\u3046\u6587\u5b57\u5909\u6570\u306b\u4ee3\u5165\u3057\u3066\u304a\u304f\u3053\u3068\u3067\uff0c\u3053\u308c\u306f\u56de\u907f\u3067\u304d\u307e\u3059\uff0e"
      ]
    },
    {
      "cell_type": "code",
      "execution_count": 82,
      "metadata": {},
      "outputs": [
        {
          "data": {
            "text/plain": [
              "[1, 2, 3]"
            ]
          },
          "execution_count": 82,
          "metadata": {},
          "output_type": "execute_result"
        }
      ],
      "source": [
        "a = [\"1\", \"2\", \"3\"]\n",
        "b = list(map(int, a))\n",
        "b"
      ]
    },
    {
      "cell_type": "code",
      "execution_count": 83,
      "metadata": {},
      "outputs": [
        {
          "data": {
            "text/plain": [
              "[1, 2, 3]"
            ]
          },
          "execution_count": 83,
          "metadata": {},
          "output_type": "execute_result"
        }
      ],
      "source": [
        "b"
      ]
    },
    {
      "cell_type": "code",
      "execution_count": 84,
      "metadata": {},
      "outputs": [
        {
          "data": {
            "text/plain": [
              "[1, 2, 3]"
            ]
          },
          "execution_count": 84,
          "metadata": {},
          "output_type": "execute_result"
        }
      ],
      "source": [
        "b"
      ]
    },
    {
      "cell_type": "markdown",
      "metadata": {},
      "source": [
        "---\n",
        "\n",
        "## eval(): \u6587\u5b57\u5217\u578b\u306e\u5f0f\u306e\u6f14\u7b97\u7d50\u679c\u3092\u53d6\u5f97 <a class=\"anchor\" id=\"eval\"></a>  \n",
        "[\u76ee\u6b21\u306b\u623b\u308b](#0)  "
      ]
    },
    {
      "cell_type": "markdown",
      "metadata": {},
      "source": [
        "`eval(expression, globals, locals)`:  \n",
        "\u6587\u5b57\u5217\u3068\u30aa\u30d7\u30b7\u30e7\u30f3\u306e\u5f15\u6570 `globals`, `locals` \u3092\u53d6\u308a\u307e\u3059\uff0e\u30aa\u30d7\u30b7\u30e7\u30f3\u5f15\u6570\u306e `globals` \u306f\u8f9e\u66f8\u3067\uff0c`locals` \u306f\u30de\u30c3\u30d4\u30f3\u30b0\u30aa\u30d6\u30b8\u30a7\u30af\u30c8\u3067\u306a\u3051\u308c\u3070\u306a\u308a\u307e\u305b\u3093\uff0e"
      ]
    },
    {
      "cell_type": "code",
      "execution_count": 85,
      "metadata": {},
      "outputs": [
        {
          "data": {
            "text/plain": [
              "6"
            ]
          },
          "execution_count": 85,
          "metadata": {},
          "output_type": "execute_result"
        }
      ],
      "source": [
        "eval(\"1+2+3\")"
      ]
    },
    {
      "cell_type": "code",
      "execution_count": 86,
      "metadata": {},
      "outputs": [
        {
          "data": {
            "text/plain": [
              "'hello world'"
            ]
          },
          "execution_count": 86,
          "metadata": {},
          "output_type": "execute_result"
        }
      ],
      "source": [
        "x = \"hello\"\n",
        "y = \"world\"\n",
        "eval(\"x + ' ' + y\")"
      ]
    },
    {
      "cell_type": "markdown",
      "metadata": {},
      "source": [
        "`eval` \u3092\u7528\u3044\u308b\u3068\uff0c\u3053\u306e\u3088\u3046\u306b\u6587\u5b57\u5217\u3092\u5f0f\u306e\u3088\u3046\u306b\u51e6\u7406\u3059\u308b\u3053\u3068\u304c\u3067\u304d\u307e\u3059\uff0e"
      ]
    },
    {
      "cell_type": "markdown",
      "metadata": {},
      "source": [
        "---\n",
        "\n",
        "## exec(): \u6587\u5b57\u5217\u578b\u306e\u5f0f\u3092\u6f14\u7b97 <a class=\"anchor\" id=\"exec\"></a>  \n",
        "[\u76ee\u6b21\u306b\u623b\u308b](#0)  "
      ]
    },
    {
      "cell_type": "markdown",
      "metadata": {},
      "source": [
        "`exec(object, globals, locals)`:  \n",
        "\u3053\u306e\u95a2\u6570\u306f python \u30b3\u30fc\u30c9\u306e\u52d5\u7684\u306a\u5b9f\u884c\u3092\u30b5\u30dd\u30fc\u30c8\u3057\u307e\u3059\uff0e`object` \u306f\u6587\u5b57\u5217\u5316\u30b3\u30fc\u30c9\u30aa\u30d6\u30b8\u30a7\u30af\u30c8\u3067\u306a\u3051\u308c\u3070\u306a\u308a\u307e\u305b\u3093\uff0e\u30aa\u30d7\u30b7\u30e7\u30f3\u5f15\u6570\u306e `globals` \u306f\u8f9e\u66f8\u3067\uff0c`locals` \u306f\u30de\u30c3\u30d4\u30f3\u30b0\u30aa\u30d6\u30b8\u30a7\u30af\u30c8\u3067\u306a\u3051\u308c\u3070\u306a\u308a\u307e\u305b\u3093\uff0e"
      ]
    },
    {
      "cell_type": "code",
      "execution_count": 87,
      "metadata": {},
      "outputs": [
        {
          "data": {
            "text/plain": [
              "1"
            ]
          },
          "execution_count": 87,
          "metadata": {},
          "output_type": "execute_result"
        }
      ],
      "source": [
        "exec(\"a=1\")\n",
        "a"
      ]
    },
    {
      "cell_type": "code",
      "execution_count": 88,
      "metadata": {},
      "outputs": [
        {
          "data": {
            "text/plain": [
              "'hello world'"
            ]
          },
          "execution_count": 88,
          "metadata": {},
          "output_type": "execute_result"
        }
      ],
      "source": [
        "x = \"hello\"\n",
        "y = \"world\"\n",
        "exec(\"z = x + ' ' + y\")\n",
        "z"
      ]
    },
    {
      "cell_type": "markdown",
      "metadata": {},
      "source": [
        "---\n",
        "\n",
        "## open(): \u30d5\u30a1\u30a4\u30eb\u3092\u958b\u304f <a class=\"anchor\" id=\"open\"></a>  \n",
        "[\u76ee\u6b21\u306b\u623b\u308b](#0)  "
      ]
    },
    {
      "cell_type": "markdown",
      "metadata": {},
      "source": [
        "`open(file, mode=\"r\", buffering=-1, encoding=None, errors=None, newline=None, closefd=True, opener=None)`:  \n",
        "file \u3092\u958b\u304d\uff0c\u5bfe\u5fdc\u3059\u308b\u30d5\u30a1\u30a4\u30eb\u30aa\u30d6\u30b8\u30a7\u30af\u30c8\u3092\u8fd4\u3057\u307e\u3059\uff0e\u30d5\u30a1\u30a4\u30eb\u3092\u958b\u304f\u3053\u3068\u304c\u3067\u304d\u306a\u3051\u308c\u3070\uff0c `OSError` \u304c\u9001\u51fa\u3055\u308c\u307e\u3059\uff0e  \n",
        "`file` \u306f path-like object \uff08\u30d1\u30b9\u3068\u3057\u3066\u898b\u306a\u3055\u308c\u308b\u30aa\u30d6\u30b8\u30a7\u30af\u30c8\uff09\u3067\uff0c\u958b\u304f\u30d5\u30a1\u30a4\u30eb\u306e (\u7d76\u5bfe\u307e\u305f\u306f\u73fe\u5728\u306e\u30ef\u30fc\u30ad\u30f3\u30b0\u30c7\u30a3\u30ec\u30af\u30c8\u30ea\u306b\u5bfe\u3059\u308b\u76f8\u5bfe) \u30d1\u30b9\u540d\u3092\u4e0e\u3048\u308b\u3082\u306e\u3067\u3059\uff0e  \n",
        "mode \u306f\u30aa\u30d7\u30b7\u30e7\u30f3\u306e\u6587\u5b57\u5217\u3067\uff0c\u30d5\u30a1\u30a4\u30eb\u304c\u958b\u304b\u308c\u308b\u30e2\u30fc\u30c9\u3092\u6307\u5b9a\u3057\u307e\u3059\uff0e\u30c7\u30d5\u30a9\u30eb\u30c8\u306f `'r'` \u3067\uff0c\u8aad\u307f\u8fbc\u307f\u7528\u306b\u30c6\u30ad\u30b9\u30c8\u30e2\u30fc\u30c9\u3067\u958b\u304f\u3068\u3044\u3046\u610f\u5473\u3067\u3059\uff0e\u6307\u5b9a\u53ef\u80fd\u306a\u30e2\u30fc\u30c9\u306f\u6b21\u306e\u8868\u306e\u901a\u308a\u3067\u3059\uff0e"
      ]
    },
    {
      "cell_type": "markdown",
      "metadata": {},
      "source": [
        "| \u6587\u5b57 | \u610f\u5473 |\n",
        "| ---- | ---- |\n",
        "| 'r'  | \u8aad\u307f\u8fbc\u307f\u7528\u306b\u958b\u304f (\u30c7\u30d5\u30a9\u30eb\u30c8) |\n",
        "| 'w'  | \u66f8\u304d\u8fbc\u307f\u7528\u306b\u958b\u304d\u3001\u307e\u305a\u30d5\u30a1\u30a4\u30eb\u3092\u5207\u308a\u8a70\u3081\u308b |\n",
        "| 'x'  | \u6392\u4ed6\u7684\u306a\u751f\u6210\u306b\u958b\u304d\u3001\u30d5\u30a1\u30a4\u30eb\u304c\u5b58\u5728\u3059\u308b\u5834\u5408\u306f\u5931\u6557\u3059\u308b |\n",
        "| 'a'  | \u66f8\u304d\u8fbc\u307f\u7528\u306b\u958b\u304d\u3001\u30d5\u30a1\u30a4\u30eb\u304c\u5b58\u5728\u3059\u308b\u5834\u5408\u306f\u672b\u5c3e\u306b\u8ffd\u8a18\u3059\u308b |\n",
        "| 'b'  | \u30d0\u30a4\u30ca\u30ea\u30e2\u30fc\u30c9 |\n",
        "| 't'  | \u30c6\u30ad\u30b9\u30c8\u30e2\u30fc\u30c9 (\u30c7\u30d5\u30a9\u30eb\u30c8) |\n",
        "| '+'  | \u30c7\u30a3\u30b9\u30af\u30d5\u30a1\u30a4\u30eb\u3092\u66f4\u65b0\u7528\u306b\u958b\u304f (\u8aad\u307f\u8fbc\u307f\uff0f\u66f8\u304d\u8fbc\u307f) |"
      ]
    },
    {
      "cell_type": "markdown",
      "metadata": {},
      "source": [
        "\u516c\u5f0f\u30c9\u30ad\u30e5\u30e1\u30f3\u30c8 (https://docs.python.org/ja/3.7/library/functions.html#open) \u306b\u306f\uff0c\u7db2\u7f85\u7684\u306a\u8aac\u660e\u304c\u306a\u3055\u308c\u3066\u3044\u307e\u3059\u304c\uff0c\u4f8b\u3092\u898b\u305f\u65b9\u304c\u826f\u3044\u3068\u601d\u3046\u306e\u3067\uff0c\u4f8b\u3092\u4ee5\u4e0b\u306b\u793a\u3057\u307e\u3059\uff0e  "
      ]
    },
    {
      "cell_type": "markdown",
      "metadata": {},
      "source": [
        "\u307e\u305a\u306f\uff0c\u30d5\u30a1\u30a4\u30eb\u3092\u66f8\u304d\u8fbc\u307f\u7528\u306b\u65b0\u898f\u3067\u958b\u304d\uff0c\u9069\u5f53\u306a\u5024\u3092\u4ee3\u5165\u3057\u3066\u3044\u304d\u307e\u3059\uff0e"
      ]
    },
    {
      "cell_type": "code",
      "execution_count": 89,
      "metadata": {},
      "outputs": [
        {
          "data": {
            "text/plain": [
              "<_io.TextIOWrapper name='test.txt' mode='w' encoding='cp932'>"
            ]
          },
          "execution_count": 89,
          "metadata": {},
          "output_type": "execute_result"
        }
      ],
      "source": [
        "# file path\n",
        "file = \"test.txt\"\n",
        "\n",
        "# get file object @ mode=\"w\"\n",
        "f = open(file, mode=\"w\")\n",
        "f"
      ]
    },
    {
      "cell_type": "code",
      "execution_count": 90,
      "metadata": {},
      "outputs": [
        {
          "data": {
            "text/plain": [
              "_io.TextIOWrapper"
            ]
          },
          "execution_count": 90,
          "metadata": {},
          "output_type": "execute_result"
        }
      ],
      "source": [
        "type(f)"
      ]
    },
    {
      "cell_type": "markdown",
      "metadata": {},
      "source": [
        "\u3053\u308c\u3067 test.txt \u304c\u66f8\u304d\u8fbc\u307f\u5c02\u7528\u3067\u65b0\u898f\u306b\u4f5c\u6210\u3055\u308c\uff0c`f` \u3092\u3053\u308c\u306e\u30d5\u30a1\u30a4\u30eb\u30aa\u30d6\u30b8\u30a7\u30af\u30c8\u3068\u3057\u3066\u5b9a\u7fa9\u3057\u307e\u3057\u305f\uff0e\u5909\u6570\u306e\u540d\u79f0\u306f\u4f55\u3067\u3082\u69cb\u3044\u307e\u305b\u3093\uff0e  \n",
        "\u6b21\u306b `write()` \u30e1\u30bd\u30c3\u30c9\u3092\u7528\u3044\u3066\u66f8\u304d\u8fbc\u3093\u3067\u307f\u307e\u3059\uff0e`write()` \u306e\u5f15\u6570\u306f\u6587\u5b57\u5217\u306e\u307f\u6709\u52b9\u306a\u306e\u3067\uff0c\u3082\u3057\u6570\u5024\u3092\u5165\u308c\u305f\u3044\u5834\u5408\u306f\uff0cf-string \u3092\u7528\u3044\u308b\u304b\uff0c`str()` \u306b\u3066\u6587\u5b57\u5217\u578b\u306b\u30ad\u30e3\u30b9\u30c8\u3057\u307e\u3057\u3087\u3046\uff0e"
      ]
    },
    {
      "cell_type": "code",
      "execution_count": 91,
      "metadata": {},
      "outputs": [
        {
          "data": {
            "text/plain": [
              "15"
            ]
          },
          "execution_count": 91,
          "metadata": {},
          "output_type": "execute_result"
        }
      ],
      "source": [
        "f.write(\"aaaaa\")\n",
        "f.write(str(3.14))\n",
        "f.write(\"\u3042\u3042\u3042\u3042\u3042\")\n",
        "f.write(f\"{list(range(5))}\")"
      ]
    },
    {
      "cell_type": "markdown",
      "metadata": {},
      "source": [
        "`open()` \u3057\u305f\u30d5\u30a1\u30a4\u30eb\u30aa\u30d6\u30b8\u30a7\u30af\u30c8 `f` \u306f\uff0c`close()` \u30e1\u30bd\u30c3\u30c9\u3092\u7528\u3044\u3066\u9589\u3058\u308b\u5fc5\u8981\u304c\u3042\u308a\u307e\u3059\uff0e\u9589\u3058\u308b\u3053\u3068\u3067\uff0c\u30d5\u30a1\u30a4\u30eb\u3078\u306e\u66f8\u304d\u8fbc\u307f\u304c\u5b8c\u4e86\u3057\u307e\u3059\uff0e"
      ]
    },
    {
      "cell_type": "code",
      "execution_count": 92,
      "metadata": {},
      "outputs": [],
      "source": [
        "f.close()"
      ]
    },
    {
      "cell_type": "markdown",
      "metadata": {},
      "source": [
        "\u51fa\u529b\u7d50\u679c\u3092\u898b\u308b\u305f\u3081\u306b\uff0c\u4eca\u5ea6\u306f\u8aad\u307f\u8fbc\u3093\u3067\u307f\u307e\u3057\u3087\u3046\uff0e`mode==\"r\"` \u3068\u3057\u3066\u8aad\u307f\u8fbc\u307f\u5c02\u7528\u3067\u958b\u304d\uff0c`read()` \u30e1\u30bd\u30c3\u30c9\u306b\u3066\u6587\u5b57\u5217\u3092\u53d6\u5f97\u3057\u307e\u3057\u3087\u3046\uff0e"
      ]
    },
    {
      "cell_type": "code",
      "execution_count": 93,
      "metadata": {},
      "outputs": [
        {
          "data": {
            "text/plain": [
              "'aaaaa3.14\u3042\u3042\u3042\u3042\u3042[0, 1, 2, 3, 4]'"
            ]
          },
          "execution_count": 93,
          "metadata": {},
          "output_type": "execute_result"
        }
      ],
      "source": [
        "# open\n",
        "file = \"test.txt\"\n",
        "f = open(file, mode=\"r\")\n",
        "\n",
        "# read text\n",
        "txt = f.read()\n",
        "\n",
        "# file close\n",
        "f.close()\n",
        "\n",
        "# show\n",
        "txt"
      ]
    },
    {
      "cell_type": "markdown",
      "metadata": {},
      "source": [
        "\u4e0a\u8a18\u306e\u3088\u3046\u306b\uff0c`write()` \u30e1\u30bd\u30c3\u30c9\u306b\u3066\u6307\u5b9a\u3057\u305f\u6587\u5b57\u5217\u304c\u6539\u884c\u306a\u3057\u3067\u30c6\u30ad\u30b9\u30c8\u30d5\u30a1\u30a4\u30eb\u306b\u5165\u529b\u3055\u308c\u307e\u3057\u305f\uff0e  \n",
        "\u30d5\u30a1\u30a4\u30eb\u30aa\u30d6\u30b8\u30a7\u30af\u30c8\u306e open / close \u306b\u3064\u3044\u3066\uff0c\u4e0a\u8a18\u306e\u66f8\u304d\u65b9\u3060\u3068 close \u3092\u5fd8\u308c\u308b\u5371\u967a\u6027\u304c\u3042\u308b\u306e\u3067\uff0c`with` \u30d6\u30ed\u30c3\u30af\u3068\u3044\u3046\u306e\u3092\u7528\u3044\u308b\u65b9\u304c\u4e00\u822c\u7684\u3067\u3059\uff0e`with open() as f` \u306e\u3088\u3046\u306b\u8a18\u8f09\u3057\u307e\u3059\uff0e\u3053\u308c\u3092\u7528\u3044\u308b\u3053\u3068\u3067\uff0c`with` \u30d6\u30ed\u30c3\u30af\u3092\u629c\u3051\u308b\u969b\u306b\uff0c`open()` \u3057\u305f\u30d5\u30a1\u30a4\u30eb\u30aa\u30d6\u30b8\u30a7\u30af\u30c8\u304c\u81ea\u52d5\u7684\u306b `close()` \u3055\u308c\u307e\u3059\uff0e"
      ]
    },
    {
      "cell_type": "code",
      "execution_count": 94,
      "metadata": {},
      "outputs": [
        {
          "data": {
            "text/plain": [
              "'with block test'"
            ]
          },
          "execution_count": 94,
          "metadata": {},
          "output_type": "execute_result"
        }
      ],
      "source": [
        "file = \"test.txt\"\n",
        "with open(file, mode=\"w\") as f:\n",
        "    f.write(\"with block test\")\n",
        "\n",
        "with open(file, mode=\"r\") as f:\n",
        "    txt2 = f.read()\n",
        "\n",
        "txt2"
      ]
    },
    {
      "cell_type": "code",
      "execution_count": null,
      "metadata": {},
      "outputs": [],
      "source": []
    }
  ],
  "metadata": {
    "kernelspec": {
      "display_name": "Python 3 (ipykernel)",
      "language": "python",
      "name": "python3"
    },
    "language_info": {
      "codemirror_mode": {
        "name": "ipython",
        "version": 3
      },
      "file_extension": ".py",
      "mimetype": "text/x-python",
      "name": "python",
      "nbconvert_exporter": "python",
      "pygments_lexer": "ipython3",
      "version": "3.8.10"
    }
  },
  "nbformat": 4,
  "nbformat_minor": 4
}
