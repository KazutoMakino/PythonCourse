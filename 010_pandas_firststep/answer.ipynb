{
 "cells": [
  {
   "cell_type": "markdown",
   "id": "f44d2554-187f-41d9-a91d-1fb65338d86b",
   "metadata": {},
   "source": [
    "## 演習問題の解答\n",
    "\n",
    "---"
   ]
  },
  {
   "cell_type": "markdown",
   "id": "b29860e0-31b1-4eb9-920c-a4e26793acf2",
   "metadata": {},
   "source": [
    "- Q.1: フリーの花のアヤメの分類データセットを一つの pandas.DataFrame として定義してください（https://raw.githubusercontent.com/mwaskom/seaborn-data/master/iris.csv にアクセス → web ページ上で右クリック → メニューから 名前をつけて保存 でローカルに .csv ファイルとして保存できます．プロキシ／オフライン環境下でなければ， scikit-learn の datasets.load_iris() でも読み込み可能ですが，その場合は，目的変数のカラム名を \"species\" とし，目的変数の要素をアヤメの品種も文字列に置き換えてください．）"
   ]
  },
  {
   "cell_type": "code",
   "execution_count": 1,
   "id": "ea3696f9-df55-4596-aeef-8bfd736803e5",
   "metadata": {},
   "outputs": [],
   "source": [
    "import pandas as pd"
   ]
  },
  {
   "cell_type": "markdown",
   "id": "c5a1bf87",
   "metadata": {},
   "source": [
    "読み込み自体は，次の try ブロック，もしくは，except ブロックどちらでも問題ありません．"
   ]
  },
  {
   "cell_type": "code",
   "execution_count": 2,
   "id": "8cea7f64-26d1-49ae-95f6-672d58272427",
   "metadata": {},
   "outputs": [
    {
     "name": "stdout",
     "output_type": "stream",
     "text": [
      "dict_keys(['data', 'target', 'frame', 'target_names', 'DESCR', 'feature_names', 'filename'])\n",
      "     sepal length (cm)  sepal width (cm)  petal length (cm)  petal width (cm)  \\\n",
      "0                  5.1               3.5                1.4               0.2   \n",
      "1                  4.9               3.0                1.4               0.2   \n",
      "2                  4.7               3.2                1.3               0.2   \n",
      "3                  4.6               3.1                1.5               0.2   \n",
      "4                  5.0               3.6                1.4               0.2   \n",
      "..                 ...               ...                ...               ...   \n",
      "145                6.7               3.0                5.2               2.3   \n",
      "146                6.3               2.5                5.0               1.9   \n",
      "147                6.5               3.0                5.2               2.0   \n",
      "148                6.2               3.4                5.4               2.3   \n",
      "149                5.9               3.0                5.1               1.8   \n",
      "\n",
      "       species  \n",
      "0       setosa  \n",
      "1       setosa  \n",
      "2       setosa  \n",
      "3       setosa  \n",
      "4       setosa  \n",
      "..         ...  \n",
      "145  virginica  \n",
      "146  virginica  \n",
      "147  virginica  \n",
      "148  virginica  \n",
      "149  virginica  \n",
      "\n",
      "[150 rows x 5 columns]\n"
     ]
    }
   ],
   "source": [
    "try:\n",
    "    from sklearn.datasets import load_iris\n",
    "    iris = load_iris()\n",
    "    print(iris.keys())\n",
    "    df = pd.DataFrame(\n",
    "        data=iris[\"data\"],\n",
    "        columns=iris[\"feature_names\"],\n",
    "    )\n",
    "    df[\"species\"] = [iris[\"target_names\"][i] for i in iris[\"target\"]]\n",
    "except Exception:\n",
    "    df = pd.read_csv(r\"問題の手順で web からダウンロードしてきた iris.csv の絶対パス\")\n",
    "print(df)"
   ]
  },
  {
   "cell_type": "markdown",
   "id": "eac5ddad",
   "metadata": {},
   "source": [
    "- Q.2: 説明変数の sepal は花のがく片，petal は花の花弁を表します．上記で生成した DataFrame に次の特徴量を追加しましょう．\n",
    "    - がく片を長方形と近似し，\"sepal length (cm)\" と \"sepal width (cm)\" を用いて \"sepal area (cm^2)\" という特徴量を追加しましょう．\n",
    "    - 花弁を長方形と近似し，\"petal length (cm)\" と \"petal width (cm)\" を用いて \"petal area (cm^2)\" という特徴量を追加しましょう．"
   ]
  },
  {
   "cell_type": "code",
   "execution_count": 3,
   "id": "a6a9efc5",
   "metadata": {},
   "outputs": [
    {
     "name": "stdout",
     "output_type": "stream",
     "text": [
      "     sepal length (cm)  sepal width (cm)  petal length (cm)  petal width (cm)  \\\n",
      "147                6.5               3.0                5.2               2.0   \n",
      "148                6.2               3.4                5.4               2.3   \n",
      "149                5.9               3.0                5.1               1.8   \n",
      "\n",
      "       species  sepal area (cm^2)  petal area (cm^2)  \n",
      "147  virginica              19.50              10.40  \n",
      "148  virginica              21.08              12.42  \n",
      "149  virginica              17.70               9.18  \n"
     ]
    }
   ],
   "source": [
    "df[\"sepal area (cm^2)\"] = df[\"sepal length (cm)\"] * df[\"sepal width (cm)\"]\n",
    "df[\"petal area (cm^2)\"] = df[\"petal length (cm)\"] * df[\"petal width (cm)\"]\n",
    "print(df.tail(3))"
   ]
  },
  {
   "cell_type": "markdown",
   "id": "eac5ddad",
   "metadata": {},
   "source": [
    "- Q.3: 上記で生成した DataFrame について，各カラムの主要統計量を一行で出してみましょう．"
   ]
  },
  {
   "cell_type": "code",
   "execution_count": 4,
   "id": "0ca52ee2",
   "metadata": {},
   "outputs": [
    {
     "name": "stdout",
     "output_type": "stream",
     "text": [
      "       sepal length (cm)  sepal width (cm)  petal length (cm)  \\\n",
      "count         150.000000        150.000000         150.000000   \n",
      "mean            5.843333          3.057333           3.758000   \n",
      "std             0.828066          0.435866           1.765298   \n",
      "min             4.300000          2.000000           1.000000   \n",
      "25%             5.100000          2.800000           1.600000   \n",
      "50%             5.800000          3.000000           4.350000   \n",
      "75%             6.400000          3.300000           5.100000   \n",
      "max             7.900000          4.400000           6.900000   \n",
      "\n",
      "       petal width (cm)  sepal area (cm^2)  petal area (cm^2)  \n",
      "count        150.000000         150.000000         150.000000  \n",
      "mean           1.199333          17.822867           5.794067  \n",
      "std            0.762238           3.361854           4.712390  \n",
      "min            0.100000          10.000000           0.110000  \n",
      "25%            0.300000          15.660000           0.420000  \n",
      "50%            1.300000          17.660000           5.615000  \n",
      "75%            1.800000          20.325000           9.690000  \n",
      "max            2.500000          30.020000          15.870000  \n"
     ]
    }
   ],
   "source": [
    "print(df.describe())"
   ]
  },
  {
   "cell_type": "markdown",
   "id": "b2bdb19c",
   "metadata": {},
   "source": [
    "- Q.4: 説明変数の各カラムの主要統計量について，品種 (\"species\") 別で見てみましょう．ここで，DataFrame の df における \"species\" カラムの値が \"setosa\" である部分を抜き取るためには，`df[df[\"species\"]==\"setosa\"]` とすることで，条件にマッチした DataFrame が返されます．"
   ]
  },
  {
   "cell_type": "code",
   "execution_count": 5,
   "id": "64874007",
   "metadata": {},
   "outputs": [
    {
     "name": "stdout",
     "output_type": "stream",
     "text": [
      "{'versicolor', 'setosa', 'virginica'}\n"
     ]
    }
   ],
   "source": [
    "species = set(df[\"species\"])\n",
    "print(species)"
   ]
  },
  {
   "cell_type": "code",
   "execution_count": 6,
   "id": "df9c37c7",
   "metadata": {},
   "outputs": [
    {
     "name": "stdout",
     "output_type": "stream",
     "text": [
      "       sepal length (cm)  sepal width (cm)  petal length (cm)  \\\n",
      "count           50.00000         50.000000          50.000000   \n",
      "mean             5.00600          3.428000           1.462000   \n",
      "std              0.35249          0.379064           0.173664   \n",
      "min              4.30000          2.300000           1.000000   \n",
      "25%              4.80000          3.200000           1.400000   \n",
      "50%              5.00000          3.400000           1.500000   \n",
      "75%              5.20000          3.675000           1.575000   \n",
      "max              5.80000          4.400000           1.900000   \n",
      "\n",
      "       petal width (cm)  sepal area (cm^2)  petal area (cm^2)  \n",
      "count         50.000000          50.000000          50.000000  \n",
      "mean           0.246000          17.257800           0.365600  \n",
      "std            0.105386           2.933775           0.181155  \n",
      "min            0.100000          10.350000           0.110000  \n",
      "25%            0.200000          15.040000           0.280000  \n",
      "50%            0.200000          17.170000           0.300000  \n",
      "75%            0.300000          19.155000           0.420000  \n",
      "max            0.600000          25.080000           0.960000  \n"
     ]
    }
   ],
   "source": [
    "print(df[df[\"species\"]==\"setosa\"].describe())"
   ]
  },
  {
   "cell_type": "code",
   "execution_count": 7,
   "id": "df9c37c7",
   "metadata": {},
   "outputs": [
    {
     "name": "stdout",
     "output_type": "stream",
     "text": [
      "       sepal length (cm)  sepal width (cm)  petal length (cm)  \\\n",
      "count          50.000000         50.000000          50.000000   \n",
      "mean            5.936000          2.770000           4.260000   \n",
      "std             0.516171          0.313798           0.469911   \n",
      "min             4.900000          2.000000           3.000000   \n",
      "25%             5.600000          2.525000           4.000000   \n",
      "50%             5.900000          2.800000           4.350000   \n",
      "75%             6.300000          3.000000           4.600000   \n",
      "max             7.000000          3.400000           5.100000   \n",
      "\n",
      "       petal width (cm)  sepal area (cm^2)  petal area (cm^2)  \n",
      "count         50.000000          50.000000          50.000000  \n",
      "mean           1.326000          16.526200           5.720400  \n",
      "std            0.197753           2.866882           1.368403  \n",
      "min            1.000000          10.000000           3.300000  \n",
      "25%            1.200000          14.347500           4.860000  \n",
      "50%            1.300000          16.385000           5.615000  \n",
      "75%            1.500000          18.495000           6.750000  \n",
      "max            1.800000          22.400000           8.640000  \n"
     ]
    }
   ],
   "source": [
    "print(df[df[\"species\"]==\"versicolor\"].describe())"
   ]
  },
  {
   "cell_type": "code",
   "execution_count": 8,
   "id": "df9c37c7",
   "metadata": {},
   "outputs": [
    {
     "name": "stdout",
     "output_type": "stream",
     "text": [
      "       sepal length (cm)  sepal width (cm)  petal length (cm)  \\\n",
      "count           50.00000         50.000000          50.000000   \n",
      "mean             6.58800          2.974000           5.552000   \n",
      "std              0.63588          0.322497           0.551895   \n",
      "min              4.90000          2.200000           4.500000   \n",
      "25%              6.22500          2.800000           5.100000   \n",
      "50%              6.50000          3.000000           5.550000   \n",
      "75%              6.90000          3.175000           5.875000   \n",
      "max              7.90000          3.800000           6.900000   \n",
      "\n",
      "       petal width (cm)  sepal area (cm^2)  petal area (cm^2)  \n",
      "count          50.00000          50.000000          50.000000  \n",
      "mean            2.02600          19.684600          11.296200  \n",
      "std             0.27465           3.458783           2.157412  \n",
      "min             1.40000          12.250000           7.500000  \n",
      "25%             1.80000          17.430000           9.717500  \n",
      "50%             2.00000          20.060000          11.445000  \n",
      "75%             2.30000          21.412500          12.790000  \n",
      "max             2.50000          30.020000          15.870000  \n"
     ]
    }
   ],
   "source": [
    "print(df[df[\"species\"]==\"virginica\"].describe())"
   ]
  },
  {
   "cell_type": "markdown",
   "id": "508559d6",
   "metadata": {},
   "source": [
    "3 品種の主要統計量をそれぞれ見比べると，\"virginica\" が sepal length, petal length / width が大きいことが分かります．  \n",
    "また，\"setosa\" は他の2品種に比べて petal width / length が極端に小さいことが分かります．"
   ]
  },
  {
   "cell_type": "markdown",
   "id": "d47db816",
   "metadata": {},
   "source": [
    "- Q.5: 説明変数の相関係数行列を一行で出してみましょう．"
   ]
  },
  {
   "cell_type": "code",
   "execution_count": 9,
   "id": "27af3924",
   "metadata": {},
   "outputs": [
    {
     "name": "stdout",
     "output_type": "stream",
     "text": [
      "                   sepal length (cm)  sepal width (cm)  petal length (cm)  \\\n",
      "sepal length (cm)           1.000000         -0.117570           0.871754   \n",
      "sepal width (cm)           -0.117570          1.000000          -0.428440   \n",
      "petal length (cm)           0.871754         -0.428440           1.000000   \n",
      "petal width (cm)            0.817941         -0.366126           0.962865   \n",
      "sepal area (cm^2)           0.679180          0.643461           0.360909   \n",
      "petal area (cm^2)           0.857300         -0.288431           0.958422   \n",
      "\n",
      "                   petal width (cm)  sepal area (cm^2)  petal area (cm^2)  \n",
      "sepal length (cm)          0.817941           0.679180           0.857300  \n",
      "sepal width (cm)          -0.366126           0.643461          -0.288431  \n",
      "petal length (cm)          0.962865           0.360909           0.958422  \n",
      "petal width (cm)           1.000000           0.368845           0.980333  \n",
      "sepal area (cm^2)          0.368845           1.000000           0.454503  \n",
      "petal area (cm^2)          0.980333           0.454503           1.000000  \n"
     ]
    }
   ],
   "source": [
    "print(df.corr())"
   ]
  },
  {
   "cell_type": "markdown",
   "id": "5029aeee",
   "metadata": {},
   "source": [
    "- sepal length, petal length / width はそれぞれ相関が大きいことが示されます．\n",
    "- sepal width は他の説明変数に対する相関は大きくありません．\n",
    "- sepal area ですが，他の説明変数との相関も高くなく，追加しましたがあまり意味はなさそうです．"
   ]
  },
  {
   "cell_type": "markdown",
   "id": "23e9dda7",
   "metadata": {},
   "source": [
    "- Q.6: 追加した特徴量の \"sepal area (cm^2)\" はあまり意味がなさそうなので，このカラムを削除しましょう．"
   ]
  },
  {
   "cell_type": "code",
   "execution_count": 10,
   "id": "1bca12c9",
   "metadata": {},
   "outputs": [
    {
     "name": "stdout",
     "output_type": "stream",
     "text": [
      "     sepal length (cm)  sepal width (cm)  petal length (cm)  petal width (cm)  \\\n",
      "147                6.5               3.0                5.2               2.0   \n",
      "148                6.2               3.4                5.4               2.3   \n",
      "149                5.9               3.0                5.1               1.8   \n",
      "\n",
      "       species  petal area (cm^2)  \n",
      "147  virginica              10.40  \n",
      "148  virginica              12.42  \n",
      "149  virginica               9.18  \n"
     ]
    }
   ],
   "source": [
    "df.drop(columns=\"sepal area (cm^2)\", inplace=True)\n",
    "print(df.tail(3))"
   ]
  },
  {
   "cell_type": "markdown",
   "id": "24e16fd1",
   "metadata": {},
   "source": [
    "- Q.7: 上記まで作成していた DataFrame を別名でコピーしてください．"
   ]
  },
  {
   "cell_type": "code",
   "execution_count": 11,
   "id": "94a3a96e",
   "metadata": {},
   "outputs": [],
   "source": [
    "df_new = df.copy()"
   ]
  },
  {
   "cell_type": "markdown",
   "id": "24e16fd1",
   "metadata": {},
   "source": [
    "- Q.8: コピーした DataFrame について，目的変数の \"species\" 以外のカラムについて 0 ～ 1 へ正規化してください．ここで正規化とは，各カラムの値が最小値 0，最大値 1 へリスケーリングさせることを言い，数列 $X$ に対し $i$ 番目の要素 $x_i$ とすると，要素の最大値 $x_{max}$ と最小値 $x_{min}$ を用いて，正規化後の $i$ 番目の要素の値 $x_i^+$ は，次で示すことができます．"
   ]
  },
  {
   "cell_type": "markdown",
   "id": "2fec1002",
   "metadata": {},
   "source": [
    "$$\n",
    "x_i^+ = \\frac{x_i - x_{min}}{x_{max} - x_{min}}\n",
    "$$"
   ]
  },
  {
   "cell_type": "code",
   "execution_count": 12,
   "id": "d3fe2a5e",
   "metadata": {},
   "outputs": [
    {
     "name": "stdout",
     "output_type": "stream",
     "text": [
      "     sepal length (cm)  sepal width (cm)  petal length (cm)  petal width (cm)  \\\n",
      "147           0.611111          0.416667           0.711864          0.791667   \n",
      "148           0.527778          0.583333           0.745763          0.916667   \n",
      "149           0.444444          0.416667           0.694915          0.708333   \n",
      "\n",
      "       species  petal area (cm^2)  \n",
      "147  virginica           0.652919  \n",
      "148  virginica           0.781091  \n",
      "149  virginica           0.575508  \n"
     ]
    }
   ],
   "source": [
    "def normalize(dataframe, column):\n",
    "    dataframe[column] = (\n",
    "        (dataframe[column] - dataframe[column].min())\n",
    "        / (dataframe[column].max() - dataframe[column].min())\n",
    "    )\n",
    "    return dataframe[column]\n",
    "\n",
    "\n",
    "df_new[\"sepal length (cm)\"] = normalize(dataframe=df_new, column=\"sepal length (cm)\")\n",
    "df_new[\"sepal width (cm)\"] = normalize(dataframe=df_new, column=\"sepal width (cm)\")\n",
    "df_new[\"petal length (cm)\"] = normalize(dataframe=df_new, column=\"petal length (cm)\")\n",
    "df_new[\"petal width (cm)\"] = normalize(dataframe=df_new, column=\"petal width (cm)\")\n",
    "df_new[\"petal area (cm^2)\"] = normalize(dataframe=df_new, column=\"petal area (cm^2)\")\n",
    "print(df_new.tail(3))"
   ]
  },
  {
   "cell_type": "markdown",
   "id": "e4454b5c",
   "metadata": {},
   "source": [
    "- Q.9: 正規化後の DataFrame について，データの 75 % の行をランダムに抜き取った DataFrame を新たな変数 train に格納し，残りの 25 % の行の DataFrame を新たな変数 test に格納しましょう．"
   ]
  },
  {
   "cell_type": "code",
   "execution_count": 13,
   "id": "19ff569f",
   "metadata": {},
   "outputs": [
    {
     "name": "stdout",
     "output_type": "stream",
     "text": [
      "     sepal length (cm)  sepal width (cm)  petal length (cm)  petal width (cm)  \\\n",
      "63            0.500000          0.375000           0.627119          0.541667   \n",
      "54            0.611111          0.333333           0.610169          0.583333   \n",
      "126           0.527778          0.333333           0.644068          0.708333   \n",
      "\n",
      "        species  petal area (cm^2)  \n",
      "63   versicolor           0.410533  \n",
      "54   versicolor           0.430838  \n",
      "126   virginica           0.541244  \n"
     ]
    }
   ],
   "source": [
    "train = df_new.sample(n=int(len(df_new) * 0.75), random_state=42, axis=0)\n",
    "print(train.tail(3))"
   ]
  },
  {
   "cell_type": "code",
   "execution_count": 14,
   "id": "f9566eeb",
   "metadata": {},
   "outputs": [
    {
     "name": "stdout",
     "output_type": "stream",
     "text": [
      "     sepal length (cm)  sepal width (cm)  petal length (cm)  petal width (cm)  \\\n",
      "144           0.666667          0.541667           0.796610          1.000000   \n",
      "147           0.611111          0.416667           0.711864          0.791667   \n",
      "149           0.444444          0.416667           0.694915          0.708333   \n",
      "\n",
      "       species  petal area (cm^2)  \n",
      "144  virginica           0.897208  \n",
      "147  virginica           0.652919  \n",
      "149  virginica           0.575508  \n"
     ]
    }
   ],
   "source": [
    "test = df_new.drop(index=train.index)\n",
    "print(test.tail(3))"
   ]
  },
  {
   "cell_type": "markdown",
   "id": "ad531bdb",
   "metadata": {},
   "source": [
    "- Q.10: Q.9 にて作成した train, test を pickle 形式かつ圧縮して保存しましょう．"
   ]
  },
  {
   "cell_type": "code",
   "execution_count": 15,
   "id": "617137b8",
   "metadata": {},
   "outputs": [],
   "source": [
    "train.to_pickle(\"./train.pickle.gz\", compression=\"gzip\")\n",
    "test.to_pickle(\"./test.pickle.gz\", compression=\"gzip\")"
   ]
  },
  {
   "cell_type": "code",
   "execution_count": null,
   "id": "73b0299f",
   "metadata": {},
   "outputs": [],
   "source": []
  }
 ],
 "metadata": {
  "kernelspec": {
   "display_name": "Python 3 (ipykernel)",
   "language": "python",
   "name": "python3"
  },
  "language_info": {
   "codemirror_mode": {
    "name": "ipython",
    "version": 3
   },
   "file_extension": ".py",
   "mimetype": "text/x-python",
   "name": "python",
   "nbconvert_exporter": "python",
   "pygments_lexer": "ipython3",
   "version": "3.9.9"
  }
 },
 "nbformat": 4,
 "nbformat_minor": 5
}
