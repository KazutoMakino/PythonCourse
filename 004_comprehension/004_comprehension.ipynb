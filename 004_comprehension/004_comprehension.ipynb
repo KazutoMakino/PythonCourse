{
  "cells": [
    {
      "cell_type": "markdown",
      "id": "e7f285b3-13dc-440e-bf0e-419d567158f1",
      "metadata": {},
      "source": [
        "# \u5185\u5305\u8868\u8a18\n",
        "\n",
        "---\n",
        "\n",
        "- ref: https://docs.python.org/ja/3/tutorial/datastructures.html\n",
        "- blog: https://slash-z.com/\n",
        "- github: https://github.com/KazutoMakino/PythonCourses\n",
        "\n",
        "---"
      ]
    },
    {
      "cell_type": "markdown",
      "id": "d92d48c3-5554-410a-bb87-dd5a7ef2a666",
      "metadata": {},
      "source": [
        "## \u30ea\u30b9\u30c8\u5185\u5305\u8868\u8a18: \u5358\u7d14\u306a for \u6587\u306e\u66f8\u304d\u63db\u3048"
      ]
    },
    {
      "cell_type": "markdown",
      "id": "c97caf8e-46ee-443c-b4a8-0e0b5f97dec4",
      "metadata": {},
      "source": [
        "```\n",
        "[\u5f0f for \u5909\u6570 in iterable]\n",
        "```"
      ]
    },
    {
      "cell_type": "markdown",
      "id": "fa2c4cd3-db9c-4000-b151-830ef018f45a",
      "metadata": {},
      "source": [
        "\u30ea\u30b9\u30c8\u5185\u5305\u8868\u8a18\u306f\u4e0a\u8a18\u306e\u3088\u3046\u306b\u66f8\u304f\u3053\u3068\u304c\u3067\u304d\u307e\u3059\u304c\uff0c\u6b21\u306e for \u6587\u3068\u540c\u3058\u3067\u3059\uff0e"
      ]
    },
    {
      "cell_type": "markdown",
      "id": "cdad866f-d42f-4e9b-997a-3ddeb12249c6",
      "metadata": {},
      "source": [
        "```\n",
        "\u5909\u6570 = []\n",
        "for \u5024 in iterable:\n",
        "    \u5909\u6570.append(\u5f0f)\n",
        "```"
      ]
    },
    {
      "cell_type": "markdown",
      "id": "6f40d69c-48f4-4146-8016-bf8f82b0a980",
      "metadata": {},
      "source": [
        "\u5b9f\u969b\u306b\uff0c\u30b3\u30fc\u30c9\u3092\u66f8\u3044\u3066\u307f\u307e\u3059\uff0e"
      ]
    },
    {
      "cell_type": "code",
      "execution_count": 6,
      "id": "82dc29f2-f9a2-4493-8c5f-1ea12abf8fee",
      "metadata": {},
      "outputs": [
        {
          "data": {
            "text/plain": [
              "[1, 2, 3, 4, 5, 6, 7, 8, 9, 10]"
            ]
          },
          "execution_count": 6,
          "metadata": {},
          "output_type": "execute_result"
        }
      ],
      "source": [
        "arr = [v+1 for v in range(10)]\n",
        "arr"
      ]
    },
    {
      "cell_type": "code",
      "execution_count": 7,
      "id": "a1ed2a52-9702-4dd6-b350-8c320b4ff1ea",
      "metadata": {},
      "outputs": [
        {
          "data": {
            "text/plain": [
              "[1, 2, 3, 4, 5, 6, 7, 8, 9, 10]"
            ]
          },
          "execution_count": 7,
          "metadata": {},
          "output_type": "execute_result"
        }
      ],
      "source": [
        "arr = []\n",
        "for v in range(10):\n",
        "    arr.append(v+1)\n",
        "arr"
      ]
    },
    {
      "cell_type": "markdown",
      "id": "1d5a3730-c435-47e7-9945-0ce2f8d7cac7",
      "metadata": {},
      "source": [
        "\u306a\u3093\u3068\uff0c3\u884c\u5206\u306e\u51e6\u7406\u304c1\u884c\u3067\u3067\u304d\u307e\u3057\u305f\uff0e\n",
        "\n",
        "\u5165\u308c\u5b50\u69cb\u9020\u3084\u7d44\u307f\u8fbc\u307f\u95a2\u6570\u3082\u5229\u7528\u53ef\u80fd\u3067\u3059\uff0e"
      ]
    },
    {
      "cell_type": "code",
      "execution_count": 8,
      "id": "d090ba00-0664-4653-bed7-830f56c22471",
      "metadata": {},
      "outputs": [
        {
          "data": {
            "text/plain": [
              "[0, 1, 2, 'a', 'b', 'c', 'dddddddddd']"
            ]
          },
          "execution_count": 8,
          "metadata": {},
          "output_type": "execute_result"
        }
      ],
      "source": [
        "arr = [\n",
        "    [0, 1, 2],\n",
        "    [\"a\", \"b\", \"c\", \"dddddddddd\"]\n",
        "]\n",
        "[v for vv in arr for v in vv]"
      ]
    },
    {
      "cell_type": "code",
      "execution_count": 9,
      "id": "baa5965c-1f53-42dd-bb47-c7953dfa6f9c",
      "metadata": {},
      "outputs": [
        {
          "data": {
            "text/plain": [
              "[[0, 0], [1, 10], [2, 20]]"
            ]
          },
          "execution_count": 9,
          "metadata": {},
          "output_type": "execute_result"
        }
      ],
      "source": [
        "arr1 = [0,1,2]\n",
        "arr2 = [0,10,20]\n",
        "[[v1, v2] for v1,v2 in zip(arr1, arr2)]"
      ]
    },
    {
      "cell_type": "code",
      "execution_count": 10,
      "id": "eecf1230-5c32-4f98-9bc2-4b109588c9a7",
      "metadata": {},
      "outputs": [
        {
          "data": {
            "text/plain": [
              "[[0, 'q'], [1, 'w'], [2, 'e'], [3, 'r'], [4, 't'], [5, 'y']]"
            ]
          },
          "execution_count": 10,
          "metadata": {},
          "output_type": "execute_result"
        }
      ],
      "source": [
        "arr = [\"q\", \"w\", \"e\", \"r\", \"t\", \"y\"]\n",
        "[[i,v] for i,v in enumerate(arr)]"
      ]
    },
    {
      "cell_type": "markdown",
      "id": "08548176-2a48-41fd-8464-c627a9899c70",
      "metadata": {},
      "source": [
        "\u591a\u91cd\u306e for \u6587\u3082\u4f7f\u3048\u307e\u3059\uff0e"
      ]
    },
    {
      "cell_type": "code",
      "execution_count": 11,
      "id": "91820e9b-aee3-4c44-8a55-d0b1964bb2ae",
      "metadata": {},
      "outputs": [
        {
          "data": {
            "text/plain": [
              "[[0, 0], [0, 10], [0, 20], [1, 0], [1, 10], [1, 20], [2, 0], [2, 10], [2, 20]]"
            ]
          },
          "execution_count": 11,
          "metadata": {},
          "output_type": "execute_result"
        }
      ],
      "source": [
        "[[v1, v2] for v1 in arr1 for v2 in arr2]"
      ]
    },
    {
      "cell_type": "code",
      "execution_count": 12,
      "id": "5ca5b422-793e-4b0e-8ee3-7491ea3d4c7c",
      "metadata": {},
      "outputs": [
        {
          "data": {
            "text/plain": [
              "[0, 10, 20, 1, 11, 21, 2, 12, 22]"
            ]
          },
          "execution_count": 12,
          "metadata": {},
          "output_type": "execute_result"
        }
      ],
      "source": [
        "[v1 + v2 for v1 in arr1 for v2 in arr2]"
      ]
    },
    {
      "cell_type": "markdown",
      "id": "e4191e9c-e553-4a0a-95c5-20f8fe5f7eed",
      "metadata": {},
      "source": [
        "## \u30bf\u30d7\u30eb\u306e\u5185\u5305\u8868\u8a18: \u5358\u7d14\u306a for \u6587\u306e\u66f8\u304d\u63db\u3048"
      ]
    },
    {
      "cell_type": "markdown",
      "id": "f7a31e1c-45e8-4324-9dab-bc71d2ce42bb",
      "metadata": {},
      "source": [
        "\u30bf\u30d7\u30eb\u306e\u5185\u5305\u8868\u8a18\u306e\u4f5c\u6210\u65b9\u6cd5\u3068\u3057\u3066\uff0c\u57fa\u672c\u7684\u306b\u306f\u30ea\u30b9\u30c8\u5185\u5305\u8868\u8a18\u3068\u307b\u3068\u3093\u3069\u540c\u3058\u3067\u3059\u304c\uff0c`[]` \u3092\u5358\u306b `()` \u306b\u3059\u308b\u3060\u3051\u3067\u306f\uff0c\u4ee5\u4e0b\u306e\u3088\u3046\u306b generator \u304c\u8fd4\u3055\u308c\u3066\u3057\u307e\u3044\u307e\u3059\uff0e"
      ]
    },
    {
      "cell_type": "code",
      "execution_count": 18,
      "id": "fb843889-6e8f-4603-ba8b-6f5e62720bd8",
      "metadata": {},
      "outputs": [
        {
          "data": {
            "text/plain": [
              "<generator object <genexpr> at 0x00000145B05F26D0>"
            ]
          },
          "execution_count": 18,
          "metadata": {},
          "output_type": "execute_result"
        }
      ],
      "source": [
        "(v for v in range(5))"
      ]
    },
    {
      "cell_type": "markdown",
      "id": "dad6d216-3ab4-4b4e-9f55-60dce5db0bad",
      "metadata": {},
      "source": [
        "\u30bf\u30d7\u30eb\u3067\u5185\u5305\u8868\u8a18\u3092\u5b9f\u73fe\u3059\u308b\u305f\u3081\u306b\u306f\uff0c`[]` \u304b\u3089 `tuple()` \u306b\u5909\u66f4\u3057\u307e\u3059\uff0e"
      ]
    },
    {
      "cell_type": "code",
      "execution_count": 14,
      "id": "27cae2c4-8733-43f6-bda9-3667a274d37e",
      "metadata": {},
      "outputs": [
        {
          "data": {
            "text/plain": [
              "(0, 1, 2, 3, 4)"
            ]
          },
          "execution_count": 14,
          "metadata": {},
          "output_type": "execute_result"
        }
      ],
      "source": [
        "tuple(v for v in range(5))"
      ]
    },
    {
      "cell_type": "markdown",
      "id": "27caaded-7d23-4298-aad8-1415c45bd9d8",
      "metadata": {},
      "source": [
        "## \u96c6\u5408\u306e\u5185\u5305\u8868\u8a18: \u5358\u7d14\u306a for \u6587\u306e\u66f8\u304d\u63db\u3048"
      ]
    },
    {
      "cell_type": "markdown",
      "id": "b4871ed2-83a6-40f4-b77c-6518c1cde905",
      "metadata": {},
      "source": [
        "\u96c6\u5408\u306e\u5185\u5305\u8868\u8a18\u306e\u4f5c\u6210\u65b9\u6cd5\u3082\uff0c\u57fa\u672c\u7684\u306b\u306f\u30ea\u30b9\u30c8\u5185\u5305\u8868\u8a18\u3068\u307b\u3068\u3093\u3069\u540c\u3058\u3067\uff0c`[]` \u3092\u5358\u306b `{}` \u306b\u3059\u308b\u3060\u3051\u3067\u3059\uff0e"
      ]
    },
    {
      "cell_type": "code",
      "execution_count": 41,
      "id": "e486eda6-923e-44c3-8d07-28f8cbfa8fe8",
      "metadata": {},
      "outputs": [
        {
          "data": {
            "text/plain": [
              "{0, 1, 2, 3, 4, 5, 6, 7, 8, 9}"
            ]
          },
          "execution_count": 41,
          "metadata": {},
          "output_type": "execute_result"
        }
      ],
      "source": [
        "{int(v / 10) for v in range(0, 100, 1)}"
      ]
    },
    {
      "cell_type": "markdown",
      "id": "f34c1088-9013-40dc-aec4-f36249498032",
      "metadata": {},
      "source": [
        "## \u8f9e\u66f8\u306e\u5185\u5305\u8868\u8a18: \u5358\u7d14\u306a for \u6587\u306e\u7f6e\u304d\u63db\u3048"
      ]
    },
    {
      "cell_type": "markdown",
      "id": "90123929-4261-4c2e-b288-916a575daa45",
      "metadata": {},
      "source": [
        "\u8f9e\u66f8\u306e\u5185\u5305\u8868\u8a18\u3082\u30ea\u30b9\u30c8\u5185\u5305\u8868\u8a18\u3068\u540c\u3058\u3088\u3046\u306b\u66f8\u304f\u3053\u3068\u3067\u5b9f\u73fe\u3067\u304d\u307e\u3059\u304c\uff0c\u30ad\u30fc\u3068\u5024\u3068\u3044\u3063\u305f 2 \u3064\u306e\u9805\u76ee\u306b\u3064\u3044\u3066\u51e6\u7406\u3059\u308b\u5fc5\u8981\u304c\u3042\u308b\u306e\u3067\uff0c\u6ce8\u610f\u304c\u5fc5\u8981\u3067\u3059\uff0e  \n",
        "\u4ee5\u4e0b\u306b\u4f8b\u3092\u793a\u3057\u307e\u3059\uff0e"
      ]
    },
    {
      "cell_type": "code",
      "execution_count": 20,
      "id": "606b33d7-9e5f-42de-b7a9-02b70c1b2b71",
      "metadata": {},
      "outputs": [
        {
          "data": {
            "text/plain": [
              "{'a': 'A', 'b': 'B', 'c': 'C'}"
            ]
          },
          "execution_count": 20,
          "metadata": {},
          "output_type": "execute_result"
        }
      ],
      "source": [
        "key_arr = [\"a\", \"b\", \"c\"]\n",
        "value_arr = [\"A\", \"B\", \"C\"]\n",
        "{k:v for k,v in zip(key_arr, value_arr)}"
      ]
    },
    {
      "cell_type": "code",
      "execution_count": 31,
      "id": "9df26565-9270-4027-8cfb-01ba16fdfb5a",
      "metadata": {},
      "outputs": [
        {
          "data": {
            "text/plain": [
              "{'a': 'A', 'b': 'B', 'c': 'C'}"
            ]
          },
          "execution_count": 31,
          "metadata": {},
          "output_type": "execute_result"
        }
      ],
      "source": [
        "kv_list = [[\"a\", \"A\"], [\"b\", \"B\"], [\"c\", \"C\"]]\n",
        "{k:v for k,v in kv_list}"
      ]
    },
    {
      "cell_type": "code",
      "execution_count": 33,
      "id": "6c121a1c-57e8-4855-8f5a-485b0a8b466b",
      "metadata": {},
      "outputs": [
        {
          "data": {
            "text/plain": [
              "{'aaa': 0, 'aaaa': 1, 'aaaaa': 2, 'aaaaaa': 3, 'aaaaaaa': 4}"
            ]
          },
          "execution_count": 33,
          "metadata": {},
          "output_type": "execute_result"
        }
      ],
      "source": [
        "{\"a\"*v:i for i,v in enumerate(range(3, 3+5, 1))}"
      ]
    },
    {
      "cell_type": "code",
      "execution_count": 34,
      "id": "5cd948aa-7c03-4a4d-96e7-ee2946503a89",
      "metadata": {},
      "outputs": [
        {
          "data": {
            "text/plain": [
              "{'a': 'A', 'b': 'B', 'c': 'C'}"
            ]
          },
          "execution_count": 34,
          "metadata": {},
          "output_type": "execute_result"
        }
      ],
      "source": [
        "{key_arr[i]: value_arr[i] for i in range(len(key_arr))}"
      ]
    },
    {
      "cell_type": "code",
      "execution_count": 29,
      "id": "2decd82d-d5ac-4860-8bf7-63c920ff7d7b",
      "metadata": {},
      "outputs": [
        {
          "data": {
            "text/plain": [
              "{'a': 1, 'aa': 2, 'aaa': 3, 'aaaa': 4, 'aaaaa': 5}"
            ]
          },
          "execution_count": 29,
          "metadata": {},
          "output_type": "execute_result"
        }
      ],
      "source": [
        "{\"a\"*(v): v for v in range(1,1+5,1)}"
      ]
    },
    {
      "cell_type": "markdown",
      "id": "1dc2e63a-784b-4d02-92f3-24c3e0dfdaa1",
      "metadata": {},
      "source": [
        "\u4f8b\u3048\u3070\u4e0a\u8a18\u306e\u3088\u3046\u306b\uff0c\n",
        "\n",
        "- 2 \u3064\u306e\u30ea\u30b9\u30c8\u3092 zip() \u3067\u307e\u3068\u3081\uff0c\u30bf\u30d7\u30eb\u306e\u30a2\u30f3\u30d1\u30c3\u30af\u5148\u3092\u8f9e\u66f8\u306e\u30ad\u30fc\u3068\u5024\u306b\u3059\u308b\n",
        "- 1 \u3064\u306e\u30ea\u30b9\u30c8\u3067\u3082\u30a2\u30f3\u30d1\u30c3\u30af\u5148\u304c 2 \u3064\u4ee5\u4e0a\u3067\u3042\u308c\u3070\uff0c\u305d\u308c\u3089\u3092\u8f9e\u66f8\u306e\u30ad\u30fc\u3068\u5024\u306b\u3059\u308b\n",
        "- \u914d\u5217\u756a\u53f7\u3092\u8868\u3059 1 \u3064\u306e\u30ea\u30b9\u30c8\u3092 for \u3067\u7e70\u308a\u8fd4\u3057\u51e6\u7406\u3055\u305b\uff0c\u5143\u304b\u3089\u7528\u610f\u3057\u3066\u3042\u3063\u305f 2 \u3064\u306e\u30ea\u30b9\u30c8\u306b\u914d\u5217\u756a\u53f7\u3068\u3057\u3066\u6e21\u3057\uff0c\u305d\u308c\u3089\u3092\u8f9e\u66f8\u306e\u30ad\u30fc\u3068\u5024\u306b\u3059\u308b\n",
        "- \u305d\u306e\u4ed6\uff0c\u7121\u7406\u3084\u308a 2 \u3064\u306e\u5024\u3092\u4f5c\u308a\uff0c\u305d\u308c\u3089\u3092\u8f9e\u66f8\u306e\u30ad\u30fc\u3068\u5024\u306b\u3059\u308b\n",
        "\n",
        "\u3053\u308c\u3089\u306e\u65b9\u6cd5\u306b\u3088\u3063\u3066\uff0c\u8f9e\u66f8\u306e\u5185\u5305\u8868\u8a18\u304c\u3067\u304d\u307e\u3059\uff0e"
      ]
    },
    {
      "cell_type": "markdown",
      "id": "59e06267-b849-4398-b1bf-d3103bc26c99",
      "metadata": {},
      "source": [
        "## \u5185\u5305\u8868\u8a18: for \u6587\u306e\u4e2d\u306b if \u6587\u3067\u6761\u4ef6\u5206\u5c90\u3059\u308b\u5834\u5408"
      ]
    },
    {
      "cell_type": "markdown",
      "id": "553ad768-e664-4c80-8f75-7ca2363d0746",
      "metadata": {},
      "source": [
        "\u30bf\u30d7\u30eb\uff0f\u96c6\u5408\uff0f\u8f9e\u66f8\u306e\u5185\u5305\u8868\u8a18\u306b\u3064\u3044\u3066\u306f\uff0c\u30ea\u30b9\u30c8\u5185\u5305\u8868\u8a18\u3068\u307b\u3068\u3093\u3069\u540c\u3058\u3088\u3046\u306a\u8003\u3048\u65b9\u306a\u306e\u3067\uff0c\u4ee5\u4e0b\uff0c\u30ea\u30b9\u30c8\u306e\u307f\u53d6\u308a\u6271\u3044\u307e\u3059\uff0e\n",
        "\n",
        "\u5185\u5305\u8868\u8a18\u306f\uff0cfor \u306e\u4e2d\u306b if \u304c\u3042\u308b\u3088\u3046\u306a\u51e6\u7406\u3082\u6271\u3046\u3053\u3068\u304c\u3067\u304d\u307e\u3059\uff0e"
      ]
    },
    {
      "cell_type": "markdown",
      "id": "31c2a775-d304-4aab-8b75-ce8963a026d7",
      "metadata": {},
      "source": [
        "```\n",
        "[\u5f0f for \u5909\u6570 in iterable if \u6761\u4ef6\u5f0f]\n",
        "```"
      ]
    },
    {
      "cell_type": "markdown",
      "id": "5272ca7d-5e78-4a20-ba43-33b5a025ec8b",
      "metadata": {},
      "source": [
        "\u4e0a\u8a18\u306e\u3088\u3046\u306b\u66f8\u304f\u3053\u3068\u304c\u3067\u304d\u307e\u3059\u304c\uff0c\u6b21\u306e for / if \u306e\u51e6\u7406\u3068\u540c\u3058\u3067\u3059\uff0e"
      ]
    },
    {
      "cell_type": "markdown",
      "id": "a15439c4-a996-4fee-bf99-2aa6a9f0c742",
      "metadata": {},
      "source": [
        "```\n",
        "\u5909\u6570 = []\n",
        "for \u5024 in iterable:\n",
        "    if \u6761\u4ef6\u5f0f:\n",
        "        \u5909\u6570.append(\u5f0f)\n",
        "```"
      ]
    },
    {
      "cell_type": "markdown",
      "id": "d4c26e6a-046f-4d7b-8485-60f4850fa34e",
      "metadata": {},
      "source": [
        "\u4f8b\u3068\u3057\u3066\uff0c"
      ]
    },
    {
      "cell_type": "code",
      "execution_count": 45,
      "id": "9cdb8ea7-4c00-4c86-b17e-aef8fecdb7d7",
      "metadata": {},
      "outputs": [
        {
          "data": {
            "text/plain": [
              "[1, 9, 25, 49, 81]"
            ]
          },
          "execution_count": 45,
          "metadata": {},
          "output_type": "execute_result"
        }
      ],
      "source": [
        "[v**2 for v in range(10) if v%2==1]"
      ]
    },
    {
      "cell_type": "code",
      "execution_count": 46,
      "id": "604cfc2d-fe30-465a-8e1c-464aad7b3989",
      "metadata": {},
      "outputs": [
        {
          "data": {
            "text/plain": [
              "['apple', 'orange']"
            ]
          },
          "execution_count": 46,
          "metadata": {},
          "output_type": "execute_result"
        }
      ],
      "source": [
        "a = [\"banana\", \"apple\", \"orange\"]\n",
        "b = [\"orange\", \"tomato\", \"apple\"]\n",
        "[v for v in a if v in b]"
      ]
    },
    {
      "cell_type": "markdown",
      "id": "f3fa1dc8-fd03-40e2-b55a-43ebe76a8360",
      "metadata": {},
      "source": [
        "## \u5185\u5305\u8868\u8a18: for \u6587\u306e\u4e2d\u306b if-else \u6587\u304c\u3042\u308b\u5834\u5408"
      ]
    },
    {
      "cell_type": "markdown",
      "id": "551257fa-af97-4b56-b67d-f159848a962e",
      "metadata": {},
      "source": [
        "for \u306e\u4e2d\u306b if-else \u304c\u3042\u308b\u3088\u3046\u306a\u51e6\u7406\u3082\u6271\u3046\u3053\u3068\u304c\u3067\u304d\u307e\u3059\uff0e  \n",
        "if \u306e\u307f\u3092\u4f7f\u3046\u5834\u5408\u3068\u7570\u306a\u308a\uff0c\u5c11\u3057\u7656\u304c\u3042\u308a\u307e\u3059\uff0e"
      ]
    },
    {
      "cell_type": "markdown",
      "id": "34a7c3aa-f7ad-4d17-8849-75dc7dcdc503",
      "metadata": {},
      "source": [
        "```\n",
        "[\u6761\u4ef6\u5f0f\u304c\u771f\u306e\u6642\u306e\u5024 if \u6761\u4ef6\u5f0f else \u6761\u4ef6\u5f0f\u304c\u507d\u306e\u6642\u306e\u5024 for \u5909\u6570 in iterable]\n",
        "```"
      ]
    },
    {
      "cell_type": "markdown",
      "id": "ca67d8c7-6427-49eb-88dc-fd4d01645441",
      "metadata": {},
      "source": [
        "\u4e0a\u8a18\u306e\u3088\u3046\u306b\u66f8\u304f\u3053\u3068\u304c\u3067\u304d\u307e\u3059\u304c\uff0c\u6b21\u306e for / if-else \u306e\u51e6\u7406\u3068\u540c\u3058\u3067\u3059\uff0e"
      ]
    },
    {
      "cell_type": "markdown",
      "id": "d51400f8-c3c3-409c-9c85-d3c52359a736",
      "metadata": {},
      "source": [
        "```\n",
        "\u5909\u6570 = []\n",
        "for \u5024 in iterable:\n",
        "    if \u6761\u4ef6\u5f0f:\n",
        "        \u5909\u6570.append(\u6761\u4ef6\u5f0f\u304c\u771f\u306e\u6642\u306e\u5024)\n",
        "    else:\n",
        "        \u5909\u6570.append(\u6761\u4ef6\u5f0f\u304c\u771f\u306e\u6642\u306e\u5024)\n",
        "```"
      ]
    },
    {
      "cell_type": "markdown",
      "id": "64946fab-2537-4d31-b18e-750e5b968510",
      "metadata": {},
      "source": [
        "\u4f8b\u3068\u3057\u3066\u306f\uff0c"
      ]
    },
    {
      "cell_type": "code",
      "execution_count": 48,
      "id": "b30378d0-92b8-4b35-b0da-3d256fa53f32",
      "metadata": {},
      "outputs": [
        {
          "data": {
            "text/plain": [
              "['even', 'odd', 'even', 'odd', 'even', 'odd', 'even', 'odd', 'even', 'odd']"
            ]
          },
          "execution_count": 48,
          "metadata": {},
          "output_type": "execute_result"
        }
      ],
      "source": [
        "[\"even\" if v%2==0 else \"odd\" for v in range(10)]"
      ]
    },
    {
      "cell_type": "code",
      "execution_count": 49,
      "id": "51e619ca-7822-4f9a-a74c-117dedb6b8f1",
      "metadata": {},
      "outputs": [
        {
          "data": {
            "text/plain": [
              "[[0, 'even'],\n",
              " [1, 'odd'],\n",
              " [2, 'even'],\n",
              " [3, 'odd'],\n",
              " [4, 'even'],\n",
              " [5, 'odd'],\n",
              " [6, 'even'],\n",
              " [7, 'odd'],\n",
              " [8, 'even'],\n",
              " [9, 'odd']]"
            ]
          },
          "execution_count": 49,
          "metadata": {},
          "output_type": "execute_result"
        }
      ],
      "source": [
        "[[v, \"even\"] if v%2==0 else [v, \"odd\"] for v in range(10)]"
      ]
    },
    {
      "cell_type": "markdown",
      "id": "61830b7a-2b82-43d5-9260-4faea315a94a",
      "metadata": {},
      "source": [
        "\u4ee5\u4e0a\u304c\u5185\u5305\u8868\u8a18\u306e\u66f8\u304d\u65b9\u3068\u4f8b\u306b\u5bfe\u3059\u308b\u7d39\u4ecb\u3067\u3059\uff0e\n",
        "\n",
        "\u4eca\u56de\u3082\u6f14\u7fd2\u554f\u984c\u3092\u7528\u610f\u3044\u305f\u3057\u307e\u3057\u305f\uff0e"
      ]
    },
    {
      "cell_type": "markdown",
      "id": "a644cc02-f65f-4fab-8168-85ee04d98421",
      "metadata": {},
      "source": [
        "## \u6f14\u7fd2\u554f\u984c"
      ]
    },
    {
      "cell_type": "markdown",
      "id": "901ac5a1-ad6d-4e92-a924-1e04b1919c9f",
      "metadata": {},
      "source": [
        "- Q.1: \u5185\u5305\u8868\u8a18\u3092\u7528\u3044\u305f1\u3064\u306e\u51e6\u7406\u5f0f\u3067\uff0c1 \u304b\u3089 1000 \u307e\u3067\u306e 5 \u306e\u500d\u6570\u306e\u7dcf\u548c\u3092\u6c42\u3081\u3066\u304f\u3060\u3055\u3044\uff0e\n",
        "- Q.2: \u5185\u5305\u8868\u8a18\u3092\u7528\u3044\u305f1\u3064\u306e\u51e6\u7406\u5f0f\u3067\uff0c1 \u304b\u3089 1000 \u307e\u3067\u9023\u7d9a\u3057\u305f\u6574\u6570\u306e\u5185\uff0c7 \u3068 13 \u306e\u500d\u6570\u306b 1 \u8db3\u3057\u305f\u5024\u306e\u307f\u3092\u52a0\u7b97\u3057\u3066\u304f\u3060\u3055\u3044\uff08% \u3092\u7528\u3044\u307e\u3059\uff09\uff0e\n",
        "- Q.3: \u5185\u5305\u8868\u8a18\u3092\u7528\u3044\u305f1\u3064\u306e\u51e6\u7406\u5f0f\u3067\uff0c0 \u304b\u3089 100 \u307e\u3067\u9023\u7d9a\u3057\u305f\u6574\u6570\u306e2\u4e57\u6839\u3092\u8981\u7d20\u3068\u3059\u308b\uff0c\u8981\u7d20\u6570 101 \u306e\u6b21\u306e\u30ea\u30b9\u30c8 $[\\sqrt{0}, \\sqrt{1}, \\sqrt{2}, \\cdots , \\sqrt{100}]$ \u3092\u4f5c\u6210\u3057\u3066\u304f\u3060\u3055\u3044\uff0e\n",
        "- Q.4: \u5185\u5305\u8868\u8a18\u3092\u7528\u3044\u305f1\u3064\u306e\u51e6\u7406\u5f0f\u3067\uff0c1 \u304b\u3089 100 \u307e\u3067\u9023\u7d9a\u3057\u305f 100 \u500b\u306e\u6574\u6570\u306b\u5bfe\u3059\u308b\u6a19\u6e96\u504f\u5dee\u3092\u6c42\u3081\u3066\u304f\u3060\u3055\u3044\uff0e\u3053\u3053\u3067\uff0c\u30c7\u30fc\u30bf\u306e\u500b\u6570\u3092 $n$, i\u756a\u76ee\u306e\u30c7\u30fc\u30bf\u3092 $x_i$, \u30c7\u30fc\u30bf\u306e\u5e73\u5747\u3092 $\\bar{x}$ \u3068\u3059\u308b\u3068\uff0c\u6a19\u6e96\u504f\u5dee $\\sigma$ \u306f\uff0c\n",
        "\n",
        "$$\n",
        "\\sigma = \\sqrt{\\frac{1}{n} \\sum_{i=1}^n (x_i - \\bar{x})^2}\n",
        "$$\n",
        "\n",
        "\u3067\u8a08\u7b97\u3055\u308c\u307e\u3059\uff0e"
      ]
    },
    {
      "cell_type": "code",
      "execution_count": null,
      "id": "13e55d23-625a-4708-be08-0939dbd6f0e6",
      "metadata": {},
      "outputs": [],
      "source": []
    }
  ],
  "metadata": {
    "kernelspec": {
      "display_name": "Python 3 (ipykernel)",
      "language": "python",
      "name": "python3"
    },
    "language_info": {
      "codemirror_mode": {
        "name": "ipython",
        "version": 3
      },
      "file_extension": ".py",
      "mimetype": "text/x-python",
      "name": "python",
      "nbconvert_exporter": "python",
      "pygments_lexer": "ipython3",
      "version": "3.8.10"
    }
  },
  "nbformat": 4,
  "nbformat_minor": 5
}
