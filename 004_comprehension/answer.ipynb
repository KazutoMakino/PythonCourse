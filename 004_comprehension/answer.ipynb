{
  "cells": [
    {
      "cell_type": "markdown",
      "metadata": {},
      "source": [
        "### \u5185\u5305\u8868\u8a18\u306e\u6f14\u7fd2\u306e\u89e3\u7b54\n",
        "\n",
        "---"
      ]
    },
    {
      "cell_type": "markdown",
      "metadata": {},
      "source": [
        "- Q.1: \u5185\u5305\u8868\u8a18\u3092\u7528\u3044\u305f1\u3064\u306e\u51e6\u7406\u5f0f\u3067\uff0c1 \u304b\u3089 1000 \u307e\u3067\u306e 5 \u306e\u500d\u6570\u306e\u7dcf\u548c\u3092\u6c42\u3081\u3066\u304f\u3060\u3055\u3044\uff0e"
      ]
    },
    {
      "cell_type": "code",
      "execution_count": 1,
      "metadata": {},
      "outputs": [
        {
          "data": {
            "text/plain": [
              "100500"
            ]
          },
          "execution_count": 1,
          "metadata": {},
          "output_type": "execute_result"
        }
      ],
      "source": [
        "sum([v for v in range(5,1001,5)])"
      ]
    },
    {
      "cell_type": "markdown",
      "metadata": {},
      "source": [
        "- Q.2: \u5185\u5305\u8868\u8a18\u3092\u7528\u3044\u305f1\u3064\u306e\u51e6\u7406\u5f0f\u3067\uff0c1 \u304b\u3089 1000 \u307e\u3067\u9023\u7d9a\u3057\u305f\u6574\u6570\u306e\u5185\uff0c7 \u3068 13 \u306e\u500d\u6570\u306b 1 \u8db3\u3057\u305f\u5024\u306e\u307f\u3092\u52a0\u7b97\u3057\u3066\u304f\u3060\u3055\u3044\uff08% \u3092\u7528\u3044\u307e\u3059\uff09\uff0e"
      ]
    },
    {
      "cell_type": "code",
      "execution_count": 2,
      "metadata": {},
      "outputs": [
        {
          "data": {
            "text/plain": [
              "104313"
            ]
          },
          "execution_count": 2,
          "metadata": {},
          "output_type": "execute_result"
        }
      ],
      "source": [
        "sum([v for v in range(1,1001) if (v%7==1) or (v%13==1)])"
      ]
    },
    {
      "cell_type": "markdown",
      "metadata": {},
      "source": [
        "- Q.3: \u5185\u5305\u8868\u8a18\u3092\u7528\u3044\u305f1\u3064\u306e\u51e6\u7406\u5f0f\u3067\uff0c0 \u304b\u3089 100 \u307e\u3067\u9023\u7d9a\u3057\u305f\u6574\u6570\u306e2\u4e57\u6839\u3092\u8981\u7d20\u3068\u3059\u308b\uff0c\u8981\u7d20\u6570 101 \u306e\u6b21\u306e\u30ea\u30b9\u30c8 $[\\sqrt{0}, \\sqrt{1}, \\sqrt{2}, \\cdots , \\sqrt{100}]$ \u3092\u4f5c\u6210\u3057\u3066\u304f\u3060\u3055\u3044\uff0e"
      ]
    },
    {
      "cell_type": "code",
      "execution_count": 3,
      "metadata": {},
      "outputs": [
        {
          "data": {
            "text/plain": [
              "(101, 10.0)"
            ]
          },
          "execution_count": 3,
          "metadata": {},
          "output_type": "execute_result"
        }
      ],
      "source": [
        "arr = [v**(1/2) for v in range(101)]\n",
        "len(arr), arr[-1]"
      ]
    },
    {
      "cell_type": "markdown",
      "metadata": {},
      "source": [
        "- Q.4: \u5185\u5305\u8868\u8a18\u3092\u7528\u3044\u305f1\u3064\u306e\u51e6\u7406\u5f0f\u3067\uff0c1 \u304b\u3089 100 \u307e\u3067\u9023\u7d9a\u3057\u305f 100 \u500b\u306e\u6574\u6570\u306b\u5bfe\u3059\u308b\u6a19\u6e96\u504f\u5dee\u3092\u6c42\u3081\u3066\u304f\u3060\u3055\u3044\uff0e"
      ]
    },
    {
      "cell_type": "code",
      "execution_count": 4,
      "metadata": {},
      "outputs": [
        {
          "data": {
            "text/plain": [
              "28.86607004772212"
            ]
          },
          "execution_count": 4,
          "metadata": {},
          "output_type": "execute_result"
        }
      ],
      "source": [
        "(sum([ (v - sum(list(range(1,101)))/100)**2 for v in range(1,101)]) / 100) ** (1/2)"
      ]
    },
    {
      "cell_type": "code",
      "execution_count": null,
      "metadata": {},
      "outputs": [],
      "source": []
    }
  ],
  "metadata": {
    "kernelspec": {
      "display_name": "Python 3 (ipykernel)",
      "language": "python",
      "name": "python3"
    },
    "language_info": {
      "codemirror_mode": {
        "name": "ipython",
        "version": 3
      },
      "file_extension": ".py",
      "mimetype": "text/x-python",
      "name": "python",
      "nbconvert_exporter": "python",
      "pygments_lexer": "ipython3",
      "version": "3.8.10"
    }
  },
  "nbformat": 4,
  "nbformat_minor": 4
}
