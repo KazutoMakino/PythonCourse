{
 "cells": [
  {
   "cell_type": "markdown",
   "id": "bcbfd66d-ec55-4f2f-9187-8642d94eccbd",
   "metadata": {
    "id": "bcbfd66d-ec55-4f2f-9187-8642d94eccbd"
   },
   "source": [
    "# 標準ライブラリ（良く使うもの抜粋）\n",
    "\n",
    "---\n",
    "\n",
    "- ref: https://docs.python.org/ja/3/library/\n",
    "- blog: https://slash-z.com/\n",
    "- github: https://github.com/KazutoMakino/PythonCourses\n",
    "\n",
    "---"
   ]
  },
  {
   "cell_type": "markdown",
   "id": "dee50cd6-e79f-48f2-8076-4fd510ceab11",
   "metadata": {
    "id": "dee50cd6-e79f-48f2-8076-4fd510ceab11"
   },
   "source": [
    "Python の標準ライブラリの一覧は，公式ドキュメント (https://docs.python.org/ja/3/library/) の通りで，200 を超えます．  \n",
    "もちろん，全て使うかというとそうではなく，やりたい内容によっては使うものだったり，全く使わないものも出てきます．  \n",
    "さらに，良く使う標準ライブラリにおいても，使ったことが無いようなクラスやメソッドもあり，たまに使うものや使ったことが無いものは，大体調べながらプログラミングするのが常人のレベルと考えます．  \n",
    "従って，今回は，今後プログラミングしていくにあたって「あんな使い方やライブラリがあったな」というヒントや調べるきっかけを提供することを目的として，個人的によく使う標準ライブラリの内，よく使う使い方について紹介します．  \n",
    "といっても，よく使うライブラリも数多くあるので，その中から，以下の，特に良く使っているライブラリについて記載することとします．  \n",
    "以下で紹介しないライブラリについては，必要に応じて参照ください．"
   ]
  },
  {
   "cell_type": "markdown",
   "id": "e9354c32-a2f9-4a53-9ab0-09f19bd990cb",
   "metadata": {
    "id": "e9354c32-a2f9-4a53-9ab0-09f19bd990cb"
   },
   "source": [
    "特に良く使っている標準ライブラリ（この記事にて紹介）:\n",
    "- pathlib (https://docs.python.org/ja/3/library/pathlib.html) ・・・・ファイル／ディレクトリパスを扱う\n",
    "- shutil (https://docs.python.org/ja/3/library/shutil.html) ・・・・ファイルの移動やコピー，圧縮／展開などの操作\n",
    "- time (https://docs.python.org/ja/3/library/time.html) ・・・・時間計測など\n",
    "- datetime (https://docs.python.org/ja/3/library/datetime.html) ・・・・日付／時差取得など"
   ]
  },
  {
   "cell_type": "markdown",
   "id": "74a467af-8261-4538-ac92-c5224857e97d",
   "metadata": {
    "id": "74a467af-8261-4538-ac92-c5224857e97d"
   },
   "source": [
    "良く使っている標準ライブラリ:\n",
    "- json (https://docs.python.org/ja/3/library/json.html) ・・・・json ファイル／オブジェクトの生成などの操作\n",
    "- gc (https://docs.python.org/ja/3/library/gc.html) ・・・・ガベージコレクタ（プログラム実行中に動的に確保し不要になったメモリ領域を解放）\n",
    "- random (https://docs.python.org/ja/3/library/random.html) ・・・・乱数を扱う\n",
    "- math (https://docs.python.org/ja/3/library/math.html) ・・・・数学関数を扱う\n",
    "- statistics (https://docs.python.org/ja/3/library/statistics.html) ・・・・統計処理を行う\n",
    "- logging (https://docs.python.org/ja/3/library/logging.html) ・・・・ログ生成に用いる\n",
    "- typing (https://docs.python.org/ja/3/library/typing.html) ・・・・型ヒントに用いたり，型を明示的にすることにより，エディタの補完や予測変換機能が強化される\n",
    "- argparse (https://docs.python.org/ja/3/library/argparse.html) ・・・・コマンドライン引数やパーサーの生成／強化に用いる（スクリプトの多機能化）\n",
    "- pprint (https://docs.python.org/ja/3/library/pprint.html) ・・・・print よりもより綺麗に出力させる（例えば辞書型をキーと値のセットを出力する際に見やすくするなど）\n",
    "- sys (https://docs.python.org/ja/3/library/sys.html) ・・・・主にシステムを操作\n",
    "- pickle (https://docs.python.org/ja/3/library/pickle.html) ・・・・オブジェクトの直列化（読み書きが高速で，圧縮も可能なバイナリファイル .pickle の操作など）"
   ]
  },
  {
   "cell_type": "markdown",
   "id": "d232d6f7-e2d1-46a1-b3e1-6144b3908e52",
   "metadata": {
    "id": "d232d6f7-e2d1-46a1-b3e1-6144b3908e52"
   },
   "source": [
    "たまに使う標準ライブラリ:\n",
    "- glob (https://docs.python.org/ja/3/library/glob.html) ・・・・ワイルドカードなどを用いたパスのパターンマッチング（pathlib.Path.glob で代用のため，あまり用いない）\n",
    "- os (https://docs.python.org/ja/3/library/os.html) ・・・・OS の機能のサポート（パスや環境変数を取得するなど．パスについては pathlib を良く用いるため，個人的な os の使用頻度は低い．）\n",
    "- re (https://docs.python.org/ja/3/library/re.html) ・・・・正規表現／パターンマッチング\n",
    "- traceback (https://docs.python.org/ja/3/library/traceback.html) ・・・・スタックトレース（プログラムエラーのメッセージ）の表示\n",
    "- subprocess (https://docs.python.org/ja/3/library/subprocess.html) ・・・・python スクリプトからコマンドラインを実行\n",
    "- tempfile (https://docs.python.org/ja/3/library/tempfile.html) ・・・・一時的なファイル／ディレクトリを生成し／削除\n",
    "- itertools (https://docs.python.org/ja/3/library/itertools.html) ・・・・色々なイテレータ作成\n",
    "- functools (https://docs.python.org/ja/3/library/functools.html) ・・・・関数や引数を柔軟に呼び出すことができる\n",
    "- gzip (https://docs.python.org/ja/3/library/gzip.html) ・・・・`.gz` ファイル操作\n",
    "- zipfile (https://docs.python.org/ja/3/library/zipfile.html) ・・・・`.zip` ファイル操作\n",
    "- tarfile (https://docs.python.org/ja/3/library/tarfile.html) ・・・・`.tar`, `.tar.gz`, `.tgz` ファイル操作\n",
    "- csv (https://docs.python.org/ja/3/library/csv.html) ・・・・`.csv` ファイル操作\n",
    "- copy (https://docs.python.org/ja/3/library/copy.html) ・・・・浅いコピー（オブジェクトの参照）と深いコピー（同じ値を持つ全く別オブジェクト）の生成\n",
    "\n",
    "あまり使わない標準ライブラリ・・・・それ以外は省略"
   ]
  },
  {
   "cell_type": "markdown",
   "id": "9b2f9e61-a956-4f50-9427-79a65894631c",
   "metadata": {
    "id": "9b2f9e61-a956-4f50-9427-79a65894631c"
   },
   "source": [
    "## ライブラリやモジュールの呼び出し方法"
   ]
  },
  {
   "cell_type": "markdown",
   "id": "fcb540f1-7f61-4330-8b9c-8a58a868ddf2",
   "metadata": {
    "id": "fcb540f1-7f61-4330-8b9c-8a58a868ddf2"
   },
   "source": [
    "例えば C 言語では，標準入出力関数のヘッダファイル `stdio.h` を `#include <stdio.h>` にてインクルードした場合には，`stdio.h` にて定義されている `printf` やら `scanf` などその他もろもろの型／定義／関数／マクロなどがいきなり使えるようになりますが，例えば `printf` など使いたい定義について `stdio.h` に内包されていることを知っている必要があります．  \n",
    "しかし，python ではその心配はありません．  \n",
    "`import` によって宣言されたモジュールの関数やクラスを参照するためには，このモジュールの名前が出てくるため，「ある特定の関数がどの宣言と紐づいているか分からなくなる」ということがなくなります．  \n",
    "個人的に，至極納得のいく言語仕様です．  \n",
    "（余談ですが，C 言語にて `#include <stdio.h>` とすると，`stdio.h` 内のマクロなどが呼び出されますが，その内の一つの `stdout` の中身に `printf` があるため，`printf` が使えるようになります (参考: http://www.c-lang.org/detail/stdio_h.html )．これが，初学者に苦し紛れで教えられるような「おまじない」の本質です．）  \n",
    "\n",
    "ライブラリやモジュールは，次のような構文で呼び出します．"
   ]
  },
  {
   "cell_type": "markdown",
   "id": "9cc8131b-6825-4403-b7ae-1a5eab90d11b",
   "metadata": {
    "id": "9cc8131b-6825-4403-b7ae-1a5eab90d11b"
   },
   "source": [
    "```\n",
    "import モジュール as 代替する使用したい名前\n",
    " または，\n",
    "import モジュール.モジュールの関数やクラス as 代替する使用したい名前\n",
    " または，\n",
    "from モジュール import モジュールの関数やクラス as 代替する使用したい名前\n",
    "```"
   ]
  },
  {
   "cell_type": "markdown",
   "id": "61858e30-fd43-4b6f-a8e6-edf0164fca8b",
   "metadata": {
    "id": "61858e30-fd43-4b6f-a8e6-edf0164fca8b"
   },
   "source": [
    "上記の `as` 以降はあってもなくても良く，モジュール名などを省略名称で用いたい時に使います．  \n",
    "import されたモジュールは以下のように用います．"
   ]
  },
  {
   "cell_type": "markdown",
   "id": "d1a3d15e-15b2-4622-9a18-591125be0059",
   "metadata": {
    "id": "d1a3d15e-15b2-4622-9a18-591125be0059"
   },
   "source": [
    "```\n",
    "モジュール（または as で定義した名前）.そのクラスや関数\n",
    "```"
   ]
  },
  {
   "cell_type": "markdown",
   "id": "09f52ec5-0d7f-4915-a869-a0c4e699a865",
   "metadata": {
    "id": "09f52ec5-0d7f-4915-a869-a0c4e699a865"
   },
   "source": [
    "このように，モジュール名とその中身をドット \".\" でつなげるだけです．  \n",
    "とはいっても，日本語で書くと良く分からないと思うので，以下，紹介とともに例を挙げていきます．"
   ]
  },
  {
   "cell_type": "markdown",
   "id": "f3e31904-215f-49a2-8f30-9455e2a3bcb4",
   "metadata": {
    "id": "f3e31904-215f-49a2-8f30-9455e2a3bcb4"
   },
   "source": [
    "## pathlib"
   ]
  },
  {
   "cell_type": "markdown",
   "id": "55ae509a-28d8-49c8-b82a-04692119d59f",
   "metadata": {
    "id": "55ae509a-28d8-49c8-b82a-04692119d59f"
   },
   "source": [
    "pathlib (https://docs.python.org/ja/3/library/pathlib.html) は，ファイル／ディレクトリパスを扱う標準ライブラリです．  \n",
    "一般的なファイル操作全般に対して用いています．  \n",
    "pathlib は Path クラスとそのメソッドを用いることがほとんどです．  \n",
    "以下に import と基本的な使い方について紹介します．"
   ]
  },
  {
   "cell_type": "code",
   "execution_count": 1,
   "id": "736fbf04-fb7f-4265-bd91-c362b6986da9",
   "metadata": {
    "executionInfo": {
     "elapsed": 10,
     "status": "ok",
     "timestamp": 1644458946803,
     "user": {
      "displayName": "牧野和人",
      "photoUrl": "https://lh3.googleusercontent.com/a-/AOh14Gjyd3FHYOlMMy8Ivf6WXppXWT9aVT60lz8_wvq2=s64",
      "userId": "05737379578593904589"
     },
     "user_tz": -540
    },
    "id": "736fbf04-fb7f-4265-bd91-c362b6986da9"
   },
   "outputs": [],
   "source": [
    "from pathlib import Path"
   ]
  },
  {
   "cell_type": "markdown",
   "id": "15cff93b-87d9-4106-83db-befb3d233aa0",
   "metadata": {
    "id": "15cff93b-87d9-4106-83db-befb3d233aa0"
   },
   "source": [
    "Path(パス文字列) というように，Path クラスにパス文字列を渡して各種メソッドを適用していきます．  \n",
    "例えば，今のディレクトリパス \"./\" を指定すると，"
   ]
  },
  {
   "cell_type": "code",
   "execution_count": 2,
   "id": "44f3ad49-3a07-4c86-a8a7-bbbeba8cda3c",
   "metadata": {
    "colab": {
     "base_uri": "https://localhost:8080/"
    },
    "executionInfo": {
     "elapsed": 9,
     "status": "ok",
     "timestamp": 1644458946804,
     "user": {
      "displayName": "牧野和人",
      "photoUrl": "https://lh3.googleusercontent.com/a-/AOh14Gjyd3FHYOlMMy8Ivf6WXppXWT9aVT60lz8_wvq2=s64",
      "userId": "05737379578593904589"
     },
     "user_tz": -540
    },
    "id": "44f3ad49-3a07-4c86-a8a7-bbbeba8cda3c",
    "outputId": "b880798d-6063-4848-9b10-0b5ab22499d1"
   },
   "outputs": [
    {
     "data": {
      "text/plain": [
       "WindowsPath('.')"
      ]
     },
     "execution_count": 2,
     "metadata": {},
     "output_type": "execute_result"
    }
   ],
   "source": [
    "pwd = Path(\"./\")\n",
    "pwd"
   ]
  },
  {
   "cell_type": "code",
   "execution_count": 3,
   "id": "f7c93ec1-676e-4b0c-816e-df0ab191fb32",
   "metadata": {
    "colab": {
     "base_uri": "https://localhost:8080/"
    },
    "executionInfo": {
     "elapsed": 5,
     "status": "ok",
     "timestamp": 1644458949808,
     "user": {
      "displayName": "牧野和人",
      "photoUrl": "https://lh3.googleusercontent.com/a-/AOh14Gjyd3FHYOlMMy8Ivf6WXppXWT9aVT60lz8_wvq2=s64",
      "userId": "05737379578593904589"
     },
     "user_tz": -540
    },
    "id": "f7c93ec1-676e-4b0c-816e-df0ab191fb32",
    "outputId": "2d5f1f6c-c355-428f-e4ae-abcfb2fad95d"
   },
   "outputs": [
    {
     "data": {
      "text/plain": [
       "pathlib.WindowsPath"
      ]
     },
     "execution_count": 3,
     "metadata": {},
     "output_type": "execute_result"
    }
   ],
   "source": [
    "type(pwd)"
   ]
  },
  {
   "cell_type": "markdown",
   "id": "51b61220-3ad1-41b1-963b-04d130d24a50",
   "metadata": {
    "id": "51b61220-3ad1-41b1-963b-04d130d24a50"
   },
   "source": [
    "というように，相対パスが得られます．  \n",
    "実行環境が windows なので，pathlib.WindowsPath 型となっています．  \n",
    "絶対パスは，resolve メソッドで得ることができます．"
   ]
  },
  {
   "cell_type": "code",
   "execution_count": 4,
   "id": "d5d60397-86c7-4ca6-9f38-f2f9998d0b7f",
   "metadata": {
    "colab": {
     "base_uri": "https://localhost:8080/"
    },
    "executionInfo": {
     "elapsed": 11,
     "status": "ok",
     "timestamp": 1644458950815,
     "user": {
      "displayName": "牧野和人",
      "photoUrl": "https://lh3.googleusercontent.com/a-/AOh14Gjyd3FHYOlMMy8Ivf6WXppXWT9aVT60lz8_wvq2=s64",
      "userId": "05737379578593904589"
     },
     "user_tz": -540
    },
    "id": "d5d60397-86c7-4ca6-9f38-f2f9998d0b7f",
    "outputId": "3905ce93-76db-442b-9918-8dff2c9147a4"
   },
   "outputs": [
    {
     "data": {
      "text/plain": [
       "WindowsPath('C:/Users/Kazuto/Documents/code/PythonCourse/007_std_libs')"
      ]
     },
     "execution_count": 4,
     "metadata": {},
     "output_type": "execute_result"
    }
   ],
   "source": [
    "pwd.resolve()"
   ]
  },
  {
   "cell_type": "markdown",
   "id": "9ec3032e-1be8-4533-a45c-51e9e512778c",
   "metadata": {
    "id": "9ec3032e-1be8-4533-a45c-51e9e512778c"
   },
   "source": [
    "新しくファイルを作成するときは，touch メソッドを用います．"
   ]
  },
  {
   "cell_type": "code",
   "execution_count": 5,
   "id": "2a5c06b8-1734-4102-a393-992913d06703",
   "metadata": {
    "executionInfo": {
     "elapsed": 28,
     "status": "ok",
     "timestamp": 1644458954017,
     "user": {
      "displayName": "牧野和人",
      "photoUrl": "https://lh3.googleusercontent.com/a-/AOh14Gjyd3FHYOlMMy8Ivf6WXppXWT9aVT60lz8_wvq2=s64",
      "userId": "05737379578593904589"
     },
     "user_tz": -540
    },
    "id": "2a5c06b8-1734-4102-a393-992913d06703"
   },
   "outputs": [],
   "source": [
    "new_item = Path(\"./new_item.txt\")\n",
    "new_item.touch()"
   ]
  },
  {
   "cell_type": "markdown",
   "id": "d6b60313-5ee4-481f-8b9c-fc79263e2d0a",
   "metadata": {
    "id": "d6b60313-5ee4-481f-8b9c-fc79263e2d0a"
   },
   "source": [
    "指定したパスが存在するかどうかは，exists メソッドで確認できます．"
   ]
  },
  {
   "cell_type": "code",
   "execution_count": 6,
   "id": "37d6fe17-31c9-4abb-8b3d-f100add1e091",
   "metadata": {
    "colab": {
     "base_uri": "https://localhost:8080/"
    },
    "executionInfo": {
     "elapsed": 594,
     "status": "ok",
     "timestamp": 1644458974634,
     "user": {
      "displayName": "牧野和人",
      "photoUrl": "https://lh3.googleusercontent.com/a-/AOh14Gjyd3FHYOlMMy8Ivf6WXppXWT9aVT60lz8_wvq2=s64",
      "userId": "05737379578593904589"
     },
     "user_tz": -540
    },
    "id": "37d6fe17-31c9-4abb-8b3d-f100add1e091",
    "outputId": "5a1c1b5a-58b0-413f-e1be-13a23f3a2ae9"
   },
   "outputs": [
    {
     "data": {
      "text/plain": [
       "True"
      ]
     },
     "execution_count": 6,
     "metadata": {},
     "output_type": "execute_result"
    }
   ],
   "source": [
    "new_item.exists()"
   ]
  },
  {
   "cell_type": "markdown",
   "id": "3656697d-971a-4450-b656-63a11481da4c",
   "metadata": {
    "id": "3656697d-971a-4450-b656-63a11481da4c"
   },
   "source": [
    "新しくディレクトリを作成するときは，mkdir メソッドを用います．"
   ]
  },
  {
   "cell_type": "code",
   "execution_count": 7,
   "id": "98072386-8092-4e4f-b857-60032eaa2cd0",
   "metadata": {
    "id": "98072386-8092-4e4f-b857-60032eaa2cd0"
   },
   "outputs": [],
   "source": [
    "new_dir = Path(\"./new_dir\")\n",
    "new_dir.mkdir()"
   ]
  },
  {
   "cell_type": "code",
   "execution_count": 8,
   "id": "18240f63-580d-4078-a85b-cc9a252429f9",
   "metadata": {
    "id": "18240f63-580d-4078-a85b-cc9a252429f9",
    "outputId": "1162a9cb-18b6-424f-ce88-8daadbaa1298"
   },
   "outputs": [
    {
     "data": {
      "text/plain": [
       "True"
      ]
     },
     "execution_count": 8,
     "metadata": {},
     "output_type": "execute_result"
    }
   ],
   "source": [
    "new_dir.exists()"
   ]
  },
  {
   "cell_type": "markdown",
   "id": "2bda29d8-2f9d-4863-9b41-59e074f4d641",
   "metadata": {
    "id": "2bda29d8-2f9d-4863-9b41-59e074f4d641"
   },
   "source": [
    "以下のようにもう一度作成しようとすると，FileExistsError が出ます．"
   ]
  },
  {
   "cell_type": "code",
   "execution_count": 9,
   "id": "79536545-4c39-4777-902c-8210a731408f",
   "metadata": {
    "id": "79536545-4c39-4777-902c-8210a731408f",
    "outputId": "a658befe-7d9f-4cb7-f79b-daed3195f8ef"
   },
   "outputs": [
    {
     "ename": "FileExistsError",
     "evalue": "[WinError 183] 既に存在するファイルを作成することはできません。: 'new_dir'",
     "output_type": "error",
     "traceback": [
      "\u001b[1;31m---------------------------------------------------------------------------\u001b[0m",
      "\u001b[1;31mFileExistsError\u001b[0m                           Traceback (most recent call last)",
      "\u001b[1;32m~\\AppData\\Local\\Temp/ipykernel_12160/3877270268.py\u001b[0m in \u001b[0;36m<module>\u001b[1;34m\u001b[0m\n\u001b[1;32m----> 1\u001b[1;33m \u001b[0mnew_dir\u001b[0m\u001b[1;33m.\u001b[0m\u001b[0mmkdir\u001b[0m\u001b[1;33m(\u001b[0m\u001b[1;33m)\u001b[0m\u001b[1;33m\u001b[0m\u001b[1;33m\u001b[0m\u001b[0m\n\u001b[0m",
      "\u001b[1;32m~\\AppData\\Local\\Programs\\Python\\Python38\\lib\\pathlib.py\u001b[0m in \u001b[0;36mmkdir\u001b[1;34m(self, mode, parents, exist_ok)\u001b[0m\n\u001b[0;32m   1286\u001b[0m             \u001b[0mself\u001b[0m\u001b[1;33m.\u001b[0m\u001b[0m_raise_closed\u001b[0m\u001b[1;33m(\u001b[0m\u001b[1;33m)\u001b[0m\u001b[1;33m\u001b[0m\u001b[1;33m\u001b[0m\u001b[0m\n\u001b[0;32m   1287\u001b[0m         \u001b[1;32mtry\u001b[0m\u001b[1;33m:\u001b[0m\u001b[1;33m\u001b[0m\u001b[1;33m\u001b[0m\u001b[0m\n\u001b[1;32m-> 1288\u001b[1;33m             \u001b[0mself\u001b[0m\u001b[1;33m.\u001b[0m\u001b[0m_accessor\u001b[0m\u001b[1;33m.\u001b[0m\u001b[0mmkdir\u001b[0m\u001b[1;33m(\u001b[0m\u001b[0mself\u001b[0m\u001b[1;33m,\u001b[0m \u001b[0mmode\u001b[0m\u001b[1;33m)\u001b[0m\u001b[1;33m\u001b[0m\u001b[1;33m\u001b[0m\u001b[0m\n\u001b[0m\u001b[0;32m   1289\u001b[0m         \u001b[1;32mexcept\u001b[0m \u001b[0mFileNotFoundError\u001b[0m\u001b[1;33m:\u001b[0m\u001b[1;33m\u001b[0m\u001b[1;33m\u001b[0m\u001b[0m\n\u001b[0;32m   1290\u001b[0m             \u001b[1;32mif\u001b[0m \u001b[1;32mnot\u001b[0m \u001b[0mparents\u001b[0m \u001b[1;32mor\u001b[0m \u001b[0mself\u001b[0m\u001b[1;33m.\u001b[0m\u001b[0mparent\u001b[0m \u001b[1;33m==\u001b[0m \u001b[0mself\u001b[0m\u001b[1;33m:\u001b[0m\u001b[1;33m\u001b[0m\u001b[1;33m\u001b[0m\u001b[0m\n",
      "\u001b[1;31mFileExistsError\u001b[0m: [WinError 183] 既に存在するファイルを作成することはできません。: 'new_dir'"
     ]
    }
   ],
   "source": [
    "new_dir.mkdir()"
   ]
  },
  {
   "cell_type": "markdown",
   "id": "b0979cc0-c3bd-48a1-93c5-1068f4e3c56c",
   "metadata": {
    "id": "b0979cc0-c3bd-48a1-93c5-1068f4e3c56c"
   },
   "source": [
    "上書きしても良い場合は，引数 exist_ok に True を渡します．"
   ]
  },
  {
   "cell_type": "code",
   "execution_count": 10,
   "id": "2c8ef23d-d6bc-4f1a-86bd-df4d0de120c7",
   "metadata": {
    "id": "2c8ef23d-d6bc-4f1a-86bd-df4d0de120c7"
   },
   "outputs": [],
   "source": [
    "new_dir.mkdir(exist_ok=True)"
   ]
  },
  {
   "cell_type": "markdown",
   "id": "67585e0c-a6d9-48c4-a588-e5e688112a02",
   "metadata": {
    "id": "67585e0c-a6d9-48c4-a588-e5e688112a02"
   },
   "source": [
    "実は touch メソッドも引数 exist_ok があるのですが，デフォルトが True となっているため，省略してもエラーがでません（逆に，exist_ok=False を指定すると，FileExistsError が出ます）．  \n",
    "この場合，空のファイルで上書きされるのではなく，単に更新日時が上書きされるだけです．\n",
    "\n",
    "mkdir において，デフォルトが False である引数 parents に True を渡すことで，複数階層を同時に作成することができます．"
   ]
  },
  {
   "cell_type": "code",
   "execution_count": 11,
   "id": "e5e12b9f-736a-4d64-ad04-162ca6a7a7b1",
   "metadata": {
    "id": "e5e12b9f-736a-4d64-ad04-162ca6a7a7b1",
    "outputId": "9a2b2e69-ed86-492b-cd8c-5230456116eb"
   },
   "outputs": [
    {
     "ename": "FileNotFoundError",
     "evalue": "[WinError 3] 指定されたパスが見つかりません。: 'new_dir1\\\\new_dir2\\\\new_dir3'",
     "output_type": "error",
     "traceback": [
      "\u001b[1;31m---------------------------------------------------------------------------\u001b[0m",
      "\u001b[1;31mFileNotFoundError\u001b[0m                         Traceback (most recent call last)",
      "\u001b[1;32m~\\AppData\\Local\\Temp/ipykernel_12160/1949577686.py\u001b[0m in \u001b[0;36m<module>\u001b[1;34m\u001b[0m\n\u001b[0;32m      1\u001b[0m \u001b[0mnew_dir123\u001b[0m \u001b[1;33m=\u001b[0m \u001b[0mPath\u001b[0m\u001b[1;33m(\u001b[0m\u001b[1;34m\"./new_dir1/new_dir2/new_dir3\"\u001b[0m\u001b[1;33m)\u001b[0m\u001b[1;33m\u001b[0m\u001b[1;33m\u001b[0m\u001b[0m\n\u001b[1;32m----> 2\u001b[1;33m \u001b[0mnew_dir123\u001b[0m\u001b[1;33m.\u001b[0m\u001b[0mmkdir\u001b[0m\u001b[1;33m(\u001b[0m\u001b[1;33m)\u001b[0m\u001b[1;33m\u001b[0m\u001b[1;33m\u001b[0m\u001b[0m\n\u001b[0m",
      "\u001b[1;32m~\\AppData\\Local\\Programs\\Python\\Python38\\lib\\pathlib.py\u001b[0m in \u001b[0;36mmkdir\u001b[1;34m(self, mode, parents, exist_ok)\u001b[0m\n\u001b[0;32m   1286\u001b[0m             \u001b[0mself\u001b[0m\u001b[1;33m.\u001b[0m\u001b[0m_raise_closed\u001b[0m\u001b[1;33m(\u001b[0m\u001b[1;33m)\u001b[0m\u001b[1;33m\u001b[0m\u001b[1;33m\u001b[0m\u001b[0m\n\u001b[0;32m   1287\u001b[0m         \u001b[1;32mtry\u001b[0m\u001b[1;33m:\u001b[0m\u001b[1;33m\u001b[0m\u001b[1;33m\u001b[0m\u001b[0m\n\u001b[1;32m-> 1288\u001b[1;33m             \u001b[0mself\u001b[0m\u001b[1;33m.\u001b[0m\u001b[0m_accessor\u001b[0m\u001b[1;33m.\u001b[0m\u001b[0mmkdir\u001b[0m\u001b[1;33m(\u001b[0m\u001b[0mself\u001b[0m\u001b[1;33m,\u001b[0m \u001b[0mmode\u001b[0m\u001b[1;33m)\u001b[0m\u001b[1;33m\u001b[0m\u001b[1;33m\u001b[0m\u001b[0m\n\u001b[0m\u001b[0;32m   1289\u001b[0m         \u001b[1;32mexcept\u001b[0m \u001b[0mFileNotFoundError\u001b[0m\u001b[1;33m:\u001b[0m\u001b[1;33m\u001b[0m\u001b[1;33m\u001b[0m\u001b[0m\n\u001b[0;32m   1290\u001b[0m             \u001b[1;32mif\u001b[0m \u001b[1;32mnot\u001b[0m \u001b[0mparents\u001b[0m \u001b[1;32mor\u001b[0m \u001b[0mself\u001b[0m\u001b[1;33m.\u001b[0m\u001b[0mparent\u001b[0m \u001b[1;33m==\u001b[0m \u001b[0mself\u001b[0m\u001b[1;33m:\u001b[0m\u001b[1;33m\u001b[0m\u001b[1;33m\u001b[0m\u001b[0m\n",
      "\u001b[1;31mFileNotFoundError\u001b[0m: [WinError 3] 指定されたパスが見つかりません。: 'new_dir1\\\\new_dir2\\\\new_dir3'"
     ]
    }
   ],
   "source": [
    "new_dir123 = Path(\"./new_dir1/new_dir2/new_dir3\")\n",
    "new_dir123.mkdir()"
   ]
  },
  {
   "cell_type": "code",
   "execution_count": 12,
   "id": "a6714877-47a7-41bc-a552-2dbd2847ca04",
   "metadata": {
    "id": "a6714877-47a7-41bc-a552-2dbd2847ca04",
    "outputId": "5a3457ac-2203-4299-8bde-7f07e1587cfd"
   },
   "outputs": [
    {
     "data": {
      "text/plain": [
       "True"
      ]
     },
     "execution_count": 12,
     "metadata": {},
     "output_type": "execute_result"
    }
   ],
   "source": [
    "new_dir123.mkdir(parents=True)\n",
    "new_dir123.exists()"
   ]
  },
  {
   "cell_type": "markdown",
   "id": "8ee16c3c-3d60-4401-9ab4-f677dfebfa80",
   "metadata": {
    "id": "8ee16c3c-3d60-4401-9ab4-f677dfebfa80"
   },
   "source": [
    "指定したパスがファイルかどうかの判定には is_file メソッド，ディレクトリかどうかの判定には is_dir メソッドにて調べることができます．"
   ]
  },
  {
   "cell_type": "code",
   "execution_count": 13,
   "id": "6917a793-0c20-421b-900f-baadc26039d9",
   "metadata": {
    "id": "6917a793-0c20-421b-900f-baadc26039d9",
    "outputId": "d3e84f7b-e7cf-47ce-b312-4989f8fc8c75"
   },
   "outputs": [
    {
     "data": {
      "text/plain": [
       "(True, False, False, True)"
      ]
     },
     "execution_count": 13,
     "metadata": {},
     "output_type": "execute_result"
    }
   ],
   "source": [
    "new_item.is_file(), new_item.is_dir(), new_dir.is_file(), new_dir.is_dir()"
   ]
  },
  {
   "cell_type": "markdown",
   "id": "a4b7bdd3-daa6-4d79-9fa6-78d3d2fee3e1",
   "metadata": {
    "id": "a4b7bdd3-daa6-4d79-9fa6-78d3d2fee3e1"
   },
   "source": [
    "文字列型の結合は + によって可能ですが，パスの結合は階層を表す / によって結合ができます．"
   ]
  },
  {
   "cell_type": "code",
   "execution_count": 14,
   "id": "d11be96b-3316-4d68-aa0c-b564aef2d828",
   "metadata": {
    "id": "d11be96b-3316-4d68-aa0c-b564aef2d828",
    "outputId": "a68a07ac-ec72-4270-9a13-fad7034844ea"
   },
   "outputs": [
    {
     "data": {
      "text/plain": [
       "WindowsPath('new_dir1/new_dir2')"
      ]
     },
     "execution_count": 14,
     "metadata": {},
     "output_type": "execute_result"
    }
   ],
   "source": [
    "Path(\"./new_dir1\") / Path(\"new_dir2\")"
   ]
  },
  {
   "cell_type": "markdown",
   "id": "75acfdd2-4673-4f75-a8c3-80796a2373e9",
   "metadata": {
    "id": "75acfdd2-4673-4f75-a8c3-80796a2373e9"
   },
   "source": [
    "上記でもできますが，先頭の型が pathlib.Path 型であれば，次のように，先頭以外は文字列で結合が可能です．"
   ]
  },
  {
   "cell_type": "code",
   "execution_count": 15,
   "id": "eb7e1259-b1d1-4cba-9761-752adeb5ab95",
   "metadata": {
    "id": "eb7e1259-b1d1-4cba-9761-752adeb5ab95",
    "outputId": "6a0a2562-a0a3-48c3-a255-8650c7503a9c"
   },
   "outputs": [
    {
     "data": {
      "text/plain": [
       "WindowsPath('new_dir1/new_dir2')"
      ]
     },
     "execution_count": 15,
     "metadata": {},
     "output_type": "execute_result"
    }
   ],
   "source": [
    "Path(\"./new_dir1\") / \"new_dir2\""
   ]
  },
  {
   "cell_type": "markdown",
   "id": "f498cfdb-a6c9-4143-842e-91df2e361989",
   "metadata": {
    "id": "f498cfdb-a6c9-4143-842e-91df2e361989"
   },
   "source": [
    "階層を区切りたくないけど変数を使ってパス合体させたいという場合は，str() を用いて一旦文字列型にキャストするか，もしくは，f-string を用います．"
   ]
  },
  {
   "cell_type": "code",
   "execution_count": 16,
   "id": "fa59dae9-a219-4e71-8939-a1e8bfd33ed9",
   "metadata": {
    "id": "fa59dae9-a219-4e71-8939-a1e8bfd33ed9",
    "outputId": "35dd1f33-de6d-4917-c9db-47e7fa7226e2"
   },
   "outputs": [
    {
     "data": {
      "text/plain": [
       "(WindowsPath('new_dir1/new_dir2/new_item2.txt'), False)"
      ]
     },
     "execution_count": 16,
     "metadata": {},
     "output_type": "execute_result"
    }
   ],
   "source": [
    "file_name = \"new_item2\"\n",
    "file_path = Path(\"./new_dir1\") / f\"new_dir2/{file_name}.txt\"\n",
    "file_path, file_path.exists()"
   ]
  },
  {
   "cell_type": "markdown",
   "id": "15c91987-bbf1-4f78-9688-72a6e7ef641f",
   "metadata": {
    "id": "15c91987-bbf1-4f78-9688-72a6e7ef641f"
   },
   "source": [
    "touch はそのファイルを置くディレクトリが存在していれば，複数階層をまたいでも使うことができます．"
   ]
  },
  {
   "cell_type": "code",
   "execution_count": 17,
   "id": "cdbdfc91-b6cb-40d4-b683-897a9780e4c3",
   "metadata": {
    "id": "cdbdfc91-b6cb-40d4-b683-897a9780e4c3",
    "outputId": "9cfa133f-9a5b-4763-d29c-68a20644702f"
   },
   "outputs": [
    {
     "data": {
      "text/plain": [
       "True"
      ]
     },
     "execution_count": 17,
     "metadata": {},
     "output_type": "execute_result"
    }
   ],
   "source": [
    "file_path.touch()\n",
    "file_path.exists()"
   ]
  },
  {
   "cell_type": "markdown",
   "id": "2e8427d7-54a4-4f0e-b1a7-1a100de76050",
   "metadata": {
    "id": "2e8427d7-54a4-4f0e-b1a7-1a100de76050"
   },
   "source": [
    "指定した階層において，ファイル／ディレクトリの一覧を取得したい場合は，iterdir メソッドにてジェネレータを取得でき，list などで展開できます．"
   ]
  },
  {
   "cell_type": "code",
   "execution_count": 18,
   "id": "8126d361-ae8f-4490-9e95-4bbe3ecfe00f",
   "metadata": {
    "id": "8126d361-ae8f-4490-9e95-4bbe3ecfe00f",
    "outputId": "b59879e9-d9c8-4374-ac36-92b6239c067b"
   },
   "outputs": [
    {
     "data": {
      "text/plain": [
       "[WindowsPath('.ipynb_checkpoints'),\n",
       " WindowsPath('007_std_libs.ipynb'),\n",
       " WindowsPath('answer.ipynb'),\n",
       " WindowsPath('new_dir'),\n",
       " WindowsPath('new_dir1'),\n",
       " WindowsPath('new_item.txt')]"
      ]
     },
     "execution_count": 18,
     "metadata": {},
     "output_type": "execute_result"
    }
   ],
   "source": [
    "list(pwd.iterdir())"
   ]
  },
  {
   "cell_type": "markdown",
   "id": "5f7bc940-3298-429e-a74e-6eb21448673b",
   "metadata": {
    "id": "5f7bc940-3298-429e-a74e-6eb21448673b"
   },
   "source": [
    "また，パスにワイルドカード `*` （アスタリスク）が指定できる glob メソッドでも調べることができます．"
   ]
  },
  {
   "cell_type": "code",
   "execution_count": 19,
   "id": "b6821119-dd92-4ba7-9dc3-23b396f1b00f",
   "metadata": {
    "id": "b6821119-dd92-4ba7-9dc3-23b396f1b00f",
    "outputId": "830cc239-85c2-4ab9-dad9-f2936a70466b"
   },
   "outputs": [
    {
     "data": {
      "text/plain": [
       "[WindowsPath('.ipynb_checkpoints'),\n",
       " WindowsPath('007_std_libs.ipynb'),\n",
       " WindowsPath('answer.ipynb'),\n",
       " WindowsPath('new_dir'),\n",
       " WindowsPath('new_dir1'),\n",
       " WindowsPath('new_item.txt')]"
      ]
     },
     "execution_count": 19,
     "metadata": {},
     "output_type": "execute_result"
    }
   ],
   "source": [
    "list(pwd.glob(\"*\"))"
   ]
  },
  {
   "cell_type": "markdown",
   "id": "7276dd32-8fe3-4bf0-8a32-fc8c32f40a71",
   "metadata": {
    "id": "7276dd32-8fe3-4bf0-8a32-fc8c32f40a71"
   },
   "source": [
    "glob メソッドの中の文字列の工夫次第で，検索するオブジェクトを指定することができます．  \n",
    "例えば，.txt ファイルだけにしたい場合は，"
   ]
  },
  {
   "cell_type": "code",
   "execution_count": 20,
   "id": "e37e847d-a179-47a8-b0c7-dc689da58972",
   "metadata": {
    "id": "e37e847d-a179-47a8-b0c7-dc689da58972",
    "outputId": "4ec95c79-c857-4782-dc37-e347d6d0db9c"
   },
   "outputs": [
    {
     "data": {
      "text/plain": [
       "[WindowsPath('new_item.txt')]"
      ]
     },
     "execution_count": 20,
     "metadata": {},
     "output_type": "execute_result"
    }
   ],
   "source": [
    "list(pwd.glob(\"*.txt\"))"
   ]
  },
  {
   "cell_type": "markdown",
   "id": "7f246cfe-83cf-4844-8ca4-44ad6fd74e70",
   "metadata": {
    "id": "7f246cfe-83cf-4844-8ca4-44ad6fd74e70"
   },
   "source": [
    "のようにすれば，この階層における探索は可能です．  \n",
    "しかし，先ほど生成した `new_dir1/new_dir2/new_item2.txt` のパスは上記では得られません．  \n",
    "このパスを得るためには，再帰的に調べさせる必要があり，ワイルドカードを二つと階層を表す / 用いて，例えば以下のように書くことができます．"
   ]
  },
  {
   "cell_type": "code",
   "execution_count": 21,
   "id": "39f33467-ff82-462a-a4c6-85f60bf5e40f",
   "metadata": {
    "id": "39f33467-ff82-462a-a4c6-85f60bf5e40f",
    "outputId": "24e629ca-2d89-49b7-eb89-8487f993e6ed"
   },
   "outputs": [
    {
     "data": {
      "text/plain": [
       "[WindowsPath('new_item.txt'), WindowsPath('new_dir1/new_dir2/new_item2.txt')]"
      ]
     },
     "execution_count": 21,
     "metadata": {},
     "output_type": "execute_result"
    }
   ],
   "source": [
    "list(pwd.glob(\"**/*.txt\"))"
   ]
  },
  {
   "cell_type": "markdown",
   "id": "6a7c996d-c12d-4fc1-80a7-8496440d3ecd",
   "metadata": {
    "id": "6a7c996d-c12d-4fc1-80a7-8496440d3ecd"
   },
   "source": [
    "ファイルの削除には unlink メソッド，ディレクトリの削除には rmdir メソッドを用います．  \n",
    "ただし，上記で指定したパスが存在しない場合は，FileExistsError が返されます．"
   ]
  },
  {
   "cell_type": "code",
   "execution_count": 22,
   "id": "893f9518-0bf2-4a8b-ae9a-9c177f2776ec",
   "metadata": {
    "id": "893f9518-0bf2-4a8b-ae9a-9c177f2776ec",
    "outputId": "70356976-258f-40a6-8b05-dca387701ee1"
   },
   "outputs": [
    {
     "data": {
      "text/plain": [
       "WindowsPath('new_item.txt')"
      ]
     },
     "execution_count": 22,
     "metadata": {},
     "output_type": "execute_result"
    }
   ],
   "source": [
    "new_item"
   ]
  },
  {
   "cell_type": "code",
   "execution_count": 23,
   "id": "c51a24b1-3c81-4279-82f0-e866dadeb8fd",
   "metadata": {
    "id": "c51a24b1-3c81-4279-82f0-e866dadeb8fd",
    "outputId": "12f1efa5-4967-4a7e-d3d4-9045e72a4d3c"
   },
   "outputs": [
    {
     "data": {
      "text/plain": [
       "False"
      ]
     },
     "execution_count": 23,
     "metadata": {},
     "output_type": "execute_result"
    }
   ],
   "source": [
    "new_item.unlink()\n",
    "new_item.exists()"
   ]
  },
  {
   "cell_type": "code",
   "execution_count": 24,
   "id": "3c3e0fd3-3b2a-4a0a-863a-5cb230eadc5e",
   "metadata": {
    "id": "3c3e0fd3-3b2a-4a0a-863a-5cb230eadc5e",
    "outputId": "db19fd83-792e-4e73-9646-01290d7a1d51"
   },
   "outputs": [
    {
     "data": {
      "text/plain": [
       "WindowsPath('new_dir')"
      ]
     },
     "execution_count": 24,
     "metadata": {},
     "output_type": "execute_result"
    }
   ],
   "source": [
    "new_dir"
   ]
  },
  {
   "cell_type": "code",
   "execution_count": 25,
   "id": "1efb0720-e5d8-4fa3-bc29-2b9e6d70c58c",
   "metadata": {
    "id": "1efb0720-e5d8-4fa3-bc29-2b9e6d70c58c",
    "outputId": "db95f75f-b602-473d-9f18-d4f4d469bb2d"
   },
   "outputs": [
    {
     "data": {
      "text/plain": [
       "False"
      ]
     },
     "execution_count": 25,
     "metadata": {},
     "output_type": "execute_result"
    }
   ],
   "source": [
    "new_dir.rmdir()\n",
    "new_dir.exists()"
   ]
  },
  {
   "cell_type": "code",
   "execution_count": 26,
   "id": "2cf729b5-f940-4a92-b471-4fd7b9a5c9a3",
   "metadata": {
    "id": "2cf729b5-f940-4a92-b471-4fd7b9a5c9a3",
    "outputId": "e0830497-1e96-4162-9e43-51eef072c712"
   },
   "outputs": [
    {
     "data": {
      "text/plain": [
       "WindowsPath('new_dir1/new_dir2/new_dir3')"
      ]
     },
     "execution_count": 26,
     "metadata": {},
     "output_type": "execute_result"
    }
   ],
   "source": [
    "new_dir123"
   ]
  },
  {
   "cell_type": "markdown",
   "id": "44d483e4-8dc6-49c9-b141-f58bad159d8f",
   "metadata": {
    "id": "44d483e4-8dc6-49c9-b141-f58bad159d8f"
   },
   "source": [
    "注意として，rmdir は指定したパスのディレクトリが空でないと，OSError が返されます．"
   ]
  },
  {
   "cell_type": "code",
   "execution_count": 27,
   "id": "88cdb8a6-d23f-4d59-b4a5-d6f3d6a087f3",
   "metadata": {
    "id": "88cdb8a6-d23f-4d59-b4a5-d6f3d6a087f3",
    "outputId": "01bfa70a-e8cb-4f7a-c03b-ad9bfca26f02"
   },
   "outputs": [
    {
     "ename": "OSError",
     "evalue": "[WinError 145] ディレクトリが空ではありません。: 'new_dir1'",
     "output_type": "error",
     "traceback": [
      "\u001b[1;31m---------------------------------------------------------------------------\u001b[0m",
      "\u001b[1;31mOSError\u001b[0m                                   Traceback (most recent call last)",
      "\u001b[1;32m~\\AppData\\Local\\Temp/ipykernel_12160/161957861.py\u001b[0m in \u001b[0;36m<module>\u001b[1;34m\u001b[0m\n\u001b[1;32m----> 1\u001b[1;33m \u001b[0mPath\u001b[0m\u001b[1;33m(\u001b[0m\u001b[1;34m\"new_dir1\"\u001b[0m\u001b[1;33m)\u001b[0m\u001b[1;33m.\u001b[0m\u001b[0mrmdir\u001b[0m\u001b[1;33m(\u001b[0m\u001b[1;33m)\u001b[0m\u001b[1;33m\u001b[0m\u001b[1;33m\u001b[0m\u001b[0m\n\u001b[0m",
      "\u001b[1;32m~\\AppData\\Local\\Programs\\Python\\Python38\\lib\\pathlib.py\u001b[0m in \u001b[0;36mrmdir\u001b[1;34m(self)\u001b[0m\n\u001b[0;32m   1334\u001b[0m         \u001b[1;32mif\u001b[0m \u001b[0mself\u001b[0m\u001b[1;33m.\u001b[0m\u001b[0m_closed\u001b[0m\u001b[1;33m:\u001b[0m\u001b[1;33m\u001b[0m\u001b[1;33m\u001b[0m\u001b[0m\n\u001b[0;32m   1335\u001b[0m             \u001b[0mself\u001b[0m\u001b[1;33m.\u001b[0m\u001b[0m_raise_closed\u001b[0m\u001b[1;33m(\u001b[0m\u001b[1;33m)\u001b[0m\u001b[1;33m\u001b[0m\u001b[1;33m\u001b[0m\u001b[0m\n\u001b[1;32m-> 1336\u001b[1;33m         \u001b[0mself\u001b[0m\u001b[1;33m.\u001b[0m\u001b[0m_accessor\u001b[0m\u001b[1;33m.\u001b[0m\u001b[0mrmdir\u001b[0m\u001b[1;33m(\u001b[0m\u001b[0mself\u001b[0m\u001b[1;33m)\u001b[0m\u001b[1;33m\u001b[0m\u001b[1;33m\u001b[0m\u001b[0m\n\u001b[0m\u001b[0;32m   1337\u001b[0m \u001b[1;33m\u001b[0m\u001b[0m\n\u001b[0;32m   1338\u001b[0m     \u001b[1;32mdef\u001b[0m \u001b[0mlstat\u001b[0m\u001b[1;33m(\u001b[0m\u001b[0mself\u001b[0m\u001b[1;33m)\u001b[0m\u001b[1;33m:\u001b[0m\u001b[1;33m\u001b[0m\u001b[1;33m\u001b[0m\u001b[0m\n",
      "\u001b[1;31mOSError\u001b[0m: [WinError 145] ディレクトリが空ではありません。: 'new_dir1'"
     ]
    }
   ],
   "source": [
    "Path(\"new_dir1\").rmdir()"
   ]
  },
  {
   "cell_type": "code",
   "execution_count": 28,
   "id": "72956565-456f-434e-a5b6-e8afd5072124",
   "metadata": {
    "id": "72956565-456f-434e-a5b6-e8afd5072124",
    "outputId": "5f637a31-c081-48c9-e432-485b69738676"
   },
   "outputs": [
    {
     "data": {
      "text/plain": [
       "False"
      ]
     },
     "execution_count": 28,
     "metadata": {},
     "output_type": "execute_result"
    }
   ],
   "source": [
    "new_dir123.rmdir()\n",
    "new_dir123.exists()"
   ]
  },
  {
   "cell_type": "markdown",
   "id": "01c81bbc-2800-4c29-a236-9fce83adecd0",
   "metadata": {
    "id": "01c81bbc-2800-4c29-a236-9fce83adecd0"
   },
   "source": [
    "今まで，ファイルの読み書きは open 関数を用いていましたが，pathlib.Path 型に対しては open メソッドを用いることができます．"
   ]
  },
  {
   "cell_type": "code",
   "execution_count": 29,
   "id": "8176baec-f918-44e7-8a59-a2a6bde40ec3",
   "metadata": {
    "id": "8176baec-f918-44e7-8a59-a2a6bde40ec3",
    "outputId": "201c0367-36b2-49c2-98e6-82a151596adf"
   },
   "outputs": [
    {
     "name": "stdout",
     "output_type": "stream",
     "text": [
      "test\n"
     ]
    }
   ],
   "source": [
    "test_path = Path(\"./test.txt\")\n",
    "text = \"test\"\n",
    "\n",
    "# write\n",
    "with test_path.open(mode=\"w\") as f:\n",
    "    f.write(text)\n",
    "\n",
    "# read\n",
    "with test_path.open(mode=\"r\") as f:\n",
    "    print(f.read())"
   ]
  },
  {
   "cell_type": "markdown",
   "id": "c904666c-a138-48ba-8caf-4eb266b999e0",
   "metadata": {
    "id": "c904666c-a138-48ba-8caf-4eb266b999e0"
   },
   "source": [
    "一応，pathlib を用いない場合は以下のように書きます．"
   ]
  },
  {
   "cell_type": "code",
   "execution_count": 30,
   "id": "8bda086a-d41a-4d95-a230-4630a35e3014",
   "metadata": {
    "id": "8bda086a-d41a-4d95-a230-4630a35e3014",
    "outputId": "5f1eead6-9309-46bb-b5e0-5bf75df26e49"
   },
   "outputs": [
    {
     "name": "stdout",
     "output_type": "stream",
     "text": [
      "test\n"
     ]
    }
   ],
   "source": [
    "test_path = \"./test.txt\"\n",
    "text = \"test\"\n",
    "\n",
    "# write\n",
    "with open(test_path, mode=\"w\") as f:\n",
    "    f.write(text)\n",
    "\n",
    "# read\n",
    "with open(test_path, mode=\"r\") as f:\n",
    "    print(f.read())"
   ]
  },
  {
   "cell_type": "markdown",
   "id": "f343145c-a22d-4ce9-a815-36ba310d30ca",
   "metadata": {
    "id": "f343145c-a22d-4ce9-a815-36ba310d30ca"
   },
   "source": [
    "windows の環境では pathlib.Path 型のパスを文字列型にすると，人によっては見慣れない形式で出力されます．"
   ]
  },
  {
   "cell_type": "code",
   "execution_count": 31,
   "id": "28a4e313-974d-49e5-bf09-a396e4ca41df",
   "metadata": {
    "id": "28a4e313-974d-49e5-bf09-a396e4ca41df",
    "outputId": "78024f87-5f78-4831-b5f1-7b270e8f807d"
   },
   "outputs": [
    {
     "data": {
      "text/plain": [
       "'new_dir1\\\\new_dir2\\\\new_dir3'"
      ]
     },
     "execution_count": 31,
     "metadata": {},
     "output_type": "execute_result"
    }
   ],
   "source": [
    "str(new_dir123)"
   ]
  },
  {
   "cell_type": "markdown",
   "id": "8fd03079-2bc2-4c56-9c9b-5f1f7b515669",
   "metadata": {
    "id": "8fd03079-2bc2-4c56-9c9b-5f1f7b515669"
   },
   "source": [
    "これは，windows のパスの区切りが円マーク（バックスラッシュ）であることに起因し，バックスラッシュはエスケープシーケンスであるため，バックスラッシュを出力させるためにはもう一つバックスラッシュがその前に必要になるからです．  \n",
    "上記の例で，もし，バックスラッシュが一つであれば，\\ と n で改行してしまいますが，2つ連続しているため，以下のように printf で出力しても \\ が残っています．"
   ]
  },
  {
   "cell_type": "code",
   "execution_count": 32,
   "id": "731873be-f0c9-461f-8532-7aee465e6cd5",
   "metadata": {
    "id": "731873be-f0c9-461f-8532-7aee465e6cd5",
    "outputId": "f56d5581-7a4b-4c31-87a8-2737a9f35ff7"
   },
   "outputs": [
    {
     "name": "stdout",
     "output_type": "stream",
     "text": [
      "new_dir1\\new_dir2\\new_dir3\n"
     ]
    }
   ],
   "source": [
    "print(str(new_dir123))"
   ]
  },
  {
   "cell_type": "markdown",
   "id": "59b09561-a609-4134-b35b-4226041dd17e",
   "metadata": {
    "id": "59b09561-a609-4134-b35b-4226041dd17e"
   },
   "source": [
    "パスの区切りは OS に依存するため，標準ライブラリの os モジュールによって柔軟に変換することができます．  \n",
    "パスの区切りは os モジュールの sep で参照できます．"
   ]
  },
  {
   "cell_type": "code",
   "execution_count": 33,
   "id": "d844ae9f-5563-4203-85a1-c1d48c9a1f02",
   "metadata": {
    "id": "d844ae9f-5563-4203-85a1-c1d48c9a1f02",
    "outputId": "aecef037-2441-45c7-c26b-90e2029273c3"
   },
   "outputs": [
    {
     "data": {
      "text/plain": [
       "'\\\\'"
      ]
     },
     "execution_count": 33,
     "metadata": {},
     "output_type": "execute_result"
    }
   ],
   "source": [
    "import os\n",
    "\n",
    "os.sep"
   ]
  },
  {
   "cell_type": "markdown",
   "id": "98165013-c3e5-4738-8ea6-6c66a5561dad",
   "metadata": {
    "id": "98165013-c3e5-4738-8ea6-6c66a5561dad"
   },
   "source": [
    "もし，パスの階層の区切りを / にしたい場合は，文字列型にして replace します．"
   ]
  },
  {
   "cell_type": "code",
   "execution_count": 34,
   "id": "4e081068-8b24-4a09-a247-4223794fe77e",
   "metadata": {
    "id": "4e081068-8b24-4a09-a247-4223794fe77e",
    "outputId": "4725d77f-2538-4601-cfbe-44c0fdb1346f"
   },
   "outputs": [
    {
     "data": {
      "text/plain": [
       "'new_dir1/new_dir2/new_dir3'"
      ]
     },
     "execution_count": 34,
     "metadata": {},
     "output_type": "execute_result"
    }
   ],
   "source": [
    "str(new_dir123).replace(os.sep, \"/\")"
   ]
  },
  {
   "cell_type": "markdown",
   "id": "4f167a20-7b2a-4c1d-9c86-e86a3fb40b10",
   "metadata": {
    "id": "4f167a20-7b2a-4c1d-9c86-e86a3fb40b10"
   },
   "source": [
    "os モジュールも色々使い方があるのですが，今回は割愛いたします．\n",
    "\n",
    "rmdir では中にファイルやディレクトリがあると削除できませんでしたが，中にあるファイルやディレクトリごと削除したい場合は，次の shutil.rmtree を用います．"
   ]
  },
  {
   "cell_type": "markdown",
   "id": "27c08d41-2954-4a88-98ca-df941f5b8af2",
   "metadata": {
    "id": "27c08d41-2954-4a88-98ca-df941f5b8af2"
   },
   "source": [
    "## shutil"
   ]
  },
  {
   "cell_type": "markdown",
   "id": "c544c1ff-9cca-4210-9fe8-032eec9d98d1",
   "metadata": {
    "id": "c544c1ff-9cca-4210-9fe8-032eec9d98d1"
   },
   "source": [
    "shutil (https://docs.python.org/ja/3/library/shutil.html) は，ファイルの移動やコピー，圧縮／展開などの操作を行う標準ライブラリです．  \n",
    "このライブラリも，多くのファイル操作で役立ちます．"
   ]
  },
  {
   "cell_type": "code",
   "execution_count": 35,
   "id": "58459be9-bf78-433d-9e66-c394af98ff47",
   "metadata": {
    "id": "58459be9-bf78-433d-9e66-c394af98ff47"
   },
   "outputs": [],
   "source": [
    "import shutil"
   ]
  },
  {
   "cell_type": "markdown",
   "id": "26dfe84b-0609-42d9-b8d0-a20733404cd3",
   "metadata": {
    "id": "26dfe84b-0609-42d9-b8d0-a20733404cd3"
   },
   "source": [
    "実験する前に，今のディレクトリ構成を可視化してみます．"
   ]
  },
  {
   "cell_type": "code",
   "execution_count": 36,
   "id": "e0a0705d-a6d3-4dd9-8066-40734256b440",
   "metadata": {
    "id": "e0a0705d-a6d3-4dd9-8066-40734256b440",
    "outputId": "2f3666bb-ceb9-4112-d44a-4296dbd23413"
   },
   "outputs": [
    {
     "data": {
      "text/plain": [
       "[WindowsPath('.ipynb_checkpoints'),\n",
       " WindowsPath('.ipynb_checkpoints/007_std_libs-checkpoint.ipynb'),\n",
       " WindowsPath('.ipynb_checkpoints/answer-checkpoint.ipynb'),\n",
       " WindowsPath('007_std_libs.ipynb'),\n",
       " WindowsPath('answer.ipynb'),\n",
       " WindowsPath('new_dir1'),\n",
       " WindowsPath('new_dir1/new_dir2'),\n",
       " WindowsPath('new_dir1/new_dir2/new_item2.txt'),\n",
       " WindowsPath('test.txt')]"
      ]
     },
     "execution_count": 36,
     "metadata": {},
     "output_type": "execute_result"
    }
   ],
   "source": [
    "sorted(pwd.glob(\"./**/*\"))"
   ]
  },
  {
   "cell_type": "markdown",
   "id": "5e861356-6852-4fd8-ac66-7dec693350b2",
   "metadata": {
    "id": "5e861356-6852-4fd8-ac66-7dec693350b2"
   },
   "source": [
    "`test.txt` を `new_dir1` に移動してみます．  \n",
    "ファイルやディレクトリの移動には `shutil.move(src=移動元パス, dst=移動先パス)` を用います．"
   ]
  },
  {
   "cell_type": "code",
   "execution_count": 37,
   "id": "69088631-a0f5-481b-a509-ee078fdd282c",
   "metadata": {
    "id": "69088631-a0f5-481b-a509-ee078fdd282c",
    "outputId": "857303fb-6303-44db-c245-328aa49a7b77"
   },
   "outputs": [
    {
     "data": {
      "text/plain": [
       "[WindowsPath('.ipynb_checkpoints'),\n",
       " WindowsPath('.ipynb_checkpoints/007_std_libs-checkpoint.ipynb'),\n",
       " WindowsPath('.ipynb_checkpoints/answer-checkpoint.ipynb'),\n",
       " WindowsPath('007_std_libs.ipynb'),\n",
       " WindowsPath('answer.ipynb'),\n",
       " WindowsPath('new_dir1'),\n",
       " WindowsPath('new_dir1/new_dir2'),\n",
       " WindowsPath('new_dir1/new_dir2/new_item2.txt'),\n",
       " WindowsPath('new_dir1/test.txt')]"
      ]
     },
     "execution_count": 37,
     "metadata": {},
     "output_type": "execute_result"
    }
   ],
   "source": [
    "shutil.move(src=\"./test.txt\", dst=\"./new_dir1\")\n",
    "sorted(pwd.glob(\"./**/*\"))"
   ]
  },
  {
   "cell_type": "markdown",
   "id": "4882989c-ecf0-48fa-8550-2fc748db1365",
   "metadata": {
    "id": "4882989c-ecf0-48fa-8550-2fc748db1365"
   },
   "source": [
    "上記の例において，引数 dst にはディレクトリパスを与えましたが，ファイルパスを与えた場合は，ファイル移動後にそのファイル名にて名前が変更されます．"
   ]
  },
  {
   "cell_type": "markdown",
   "id": "a0af1977-ef72-4d2c-a292-931f0e9c9234",
   "metadata": {
    "id": "a0af1977-ef72-4d2c-a292-931f0e9c9234"
   },
   "source": [
    "コピーは `shutil.copy(src=移動元パス, dst=移動先パス)` でできます．  \n",
    "今度は，今移動した `new_dir1/test.txt` をこの階層にコピーしてみます．"
   ]
  },
  {
   "cell_type": "code",
   "execution_count": 38,
   "id": "23e22cfd-4eb2-460e-966a-643b1fc03483",
   "metadata": {
    "id": "23e22cfd-4eb2-460e-966a-643b1fc03483",
    "outputId": "098aedae-e0a5-486c-9746-11b3c84a421b"
   },
   "outputs": [
    {
     "data": {
      "text/plain": [
       "[WindowsPath('.ipynb_checkpoints'),\n",
       " WindowsPath('.ipynb_checkpoints/007_std_libs-checkpoint.ipynb'),\n",
       " WindowsPath('.ipynb_checkpoints/answer-checkpoint.ipynb'),\n",
       " WindowsPath('007_std_libs.ipynb'),\n",
       " WindowsPath('answer.ipynb'),\n",
       " WindowsPath('new_dir1'),\n",
       " WindowsPath('new_dir1/new_dir2'),\n",
       " WindowsPath('new_dir1/new_dir2/new_item2.txt'),\n",
       " WindowsPath('new_dir1/test.txt'),\n",
       " WindowsPath('test.txt')]"
      ]
     },
     "execution_count": 38,
     "metadata": {},
     "output_type": "execute_result"
    }
   ],
   "source": [
    "shutil.copy(src=\"new_dir1/test.txt\", dst=\".\")\n",
    "sorted(pwd.glob(\"**/*\"))"
   ]
  },
  {
   "cell_type": "markdown",
   "id": "6e5a3b98-4516-4375-9aa6-d6c3cba3bb79",
   "metadata": {
    "id": "6e5a3b98-4516-4375-9aa6-d6c3cba3bb79"
   },
   "source": [
    "ディレクトリの圧縮は，\n",
    "```\n",
    "shutil.make_archive(\n",
    "    base_name=拡張子なしの作成するファイルパス,\n",
    "    format=zip などの圧縮ファイルの拡張子の文字列,\n",
    "    root_dir=圧縮させる対象のディレクトリパス,\n",
    ")\n",
    "```\n",
    "でできます．  \n",
    "`format` は \"zip\" 以外にも，\"tar\", \"gztar\", \"bztar\", \"xztar\" を用いることができます．  \n",
    "試しに，new_dir1 以下の階層を zip で圧縮して，この階層に保存してみましょう．"
   ]
  },
  {
   "cell_type": "code",
   "execution_count": 39,
   "id": "986c4310-adf1-42b5-b9bc-36737fb929a7",
   "metadata": {
    "id": "986c4310-adf1-42b5-b9bc-36737fb929a7",
    "outputId": "b58d9812-f132-4aa7-d8a2-e21b8f10c15c"
   },
   "outputs": [
    {
     "data": {
      "text/plain": [
       "[WindowsPath('.ipynb_checkpoints'),\n",
       " WindowsPath('.ipynb_checkpoints/007_std_libs-checkpoint.ipynb'),\n",
       " WindowsPath('.ipynb_checkpoints/answer-checkpoint.ipynb'),\n",
       " WindowsPath('007_std_libs.ipynb'),\n",
       " WindowsPath('answer.ipynb'),\n",
       " WindowsPath('new_dir1'),\n",
       " WindowsPath('new_dir1/new_dir2'),\n",
       " WindowsPath('new_dir1/new_dir2/new_item2.txt'),\n",
       " WindowsPath('new_dir1/test.txt'),\n",
       " WindowsPath('new_dir1.zip'),\n",
       " WindowsPath('test.txt')]"
      ]
     },
     "execution_count": 39,
     "metadata": {},
     "output_type": "execute_result"
    }
   ],
   "source": [
    "shutil.make_archive(\n",
    "    base_name=\"new_dir1\", format=\"zip\", root_dir=\"new_dir1\"\n",
    ")\n",
    "sorted(pwd.glob(\"**/*\"))"
   ]
  },
  {
   "cell_type": "markdown",
   "id": "5b0ee6c9-afdf-47a6-bc82-9ea32d3b0987",
   "metadata": {
    "id": "5b0ee6c9-afdf-47a6-bc82-9ea32d3b0987"
   },
   "source": [
    "圧縮ファイルの展開は，\n",
    "```\n",
    "shutil.unpack_archive(\n",
    "    filename=圧縮ファイルパス,\n",
    "    extract_dir=展開するディレクトリパス\n",
    ")\n",
    "```\n",
    "でできます．  \n",
    "new_dir1.zip をここに展開すると元のフォルダと被るので，別に unpack という名前のディレクトリを作って，そこに new_dir1.zip を入れ，その中で展開してみます．"
   ]
  },
  {
   "cell_type": "code",
   "execution_count": 40,
   "id": "61523273-80ed-4cd8-90f0-f9265f4778b3",
   "metadata": {
    "id": "61523273-80ed-4cd8-90f0-f9265f4778b3",
    "outputId": "bcd70fd4-40c5-445b-e07d-94aac58aed12"
   },
   "outputs": [
    {
     "data": {
      "text/plain": [
       "[WindowsPath('.ipynb_checkpoints'),\n",
       " WindowsPath('.ipynb_checkpoints/007_std_libs-checkpoint.ipynb'),\n",
       " WindowsPath('.ipynb_checkpoints/answer-checkpoint.ipynb'),\n",
       " WindowsPath('007_std_libs.ipynb'),\n",
       " WindowsPath('answer.ipynb'),\n",
       " WindowsPath('new_dir1'),\n",
       " WindowsPath('new_dir1/new_dir2'),\n",
       " WindowsPath('new_dir1/new_dir2/new_item2.txt'),\n",
       " WindowsPath('new_dir1/test.txt'),\n",
       " WindowsPath('test.txt'),\n",
       " WindowsPath('unpack'),\n",
       " WindowsPath('unpack/new_dir1.zip')]"
      ]
     },
     "execution_count": 40,
     "metadata": {},
     "output_type": "execute_result"
    }
   ],
   "source": [
    "Path(\"unpack\").mkdir()\n",
    "shutil.move(src=\"new_dir1.zip\", dst=\"unpack/\")\n",
    "sorted(pwd.glob(\"**/*\"))"
   ]
  },
  {
   "cell_type": "code",
   "execution_count": 41,
   "id": "82eaabb0-59f4-4c6e-b62b-136a797dcc48",
   "metadata": {
    "id": "82eaabb0-59f4-4c6e-b62b-136a797dcc48",
    "outputId": "68b78ca7-852a-4105-b567-8eaf5572eba1"
   },
   "outputs": [
    {
     "data": {
      "text/plain": [
       "[WindowsPath('.ipynb_checkpoints'),\n",
       " WindowsPath('.ipynb_checkpoints/007_std_libs-checkpoint.ipynb'),\n",
       " WindowsPath('.ipynb_checkpoints/answer-checkpoint.ipynb'),\n",
       " WindowsPath('007_std_libs.ipynb'),\n",
       " WindowsPath('answer.ipynb'),\n",
       " WindowsPath('new_dir1'),\n",
       " WindowsPath('new_dir1/new_dir2'),\n",
       " WindowsPath('new_dir1/new_dir2/new_item2.txt'),\n",
       " WindowsPath('new_dir1/test.txt'),\n",
       " WindowsPath('test.txt'),\n",
       " WindowsPath('unpack'),\n",
       " WindowsPath('unpack/new_dir1.zip'),\n",
       " WindowsPath('unpack/new_dir2'),\n",
       " WindowsPath('unpack/new_dir2/new_item2.txt'),\n",
       " WindowsPath('unpack/test.txt')]"
      ]
     },
     "execution_count": 41,
     "metadata": {},
     "output_type": "execute_result"
    }
   ],
   "source": [
    "shutil.unpack_archive(\n",
    "    filename=\"unpack/new_dir1.zip\", extract_dir=\"unpack/\"\n",
    ")\n",
    "sorted(pwd.glob(\"**/*\"))"
   ]
  },
  {
   "cell_type": "markdown",
   "id": "8e687e2d-b46f-4997-8bc6-ebfd42c21b0f",
   "metadata": {
    "id": "8e687e2d-b46f-4997-8bc6-ebfd42c21b0f"
   },
   "source": [
    "`shutil.rmtree(path=ディレクトリパス)` とすることにより，指定したディレクトリよりも下層のファイル／ディレクトリ含め全て根こそぎ削除することができます．"
   ]
  },
  {
   "cell_type": "code",
   "execution_count": 42,
   "id": "c13880b6-3779-4b4c-bf09-a8a038c1de04",
   "metadata": {
    "id": "c13880b6-3779-4b4c-bf09-a8a038c1de04",
    "outputId": "435a63c9-2f91-4808-b356-29301b0f8f23"
   },
   "outputs": [
    {
     "data": {
      "text/plain": [
       "[WindowsPath('.ipynb_checkpoints'),\n",
       " WindowsPath('.ipynb_checkpoints/007_std_libs-checkpoint.ipynb'),\n",
       " WindowsPath('.ipynb_checkpoints/answer-checkpoint.ipynb'),\n",
       " WindowsPath('007_std_libs.ipynb'),\n",
       " WindowsPath('answer.ipynb'),\n",
       " WindowsPath('new_dir1'),\n",
       " WindowsPath('new_dir1/new_dir2'),\n",
       " WindowsPath('new_dir1/new_dir2/new_item2.txt'),\n",
       " WindowsPath('new_dir1/test.txt'),\n",
       " WindowsPath('test.txt')]"
      ]
     },
     "execution_count": 42,
     "metadata": {},
     "output_type": "execute_result"
    }
   ],
   "source": [
    "shutil.rmtree(path=\"unpack\")\n",
    "sorted(pwd.glob(\"**/*\"))"
   ]
  },
  {
   "cell_type": "markdown",
   "id": "1ddfcd01-0614-4404-aa22-823d1704eb06",
   "metadata": {
    "id": "1ddfcd01-0614-4404-aa22-823d1704eb06"
   },
   "source": [
    "## time"
   ]
  },
  {
   "cell_type": "markdown",
   "id": "7b508fe6-d864-4ec5-9924-219f0d550719",
   "metadata": {
    "id": "7b508fe6-d864-4ec5-9924-219f0d550719"
   },
   "source": [
    "time (https://docs.python.org/ja/3/library/time.html) は，時間計測などを行う標準ライブラリです．  \n",
    "一定時間処理を止めたいときや処理の時間を計測するときに用います．"
   ]
  },
  {
   "cell_type": "code",
   "execution_count": 43,
   "id": "c8b52fe8-2176-4f0d-bb9a-9c223397fced",
   "metadata": {
    "id": "c8b52fe8-2176-4f0d-bb9a-9c223397fced"
   },
   "outputs": [],
   "source": [
    "import time"
   ]
  },
  {
   "cell_type": "markdown",
   "id": "4d261947-de0b-4274-a188-499ac6e5a9e1",
   "metadata": {},
   "source": [
    "一定時間処理を止めたいときは，`time.sleep(止めたい秒数)` を実行します．  \n",
    "秒数は，float でも指定が可能です．"
   ]
  },
  {
   "cell_type": "code",
   "execution_count": 44,
   "id": "dfdefaed-ca7b-4595-903d-ee4ad73a009a",
   "metadata": {},
   "outputs": [
    {
     "name": "stdout",
     "output_type": "stream",
     "text": [
      "start\n",
      "1\n",
      "2\n",
      "3\n",
      "4\n",
      "5\n",
      "end\n"
     ]
    }
   ],
   "source": [
    "print(\"start\")\n",
    "for i in range(5):\n",
    "    time.sleep(1)\n",
    "    print(i+1)\n",
    "print(\"end\")"
   ]
  },
  {
   "cell_type": "markdown",
   "id": "bbe6f5fb-6a3a-4b8c-b6bb-385e8695e4e0",
   "metadata": {},
   "source": [
    "プログラムがスタートしてから今までの経過時間について，色んな方法があるのですが，精度などを考慮すると個人的なおすすめは，`time.perf_counter()` を用いて取得する方法です．  \n",
    "これにより，正確な時間が 0.1 マイクロ秒オーダーまで取得することが可能です．"
   ]
  },
  {
   "cell_type": "code",
   "execution_count": 45,
   "id": "442ceaed-0fb3-431b-91be-da21e1d549d5",
   "metadata": {
    "id": "442ceaed-0fb3-431b-91be-da21e1d549d5"
   },
   "outputs": [
    {
     "data": {
      "text/plain": [
       "118.5410032"
      ]
     },
     "execution_count": 45,
     "metadata": {},
     "output_type": "execute_result"
    }
   ],
   "source": [
    "time.perf_counter()"
   ]
  },
  {
   "cell_type": "code",
   "execution_count": 46,
   "id": "17268716-5d5c-4b92-a6d1-a19f67a90141",
   "metadata": {
    "id": "442ceaed-0fb3-431b-91be-da21e1d549d5"
   },
   "outputs": [
    {
     "data": {
      "text/plain": [
       "118.5596373"
      ]
     },
     "execution_count": 46,
     "metadata": {},
     "output_type": "execute_result"
    }
   ],
   "source": [
    "time.perf_counter()"
   ]
  },
  {
   "cell_type": "markdown",
   "id": "1f11ba89-2265-494a-a8dc-2164d6c5e78a",
   "metadata": {},
   "source": [
    "プログラムスタートしてからの経過時間であるため，ある処理の塊についての時間を測定したい場合には，次のように処理の前の `tstart = time.perf_counter()` のように変数に代入しておき，経過時間算出時に `time.perf_counter() - tstart` とすることで，経過時間を取得することができます．"
   ]
  },
  {
   "cell_type": "code",
   "execution_count": 47,
   "id": "3e00870b-1b15-46f2-b7ff-eae6fae99540",
   "metadata": {},
   "outputs": [
    {
     "data": {
      "text/plain": [
       "1.0034763999999967"
      ]
     },
     "execution_count": 47,
     "metadata": {},
     "output_type": "execute_result"
    }
   ],
   "source": [
    "tstart = time.perf_counter()\n",
    "time.sleep(1)\n",
    "telpsd = time.perf_counter() - tstart\n",
    "telpsd"
   ]
  },
  {
   "cell_type": "markdown",
   "id": "eed7548c-29df-4a76-9e66-0c6e1e9851ce",
   "metadata": {
    "id": "eed7548c-29df-4a76-9e66-0c6e1e9851ce"
   },
   "source": [
    "## datetime"
   ]
  },
  {
   "cell_type": "markdown",
   "id": "86bd22a0-34c5-40cd-a312-c27c28970d3c",
   "metadata": {
    "id": "86bd22a0-34c5-40cd-a312-c27c28970d3c"
   },
   "source": [
    "datetime (https://docs.python.org/ja/3/library/datetime.html) は，日付／時差取得などを行う標準ライブラリです．  \n",
    "datetime はこの中の datetime オブジェクトを用いることがほとんどですので，以下のように import してしまうことが多いです．"
   ]
  },
  {
   "cell_type": "code",
   "execution_count": 48,
   "id": "1b4684e1-6a43-4085-bbdc-c81814eeb25a",
   "metadata": {
    "id": "1b4684e1-6a43-4085-bbdc-c81814eeb25a"
   },
   "outputs": [],
   "source": [
    "from datetime import datetime"
   ]
  },
  {
   "cell_type": "markdown",
   "id": "88a4966e-5518-4dab-aee9-f9d0710a4e8e",
   "metadata": {},
   "source": [
    "現在の日付と時刻は `datetime.now(タイムゾーン)` にて取得できます．  \n",
    "引数のタイムゾーンは，初期値が None であり，この場合はシステムのタイムゾーンが適用されます．"
   ]
  },
  {
   "cell_type": "code",
   "execution_count": 49,
   "id": "0c64d79d-e1eb-43cb-a8d2-fd0ebb665d9c",
   "metadata": {
    "id": "0c64d79d-e1eb-43cb-a8d2-fd0ebb665d9c"
   },
   "outputs": [
    {
     "data": {
      "text/plain": [
       "datetime.datetime(2022, 2, 11, 1, 12, 18, 950631)"
      ]
     },
     "execution_count": 49,
     "metadata": {},
     "output_type": "execute_result"
    }
   ],
   "source": [
    "datetime.now()"
   ]
  },
  {
   "cell_type": "markdown",
   "id": "d2a6ccf8-5ff3-415b-b478-fa93c36a953b",
   "metadata": {},
   "source": [
    "左から順に，年，月，日，時，分，秒，サブ秒 です．  \n",
    "これの type は，"
   ]
  },
  {
   "cell_type": "code",
   "execution_count": 50,
   "id": "96e27215-6ab2-4d56-af9d-11956e5b1bae",
   "metadata": {
    "id": "0c64d79d-e1eb-43cb-a8d2-fd0ebb665d9c"
   },
   "outputs": [
    {
     "data": {
      "text/plain": [
       "datetime.datetime"
      ]
     },
     "execution_count": 50,
     "metadata": {},
     "output_type": "execute_result"
    }
   ],
   "source": [
    "type(datetime.now())"
   ]
  },
  {
   "cell_type": "markdown",
   "id": "76e57a16-9802-49d7-b388-f538df52f462",
   "metadata": {},
   "source": [
    "ということで，datetime.datetime です．  \n",
    "タイムゾーンを気にしなければならないケースとして，例えば，世界で個々に同時でデータを取得して，個々のシステムに依存したタイムゾーンで時間の情報を保存されているときに，どこかの時刻で統一して考えたほうが良い場合もあります．  \n",
    "datetime.datetime 型変数に関しては，tzinfo にてタイムゾーンがわかります（以下は，戻り値が None で出力されないため，あえて print を用いて表示しています）．"
   ]
  },
  {
   "cell_type": "code",
   "execution_count": 51,
   "id": "2d28137e-a0ee-4b96-84c8-82205941e0dd",
   "metadata": {
    "id": "2d28137e-a0ee-4b96-84c8-82205941e0dd"
   },
   "outputs": [
    {
     "name": "stdout",
     "output_type": "stream",
     "text": [
      "None\n"
     ]
    }
   ],
   "source": [
    "print(datetime.now().tzinfo)"
   ]
  },
  {
   "cell_type": "markdown",
   "id": "71575c1a-ed0d-4feb-b03e-b4c1479830c3",
   "metadata": {},
   "source": [
    "タイムゾーンをあわせたい場合，世界標準時（UTC）にする，または，世界標準時から何時間プラス／マイナスで書くことが多いです．  \n",
    "タイムゾーンを UTC に指定する場合は，datetime ライブラリの timezone オブジェクトが使えます．"
   ]
  },
  {
   "cell_type": "code",
   "execution_count": 52,
   "id": "b99bf911-e961-4bd1-b321-8e6b8aa329b4",
   "metadata": {
    "id": "b99bf911-e961-4bd1-b321-8e6b8aa329b4"
   },
   "outputs": [],
   "source": [
    "from datetime import timezone"
   ]
  },
  {
   "cell_type": "markdown",
   "id": "1d5882cb-a83e-4b54-9985-9a5edc6b3794",
   "metadata": {},
   "source": [
    "これを用いて UTC にしたい場合は，違いを見せるために一緒に日本の時刻も取得すると，"
   ]
  },
  {
   "cell_type": "code",
   "execution_count": 53,
   "id": "592f9c2a-d865-417f-a607-5e25828e0214",
   "metadata": {},
   "outputs": [
    {
     "name": "stdout",
     "output_type": "stream",
     "text": [
      "japan: 2022-02-11 01:12:19.042634\n",
      "utc: 2022-02-10 16:12:19.042634+00:00\n"
     ]
    }
   ],
   "source": [
    "ja_time = datetime.now()\n",
    "utc_time = datetime.now(timezone.utc)\n",
    "\n",
    "print(f\"japan: {ja_time}\")\n",
    "print(f\"utc: {utc_time}\")"
   ]
  },
  {
   "cell_type": "markdown",
   "id": "cfb4a0a6-76d8-44f8-83ac-956178e76bc1",
   "metadata": {},
   "source": [
    "ということで，ご存知のとおり世界標準時より日本は 9 時間進んでいます．  \n",
    "取得時刻がシステムに影響させないようにするためには上記 timezone.utc を指定した時刻に時差分を足し引きしましょう（サードパーティライブラリの pytz を用いてタイムゾーンを指定することもできます）．\n",
    "\n",
    "datetime.datetime 型同士は引き算が可能です．"
   ]
  },
  {
   "cell_type": "code",
   "execution_count": 54,
   "id": "8fd2a099-165d-43c0-ac88-92e1744d622c",
   "metadata": {
    "id": "64e1f3c1-1976-44d4-9ee9-c12a7affc6e7"
   },
   "outputs": [
    {
     "data": {
      "text/plain": [
       "datetime.timedelta(seconds=1, microseconds=7944)"
      ]
     },
     "execution_count": 54,
     "metadata": {},
     "output_type": "execute_result"
    }
   ],
   "source": [
    "tstart = datetime.now()\n",
    "time.sleep(1)\n",
    "telapsed = datetime.now() - tstart\n",
    "telapsed"
   ]
  },
  {
   "cell_type": "markdown",
   "id": "5bfd43af-a7ad-49e0-bd27-e8c84bf9a1fa",
   "metadata": {},
   "source": [
    "このとおり，datetime.datetime 型同士の引き算は datetime.timedelta 型になります．  \n",
    "この時間の差分について，float の秒数で取得したくなることが多いと思うのですが，その変換は datetime.timedelta 型変数に対して total_seconds() メソッドを用いることにより取得できます．"
   ]
  },
  {
   "cell_type": "code",
   "execution_count": 55,
   "id": "40c27aee-0bda-4f7e-82b5-860d7c81519f",
   "metadata": {},
   "outputs": [
    {
     "data": {
      "text/plain": [
       "1.007944"
      ]
     },
     "execution_count": 55,
     "metadata": {},
     "output_type": "execute_result"
    }
   ],
   "source": [
    "telapsed.total_seconds()"
   ]
  },
  {
   "cell_type": "code",
   "execution_count": 56,
   "id": "c9b96c57-4240-485d-81f3-1507b5dc1efc",
   "metadata": {},
   "outputs": [
    {
     "data": {
      "text/plain": [
       "float"
      ]
     },
     "execution_count": 56,
     "metadata": {},
     "output_type": "execute_result"
    }
   ],
   "source": [
    "type(telapsed.total_seconds())"
   ]
  },
  {
   "cell_type": "markdown",
   "id": "d368d207-0b1b-4772-b250-25aa0a0d1654",
   "metadata": {},
   "source": [
    "datetime.datetime オブジェクトについてもこのまま用いるのではなく，文字列のタイムスタンプにして，例えばファイル名や時系列データの索引として用いることがあると思います．  \n",
    "このように，指定した文字列に変換するためには，"
   ]
  },
  {
   "cell_type": "markdown",
   "id": "8c8caa04-4b5e-4c67-b1c6-d25f8025205a",
   "metadata": {},
   "source": [
    "```\n",
    "datetime型変数.strftime(書式指定子)\n",
    "```"
   ]
  },
  {
   "cell_type": "markdown",
   "id": "62fdec76-fb06-4fdc-905a-64dbe2ee2f14",
   "metadata": {},
   "source": [
    "という風に， srtftime メソッドを用います．  \n",
    "引数の書式指定子は，公式ドキュメント (https://docs.python.org/ja/3/library/datetime.html) から良く使うものを以下に抜粋します．"
   ]
  },
  {
   "cell_type": "markdown",
   "id": "35f25b70-ceb9-471d-b3dd-92305129bfda",
   "metadata": {},
   "source": [
    "| 指定子 | 意味 | 使用例 |\n",
    "| - | - | - |\n",
    "| %a | ロケールの短縮系の曜日名 | Sun, Mon, ..., Sat |\n",
    "| %A | ロケールの曜日名 | Sunday, Monday, ..., Saturday |\n",
    "| %d | 0 埋めした 10 進数で表記した日にち | 01, 02, ..., 31 |\n",
    "| %m | 0 埋めした 10 進数で表記した月 | 01, 02, ..., 12 |\n",
    "| %Y | 西暦を表示 | 1900, 1901, ..., 2022, ... |\n",
    "| %H | 0 埋めした 10 進数で表記した 24 時間表記の時間 | 00, 01, ..., 23 |\n",
    "| %M | 0 埋めした 10 進数で表記した分 | 00, 01, ..., 59 |\n",
    "| %S | 0 埋めした 10 進数で表記した秒 | 00, 01, ..., 59 |\n",
    "| %f | マイクロ秒 | 000000, 000001, ..., 999999 |\n",
    "| %Z | タイムゾーンの名前 | UTC, GMT, ... |"
   ]
  },
  {
   "cell_type": "markdown",
   "id": "1561a583-73b3-43ba-a45b-59b3919decc5",
   "metadata": {},
   "source": [
    "例えば，取得した時間を文字列のタイムスタンプとして用いることを想定すると，"
   ]
  },
  {
   "cell_type": "code",
   "execution_count": 57,
   "id": "874cf800-861e-4d14-a2c1-a1e6e5ef5fc5",
   "metadata": {},
   "outputs": [
    {
     "data": {
      "text/plain": [
       "'20220211011221540247'"
      ]
     },
     "execution_count": 57,
     "metadata": {},
     "output_type": "execute_result"
    }
   ],
   "source": [
    "date_str = datetime.now().strftime(\"%Y%m%d%H%M%S%f\")\n",
    "date_str"
   ]
  },
  {
   "cell_type": "markdown",
   "id": "656cb6cf-575d-4c7b-8fa4-0f04afd85636",
   "metadata": {},
   "source": [
    "という風にでき，これを例えばファイル名などに用いることができます．"
   ]
  },
  {
   "cell_type": "markdown",
   "id": "1ffd19c4-37d3-4412-9112-062b85950576",
   "metadata": {},
   "source": [
    "逆に，"
   ]
  },
  {
   "cell_type": "markdown",
   "id": "e7a1b56d-2b9b-4a2c-b87a-faf91899c040",
   "metadata": {},
   "source": [
    "```\n",
    "datetime.strptime(日付を表す文字列, 書式指定子)\n",
    "``` "
   ]
  },
  {
   "cell_type": "markdown",
   "id": "f3c354e4-9600-4b9c-add1-7e4e6f9b5873",
   "metadata": {},
   "source": [
    "を用いることにより，文字列から datetime.datetime 型にも変換できます．"
   ]
  },
  {
   "cell_type": "code",
   "execution_count": 58,
   "id": "81e6dbde-ad54-4aac-86a2-6378afc922e5",
   "metadata": {},
   "outputs": [
    {
     "data": {
      "text/plain": [
       "datetime.datetime(2022, 2, 11, 1, 12, 21, 540247)"
      ]
     },
     "execution_count": 58,
     "metadata": {},
     "output_type": "execute_result"
    }
   ],
   "source": [
    "datetime.strptime(date_str, \"%Y%m%d%H%M%S%f\")"
   ]
  },
  {
   "cell_type": "markdown",
   "id": "658682e8-ad13-4373-bed0-bc5332798740",
   "metadata": {
    "id": "406c8980-508a-4c73-9833-85f5646911e1"
   },
   "source": [
    "シチュエーションとしては，タイムスタンプから時間差を逆算する際に用いる場合が想定されます．"
   ]
  },
  {
   "cell_type": "markdown",
   "id": "bc2223d3-2089-4d1a-aa92-4e1bca0f68fc",
   "metadata": {},
   "source": [
    "今回は，ファイル／ディレクトリ操作といったパス周りだったり，時間を扱う標準ライブラリを主に紹介しました．  \n",
    "他にも，乱数を扱う random だったり，数学関数を扱う math，統計関数を扱う statistics，または，csv ファイルの入出力に有益な csv といった標準ライブラリがありますが，これらを使わずに優秀なサードパーティライブラリを使うことが多いので割愛します．  \n",
    "上記のサードパーティライブラリについては，また他の記事に記載いたします．"
   ]
  },
  {
   "cell_type": "markdown",
   "id": "658a7469-9825-4b1d-9082-550a56064d87",
   "metadata": {
    "id": "955738d2-205d-4f1a-b2e6-011adff6359e"
   },
   "source": [
    "## 演習問題"
   ]
  },
  {
   "cell_type": "markdown",
   "id": "31e14741-7602-4807-8835-4a1193575494",
   "metadata": {
    "id": "76ad493a-5155-4d8d-92a2-19bed0e92227"
   },
   "source": [
    "Q1. 日時を表す 2 つの文字列 `\"2038/01/19-03:14:07.000000\"`, `\"2045/01/01-00:00:00.000000\"` について時間の差を秒で出力してください．"
   ]
  },
  {
   "cell_type": "code",
   "execution_count": 59,
   "id": "9536261f-da0b-4c59-b9af-2d8635316b64",
   "metadata": {},
   "outputs": [
    {
     "data": {
      "text/plain": [
       "[WindowsPath('.ipynb_checkpoints'),\n",
       " WindowsPath('007_std_libs.ipynb'),\n",
       " WindowsPath('answer.ipynb'),\n",
       " WindowsPath('new_dir1'),\n",
       " WindowsPath('test.txt')]"
      ]
     },
     "execution_count": 59,
     "metadata": {},
     "output_type": "execute_result"
    }
   ],
   "source": [
    "sorted(Path(\"./\").iterdir())"
   ]
  },
  {
   "cell_type": "markdown",
   "id": "24197569-19ca-4f83-817a-22f6bc67e710",
   "metadata": {},
   "source": [
    "Q2. 上記のように `new_dir1` と `test.txt` がこのディレクトリに残ったままなので，これら二つをプログラミングで削除しましょう（エクスプローラーから削除しないでくださいね）．  \n",
    "Q3. このファイルはいつ開きましたか？ datetime.datetime 型にて教えてください．"
   ]
  },
  {
   "cell_type": "code",
   "execution_count": null,
   "id": "c096767e-231d-4781-b05d-e4a9760fc6e7",
   "metadata": {},
   "outputs": [],
   "source": []
  }
 ],
 "metadata": {
  "colab": {
   "name": "007_std_libs.ipynb",
   "provenance": []
  },
  "kernelspec": {
   "display_name": "Python 3 (ipykernel)",
   "language": "python",
   "name": "python3"
  },
  "language_info": {
   "codemirror_mode": {
    "name": "ipython",
    "version": 3
   },
   "file_extension": ".py",
   "mimetype": "text/x-python",
   "name": "python",
   "nbconvert_exporter": "python",
   "pygments_lexer": "ipython3",
   "version": "3.8.10"
  }
 },
 "nbformat": 4,
 "nbformat_minor": 5
}
