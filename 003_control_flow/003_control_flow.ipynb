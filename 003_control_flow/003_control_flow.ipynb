{
  "cells": [
    {
      "cell_type": "markdown",
      "id": "c8b76ace-5a63-4a6f-bb26-705a6bb4af5b",
      "metadata": {},
      "source": [
        "# \u3010\u81ea\u524dpython\u8b1b\u5ea7-003\u3011\u6761\u4ef6\u5206\u5c90\uff0f\u7e70\u308a\u8fd4\u3057\u51e6\u7406\uff0f\u4f8b\u5916\u51e6\u7406\n",
        "\n",
        "---\n",
        "\n",
        "- ref:\n",
        "    - https://docs.python.org/ja/3.9/reference/compound_stmts.html\n",
        "    - https://docs.python.org/ja/3.9/tutorial/controlflow.html\n",
        "- blog: https://slash-z.com/\n",
        "- github: https://github.com/KazutoMakino/PythonCourses\n",
        "\n",
        "---"
      ]
    },
    {
      "cell_type": "markdown",
      "id": "6a1faff1-390e-48a3-bb6b-716508daefce",
      "metadata": {},
      "source": [
        "## \u6761\u4ef6\u5206\u5c90: if-elif-else"
      ]
    },
    {
      "cell_type": "markdown",
      "id": "1212371c-e333-4538-9319-493600037af8",
      "metadata": {},
      "source": [
        "```\n",
        "if \u6761\u4ef6\u5f0f:\n",
        "    \u51e6\u7406\n",
        "elif \u6761\u4ef6\u5f0f:\n",
        "    \u51e6\u7406\n",
        "elif \u6761\u4ef6\u5f0f:\n",
        "    \u51e6\u7406\n",
        "else:\n",
        "    \u51e6\u7406\n",
        "```"
      ]
    },
    {
      "cell_type": "markdown",
      "id": "1996f560-db99-49fb-9aad-7e163053ad29",
      "metadata": {},
      "source": [
        "\u69cb\u6587\u306f\u4e0a\u8a18\u306e\u901a\u308a\u3067\uff0cif \u306e\u6761\u4ef6\u5f0f\u3092\u6e80\u305f\u3059\u5834\u5408\u306f\u30b3\u30ed\u30f3 `:` \u306e\u6b21\u306e\u30a4\u30f3\u30c7\u30f3\u30c8\u30d6\u30ed\u30c3\u30af\uff08\u5b57\u4e0b\u3052\u3055\u308c\u305f\u884c\uff09\u304c\u51e6\u7406\u3055\u308c\u307e\u3059\uff0e  \n",
        "\u3053\u3053\u3067\uff0cpython \u306b\u304a\u3051\u308b\u30a4\u30f3\u30c7\u30f3\u30c8\u306f\u30b9\u30da\u30fc\u30b9 4 \u6587\u5b57\u3068\u3044\u3046\u3053\u3068\u304c\uff0cpython \u306e\u30b3\u30fc\u30c7\u30a3\u30f3\u30b0\u898f\u7d04\u306e [PEP8](https://pep8-ja.readthedocs.io/ja/latest/) \u306b\u3088\u3063\u3066\u5b9a\u3081\u3089\u308c\u3066\u3044\u307e\u3059\uff0e  \n",
        "elif \u306f if \u306e\u6761\u4ef6\u5f0f\u304c False \u3060\u3063\u305f\u5834\u5408\u306b\u4e0a\u304b\u3089\u9806\u756a\u306b if \u306e\u3088\u3046\u306b\u6761\u4ef6\u5206\u5c90\u3067\u304d\uff0c0 \u3092\u542b\u3080\u4efb\u610f\u500b\u6570\u304c\u4f7f\u7528\u53ef\u80fd\u3067\u3059\uff0e  \n",
        "C \u8a00\u8a9e\u3067\u8a00\u3046 switch \u6587\u3082 elif \u3092\u7528\u3044\u3066\u4f5c\u6210\u3057\u307e\u3059\uff0e  \n",
        "else \u306f 0 \u3082\u3057\u304f\u306f 1 \u56de\u5229\u7528\u53ef\u80fd\u3067\uff0c\u3069\u306e if-else \u306e\u6761\u4ef6\u5f0f\u306b\u3082\u9069\u5408\u3057\u306a\u304b\u3063\u305f\u5834\u5408\u306b\u51e6\u7406\u3055\u308c\u307e\u3059\uff0e  \n",
        "\u4f8b\u3048\u3070\u4ee5\u4e0b\u306e\u3088\u3046\u306b\u4f7f\u3044\u307e\u3059\uff0e"
      ]
    },
    {
      "cell_type": "code",
      "execution_count": 1,
      "id": "9cc5bbb1-bf55-417b-a849-e6dc78eaa949",
      "metadata": {},
      "outputs": [
        {
          "name": "stdout",
          "output_type": "stream",
          "text": [
            "else\n"
          ]
        }
      ],
      "source": [
        "a = 3\n",
        "\n",
        "if a == 1:\n",
        "    print(\"a == 1\")\n",
        "elif a == 2:\n",
        "    print(\"a == 2\")\n",
        "elif a < 3:\n",
        "    print(\"a < 3\")\n",
        "else:\n",
        "    print(\"else\")"
      ]
    },
    {
      "cell_type": "code",
      "execution_count": 2,
      "id": "5e2b1b6c-b687-4eac-b73d-ff73a1bf8b79",
      "metadata": {},
      "outputs": [
        {
          "name": "stdout",
          "output_type": "stream",
          "text": [
            "4\n"
          ]
        }
      ],
      "source": [
        "a = [\"a\", \"bb\", \"ccc\", \"dddd\"]\n",
        "\n",
        "if \"a\" not in a:\n",
        "    print(1)\n",
        "elif \"bb\" not in a:\n",
        "    print(2)\n",
        "elif \"ccc\" not in a:\n",
        "    print(3)\n",
        "elif \"dddd\" in a:\n",
        "    print(4)\n",
        "else:\n",
        "    print(\"else\")"
      ]
    },
    {
      "cell_type": "markdown",
      "id": "780b052f-404e-4ae1-9d98-450660859048",
      "metadata": {},
      "source": [
        "\u51e6\u7406\u306b\u304a\u3044\u3066\uff0c\u7279\u306b\u4f55\u3082\u3057\u306a\u3044 `pass` \u3068\u3044\u3046\u30aa\u30d6\u30b8\u30a7\u30af\u30c8\u3082\u4f7f\u3046\u3053\u3068\u304c\u3067\u304d\u307e\u3059\uff0e  \n",
        "\u4f8b\u3048\u3070\uff0c\u51fa\u529b\u306f\u3057\u306a\u3044\u3051\u3069\uff0c\u660e\u793a\u7684\u306b\u500b\u3005\u306e\u51e6\u7406\u306f OK \u3068\u3044\u3046\u3053\u3068\u3092\u30b3\u30fc\u30c9\u3067\u6b8b\u3057\u305f\u3044\u6642\u306b\u4f7f\u308f\u308c\u308b\u3068\u601d\u3044\u307e\u3059\uff0e"
      ]
    },
    {
      "cell_type": "code",
      "execution_count": 3,
      "id": "b8f45382-e90a-4d26-a04a-055d3cde2142",
      "metadata": {},
      "outputs": [],
      "source": [
        "a = True\n",
        "\n",
        "if a is True:\n",
        "    pass\n",
        "else:\n",
        "    print(\"else\")"
      ]
    },
    {
      "cell_type": "markdown",
      "id": "a74abce1-5edd-4f31-b55a-c643e84b18da",
      "metadata": {},
      "source": [
        "## \u7e70\u308a\u8fd4\u3057\u51e6\u7406: for-in-else"
      ]
    },
    {
      "cell_type": "markdown",
      "id": "aae48658-9528-4e6b-853b-afa9308c71a0",
      "metadata": {},
      "source": [
        "```\n",
        "for value in iterable:\n",
        "    \u51e6\u7406\n",
        "else:\n",
        "    \u51e6\u7406\n",
        "```"
      ]
    },
    {
      "cell_type": "markdown",
      "id": "d8757944-30e3-4a3c-990e-a2b9673770ce",
      "metadata": {},
      "source": [
        "\u69cb\u6587\u306f\u4e0a\u8a18\u306e\u901a\u308a\u3067\uff0c\u30ea\u30b9\u30c8\u3084 range() \u306a\u3069\u306e iterable \u30aa\u30d6\u30b8\u30a7\u30af\u30c8\u304c\u4e00\u5ea6\u3060\u3051\u56de\u3055\u308c\uff0cvalue \u306b\u4ee3\u5165\u3055\u308c\u307e\u3059\uff0e  \n",
        "`:` \u306e\u6b21\u306e\u30a4\u30f3\u30c7\u30f3\u30c8\u30d6\u30ed\u30c3\u30af\u306f\uff0cvalue \u306e\u500b\u6570\u56de\u51e6\u7406\u3055\u308c\u307e\u3059\uff0e  \n",
        "else \u306f 0 \u3082\u3057\u304f\u306f 1 \u56de\u5229\u7528\u53ef\u80fd\u3067\uff0cfor \u306e\u51e6\u7406\u304c\u7d42\u308f\u3063\u305f\u969b\u306b\u51e6\u7406\u3055\u308c\u307e\u3059\uff0e  \n",
        "\u7e70\u308a\u8fd4\u3057\u3092 break \u3067\u629c\u3051\u305f\u5834\u5408\uff0celse \u306e\u30a4\u30f3\u30c7\u30f3\u30c8\u30d6\u30ed\u30c3\u30af\u306f\u51e6\u7406\u3055\u308c\u305a\u30b9\u30ad\u30c3\u30d7\u3055\u308c\u307e\u3059\uff0e  \n",
        "\u4f8b\u3048\u3070\u4ee5\u4e0b\u306e\u3088\u3046\u306b\u4f7f\u3044\u307e\u3059\uff0e"
      ]
    },
    {
      "cell_type": "code",
      "execution_count": 4,
      "id": "07eda9e4-a943-44d6-8d8c-4a3d1626138b",
      "metadata": {},
      "outputs": [
        {
          "name": "stdout",
          "output_type": "stream",
          "text": [
            "0\n",
            "1\n",
            "2\n"
          ]
        }
      ],
      "source": [
        "for i in [0, 1, 2]:\n",
        "    print(i)"
      ]
    },
    {
      "cell_type": "code",
      "execution_count": 5,
      "id": "eb528948-0d4a-45ce-b940-40d816e8d726",
      "metadata": {},
      "outputs": [
        {
          "name": "stdout",
          "output_type": "stream",
          "text": [
            "banana\n",
            "apple\n",
            "orange\n"
          ]
        }
      ],
      "source": [
        "fruits = [\"banana\", \"apple\", \"orange\"]\n",
        "for fruit in fruits:\n",
        "    print(fruit)"
      ]
    },
    {
      "cell_type": "code",
      "execution_count": 6,
      "id": "3ba0b56a-2e6c-4541-ba85-c9877f6d0ac2",
      "metadata": {},
      "outputs": [
        {
          "name": "stdout",
          "output_type": "stream",
          "text": [
            "0\n",
            "1\n",
            "2\n",
            "3\n",
            "4\n",
            "end\n"
          ]
        }
      ],
      "source": [
        "for i in range(5):\n",
        "    print(i)\n",
        "else:\n",
        "    print(\"end\")"
      ]
    },
    {
      "cell_type": "code",
      "execution_count": 7,
      "id": "e59e2d77-3ecf-4a13-ae5a-a11a07c29d2e",
      "metadata": {},
      "outputs": [
        {
          "name": "stdout",
          "output_type": "stream",
          "text": [
            "1 apple\n",
            "2 orange\n"
          ]
        }
      ],
      "source": [
        "for i, fruit in enumerate(fruits):\n",
        "    if fruit.endswith(\"e\"):\n",
        "        print(i, fruit)"
      ]
    },
    {
      "cell_type": "code",
      "execution_count": 8,
      "id": "33f76433-e2d8-4d7a-b5c2-4685736dd07f",
      "metadata": {},
      "outputs": [
        {
          "name": "stdout",
          "output_type": "stream",
          "text": [
            "gold Au\n",
            "silver Ag\n",
            "bronze Cu and Sn\n",
            "\u9285\u30e1\u30c0\u30eb\u306f\u9752\u9285\u306a\u306e\u3067 bronze\n"
          ]
        }
      ],
      "source": [
        "metal = {\"gold\": \"Au\", \"silver\": \"Ag\", \"bronze\": \"Cu and Sn\"}\n",
        "\n",
        "for metal_name, symbol in metal.items():\n",
        "    print(metal_name, symbol)\n",
        "else:\n",
        "    print(\"\u9285\u30e1\u30c0\u30eb\u306f\u9752\u9285\u306a\u306e\u3067 bronze\")"
      ]
    },
    {
      "cell_type": "code",
      "execution_count": 9,
      "id": "3508d113-f3a4-42bd-be30-2927d52b1805",
      "metadata": {},
      "outputs": [
        {
          "name": "stdout",
          "output_type": "stream",
          "text": [
            "0 10\n",
            "1 11\n",
            "2 12\n",
            "3 13\n",
            "4 14\n",
            "5 15\n",
            "6 16\n",
            "7 17\n",
            "8 18\n",
            "9 19\n"
          ]
        }
      ],
      "source": [
        "for i,j in zip(range(10), range(10,20,1)):\n",
        "    print(i,j)"
      ]
    },
    {
      "cell_type": "code",
      "execution_count": 10,
      "id": "ff362465-e00f-4651-a288-cc4c3791c6b2",
      "metadata": {},
      "outputs": [
        {
          "name": "stdout",
          "output_type": "stream",
          "text": [
            "2 12\n",
            "4 14\n",
            "6 16\n"
          ]
        }
      ],
      "source": [
        "for i,j in zip(range(10), range(10,20,1)):\n",
        "    if (i==0) or (i % 2 == 1):\n",
        "        continue\n",
        "    if j>=17:\n",
        "        break\n",
        "    print(i,j)"
      ]
    },
    {
      "cell_type": "code",
      "execution_count": 11,
      "id": "670ceb60-fa49-4878-ab73-0c756398857b",
      "metadata": {},
      "outputs": [
        {
          "data": {
            "text/plain": [
              "[[0, 0, 0, 0, 0],\n",
              " [0, 1, 2, 3, 4],\n",
              " [0, 2, 4, 6, 8],\n",
              " [0, 3, 6, 9, 12],\n",
              " [0, 4, 8, 12, 16]]"
            ]
          },
          "execution_count": 11,
          "metadata": {},
          "output_type": "execute_result"
        }
      ],
      "source": [
        "arr = []\n",
        "\n",
        "for i in range(5):\n",
        "    arr.append([])\n",
        "    for j in range(5):\n",
        "        arr[i].append(i*j)\n",
        "arr"
      ]
    },
    {
      "cell_type": "code",
      "execution_count": 12,
      "id": "cbcfcc36-566e-468b-92f0-90370644aace",
      "metadata": {},
      "outputs": [
        {
          "name": "stdout",
          "output_type": "stream",
          "text": [
            "0\n",
            "1\n",
            "2\n",
            "3\n",
            "4\n"
          ]
        }
      ],
      "source": [
        "for i in range(5):\n",
        "    print(i)\n",
        "    if i > 3:\n",
        "        break\n",
        "else:\n",
        "    print(\"not print\")"
      ]
    },
    {
      "cell_type": "markdown",
      "id": "a720b850-a45f-49ce-ad9f-b7fb23edb659",
      "metadata": {},
      "source": [
        "## \u7e70\u308a\u8fd4\u3057\u51e6\u7406: while-else"
      ]
    },
    {
      "cell_type": "markdown",
      "id": "a102f026-b429-43df-ab51-526641e7221e",
      "metadata": {},
      "source": [
        "```\n",
        "while \u6761\u4ef6\u5f0f:\n",
        "    \u51e6\u7406\n",
        "else:\n",
        "    \u51e6\u7406\n",
        "```"
      ]
    },
    {
      "cell_type": "markdown",
      "id": "2f387e8c-75aa-43df-b51d-aa0abfb19fd5",
      "metadata": {},
      "source": [
        "\u69cb\u6587\u306f\u4e0a\u8a18\u306e\u901a\u308a\u3067\uff0c\u6761\u4ef6\u5f0f\u304c True \u3092\u8fd4\u3059\u9593\u4e2d\u305a\u3063\u3068\u76f4\u5f8c\u306e\u30a4\u30f3\u30c7\u30f3\u30c8\u30d6\u30ed\u30c3\u30af\u306e\u51e6\u7406\u3092\u7e70\u308a\u8fd4\u3057\u7d9a\u3051\uff0c\u6761\u4ef6\u5f0f\u304c False \u306b\u306a\u308b\u3068 else \u306e\u30a4\u30f3\u30c7\u30f3\u30c8\u30d6\u30ed\u30c3\u30af\u3092\u51e6\u7406\u3057\u307e\u3059\uff0e  \n",
        "\u6761\u4ef6\u5f0f\u304c True \u3057\u304b\u306a\u3044\u5834\u5408\u306f\u7121\u9650\u30eb\u30fc\u30d7\u306b\u306a\u308a\u307e\u3059\uff0e  \n",
        "\u7121\u9650\u30eb\u30fc\u30d7\u304c\u597d\u307e\u3057\u304f\u306a\u3044\u5834\u5408\u306f\uff0cwhile \u306e\u6761\u4ef6\u5f0f\u306b\u5bfe\u3057\u3066\u30a4\u30f3\u30c7\u30f3\u30c8\u30d6\u30ed\u30c3\u30af\u306e\u8a08\u7b97\u7d50\u679c\u304c\u95a2\u4e0e\u3057\u3066\uff0cwhile \u3092\u629c\u3051\u3089\u308c\u308b\u3088\u3046\u306a\u6761\u4ef6\u5f0f\u3068\u306a\u308b\u3053\u3068\uff0c\u3042\u308b\u3044\u306f\uff0cwhile \u306e\u30a4\u30f3\u30c7\u30f3\u30c8\u30d6\u30ed\u30c3\u30af\u5185\u3067 break \u3092\u7528\u3044\u308b\u3053\u3068\u3067\uff0c\u7121\u9650\u30eb\u30fc\u30d7\u3092\u56de\u907f\u3067\u304d\u307e\u3059\uff0e  \n",
        "\u7e70\u308a\u8fd4\u3057\u3092 break \u3067\u629c\u3051\u305f\u5834\u5408\uff0celse \u306e\u30a4\u30f3\u30c7\u30f3\u30c8\u30d6\u30ed\u30c3\u30af\u306f\u51e6\u7406\u3055\u308c\u305a\u30b9\u30ad\u30c3\u30d7\u3055\u308c\u307e\u3059\uff0e  \n",
        "\n",
        "\u6ce8\u610f\u3068\u3057\u3066\uff0c\u5f85\u3061\u6642\u9593\u306a\u3057\u306e\u753b\u9762\u51fa\u529b\u3092\u542b\u3080\u7121\u9650\u30eb\u30fc\u30d7\u3092\u8d70\u3089\u305b\u305f\u5834\u5408\uff0c\u3072\u3063\u304d\u308a\u306a\u3057\u306b\u753b\u9762\u51fa\u529b\u304c\u969b\u9650\u306a\u304f\u884c\u308f\u308c\u307e\u3059\uff0e  \n",
        "\u3053\u308c\u3092\u505c\u6b62\u3057\u305f\u3044\u5834\u5408\u306f\uff0cjupyter \u3067\u3042\u308c\u3070\u4e0a\u90e8\u30bf\u30b9\u30af\u30d0\u30fc\u306e\u56db\u89d2\u30dc\u30bf\u30f3 (Interrupt the kernel) \u3092\u30af\u30ea\u30c3\u30af\u3082\u3057\u304f\u306f\u30d6\u30e9\u30a6\u30b6\u306e\u30bf\u30d6\u3092\u9589\u3058\u307e\u3059\uff0e  \n",
        "\u30b3\u30de\u30f3\u30c9\u30e9\u30a4\u30f3\u4e0a\u3067\u306f\uff0c`ctrl` \u30ad\u30fc\u3068 `C` \u30ad\u30fc\u3092\u540c\u6642\u306b\u62bc\u4e0b\u3059\u308b\u304b\uff0c\u9055\u3046\u30bf\u30fc\u30df\u30ca\u30eb\u3092\u8d77\u52d5\u3057\uff0c\u30b3\u30de\u30f3\u30c9\u30e9\u30a4\u30f3\u3067\u30d7\u30ed\u30bb\u30b9\u3092\u5f37\u5236\u7d42\u4e86\u3055\u305b\u305f\u308a\uff0c\u3082\u3057\u304f\u306f\uff0c\u30bf\u30b9\u30af\u30de\u30cd\u30fc\u30b8\u30e3\u30fc\u3067\u30d7\u30ed\u30bb\u30b9\u7d42\u4e86\u3092\u884c\u3063\u3066\u3082\u826f\u3044\u3067\u3057\u3087\u3046\uff0e  \n",
        "\n",
        "\u4f7f\u7528\u4f8b\u306f\u4ee5\u4e0b\u3067\u3059\uff0e"
      ]
    },
    {
      "cell_type": "code",
      "execution_count": 13,
      "id": "5fd281cb-8874-469e-b9ca-ab40f5467284",
      "metadata": {},
      "outputs": [
        {
          "name": "stdout",
          "output_type": "stream",
          "text": [
            "0\n",
            "1\n",
            "2\n",
            "aaa\n"
          ]
        }
      ],
      "source": [
        "i = 0\n",
        "while i < 3:\n",
        "    print(i)\n",
        "    i += 1\n",
        "else:\n",
        "    print(\"aaa\")"
      ]
    },
    {
      "cell_type": "code",
      "execution_count": 14,
      "id": "f10ecc20-a7c1-45f1-8fdd-1d0714601214",
      "metadata": {},
      "outputs": [
        {
          "name": "stdout",
          "output_type": "stream",
          "text": [
            "0\n",
            "1\n",
            "2\n",
            "3\n",
            "4\n",
            "break\n"
          ]
        }
      ],
      "source": [
        "i = 0\n",
        "while True:\n",
        "    print(i)\n",
        "    if i > 3:\n",
        "        print(\"break\")\n",
        "        break\n",
        "    i += 1\n",
        "else:\n",
        "    print(\"not print\")"
      ]
    },
    {
      "cell_type": "code",
      "execution_count": 15,
      "id": "f480ba17-6bd6-4b4f-91cd-459278ad9886",
      "metadata": {},
      "outputs": [
        {
          "name": "stdout",
          "output_type": "stream",
          "text": [
            "[[0, 1]]\n",
            "[[0, 1], [1, 1]]\n",
            "[[0, 1], [1, 1], [2, 4]]\n",
            "[[0, 1], [1, 1], [2, 4], [3, 27]]\n",
            "[[0, 1], [1, 1], [2, 4], [3, 27], [4, 256]]\n"
          ]
        }
      ],
      "source": [
        "arr = []\n",
        "i = 0\n",
        "while i < 5:\n",
        "    arr.append([i, i**i])\n",
        "    print(arr)\n",
        "    i += 1"
      ]
    },
    {
      "cell_type": "markdown",
      "id": "ab6ddf1a-dd2e-49d1-966c-80512f2d029f",
      "metadata": {},
      "source": [
        "## \u4f8b\u5916\u51e6\u7406: try-except-else-finally"
      ]
    },
    {
      "cell_type": "markdown",
      "id": "d51a0888-ac20-41c2-bdd8-33a81ea1b097",
      "metadata": {},
      "source": [
        "\u305d\u306e\u540d\u306e\u901a\u308a\u4f8b\u5916\u51e6\u7406\u306f\uff0c\u51e6\u7406\u306b\u30a8\u30e9\u30fc\uff08\u4f8b\u5916\uff09\u304c\u751f\u3058\u305f\u3068\u304d\u306b\u7570\u306a\u308b\u51e6\u7406\u3092\u3055\u305b\u308b\u5236\u5fa1\u6a5f\u80fd\u3067\u3059\uff0e  \n",
        "\u4f8b\u5916\u51e6\u7406\u306e\u524d\u306b\uff0c\u307e\u305a\u306f\uff0c\u30a8\u30e9\u30fc\u306b\u3064\u3044\u3066\u5c11\u3057\u77e5\u3063\u3066\u304a\u304f\u5fc5\u8981\u304c\u3042\u308a\u307e\u3059\uff0e  \n",
        "\u4f8b\u3048\u3070\uff0c`1 / 0` \u306f\u7121\u9650\u5927\u306b\u767a\u6563\u3057\u307e\u3059\u304c\uff0c\u6570\u5024\u8a08\u7b97\u4e0a\u3067\u306f\u7121\u9650\u5927\u3068\u3044\u3046\u5c5e\u6027\uff0c\u3082\u3057\u304f\u306f\uff0c\u30a8\u30e9\u30fc\u3068\u306a\u308a\u307e\u3059\uff0e  \n",
        "python \u306e\u6a19\u6e96\u30e9\u30a4\u30d6\u30e9\u30ea\u306b\u304a\u3044\u3066\u306f\uff0c\u300c0 \u3067\u5272\u308c\u307e\u305b\u3093\u300d\u3068\u3044\u3046\u3053\u3068\u3067 `ZeroDivisionError` \u304c\u9001\u51fa\u3055\u308c\u307e\u3059\uff0e  \n",
        "\u307e\u305f\uff0c`1 + \"1\"` \u306f\u6574\u6570\u3068\u6587\u5b57\u5217\u306e\u8db3\u3057\u7b97\u3092\u884c\u3063\u3066\u3044\u307e\u3059\u304c\uff0c\u5b9f\u969b\u306b\u306f\u51e6\u7406\u3067\u304d\u305a\uff0c\u300c\u6f14\u7b97\u5bfe\u8c61\u306e\u578b\u306b\u554f\u984c\u304c\u3042\u308b\u300d\u3068\u3044\u3046\u3053\u3068\u3067 `TypeError` \u304c\u9001\u51fa\u3055\u308c\u307e\u3059\uff0e  \n",
        "\u30b3\u30fc\u30c9\u3067\u5b9f\u884c\u3057\u3066\u307f\u308b\u3068\u4ee5\u4e0b\u306e\u901a\u308a\u3067\u3059\uff0e"
      ]
    },
    {
      "cell_type": "code",
      "execution_count": 16,
      "id": "4331bf7c-591d-44ed-a5ec-c2c8b7490bec",
      "metadata": {},
      "outputs": [
        {
          "ename": "ZeroDivisionError",
          "evalue": "division by zero",
          "output_type": "error",
          "traceback": [
            "\u001b[1;31m---------------------------------------------------------------------------\u001b[0m",
            "\u001b[1;31mZeroDivisionError\u001b[0m                         Traceback (most recent call last)",
            "\u001b[1;32m~\\AppData\\Local\\Temp/ipykernel_632/3979469288.py\u001b[0m in \u001b[0;36m<module>\u001b[1;34m\u001b[0m\n\u001b[1;32m----> 1\u001b[1;33m \u001b[0ma\u001b[0m \u001b[1;33m=\u001b[0m \u001b[1;36m1\u001b[0m \u001b[1;33m/\u001b[0m \u001b[1;36m0\u001b[0m\u001b[1;33m\u001b[0m\u001b[1;33m\u001b[0m\u001b[0m\n\u001b[0m",
            "\u001b[1;31mZeroDivisionError\u001b[0m: division by zero"
          ]
        }
      ],
      "source": [
        "a = 1 / 0"
      ]
    },
    {
      "cell_type": "code",
      "execution_count": 17,
      "id": "417ba49f-ab10-4036-bddf-8e6909cfd211",
      "metadata": {},
      "outputs": [
        {
          "ename": "TypeError",
          "evalue": "unsupported operand type(s) for +: 'int' and 'str'",
          "output_type": "error",
          "traceback": [
            "\u001b[1;31m---------------------------------------------------------------------------\u001b[0m",
            "\u001b[1;31mTypeError\u001b[0m                                 Traceback (most recent call last)",
            "\u001b[1;32m~\\AppData\\Local\\Temp/ipykernel_632/273750274.py\u001b[0m in \u001b[0;36m<module>\u001b[1;34m\u001b[0m\n\u001b[1;32m----> 1\u001b[1;33m \u001b[0ma\u001b[0m \u001b[1;33m=\u001b[0m \u001b[1;36m1\u001b[0m \u001b[1;33m+\u001b[0m \u001b[1;34m\"1\"\u001b[0m\u001b[1;33m\u001b[0m\u001b[1;33m\u001b[0m\u001b[0m\n\u001b[0m",
            "\u001b[1;31mTypeError\u001b[0m: unsupported operand type(s) for +: 'int' and 'str'"
          ]
        }
      ],
      "source": [
        "a = 1 + \"1\""
      ]
    },
    {
      "cell_type": "markdown",
      "id": "6ced4a38-6f2f-42ec-94fb-7009a7e4da97",
      "metadata": {},
      "source": [
        "\u4e0a\u8a18\u3092\u898b\u8d8a\u3057\u3066\u4f8b\u5916\u51e6\u7406\u3055\u305b\u305f\u3044\u5834\u5408\u306b\uff0c\u4ee5\u4e0b\u306e\u3088\u3046\u306a\u69cb\u6587\u3092\u7528\u3044\u307e\u3059\uff0e"
      ]
    },
    {
      "cell_type": "markdown",
      "id": "159e18ba-9685-49b0-85d9-7e6ea2a67e28",
      "metadata": {},
      "source": [
        "```\n",
        "try:\n",
        "    \u51e6\u7406\n",
        "except \u30a8\u30e9\u30fc\u540d\u79f0 as \u5de6\u8a18\u306e\u30a8\u30e9\u30fc\u3092\u793a\u3059\u4efb\u610f\u5909\u6570\u540d:\n",
        "    \u51e6\u7406\n",
        "else:\n",
        "    \u51e6\u7406\n",
        "finally:\n",
        "    \u51e6\u7406\n",
        "```"
      ]
    },
    {
      "cell_type": "markdown",
      "id": "4554f071-cee3-48f7-b741-dff4877c91fc",
      "metadata": {},
      "source": [
        "\u521d\u3081\u306b try \u306e\u30a4\u30f3\u30c7\u30f3\u30c8\u30d6\u30ed\u30c3\u30af\u304c\u51e6\u7406\u3055\u308c\u307e\u3059\uff0e  \n",
        "\u3053\u306e\u51e6\u7406\u3067\u30a8\u30e9\u30fc\u304c\u9001\u51fa\u3055\u308c\uff0c\u304b\u3064\uff0c\u3053\u306e\u30a8\u30e9\u30fc\u3068 except \u3067\u6307\u5b9a\u3057\u305f\u30a8\u30e9\u30fc\u540d\u79f0\u304c\u4e00\u81f4\u3059\u308b\u5834\u5408\uff0cexcept \u306e\u30a4\u30f3\u30c7\u30f3\u30c8\u30d6\u30ed\u30c3\u30af\u304c\u51e6\u7406\u3055\u308c\u307e\u3059\uff0e  \n",
        "except \u3068 \u30a8\u30e9\u30fc\u540d\u79f0 \u306f\u5fc5\u9808\u3067\u3059\uff0e  \n",
        "try \u306e\u30a4\u30f3\u30c7\u30f3\u30c8\u30d6\u30ed\u30c3\u30af\u306e\u51e6\u7406\u306b\u304a\u3051\u308b\u30a8\u30e9\u30fc\u3068 except \u3067\u6307\u5b9a\u3057\u305f\u30a8\u30e9\u30fc\u3068\u7570\u306a\u308b\u5834\u5408\u306f\uff0c\u305d\u306e\u307e\u307e\u30a8\u30e9\u30fc\u304c\u9001\u51fa\u3055\u308c\uff0c\u51e6\u7406\u304c\u7d42\u4e86\u3057\u307e\u3059\uff0e  \n",
        "else \u306e\u30a4\u30f3\u30c7\u30f3\u30c8\u30d6\u30ed\u30c3\u30af\u306f\uff0ctry \u3067\u30a8\u30e9\u30fc\u304c\u9001\u51fa\u3055\u308c\u306a\u3044\u3067\u6b63\u5e38\u7d42\u4e86\u3059\u308b\u5834\u5408\u306b\uff0ctry \u306e\u51e6\u7406\u304c\u3059\u3079\u3066\u7d42\u4e86\u3057\u305f\u5f8c\u306b\u51e6\u7406\u3055\u308c\u307e\u3059\uff0e\u3064\u307e\u308a\uff0ctry \u3067\u30a8\u30e9\u30fc\u304c\u9001\u51fa\u3055\u308c except \u306b\u51e6\u7406\u304c\u308f\u305f\u308b\u5834\u5408\u306f\uff0celse \u306f\u7121\u8996\u3055\u308c\u307e\u3059\uff0e   \n",
        "finally \u306e\u30a4\u30f3\u30c7\u30f3\u30c8\u30d6\u30ed\u30c3\u30af\u306f\uff0ctry / except / else \u306e\u51e6\u7406\u304c\u5168\u3066\u7d42\u4e86\u3057\u305f\u5f8c\u306b\u51e6\u7406\u3055\u308c\u307e\u3059\uff0e  \n",
        "else \u3068 finally \u306f\u30aa\u30d7\u30b7\u30e7\u30f3\u306e\u305f\u3081\uff0c\u5fc5\u9808\u3067\u306f\u3042\u308a\u307e\u305b\u3093\uff0e  \n",
        "\u4f8b\u3092\u4ee5\u4e0b\u306b\u793a\u3057\u307e\u3059\uff0e"
      ]
    },
    {
      "cell_type": "code",
      "execution_count": 18,
      "id": "30d3c491-0c72-4d6e-bb83-9c1456799fc7",
      "metadata": {},
      "outputs": [
        {
          "name": "stdout",
          "output_type": "stream",
          "text": [
            "1.0\n"
          ]
        }
      ],
      "source": [
        "try:\n",
        "    a = 1 / 1\n",
        "    print(a)\n",
        "except ZeroDivisionError:\n",
        "    print(\"ZeroDivisionError\")"
      ]
    },
    {
      "cell_type": "markdown",
      "id": "c2a39267-856a-4145-85d5-43ee6e92acad",
      "metadata": {},
      "source": [
        "\u3053\u306e\u5834\u5408\u306f\uff0c\u30a8\u30e9\u30fc\u304c\u7121\u3044\u306e\u3067 a \u304c\u305d\u306e\u307e\u307e\u51fa\u529b\u3055\u308c\u3066\u3044\u307e\u3059\uff0e"
      ]
    },
    {
      "cell_type": "code",
      "execution_count": 19,
      "id": "1a67d6ea-fc23-4dd4-8bf7-8cb236c8c62d",
      "metadata": {},
      "outputs": [
        {
          "name": "stdout",
          "output_type": "stream",
          "text": [
            "1.0\n",
            "else\n"
          ]
        }
      ],
      "source": [
        "try:\n",
        "    a = 1 / 1\n",
        "    print(a)\n",
        "except ZeroDivisionError:\n",
        "    print(\"ZeroDivisionError\")\n",
        "else:\n",
        "    print(\"else\")"
      ]
    },
    {
      "cell_type": "markdown",
      "id": "1622ee23-1664-4ae9-ad09-f704a54aefa2",
      "metadata": {},
      "source": [
        "try \u306e\u30a4\u30f3\u30c7\u30f3\u30c8\u30d6\u30ed\u30c3\u30af\u304c\u6b63\u5e38\u7d42\u4e86\u3057\u3066\u3044\u308b\u306e\u3067\uff0celse \u304c\u51e6\u7406\u3055\u308c\u3066\u3044\u307e\u3059\uff0e"
      ]
    },
    {
      "cell_type": "code",
      "execution_count": 20,
      "id": "43f1adb3-c791-43a1-91a6-31eac7f7fe81",
      "metadata": {},
      "outputs": [
        {
          "name": "stdout",
          "output_type": "stream",
          "text": [
            "ZeroDivisionError\n"
          ]
        }
      ],
      "source": [
        "try:\n",
        "    a = 1 / 0\n",
        "    print(a)\n",
        "except ZeroDivisionError:\n",
        "    print(\"ZeroDivisionError\")\n",
        "else:\n",
        "    print(\"else\")"
      ]
    },
    {
      "cell_type": "markdown",
      "id": "ac77e55c-cfe3-4e77-adfa-48021e1db989",
      "metadata": {},
      "source": [
        "try \u306e\u30a4\u30f3\u30c7\u30f3\u30c8\u30d6\u30ed\u30c3\u30af\u304c `ZeroDivisionError` \u3092\u9001\u51fa\u3057\uff0c\u304b\u3064\uff0cexcept \u306b\u3066\u6307\u5b9a\u3057\u305f\u30a8\u30e9\u30fc\u3068\u540c\u4e00\u306a\u306e\u3067\uff0cexcept \u304c\u51e6\u7406\u3055\u308c\u3066\u3044\u307e\u3059\uff0e  \n",
        "\u4e00\u65b9\uff0c\u6b63\u5e38\u7d42\u4e86\u3057\u3066\u3044\u306a\u3044\u306e\u3067\uff0celse \u306f\u51e6\u7406\u3055\u308c\u307e\u305b\u3093\uff0e"
      ]
    },
    {
      "cell_type": "code",
      "execution_count": 21,
      "id": "e0a8c551-c27f-4fb7-b236-d2460b4faa88",
      "metadata": {},
      "outputs": [
        {
          "name": "stdout",
          "output_type": "stream",
          "text": [
            "division by zero\n"
          ]
        }
      ],
      "source": [
        "try:\n",
        "    a = 1 / 0\n",
        "    print(a)\n",
        "except ZeroDivisionError as err:\n",
        "    print(err)"
      ]
    },
    {
      "cell_type": "markdown",
      "id": "d17e541e-b4b0-467b-a76a-ef9ab8a63acc",
      "metadata": {},
      "source": [
        "`ZeroDivisionError` \u3092\u5909\u6570 `err` \u3068\u3057\u3066\u5b9a\u7fa9\u3057\uff0c\u8868\u793a\u3057\u3066\u3044\u307e\u3059\uff0e"
      ]
    },
    {
      "cell_type": "code",
      "execution_count": 22,
      "id": "fc62eff3-b7db-4c65-ae4c-c2138928032b",
      "metadata": {},
      "outputs": [
        {
          "ename": "ZeroDivisionError",
          "evalue": "division by zero",
          "output_type": "error",
          "traceback": [
            "\u001b[1;31m---------------------------------------------------------------------------\u001b[0m",
            "\u001b[1;31mZeroDivisionError\u001b[0m                         Traceback (most recent call last)",
            "\u001b[1;32m~\\AppData\\Local\\Temp/ipykernel_632/1181306212.py\u001b[0m in \u001b[0;36m<module>\u001b[1;34m\u001b[0m\n\u001b[0;32m      1\u001b[0m \u001b[1;32mtry\u001b[0m\u001b[1;33m:\u001b[0m\u001b[1;33m\u001b[0m\u001b[1;33m\u001b[0m\u001b[0m\n\u001b[1;32m----> 2\u001b[1;33m     \u001b[0ma\u001b[0m \u001b[1;33m=\u001b[0m \u001b[1;36m1\u001b[0m \u001b[1;33m/\u001b[0m \u001b[1;36m0\u001b[0m\u001b[1;33m\u001b[0m\u001b[1;33m\u001b[0m\u001b[0m\n\u001b[0m\u001b[0;32m      3\u001b[0m     \u001b[0mprint\u001b[0m\u001b[1;33m(\u001b[0m\u001b[0ma\u001b[0m\u001b[1;33m)\u001b[0m\u001b[1;33m\u001b[0m\u001b[1;33m\u001b[0m\u001b[0m\n\u001b[0;32m      4\u001b[0m \u001b[1;32mexcept\u001b[0m \u001b[0mTypeError\u001b[0m \u001b[1;32mas\u001b[0m \u001b[0merr\u001b[0m\u001b[1;33m:\u001b[0m\u001b[1;33m\u001b[0m\u001b[1;33m\u001b[0m\u001b[0m\n\u001b[0;32m      5\u001b[0m     \u001b[0mprint\u001b[0m\u001b[1;33m(\u001b[0m\u001b[0merr\u001b[0m\u001b[1;33m)\u001b[0m\u001b[1;33m\u001b[0m\u001b[1;33m\u001b[0m\u001b[0m\n",
            "\u001b[1;31mZeroDivisionError\u001b[0m: division by zero"
          ]
        }
      ],
      "source": [
        "try:\n",
        "    a = 1 / 0\n",
        "    print(a)\n",
        "except TypeError as err:\n",
        "    print(err)"
      ]
    },
    {
      "cell_type": "markdown",
      "id": "3befd0a6-e288-4656-8c7c-b4a155f81d19",
      "metadata": {},
      "source": [
        "except \u306b\u3066 `TypeError` \u3092\u6307\u5b9a\u3057\u307e\u3057\u305f\u304c\uff0c\u5b9f\u969b\u306f `ZeroDivisionError` \u3060\u3063\u305f\u306e\u3067\uff0cexcept \u306b\u3066\u4f8b\u5916\u304c\u30ad\u30e3\u30c3\u30c1\u3055\u308c\u305a\uff0ctry \u306e\u30a8\u30e9\u30fc\u304c\u305d\u306e\u307e\u307e\u51fa\u529b\u3055\u308c\u3066\u3044\u307e\u3059\uff0e"
      ]
    },
    {
      "cell_type": "code",
      "execution_count": 23,
      "id": "6f1b957c-bfc2-4b97-9b32-4aa8d8af5072",
      "metadata": {},
      "outputs": [
        {
          "name": "stdout",
          "output_type": "stream",
          "text": [
            "1.0\n",
            "else\n",
            "finally\n"
          ]
        }
      ],
      "source": [
        "try:\n",
        "    a = 1 / 1\n",
        "    print(a)\n",
        "except ZeroDivisionError as err:\n",
        "    print(err)\n",
        "else:\n",
        "    print(\"else\")\n",
        "finally:\n",
        "    print(\"finally\")"
      ]
    },
    {
      "cell_type": "markdown",
      "id": "2e770626-eecb-4c8c-b595-67212df58fc7",
      "metadata": {},
      "source": [
        "\u6b63\u5e38\u7d42\u4e86\u3057\u3066\u3044\u308b\u306e\u3067 else \u304c\u51e6\u7406\u3055\u308c\uff0c\u304b\u3064\uff0cfinally \u304c\u51e6\u7406\u3055\u308c\u3066\u3044\u307e\u3059\uff0e"
      ]
    },
    {
      "cell_type": "code",
      "execution_count": 24,
      "id": "581f5953-95e2-44a3-bf28-e9965250f98e",
      "metadata": {},
      "outputs": [
        {
          "name": "stdout",
          "output_type": "stream",
          "text": [
            "division by zero\n",
            "finally\n"
          ]
        }
      ],
      "source": [
        "try:\n",
        "    a = 1 / 0\n",
        "    print(a)\n",
        "except ZeroDivisionError as err:\n",
        "    print(err)\n",
        "else:\n",
        "    print(\"else\")\n",
        "finally:\n",
        "    print(\"finally\")"
      ]
    },
    {
      "cell_type": "markdown",
      "id": "ae1f039f-5287-4066-8b6b-874f62a4146f",
      "metadata": {},
      "source": [
        "\u7570\u5e38\u7d42\u4e86\u3057\u3066\u3044\u308b\u306e\u3067 else \u304c\u51e6\u7406\u3055\u308c\u305a\uff0cfinally \u306f\u51e6\u7406\u3055\u308c\u3066\u3044\u307e\u3059\uff0e"
      ]
    },
    {
      "cell_type": "code",
      "execution_count": 25,
      "id": "55a8f5c4-f35b-4bd2-8bee-c680c6e8eabb",
      "metadata": {},
      "outputs": [
        {
          "name": "stdout",
          "output_type": "stream",
          "text": [
            "finally\n"
          ]
        },
        {
          "ename": "ZeroDivisionError",
          "evalue": "division by zero",
          "output_type": "error",
          "traceback": [
            "\u001b[1;31m---------------------------------------------------------------------------\u001b[0m",
            "\u001b[1;31mZeroDivisionError\u001b[0m                         Traceback (most recent call last)",
            "\u001b[1;32m~\\AppData\\Local\\Temp/ipykernel_632/688785654.py\u001b[0m in \u001b[0;36m<module>\u001b[1;34m\u001b[0m\n\u001b[0;32m      1\u001b[0m \u001b[1;32mtry\u001b[0m\u001b[1;33m:\u001b[0m\u001b[1;33m\u001b[0m\u001b[1;33m\u001b[0m\u001b[0m\n\u001b[1;32m----> 2\u001b[1;33m     \u001b[0ma\u001b[0m \u001b[1;33m=\u001b[0m \u001b[1;36m1\u001b[0m \u001b[1;33m/\u001b[0m \u001b[1;36m0\u001b[0m\u001b[1;33m\u001b[0m\u001b[1;33m\u001b[0m\u001b[0m\n\u001b[0m\u001b[0;32m      3\u001b[0m     \u001b[0mprint\u001b[0m\u001b[1;33m(\u001b[0m\u001b[0ma\u001b[0m\u001b[1;33m)\u001b[0m\u001b[1;33m\u001b[0m\u001b[1;33m\u001b[0m\u001b[0m\n\u001b[0;32m      4\u001b[0m \u001b[1;32mexcept\u001b[0m \u001b[0mTypeError\u001b[0m \u001b[1;32mas\u001b[0m \u001b[0merr\u001b[0m\u001b[1;33m:\u001b[0m\u001b[1;33m\u001b[0m\u001b[1;33m\u001b[0m\u001b[0m\n\u001b[0;32m      5\u001b[0m     \u001b[0mprint\u001b[0m\u001b[1;33m(\u001b[0m\u001b[0merr\u001b[0m\u001b[1;33m)\u001b[0m\u001b[1;33m\u001b[0m\u001b[1;33m\u001b[0m\u001b[0m\n",
            "\u001b[1;31mZeroDivisionError\u001b[0m: division by zero"
          ]
        }
      ],
      "source": [
        "try:\n",
        "    a = 1 / 0\n",
        "    print(a)\n",
        "except TypeError as err:\n",
        "    print(err)\n",
        "else:\n",
        "    print(\"else\")\n",
        "finally:\n",
        "    print(\"finally\")"
      ]
    },
    {
      "cell_type": "markdown",
      "id": "ce7d0068-a1a5-4ec2-9f28-a2fddb783044",
      "metadata": {},
      "source": [
        "try \u3067\u767a\u751f\u3057\u305f\u30a8\u30e9\u30fc\u3068 except \u3067\u6307\u5b9a\u3057\u3066\u3044\u308b\u30a8\u30e9\u30fc\u306f\u7570\u306a\u3063\u3066\u3044\u308b\u306e\u3067\uff0c\u30a8\u30e9\u30fc\u304c\u9001\u51fa\u3055\u308c\u3066\u3044\u307e\u3059\uff0e  \n",
        "\u307e\u305f\uff0c\u7570\u5e38\u7d42\u4e86\u3057\u3066\u3044\u308b\u306e\u3067 else \u304c\u51e6\u7406\u3055\u308c\u305a\uff0cfinally \u306f\u51e6\u7406\u3055\u308c\u3066\u3044\u307e\u3059\uff0e\n",
        "\n",
        "try \u306e\u30a8\u30e9\u30fc\u304c\u4e88\u60f3\u3067\u304d\u306a\u3044\u5834\u5408\u306f\uff0c`Exception` \u3092 except \u306e\u30a8\u30e9\u30fc\u306e\u6307\u5b9a\u3068\u3059\u308b\u3068\uff0c\u5168\u3066\u306e\u30a8\u30e9\u30fc\u306b\u5bfe\u51e6\u3067\u304d\u307e\u3059\uff0e"
      ]
    },
    {
      "cell_type": "code",
      "execution_count": 26,
      "id": "e99a3b14-dc71-4eec-aa80-b5875b8e0036",
      "metadata": {},
      "outputs": [
        {
          "name": "stdout",
          "output_type": "stream",
          "text": [
            "division by zero\n",
            "finally\n"
          ]
        }
      ],
      "source": [
        "try:\n",
        "    a = 1 / 0\n",
        "    print(a)\n",
        "except Exception as err:\n",
        "    print(err)\n",
        "else:\n",
        "    print(\"else\")\n",
        "finally:\n",
        "    print(\"finally\")"
      ]
    },
    {
      "cell_type": "markdown",
      "id": "233cadf4-e6ea-4474-b0b1-0422d0b847e7",
      "metadata": {},
      "source": [
        "\u4ee5\u4e0a\u304c\u6761\u4ef6\u5206\u5c90\uff0f\u7e70\u308a\u8fd4\u3057\u51e6\u7406\uff0f\u4f8b\u5916\u51e6\u7406\u306b\u3064\u3044\u3066\u306e\u7d39\u4ecb\u3067\u3057\u305f\u304c\uff0c\u305b\u3063\u304b\u304f\u306a\u306e\u3067\uff0c\u3053\u308c\u3089\u3092\u7528\u3044\u305f\u51e6\u7406\u3092\u6f14\u7fd2\u30d9\u30fc\u30b9\u3067\u8003\u3048\uff0c\u30d7\u30ed\u30b0\u30e9\u30df\u30f3\u30b0\u3057\u3066\u307f\u307e\u3057\u3087\u3046\uff0e"
      ]
    },
    {
      "cell_type": "markdown",
      "id": "614f8d5f-24e3-4ae1-afd9-b8b00b909d4b",
      "metadata": {},
      "source": [
        "## \u6f14\u7fd2\u554f\u984c"
      ]
    },
    {
      "cell_type": "markdown",
      "id": "45c20ba7-0ddf-4d5e-9d77-64e631cb12fa",
      "metadata": {},
      "source": [
        "- Q.1: 1 \u304b\u3089 1000 \u307e\u3067\u306e 5 \u306e\u500d\u6570\u306e\u7dcf\u548c\u3092\u6c42\u3081\u3066\u304f\u3060\u3055\u3044\uff0e\u3067\u304d\u308b\u4eba\u306f for \u3092\u4f7f\u308f\u305a 1 \u884c\u3067\u6311\u6226\u3057\u3066\u307f\u3066\u304f\u3060\u3055\u3044\uff0e\n",
        "- Q.2: 1 \u304b\u3089 1000 \u307e\u3067\u9023\u7d9a\u3057\u305f\u6574\u6570\u306e\u5185\uff0c7 \u3068 13 \u306e\u500d\u6570\u306b 1 \u8db3\u3057\u305f\u5024\u306e\u307f\u3092\u52a0\u7b97\u3057\u3066\u304f\u3060\u3055\u3044\uff08% \u3092\u7528\u3044\u307e\u3059\uff09\uff0e\n",
        "- Q.3: 0 \u304b\u3089 100 \u307e\u3067\u9023\u7d9a\u3057\u305f\u6574\u6570\u306e2\u4e57\u6839\u3092\u8981\u7d20\u3068\u3059\u308b\uff0c\u8981\u7d20\u6570 101 \u306e\u6b21\u306e\u30ea\u30b9\u30c8 $[\\sqrt{0}, \\sqrt{1}, \\sqrt{2}, \\cdots , \\sqrt{100}]$ \u3092\u4f5c\u6210\u3057\u3066\u304f\u3060\u3055\u3044\uff08.append() \u3092\u7528\u3044\u307e\u3059\uff09\uff0e\n",
        "- Q.4: 1 \u304b\u3089 100 \u307e\u3067\u9023\u7d9a\u3057\u305f 100 \u500b\u306e\u6574\u6570\u306b\u5bfe\u3059\u308b\u6a19\u6e96\u504f\u5dee\u3092\u6c42\u3081\u3066\u304f\u3060\u3055\u3044\uff0e\u3053\u3053\u3067\uff0c\u30c7\u30fc\u30bf\u306e\u500b\u6570\u3092 $n$, i\u756a\u76ee\u306e\u30c7\u30fc\u30bf\u3092 $x_i$, \u30c7\u30fc\u30bf\u306e\u5e73\u5747\u3092 $\\bar{x}$ \u3068\u3059\u308b\u3068\uff0c\u6a19\u6e96\u504f\u5dee $\\sigma$ \u306f\uff0c\n",
        "\n",
        "$$\n",
        "\\sigma = \\sqrt{\\frac{1}{n} \\sum_{i=1}^n (x_i - \\bar{x})^2}\n",
        "$$\n",
        "\n",
        "\u3067\u8a08\u7b97\u3055\u308c\u307e\u3059\uff0e\n",
        "- Q.5: try-except \u3092\u7528\u3044\u3066\uff0c\u6b21\u306e\u30ea\u30b9\u30c8 [1, 2, 3, \"a\"] \u306e\u7dcf\u548c\u3092\u53d6\u3063\u305f\u6642\uff0c\"\u6570\u5024\u3068\u6587\u5b57\u5217\u306e\u7dcf\u548c\u306f\u4e0d\u53ef\" \u3068\u8868\u793a\u3059\u308b\u3088\u3046\u306b\u4f5c\u6210\u3057\u307e\u3057\u3087\u3046\uff08if \u3067\u3082\u3067\u304d\u307e\u3059\u304c\uff0ctry-except \u3092\u7528\u3044\u3066\u304f\u3060\u3055\u3044\uff09\uff0e"
      ]
    },
    {
      "cell_type": "code",
      "execution_count": null,
      "id": "3127d60d-7333-4885-b4c4-5a6e27b6fed4",
      "metadata": {},
      "outputs": [],
      "source": []
    }
  ],
  "metadata": {
    "kernelspec": {
      "display_name": "Python 3 (ipykernel)",
      "language": "python",
      "name": "python3"
    },
    "language_info": {
      "codemirror_mode": {
        "name": "ipython",
        "version": 3
      },
      "file_extension": ".py",
      "mimetype": "text/x-python",
      "name": "python",
      "nbconvert_exporter": "python",
      "pygments_lexer": "ipython3",
      "version": "3.8.10"
    }
  },
  "nbformat": 4,
  "nbformat_minor": 5
}
