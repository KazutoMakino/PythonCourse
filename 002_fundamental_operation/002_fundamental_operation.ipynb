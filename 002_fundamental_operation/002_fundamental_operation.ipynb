{
  "cells": [
    {
      "cell_type": "markdown",
      "metadata": {},
      "source": [
        "# \u3010\u81ea\u524dpython\u8b1b\u5ea7-002\u3011\u57fa\u672c\u7684\u306a\u6f14\u7b97\uff0f\u771f\u507d\u5024\uff0fNone\uff0f\u6587\u5b57\u5217\uff0f\u30ea\u30b9\u30c8\uff0f\u30bf\u30d7\u30eb\uff0f\u96c6\u5408\uff0f\u8f9e\u66f8\u306b\u3064\u3044\u3066\n",
        "\n",
        "---\n",
        "\n",
        "- ref: https://docs.python.org/ja/3.7/tutorial/introduction.html\n",
        "- blog: https://slash-z.com/\n",
        "- github: https://github.com/KazutoMakino/PythonCourses\n",
        "\n",
        "\u6ce8\u610f\uff1a\u5168\u3066\u306b\u3064\u3044\u3066\u8aac\u660e\u306f\u305b\u305a\uff0c\u826f\u304f\u4f7f\u308f\u308c\u308b\u51e6\u7406\u306e\u307f\u306b\u3064\u3044\u3066\u8a18\u8f09\u3044\u305f\u3057\u307e\u3059"
      ]
    },
    {
      "cell_type": "markdown",
      "metadata": {},
      "source": [
        "---\n",
        "## 0. \u76ee\u6b21: <a class=\"anchor\" id=\"0\"></a>\n",
        "\n",
        "1. [\u57fa\u672c\u7684\u306a\u6f14\u7b97\uff0f\u771f\u507d\u5024\uff0fNone](#1)\n",
        "2. [\u6587\u5b57\u5217](#2)\n",
        "3. [\u30ea\u30b9\u30c8](#3)\n",
        "4. [\u30bf\u30d7\u30eb](#4)\n",
        "5. [\u96c6\u5408](#5)\n",
        "6. [\u8f9e\u66f8](#6)\n"
      ]
    },
    {
      "cell_type": "markdown",
      "metadata": {},
      "source": [
        "---\n",
        "\n",
        "## 1. \u57fa\u672c\u7684\u306a\u6f14\u7b97\uff0f\u771f\u507d\u5024\uff0fNone <a class=\"anchor\" id=\"1\"></a>  \n",
        "[\u76ee\u6b21\u306b\u623b\u308b](#0)  "
      ]
    },
    {
      "cell_type": "markdown",
      "metadata": {},
      "source": [
        "\u56db\u5247\u6f14\u7b97\uff1a"
      ]
    },
    {
      "cell_type": "code",
      "execution_count": 1,
      "metadata": {},
      "outputs": [
        {
          "data": {
            "text/plain": [
              "5"
            ]
          },
          "execution_count": 1,
          "metadata": {},
          "output_type": "execute_result"
        }
      ],
      "source": [
        "2 + 3"
      ]
    },
    {
      "cell_type": "code",
      "execution_count": 2,
      "metadata": {},
      "outputs": [
        {
          "data": {
            "text/plain": [
              "-1"
            ]
          },
          "execution_count": 2,
          "metadata": {},
          "output_type": "execute_result"
        }
      ],
      "source": [
        "2 - 3"
      ]
    },
    {
      "cell_type": "code",
      "execution_count": 3,
      "metadata": {},
      "outputs": [
        {
          "data": {
            "text/plain": [
              "6"
            ]
          },
          "execution_count": 3,
          "metadata": {},
          "output_type": "execute_result"
        }
      ],
      "source": [
        "2 * 3"
      ]
    },
    {
      "cell_type": "code",
      "execution_count": 4,
      "metadata": {},
      "outputs": [
        {
          "data": {
            "text/plain": [
              "0.6666666666666666"
            ]
          },
          "execution_count": 4,
          "metadata": {},
          "output_type": "execute_result"
        }
      ],
      "source": [
        "2 / 3"
      ]
    },
    {
      "cell_type": "code",
      "execution_count": 5,
      "metadata": {},
      "outputs": [
        {
          "data": {
            "text/plain": [
              "3.0"
            ]
          },
          "execution_count": 5,
          "metadata": {},
          "output_type": "execute_result"
        }
      ],
      "source": [
        "3 / (2 - 1)"
      ]
    },
    {
      "cell_type": "markdown",
      "metadata": {},
      "source": [
        "\u3079\u304d\u4e57\uff1a"
      ]
    },
    {
      "cell_type": "code",
      "execution_count": 6,
      "metadata": {},
      "outputs": [
        {
          "data": {
            "text/plain": [
              "8"
            ]
          },
          "execution_count": 6,
          "metadata": {},
          "output_type": "execute_result"
        }
      ],
      "source": [
        "2**3"
      ]
    },
    {
      "cell_type": "markdown",
      "metadata": {},
      "source": [
        "\u9664\u6cd5\u306b\u304a\u3051\u308b\u5546\u3068\u4f59\u308a\uff1a"
      ]
    },
    {
      "cell_type": "code",
      "execution_count": 7,
      "metadata": {},
      "outputs": [
        {
          "data": {
            "text/plain": [
              "2"
            ]
          },
          "execution_count": 7,
          "metadata": {},
          "output_type": "execute_result"
        }
      ],
      "source": [
        "5 // 2"
      ]
    },
    {
      "cell_type": "code",
      "execution_count": 8,
      "metadata": {},
      "outputs": [
        {
          "data": {
            "text/plain": [
              "1"
            ]
          },
          "execution_count": 8,
          "metadata": {},
          "output_type": "execute_result"
        }
      ],
      "source": [
        "5 % 2"
      ]
    },
    {
      "cell_type": "markdown",
      "metadata": {},
      "source": [
        "\u4ee3\u5165\u6f14\u7b97\uff1a"
      ]
    },
    {
      "cell_type": "code",
      "execution_count": 9,
      "metadata": {},
      "outputs": [
        {
          "data": {
            "text/plain": [
              "(10, 5)"
            ]
          },
          "execution_count": 9,
          "metadata": {},
          "output_type": "execute_result"
        }
      ],
      "source": [
        "base = 10\n",
        "height = 5\n",
        "base, height"
      ]
    },
    {
      "cell_type": "code",
      "execution_count": 10,
      "metadata": {},
      "outputs": [
        {
          "data": {
            "text/plain": [
              "25.0"
            ]
          },
          "execution_count": 10,
          "metadata": {},
          "output_type": "execute_result"
        }
      ],
      "source": [
        "triangle_area = base * height / 2\n",
        "triangle_area"
      ]
    },
    {
      "cell_type": "markdown",
      "metadata": {},
      "source": [
        "\u5b9a\u7fa9\u3084\u5024\u304c\u4ee3\u5165\u3055\u308c\u3066\u3044\u306a\u3044\u5909\u6570\u3092\u4f7f\u304a\u3046\u3068\u3059\u308b\u3068\uff0c\u30a8\u30e9\u30fc\u3092\u8fd4\u3057\u307e\u3059"
      ]
    },
    {
      "cell_type": "code",
      "execution_count": 11,
      "metadata": {},
      "outputs": [
        {
          "ename": "NameError",
          "evalue": "name 'trapezoidal_area' is not defined",
          "output_type": "error",
          "traceback": [
            "\u001b[1;31m---------------------------------------------------------------------------\u001b[0m",
            "\u001b[1;31mNameError\u001b[0m                                 Traceback (most recent call last)",
            "\u001b[1;32m~\\AppData\\Local\\Temp/ipykernel_4472/1289577273.py\u001b[0m in \u001b[0;36m<module>\u001b[1;34m\u001b[0m\n\u001b[1;32m----> 1\u001b[1;33m \u001b[0mtrapezoidal_area\u001b[0m\u001b[1;33m\u001b[0m\u001b[1;33m\u001b[0m\u001b[0m\n\u001b[0m",
            "\u001b[1;31mNameError\u001b[0m: name 'trapezoidal_area' is not defined"
          ]
        }
      ],
      "source": [
        "trapezoidal_area"
      ]
    },
    {
      "cell_type": "markdown",
      "metadata": {},
      "source": [
        "\u5909\u6570\u540d\u306e\u982d\u6587\u5b57\u306f\u30a2\u30eb\u30d5\u30a1\u30d9\u30c3\u30c8\u306b\u3057\u3066\u304f\u3060\u3055\u3044\uff0e\u30a2\u30f3\u30c0\u30fc\u30d0\u30fc `_` \u3092\u4f7f\u3046\u3053\u3068\u3082\u3067\u304d\u307e\u3059\u304c\uff0c\u30b3\u30fc\u30c9\u898f\u7d04\u306b\u3088\u308a\u4f7f\u3044\u3069\u3053\u308d\u304c\u7570\u306a\u308a\u307e\u3059\uff0e"
      ]
    },
    {
      "cell_type": "code",
      "execution_count": 12,
      "metadata": {},
      "outputs": [
        {
          "ename": "SyntaxError",
          "evalue": "invalid decimal literal (Temp/ipykernel_4472/3060862857.py, line 1)",
          "output_type": "error",
          "traceback": [
            "\u001b[1;36m  File \u001b[1;32m\"C:\\Users\\Kazuto\\AppData\\Local\\Temp/ipykernel_4472/3060862857.py\"\u001b[1;36m, line \u001b[1;32m1\u001b[0m\n\u001b[1;33m    2_pi_r\u001b[0m\n\u001b[1;37m     ^\u001b[0m\n\u001b[1;31mSyntaxError\u001b[0m\u001b[1;31m:\u001b[0m invalid decimal literal\n"
          ]
        }
      ],
      "source": [
        "2_pi_r"
      ]
    },
    {
      "cell_type": "markdown",
      "metadata": {},
      "source": [
        "\u30d6\u30fc\u30eb\u6f14\u7b97\uff0c\u53ca\u3073\uff0c\u6bd4\u8f03\u306b\u304a\u3051\u308b\u6f14\u7b97\u5b50\u306f\uff0c\u6b21\u306e\u8868\u306b\u307e\u3068\u3081\u3089\u308c\uff0c\u6761\u4ef6\u5f0f\u306a\u3069\u3067\u826f\u304f\u7528\u3044\u3089\u308c\u307e\u3059\uff0e"
      ]
    },
    {
      "cell_type": "markdown",
      "metadata": {},
      "source": [
        "| \u6f14\u7b97 | \u7d50\u679c |\n",
        "| ---- | ---- |\n",
        "| `x or y` | x \u304c\u507d\u306a\u3089 y, \u305d\u3046\u3067\u306a\u3051\u308c\u3070 x |\n",
        "| `x and y` | x \u304c\u507d\u306a\u3089 x, \u305d\u3046\u3067\u306a\u3051\u308c\u3070 y |\n",
        "| `not x` | x \u304c\u507d\u306a\u3089 True, \u305d\u3046\u3067\u306a\u3051\u308c\u3070 False |\n",
        "| `<` | \u3088\u308a\u5c0f\u3055\u3044 |\n",
        "| `<=` | \u4ee5\u4e0b |\n",
        "| `>` | \u3088\u308a\u5927\u304d\u3044 |\n",
        "| `>=` | \u4ee5\u4e0a |\n",
        "| `==` | \u7b49\u3057\u3044 |\n",
        "| `!=` | \u7b49\u3057\u304f\u306a\u3044 |\n",
        "| `is` | \u540c\u4e00\u306e\u30aa\u30d6\u30b8\u30a7\u30af\u30c8\u3067\u3042\u308b |\n",
        "| `is not` | \u540c\u4e00\u306e\u30aa\u30d6\u30b8\u30a7\u30af\u30c8\u3067\u306a\u3044 |"
      ]
    },
    {
      "cell_type": "markdown",
      "metadata": {},
      "source": [
        "https://docs.python.org/ja/3.7/library/stdtypes.html"
      ]
    },
    {
      "cell_type": "code",
      "execution_count": 13,
      "metadata": {},
      "outputs": [
        {
          "data": {
            "text/plain": [
              "True"
            ]
          },
          "execution_count": 13,
          "metadata": {},
          "output_type": "execute_result"
        }
      ],
      "source": [
        "1 < 3"
      ]
    },
    {
      "cell_type": "code",
      "execution_count": 14,
      "metadata": {},
      "outputs": [
        {
          "data": {
            "text/plain": [
              "False"
            ]
          },
          "execution_count": 14,
          "metadata": {},
          "output_type": "execute_result"
        }
      ],
      "source": [
        "1 > 3"
      ]
    },
    {
      "cell_type": "code",
      "execution_count": 15,
      "metadata": {},
      "outputs": [
        {
          "data": {
            "text/plain": [
              "False"
            ]
          },
          "execution_count": 15,
          "metadata": {},
          "output_type": "execute_result"
        }
      ],
      "source": [
        "1 == 3"
      ]
    },
    {
      "cell_type": "code",
      "execution_count": 16,
      "metadata": {},
      "outputs": [
        {
          "data": {
            "text/plain": [
              "True"
            ]
          },
          "execution_count": 16,
          "metadata": {},
          "output_type": "execute_result"
        }
      ],
      "source": [
        "1 != 3"
      ]
    },
    {
      "cell_type": "code",
      "execution_count": 17,
      "metadata": {},
      "outputs": [
        {
          "name": "stderr",
          "output_type": "stream",
          "text": [
            "<>:1: SyntaxWarning: \"is\" with a literal. Did you mean \"==\"?\n",
            "<>:1: SyntaxWarning: \"is\" with a literal. Did you mean \"==\"?\n",
            "C:\\Users\\Kazuto\\AppData\\Local\\Temp/ipykernel_4472/2297060732.py:1: SyntaxWarning: \"is\" with a literal. Did you mean \"==\"?\n",
            "  \"a\" is \"b\"\n"
          ]
        },
        {
          "data": {
            "text/plain": [
              "False"
            ]
          },
          "execution_count": 17,
          "metadata": {},
          "output_type": "execute_result"
        }
      ],
      "source": [
        "\"a\" is \"b\""
      ]
    },
    {
      "cell_type": "code",
      "execution_count": 18,
      "metadata": {},
      "outputs": [
        {
          "name": "stderr",
          "output_type": "stream",
          "text": [
            "<>:1: SyntaxWarning: \"is not\" with a literal. Did you mean \"!=\"?\n",
            "<>:1: SyntaxWarning: \"is not\" with a literal. Did you mean \"!=\"?\n",
            "C:\\Users\\Kazuto\\AppData\\Local\\Temp/ipykernel_4472/1898745988.py:1: SyntaxWarning: \"is not\" with a literal. Did you mean \"!=\"?\n",
            "  \"a\" is not \"b\"\n"
          ]
        },
        {
          "data": {
            "text/plain": [
              "True"
            ]
          },
          "execution_count": 18,
          "metadata": {},
          "output_type": "execute_result"
        }
      ],
      "source": [
        "\"a\" is not \"b\""
      ]
    },
    {
      "cell_type": "markdown",
      "metadata": {},
      "source": [
        "\u3053\u3053\u3067\u51fa\u529b\u3055\u308c\u305f `True`, `False` \u306f bool \u578b\u3067\u3042\u308a\uff0c\u6574\u6570\u578b\u306e\u30b5\u30d6\u30af\u30e9\u30b9\uff08\u5b50\u4f9b\u307f\u305f\u3044\u306a\u95a2\u4fc2\uff09\u306a\u306e\u3067\uff0c\u305d\u308c\u305e\u308c `True` \u306f 1\uff0c`False` \u306f 0 \u3092\u8868\u3059\u306e\u3067\u8db3\u3057\u7b97\u304c\u53ef\u80fd\u3067\u3059\uff0e"
      ]
    },
    {
      "cell_type": "code",
      "execution_count": 19,
      "metadata": {},
      "outputs": [
        {
          "data": {
            "text/plain": [
              "0.5"
            ]
          },
          "execution_count": 19,
          "metadata": {},
          "output_type": "execute_result"
        }
      ],
      "source": [
        "(True + False) / (True + True) "
      ]
    },
    {
      "cell_type": "markdown",
      "metadata": {
        "tags": []
      },
      "source": [
        "`==` \u3068 `is` \u306e\u9055\u3044\u306b\u3064\u3044\u3066\uff0c`==` \u306f\u5024\u304c\u540c\u3058\u304b\u3092\u5224\u5b9a\u3059\u308b\u306e\u306b\u5bfe\u3057\uff0c`is` \u306f\u751f\u6210\u3055\u308c\u305f\u30aa\u30d6\u30b8\u30a7\u30af\u30c8\u306e\u8b58\u5225\u5024 `id` \u304c\u540c\u3058\u304b\u3069\u3046\u304b\u3092\u898b\u308b\u305f\u3081\uff0c\u4ee5\u4e0b\u306e\u3088\u3046\u306b\uff0c`True == 1` \u306f `True` \u3067\u3059\u304c\uff0c`True is 1` \u306f `False` \u304c\u8fd4\u3063\u3066\u304d\u307e\u3059\uff0e"
      ]
    },
    {
      "cell_type": "code",
      "execution_count": 20,
      "metadata": {
        "tags": []
      },
      "outputs": [
        {
          "name": "stderr",
          "output_type": "stream",
          "text": [
            "<>:1: SyntaxWarning: \"is\" with a literal. Did you mean \"==\"?\n",
            "<>:1: SyntaxWarning: \"is\" with a literal. Did you mean \"==\"?\n",
            "<>:1: SyntaxWarning: \"is\" with a literal. Did you mean \"==\"?\n",
            "<>:1: SyntaxWarning: \"is\" with a literal. Did you mean \"==\"?\n",
            "C:\\Users\\Kazuto\\AppData\\Local\\Temp/ipykernel_4472/883044353.py:1: SyntaxWarning: \"is\" with a literal. Did you mean \"==\"?\n",
            "  True == 1, True is 1, False == 0, False is 0\n",
            "C:\\Users\\Kazuto\\AppData\\Local\\Temp/ipykernel_4472/883044353.py:1: SyntaxWarning: \"is\" with a literal. Did you mean \"==\"?\n",
            "  True == 1, True is 1, False == 0, False is 0\n"
          ]
        },
        {
          "data": {
            "text/plain": [
              "(True, False, True, False)"
            ]
          },
          "execution_count": 20,
          "metadata": {},
          "output_type": "execute_result"
        }
      ],
      "source": [
        "True == 1, True is 1, False == 0, False is 0"
      ]
    },
    {
      "cell_type": "markdown",
      "metadata": {},
      "source": [
        "\u4ed6\u306b\u306f\uff0c\u4f55\u3082\u306a\u3044\u3092\u8868\u3059 `None` \u3068\u3044\u3046\u3082\u306e\u3082\u3042\u308a\uff0c`False` \u3068\u7570\u306a\u308a 0 \u3067\u306f\u3042\u308a\u307e\u305b\u3093\uff0e\u5b9f\u969b\uff0cNone \u306e\u307f\u3092\u5b9f\u884c\u3057\u3066\u307f\u308b\u3068\u8fd4\u308a\u5024\u304c\u7121\u3044\u306e\u3067\uff0c\u30a4\u30f3\u30bf\u30e9\u30af\u30c6\u30a3\u30d6\u30b7\u30a7\u30eb\u3067\u306f\u51fa\u529b\u304c\u3042\u308a\u307e\u305b\u3093\uff0e"
      ]
    },
    {
      "cell_type": "code",
      "execution_count": 21,
      "metadata": {},
      "outputs": [],
      "source": [
        "None"
      ]
    },
    {
      "cell_type": "code",
      "execution_count": 22,
      "metadata": {},
      "outputs": [
        {
          "data": {
            "text/plain": [
              "False"
            ]
          },
          "execution_count": 22,
          "metadata": {},
          "output_type": "execute_result"
        }
      ],
      "source": [
        "None is False"
      ]
    },
    {
      "cell_type": "code",
      "execution_count": 23,
      "metadata": {},
      "outputs": [
        {
          "data": {
            "text/plain": [
              "False"
            ]
          },
          "execution_count": 23,
          "metadata": {},
          "output_type": "execute_result"
        }
      ],
      "source": [
        "None == 0"
      ]
    },
    {
      "cell_type": "code",
      "execution_count": 24,
      "metadata": {},
      "outputs": [
        {
          "data": {
            "text/plain": [
              "True"
            ]
          },
          "execution_count": 24,
          "metadata": {},
          "output_type": "execute_result"
        }
      ],
      "source": [
        "None is None"
      ]
    },
    {
      "cell_type": "code",
      "execution_count": 25,
      "metadata": {},
      "outputs": [
        {
          "data": {
            "text/plain": [
              "True"
            ]
          },
          "execution_count": 25,
          "metadata": {},
          "output_type": "execute_result"
        }
      ],
      "source": [
        "None == None"
      ]
    },
    {
      "cell_type": "markdown",
      "metadata": {},
      "source": [
        "---\n",
        "\n",
        "## 2. \u6587\u5b57\u5217 <a class=\"anchor\" id=\"2\"></a>  \n",
        "[\u76ee\u6b21\u306b\u623b\u308b](#0)  "
      ]
    },
    {
      "cell_type": "markdown",
      "metadata": {},
      "source": [
        "\u6587\u5b57\u5217\u3092\u56f2\u3046\u306e\u306f\uff0c\u30c0\u30d6\u30eb\u30af\u30a9\u30fc\u30c6\u30fc\u30b7\u30e7\u30f3\u3068\u30b7\u30f3\u30b0\u30eb\u30af\u30a9\u30fc\u30c6\u30fc\u30b7\u30e7\u30f3\u306e\u3069\u3061\u3089\u3067\u3082\u69cb\u3044\u307e\u305b\u3093\uff0e"
      ]
    },
    {
      "cell_type": "code",
      "execution_count": 26,
      "metadata": {},
      "outputs": [
        {
          "data": {
            "text/plain": [
              "'hello'"
            ]
          },
          "execution_count": 26,
          "metadata": {},
          "output_type": "execute_result"
        }
      ],
      "source": [
        "\"hello\""
      ]
    },
    {
      "cell_type": "code",
      "execution_count": 27,
      "metadata": {},
      "outputs": [
        {
          "data": {
            "text/plain": [
              "'world'"
            ]
          },
          "execution_count": 27,
          "metadata": {},
          "output_type": "execute_result"
        }
      ],
      "source": [
        "'world'"
      ]
    },
    {
      "cell_type": "markdown",
      "metadata": {},
      "source": [
        "python\u3067\u306f\u6587\u5b57\u5217\u3069\u3046\u3057\u3067\u3042\u308c\u3070\u666e\u901a\u306b\u8db3\u3057\u7b97\u3067\u304f\u3063\u3064\u3051\u308b\u3053\u3068\u304c\u3067\u304d\u307e\u3059\uff0e"
      ]
    },
    {
      "cell_type": "code",
      "execution_count": 28,
      "metadata": {},
      "outputs": [
        {
          "data": {
            "text/plain": [
              "'hello world'"
            ]
          },
          "execution_count": 28,
          "metadata": {},
          "output_type": "execute_result"
        }
      ],
      "source": [
        "hello = \"hello\"\n",
        "hello + \" \" + \"world\""
      ]
    },
    {
      "cell_type": "markdown",
      "metadata": {},
      "source": [
        "\u5b9f\u306f\uff0c\u4e0a\u8a18\u64cd\u4f5c\u306f\u52a0\u6cd5\u306e\u8a18\u53f7\u306f\u4e0d\u8981\u3067\u3059\uff0e\u3057\u304b\u3057\uff0c+ \u3092\u4ed8\u3051\u305f\u65b9\u304c\u898b\u3084\u3059\u3044\u3067\u3059\u306d\uff0e"
      ]
    },
    {
      "cell_type": "code",
      "execution_count": 29,
      "metadata": {},
      "outputs": [
        {
          "data": {
            "text/plain": [
              "'hello world'"
            ]
          },
          "execution_count": 29,
          "metadata": {},
          "output_type": "execute_result"
        }
      ],
      "source": [
        "\"hello\" \" \" \"world\""
      ]
    },
    {
      "cell_type": "markdown",
      "metadata": {},
      "source": [
        "\u6e1b\u6cd5\uff0c\u9664\u6cd5\u306b\u3088\u308b\u6587\u5b57\u5217\u306e\u64cd\u4f5c\u306f\u3067\u304d\u307e\u305b\u3093"
      ]
    },
    {
      "cell_type": "code",
      "execution_count": 30,
      "metadata": {},
      "outputs": [
        {
          "ename": "TypeError",
          "evalue": "unsupported operand type(s) for -: 'str' and 'str'",
          "output_type": "error",
          "traceback": [
            "\u001b[1;31m---------------------------------------------------------------------------\u001b[0m",
            "\u001b[1;31mTypeError\u001b[0m                                 Traceback (most recent call last)",
            "\u001b[1;32m~\\AppData\\Local\\Temp/ipykernel_4472/3308442367.py\u001b[0m in \u001b[0;36m<module>\u001b[1;34m\u001b[0m\n\u001b[1;32m----> 1\u001b[1;33m \u001b[0mhello\u001b[0m \u001b[1;33m-\u001b[0m \u001b[1;34m\"h\"\u001b[0m\u001b[1;33m\u001b[0m\u001b[1;33m\u001b[0m\u001b[0m\n\u001b[0m",
            "\u001b[1;31mTypeError\u001b[0m: unsupported operand type(s) for -: 'str' and 'str'"
          ]
        }
      ],
      "source": [
        "hello - \"h\""
      ]
    },
    {
      "cell_type": "markdown",
      "metadata": {},
      "source": [
        "\u6587\u5b57\u5217\u306e\u7e70\u308a\u8fd4\u3057\u306f\u639b\u3051\u7b97\u306e\u8a18\u53f7\u306b\u3066\u53ef\u80fd\u3067\u3059\uff0e"
      ]
    },
    {
      "cell_type": "code",
      "execution_count": 31,
      "metadata": {},
      "outputs": [
        {
          "data": {
            "text/plain": [
              "'hellohellohellohellohello'"
            ]
          },
          "execution_count": 31,
          "metadata": {},
          "output_type": "execute_result"
        }
      ],
      "source": [
        "hello * 5"
      ]
    },
    {
      "cell_type": "markdown",
      "metadata": {},
      "source": [
        "\u6587\u5b57\u5217\u306f\u914d\u5217\u306e\u3088\u3046\u306a\u6271\u3044\u304c\u3067\u304d\u307e\u3059\uff0epython\u306e\u914d\u5217\u306f C \u8a00\u8a9e\u3068\u540c\u3058\u304f 0 \u304b\u3089\u59cb\u307e\u308a\uff0c\u914d\u5217\u756a\u53f7\u306f `[ ]` \u306e\u4e2d\u306b\u6574\u6570\u5024\u3067\u6307\u5b9a\u3057\u307e\u3059\uff0e\u4f8b\u3048\u3070\uff0c\"hello\" \u306e 2 \u6587\u5b57\u76ee\u306e \"e\" \u3092\u629c\u304d\u51fa\u305d\u3046\u3068\u3059\u308b\u3068\uff0c"
      ]
    },
    {
      "cell_type": "code",
      "execution_count": 32,
      "metadata": {},
      "outputs": [
        {
          "data": {
            "text/plain": [
              "'e'"
            ]
          },
          "execution_count": 32,
          "metadata": {},
          "output_type": "execute_result"
        }
      ],
      "source": [
        "hello[1]"
      ]
    },
    {
      "cell_type": "markdown",
      "metadata": {},
      "source": [
        "\u3068\u306a\u308a\u307e\u3059\uff0e\u5206\u304b\u308a\u306b\u304f\u3044\u306e\u3067 \"abcde\" \u3068\u3044\u3046\u914d\u5217\u3092\u751f\u6210\u3057\uff0c\u305d\u308c\u305e\u308c\u306e\u6587\u5b57\u3092\u629c\u304d\u51fa\u3059\u3068\uff0c"
      ]
    },
    {
      "cell_type": "code",
      "execution_count": 33,
      "metadata": {},
      "outputs": [
        {
          "data": {
            "text/plain": [
              "('a', 'b', 'c', 'd', 'e')"
            ]
          },
          "execution_count": 33,
          "metadata": {},
          "output_type": "execute_result"
        }
      ],
      "source": [
        "a_e = \"abcde\"\n",
        "a_e[0], a_e[1], a_e[2], a_e[3], a_e[4]"
      ]
    },
    {
      "cell_type": "markdown",
      "metadata": {},
      "source": [
        "a_e \u306b 6 \u6587\u5b57\u76ee\u306f\u7121\u3044\u306e\u3067\uff0c5 (= 6 - 1) \u3092\u914d\u5217\u756a\u53f7\u306b\u6307\u5b9a\u3059\u308b\u3068\uff0c\u4ee5\u4e0b\u306e\u901a\u308a\u30a8\u30e9\u30fc\u306b\u306a\u308a\u307e\u3059\uff0e"
      ]
    },
    {
      "cell_type": "code",
      "execution_count": 34,
      "metadata": {},
      "outputs": [
        {
          "ename": "IndexError",
          "evalue": "string index out of range",
          "output_type": "error",
          "traceback": [
            "\u001b[1;31m---------------------------------------------------------------------------\u001b[0m",
            "\u001b[1;31mIndexError\u001b[0m                                Traceback (most recent call last)",
            "\u001b[1;32m~\\AppData\\Local\\Temp/ipykernel_4472/1358315151.py\u001b[0m in \u001b[0;36m<module>\u001b[1;34m\u001b[0m\n\u001b[1;32m----> 1\u001b[1;33m \u001b[0ma_e\u001b[0m\u001b[1;33m[\u001b[0m\u001b[1;36m5\u001b[0m\u001b[1;33m]\u001b[0m\u001b[1;33m\u001b[0m\u001b[1;33m\u001b[0m\u001b[0m\n\u001b[0m",
            "\u001b[1;31mIndexError\u001b[0m: string index out of range"
          ]
        }
      ],
      "source": [
        "a_e[5]"
      ]
    },
    {
      "cell_type": "markdown",
      "metadata": {},
      "source": [
        "\u4e0a\u8a18\u306b\u304a\u3044\u3066\u914d\u5217\u756a\u53f7\u306f\u6b63\u306e\u6574\u6570\u3092\u8a18\u5165\u3057\u3066\u3044\u307e\u3057\u305f\u304c\uff0c\u8ca0\u306e\u6574\u6570\u3092\u8a18\u8f09\u3057\u305f\u5834\u5408\u306f\uff0c\u5f8c\u308d\u304b\u3089\u6570\u3048\u3066\u4f55\u756a\u76ee\u304b\u3092\u793a\u3057\u307e\u3059\uff0e"
      ]
    },
    {
      "cell_type": "code",
      "execution_count": 35,
      "metadata": {},
      "outputs": [
        {
          "data": {
            "text/plain": [
              "('e', 'd', 'c', 'b', 'a')"
            ]
          },
          "execution_count": 35,
          "metadata": {},
          "output_type": "execute_result"
        }
      ],
      "source": [
        "a_e[-1], a_e[-2], a_e[-3], a_e[-4], a_e[-5]"
      ]
    },
    {
      "cell_type": "markdown",
      "metadata": {},
      "source": [
        "1 \u3064\u306e\u8981\u7d20\u3067\u306a\u304f\u7bc4\u56f2\u6307\u5b9a\u3057\u305f 2 \u3064\u4ee5\u4e0a\u306e\u8981\u7d20\u3092\u6307\u5b9a\u3057\u305f\u3044\u5834\u5408\u306f\uff0c\"\u30b9\u30e9\u30a4\u30b9\" \u3068\u547c\u3070\u308c\u308b\u64cd\u4f5c\u3092\u884c\u3044\u307e\u3059\uff0e\u30b9\u30e9\u30a4\u30b9\u306f `\u5909\u6570[i:j]` \u3068\u3044\u3046\u3075\u3046\u306b\u8a18\u8f09\u3057\uff0c\u3053\u306e\u5834\u5408\uff0c$i <= k < j$ \u306e\u8981\u7d20\u756a\u53f7 k \u306b\u304a\u3051\u308b\u5024\u3092\u53d6\u5f97\u3057\u307e\u3059\uff0e"
      ]
    },
    {
      "cell_type": "code",
      "execution_count": 36,
      "metadata": {},
      "outputs": [
        {
          "data": {
            "text/plain": [
              "('bc', 'd', 'bcde', 'ab', 'abc')"
            ]
          },
          "execution_count": 36,
          "metadata": {},
          "output_type": "execute_result"
        }
      ],
      "source": [
        "a_e[1:3], a_e[3:-1], a_e[1:], a_e[:-3], a_e[1-1 : 4-1]"
      ]
    },
    {
      "cell_type": "markdown",
      "metadata": {},
      "source": [
        "\u4ee5\u4e0b\u306e\u901a\u308a\uff0cpython\u306b\u304a\u3044\u3066\u8981\u7d20\u756a\u53f7\u3092\u7528\u3044\u305f\u6587\u5b57\u5217\u306e\u5909\u66f4\u306f\u3067\u304d\u307e\u305b\u3093\uff0e"
      ]
    },
    {
      "cell_type": "code",
      "execution_count": 37,
      "metadata": {},
      "outputs": [
        {
          "ename": "TypeError",
          "evalue": "'str' object does not support item assignment",
          "output_type": "error",
          "traceback": [
            "\u001b[1;31m---------------------------------------------------------------------------\u001b[0m",
            "\u001b[1;31mTypeError\u001b[0m                                 Traceback (most recent call last)",
            "\u001b[1;32m~\\AppData\\Local\\Temp/ipykernel_4472/3479971852.py\u001b[0m in \u001b[0;36m<module>\u001b[1;34m\u001b[0m\n\u001b[1;32m----> 1\u001b[1;33m \u001b[0ma_e\u001b[0m\u001b[1;33m[\u001b[0m\u001b[1;33m-\u001b[0m\u001b[1;36m1\u001b[0m\u001b[1;33m]\u001b[0m \u001b[1;33m=\u001b[0m \u001b[1;34m\"zzz\"\u001b[0m\u001b[1;33m\u001b[0m\u001b[1;33m\u001b[0m\u001b[0m\n\u001b[0m\u001b[0;32m      2\u001b[0m \u001b[0ma_e\u001b[0m\u001b[1;33m\u001b[0m\u001b[1;33m\u001b[0m\u001b[0m\n",
            "\u001b[1;31mTypeError\u001b[0m: 'str' object does not support item assignment"
          ]
        }
      ],
      "source": [
        "a_e[-1] = \"zzz\"\n",
        "a_e"
      ]
    },
    {
      "cell_type": "markdown",
      "metadata": {},
      "source": [
        "\u5909\u6570\u3092\u4ee3\u5165\u3057\u305f\u6587\u5b57\u5217\u3092\u751f\u6210\u3057\u305f\u3044\u5834\u5408\u306f\uff0cf-string \u3068\u547c\u3070\u308c\u308b\u4ed5\u7d44\u307f\u3092\u7528\u3044\u308b\u3053\u3068\u304c\u3067\u304d\u307e\u3059\uff08\u4ed6\u306b\u3082`.format()` \u3084 `%` \u3092\u7528\u3044\u305f\u65b9\u6cd5\u3082\u3042\u308a\u307e\u3059\u304c\uff0cf-string \u304c\u30aa\u30b9\u30b9\u30e1\u3067\u3059\uff09\uff0e`f\"\u4efb\u610f\u306e\u6587\u5b57\u5217 {\u5909\u6570\u540d}\" ` \u3068\u3044\u3046\u3075\u3046\u306b\uff0c\u6587\u5b57\u5217\u3092\u8868\u3059\u30af\u30a9\u30fc\u30c6\u30fc\u30b7\u30e7\u30f3\u306e\u524d\u306b `f` \u3092\u8a18\u8f09\u3057\u307e\u3059\uff0e"
      ]
    },
    {
      "cell_type": "code",
      "execution_count": 38,
      "metadata": {},
      "outputs": [
        {
          "data": {
            "text/plain": [
              "'a to e = abcde, 10 / 2 = 5.0, 1/3=0.3333333333333333'"
            ]
          },
          "execution_count": 38,
          "metadata": {},
          "output_type": "execute_result"
        }
      ],
      "source": [
        "f\"a to e = {a_e}, 10 / 2 = {10 / 2}, 1/3={1/3}\""
      ]
    },
    {
      "cell_type": "markdown",
      "metadata": {},
      "source": [
        "\u6587\u5b57\u5217\u306f\uff0c\u4e09\u9023\u5f15\u7528\u7b26\uff1a`\"\"\" \u6587\u7ae0 \"\"\"` \u306e\u3088\u3046\u306b\u3059\u308b\u3053\u3068\u3067\uff0c\u8907\u6570\u884c\u306b\u6e21\u3063\u3066\u66f8\u304f\u3053\u3068\u304c\u53ef\u80fd\u3067\u3059\uff0e"
      ]
    },
    {
      "cell_type": "code",
      "execution_count": 39,
      "metadata": {},
      "outputs": [
        {
          "data": {
            "text/plain": [
              "'\\na\\nb\\nc\\nd\\ne\\n'"
            ]
          },
          "execution_count": 39,
          "metadata": {},
          "output_type": "execute_result"
        }
      ],
      "source": [
        "\"\"\"\n",
        "a\n",
        "b\n",
        "c\n",
        "d\n",
        "e\n",
        "\"\"\""
      ]
    },
    {
      "cell_type": "markdown",
      "metadata": {},
      "source": [
        "\u3053\u3053\u3067 `\\n` \u306f\u6539\u884c\u3092\u8868\u3057\uff0c\u74b0\u5883\u306b\u304a\u3051\u308b\u6539\u884c\u30b3\u30fc\u30c9\u8a2d\u5b9a\u306b\u3088\u3063\u3066\u5909\u308f\u308a\u307e\u3059\uff0e\u6539\u884c\u30b3\u30fc\u30c9\u306f wikipedia \u3092\u53c2\u7167\u3059\u308b\u3068\uff0c"
      ]
    },
    {
      "cell_type": "markdown",
      "metadata": {},
      "source": [
        "> \u6539\u884c\u30b3\u30fc\u30c9\uff08\u5e83\u7fa9\uff09\u306f\u4ee5\u4e0b\u306e2\u7a2e\u985e\u3067\u3042\u308a\u3001\u30b7\u30b9\u30c6\u30e0\uff08\u30bd\u30d5\u30c8\u30a6\u30a7\u30a2\uff09\u306b\u3088\u308a\u7247\u65b9\u307e\u305f\u306f\u4e21\u65b9\u304c\u4f7f\u7528\u3055\u308c\u308b\u3002\n",
        "    \u30ad\u30e3\u30ea\u30c3\u30b8\u30ea\u30bf\u30fc\u30f3\uff08\u82f1: carriage return\u3001CR\u3001\u5fa9\u5e30\uff09\n",
        "    \u30e9\u30a4\u30f3\u30d5\u30a3\u30fc\u30c9\uff08\u82f1: line feed\u3001LF\u3001\u72ed\u7fa9\u306e\u6539\u884c\uff09\u307e\u305f\u306f\u30cb\u30e5\u30fc\u30e9\u30a4\u30f3\uff08newline\u3001line break \u307e\u305f\u306f end-of-line\u3001EOL\uff09\n",
        "\u3053\u308c\u3089\u306e\u7528\u8a9e\u306f\u30bf\u30a4\u30d7\u30e9\u30a4\u30bf\u30fc\u304c\u7531\u6765\u3067\u3042\u308b\u3002\u30bf\u30a4\u30d7\u30e9\u30a4\u30bf\u30fc\u3067\u306f\u5370\u5b57\u88c5\u7f6e\u306f\u56fa\u5b9a\u3055\u308c\u3001\u7d19\u306e\u65b9\u304c\u4e0a\u4e0b\u5de6\u53f3\u306b\u79fb\u52d5\u3059\u308b\u3053\u3068\u3067\u3001\u6587\u5b57\u9001\u308a\u3084\u884c\u9001\u308a\u304c\u884c\u308f\u308c\u308b\u3002\u82f1\u8a9e\u306a\u3069\u306e\u5de6\u6a2a\u66f8\u304d\u306b\u304a\u3051\u308b\u300c\u30ad\u30e3\u30ea\u30c3\u30b8\u30ea\u30bf\u30fc\u30f3\u300d\u3068\u306f\u3001\u7d19\u3092\u56fa\u5b9a\u3057\u3066\u79fb\u52d5\u3059\u308b\u88c5\u7f6e\uff08\u30ad\u30e3\u30ea\u30c3\u30b8\uff09\u3092\u5143\u306e\u4f4d\u7f6e\u306b\u623b\u3059\uff08\u30ea\u30bf\u30fc\u30f3\u3001\u3064\u307e\u308a\u7d19\u306e\u5de6\u7aef\u306b\u5370\u5b57\u88c5\u7f6e\u304c\u6765\u308b\uff09\u3053\u3068\u3067\u3042\u308b\u3002\u300c\u30e9\u30a4\u30f3\u30d5\u30a3\u30fc\u30c9\u300d\u3068\u306f\u7d19\u3092\u5fc5\u8981\u306a\u884c\uff08\u30e9\u30a4\u30f3\uff09\u3060\u3051\u4e0a\u306b\u9001\u308b\uff08\u30d5\u30a3\u30fc\u30c9\u3001\u3064\u307e\u308a\u4e0b\u306e\u884c\u306b\u5370\u5b57\u88c5\u7f6e\u304c\u6765\u308b\uff09\u3053\u3068\u3067\u3042\u308b\u3002\n",
        "\u30b3\u30f3\u30d4\u30e5\u30fc\u30bf\u3067\u306f\u3001\u540c\u3058\u6587\u5b57\u30b3\u30fc\u30c9\u3092\u4f7f\u7528\u3057\u3066\u3044\u3066\u3082\u3001\u6539\u884c\u30b3\u30fc\u30c9\u306f\u7570\u306a\u308b\u5834\u5408\u304c\u3042\u308b\u305f\u3081\u3001\u7570\u306a\u308b\u30b7\u30b9\u30c6\u30e0\u9593\u3067\u306e\u30c7\u30fc\u30bf\u306e\u969b\u306b\u306f\u3001\u6539\u884c\u304c\u6b63\u78ba\u306b\u53cd\u6620\u3055\u308c\u306a\u3044\u5834\u5408\u304c\u3042\u308b\u3002"
      ]
    },
    {
      "cell_type": "markdown",
      "metadata": {},
      "source": [
        ">\u591a\u304f\u306e\u30b7\u30b9\u30c6\u30e0\u3067\u306f\u3001\u6539\u884c\u30b3\u30fc\u30c9\u30921\u3064\u307e\u305f\u306f\u9023\u7d9a\u3059\u308b2\u3064\u306e\u7279\u6b8a\u6587\u5b57\u3067\u8868\u3057\u3066\u3044\u308b\u3002\n",
        "ASCII\u6587\u5b57\u30b3\u30fc\u30c9\u306b\u57fa\u3065\u304f\u30b7\u30b9\u30c6\u30e0\u3067\u306f\u3001CR\uff08\u5fa9\u5e30\u30010x0D\uff09\u3001LF\uff08\u6539\u884c\u30010x0A\uff09\u3001\u307e\u305f\u306fCR+LF\u3067\u8868\u3057\u3066\u3044\u308b\u3002\n",
        "        LF:    UNIX\u3084Unix\u7cfb\u306e\u30b7\u30b9\u30c6\u30e0\u3002Linux\u3001AIX\u3001Xenix\u3001macOS\u3001BeOS\u3001Amiga\u3001RISC OS\u306a\u3069\u3002\n",
        "        CR+LF: CP/M\u3001MP/M\u3001MS-DOS\u3001OS/2\u3001Microsoft Windows\u3002\n",
        "        CR:    \u30b3\u30e2\u30c9\u30fc\u30eb\u306b\u3088\u308b\u30b7\u30b9\u30c6\u30e0\u3001Apple II\u30d5\u30a1\u30df\u30ea\u3001Mac OS\uff08\u30d0\u30fc\u30b8\u30e7\u30f39\u307e\u3067\uff09\u3001OS-9\u3002\n",
        "    Unicode\u3067\u306f\u3001CR\uff08U+000D\uff09\u3068LF\uff08U+000A\uff09\u306b\u52a0\u3048\u3066\u3001\u300c\u6b21\u306e\u884c\u300d\uff08next line\uff09\u3092\u793a\u3059NEL\uff08U+0085\uff09\u3001\u884c\u533a\u5207\u308a\u6587\u5b57\uff08line separator\uff09\u3092\u793a\u3059LS\uff08U+2028\uff09\u3001\u6bb5\u843d\u533a\u5207\u308a\u6587\u5b57\uff08paragraph separator\uff09\u3092\u793a\u3059PS\uff08U+2029\uff09\u304c\u63d0\u4f9b\u3055\u308c\u308b\u3002\n",
        "    EBCDIC\u30b7\u30b9\u30c6\u30e0\n",
        "IBM\u306e\u30e1\u30a4\u30f3\u30d5\u30ec\u30fc\u30e0\u30b7\u30b9\u30c6\u30e0\u3067\u306f\u4e3b\u306bNEL\uff08Next Line\u30010x15\uff09\u3092\u6539\u884c\u30b3\u30fc\u30c9\u3068\u3057\u3066\u4f7f\u3046\u3002EBCDIC\u306fCR\u3068LF\u3068\u547c\u3070\u308c\u308b\u5236\u5fa1\u6587\u5b57\u3082\u6301\u3064\u304c\u3001\u3053\u308c\u3089\u306fASCII\u306b\u304a\u3051\u308bCR\u3068LF\u3068\u306f\u5024\u304c\u7570\u306a\u308b\u3002\u307e\u305f\u3001NEL\u306b\u5bfe\u3057\u3066\u7570\u306a\u308b\u5024\u3092\u5272\u308a\u5f53\u3066\u305fEBCDIC\u306e\u4e9c\u7a2e\u3082\u5b58\u5728\u3059\u308b\u3002\u306a\u304a\u56fa\u5b9a\u9577\u306e\u30c7\u30fc\u30bf\u30bb\u30c3\u30c8\u3067\u306f\u3001\u901a\u5e38\u306f\u6539\u884c\u30b3\u30fc\u30c9\u81ea\u4f53\u304c\u4e0d\u8981\u306a\u305f\u3081\u4f7f\u7528\u3055\u308c\u306a\u3044\u3002\n",
        "OpenVMS\u306f\u30ec\u30b3\u30fc\u30c9\u30d9\u30fc\u30b9\u306e\u30d5\u30a1\u30a4\u30eb\u30b7\u30b9\u30c6\u30e0\u3092\u4f7f\u7528\u3057\u3066\u304a\u308a\u3001\u30c6\u30ad\u30b9\u30c8\u30d5\u30a1\u30a4\u30eb\u306e\u5404\u884c\u3092\uff11\u30ec\u30b3\u30fc\u30c9\u3068\u3057\u3066\u4fdd\u5b58\u3059\u308b\u3002\u4fdd\u5b58\u3059\u308b\u969b\u306f\u6539\u884c\u30b3\u30fc\u30c9\u306f\u8a18\u9332\u3055\u308c\u306a\u3044\u304c\u3001\u30a2\u30d7\u30ea\u30b1\u30fc\u30b7\u30e7\u30f3\u304b\u3089\u8aad\u307f\u8fbc\u307e\u308c\u308b\u969b\u306b\u81ea\u52d5\u7684\u306b\u884c\u7d42\u7aef\u8a18\u53f7\u3092\u4ed8\u52a0\u3059\u308b\u6a5f\u80fd\u304c\u3042\u308b\u3002\n",
        "\u30a4\u30f3\u30bf\u30fc\u30cd\u30c3\u30c8\u4e0a\u3067\u7528\u3044\u3089\u308c\u308b\u3001\u30c6\u30ad\u30b9\u30c8\u306b\u3088\u3063\u3066\u60c5\u5831\u3092\u3084\u308a\u3068\u308a\u3059\u308b\u901a\u4fe1\u30d7\u30ed\u30c8\u30b3\u30eb\u306e\u591a\u304f\uff08HTTP\u3001SMTP\u3001FTP\u3001IRC\u306a\u3069\uff09\u306f\u30d7\u30ed\u30c8\u30b3\u30eb\u30ec\u30d9\u30eb\u3067CR+LF\u30b3\u30fc\u30c9\u3092\u7528\u3044\u308b\u3088\u3046\u8981\u6c42\u3057\u3066\u3044\u308b\u304c\u3001\u30a2\u30d7\u30ea\u30b1\u30fc\u30b7\u30e7\u30f3\u306fLF\u30b3\u30fc\u30c9\u306b\u3082\u5bfe\u5fdc\u3059\u308b\u3053\u3068\u304c\u63a8\u5968\u3055\u308c\u3066\u3044\u308b\u3002\u3053\u308c\u306f\u521d\u671f\u306e\u30a4\u30f3\u30bf\u30fc\u30cd\u30c3\u30c8\u30b5\u30fc\u30d0\u306e\u591a\u304f\u304cDEC\u6a5f\u306b\u3088\u3063\u3066\u69cb\u6210\u3055\u308c\u3066\u3044\u305f\u540d\u6b8b\u3067\u3042\u308b\u3002 "
      ]
    },
    {
      "cell_type": "markdown",
      "metadata": {},
      "source": [
        "https://ja.wikipedia.org/wiki/%E6%94%B9%E8%A1%8C%E3%82%B3%E3%83%BC%E3%83%89"
      ]
    },
    {
      "cell_type": "markdown",
      "metadata": {},
      "source": [
        "\u3068\u306e\u3053\u3068\uff0e\u4e09\u9023\u5f15\u7528\u7b26\u5185\u3067\u6539\u884c\u3055\u308c\u305f\u6587\u5b57\u5217\u306b\u3064\u3044\u3066\uff0c\u6587\u672b\u306b `\\` \u3092\u8ffd\u52a0\u3059\u308b\u3053\u3068\u3067\uff0c\u305d\u306e\u90e8\u5206\u306e\u51fa\u529b\u3092\u6539\u884c\u306a\u3057\u306b\u3059\u308b\u3053\u3068\u3082\u3067\u304d\u307e\u3059\uff08\u304c\u3042\u307e\u308a\u4f7f\u3044\u307e\u305b\u3093\uff09\uff0e"
      ]
    },
    {
      "cell_type": "code",
      "execution_count": 40,
      "metadata": {},
      "outputs": [
        {
          "data": {
            "text/plain": [
              "'abcde'"
            ]
          },
          "execution_count": 40,
          "metadata": {},
          "output_type": "execute_result"
        }
      ],
      "source": [
        "\"\"\"\\\n",
        "a\\\n",
        "b\\\n",
        "c\\\n",
        "d\\\n",
        "e\\\n",
        "\"\"\""
      ]
    },
    {
      "cell_type": "markdown",
      "metadata": {},
      "source": [
        "`\\n` \u306f\u3082\u3061\u308d\u3093\uff0c\u30af\u30a9\u30fc\u30c6\u30fc\u30b7\u30e7\u30f3\u304c\u4e09\u9023\u3067\u306a\u3044\u5834\u5408\u3082\u7528\u3044\u308b\u3053\u3068\u304c\u3067\u304d\uff0c\u6539\u884c\u3068\u3057\u3066\u8a8d\u8b58\u3055\u308c\u307e\u3059\uff0e"
      ]
    },
    {
      "cell_type": "code",
      "execution_count": 41,
      "metadata": {
        "tags": []
      },
      "outputs": [
        {
          "data": {
            "text/plain": [
              "'a \\n b'"
            ]
          },
          "execution_count": 41,
          "metadata": {},
          "output_type": "execute_result"
        }
      ],
      "source": [
        "\"a \\n b\""
      ]
    },
    {
      "cell_type": "code",
      "execution_count": 42,
      "metadata": {},
      "outputs": [
        {
          "name": "stdout",
          "output_type": "stream",
          "text": [
            "a \n",
            " b\n"
          ]
        }
      ],
      "source": [
        "print(\"a \\n b\")"
      ]
    },
    {
      "cell_type": "markdown",
      "metadata": {},
      "source": [
        "C\u8a00\u8a9e\u3068\u540c\u69d8\u306b\uff0cpython\u306b\u304a\u3044\u3066\u3082\u30d0\u30c3\u30af\u30b9\u30e9\u30c3\u30b7\u30e5 `\\` \u306f\u30a8\u30b9\u30b1\u30fc\u30d7\u30b7\u30fc\u30b1\u30f3\u30b9\uff08\u6539\u884c\u3084\u30bf\u30d6\u306a\u3069\u901a\u5e38\u306e\u6587\u5b57\u5217\u3067\u306f\u8868\u3059\u3053\u3068\u304c\u3067\u304d\u306a\u3044\u7279\u6b8a\u306a\u6587\u5b57\u3084\u6a5f\u80fd\u3092\uff0c\u898f\u5b9a\u3055\u308c\u305f\u7279\u5225\u306a\u6587\u5b57\u306e\u4e26\u3073\u306b\u3088\u308a\u8868\u3057\u305f\u3082\u306e\uff09\u306b\u7528\u3044\u3089\u308c\u307e\u3059\uff0epython\u306b\u304a\u3051\u308b\u30a8\u30b9\u30b1\u30fc\u30d7\u30b7\u30fc\u30b1\u30f3\u30b9\u306f\uff0c\u516c\u5f0f\u30c9\u30ad\u30e5\u30e1\u30f3\u30c8\uff08https://docs.python.org/ja/3.10/reference/lexical_analysis.html\uff09\u3092\u53c2\u7167\u3059\u308b\u3068\uff0c"
      ]
    },
    {
      "cell_type": "markdown",
      "metadata": {},
      "source": [
        "| \u30a8\u30b9\u30b1\u30fc\u30d7\u30b7\u30fc\u30b1\u30f3\u30b9 | \u610f\u5473 |\n",
        "| -------------------- | ---- |\n",
        "| `\\newline` | \u30d0\u30c3\u30af\u30b9\u30e9\u30c3\u30b7\u30e5\u3068\u6539\u884c\u6587\u5b57\u304c\u7121\u8996\u3055\u308c\u307e\u3059 |\n",
        "| `\\\\` | \u30d0\u30c3\u30af\u30b9\u30e9\u30c3\u30b7\u30e5 (`\\`) |\n",
        "| `\\'` | \u4e00\u91cd\u5f15\u7528\u7b26 (`'`) |\n",
        "| `\\\"` | \u4e8c\u91cd\u5f15\u7528\u7b26 (`\"`) |\n",
        "| `\\a` | ASCII \u7aef\u672b\u30d9\u30eb (BEL) |\n",
        "| `\\b` | ASCII \u30d0\u30c3\u30af\u30b9\u30da\u30fc\u30b9 (BS) |\n",
        "| `\\f` | ASCII \u30d5\u30a9\u30fc\u30e0\u30d5\u30a3\u30fc\u30c9 (FF) |\n",
        "| `\\n` | ASCII \u884c\u9001\u308a (LF) |\n",
        "| `\\r` | ASCII \u5fa9\u5e30 (CR) |\n",
        "| `\\t` | ASCII \u6c34\u5e73\u30bf\u30d6 (TAB) |\n",
        "| `\\v` | ASCII \u5782\u76f4\u30bf\u30d6 (VT) |\n",
        "| `\\ooo` | 8 \u9032\u6570\u5024 ooo \u3092\u6301\u3064\u6587\u5b57 |\n",
        "| `\\xhh` | 16 \u9032\u6570\u5024 hh \u3092\u6301\u3064\u6587\u5b57 |\n",
        "| `\\N{name}` | Unicode \u30c7\u30fc\u30bf\u30d9\u30fc\u30b9\u4e2d\u3067 name \u3068\u3044\u3046\u540d\u524d\u306e\u6587\u5b57 |\n",
        "| `\\uxxxx` | 16-bit \u306e\u5341\u516d\u9032\u5024 xxxx \u3092\u6301\u3064\u6587\u5b57 |\n",
        "| `\\Uxxxxxxxx` | 32-bit \u306e\u5341\u516d\u9032\u5024 xxxxxxxx \u3092\u6301\u3064\u6587\u5b57 |"
      ]
    },
    {
      "cell_type": "markdown",
      "metadata": {},
      "source": [
        "https://docs.python.org/ja/3.7/reference/lexical_analysis.html"
      ]
    },
    {
      "cell_type": "markdown",
      "metadata": {},
      "source": [
        "windows \u306b\u304a\u3051\u308b\u30c7\u30a3\u30ec\u30af\u30c8\u30ea\u30d1\u30b9\u306f\u30d0\u30c3\u30af\u30b9\u30e9\u30c3\u30b7\u30e5 `\\`\uff08\u5186\u30de\u30fc\u30af\uff09\u304c\u7528\u3044\u3089\u308c\u307e\u3059\u304c\uff0c\u4e0a\u8a18\u306e\u95a2\u4fc2\u4e0a\uff0c\u30a8\u30af\u30b9\u30d7\u30ed\u30fc\u30e9\u304b\u3089\u30c7\u30a3\u30ec\u30af\u30c8\u30ea\u30d1\u30b9\u3092\u30b3\u30d4\u30da\u3057\u3066\u4f7f\u304a\u3046\u3068\u3059\u308b\u3068\u30a8\u30e9\u30fc\u306b\u306a\u308b\u3053\u3068\u304c\u3042\u308a\u307e\u3059\uff0e"
      ]
    },
    {
      "cell_type": "code",
      "execution_count": 43,
      "metadata": {},
      "outputs": [
        {
          "ename": "SyntaxError",
          "evalue": "(unicode error) 'unicodeescape' codec can't decode bytes in position 22-23: malformed \\N character escape (Temp/ipykernel_4472/1980184030.py, line 1)",
          "output_type": "error",
          "traceback": [
            "\u001b[1;36m  File \u001b[1;32m\"C:\\Users\\Kazuto\\AppData\\Local\\Temp/ipykernel_4472/1980184030.py\"\u001b[1;36m, line \u001b[1;32m1\u001b[0m\n\u001b[1;33m    print(\"C:\\Program Files (x86)\\NVIDIA Corporation\")\u001b[0m\n\u001b[1;37m          ^\u001b[0m\n\u001b[1;31mSyntaxError\u001b[0m\u001b[1;31m:\u001b[0m (unicode error) 'unicodeescape' codec can't decode bytes in position 22-23: malformed \\N character escape\n"
          ]
        }
      ],
      "source": [
        "print(\"C:\\Program Files (x86)\\NVIDIA Corporation\")"
      ]
    },
    {
      "cell_type": "markdown",
      "metadata": {},
      "source": [
        "\u3053\u306e\u5834\u5408\u306f\u30a8\u30b9\u30b1\u30fc\u30d7\u30b7\u30fc\u30b1\u30f3\u30b9\u3068\u3057\u3066\u30d0\u30c3\u30af\u30b9\u30e9\u30c3\u30b7\u30e5\u306e\u524d\u306b\u3082\u3046\u4e00\u3064\u30d0\u30c3\u30af\u30b9\u30e9\u30c3\u30b7\u30e5\u3092\u8ffd\u52a0\u3059\u308b\u3053\u3068\u3067\u56de\u907f\u3067\u304d\u307e\u3059\uff0e"
      ]
    },
    {
      "cell_type": "code",
      "execution_count": 44,
      "metadata": {},
      "outputs": [
        {
          "name": "stdout",
          "output_type": "stream",
          "text": [
            "C:\\Program Files (x86)\\NVIDIA Corporation\n"
          ]
        }
      ],
      "source": [
        "print(\"C:\\\\Program Files (x86)\\\\NVIDIA Corporation\")"
      ]
    },
    {
      "cell_type": "markdown",
      "metadata": {},
      "source": [
        "\u3082\u3057\u304f\u306f\uff0c\u30af\u30a9\u30fc\u30c6\u30fc\u30b7\u30e7\u30f3\u306e\u524d\u306b `r` \u3082\u3057\u304f\u306f `R` \u3092\u8ffd\u52a0\u3057\uff0craw \u6587\u5b57\u5217\u3068\u3059\u308b\u3053\u3068\u3067\u30a8\u30b9\u30b1\u30fc\u30d7\u30b7\u30fc\u30b1\u30f3\u30b9\u304c\u7121\u8996\u3055\u308c\u307e\u3059\uff08\u3053\u3061\u3089\u306e\u65b9\u304c\u4e00\u822c\u7684\uff09\uff0e"
      ]
    },
    {
      "cell_type": "code",
      "execution_count": 45,
      "metadata": {},
      "outputs": [
        {
          "name": "stdout",
          "output_type": "stream",
          "text": [
            "C:\\Program Files (x86)\\NVIDIA Corporation\n"
          ]
        }
      ],
      "source": [
        "print(r\"C:\\Program Files (x86)\\NVIDIA Corporation\")"
      ]
    },
    {
      "cell_type": "markdown",
      "metadata": {},
      "source": [
        "\u306a\u304a\uff0cpython\u306b\u304a\u3044\u3066\u30d1\u30b9\u3068\u8a8d\u8b58\u3055\u308c\u308b\u305f\u3081\u306b\u306f\uff0c2\u91cd\u30d0\u30c3\u30af\u30b9\u30e9\u30c3\u30b7\u30e5\u3084 raw \u6587\u5b57\u5217\u306e\u4ee3\u308f\u308a\u306b\uff0c\u30d0\u30c3\u30af\u30b9\u30e9\u30c3\u30b7\u30e5\u304b\u3089\u30b9\u30e9\u30c3\u30b7\u30e5\u306b\u66f8\u304d\u63db\u3048\u3066\u3082OK\u3067\u3059\uff0e"
      ]
    },
    {
      "cell_type": "markdown",
      "metadata": {},
      "source": [
        "\u6587\u5b57\u5217\u306e\u64cd\u4f5c\u306f\u4ed6\u306b\u3082\u8272\u3005\u3042\u308a\uff0c\u6587\u5b57\u5217\u306e\u5f8c\u306b `.\u30e1\u30bd\u30c3\u30c9(...)` \u3068\u3044\u3046\u98a8\u306b\u7528\u3044\u307e\u3059\uff0e  \n",
        "\u3053\u3053\u3067\uff0c\u30e1\u30bd\u30c3\u30c9\u3068\u3044\u3046\u306e\u306f\uff0c\u30af\u30e9\u30b9\u30aa\u30d6\u30b8\u30a7\u30af\u30c8\u306e\u5f8c\u308d\u306b\u30c9\u30c3\u30c8 `.` \u3092\u4ed8\u3051\u3066\u547c\u3073\u51fa\u3059\u3053\u3068\u3067\u4f5c\u7528\u3059\u308b\u30b5\u30d6\u30eb\u30fc\u30c1\u30f3\u3067\u4e00\u7a2e\u306e\u95a2\u6570\u3067\u3059\uff0e  \n",
        "\u66f4\u306b\uff0c\u95a2\u6570\u3068\u3044\u3046\u306e\u306f\uff0c`\u95a2\u6570(...)` \u3067\u4f5c\u7528\u3055\u305b\u308b\u3053\u3068\u306e\u3067\u304d\u308b\u30b5\u30d6\u30eb\u30fc\u30c1\u30f3\u3067\u3059\uff0e\u4f8b\u3048\u3070\uff0c`print()` \u306f\u30e2\u30cb\u30bf\u306b\u51fa\u529b\u3059\u308b\u95a2\u6570\u3068\u8a00\u3048\u307e\u3059\uff0e  \n",
        "\u5168\u3066\u306e\u6587\u5b57\u5217\u306b\u9069\u7528\u3067\u304d\u308b\u30e1\u30bd\u30c3\u30c9\u306e\u8aac\u660e\u3092\u884c\u3046\u3053\u3068\u306f\u305b\u305a\uff0c\u826f\u304f\u4f7f\u308f\u308c\u308b\u30e1\u30bd\u30c3\u30c9\u306e\u307f\u629c\u7c8b\u3057\u3066\u8a18\u8f09\u3044\u305f\u3057\u307e\u3059\uff0e"
      ]
    },
    {
      "cell_type": "markdown",
      "metadata": {},
      "source": [
        "- `str.casefold()`: \u6587\u5b57\u5217\u306e casefold \u3055\u308c\u305f\u30b3\u30d4\u30fc\u3092\u8fd4\u3057\uff0ccasefold \u3055\u308c\u305f\u6587\u5b57\u5217\u306f\uff0c\u5927\u6587\u5b57\u5c0f\u6587\u5b57\u306b\u95a2\u4fc2\u306a\u3044\u6bd4\u8f03\u5224\u5b9a\u306b\u4f7f\u3048\u307e\u3059\uff0e"
      ]
    },
    {
      "cell_type": "code",
      "execution_count": 46,
      "metadata": {},
      "outputs": [
        {
          "data": {
            "text/plain": [
              "(False, True)"
            ]
          },
          "execution_count": 46,
          "metadata": {},
          "output_type": "execute_result"
        }
      ],
      "source": [
        "\"Python\" == \"pytHON\", \"Python\".casefold() == \"pytHON\".casefold()"
      ]
    },
    {
      "cell_type": "markdown",
      "metadata": {},
      "source": [
        "- `str.count(sub, start, end)`: `start, end` \u306e\u7bc4\u56f2\u306b\u90e8\u5206\u6587\u5b57\u5217 `sub` \u304c\u91cd\u8907\u305b\u305a\u51fa\u73fe\u3059\u308b\u56de\u6570\u3092\u8fd4\u3057\u307e\u3059\uff0e`start` \u53ca\u3073 `end` \u306f\u30aa\u30d7\u30b7\u30e7\u30f3\u3067\uff0c\u7121\u8a18\u5165\u306e\u5834\u5408\u306f `start` = 0, `end` = -1 \u3068\u306a\u308a\u307e\u3059\uff0e"
      ]
    },
    {
      "cell_type": "code",
      "execution_count": 47,
      "metadata": {},
      "outputs": [
        {
          "data": {
            "text/plain": [
              "(3, 1, 2)"
            ]
          },
          "execution_count": 47,
          "metadata": {},
          "output_type": "execute_result"
        }
      ],
      "source": [
        "\"aaa bbb cc d\".count(\"a\"), \"aaa bbb cc d\".count(\"aa\"), \"aaa bbb cc d\".count(\"a\", 1, 3)"
      ]
    },
    {
      "cell_type": "markdown",
      "metadata": {},
      "source": [
        "- `str.endswith(suffix, start, end)`: \u6587\u5b57\u5217\u304c\u6307\u5b9a\u3055\u308c\u305f `suffix` \u3067\u7d42\u308f\u308b\u306a\u3089 `True` \u3092\uff0c\u305d\u3046\u3067\u306a\u3051\u308c\u3070 `False` \u3092\u8fd4\u3057\u307e\u3059\uff0e`start` \u53ca\u3073 `end` \u306f\u30aa\u30d7\u30b7\u30e7\u30f3\u3067\uff0c\u7121\u8a18\u5165\u306e\u5834\u5408\u306f `start` = 0, `end` = -1 \u3068\u306a\u308a\u307e\u3059\uff0e"
      ]
    },
    {
      "cell_type": "code",
      "execution_count": 48,
      "metadata": {},
      "outputs": [
        {
          "data": {
            "text/plain": [
              "True"
            ]
          },
          "execution_count": 48,
          "metadata": {},
          "output_type": "execute_result"
        }
      ],
      "source": [
        "\"python\".endswith(\"thon\")"
      ]
    },
    {
      "cell_type": "markdown",
      "metadata": {},
      "source": [
        "- `str.find(sub, start, end)`: \u6587\u5b57\u5217\u306e\u30b9\u30e9\u30a4\u30b9 `s[start, end]` \u306b\u90e8\u5206\u6587\u5b57\u5217 `sub` \u304c\u542b\u307e\u308c\u308b\u5834\u5408\uff0c\u305d\u306e\u6700\u5c0f\u306e\u30a4\u30f3\u30c7\u30c3\u30af\u30b9\u3092\u8fd4\u3057\u307e\u3059\uff0e`start` \u53ca\u3073 `end` \u306f\u30aa\u30d7\u30b7\u30e7\u30f3\u3067\uff0c\u7121\u8a18\u5165\u306e\u5834\u5408\u306f `start` = 0, `end` = -1 \u3068\u306a\u308a\u307e\u3059\uff0e\u898b\u3064\u304b\u3089\u306a\u304b\u3063\u305f\u5834\u5408\u306f `-1` \u3092\u8fd4\u3057\u307e\u3059\uff0e"
      ]
    },
    {
      "cell_type": "code",
      "execution_count": 49,
      "metadata": {},
      "outputs": [
        {
          "data": {
            "text/plain": [
              "(2, -1)"
            ]
          },
          "execution_count": 49,
          "metadata": {},
          "output_type": "execute_result"
        }
      ],
      "source": [
        "\"pythonpython\".find(\"tho\"), \"pythonpython\".find(\"zzzz\")"
      ]
    },
    {
      "cell_type": "markdown",
      "metadata": {},
      "source": [
        "- `str.join(iterable)`: `iterble` \u4e2d\u306e\u6587\u5b57\u5217\u3092\u7d50\u5408\u3057\u305f\u6587\u5b57\u5217\u3092\u8fd4\u3057\u307e\u3059\uff0e\u3053\u3053\u3067 `iterable` \uff08\u30a4\u30c6\u30e9\u30d6\u30eb\uff09\u306f\u540d\u524d\u306e\u901a\u308a\uff0c\u7e70\u308a\u8fd4\u3057\u53ef\u80fd\u306a\u30aa\u30d6\u30b8\u30a7\u30af\u30c8\u3082\u3057\u304f\u306f\u30af\u30e9\u30b9\u306e\u7dcf\u79f0\u3067\uff0cfor \u6587\u3067\u7e70\u308a\u8fd4\u3057\u304c\u53ef\u80fd\u3067\u3042\u3063\u305f\u308a\uff0cnext\u95a2\u6570\u3067\u8981\u7d20\u3092\u9806\u756a\u306b\u53d6\u308a\u51fa\u3059\u3053\u3068\u304c\u53ef\u80fd\u3067\u3059\uff0e"
      ]
    },
    {
      "cell_type": "code",
      "execution_count": 50,
      "metadata": {},
      "outputs": [
        {
          "data": {
            "text/plain": [
              "'a-b-c'"
            ]
          },
          "execution_count": 50,
          "metadata": {},
          "output_type": "execute_result"
        }
      ],
      "source": [
        "\"-\".join([\"a\", \"b\", \"c\"])"
      ]
    },
    {
      "cell_type": "markdown",
      "metadata": {},
      "source": [
        "`[\"a\", \"b\", \"c\"]` \u306f \"a\", \"b\", \"c\" \u306e3\u3064\u306e\u8981\u7d20\u304c\u5165\u3063\u305f\u30ea\u30b9\u30c8\u3092\u8868\u3057\uff0c\u30ea\u30b9\u30c8\u3082 `iterable` \u30aa\u30d6\u30b8\u30a7\u30af\u30c8\u3067\u3059\uff0e\u30ea\u30b9\u30c8\u306b\u3064\u3044\u3066\u306f\uff0c\u6587\u5b57\u5217\u30e1\u30bd\u30c3\u30c9\u306e\u8aac\u660e\u306e\u5f8c\u306b\u8a18\u8f09\u3057\u307e\u3059\uff0e"
      ]
    },
    {
      "cell_type": "markdown",
      "metadata": {},
      "source": [
        "- `str.lower()`: \u5c0f\u6587\u5b57\u5316\u3055\u308c\u305f\u6587\u5b57\u5217\u3092\u8fd4\u3057\u307e\u3059\uff0e"
      ]
    },
    {
      "cell_type": "code",
      "execution_count": 51,
      "metadata": {},
      "outputs": [
        {
          "data": {
            "text/plain": [
              "('python', 'python')"
            ]
          },
          "execution_count": 51,
          "metadata": {},
          "output_type": "execute_result"
        }
      ],
      "source": [
        "\"PYthoN\".lower(), \"python\".lower()"
      ]
    },
    {
      "cell_type": "markdown",
      "metadata": {},
      "source": [
        "- `str.replace(old, new, count)`: \u6587\u5b57\u5217\u3092\u30b3\u30d4\u30fc\u3057\uff0c\u73fe\u308c\u308b\u90e8\u5206\u6587\u5b57\u5217 `old` \u3059\u3079\u3066\u3092 `new` \u306b\u7f6e\u63db\u3057\u3066\u8fd4\u3057\u307e\u3059\uff0e\u30aa\u30d7\u30b7\u30e7\u30f3\u5f15\u6570 `count` \u304c\u4e0e\u3048\u3089\u308c\u3066\u3044\u308b\u5834\u5408\uff0c\u5148\u982d\u304b\u3089 `count` \u500b\u306e `old` \u3060\u3051\u3092\u7f6e\u63db\u3057\u307e\u3059\uff0e"
      ]
    },
    {
      "cell_type": "code",
      "execution_count": 52,
      "metadata": {},
      "outputs": [
        {
          "data": {
            "text/plain": [
              "'bbbcccddd'"
            ]
          },
          "execution_count": 52,
          "metadata": {},
          "output_type": "execute_result"
        }
      ],
      "source": [
        "\"aaa aaaabbb caacaca dadaaaad\".replace(\"a\", \"\").replace(\" \", \"\")"
      ]
    },
    {
      "cell_type": "code",
      "execution_count": 53,
      "metadata": {},
      "outputs": [
        {
          "data": {
            "text/plain": [
              "'Pen, pinapple, apple, ?'"
            ]
          },
          "execution_count": 53,
          "metadata": {},
          "output_type": "execute_result"
        }
      ],
      "source": [
        "\"Pen, pinapple, apple, pen\".replace(\"pen\", \"?\")"
      ]
    },
    {
      "cell_type": "code",
      "execution_count": 54,
      "metadata": {},
      "outputs": [
        {
          "data": {
            "text/plain": [
              "'?, pinapple, apple, ?'"
            ]
          },
          "execution_count": 54,
          "metadata": {},
          "output_type": "execute_result"
        }
      ],
      "source": [
        "\"Pen, pinapple, apple, pen\".casefold().replace(\"pen\".casefold(), \"?\")"
      ]
    },
    {
      "cell_type": "markdown",
      "metadata": {},
      "source": [
        "- `str.split(sep=None, maxsplit=-1)`: \u6587\u5b57\u5217 `sep` \u3092\u30c7\u30ea\u30df\u30bf\u6587\u5b57\u5217\uff08\u533a\u5207\u308a\u6587\u5b57\u5217\uff09\u3068\u3057\u3066\u533a\u5207\u3063\u305f\u5358\u8a9e\u306e\u30ea\u30b9\u30c8\u3092\u8fd4\u3057\u307e\u3059\uff0e`maxsplit` \u304c\u4e0e\u3048\u3089\u308c\u3066\u3044\u308c\u3070\uff0c\u6700\u5927\u3067 `maxsplit` \u56de\u5206\u5272\u3055\u308c\u307e\u3059\uff0e`maxsplit` \u304c\u4e0e\u3048\u3089\u308c\u3066\u3044\u306a\u3044\u304b `-1` \u3067\u3042\u308c\u3070\uff0c\u5206\u5272\u306e\u56de\u6570\u306b\u5236\u9650\u306f\u306a\u304f\uff0c\u53ef\u80fd\u306a\u3060\u3051\u5206\u5272\u3055\u308c\u305f\u30ea\u30b9\u30c8\u304c\u8fd4\u3055\u308c\u307e\u3059\uff0e"
      ]
    },
    {
      "cell_type": "code",
      "execution_count": 55,
      "metadata": {},
      "outputs": [
        {
          "data": {
            "text/plain": [
              "['1', '2', '3']"
            ]
          },
          "execution_count": 55,
          "metadata": {},
          "output_type": "execute_result"
        }
      ],
      "source": [
        "\"1,2,3\".split(\",\")"
      ]
    },
    {
      "cell_type": "code",
      "execution_count": 56,
      "metadata": {},
      "outputs": [
        {
          "data": {
            "text/plain": [
              "['1', '2,3']"
            ]
          },
          "execution_count": 56,
          "metadata": {},
          "output_type": "execute_result"
        }
      ],
      "source": [
        "\"1,2,3\".split(\",\", maxsplit=1)"
      ]
    },
    {
      "cell_type": "code",
      "execution_count": 57,
      "metadata": {},
      "outputs": [
        {
          "data": {
            "text/plain": [
              "['1', '2', '', '', '', '', '', '3']"
            ]
          },
          "execution_count": 57,
          "metadata": {},
          "output_type": "execute_result"
        }
      ],
      "source": [
        "\"1,2,,,,,,3\".split(\",\")"
      ]
    },
    {
      "cell_type": "markdown",
      "metadata": {},
      "source": [
        "`sep` \u304c\u6307\u5b9a\u3055\u308c\u3066\u3044\u306a\u3044\u304b `None` \u306e\u5834\u5408\uff0c\u7570\u306a\u308b\u5206\u5272\u30a2\u30eb\u30b4\u30ea\u30ba\u30e0\u304c\u9069\u7528\u3055\u308c\uff0c\u4e00\u3064\u306e\u3042\u308b\u3044\u306f\u9023\u7d9a\u3059\u308b\u7a7a\u767d\u6587\u5b57\u304c\u4e00\u3064\u306e\u30c7\u30ea\u30df\u30bf\u3068\u898b\u306a\u3055\u308c\u307e\u3059\uff0e"
      ]
    },
    {
      "cell_type": "code",
      "execution_count": 58,
      "metadata": {},
      "outputs": [
        {
          "data": {
            "text/plain": [
              "['1', '2', '3']"
            ]
          },
          "execution_count": 58,
          "metadata": {},
          "output_type": "execute_result"
        }
      ],
      "source": [
        "\"1 2 3\".split()"
      ]
    },
    {
      "cell_type": "code",
      "execution_count": 59,
      "metadata": {},
      "outputs": [
        {
          "data": {
            "text/plain": [
              "['1', '2', '3']"
            ]
          },
          "execution_count": 59,
          "metadata": {},
          "output_type": "execute_result"
        }
      ],
      "source": [
        "\"   1    2    3 \".split()"
      ]
    },
    {
      "cell_type": "code",
      "execution_count": 60,
      "metadata": {},
      "outputs": [
        {
          "data": {
            "text/plain": [
              "['1-', '2', '-', '-', '3-']"
            ]
          },
          "execution_count": 60,
          "metadata": {},
          "output_type": "execute_result"
        }
      ],
      "source": [
        "\"   1-    2  -   -  3- \".split()"
      ]
    },
    {
      "cell_type": "markdown",
      "metadata": {},
      "source": [
        "- `str.startswith(prefix, start, end)`: \u6587\u5b57\u5217\u304c\u6307\u5b9a\u3055\u308c\u305f `prefix` \u3067\u59cb\u307e\u308b\u306a\u3089 `True` \u3092\uff0c\u305d\u3046\u3067\u306a\u3051\u308c\u3070 `False` \u3092\u8fd4\u3057\u307e\u3059\uff0e`start` \u53ca\u3073 `end` \u306f\u30aa\u30d7\u30b7\u30e7\u30f3\u3067\uff0c\u7121\u8a18\u5165\u306e\u5834\u5408\u306f `start` = 0, `end` = -1 \u3068\u306a\u308a\u307e\u3059\uff0e"
      ]
    },
    {
      "cell_type": "code",
      "execution_count": 61,
      "metadata": {},
      "outputs": [
        {
          "data": {
            "text/plain": [
              "(False, True)"
            ]
          },
          "execution_count": 61,
          "metadata": {},
          "output_type": "execute_result"
        }
      ],
      "source": [
        "\"python\".startswith(\"thon\"), \"python\".startswith(\"pyt\")"
      ]
    },
    {
      "cell_type": "markdown",
      "metadata": {},
      "source": [
        "- `str.upper()`: \u5927\u6587\u5b57\u5316\u3055\u308c\u305f\u6587\u5b57\u5217\u3092\u8fd4\u3057\u307e\u3059\uff0e"
      ]
    },
    {
      "cell_type": "code",
      "execution_count": 62,
      "metadata": {},
      "outputs": [
        {
          "data": {
            "text/plain": [
              "'PYTHON'"
            ]
          },
          "execution_count": 62,
          "metadata": {},
          "output_type": "execute_result"
        }
      ],
      "source": [
        "\"pythOn\".upper()"
      ]
    },
    {
      "cell_type": "markdown",
      "metadata": {},
      "source": [
        "- `str.zfill(witdh)`: \u9577\u3055\u304c `width` \u306b\u306a\u308b\u3088\u3046\u306b ASCII `\"0\"` \u3067\u5de6\u56f3\u76ee\u4e0b\u6587\u5b57\u5217\u306e\u30b3\u30d4\u30fc\u3092\u8fd4\u3057\u307e\u3059\uff08zfill: zero fill, \u30bc\u30ed\u57cb\u3081\uff09\uff0e\u5148\u982d\u304c\u7b26\u5408\u63a5\u982d\u8f9e `+` \u3082\u3057\u304f\u306f `-` \u3060\u3063\u305f\u5834\u5408\uff0c`\"0\"` \u306f\u7b26\u53f7\u306e\u524d\u3067\u306f\u306a\u304f\u5f8c\u306b\u633f\u5165\u3055\u308c\u307e\u3059\uff0e"
      ]
    },
    {
      "cell_type": "code",
      "execution_count": 63,
      "metadata": {},
      "outputs": [
        {
          "data": {
            "text/plain": [
              "('00123', '+000\u3042')"
            ]
          },
          "execution_count": 63,
          "metadata": {},
          "output_type": "execute_result"
        }
      ],
      "source": [
        "\"123\".zfill(5), \"+\u3042\".zfill(5), "
      ]
    },
    {
      "cell_type": "markdown",
      "metadata": {},
      "source": [
        "---\n",
        "\n",
        "## 3. \u30ea\u30b9\u30c8 <a class=\"anchor\" id=\"3\"></a>  \n",
        "[\u76ee\u6b21\u306b\u623b\u308b](#0)  "
      ]
    },
    {
      "cell_type": "markdown",
      "metadata": {},
      "source": [
        "python\u306b\u304a\u3044\u3066\u914d\u5217\u306f\uff0c\u6a19\u6e96\u95a2\u6570\u306b\u9650\u308b\u3068 `list` \u3082\u3057\u304f\u306f `array` \u306b\u3088\u3063\u3066\u8868\u73fe\u3067\u304d\u307e\u3059\uff0e  \n",
        "`list` \u306f\u5358\u306a\u308b\u5165\u308c\u7269\u3068\u3057\u3066\u6c4e\u7528\u7684\u306b\u7528\u3044\u308b\u3053\u3068\u304c\u3067\u304d\uff0c\u8981\u7d20\u9593\u306b\u304a\u3051\u308b\u578b\u306e\u9055\u3044\u306f\u554f\u308f\u308c\u307e\u305b\u3093\uff0e  \n",
        "\u4e00\u65b9 `array` \u306f\u6a19\u6e96\u95a2\u6570\u306e\u30a4\u30f3\u30dd\u30fc\u30c8\u304c\u5fc5\u8981\u3067\u3042\u308a\uff0c\u304b\u3064\uff0c\u8981\u7d20\u306e\u578b\u306f\u914d\u5217\u5b9a\u7fa9\u6642\u306b\u6c7a\u5b9a\u3055\u308c\u308b\u306e\u3067\u540c\u3058\u3067\u3042\u308b\u5fc5\u8981\u304c\u3042\u308a\u307e\u3059\uff0e  \n",
        "\u524d\u8005\u306e `list` \u3092\u7528\u3044\u308b\u3053\u3068\u304c\u307b\u3068\u3093\u3069\u3067\u3042\u308b\u306e\u3067\uff0c\u3053\u3061\u3089\u306e\u8aac\u660e\u3092\u884c\u3044\u307e\u3059\uff0e"
      ]
    },
    {
      "cell_type": "markdown",
      "metadata": {},
      "source": [
        "\u30ea\u30b9\u30c8 `list` \u306f `[a, b, c, ...]` \u3068 `[]` \u5185\u306b `,` \u533a\u5207\u308a\u3067\u8981\u7d20\u3092\u4e26\u3079\u305f\u3060\u3051\u306e\u3082\u306e\u3067\uff0c\u6587\u5b57\u5217\u3067\u3082\u7528\u3044\u305f\u30a4\u30f3\u30c7\u30c3\u30af\u30b9\uff08\u8981\u7d20\u756a\u53f7\u53c2\u7167\uff09\u3068\u30b9\u30e9\u30a4\u30b9\u3092\u7528\u3044\u308b\u3053\u3068\u304c\u3067\u304d\u307e\u3059\uff0e"
      ]
    },
    {
      "cell_type": "code",
      "execution_count": 64,
      "metadata": {},
      "outputs": [
        {
          "data": {
            "text/plain": [
              "[0, 1, 2, 'a', 'b', 'c']"
            ]
          },
          "execution_count": 64,
          "metadata": {},
          "output_type": "execute_result"
        }
      ],
      "source": [
        "a = [0, 1, 2, \"a\", \"b\", \"c\"]\n",
        "a"
      ]
    },
    {
      "cell_type": "code",
      "execution_count": 65,
      "metadata": {},
      "outputs": [
        {
          "data": {
            "text/plain": [
              "(0, 'c', [1, 2, 'a'])"
            ]
          },
          "execution_count": 65,
          "metadata": {},
          "output_type": "execute_result"
        }
      ],
      "source": [
        "a[0], a[-1], a[1:4]"
      ]
    },
    {
      "cell_type": "markdown",
      "metadata": {},
      "source": [
        "\u307e\u305f\uff0c\u6587\u5b57\u5217\u540c\u69d8\uff0c\u52a0\u6cd5\u3068\u4e57\u6cd5\u306b\u3088\u308b\u6587\u5b57\u5217\u64cd\u4f5c\u3082\u53ef\u80fd\u3067\u3059\uff0e"
      ]
    },
    {
      "cell_type": "code",
      "execution_count": 66,
      "metadata": {},
      "outputs": [
        {
          "data": {
            "text/plain": [
              "[0, 1, 2, 'a', 'b', 'c', 0, 1, 2, 'a', 'b', 'c']"
            ]
          },
          "execution_count": 66,
          "metadata": {},
          "output_type": "execute_result"
        }
      ],
      "source": [
        "a + a"
      ]
    },
    {
      "cell_type": "code",
      "execution_count": 67,
      "metadata": {},
      "outputs": [
        {
          "data": {
            "text/plain": [
              "[0, 1, 2, 'a', 'b', 'c', 0, 1, 2, 'a', 'b', 'c', 0, 1, 2, 'a', 'b', 'c']"
            ]
          },
          "execution_count": 67,
          "metadata": {},
          "output_type": "execute_result"
        }
      ],
      "source": [
        "a * 3"
      ]
    },
    {
      "cell_type": "markdown",
      "metadata": {},
      "source": [
        "\u6587\u5b57\u5217\u3068\u306f\u7570\u306a\u308a\uff0c\u30ea\u30b9\u30c8\u306f\u53ef\u5909\u306a\u578b\u306a\u306e\u3067\u8981\u7d20\u3092\u5165\u308c\u66ff\u3048\u305f\u308a\u3059\u308b\u3053\u3068\u304c\u3067\u304d\u307e\u3059\uff0e"
      ]
    },
    {
      "cell_type": "code",
      "execution_count": 68,
      "metadata": {},
      "outputs": [
        {
          "data": {
            "text/plain": [
              "['a', 2, 16]"
            ]
          },
          "execution_count": 68,
          "metadata": {},
          "output_type": "execute_result"
        }
      ],
      "source": [
        "b = [0, 1, 2]\n",
        "b[0] = \"a\"\n",
        "b[1] = b[2]\n",
        "b[2] = b[2]**4\n",
        "b"
      ]
    },
    {
      "cell_type": "markdown",
      "metadata": {},
      "source": [
        "\u30b9\u30e9\u30a4\u30b9\u3054\u3068\u4ee3\u5165\u3059\u308b\u3053\u3068\u3082\u53ef\u80fd\u3067\u3059\uff0e"
      ]
    },
    {
      "cell_type": "code",
      "execution_count": 69,
      "metadata": {},
      "outputs": [
        {
          "data": {
            "text/plain": [
              "[0, 'a', 'b', 'c', 4]"
            ]
          },
          "execution_count": 69,
          "metadata": {},
          "output_type": "execute_result"
        }
      ],
      "source": [
        "c = [0, 1, 2, 3, 4]\n",
        "c[1:4] = [\"a\", \"b\", \"c\"]\n",
        "c"
      ]
    },
    {
      "cell_type": "markdown",
      "metadata": {},
      "source": [
        "\u5165\u308c\u5b50\u69cb\u9020\u3082\u30ea\u30b9\u30c8\u304b\u3089\u4f5c\u6210\u3059\u308b\u3053\u3068\u304c\u53ef\u80fd\u3067\u3059\uff0e"
      ]
    },
    {
      "cell_type": "code",
      "execution_count": 70,
      "metadata": {},
      "outputs": [
        {
          "data": {
            "text/plain": [
              "[[0, 1, 2], ['a', 'b', 'c', 'd']]"
            ]
          },
          "execution_count": 70,
          "metadata": {},
          "output_type": "execute_result"
        }
      ],
      "source": [
        "d0 = [0, 1, 2]\n",
        "d1 = [\"a\", \"b\", \"c\", \"d\"]\n",
        "d = [d0, d1]\n",
        "d"
      ]
    },
    {
      "cell_type": "markdown",
      "metadata": {},
      "source": [
        "\u8981\u7d20\u3084\u30ea\u30b9\u30c8\u5168\u4f53\u306e\u524a\u9664\u306b\u306f `del` \u3092\u7528\u3044\u307e\u3059\uff0e"
      ]
    },
    {
      "cell_type": "code",
      "execution_count": 71,
      "metadata": {},
      "outputs": [
        {
          "data": {
            "text/plain": [
              "['test']"
            ]
          },
          "execution_count": 71,
          "metadata": {},
          "output_type": "execute_result"
        }
      ],
      "source": [
        "e = [\"test\", \"delete\"]\n",
        "del e[-1]\n",
        "e"
      ]
    },
    {
      "cell_type": "code",
      "execution_count": 72,
      "metadata": {},
      "outputs": [
        {
          "ename": "NameError",
          "evalue": "name 'e' is not defined",
          "output_type": "error",
          "traceback": [
            "\u001b[1;31m---------------------------------------------------------------------------\u001b[0m",
            "\u001b[1;31mNameError\u001b[0m                                 Traceback (most recent call last)",
            "\u001b[1;32m~\\AppData\\Local\\Temp/ipykernel_4472/2743830455.py\u001b[0m in \u001b[0;36m<module>\u001b[1;34m\u001b[0m\n\u001b[0;32m      1\u001b[0m \u001b[1;32mdel\u001b[0m \u001b[0me\u001b[0m\u001b[1;33m\u001b[0m\u001b[1;33m\u001b[0m\u001b[0m\n\u001b[1;32m----> 2\u001b[1;33m \u001b[0me\u001b[0m\u001b[1;33m\u001b[0m\u001b[1;33m\u001b[0m\u001b[0m\n\u001b[0m",
            "\u001b[1;31mNameError\u001b[0m: name 'e' is not defined"
          ]
        }
      ],
      "source": [
        "del e\n",
        "e"
      ]
    },
    {
      "cell_type": "markdown",
      "metadata": {},
      "source": [
        "\u5909\u6570 `e` \u304c\u524a\u9664\u3055\u308c\u305f\u5f8c\uff0c\u518d\u3073 `e` \u3092\u51fa\u529b\u3057\u3088\u3046\u3068\u3057\u305f\u306e\u3067\uff0c\u672a\u5b9a\u7fa9\u3067\u3042\u308b\u3068\u30a8\u30e9\u30fc\u304c\u3067\u307e\u3057\u305f\uff0e"
      ]
    },
    {
      "cell_type": "markdown",
      "metadata": {},
      "source": [
        "\u7a7a\u306e\u30ea\u30b9\u30c8\u306e\u4f5c\u6210\u306f\uff0c\u8981\u7d20\u3092\u4f55\u3082\u66f8\u304b\u305a\u306b `[]` \u3068\u3059\u308b\u3060\u3051\u3067\u3059\uff0e"
      ]
    },
    {
      "cell_type": "code",
      "execution_count": 73,
      "metadata": {},
      "outputs": [
        {
          "data": {
            "text/plain": [
              "[]"
            ]
          },
          "execution_count": 73,
          "metadata": {},
          "output_type": "execute_result"
        }
      ],
      "source": [
        "a = []\n",
        "a"
      ]
    },
    {
      "cell_type": "markdown",
      "metadata": {},
      "source": [
        "\u30ea\u30b9\u30c8\u306e\u8981\u7d20\u306f\uff0c\u305d\u308c\u305e\u308c\u306e\u5909\u6570\u306b\u4ee3\u5165\u3059\u308b\u3053\u3068\u304c\u3067\u304d\uff0c\u4ee5\u4e0b\u306e\u3088\u3046\u306a\u64cd\u4f5c\u3092\u30a2\u30f3\u30d1\u30c3\u30af\u3068\u547c\u3073\u307e\u3059\uff0e"
      ]
    },
    {
      "cell_type": "code",
      "execution_count": 74,
      "metadata": {},
      "outputs": [
        {
          "data": {
            "text/plain": [
              "2"
            ]
          },
          "execution_count": 74,
          "metadata": {},
          "output_type": "execute_result"
        }
      ],
      "source": [
        "z = [1, 2, 3]\n",
        "a, b, c = z\n",
        "b"
      ]
    },
    {
      "cell_type": "code",
      "execution_count": 75,
      "metadata": {},
      "outputs": [
        {
          "data": {
            "text/plain": [
              "5"
            ]
          },
          "execution_count": 75,
          "metadata": {},
          "output_type": "execute_result"
        }
      ],
      "source": [
        "z = [1,2, [3,4,5,[6]]]\n",
        "a, b, c = z\n",
        "c0, c1, c2, c3 = c\n",
        "c2"
      ]
    },
    {
      "cell_type": "code",
      "execution_count": 76,
      "metadata": {},
      "outputs": [
        {
          "ename": "ValueError",
          "evalue": "too many values to unpack (expected 2)",
          "output_type": "error",
          "traceback": [
            "\u001b[1;31m---------------------------------------------------------------------------\u001b[0m",
            "\u001b[1;31mValueError\u001b[0m                                Traceback (most recent call last)",
            "\u001b[1;32m~\\AppData\\Local\\Temp/ipykernel_4472/1657746003.py\u001b[0m in \u001b[0;36m<module>\u001b[1;34m\u001b[0m\n\u001b[0;32m      1\u001b[0m \u001b[0mz\u001b[0m \u001b[1;33m=\u001b[0m \u001b[1;33m[\u001b[0m\u001b[1;36m1\u001b[0m\u001b[1;33m,\u001b[0m \u001b[1;36m2\u001b[0m\u001b[1;33m,\u001b[0m \u001b[1;36m3\u001b[0m\u001b[1;33m]\u001b[0m\u001b[1;33m\u001b[0m\u001b[1;33m\u001b[0m\u001b[0m\n\u001b[1;32m----> 2\u001b[1;33m \u001b[0ma\u001b[0m\u001b[1;33m,\u001b[0m \u001b[0mb\u001b[0m \u001b[1;33m=\u001b[0m \u001b[0mz\u001b[0m\u001b[1;33m\u001b[0m\u001b[1;33m\u001b[0m\u001b[0m\n\u001b[0m\u001b[0;32m      3\u001b[0m \u001b[0mb\u001b[0m\u001b[1;33m\u001b[0m\u001b[1;33m\u001b[0m\u001b[0m\n",
            "\u001b[1;31mValueError\u001b[0m: too many values to unpack (expected 2)"
          ]
        }
      ],
      "source": [
        "z = [1, 2, 3]\n",
        "a, b = z\n",
        "b"
      ]
    },
    {
      "cell_type": "markdown",
      "metadata": {},
      "source": [
        "\u4e0a\u8a18\u306e\u3088\u3046\u306b\uff0c\u30a2\u30f3\u30d1\u30c3\u30af\u3059\u308b\u969b\u306b\uff0c\u4ee3\u5165\u3055\u308c\u308b\u5909\u6570\u306e\u6570\u304c\u8981\u7d20\u306e\u6570\u3088\u308a\u3082\u5c11\u306a\u3044\u5834\u5408\u306f `ValueError` \u304c\u9001\u51fa\u3055\u308c\u307e\u3059\uff0e  \n",
        "\u3053\u308c\u306e\u89e3\u6c7a\u65b9\u6cd5\u3068\u3057\u3066\uff0c\u5909\u6570\u540d\u306b\u30a2\u30b9\u30bf\u30ea\u30b9\u30af `*` \u3092\u4ed8\u4e0e\u3059\u308b\u3053\u3068\u306b\u3088\u308a\uff0c\u6b8b\u308a\u306e\u8981\u7d20\u304c\u307e\u3068\u3081\u3066\u4ee3\u5165\u3055\u308c\u307e\u3059\uff0e  \n",
        "\u8907\u6570\u306e\u5909\u6570\u306b\u30a2\u30b9\u30bf\u30ea\u30b9\u30af\u3092\u4ed8\u3051\u305f\u5834\u5408\u306f\uff0c`SyntaxError` \u304c\u9001\u51fa\u3055\u308c\u307e\u3059\uff0e"
      ]
    },
    {
      "cell_type": "code",
      "execution_count": 77,
      "metadata": {},
      "outputs": [
        {
          "data": {
            "text/plain": [
              "[2, 3, 4, 5]"
            ]
          },
          "execution_count": 77,
          "metadata": {},
          "output_type": "execute_result"
        }
      ],
      "source": [
        "z = [1, 2, 3, 4, 5]\n",
        "a, *b = z\n",
        "b"
      ]
    },
    {
      "cell_type": "code",
      "execution_count": 78,
      "metadata": {},
      "outputs": [
        {
          "data": {
            "text/plain": [
              "5"
            ]
          },
          "execution_count": 78,
          "metadata": {},
          "output_type": "execute_result"
        }
      ],
      "source": [
        "z = [1, 2, 3, 4, 5]\n",
        "*a, b = z\n",
        "b"
      ]
    },
    {
      "cell_type": "code",
      "execution_count": 79,
      "metadata": {},
      "outputs": [
        {
          "ename": "SyntaxError",
          "evalue": "two starred expressions in assignment (Temp/ipykernel_4472/1964158954.py, line 2)",
          "output_type": "error",
          "traceback": [
            "\u001b[1;36m  File \u001b[1;32m\"C:\\Users\\Kazuto\\AppData\\Local\\Temp/ipykernel_4472/1964158954.py\"\u001b[1;36m, line \u001b[1;32m2\u001b[0m\n\u001b[1;33m    *a, *b = z\u001b[0m\n\u001b[1;37m    ^\u001b[0m\n\u001b[1;31mSyntaxError\u001b[0m\u001b[1;31m:\u001b[0m two starred expressions in assignment\n"
          ]
        }
      ],
      "source": [
        "z = [1, 2, 3, 4, 5]\n",
        "*a, *b = z\n",
        "b"
      ]
    },
    {
      "cell_type": "markdown",
      "metadata": {
        "tags": []
      },
      "source": [
        "\u30ea\u30b9\u30c8\u306e\u64cd\u4f5c\u306f\u4ed6\u306b\u3082\u8272\u3005\u3042\u308a\uff0c\u30ea\u30b9\u30c8\u306e\u5f8c\u306b `.\u30e1\u30bd\u30c3\u30c9(...)` \u3068\u3044\u3046\u98a8\u306b\u7528\u3044\u307e\u3059\uff0e  \n",
        "\u4ee5\u4e0b\uff0c\u516c\u5f0f\u30c9\u30ad\u30e5\u30e1\u30f3\u30c8 (https://docs.python.org/ja/3.7/tutorial/datastructures.html) \u3092\u53c2\u8003\u306b\u3057\u3066\u8a18\u8f09\u3057\u307e\u3059\uff0e"
      ]
    },
    {
      "cell_type": "markdown",
      "metadata": {},
      "source": [
        "- `list.append(x)`: \u30ea\u30b9\u30c8\u306e\u672b\u5c3e\u306b\u8981\u7d20 `x` \u30921\u3064\u8ffd\u52a0\u3057\u307e\u3059\uff0e"
      ]
    },
    {
      "cell_type": "code",
      "execution_count": 80,
      "metadata": {},
      "outputs": [
        {
          "data": {
            "text/plain": [
              "['aaa', 1, 10]"
            ]
          },
          "execution_count": 80,
          "metadata": {},
          "output_type": "execute_result"
        }
      ],
      "source": [
        "arr = [\"aaa\"]\n",
        "arr.append(1)\n",
        "arr.append(10)\n",
        "arr"
      ]
    },
    {
      "cell_type": "markdown",
      "metadata": {},
      "source": [
        "- `list.extend(iterable)`: \u30a4\u30c6\u30e9\u30d6\u30eb\u306e\u5168\u3066\u306e\u8981\u7d20\u3092\u5bfe\u8c61\u306e\u30ea\u30b9\u30c8\u306b\u8ffd\u52a0\u3057\uff0c\u30ea\u30b9\u30c8\u3092\u62e1\u5f35\u3057\u307e\u3059\uff0e"
      ]
    },
    {
      "cell_type": "code",
      "execution_count": 81,
      "metadata": {},
      "outputs": [
        {
          "data": {
            "text/plain": [
              "['aaa', 'b', 'c', 'c', 'c', 'c', 'c', 'c', 'c', 'ddd', 1000]"
            ]
          },
          "execution_count": 81,
          "metadata": {},
          "output_type": "execute_result"
        }
      ],
      "source": [
        "arr = [\"aaa\"]\n",
        "arr.extend(\"b\")\n",
        "arr.extend(\"ccccccc\")\n",
        "arr.extend([\"ddd\"])\n",
        "arr.extend([1000])\n",
        "arr"
      ]
    },
    {
      "cell_type": "markdown",
      "metadata": {},
      "source": [
        "\u4f8b\u3048\u3070\uff0c\u6570\u5b57\u306f\u30a4\u30c6\u30e9\u30d6\u30eb\u3067\u306f\u306a\u3044\u306e\u3067\uff0c\u305d\u306e\u307e\u307e `extend` \u306f\u3067\u304d\u305a\uff0c\u30a8\u30e9\u30fc\u306b\u306a\u308a\u307e\u3059\uff0e"
      ]
    },
    {
      "cell_type": "code",
      "execution_count": 82,
      "metadata": {},
      "outputs": [
        {
          "ename": "TypeError",
          "evalue": "'int' object is not iterable",
          "output_type": "error",
          "traceback": [
            "\u001b[1;31m---------------------------------------------------------------------------\u001b[0m",
            "\u001b[1;31mTypeError\u001b[0m                                 Traceback (most recent call last)",
            "\u001b[1;32m~\\AppData\\Local\\Temp/ipykernel_4472/1159857722.py\u001b[0m in \u001b[0;36m<module>\u001b[1;34m\u001b[0m\n\u001b[1;32m----> 1\u001b[1;33m \u001b[0marr\u001b[0m\u001b[1;33m.\u001b[0m\u001b[0mextend\u001b[0m\u001b[1;33m(\u001b[0m\u001b[1;36m1000\u001b[0m\u001b[1;33m)\u001b[0m\u001b[1;33m\u001b[0m\u001b[1;33m\u001b[0m\u001b[0m\n\u001b[0m",
            "\u001b[1;31mTypeError\u001b[0m: 'int' object is not iterable"
          ]
        }
      ],
      "source": [
        "arr.extend(1000)"
      ]
    },
    {
      "cell_type": "markdown",
      "metadata": {},
      "source": [
        "- `list.insert(i, x)`: \u6307\u5b9a\u3057\u305f\u4f4d\u7f6e\u306b\u8981\u7d20\u3092\u633f\u5165\u3057\u307e\u3059\uff0e\u7b2c1\u5f15\u6570\u306f\u30ea\u30b9\u30c8\u306e\u30a4\u30f3\u30c7\u30c3\u30af\u30b9\u3067\uff0c\u3053\u306e\u30a4\u30f3\u30c7\u30c3\u30af\u30b9\u3092\u6301\u3064\u8981\u7d20\u306e\u76f4\u524d\u306b\u633f\u5165\u304c\u884c\u308f\u308c\u307e\u3059\uff0e"
      ]
    },
    {
      "cell_type": "code",
      "execution_count": 83,
      "metadata": {},
      "outputs": [
        {
          "data": {
            "text/plain": [
              "['a', '\u3042', 'bb', 'ccc', 256, 'dddd']"
            ]
          },
          "execution_count": 83,
          "metadata": {},
          "output_type": "execute_result"
        }
      ],
      "source": [
        "arr = [\"a\", \"bb\", \"ccc\", \"dddd\"]\n",
        "arr.insert(1, \"\u3042\")\n",
        "arr.insert(-1, 2**8)\n",
        "arr"
      ]
    },
    {
      "cell_type": "markdown",
      "metadata": {},
      "source": [
        "- `list.remove(x)`: \u30ea\u30b9\u30c8\u4e2d\u3067 `x` \u3068\u7b49\u3057\u3044\u5024\u3092\u6301\u3064\u6700\u521d\u306e\u8981\u7d20\u3092\u524a\u9664\u3057\u307e\u3059\uff0e\u8a72\u5f53\u3059\u308b\u8981\u7d20\u304c\u7121\u3051\u308c\u3070 `ValueError` \u304c\u9001\u51fa\u3055\u308c\u307e\u3059\uff0e"
      ]
    },
    {
      "cell_type": "code",
      "execution_count": 84,
      "metadata": {},
      "outputs": [
        {
          "data": {
            "text/plain": [
              "['bb', 'ccc', 'dddd']"
            ]
          },
          "execution_count": 84,
          "metadata": {},
          "output_type": "execute_result"
        }
      ],
      "source": [
        "arr = [\"a\", \"bb\", \"ccc\", \"dddd\"]\n",
        "arr.remove(\"a\")\n",
        "arr"
      ]
    },
    {
      "cell_type": "code",
      "execution_count": 85,
      "metadata": {},
      "outputs": [
        {
          "ename": "ValueError",
          "evalue": "list.remove(x): x not in list",
          "output_type": "error",
          "traceback": [
            "\u001b[1;31m---------------------------------------------------------------------------\u001b[0m",
            "\u001b[1;31mValueError\u001b[0m                                Traceback (most recent call last)",
            "\u001b[1;32m~\\AppData\\Local\\Temp/ipykernel_4472/3654038372.py\u001b[0m in \u001b[0;36m<module>\u001b[1;34m\u001b[0m\n\u001b[0;32m      1\u001b[0m \u001b[0marr\u001b[0m \u001b[1;33m=\u001b[0m \u001b[1;33m[\u001b[0m\u001b[1;34m\"a\"\u001b[0m\u001b[1;33m,\u001b[0m \u001b[1;34m\"bb\"\u001b[0m\u001b[1;33m,\u001b[0m \u001b[1;34m\"ccc\"\u001b[0m\u001b[1;33m,\u001b[0m \u001b[1;34m\"dddd\"\u001b[0m\u001b[1;33m]\u001b[0m\u001b[1;33m\u001b[0m\u001b[1;33m\u001b[0m\u001b[0m\n\u001b[1;32m----> 2\u001b[1;33m \u001b[0marr\u001b[0m\u001b[1;33m.\u001b[0m\u001b[0mremove\u001b[0m\u001b[1;33m(\u001b[0m\u001b[1;34m\"b\"\u001b[0m\u001b[1;33m)\u001b[0m\u001b[1;33m\u001b[0m\u001b[1;33m\u001b[0m\u001b[0m\n\u001b[0m\u001b[0;32m      3\u001b[0m \u001b[0marr\u001b[0m\u001b[1;33m\u001b[0m\u001b[1;33m\u001b[0m\u001b[0m\n",
            "\u001b[1;31mValueError\u001b[0m: list.remove(x): x not in list"
          ]
        }
      ],
      "source": [
        "arr = [\"a\", \"bb\", \"ccc\", \"dddd\"]\n",
        "arr.remove(\"b\")\n",
        "arr"
      ]
    },
    {
      "cell_type": "markdown",
      "metadata": {},
      "source": [
        "- `list.pop(i)`: \u30ea\u30b9\u30c8\u4e2d\u306e\u6307\u5b9a\u3055\u308c\u305f\u4f4d\u7f6e\u306b\u3042\u308b\u8981\u7d20\u3092\u30ea\u30b9\u30c8\u304b\u3089\u524a\u9664\u3057\u3066\uff0c\u305d\u306e\u8981\u7d20\u3092\u8fd4\u3057\u307e\u3059\uff0e\u30a4\u30f3\u30c7\u30c3\u30af\u30b9\u304c\u6307\u5b9a\u3055\u308c\u306a\u3051\u308c\u3070\uff0c`a.pop()` \u306f\u30ea\u30b9\u30c8\u306e\u672b\u5c3e\u306e\u8981\u7d20\u3092\u524a\u9664\u3057\u3066\u8fd4\u3057\uff0c\u3053\u306e\u5834\u5408\u3082\u8981\u7d20\u306f\u524a\u9664\u3055\u308c\u307e\u3059\uff0e"
      ]
    },
    {
      "cell_type": "code",
      "execution_count": 86,
      "metadata": {},
      "outputs": [
        {
          "data": {
            "text/plain": [
              "['ccc']"
            ]
          },
          "execution_count": 86,
          "metadata": {},
          "output_type": "execute_result"
        }
      ],
      "source": [
        "arr = [\"a\", \"bb\", \"ccc\", \"dddd\"]\n",
        "arr.pop(-1)\n",
        "arr.pop(0)\n",
        "arr.pop(0)\n",
        "arr"
      ]
    },
    {
      "cell_type": "markdown",
      "metadata": {},
      "source": [
        "- `list.clear()`: \u30ea\u30b9\u30c8\u4e2d\u306e\u5168\u3066\u306e\u8981\u7d20\u3092\u524a\u9664\u3057\u307e\u3059\uff0e"
      ]
    },
    {
      "cell_type": "code",
      "execution_count": 87,
      "metadata": {},
      "outputs": [
        {
          "data": {
            "text/plain": [
              "[]"
            ]
          },
          "execution_count": 87,
          "metadata": {},
          "output_type": "execute_result"
        }
      ],
      "source": [
        "arr = [\"a\", \"bb\", \"ccc\", \"dddd\"]\n",
        "arr.clear()\n",
        "arr"
      ]
    },
    {
      "cell_type": "markdown",
      "metadata": {},
      "source": [
        "- `list.index(x, start, end)`: \u30ea\u30b9\u30c8\u4e2d\u3067 `x` \u3068\u7b49\u3057\u3044\u5024\u3092\u6301\u3064\u6700\u521d\u306e\u8981\u7d20\u306e\u4f4d\u7f6e\u3092\u30bc\u30ed\u304b\u3089\u59cb\u307e\u308b\u30a4\u30f3\u30c7\u30c3\u30af\u30b9\u3067\u8fd4\u3057\u307e\u3059\uff0e\u8a72\u5f53\u3059\u308b\u8981\u7d20\u304c\u7121\u3051\u308c\u3070 `ValueError` \u304c\u9001\u51fa\u3055\u308c\u307e\u3059\uff0e"
      ]
    },
    {
      "cell_type": "code",
      "execution_count": 88,
      "metadata": {},
      "outputs": [
        {
          "data": {
            "text/plain": [
              "1"
            ]
          },
          "execution_count": 88,
          "metadata": {},
          "output_type": "execute_result"
        }
      ],
      "source": [
        "arr = [\"a\", \"bb\", \"ccc\", \"dddd\"]\n",
        "arr.index(\"bb\")"
      ]
    },
    {
      "cell_type": "code",
      "execution_count": 89,
      "metadata": {},
      "outputs": [
        {
          "ename": "ValueError",
          "evalue": "'b' is not in list",
          "output_type": "error",
          "traceback": [
            "\u001b[1;31m---------------------------------------------------------------------------\u001b[0m",
            "\u001b[1;31mValueError\u001b[0m                                Traceback (most recent call last)",
            "\u001b[1;32m~\\AppData\\Local\\Temp/ipykernel_4472/1344072699.py\u001b[0m in \u001b[0;36m<module>\u001b[1;34m\u001b[0m\n\u001b[1;32m----> 1\u001b[1;33m \u001b[0marr\u001b[0m\u001b[1;33m.\u001b[0m\u001b[0mindex\u001b[0m\u001b[1;33m(\u001b[0m\u001b[1;34m\"b\"\u001b[0m\u001b[1;33m)\u001b[0m\u001b[1;33m\u001b[0m\u001b[1;33m\u001b[0m\u001b[0m\n\u001b[0m",
            "\u001b[1;31mValueError\u001b[0m: 'b' is not in list"
          ]
        }
      ],
      "source": [
        "arr.index(\"b\")"
      ]
    },
    {
      "cell_type": "markdown",
      "metadata": {},
      "source": [
        "- `list.count(x)`: \u30ea\u30b9\u30c8\u3067\u306e `x` \u306e\u51fa\u73fe\u56de\u6570\u3092\u8fd4\u3057\u307e\u3059\uff0e"
      ]
    },
    {
      "cell_type": "code",
      "execution_count": 90,
      "metadata": {},
      "outputs": [
        {
          "data": {
            "text/plain": [
              "4"
            ]
          },
          "execution_count": 90,
          "metadata": {},
          "output_type": "execute_result"
        }
      ],
      "source": [
        "arr = [1, 1, 2, 3, 4, 5, 5, 1, 1, \"a\"]\n",
        "arr.count(1)"
      ]
    },
    {
      "cell_type": "markdown",
      "metadata": {},
      "source": [
        "- `list.sort(key=None, reverse=False)`: \u30ea\u30b9\u30c8\u306e\u9805\u76ee\u3092\uff0c\u30a4\u30f3\u30d7\u30ec\u30fc\u30b9\u6f14\u7b97 (in place\uff0c\u5143\u306e\u30c7\u30fc\u30bf\u3092\u6f14\u7b97\u7d50\u679c\u3067\u7f6e\u304d\u63db\u3048\u308b\u3084\u308a\u304b\u305f) \u3067\u30bd\u30fc\u30c8\u3057\u307e\u3059\uff0e"
      ]
    },
    {
      "cell_type": "code",
      "execution_count": 91,
      "metadata": {},
      "outputs": [
        {
          "data": {
            "text/plain": [
              "[0.9999999, 1, 1, 1, 1.00001, 2, 3, 4, 5, 5]"
            ]
          },
          "execution_count": 91,
          "metadata": {},
          "output_type": "execute_result"
        }
      ],
      "source": [
        "arr = [1, 1, 2, 3, 4, 5, 5, 1, 1.00001, 1-1/10000000]\n",
        "arr.sort()\n",
        "arr"
      ]
    },
    {
      "cell_type": "code",
      "execution_count": 92,
      "metadata": {},
      "outputs": [
        {
          "data": {
            "text/plain": [
              "['\\n', '___', 'a', 'aaaa', 'z', '\u3042', '\u304b']"
            ]
          },
          "execution_count": 92,
          "metadata": {},
          "output_type": "execute_result"
        }
      ],
      "source": [
        "arr = [\"\\n\", \"\u304b\", \"z\", \"a\", \"aaaa\", \"___\", \"\u3042\"]\n",
        "arr.sort()\n",
        "arr"
      ]
    },
    {
      "cell_type": "markdown",
      "metadata": {},
      "source": [
        "\u6570\u5024\u3068\u6587\u5b57\u5217\u304c\u540c\u4e00\u306e\u30ea\u30b9\u30c8\u306b\u3042\u308b\u5834\u5408\u3067 `sort()` \u3092\u9069\u7528\u3057\u305f\u5834\u5408\u306f\u30a8\u30e9\u30fc `TypeError` \u304c\u9001\u51fa\u3055\u308c\u307e\u3059\uff0e"
      ]
    },
    {
      "cell_type": "code",
      "execution_count": 93,
      "metadata": {},
      "outputs": [
        {
          "ename": "TypeError",
          "evalue": "'<' not supported between instances of 'str' and 'int'",
          "output_type": "error",
          "traceback": [
            "\u001b[1;31m---------------------------------------------------------------------------\u001b[0m",
            "\u001b[1;31mTypeError\u001b[0m                                 Traceback (most recent call last)",
            "\u001b[1;32m~\\AppData\\Local\\Temp/ipykernel_4472/2493599537.py\u001b[0m in \u001b[0;36m<module>\u001b[1;34m\u001b[0m\n\u001b[0;32m      1\u001b[0m \u001b[0marr\u001b[0m \u001b[1;33m=\u001b[0m \u001b[1;33m[\u001b[0m\u001b[1;36m1\u001b[0m\u001b[1;33m,\u001b[0m \u001b[1;34m\"1\"\u001b[0m\u001b[1;33m,\u001b[0m \u001b[1;36m2\u001b[0m\u001b[1;33m,\u001b[0m \u001b[1;36m3\u001b[0m\u001b[1;33m,\u001b[0m \u001b[1;36m4\u001b[0m\u001b[1;33m,\u001b[0m \u001b[1;36m5\u001b[0m\u001b[1;33m,\u001b[0m \u001b[1;36m5\u001b[0m\u001b[1;33m,\u001b[0m \u001b[1;36m1\u001b[0m\u001b[1;33m,\u001b[0m \u001b[1;36m1.00001\u001b[0m\u001b[1;33m,\u001b[0m \u001b[1;36m1\u001b[0m\u001b[1;33m-\u001b[0m\u001b[1;36m1\u001b[0m\u001b[1;33m/\u001b[0m\u001b[1;36m10000000\u001b[0m\u001b[1;33m]\u001b[0m\u001b[1;33m\u001b[0m\u001b[1;33m\u001b[0m\u001b[0m\n\u001b[1;32m----> 2\u001b[1;33m \u001b[0marr\u001b[0m\u001b[1;33m.\u001b[0m\u001b[0msort\u001b[0m\u001b[1;33m(\u001b[0m\u001b[1;33m)\u001b[0m\u001b[1;33m\u001b[0m\u001b[1;33m\u001b[0m\u001b[0m\n\u001b[0m\u001b[0;32m      3\u001b[0m \u001b[0marr\u001b[0m\u001b[1;33m\u001b[0m\u001b[1;33m\u001b[0m\u001b[0m\n",
            "\u001b[1;31mTypeError\u001b[0m: '<' not supported between instances of 'str' and 'int'"
          ]
        }
      ],
      "source": [
        "arr = [1, \"1\", 2, 3, 4, 5, 5, 1, 1.00001, 1-1/10000000]\n",
        "arr.sort()\n",
        "arr"
      ]
    },
    {
      "cell_type": "markdown",
      "metadata": {},
      "source": [
        "- `list.reverse()`: \u30ea\u30b9\u30c8\u306e\u8981\u7d20\u3092\u30a4\u30f3\u30d7\u30ec\u30fc\u30b9\u6f14\u7b97\u3067\u9006\u9806\u306b\u3057\u307e\u3059\uff0e"
      ]
    },
    {
      "cell_type": "code",
      "execution_count": 94,
      "metadata": {},
      "outputs": [
        {
          "data": {
            "text/plain": [
              "[1000, 'a', 5, 2, 1, 0]"
            ]
          },
          "execution_count": 94,
          "metadata": {},
          "output_type": "execute_result"
        }
      ],
      "source": [
        "arr = [0, 1, 2, 5, \"a\", 1000]\n",
        "arr.reverse()\n",
        "arr"
      ]
    },
    {
      "cell_type": "markdown",
      "metadata": {},
      "source": [
        "---\n",
        "\n",
        "## 4. \u30bf\u30d7\u30eb <a class=\"anchor\" id=\"4\"></a>  \n",
        "[\u76ee\u6b21\u306b\u623b\u308b](#0)  "
      ]
    },
    {
      "cell_type": "markdown",
      "metadata": {},
      "source": [
        "\u30bf\u30d7\u30eb\u3082\u30ea\u30b9\u30c8\u306b\u4f3c\u3066\uff0c\u5165\u308c\u7269\u306e\u3088\u3046\u306b\u4f7f\u3044\u307e\u3059\uff0e  \n",
        "\u4ee5\u4e0b\u306e\u3088\u3046\u306b\uff0c\u30bf\u30d7\u30eb\u306f\u30ab\u30f3\u30de\u533a\u5207\u308a\u306e\u5024\u304b\u3089\u751f\u6210\u3067\u304d\u307e\u3059\uff0e"
      ]
    },
    {
      "cell_type": "code",
      "execution_count": 95,
      "metadata": {},
      "outputs": [
        {
          "data": {
            "text/plain": [
              "(1, 2, 'a')"
            ]
          },
          "execution_count": 95,
          "metadata": {},
          "output_type": "execute_result"
        }
      ],
      "source": [
        "1, 2, \"a\""
      ]
    },
    {
      "cell_type": "markdown",
      "metadata": {},
      "source": [
        "\u51fa\u529b\u306b\u306f `( )` \u304c\u3064\u3044\u3066\u3044\u307e\u3059\u304c\uff0c\u4ee3\u5165\uff08\u5b9a\u7fa9\uff09\u306e\u969b\u306f\u5fc5\u305a\u3057\u3082 `( )` \u306f\u5fc5\u8981\u3067\u306f\u3042\u308a\u307e\u305b\u3093\uff0e"
      ]
    },
    {
      "cell_type": "code",
      "execution_count": 96,
      "metadata": {},
      "outputs": [
        {
          "data": {
            "text/plain": [
              "(1, 2, 'a')"
            ]
          },
          "execution_count": 96,
          "metadata": {},
          "output_type": "execute_result"
        }
      ],
      "source": [
        "(1, 2, \"a\")"
      ]
    },
    {
      "cell_type": "code",
      "execution_count": 97,
      "metadata": {},
      "outputs": [
        {
          "data": {
            "text/plain": [
              "(1, 2, 'a')"
            ]
          },
          "execution_count": 97,
          "metadata": {},
          "output_type": "execute_result"
        }
      ],
      "source": [
        "arr = 1,2,\"a\"\n",
        "arr"
      ]
    },
    {
      "cell_type": "markdown",
      "metadata": {},
      "source": [
        "\u8981\u7d20\u304c1\u3064\u306e\u5834\u5408\uff0c\u8981\u7d20\u306e\u5f8c\u306b\u30ab\u30f3\u30de\u3092\u5165\u308c\u306a\u3044\u3068\uff0c\u30bf\u30d7\u30eb\u3067\u306a\u304f\uff0c\u5358\u306a\u308b\u5024\u3068\u3057\u3066\u8a8d\u8b58\u3055\u308c\u307e\u3059\uff0e"
      ]
    },
    {
      "cell_type": "code",
      "execution_count": 98,
      "metadata": {},
      "outputs": [
        {
          "data": {
            "text/plain": [
              "1"
            ]
          },
          "execution_count": 98,
          "metadata": {},
          "output_type": "execute_result"
        }
      ],
      "source": [
        "arr = (1)\n",
        "arr"
      ]
    },
    {
      "cell_type": "code",
      "execution_count": 99,
      "metadata": {},
      "outputs": [
        {
          "data": {
            "text/plain": [
              "(1,)"
            ]
          },
          "execution_count": 99,
          "metadata": {},
          "output_type": "execute_result"
        }
      ],
      "source": [
        "arr = (1,)\n",
        "arr"
      ]
    },
    {
      "cell_type": "markdown",
      "metadata": {},
      "source": [
        "\u30ea\u30b9\u30c8\u306f\u53ef\u5909\uff08\u30df\u30e5\u30fc\u30bf\u30d6\u30eb, mutable\uff09\u3067\u3042\u308b\u3053\u3068\u306b\u5bfe\u3057\uff0c\u30bf\u30d7\u30eb\u306f\u4e0d\u5909\uff08\u30a4\u30df\u30e5\u30fc\u30bf\u30d6\u30eb\uff0cimmutable\uff09\u3067\u3042\u308b\u305f\u3081\uff0c\u4f3c\u3066\u3044\u308b\u30aa\u30d6\u30b8\u30a7\u30af\u30c8\u306b\u898b\u3048\u307e\u3059\u304c\uff0c\u30ea\u30b9\u30c8\u3067\u7528\u3044\u305f\u30e1\u30bd\u30c3\u30c9\u306e\u5927\u534a\u306f\u4f7f\u3046\u3053\u3068\u304c\u3067\u304d\u305a\uff0c\u5f79\u5272\u304c\u7570\u306a\u308a\u307e\u3059\uff0e  \n",
        "\u30bf\u30d7\u30eb\u306f\u4e3b\u306b\uff0c\n",
        "\n",
        "- \u683c\u7d0d\u3057\u3066\u3044\u308b\u8981\u7d20\u3092\u5909\u66f4\u3057\u305f\u304f\u306a\u3044\u5834\u5408\n",
        "- \u4f8b\u3048\u3070\uff0c\u5f8c\u8ff0\u3059\u308b\u8f9e\u66f8\u578b\u306e\u30ad\u30fc\u306f\u30cf\u30c3\u30b7\u30e5\u53ef\u80fd\u306a\uff08hashable, \u751f\u5b58\u671f\u9593\u4e2d\u5909\u308f\u3089\u306a\u3044\u30cf\u30c3\u30b7\u30e5\u5024\u3092\u6301\u3061\u4ed6\u306e\u30aa\u30d6\u30b8\u30a7\u30af\u30c8\u3068\u6bd4\u8f03\u304c\u3067\u304d\u308b\uff09\u30aa\u30d6\u30b8\u30a7\u30af\u30c8\u3067\u3042\u308b\u5fc5\u8981\u304c\u3042\u308a\uff0c\u30df\u30e5\u30fc\u30bf\u30d6\u30eb\u306a\u30bf\u30d7\u30eb\u306f\u81ea\u8eab\u3092\u9664\u3044\u305f\u6bd4\u8f03\u7d50\u679c\u306f\u975e\u7b49\u4fa1\u3067\u3042\u308b\u3053\u3068\u304b\u3089\u53d7\u3051\u4ed8\u3051\u308b\u304c\uff0c\u30a4\u30df\u30e5\u30fc\u30bf\u30d6\u30eb\uff08unhashable\uff09\u306a\u30ea\u30b9\u30c8\u306f\u53d7\u3051\u4ed8\u3051\u3089\u308c\u306a\u3044\n",
        "\n",
        "\u4e0a\u8a182\u3064\u306e\u5834\u5408\u306b\u7528\u3044\u3089\u308c\u307e\u3059\uff0e\u5f15\u6570\u3068\u3057\u3066\u30df\u30e5\u30fc\u30bf\u30d6\u30eb\u306a\u30aa\u30d6\u30b8\u30a7\u30af\u30c8\u306e\u307f\u53d7\u3051\u4ed8\u3051\u308b\u30e9\u30a4\u30d6\u30e9\u30ea\u3082\u591a\u3044\u306e\u3067\uff0c\u30bf\u30d7\u30eb\u3068\u30ea\u30b9\u30c8\u306e\u51fa\u756a\u306f\u5927\u304d\u304f\u7570\u306a\u308b\u3068\u8a00\u3048\u307e\u3059\uff0e  "
      ]
    },
    {
      "cell_type": "markdown",
      "metadata": {},
      "source": [
        "\u30bf\u30d7\u30eb\u306b\u7528\u3044\u308b\u3053\u3068\u304c\u3067\u304d\u308b\u30e1\u30bd\u30c3\u30c9\u306f\uff0c\n",
        "\n",
        "- index\n",
        "- count\n",
        "\n",
        "\u306e\u4e8c\u3064\u3067\uff0c\u4f7f\u3044\u65b9\u306f\u30ea\u30b9\u30c8\u3068\u540c\u3058\u306a\u306e\u3067\u7701\u7565\u3057\u307e\u3059\uff0e\u30a2\u30f3\u30d1\u30c3\u30af\u3082\u540c\u69d8\u3067\u3059\uff0e"
      ]
    },
    {
      "cell_type": "markdown",
      "metadata": {},
      "source": [
        "\u7a7a\u306e\u30bf\u30d7\u30eb\u306e\u4f5c\u6210\u306f\uff0c\u8981\u7d20\u3092\u4f55\u3082\u66f8\u304b\u305a\u306b `()` \u3068\u3059\u308b\u3060\u3051\u3067\u3059\uff0e"
      ]
    },
    {
      "cell_type": "code",
      "execution_count": 100,
      "metadata": {},
      "outputs": [
        {
          "data": {
            "text/plain": [
              "()"
            ]
          },
          "execution_count": 100,
          "metadata": {},
          "output_type": "execute_result"
        }
      ],
      "source": [
        "a = ()\n",
        "a"
      ]
    },
    {
      "cell_type": "markdown",
      "metadata": {},
      "source": [
        "---\n",
        "\n",
        "## 5. \u96c6\u5408 <a class=\"anchor\" id=\"5\"></a>  \n",
        "[\u76ee\u6b21\u306b\u623b\u308b](#0)  "
      ]
    },
    {
      "cell_type": "markdown",
      "metadata": {},
      "source": [
        "\u96c6\u5408\uff08set\uff09\u3068\u306f\uff0c\u91cd\u8907\u3059\u308b\u8981\u7d20\u3092\u6301\u305f\u305a\uff0c\u9806\u5e8f\u3065\u3051\u3089\u308c\u3066\u3044\u306a\u3044\u8981\u7d20\u306e\u96c6\u307e\u308a\u3067\uff0c\u96c6\u5408\u6f14\u7b97\u304c\u53ef\u80fd\u3067\u3059\uff0e  \n",
        "\u96c6\u5408\u306f `{a, b, ...}` \u306e\u3088\u3046\u306b\u5b9a\u7fa9\u3059\u308b\u304b\uff0c\u6587\u5b57\u5217\uff0c\u30ea\u30b9\u30c8\uff0c\u30bf\u30d7\u30eb\u306a\u3069 iterable \u306a\u30aa\u30d6\u30b8\u30a7\u30af\u30c8\u306b\u5bfe\u3057\uff0c`set(iterable)` \u3068\u3044\u3046\u98a8\u306bset\u95a2\u6570\u3092\u7528\u3044\u308b\u3053\u3068\u3067\u5b9a\u7fa9\u3067\u304d\u307e\u3059\uff0e  "
      ]
    },
    {
      "cell_type": "code",
      "execution_count": 101,
      "metadata": {},
      "outputs": [
        {
          "data": {
            "text/plain": [
              "{1, 2, 3, 4, 5, 6, 7, 'a'}"
            ]
          },
          "execution_count": 101,
          "metadata": {},
          "output_type": "execute_result"
        }
      ],
      "source": [
        "{1, 2, \"a\", 3, 1, 2, 3, 1, 2, 3, 4, 5, 6, 7}"
      ]
    },
    {
      "cell_type": "code",
      "execution_count": 102,
      "metadata": {},
      "outputs": [
        {
          "data": {
            "text/plain": [
              "{'a', 'c', 'e', 'h', 'i', 'n', 'o', 'r', 't', 'u'}"
            ]
          },
          "execution_count": 102,
          "metadata": {},
          "output_type": "execute_result"
        }
      ],
      "source": [
        "txt = \"irohanihohetochirinuruo\"\n",
        "set(txt)"
      ]
    },
    {
      "cell_type": "code",
      "execution_count": 103,
      "metadata": {},
      "outputs": [
        {
          "data": {
            "text/plain": [
              "{(1, 3), 1, 3, 4, 5}"
            ]
          },
          "execution_count": 103,
          "metadata": {},
          "output_type": "execute_result"
        }
      ],
      "source": [
        "arr = [1, 5, 4, 3, 5, 5, (1,3)]\n",
        "set(arr)"
      ]
    },
    {
      "cell_type": "code",
      "execution_count": 104,
      "metadata": {},
      "outputs": [
        {
          "ename": "TypeError",
          "evalue": "unhashable type: 'list'",
          "output_type": "error",
          "traceback": [
            "\u001b[1;31m---------------------------------------------------------------------------\u001b[0m",
            "\u001b[1;31mTypeError\u001b[0m                                 Traceback (most recent call last)",
            "\u001b[1;32m~\\AppData\\Local\\Temp/ipykernel_4472/3718866804.py\u001b[0m in \u001b[0;36m<module>\u001b[1;34m\u001b[0m\n\u001b[0;32m      1\u001b[0m \u001b[0marr\u001b[0m \u001b[1;33m=\u001b[0m \u001b[1;33m[\u001b[0m\u001b[1;36m1\u001b[0m\u001b[1;33m,\u001b[0m \u001b[1;36m5\u001b[0m\u001b[1;33m,\u001b[0m \u001b[1;36m4\u001b[0m\u001b[1;33m,\u001b[0m \u001b[1;36m3\u001b[0m\u001b[1;33m,\u001b[0m \u001b[1;36m5\u001b[0m\u001b[1;33m,\u001b[0m \u001b[1;36m5\u001b[0m\u001b[1;33m,\u001b[0m \u001b[1;33m[\u001b[0m\u001b[1;36m1\u001b[0m\u001b[1;33m,\u001b[0m\u001b[1;36m3\u001b[0m\u001b[1;33m]\u001b[0m\u001b[1;33m]\u001b[0m\u001b[1;33m\u001b[0m\u001b[1;33m\u001b[0m\u001b[0m\n\u001b[1;32m----> 2\u001b[1;33m \u001b[0mset\u001b[0m\u001b[1;33m(\u001b[0m\u001b[0marr\u001b[0m\u001b[1;33m)\u001b[0m\u001b[1;33m\u001b[0m\u001b[1;33m\u001b[0m\u001b[0m\n\u001b[0m",
            "\u001b[1;31mTypeError\u001b[0m: unhashable type: 'list'"
          ]
        }
      ],
      "source": [
        "arr = [1, 5, 4, 3, 5, 5, [1,3]]\n",
        "set(arr)"
      ]
    },
    {
      "cell_type": "markdown",
      "metadata": {},
      "source": [
        "\u4e0a\u8a18\u306e\u901a\u308a\uff0c`set()` \u306b\u3066\u96c6\u7d04\u3055\u308c\u308b\u8981\u7d20\u81ea\u4f53\u306f immutable \u3067\u3042\u308b\u5fc5\u8981\u304c\u3042\u308a\u307e\u3059\uff0e  \n",
        "`TypeError` \u304c\u9001\u51fa\u3055\u308c\u305f\u306e\u306f\uff0c`[1, 3]` \u304c mutable \u3067\u3042\u308b\u3053\u3068\u304c\u8d77\u56e0\u3057\u3066\u3044\u307e\u3059\uff0e"
      ]
    },
    {
      "cell_type": "markdown",
      "metadata": {},
      "source": [
        "\u4f8b\u3048\u3070\u4e8c\u3064\u306e\u96c6\u5408 $A$, $B$ \u304c\u4e0e\u3048\u3089\u308c\u305f\u3068\u304d\uff0c\u4ee5\u4e0b\u306e\u3088\u3046\u306a\u96c6\u5408\u6f14\u7b97\n",
        "\n",
        "- \u548c\uff08union\uff09: $A \\cup B$\n",
        "- \u7a4d\uff08intersection\uff09: $A \\cap B$\n",
        "- \u5dee\uff08difference\uff09: $A - A \\cap B$, $B - (A \\cap B)$\n",
        "- \u5bfe\u79f0\u5dee\uff08symmetric difference\uff09: $(A \\cup B) - (A \\cap B)$\n",
        "\n",
        "\u3092\u6271\u3046\u3053\u3068\u3082\u3067\u304d\u307e\u3059\uff0e"
      ]
    },
    {
      "cell_type": "code",
      "execution_count": 105,
      "metadata": {},
      "outputs": [
        {
          "data": {
            "text/plain": [
              "({0, 1, 2, 3, 4, 'a'}, {0, 2, 4, 5})"
            ]
          },
          "execution_count": 105,
          "metadata": {},
          "output_type": "execute_result"
        }
      ],
      "source": [
        "a = {0, 1, 2, 3, 4,    \"a\"}\n",
        "b = {0, 2,       4, 5}\n",
        "a, b"
      ]
    },
    {
      "cell_type": "code",
      "execution_count": 106,
      "metadata": {},
      "outputs": [
        {
          "data": {
            "text/plain": [
              "{0, 1, 2, 3, 4, 5, 'a'}"
            ]
          },
          "execution_count": 106,
          "metadata": {},
          "output_type": "execute_result"
        }
      ],
      "source": [
        "# union\n",
        "a | b"
      ]
    },
    {
      "cell_type": "code",
      "execution_count": 107,
      "metadata": {},
      "outputs": [
        {
          "data": {
            "text/plain": [
              "{0, 2, 4}"
            ]
          },
          "execution_count": 107,
          "metadata": {},
          "output_type": "execute_result"
        }
      ],
      "source": [
        "# intersection\n",
        "a & b"
      ]
    },
    {
      "cell_type": "code",
      "execution_count": 108,
      "metadata": {},
      "outputs": [
        {
          "data": {
            "text/plain": [
              "({1, 3, 'a'}, {5})"
            ]
          },
          "execution_count": 108,
          "metadata": {},
          "output_type": "execute_result"
        }
      ],
      "source": [
        "# difference\n",
        "a - b, b - a"
      ]
    },
    {
      "cell_type": "code",
      "execution_count": 109,
      "metadata": {},
      "outputs": [
        {
          "data": {
            "text/plain": [
              "{1, 3, 5, 'a'}"
            ]
          },
          "execution_count": 109,
          "metadata": {},
          "output_type": "execute_result"
        }
      ],
      "source": [
        "# symmetric difference\n",
        "a ^ b"
      ]
    },
    {
      "cell_type": "markdown",
      "metadata": {},
      "source": [
        "---\n",
        "\n",
        "## 6. \u8f9e\u66f8 <a class=\"anchor\" id=\"6\"></a>  \n",
        "[\u76ee\u6b21\u306b\u623b\u308b](#0)  "
      ]
    },
    {
      "cell_type": "markdown",
      "metadata": {},
      "source": [
        "python \u306e\u8f9e\u66f8\u578b\uff08dictionay\uff09\u306f\uff0c\u4ed6\u306e\u8a00\u8a9e\u3067\u306f\u9023\u60f3\u914d\u5217\uff08associative array\uff09\u3068\u547c\u3070\u308c\u308b\u3053\u3068\u3082\u3042\u308a\uff0c\u8981\u7d20\u3068\u306e\u7d10\u3065\u3051\u304c\u914d\u5217\u756a\u53f7\u3067\u306f\u306a\u304f\uff0c\u30ad\u30fc\uff08key\uff09\u306b\u3088\u3063\u3066\u7d10\u3065\u3051\u3089\u308c\u307e\u3059\uff0e  \n",
        "\u30ad\u30fc\u306f\u5909\u66f4\u4e0d\u53ef\u80fd\u306a\u578b\u306e\u307f\u53d7\u3051\u4ed8\u3051\u308b\u305f\u3081\uff0c\u30ea\u30b9\u30c8\u306a\u3069\u306e\u30df\u30e5\u30fc\u30bf\u30d6\u30eb\u306a\u30aa\u30d6\u30b8\u30a7\u30af\u30c8\u306f\u7528\u3044\u308b\u3053\u3068\u304c\u3067\u304d\u307e\u305b\u3093\uff0e  \n",
        "\u8f9e\u66f8\u306f `{key0: value0, key1: value1, ...}` \u3068\u3044\u3046\u98a8\u306b\uff0c`{ }` \u306e\u4e2d\u306b `key` \u3068 `value` \u306e\u9593\u306b `:` \u3092\u631f\u307f\uff0c\u30da\u30a2\u3067\u5b9a\u7fa9\u3057\u307e\u3059\uff0e"
      ]
    },
    {
      "cell_type": "code",
      "execution_count": 110,
      "metadata": {},
      "outputs": [
        {
          "data": {
            "text/plain": [
              "{'a': 0, 'b': 1, 'c': 2}"
            ]
          },
          "execution_count": 110,
          "metadata": {},
          "output_type": "execute_result"
        }
      ],
      "source": [
        "a = {\"a\": 0, \"b\": 1, \"c\": 2}\n",
        "a"
      ]
    },
    {
      "cell_type": "markdown",
      "metadata": {},
      "source": [
        "\u305d\u306e\u540d\u306e\u901a\u308a\u8f9e\u66f8\u306e\u8981\u7d20\u3092\u53c2\u7167\u3057\u305f\u3044\u3068\u304d\u306f\uff0c\u914d\u5217\u756a\u53f7\u3067\u306a\u304f\u30ad\u30fc\u3092\u5165\u529b\u3059\u308b\u3053\u3068\u306b\u3088\u3063\u3066\uff0c\u95a2\u9023\u4ed8\u3051\u3089\u308c\u3066\u3044\u308b\u8981\u7d20\u3092\u53c2\u7167\u3059\u308b\u3053\u3068\u304c\u3067\u304d\u307e\u3059\uff0e  \n",
        "\u53c2\u7167\u306e\u4ed5\u65b9\u306f\uff0c`dict[key]` \u3082\u3057\u304f\u306f `dict.get(key)` \u3067\u3059\uff0e"
      ]
    },
    {
      "cell_type": "code",
      "execution_count": 111,
      "metadata": {},
      "outputs": [
        {
          "data": {
            "text/plain": [
              "(0, 2)"
            ]
          },
          "execution_count": 111,
          "metadata": {},
          "output_type": "execute_result"
        }
      ],
      "source": [
        "a[\"a\"], a.get(\"c\")"
      ]
    },
    {
      "cell_type": "code",
      "execution_count": 112,
      "metadata": {},
      "outputs": [
        {
          "data": {
            "text/plain": [
              "({'c0': 0, 'c1': 0}, 0)"
            ]
          },
          "execution_count": 112,
          "metadata": {},
          "output_type": "execute_result"
        }
      ],
      "source": [
        "a = {\"a\": 0, \"b\": 1, \"c\": {\"c0\": 0, \"c1\": 0}}\n",
        "a[\"c\"], a[\"c\"][\"c1\"]"
      ]
    },
    {
      "cell_type": "markdown",
      "metadata": {},
      "source": [
        "\u914d\u5217\u756a\u53f7\u306f\u30ad\u30fc\u3067\u306f\u306a\u3044\u306e\u3067\uff0c\u30ea\u30b9\u30c8\u3068\u540c\u3058\u3088\u3046\u306b\u914d\u5217\u756a\u53f7\u3067\u53c2\u7167\u3092\u884c\u304a\u3046\u3068\u3059\u308b\u3068\u30a8\u30e9\u30fc `KeyError` \u304c\u9001\u51fa\u3055\u308c\u307e\u3059\uff0e\u6307\u5b9a\u3057\u305f\u30ad\u30fc\u304c\u7121\u3044\u5834\u5408\u3082\u540c\u69d8\u3067\u3059\uff0e"
      ]
    },
    {
      "cell_type": "code",
      "execution_count": 113,
      "metadata": {},
      "outputs": [
        {
          "ename": "KeyError",
          "evalue": "0",
          "output_type": "error",
          "traceback": [
            "\u001b[1;31m---------------------------------------------------------------------------\u001b[0m",
            "\u001b[1;31mKeyError\u001b[0m                                  Traceback (most recent call last)",
            "\u001b[1;32m~\\AppData\\Local\\Temp/ipykernel_4472/1728541355.py\u001b[0m in \u001b[0;36m<module>\u001b[1;34m\u001b[0m\n\u001b[0;32m      1\u001b[0m \u001b[0ma\u001b[0m \u001b[1;33m=\u001b[0m \u001b[1;33m{\u001b[0m\u001b[1;34m\"a\"\u001b[0m\u001b[1;33m:\u001b[0m \u001b[1;36m0\u001b[0m\u001b[1;33m,\u001b[0m \u001b[1;34m\"b\"\u001b[0m\u001b[1;33m:\u001b[0m \u001b[1;36m1\u001b[0m\u001b[1;33m,\u001b[0m \u001b[1;34m\"c\"\u001b[0m\u001b[1;33m:\u001b[0m \u001b[1;36m2\u001b[0m\u001b[1;33m}\u001b[0m\u001b[1;33m\u001b[0m\u001b[1;33m\u001b[0m\u001b[0m\n\u001b[1;32m----> 2\u001b[1;33m \u001b[0ma\u001b[0m\u001b[1;33m[\u001b[0m\u001b[1;36m0\u001b[0m\u001b[1;33m]\u001b[0m\u001b[1;33m\u001b[0m\u001b[1;33m\u001b[0m\u001b[0m\n\u001b[0m",
            "\u001b[1;31mKeyError\u001b[0m: 0"
          ]
        }
      ],
      "source": [
        "a = {\"a\": 0, \"b\": 1, \"c\": 2}\n",
        "a[0]"
      ]
    },
    {
      "cell_type": "markdown",
      "metadata": {},
      "source": [
        "\u6ce8\u610f\u3068\u3057\u3066\uff0c`key` \u306f\u540c\u4e00\u8f9e\u66f8\u5185\u306b\u304a\u3044\u3066\u540c\u4e00\u306e\u30ad\u30fc\u304c\u5b58\u5728\u3059\u308b\u5834\u5408\u306f\uff0c\u6700\u5f8c\u306b\u5b9a\u7fa9\u3057\u305f\u540c\u4e00\u306e\u30ad\u30fc\u306e\u5024\u304c\u7528\u3044\u3089\u308c\u308b\u305f\u3081\uff0c\u30ad\u30fc\u306f\u4ed6\u3068\u88ab\u3089\u306a\u3044\u3088\u3046\u306b\u4e00\u610f\u306e\u5024\uff0f\u6587\u5b57\u5217\u3068\u3057\u3066\u5b9a\u7fa9\u3057\u307e\u3057\u3087\u3046\uff0e"
      ]
    },
    {
      "cell_type": "code",
      "execution_count": 114,
      "metadata": {},
      "outputs": [
        {
          "data": {
            "text/plain": [
              "{'aaaa': {'memo': 'overwritten'}, 'b': 1, 'c': 2}"
            ]
          },
          "execution_count": 114,
          "metadata": {},
          "output_type": "execute_result"
        }
      ],
      "source": [
        "a = {\"aaaa\": 0, \"b\": 1, \"c\": 2, \"aaaa\": 3, \"aaaa\": {\"memo\": \"overwritten\"}}\n",
        "a"
      ]
    },
    {
      "cell_type": "markdown",
      "metadata": {},
      "source": [
        "\u8f9e\u66f8\u306e\u4e0a\u66f8\u304d\u3068\u8ffd\u52a0\u306f\uff0c`dict[key] = value` \u3068\u3057\u3066\u7c21\u5358\u306b\u64cd\u4f5c\u3067\u304d\u307e\u3059\uff0e  \n",
        "`key` \u304c `dict` \u306b\u5b58\u5728\u3059\u308b\u5834\u5408\u306f\u4e0a\u66f8\u304d\uff0c\u5b58\u5728\u3057\u306a\u3044\u5834\u5408\u306f\u65b0\u305f\u306a\u30ad\u30fc\u3068\u5024\u306e\u30da\u30a2\u304c\u8ffd\u52a0\u3055\u308c\u307e\u3059\uff0e"
      ]
    },
    {
      "cell_type": "code",
      "execution_count": 115,
      "metadata": {},
      "outputs": [
        {
          "data": {
            "text/plain": [
              "{'z': -100, 'zz': 1, 'zzz': 2}"
            ]
          },
          "execution_count": 115,
          "metadata": {},
          "output_type": "execute_result"
        }
      ],
      "source": [
        "z = {\"z\": 0}\n",
        "z[\"zz\"] = 1\n",
        "z[\"zzz\"] = 2\n",
        "z[\"z\"] = -100\n",
        "z"
      ]
    },
    {
      "cell_type": "markdown",
      "metadata": {},
      "source": [
        "\u8f9e\u66f8\u578b\u306b\u304a\u3044\u3066\u3082\u591a\u304f\u306e\u30e1\u30bd\u30c3\u30c9\u304c\u3042\u308a\u307e\u3059\uff0e"
      ]
    },
    {
      "cell_type": "markdown",
      "metadata": {},
      "source": [
        "- `dict.keys()`: `dict` \u304b\u3089\u30ad\u30fc\u3092\u8fd4\u3057\u307e\u3059\uff0e"
      ]
    },
    {
      "cell_type": "code",
      "execution_count": 116,
      "metadata": {},
      "outputs": [
        {
          "data": {
            "text/plain": [
              "dict_keys(['a', 'b', 'c'])"
            ]
          },
          "execution_count": 116,
          "metadata": {},
          "output_type": "execute_result"
        }
      ],
      "source": [
        "a = {\"a\": 0, \"b\": 1, \"c\": 2}\n",
        "keys = a.keys()\n",
        "keys"
      ]
    },
    {
      "cell_type": "code",
      "execution_count": 117,
      "metadata": {},
      "outputs": [
        {
          "ename": "TypeError",
          "evalue": "'dict_keys' object is not subscriptable",
          "output_type": "error",
          "traceback": [
            "\u001b[1;31m---------------------------------------------------------------------------\u001b[0m",
            "\u001b[1;31mTypeError\u001b[0m                                 Traceback (most recent call last)",
            "\u001b[1;32m~\\AppData\\Local\\Temp/ipykernel_4472/4009037613.py\u001b[0m in \u001b[0;36m<module>\u001b[1;34m\u001b[0m\n\u001b[1;32m----> 1\u001b[1;33m \u001b[0mkeys\u001b[0m\u001b[1;33m[\u001b[0m\u001b[1;36m0\u001b[0m\u001b[1;33m]\u001b[0m\u001b[1;33m\u001b[0m\u001b[1;33m\u001b[0m\u001b[0m\n\u001b[0m",
            "\u001b[1;31mTypeError\u001b[0m: 'dict_keys' object is not subscriptable"
          ]
        }
      ],
      "source": [
        "keys[0]"
      ]
    },
    {
      "cell_type": "markdown",
      "metadata": {},
      "source": [
        "\u8fd4\u308a\u5024\u306f dict_keys \u578b\u3068\u306a\u3063\u3066\u304a\u308a\uff0c\u3053\u308c\u306f\u30ea\u30b9\u30c8\u3084\u8f9e\u66f8\u3068\u306f\u7570\u306a\u308b\u30d3\u30e5\u30fc\u30aa\u30d6\u30b8\u30a7\u30af\u30c8\u3068\u547c\u3070\u308c\u308b\u3082\u306e\u3067\uff0c`.keys` \u306e\u5bfe\u8c61\u304b\u3089\u4f5c\u6210\u3084\u30b3\u30d4\u30fc\u3055\u308c\u305f\u3082\u306e\u3067\u306f\u306a\u304f\uff0c\u5358\u306a\u308b\u30d3\u30e5\u30fc\uff08\u53c2\u7167\u3055\u308c\u3066\u3044\u308b\u3060\u3051\uff09\u3067\u3042\u308b\u305f\u3081\uff0c\u76f4\u63a5\u5909\u66f4\u3057\u305f\u308a\u64cd\u4f5c\u3059\u308b\u3053\u3068\u306f\u3067\u304d\u307e\u305b\u3093\uff0e  \n",
        "\u30ea\u30b9\u30c8\u306e\u3088\u3046\u306b\u6271\u3044\u305f\u3044\u5834\u5408\u306f\uff0clist \u95a2\u6570\uff08\u5f8c\u8ff0\uff09\u3092\u7528\u3044\u308b\u3053\u3068\u306b\u3088\u3063\u3066\u30ea\u30b9\u30c8\u5316\u3067\u304d\u307e\u3059\uff0e"
      ]
    },
    {
      "cell_type": "code",
      "execution_count": 118,
      "metadata": {},
      "outputs": [
        {
          "data": {
            "text/plain": [
              "['a', 'b', 'c']"
            ]
          },
          "execution_count": 118,
          "metadata": {},
          "output_type": "execute_result"
        }
      ],
      "source": [
        "keys_list = list(keys)\n",
        "keys_list"
      ]
    },
    {
      "cell_type": "code",
      "execution_count": 119,
      "metadata": {},
      "outputs": [
        {
          "data": {
            "text/plain": [
              "'a'"
            ]
          },
          "execution_count": 119,
          "metadata": {},
          "output_type": "execute_result"
        }
      ],
      "source": [
        "keys_list[0]"
      ]
    },
    {
      "cell_type": "markdown",
      "metadata": {},
      "source": [
        "- `dict.values()`: `dict` \u304b\u3089\u5024\u3092\u8fd4\u3057\u307e\u3059\uff0e`.keys()` \u3068\u540c\u69d8\u306b\u30ea\u30b9\u30c8\u5316\u3059\u308b\u969b\u306b\u306f list \u95a2\u6570\u3092\u7528\u3044\u307e\u3059\uff0e"
      ]
    },
    {
      "cell_type": "code",
      "execution_count": 120,
      "metadata": {},
      "outputs": [
        {
          "data": {
            "text/plain": [
              "dict_values([0, 1, 2])"
            ]
          },
          "execution_count": 120,
          "metadata": {},
          "output_type": "execute_result"
        }
      ],
      "source": [
        "a = {\"a\": 0, \"b\": 1, \"c\": 2}\n",
        "a.values()"
      ]
    },
    {
      "cell_type": "code",
      "execution_count": 121,
      "metadata": {},
      "outputs": [
        {
          "data": {
            "text/plain": [
              "[0, 1, 2]"
            ]
          },
          "execution_count": 121,
          "metadata": {},
          "output_type": "execute_result"
        }
      ],
      "source": [
        "list(a.values())"
      ]
    },
    {
      "cell_type": "markdown",
      "metadata": {},
      "source": [
        "- `dict.items()`: `dict` \u304b\u3089\u30ad\u30fc\u3068\u5024\u306e\u30da\u30a2\u3092\u8fd4\u3057\u307e\u3059\uff0e`.keys()` \u3068\u540c\u69d8\u306b\u30ea\u30b9\u30c8\u5316\u3059\u308b\u969b\u306b\u306f list \u95a2\u6570\u3092\u7528\u3044\u307e\u3059\uff0e\u3053\u306e\u969b\uff0c\u5404\u8981\u7d20\u306f\u30bf\u30d7\u30eb\u3067\u3059\uff0e"
      ]
    },
    {
      "cell_type": "code",
      "execution_count": 122,
      "metadata": {},
      "outputs": [
        {
          "data": {
            "text/plain": [
              "dict_items([('a', 0), ('b', 1), ('c', 2)])"
            ]
          },
          "execution_count": 122,
          "metadata": {},
          "output_type": "execute_result"
        }
      ],
      "source": [
        "a = {\"a\": 0, \"b\": 1, \"c\": 2}\n",
        "a.items()"
      ]
    },
    {
      "cell_type": "code",
      "execution_count": 123,
      "metadata": {},
      "outputs": [
        {
          "data": {
            "text/plain": [
              "('c', 2)"
            ]
          },
          "execution_count": 123,
          "metadata": {},
          "output_type": "execute_result"
        }
      ],
      "source": [
        "list(a.items())[-1]"
      ]
    },
    {
      "cell_type": "markdown",
      "metadata": {},
      "source": [
        "- `dict.setdefault(key, value)`: `dict` \u306b\u30ad\u30fc\u3068\u5024\u306e\u30da\u30a2\u3092\u8ffd\u52a0\u3057\u307e\u3059\uff0e`dict` \u306b `key` \u304c\u65e2\u5b58\u306e\u5834\u5408\u306f\uff0c\u4e0a\u66f8\u304d\u3055\u308c\u307e\u305b\u3093\uff0e"
      ]
    },
    {
      "cell_type": "code",
      "execution_count": 124,
      "metadata": {},
      "outputs": [
        {
          "data": {
            "text/plain": [
              "{'z': 0, 'zz': 1, 'zzz': 2}"
            ]
          },
          "execution_count": 124,
          "metadata": {},
          "output_type": "execute_result"
        }
      ],
      "source": [
        "z = {\"z\": 0}\n",
        "z.setdefault(\"zz\", 1)\n",
        "z.setdefault(\"zzz\", 2)\n",
        "z.setdefault(\"z\", -100)\n",
        "z"
      ]
    },
    {
      "cell_type": "markdown",
      "metadata": {},
      "source": [
        "- `dict.update(dict)`: `dict` \u306b\u5bfe\u3057\u3066\u5f15\u6570\u306b\u6307\u5b9a\u3057\u305f `dict` \u3092\u7d50\u5408\u3057\u307e\u3059\uff0e\u30ad\u30fc\u304c\u91cd\u8907\u3059\u308b\u5834\u5408\u306f\uff0c\u5f15\u6570\u306b\u6307\u5b9a\u3057\u305f\u30ad\u30fc\u306e\u5024\u3067\u4e0a\u66f8\u304d\u3055\u308c\u307e\u3059\uff0e"
      ]
    },
    {
      "cell_type": "code",
      "execution_count": 125,
      "metadata": {},
      "outputs": [
        {
          "data": {
            "text/plain": [
              "{'00': '00', '01': 1, '02': 20, '001': 1}"
            ]
          },
          "execution_count": 125,
          "metadata": {},
          "output_type": "execute_result"
        }
      ],
      "source": [
        "x = {\"00\": 0, \"01\": 1, \"02\": 2}\n",
        "y = {\"00\": \"00\", \"001\": 1, \"02\": 20}\n",
        "x.update(y)\n",
        "x"
      ]
    },
    {
      "cell_type": "markdown",
      "metadata": {},
      "source": [
        "- `dict.pop(key)`: `dict` \u304b\u3089 `key` \u3068\u305d\u306e\u5024\u3092\u524a\u9664\u3057\u307e\u3059\uff0e\u6ce8\u610f\u3068\u3057\u3066\uff0c\u3053\u306e\u64cd\u4f5c\u306f\uff0c\u524a\u9664\u5bfe\u8c61\u306e\u8981\u7d20\u3092\u8fd4\u3057\u307e\u3059\uff0e"
      ]
    },
    {
      "cell_type": "code",
      "execution_count": 126,
      "metadata": {},
      "outputs": [
        {
          "data": {
            "text/plain": [
              "(0, {'b': 1, 'c': 2})"
            ]
          },
          "execution_count": 126,
          "metadata": {},
          "output_type": "execute_result"
        }
      ],
      "source": [
        "a = {\"a\": 0, \"b\": 1, \"c\": 2}\n",
        "popped = a.pop(\"a\")\n",
        "popped, a"
      ]
    },
    {
      "cell_type": "markdown",
      "metadata": {},
      "source": [
        "- `dict.popitem()`: `dict` \u304b\u3089\u30ad\u30fc\u3068\u8981\u7d20\u306e\u30da\u30a2\u3092\u524a\u9664\u3057\u307e\u3059\uff0e\u3053\u306e\u64cd\u4f5c\u306f\uff0c\u524a\u9664\u5bfe\u8c61\u306e\u30ad\u30fc\u3068\u5024\u306e\u30da\u30a2\u3092\u30bf\u30d7\u30eb\u3067\u8fd4\u3057\u307e\u3059\uff0e\u6ce8\u610f\u3068\u3057\u3066\uff0c\u524a\u9664\u3059\u308b\u30da\u30a2\u3092\u9078\u629e\u3059\u308b\u3053\u3068\u306f\u3067\u304d\u307e\u305b\u3093\uff0e"
      ]
    },
    {
      "cell_type": "code",
      "execution_count": 127,
      "metadata": {},
      "outputs": [
        {
          "data": {
            "text/plain": [
              "(('c', 2), {'a': 0, 'b': 1})"
            ]
          },
          "execution_count": 127,
          "metadata": {},
          "output_type": "execute_result"
        }
      ],
      "source": [
        "a = {\"a\": 0, \"b\": 1, \"c\": 2}\n",
        "popped = a.popitem()\n",
        "popped, a"
      ]
    },
    {
      "cell_type": "markdown",
      "metadata": {},
      "source": [
        "- `dict.clear()`: `dict` \u304b\u3089\u8981\u7d20\u3092\u3059\u3079\u3066\u524a\u9664\u3057\u307e\u3059\uff0e"
      ]
    },
    {
      "cell_type": "code",
      "execution_count": 128,
      "metadata": {},
      "outputs": [
        {
          "data": {
            "text/plain": [
              "{}"
            ]
          },
          "execution_count": 128,
          "metadata": {},
          "output_type": "execute_result"
        }
      ],
      "source": [
        "a = {\"a\": 0, \"b\": 1, \"c\": 2}\n",
        "a.clear()\n",
        "a"
      ]
    },
    {
      "cell_type": "markdown",
      "metadata": {},
      "source": [
        "- `dict.copy()`: `dict` \u306e\u30b3\u30d4\u30fc\u3092\u751f\u6210\u3057\u307e\u3059\uff0e"
      ]
    },
    {
      "cell_type": "code",
      "execution_count": 129,
      "metadata": {},
      "outputs": [
        {
          "data": {
            "text/plain": [
              "{'a': 0, 'b': 1, 'c': 2}"
            ]
          },
          "execution_count": 129,
          "metadata": {},
          "output_type": "execute_result"
        }
      ],
      "source": [
        "a = {\"a\": 0, \"b\": 1, \"c\": 2}\n",
        "b = a.copy()\n",
        "b"
      ]
    },
    {
      "cell_type": "code",
      "execution_count": 130,
      "metadata": {},
      "outputs": [
        {
          "data": {
            "text/plain": [
              "True"
            ]
          },
          "execution_count": 130,
          "metadata": {},
          "output_type": "execute_result"
        }
      ],
      "source": [
        "a == b"
      ]
    },
    {
      "cell_type": "markdown",
      "metadata": {},
      "source": [
        "\u4ee5\u4e0b\u306e\u901a\u308a\u30a2\u30f3\u30d1\u30c3\u30af\u3082\u53ef\u80fd\u3067\uff0c\u30e1\u30bd\u30c3\u30c9\u7121\u3057\u306e\u5834\u5408\u306f `.keys()` \u30e1\u30bd\u30c3\u30c9\u3068\u540c\u69d8\u306b\u30ad\u30fc\u304c\u8fd4\u3055\u308c\u307e\u3059\u304c\uff0c\u53ef\u8aad\u6027\u306e\u89b3\u70b9\u304b\u3089 `.keys()` \u3068\u660e\u793a\u3057\u305f\u65b9\u304c\u826f\u3044\u3067\u3057\u3087\u3046\uff0e"
      ]
    },
    {
      "cell_type": "code",
      "execution_count": 131,
      "metadata": {},
      "outputs": [],
      "source": [
        "a = {\"a\": 0, \"b\": 1, \"c\": 2}"
      ]
    },
    {
      "cell_type": "code",
      "execution_count": 132,
      "metadata": {},
      "outputs": [
        {
          "data": {
            "text/plain": [
              "('a', 'b', 'c')"
            ]
          },
          "execution_count": 132,
          "metadata": {},
          "output_type": "execute_result"
        }
      ],
      "source": [
        "aa, ab, ac = a\n",
        "aa, ab, ac"
      ]
    },
    {
      "cell_type": "code",
      "execution_count": 133,
      "metadata": {},
      "outputs": [
        {
          "data": {
            "text/plain": [
              "('a', 'b', 'c')"
            ]
          },
          "execution_count": 133,
          "metadata": {},
          "output_type": "execute_result"
        }
      ],
      "source": [
        "aa, ab, ac = a.keys()\n",
        "aa, ab, ac"
      ]
    },
    {
      "cell_type": "code",
      "execution_count": 134,
      "metadata": {},
      "outputs": [
        {
          "data": {
            "text/plain": [
              "(0, 1, 2)"
            ]
          },
          "execution_count": 134,
          "metadata": {},
          "output_type": "execute_result"
        }
      ],
      "source": [
        "aa, ab, ac = a.values()\n",
        "aa, ab, ac"
      ]
    },
    {
      "cell_type": "markdown",
      "metadata": {},
      "source": [
        "`del dict(key)` \u3068\u3059\u308b\u3053\u3068\u3067\uff0c`dict` \u304b\u3089\u6307\u5b9a\u3057\u305f\u30ad\u30fc\u3068\u5024\u306e\u30da\u30a2\u3092\u524a\u9664\u3059\u308b\u3053\u3068\u3082\u3067\u304d\u307e\u3059\uff0e"
      ]
    },
    {
      "cell_type": "code",
      "execution_count": 135,
      "metadata": {},
      "outputs": [
        {
          "data": {
            "text/plain": [
              "{'a': 0}"
            ]
          },
          "execution_count": 135,
          "metadata": {},
          "output_type": "execute_result"
        }
      ],
      "source": [
        "a = {\"a\": 0, \"b\": 1, \"c\": 2}\n",
        "del a[\"b\"], a[\"c\"]\n",
        "a"
      ]
    },
    {
      "cell_type": "code",
      "execution_count": null,
      "metadata": {},
      "outputs": [],
      "source": []
    }
  ],
  "metadata": {
    "kernelspec": {
      "display_name": "Python 3 (ipykernel)",
      "language": "python",
      "name": "python3"
    },
    "language_info": {
      "codemirror_mode": {
        "name": "ipython",
        "version": 3
      },
      "file_extension": ".py",
      "mimetype": "text/x-python",
      "name": "python",
      "nbconvert_exporter": "python",
      "pygments_lexer": "ipython3",
      "version": "3.8.10"
    }
  },
  "nbformat": 4,
  "nbformat_minor": 4
}
