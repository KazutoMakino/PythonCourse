{
  "cells": [
    {
      "cell_type": "markdown",
      "id": "f44d2554-187f-41d9-a91d-1fb65338d86b",
      "metadata": {},
      "source": [
        "## \u6f14\u7fd2\u554f\u984c\u306e\u89e3\u7b54"
      ]
    },
    {
      "cell_type": "markdown",
      "id": "b29860e0-31b1-4eb9-920c-a4e26793acf2",
      "metadata": {},
      "source": [
        "Q1. \u65e5\u6642\u3092\u8868\u3059 2 \u3064\u306e\u6587\u5b57\u5217 `\"2038/01/19-03:14:07.000000\"`, `\"2045/01/01-00:00:00.000000\"` \u306b\u3064\u3044\u3066\u6642\u9593\u306e\u5dee\u3092\u79d2\u3067\u51fa\u529b\u3057\u3066\u304f\u3060\u3055\u3044\uff0e"
      ]
    },
    {
      "cell_type": "code",
      "execution_count": 1,
      "id": "df7dc204-cc7e-4a24-97c1-6a42c8b1ba7a",
      "metadata": {},
      "outputs": [],
      "source": [
        "from datetime import datetime"
      ]
    },
    {
      "cell_type": "code",
      "execution_count": 2,
      "id": "c8b59286-2a57-404d-b437-04b16dafe7e3",
      "metadata": {},
      "outputs": [
        {
          "data": {
            "text/plain": [
              "219357953.0"
            ]
          },
          "execution_count": 2,
          "metadata": {},
          "output_type": "execute_result"
        }
      ],
      "source": [
        "fmt = \"%Y/%m/%d-%H:%M:%S.%f\"\n",
        "t1 = datetime.strptime(\"2038/01/19-03:14:07.000000\", fmt)\n",
        "t2 = datetime.strptime(\"2045/01/01-00:00:00.000000\", fmt)\n",
        "\n",
        "(t2 - t1).total_seconds()"
      ]
    },
    {
      "cell_type": "code",
      "execution_count": 4,
      "id": "770489cc-4093-4708-b3d9-03cc20b829cd",
      "metadata": {},
      "outputs": [
        {
          "data": {
            "text/plain": [
              "[WindowsPath('.ipynb_checkpoints'),\n",
              " WindowsPath('007_std_libs.ipynb'),\n",
              " WindowsPath('answer.ipynb'),\n",
              " WindowsPath('new_dir1'),\n",
              " WindowsPath('test.txt')]"
            ]
          },
          "execution_count": 4,
          "metadata": {},
          "output_type": "execute_result"
        }
      ],
      "source": [
        "from pathlib import Path\n",
        "\n",
        "sorted(Path(\"./\").iterdir())"
      ]
    },
    {
      "cell_type": "markdown",
      "id": "cd24e3bc-cdc4-4039-8a37-14ce7b3f7fd7",
      "metadata": {},
      "source": [
        "Q2. \u4e0a\u8a18\u306e\u3088\u3046\u306b `new_dir1` \u3068 `test.txt` \u304c\u3053\u306e\u30c7\u30a3\u30ec\u30af\u30c8\u30ea\u306b\u6b8b\u3063\u305f\u307e\u307e\u306a\u306e\u3067\uff0c\u3053\u308c\u3089\u4e8c\u3064\u3092\u30d7\u30ed\u30b0\u30e9\u30df\u30f3\u30b0\u3067\u524a\u9664\u3057\u307e\u3057\u3087\u3046\uff08\u30a8\u30af\u30b9\u30d7\u30ed\u30fc\u30e9\u30fc\u304b\u3089\u3084\u3089\u306a\u3044\u3067\u304f\u3060\u3055\u3044\u306d\uff09\uff0e"
      ]
    },
    {
      "cell_type": "code",
      "execution_count": 5,
      "id": "46f552b9-0f8f-4918-8dec-12a3bcc08aca",
      "metadata": {},
      "outputs": [
        {
          "data": {
            "text/plain": [
              "[WindowsPath('.ipynb_checkpoints'),\n",
              " WindowsPath('007_std_libs.ipynb'),\n",
              " WindowsPath('answer.ipynb')]"
            ]
          },
          "execution_count": 5,
          "metadata": {},
          "output_type": "execute_result"
        }
      ],
      "source": [
        "import shutil\n",
        "\n",
        "shutil.rmtree(\"./new_dir1\")\n",
        "Path(\"./test.txt\").unlink()\n",
        "\n",
        "sorted(Path(\"./\").iterdir())"
      ]
    },
    {
      "cell_type": "markdown",
      "id": "8974261b-a8df-4750-95e7-d644c7b88bc0",
      "metadata": {},
      "source": [
        "Q3. \u3053\u306e\u30d5\u30a1\u30a4\u30eb\u306f\u3044\u3064\u958b\u304d\u307e\u3057\u305f\u304b\uff1f datetime.datetime \u578b\u306b\u3066\u6559\u3048\u3066\u304f\u3060\u3055\u3044\uff0e"
      ]
    },
    {
      "cell_type": "code",
      "execution_count": 22,
      "id": "e736079b-547e-457c-9d7e-9193264f135e",
      "metadata": {},
      "outputs": [
        {
          "data": {
            "text/plain": [
              "datetime.datetime(2022, 2, 11, 1, 8, 2, 30912)"
            ]
          },
          "execution_count": 22,
          "metadata": {},
          "output_type": "execute_result"
        }
      ],
      "source": [
        "import time\n",
        "from datetime import datetime, timedelta\n",
        "\n",
        "datetime.now() - timedelta(seconds=time.perf_counter())"
      ]
    },
    {
      "cell_type": "code",
      "execution_count": null,
      "id": "ea3696f9-df55-4596-aeef-8bfd736803e5",
      "metadata": {},
      "outputs": [],
      "source": []
    },
    {
      "cell_type": "code",
      "execution_count": null,
      "id": "8cea7f64-26d1-49ae-95f6-672d58272427",
      "metadata": {},
      "outputs": [],
      "source": []
    }
  ],
  "metadata": {
    "kernelspec": {
      "display_name": "Python 3 (ipykernel)",
      "language": "python",
      "name": "python3"
    },
    "language_info": {
      "codemirror_mode": {
        "name": "ipython",
        "version": 3
      },
      "file_extension": ".py",
      "mimetype": "text/x-python",
      "name": "python",
      "nbconvert_exporter": "python",
      "pygments_lexer": "ipython3",
      "version": "3.8.10"
    }
  },
  "nbformat": 4,
  "nbformat_minor": 5
}
