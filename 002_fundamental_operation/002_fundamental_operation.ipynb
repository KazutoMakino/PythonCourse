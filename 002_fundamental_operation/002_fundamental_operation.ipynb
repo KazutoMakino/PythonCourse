{
 "cells": [
  {
   "cell_type": "markdown",
   "metadata": {},
   "source": [
    "# 基本的な演算／真偽値／None／文字列／リスト／タプル／集合／辞書について\n",
    "\n",
    "---\n",
    "\n",
    "- ref: https://docs.python.org/ja/3.7/tutorial/introduction.html\n",
    "- blog: https://slash-z.com/\n",
    "- github: https://github.com/KazutoMakino/PythonCourses\n",
    "\n",
    "注意：全てについて説明はせず，良く使われる処理のみについて記載いたします\n",
    "\n",
    "---"
   ]
  },
  {
   "cell_type": "markdown",
   "metadata": {},
   "source": [
    "## 0. 目次: <a class=\"anchor\" id=\"0\"></a>\n",
    "\n",
    "1. [基本的な演算／真偽値／None](#1)\n",
    "2. [文字列](#2)\n",
    "3. [リスト](#3)\n",
    "4. [タプル](#4)\n",
    "5. [集合](#5)\n",
    "6. [辞書](#6)\n",
    "\n",
    "---"
   ]
  },
  {
   "cell_type": "markdown",
   "metadata": {},
   "source": [
    "---\n",
    "\n",
    "## 1. 基本的な演算／真偽値／None <a class=\"anchor\" id=\"1\"></a>  \n",
    "[目次に戻る](#0)  "
   ]
  },
  {
   "cell_type": "markdown",
   "metadata": {},
   "source": [
    "四則演算："
   ]
  },
  {
   "cell_type": "code",
   "execution_count": 1,
   "metadata": {},
   "outputs": [
    {
     "data": {
      "text/plain": [
       "5"
      ]
     },
     "execution_count": 1,
     "metadata": {},
     "output_type": "execute_result"
    }
   ],
   "source": [
    "2 + 3"
   ]
  },
  {
   "cell_type": "code",
   "execution_count": 2,
   "metadata": {},
   "outputs": [
    {
     "data": {
      "text/plain": [
       "-1"
      ]
     },
     "execution_count": 2,
     "metadata": {},
     "output_type": "execute_result"
    }
   ],
   "source": [
    "2 - 3"
   ]
  },
  {
   "cell_type": "code",
   "execution_count": 3,
   "metadata": {},
   "outputs": [
    {
     "data": {
      "text/plain": [
       "6"
      ]
     },
     "execution_count": 3,
     "metadata": {},
     "output_type": "execute_result"
    }
   ],
   "source": [
    "2 * 3"
   ]
  },
  {
   "cell_type": "code",
   "execution_count": 4,
   "metadata": {},
   "outputs": [
    {
     "data": {
      "text/plain": [
       "0.6666666666666666"
      ]
     },
     "execution_count": 4,
     "metadata": {},
     "output_type": "execute_result"
    }
   ],
   "source": [
    "2 / 3"
   ]
  },
  {
   "cell_type": "code",
   "execution_count": 5,
   "metadata": {},
   "outputs": [
    {
     "data": {
      "text/plain": [
       "3.0"
      ]
     },
     "execution_count": 5,
     "metadata": {},
     "output_type": "execute_result"
    }
   ],
   "source": [
    "3 / (2 - 1)"
   ]
  },
  {
   "cell_type": "markdown",
   "metadata": {},
   "source": [
    "べき乗："
   ]
  },
  {
   "cell_type": "code",
   "execution_count": 6,
   "metadata": {},
   "outputs": [
    {
     "data": {
      "text/plain": [
       "8"
      ]
     },
     "execution_count": 6,
     "metadata": {},
     "output_type": "execute_result"
    }
   ],
   "source": [
    "2**3"
   ]
  },
  {
   "cell_type": "markdown",
   "metadata": {},
   "source": [
    "除法における商と余り："
   ]
  },
  {
   "cell_type": "code",
   "execution_count": 7,
   "metadata": {},
   "outputs": [
    {
     "data": {
      "text/plain": [
       "2"
      ]
     },
     "execution_count": 7,
     "metadata": {},
     "output_type": "execute_result"
    }
   ],
   "source": [
    "5 // 2"
   ]
  },
  {
   "cell_type": "code",
   "execution_count": 8,
   "metadata": {},
   "outputs": [
    {
     "data": {
      "text/plain": [
       "1"
      ]
     },
     "execution_count": 8,
     "metadata": {},
     "output_type": "execute_result"
    }
   ],
   "source": [
    "5 % 2"
   ]
  },
  {
   "cell_type": "markdown",
   "metadata": {},
   "source": [
    "代入演算："
   ]
  },
  {
   "cell_type": "code",
   "execution_count": 9,
   "metadata": {},
   "outputs": [
    {
     "data": {
      "text/plain": [
       "(10, 5)"
      ]
     },
     "execution_count": 9,
     "metadata": {},
     "output_type": "execute_result"
    }
   ],
   "source": [
    "base = 10\n",
    "height = 5\n",
    "base, height"
   ]
  },
  {
   "cell_type": "code",
   "execution_count": 10,
   "metadata": {},
   "outputs": [
    {
     "data": {
      "text/plain": [
       "25.0"
      ]
     },
     "execution_count": 10,
     "metadata": {},
     "output_type": "execute_result"
    }
   ],
   "source": [
    "triangle_area = base * height / 2\n",
    "triangle_area"
   ]
  },
  {
   "cell_type": "markdown",
   "metadata": {},
   "source": [
    "定義や値が代入されていない変数を使おうとすると，エラーを返します"
   ]
  },
  {
   "cell_type": "code",
   "execution_count": 11,
   "metadata": {},
   "outputs": [
    {
     "ename": "NameError",
     "evalue": "name 'trapezoidal_area' is not defined",
     "output_type": "error",
     "traceback": [
      "\u001b[1;31m---------------------------------------------------------------------------\u001b[0m",
      "\u001b[1;31mNameError\u001b[0m                                 Traceback (most recent call last)",
      "\u001b[1;32m<ipython-input-11-c1f0657ed4a2>\u001b[0m in \u001b[0;36m<module>\u001b[1;34m\u001b[0m\n\u001b[1;32m----> 1\u001b[1;33m \u001b[0mtrapezoidal_area\u001b[0m\u001b[1;33m\u001b[0m\u001b[1;33m\u001b[0m\u001b[0m\n\u001b[0m",
      "\u001b[1;31mNameError\u001b[0m: name 'trapezoidal_area' is not defined"
     ]
    }
   ],
   "source": [
    "trapezoidal_area"
   ]
  },
  {
   "cell_type": "markdown",
   "metadata": {},
   "source": [
    "変数名の頭文字はアルファベットにしてください．アンダーバー `_` を使うこともできますが，コード規約により使いどころが異なります．"
   ]
  },
  {
   "cell_type": "code",
   "execution_count": 12,
   "metadata": {},
   "outputs": [
    {
     "ename": "SyntaxError",
     "evalue": "invalid token (<ipython-input-12-0944e14ce164>, line 1)",
     "output_type": "error",
     "traceback": [
      "\u001b[1;36m  File \u001b[1;32m\"<ipython-input-12-0944e14ce164>\"\u001b[1;36m, line \u001b[1;32m1\u001b[0m\n\u001b[1;33m    2_pi_r\u001b[0m\n\u001b[1;37m     ^\u001b[0m\n\u001b[1;31mSyntaxError\u001b[0m\u001b[1;31m:\u001b[0m invalid token\n"
     ]
    }
   ],
   "source": [
    "2_pi_r"
   ]
  },
  {
   "cell_type": "markdown",
   "metadata": {},
   "source": [
    "ブール演算，及び，比較における演算子は，次の表にまとめられ，条件式などで良く用いられます．"
   ]
  },
  {
   "cell_type": "markdown",
   "metadata": {},
   "source": [
    "| 演算 | 結果 |\n",
    "| ---- | ---- |\n",
    "| `x or y` | x が偽なら y, そうでなければ x |\n",
    "| `x and y` | x が偽なら x, そうでなければ y |\n",
    "| `not x` | x が偽なら True, そうでなければ False |\n",
    "| `<` | より小さい |\n",
    "| `<=` | 以下 |\n",
    "| `>` | より大きい |\n",
    "| `>=` | 以上 |\n",
    "| `==` | 等しい |\n",
    "| `!=` | 等しくない |\n",
    "| `is` | 同一のオブジェクトである |\n",
    "| `is not` | 同一のオブジェクトでない |"
   ]
  },
  {
   "cell_type": "markdown",
   "metadata": {},
   "source": [
    "https://docs.python.org/ja/3.7/library/stdtypes.html"
   ]
  },
  {
   "cell_type": "code",
   "execution_count": 13,
   "metadata": {},
   "outputs": [
    {
     "data": {
      "text/plain": [
       "True"
      ]
     },
     "execution_count": 13,
     "metadata": {},
     "output_type": "execute_result"
    }
   ],
   "source": [
    "1 < 3"
   ]
  },
  {
   "cell_type": "code",
   "execution_count": 14,
   "metadata": {},
   "outputs": [
    {
     "data": {
      "text/plain": [
       "False"
      ]
     },
     "execution_count": 14,
     "metadata": {},
     "output_type": "execute_result"
    }
   ],
   "source": [
    "1 > 3"
   ]
  },
  {
   "cell_type": "code",
   "execution_count": 15,
   "metadata": {},
   "outputs": [
    {
     "data": {
      "text/plain": [
       "False"
      ]
     },
     "execution_count": 15,
     "metadata": {},
     "output_type": "execute_result"
    }
   ],
   "source": [
    "1 == 3"
   ]
  },
  {
   "cell_type": "code",
   "execution_count": 16,
   "metadata": {},
   "outputs": [
    {
     "data": {
      "text/plain": [
       "True"
      ]
     },
     "execution_count": 16,
     "metadata": {},
     "output_type": "execute_result"
    }
   ],
   "source": [
    "1 != 3"
   ]
  },
  {
   "cell_type": "code",
   "execution_count": 17,
   "metadata": {},
   "outputs": [
    {
     "data": {
      "text/plain": [
       "False"
      ]
     },
     "execution_count": 17,
     "metadata": {},
     "output_type": "execute_result"
    }
   ],
   "source": [
    "\"a\" is \"b\""
   ]
  },
  {
   "cell_type": "code",
   "execution_count": 18,
   "metadata": {},
   "outputs": [
    {
     "data": {
      "text/plain": [
       "True"
      ]
     },
     "execution_count": 18,
     "metadata": {},
     "output_type": "execute_result"
    }
   ],
   "source": [
    "\"a\" is not \"b\""
   ]
  },
  {
   "cell_type": "markdown",
   "metadata": {},
   "source": [
    "ここで出力された `True`, `False` は bool 型であり，整数型のサブクラス（子供みたいな関係）なので，それぞれ `True` は 1，`False` は 0 を表すので足し算が可能です．"
   ]
  },
  {
   "cell_type": "code",
   "execution_count": 19,
   "metadata": {},
   "outputs": [
    {
     "data": {
      "text/plain": [
       "0.5"
      ]
     },
     "execution_count": 19,
     "metadata": {},
     "output_type": "execute_result"
    }
   ],
   "source": [
    "(True + False) / (True + True) "
   ]
  },
  {
   "cell_type": "markdown",
   "metadata": {},
   "source": [
    "`==` と `is` の違いについて，`==` は値が同じかを判定するのに対し，`is` は生成されたオブジェクトの識別値 `id` が同じかどうかを見るため，以下のように，`True == 1` は `True` ですが，`True is 1` は `False` が返ってきます．"
   ]
  },
  {
   "cell_type": "code",
   "execution_count": 20,
   "metadata": {},
   "outputs": [
    {
     "data": {
      "text/plain": [
       "(True, False, True, False)"
      ]
     },
     "execution_count": 20,
     "metadata": {},
     "output_type": "execute_result"
    }
   ],
   "source": [
    "True == 1, True is 1, False == 0, False is 0"
   ]
  },
  {
   "cell_type": "markdown",
   "metadata": {},
   "source": [
    "他には，何もないを表す `None` というものもあり，`False` と異なり 0 ではありません．実際，None のみを実行してみると返り値が無いので，インタラクティブシェルでは出力がありません．"
   ]
  },
  {
   "cell_type": "code",
   "execution_count": 21,
   "metadata": {},
   "outputs": [],
   "source": [
    "None"
   ]
  },
  {
   "cell_type": "code",
   "execution_count": 22,
   "metadata": {},
   "outputs": [
    {
     "data": {
      "text/plain": [
       "False"
      ]
     },
     "execution_count": 22,
     "metadata": {},
     "output_type": "execute_result"
    }
   ],
   "source": [
    "None is False"
   ]
  },
  {
   "cell_type": "code",
   "execution_count": 23,
   "metadata": {},
   "outputs": [
    {
     "data": {
      "text/plain": [
       "False"
      ]
     },
     "execution_count": 23,
     "metadata": {},
     "output_type": "execute_result"
    }
   ],
   "source": [
    "None == 0"
   ]
  },
  {
   "cell_type": "code",
   "execution_count": 24,
   "metadata": {},
   "outputs": [
    {
     "data": {
      "text/plain": [
       "True"
      ]
     },
     "execution_count": 24,
     "metadata": {},
     "output_type": "execute_result"
    }
   ],
   "source": [
    "None is None"
   ]
  },
  {
   "cell_type": "code",
   "execution_count": 25,
   "metadata": {},
   "outputs": [
    {
     "data": {
      "text/plain": [
       "True"
      ]
     },
     "execution_count": 25,
     "metadata": {},
     "output_type": "execute_result"
    }
   ],
   "source": [
    "None == None"
   ]
  },
  {
   "cell_type": "markdown",
   "metadata": {},
   "source": [
    "---\n",
    "\n",
    "## 2. 文字列 <a class=\"anchor\" id=\"2\"></a>  \n",
    "[目次に戻る](#0)  "
   ]
  },
  {
   "cell_type": "markdown",
   "metadata": {},
   "source": [
    "文字列はダブルクォーテーションとシングルクォーテーションのどちらでも構いません"
   ]
  },
  {
   "cell_type": "code",
   "execution_count": 26,
   "metadata": {},
   "outputs": [
    {
     "data": {
      "text/plain": [
       "'hello'"
      ]
     },
     "execution_count": 26,
     "metadata": {},
     "output_type": "execute_result"
    }
   ],
   "source": [
    "\"hello\""
   ]
  },
  {
   "cell_type": "code",
   "execution_count": 27,
   "metadata": {},
   "outputs": [
    {
     "data": {
      "text/plain": [
       "'world'"
      ]
     },
     "execution_count": 27,
     "metadata": {},
     "output_type": "execute_result"
    }
   ],
   "source": [
    "'world'"
   ]
  },
  {
   "cell_type": "markdown",
   "metadata": {},
   "source": [
    "pythonでは文字列どうしであれば普通に足し算でくっつけることができます"
   ]
  },
  {
   "cell_type": "code",
   "execution_count": 28,
   "metadata": {},
   "outputs": [
    {
     "data": {
      "text/plain": [
       "'hello world'"
      ]
     },
     "execution_count": 28,
     "metadata": {},
     "output_type": "execute_result"
    }
   ],
   "source": [
    "hello = \"hello\"\n",
    "hello + \" \" + \"world\""
   ]
  },
  {
   "cell_type": "markdown",
   "metadata": {},
   "source": [
    "実は，上記操作は加法の記号は不要です．しかし，+ を付けた方が見やすいですね．"
   ]
  },
  {
   "cell_type": "code",
   "execution_count": 29,
   "metadata": {},
   "outputs": [
    {
     "data": {
      "text/plain": [
       "'hello world'"
      ]
     },
     "execution_count": 29,
     "metadata": {},
     "output_type": "execute_result"
    }
   ],
   "source": [
    "\"hello\" \" \" \"world\""
   ]
  },
  {
   "cell_type": "markdown",
   "metadata": {},
   "source": [
    "減法，除法による文字列の操作はできません"
   ]
  },
  {
   "cell_type": "code",
   "execution_count": 30,
   "metadata": {},
   "outputs": [
    {
     "ename": "TypeError",
     "evalue": "unsupported operand type(s) for -: 'str' and 'str'",
     "output_type": "error",
     "traceback": [
      "\u001b[1;31m---------------------------------------------------------------------------\u001b[0m",
      "\u001b[1;31mTypeError\u001b[0m                                 Traceback (most recent call last)",
      "\u001b[1;32m<ipython-input-30-fbb34a416d73>\u001b[0m in \u001b[0;36m<module>\u001b[1;34m\u001b[0m\n\u001b[1;32m----> 1\u001b[1;33m \u001b[0mhello\u001b[0m \u001b[1;33m-\u001b[0m \u001b[1;34m\"h\"\u001b[0m\u001b[1;33m\u001b[0m\u001b[1;33m\u001b[0m\u001b[0m\n\u001b[0m",
      "\u001b[1;31mTypeError\u001b[0m: unsupported operand type(s) for -: 'str' and 'str'"
     ]
    }
   ],
   "source": [
    "hello - \"h\""
   ]
  },
  {
   "cell_type": "markdown",
   "metadata": {},
   "source": [
    "文字列の繰り返しは掛け算の記号にて可能です"
   ]
  },
  {
   "cell_type": "code",
   "execution_count": 31,
   "metadata": {},
   "outputs": [
    {
     "data": {
      "text/plain": [
       "'hellohellohellohellohello'"
      ]
     },
     "execution_count": 31,
     "metadata": {},
     "output_type": "execute_result"
    }
   ],
   "source": [
    "hello * 5"
   ]
  },
  {
   "cell_type": "markdown",
   "metadata": {},
   "source": [
    "文字列は配列のような扱いができます．pythonの配列は C 言語と同じく 0 から始まり，配列番号は `[ ]` の中に整数値で指定します．例えば，\"hello\" の 2 文字目の \"e\" を抜き出そうとすると，"
   ]
  },
  {
   "cell_type": "code",
   "execution_count": 32,
   "metadata": {},
   "outputs": [
    {
     "data": {
      "text/plain": [
       "'e'"
      ]
     },
     "execution_count": 32,
     "metadata": {},
     "output_type": "execute_result"
    }
   ],
   "source": [
    "hello[1]"
   ]
  },
  {
   "cell_type": "markdown",
   "metadata": {},
   "source": [
    "となります．分かりにくいので \"abcde\" という配列を生成し，それぞれの文字を抜き出すと，"
   ]
  },
  {
   "cell_type": "code",
   "execution_count": 33,
   "metadata": {},
   "outputs": [
    {
     "data": {
      "text/plain": [
       "('a', 'b', 'c', 'd', 'e')"
      ]
     },
     "execution_count": 33,
     "metadata": {},
     "output_type": "execute_result"
    }
   ],
   "source": [
    "a_e = \"abcde\"\n",
    "a_e[0], a_e[1], a_e[2], a_e[3], a_e[4]"
   ]
  },
  {
   "cell_type": "markdown",
   "metadata": {},
   "source": [
    "a_e に 6 文字目は無いので，5 (= 6 - 1) を配列番号に指定すると，以下の通りエラーになります．"
   ]
  },
  {
   "cell_type": "code",
   "execution_count": 34,
   "metadata": {},
   "outputs": [
    {
     "ename": "IndexError",
     "evalue": "string index out of range",
     "output_type": "error",
     "traceback": [
      "\u001b[1;31m---------------------------------------------------------------------------\u001b[0m",
      "\u001b[1;31mIndexError\u001b[0m                                Traceback (most recent call last)",
      "\u001b[1;32m<ipython-input-34-1b54a19b414a>\u001b[0m in \u001b[0;36m<module>\u001b[1;34m\u001b[0m\n\u001b[1;32m----> 1\u001b[1;33m \u001b[0ma_e\u001b[0m\u001b[1;33m[\u001b[0m\u001b[1;36m5\u001b[0m\u001b[1;33m]\u001b[0m\u001b[1;33m\u001b[0m\u001b[1;33m\u001b[0m\u001b[0m\n\u001b[0m",
      "\u001b[1;31mIndexError\u001b[0m: string index out of range"
     ]
    }
   ],
   "source": [
    "a_e[5]"
   ]
  },
  {
   "cell_type": "markdown",
   "metadata": {},
   "source": [
    "上記において配列番号は正の整数を記入していましたが，負の整数を記載した場合は，後ろから数えて何番目かを示します．"
   ]
  },
  {
   "cell_type": "code",
   "execution_count": 35,
   "metadata": {},
   "outputs": [
    {
     "data": {
      "text/plain": [
       "('e', 'd', 'c', 'b', 'a')"
      ]
     },
     "execution_count": 35,
     "metadata": {},
     "output_type": "execute_result"
    }
   ],
   "source": [
    "a_e[-1], a_e[-2], a_e[-3], a_e[-4], a_e[-5]"
   ]
  },
  {
   "cell_type": "markdown",
   "metadata": {},
   "source": [
    "1 つの要素でなく範囲指定した 2 つ以上の要素を指定したい場合は，\"スライス\" と呼ばれる操作を行います．スライスは `変数[i:j]` というふうに記載し，この場合，$i <= k < j$ の要素番号 k における値を取得します．"
   ]
  },
  {
   "cell_type": "code",
   "execution_count": 36,
   "metadata": {},
   "outputs": [
    {
     "data": {
      "text/plain": [
       "('bc', 'd', 'bcde', 'ab', 'abc')"
      ]
     },
     "execution_count": 36,
     "metadata": {},
     "output_type": "execute_result"
    }
   ],
   "source": [
    "a_e[1:3], a_e[3:-1], a_e[1:], a_e[:-3], a_e[1-1 : 4-1]"
   ]
  },
  {
   "cell_type": "markdown",
   "metadata": {},
   "source": [
    "以下の通り，pythonにおいて要素番号を用いた文字列の変更はできません．"
   ]
  },
  {
   "cell_type": "code",
   "execution_count": 37,
   "metadata": {},
   "outputs": [
    {
     "ename": "TypeError",
     "evalue": "'str' object does not support item assignment",
     "output_type": "error",
     "traceback": [
      "\u001b[1;31m---------------------------------------------------------------------------\u001b[0m",
      "\u001b[1;31mTypeError\u001b[0m                                 Traceback (most recent call last)",
      "\u001b[1;32m<ipython-input-37-5588650a1a29>\u001b[0m in \u001b[0;36m<module>\u001b[1;34m\u001b[0m\n\u001b[1;32m----> 1\u001b[1;33m \u001b[0ma_e\u001b[0m\u001b[1;33m[\u001b[0m\u001b[1;33m-\u001b[0m\u001b[1;36m1\u001b[0m\u001b[1;33m]\u001b[0m \u001b[1;33m=\u001b[0m \u001b[1;34m\"zzz\"\u001b[0m\u001b[1;33m\u001b[0m\u001b[1;33m\u001b[0m\u001b[0m\n\u001b[0m\u001b[0;32m      2\u001b[0m \u001b[0ma_e\u001b[0m\u001b[1;33m\u001b[0m\u001b[1;33m\u001b[0m\u001b[0m\n",
      "\u001b[1;31mTypeError\u001b[0m: 'str' object does not support item assignment"
     ]
    }
   ],
   "source": [
    "a_e[-1] = \"zzz\"\n",
    "a_e"
   ]
  },
  {
   "cell_type": "markdown",
   "metadata": {},
   "source": [
    "変数を代入した文字列を生成したい場合は，f-string と呼ばれる仕組みを用いることができます（他にも`.format()` や `%` を用いた方法もありますが，f-string がオススメです）．`f\"任意の文字列 {変数名}\" ` というふうに，文字列を表すクォーテーションの前に `f` を記載します．"
   ]
  },
  {
   "cell_type": "code",
   "execution_count": 38,
   "metadata": {},
   "outputs": [
    {
     "data": {
      "text/plain": [
       "'a to e = abcde, 10 / 2 = 5.0, 1/3=0.3333333333333333'"
      ]
     },
     "execution_count": 38,
     "metadata": {},
     "output_type": "execute_result"
    }
   ],
   "source": [
    "f\"a to e = {a_e}, 10 / 2 = {10 / 2}, 1/3={1/3}\""
   ]
  },
  {
   "cell_type": "markdown",
   "metadata": {},
   "source": [
    "文字列は，三連引用符：`\"\"\" 文章 \"\"\"` のようにすることで，複数行に渡って書くことが可能です．"
   ]
  },
  {
   "cell_type": "code",
   "execution_count": 39,
   "metadata": {},
   "outputs": [
    {
     "data": {
      "text/plain": [
       "'\\na\\nb\\nc\\nd\\ne\\n'"
      ]
     },
     "execution_count": 39,
     "metadata": {},
     "output_type": "execute_result"
    }
   ],
   "source": [
    "\"\"\"\n",
    "a\n",
    "b\n",
    "c\n",
    "d\n",
    "e\n",
    "\"\"\""
   ]
  },
  {
   "cell_type": "markdown",
   "metadata": {},
   "source": [
    "ここで `\\n` は改行を表し，環境における改行コード設定によって変わります．改行コードは wikipedia を参照すると，"
   ]
  },
  {
   "cell_type": "markdown",
   "metadata": {},
   "source": [
    "```\n",
    "改行コード（広義）は以下の2種類であり、システム（ソフトウェア）により片方または両方が使用される。\n",
    "\n",
    "    キャリッジリターン（英: carriage return、CR、復帰）\n",
    "    ラインフィード（英: line feed、LF、狭義の改行）またはニューライン（newline、line break または end-of-line、EOL）\n",
    "\n",
    "これらの用語はタイプライターが由来である。タイプライターでは印字装置は固定され、紙の方が上下左右に移動することで、文字送りや行送りが行われる。英語などの左横書きにおける「キャリッジリターン」とは、紙を固定して移動する装置（キャリッジ）を元の位置に戻す（リターン、つまり紙の左端に印字装置が来る）ことである。「ラインフィード」とは紙を必要な行（ライン）だけ上に送る（フィード、つまり下の行に印字装置が来る）ことである。\n",
    "\n",
    "コンピュータでは、同じ文字コードを使用していても、改行コードは異なる場合があるため、異なるシステム間でのデータの際には、改行が正確に反映されない場合がある。\n",
    "```"
   ]
  },
  {
   "cell_type": "markdown",
   "metadata": {},
   "source": [
    "```\n",
    "多くのシステムでは、改行コードを1つまたは連続する2つの特殊文字で表している。\n",
    "\n",
    "    ASCII文字コードに基づくシステムでは、CR（復帰、0x0D）、LF（改行、0x0A）、またはCR+LFで表している。\n",
    "        LF:    UNIXやUnix系のシステム。Linux、AIX、Xenix、macOS、BeOS、Amiga、RISC OSなど。\n",
    "        CR+LF: CP/M、MP/M、MS-DOS、OS/2、Microsoft Windows。\n",
    "        CR:    コモドールによるシステム、Apple IIファミリ、Mac OS（バージョン9まで）、OS-9。\n",
    "    Unicodeでは、CR（U+000D）とLF（U+000A）に加えて、「次の行」（next line）を示すNEL（U+0085）、行区切り文字（line separator）を示すLS（U+2028）、段落区切り文字（paragraph separator）を示すPS（U+2029）が提供される。\n",
    "    EBCDICシステム\n",
    "\n",
    "    IBMのメインフレームシステムでは主にNEL（Next Line、0x15）を改行コードとして使う。EBCDICはCRとLFと呼ばれる制御文字も持つが、これらはASCIIにおけるCRとLFとは値が異なる。また、NELに対して異なる値を割り当てたEBCDICの亜種も存在する。なお固定長のデータセットでは、通常は改行コード自体が不要なため使用されない。\n",
    "\n",
    "    OpenVMSはレコードベースのファイルシステムを使用しており、テキストファイルの各行を１レコードとして保存する。保存する際は改行コードは記録されないが、アプリケーションから読み込まれる際に自動的に行終端記号を付加する機能がある。\n",
    "\n",
    "インターネット上で用いられる、テキストによって情報をやりとりする通信プロトコルの多く（HTTP、SMTP、FTP、IRCなど）はプロトコルレベルでCR+LFコードを用いるよう要求しているが、アプリケーションはLFコードにも対応することが推奨されている。これは初期のインターネットサーバの多くがDEC機によって構成されていた名残である。 \n",
    "```"
   ]
  },
  {
   "cell_type": "markdown",
   "metadata": {},
   "source": [
    "https://ja.wikipedia.org/wiki/%E6%94%B9%E8%A1%8C%E3%82%B3%E3%83%BC%E3%83%89"
   ]
  },
  {
   "cell_type": "markdown",
   "metadata": {},
   "source": [
    "とのこと．三連引用符内で改行された文字列について，文末に `\\` を追加することで，その部分の出力を改行なしにすることもできます（があまり使いません）．"
   ]
  },
  {
   "cell_type": "code",
   "execution_count": 40,
   "metadata": {},
   "outputs": [
    {
     "data": {
      "text/plain": [
       "'abcde'"
      ]
     },
     "execution_count": 40,
     "metadata": {},
     "output_type": "execute_result"
    }
   ],
   "source": [
    "\"\"\"\\\n",
    "a\\\n",
    "b\\\n",
    "c\\\n",
    "d\\\n",
    "e\\\n",
    "\"\"\""
   ]
  },
  {
   "cell_type": "markdown",
   "metadata": {},
   "source": [
    "`\\n` はもちろん，クォーテーションが三連でない場合も用いることができ，改行として認識されます．"
   ]
  },
  {
   "cell_type": "code",
   "execution_count": 41,
   "metadata": {},
   "outputs": [
    {
     "data": {
      "text/plain": [
       "'a \\n b'"
      ]
     },
     "execution_count": 41,
     "metadata": {},
     "output_type": "execute_result"
    }
   ],
   "source": [
    "\"a \\n b\""
   ]
  },
  {
   "cell_type": "code",
   "execution_count": 42,
   "metadata": {},
   "outputs": [
    {
     "name": "stdout",
     "output_type": "stream",
     "text": [
      "a \n",
      " b\n"
     ]
    }
   ],
   "source": [
    "print(\"a \\n b\")"
   ]
  },
  {
   "cell_type": "markdown",
   "metadata": {},
   "source": [
    "C言語と同様に，pythonにおいてもバックスラッシュ `\\` はエスケープシーケンス（改行やタブなど通常の文字列では表すことができない特殊な文字や機能を，規定された特別な文字の並びにより表したもの）に用いられます．pythonにおけるエスケープシーケンスは，公式ドキュメント（）を参照すると，"
   ]
  },
  {
   "cell_type": "markdown",
   "metadata": {},
   "source": [
    "| エスケープシーケンス | 意味 |\n",
    "| -------------------- | ---- |\n",
    "| `\\newline` | バックスラッシュと改行文字が無視されます |\n",
    "| `\\\\` | バックスラッシュ (`\\`) |\n",
    "| `\\'` | 一重引用符 (`'`) |\n",
    "| `\\\"` | 二重引用符 (`\"`) |\n",
    "| `\\a` | ASCII 端末ベル (BEL) |\n",
    "| `\\b` | ASCII バックスペース (BS) |\n",
    "| `\\f` | ASCII フォームフィード (FF) |\n",
    "| `\\n` | ASCII 行送り (LF) |\n",
    "| `\\r` | ASCII 復帰 (CR) |\n",
    "| `\\t` | ASCII 水平タブ (TAB) |\n",
    "| `\\v` | ASCII 垂直タブ (VT) |\n",
    "| `\\ooo` | 8 進数値 ooo を持つ文字 |\n",
    "| `\\xhh` | 16 進数値 hh を持つ文字 |\n",
    "| `\\N{name}` | Unicode データベース中で name という名前の文字 |\n",
    "| `\\uxxxx` | 16-bit の十六進値 xxxx を持つ文字 |\n",
    "| `\\Uxxxxxxxx` | 32-bit の十六進値 xxxxxxxx を持つ文字 |"
   ]
  },
  {
   "cell_type": "markdown",
   "metadata": {},
   "source": [
    "https://docs.python.org/ja/3.7/reference/lexical_analysis.html"
   ]
  },
  {
   "cell_type": "markdown",
   "metadata": {},
   "source": [
    "windows におけるディレクトリパスはバックスラッシュ `\\`（円マーク）が用いられますが，上記の関係上，エクスプローラからディレクトリパスをコピペして使おうとするとエラーになることがあります．"
   ]
  },
  {
   "cell_type": "code",
   "execution_count": 43,
   "metadata": {},
   "outputs": [
    {
     "ename": "SyntaxError",
     "evalue": "(unicode error) 'unicodeescape' codec can't decode bytes in position 22-23: malformed \\N character escape (<ipython-input-43-903dd90c10b0>, line 1)",
     "output_type": "error",
     "traceback": [
      "\u001b[1;36m  File \u001b[1;32m\"<ipython-input-43-903dd90c10b0>\"\u001b[1;36m, line \u001b[1;32m1\u001b[0m\n\u001b[1;33m    print(\"C:\\Program Files (x86)\\NVIDIA Corporation\")\u001b[0m\n\u001b[1;37m         ^\u001b[0m\n\u001b[1;31mSyntaxError\u001b[0m\u001b[1;31m:\u001b[0m (unicode error) 'unicodeescape' codec can't decode bytes in position 22-23: malformed \\N character escape\n"
     ]
    }
   ],
   "source": [
    "print(\"C:\\Program Files (x86)\\NVIDIA Corporation\")"
   ]
  },
  {
   "cell_type": "markdown",
   "metadata": {},
   "source": [
    "この場合はエスケープシーケンスとしてバックスラッシュの前にもう一つバックスラッシュを追加することで回避できます．"
   ]
  },
  {
   "cell_type": "code",
   "execution_count": 44,
   "metadata": {},
   "outputs": [
    {
     "name": "stdout",
     "output_type": "stream",
     "text": [
      "C:\\Program Files (x86)\\NVIDIA Corporation\n"
     ]
    }
   ],
   "source": [
    "print(\"C:\\\\Program Files (x86)\\\\NVIDIA Corporation\")"
   ]
  },
  {
   "cell_type": "markdown",
   "metadata": {},
   "source": [
    "もしくは，クォーテーションの前に `r` もしくは `R` を追加し，raw 文字列とすることでエスケープシーケンスが無視されます（こちらの方が一般的）．"
   ]
  },
  {
   "cell_type": "code",
   "execution_count": 45,
   "metadata": {},
   "outputs": [
    {
     "name": "stdout",
     "output_type": "stream",
     "text": [
      "C:\\Program Files (x86)\\NVIDIA Corporation\n"
     ]
    }
   ],
   "source": [
    "print(r\"C:\\Program Files (x86)\\NVIDIA Corporation\")"
   ]
  },
  {
   "cell_type": "markdown",
   "metadata": {},
   "source": [
    "なお，pythonにおいてパスと認識されるためには，2重バックスラッシュや raw 文字列の代わりに，バックスラッシュからスラッシュに書き換えてもOKです．"
   ]
  },
  {
   "cell_type": "markdown",
   "metadata": {},
   "source": [
    "文字列の操作は他にも色々あり，文字列の後に `.メソッド(...)` という風に用います．  \n",
    "ここで，メソッドというのは，クラスオブジェクトの後ろにドット `.` を付けて呼び出すことで作用するサブルーチンで一種の関数です．  \n",
    "更に，関数というのは，`関数(...)` で作用させることのできるサブルーチンです．例えば，`print()` はモニタに出力する関数と言えます．  \n",
    "全ての文字列に適用できるメソッドの説明を行うことはせず，良く使われるメソッドのみ抜粋して記載いたします．"
   ]
  },
  {
   "cell_type": "markdown",
   "metadata": {},
   "source": [
    "- `str.casefold()`: 文字列の casefold されたコピーを返し，casefold された文字列は，大文字小文字に関係ない比較判定に使えます．"
   ]
  },
  {
   "cell_type": "code",
   "execution_count": 46,
   "metadata": {},
   "outputs": [
    {
     "data": {
      "text/plain": [
       "(False, True)"
      ]
     },
     "execution_count": 46,
     "metadata": {},
     "output_type": "execute_result"
    }
   ],
   "source": [
    "\"Python\" == \"pytHON\", \"Python\".casefold() == \"pytHON\".casefold()"
   ]
  },
  {
   "cell_type": "markdown",
   "metadata": {},
   "source": [
    "- `str.count(sub, start, end)`: `start, end` の範囲に部分文字列 `sub` が重複せず出現する回数を返します．`start` 及び `end` はオプションで，無記入の場合は `start` = 0, `end` = -1 となります．"
   ]
  },
  {
   "cell_type": "code",
   "execution_count": 47,
   "metadata": {},
   "outputs": [
    {
     "data": {
      "text/plain": [
       "(3, 1, 2)"
      ]
     },
     "execution_count": 47,
     "metadata": {},
     "output_type": "execute_result"
    }
   ],
   "source": [
    "\"aaa bbb cc d\".count(\"a\"), \"aaa bbb cc d\".count(\"aa\"), \"aaa bbb cc d\".count(\"a\", 1, 3)"
   ]
  },
  {
   "cell_type": "markdown",
   "metadata": {},
   "source": [
    "- `str.endswith(suffix, start, end)`: 文字列が指定された `suffix` で終わるなら `True` を，そうでなければ `False` を返します．`start` 及び `end` はオプションで，無記入の場合は `start` = 0, `end` = -1 となります．"
   ]
  },
  {
   "cell_type": "code",
   "execution_count": 48,
   "metadata": {},
   "outputs": [
    {
     "data": {
      "text/plain": [
       "True"
      ]
     },
     "execution_count": 48,
     "metadata": {},
     "output_type": "execute_result"
    }
   ],
   "source": [
    "\"python\".endswith(\"thon\")"
   ]
  },
  {
   "cell_type": "markdown",
   "metadata": {},
   "source": [
    "- `str.find(sub, start, end)`: 文字列のスライス `s[start, end]` に部分文字列 `sub` が含まれる場合，その最小のインデックスを返します．`start` 及び `end` はオプションで，無記入の場合は `start` = 0, `end` = -1 となります．見つからなかった場合は `-1` を返します．"
   ]
  },
  {
   "cell_type": "code",
   "execution_count": 49,
   "metadata": {},
   "outputs": [
    {
     "data": {
      "text/plain": [
       "(2, -1)"
      ]
     },
     "execution_count": 49,
     "metadata": {},
     "output_type": "execute_result"
    }
   ],
   "source": [
    "\"pythonpython\".find(\"tho\"), \"pythonpython\".find(\"zzzz\")"
   ]
  },
  {
   "cell_type": "markdown",
   "metadata": {},
   "source": [
    "- `str.join(iterable)`: `iterble` 中の文字列を結合した文字列を返します．ここで `iterable` （イテラブル）は名前の通り，繰り返し可能なオブジェクトもしくはクラスの総称で，for 文で繰り返しが可能であったり，next関数で要素を順番に取り出すことが可能です．"
   ]
  },
  {
   "cell_type": "code",
   "execution_count": 50,
   "metadata": {},
   "outputs": [
    {
     "data": {
      "text/plain": [
       "'a-b-c'"
      ]
     },
     "execution_count": 50,
     "metadata": {},
     "output_type": "execute_result"
    }
   ],
   "source": [
    "\"-\".join([\"a\", \"b\", \"c\"])"
   ]
  },
  {
   "cell_type": "markdown",
   "metadata": {},
   "source": [
    "`[\"a\", \"b\", \"c\"]` は \"a\", \"b\", \"c\" の3つの要素が入ったリストを表し，リストも `iterable` オブジェクトです．リストについては，文字列メソッドの説明の後に記載します．"
   ]
  },
  {
   "cell_type": "markdown",
   "metadata": {},
   "source": [
    "- `str.lower()`: 小文字化された文字列を返します．"
   ]
  },
  {
   "cell_type": "code",
   "execution_count": 51,
   "metadata": {},
   "outputs": [
    {
     "data": {
      "text/plain": [
       "('python', 'python')"
      ]
     },
     "execution_count": 51,
     "metadata": {},
     "output_type": "execute_result"
    }
   ],
   "source": [
    "\"PYthoN\".lower(), \"python\".lower()"
   ]
  },
  {
   "cell_type": "markdown",
   "metadata": {},
   "source": [
    "- `str.replace(old, new, count)`: 文字列をコピーし，現れる部分文字列 `old` すべてを `new` に置換して返します．オプション引数 `count` が与えられている場合，先頭から `count` 個の `old` だけを置換します．"
   ]
  },
  {
   "cell_type": "code",
   "execution_count": 52,
   "metadata": {},
   "outputs": [
    {
     "data": {
      "text/plain": [
       "'bbbcccddd'"
      ]
     },
     "execution_count": 52,
     "metadata": {},
     "output_type": "execute_result"
    }
   ],
   "source": [
    "\"aaa aaaabbb caacaca dadaaaad\".replace(\"a\", \"\").replace(\" \", \"\")"
   ]
  },
  {
   "cell_type": "code",
   "execution_count": 53,
   "metadata": {},
   "outputs": [
    {
     "data": {
      "text/plain": [
       "'Pen, pinapple, apple, ?'"
      ]
     },
     "execution_count": 53,
     "metadata": {},
     "output_type": "execute_result"
    }
   ],
   "source": [
    "\"Pen, pinapple, apple, pen\".replace(\"pen\", \"?\")"
   ]
  },
  {
   "cell_type": "code",
   "execution_count": 54,
   "metadata": {},
   "outputs": [
    {
     "data": {
      "text/plain": [
       "'?, pinapple, apple, ?'"
      ]
     },
     "execution_count": 54,
     "metadata": {},
     "output_type": "execute_result"
    }
   ],
   "source": [
    "\"Pen, pinapple, apple, pen\".casefold().replace(\"pen\".casefold(), \"?\")"
   ]
  },
  {
   "cell_type": "markdown",
   "metadata": {},
   "source": [
    "- `str.split(sep=None, maxsplit=-1)`: 文字列 `sep` をデリミタ文字列（区切り文字列）として区切った単語のリストを返します．`maxsplit` が与えられていれば，最大で `maxsplit` 回分割されます．`maxsplit` が与えられていないか `-1` であれば，分割の回数に制限はなく，可能なだけ分割されたリストが返されます．"
   ]
  },
  {
   "cell_type": "code",
   "execution_count": 55,
   "metadata": {},
   "outputs": [
    {
     "data": {
      "text/plain": [
       "['1', '2', '3']"
      ]
     },
     "execution_count": 55,
     "metadata": {},
     "output_type": "execute_result"
    }
   ],
   "source": [
    "\"1,2,3\".split(\",\")"
   ]
  },
  {
   "cell_type": "code",
   "execution_count": 56,
   "metadata": {},
   "outputs": [
    {
     "data": {
      "text/plain": [
       "['1', '2,3']"
      ]
     },
     "execution_count": 56,
     "metadata": {},
     "output_type": "execute_result"
    }
   ],
   "source": [
    "\"1,2,3\".split(\",\", maxsplit=1)"
   ]
  },
  {
   "cell_type": "code",
   "execution_count": 57,
   "metadata": {},
   "outputs": [
    {
     "data": {
      "text/plain": [
       "['1', '2', '', '', '', '', '', '3']"
      ]
     },
     "execution_count": 57,
     "metadata": {},
     "output_type": "execute_result"
    }
   ],
   "source": [
    "\"1,2,,,,,,3\".split(\",\")"
   ]
  },
  {
   "cell_type": "markdown",
   "metadata": {},
   "source": [
    "`sep` が指定されていないか `None` の場合，異なる分割アルゴリズムが適用され，一つのあるいは連続する空白文字が一つのデリミタと見なされます．"
   ]
  },
  {
   "cell_type": "code",
   "execution_count": 58,
   "metadata": {},
   "outputs": [
    {
     "data": {
      "text/plain": [
       "['1', '2', '3']"
      ]
     },
     "execution_count": 58,
     "metadata": {},
     "output_type": "execute_result"
    }
   ],
   "source": [
    "\"1 2 3\".split()"
   ]
  },
  {
   "cell_type": "code",
   "execution_count": 59,
   "metadata": {},
   "outputs": [
    {
     "data": {
      "text/plain": [
       "['1', '2', '3']"
      ]
     },
     "execution_count": 59,
     "metadata": {},
     "output_type": "execute_result"
    }
   ],
   "source": [
    "\"   1    2    3 \".split()"
   ]
  },
  {
   "cell_type": "code",
   "execution_count": 60,
   "metadata": {},
   "outputs": [
    {
     "data": {
      "text/plain": [
       "['1-', '2', '-', '-', '3-']"
      ]
     },
     "execution_count": 60,
     "metadata": {},
     "output_type": "execute_result"
    }
   ],
   "source": [
    "\"   1-    2  -   -  3- \".split()"
   ]
  },
  {
   "cell_type": "markdown",
   "metadata": {},
   "source": [
    "- `str.startswith(prefix, start, end)`: 文字列が指定された `prefix` で始まるなら `True` を，そうでなければ `False` を返します．`start` 及び `end` はオプションで，無記入の場合は `start` = 0, `end` = -1 となります．"
   ]
  },
  {
   "cell_type": "code",
   "execution_count": 61,
   "metadata": {},
   "outputs": [
    {
     "data": {
      "text/plain": [
       "(False, True)"
      ]
     },
     "execution_count": 61,
     "metadata": {},
     "output_type": "execute_result"
    }
   ],
   "source": [
    "\"python\".startswith(\"thon\"), \"python\".startswith(\"pyt\")"
   ]
  },
  {
   "cell_type": "markdown",
   "metadata": {},
   "source": [
    "- `str.upper()`: 大文字化された文字列を返します．"
   ]
  },
  {
   "cell_type": "code",
   "execution_count": 62,
   "metadata": {},
   "outputs": [
    {
     "data": {
      "text/plain": [
       "'PYTHON'"
      ]
     },
     "execution_count": 62,
     "metadata": {},
     "output_type": "execute_result"
    }
   ],
   "source": [
    "\"pythOn\".upper()"
   ]
  },
  {
   "cell_type": "markdown",
   "metadata": {},
   "source": [
    "- `str.zfill(witdh)`: 長さが `width` になるように ASCII `\"0\"` で左図目下文字列のコピーを返します（zfill: zero fill, ゼロ埋め）．先頭が符合接頭辞 `+` もしくは `-` だった場合，`\"0\"` は符号の前ではなく後に挿入されます．"
   ]
  },
  {
   "cell_type": "code",
   "execution_count": 63,
   "metadata": {},
   "outputs": [
    {
     "data": {
      "text/plain": [
       "('00123', '+000あ')"
      ]
     },
     "execution_count": 63,
     "metadata": {},
     "output_type": "execute_result"
    }
   ],
   "source": [
    "\"123\".zfill(5), \"+あ\".zfill(5), "
   ]
  },
  {
   "cell_type": "markdown",
   "metadata": {},
   "source": [
    "---\n",
    "\n",
    "## 3. リスト <a class=\"anchor\" id=\"3\"></a>  \n",
    "[目次に戻る](#0)  "
   ]
  },
  {
   "cell_type": "markdown",
   "metadata": {},
   "source": [
    "pythonにおいて配列は，標準関数に限ると `list` もしくは `array` によって表現できます．  \n",
    "`list` は単なる入れ物として汎用的に用いることができ，要素間における型の違いは問われません．  \n",
    "一方 `array` は標準関数のインポートが必要であり，かつ，要素の型は配列定義時に決定されるので同じである必要があります．  \n",
    "前者の `list` を用いることがほとんどであるので，こちらの説明を行います．"
   ]
  },
  {
   "cell_type": "markdown",
   "metadata": {},
   "source": [
    "リスト `list` は `[a, b, c, ...]` と `[]` 内に `,` 区切りで要素を並べただけのもので，文字列でも用いたインデックス（要素番号参照）とスライスを用いることができます．"
   ]
  },
  {
   "cell_type": "code",
   "execution_count": 64,
   "metadata": {},
   "outputs": [
    {
     "data": {
      "text/plain": [
       "[0, 1, 2, 'a', 'b', 'c']"
      ]
     },
     "execution_count": 64,
     "metadata": {},
     "output_type": "execute_result"
    }
   ],
   "source": [
    "a = [0, 1, 2, \"a\", \"b\", \"c\"]\n",
    "a"
   ]
  },
  {
   "cell_type": "code",
   "execution_count": 65,
   "metadata": {},
   "outputs": [
    {
     "data": {
      "text/plain": [
       "(0, 'c', [1, 2, 'a'])"
      ]
     },
     "execution_count": 65,
     "metadata": {},
     "output_type": "execute_result"
    }
   ],
   "source": [
    "a[0], a[-1], a[1:4]"
   ]
  },
  {
   "cell_type": "markdown",
   "metadata": {},
   "source": [
    "また，文字列同様，加法と乗法による文字列操作も可能です．"
   ]
  },
  {
   "cell_type": "code",
   "execution_count": 66,
   "metadata": {},
   "outputs": [
    {
     "data": {
      "text/plain": [
       "[0, 1, 2, 'a', 'b', 'c', 0, 1, 2, 'a', 'b', 'c']"
      ]
     },
     "execution_count": 66,
     "metadata": {},
     "output_type": "execute_result"
    }
   ],
   "source": [
    "a + a"
   ]
  },
  {
   "cell_type": "code",
   "execution_count": 67,
   "metadata": {},
   "outputs": [
    {
     "data": {
      "text/plain": [
       "[0, 1, 2, 'a', 'b', 'c', 0, 1, 2, 'a', 'b', 'c', 0, 1, 2, 'a', 'b', 'c']"
      ]
     },
     "execution_count": 67,
     "metadata": {},
     "output_type": "execute_result"
    }
   ],
   "source": [
    "a * 3"
   ]
  },
  {
   "cell_type": "markdown",
   "metadata": {},
   "source": [
    "文字列とは異なり，リストは可変な型なので要素を入れ替えたりすることができます．"
   ]
  },
  {
   "cell_type": "code",
   "execution_count": 68,
   "metadata": {},
   "outputs": [
    {
     "data": {
      "text/plain": [
       "['a', 2, 16]"
      ]
     },
     "execution_count": 68,
     "metadata": {},
     "output_type": "execute_result"
    }
   ],
   "source": [
    "b = [0, 1, 2]\n",
    "b[0] = \"a\"\n",
    "b[1] = b[2]\n",
    "b[2] = b[2]**4\n",
    "b"
   ]
  },
  {
   "cell_type": "markdown",
   "metadata": {},
   "source": [
    "スライスごと代入することも可能です．"
   ]
  },
  {
   "cell_type": "code",
   "execution_count": 69,
   "metadata": {},
   "outputs": [
    {
     "data": {
      "text/plain": [
       "[0, 'a', 'b', 'c', 4]"
      ]
     },
     "execution_count": 69,
     "metadata": {},
     "output_type": "execute_result"
    }
   ],
   "source": [
    "c = [0, 1, 2, 3, 4]\n",
    "c[1:4] = [\"a\", \"b\", \"c\"]\n",
    "c"
   ]
  },
  {
   "cell_type": "markdown",
   "metadata": {},
   "source": [
    "入れ子構造もリストから作成することが可能です．"
   ]
  },
  {
   "cell_type": "code",
   "execution_count": 70,
   "metadata": {},
   "outputs": [
    {
     "data": {
      "text/plain": [
       "[[0, 1, 2], ['a', 'b', 'c', 'd']]"
      ]
     },
     "execution_count": 70,
     "metadata": {},
     "output_type": "execute_result"
    }
   ],
   "source": [
    "d0 = [0, 1, 2]\n",
    "d1 = [\"a\", \"b\", \"c\", \"d\"]\n",
    "d = [d0, d1]\n",
    "d"
   ]
  },
  {
   "cell_type": "markdown",
   "metadata": {},
   "source": [
    "要素やリスト全体の削除には `del` を用います．"
   ]
  },
  {
   "cell_type": "code",
   "execution_count": 71,
   "metadata": {},
   "outputs": [
    {
     "data": {
      "text/plain": [
       "['test']"
      ]
     },
     "execution_count": 71,
     "metadata": {},
     "output_type": "execute_result"
    }
   ],
   "source": [
    "e = [\"test\", \"delete\"]\n",
    "del e[-1]\n",
    "e"
   ]
  },
  {
   "cell_type": "code",
   "execution_count": 72,
   "metadata": {},
   "outputs": [
    {
     "ename": "NameError",
     "evalue": "name 'e' is not defined",
     "output_type": "error",
     "traceback": [
      "\u001b[1;31m---------------------------------------------------------------------------\u001b[0m",
      "\u001b[1;31mNameError\u001b[0m                                 Traceback (most recent call last)",
      "\u001b[1;32m<ipython-input-72-7e8a908ed4ab>\u001b[0m in \u001b[0;36m<module>\u001b[1;34m\u001b[0m\n\u001b[0;32m      1\u001b[0m \u001b[1;32mdel\u001b[0m \u001b[0me\u001b[0m\u001b[1;33m\u001b[0m\u001b[1;33m\u001b[0m\u001b[0m\n\u001b[1;32m----> 2\u001b[1;33m \u001b[0me\u001b[0m\u001b[1;33m\u001b[0m\u001b[1;33m\u001b[0m\u001b[0m\n\u001b[0m",
      "\u001b[1;31mNameError\u001b[0m: name 'e' is not defined"
     ]
    }
   ],
   "source": [
    "del e\n",
    "e"
   ]
  },
  {
   "cell_type": "markdown",
   "metadata": {},
   "source": [
    "変数 `e` が削除された後，再び `e` を出力しようとしたので，未定義であるとエラーがでました．"
   ]
  },
  {
   "cell_type": "markdown",
   "metadata": {},
   "source": [
    "空のリストの作成は，要素を何も書かずに `[]` とするだけです．"
   ]
  },
  {
   "cell_type": "code",
   "execution_count": 73,
   "metadata": {},
   "outputs": [
    {
     "data": {
      "text/plain": [
       "[]"
      ]
     },
     "execution_count": 73,
     "metadata": {},
     "output_type": "execute_result"
    }
   ],
   "source": [
    "a = []\n",
    "a"
   ]
  },
  {
   "cell_type": "markdown",
   "metadata": {},
   "source": [
    "リストの要素は，それぞれの変数に代入することができ，以下のような操作をアンパックと呼びます．"
   ]
  },
  {
   "cell_type": "code",
   "execution_count": 74,
   "metadata": {},
   "outputs": [
    {
     "data": {
      "text/plain": [
       "2"
      ]
     },
     "execution_count": 74,
     "metadata": {},
     "output_type": "execute_result"
    }
   ],
   "source": [
    "z = [1, 2, 3]\n",
    "a, b, c = z\n",
    "b"
   ]
  },
  {
   "cell_type": "code",
   "execution_count": 75,
   "metadata": {},
   "outputs": [
    {
     "data": {
      "text/plain": [
       "5"
      ]
     },
     "execution_count": 75,
     "metadata": {},
     "output_type": "execute_result"
    }
   ],
   "source": [
    "z = [1,2, [3,4,5,[6]]]\n",
    "a, b, c = z\n",
    "c0, c1, c2, c3 = c\n",
    "c2"
   ]
  },
  {
   "cell_type": "code",
   "execution_count": 76,
   "metadata": {},
   "outputs": [
    {
     "ename": "ValueError",
     "evalue": "too many values to unpack (expected 2)",
     "output_type": "error",
     "traceback": [
      "\u001b[1;31m---------------------------------------------------------------------------\u001b[0m",
      "\u001b[1;31mValueError\u001b[0m                                Traceback (most recent call last)",
      "\u001b[1;32m<ipython-input-76-41c23bdb46af>\u001b[0m in \u001b[0;36m<module>\u001b[1;34m\u001b[0m\n\u001b[0;32m      1\u001b[0m \u001b[0mz\u001b[0m \u001b[1;33m=\u001b[0m \u001b[1;33m[\u001b[0m\u001b[1;36m1\u001b[0m\u001b[1;33m,\u001b[0m \u001b[1;36m2\u001b[0m\u001b[1;33m,\u001b[0m \u001b[1;36m3\u001b[0m\u001b[1;33m]\u001b[0m\u001b[1;33m\u001b[0m\u001b[1;33m\u001b[0m\u001b[0m\n\u001b[1;32m----> 2\u001b[1;33m \u001b[0ma\u001b[0m\u001b[1;33m,\u001b[0m \u001b[0mb\u001b[0m \u001b[1;33m=\u001b[0m \u001b[0mz\u001b[0m\u001b[1;33m\u001b[0m\u001b[1;33m\u001b[0m\u001b[0m\n\u001b[0m\u001b[0;32m      3\u001b[0m \u001b[0mb\u001b[0m\u001b[1;33m\u001b[0m\u001b[1;33m\u001b[0m\u001b[0m\n",
      "\u001b[1;31mValueError\u001b[0m: too many values to unpack (expected 2)"
     ]
    }
   ],
   "source": [
    "z = [1, 2, 3]\n",
    "a, b = z\n",
    "b"
   ]
  },
  {
   "cell_type": "markdown",
   "metadata": {},
   "source": [
    "上記のように，アンパックする際に，代入される変数の数が要素の数よりも少ない場合は `ValueError` が送出されます．  \n",
    "これの解決方法として，変数名にアスタリスク `*` を付与することにより，残りの要素がまとめて代入されます．  \n",
    "複数の変数にアスタリスクを付けた場合は，`SyntaxError` が送出されます．"
   ]
  },
  {
   "cell_type": "code",
   "execution_count": 77,
   "metadata": {},
   "outputs": [
    {
     "data": {
      "text/plain": [
       "[2, 3, 4, 5]"
      ]
     },
     "execution_count": 77,
     "metadata": {},
     "output_type": "execute_result"
    }
   ],
   "source": [
    "z = [1, 2, 3, 4, 5]\n",
    "a, *b = z\n",
    "b"
   ]
  },
  {
   "cell_type": "code",
   "execution_count": 78,
   "metadata": {},
   "outputs": [
    {
     "data": {
      "text/plain": [
       "5"
      ]
     },
     "execution_count": 78,
     "metadata": {},
     "output_type": "execute_result"
    }
   ],
   "source": [
    "z = [1, 2, 3, 4, 5]\n",
    "*a, b = z\n",
    "b"
   ]
  },
  {
   "cell_type": "code",
   "execution_count": 79,
   "metadata": {},
   "outputs": [
    {
     "ename": "SyntaxError",
     "evalue": "two starred expressions in assignment (<ipython-input-79-ded0a6662384>, line 5)",
     "output_type": "error",
     "traceback": [
      "\u001b[1;36m  File \u001b[1;32m\"<ipython-input-79-ded0a6662384>\"\u001b[1;36m, line \u001b[1;32m5\u001b[0m\n\u001b[1;31mSyntaxError\u001b[0m\u001b[1;31m:\u001b[0m two starred expressions in assignment\n"
     ]
    }
   ],
   "source": [
    "z = [1, 2, 3, 4, 5]\n",
    "*a, *b = z\n",
    "b"
   ]
  },
  {
   "cell_type": "markdown",
   "metadata": {},
   "source": [
    "リストの操作は他にも色々あり，リストの後に `.メソッド(...)` という風に用います．  \n",
    "以下，公式ドキュメント (https://docs.python.org/ja/3.7/tutorial/datastructures.html) を参考にして記載します．"
   ]
  },
  {
   "cell_type": "markdown",
   "metadata": {},
   "source": [
    "- `list.append(x)`: リストの末尾に要素 `x` を1つ追加します．"
   ]
  },
  {
   "cell_type": "code",
   "execution_count": 80,
   "metadata": {},
   "outputs": [
    {
     "data": {
      "text/plain": [
       "['aaa', 1, 10]"
      ]
     },
     "execution_count": 80,
     "metadata": {},
     "output_type": "execute_result"
    }
   ],
   "source": [
    "arr = [\"aaa\"]\n",
    "arr.append(1)\n",
    "arr.append(10)\n",
    "arr"
   ]
  },
  {
   "cell_type": "markdown",
   "metadata": {},
   "source": [
    "- `list.extend(iterable)`: イテラブルの全ての要素を対象のリストに追加し，リストを拡張します．"
   ]
  },
  {
   "cell_type": "code",
   "execution_count": 81,
   "metadata": {},
   "outputs": [
    {
     "data": {
      "text/plain": [
       "['aaa', 'b', 'c', 'c', 'c', 'c', 'c', 'c', 'c', 'ddd', 1000]"
      ]
     },
     "execution_count": 81,
     "metadata": {},
     "output_type": "execute_result"
    }
   ],
   "source": [
    "arr = [\"aaa\"]\n",
    "arr.extend(\"b\")\n",
    "arr.extend(\"ccccccc\")\n",
    "arr.extend([\"ddd\"])\n",
    "arr.extend([1000])\n",
    "arr"
   ]
  },
  {
   "cell_type": "markdown",
   "metadata": {},
   "source": [
    "例えば，数字はイテラブルではないので，そのまま `extend` はできず，エラーになります．"
   ]
  },
  {
   "cell_type": "code",
   "execution_count": 82,
   "metadata": {},
   "outputs": [
    {
     "ename": "TypeError",
     "evalue": "'int' object is not iterable",
     "output_type": "error",
     "traceback": [
      "\u001b[1;31m---------------------------------------------------------------------------\u001b[0m",
      "\u001b[1;31mTypeError\u001b[0m                                 Traceback (most recent call last)",
      "\u001b[1;32m<ipython-input-82-24c8683a0cc2>\u001b[0m in \u001b[0;36m<module>\u001b[1;34m\u001b[0m\n\u001b[1;32m----> 1\u001b[1;33m \u001b[0marr\u001b[0m\u001b[1;33m.\u001b[0m\u001b[0mextend\u001b[0m\u001b[1;33m(\u001b[0m\u001b[1;36m1000\u001b[0m\u001b[1;33m)\u001b[0m\u001b[1;33m\u001b[0m\u001b[1;33m\u001b[0m\u001b[0m\n\u001b[0m",
      "\u001b[1;31mTypeError\u001b[0m: 'int' object is not iterable"
     ]
    }
   ],
   "source": [
    "arr.extend(1000)"
   ]
  },
  {
   "cell_type": "markdown",
   "metadata": {},
   "source": [
    "- `list.insert(i, x)`: 指定した位置に要素を挿入します．第1引数はリストのインデックスで，このインデックスを持つ要素の直前に挿入が行われます．"
   ]
  },
  {
   "cell_type": "code",
   "execution_count": 83,
   "metadata": {},
   "outputs": [
    {
     "data": {
      "text/plain": [
       "['a', 'あ', 'bb', 'ccc', 256, 'dddd']"
      ]
     },
     "execution_count": 83,
     "metadata": {},
     "output_type": "execute_result"
    }
   ],
   "source": [
    "arr = [\"a\", \"bb\", \"ccc\", \"dddd\"]\n",
    "arr.insert(1, \"あ\")\n",
    "arr.insert(-1, 2**8)\n",
    "arr"
   ]
  },
  {
   "cell_type": "markdown",
   "metadata": {},
   "source": [
    "- `list.remove(x)`: リスト中で `x` と等しい値を持つ最初の要素を削除します．該当する要素が無ければ `ValueError` が送出されます．"
   ]
  },
  {
   "cell_type": "code",
   "execution_count": 84,
   "metadata": {},
   "outputs": [
    {
     "data": {
      "text/plain": [
       "['bb', 'ccc', 'dddd']"
      ]
     },
     "execution_count": 84,
     "metadata": {},
     "output_type": "execute_result"
    }
   ],
   "source": [
    "arr = [\"a\", \"bb\", \"ccc\", \"dddd\"]\n",
    "arr.remove(\"a\")\n",
    "arr"
   ]
  },
  {
   "cell_type": "code",
   "execution_count": 85,
   "metadata": {},
   "outputs": [
    {
     "ename": "ValueError",
     "evalue": "list.remove(x): x not in list",
     "output_type": "error",
     "traceback": [
      "\u001b[1;31m---------------------------------------------------------------------------\u001b[0m",
      "\u001b[1;31mValueError\u001b[0m                                Traceback (most recent call last)",
      "\u001b[1;32m<ipython-input-85-bb5bfe208a70>\u001b[0m in \u001b[0;36m<module>\u001b[1;34m\u001b[0m\n\u001b[0;32m      1\u001b[0m \u001b[0marr\u001b[0m \u001b[1;33m=\u001b[0m \u001b[1;33m[\u001b[0m\u001b[1;34m\"a\"\u001b[0m\u001b[1;33m,\u001b[0m \u001b[1;34m\"bb\"\u001b[0m\u001b[1;33m,\u001b[0m \u001b[1;34m\"ccc\"\u001b[0m\u001b[1;33m,\u001b[0m \u001b[1;34m\"dddd\"\u001b[0m\u001b[1;33m]\u001b[0m\u001b[1;33m\u001b[0m\u001b[1;33m\u001b[0m\u001b[0m\n\u001b[1;32m----> 2\u001b[1;33m \u001b[0marr\u001b[0m\u001b[1;33m.\u001b[0m\u001b[0mremove\u001b[0m\u001b[1;33m(\u001b[0m\u001b[1;34m\"b\"\u001b[0m\u001b[1;33m)\u001b[0m\u001b[1;33m\u001b[0m\u001b[1;33m\u001b[0m\u001b[0m\n\u001b[0m\u001b[0;32m      3\u001b[0m \u001b[0marr\u001b[0m\u001b[1;33m\u001b[0m\u001b[1;33m\u001b[0m\u001b[0m\n",
      "\u001b[1;31mValueError\u001b[0m: list.remove(x): x not in list"
     ]
    }
   ],
   "source": [
    "arr = [\"a\", \"bb\", \"ccc\", \"dddd\"]\n",
    "arr.remove(\"b\")\n",
    "arr"
   ]
  },
  {
   "cell_type": "markdown",
   "metadata": {},
   "source": [
    "- `list.pop(i)`: リスト中の指定された位置にある要素をリストから削除して，その要素を返します．インデックスが指定されなければ，`a.pop()` はリストの末尾の要素を削除して返し，この場合も要素は削除されます．"
   ]
  },
  {
   "cell_type": "code",
   "execution_count": 86,
   "metadata": {},
   "outputs": [
    {
     "data": {
      "text/plain": [
       "['ccc']"
      ]
     },
     "execution_count": 86,
     "metadata": {},
     "output_type": "execute_result"
    }
   ],
   "source": [
    "arr = [\"a\", \"bb\", \"ccc\", \"dddd\"]\n",
    "arr.pop(-1)\n",
    "arr.pop(0)\n",
    "arr.pop(0)\n",
    "arr"
   ]
  },
  {
   "cell_type": "markdown",
   "metadata": {},
   "source": [
    "- `list.clear()`: リスト中の全ての要素を削除します．"
   ]
  },
  {
   "cell_type": "code",
   "execution_count": 87,
   "metadata": {},
   "outputs": [
    {
     "data": {
      "text/plain": [
       "[]"
      ]
     },
     "execution_count": 87,
     "metadata": {},
     "output_type": "execute_result"
    }
   ],
   "source": [
    "arr = [\"a\", \"bb\", \"ccc\", \"dddd\"]\n",
    "arr.clear()\n",
    "arr"
   ]
  },
  {
   "cell_type": "markdown",
   "metadata": {},
   "source": [
    "- `list.index(x, start, end)`: リスト中で `x` と等しい値を持つ最初の要素の位置をゼロから始まるインデックスで返します．該当する要素が無ければ `ValueError` が送出されます．"
   ]
  },
  {
   "cell_type": "code",
   "execution_count": 88,
   "metadata": {},
   "outputs": [
    {
     "data": {
      "text/plain": [
       "1"
      ]
     },
     "execution_count": 88,
     "metadata": {},
     "output_type": "execute_result"
    }
   ],
   "source": [
    "arr = [\"a\", \"bb\", \"ccc\", \"dddd\"]\n",
    "arr.index(\"bb\")"
   ]
  },
  {
   "cell_type": "code",
   "execution_count": 89,
   "metadata": {},
   "outputs": [
    {
     "ename": "ValueError",
     "evalue": "'b' is not in list",
     "output_type": "error",
     "traceback": [
      "\u001b[1;31m---------------------------------------------------------------------------\u001b[0m",
      "\u001b[1;31mValueError\u001b[0m                                Traceback (most recent call last)",
      "\u001b[1;32m<ipython-input-89-6a4405a7fd8e>\u001b[0m in \u001b[0;36m<module>\u001b[1;34m\u001b[0m\n\u001b[1;32m----> 1\u001b[1;33m \u001b[0marr\u001b[0m\u001b[1;33m.\u001b[0m\u001b[0mindex\u001b[0m\u001b[1;33m(\u001b[0m\u001b[1;34m\"b\"\u001b[0m\u001b[1;33m)\u001b[0m\u001b[1;33m\u001b[0m\u001b[1;33m\u001b[0m\u001b[0m\n\u001b[0m",
      "\u001b[1;31mValueError\u001b[0m: 'b' is not in list"
     ]
    }
   ],
   "source": [
    "arr.index(\"b\")"
   ]
  },
  {
   "cell_type": "markdown",
   "metadata": {},
   "source": [
    "- `list.count(x)`: リストでの `x` の出現回数を返します．"
   ]
  },
  {
   "cell_type": "code",
   "execution_count": 90,
   "metadata": {},
   "outputs": [
    {
     "data": {
      "text/plain": [
       "4"
      ]
     },
     "execution_count": 90,
     "metadata": {},
     "output_type": "execute_result"
    }
   ],
   "source": [
    "arr = [1, 1, 2, 3, 4, 5, 5, 1, 1, \"a\"]\n",
    "arr.count(1)"
   ]
  },
  {
   "cell_type": "markdown",
   "metadata": {},
   "source": [
    "- `list.sort(key=None, reverse=False)`: リストの項目を，インプレース演算 (in place，元のデータを演算結果で置き換えるやりかた) でソートします．"
   ]
  },
  {
   "cell_type": "code",
   "execution_count": 91,
   "metadata": {},
   "outputs": [
    {
     "data": {
      "text/plain": [
       "[0.9999999, 1, 1, 1, 1.00001, 2, 3, 4, 5, 5]"
      ]
     },
     "execution_count": 91,
     "metadata": {},
     "output_type": "execute_result"
    }
   ],
   "source": [
    "arr = [1, 1, 2, 3, 4, 5, 5, 1, 1.00001, 1-1/10000000]\n",
    "arr.sort()\n",
    "arr"
   ]
  },
  {
   "cell_type": "code",
   "execution_count": 92,
   "metadata": {},
   "outputs": [
    {
     "data": {
      "text/plain": [
       "['\\n', '___', 'a', 'aaaa', 'z', 'あ', 'か']"
      ]
     },
     "execution_count": 92,
     "metadata": {},
     "output_type": "execute_result"
    }
   ],
   "source": [
    "arr = [\"\\n\", \"か\", \"z\", \"a\", \"aaaa\", \"___\", \"あ\"]\n",
    "arr.sort()\n",
    "arr"
   ]
  },
  {
   "cell_type": "markdown",
   "metadata": {},
   "source": [
    "数値と文字列が同一のリストにある場合で `sort()` を適用した場合はエラー `TypeError` が送出されます．"
   ]
  },
  {
   "cell_type": "code",
   "execution_count": 93,
   "metadata": {},
   "outputs": [
    {
     "ename": "TypeError",
     "evalue": "'<' not supported between instances of 'str' and 'int'",
     "output_type": "error",
     "traceback": [
      "\u001b[1;31m---------------------------------------------------------------------------\u001b[0m",
      "\u001b[1;31mTypeError\u001b[0m                                 Traceback (most recent call last)",
      "\u001b[1;32m<ipython-input-93-cd64169ebfff>\u001b[0m in \u001b[0;36m<module>\u001b[1;34m\u001b[0m\n\u001b[0;32m      1\u001b[0m \u001b[0marr\u001b[0m \u001b[1;33m=\u001b[0m \u001b[1;33m[\u001b[0m\u001b[1;36m1\u001b[0m\u001b[1;33m,\u001b[0m \u001b[1;34m\"1\"\u001b[0m\u001b[1;33m,\u001b[0m \u001b[1;36m2\u001b[0m\u001b[1;33m,\u001b[0m \u001b[1;36m3\u001b[0m\u001b[1;33m,\u001b[0m \u001b[1;36m4\u001b[0m\u001b[1;33m,\u001b[0m \u001b[1;36m5\u001b[0m\u001b[1;33m,\u001b[0m \u001b[1;36m5\u001b[0m\u001b[1;33m,\u001b[0m \u001b[1;36m1\u001b[0m\u001b[1;33m,\u001b[0m \u001b[1;36m1.00001\u001b[0m\u001b[1;33m,\u001b[0m \u001b[1;36m1\u001b[0m\u001b[1;33m-\u001b[0m\u001b[1;36m1\u001b[0m\u001b[1;33m/\u001b[0m\u001b[1;36m10000000\u001b[0m\u001b[1;33m]\u001b[0m\u001b[1;33m\u001b[0m\u001b[1;33m\u001b[0m\u001b[0m\n\u001b[1;32m----> 2\u001b[1;33m \u001b[0marr\u001b[0m\u001b[1;33m.\u001b[0m\u001b[0msort\u001b[0m\u001b[1;33m(\u001b[0m\u001b[1;33m)\u001b[0m\u001b[1;33m\u001b[0m\u001b[1;33m\u001b[0m\u001b[0m\n\u001b[0m\u001b[0;32m      3\u001b[0m \u001b[0marr\u001b[0m\u001b[1;33m\u001b[0m\u001b[1;33m\u001b[0m\u001b[0m\n",
      "\u001b[1;31mTypeError\u001b[0m: '<' not supported between instances of 'str' and 'int'"
     ]
    }
   ],
   "source": [
    "arr = [1, \"1\", 2, 3, 4, 5, 5, 1, 1.00001, 1-1/10000000]\n",
    "arr.sort()\n",
    "arr"
   ]
  },
  {
   "cell_type": "markdown",
   "metadata": {},
   "source": [
    "- `list.reverse()`: リストの要素をインプレース演算で逆順にします．"
   ]
  },
  {
   "cell_type": "code",
   "execution_count": 94,
   "metadata": {},
   "outputs": [
    {
     "data": {
      "text/plain": [
       "[1000, 'a', 5, 2, 1, 0]"
      ]
     },
     "execution_count": 94,
     "metadata": {},
     "output_type": "execute_result"
    }
   ],
   "source": [
    "arr = [0, 1, 2, 5, \"a\", 1000]\n",
    "arr.reverse()\n",
    "arr"
   ]
  },
  {
   "cell_type": "markdown",
   "metadata": {},
   "source": [
    "---\n",
    "\n",
    "## 4. タプル <a class=\"anchor\" id=\"4\"></a>  \n",
    "[目次に戻る](#0)  "
   ]
  },
  {
   "cell_type": "markdown",
   "metadata": {},
   "source": [
    "タプルもリストに似て，入れ物のように使います．  \n",
    "以下のように，タプルはカンマ区切りの値から生成できます．"
   ]
  },
  {
   "cell_type": "code",
   "execution_count": 95,
   "metadata": {},
   "outputs": [
    {
     "data": {
      "text/plain": [
       "(1, 2, 'a')"
      ]
     },
     "execution_count": 95,
     "metadata": {},
     "output_type": "execute_result"
    }
   ],
   "source": [
    "1, 2, \"a\""
   ]
  },
  {
   "cell_type": "markdown",
   "metadata": {},
   "source": [
    "出力には `( )` がついていますが，代入（定義）の際は必ずしも `( )` は必要ではありません．"
   ]
  },
  {
   "cell_type": "code",
   "execution_count": 96,
   "metadata": {},
   "outputs": [
    {
     "data": {
      "text/plain": [
       "(1, 2, 'a')"
      ]
     },
     "execution_count": 96,
     "metadata": {},
     "output_type": "execute_result"
    }
   ],
   "source": [
    "(1, 2, \"a\")"
   ]
  },
  {
   "cell_type": "code",
   "execution_count": 97,
   "metadata": {},
   "outputs": [
    {
     "data": {
      "text/plain": [
       "(1, 2, 'a')"
      ]
     },
     "execution_count": 97,
     "metadata": {},
     "output_type": "execute_result"
    }
   ],
   "source": [
    "arr = 1,2,\"a\"\n",
    "arr"
   ]
  },
  {
   "cell_type": "markdown",
   "metadata": {},
   "source": [
    "要素が1つの場合，要素の後にカンマを入れないと，タプルでなく，単なる値として認識されます．"
   ]
  },
  {
   "cell_type": "code",
   "execution_count": 98,
   "metadata": {},
   "outputs": [
    {
     "data": {
      "text/plain": [
       "1"
      ]
     },
     "execution_count": 98,
     "metadata": {},
     "output_type": "execute_result"
    }
   ],
   "source": [
    "arr = (1)\n",
    "arr"
   ]
  },
  {
   "cell_type": "code",
   "execution_count": 99,
   "metadata": {},
   "outputs": [
    {
     "data": {
      "text/plain": [
       "(1,)"
      ]
     },
     "execution_count": 99,
     "metadata": {},
     "output_type": "execute_result"
    }
   ],
   "source": [
    "arr = (1,)\n",
    "arr"
   ]
  },
  {
   "cell_type": "markdown",
   "metadata": {},
   "source": [
    "リストは可変（ミュータブル, mutable）であることに対し，タプルは不変（イミュータブル，immutable）であるため，似ているオブジェクトに見えますが，リストで用いたメソッドの大半は使うことができず，役割が異なります．  \n",
    "タプルは主に，\n",
    "\n",
    "- 格納している要素を変更したくない場合\n",
    "- 例えば，後述する辞書型のキーはハッシュ可能な（hashable, 生存期間中変わらないハッシュ値を持ち他のオブジェクトと比較ができる）オブジェクトである必要があり，ミュータブルなタプルは自身を除いた比較結果は非等価であることから受け付けるが，イミュータブル（unhashable）なリストは受け付けられない\n",
    "\n",
    "上記2つの場合に用いられます．引数としてミュータブルなオブジェクトのみ受け付けるライブラリも多いので，タプルとリストの出番は大きく異なると言えます．  "
   ]
  },
  {
   "cell_type": "markdown",
   "metadata": {},
   "source": [
    "タプルに用いることができるメソッドは，\n",
    "\n",
    "- index\n",
    "- count\n",
    "\n",
    "の二つで，使い方はリストと同じなので省略します．アンパックも同様です．"
   ]
  },
  {
   "cell_type": "markdown",
   "metadata": {},
   "source": [
    "空のタプルの作成は，要素を何も書かずに `()` とするだけです．"
   ]
  },
  {
   "cell_type": "code",
   "execution_count": 100,
   "metadata": {},
   "outputs": [
    {
     "data": {
      "text/plain": [
       "()"
      ]
     },
     "execution_count": 100,
     "metadata": {},
     "output_type": "execute_result"
    }
   ],
   "source": [
    "a = ()\n",
    "a"
   ]
  },
  {
   "cell_type": "markdown",
   "metadata": {},
   "source": [
    "---\n",
    "\n",
    "## 5. 集合 <a class=\"anchor\" id=\"5\"></a>  \n",
    "[目次に戻る](#0)  "
   ]
  },
  {
   "cell_type": "markdown",
   "metadata": {},
   "source": [
    "集合（set）とは，重複する要素を持たず，順序づけられていない要素の集まりで，集合演算が可能です．  \n",
    "集合は `{a, b, ...}` のように定義するか，文字列，リスト，タプルなど iterable なオブジェクトに対し，`set(iterable)` という風にset関数を用いることで定義できます．  "
   ]
  },
  {
   "cell_type": "code",
   "execution_count": 101,
   "metadata": {},
   "outputs": [
    {
     "data": {
      "text/plain": [
       "{1, 2, 3, 4, 5, 6, 7, 'a'}"
      ]
     },
     "execution_count": 101,
     "metadata": {},
     "output_type": "execute_result"
    }
   ],
   "source": [
    "{1, 2, \"a\", 3, 1, 2, 3, 1, 2, 3, 4, 5, 6, 7}"
   ]
  },
  {
   "cell_type": "code",
   "execution_count": 102,
   "metadata": {},
   "outputs": [
    {
     "data": {
      "text/plain": [
       "{'a', 'c', 'e', 'h', 'i', 'n', 'o', 'r', 't', 'u'}"
      ]
     },
     "execution_count": 102,
     "metadata": {},
     "output_type": "execute_result"
    }
   ],
   "source": [
    "txt = \"irohanihohetochirinuruo\"\n",
    "set(txt)"
   ]
  },
  {
   "cell_type": "code",
   "execution_count": 103,
   "metadata": {},
   "outputs": [
    {
     "data": {
      "text/plain": [
       "{(1, 3), 1, 3, 4, 5}"
      ]
     },
     "execution_count": 103,
     "metadata": {},
     "output_type": "execute_result"
    }
   ],
   "source": [
    "arr = [1, 5, 4, 3, 5, 5, (1,3)]\n",
    "set(arr)"
   ]
  },
  {
   "cell_type": "code",
   "execution_count": 104,
   "metadata": {},
   "outputs": [
    {
     "ename": "TypeError",
     "evalue": "unhashable type: 'list'",
     "output_type": "error",
     "traceback": [
      "\u001b[1;31m---------------------------------------------------------------------------\u001b[0m",
      "\u001b[1;31mTypeError\u001b[0m                                 Traceback (most recent call last)",
      "\u001b[1;32m<ipython-input-104-11926d7c5d44>\u001b[0m in \u001b[0;36m<module>\u001b[1;34m\u001b[0m\n\u001b[0;32m      1\u001b[0m \u001b[0marr\u001b[0m \u001b[1;33m=\u001b[0m \u001b[1;33m[\u001b[0m\u001b[1;36m1\u001b[0m\u001b[1;33m,\u001b[0m \u001b[1;36m5\u001b[0m\u001b[1;33m,\u001b[0m \u001b[1;36m4\u001b[0m\u001b[1;33m,\u001b[0m \u001b[1;36m3\u001b[0m\u001b[1;33m,\u001b[0m \u001b[1;36m5\u001b[0m\u001b[1;33m,\u001b[0m \u001b[1;36m5\u001b[0m\u001b[1;33m,\u001b[0m \u001b[1;33m[\u001b[0m\u001b[1;36m1\u001b[0m\u001b[1;33m,\u001b[0m\u001b[1;36m3\u001b[0m\u001b[1;33m]\u001b[0m\u001b[1;33m]\u001b[0m\u001b[1;33m\u001b[0m\u001b[1;33m\u001b[0m\u001b[0m\n\u001b[1;32m----> 2\u001b[1;33m \u001b[0mset\u001b[0m\u001b[1;33m(\u001b[0m\u001b[0marr\u001b[0m\u001b[1;33m)\u001b[0m\u001b[1;33m\u001b[0m\u001b[1;33m\u001b[0m\u001b[0m\n\u001b[0m",
      "\u001b[1;31mTypeError\u001b[0m: unhashable type: 'list'"
     ]
    }
   ],
   "source": [
    "arr = [1, 5, 4, 3, 5, 5, [1,3]]\n",
    "set(arr)"
   ]
  },
  {
   "cell_type": "markdown",
   "metadata": {},
   "source": [
    "上記の通り，`set()` にて集約される要素自体は immutable である必要があります．  \n",
    "`TypeError` が送出されたのは，`[1, 3]` が mutable であることが起因しています．"
   ]
  },
  {
   "cell_type": "markdown",
   "metadata": {},
   "source": [
    "例えば二つの集合 $A$, $B$ が与えられたとき，以下のような集合演算\n",
    "\n",
    "- 和（union）: $A \\cup B$\n",
    "- 積（intersection）: $A \\cap B$\n",
    "- 差（difference）: $A - A \\cap B$, $B - (A \\cap B)$\n",
    "- 対称差（symmetric difference）: $(A \\cup B) - (A \\cap B)$\n",
    "\n",
    "を扱うこともできます．"
   ]
  },
  {
   "cell_type": "code",
   "execution_count": 105,
   "metadata": {},
   "outputs": [
    {
     "data": {
      "text/plain": [
       "({0, 1, 2, 3, 4, 'a'}, {0, 2, 4, 5})"
      ]
     },
     "execution_count": 105,
     "metadata": {},
     "output_type": "execute_result"
    }
   ],
   "source": [
    "a = {0, 1, 2, 3, 4,    \"a\"}\n",
    "b = {0, 2,       4, 5}\n",
    "a, b"
   ]
  },
  {
   "cell_type": "code",
   "execution_count": 106,
   "metadata": {},
   "outputs": [
    {
     "data": {
      "text/plain": [
       "{0, 1, 2, 3, 4, 5, 'a'}"
      ]
     },
     "execution_count": 106,
     "metadata": {},
     "output_type": "execute_result"
    }
   ],
   "source": [
    "# union\n",
    "a | b"
   ]
  },
  {
   "cell_type": "code",
   "execution_count": 107,
   "metadata": {},
   "outputs": [
    {
     "data": {
      "text/plain": [
       "{0, 2, 4}"
      ]
     },
     "execution_count": 107,
     "metadata": {},
     "output_type": "execute_result"
    }
   ],
   "source": [
    "# intersection\n",
    "a & b"
   ]
  },
  {
   "cell_type": "code",
   "execution_count": 108,
   "metadata": {},
   "outputs": [
    {
     "data": {
      "text/plain": [
       "({1, 3, 'a'}, {5})"
      ]
     },
     "execution_count": 108,
     "metadata": {},
     "output_type": "execute_result"
    }
   ],
   "source": [
    "# difference\n",
    "a - b, b - a"
   ]
  },
  {
   "cell_type": "code",
   "execution_count": 109,
   "metadata": {},
   "outputs": [
    {
     "data": {
      "text/plain": [
       "{1, 3, 5, 'a'}"
      ]
     },
     "execution_count": 109,
     "metadata": {},
     "output_type": "execute_result"
    }
   ],
   "source": [
    "# symmetric difference\n",
    "a ^ b"
   ]
  },
  {
   "cell_type": "markdown",
   "metadata": {},
   "source": [
    "---\n",
    "\n",
    "## 6. 辞書 <a class=\"anchor\" id=\"6\"></a>  \n",
    "[目次に戻る](#0)  "
   ]
  },
  {
   "cell_type": "markdown",
   "metadata": {},
   "source": [
    "python の辞書型（dictionay）は，他の言語では連想配列（associative array）と呼ばれることもあり，要素との紐づけが配列番号ではなく，キー（key）によって紐づけられます．  \n",
    "キーは変更不可能な型のみ受け付けるため，リストなどのミュータブルなオブジェクトは用いることができません．  \n",
    "辞書は `{key0: value0, key1: value1, ...}` という風に，`{ }` の中に `key` と `value` の間に `:` を挟み，ペアで定義します．"
   ]
  },
  {
   "cell_type": "code",
   "execution_count": 110,
   "metadata": {},
   "outputs": [
    {
     "data": {
      "text/plain": [
       "{'a': 0, 'b': 1, 'c': 2}"
      ]
     },
     "execution_count": 110,
     "metadata": {},
     "output_type": "execute_result"
    }
   ],
   "source": [
    "a = {\"a\": 0, \"b\": 1, \"c\": 2}\n",
    "a"
   ]
  },
  {
   "cell_type": "markdown",
   "metadata": {},
   "source": [
    "その名の通り辞書の要素を参照したいときは，配列番号でなくキーを入力することによって，関連付けられている要素を参照することができます．  \n",
    "参照の仕方は，`dict[key]` もしくは `dict.get(key)` です．"
   ]
  },
  {
   "cell_type": "code",
   "execution_count": 111,
   "metadata": {},
   "outputs": [
    {
     "data": {
      "text/plain": [
       "(0, 2)"
      ]
     },
     "execution_count": 111,
     "metadata": {},
     "output_type": "execute_result"
    }
   ],
   "source": [
    "a[\"a\"], a.get(\"c\")"
   ]
  },
  {
   "cell_type": "code",
   "execution_count": 112,
   "metadata": {},
   "outputs": [
    {
     "data": {
      "text/plain": [
       "({'c0': 0, 'c1': 0}, 0)"
      ]
     },
     "execution_count": 112,
     "metadata": {},
     "output_type": "execute_result"
    }
   ],
   "source": [
    "a = {\"a\": 0, \"b\": 1, \"c\": {\"c0\": 0, \"c1\": 0}}\n",
    "a[\"c\"], a[\"c\"][\"c1\"]"
   ]
  },
  {
   "cell_type": "markdown",
   "metadata": {},
   "source": [
    "配列番号はキーではないので，リストと同じように配列番号で参照を行おうとするとエラー `KeyError` が送出されます．指定したキーが無い場合も同様です．"
   ]
  },
  {
   "cell_type": "code",
   "execution_count": 113,
   "metadata": {},
   "outputs": [
    {
     "ename": "KeyError",
     "evalue": "0",
     "output_type": "error",
     "traceback": [
      "\u001b[1;31m---------------------------------------------------------------------------\u001b[0m",
      "\u001b[1;31mKeyError\u001b[0m                                  Traceback (most recent call last)",
      "\u001b[1;32m<ipython-input-113-63d34e9d31d4>\u001b[0m in \u001b[0;36m<module>\u001b[1;34m\u001b[0m\n\u001b[0;32m      1\u001b[0m \u001b[0ma\u001b[0m \u001b[1;33m=\u001b[0m \u001b[1;33m{\u001b[0m\u001b[1;34m\"a\"\u001b[0m\u001b[1;33m:\u001b[0m \u001b[1;36m0\u001b[0m\u001b[1;33m,\u001b[0m \u001b[1;34m\"b\"\u001b[0m\u001b[1;33m:\u001b[0m \u001b[1;36m1\u001b[0m\u001b[1;33m,\u001b[0m \u001b[1;34m\"c\"\u001b[0m\u001b[1;33m:\u001b[0m \u001b[1;36m2\u001b[0m\u001b[1;33m}\u001b[0m\u001b[1;33m\u001b[0m\u001b[1;33m\u001b[0m\u001b[0m\n\u001b[1;32m----> 2\u001b[1;33m \u001b[0ma\u001b[0m\u001b[1;33m[\u001b[0m\u001b[1;36m0\u001b[0m\u001b[1;33m]\u001b[0m\u001b[1;33m\u001b[0m\u001b[1;33m\u001b[0m\u001b[0m\n\u001b[0m",
      "\u001b[1;31mKeyError\u001b[0m: 0"
     ]
    }
   ],
   "source": [
    "a = {\"a\": 0, \"b\": 1, \"c\": 2}\n",
    "a[0]"
   ]
  },
  {
   "cell_type": "markdown",
   "metadata": {},
   "source": [
    "注意として，`key` は同一辞書内において同一のキーが存在する場合は，最後に定義した同一のキーの値が用いられるため，キーは他と被らないように一意の値／文字列として定義しましょう．"
   ]
  },
  {
   "cell_type": "code",
   "execution_count": 114,
   "metadata": {},
   "outputs": [
    {
     "data": {
      "text/plain": [
       "{'aaaa': {'memo': 'overwritten'}, 'b': 1, 'c': 2}"
      ]
     },
     "execution_count": 114,
     "metadata": {},
     "output_type": "execute_result"
    }
   ],
   "source": [
    "a = {\"aaaa\": 0, \"b\": 1, \"c\": 2, \"aaaa\": 3, \"aaaa\": {\"memo\": \"overwritten\"}}\n",
    "a"
   ]
  },
  {
   "cell_type": "markdown",
   "metadata": {},
   "source": [
    "辞書の上書きと追加は，`dict[key] = value` として簡単に操作できます．  \n",
    "`key` が `dict` に存在する場合は上書き，存在しない場合は新たなキーと値のペアが追加されます．"
   ]
  },
  {
   "cell_type": "code",
   "execution_count": 115,
   "metadata": {},
   "outputs": [
    {
     "data": {
      "text/plain": [
       "{'z': -100, 'zz': 1, 'zzz': 2}"
      ]
     },
     "execution_count": 115,
     "metadata": {},
     "output_type": "execute_result"
    }
   ],
   "source": [
    "z = {\"z\": 0}\n",
    "z[\"zz\"] = 1\n",
    "z[\"zzz\"] = 2\n",
    "z[\"z\"] = -100\n",
    "z"
   ]
  },
  {
   "cell_type": "markdown",
   "metadata": {},
   "source": [
    "辞書型においても多くのメソッドがあります．"
   ]
  },
  {
   "cell_type": "markdown",
   "metadata": {},
   "source": [
    "- `dict.keys()`: `dict` からキーを返します．"
   ]
  },
  {
   "cell_type": "code",
   "execution_count": 116,
   "metadata": {},
   "outputs": [
    {
     "data": {
      "text/plain": [
       "dict_keys(['a', 'b', 'c'])"
      ]
     },
     "execution_count": 116,
     "metadata": {},
     "output_type": "execute_result"
    }
   ],
   "source": [
    "a = {\"a\": 0, \"b\": 1, \"c\": 2}\n",
    "keys = a.keys()\n",
    "keys"
   ]
  },
  {
   "cell_type": "code",
   "execution_count": 117,
   "metadata": {},
   "outputs": [
    {
     "ename": "TypeError",
     "evalue": "'dict_keys' object is not subscriptable",
     "output_type": "error",
     "traceback": [
      "\u001b[1;31m---------------------------------------------------------------------------\u001b[0m",
      "\u001b[1;31mTypeError\u001b[0m                                 Traceback (most recent call last)",
      "\u001b[1;32m<ipython-input-117-6f0aacbbd12d>\u001b[0m in \u001b[0;36m<module>\u001b[1;34m\u001b[0m\n\u001b[1;32m----> 1\u001b[1;33m \u001b[0mkeys\u001b[0m\u001b[1;33m[\u001b[0m\u001b[1;36m0\u001b[0m\u001b[1;33m]\u001b[0m\u001b[1;33m\u001b[0m\u001b[1;33m\u001b[0m\u001b[0m\n\u001b[0m",
      "\u001b[1;31mTypeError\u001b[0m: 'dict_keys' object is not subscriptable"
     ]
    }
   ],
   "source": [
    "keys[0]"
   ]
  },
  {
   "cell_type": "markdown",
   "metadata": {},
   "source": [
    "返り値は dict_keys 型となっており，これはリストや辞書とは異なるビューオブジェクトと呼ばれるもので，`.keys` の対象から作成やコピーされたものではなく，単なるビュー（参照されているだけ）であるため，直接変更したり操作することはできません．  \n",
    "リストのように扱いたい場合は，list 関数（後述）を用いることによってリスト化できます．"
   ]
  },
  {
   "cell_type": "code",
   "execution_count": 118,
   "metadata": {},
   "outputs": [
    {
     "data": {
      "text/plain": [
       "['a', 'b', 'c']"
      ]
     },
     "execution_count": 118,
     "metadata": {},
     "output_type": "execute_result"
    }
   ],
   "source": [
    "keys_list = list(keys)\n",
    "keys_list"
   ]
  },
  {
   "cell_type": "code",
   "execution_count": 119,
   "metadata": {},
   "outputs": [
    {
     "data": {
      "text/plain": [
       "'a'"
      ]
     },
     "execution_count": 119,
     "metadata": {},
     "output_type": "execute_result"
    }
   ],
   "source": [
    "keys_list[0]"
   ]
  },
  {
   "cell_type": "markdown",
   "metadata": {},
   "source": [
    "- `dict.values()`: `dict` から値を返します．`.keys()` と同様にリスト化する際には list 関数を用います．"
   ]
  },
  {
   "cell_type": "code",
   "execution_count": 120,
   "metadata": {},
   "outputs": [
    {
     "data": {
      "text/plain": [
       "dict_values([0, 1, 2])"
      ]
     },
     "execution_count": 120,
     "metadata": {},
     "output_type": "execute_result"
    }
   ],
   "source": [
    "a = {\"a\": 0, \"b\": 1, \"c\": 2}\n",
    "a.values()"
   ]
  },
  {
   "cell_type": "code",
   "execution_count": 121,
   "metadata": {},
   "outputs": [
    {
     "data": {
      "text/plain": [
       "[0, 1, 2]"
      ]
     },
     "execution_count": 121,
     "metadata": {},
     "output_type": "execute_result"
    }
   ],
   "source": [
    "list(a.values())"
   ]
  },
  {
   "cell_type": "markdown",
   "metadata": {},
   "source": [
    "- `dict.items()`: `dict` からキーと値のペアを返します．`.keys()` と同様にリスト化する際には list 関数を用います．この際，各要素はタプルです．"
   ]
  },
  {
   "cell_type": "code",
   "execution_count": 122,
   "metadata": {},
   "outputs": [
    {
     "data": {
      "text/plain": [
       "dict_items([('a', 0), ('b', 1), ('c', 2)])"
      ]
     },
     "execution_count": 122,
     "metadata": {},
     "output_type": "execute_result"
    }
   ],
   "source": [
    "a = {\"a\": 0, \"b\": 1, \"c\": 2}\n",
    "a.items()"
   ]
  },
  {
   "cell_type": "code",
   "execution_count": 123,
   "metadata": {},
   "outputs": [
    {
     "data": {
      "text/plain": [
       "('c', 2)"
      ]
     },
     "execution_count": 123,
     "metadata": {},
     "output_type": "execute_result"
    }
   ],
   "source": [
    "list(a.items())[-1]"
   ]
  },
  {
   "cell_type": "markdown",
   "metadata": {},
   "source": [
    "- `dict.setdefault(key, value)`: `dict` にキーと値のペアを追加します．`dict` に `key` が既存の場合は，上書きされません．"
   ]
  },
  {
   "cell_type": "code",
   "execution_count": 124,
   "metadata": {},
   "outputs": [
    {
     "data": {
      "text/plain": [
       "{'z': 0, 'zz': 1, 'zzz': 2}"
      ]
     },
     "execution_count": 124,
     "metadata": {},
     "output_type": "execute_result"
    }
   ],
   "source": [
    "z = {\"z\": 0}\n",
    "z.setdefault(\"zz\", 1)\n",
    "z.setdefault(\"zzz\", 2)\n",
    "z.setdefault(\"z\", -100)\n",
    "z"
   ]
  },
  {
   "cell_type": "markdown",
   "metadata": {},
   "source": [
    "- `dict.update(dict)`: `dict` に対して引数に指定した `dict` を結合します．キーが重複する場合は，引数に指定したキーの値で上書きされます．"
   ]
  },
  {
   "cell_type": "code",
   "execution_count": 125,
   "metadata": {},
   "outputs": [
    {
     "data": {
      "text/plain": [
       "{'00': '00', '01': 1, '02': 20, '001': 1}"
      ]
     },
     "execution_count": 125,
     "metadata": {},
     "output_type": "execute_result"
    }
   ],
   "source": [
    "x = {\"00\": 0, \"01\": 1, \"02\": 2}\n",
    "y = {\"00\": \"00\", \"001\": 1, \"02\": 20}\n",
    "x.update(y)\n",
    "x"
   ]
  },
  {
   "cell_type": "markdown",
   "metadata": {},
   "source": [
    "- `dict.pop(key)`: `dict` から `key` とその値を削除します．注意として，この操作は，削除対象の要素を返します．"
   ]
  },
  {
   "cell_type": "code",
   "execution_count": 126,
   "metadata": {},
   "outputs": [
    {
     "data": {
      "text/plain": [
       "(0, {'b': 1, 'c': 2})"
      ]
     },
     "execution_count": 126,
     "metadata": {},
     "output_type": "execute_result"
    }
   ],
   "source": [
    "a = {\"a\": 0, \"b\": 1, \"c\": 2}\n",
    "popped = a.pop(\"a\")\n",
    "popped, a"
   ]
  },
  {
   "cell_type": "markdown",
   "metadata": {},
   "source": [
    "- `dict.popitem()`: `dict` からキーと要素のペアを削除します．この操作は，削除対象のキーと値のペアをタプルで返します．注意として，削除するペアを選択することはできません．"
   ]
  },
  {
   "cell_type": "code",
   "execution_count": 127,
   "metadata": {},
   "outputs": [
    {
     "data": {
      "text/plain": [
       "(('c', 2), {'a': 0, 'b': 1})"
      ]
     },
     "execution_count": 127,
     "metadata": {},
     "output_type": "execute_result"
    }
   ],
   "source": [
    "a = {\"a\": 0, \"b\": 1, \"c\": 2}\n",
    "popped = a.popitem()\n",
    "popped, a"
   ]
  },
  {
   "cell_type": "markdown",
   "metadata": {},
   "source": [
    "- `dict.clear()`: `dict` から要素をすべて削除します．"
   ]
  },
  {
   "cell_type": "code",
   "execution_count": 128,
   "metadata": {},
   "outputs": [
    {
     "data": {
      "text/plain": [
       "{}"
      ]
     },
     "execution_count": 128,
     "metadata": {},
     "output_type": "execute_result"
    }
   ],
   "source": [
    "a = {\"a\": 0, \"b\": 1, \"c\": 2}\n",
    "a.clear()\n",
    "a"
   ]
  },
  {
   "cell_type": "markdown",
   "metadata": {},
   "source": [
    "- `dict.copy()`: `dict` のコピーを生成します．"
   ]
  },
  {
   "cell_type": "code",
   "execution_count": 129,
   "metadata": {},
   "outputs": [
    {
     "data": {
      "text/plain": [
       "{'a': 0, 'b': 1, 'c': 2}"
      ]
     },
     "execution_count": 129,
     "metadata": {},
     "output_type": "execute_result"
    }
   ],
   "source": [
    "a = {\"a\": 0, \"b\": 1, \"c\": 2}\n",
    "b = a.copy()\n",
    "b"
   ]
  },
  {
   "cell_type": "code",
   "execution_count": 130,
   "metadata": {},
   "outputs": [
    {
     "data": {
      "text/plain": [
       "True"
      ]
     },
     "execution_count": 130,
     "metadata": {},
     "output_type": "execute_result"
    }
   ],
   "source": [
    "a == b"
   ]
  },
  {
   "cell_type": "markdown",
   "metadata": {},
   "source": [
    "以下の通りアンパックも可能で，メソッド無しの場合は `.keys()` メソッドと同様にキーが返されますが，可読性の観点から `.keys()` と明示した方が良いでしょう．"
   ]
  },
  {
   "cell_type": "code",
   "execution_count": 131,
   "metadata": {},
   "outputs": [],
   "source": [
    "a = {\"a\": 0, \"b\": 1, \"c\": 2}"
   ]
  },
  {
   "cell_type": "code",
   "execution_count": 132,
   "metadata": {},
   "outputs": [
    {
     "data": {
      "text/plain": [
       "('a', 'b', 'c')"
      ]
     },
     "execution_count": 132,
     "metadata": {},
     "output_type": "execute_result"
    }
   ],
   "source": [
    "aa, ab, ac = a\n",
    "aa, ab, ac"
   ]
  },
  {
   "cell_type": "code",
   "execution_count": 133,
   "metadata": {},
   "outputs": [
    {
     "data": {
      "text/plain": [
       "('a', 'b', 'c')"
      ]
     },
     "execution_count": 133,
     "metadata": {},
     "output_type": "execute_result"
    }
   ],
   "source": [
    "aa, ab, ac = a.keys()\n",
    "aa, ab, ac"
   ]
  },
  {
   "cell_type": "code",
   "execution_count": 134,
   "metadata": {},
   "outputs": [
    {
     "data": {
      "text/plain": [
       "(0, 1, 2)"
      ]
     },
     "execution_count": 134,
     "metadata": {},
     "output_type": "execute_result"
    }
   ],
   "source": [
    "aa, ab, ac = a.values()\n",
    "aa, ab, ac"
   ]
  },
  {
   "cell_type": "markdown",
   "metadata": {},
   "source": [
    "`del dict(key)` とすることで，`dict` から指定したキーと値のペアを削除することもできます．"
   ]
  },
  {
   "cell_type": "code",
   "execution_count": 135,
   "metadata": {},
   "outputs": [
    {
     "data": {
      "text/plain": [
       "{'a': 0}"
      ]
     },
     "execution_count": 135,
     "metadata": {},
     "output_type": "execute_result"
    }
   ],
   "source": [
    "a = {\"a\": 0, \"b\": 1, \"c\": 2}\n",
    "del a[\"b\"], a[\"c\"]\n",
    "a"
   ]
  }
 ],
 "metadata": {
  "kernelspec": {
   "display_name": "Python 3",
   "language": "python",
   "name": "python3"
  },
  "language_info": {
   "codemirror_mode": {
    "name": "ipython",
    "version": 3
   },
   "file_extension": ".py",
   "mimetype": "text/x-python",
   "name": "python",
   "nbconvert_exporter": "python",
   "pygments_lexer": "ipython3",
   "version": "3.7.5"
  }
 },
 "nbformat": 4,
 "nbformat_minor": 4
}
