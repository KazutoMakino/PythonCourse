{
 "cells": [
  {
   "attachments": {},
   "cell_type": "markdown",
   "metadata": {},
   "source": [
    "# 【自前AI講座】 LASSO / Ridge 回帰 / ElasticNet の理論／数式／コード実装\n",
    "\n",
    "---"
   ]
  },
  {
   "attachments": {},
   "cell_type": "markdown",
   "metadata": {},
   "source": [
    "## 演習問題の解答"
   ]
  },
  {
   "attachments": {},
   "cell_type": "markdown",
   "metadata": {},
   "source": [
    "Q1. ワインデータセットについて，目的変数であるワインの等級を LASSO によって求めてください．"
   ]
  },
  {
   "cell_type": "code",
   "execution_count": 1,
   "metadata": {},
   "outputs": [],
   "source": [
    "import numpy as np\n",
    "from sklearn.datasets import load_wine\n",
    "from sklearn.metrics import accuracy_score\n",
    "from sklearn import linear_model\n",
    "from sklearn.model_selection import train_test_split\n",
    "\n",
    "# データ読み込み\n",
    "df_x, df_y = load_wine(return_X_y=True, as_frame=True)\n",
    "\n",
    "# データ分割\n",
    "x_train, x_test, y_train, y_test = train_test_split(\n",
    "    df_x, df_y, test_size=0.1, shuffle=True, random_state=0,\n",
    ")\n",
    "\n",
    "# 学習／推論\n",
    "model = linear_model.Lasso()\n",
    "model.fit(x_train, y_train)\n",
    "pred = model.predict(df_x)"
   ]
  },
  {
   "attachments": {},
   "cell_type": "markdown",
   "metadata": {},
   "source": [
    "Q2. 上記で学習したモデルを用いて，df_x 全データについて推論を計算し，分類精度を計算しましょう．\n",
    "LASSO を用いる場合，分類問題に無理やり回帰を用いていることから，推論結果は float となるため，例えば推論結果に .astype(np.uint8) としてカテゴリ変数に変換してください．"
   ]
  },
  {
   "cell_type": "code",
   "execution_count": 2,
   "metadata": {},
   "outputs": [
    {
     "name": "stdout",
     "output_type": "stream",
     "text": [
      "0.6741573033707865\n"
     ]
    }
   ],
   "source": [
    "# float -> int\n",
    "pred_cate = pred.astype(np.uint8)\n",
    "\n",
    "# 分類精度算出\n",
    "print(accuracy_score(y_true=df_y, y_pred=pred_cate))"
   ]
  },
  {
   "attachments": {},
   "cell_type": "markdown",
   "metadata": {},
   "source": [
    "Q3. 上記の結果について，他の linear_model である　LinearRegression, Lasso, RidgeClassifier, ElasticNet で認識精度を比較してみましょう．注意として RidgeClassifier のみクラス分類できるモデルになっているため，Q2 で対応した .astype(np.uint8) とする処理は不要です．"
   ]
  },
  {
   "cell_type": "code",
   "execution_count": 12,
   "metadata": {},
   "outputs": [
    {
     "name": "stdout",
     "output_type": "stream",
     "text": [
      "LinearRegression() 0.6179775280898876\n",
      "Lasso() 0.6741573033707865\n",
      "RidgeClassifier() 1.0\n",
      "ElasticNet() 0.6460674157303371\n"
     ]
    }
   ],
   "source": [
    "for model in (\n",
    "    linear_model.LinearRegression(),\n",
    "    linear_model.Lasso(),\n",
    "    linear_model.RidgeClassifier(),\n",
    "    linear_model.ElasticNet(),\n",
    "):\n",
    "    # 学習／推論\n",
    "    model.fit(x_train, y_train)\n",
    "    pred = model.predict(df_x)\n",
    "    # float -> int\n",
    "    if isinstance(model, linear_model.RidgeClassifier):\n",
    "        pred_cate = pred\n",
    "    else:\n",
    "        pred_cate = pred.astype(np.uint8)\n",
    "\n",
    "    # 分類精度算出\n",
    "    print(model, accuracy_score(y_true=df_y, y_pred=pred_cate))"
   ]
  },
  {
   "attachments": {},
   "cell_type": "markdown",
   "metadata": {},
   "source": [
    "Q4. カリフォルニア住宅価格データセットについて，LASSO を用いて以下の手順で住宅価格を予測してみましょう．"
   ]
  },
  {
   "cell_type": "code",
   "execution_count": 13,
   "metadata": {},
   "outputs": [
    {
     "name": "stdout",
     "output_type": "stream",
     "text": [
      "0.7687270988960119\n"
     ]
    }
   ],
   "source": [
    "from sklearn.datasets import fetch_california_housing\n",
    "from sklearn.metrics import mean_absolute_error\n",
    "\n",
    "# データ読み込み／分割\n",
    "df_x, df_y = fetch_california_housing(return_X_y=True, as_frame=True)\n",
    "x_train, x_test, y_train, y_test = train_test_split(\n",
    "    df_x, df_y, test_size=0.25, shuffle=True, random_state=0,\n",
    ")\n",
    "\n",
    "# 学習／推論\n",
    "model = linear_model.Lasso()\n",
    "model.fit(x_train, y_train)\n",
    "pred = model.predict(x_test)\n",
    "\n",
    "print(mean_absolute_error(y_true=y_test, y_pred=pred))"
   ]
  },
  {
   "attachments": {},
   "cell_type": "markdown",
   "metadata": {},
   "source": [
    "Q5. 上記の結果について，他の linear_model である　LinearRegression, Lasso, Ridge, ElasticNet で認識精度を比較してみましょう．今回は回帰問題で誤差を算出しているので，誤差が小さいほど良い精度で予測しています．"
   ]
  },
  {
   "cell_type": "code",
   "execution_count": 15,
   "metadata": {},
   "outputs": [
    {
     "name": "stdout",
     "output_type": "stream",
     "text": [
      "LinearRegression() 0.5368950735045219\n",
      "Lasso() 0.7687270988960119\n",
      "Ridge() 0.5369060034129463\n",
      "ElasticNet() 0.6805978110367683\n"
     ]
    }
   ],
   "source": [
    "for model in (\n",
    "    linear_model.LinearRegression(),\n",
    "    linear_model.Lasso(),\n",
    "    linear_model.Ridge(),\n",
    "    linear_model.ElasticNet(),\n",
    "):\n",
    "    # 学習／推論\n",
    "    model.fit(x_train, y_train)\n",
    "    pred = model.predict(x_test)\n",
    "\n",
    "    print(model, mean_absolute_error(y_true=y_test, y_pred=pred))"
   ]
  },
  {
   "cell_type": "code",
   "execution_count": null,
   "metadata": {},
   "outputs": [],
   "source": []
  }
 ],
 "metadata": {
  "kernelspec": {
   "display_name": "Python 3.10.4 64-bit",
   "language": "python",
   "name": "python3"
  },
  "language_info": {
   "codemirror_mode": {
    "name": "ipython",
    "version": 3
   },
   "file_extension": ".py",
   "mimetype": "text/x-python",
   "name": "python",
   "nbconvert_exporter": "python",
   "pygments_lexer": "ipython3",
   "version": "3.10.4 (tags/v3.10.4:9d38120, Mar 23 2022, 23:13:41) [MSC v.1929 64 bit (AMD64)]"
  },
  "orig_nbformat": 4,
  "vscode": {
   "interpreter": {
    "hash": "7f4300d00c020e82d8b187928799c5c30a390be7d7de211bfbda9d77d14a6e94"
   }
  }
 },
 "nbformat": 4,
 "nbformat_minor": 2
}
